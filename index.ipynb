{
 "cells": [
  {
   "cell_type": "markdown",
   "metadata": {},
   "source": [
    "![WordCloud](./img/wordcloud.png)"
   ]
  },
  {
   "cell_type": "code",
   "execution_count": null,
   "metadata": {},
   "outputs": [],
   "source": [
    "#hideInput\n",
    "try:\n",
    "    username\n",
    "except NameError:\n",
    "    username = 'stranger'\n",
    "\n",
    "print('Hello, ' + username + '!')"
   ]
  },
  {
   "cell_type": "markdown",
   "metadata": {},
   "source": [
    "# Lernmodul zur Verarbeitung und Analyse von Textdaten"
   ]
  },
  {
   "cell_type": "markdown",
   "metadata": {},
   "source": [
    "Das Verarbeiten menschlicher Sprache gilt als Voraussetzung für eine erfolgreiche Mensch-Maschine-Kommunikation. Zusätzlich kann sie dabei helfen eine vom Mensch unternommene Textanalyse zu unterstützen. Handelt es sich bei diesem Kommentar um unerwünschte Inhalte? Verbreitet dieser Beitrag Falschinformationen? Und welche Meinung will der Verfasser mit dieser Rezension zum Ausdruck bringen?\n",
    "\n",
    "Im folgenden Lernmodul wird mithilfe computergestützter Methoden eine Antwort auf solche Problemstellungen gesucht. Im Zuge der Stimmungsanalyse (Sentiment Analysis) wird versucht die Intention eines Textbeitrages zu identifizieren um bspw. zwischen einer negativen und einer positiven Aussage zu unterscheiden. Diese Unterscheidung übernimmt ein Modell (hier: Klassifikator), welches auf Basis eines Vokabulars (hier: Labels) eine Vorhersage (hier: Stimmung) über vorliegende Textbeiträge (hier: Tweets) trifft.\n",
    "\n",
    "Dabei durchläuft das Lernmodul auf dem Weg von Textbeiträgen als Eingabe hin zu einer Stimmungsvorhersage als Ausgabe die drei Domänen *Daten*, *Modell* und *Verwendung* wie die folgende Abbildung verdeutlicht:\n",
    "\n",
    "![Pipeline](./img/flow.png)"
   ]
  },
  {
   "cell_type": "markdown",
   "metadata": {},
   "source": [
    "**Übersicht über die Lerninhalte:**\n",
    "\n",
    "1. [Einführung](#1.-Einführung)\n",
    "    1. [Motivation](#1.1-Motivation)\n",
    "    2. [Voraussetzungen](#1.2-Voraussetzungen)\n",
    "2. [Daten](#2.-Daten)\n",
    "    1. [Textdaten beschaffen](#2.1-Textdaten-beschaffen)\n",
    "    2. [Textdaten erkunden](#2.2-Textdaten-erkunden)\n",
    "    3. [Textdaten aufbereiten](#2.3-Textdaten-aufbereiten)\n",
    "        1. [Zeichen bereinigen](#2.3.1-Zeichen-bereinigen)\n",
    "        2. [Wörter bereinigen](#2.3.2-Wörter-bereinigen)\n",
    "        3. [Tweets bereinigen](#2.3.3-Tweets-bereinigen)\n",
    "3. [Modell](#3.-Modell)\n",
    "    1. [Textdaten einbetten](#3.1-Textdaten-einbetten)\n",
    "        1. [Vokabular](#3.1.1-Vokabular)\n",
    "        2. [Vektorisierung](#3.1.2-Vektorisierung)\n",
    "        3. [Label](#3.1.3-Label)\n",
    "        4. [Features](#3.1.4-Features)\n",
    "    2. [Textdaten klassifizieren](#3.2-Textdaten-klassifizieren)\n",
    "        1. [Überwachte Klassifikation](#3.2.1-Überwachte-Klassifikation)\n",
    "        2. [Unüberwachte Klassifikation](#3.2.2-Unüberwachte-Klassifikation)\n",
    "4. [Verwendung](#4.-Verwendung)\n",
    "    1. [Textdaten vorhersagen](#4.1-Textdaten-vorhersagen)\n",
    "        1. [Überwachter Klassifikator](#4.1.1-Überwachter-Klassifikator)\n",
    "        2. [Unüberwachter Klassifikator](#4.1.2-Unüberwachter-Klassifikator)\n",
    "5. [Abschluss](#5.-Abschluss)"
   ]
  },
  {
   "cell_type": "markdown",
   "metadata": {},
   "source": [
    "**Lernziele:**\n",
    "\n",
    "Die Teilnehmer lernen in der [Datendomäne](#daten) Textdaten in roher Form Schritt für Schritt in kontextbezogene Daten für eine Textanalyse zu transformieren. Daraufhin bewegen sich die Teilnehmer in der [Modelldomäne](#modell), in der sie die Daten in das Modell einbetten und mittels zweier unterschiedlicher Algorithmen klassifizieren. Last but not least werden die entstandenen Klassifikatoren in der [Verwendungsdomäne](#verwendung) für eine Vorhersage der Stimmung gebraucht."
   ]
  },
  {
   "cell_type": "markdown",
   "metadata": {},
   "source": [
    "**Voraussetzungen:**\n",
    "\n",
    "- [Lernmodul zum Datenimport und zur Datenvorbereitung mit Pandas](https://projectbase.medien.hs-duesseldorf.de/eild.nrw-module/lernmodul-pandas)"
   ]
  },
  {
   "cell_type": "markdown",
   "metadata": {},
   "source": [
    "**Setup für die Aufgabenüberprüfung:**"
   ]
  },
  {
   "cell_type": "code",
   "execution_count": 2,
   "metadata": {},
   "outputs": [],
   "source": [
    "#hideCell\n",
    "from taskreview.learning_module import LearningModule\n",
    "texte_lm = LearningModule('data/lernmodul_texte.db')"
   ]
  },
  {
   "cell_type": "code",
   "execution_count": 3,
   "metadata": {},
   "outputs": [
    {
     "data": {
      "text/plain": [
       "<taskreview.learning_module.LearningModule at 0x19b6378efd0>"
      ]
     },
     "execution_count": 3,
     "metadata": {},
     "output_type": "execute_result"
    }
   ],
   "source": [
    "texte_lm"
   ]
  },
  {
   "cell_type": "markdown",
   "metadata": {},
   "source": [
    "<div style=\"background-color: #150458; padding: 5px;\"></div>\n",
    "\n",
    "## 1. Einführung"
   ]
  },
  {
   "cell_type": "markdown",
   "metadata": {},
   "source": [
    "[Zurück zur Übersicht](#Lernmodul-zur-Verarbeitung-und-Analyse-von-Textdaten)"
   ]
  },
  {
   "cell_type": "markdown",
   "metadata": {},
   "source": [
    "### 1.1 Motivation"
   ]
  },
  {
   "cell_type": "markdown",
   "metadata": {},
   "source": [
    "Die Verarbeitung menschlicher Sprache (Natural Language Processing, NLP) ist ein prominentes Forschungsfeld der Informatik mit ähnlichem Bekanntheitsgrad wie die Analyse visueller Daten (Computer Vision), welche bspw. das Erkennen von Bildern (Image Recognition) sowie ihre Manipulation (Image Augmentation) betrachtet. Im ersten Fall wollen wir einen bekannten bzw. alten Bildinhalt klassifizieren, während der zweite Fall einen unbekannten bzw. neuen Bildinhalt erzeugt."
   ]
  },
  {
   "cell_type": "markdown",
   "metadata": {},
   "source": [
    "Wechseln wir von Bild- auf Textdaten, lässt sich das Forschungsfeld des _NLP_ auf ähnliche Problemstellungen herunterbrechen, die in der folgenden Auflistung aufgeführt sind:\n",
    "\n",
    "* Texterkennung (Text Recognition)\n",
    "  * Spracherkennung (Speech Recognition)\n",
    "  * Stimmungsanalyse (Sentiment Analysis)\n",
    "* Textmanipulation (Text Augmentation)\n",
    "  * Maschinelle Übersetzung (Machine Translation)\n",
    "  * Automatisches Antworten (Question Answering)"
   ]
  },
  {
   "cell_type": "markdown",
   "metadata": {},
   "source": [
    "Dieses Lernmodul beschäftigt sich mit der ersten Problemstellung, also der Texterkennung, im besonderen mit der Unterscheidung verschiedener Stimmungen, welche der Verfasser eines Textes gehabt haben könnte. Ein aktuelles Anwendungsbeispiel ist die Identifikation von Hassreden, wie sie bspw. von [Facebook](https://www.facebook.com/) im Zuge ihrer [Community Standards](https://www.facebook.com/communitystandards/hate_speech) verboten sind und erkannt werden müssen. Auch könnte man ein Stimmungsbild der Gesellschaft über die Auswertung von Beiträgen auf Twitter betrachten."
   ]
  },
  {
   "cell_type": "markdown",
   "metadata": {},
   "source": [
    "### 1.2 Voraussetzungen"
   ]
  },
  {
   "cell_type": "markdown",
   "metadata": {},
   "source": [
    "Dieses Lernmodul nimmt sich [NumPy](https://numpy.org/) für numerische Berechnungen, [Pandas](https://pandas.pydata.org/) zur Datenverarbeitung und [PyPlot](https://matplotlib.org/api/pyplot_api.html) zur Datenvisualisierung zur Hilfe."
   ]
  },
  {
   "cell_type": "code",
   "execution_count": 4,
   "metadata": {},
   "outputs": [],
   "source": [
    "import numpy as np\n",
    "import pandas as pd\n",
    "import matplotlib.pyplot as plt"
   ]
  },
  {
   "cell_type": "markdown",
   "metadata": {},
   "source": [
    "Dazu werden die folgenden Systemkomponenten verwendet:"
   ]
  },
  {
   "cell_type": "code",
   "execution_count": 5,
   "metadata": {},
   "outputs": [],
   "source": [
    "import json\n",
    "import glob"
   ]
  },
  {
   "cell_type": "markdown",
   "metadata": {},
   "source": [
    "Außerdem werden die folgenden Skripte zum Einlesen & Visualisieren der Daten benötigt:"
   ]
  },
  {
   "cell_type": "code",
   "execution_count": 6,
   "metadata": {},
   "outputs": [],
   "source": [
    "from utils import load_functions as lf\n",
    "from utils import vis_functions as vf"
   ]
  },
  {
   "cell_type": "markdown",
   "metadata": {},
   "source": [
    "<div style=\"background-color: #150458; padding: 5px;\"></div>\n",
    "\n",
    "## 2. Daten"
   ]
  },
  {
   "cell_type": "markdown",
   "metadata": {},
   "source": [
    "[Zurück zur Übersicht](#Lernmodul-zur-Verarbeitung-und-Analyse-von-Textdaten)"
   ]
  },
  {
   "cell_type": "markdown",
   "metadata": {},
   "source": [
    "In der Datendomäne beschaffen wir uns zunächst einen Datensatz, welcher aus vielen Beispielen besteht, der die Grundgesamtheit an Daten bildet. Ein Beispiel umfasst dabei mindestens ein, wenn nicht sogar mehrere Merkmale. Ein Merkmal wird dabei durch einen numerischen oder symbolischen Wert verkörpert, der in unserem Fall bspw. ein Text sein kann. Im weiteren Verlauf werden die beschafften Daten begutachtet und bereinigt.\n",
    "\n",
    "Welche Schritte ein Textbeitrag in der Datendomäne durchläuft verdeutlicht die folgende Abbildung:\n",
    "\n",
    "![Daten](./img/data_flow.png)"
   ]
  },
  {
   "cell_type": "markdown",
   "metadata": {},
   "source": [
    "### 2.1 Textdaten beschaffen"
   ]
  },
  {
   "cell_type": "markdown",
   "metadata": {},
   "source": [
    "Wo findet man in der heutigen Zeit aktuelle Daten, welche eine eigene Meinung enthalten? Auf dem Kurznachrichtendienst Twitter. Da aktuelle Daten von Twitter nicht automatisch mit deskriptiven Daten angereichert werden, benötigt ihre Analyse einen gewissen Mehraufwand. Überwachtes Lernen auf einem aufbereiteten Datensatz aus bekannter Ein- und Ausgabe ist in unserem Fall erstmal so nicht möglich, da wir es mit aktuellen Daten zu tun haben, die erst aufbereitet werden müssen."
   ]
  },
  {
   "cell_type": "markdown",
   "metadata": {},
   "source": [
    "Unser Datensatz wird ungefiltert von Twitter extrahiert und monatlich unter der [CC 4.0 International](https://creativecommons.org/licenses/by/4.0/legalcode) Lizenz veröffentlicht [[1]](#1)."
   ]
  },
  {
   "cell_type": "markdown",
   "metadata": {},
   "source": [
    "Unter `data/tweets/` finden sich ein Teil dieser Veröffentlichung als JSON, welche wir zunächst als Rohdateien in `files` einlesen..."
   ]
  },
  {
   "cell_type": "code",
   "execution_count": 7,
   "metadata": {},
   "outputs": [],
   "source": [
    "files = [] # JSON\n",
    "for f in glob.glob(\"./data/tweets/*.json\"):\n",
    "    with open(f, \"rb\") as infile:\n",
    "        files.append(json.load(infile))"
   ]
  },
  {
   "cell_type": "markdown",
   "metadata": {},
   "source": [
    "...sie daraufhin jeweils als DataFrame in `frames` sammeln..."
   ]
  },
  {
   "cell_type": "code",
   "execution_count": 8,
   "metadata": {},
   "outputs": [],
   "source": [
    "frames = [] # Data Frames\n",
    "for file in files:\n",
    "    frames.append(pd.DataFrame(file))"
   ]
  },
  {
   "cell_type": "markdown",
   "metadata": {},
   "source": [
    "...und diese letztendlich zu einem großen Datensatz `twitter` zusammenfügen."
   ]
  },
  {
   "cell_type": "code",
   "execution_count": 9,
   "metadata": {},
   "outputs": [],
   "source": [
    "twitter = pd.concat(frames)"
   ]
  },
  {
   "cell_type": "markdown",
   "metadata": {},
   "source": [
    "Das war's auch schon mit der Bereitstellung der Daten. Als nächstes gilt es die noch unbekannten Daten zu erkunden."
   ]
  },
  {
   "cell_type": "markdown",
   "metadata": {},
   "source": [
    "### 2.2 Textdaten erkunden"
   ]
  },
  {
   "cell_type": "markdown",
   "metadata": {},
   "source": [
    "Wie im [Lernmodul zum Datenimport und zur Datenvorbereitung mit Pandas](https://projectbase.medien.hs-duesseldorf.de/eild.nrw-module/lernmodul-pandas) kennengelernt, lässt sich über die `head()` Funktionalität der Kopf des Datensatzes betrachten. Wie schaut dieser aus?"
   ]
  },
  {
   "cell_type": "code",
   "execution_count": 10,
   "metadata": {},
   "outputs": [
    {
     "data": {
      "text/html": [
       "<div>\n",
       "<style scoped>\n",
       "    .dataframe tbody tr th:only-of-type {\n",
       "        vertical-align: middle;\n",
       "    }\n",
       "\n",
       "    .dataframe tbody tr th {\n",
       "        vertical-align: top;\n",
       "    }\n",
       "\n",
       "    .dataframe thead th {\n",
       "        text-align: right;\n",
       "    }\n",
       "</style>\n",
       "<table border=\"1\" class=\"dataframe\">\n",
       "  <thead>\n",
       "    <tr style=\"text-align: right;\">\n",
       "      <th></th>\n",
       "      <th>twista</th>\n",
       "      <th>type</th>\n",
       "      <th>id</th>\n",
       "      <th>user</th>\n",
       "      <th>created_at</th>\n",
       "      <th>recorded_at</th>\n",
       "      <th>source</th>\n",
       "      <th>retweets</th>\n",
       "      <th>favourites</th>\n",
       "      <th>lang</th>\n",
       "      <th>...</th>\n",
       "      <th>screen_name</th>\n",
       "      <th>location</th>\n",
       "      <th>description</th>\n",
       "      <th>url</th>\n",
       "      <th>verified</th>\n",
       "      <th>followers</th>\n",
       "      <th>friends</th>\n",
       "      <th>listed</th>\n",
       "      <th>statuses</th>\n",
       "      <th>refers_to</th>\n",
       "    </tr>\n",
       "  </thead>\n",
       "  <tbody>\n",
       "    <tr>\n",
       "      <th>0</th>\n",
       "      <td>0.3.4b1</td>\n",
       "      <td>status</td>\n",
       "      <td>1233850617996726274</td>\n",
       "      <td>759488216</td>\n",
       "      <td>2020-02-29T20:24:45+00:00</td>\n",
       "      <td>2020-02-29T20:24:59.835143+00:00</td>\n",
       "      <td>&lt;a href=\"http://twitter.com/download/iphone\" r...</td>\n",
       "      <td>0.0</td>\n",
       "      <td>0</td>\n",
       "      <td>de</td>\n",
       "      <td>...</td>\n",
       "      <td>NaN</td>\n",
       "      <td>NaN</td>\n",
       "      <td>NaN</td>\n",
       "      <td>NaN</td>\n",
       "      <td>NaN</td>\n",
       "      <td>NaN</td>\n",
       "      <td>NaN</td>\n",
       "      <td>NaN</td>\n",
       "      <td>NaN</td>\n",
       "      <td>NaN</td>\n",
       "    </tr>\n",
       "    <tr>\n",
       "      <th>1</th>\n",
       "      <td>0.3.4b1</td>\n",
       "      <td>status</td>\n",
       "      <td>1233364221188026370</td>\n",
       "      <td>114508061</td>\n",
       "      <td>2020-02-28T12:11:59+00:00</td>\n",
       "      <td>2020-03-01T11:09:17.015566+00:00</td>\n",
       "      <td>&lt;a href=\"http://www.sueddeutsche.de/\" rel=\"nof...</td>\n",
       "      <td>51.0</td>\n",
       "      <td>145</td>\n",
       "      <td>de</td>\n",
       "      <td>...</td>\n",
       "      <td>NaN</td>\n",
       "      <td>NaN</td>\n",
       "      <td>NaN</td>\n",
       "      <td>NaN</td>\n",
       "      <td>NaN</td>\n",
       "      <td>NaN</td>\n",
       "      <td>NaN</td>\n",
       "      <td>NaN</td>\n",
       "      <td>NaN</td>\n",
       "      <td>NaN</td>\n",
       "    </tr>\n",
       "    <tr>\n",
       "      <th>2</th>\n",
       "      <td>0.3.4b1</td>\n",
       "      <td>status</td>\n",
       "      <td>1233850617870913541</td>\n",
       "      <td>2902622080</td>\n",
       "      <td>2020-02-29T20:24:45+00:00</td>\n",
       "      <td>2020-02-29T20:24:59.839449+00:00</td>\n",
       "      <td>&lt;a href=\"http://www.playstation.com\" rel=\"nofo...</td>\n",
       "      <td>0.0</td>\n",
       "      <td>0</td>\n",
       "      <td>de</td>\n",
       "      <td>...</td>\n",
       "      <td>NaN</td>\n",
       "      <td>NaN</td>\n",
       "      <td>NaN</td>\n",
       "      <td>NaN</td>\n",
       "      <td>NaN</td>\n",
       "      <td>NaN</td>\n",
       "      <td>NaN</td>\n",
       "      <td>NaN</td>\n",
       "      <td>NaN</td>\n",
       "      <td>NaN</td>\n",
       "    </tr>\n",
       "    <tr>\n",
       "      <th>3</th>\n",
       "      <td>0.3.4b1</td>\n",
       "      <td>status</td>\n",
       "      <td>1233701038483542016</td>\n",
       "      <td>140410244</td>\n",
       "      <td>2020-02-29T10:30:23+00:00</td>\n",
       "      <td>2020-02-29T20:24:59.842019+00:00</td>\n",
       "      <td>&lt;a href=\"https://about.twitter.com/products/tw...</td>\n",
       "      <td>3.0</td>\n",
       "      <td>8</td>\n",
       "      <td>de</td>\n",
       "      <td>...</td>\n",
       "      <td>NaN</td>\n",
       "      <td>NaN</td>\n",
       "      <td>NaN</td>\n",
       "      <td>NaN</td>\n",
       "      <td>NaN</td>\n",
       "      <td>NaN</td>\n",
       "      <td>NaN</td>\n",
       "      <td>NaN</td>\n",
       "      <td>NaN</td>\n",
       "      <td>NaN</td>\n",
       "    </tr>\n",
       "    <tr>\n",
       "      <th>4</th>\n",
       "      <td>0.3.4b1</td>\n",
       "      <td>status</td>\n",
       "      <td>1233837417959952385</td>\n",
       "      <td>2335677408</td>\n",
       "      <td>2020-02-29T19:32:18+00:00</td>\n",
       "      <td>2020-03-01T11:42:05.807013+00:00</td>\n",
       "      <td>&lt;a href=\"https://mobile.twitter.com\" rel=\"nofo...</td>\n",
       "      <td>509.0</td>\n",
       "      <td>1773</td>\n",
       "      <td>de</td>\n",
       "      <td>...</td>\n",
       "      <td>NaN</td>\n",
       "      <td>NaN</td>\n",
       "      <td>NaN</td>\n",
       "      <td>NaN</td>\n",
       "      <td>NaN</td>\n",
       "      <td>NaN</td>\n",
       "      <td>NaN</td>\n",
       "      <td>NaN</td>\n",
       "      <td>NaN</td>\n",
       "      <td>NaN</td>\n",
       "    </tr>\n",
       "  </tbody>\n",
       "</table>\n",
       "<p>5 rows × 26 columns</p>\n",
       "</div>"
      ],
      "text/plain": [
       "    twista    type                   id        user  \\\n",
       "0  0.3.4b1  status  1233850617996726274   759488216   \n",
       "1  0.3.4b1  status  1233364221188026370   114508061   \n",
       "2  0.3.4b1  status  1233850617870913541  2902622080   \n",
       "3  0.3.4b1  status  1233701038483542016   140410244   \n",
       "4  0.3.4b1  status  1233837417959952385  2335677408   \n",
       "\n",
       "                  created_at                       recorded_at  \\\n",
       "0  2020-02-29T20:24:45+00:00  2020-02-29T20:24:59.835143+00:00   \n",
       "1  2020-02-28T12:11:59+00:00  2020-03-01T11:09:17.015566+00:00   \n",
       "2  2020-02-29T20:24:45+00:00  2020-02-29T20:24:59.839449+00:00   \n",
       "3  2020-02-29T10:30:23+00:00  2020-02-29T20:24:59.842019+00:00   \n",
       "4  2020-02-29T19:32:18+00:00  2020-03-01T11:42:05.807013+00:00   \n",
       "\n",
       "                                              source  retweets  favourites  \\\n",
       "0  <a href=\"http://twitter.com/download/iphone\" r...       0.0           0   \n",
       "1  <a href=\"http://www.sueddeutsche.de/\" rel=\"nof...      51.0         145   \n",
       "2  <a href=\"http://www.playstation.com\" rel=\"nofo...       0.0           0   \n",
       "3  <a href=\"https://about.twitter.com/products/tw...       3.0           8   \n",
       "4  <a href=\"https://mobile.twitter.com\" rel=\"nofo...     509.0        1773   \n",
       "\n",
       "  lang  ... screen_name location description  url verified followers friends  \\\n",
       "0   de  ...         NaN      NaN         NaN  NaN      NaN       NaN     NaN   \n",
       "1   de  ...         NaN      NaN         NaN  NaN      NaN       NaN     NaN   \n",
       "2   de  ...         NaN      NaN         NaN  NaN      NaN       NaN     NaN   \n",
       "3   de  ...         NaN      NaN         NaN  NaN      NaN       NaN     NaN   \n",
       "4   de  ...         NaN      NaN         NaN  NaN      NaN       NaN     NaN   \n",
       "\n",
       "  listed statuses refers_to  \n",
       "0    NaN      NaN       NaN  \n",
       "1    NaN      NaN       NaN  \n",
       "2    NaN      NaN       NaN  \n",
       "3    NaN      NaN       NaN  \n",
       "4    NaN      NaN       NaN  \n",
       "\n",
       "[5 rows x 26 columns]"
      ]
     },
     "execution_count": 10,
     "metadata": {},
     "output_type": "execute_result"
    }
   ],
   "source": [
    "twitter.head()"
   ]
  },
  {
   "cell_type": "markdown",
   "metadata": {},
   "source": [
    "Leider liefert die `head()` Funktionalität nicht die Größe des Datensatzes zurück. Wie viele Beispiele sind in ihm enthalten?"
   ]
  },
  {
   "cell_type": "code",
   "execution_count": 11,
   "metadata": {},
   "outputs": [
    {
     "data": {
      "application/vnd.jupyter.widget-view+json": {
       "model_id": "41a450eeb4fa40c09bd28ff94d820688",
       "version_major": 2,
       "version_minor": 0
      },
      "text/plain": [
       "Output()"
      ]
     },
     "metadata": {},
     "output_type": "display_data"
    },
    {
     "data": {
      "application/vnd.jupyter.widget-view+json": {
       "model_id": "6deb601ed954488bbe6a16fce2608082",
       "version_major": 2,
       "version_minor": 0
      },
      "text/plain": [
       "Output()"
      ]
     },
     "metadata": {},
     "output_type": "display_data"
    },
    {
     "data": {
      "application/vnd.jupyter.widget-view+json": {
       "model_id": "abeb7c4c97cf4d88a6361ef8348f0b51",
       "version_major": 2,
       "version_minor": 0
      },
      "text/plain": [
       "Output()"
      ]
     },
     "metadata": {},
     "output_type": "display_data"
    }
   ],
   "source": [
    "#hideInput\n",
    "texte_lm.show_task(221)"
   ]
  },
  {
   "cell_type": "code",
   "execution_count": 12,
   "metadata": {},
   "outputs": [
    {
     "data": {
      "text/plain": [
       "1350008"
      ]
     },
     "execution_count": 12,
     "metadata": {},
     "output_type": "execute_result"
    }
   ],
   "source": [
    "#solution\n",
    "twitter.shape[0]"
   ]
  },
  {
   "cell_type": "markdown",
   "metadata": {},
   "source": [
    "Wie viele Werte liegen pro Beispiel vor? Aus wie vielen Merkmalen besteht der Datensatz?"
   ]
  },
  {
   "cell_type": "code",
   "execution_count": 13,
   "metadata": {},
   "outputs": [
    {
     "data": {
      "application/vnd.jupyter.widget-view+json": {
       "model_id": "2d4a17617a014716b297cfcb67c2aea9",
       "version_major": 2,
       "version_minor": 0
      },
      "text/plain": [
       "Output()"
      ]
     },
     "metadata": {},
     "output_type": "display_data"
    },
    {
     "data": {
      "application/vnd.jupyter.widget-view+json": {
       "model_id": "96d95d0e28cf48dcb57e6adc250fea8f",
       "version_major": 2,
       "version_minor": 0
      },
      "text/plain": [
       "Output()"
      ]
     },
     "metadata": {},
     "output_type": "display_data"
    },
    {
     "data": {
      "application/vnd.jupyter.widget-view+json": {
       "model_id": "4cc18048d4794756b9484696c15ad74f",
       "version_major": 2,
       "version_minor": 0
      },
      "text/plain": [
       "Output()"
      ]
     },
     "metadata": {},
     "output_type": "display_data"
    }
   ],
   "source": [
    "#hideInput\n",
    "texte_lm.show_task(222)"
   ]
  },
  {
   "cell_type": "code",
   "execution_count": 14,
   "metadata": {},
   "outputs": [
    {
     "data": {
      "text/plain": [
       "26"
      ]
     },
     "execution_count": 14,
     "metadata": {},
     "output_type": "execute_result"
    }
   ],
   "source": [
    "#solution\n",
    "twitter.shape[1]"
   ]
  },
  {
   "cell_type": "markdown",
   "metadata": {},
   "source": [
    "Und welche Merkmale liegen genau vor?"
   ]
  },
  {
   "cell_type": "code",
   "execution_count": 15,
   "metadata": {},
   "outputs": [
    {
     "data": {
      "text/plain": [
       "Index(['twista', 'type', 'id', 'user', 'created_at', 'recorded_at', 'source',\n",
       "       'retweets', 'favourites', 'lang', 'hashtags', 'urls', 'mentions',\n",
       "       'mentioned_ids', 'text', 'name', 'screen_name', 'location',\n",
       "       'description', 'url', 'verified', 'followers', 'friends', 'listed',\n",
       "       'statuses', 'refers_to'],\n",
       "      dtype='object')"
      ]
     },
     "execution_count": 15,
     "metadata": {},
     "output_type": "execute_result"
    }
   ],
   "source": [
    "twitter.columns"
   ]
  },
  {
   "cell_type": "markdown",
   "metadata": {},
   "source": [
    "Das Merkmal _created_ _at_ scheint den Zeitpunkt des Tweets zu beinhalten. Welche Jahre haben wir erwischt?"
   ]
  },
  {
   "cell_type": "code",
   "execution_count": 16,
   "metadata": {},
   "outputs": [
    {
     "data": {
      "text/plain": [
       "Text(0.5, 0, 'Jahr')"
      ]
     },
     "execution_count": 16,
     "metadata": {},
     "output_type": "execute_result"
    },
    {
     "data": {
      "image/png": "[encoded data removed]",
      "text/plain": [
       "<Figure size 432x288 with 1 Axes>"
      ]
     },
     "metadata": {
      "needs_background": "light"
     },
     "output_type": "display_data"
    }
   ],
   "source": [
    "ax = twitter['created_at'].groupby(pd.to_datetime(twitter['created_at']).dt.year).count().plot(kind='bar', title='Tweets created')\n",
    "ax.set_xlabel('Jahr')"
   ]
  },
  {
   "cell_type": "markdown",
   "metadata": {},
   "source": [
    "Anscheinend enthält unser Datensatz veraltete Tweets, obwohl wir explizit mit aktuellen Textbeiträgen arbeiten wollen. Wir konzentrieren uns also auf das Jahr 2020 und verwerfen ältere Tweets wie folgt:"
   ]
  },
  {
   "cell_type": "code",
   "execution_count": 17,
   "metadata": {},
   "outputs": [],
   "source": [
    "twitter = twitter.drop(twitter[pd.DatetimeIndex(twitter['created_at']).year < 2020].index).reset_index(drop=True)"
   ]
  },
  {
   "cell_type": "markdown",
   "metadata": {},
   "source": [
    "Das Merkmal _lang_ schauen wir uns als nächstes an. Welche Sprachen sind vertreten?"
   ]
  },
  {
   "cell_type": "code",
   "execution_count": 18,
   "metadata": {},
   "outputs": [
    {
     "data": {
      "text/plain": [
       "array(['de', 'en', 'pt', 'in', 'es', 'it', 'fr', 'und', 'tr', 'ca', 'da',\n",
       "       'sl', 'pl', 'hi', 'nl', 'no', 'el', 'ru', 'fa', 'sv', 'et', 'cy',\n",
       "       'ro', 'tl', 'ja', 'ar', 'ht', 'th', 'fi', 'cs', 'ko', 'is', 'eu',\n",
       "       nan, 'hu', 'vi', 'zh', 'lv', 'lt', 'iw', 'ur', 'kn', 'uk', 'ta'],\n",
       "      dtype=object)"
      ]
     },
     "execution_count": 18,
     "metadata": {},
     "output_type": "execute_result"
    }
   ],
   "source": [
    "twitter['lang'].unique()"
   ]
  },
  {
   "cell_type": "markdown",
   "metadata": {},
   "source": [
    "Anscheinend enthält unser Datensatz verschiedenste Sprachen. Da unser Modell lediglich deutsche Inhalte klassifizieren soll, verwerfen wir nicht-deutsche Inhalte wie folgt:"
   ]
  },
  {
   "cell_type": "code",
   "execution_count": 19,
   "metadata": {},
   "outputs": [],
   "source": [
    "twitter = twitter.drop(twitter[twitter.lang != 'de'].index).reset_index(drop=True)"
   ]
  },
  {
   "cell_type": "markdown",
   "metadata": {},
   "source": [
    "Als nächstes konzentrieren wir uns auf die gewünschten Textbeiträge. Das Merkmal _text_ scheint die jeweiligen Tweets zu enthalten. Wir extrahieren dieses Merkmal vom DataFrame `twitter` in eine DataSeries `tweets`."
   ]
  },
  {
   "cell_type": "code",
   "execution_count": 20,
   "metadata": {},
   "outputs": [
    {
     "data": {
      "text/plain": [
       "0    a) Venezuela 2019\\nb) Deutschland während nCov...\n",
       "1    Assad und Putin wollen Erdoğan eine Lektion er...\n",
       "2    Ich hoff die Dinger kann ich a amol fahren und...\n",
       "3    Trotz aussichtsloser Lage der Wehrmacht ergebe...\n",
       "4    Mein Kommentar zur Causa Hopp für @derspiegel....\n",
       "Name: text, dtype: object"
      ]
     },
     "execution_count": 20,
     "metadata": {},
     "output_type": "execute_result"
    }
   ],
   "source": [
    "tweets = twitter['text']\n",
    "tweets.head()"
   ]
  },
  {
   "cell_type": "markdown",
   "metadata": {},
   "source": [
    "Beim Extrahieren der Tweets werden ausnahmslos alle Beispiele berücksichtigt. Das gilt auch für fehlende Merkmale, die in der Menge an Beispielen untergegangen sind.\n",
    "\n",
    "Sind unsere Daten nun bereit zur Aufbereitung? Wie viele Werte fehlen überhaupt?"
   ]
  },
  {
   "cell_type": "code",
   "execution_count": 21,
   "metadata": {},
   "outputs": [
    {
     "data": {
      "application/vnd.jupyter.widget-view+json": {
       "model_id": "719718b62a2047acb5fda2542d8cc863",
       "version_major": 2,
       "version_minor": 0
      },
      "text/plain": [
       "Output()"
      ]
     },
     "metadata": {},
     "output_type": "display_data"
    },
    {
     "data": {
      "application/vnd.jupyter.widget-view+json": {
       "model_id": "cce59c1ece0545d5abc7505671604bc5",
       "version_major": 2,
       "version_minor": 0
      },
      "text/plain": [
       "Output()"
      ]
     },
     "metadata": {},
     "output_type": "display_data"
    },
    {
     "data": {
      "application/vnd.jupyter.widget-view+json": {
       "model_id": "17b192d667b84a30b818331afa2233fa",
       "version_major": 2,
       "version_minor": 0
      },
      "text/plain": [
       "Output()"
      ]
     },
     "metadata": {},
     "output_type": "display_data"
    }
   ],
   "source": [
    "#hideInput\n",
    "texte_lm.show_task(223)"
   ]
  },
  {
   "cell_type": "code",
   "execution_count": 22,
   "metadata": {},
   "outputs": [
    {
     "data": {
      "text/plain": [
       "150024"
      ]
     },
     "execution_count": 22,
     "metadata": {},
     "output_type": "execute_result"
    }
   ],
   "source": [
    "#solution\n",
    "tweets.isna().sum()"
   ]
  },
  {
   "cell_type": "markdown",
   "metadata": {},
   "source": [
    "Fehlende Werte können von den folgenden Schritten nicht verarbeitet werden, sodass wir sie entfernen müssen."
   ]
  },
  {
   "cell_type": "code",
   "execution_count": 23,
   "metadata": {},
   "outputs": [],
   "source": [
    "tweets = tweets.dropna()"
   ]
  },
  {
   "cell_type": "markdown",
   "metadata": {},
   "source": [
    "Der Übersicht halber fügen wir ein frei erfundenes Beispiel an, um die folgenden Verarbeitungsschritte besser nachvollziehen zu können. Unser ausgedachter Tweet lautet wie folgt:\n",
    "\n",
    "> ⚠️ Dieser Tweet enthält viele unnütze Zeichen 😟 die wir lieber verwerfen. Das wurde uns von @user unter https://example.org verraten #danke"
   ]
  },
  {
   "cell_type": "code",
   "execution_count": 24,
   "metadata": {},
   "outputs": [],
   "source": [
    "example = '⚠️ Dieser Tweet enthält viele unnütze Zeichen 😟 die wir lieber verwerfen. Das wurde uns von @user unter https://example.org verraten #danke'\n",
    "tweets = tweets.append(pd.Series(example), ignore_index=True)"
   ]
  },
  {
   "cell_type": "markdown",
   "metadata": {},
   "source": [
    "Das war's auch schon mit der Erkundung der Daten. Bis jetzt haben wir lediglich einzelne Beispiele verworfen, nicht aber vorhandene Beispiele verändert. Bevor das passiert, behalten wir lieber eine Kopie, auf die wir im späteren Verlauf des Lernmoduls noch zurückgreifen werden."
   ]
  },
  {
   "cell_type": "code",
   "execution_count": 25,
   "metadata": {},
   "outputs": [],
   "source": [
    "tweets_copy = tweets"
   ]
  },
  {
   "cell_type": "markdown",
   "metadata": {},
   "source": [
    "Wozu kann so eine Kopie gut sein?"
   ]
  },
  {
   "cell_type": "markdown",
   "metadata": {},
   "source": [
    "* A = Falsch\n",
    "* B = Richtig\n",
    "* C = Falsch\n",
    "* D = Richtig"
   ]
  },
  {
   "cell_type": "code",
   "execution_count": 26,
   "metadata": {},
   "outputs": [
    {
     "data": {
      "application/vnd.jupyter.widget-view+json": {
       "model_id": "a12b9cf2f9bd4e26b237b0e607fc144e",
       "version_major": 2,
       "version_minor": 0
      },
      "text/plain": [
       "Output()"
      ]
     },
     "metadata": {},
     "output_type": "display_data"
    },
    {
     "data": {
      "application/vnd.jupyter.widget-view+json": {
       "model_id": "74a9e0dc21504ebfac5d84fd88a8db70",
       "version_major": 2,
       "version_minor": 0
      },
      "text/plain": [
       "Output()"
      ]
     },
     "metadata": {},
     "output_type": "display_data"
    },
    {
     "data": {
      "application/vnd.jupyter.widget-view+json": {
       "model_id": "6102f809671747cbb7c8fc61616621b4",
       "version_major": 2,
       "version_minor": 0
      },
      "text/plain": [
       "Output()"
      ]
     },
     "metadata": {},
     "output_type": "display_data"
    }
   ],
   "source": [
    "#hideInput\n",
    "texte_lm.show_task(224)"
   ]
  },
  {
   "cell_type": "markdown",
   "metadata": {},
   "source": [
    "### 2.3 Textdaten aufbereiten"
   ]
  },
  {
   "cell_type": "markdown",
   "metadata": {},
   "source": [
    "Innerhalb der Datenaufbereitung werden wir jeden Tweet anhand seiner Bestandteile (Zeichen, Wörter, Länge) verarbeiten."
   ]
  },
  {
   "cell_type": "markdown",
   "metadata": {},
   "source": [
    "#### 2.3.1 Zeichen bereinigen"
   ]
  },
  {
   "cell_type": "markdown",
   "metadata": {},
   "source": [
    "Schauen wir uns das erste Beispiel an. Mit welchem Befehl kommen wir zum ersten Tweet?"
   ]
  },
  {
   "cell_type": "code",
   "execution_count": 27,
   "metadata": {},
   "outputs": [
    {
     "data": {
      "application/vnd.jupyter.widget-view+json": {
       "model_id": "2b8b90ef51914165b28145e6f1b34bd6",
       "version_major": 2,
       "version_minor": 0
      },
      "text/plain": [
       "Output()"
      ]
     },
     "metadata": {},
     "output_type": "display_data"
    },
    {
     "data": {
      "application/vnd.jupyter.widget-view+json": {
       "model_id": "11c91dd97c1444efa30f446f90794d9a",
       "version_major": 2,
       "version_minor": 0
      },
      "text/plain": [
       "Output()"
      ]
     },
     "metadata": {},
     "output_type": "display_data"
    },
    {
     "data": {
      "application/vnd.jupyter.widget-view+json": {
       "model_id": "91f43ec2ee8848b0b64777481b0fb0ca",
       "version_major": 2,
       "version_minor": 0
      },
      "text/plain": [
       "Output()"
      ]
     },
     "metadata": {},
     "output_type": "display_data"
    }
   ],
   "source": [
    "#hideInput\n",
    "texte_lm.show_task(231)"
   ]
  },
  {
   "cell_type": "code",
   "execution_count": 28,
   "metadata": {},
   "outputs": [
    {
     "data": {
      "text/plain": [
       "'a) Venezuela 2019\\nb) Deutschland während nCov19\\nc) NK immer\\n? https://t.co/0vMvLTkn7I'"
      ]
     },
     "execution_count": 28,
     "metadata": {},
     "output_type": "execute_result"
    }
   ],
   "source": [
    "#solution\n",
    "tweets.iloc[0]"
   ]
  },
  {
   "cell_type": "markdown",
   "metadata": {},
   "source": [
    "Eigentlich wollen wir aber zum letzten Tweet, den wir am Ende des vorherigen Abschnittes angefügt haben."
   ]
  },
  {
   "cell_type": "code",
   "execution_count": 29,
   "metadata": {},
   "outputs": [
    {
     "data": {
      "text/plain": [
       "'⚠️ Dieser Tweet enthält viele unnütze Zeichen 😟 die wir lieber verwerfen. Das wurde uns von @user unter https://example.org verraten #danke'"
      ]
     },
     "execution_count": 29,
     "metadata": {},
     "output_type": "execute_result"
    }
   ],
   "source": [
    "tweets.iloc[-1]"
   ]
  },
  {
   "cell_type": "markdown",
   "metadata": {},
   "source": [
    "Leider enthalten Tweets allerhand Symbole, die wir gesondert behandeln müssen. Dazu zählen insbesondere:\n",
    "\n",
    "* Emojis\n",
    "* Satzzeichen\n",
    "* Spezielle Sonderzeichen wie _@_ für Nutzer und _#_ für Schlagwörter\n",
    "* URLs wie _https://_"
   ]
  },
  {
   "cell_type": "markdown",
   "metadata": {},
   "source": [
    "Bald werden wir hier als erstes die Emojis behandeln..."
   ]
  },
  {
   "cell_type": "code",
   "execution_count": 30,
   "metadata": {},
   "outputs": [],
   "source": [
    "positive_emojis = [r'🙂']\n",
    "for emoji in positive_emojis:\n",
    "    tweets = tweets.replace(regex={emoji : 'gut'})"
   ]
  },
  {
   "cell_type": "code",
   "execution_count": 31,
   "metadata": {},
   "outputs": [],
   "source": [
    "negative_emojis = [r'😟']\n",
    "for emoji in negative_emojis:\n",
    "    tweets = tweets.replace(regex={emoji : 'schlecht'})"
   ]
  },
  {
   "cell_type": "code",
   "execution_count": 32,
   "metadata": {},
   "outputs": [
    {
     "data": {
      "text/plain": [
       "'⚠️ Dieser Tweet enthält viele unnütze Zeichen schlecht die wir lieber verwerfen. Das wurde uns von @user unter https://example.org verraten #danke'"
      ]
     },
     "execution_count": 32,
     "metadata": {},
     "output_type": "execute_result"
    }
   ],
   "source": [
    "tweets.iloc[-1]"
   ]
  },
  {
   "cell_type": "markdown",
   "metadata": {},
   "source": [
    "Nun können wir Zeichenketten, wie den Nutzer und die URL identifizieren und über die folgenden regulären Ausdrücke entfernen."
   ]
  },
  {
   "cell_type": "code",
   "execution_count": 33,
   "metadata": {},
   "outputs": [
    {
     "data": {
      "text/plain": [
       "'⚠️ Dieser Tweet enthält viele unnütze Zeichen schlecht die wir lieber verwerfen. Das wurde uns von  unter  verraten '"
      ]
     },
     "execution_count": 33,
     "metadata": {},
     "output_type": "execute_result"
    }
   ],
   "source": [
    "expressions = [r'@\\S+', # Find username\n",
    "               r'#\\S+', # Find hashtag\n",
    "               r'http\\S+', # Find URL\n",
    "               r'\\n'] # Find new line\n",
    "\n",
    "for expression in expressions:\n",
    "    tweets = tweets.replace(regex={expression : ''})\n",
    "    \n",
    "tweets.iloc[-1]"
   ]
  },
  {
   "cell_type": "markdown",
   "metadata": {},
   "source": [
    "Als nächstes werden wir alle verbleibenen Symbole, wie bspw. Satzzeichen, die nicht dem Alphabet angehören, entfernen. Welcher reguläre Ausdruck kommt dafür in Frage?\n",
    "\n",
    "* A = [1234567890] \n",
    "* B = [^a-zA-ZäöüßÄÖÜ\\s]\n",
    "* C = []"
   ]
  },
  {
   "cell_type": "code",
   "execution_count": 34,
   "metadata": {},
   "outputs": [
    {
     "data": {
      "application/vnd.jupyter.widget-view+json": {
       "model_id": "27faafccd4d34546b9aedad62296b2d1",
       "version_major": 2,
       "version_minor": 0
      },
      "text/plain": [
       "Output()"
      ]
     },
     "metadata": {},
     "output_type": "display_data"
    },
    {
     "data": {
      "application/vnd.jupyter.widget-view+json": {
       "model_id": "18fd770d11604911a07f80bacec1fa47",
       "version_major": 2,
       "version_minor": 0
      },
      "text/plain": [
       "Output()"
      ]
     },
     "metadata": {},
     "output_type": "display_data"
    },
    {
     "data": {
      "application/vnd.jupyter.widget-view+json": {
       "model_id": "f974a08610024c959408320628ade35d",
       "version_major": 2,
       "version_minor": 0
      },
      "text/plain": [
       "Output()"
      ]
     },
     "metadata": {},
     "output_type": "display_data"
    }
   ],
   "source": [
    "#hideInput\n",
    "texte_lm.show_task(232)"
   ]
  },
  {
   "cell_type": "code",
   "execution_count": 35,
   "metadata": {},
   "outputs": [],
   "source": [
    "#solution\n",
    "expression = '[^a-zA-ZäöüßÄÖÜ\\s]'"
   ]
  },
  {
   "cell_type": "code",
   "execution_count": 36,
   "metadata": {},
   "outputs": [
    {
     "data": {
      "text/plain": [
       "' Dieser Tweet enthält viele unnütze Zeichen schlecht die wir lieber verwerfen Das wurde uns von  unter  verraten '"
      ]
     },
     "execution_count": 36,
     "metadata": {},
     "output_type": "execute_result"
    }
   ],
   "source": [
    "tweets = tweets.replace(regex={expression : ''})\n",
    "tweets.iloc[-1]"
   ]
  },
  {
   "cell_type": "markdown",
   "metadata": {},
   "source": [
    "#### 2.3.2 Wörter bereinigen"
   ]
  },
  {
   "cell_type": "markdown",
   "metadata": {},
   "source": [
    "Da unsere Bereinigung im vorherigen Abschnitt nur noch einzelne Wörter und keine Symbole mehr übrig gelassen hat, können wir nun jeden Tweet in seine Bestandteile zerlegen. Dafür zerteilen wir die Zeichenkette anhand des Leerzeichens und erhalten eine Liste von Wörtern in einem Tweet. Dieser Schritt geht mit der Funktionsweise eines [Tokenizer](https://de.wikipedia.org/wiki/Tokenizer) einher, welcher lediglich den kompletten Tweet in einzelne Token, also Wörter, zerteilt."
   ]
  },
  {
   "cell_type": "code",
   "execution_count": 37,
   "metadata": {},
   "outputs": [
    {
     "data": {
      "text/plain": [
       "['Dieser',\n",
       " 'Tweet',\n",
       " 'enthält',\n",
       " 'viele',\n",
       " 'unnütze',\n",
       " 'Zeichen',\n",
       " 'schlecht',\n",
       " 'die',\n",
       " 'wir',\n",
       " 'lieber',\n",
       " 'verwerfen',\n",
       " 'Das',\n",
       " 'wurde',\n",
       " 'uns',\n",
       " 'von',\n",
       " 'unter',\n",
       " 'verraten']"
      ]
     },
     "execution_count": 37,
     "metadata": {},
     "output_type": "execute_result"
    }
   ],
   "source": [
    "tweets = tweets.str.split()\n",
    "tweets.iloc[-1]"
   ]
  },
  {
   "cell_type": "markdown",
   "metadata": {},
   "source": [
    "Aus Analysegründen fassen wir alle Wörter zu einer großen Sammlung zusammen, was die `aggregate_words()` Funktion wie folgt umsetzt:"
   ]
  },
  {
   "cell_type": "code",
   "execution_count": 38,
   "metadata": {},
   "outputs": [],
   "source": [
    "def aggregate_words(tweets):\n",
    "    \"\"\"Aggregate words from tweets\"\"\"\n",
    "    \n",
    "    all_words = []\n",
    "    for sentence in tweets:\n",
    "        for word in sentence:\n",
    "            all_words.append(word.lower())\n",
    "    return all_words"
   ]
  },
  {
   "cell_type": "code",
   "execution_count": 39,
   "metadata": {},
   "outputs": [],
   "source": [
    "all_words = aggregate_words(tweets)"
   ]
  },
  {
   "cell_type": "markdown",
   "metadata": {},
   "source": [
    "Wie viele unterschiedliche Wörter sind getweetet worden?"
   ]
  },
  {
   "cell_type": "code",
   "execution_count": 40,
   "metadata": {},
   "outputs": [
    {
     "data": {
      "application/vnd.jupyter.widget-view+json": {
       "model_id": "a0e3a2d950f349c38d6b885625bde66f",
       "version_major": 2,
       "version_minor": 0
      },
      "text/plain": [
       "Output()"
      ]
     },
     "metadata": {},
     "output_type": "display_data"
    },
    {
     "data": {
      "application/vnd.jupyter.widget-view+json": {
       "model_id": "d9e478b08fd94ecfa5bcf476afbbacf2",
       "version_major": 2,
       "version_minor": 0
      },
      "text/plain": [
       "Output()"
      ]
     },
     "metadata": {},
     "output_type": "display_data"
    },
    {
     "data": {
      "application/vnd.jupyter.widget-view+json": {
       "model_id": "37b1447e1c3147aabd0d2137282bf5ce",
       "version_major": 2,
       "version_minor": 0
      },
      "text/plain": [
       "Output()"
      ]
     },
     "metadata": {},
     "output_type": "display_data"
    }
   ],
   "source": [
    "#hideInput\n",
    "texte_lm.show_task(233)"
   ]
  },
  {
   "cell_type": "code",
   "execution_count": 41,
   "metadata": {},
   "outputs": [
    {
     "data": {
      "text/plain": [
       "358560"
      ]
     },
     "execution_count": 41,
     "metadata": {},
     "output_type": "execute_result"
    }
   ],
   "source": [
    "#solution\n",
    "len(pd.Series(all_words).unique())"
   ]
  },
  {
   "cell_type": "markdown",
   "metadata": {},
   "source": [
    "Nachdem wir alle Wörter gesammelt haben, interessieren uns die beliebtesten Wörter aus den Tweets. An dieser Stelle greifen wir auf das Natural Language Toolkit ([NLTK](https://www.nltk.org/)) zurück, welches eine Häufigkeitsverteilung über die `FreqDist()` Funktion wie folgt implementiert."
   ]
  },
  {
   "cell_type": "code",
   "execution_count": 42,
   "metadata": {},
   "outputs": [],
   "source": [
    "from nltk.probability import FreqDist\n",
    "fd = FreqDist(all_words)"
   ]
  },
  {
   "cell_type": "markdown",
   "metadata": {},
   "source": [
    "Wie lauten also die drei häufigsten Wörter"
   ]
  },
  {
   "cell_type": "code",
   "execution_count": 43,
   "metadata": {},
   "outputs": [
    {
     "data": {
      "application/vnd.jupyter.widget-view+json": {
       "model_id": "e5e5db5a4e6f435fb2c52e712e505eac",
       "version_major": 2,
       "version_minor": 0
      },
      "text/plain": [
       "Output()"
      ]
     },
     "metadata": {},
     "output_type": "display_data"
    },
    {
     "data": {
      "application/vnd.jupyter.widget-view+json": {
       "model_id": "686a87cc14cc4a5c9331780298ec93c1",
       "version_major": 2,
       "version_minor": 0
      },
      "text/plain": [
       "Output()"
      ]
     },
     "metadata": {},
     "output_type": "display_data"
    },
    {
     "data": {
      "application/vnd.jupyter.widget-view+json": {
       "model_id": "9946827e51bd4c68ab40e4a007b7d397",
       "version_major": 2,
       "version_minor": 0
      },
      "text/plain": [
       "Output()"
      ]
     },
     "metadata": {},
     "output_type": "display_data"
    }
   ],
   "source": [
    "#hideInput\n",
    "texte_lm.show_task(234)"
   ]
  },
  {
   "cell_type": "code",
   "execution_count": 44,
   "metadata": {},
   "outputs": [
    {
     "data": {
      "text/plain": [
       "[('die', 137265), ('und', 117593), ('der', 97752)]"
      ]
     },
     "execution_count": 44,
     "metadata": {},
     "output_type": "execute_result"
    }
   ],
   "source": [
    "#solution\n",
    "fd.most_common(3)"
   ]
  },
  {
   "cell_type": "markdown",
   "metadata": {},
   "source": [
    "Es ist nicht überraschend, dass sich Artikel, Pronomen oder Konjunktionen als die am häufigsten verwendeten Wörter entpuppen. Schauen wir uns die Häufigkeitsverteilung der 20 beliebtesten Wörter an."
   ]
  },
  {
   "cell_type": "code",
   "execution_count": 45,
   "metadata": {},
   "outputs": [
    {
     "data": {
      "image/png": "[encoded data removed]",
      "text/plain": [
       "<Figure size 432x288 with 1 Axes>"
      ]
     },
     "metadata": {
      "needs_background": "light"
     },
     "output_type": "display_data"
    },
    {
     "data": {
      "text/plain": [
       "<matplotlib.axes._subplots.AxesSubplot at 0x19bf8659048>"
      ]
     },
     "execution_count": 45,
     "metadata": {},
     "output_type": "execute_result"
    }
   ],
   "source": [
    "fd.plot(20)"
   ]
  },
  {
   "cell_type": "markdown",
   "metadata": {},
   "source": [
    "Auch hier scheinen Artikel, Pronomen und Konjunktionen stark vertreten zu sein. Das bringt uns zu der Frage, welche Stimmung diese Wörter eigentlich implizieren?\n",
    "\n",
    "Solche Wörter, werden im Kontext des NLP als Stoppwörter bezeichnet, da sie zu einer Aussage keinen Inhalt beisteuern, wie es bspw. ein wertendes Adjektiv, wie _gut_ oder _schlecht_ tun würde. Stoppwörter lassen sich daher ähnlich wie das Rauschen aus einer Nachricht (hier: Tweet) entfernen, ohne dass der Inhalt (hier: Stimmung) dieser Nachricht verloren geht.\n",
    "\n",
    "Wir werden also im folgenden Schritt alle Stoppwörter entfernen. Um sie zu identifizieren, benutzen wir die vorgegebene Textdatei `stop_words.txt` und importieren sie in eine Liste `stop_words`. Hätte man lediglich die meist genutzten Wörter aus der Häufigkeitsverteilung oben genommen, wäre man Gefahr gelaufen, relevante Wörter, wie _schön_, ebenfalls zu entfernen."
   ]
  },
  {
   "cell_type": "code",
   "execution_count": 46,
   "metadata": {},
   "outputs": [
    {
     "data": {
      "text/plain": [
       "array(['der', 'die', 'das', 'ein', 'eine', 'einer', 'einen', 'ich', 'du',\n",
       "       'er', 'sie', 'es', 'wir', 'ihr', 'sie', 'bin', 'bist', 'ist',\n",
       "       'sind', 'seid', 'und', 'oder', 'doch', 'aber', 'an', 'am', 'in',\n",
       "       'von', 'vor'], dtype=object)"
      ]
     },
     "execution_count": 46,
     "metadata": {},
     "output_type": "execute_result"
    }
   ],
   "source": [
    "stop_words = pd.read_csv('./data/vocab/stop_words.txt', names=['Wort'])\n",
    "stop_words.Wort.values"
   ]
  },
  {
   "cell_type": "markdown",
   "metadata": {},
   "source": [
    "Bevor wir alle Stoppwörter unwiederruflich entfernen, fragen wir uns erst einmal, wie viel Prozent unseres Datensatzes wir dadurch verlieren würden? Dies lässt sich über die `content_loss()` Funktion wie folgt berechnen."
   ]
  },
  {
   "cell_type": "code",
   "execution_count": 47,
   "metadata": {},
   "outputs": [],
   "source": [
    "def content_loss(text): # Execution time too long\n",
    "    content = [word for word in text if word not in stop_words['Wort'].values.tolist()]\n",
    "    return 1.0 - len(content) / len(text)"
   ]
  },
  {
   "cell_type": "code",
   "execution_count": 48,
   "metadata": {},
   "outputs": [
    {
     "data": {
      "text/plain": [
       "0.18922808044261052"
      ]
     },
     "execution_count": 48,
     "metadata": {},
     "output_type": "execute_result"
    }
   ],
   "source": [
    "content_loss(all_words)"
   ]
  },
  {
   "cell_type": "markdown",
   "metadata": {},
   "source": [
    "Um die Stoppwörter endgültig aus unseren Tweets zu entfernen, werfen wir die `filter_tokens()` Funktion wie folgt an."
   ]
  },
  {
   "cell_type": "code",
   "execution_count": 49,
   "metadata": {},
   "outputs": [],
   "source": [
    "def filter_tokens(tweets):\n",
    "    \"\"\"Filter tokens in tweets\"\"\"\n",
    "    \n",
    "    row_list = []\n",
    "    for row in tweets:\n",
    "        token_list = []\n",
    "        for token in row:\n",
    "            if token.lower() not in stop_words['Wort'].values.tolist():\n",
    "                token_list.append(token.lower())\n",
    "        row_list.append(token_list)\n",
    "    \n",
    "    return pd.Series(row_list)"
   ]
  },
  {
   "cell_type": "code",
   "execution_count": 50,
   "metadata": {},
   "outputs": [
    {
     "data": {
      "text/plain": [
       "0    [a, venezuela, b, deutschland, während, ncovc,...\n",
       "1    [assad, putin, wollen, erdoan, lektion, erteil...\n",
       "2    [hoff, dinger, kann, a, amol, fahren, können, ...\n",
       "3    [trotz, aussichtsloser, lage, wehrmacht, ergeb...\n",
       "4             [mein, kommentar, zur, causa, hopp, für]\n",
       "dtype: object"
      ]
     },
     "execution_count": 50,
     "metadata": {},
     "output_type": "execute_result"
    }
   ],
   "source": [
    "tweets = filter_tokens(tweets) # Python list\n",
    "tweets.head()"
   ]
  },
  {
   "cell_type": "markdown",
   "metadata": {},
   "source": [
    "Damit ist unsere Sammlung von Wörter nicht mehr aktuell. Der Einfachheit halber sammeln wir sie erneut über die `aggregate_words()` Funktion."
   ]
  },
  {
   "cell_type": "code",
   "execution_count": 51,
   "metadata": {},
   "outputs": [],
   "source": [
    "all_words = aggregate_words(tweets)"
   ]
  },
  {
   "cell_type": "markdown",
   "metadata": {},
   "source": [
    "Welche Ausgabe kann bei erneutem Aufruf der `content_loss()` Funktion erwartet werden?"
   ]
  },
  {
   "cell_type": "code",
   "execution_count": 52,
   "metadata": {},
   "outputs": [
    {
     "data": {
      "application/vnd.jupyter.widget-view+json": {
       "model_id": "3314d009e8b140cabbfb882ebfc3cde3",
       "version_major": 2,
       "version_minor": 0
      },
      "text/plain": [
       "Output()"
      ]
     },
     "metadata": {},
     "output_type": "display_data"
    },
    {
     "data": {
      "application/vnd.jupyter.widget-view+json": {
       "model_id": "7270522966a845308d144b1a49831aaa",
       "version_major": 2,
       "version_minor": 0
      },
      "text/plain": [
       "Output()"
      ]
     },
     "metadata": {},
     "output_type": "display_data"
    },
    {
     "data": {
      "application/vnd.jupyter.widget-view+json": {
       "model_id": "5ced6f6550b5467687899c31418bb0fc",
       "version_major": 2,
       "version_minor": 0
      },
      "text/plain": [
       "Output()"
      ]
     },
     "metadata": {},
     "output_type": "display_data"
    }
   ],
   "source": [
    "#hideInput\n",
    "texte_lm.show_task(235)"
   ]
  },
  {
   "cell_type": "code",
   "execution_count": 53,
   "metadata": {},
   "outputs": [
    {
     "data": {
      "text/plain": [
       "0.0"
      ]
     },
     "execution_count": 53,
     "metadata": {},
     "output_type": "execute_result"
    }
   ],
   "source": [
    "content_loss(all_words)"
   ]
  },
  {
   "cell_type": "markdown",
   "metadata": {},
   "source": [
    "Welche Wörter werden wohl mit Ausnahme der Stoppwörter am häufigsten benutzt? Alternativ zur bereits bekannten Häufigkeitsverteilung lassen sich im Kontext des NLP sog. Schlagwortwolken erstellen. Dazu nutzen wir die `WordCloud()` Funktion wie folgt."
   ]
  },
  {
   "cell_type": "code",
   "execution_count": 54,
   "metadata": {},
   "outputs": [],
   "source": [
    "from wordcloud import WordCloud\n",
    "wc = WordCloud()"
   ]
  },
  {
   "cell_type": "code",
   "execution_count": 55,
   "metadata": {},
   "outputs": [
    {
     "data": {
      "image/png": "[encoded data removed]",
      "text/plain": [
       "<Figure size 432x288 with 1 Axes>"
      ]
     },
     "metadata": {
      "needs_background": "light"
     },
     "output_type": "display_data"
    }
   ],
   "source": [
    "most_common_words = wc.generate_from_frequencies(FreqDist(all_words))\n",
    "vf.plot_image(most_common_words, 'Die häufigsten Wörter')"
   ]
  },
  {
   "cell_type": "markdown",
   "metadata": {},
   "source": [
    "#### 2.3.3 Tweets bereinigen"
   ]
  },
  {
   "cell_type": "markdown",
   "metadata": {},
   "source": [
    "Da uns der vergangene Abschnitt einige Wörter gekostet hat, wollen wir nun die Tweets identifizieren, die zu wenig oder vielleicht sogar zu viele Wörter enthalten. Beide Extrema sind für die weiterführende Analyse nicht zu gebrauchen. Daher berechnen wir im folgenden die Länge eines Tweets."
   ]
  },
  {
   "cell_type": "code",
   "execution_count": 56,
   "metadata": {},
   "outputs": [],
   "source": [
    "tweets_length = [len(tweet) for tweet in tweets]"
   ]
  },
  {
   "cell_type": "markdown",
   "metadata": {},
   "source": [
    " Wie viele Wörter besitzt der kürzeste Tweet?"
   ]
  },
  {
   "cell_type": "code",
   "execution_count": 57,
   "metadata": {},
   "outputs": [
    {
     "data": {
      "application/vnd.jupyter.widget-view+json": {
       "model_id": "24de15f969bc452186c06ee9aac45954",
       "version_major": 2,
       "version_minor": 0
      },
      "text/plain": [
       "Output()"
      ]
     },
     "metadata": {},
     "output_type": "display_data"
    },
    {
     "data": {
      "application/vnd.jupyter.widget-view+json": {
       "model_id": "7dd10280cede4c78b8d231a460d4cad1",
       "version_major": 2,
       "version_minor": 0
      },
      "text/plain": [
       "Output()"
      ]
     },
     "metadata": {},
     "output_type": "display_data"
    },
    {
     "data": {
      "application/vnd.jupyter.widget-view+json": {
       "model_id": "d0db7359c74d46b2825c784b91dd7a7e",
       "version_major": 2,
       "version_minor": 0
      },
      "text/plain": [
       "Output()"
      ]
     },
     "metadata": {},
     "output_type": "display_data"
    }
   ],
   "source": [
    "#hideInput\n",
    "texte_lm.show_task(236)"
   ]
  },
  {
   "cell_type": "code",
   "execution_count": 58,
   "metadata": {},
   "outputs": [
    {
     "data": {
      "text/plain": [
       "0"
      ]
     },
     "execution_count": 58,
     "metadata": {},
     "output_type": "execute_result"
    }
   ],
   "source": [
    "#solution\n",
    "np.min(tweets_length)"
   ]
  },
  {
   "cell_type": "markdown",
   "metadata": {},
   "source": [
    "Hoffentlich handelt es sich um einen Ausreißer. Das verifizieren wir wiederum mit einer Häufigkeitsverteilung. Dieses Mal aber als einfaches Histogramm über die `plot_tweet_length_distribution()` Funktion wie folgt."
   ]
  },
  {
   "cell_type": "code",
   "execution_count": 59,
   "metadata": {},
   "outputs": [
    {
     "data": {
      "image/png": "[encoded data removed]",
      "text/plain": [
       "<Figure size 432x288 with 1 Axes>"
      ]
     },
     "metadata": {
      "needs_background": "light"
     },
     "output_type": "display_data"
    }
   ],
   "source": [
    "vf.plot_tweet_length_distribution(tweets_length)"
   ]
  },
  {
   "cell_type": "markdown",
   "metadata": {},
   "source": [
    "Die meisten Tweets scheinen nach Entfernen der Stoppwörter nur noch wenige Wörter lang zu sein. Wir verwerfen alle Tweets, die unterhalb des Maxima aus dem vorherigen Diagramm liegen wie folgt:"
   ]
  },
  {
   "cell_type": "code",
   "execution_count": 60,
   "metadata": {},
   "outputs": [],
   "source": [
    "min_words_per_tweet = 3\n",
    "tweets = tweets[tweets.map(len) > min_words_per_tweet]"
   ]
  },
  {
   "cell_type": "markdown",
   "metadata": {},
   "source": [
    "Das war's auch schon mit der Datenaufbereitung. Wie viel Prozent bleiben nach Bereinigung von Zeichen, Wörtern und zu kurz geratenen Tweets übrig?"
   ]
  },
  {
   "cell_type": "code",
   "execution_count": 61,
   "metadata": {},
   "outputs": [
    {
     "data": {
      "application/vnd.jupyter.widget-view+json": {
       "model_id": "4170e63f54c141d0899c33c0ebfe1e1f",
       "version_major": 2,
       "version_minor": 0
      },
      "text/plain": [
       "Output()"
      ]
     },
     "metadata": {},
     "output_type": "display_data"
    },
    {
     "data": {
      "application/vnd.jupyter.widget-view+json": {
       "model_id": "a330d32cdc7f4348a151a04c624b9d7d",
       "version_major": 2,
       "version_minor": 0
      },
      "text/plain": [
       "Output()"
      ]
     },
     "metadata": {},
     "output_type": "display_data"
    },
    {
     "data": {
      "application/vnd.jupyter.widget-view+json": {
       "model_id": "de78db4930ce406a8618de0e0034f201",
       "version_major": 2,
       "version_minor": 0
      },
      "text/plain": [
       "Output()"
      ]
     },
     "metadata": {},
     "output_type": "display_data"
    }
   ],
   "source": [
    "#hideInput\n",
    "texte_lm.show_task(237)"
   ]
  },
  {
   "cell_type": "code",
   "execution_count": 62,
   "metadata": {},
   "outputs": [
    {
     "data": {
      "text/plain": [
       "0.8417259148131238"
      ]
     },
     "execution_count": 62,
     "metadata": {},
     "output_type": "execute_result"
    }
   ],
   "source": [
    "#solution\n",
    "tweets.size / tweets_copy.size"
   ]
  },
  {
   "cell_type": "markdown",
   "metadata": {},
   "source": [
    "Mit dem bereinigten Datensatz geht es nun weiter in die Modelldomäne, in der wir uns erstmal um die Kompatibilität zwischen Daten und Modell kümmern."
   ]
  },
  {
   "cell_type": "markdown",
   "metadata": {},
   "source": [
    "## 3. Modell"
   ]
  },
  {
   "cell_type": "markdown",
   "metadata": {},
   "source": [
    "[Zurück zur Übersicht](#Lernmodul-zur-Verarbeitung-und-Analyse-von-Textdaten)"
   ]
  },
  {
   "cell_type": "markdown",
   "metadata": {},
   "source": [
    "In der Modelldomäne betten wir die bereinigten Daten zunächst auf Basis eines Vokabulars in ein Modell ein. Das Vokabular dient dabei als Look-up (LUT) für einen Tweet. Welche weiteren Schritte ein Tweet in der Modelldomäne durchläuft, bevor er die letztendlich klassifiziert wird, verrät die folgende Abbildung:\n",
    "\n",
    "![Model](./img/model_flow.png)"
   ]
  },
  {
   "cell_type": "markdown",
   "metadata": {},
   "source": [
    "### 3.1 Textdaten einbetten"
   ]
  },
  {
   "cell_type": "markdown",
   "metadata": {},
   "source": [
    "Da unsere bereinigten Daten weiterhin in symbolischer Form vorliegen, benötigen wir als nächchstes eine Überführung der Daten in eine Form, die von unserem finalen Modell (hier: Klassifikator) verstanden wird. Man spricht in diesem Zusammenhang vom [Embedding](https://en.wikipedia.org/wiki/Word_embedding) der Wörter.\n",
    "\n",
    "Es gibt viele komplizierte Verfahren, um das symbolische Wort auf einen numerischen Wert abzubilden, welche in diesem Lernmodul nicht näher betrachtet werden sollen. In diesem Fall schlagen wir die Wörter einfach in einer Art Vokabular nach, das für jedes Wort einen eigenen Wert besitzt. Wie sieht unser Vokabular nun aus?"
   ]
  },
  {
   "cell_type": "markdown",
   "metadata": {},
   "source": [
    "#### 3.1.1 Vokabular"
   ]
  },
  {
   "cell_type": "markdown",
   "metadata": {},
   "source": [
    "Unser Vokabular wurde über die Universität Leipzig unter der [CC BY-NC-SA 3.0 DE](https://creativecommons.org/licenses/by-nc-sa/3.0/de/) Lizenz veröffentlicht [[2]](#2).\n",
    "\n",
    "Das Vokabular besteht aus negativ bzw. positiv annotierten Wörtern der deutschen Sprache. Die Stimmungslage ist im Intervall von `[-1, 1]` bzw. `['negativ', 'positiv']` begrenzt. Schlagen wir neutrale Wörter, wie _und_ bzw. _oder_ im Vokabular nach, bekommen wir einen Stimmungswert von _0_, also neutral, zurückgegeben. Unser Modell interessiert sich aber lediglich für die zwei Extrema und soll als binärer Klassifikator zwischen negativen und posiven Tweets differenzieren. \n",
    "\n",
    "Wir vergeben die Labels wie folgt:"
   ]
  },
  {
   "cell_type": "code",
   "execution_count": 63,
   "metadata": {},
   "outputs": [],
   "source": [
    "labels = ['negativ', 'positiv']"
   ]
  },
  {
   "cell_type": "markdown",
   "metadata": {},
   "source": [
    "Zunächst holen wir uns die negativen Wörter für das Vokabular wie folgt:"
   ]
  },
  {
   "cell_type": "code",
   "execution_count": 64,
   "metadata": {},
   "outputs": [
    {
     "data": {
      "text/html": [
       "<div>\n",
       "<style scoped>\n",
       "    .dataframe tbody tr th:only-of-type {\n",
       "        vertical-align: middle;\n",
       "    }\n",
       "\n",
       "    .dataframe tbody tr th {\n",
       "        vertical-align: top;\n",
       "    }\n",
       "\n",
       "    .dataframe thead th {\n",
       "        text-align: right;\n",
       "    }\n",
       "</style>\n",
       "<table border=\"1\" class=\"dataframe\">\n",
       "  <thead>\n",
       "    <tr style=\"text-align: right;\">\n",
       "      <th></th>\n",
       "      <th>Wort</th>\n",
       "      <th>Wert</th>\n",
       "      <th>Deklination</th>\n",
       "      <th>Stimmung</th>\n",
       "    </tr>\n",
       "  </thead>\n",
       "  <tbody>\n",
       "    <tr>\n",
       "      <th>0</th>\n",
       "      <td>Abbruch|NN</td>\n",
       "      <td>-0.0048</td>\n",
       "      <td>Abbruches,Abbrüche,Abbruchs,Abbrüchen\\r</td>\n",
       "      <td>negativ</td>\n",
       "    </tr>\n",
       "    <tr>\n",
       "      <th>1</th>\n",
       "      <td>Abdankung|NN</td>\n",
       "      <td>-0.0048</td>\n",
       "      <td>Abdankungen\\r</td>\n",
       "      <td>negativ</td>\n",
       "    </tr>\n",
       "    <tr>\n",
       "      <th>2</th>\n",
       "      <td>Abdämpfung|NN</td>\n",
       "      <td>-0.0048</td>\n",
       "      <td>Abdämpfungen\\r</td>\n",
       "      <td>negativ</td>\n",
       "    </tr>\n",
       "    <tr>\n",
       "      <th>3</th>\n",
       "      <td>Abfall|NN</td>\n",
       "      <td>-0.0048</td>\n",
       "      <td>Abfalles,Abfälle,Abfalls,Abfällen\\r</td>\n",
       "      <td>negativ</td>\n",
       "    </tr>\n",
       "    <tr>\n",
       "      <th>4</th>\n",
       "      <td>Abfuhr|NN</td>\n",
       "      <td>-0.3367</td>\n",
       "      <td>Abfuhren\\r</td>\n",
       "      <td>negativ</td>\n",
       "    </tr>\n",
       "  </tbody>\n",
       "</table>\n",
       "</div>"
      ],
      "text/plain": [
       "            Wort    Wert                              Deklination Stimmung\n",
       "0     Abbruch|NN -0.0048  Abbruches,Abbrüche,Abbruchs,Abbrüchen\\r  negativ\n",
       "1   Abdankung|NN -0.0048                            Abdankungen\\r  negativ\n",
       "2  Abdämpfung|NN -0.0048                           Abdämpfungen\\r  negativ\n",
       "3      Abfall|NN -0.0048      Abfalles,Abfälle,Abfalls,Abfällen\\r  negativ\n",
       "4      Abfuhr|NN -0.3367                               Abfuhren\\r  negativ"
      ]
     },
     "execution_count": 64,
     "metadata": {},
     "output_type": "execute_result"
    }
   ],
   "source": [
    "negative = lf.load_vocabulary(labels[0]) # Negative\n",
    "negative.head()"
   ]
  },
  {
   "cell_type": "markdown",
   "metadata": {},
   "source": [
    "Es folgen die positiven Wörter des Vokabulars."
   ]
  },
  {
   "cell_type": "code",
   "execution_count": 65,
   "metadata": {},
   "outputs": [
    {
     "data": {
      "text/html": [
       "<div>\n",
       "<style scoped>\n",
       "    .dataframe tbody tr th:only-of-type {\n",
       "        vertical-align: middle;\n",
       "    }\n",
       "\n",
       "    .dataframe tbody tr th {\n",
       "        vertical-align: top;\n",
       "    }\n",
       "\n",
       "    .dataframe thead th {\n",
       "        text-align: right;\n",
       "    }\n",
       "</style>\n",
       "<table border=\"1\" class=\"dataframe\">\n",
       "  <thead>\n",
       "    <tr style=\"text-align: right;\">\n",
       "      <th></th>\n",
       "      <th>Wort</th>\n",
       "      <th>Wert</th>\n",
       "      <th>Deklination</th>\n",
       "      <th>Stimmung</th>\n",
       "    </tr>\n",
       "  </thead>\n",
       "  <tbody>\n",
       "    <tr>\n",
       "      <th>0</th>\n",
       "      <td>Abschluß|NN</td>\n",
       "      <td>0.004</td>\n",
       "      <td>Abschlüße,Abschlußs,Abschlußes,Abschlüßen\\r</td>\n",
       "      <td>positiv</td>\n",
       "    </tr>\n",
       "    <tr>\n",
       "      <th>1</th>\n",
       "      <td>Abstimmung|NN</td>\n",
       "      <td>0.004</td>\n",
       "      <td>Abstimmungen\\r</td>\n",
       "      <td>positiv</td>\n",
       "    </tr>\n",
       "    <tr>\n",
       "      <th>2</th>\n",
       "      <td>Agilität|NN</td>\n",
       "      <td>0.004</td>\n",
       "      <td>NaN</td>\n",
       "      <td>positiv</td>\n",
       "    </tr>\n",
       "    <tr>\n",
       "      <th>3</th>\n",
       "      <td>Aktivität|NN</td>\n",
       "      <td>0.004</td>\n",
       "      <td>Aktivitäten\\r</td>\n",
       "      <td>positiv</td>\n",
       "    </tr>\n",
       "    <tr>\n",
       "      <th>4</th>\n",
       "      <td>Aktualisierung|NN</td>\n",
       "      <td>0.004</td>\n",
       "      <td>Aktualisierungen\\r</td>\n",
       "      <td>positiv</td>\n",
       "    </tr>\n",
       "  </tbody>\n",
       "</table>\n",
       "</div>"
      ],
      "text/plain": [
       "                Wort   Wert                                  Deklination  \\\n",
       "0        Abschluß|NN  0.004  Abschlüße,Abschlußs,Abschlußes,Abschlüßen\\r   \n",
       "1      Abstimmung|NN  0.004                               Abstimmungen\\r   \n",
       "2        Agilität|NN  0.004                                          NaN   \n",
       "3       Aktivität|NN  0.004                                Aktivitäten\\r   \n",
       "4  Aktualisierung|NN  0.004                           Aktualisierungen\\r   \n",
       "\n",
       "  Stimmung  \n",
       "0  positiv  \n",
       "1  positiv  \n",
       "2  positiv  \n",
       "3  positiv  \n",
       "4  positiv  "
      ]
     },
     "execution_count": 65,
     "metadata": {},
     "output_type": "execute_result"
    }
   ],
   "source": [
    "positive = lf.load_vocabulary(labels[1]) # Positive\n",
    "positive.head()"
   ]
  },
  {
   "cell_type": "markdown",
   "metadata": {},
   "source": [
    "Der Spalte _Wort_ scheint der Typ des Wortes angehängt zu sein. Wir führen das negative und das positive Vokabular im DataFrame `vocab` zusammen..."
   ]
  },
  {
   "cell_type": "code",
   "execution_count": 66,
   "metadata": {},
   "outputs": [],
   "source": [
    "vocab = pd.concat([negative, positive])\n",
    "assert positive.size + negative.size == vocab.size"
   ]
  },
  {
   "cell_type": "markdown",
   "metadata": {},
   "source": [
    "...trennen das Wort von seinem Typ..."
   ]
  },
  {
   "cell_type": "code",
   "execution_count": 67,
   "metadata": {},
   "outputs": [],
   "source": [
    "vocab[['Wort', 'Typ']] = vocab['Wort'].str.split('|', 1, expand=True)"
   ]
  },
  {
   "cell_type": "markdown",
   "metadata": {},
   "source": [
    "...und kümmern uns um das angehängte _/r_ in der Spalte mit Deklinationen."
   ]
  },
  {
   "cell_type": "code",
   "execution_count": 68,
   "metadata": {},
   "outputs": [
    {
     "data": {
      "text/html": [
       "<div>\n",
       "<style scoped>\n",
       "    .dataframe tbody tr th:only-of-type {\n",
       "        vertical-align: middle;\n",
       "    }\n",
       "\n",
       "    .dataframe tbody tr th {\n",
       "        vertical-align: top;\n",
       "    }\n",
       "\n",
       "    .dataframe thead th {\n",
       "        text-align: right;\n",
       "    }\n",
       "</style>\n",
       "<table border=\"1\" class=\"dataframe\">\n",
       "  <thead>\n",
       "    <tr style=\"text-align: right;\">\n",
       "      <th></th>\n",
       "      <th>Wort</th>\n",
       "      <th>Wert</th>\n",
       "      <th>Deklination</th>\n",
       "      <th>Stimmung</th>\n",
       "      <th>Typ</th>\n",
       "    </tr>\n",
       "  </thead>\n",
       "  <tbody>\n",
       "    <tr>\n",
       "      <th>0</th>\n",
       "      <td>Abbruch</td>\n",
       "      <td>-0.0048</td>\n",
       "      <td>Abbruches,Abbrüche,Abbruchs,Abbrüchen</td>\n",
       "      <td>negativ</td>\n",
       "      <td>NN</td>\n",
       "    </tr>\n",
       "    <tr>\n",
       "      <th>1</th>\n",
       "      <td>Abdankung</td>\n",
       "      <td>-0.0048</td>\n",
       "      <td>Abdankungen</td>\n",
       "      <td>negativ</td>\n",
       "      <td>NN</td>\n",
       "    </tr>\n",
       "    <tr>\n",
       "      <th>2</th>\n",
       "      <td>Abdämpfung</td>\n",
       "      <td>-0.0048</td>\n",
       "      <td>Abdämpfungen</td>\n",
       "      <td>negativ</td>\n",
       "      <td>NN</td>\n",
       "    </tr>\n",
       "    <tr>\n",
       "      <th>3</th>\n",
       "      <td>Abfall</td>\n",
       "      <td>-0.0048</td>\n",
       "      <td>Abfalles,Abfälle,Abfalls,Abfällen</td>\n",
       "      <td>negativ</td>\n",
       "      <td>NN</td>\n",
       "    </tr>\n",
       "    <tr>\n",
       "      <th>4</th>\n",
       "      <td>Abfuhr</td>\n",
       "      <td>-0.3367</td>\n",
       "      <td>Abfuhren</td>\n",
       "      <td>negativ</td>\n",
       "      <td>NN</td>\n",
       "    </tr>\n",
       "  </tbody>\n",
       "</table>\n",
       "</div>"
      ],
      "text/plain": [
       "         Wort    Wert                            Deklination Stimmung Typ\n",
       "0     Abbruch -0.0048  Abbruches,Abbrüche,Abbruchs,Abbrüchen  negativ  NN\n",
       "1   Abdankung -0.0048                            Abdankungen  negativ  NN\n",
       "2  Abdämpfung -0.0048                           Abdämpfungen  negativ  NN\n",
       "3      Abfall -0.0048      Abfalles,Abfälle,Abfalls,Abfällen  negativ  NN\n",
       "4      Abfuhr -0.3367                               Abfuhren  negativ  NN"
      ]
     },
     "execution_count": 68,
     "metadata": {},
     "output_type": "execute_result"
    }
   ],
   "source": [
    "vocab['Deklination'] = vocab['Deklination'].replace(regex={r'\\r' : ''})\n",
    "vocab.head()"
   ]
  },
  {
   "cell_type": "markdown",
   "metadata": {},
   "source": [
    "Nun haben wir ein vollständig bereinigtes Vokabular. Welche Wort-Typen sind vorhanden?"
   ]
  },
  {
   "cell_type": "code",
   "execution_count": 69,
   "metadata": {},
   "outputs": [
    {
     "data": {
      "application/vnd.jupyter.widget-view+json": {
       "model_id": "b1fc19ba4a9c4520be902935c5a3a352",
       "version_major": 2,
       "version_minor": 0
      },
      "text/plain": [
       "Output()"
      ]
     },
     "metadata": {},
     "output_type": "display_data"
    },
    {
     "data": {
      "application/vnd.jupyter.widget-view+json": {
       "model_id": "95343d426f7c428c82fb19dea774f60b",
       "version_major": 2,
       "version_minor": 0
      },
      "text/plain": [
       "Output()"
      ]
     },
     "metadata": {},
     "output_type": "display_data"
    },
    {
     "data": {
      "application/vnd.jupyter.widget-view+json": {
       "model_id": "12ebe311a86048519ff171a4578fdfb2",
       "version_major": 2,
       "version_minor": 0
      },
      "text/plain": [
       "Output()"
      ]
     },
     "metadata": {},
     "output_type": "display_data"
    }
   ],
   "source": [
    "#hideInput\n",
    "texte_lm.show_task(311)"
   ]
  },
  {
   "cell_type": "code",
   "execution_count": 70,
   "metadata": {},
   "outputs": [
    {
     "data": {
      "text/plain": [
       "array(['NN', 'VVINF', 'ADJX', 'ADV'], dtype=object)"
      ]
     },
     "execution_count": 70,
     "metadata": {},
     "output_type": "execute_result"
    }
   ],
   "source": [
    "#solution\n",
    "vocab['Typ'].unique()"
   ]
  },
  {
   "cell_type": "markdown",
   "metadata": {},
   "source": [
    "Wir visualisieren alle negativen Nomen mithilfe der bereits bekannten Schlagwortwolke:"
   ]
  },
  {
   "cell_type": "code",
   "execution_count": 71,
   "metadata": {},
   "outputs": [
    {
     "data": {
      "image/png": "[encoded data removed]",
      "text/plain": [
       "<Figure size 432x288 with 1 Axes>"
      ]
     },
     "metadata": {
      "needs_background": "light"
     },
     "output_type": "display_data"
    }
   ],
   "source": [
    "neg_nouns = vocab[(vocab['Stimmung'] == 'negativ') & (vocab['Typ'] == 'NN')] # Only negative vocabulary\n",
    "most_neg_nouns = wc.generate_from_frequencies(pd.Series(neg_nouns.Wert.values * (-100), index=neg_nouns.Wort).to_dict())\n",
    "vf.plot_image(most_neg_nouns, 'Die negativsten Nomen')"
   ]
  },
  {
   "cell_type": "markdown",
   "metadata": {},
   "source": [
    "Analog visualisieren wir alle positiven Adjektive in unserem Vokabular."
   ]
  },
  {
   "cell_type": "code",
   "execution_count": 72,
   "metadata": {},
   "outputs": [
    {
     "data": {
      "image/png": "[encoded data removed]",
      "text/plain": [
       "<Figure size 432x288 with 1 Axes>"
      ]
     },
     "metadata": {
      "needs_background": "light"
     },
     "output_type": "display_data"
    }
   ],
   "source": [
    "pos_adj = vocab[(vocab['Stimmung'] == 'positiv') & (vocab['Typ'] == 'ADJX')] # Only positive vocabulary\n",
    "most_pos_adj = wc.generate_from_frequencies(pd.Series(pos_adj.Wert.values * (100), index=pos_adj.Wort).to_dict())\n",
    "vf.plot_image(most_pos_adj, 'Die positivsten Adjektive')"
   ]
  },
  {
   "cell_type": "markdown",
   "metadata": {},
   "source": [
    "Ist unser Vokabular eher negativ oder eher positiv annotiert?"
   ]
  },
  {
   "cell_type": "code",
   "execution_count": 73,
   "metadata": {},
   "outputs": [
    {
     "data": {
      "application/vnd.jupyter.widget-view+json": {
       "model_id": "7cadf4a340b14dae896821a901113c62",
       "version_major": 2,
       "version_minor": 0
      },
      "text/plain": [
       "Output()"
      ]
     },
     "metadata": {},
     "output_type": "display_data"
    },
    {
     "data": {
      "application/vnd.jupyter.widget-view+json": {
       "model_id": "8e3b64459a0344d5bb7959f60dd919c4",
       "version_major": 2,
       "version_minor": 0
      },
      "text/plain": [
       "Output()"
      ]
     },
     "metadata": {},
     "output_type": "display_data"
    },
    {
     "data": {
      "application/vnd.jupyter.widget-view+json": {
       "model_id": "c8549cc1b1f545e19ec4c8f808d71693",
       "version_major": 2,
       "version_minor": 0
      },
      "text/plain": [
       "Output()"
      ]
     },
     "metadata": {},
     "output_type": "display_data"
    }
   ],
   "source": [
    "#hideInput\n",
    "texte_lm.show_task(312)"
   ]
  },
  {
   "cell_type": "code",
   "execution_count": 74,
   "metadata": {},
   "outputs": [
    {
     "data": {
      "text/plain": [
       "Wert   -0.053921\n",
       "dtype: float64"
      ]
     },
     "execution_count": 74,
     "metadata": {},
     "output_type": "execute_result"
    }
   ],
   "source": [
    "#solution\n",
    "vocab.mean()"
   ]
  },
  {
   "cell_type": "markdown",
   "metadata": {},
   "source": [
    "Wie bereits für die Tweets halten wir nach fehlenden Werten Ausschau. In welcher Spalte fehlen Werte?"
   ]
  },
  {
   "cell_type": "code",
   "execution_count": 75,
   "metadata": {},
   "outputs": [
    {
     "data": {
      "application/vnd.jupyter.widget-view+json": {
       "model_id": "acbc05bdcc7a431487239b905141df0c",
       "version_major": 2,
       "version_minor": 0
      },
      "text/plain": [
       "Output()"
      ]
     },
     "metadata": {},
     "output_type": "display_data"
    },
    {
     "data": {
      "application/vnd.jupyter.widget-view+json": {
       "model_id": "6e2f4e9298f149f6a0164940d74d5e9c",
       "version_major": 2,
       "version_minor": 0
      },
      "text/plain": [
       "Output()"
      ]
     },
     "metadata": {},
     "output_type": "display_data"
    },
    {
     "data": {
      "application/vnd.jupyter.widget-view+json": {
       "model_id": "13de498e8b814115a81bf2743ab4c168",
       "version_major": 2,
       "version_minor": 0
      },
      "text/plain": [
       "Output()"
      ]
     },
     "metadata": {},
     "output_type": "display_data"
    }
   ],
   "source": [
    "#hideInput\n",
    "texte_lm.show_task(313)"
   ]
  },
  {
   "cell_type": "code",
   "execution_count": 76,
   "metadata": {},
   "outputs": [
    {
     "data": {
      "text/html": [
       "<div>\n",
       "<style scoped>\n",
       "    .dataframe tbody tr th:only-of-type {\n",
       "        vertical-align: middle;\n",
       "    }\n",
       "\n",
       "    .dataframe tbody tr th {\n",
       "        vertical-align: top;\n",
       "    }\n",
       "\n",
       "    .dataframe thead th {\n",
       "        text-align: right;\n",
       "    }\n",
       "</style>\n",
       "<table border=\"1\" class=\"dataframe\">\n",
       "  <thead>\n",
       "    <tr style=\"text-align: right;\">\n",
       "      <th></th>\n",
       "      <th>Wort</th>\n",
       "      <th>Wert</th>\n",
       "      <th>Deklination</th>\n",
       "      <th>Stimmung</th>\n",
       "      <th>Typ</th>\n",
       "    </tr>\n",
       "  </thead>\n",
       "  <tbody>\n",
       "    <tr>\n",
       "      <th>count</th>\n",
       "      <td>3466</td>\n",
       "      <td>3466</td>\n",
       "      <td>3466</td>\n",
       "      <td>3466</td>\n",
       "      <td>3466</td>\n",
       "    </tr>\n",
       "    <tr>\n",
       "      <th>unique</th>\n",
       "      <td>1</td>\n",
       "      <td>1</td>\n",
       "      <td>2</td>\n",
       "      <td>1</td>\n",
       "      <td>1</td>\n",
       "    </tr>\n",
       "    <tr>\n",
       "      <th>top</th>\n",
       "      <td>False</td>\n",
       "      <td>False</td>\n",
       "      <td>False</td>\n",
       "      <td>False</td>\n",
       "      <td>False</td>\n",
       "    </tr>\n",
       "    <tr>\n",
       "      <th>freq</th>\n",
       "      <td>3466</td>\n",
       "      <td>3466</td>\n",
       "      <td>2659</td>\n",
       "      <td>3466</td>\n",
       "      <td>3466</td>\n",
       "    </tr>\n",
       "  </tbody>\n",
       "</table>\n",
       "</div>"
      ],
      "text/plain": [
       "         Wort   Wert Deklination Stimmung    Typ\n",
       "count    3466   3466        3466     3466   3466\n",
       "unique      1      1           2        1      1\n",
       "top     False  False       False    False  False\n",
       "freq     3466   3466        2659     3466   3466"
      ]
     },
     "execution_count": 76,
     "metadata": {},
     "output_type": "execute_result"
    }
   ],
   "source": [
    "#solution\n",
    "vocab.isna().describe()"
   ]
  },
  {
   "cell_type": "markdown",
   "metadata": {},
   "source": [
    "Anstatt sie zu streichen, werden sie mit einer leeren Zeichenkette ersetzt. Dies verhindert, dass unser Vokabular schrumpft, was wir unbedingt verhindern wollen, da unser Modell auf Basis des Vokabulars erzeugt wird."
   ]
  },
  {
   "cell_type": "code",
   "execution_count": 77,
   "metadata": {},
   "outputs": [],
   "source": [
    "vocab = vocab.fillna('')"
   ]
  },
  {
   "cell_type": "markdown",
   "metadata": {},
   "source": [
    "Als Nächstes kümmern wir uns um die Liste an Deklinationen pro Wort, welche wir ebenfalls als eigenständige Wörter im Vokabular verwenden wollen. Dies erreichen wir, indem wir jedes Listenelement (hier: Deklinationsform) der Spalte _Deklinaton_ in eine eigene Reihe überführen."
   ]
  },
  {
   "cell_type": "code",
   "execution_count": 78,
   "metadata": {},
   "outputs": [
    {
     "data": {
      "text/html": [
       "<div>\n",
       "<style scoped>\n",
       "    .dataframe tbody tr th:only-of-type {\n",
       "        vertical-align: middle;\n",
       "    }\n",
       "\n",
       "    .dataframe tbody tr th {\n",
       "        vertical-align: top;\n",
       "    }\n",
       "\n",
       "    .dataframe thead th {\n",
       "        text-align: right;\n",
       "    }\n",
       "</style>\n",
       "<table border=\"1\" class=\"dataframe\">\n",
       "  <thead>\n",
       "    <tr style=\"text-align: right;\">\n",
       "      <th></th>\n",
       "      <th>Stamm</th>\n",
       "      <th>Wert</th>\n",
       "      <th>Stimmung</th>\n",
       "      <th>Typ</th>\n",
       "      <th>Wort</th>\n",
       "    </tr>\n",
       "  </thead>\n",
       "  <tbody>\n",
       "    <tr>\n",
       "      <th>0</th>\n",
       "      <td>Abbruch</td>\n",
       "      <td>-0.0048</td>\n",
       "      <td>negativ</td>\n",
       "      <td>NN</td>\n",
       "      <td>Abbruch</td>\n",
       "    </tr>\n",
       "    <tr>\n",
       "      <th>1</th>\n",
       "      <td>Abbruch</td>\n",
       "      <td>-0.0048</td>\n",
       "      <td>negativ</td>\n",
       "      <td>NN</td>\n",
       "      <td>Abbruches</td>\n",
       "    </tr>\n",
       "    <tr>\n",
       "      <th>2</th>\n",
       "      <td>Abbruch</td>\n",
       "      <td>-0.0048</td>\n",
       "      <td>negativ</td>\n",
       "      <td>NN</td>\n",
       "      <td>Abbrüche</td>\n",
       "    </tr>\n",
       "    <tr>\n",
       "      <th>3</th>\n",
       "      <td>Abbruch</td>\n",
       "      <td>-0.0048</td>\n",
       "      <td>negativ</td>\n",
       "      <td>NN</td>\n",
       "      <td>Abbruchs</td>\n",
       "    </tr>\n",
       "    <tr>\n",
       "      <th>4</th>\n",
       "      <td>Abbruch</td>\n",
       "      <td>-0.0048</td>\n",
       "      <td>negativ</td>\n",
       "      <td>NN</td>\n",
       "      <td>Abbrüchen</td>\n",
       "    </tr>\n",
       "    <tr>\n",
       "      <th>...</th>\n",
       "      <td>...</td>\n",
       "      <td>...</td>\n",
       "      <td>...</td>\n",
       "      <td>...</td>\n",
       "      <td>...</td>\n",
       "    </tr>\n",
       "    <tr>\n",
       "      <th>32076</th>\n",
       "      <td>üppig</td>\n",
       "      <td>0.2010</td>\n",
       "      <td>positiv</td>\n",
       "      <td>ADJX</td>\n",
       "      <td>üppigster</td>\n",
       "    </tr>\n",
       "    <tr>\n",
       "      <th>32077</th>\n",
       "      <td>üppig</td>\n",
       "      <td>0.2010</td>\n",
       "      <td>positiv</td>\n",
       "      <td>ADJX</td>\n",
       "      <td>üppiges</td>\n",
       "    </tr>\n",
       "    <tr>\n",
       "      <th>32078</th>\n",
       "      <td>üppig</td>\n",
       "      <td>0.2010</td>\n",
       "      <td>positiv</td>\n",
       "      <td>ADJX</td>\n",
       "      <td>üppig</td>\n",
       "    </tr>\n",
       "    <tr>\n",
       "      <th>32079</th>\n",
       "      <td>üppig</td>\n",
       "      <td>0.2010</td>\n",
       "      <td>positiv</td>\n",
       "      <td>ADJX</td>\n",
       "      <td>üppigsten</td>\n",
       "    </tr>\n",
       "    <tr>\n",
       "      <th>32080</th>\n",
       "      <td>üppig</td>\n",
       "      <td>0.2010</td>\n",
       "      <td>positiv</td>\n",
       "      <td>ADJX</td>\n",
       "      <td>üppige</td>\n",
       "    </tr>\n",
       "  </tbody>\n",
       "</table>\n",
       "<p>32081 rows × 5 columns</p>\n",
       "</div>"
      ],
      "text/plain": [
       "         Stamm    Wert Stimmung   Typ       Wort\n",
       "0      Abbruch -0.0048  negativ    NN    Abbruch\n",
       "1      Abbruch -0.0048  negativ    NN  Abbruches\n",
       "2      Abbruch -0.0048  negativ    NN   Abbrüche\n",
       "3      Abbruch -0.0048  negativ    NN   Abbruchs\n",
       "4      Abbruch -0.0048  negativ    NN  Abbrüchen\n",
       "...        ...     ...      ...   ...        ...\n",
       "32076    üppig  0.2010  positiv  ADJX  üppigster\n",
       "32077    üppig  0.2010  positiv  ADJX    üppiges\n",
       "32078    üppig  0.2010  positiv  ADJX      üppig\n",
       "32079    üppig  0.2010  positiv  ADJX  üppigsten\n",
       "32080    üppig  0.2010  positiv  ADJX     üppige\n",
       "\n",
       "[32081 rows x 5 columns]"
      ]
     },
     "execution_count": 78,
     "metadata": {},
     "output_type": "execute_result"
    }
   ],
   "source": [
    "vocab['Merged'] = vocab['Wort'] + ',' + vocab['Deklination']\n",
    "vocab['Merged'] = vocab['Merged'].str.split(',')\n",
    "vocab = vocab.explode('Merged')\n",
    "vocab = vocab.sort_values('Wort').reset_index(drop=True)\n",
    "vocab = vocab.rename(columns={'Wort': 'Stamm', 'Merged': 'Wort'})\n",
    "vocab = vocab.drop(['Deklination'], axis=1)\n",
    "vocab"
   ]
  },
  {
   "cell_type": "markdown",
   "metadata": {},
   "source": [
    "Welchen Stimmungswert besitzt das Adjektiv _gut_ im Vokabular."
   ]
  },
  {
   "cell_type": "code",
   "execution_count": 79,
   "metadata": {},
   "outputs": [
    {
     "data": {
      "application/vnd.jupyter.widget-view+json": {
       "model_id": "43d52eafaca046909939f47a6b669140",
       "version_major": 2,
       "version_minor": 0
      },
      "text/plain": [
       "Output()"
      ]
     },
     "metadata": {},
     "output_type": "display_data"
    },
    {
     "data": {
      "application/vnd.jupyter.widget-view+json": {
       "model_id": "31f67d02543c4549aff1f48d0e2b18fc",
       "version_major": 2,
       "version_minor": 0
      },
      "text/plain": [
       "Output()"
      ]
     },
     "metadata": {},
     "output_type": "display_data"
    },
    {
     "data": {
      "application/vnd.jupyter.widget-view+json": {
       "model_id": "89d6dfaa12c049feaf5367e1179a8881",
       "version_major": 2,
       "version_minor": 0
      },
      "text/plain": [
       "Output()"
      ]
     },
     "metadata": {},
     "output_type": "display_data"
    }
   ],
   "source": [
    "#hideInput\n",
    "texte_lm.show_task(314)"
   ]
  },
  {
   "cell_type": "code",
   "execution_count": 80,
   "metadata": {},
   "outputs": [
    {
     "data": {
      "text/html": [
       "<div>\n",
       "<style scoped>\n",
       "    .dataframe tbody tr th:only-of-type {\n",
       "        vertical-align: middle;\n",
       "    }\n",
       "\n",
       "    .dataframe tbody tr th {\n",
       "        vertical-align: top;\n",
       "    }\n",
       "\n",
       "    .dataframe thead th {\n",
       "        text-align: right;\n",
       "    }\n",
       "</style>\n",
       "<table border=\"1\" class=\"dataframe\">\n",
       "  <thead>\n",
       "    <tr style=\"text-align: right;\">\n",
       "      <th></th>\n",
       "      <th>Stamm</th>\n",
       "      <th>Wert</th>\n",
       "      <th>Stimmung</th>\n",
       "      <th>Typ</th>\n",
       "      <th>Wort</th>\n",
       "    </tr>\n",
       "  </thead>\n",
       "  <tbody>\n",
       "    <tr>\n",
       "      <th>13862</th>\n",
       "      <td>gut</td>\n",
       "      <td>0.3716</td>\n",
       "      <td>positiv</td>\n",
       "      <td>ADJX</td>\n",
       "      <td>gut</td>\n",
       "    </tr>\n",
       "  </tbody>\n",
       "</table>\n",
       "</div>"
      ],
      "text/plain": [
       "      Stamm    Wert Stimmung   Typ Wort\n",
       "13862   gut  0.3716  positiv  ADJX  gut"
      ]
     },
     "execution_count": 80,
     "metadata": {},
     "output_type": "execute_result"
    }
   ],
   "source": [
    "#solution\n",
    "vocab.loc[(vocab['Typ'] == 'ADJX') & (vocab['Wort'] == 'gut')]"
   ]
  },
  {
   "cell_type": "markdown",
   "metadata": {},
   "source": [
    "Wie lautet das \"schlechteste\", also das am schlechtesten annotierte Wort im Vokabular?"
   ]
  },
  {
   "cell_type": "code",
   "execution_count": 81,
   "metadata": {},
   "outputs": [
    {
     "data": {
      "application/vnd.jupyter.widget-view+json": {
       "model_id": "27cb5658b23d4590bf25ce6648971ff5",
       "version_major": 2,
       "version_minor": 0
      },
      "text/plain": [
       "Output()"
      ]
     },
     "metadata": {},
     "output_type": "display_data"
    },
    {
     "data": {
      "application/vnd.jupyter.widget-view+json": {
       "model_id": "d8e3948ef6bf42ccac4dfd03d76c09d2",
       "version_major": 2,
       "version_minor": 0
      },
      "text/plain": [
       "Output()"
      ]
     },
     "metadata": {},
     "output_type": "display_data"
    },
    {
     "data": {
      "application/vnd.jupyter.widget-view+json": {
       "model_id": "9718eee29e334358a03e2523f4b07b7f",
       "version_major": 2,
       "version_minor": 0
      },
      "text/plain": [
       "Output()"
      ]
     },
     "metadata": {},
     "output_type": "display_data"
    }
   ],
   "source": [
    "#hideInput\n",
    "texte_lm.show_task(315)"
   ]
  },
  {
   "cell_type": "code",
   "execution_count": 82,
   "metadata": {},
   "outputs": [
    {
     "data": {
      "text/html": [
       "<div>\n",
       "<style scoped>\n",
       "    .dataframe tbody tr th:only-of-type {\n",
       "        vertical-align: middle;\n",
       "    }\n",
       "\n",
       "    .dataframe tbody tr th {\n",
       "        vertical-align: top;\n",
       "    }\n",
       "\n",
       "    .dataframe thead th {\n",
       "        text-align: right;\n",
       "    }\n",
       "</style>\n",
       "<table border=\"1\" class=\"dataframe\">\n",
       "  <thead>\n",
       "    <tr style=\"text-align: right;\">\n",
       "      <th></th>\n",
       "      <th>Stamm</th>\n",
       "      <th>Wert</th>\n",
       "      <th>Stimmung</th>\n",
       "      <th>Typ</th>\n",
       "      <th>Wort</th>\n",
       "    </tr>\n",
       "  </thead>\n",
       "  <tbody>\n",
       "    <tr>\n",
       "      <th>1096</th>\n",
       "      <td>Gefahr</td>\n",
       "      <td>-1.0000</td>\n",
       "      <td>negativ</td>\n",
       "      <td>NN</td>\n",
       "      <td>Gefahr</td>\n",
       "    </tr>\n",
       "    <tr>\n",
       "      <th>1097</th>\n",
       "      <td>Gefahr</td>\n",
       "      <td>-1.0000</td>\n",
       "      <td>negativ</td>\n",
       "      <td>NN</td>\n",
       "      <td>Gefahren</td>\n",
       "    </tr>\n",
       "    <tr>\n",
       "      <th>2219</th>\n",
       "      <td>Schuld</td>\n",
       "      <td>-0.9686</td>\n",
       "      <td>negativ</td>\n",
       "      <td>NN</td>\n",
       "      <td>Schulden</td>\n",
       "    </tr>\n",
       "    <tr>\n",
       "      <th>2218</th>\n",
       "      <td>Schuld</td>\n",
       "      <td>-0.9686</td>\n",
       "      <td>negativ</td>\n",
       "      <td>NN</td>\n",
       "      <td>Schuld</td>\n",
       "    </tr>\n",
       "    <tr>\n",
       "      <th>26481</th>\n",
       "      <td>unnötig</td>\n",
       "      <td>-0.9463</td>\n",
       "      <td>negativ</td>\n",
       "      <td>ADJX</td>\n",
       "      <td>unnötiger</td>\n",
       "    </tr>\n",
       "    <tr>\n",
       "      <th>26482</th>\n",
       "      <td>unnötig</td>\n",
       "      <td>-0.9463</td>\n",
       "      <td>negativ</td>\n",
       "      <td>ADJX</td>\n",
       "      <td>unnötig</td>\n",
       "    </tr>\n",
       "    <tr>\n",
       "      <th>26483</th>\n",
       "      <td>unnötig</td>\n",
       "      <td>-0.9463</td>\n",
       "      <td>negativ</td>\n",
       "      <td>ADJX</td>\n",
       "      <td>unnötigen</td>\n",
       "    </tr>\n",
       "    <tr>\n",
       "      <th>26484</th>\n",
       "      <td>unnötig</td>\n",
       "      <td>-0.9463</td>\n",
       "      <td>negativ</td>\n",
       "      <td>ADJX</td>\n",
       "      <td>unnötigerem</td>\n",
       "    </tr>\n",
       "    <tr>\n",
       "      <th>26485</th>\n",
       "      <td>unnötig</td>\n",
       "      <td>-0.9463</td>\n",
       "      <td>negativ</td>\n",
       "      <td>ADJX</td>\n",
       "      <td>unnötigem</td>\n",
       "    </tr>\n",
       "    <tr>\n",
       "      <th>26487</th>\n",
       "      <td>unnötig</td>\n",
       "      <td>-0.9463</td>\n",
       "      <td>negativ</td>\n",
       "      <td>ADJX</td>\n",
       "      <td>unnötigste</td>\n",
       "    </tr>\n",
       "  </tbody>\n",
       "</table>\n",
       "</div>"
      ],
      "text/plain": [
       "         Stamm    Wert Stimmung   Typ         Wort\n",
       "1096    Gefahr -1.0000  negativ    NN       Gefahr\n",
       "1097    Gefahr -1.0000  negativ    NN     Gefahren\n",
       "2219    Schuld -0.9686  negativ    NN     Schulden\n",
       "2218    Schuld -0.9686  negativ    NN       Schuld\n",
       "26481  unnötig -0.9463  negativ  ADJX    unnötiger\n",
       "26482  unnötig -0.9463  negativ  ADJX      unnötig\n",
       "26483  unnötig -0.9463  negativ  ADJX    unnötigen\n",
       "26484  unnötig -0.9463  negativ  ADJX  unnötigerem\n",
       "26485  unnötig -0.9463  negativ  ADJX    unnötigem\n",
       "26487  unnötig -0.9463  negativ  ADJX   unnötigste"
      ]
     },
     "execution_count": 82,
     "metadata": {},
     "output_type": "execute_result"
    }
   ],
   "source": [
    "#solution\n",
    "vocab.sort_values('Wert').head(10)"
   ]
  },
  {
   "cell_type": "markdown",
   "metadata": {},
   "source": [
    "Unser Vokabular ist fertig. Als nächstes richten wir den Fokus wieder auf unsere Tweets."
   ]
  },
  {
   "cell_type": "markdown",
   "metadata": {},
   "source": [
    "#### 3.1.2 Vektorisierung"
   ]
  },
  {
   "cell_type": "markdown",
   "metadata": {},
   "source": [
    "Innerhalb der Vektorisierung überführen wir die symbolischen Textbeiträge in numerische Werte. Dies geschieht im Normalfall über Häufigkeitsverteilungen. Je öfter ein Wort im Text vorkommt, desto wichtiger scheint es zu sein, was sich in der Vektorisierung wiederspiegelt.\n",
    "\n",
    "In diesem Fall aber benutzen wir das bekannte Vokabular und überführen jedes einzelne Wort eines Tweets in seinen Stimmungswert. Das Wort _gut_ kriegt dabei den Stimmungswert 0.37 zugewiesen, wie bereits in einer der vorherigen Aufgaben behandelt wurde."
   ]
  },
  {
   "cell_type": "code",
   "execution_count": 83,
   "metadata": {},
   "outputs": [
    {
     "data": {
      "text/plain": [
       "13862    0.3716\n",
       "Name: Wert, dtype: float64"
      ]
     },
     "execution_count": 83,
     "metadata": {},
     "output_type": "execute_result"
    }
   ],
   "source": [
    "vocab.loc[vocab['Wort'] == 'gut'].Wert"
   ]
  },
  {
   "cell_type": "markdown",
   "metadata": {},
   "source": [
    "Für eine performante Vektorisierung benötigen wir einen Look-up-table aus den Schlüssel-/Wertpaaren `{ Wort : Stimmungswert }`."
   ]
  },
  {
   "cell_type": "code",
   "execution_count": 84,
   "metadata": {},
   "outputs": [],
   "source": [
    "lookup = pd.Series(vocab.Wert.values,index=vocab.Wort.str.lower()).to_dict()"
   ]
  },
  {
   "cell_type": "markdown",
   "metadata": {},
   "source": [
    "Die Vektorisierung wird nun über die `vectorize()` Funktion abgeschlossen."
   ]
  },
  {
   "cell_type": "code",
   "execution_count": 85,
   "metadata": {},
   "outputs": [],
   "source": [
    "def vectorize(tweet):\n",
    "    \"\"\"Vectorize tweets based on vocabulary\"\"\"\n",
    "    \n",
    "    return [lookup.get(a) for a in tweet if lookup.get(a)]"
   ]
  },
  {
   "cell_type": "code",
   "execution_count": 86,
   "metadata": {},
   "outputs": [
    {
     "data": {
      "text/html": [
       "<div>\n",
       "<style scoped>\n",
       "    .dataframe tbody tr th:only-of-type {\n",
       "        vertical-align: middle;\n",
       "    }\n",
       "\n",
       "    .dataframe tbody tr th {\n",
       "        vertical-align: top;\n",
       "    }\n",
       "\n",
       "    .dataframe thead th {\n",
       "        text-align: right;\n",
       "    }\n",
       "</style>\n",
       "<table border=\"1\" class=\"dataframe\">\n",
       "  <thead>\n",
       "    <tr style=\"text-align: right;\">\n",
       "      <th></th>\n",
       "      <th>Token</th>\n",
       "      <th>Vector</th>\n",
       "    </tr>\n",
       "  </thead>\n",
       "  <tbody>\n",
       "    <tr>\n",
       "      <th>0</th>\n",
       "      <td>[a, venezuela, b, deutschland, während, ncovc,...</td>\n",
       "      <td>[]</td>\n",
       "    </tr>\n",
       "    <tr>\n",
       "      <th>1</th>\n",
       "      <td>[assad, putin, wollen, erdoan, lektion, erteil...</td>\n",
       "      <td>[-0.0048, -0.0468, -0.0603, -0.1483, -0.0048]</td>\n",
       "    </tr>\n",
       "    <tr>\n",
       "      <th>2</th>\n",
       "      <td>[hoff, dinger, kann, a, amol, fahren, können, ...</td>\n",
       "      <td>[0.2318]</td>\n",
       "    </tr>\n",
       "    <tr>\n",
       "      <th>3</th>\n",
       "      <td>[trotz, aussichtsloser, lage, wehrmacht, ergeb...</td>\n",
       "      <td>[-0.0048, -0.183]</td>\n",
       "    </tr>\n",
       "    <tr>\n",
       "      <th>4</th>\n",
       "      <td>[mein, kommentar, zur, causa, hopp, für]</td>\n",
       "      <td>[]</td>\n",
       "    </tr>\n",
       "  </tbody>\n",
       "</table>\n",
       "</div>"
      ],
      "text/plain": [
       "                                               Token  \\\n",
       "0  [a, venezuela, b, deutschland, während, ncovc,...   \n",
       "1  [assad, putin, wollen, erdoan, lektion, erteil...   \n",
       "2  [hoff, dinger, kann, a, amol, fahren, können, ...   \n",
       "3  [trotz, aussichtsloser, lage, wehrmacht, ergeb...   \n",
       "4           [mein, kommentar, zur, causa, hopp, für]   \n",
       "\n",
       "                                          Vector  \n",
       "0                                             []  \n",
       "1  [-0.0048, -0.0468, -0.0603, -0.1483, -0.0048]  \n",
       "2                                       [0.2318]  \n",
       "3                              [-0.0048, -0.183]  \n",
       "4                                             []  "
      ]
     },
     "execution_count": 86,
     "metadata": {},
     "output_type": "execute_result"
    }
   ],
   "source": [
    "tweets = tweets.to_frame(name='Token')\n",
    "tweets['Vector'] = tweets['Token'].apply(vectorize)\n",
    "tweets.head()"
   ]
  },
  {
   "cell_type": "markdown",
   "metadata": {},
   "source": [
    "#### 3.1.3 Label"
   ]
  },
  {
   "cell_type": "markdown",
   "metadata": {},
   "source": [
    "Dieser Schritt fügt den Tweets eine Stimmung auf Basis der vektorisierten Tokens hinzu. Dabei summieren wir die jeweiligen Stimmungswerte aller im Tweet enthaltenen Wörter und schauen ob ihre Summe negativ oder positiv ausfällt. \n",
    "\n",
    "Erinnern wir uns zurück an die Stimmungslage im Intervall `['negativ', 'positiv']` annotiert die `get_labels()` Funktion im folgenden jeden Tweet anhand seiner Vektoren."
   ]
  },
  {
   "cell_type": "code",
   "execution_count": 87,
   "metadata": {},
   "outputs": [],
   "source": [
    "def get_labels(tweet):\n",
    "    \"\"\"Label tweets according to vocabulary.\"\"\"\n",
    "    \n",
    "    score = np.sum(tweet)\n",
    "            \n",
    "    if score > 0.0:\n",
    "        return 'positiv'\n",
    "    elif score < 0.0:\n",
    "        return 'negativ'\n",
    "    else:\n",
    "        return 'neutral'"
   ]
  },
  {
   "cell_type": "code",
   "execution_count": 88,
   "metadata": {},
   "outputs": [
    {
     "data": {
      "text/html": [
       "<div>\n",
       "<style scoped>\n",
       "    .dataframe tbody tr th:only-of-type {\n",
       "        vertical-align: middle;\n",
       "    }\n",
       "\n",
       "    .dataframe tbody tr th {\n",
       "        vertical-align: top;\n",
       "    }\n",
       "\n",
       "    .dataframe thead th {\n",
       "        text-align: right;\n",
       "    }\n",
       "</style>\n",
       "<table border=\"1\" class=\"dataframe\">\n",
       "  <thead>\n",
       "    <tr style=\"text-align: right;\">\n",
       "      <th></th>\n",
       "      <th>Token</th>\n",
       "      <th>Vector</th>\n",
       "      <th>Label</th>\n",
       "    </tr>\n",
       "  </thead>\n",
       "  <tbody>\n",
       "    <tr>\n",
       "      <th>0</th>\n",
       "      <td>[a, venezuela, b, deutschland, während, ncovc,...</td>\n",
       "      <td>[]</td>\n",
       "      <td>neutral</td>\n",
       "    </tr>\n",
       "    <tr>\n",
       "      <th>1</th>\n",
       "      <td>[assad, putin, wollen, erdoan, lektion, erteil...</td>\n",
       "      <td>[-0.0048, -0.0468, -0.0603, -0.1483, -0.0048]</td>\n",
       "      <td>negativ</td>\n",
       "    </tr>\n",
       "    <tr>\n",
       "      <th>2</th>\n",
       "      <td>[hoff, dinger, kann, a, amol, fahren, können, ...</td>\n",
       "      <td>[0.2318]</td>\n",
       "      <td>positiv</td>\n",
       "    </tr>\n",
       "    <tr>\n",
       "      <th>3</th>\n",
       "      <td>[trotz, aussichtsloser, lage, wehrmacht, ergeb...</td>\n",
       "      <td>[-0.0048, -0.183]</td>\n",
       "      <td>negativ</td>\n",
       "    </tr>\n",
       "    <tr>\n",
       "      <th>4</th>\n",
       "      <td>[mein, kommentar, zur, causa, hopp, für]</td>\n",
       "      <td>[]</td>\n",
       "      <td>neutral</td>\n",
       "    </tr>\n",
       "  </tbody>\n",
       "</table>\n",
       "</div>"
      ],
      "text/plain": [
       "                                               Token  \\\n",
       "0  [a, venezuela, b, deutschland, während, ncovc,...   \n",
       "1  [assad, putin, wollen, erdoan, lektion, erteil...   \n",
       "2  [hoff, dinger, kann, a, amol, fahren, können, ...   \n",
       "3  [trotz, aussichtsloser, lage, wehrmacht, ergeb...   \n",
       "4           [mein, kommentar, zur, causa, hopp, für]   \n",
       "\n",
       "                                          Vector    Label  \n",
       "0                                             []  neutral  \n",
       "1  [-0.0048, -0.0468, -0.0603, -0.1483, -0.0048]  negativ  \n",
       "2                                       [0.2318]  positiv  \n",
       "3                              [-0.0048, -0.183]  negativ  \n",
       "4                                             []  neutral  "
      ]
     },
     "execution_count": 88,
     "metadata": {},
     "output_type": "execute_result"
    }
   ],
   "source": [
    "tweets['Label'] = tweets['Vector'].apply(get_labels)\n",
    "tweets.head()"
   ]
  },
  {
   "cell_type": "markdown",
   "metadata": {},
   "source": [
    "Welches Label bekommen Tweets, dessen Summe _0_ ist, weil entweder keine Wörter gefunden werden oder sich die Stimmungswerte neutralisieren?"
   ]
  },
  {
   "cell_type": "code",
   "execution_count": 89,
   "metadata": {},
   "outputs": [
    {
     "data": {
      "application/vnd.jupyter.widget-view+json": {
       "model_id": "95b0551e68d04bffa8b211aab9cd403c",
       "version_major": 2,
       "version_minor": 0
      },
      "text/plain": [
       "Output()"
      ]
     },
     "metadata": {},
     "output_type": "display_data"
    },
    {
     "data": {
      "application/vnd.jupyter.widget-view+json": {
       "model_id": "9377c4942aad4eadabea23285ce9fa56",
       "version_major": 2,
       "version_minor": 0
      },
      "text/plain": [
       "Output()"
      ]
     },
     "metadata": {},
     "output_type": "display_data"
    },
    {
     "data": {
      "application/vnd.jupyter.widget-view+json": {
       "model_id": "9489a336432a43b7ad7dec669d54dede",
       "version_major": 2,
       "version_minor": 0
      },
      "text/plain": [
       "Output()"
      ]
     },
     "metadata": {},
     "output_type": "display_data"
    }
   ],
   "source": [
    "#hideInput\n",
    "texte_lm.show_task(316)"
   ]
  },
  {
   "cell_type": "markdown",
   "metadata": {},
   "source": [
    "Neutrale Tweets sind für unsere binäre Klassifikation nicht relevant und werden verworfen."
   ]
  },
  {
   "cell_type": "code",
   "execution_count": 90,
   "metadata": {},
   "outputs": [
    {
     "data": {
      "text/html": [
       "<div>\n",
       "<style scoped>\n",
       "    .dataframe tbody tr th:only-of-type {\n",
       "        vertical-align: middle;\n",
       "    }\n",
       "\n",
       "    .dataframe tbody tr th {\n",
       "        vertical-align: top;\n",
       "    }\n",
       "\n",
       "    .dataframe thead th {\n",
       "        text-align: right;\n",
       "    }\n",
       "</style>\n",
       "<table border=\"1\" class=\"dataframe\">\n",
       "  <thead>\n",
       "    <tr style=\"text-align: right;\">\n",
       "      <th></th>\n",
       "      <th>Token</th>\n",
       "      <th>Vector</th>\n",
       "      <th>Label</th>\n",
       "    </tr>\n",
       "  </thead>\n",
       "  <tbody>\n",
       "    <tr>\n",
       "      <th>1</th>\n",
       "      <td>[assad, putin, wollen, erdoan, lektion, erteil...</td>\n",
       "      <td>[-0.0048, -0.0468, -0.0603, -0.1483, -0.0048]</td>\n",
       "      <td>negativ</td>\n",
       "    </tr>\n",
       "    <tr>\n",
       "      <th>2</th>\n",
       "      <td>[hoff, dinger, kann, a, amol, fahren, können, ...</td>\n",
       "      <td>[0.2318]</td>\n",
       "      <td>positiv</td>\n",
       "    </tr>\n",
       "    <tr>\n",
       "      <th>3</th>\n",
       "      <td>[trotz, aussichtsloser, lage, wehrmacht, ergeb...</td>\n",
       "      <td>[-0.0048, -0.183]</td>\n",
       "      <td>negativ</td>\n",
       "    </tr>\n",
       "    <tr>\n",
       "      <th>7</th>\n",
       "      <td>[boooom, kdealschön, den, tag, über, während, ...</td>\n",
       "      <td>[0.368, 0.0711]</td>\n",
       "      <td>positiv</td>\n",
       "    </tr>\n",
       "    <tr>\n",
       "      <th>8</th>\n",
       "      <td>[gutschein, über, x, b, e, r, u, h, i, g, u, n...</td>\n",
       "      <td>[-0.3429]</td>\n",
       "      <td>negativ</td>\n",
       "    </tr>\n",
       "  </tbody>\n",
       "</table>\n",
       "</div>"
      ],
      "text/plain": [
       "                                               Token  \\\n",
       "1  [assad, putin, wollen, erdoan, lektion, erteil...   \n",
       "2  [hoff, dinger, kann, a, amol, fahren, können, ...   \n",
       "3  [trotz, aussichtsloser, lage, wehrmacht, ergeb...   \n",
       "7  [boooom, kdealschön, den, tag, über, während, ...   \n",
       "8  [gutschein, über, x, b, e, r, u, h, i, g, u, n...   \n",
       "\n",
       "                                          Vector    Label  \n",
       "1  [-0.0048, -0.0468, -0.0603, -0.1483, -0.0048]  negativ  \n",
       "2                                       [0.2318]  positiv  \n",
       "3                              [-0.0048, -0.183]  negativ  \n",
       "7                                [0.368, 0.0711]  positiv  \n",
       "8                                      [-0.3429]  negativ  "
      ]
     },
     "execution_count": 90,
     "metadata": {},
     "output_type": "execute_result"
    }
   ],
   "source": [
    "tweets = tweets.drop(tweets[tweets['Label'] == 'neutral'].index)\n",
    "tweets.head()"
   ]
  },
  {
   "cell_type": "markdown",
   "metadata": {},
   "source": [
    "Wie sieht die Verteilung zwischen negativen und positiven Tweets aus? Ist die Stimmungslage eher negativ oder eher positiv?"
   ]
  },
  {
   "cell_type": "code",
   "execution_count": 91,
   "metadata": {},
   "outputs": [
    {
     "data": {
      "application/vnd.jupyter.widget-view+json": {
       "model_id": "27466dfda0764884a34a9c29ba5b7f59",
       "version_major": 2,
       "version_minor": 0
      },
      "text/plain": [
       "Output()"
      ]
     },
     "metadata": {},
     "output_type": "display_data"
    },
    {
     "data": {
      "application/vnd.jupyter.widget-view+json": {
       "model_id": "fd1a7a7b5ce749cdac798aba003c6025",
       "version_major": 2,
       "version_minor": 0
      },
      "text/plain": [
       "Output()"
      ]
     },
     "metadata": {},
     "output_type": "display_data"
    },
    {
     "data": {
      "application/vnd.jupyter.widget-view+json": {
       "model_id": "7e1c824e6c48480db385b2588e57589a",
       "version_major": 2,
       "version_minor": 0
      },
      "text/plain": [
       "Output()"
      ]
     },
     "metadata": {},
     "output_type": "display_data"
    }
   ],
   "source": [
    "#hideInput\n",
    "texte_lm.show_task(317)"
   ]
  },
  {
   "cell_type": "code",
   "execution_count": 92,
   "metadata": {},
   "outputs": [
    {
     "data": {
      "text/plain": [
       "75423"
      ]
     },
     "execution_count": 92,
     "metadata": {},
     "output_type": "execute_result"
    }
   ],
   "source": [
    "#solution\n",
    "negative_count = tweets['Label'][tweets['Label'] == 'negativ'].count()\n",
    "negative_count"
   ]
  },
  {
   "cell_type": "code",
   "execution_count": 93,
   "metadata": {},
   "outputs": [
    {
     "data": {
      "text/plain": [
       "124462"
      ]
     },
     "execution_count": 93,
     "metadata": {},
     "output_type": "execute_result"
    }
   ],
   "source": [
    "#solution\n",
    "positive_count = tweets['Label'][tweets['Label'] == 'positiv'].count()\n",
    "positive_count"
   ]
  },
  {
   "cell_type": "code",
   "execution_count": 94,
   "metadata": {},
   "outputs": [
    {
     "data": {
      "image/png": "[encoded data removed]",
      "text/plain": [
       "<Figure size 432x288 with 1 Axes>"
      ]
     },
     "metadata": {},
     "output_type": "display_data"
    }
   ],
   "source": [
    "vf.plot_pie([negative_count, positive_count], labels=labels)"
   ]
  },
  {
   "cell_type": "markdown",
   "metadata": {},
   "source": [
    "#### 3.1.4 Features"
   ]
  },
  {
   "cell_type": "markdown",
   "metadata": {},
   "source": [
    "Jetzt fehlt nur noch eine Eingabe für unseren überwachten Klassifikator. Da diese auf Features und Labels angewiesen ist, strukturieren wir sie als einfaches Schlüsselwertpaar mit den Wörtern als Schlüssel und der Stimmung als Wert."
   ]
  },
  {
   "cell_type": "code",
   "execution_count": 95,
   "metadata": {},
   "outputs": [],
   "source": [
    "def get_features(tweets):\n",
    "    for tweet in tweets:\n",
    "        yield dict([(word, True) for word in tweet])"
   ]
  },
  {
   "cell_type": "code",
   "execution_count": 96,
   "metadata": {},
   "outputs": [],
   "source": [
    "def get_features_for_single_tweet(tweet):\n",
    "    return dict([(word, True) for word in tweet])"
   ]
  },
  {
   "cell_type": "code",
   "execution_count": 97,
   "metadata": {},
   "outputs": [],
   "source": [
    "negative_features = get_features(tweets.loc[tweets['Label'] == 'negativ']['Token'])\n",
    "negative_set = [(tweet_dict, 'negativ') for tweet_dict in negative_features]\n",
    "\n",
    "positive_features = get_features(tweets.loc[tweets['Label'] == 'positiv']['Token'])\n",
    "positive_set = [(tweet_dict, 'positiv') for tweet_dict in positive_features]\n",
    "\n",
    "data_set = negative_set + positive_set"
   ]
  },
  {
   "cell_type": "code",
   "execution_count": 98,
   "metadata": {},
   "outputs": [],
   "source": [
    "divider = int(len(data_set) * 0.8) # 80 % for training\n",
    "train_set = data_set[ : divider]\n",
    "test_set = data_set[divider : ]\n",
    "assert len(train_set) + len(test_set) == len (data_set)"
   ]
  },
  {
   "cell_type": "markdown",
   "metadata": {},
   "source": [
    "### 3.2 Textdaten klassifizieren"
   ]
  },
  {
   "cell_type": "markdown",
   "metadata": {},
   "source": [
    "#### 3.2.1 Überwachte Klassifikation"
   ]
  },
  {
   "cell_type": "markdown",
   "metadata": {},
   "source": [
    "Mithilfe des [Naive Bayes](https://www.nltk.org/_modules/nltk/classify/naivebayes.html) Algorithmus führen wir eine überwachte Klassifizierung aus. Dabei versucht der Klassifikator eine Gruppe von Features ihrer wahrscheinlichsten Klasse (hier: Stimmung) zuzuordnen. In unserem Fall repräsentiert jedes Wort im Tweet ein Feature, wonach ein Feature-Set alle Wörter eines Tweets beinhaltet. In der folgenden Animation wird der Lernprozess des Klassifikators auf Basis von drei Klassen veranschaulicht:\n",
    "\n",
    "![Naive Bayes](https://upload.wikimedia.org/wikipedia/commons/b/b4/Naive_Bayes_Classifier.gif)"
   ]
  },
  {
   "cell_type": "code",
   "execution_count": 99,
   "metadata": {},
   "outputs": [],
   "source": [
    "from nltk import NaiveBayesClassifier, classify"
   ]
  },
  {
   "cell_type": "markdown",
   "metadata": {},
   "source": [
    "Im Folgenden wird unser Klassifikator als `NaiveBayesClassifier` mithilfe von NLTK erzeugt und trainiert."
   ]
  },
  {
   "cell_type": "code",
   "execution_count": 100,
   "metadata": {},
   "outputs": [],
   "source": [
    "classifier = NaiveBayesClassifier.train(train_set)"
   ]
  },
  {
   "cell_type": "markdown",
   "metadata": {},
   "source": [
    "Wie lautet das informativste Wort des Klassifikators?"
   ]
  },
  {
   "cell_type": "code",
   "execution_count": 101,
   "metadata": {},
   "outputs": [
    {
     "data": {
      "application/vnd.jupyter.widget-view+json": {
       "model_id": "059d325dfc7f4a81852ac64f0c7a2898",
       "version_major": 2,
       "version_minor": 0
      },
      "text/plain": [
       "Output()"
      ]
     },
     "metadata": {},
     "output_type": "display_data"
    },
    {
     "data": {
      "application/vnd.jupyter.widget-view+json": {
       "model_id": "6eb5d9b8cbca4767a7534c45c40b7583",
       "version_major": 2,
       "version_minor": 0
      },
      "text/plain": [
       "Output()"
      ]
     },
     "metadata": {},
     "output_type": "display_data"
    },
    {
     "data": {
      "application/vnd.jupyter.widget-view+json": {
       "model_id": "4b8813b1b8c14596aac2af6b3df1fe71",
       "version_major": 2,
       "version_minor": 0
      },
      "text/plain": [
       "Output()"
      ]
     },
     "metadata": {},
     "output_type": "display_data"
    }
   ],
   "source": [
    "#hideInput\n",
    "texte_lm.show_task(321)"
   ]
  },
  {
   "cell_type": "code",
   "execution_count": 102,
   "metadata": {},
   "outputs": [
    {
     "name": "stdout",
     "output_type": "stream",
     "text": [
      "Most Informative Features\n",
      "                  gefahr = True           negati : positi =    251.1 : 1.0\n",
      "                schlecht = True           negati : positi =    149.2 : 1.0\n",
      "                 unnötig = True           negati : positi =    141.5 : 1.0\n",
      "               verbieten = True           negati : positi =    140.8 : 1.0\n",
      "                  streit = True           negati : positi =    107.9 : 1.0\n",
      "              schlechter = True           negati : positi =    103.3 : 1.0\n",
      "                hässlich = True           negati : positi =    101.2 : 1.0\n",
      "              lächerlich = True           negati : positi =    101.0 : 1.0\n",
      "                schleuse = True           positi : negati =     98.5 : 1.0\n",
      "                zerstört = True           negati : positi =     98.3 : 1.0\n"
     ]
    }
   ],
   "source": [
    "#solution\n",
    "classifier.show_most_informative_features()"
   ]
  },
  {
   "cell_type": "markdown",
   "metadata": {},
   "source": [
    "Wie gut schlägt sich unser Klassifikator auf den Trainingsdaten?"
   ]
  },
  {
   "cell_type": "code",
   "execution_count": 103,
   "metadata": {},
   "outputs": [
    {
     "data": {
      "application/vnd.jupyter.widget-view+json": {
       "model_id": "7c8f6af3512a4ff7b928ad72bca846b9",
       "version_major": 2,
       "version_minor": 0
      },
      "text/plain": [
       "Output()"
      ]
     },
     "metadata": {},
     "output_type": "display_data"
    },
    {
     "data": {
      "application/vnd.jupyter.widget-view+json": {
       "model_id": "c65f104a7a1e4dc898e313c1c719ce36",
       "version_major": 2,
       "version_minor": 0
      },
      "text/plain": [
       "Output()"
      ]
     },
     "metadata": {},
     "output_type": "display_data"
    },
    {
     "data": {
      "application/vnd.jupyter.widget-view+json": {
       "model_id": "529fbc0b120346ad875bddf30d1b67a4",
       "version_major": 2,
       "version_minor": 0
      },
      "text/plain": [
       "Output()"
      ]
     },
     "metadata": {},
     "output_type": "display_data"
    }
   ],
   "source": [
    "#hideInput\n",
    "texte_lm.show_task(322)"
   ]
  },
  {
   "cell_type": "code",
   "execution_count": 104,
   "metadata": {},
   "outputs": [
    {
     "data": {
      "text/plain": [
       "0.8439477699677315"
      ]
     },
     "execution_count": 104,
     "metadata": {},
     "output_type": "execute_result"
    }
   ],
   "source": [
    "#solution\n",
    "classify.accuracy(classifier, train_set) # On Train"
   ]
  },
  {
   "cell_type": "markdown",
   "metadata": {},
   "source": [
    "#### 3.2.2 Unüberwachte Klassifikation"
   ]
  },
  {
   "cell_type": "markdown",
   "metadata": {},
   "source": [
    "Mithilfe von [K-means](https://www.nltk.org/_modules/nltk/cluster/kmeans.html) Clustering führen wir eine unüberwachte Klassifizierung aus. Dabei versucht der Klassifikator ähnliche Vektoren zu einem Cluster (hier: Stimmungen) zu gruppieren. In unserem Fall repräsentiert jedes Wort eines Tweets eine Dimension des Vektors, wonach alle Wörter eines Tweets einen n-dimensionalen Spaltenvektor bilden. In der folgenden Animation wird der Lernprozess des Klassifikators auf Basis von drei Clustern veranschaulicht:\n",
    "\n",
    "![K-means](https://camo.githubusercontent.com/77a842161f9588166625169d1f0944e838837f19b105d7e55d235652cfcc3786/68747470733a2f2f692e696d6775722e636f6d2f6b3458636170492e676966)"
   ]
  },
  {
   "cell_type": "markdown",
   "metadata": {},
   "source": [
    "Natürlich werden nicht immer gleich viele Wörter pro Tweet im Vokabular gefunden. Da unser unüberwachter Klassifikator eine konstante Eingabe benötigt, müssen wir uns auf eine Wortzahl einigen, die vom Modell pro Tweet einbezogen wird. Naheliegend entscheiden wir uns für die im Mittel gefundenen Wörter als `pad_size` und verdoppeln diese."
   ]
  },
  {
   "cell_type": "code",
   "execution_count": 105,
   "metadata": {},
   "outputs": [
    {
     "data": {
      "text/plain": [
       "4"
      ]
     },
     "execution_count": 105,
     "metadata": {},
     "output_type": "execute_result"
    }
   ],
   "source": [
    "pad_size = int(np.round(np.mean([len(vector) for vector in tweets['Vector']])))\n",
    "pad_size *= 2\n",
    "pad_size"
   ]
  },
  {
   "cell_type": "markdown",
   "metadata": {},
   "source": [
    "Fehlende Werte werden mit der `padding()` Funktion wie folgt aufgefüllt."
   ]
  },
  {
   "cell_type": "code",
   "execution_count": 106,
   "metadata": {},
   "outputs": [],
   "source": [
    "def padding(tweet): # Execution time too long\n",
    "    \"\"\"Pad vectors with zeros at the end.\"\"\"\n",
    "       \n",
    "    return np.pad(tweet[:pad_size], (0, pad_size-len(tweet[:pad_size])))"
   ]
  },
  {
   "cell_type": "code",
   "execution_count": 107,
   "metadata": {},
   "outputs": [],
   "source": [
    "from nltk.cluster import KMeansClusterer, euclidean_distance"
   ]
  },
  {
   "cell_type": "markdown",
   "metadata": {},
   "source": [
    "Im Folgenden wird unser unüberwachter Klassifikator als `KMeansClusterer` mithilfe von NLTK erzeugt und trainiert."
   ]
  },
  {
   "cell_type": "code",
   "execution_count": 108,
   "metadata": {},
   "outputs": [],
   "source": [
    "clusterer = KMeansClusterer(2, euclidean_distance, repeats=10, avoid_empty_clusters=True)"
   ]
  },
  {
   "cell_type": "code",
   "execution_count": 109,
   "metadata": {},
   "outputs": [],
   "source": [
    "clusters = clusterer.cluster(tweets['Vector'].apply(padding), True)"
   ]
  },
  {
   "cell_type": "markdown",
   "metadata": {},
   "source": [
    "Mit welcher Funktion holen wir uns die Mittelpunkte der Cluster?"
   ]
  },
  {
   "cell_type": "code",
   "execution_count": 110,
   "metadata": {},
   "outputs": [
    {
     "data": {
      "application/vnd.jupyter.widget-view+json": {
       "model_id": "a30053d59c144bf4ba3cc47fec871f61",
       "version_major": 2,
       "version_minor": 0
      },
      "text/plain": [
       "Output()"
      ]
     },
     "metadata": {},
     "output_type": "display_data"
    },
    {
     "data": {
      "application/vnd.jupyter.widget-view+json": {
       "model_id": "e85e3c0782b64ee4a5de2237cd7e8711",
       "version_major": 2,
       "version_minor": 0
      },
      "text/plain": [
       "Output()"
      ]
     },
     "metadata": {},
     "output_type": "display_data"
    },
    {
     "data": {
      "application/vnd.jupyter.widget-view+json": {
       "model_id": "795cf1ef6e8143d2b063f0030d1d6426",
       "version_major": 2,
       "version_minor": 0
      },
      "text/plain": [
       "Output()"
      ]
     },
     "metadata": {},
     "output_type": "display_data"
    }
   ],
   "source": [
    "#hideInput\n",
    "texte_lm.show_task(323)"
   ]
  },
  {
   "cell_type": "code",
   "execution_count": 111,
   "metadata": {},
   "outputs": [],
   "source": [
    "#solution\n",
    "means = clusterer.means()"
   ]
  },
  {
   "cell_type": "code",
   "execution_count": 112,
   "metadata": {},
   "outputs": [
    {
     "data": {
      "image/png": "[encoded data removed]",
      "text/plain": [
       "<Figure size 432x288 with 1 Axes>"
      ]
     },
     "metadata": {
      "needs_background": "light"
     },
     "output_type": "display_data"
    }
   ],
   "source": [
    "vf.plot_clusters(means)"
   ]
  },
  {
   "cell_type": "markdown",
   "metadata": {},
   "source": [
    "<div style=\"background-color: #150458; padding: 5px;\"></div>\n",
    "\n",
    "## 4. Verwendung"
   ]
  },
  {
   "cell_type": "markdown",
   "metadata": {},
   "source": [
    "[Zurück zur Übersicht](#Lernmodul-zur-Verarbeitung-und-Analyse-von-Textdaten)"
   ]
  },
  {
   "cell_type": "markdown",
   "metadata": {},
   "source": [
    "In der Verwendungsdomäne werden zum Abschluss die Stimmung eigener Tweets vorhergesagt.\n",
    "\n",
    "Welche Schritte ein Tweet innerhalb der Verwendung durchläuft verdeutlicht die folgende Abbildung:\n",
    "\n",
    "![Model](./img/usage_flow.png)"
   ]
  },
  {
   "cell_type": "markdown",
   "metadata": {},
   "source": [
    "### 4.1 Textdaten vorhersagen"
   ]
  },
  {
   "cell_type": "markdown",
   "metadata": {},
   "source": [
    "Exemplarisch wird ein frei erfundener negativer Tweet betrachtet:\n",
    "\n",
    "> Was für ein schlechtes Lernmodul"
   ]
  },
  {
   "cell_type": "code",
   "execution_count": 113,
   "metadata": {},
   "outputs": [],
   "source": [
    "negative = \"Was für ein schlechtes Lernmodul\""
   ]
  },
  {
   "cell_type": "markdown",
   "metadata": {},
   "source": [
    "Ebenfalls wird ein positives Beispiel betrachtet:\n",
    "\n",
    "> Was für ein gutes Lernmodul"
   ]
  },
  {
   "cell_type": "code",
   "execution_count": 114,
   "metadata": {},
   "outputs": [],
   "source": [
    "positive = \"Was für ein gutes Lernmodul\""
   ]
  },
  {
   "cell_type": "markdown",
   "metadata": {},
   "source": [
    "Im produktiven Einsatz müssten diese Beispiele ebenfalls die Datendomäne durchlaufen, was wir uns in diesem Fall ersparen."
   ]
  },
  {
   "cell_type": "markdown",
   "metadata": {},
   "source": [
    "Zuletzt werden 100 zufällige Tweets aus dem Datensatz vorhergesagt."
   ]
  },
  {
   "cell_type": "code",
   "execution_count": 115,
   "metadata": {},
   "outputs": [],
   "source": [
    "train_sample = tweets.sample(100) # 100 random tweets"
   ]
  },
  {
   "cell_type": "markdown",
   "metadata": {},
   "source": [
    "#### 4.1.1 Überwachter Klassifikator"
   ]
  },
  {
   "cell_type": "markdown",
   "metadata": {},
   "source": [
    "[Zurück zur überwachten Klassifikation](#3.2.1-Überwachte-Klassifikation)"
   ]
  },
  {
   "cell_type": "markdown",
   "metadata": {},
   "source": [
    "Welche Stimmung drückt unser negatives Beispiel nach Vorhersage der überwachten Klassifizierung aus?"
   ]
  },
  {
   "cell_type": "code",
   "execution_count": 116,
   "metadata": {},
   "outputs": [
    {
     "data": {
      "text/plain": [
       "'negativ'"
      ]
     },
     "execution_count": 116,
     "metadata": {},
     "output_type": "execute_result"
    }
   ],
   "source": [
    "classifier.classify(get_features_for_single_tweet(negative.split()))"
   ]
  },
  {
   "cell_type": "markdown",
   "metadata": {},
   "source": [
    "Welche Stimmung drückt unser positives Beispiel nach Vorhersage der überwachten Klassifizierung aus?"
   ]
  },
  {
   "cell_type": "code",
   "execution_count": 117,
   "metadata": {},
   "outputs": [
    {
     "data": {
      "text/plain": [
       "'positiv'"
      ]
     },
     "execution_count": 117,
     "metadata": {},
     "output_type": "execute_result"
    }
   ],
   "source": [
    "classifier.classify(get_features_for_single_tweet(positive.split()))"
   ]
  },
  {
   "cell_type": "markdown",
   "metadata": {},
   "source": [
    "Wie schlägt sich unser überwachter Klassifikator im Detail? Dafür klassifizieren wir beispielhaft 100 Tweets über die `supervised_classifier()` Funktion."
   ]
  },
  {
   "cell_type": "code",
   "execution_count": 118,
   "metadata": {},
   "outputs": [],
   "source": [
    "def supervised_classifier(tweets):\n",
    "    \"\"\"Supervised classifier\"\"\"\n",
    "    \n",
    "    print('#\\tSoll\\tIst\\t∆\\tTweet')\n",
    "    \n",
    "    negative = 0\n",
    "    positive = 0\n",
    "    error = 0\n",
    "    for tweet in tweets.itertuples():\n",
    "        \n",
    "        label = tweet.Label\n",
    "        features = get_features_for_single_tweet(tweet.Token)\n",
    "        prediction = classifier.classify(features)\n",
    "            \n",
    "        if label != prediction: \n",
    "            delta = 'X'\n",
    "            error += 1\n",
    "        else: \n",
    "            delta = ' '\n",
    "        \n",
    "        if prediction == 'negativ':\n",
    "            negative += 1\n",
    "            \n",
    "        else:\n",
    "            positive += 1\n",
    "            \n",
    "        print('%i\\t%s\\t%s\\t%s\\t%.100s' % (tweet.Index, label, prediction, delta, tweets_copy.replace(regex={r'\\n' :  ' '}).iloc[tweet.Index]))\n",
    "        \n",
    "    print('\\nGenauigkeit:', 1 - error / tweets.shape[0])\n",
    "    vf.plot_pie([negative, positive], labels=labels)"
   ]
  },
  {
   "cell_type": "code",
   "execution_count": 119,
   "metadata": {},
   "outputs": [
    {
     "name": "stdout",
     "output_type": "stream",
     "text": [
      "#\tSoll\tIst\t∆\tTweet\n",
      "30837\tnegativ\tnegativ\t \t@ulfposh Der Feind steht auch links wie die a linken und Grünen\n",
      "187736\tpositiv\tpositiv\t \tHallo liebe Leser, hier sind Ihre aktuellsten News zum Thema Pedelecs &amp; E-Bikes für die KW 14/20\n",
      "34643\tpositiv\tpositiv\t \t@hime_shayenne Bitte schön, freu mich auf ein rp mit dir wieder zu haben\n",
      "330766\tpositiv\tnegativ\tX\t@Nightmare_Keks Nicht ganz richtig gehofft ... es waren nach ersten Erkenntnissen \"Linksextreme\" die\n",
      "232191\tpositiv\tpositiv\t \tWenn deine Freunde während der Corona-Zeit heiraten und du eine Nähmaschine und Plotter hast 💁🏻‍♀️ #\n",
      "3264\tpositiv\tpositiv\t \tMuttersauen stecken ihr halbes Leben in engen Käfigen fest - sie können sich nicht einmal umdrehen. \n",
      "330243\tpositiv\tnegativ\tX\t@KTwiesel1 Diese äußerst umfassende Antwort war klar. 😂 Logisch, und passt zum Thema \"Du\" wie die Fa\n",
      "238961\tnegativ\tnegativ\t \tWährend alle auf tägl Coronazahlen starren, entfaltet sich eine #Wirtschaftskrise, wie wir sie seit \n",
      "329990\tnegativ\tnegativ\t \t@BlondJedi Und als nächstes Geschlechter Trennung in öffentlichen Verkehrsmitteln, Schulen, Schwimmb\n",
      "296299\tnegativ\tnegativ\t \t@AndiBuett @hambachfrau @OlafScholz @SvenjaSchulze68 @peteraltmaier @HeinenUlla @a_pinkwart @stattbr\n",
      "297127\tnegativ\tnegativ\t \t@LowerClassMag Die Bundesregierung hat den Souverän und Steuerzahler über den Tisch gezogen. Wie bei\n",
      "88013\tnegativ\tnegativ\t \tmann das esse i dere kackbude wird vo tag zu tag schlimmer ich iss scho sit eme jahr nur radiesli un\n",
      "322464\tpositiv\tpositiv\t \t@krautraub Die Kinder haben es schon in den nächsten Wochen schon in den letzten Wochen gesehen das \n",
      "275343\tnegativ\tnegativ\t \tDas wäre schön wenn es eine Halluzination gewesen ist @twitkalk, aber leider konnten wir uns den Mei\n",
      "199871\tpositiv\tpositiv\t \tIn Leipzig Möckern Blücherstraße war gestern ein Polizeieinsatz. Ist im Erfahrung zu bringen, was da\n",
      "267140\tpositiv\tnegativ\tX\t1,9 Mrd. für die Luftfahrt und als Sicherheit haben wir..Aktien? Frage des Tages: Wie viel sind die \n",
      "210442\tpositiv\tpositiv\t \t@Drachenfrucht88 Dankeschön &amp; Guten Morgen 🍀☕😁\n",
      "273912\tpositiv\tpositiv\t \tEndlich! Seelendorn ist in der Produktion 😉 Ich freu mich! Was lange währt … und so, ihr kennt das j\n",
      "153409\tpositiv\tnegativ\tX\tMan kann auch einfach das bedingungslose Einkommen endlich einführen???\n",
      "193306\tpositiv\tpositiv\t \tNächster Beitrag der Reihe \"Corona-Viren und Immunsystem\".  https://t.co/Hj81kXy8Bx  Wie die anderen\n",
      "197051\tnegativ\tnegativ\t \tIn Stammheim eröffnete der #effzeh eine erste Ausgabestelle der Kölner Tafel wieder. In den vergange\n",
      "65016\tpositiv\tpositiv\t \t@MarinaDieCrazy Ich bin auch geil gerade süße und will dich 😏\n",
      "154699\tpositiv\tpositiv\t \tDas gute Leben geht weiter ...\n",
      "245473\tpositiv\tpositiv\t \t@Debra44312353 @CharlyM2014 Dankeschön - wünsche dir auch einen prima Abend.👊\n",
      "225022\tnegativ\tnegativ\t \tdfhtefgikhfg 8834FADE :Battle ID I need backup! Lvl 120 Shiva https://t.co/xKg1H4qzcX\n",
      "87651\tpositiv\tnegativ\tX\tDie Situation in #Griechenland und #Italien wird der AfD einen riesigen Schub bei den nächsten Wahle\n",
      "1122\tpositiv\tnegativ\tX\tJa klar, jetzt erklärt bitte unbedingt den ganzen Trotteln, wie man Desinfektionsmittel selber herst\n",
      "231254\tpositiv\tnegativ\tX\tHeyy Ich bin neu hier und heiße Leonie 🥰@dielochis sind meine Idole und die besten Menschen der Welt\n",
      "176160\tpositiv\tpositiv\t \t@Angelika_Ruider @BAG_OFSP_UFSP Naja, ich find das nicht unsympathisch 😄. Die US-Armee machte das au\n",
      "137608\tnegativ\tnegativ\t \tHeute ist der große griechische Widerstandskämpfer Manolis Glezos im Alter von 97 Jahren verstorben.\n",
      "111002\tnegativ\tnegativ\t \tHeute Morgen wurde im Hausflur eines Mehrfamilienhauses in #Marzahn eine 53-Jährige leblos aufgefund\n",
      "4725\tpositiv\tnegativ\tX\tWieso spiel ich besser auf NA E als auf EU\n",
      "214162\tpositiv\tnegativ\tX\t@Karl08773603 @Iberia_de @Iberia_de bis Sie meine private Nachricht nicht antworten werde ich weiter\n",
      "332639\tpositiv\tnegativ\tX\t@JannisU1 @PhilipLeButt @OseloHH @LibanFa Kannst mir sagen was du willst, aber bei allen Vorteilen, \n",
      "192082\tpositiv\tnegativ\tX\t\"Die nationalen Exportverbote sind auf Druck der 🇪🇺 Kommission mittlerweile aufgehoben worden – ein \n",
      "158735\tnegativ\tnegativ\t \t@RichieR13749975 @krone_at Ja, das ist ja der totale Wahnsinn! Man kann diesen MNS nur 1x verwenden,\n",
      "169678\tpositiv\tnegativ\tX\t@SebastianWetz @avi_shomer @DLF Sie vergessen doch hier nicht etwa zu erwähnen, dass rot&amp;grün in\n",
      "374\tpositiv\tpositiv\t \t\"Schließe nur das Tor schnell und dann geht's los...\" 😅 https://t.co/ikA1akk3tG\n",
      "290549\tpositiv\tnegativ\tX\t@EconomicEthics @monikaturyna @RalphJanik @EPichlbauer @rendiwagner Finde halt, dass deine Sprache d\n",
      "89771\tpositiv\tnegativ\tX\tStell die mal vor du nennst dich Feminist*in aber machst Frauen als Hoe runter weil sie die Freiheit\n",
      "60985\tpositiv\tpositiv\t \thttps://t.co/x3OXHYxrqS  Wer nicht gucken, sondern lieber mal was drüber hören will kann sich auch d\n",
      "139290\tnegativ\tnegativ\t \tRheinland-Pfalz &amp; Saarland #CDU und #AfD kritisieren Vereinbarung mit #Ditib #Islamisierung #Isl\n",
      "194583\tpositiv\tpositiv\t \tDas Flüchtlingslager bei Ritsona auf der Insel Euböa ist seit Mittwoch (1.4.) unter #Quarantäne gest\n",
      "262092\tpositiv\tpositiv\t \t@Louchen06 Moin Süße, danke, das wünsche ich dir auch von Herzen.🙋🏻‍♀️😘🌼\n",
      "148610\tnegativ\tnegativ\t \tIch lade mein Handy seit ungelogen heute morgen auf und wie viel Prozent akku habe ich?  genau 61%  \n",
      "244793\tpositiv\tpositiv\t \t@miriam_vollmer Die andere Alternative: Ich hatte für mein Rentnerdasein leise an eine Promotion ged\n",
      "69749\tpositiv\tnegativ\tX\t@gaborhalasz1 Die EU Staaten sind souverän. Es gab und gibt keine einvernehmliche Lösung  seit 5 Jah\n",
      "120027\tpositiv\tpositiv\t \tEon platziert nächsten Green Bonds mit 750 Millionen Euro: Die Laufzeit beträgt 5,5 Jahre. Das Inter\n",
      "237399\tpositiv\tpositiv\t \tLetzte Chance: Jetzt zum Webinar für Studierende anmelden 💪  Das Angebot richtet sich an #MINT-Studi\n",
      "89912\tnegativ\tnegativ\t \tUnd in der Zwischenzeit hat die Bundesregierung weiter islamistische Milizen in Syrien gefördert, di\n",
      "120171\tnegativ\tnegativ\t \t„Frage nicht, was dein Land für dich tun kann – frage, was du für dein Land tun kannst.“ (JFK) Frage\n",
      "210970\tnegativ\tnegativ\t \t@twimdo @ernstschreier @Tob_Sch @Bot_TwLehrerZ @belwue @KM_BW @RegierungBW @Landtag_BW @digitalfreib\n",
      "34853\tnegativ\tnegativ\t \t@pmarylovegood feel u, hab das problem such so oft haha\n",
      "123961\tnegativ\tnegativ\t \tNoch mal kurz zur Erklärung:  Meinungsfrei heißt: das du deine Meinung äußern kannst, ohne dass du o\n",
      "254922\tpositiv\tnegativ\tX\t@Zersplittert Noch besser ist wenn du hörst „vielleicht ist die Zeit im nächsten Leben“\n",
      "335634\tpositiv\tpositiv\t \tIn einem #Corona-Spezial des neuen @masifunde Podcast „Global gedacht“ beschäftigen sich meine Freun\n",
      "59829\tpositiv\tnegativ\tX\t@gwl_freely Als Beamter im Dienst darf man sich nunmal nicht parteipolitisch äußern, weder pro oder \n",
      "81313\tpositiv\tnegativ\tX\tBisher ist noch niemand mit dem Corona-Virus in Mecklenburg Vorpommern bekannt. Nächste Woche  begin\n",
      "293183\tpositiv\tnegativ\tX\t@memories_XY @RoswithaSchaef1 @LaurinLues Seit den 1980ern wurde ein braves Volk herangezüchtet, so \n",
      "266127\tnegativ\tnegativ\t \t@meckernfueralle @JulianHille @OllerQuestenman @mamisimonemami @Moormoewe @Miss_teached Ich sehe, du\n",
      "70384\tpositiv\tnegativ\tX\t@Lu_Honeychurch hm, online sicher nicht so cool weil viel auf bildern und ton basiert, aber gibt ihn\n",
      "162089\tpositiv\tnegativ\tX\t@florianklenk Es wäre halt auch einfacher wenn auch die Wiener daheim bleiben würden. So schwer ist \n",
      "48653\tnegativ\tnegativ\t \t@GabileinDe Ich habe heute Pech. Die S-Bahn steht an der Friedrichstraße und es geht nicht weiter.\n",
      "37627\tpositiv\tpositiv\t \t@iqrardar die können nicht einmal kochen ahhahshshsh die würden wochenlang nur nudeln mit fertig soß\n",
      "117453\tpositiv\tnegativ\tX\tWas so winzig kleine Veränderungen manchmal für große Ergebnisse erzielen! 💕  #relaxed #nomorestress\n",
      "134128\tpositiv\tnegativ\tX\tJetzt muss aber auch die Deutschland-Flagge unbedingt vom Reichstag runter.  Sonst könnte ja noch je\n",
      "136614\tnegativ\tnegativ\t \tSchreibweise ✅ Hoax  Bedeutung ✅ falsche Viruswarnung (Computervirus) in den sozialen Medien o. per \n",
      "192507\tpositiv\tpositiv\t \tSchuldenexplosion in Italien. Führt die Corona-Krise zum Euro-Crash? #Dexit #Italy #EU #Coronakrise \n",
      "293999\tpositiv\tpositiv\t \t@RechtBlond @kryptomania84 @KristinPfeiffe3 @TweefAnwalt @RA_ABiat @Diligentia_ @SteveJRitter @bette\n",
      "264760\tpositiv\tpositiv\t \t@Hamburgo_Wurst @Wario_Gamer92 @Inori88Crown @RagnaDoll @ReadyPlayerTom @vardashde @nerdweib @BadWol\n",
      "145268\tpositiv\tpositiv\t \tNeu auf der GWUP-Homepage: „Corona-Mythen A-Z“ https://t.co/c4einzICa4\n",
      "160830\tpositiv\tpositiv\t \t@EmrahFener_ es war schön dich gekannt zu haben 🤝🏼\n",
      "184375\tpositiv\tpositiv\t \tfreu mich so sehr meine nägel morgen neu zu machen ❤️\n",
      "30338\tnegativ\tnegativ\t \t@ekhn_de @BistumMainz Seit über 20 Jahren ein großes Ärgernis für Landgemeinden. Statt solch landver\n",
      "128596\tpositiv\tpositiv\t \tDU WARST ALLES !!! EINMAL WIEDER: DANKBARKEIT 🙏🏻❤️\n",
      "294072\tnegativ\tnegativ\t \tUnd einfach kein guter look, nichts ist unattraktiver als jemandem hinterherzulaufen (cheater und lü\n",
      "218501\tpositiv\tnegativ\tX\t@ekimlila Ich schaue auch in d.USA und den Iran(sofern überhaupt Infos kommen).  Der 10.Bericht in d\n",
      "191114\tnegativ\tnegativ\t \tEs ist hart und ihr müsst jetzt stark sein: „Dieser Wurm könnte unser Ur-Ur-Ur-Ur-Urahn sein“ #Biodi\n",
      "172373\tpositiv\tnegativ\tX\t@Rina_Kay_x3 Erstmal schön auf den Grill kacken. 😊\n",
      "63719\tnegativ\tnegativ\t \t@Markus_Wojahn @frank_thiermann @spdde Betroffenheit, die nur betroffen sein will, kann auch ganz sc\n",
      "229981\tpositiv\tpositiv\t \tGigantischer Asteroid rast auf Erde zu! https://t.co/kpXt1AEwqg https://t.co/OOoTkm7nBD https://t.co\n",
      "21283\tnegativ\tnegativ\t \t@normalminimal @emmudlekrem @BurnerGinTonic @DagmarKolmanic @Joerg_Meuthen Ironie? Wenn Sie gesagt h\n",
      "81602\tpositiv\tpositiv\t \tDas #Coronavirus hat #Deutschland fest im Griff: Bilder aus einem #Supermarkt in #Mainz.  #Hamsterkä\n",
      "230673\tnegativ\tnegativ\t \tDie Comic-Presseschau von \"die neunte\" auf @Comic_de vom 30. April 2020, u. a. werden wieder mehrere\n",
      "280991\tpositiv\tpositiv\t \t@Metalbabe10 Schön mal wieder was von dir zu lesen und zu sehen😊😍\n",
      "289170\tpositiv\tnegativ\tX\t@arminia Wenn ich die Gewissheit hätte, dass in der 150€ Box ein Trikot + der große Lohmann wäre, da\n",
      "146124\tpositiv\tpositiv\t \tDebatte um Schutzmaßnahme: Stoffmasken gegen das Coronavirus: Wie gut sind sie wirklich? Ganz Deutsc\n",
      "218129\tpositiv\tpositiv\t \t@joausdo Otto und ich kommen uns dieser Tage fast näher als mir lieb ist\n",
      "179099\tpositiv\tpositiv\t \t@bierguru_85 @den_maxflei @LenertPaulette Zu engem Deel huet et domaadder ze dinn, dat bäi eis d‘Pan\n",
      "322984\tnegativ\tnegativ\t \t@PatOderSo @Alfred996 @Volksverpetzer @Die_Insider @heuteshow @Gegen_die_AfD Und die in letzter Zeit\n",
      "170496\tnegativ\tnegativ\t \t@sweetbabyjezzus @HemingHose Leude i henn ein tft problem es ist wie heroin\n",
      "248671\tpositiv\tpositiv\t \t@Sternefahrer Danke wünsche ich dir auch, so schön ist er aber nicht, muss noch was für die Uni mach\n",
      "45665\tnegativ\tnegativ\t \tWenn irgendwann krankheitsbedingt niemand mehr arbeitet und beim Herrn Professor das fließende Wasse\n",
      "142073\tpositiv\tnegativ\tX\tWas glaubt ihr nächstes Jahr Angela Merkel macht eigene Partei evtl macht Jens spahn mit dann aus de\n",
      "69592\tpositiv\tnegativ\tX\t@Zuccarlini Ich wurde mal nach dem Ausweis gefragt als ich Vanilleextraxt gekauft hab, I feel u\n",
      "72849\tnegativ\tnegativ\t \tHopp! Idioten die sich „Fans“ nennen! Es ist ein „roter“ Faden. Besser „RotRotGrün“!Was man der AfD \n",
      "136153\tpositiv\tnegativ\tX\tNach der im Geschäft verteilten Maske kratzt mich jetzt der Hals. Sicher psychisch, weil ich nicht s\n",
      "185389\tpositiv\tnegativ\tX\tGutes Video von @simpliYT.  Das verdeutlicht mal wieder sehr gut, wieso es von Vorteil ist, große Me\n",
      "146529\tnegativ\tnegativ\t \tIch habe: Angst vor nächster Woche. Was hab ich mir dabei gedacht cfhkbgnkithk\n",
      "17245\tpositiv\tnegativ\tX\t@PupsBakunin Wie gesagt: wenn das beseitigen sämtlicher möglicher Verstopfungen nichts bringt, schei\n",
      "\n",
      "Genauigkeit: 0.69\n"
     ]
    },
    {
     "data": {
      "image/png": "[encoded data removed]",
      "text/plain": [
       "<Figure size 432x288 with 1 Axes>"
      ]
     },
     "metadata": {},
     "output_type": "display_data"
    }
   ],
   "source": [
    "supervised_classifier(train_sample) # On Train"
   ]
  },
  {
   "cell_type": "markdown",
   "metadata": {},
   "source": [
    "#### Unüberwachter Klassifikator"
   ]
  },
  {
   "cell_type": "markdown",
   "metadata": {},
   "source": [
    "[Zurück zur unüberwachten Klassifikation](#3.2.2-Unüberwachte-Klassifikation)"
   ]
  },
  {
   "cell_type": "markdown",
   "metadata": {},
   "source": [
    "Welche Stimmung drückt unser negatives Beispiel nach Vorhersage der unüberwachten Klassifizierung aus?"
   ]
  },
  {
   "cell_type": "code",
   "execution_count": 120,
   "metadata": {},
   "outputs": [
    {
     "data": {
      "text/plain": [
       "'negativ'"
      ]
     },
     "execution_count": 120,
     "metadata": {},
     "output_type": "execute_result"
    }
   ],
   "source": [
    "labels[clusterer.classify(padding(vectorize((negative.split()))))]"
   ]
  },
  {
   "cell_type": "markdown",
   "metadata": {},
   "source": [
    "Welche Stimmung drückt unser positives Beispiel nach Vorhersage der unüberwachten Klassifizierung aus?"
   ]
  },
  {
   "cell_type": "code",
   "execution_count": 121,
   "metadata": {},
   "outputs": [
    {
     "data": {
      "text/plain": [
       "'positiv'"
      ]
     },
     "execution_count": 121,
     "metadata": {},
     "output_type": "execute_result"
    }
   ],
   "source": [
    "labels[clusterer.classify(padding(vectorize((positive.split()))))]"
   ]
  },
  {
   "cell_type": "markdown",
   "metadata": {},
   "source": [
    "Wie schlägt sich unser unüberwachter Klassifikator im Detail? Dafür klassifizieren 100 zufällig ausgewählte Tweets über die `unsupervised_classifier()` Funktion."
   ]
  },
  {
   "cell_type": "code",
   "execution_count": 122,
   "metadata": {},
   "outputs": [],
   "source": [
    "def unsupervised_classifier(tweets):\n",
    "    \"\"\"Unsupervised classifier\"\"\"\n",
    "    \n",
    "    print('#\\tSoll\\tIst\\t∆\\tTweet')\n",
    "    \n",
    "    negative = 0\n",
    "    positive = 0\n",
    "    error = 0\n",
    "    for tweet in tweets.itertuples():\n",
    "        \n",
    "        label = tweet.Label\n",
    "        vector = padding(tweet.Vector)\n",
    "        prediction = clusterer.classify(vector)\n",
    "        \n",
    "        if prediction == 0: \n",
    "            cluster = 'negativ'\n",
    "            negative += 1\n",
    "            \n",
    "        else:\n",
    "            cluster = 'positiv'\n",
    "            positive += 1\n",
    "            \n",
    "        if label != cluster: \n",
    "            delta = 'X'\n",
    "            error += 1\n",
    "            \n",
    "        else: delta = ' '\n",
    "            \n",
    "        print('%i\\t%s\\t%s\\t%s\\t%.100s' % (tweet.Index, label, cluster, delta, tweets_copy.replace(regex={r'\\n' :  ' '}).iloc[tweet.Index]))\n",
    "   \n",
    "    print('\\nGenauigkeit:', 1 - error / tweets.shape[0])\n",
    "    vf.plot_pie([negative, positive], labels=labels)"
   ]
  },
  {
   "cell_type": "code",
   "execution_count": 123,
   "metadata": {},
   "outputs": [
    {
     "name": "stdout",
     "output_type": "stream",
     "text": [
      "#\tSoll\tIst\t∆\tTweet\n",
      "30837\tnegativ\tnegativ\t \t@ulfposh Der Feind steht auch links wie die a linken und Grünen\n",
      "187736\tpositiv\tpositiv\t \tHallo liebe Leser, hier sind Ihre aktuellsten News zum Thema Pedelecs &amp; E-Bikes für die KW 14/20\n",
      "34643\tpositiv\tpositiv\t \t@hime_shayenne Bitte schön, freu mich auf ein rp mit dir wieder zu haben\n",
      "330766\tpositiv\tpositiv\t \t@Nightmare_Keks Nicht ganz richtig gehofft ... es waren nach ersten Erkenntnissen \"Linksextreme\" die\n",
      "232191\tpositiv\tpositiv\t \tWenn deine Freunde während der Corona-Zeit heiraten und du eine Nähmaschine und Plotter hast 💁🏻‍♀️ #\n",
      "3264\tpositiv\tpositiv\t \tMuttersauen stecken ihr halbes Leben in engen Käfigen fest - sie können sich nicht einmal umdrehen. \n",
      "330243\tpositiv\tpositiv\t \t@KTwiesel1 Diese äußerst umfassende Antwort war klar. 😂 Logisch, und passt zum Thema \"Du\" wie die Fa\n",
      "238961\tnegativ\tpositiv\tX\tWährend alle auf tägl Coronazahlen starren, entfaltet sich eine #Wirtschaftskrise, wie wir sie seit \n",
      "329990\tnegativ\tnegativ\t \t@BlondJedi Und als nächstes Geschlechter Trennung in öffentlichen Verkehrsmitteln, Schulen, Schwimmb\n",
      "296299\tnegativ\tpositiv\tX\t@AndiBuett @hambachfrau @OlafScholz @SvenjaSchulze68 @peteraltmaier @HeinenUlla @a_pinkwart @stattbr\n",
      "297127\tnegativ\tpositiv\tX\t@LowerClassMag Die Bundesregierung hat den Souverän und Steuerzahler über den Tisch gezogen. Wie bei\n",
      "88013\tnegativ\tnegativ\t \tmann das esse i dere kackbude wird vo tag zu tag schlimmer ich iss scho sit eme jahr nur radiesli un\n",
      "322464\tpositiv\tpositiv\t \t@krautraub Die Kinder haben es schon in den nächsten Wochen schon in den letzten Wochen gesehen das \n",
      "275343\tnegativ\tpositiv\tX\tDas wäre schön wenn es eine Halluzination gewesen ist @twitkalk, aber leider konnten wir uns den Mei\n",
      "199871\tpositiv\tpositiv\t \tIn Leipzig Möckern Blücherstraße war gestern ein Polizeieinsatz. Ist im Erfahrung zu bringen, was da\n",
      "267140\tpositiv\tpositiv\t \t1,9 Mrd. für die Luftfahrt und als Sicherheit haben wir..Aktien? Frage des Tages: Wie viel sind die \n",
      "210442\tpositiv\tpositiv\t \t@Drachenfrucht88 Dankeschön &amp; Guten Morgen 🍀☕😁\n",
      "273912\tpositiv\tpositiv\t \tEndlich! Seelendorn ist in der Produktion 😉 Ich freu mich! Was lange währt … und so, ihr kennt das j\n",
      "153409\tpositiv\tpositiv\t \tMan kann auch einfach das bedingungslose Einkommen endlich einführen???\n",
      "193306\tpositiv\tpositiv\t \tNächster Beitrag der Reihe \"Corona-Viren und Immunsystem\".  https://t.co/Hj81kXy8Bx  Wie die anderen\n",
      "197051\tnegativ\tnegativ\t \tIn Stammheim eröffnete der #effzeh eine erste Ausgabestelle der Kölner Tafel wieder. In den vergange\n",
      "65016\tpositiv\tpositiv\t \t@MarinaDieCrazy Ich bin auch geil gerade süße und will dich 😏\n",
      "154699\tpositiv\tpositiv\t \tDas gute Leben geht weiter ...\n",
      "245473\tpositiv\tpositiv\t \t@Debra44312353 @CharlyM2014 Dankeschön - wünsche dir auch einen prima Abend.👊\n",
      "225022\tnegativ\tpositiv\tX\tdfhtefgikhfg 8834FADE :Battle ID I need backup! Lvl 120 Shiva https://t.co/xKg1H4qzcX\n",
      "87651\tpositiv\tpositiv\t \tDie Situation in #Griechenland und #Italien wird der AfD einen riesigen Schub bei den nächsten Wahle\n",
      "1122\tpositiv\tpositiv\t \tJa klar, jetzt erklärt bitte unbedingt den ganzen Trotteln, wie man Desinfektionsmittel selber herst\n",
      "231254\tpositiv\tpositiv\t \tHeyy Ich bin neu hier und heiße Leonie 🥰@dielochis sind meine Idole und die besten Menschen der Welt\n",
      "176160\tpositiv\tpositiv\t \t@Angelika_Ruider @BAG_OFSP_UFSP Naja, ich find das nicht unsympathisch 😄. Die US-Armee machte das au\n",
      "137608\tnegativ\tpositiv\tX\tHeute ist der große griechische Widerstandskämpfer Manolis Glezos im Alter von 97 Jahren verstorben.\n",
      "111002\tnegativ\tpositiv\tX\tHeute Morgen wurde im Hausflur eines Mehrfamilienhauses in #Marzahn eine 53-Jährige leblos aufgefund\n",
      "4725\tpositiv\tpositiv\t \tWieso spiel ich besser auf NA E als auf EU\n",
      "214162\tpositiv\tpositiv\t \t@Karl08773603 @Iberia_de @Iberia_de bis Sie meine private Nachricht nicht antworten werde ich weiter\n",
      "332639\tpositiv\tpositiv\t \t@JannisU1 @PhilipLeButt @OseloHH @LibanFa Kannst mir sagen was du willst, aber bei allen Vorteilen, \n",
      "192082\tpositiv\tpositiv\t \t\"Die nationalen Exportverbote sind auf Druck der 🇪🇺 Kommission mittlerweile aufgehoben worden – ein \n",
      "158735\tnegativ\tpositiv\tX\t@RichieR13749975 @krone_at Ja, das ist ja der totale Wahnsinn! Man kann diesen MNS nur 1x verwenden,\n",
      "169678\tpositiv\tpositiv\t \t@SebastianWetz @avi_shomer @DLF Sie vergessen doch hier nicht etwa zu erwähnen, dass rot&amp;grün in\n",
      "374\tpositiv\tpositiv\t \t\"Schließe nur das Tor schnell und dann geht's los...\" 😅 https://t.co/ikA1akk3tG\n",
      "290549\tpositiv\tpositiv\t \t@EconomicEthics @monikaturyna @RalphJanik @EPichlbauer @rendiwagner Finde halt, dass deine Sprache d\n",
      "89771\tpositiv\tpositiv\t \tStell die mal vor du nennst dich Feminist*in aber machst Frauen als Hoe runter weil sie die Freiheit\n",
      "60985\tpositiv\tpositiv\t \thttps://t.co/x3OXHYxrqS  Wer nicht gucken, sondern lieber mal was drüber hören will kann sich auch d\n",
      "139290\tnegativ\tnegativ\t \tRheinland-Pfalz &amp; Saarland #CDU und #AfD kritisieren Vereinbarung mit #Ditib #Islamisierung #Isl\n",
      "194583\tpositiv\tpositiv\t \tDas Flüchtlingslager bei Ritsona auf der Insel Euböa ist seit Mittwoch (1.4.) unter #Quarantäne gest\n",
      "262092\tpositiv\tpositiv\t \t@Louchen06 Moin Süße, danke, das wünsche ich dir auch von Herzen.🙋🏻‍♀️😘🌼\n",
      "148610\tnegativ\tnegativ\t \tIch lade mein Handy seit ungelogen heute morgen auf und wie viel Prozent akku habe ich?  genau 61%  \n",
      "244793\tpositiv\tpositiv\t \t@miriam_vollmer Die andere Alternative: Ich hatte für mein Rentnerdasein leise an eine Promotion ged\n",
      "69749\tpositiv\tpositiv\t \t@gaborhalasz1 Die EU Staaten sind souverän. Es gab und gibt keine einvernehmliche Lösung  seit 5 Jah\n",
      "120027\tpositiv\tpositiv\t \tEon platziert nächsten Green Bonds mit 750 Millionen Euro: Die Laufzeit beträgt 5,5 Jahre. Das Inter\n",
      "237399\tpositiv\tpositiv\t \tLetzte Chance: Jetzt zum Webinar für Studierende anmelden 💪  Das Angebot richtet sich an #MINT-Studi\n",
      "89912\tnegativ\tpositiv\tX\tUnd in der Zwischenzeit hat die Bundesregierung weiter islamistische Milizen in Syrien gefördert, di\n",
      "120171\tnegativ\tpositiv\tX\t„Frage nicht, was dein Land für dich tun kann – frage, was du für dein Land tun kannst.“ (JFK) Frage\n",
      "210970\tnegativ\tpositiv\tX\t@twimdo @ernstschreier @Tob_Sch @Bot_TwLehrerZ @belwue @KM_BW @RegierungBW @Landtag_BW @digitalfreib\n",
      "34853\tnegativ\tnegativ\t \t@pmarylovegood feel u, hab das problem such so oft haha\n",
      "123961\tnegativ\tpositiv\tX\tNoch mal kurz zur Erklärung:  Meinungsfrei heißt: das du deine Meinung äußern kannst, ohne dass du o\n",
      "254922\tpositiv\tpositiv\t \t@Zersplittert Noch besser ist wenn du hörst „vielleicht ist die Zeit im nächsten Leben“\n",
      "335634\tpositiv\tpositiv\t \tIn einem #Corona-Spezial des neuen @masifunde Podcast „Global gedacht“ beschäftigen sich meine Freun\n",
      "59829\tpositiv\tpositiv\t \t@gwl_freely Als Beamter im Dienst darf man sich nunmal nicht parteipolitisch äußern, weder pro oder \n",
      "81313\tpositiv\tpositiv\t \tBisher ist noch niemand mit dem Corona-Virus in Mecklenburg Vorpommern bekannt. Nächste Woche  begin\n",
      "293183\tpositiv\tpositiv\t \t@memories_XY @RoswithaSchaef1 @LaurinLues Seit den 1980ern wurde ein braves Volk herangezüchtet, so \n",
      "266127\tnegativ\tpositiv\tX\t@meckernfueralle @JulianHille @OllerQuestenman @mamisimonemami @Moormoewe @Miss_teached Ich sehe, du\n",
      "70384\tpositiv\tpositiv\t \t@Lu_Honeychurch hm, online sicher nicht so cool weil viel auf bildern und ton basiert, aber gibt ihn\n",
      "162089\tpositiv\tpositiv\t \t@florianklenk Es wäre halt auch einfacher wenn auch die Wiener daheim bleiben würden. So schwer ist \n",
      "48653\tnegativ\tnegativ\t \t@GabileinDe Ich habe heute Pech. Die S-Bahn steht an der Friedrichstraße und es geht nicht weiter.\n",
      "37627\tpositiv\tpositiv\t \t@iqrardar die können nicht einmal kochen ahhahshshsh die würden wochenlang nur nudeln mit fertig soß\n",
      "117453\tpositiv\tnegativ\tX\tWas so winzig kleine Veränderungen manchmal für große Ergebnisse erzielen! 💕  #relaxed #nomorestress\n",
      "134128\tpositiv\tpositiv\t \tJetzt muss aber auch die Deutschland-Flagge unbedingt vom Reichstag runter.  Sonst könnte ja noch je\n",
      "136614\tnegativ\tnegativ\t \tSchreibweise ✅ Hoax  Bedeutung ✅ falsche Viruswarnung (Computervirus) in den sozialen Medien o. per \n",
      "192507\tpositiv\tpositiv\t \tSchuldenexplosion in Italien. Führt die Corona-Krise zum Euro-Crash? #Dexit #Italy #EU #Coronakrise \n",
      "293999\tpositiv\tpositiv\t \t@RechtBlond @kryptomania84 @KristinPfeiffe3 @TweefAnwalt @RA_ABiat @Diligentia_ @SteveJRitter @bette\n",
      "264760\tpositiv\tpositiv\t \t@Hamburgo_Wurst @Wario_Gamer92 @Inori88Crown @RagnaDoll @ReadyPlayerTom @vardashde @nerdweib @BadWol\n",
      "145268\tpositiv\tpositiv\t \tNeu auf der GWUP-Homepage: „Corona-Mythen A-Z“ https://t.co/c4einzICa4\n",
      "160830\tpositiv\tpositiv\t \t@EmrahFener_ es war schön dich gekannt zu haben 🤝🏼\n",
      "184375\tpositiv\tpositiv\t \tfreu mich so sehr meine nägel morgen neu zu machen ❤️\n",
      "30338\tnegativ\tpositiv\tX\t@ekhn_de @BistumMainz Seit über 20 Jahren ein großes Ärgernis für Landgemeinden. Statt solch landver\n",
      "128596\tpositiv\tpositiv\t \tDU WARST ALLES !!! EINMAL WIEDER: DANKBARKEIT 🙏🏻❤️\n",
      "294072\tnegativ\tpositiv\tX\tUnd einfach kein guter look, nichts ist unattraktiver als jemandem hinterherzulaufen (cheater und lü\n",
      "218501\tpositiv\tpositiv\t \t@ekimlila Ich schaue auch in d.USA und den Iran(sofern überhaupt Infos kommen).  Der 10.Bericht in d\n",
      "191114\tnegativ\tpositiv\tX\tEs ist hart und ihr müsst jetzt stark sein: „Dieser Wurm könnte unser Ur-Ur-Ur-Ur-Urahn sein“ #Biodi\n",
      "172373\tpositiv\tpositiv\t \t@Rina_Kay_x3 Erstmal schön auf den Grill kacken. 😊\n",
      "63719\tnegativ\tpositiv\tX\t@Markus_Wojahn @frank_thiermann @spdde Betroffenheit, die nur betroffen sein will, kann auch ganz sc\n",
      "229981\tpositiv\tpositiv\t \tGigantischer Asteroid rast auf Erde zu! https://t.co/kpXt1AEwqg https://t.co/OOoTkm7nBD https://t.co\n",
      "21283\tnegativ\tpositiv\tX\t@normalminimal @emmudlekrem @BurnerGinTonic @DagmarKolmanic @Joerg_Meuthen Ironie? Wenn Sie gesagt h\n",
      "81602\tpositiv\tpositiv\t \tDas #Coronavirus hat #Deutschland fest im Griff: Bilder aus einem #Supermarkt in #Mainz.  #Hamsterkä\n",
      "230673\tnegativ\tpositiv\tX\tDie Comic-Presseschau von \"die neunte\" auf @Comic_de vom 30. April 2020, u. a. werden wieder mehrere\n",
      "280991\tpositiv\tpositiv\t \t@Metalbabe10 Schön mal wieder was von dir zu lesen und zu sehen😊😍\n",
      "289170\tpositiv\tpositiv\t \t@arminia Wenn ich die Gewissheit hätte, dass in der 150€ Box ein Trikot + der große Lohmann wäre, da\n",
      "146124\tpositiv\tpositiv\t \tDebatte um Schutzmaßnahme: Stoffmasken gegen das Coronavirus: Wie gut sind sie wirklich? Ganz Deutsc\n",
      "218129\tpositiv\tpositiv\t \t@joausdo Otto und ich kommen uns dieser Tage fast näher als mir lieb ist\n",
      "179099\tpositiv\tpositiv\t \t@bierguru_85 @den_maxflei @LenertPaulette Zu engem Deel huet et domaadder ze dinn, dat bäi eis d‘Pan\n",
      "322984\tnegativ\tnegativ\t \t@PatOderSo @Alfred996 @Volksverpetzer @Die_Insider @heuteshow @Gegen_die_AfD Und die in letzter Zeit\n",
      "170496\tnegativ\tnegativ\t \t@sweetbabyjezzus @HemingHose Leude i henn ein tft problem es ist wie heroin\n",
      "248671\tpositiv\tpositiv\t \t@Sternefahrer Danke wünsche ich dir auch, so schön ist er aber nicht, muss noch was für die Uni mach\n",
      "45665\tnegativ\tpositiv\tX\tWenn irgendwann krankheitsbedingt niemand mehr arbeitet und beim Herrn Professor das fließende Wasse\n",
      "142073\tpositiv\tpositiv\t \tWas glaubt ihr nächstes Jahr Angela Merkel macht eigene Partei evtl macht Jens spahn mit dann aus de\n",
      "69592\tpositiv\tpositiv\t \t@Zuccarlini Ich wurde mal nach dem Ausweis gefragt als ich Vanilleextraxt gekauft hab, I feel u\n",
      "72849\tnegativ\tpositiv\tX\tHopp! Idioten die sich „Fans“ nennen! Es ist ein „roter“ Faden. Besser „RotRotGrün“!Was man der AfD \n",
      "136153\tpositiv\tpositiv\t \tNach der im Geschäft verteilten Maske kratzt mich jetzt der Hals. Sicher psychisch, weil ich nicht s\n",
      "185389\tpositiv\tpositiv\t \tGutes Video von @simpliYT.  Das verdeutlicht mal wieder sehr gut, wieso es von Vorteil ist, große Me\n",
      "146529\tnegativ\tnegativ\t \tIch habe: Angst vor nächster Woche. Was hab ich mir dabei gedacht cfhkbgnkithk\n",
      "17245\tpositiv\tpositiv\t \t@PupsBakunin Wie gesagt: wenn das beseitigen sämtlicher möglicher Verstopfungen nichts bringt, schei\n",
      "\n",
      "Genauigkeit: 0.78\n"
     ]
    },
    {
     "data": {
      "image/png": "[encoded data removed]",
      "text/plain": [
       "<Figure size 432x288 with 1 Axes>"
      ]
     },
     "metadata": {},
     "output_type": "display_data"
    }
   ],
   "source": [
    "unsupervised_classifier(train_sample) # On Train"
   ]
  },
  {
   "cell_type": "markdown",
   "metadata": {},
   "source": [
    "<div style=\"background-color: #150458; padding: 5px;\"></div>\n",
    "\n",
    "## 5. Abschluss"
   ]
  },
  {
   "cell_type": "markdown",
   "metadata": {},
   "source": [
    "[Zurück zur Übersicht](#Lernmodul-zur-Verarbeitung-und-Analyse-von-Textdaten)"
   ]
  },
  {
   "cell_type": "markdown",
   "metadata": {},
   "source": [
    "Zum Abschluss des Lernmoduls folgen einige Verständnisfragen, bevor deine Gesamtpunktzahl errechnet wird..."
   ]
  },
  {
   "cell_type": "markdown",
   "metadata": {},
   "source": [
    "Welche Eingabe benötigt der überwachte Klassifikator?"
   ]
  },
  {
   "cell_type": "code",
   "execution_count": 124,
   "metadata": {},
   "outputs": [
    {
     "data": {
      "application/vnd.jupyter.widget-view+json": {
       "model_id": "c63809e4c2e744dca3f0b2bfdacf242b",
       "version_major": 2,
       "version_minor": 0
      },
      "text/plain": [
       "Output()"
      ]
     },
     "metadata": {},
     "output_type": "display_data"
    },
    {
     "data": {
      "application/vnd.jupyter.widget-view+json": {
       "model_id": "09ffb4fe0b3f444d8381e0f466312c9c",
       "version_major": 2,
       "version_minor": 0
      },
      "text/plain": [
       "Output()"
      ]
     },
     "metadata": {},
     "output_type": "display_data"
    },
    {
     "data": {
      "application/vnd.jupyter.widget-view+json": {
       "model_id": "c7bbb64db96f4d8da4d65375f1c98572",
       "version_major": 2,
       "version_minor": 0
      },
      "text/plain": [
       "Output()"
      ]
     },
     "metadata": {},
     "output_type": "display_data"
    }
   ],
   "source": [
    "texte_lm.show_task(501)"
   ]
  },
  {
   "cell_type": "markdown",
   "metadata": {},
   "source": [
    "Welche Eingabe benötigt der unüberwachte Klassifikator?"
   ]
  },
  {
   "cell_type": "code",
   "execution_count": 125,
   "metadata": {},
   "outputs": [
    {
     "data": {
      "application/vnd.jupyter.widget-view+json": {
       "model_id": "fca04185614f4fb39124d9d08854faa8",
       "version_major": 2,
       "version_minor": 0
      },
      "text/plain": [
       "Output()"
      ]
     },
     "metadata": {},
     "output_type": "display_data"
    },
    {
     "data": {
      "application/vnd.jupyter.widget-view+json": {
       "model_id": "087db71e86344dbfae5c9d9c0deb248f",
       "version_major": 2,
       "version_minor": 0
      },
      "text/plain": [
       "Output()"
      ]
     },
     "metadata": {},
     "output_type": "display_data"
    },
    {
     "data": {
      "application/vnd.jupyter.widget-view+json": {
       "model_id": "789f688146164a819626a7821e4565fc",
       "version_major": 2,
       "version_minor": 0
      },
      "text/plain": [
       "Output()"
      ]
     },
     "metadata": {},
     "output_type": "display_data"
    }
   ],
   "source": [
    "texte_lm.show_task(502)"
   ]
  },
  {
   "cell_type": "markdown",
   "metadata": {},
   "source": [
    "**Ergebnis:**\n",
    "\n",
    "Du hast folgende Punktzahl erreicht..."
   ]
  },
  {
   "cell_type": "code",
   "execution_count": 126,
   "metadata": {},
   "outputs": [
    {
     "data": {
      "text/plain": [
       "0.0"
      ]
     },
     "execution_count": 126,
     "metadata": {},
     "output_type": "execute_result"
    }
   ],
   "source": [
    "texte_lm.get_score()"
   ]
  },
  {
   "cell_type": "markdown",
   "metadata": {},
   "source": [
    "**Zusammenfassung:**\n",
    "\n",
    "Das vergangene Lernmodul hat einen Einblick in die Texterkennung als Teilgebiet des _NLP_ gegeben. Im Zuge einer Stimmungsanalyse von aktuellen Beiträgen auf Twitter, haben wir zunächst Rohdaten beschafft und erkundet. Irrelevante Inhalte wurden auf Basis von Sonderzeichen, URL-Schema und der Länge des resultierenden Beitrags, identifiziert und verworfen, sodass die Rohdaten als nächstes in ein Modell eingebettet wurden. Dieses Modell klassifizierte die Daten entweder überwacht oder unüberwacht, was verschiedene Einbettungsschritte hervorrief. Letztendlich konnte sowohl der überwachte als auch der unüberwachte Klassifikator die Stimmung eines Tweets einschätzen und vorhersagen."
   ]
  },
  {
   "cell_type": "markdown",
   "metadata": {},
   "source": [
    "**Glossar:**\n",
    "\n",
    "* NLP (Natural Language Processing)\n",
    "    * Verarbeitung menschlicher Sprache\n",
    "* NLTK (Natural Language ToolKit)\n",
    "    * Python-Bibliothek für die Verarbeitung menschlicher Sprache"
   ]
  },
  {
   "cell_type": "markdown",
   "metadata": {},
   "source": [
    "**Weiterführende Lernmodule:**\n",
    "\n",
    "- [Lernmodul zu Datamining mit Scikit Learn](https://projectbase.medien.hs-duesseldorf.de/eild.nrw-module/lernmodul-scikit)"
   ]
  },
  {
   "cell_type": "markdown",
   "metadata": {},
   "source": [
    "**Weiterführende Inhalte:**\n",
    "\n",
    "* Leitfäden\n",
    "    * [Cookbook by NLTK](https://www.nltk.org/book/)\n",
    "    * [Recurrent neural networks by TensorFlow](https://www.tensorflow.org/guide/keras/rnn?hl=en)\n",
    "    * [Text classification by Google Developers](https://developers.google.com/machine-learning/guides/text-classification)\n",
    "* Vektorisierung\n",
    "    * [TextBlob](https://textblob.readthedocs.io/en/dev/)\n",
    "    * [Word2Vec](https://radimrehurek.com/gensim/models/word2vec.html)\n",
    "* Tutorials\n",
    "    * [Basic text classification by TensorFlow](https://www.tensorflow.org/tutorials/keras/text_classification?hl=en)"
   ]
  },
  {
   "cell_type": "markdown",
   "metadata": {},
   "source": [
    "**Referenzen:**\n",
    "\n",
    "<a id=\"1\">[1]</a> Nane Kratzke. (2020). Monthly Samples of German Tweets (Version 2020-04) [Data set]. Zenodo. http://doi.org/10.5281/zenodo.3783478\n",
    "\n",
    "<a id=\"2\">[2]</a> R. Remus, U. Quasthoff & G. Heyer: SentiWS - a Publicly Available German-language Resource for Sentiment Analysis. In: Proceedings of the 7th International Language Resources and Evaluation (LREC'10), pp. 1168-1171, 2010"
   ]
  }
 ],
 "metadata": {
  "kernelspec": {
   "display_name": "Python 3",
   "language": "python",
   "name": "python3"
  },
  "language_info": {
   "codemirror_mode": {
    "name": "ipython",
    "version": 3
   },
   "file_extension": ".py",
   "mimetype": "text/x-python",
   "name": "python",
   "nbconvert_exporter": "python",
   "pygments_lexer": "ipython3",
   "version": "3.7.0"
  }
 },
 "nbformat": 4,
 "nbformat_minor": 4
}
