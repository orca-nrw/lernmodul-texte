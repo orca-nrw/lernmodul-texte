{
 "cells": [
  {
   "cell_type": "markdown",
   "metadata": {},
   "source": [
    "![WordCloud](./img/wordcloud.png)"
   ]
  },
  {
   "cell_type": "code",
   "execution_count": 1,
   "metadata": {},
   "outputs": [
    {
     "name": "stdout",
     "output_type": "stream",
     "text": [
      "Hello, stranger!\n"
     ]
    }
   ],
   "source": [
    "#hideInput\n",
    "try:\n",
    "    username\n",
    "except NameError:\n",
    "    username = 'stranger'\n",
    "\n",
    "print('Hello, ' + username + '!')"
   ]
  },
  {
   "cell_type": "markdown",
   "metadata": {},
   "source": [
    "# Lernmodul zur Verarbeitung und Analyse von Textdaten"
   ]
  },
  {
   "cell_type": "markdown",
   "metadata": {},
   "source": [
    "Das Verarbeiten menschlicher Sprache gilt als Voraussetzung für eine erfolgreiche Mensch-Maschine-Kommunikation. Zusätzlich kann sie dabei helfen eine vom Mensch unternommene Textanalyse zu unterstützen. Handelt es sich bei diesem Kommentar um unerwünschte Inhalte? Verbreitet dieser Beitrag Falschinformationen? Und welche Meinung will der Verfasser mit dieser Rezension zum Ausdruck bringen?\n",
    "\n",
    "Im folgenden Lernmodul wird mithilfe computergestützter Methoden eine Antwort auf solche Problemstellungen gesucht. Im Zuge der Stimmungsanalyse (Sentiment Analysis) wird versucht die Intention eines Textbeitrages zu identifizieren um bspw. zwischen einer negativen und einer positiven Aussage zu unterscheiden. Diese Unterscheidung übernimmt ein Modell (hier: Klassifikator), welches auf Basis eines Vokabulars (hier: Labels) eine Vorhersage (hier: Stimmung) über vorliegende Textbeiträge (hier: Tweets) trifft.\n",
    "\n",
    "Dabei durchläuft das Lernmodul auf dem Weg von Textbeiträgen als Eingabe hin zu einer Stimmungsvorhersage als Ausgabe die drei Domänen *Daten*, *Modell* und *Verwendung* wie die folgende Abbildung verdeutlicht:\n",
    "\n",
    "![Pipeline](./img/flow.png)"
   ]
  },
  {
   "cell_type": "markdown",
   "metadata": {},
   "source": [
    "**Übersicht über die Lerninhalte:**\n",
    "\n",
    "1. [Einführung](#1.-Einführung)\n",
    "    1. [Motivation](#1.1-Motivation)\n",
    "    2. [Voraussetzungen](#1.2-Voraussetzungen)\n",
    "2. [Daten](#2.-Daten)\n",
    "    1. [Textdaten beschaffen](#2.1-Textdaten-beschaffen)\n",
    "    2. [Textdaten erkunden](#2.2-Textdaten-erkunden)\n",
    "    3. [Textdaten aufbereiten](#2.3-Textdaten-aufbereiten)\n",
    "        1. [Zeichen bereinigen](#2.3.1-Zeichen-bereinigen)\n",
    "        2. [Wörter bereinigen](#2.3.2-Wörter-bereinigen)\n",
    "        3. [Tweets bereinigen](#2.3.3-Tweets-bereinigen)\n",
    "3. [Modell](#3.-Modell)\n",
    "    1. [Textdaten einbetten](#3.1-Textdaten-einbetten)\n",
    "        1. [Vokabular](#3.1.1-Vokabular)\n",
    "        2. [Vektorisierung](#3.1.2-Vektorisierung)\n",
    "        3. [Label](#3.1.3-Label)\n",
    "        4. [Features](#3.1.4-Features)\n",
    "    2. [Textdaten klassifizieren](#3.2-Textdaten-klassifizieren)\n",
    "        1. [Überwachte Klassifikation](#3.2.1-Überwachte-Klassifikation)\n",
    "        2. [Unüberwachte Klassifikation](#3.2.2-Unüberwachte-Klassifikation)\n",
    "4. [Verwendung](#4.-Verwendung)\n",
    "    1. [Textdaten vorhersagen](#4.1-Textdaten-vorhersagen)\n",
    "        1. [Überwachter Klassifikator](#4.1.1-Überwachter-Klassifikator)\n",
    "        2. [Unüberwachter Klassifikator](#4.1.2-Unüberwachter-Klassifikator)\n",
    "5. [Abschluss](#5.-Abschluss)"
   ]
  },
  {
   "cell_type": "markdown",
   "metadata": {},
   "source": [
    "**Lernziele:**\n",
    "\n",
    "Die Teilnehmer lernen in der [Datendomäne](#daten) Textdaten in roher Form Schritt für Schritt in kontextbezogene Daten für eine Textanalyse zu transformieren. Daraufhin bewegen sich die Teilnehmer in der [Modelldomäne](#modell), in der sie die Daten in das Modell einbetten und mittels zweier unterschiedlicher Algorithmen klassifizieren. Last but not least werden die entstandenen Klassifikatoren in der [Verwendungsdomäne](#verwendung) für eine Vorhersage der Stimmung gebraucht."
   ]
  },
  {
   "cell_type": "markdown",
   "metadata": {},
   "source": [
    "**Voraussetzungen:**\n",
    "\n",
    "- [Lernmodul zum Datenimport und zur Datenvorbereitung mit Pandas](https://projectbase.medien.hs-duesseldorf.de/eild.nrw-module/lernmodul-pandas)"
   ]
  },
  {
   "cell_type": "markdown",
   "metadata": {},
   "source": [
    "**Setup für die Aufgabenüberprüfung:**"
   ]
  },
  {
   "cell_type": "code",
   "execution_count": 2,
   "metadata": {},
   "outputs": [
    {
     "data": {
      "text/plain": [
       "<taskreview.learning_module.LearningModule at 0x26699c7a2e8>"
      ]
     },
     "execution_count": 2,
     "metadata": {},
     "output_type": "execute_result"
    }
   ],
   "source": [
    "#hideInput\n",
    "from taskreview.learning_module import LearningModule\n",
    "texte_lm = LearningModule('data/lernmodul_texte.db')\n",
    "texte_lm"
   ]
  },
  {
   "cell_type": "markdown",
   "metadata": {},
   "source": [
    "<div style=\"background-color: #150458; padding: 5px;\"></div>\n",
    "\n",
    "## 1. Einführung"
   ]
  },
  {
   "cell_type": "markdown",
   "metadata": {},
   "source": [
    "[Zurück zur Übersicht](#Lernmodul-zur-Verarbeitung-und-Analyse-von-Textdaten)"
   ]
  },
  {
   "cell_type": "markdown",
   "metadata": {},
   "source": [
    "### 1.1 Motivation"
   ]
  },
  {
   "cell_type": "markdown",
   "metadata": {},
   "source": [
    "Die Verarbeitung menschlicher Sprache (Natural Language Processing, NLP) ist ein prominentes Forschungsfeld der Informatik mit ähnlichem Bekanntheitsgrad wie die Analyse visueller Daten (Computer Vision), welche bspw. das Erkennen von Bildern (Image Recognition) sowie ihre Manipulation (Image Augmentation) betrachtet. Im ersten Fall wollen wir einen bekannten bzw. alten Bildinhalt klassifizieren, während der zweite Fall einen unbekannten bzw. neuen Bildinhalt erzeugt."
   ]
  },
  {
   "cell_type": "markdown",
   "metadata": {},
   "source": [
    "Wechseln wir von Bild- auf Textdaten, lässt sich das Forschungsfeld des _NLP_ auf ähnliche Problemstellungen herunterbrechen, die in der folgenden Auflistung aufgeführt sind:\n",
    "\n",
    "* Texterkennung (Text Recognition)\n",
    "  * Spracherkennung (Speech Recognition)\n",
    "  * Stimmungsanalyse (Sentiment Analysis)\n",
    "* Textmanipulation (Text Augmentation)\n",
    "  * Maschinelle Übersetzung (Machine Translation)\n",
    "  * Automatisches Antworten (Question Answering)"
   ]
  },
  {
   "cell_type": "markdown",
   "metadata": {},
   "source": [
    "Dieses Lernmodul beschäftigt sich mit der ersten Problemstellung, also der Texterkennung, im besonderen mit der Unterscheidung verschiedener Stimmungen, welche der Verfasser eines Textes gehabt haben könnte. Ein aktuelles Anwendungsbeispiel ist die Identifikation von Hassreden, wie sie bspw. von [Facebook](https://www.facebook.com/) im Zuge ihrer [Community Standards](https://www.facebook.com/communitystandards/hate_speech) verboten sind und erkannt werden müssen. Auch könnte man ein Stimmungsbild der Gesellschaft über die Auswertung von Beiträgen auf Twitter betrachten."
   ]
  },
  {
   "cell_type": "markdown",
   "metadata": {},
   "source": [
    "### 1.2 Voraussetzungen"
   ]
  },
  {
   "cell_type": "markdown",
   "metadata": {},
   "source": [
    "Dieses Lernmodul nimmt sich [NumPy](https://numpy.org/) für numerische Berechnungen, [Pandas](https://pandas.pydata.org/) zur Datenverarbeitung und [PyPlot](https://matplotlib.org/api/pyplot_api.html) zur Datenvisualisierung zur Hilfe."
   ]
  },
  {
   "cell_type": "code",
   "execution_count": 3,
   "metadata": {},
   "outputs": [],
   "source": [
    "import numpy as np\n",
    "import pandas as pd"
   ]
  },
  {
   "cell_type": "markdown",
   "metadata": {},
   "source": [
    "Dazu werden die folgenden Skripte zum Einlesen & Visualisieren der Daten benötigt:"
   ]
  },
  {
   "cell_type": "code",
   "execution_count": 4,
   "metadata": {},
   "outputs": [],
   "source": [
    "from utils import data_functions as df\n",
    "from utils import model_functions as mf\n",
    "from utils import vis_functions as vf"
   ]
  },
  {
   "cell_type": "markdown",
   "metadata": {},
   "source": [
    "<div style=\"background-color: #150458; padding: 5px;\"></div>\n",
    "\n",
    "## 2. Daten"
   ]
  },
  {
   "cell_type": "markdown",
   "metadata": {},
   "source": [
    "[Zurück zur Übersicht](#Lernmodul-zur-Verarbeitung-und-Analyse-von-Textdaten)"
   ]
  },
  {
   "cell_type": "markdown",
   "metadata": {},
   "source": [
    "In der Datendomäne beschaffen wir uns zunächst einen Datensatz, welcher aus vielen Beispielen besteht, der die Grundgesamtheit an Daten bildet. Ein Beispiel umfasst dabei mindestens ein, wenn nicht sogar mehrere Merkmale. Ein Merkmal wird dabei durch einen numerischen oder symbolischen Wert verkörpert, der in unserem Fall bspw. ein Text sein kann. Im weiteren Verlauf werden die beschafften Daten begutachtet und bereinigt.\n",
    "\n",
    "Welche Schritte ein Textbeitrag in der Datendomäne durchläuft verdeutlicht die folgende Abbildung:\n",
    "\n",
    "![Daten](./img/data_flow.png)"
   ]
  },
  {
   "cell_type": "markdown",
   "metadata": {},
   "source": [
    "### 2.1 Textdaten beschaffen"
   ]
  },
  {
   "cell_type": "markdown",
   "metadata": {},
   "source": [
    "Wo findet man in der heutigen Zeit aktuelle Daten, welche eine eigene Meinung enthalten? Auf dem Kurznachrichtendienst Twitter. Da aktuelle Daten von Twitter nicht automatisch mit deskriptiven Daten angereichert werden, benötigt ihre Analyse einen gewissen Mehraufwand. Überwachtes Lernen auf einem aufbereiteten Datensatz aus bekannter Ein- und Ausgabe ist in unserem Fall erstmal so nicht möglich, da wir es mit aktuellen Daten zu tun haben, die erst aufbereitet werden müssen."
   ]
  },
  {
   "cell_type": "markdown",
   "metadata": {},
   "source": [
    "Unser Datensatz wird ungefiltert von Twitter extrahiert und monatlich unter der [CC 4.0 International](https://creativecommons.org/licenses/by/4.0/legalcode) Lizenz veröffentlicht [[1]](#1)."
   ]
  },
  {
   "cell_type": "markdown",
   "metadata": {},
   "source": [
    "Unter `data/tweets/` finden sich ein Teil dieser Veröffentlichung als JSON, welche wir zunächst als Rohdateien in `twitter` einlesen..."
   ]
  },
  {
   "cell_type": "code",
   "execution_count": 5,
   "metadata": {},
   "outputs": [],
   "source": [
    "twitter = df.load_json()"
   ]
  },
  {
   "cell_type": "markdown",
   "metadata": {},
   "source": [
    "...sie daraufhin in einen DataFrame abbilden..."
   ]
  },
  {
   "cell_type": "code",
   "execution_count": 6,
   "metadata": {},
   "outputs": [],
   "source": [
    "twitter = map(pd.DataFrame, twitter)"
   ]
  },
  {
   "cell_type": "markdown",
   "metadata": {},
   "source": [
    "...und diese letztendlich zu einem großen Datensatz zusammenfügen."
   ]
  },
  {
   "cell_type": "code",
   "execution_count": 7,
   "metadata": {},
   "outputs": [],
   "source": [
    "twitter = pd.concat(twitter, copy=False)"
   ]
  },
  {
   "cell_type": "markdown",
   "metadata": {},
   "source": [
    "Das war's auch schon mit der Bereitstellung der Daten. Als nächstes gilt es die noch unbekannten Daten zu erkunden."
   ]
  },
  {
   "cell_type": "markdown",
   "metadata": {},
   "source": [
    "### 2.2 Textdaten erkunden"
   ]
  },
  {
   "cell_type": "markdown",
   "metadata": {},
   "source": [
    "Wie im [Lernmodul zum Datenimport und zur Datenvorbereitung mit Pandas](https://projectbase.medien.hs-duesseldorf.de/eild.nrw-module/lernmodul-pandas) kennengelernt, lässt sich über die `head()` Funktionalität der Kopf des Datensatzes betrachten. Wie schaut dieser aus?"
   ]
  },
  {
   "cell_type": "code",
   "execution_count": 8,
   "metadata": {},
   "outputs": [
    {
     "data": {
      "text/html": [
       "<div>\n",
       "<style scoped>\n",
       "    .dataframe tbody tr th:only-of-type {\n",
       "        vertical-align: middle;\n",
       "    }\n",
       "\n",
       "    .dataframe tbody tr th {\n",
       "        vertical-align: top;\n",
       "    }\n",
       "\n",
       "    .dataframe thead th {\n",
       "        text-align: right;\n",
       "    }\n",
       "</style>\n",
       "<table border=\"1\" class=\"dataframe\">\n",
       "  <thead>\n",
       "    <tr style=\"text-align: right;\">\n",
       "      <th></th>\n",
       "      <th>twista</th>\n",
       "      <th>type</th>\n",
       "      <th>id</th>\n",
       "      <th>user</th>\n",
       "      <th>created_at</th>\n",
       "      <th>recorded_at</th>\n",
       "      <th>source</th>\n",
       "      <th>retweets</th>\n",
       "      <th>favourites</th>\n",
       "      <th>lang</th>\n",
       "      <th>...</th>\n",
       "      <th>screen_name</th>\n",
       "      <th>location</th>\n",
       "      <th>description</th>\n",
       "      <th>url</th>\n",
       "      <th>verified</th>\n",
       "      <th>followers</th>\n",
       "      <th>friends</th>\n",
       "      <th>listed</th>\n",
       "      <th>statuses</th>\n",
       "      <th>text</th>\n",
       "    </tr>\n",
       "  </thead>\n",
       "  <tbody>\n",
       "    <tr>\n",
       "      <th>0</th>\n",
       "      <td>0.3.4-b</td>\n",
       "      <td>retweet</td>\n",
       "      <td>1230754419815247873</td>\n",
       "      <td>967699741214756864</td>\n",
       "      <td>2020-02-21T07:21:34+00:00</td>\n",
       "      <td>2020-02-21T07:21:40.179343+00:00</td>\n",
       "      <td>&lt;a href=\"http://twitter.com/download/android\" ...</td>\n",
       "      <td>0.0</td>\n",
       "      <td>0</td>\n",
       "      <td>de</td>\n",
       "      <td>...</td>\n",
       "      <td>NaN</td>\n",
       "      <td>NaN</td>\n",
       "      <td>NaN</td>\n",
       "      <td>NaN</td>\n",
       "      <td>NaN</td>\n",
       "      <td>NaN</td>\n",
       "      <td>NaN</td>\n",
       "      <td>NaN</td>\n",
       "      <td>NaN</td>\n",
       "      <td>NaN</td>\n",
       "    </tr>\n",
       "    <tr>\n",
       "      <th>1</th>\n",
       "      <td>0.3.4-b</td>\n",
       "      <td>retweet</td>\n",
       "      <td>1230754431693549568</td>\n",
       "      <td>887758764232847360</td>\n",
       "      <td>2020-02-21T07:21:37+00:00</td>\n",
       "      <td>2020-02-21T07:21:42.865221+00:00</td>\n",
       "      <td>&lt;a href=\"http://twitter.com/download/android\" ...</td>\n",
       "      <td>0.0</td>\n",
       "      <td>0</td>\n",
       "      <td>de</td>\n",
       "      <td>...</td>\n",
       "      <td>NaN</td>\n",
       "      <td>NaN</td>\n",
       "      <td>NaN</td>\n",
       "      <td>NaN</td>\n",
       "      <td>NaN</td>\n",
       "      <td>NaN</td>\n",
       "      <td>NaN</td>\n",
       "      <td>NaN</td>\n",
       "      <td>NaN</td>\n",
       "      <td>NaN</td>\n",
       "    </tr>\n",
       "    <tr>\n",
       "      <th>2</th>\n",
       "      <td>0.3.4-b</td>\n",
       "      <td>retweet</td>\n",
       "      <td>1230754438144376832</td>\n",
       "      <td>940990109574459393</td>\n",
       "      <td>2020-02-21T07:21:39+00:00</td>\n",
       "      <td>2020-02-21T07:21:44.366736+00:00</td>\n",
       "      <td>&lt;a href=\"http://twitter.com/download/android\" ...</td>\n",
       "      <td>0.0</td>\n",
       "      <td>0</td>\n",
       "      <td>de</td>\n",
       "      <td>...</td>\n",
       "      <td>NaN</td>\n",
       "      <td>NaN</td>\n",
       "      <td>NaN</td>\n",
       "      <td>NaN</td>\n",
       "      <td>NaN</td>\n",
       "      <td>NaN</td>\n",
       "      <td>NaN</td>\n",
       "      <td>NaN</td>\n",
       "      <td>NaN</td>\n",
       "      <td>NaN</td>\n",
       "    </tr>\n",
       "    <tr>\n",
       "      <th>3</th>\n",
       "      <td>0.3.4-b</td>\n",
       "      <td>retweet</td>\n",
       "      <td>1230754446226812929</td>\n",
       "      <td>527892987</td>\n",
       "      <td>2020-02-21T07:21:40+00:00</td>\n",
       "      <td>2020-02-21T07:21:46.321657+00:00</td>\n",
       "      <td>&lt;a href=\"http://twitter.com/download/android\" ...</td>\n",
       "      <td>0.0</td>\n",
       "      <td>0</td>\n",
       "      <td>de</td>\n",
       "      <td>...</td>\n",
       "      <td>NaN</td>\n",
       "      <td>NaN</td>\n",
       "      <td>NaN</td>\n",
       "      <td>NaN</td>\n",
       "      <td>NaN</td>\n",
       "      <td>NaN</td>\n",
       "      <td>NaN</td>\n",
       "      <td>NaN</td>\n",
       "      <td>NaN</td>\n",
       "      <td>NaN</td>\n",
       "    </tr>\n",
       "    <tr>\n",
       "      <th>4</th>\n",
       "      <td>0.3.4-b</td>\n",
       "      <td>retweet</td>\n",
       "      <td>1230754448147800064</td>\n",
       "      <td>3119096980</td>\n",
       "      <td>2020-02-21T07:21:41+00:00</td>\n",
       "      <td>2020-02-21T07:21:46.783086+00:00</td>\n",
       "      <td>&lt;a href=\"https://mobile.twitter.com\" rel=\"nofo...</td>\n",
       "      <td>0.0</td>\n",
       "      <td>0</td>\n",
       "      <td>de</td>\n",
       "      <td>...</td>\n",
       "      <td>NaN</td>\n",
       "      <td>NaN</td>\n",
       "      <td>NaN</td>\n",
       "      <td>NaN</td>\n",
       "      <td>NaN</td>\n",
       "      <td>NaN</td>\n",
       "      <td>NaN</td>\n",
       "      <td>NaN</td>\n",
       "      <td>NaN</td>\n",
       "      <td>NaN</td>\n",
       "    </tr>\n",
       "  </tbody>\n",
       "</table>\n",
       "<p>5 rows × 26 columns</p>\n",
       "</div>"
      ],
      "text/plain": [
       "    twista     type                   id                user  \\\n",
       "0  0.3.4-b  retweet  1230754419815247873  967699741214756864   \n",
       "1  0.3.4-b  retweet  1230754431693549568  887758764232847360   \n",
       "2  0.3.4-b  retweet  1230754438144376832  940990109574459393   \n",
       "3  0.3.4-b  retweet  1230754446226812929           527892987   \n",
       "4  0.3.4-b  retweet  1230754448147800064          3119096980   \n",
       "\n",
       "                  created_at                       recorded_at  \\\n",
       "0  2020-02-21T07:21:34+00:00  2020-02-21T07:21:40.179343+00:00   \n",
       "1  2020-02-21T07:21:37+00:00  2020-02-21T07:21:42.865221+00:00   \n",
       "2  2020-02-21T07:21:39+00:00  2020-02-21T07:21:44.366736+00:00   \n",
       "3  2020-02-21T07:21:40+00:00  2020-02-21T07:21:46.321657+00:00   \n",
       "4  2020-02-21T07:21:41+00:00  2020-02-21T07:21:46.783086+00:00   \n",
       "\n",
       "                                              source  retweets  favourites  \\\n",
       "0  <a href=\"http://twitter.com/download/android\" ...       0.0           0   \n",
       "1  <a href=\"http://twitter.com/download/android\" ...       0.0           0   \n",
       "2  <a href=\"http://twitter.com/download/android\" ...       0.0           0   \n",
       "3  <a href=\"http://twitter.com/download/android\" ...       0.0           0   \n",
       "4  <a href=\"https://mobile.twitter.com\" rel=\"nofo...       0.0           0   \n",
       "\n",
       "  lang  ... screen_name location description  url verified followers friends  \\\n",
       "0   de  ...         NaN      NaN         NaN  NaN      NaN       NaN     NaN   \n",
       "1   de  ...         NaN      NaN         NaN  NaN      NaN       NaN     NaN   \n",
       "2   de  ...         NaN      NaN         NaN  NaN      NaN       NaN     NaN   \n",
       "3   de  ...         NaN      NaN         NaN  NaN      NaN       NaN     NaN   \n",
       "4   de  ...         NaN      NaN         NaN  NaN      NaN       NaN     NaN   \n",
       "\n",
       "  listed statuses text  \n",
       "0    NaN      NaN  NaN  \n",
       "1    NaN      NaN  NaN  \n",
       "2    NaN      NaN  NaN  \n",
       "3    NaN      NaN  NaN  \n",
       "4    NaN      NaN  NaN  \n",
       "\n",
       "[5 rows x 26 columns]"
      ]
     },
     "execution_count": 8,
     "metadata": {},
     "output_type": "execute_result"
    }
   ],
   "source": [
    "twitter.head()"
   ]
  },
  {
   "cell_type": "markdown",
   "metadata": {},
   "source": [
    "Leider liefert die `head()` Funktionalität nicht die Größe des Datensatzes zurück..."
   ]
  },
  {
   "cell_type": "markdown",
   "metadata": {},
   "source": [
    "**Aufgabe: Wie viele Beispiele sind im `twitter` Datensatz enthalten?**"
   ]
  },
  {
   "cell_type": "code",
   "execution_count": 9,
   "metadata": {},
   "outputs": [
    {
     "data": {
      "application/vnd.jupyter.widget-view+json": {
       "model_id": "1b773e0ea3a943459c02aec686134c55",
       "version_major": 2,
       "version_minor": 0
      },
      "text/plain": [
       "Output()"
      ]
     },
     "metadata": {},
     "output_type": "display_data"
    },
    {
     "data": {
      "application/vnd.jupyter.widget-view+json": {
       "model_id": "19e6ecf7baab4dc18ca3c5985cbff6e9",
       "version_major": 2,
       "version_minor": 0
      },
      "text/plain": [
       "Output()"
      ]
     },
     "metadata": {},
     "output_type": "display_data"
    },
    {
     "data": {
      "application/vnd.jupyter.widget-view+json": {
       "model_id": "e6eea987af7d4cc6953c07f9508d64dc",
       "version_major": 2,
       "version_minor": 0
      },
      "text/plain": [
       "Output()"
      ]
     },
     "metadata": {},
     "output_type": "display_data"
    }
   ],
   "source": [
    "#hideInput\n",
    "texte_lm.show_task(221)"
   ]
  },
  {
   "cell_type": "code",
   "execution_count": 10,
   "metadata": {},
   "outputs": [
    {
     "data": {
      "text/plain": [
       "600005"
      ]
     },
     "execution_count": 10,
     "metadata": {},
     "output_type": "execute_result"
    }
   ],
   "source": [
    "#solution\n",
    "twitter.shape[0]"
   ]
  },
  {
   "cell_type": "markdown",
   "metadata": {},
   "source": [
    "**Aufgabe: Wie viele Werte liegen pro Beispiel vor? Aus wie vielen Merkmalen besteht der `twitter` Datensatz?**"
   ]
  },
  {
   "cell_type": "code",
   "execution_count": 11,
   "metadata": {},
   "outputs": [
    {
     "data": {
      "application/vnd.jupyter.widget-view+json": {
       "model_id": "9113767b440b489a8248a831bc4956be",
       "version_major": 2,
       "version_minor": 0
      },
      "text/plain": [
       "Output()"
      ]
     },
     "metadata": {},
     "output_type": "display_data"
    },
    {
     "data": {
      "application/vnd.jupyter.widget-view+json": {
       "model_id": "2c75a837da0b4da7a5041d6e745a0652",
       "version_major": 2,
       "version_minor": 0
      },
      "text/plain": [
       "Output()"
      ]
     },
     "metadata": {},
     "output_type": "display_data"
    },
    {
     "data": {
      "application/vnd.jupyter.widget-view+json": {
       "model_id": "6d9c20f43be6471cbe6858103febbeac",
       "version_major": 2,
       "version_minor": 0
      },
      "text/plain": [
       "Output()"
      ]
     },
     "metadata": {},
     "output_type": "display_data"
    }
   ],
   "source": [
    "#hideInput\n",
    "texte_lm.show_task(222)"
   ]
  },
  {
   "cell_type": "code",
   "execution_count": 12,
   "metadata": {},
   "outputs": [
    {
     "data": {
      "text/plain": [
       "26"
      ]
     },
     "execution_count": 12,
     "metadata": {},
     "output_type": "execute_result"
    }
   ],
   "source": [
    "#solution\n",
    "twitter.shape[1]"
   ]
  },
  {
   "cell_type": "markdown",
   "metadata": {},
   "source": [
    "Und welche Merkmale liegen genau vor?"
   ]
  },
  {
   "cell_type": "code",
   "execution_count": 13,
   "metadata": {},
   "outputs": [
    {
     "data": {
      "text/plain": [
       "Index(['twista', 'type', 'id', 'user', 'created_at', 'recorded_at', 'source',\n",
       "       'retweets', 'favourites', 'lang', 'hashtags', 'urls', 'mentions',\n",
       "       'mentioned_ids', 'refers_to', 'name', 'screen_name', 'location',\n",
       "       'description', 'url', 'verified', 'followers', 'friends', 'listed',\n",
       "       'statuses', 'text'],\n",
       "      dtype='object')"
      ]
     },
     "execution_count": 13,
     "metadata": {},
     "output_type": "execute_result"
    }
   ],
   "source": [
    "twitter.columns"
   ]
  },
  {
   "cell_type": "markdown",
   "metadata": {},
   "source": [
    "Das Merkmal _created_ _at_ scheint den Zeitpunkt des Tweets zu beinhalten. Welche Jahre haben wir erwischt?"
   ]
  },
  {
   "cell_type": "code",
   "execution_count": 14,
   "metadata": {},
   "outputs": [
    {
     "data": {
      "image/png": "[encoded data removed]",
      "text/plain": [
       "<Figure size 432x288 with 1 Axes>"
      ]
     },
     "metadata": {
      "needs_background": "light"
     },
     "output_type": "display_data"
    }
   ],
   "source": [
    "twitter['year'] = pd.to_datetime(twitter['created_at']).dt.year\n",
    "twitter.drop(['created_at', 'recorded_at'], axis=1, inplace=True)\n",
    "twitter['year'].value_counts().plot(kind='bar', title='Tweets created')"
   ]
  },
  {
   "cell_type": "markdown",
   "metadata": {},
   "source": [
    "Anscheinend enthält unser Datensatz veraltete Tweets, obwohl wir explizit mit aktuellen Textbeiträgen arbeiten wollen. Wir konzentrieren uns also auf das Jahr 2020 und verwerfen ältere Tweets wie folgt:"
   ]
  },
  {
   "cell_type": "code",
   "execution_count": 15,
   "metadata": {},
   "outputs": [],
   "source": [
    "twitter = twitter.loc[twitter['year'] == 2020]"
   ]
  },
  {
   "cell_type": "markdown",
   "metadata": {},
   "source": [
    "Das Merkmal _lang_ schauen wir uns als nächstes an. Welche Sprachen sind vertreten?"
   ]
  },
  {
   "cell_type": "code",
   "execution_count": 16,
   "metadata": {},
   "outputs": [
    {
     "data": {
      "text/plain": [
       "array(['de', nan, 'en', 'nl', 'in', 'und', 'fr', 'pt', 'es', 'cy', 'pl',\n",
       "       'tr', 'hu', 'ca', 'fa', 'no', 'fi', 'tl', 'da', 'cs', 'sv', 'it',\n",
       "       'ko', 'ru', 'ja', 'et', 'th', 'ro', 'zh', 'ht', 'hi', 'vi', 'ar',\n",
       "       'lv', 'eu', 'lt', 'is', 'sl', 'ur', 'el', 'iw', 'kn'], dtype=object)"
      ]
     },
     "execution_count": 16,
     "metadata": {},
     "output_type": "execute_result"
    }
   ],
   "source": [
    "twitter['lang'].unique()"
   ]
  },
  {
   "cell_type": "markdown",
   "metadata": {},
   "source": [
    "Anscheinend enthält unser Datensatz verschiedenste Sprachen. Da unser Modell lediglich deutsche Inhalte klassifizieren soll, verwerfen wir nicht-deutsche Inhalte wie folgt:"
   ]
  },
  {
   "cell_type": "code",
   "execution_count": 17,
   "metadata": {},
   "outputs": [],
   "source": [
    "twitter = twitter.loc[twitter['lang'] == 'de']"
   ]
  },
  {
   "cell_type": "markdown",
   "metadata": {},
   "source": [
    "Als nächstes konzentrieren wir uns auf die gewünschten Textbeiträge. Das Merkmal _text_ scheint die jeweiligen Tweets zu enthalten. Wir extrahieren dieses Merkmal vom DataFrame `twitter` in eine DataSeries `tweets`."
   ]
  },
  {
   "cell_type": "code",
   "execution_count": 18,
   "metadata": {},
   "outputs": [
    {
     "data": {
      "text/plain": [
       "0    NaN\n",
       "1    NaN\n",
       "2    NaN\n",
       "3    NaN\n",
       "4    NaN\n",
       "Name: text, dtype: object"
      ]
     },
     "execution_count": 18,
     "metadata": {},
     "output_type": "execute_result"
    }
   ],
   "source": [
    "tweets = twitter['text']\n",
    "del twitter\n",
    "tweets.head()"
   ]
  },
  {
   "cell_type": "markdown",
   "metadata": {},
   "source": [
    "Beim Extrahieren der Tweets werden ausnahmslos alle Beispiele berücksichtigt. Das gilt auch für fehlende Merkmale, die in der Menge an Beispielen untergegangen sind. Sind unsere Daten nun bereit zur Aufbereitung?"
   ]
  },
  {
   "cell_type": "markdown",
   "metadata": {},
   "source": [
    "**Aufgabe: Wie viele Werte fehlen im `tweets` Datensatz?**"
   ]
  },
  {
   "cell_type": "code",
   "execution_count": 19,
   "metadata": {},
   "outputs": [
    {
     "data": {
      "application/vnd.jupyter.widget-view+json": {
       "model_id": "b314d342f16e48dcb3db31205dbc9dc1",
       "version_major": 2,
       "version_minor": 0
      },
      "text/plain": [
       "Output()"
      ]
     },
     "metadata": {},
     "output_type": "display_data"
    },
    {
     "data": {
      "application/vnd.jupyter.widget-view+json": {
       "model_id": "461062c321924be789a9eae75c84c914",
       "version_major": 2,
       "version_minor": 0
      },
      "text/plain": [
       "Output()"
      ]
     },
     "metadata": {},
     "output_type": "display_data"
    },
    {
     "data": {
      "application/vnd.jupyter.widget-view+json": {
       "model_id": "0acb18346b7c41c0adda516e04f8b05a",
       "version_major": 2,
       "version_minor": 0
      },
      "text/plain": [
       "Output()"
      ]
     },
     "metadata": {},
     "output_type": "display_data"
    }
   ],
   "source": [
    "#hideInput\n",
    "texte_lm.show_task(223)"
   ]
  },
  {
   "cell_type": "code",
   "execution_count": 20,
   "metadata": {},
   "outputs": [
    {
     "data": {
      "text/plain": [
       "142544"
      ]
     },
     "execution_count": 20,
     "metadata": {},
     "output_type": "execute_result"
    }
   ],
   "source": [
    "#solution\n",
    "tweets.isna().sum()"
   ]
  },
  {
   "cell_type": "markdown",
   "metadata": {},
   "source": [
    "Fehlende Werte können von den folgenden Schritten nicht verarbeitet werden, sodass wir sie entfernen müssen."
   ]
  },
  {
   "cell_type": "code",
   "execution_count": 21,
   "metadata": {},
   "outputs": [],
   "source": [
    "tweets.dropna(inplace=True)"
   ]
  },
  {
   "cell_type": "markdown",
   "metadata": {},
   "source": [
    "Der Übersicht halber fügen wir ein frei erfundenes Beispiel an, um die folgenden Verarbeitungsschritte besser nachvollziehen zu können. Unser ausgedachter Tweet lautet wie folgt:\n",
    "\n",
    "> ⚠️ Dieser Tweet enthält viele unnütze Zeichen 😟 die wir lieber verwerfen. \n",
    "> \n",
    "> Das wurde uns von @user unter https://example.org verraten #danke"
   ]
  },
  {
   "cell_type": "code",
   "execution_count": 22,
   "metadata": {},
   "outputs": [],
   "source": [
    "example = '⚠️ Dieser Tweet enthält viele unnütze Zeichen 😟 die wir lieber verwerfen. \\n Das wurde uns von @user unter https://example.org verraten #danke'\n",
    "tweets = tweets.append(pd.Series(example), ignore_index=True)"
   ]
  },
  {
   "cell_type": "markdown",
   "metadata": {},
   "source": [
    "Das war's auch schon mit der Erkundung der Daten. Bis jetzt haben wir lediglich einzelne Beispiele verworfen, nicht aber vorhandene Beispiele verändert. Bevor das passiert, behalten wir lieber eine Kopie, auf die wir im späteren Verlauf des Lernmoduls noch zurückgreifen werden."
   ]
  },
  {
   "cell_type": "code",
   "execution_count": 23,
   "metadata": {},
   "outputs": [],
   "source": [
    "tweets_copy = tweets.copy()"
   ]
  },
  {
   "cell_type": "markdown",
   "metadata": {},
   "source": [
    "**Aufgabe: Wozu kann eine solche Kopie gut sein?**\n",
    "\n",
    "* A = Falsch\n",
    "* B = Richtig\n",
    "* C = Falsch\n",
    "* D = Richtig"
   ]
  },
  {
   "cell_type": "code",
   "execution_count": 24,
   "metadata": {},
   "outputs": [
    {
     "data": {
      "application/vnd.jupyter.widget-view+json": {
       "model_id": "ce4d3d83a045452ea1ae31a6a1701e27",
       "version_major": 2,
       "version_minor": 0
      },
      "text/plain": [
       "Output()"
      ]
     },
     "metadata": {},
     "output_type": "display_data"
    },
    {
     "data": {
      "application/vnd.jupyter.widget-view+json": {
       "model_id": "caf34628188046dd8ac9eb943dcc640e",
       "version_major": 2,
       "version_minor": 0
      },
      "text/plain": [
       "Output()"
      ]
     },
     "metadata": {},
     "output_type": "display_data"
    },
    {
     "data": {
      "application/vnd.jupyter.widget-view+json": {
       "model_id": "f65398a551d74634b34176e29f6cd9d0",
       "version_major": 2,
       "version_minor": 0
      },
      "text/plain": [
       "Output()"
      ]
     },
     "metadata": {},
     "output_type": "display_data"
    }
   ],
   "source": [
    "#hideInput\n",
    "texte_lm.show_task(224)"
   ]
  },
  {
   "cell_type": "markdown",
   "metadata": {},
   "source": [
    "### 2.3 Textdaten aufbereiten"
   ]
  },
  {
   "cell_type": "markdown",
   "metadata": {},
   "source": [
    "Innerhalb der Datenaufbereitung werden wir jeden Tweet anhand seiner Bestandteile (Zeichen, Wörter, Länge) verarbeiten."
   ]
  },
  {
   "cell_type": "markdown",
   "metadata": {},
   "source": [
    "#### 2.3.1 Zeichen bereinigen"
   ]
  },
  {
   "cell_type": "markdown",
   "metadata": {},
   "source": [
    "Schauen wir uns unser angefügtes Beispiel an..."
   ]
  },
  {
   "cell_type": "markdown",
   "metadata": {},
   "source": [
    "**Aufgabe: Mit welchem Befehl kommen wir zum letzten Tweet im `tweets` Datensatz?**"
   ]
  },
  {
   "cell_type": "code",
   "execution_count": 25,
   "metadata": {},
   "outputs": [
    {
     "data": {
      "application/vnd.jupyter.widget-view+json": {
       "model_id": "7b306e43ad4d48f39ce09a1c5dd2d87d",
       "version_major": 2,
       "version_minor": 0
      },
      "text/plain": [
       "Output()"
      ]
     },
     "metadata": {},
     "output_type": "display_data"
    },
    {
     "data": {
      "application/vnd.jupyter.widget-view+json": {
       "model_id": "b843aac29ef24d79aa57367ede764a01",
       "version_major": 2,
       "version_minor": 0
      },
      "text/plain": [
       "Output()"
      ]
     },
     "metadata": {},
     "output_type": "display_data"
    },
    {
     "data": {
      "application/vnd.jupyter.widget-view+json": {
       "model_id": "9fcb5adb5096459eab75505c820188f8",
       "version_major": 2,
       "version_minor": 0
      },
      "text/plain": [
       "Output()"
      ]
     },
     "metadata": {},
     "output_type": "display_data"
    }
   ],
   "source": [
    "#hideInput\n",
    "texte_lm.show_task(231)"
   ]
  },
  {
   "cell_type": "code",
   "execution_count": 26,
   "metadata": {},
   "outputs": [
    {
     "data": {
      "text/plain": [
       "'⚠️ Dieser Tweet enthält viele unnütze Zeichen 😟 die wir lieber verwerfen. \\n Das wurde uns von @user unter https://example.org verraten #danke'"
      ]
     },
     "execution_count": 26,
     "metadata": {},
     "output_type": "execute_result"
    }
   ],
   "source": [
    "#solution\n",
    "tweets.iloc[-1]"
   ]
  },
  {
   "cell_type": "markdown",
   "metadata": {},
   "source": [
    "Eigentlich wollen wir aber zum letzten Tweet, den wir am Ende des vorherigen Abschnittes angefügt haben."
   ]
  },
  {
   "cell_type": "markdown",
   "metadata": {},
   "source": [
    "Leider enthalten Tweets allerhand Symbole, die wir gesondert behandeln müssen..."
   ]
  },
  {
   "cell_type": "markdown",
   "metadata": {},
   "source": [
    "**Aufgabe: Welche Elemente befinden sich letzten Tweet, die wir gesondert verarbeiten müssen?**"
   ]
  },
  {
   "cell_type": "code",
   "execution_count": 27,
   "metadata": {},
   "outputs": [
    {
     "data": {
      "application/vnd.jupyter.widget-view+json": {
       "model_id": "aabd669995d846a585dc6b19b9a8ceeb",
       "version_major": 2,
       "version_minor": 0
      },
      "text/plain": [
       "Output()"
      ]
     },
     "metadata": {},
     "output_type": "display_data"
    },
    {
     "data": {
      "application/vnd.jupyter.widget-view+json": {
       "model_id": "9a823a9ac29845be8467dd08085600fb",
       "version_major": 2,
       "version_minor": 0
      },
      "text/plain": [
       "Output()"
      ]
     },
     "metadata": {},
     "output_type": "display_data"
    },
    {
     "data": {
      "application/vnd.jupyter.widget-view+json": {
       "model_id": "7dc36a1415ff4c32af614144a82fbcb5",
       "version_major": 2,
       "version_minor": 0
      },
      "text/plain": [
       "Output()"
      ]
     },
     "metadata": {},
     "output_type": "display_data"
    }
   ],
   "source": [
    "#hideInput\n",
    "texte_lm.show_task(232)"
   ]
  },
  {
   "cell_type": "markdown",
   "metadata": {},
   "source": [
    "Fangen wir mit den Emojis an..."
   ]
  },
  {
   "cell_type": "code",
   "execution_count": 28,
   "metadata": {},
   "outputs": [
    {
     "data": {
      "text/plain": [
       "'⚠️ Dieser Tweet enthält viele unnütze Zeichen schlecht die wir lieber verwerfen. \\n Das wurde uns von @user unter https://example.org verraten #danke'"
      ]
     },
     "execution_count": 28,
     "metadata": {},
     "output_type": "execute_result"
    }
   ],
   "source": [
    "tweets = df.process_emojis(tweets)    \n",
    "tweets.iloc[-1]"
   ]
  },
  {
   "cell_type": "markdown",
   "metadata": {},
   "source": [
    "**Aufgabe: Was passiert mit Emojis in der `process_emojis()` Funktion?**"
   ]
  },
  {
   "cell_type": "code",
   "execution_count": 29,
   "metadata": {},
   "outputs": [
    {
     "data": {
      "application/vnd.jupyter.widget-view+json": {
       "model_id": "71f07b1c3bae4119a5cafab71059b13e",
       "version_major": 2,
       "version_minor": 0
      },
      "text/plain": [
       "Output()"
      ]
     },
     "metadata": {},
     "output_type": "display_data"
    },
    {
     "data": {
      "application/vnd.jupyter.widget-view+json": {
       "model_id": "6fd486a1fe7641e59f674a19236ec76d",
       "version_major": 2,
       "version_minor": 0
      },
      "text/plain": [
       "Output()"
      ]
     },
     "metadata": {},
     "output_type": "display_data"
    },
    {
     "data": {
      "application/vnd.jupyter.widget-view+json": {
       "model_id": "55774b0671de4233b60d082434e1b63e",
       "version_major": 2,
       "version_minor": 0
      },
      "text/plain": [
       "Output()"
      ]
     },
     "metadata": {},
     "output_type": "display_data"
    }
   ],
   "source": [
    "#hideInput\n",
    "texte_lm.show_task(233)"
   ]
  },
  {
   "cell_type": "markdown",
   "metadata": {},
   "source": [
    "Nun können wir spezielle Zeichenketten, wie die Nutzer-Erwähnung _@user_ und die URL _https://example.org_ verarbeiten."
   ]
  },
  {
   "cell_type": "code",
   "execution_count": 30,
   "metadata": {},
   "outputs": [
    {
     "data": {
      "text/plain": [
       "'⚠️ Dieser Tweet enthält viele unnütze Zeichen schlecht die wir lieber verwerfen.  Das wurde uns von  unter  verraten #danke'"
      ]
     },
     "execution_count": 30,
     "metadata": {},
     "output_type": "execute_result"
    }
   ],
   "source": [
    "tweets = df.process_strings(tweets)    \n",
    "tweets.iloc[-1]"
   ]
  },
  {
   "cell_type": "markdown",
   "metadata": {},
   "source": [
    "**Aufgabe: Was passiert mit Zeichenketten in der `process_strings()` Funktion?**"
   ]
  },
  {
   "cell_type": "code",
   "execution_count": 31,
   "metadata": {},
   "outputs": [
    {
     "data": {
      "application/vnd.jupyter.widget-view+json": {
       "model_id": "ff40c09e9eb643a6ab8e62acb0ffa81f",
       "version_major": 2,
       "version_minor": 0
      },
      "text/plain": [
       "Output()"
      ]
     },
     "metadata": {},
     "output_type": "display_data"
    },
    {
     "data": {
      "application/vnd.jupyter.widget-view+json": {
       "model_id": "c2045bf01fdf44c197237fe1994e8a8d",
       "version_major": 2,
       "version_minor": 0
      },
      "text/plain": [
       "Output()"
      ]
     },
     "metadata": {},
     "output_type": "display_data"
    },
    {
     "data": {
      "application/vnd.jupyter.widget-view+json": {
       "model_id": "3181b6414af94d2dbc960d0ea0e9be5a",
       "version_major": 2,
       "version_minor": 0
      },
      "text/plain": [
       "Output()"
      ]
     },
     "metadata": {},
     "output_type": "display_data"
    }
   ],
   "source": [
    "#hideInput\n",
    "texte_lm.show_task(234)"
   ]
  },
  {
   "cell_type": "markdown",
   "metadata": {},
   "source": [
    "Als letztes kümmern wir uns um die Symbole."
   ]
  },
  {
   "cell_type": "code",
   "execution_count": 32,
   "metadata": {},
   "outputs": [
    {
     "data": {
      "text/plain": [
       "' Dieser Tweet enthält viele unnütze Zeichen schlecht die wir lieber verwerfen  Das wurde uns von  unter  verraten danke'"
      ]
     },
     "execution_count": 32,
     "metadata": {},
     "output_type": "execute_result"
    }
   ],
   "source": [
    "tweets = df.process_symbols(tweets)\n",
    "tweets.iloc[-1]"
   ]
  },
  {
   "cell_type": "markdown",
   "metadata": {},
   "source": [
    "**Aufgabe: Was passiert mit Symbolen in der `process_symbols()` Funktion?**"
   ]
  },
  {
   "cell_type": "code",
   "execution_count": 33,
   "metadata": {},
   "outputs": [
    {
     "data": {
      "application/vnd.jupyter.widget-view+json": {
       "model_id": "7698c9f76df341ec81e538cc1da69923",
       "version_major": 2,
       "version_minor": 0
      },
      "text/plain": [
       "Output()"
      ]
     },
     "metadata": {},
     "output_type": "display_data"
    },
    {
     "data": {
      "application/vnd.jupyter.widget-view+json": {
       "model_id": "75bd97567fe34962aa73be3e4b3f2183",
       "version_major": 2,
       "version_minor": 0
      },
      "text/plain": [
       "Output()"
      ]
     },
     "metadata": {},
     "output_type": "display_data"
    },
    {
     "data": {
      "application/vnd.jupyter.widget-view+json": {
       "model_id": "a53b10fe234a4c99b0975d283a28d45c",
       "version_major": 2,
       "version_minor": 0
      },
      "text/plain": [
       "Output()"
      ]
     },
     "metadata": {},
     "output_type": "display_data"
    }
   ],
   "source": [
    "#hideInput\n",
    "texte_lm.show_task(235)"
   ]
  },
  {
   "cell_type": "markdown",
   "metadata": {},
   "source": [
    "**Aufgabe: Was passiert mit Symbolen in der `process_symbols()` Funktion?**"
   ]
  },
  {
   "cell_type": "markdown",
   "metadata": {},
   "source": [
    "#### 2.3.2 Wörter bereinigen"
   ]
  },
  {
   "cell_type": "markdown",
   "metadata": {},
   "source": [
    "Da unsere Bereinigung im vorherigen Abschnitt nur noch einzelne Wörter und keine Symbole mehr übrig gelassen hat, können wir nun jeden Tweet in seine Bestandteile zerlegen. Dafür zerteilen wir die Zeichenkette anhand des Leerzeichens und erhalten eine Liste von Wörtern in einem Tweet. Dieser Schritt geht mit der Funktionsweise eines [Tokenizer](https://de.wikipedia.org/wiki/Tokenizer) einher, welcher lediglich den kompletten Tweet in einzelne Token, also Wörter, zerteilt."
   ]
  },
  {
   "cell_type": "code",
   "execution_count": 34,
   "metadata": {},
   "outputs": [
    {
     "data": {
      "text/plain": [
       "['dieser',\n",
       " 'tweet',\n",
       " 'enthält',\n",
       " 'viele',\n",
       " 'unnütze',\n",
       " 'zeichen',\n",
       " 'schlecht',\n",
       " 'die',\n",
       " 'wir',\n",
       " 'lieber',\n",
       " 'verwerfen',\n",
       " 'das',\n",
       " 'wurde',\n",
       " 'uns',\n",
       " 'von',\n",
       " 'unter',\n",
       " 'verraten',\n",
       " 'danke']"
      ]
     },
     "execution_count": 34,
     "metadata": {},
     "output_type": "execute_result"
    }
   ],
   "source": [
    "tweets = tweets.str.lower().str.split()\n",
    "tweets.iloc[-1]"
   ]
  },
  {
   "cell_type": "markdown",
   "metadata": {},
   "source": [
    "Aus Analysegründen fassen wir alle Wörter zu einer großen Sammlung zusammen, was die `aggregate_words()` Funktion wie folgt umsetzt:"
   ]
  },
  {
   "cell_type": "code",
   "execution_count": 35,
   "metadata": {},
   "outputs": [],
   "source": [
    "def aggregate_words(tweets):\n",
    "    \"\"\"Aggregate words from tweets\"\"\"\n",
    "    \n",
    "    all_words = []\n",
    "    for sentence in tweets:\n",
    "        for word in sentence:\n",
    "            all_words.append(word)\n",
    "            \n",
    "    return all_words"
   ]
  },
  {
   "cell_type": "code",
   "execution_count": 36,
   "metadata": {},
   "outputs": [],
   "source": [
    "all_words = aggregate_words(tweets)"
   ]
  },
  {
   "cell_type": "markdown",
   "metadata": {},
   "source": [
    "**Aufgabe: Eine Sammlung aller Wörter findet sich in der `all_words` Liste. Wie viele verschiedene Wörter sind getweetet worden?**"
   ]
  },
  {
   "cell_type": "code",
   "execution_count": 37,
   "metadata": {},
   "outputs": [
    {
     "data": {
      "application/vnd.jupyter.widget-view+json": {
       "model_id": "5382c3221ddd45d6a73a87ffa8b194f0",
       "version_major": 2,
       "version_minor": 0
      },
      "text/plain": [
       "Output()"
      ]
     },
     "metadata": {},
     "output_type": "display_data"
    },
    {
     "data": {
      "application/vnd.jupyter.widget-view+json": {
       "model_id": "c34e378766e343dba2310c5653c913ba",
       "version_major": 2,
       "version_minor": 0
      },
      "text/plain": [
       "Output()"
      ]
     },
     "metadata": {},
     "output_type": "display_data"
    },
    {
     "data": {
      "application/vnd.jupyter.widget-view+json": {
       "model_id": "4a193fac618249a5ad333b981a20b31d",
       "version_major": 2,
       "version_minor": 0
      },
      "text/plain": [
       "Output()"
      ]
     },
     "metadata": {},
     "output_type": "display_data"
    }
   ],
   "source": [
    "#hideInput\n",
    "texte_lm.show_task(236)"
   ]
  },
  {
   "cell_type": "code",
   "execution_count": 38,
   "metadata": {},
   "outputs": [
    {
     "data": {
      "text/plain": [
       "294600"
      ]
     },
     "execution_count": 38,
     "metadata": {},
     "output_type": "execute_result"
    }
   ],
   "source": [
    "#solution\n",
    "len(pd.Series(all_words).unique())"
   ]
  },
  {
   "cell_type": "markdown",
   "metadata": {},
   "source": [
    "Nachdem wir alle Wörter gesammelt haben, interessieren uns die beliebtesten Wörter aus den Tweets. An dieser Stelle greifen wir auf das Natural Language Toolkit ([NLTK](https://www.nltk.org/)) zurück, welches eine Häufigkeitsverteilung über die `FreqDist()` Funktion wie folgt implementiert."
   ]
  },
  {
   "cell_type": "code",
   "execution_count": 39,
   "metadata": {},
   "outputs": [],
   "source": [
    "from nltk.probability import FreqDist\n",
    "fd = FreqDist(all_words)"
   ]
  },
  {
   "cell_type": "markdown",
   "metadata": {},
   "source": [
    "**Aufgabe: Wie lauten nach der `fd` Verteilung die drei häufigsten Wörter?**"
   ]
  },
  {
   "cell_type": "code",
   "execution_count": 40,
   "metadata": {},
   "outputs": [
    {
     "data": {
      "application/vnd.jupyter.widget-view+json": {
       "model_id": "807f46f1f18e43a9a6e9281bc428d1db",
       "version_major": 2,
       "version_minor": 0
      },
      "text/plain": [
       "Output()"
      ]
     },
     "metadata": {},
     "output_type": "display_data"
    },
    {
     "data": {
      "application/vnd.jupyter.widget-view+json": {
       "model_id": "dddfc9b7c5f9496aa784c1783b0cadc2",
       "version_major": 2,
       "version_minor": 0
      },
      "text/plain": [
       "Output()"
      ]
     },
     "metadata": {},
     "output_type": "display_data"
    },
    {
     "data": {
      "application/vnd.jupyter.widget-view+json": {
       "model_id": "ca87275c15314f35bfa6208574e2ca62",
       "version_major": 2,
       "version_minor": 0
      },
      "text/plain": [
       "Output()"
      ]
     },
     "metadata": {},
     "output_type": "display_data"
    }
   ],
   "source": [
    "#hideInput\n",
    "texte_lm.show_task(237)"
   ]
  },
  {
   "cell_type": "code",
   "execution_count": 41,
   "metadata": {},
   "outputs": [
    {
     "data": {
      "text/plain": [
       "[('die', 85027), ('und', 73874), ('der', 63968)]"
      ]
     },
     "execution_count": 41,
     "metadata": {},
     "output_type": "execute_result"
    }
   ],
   "source": [
    "#solution\n",
    "fd.most_common(3)"
   ]
  },
  {
   "cell_type": "markdown",
   "metadata": {},
   "source": [
    "Es ist nicht überraschend, dass sich Artikel, Pronomen oder Konjunktionen als die am häufigsten verwendeten Wörter entpuppen. Schauen wir uns die Häufigkeitsverteilung der 25 beliebtesten Wörter an."
   ]
  },
  {
   "cell_type": "code",
   "execution_count": 42,
   "metadata": {},
   "outputs": [
    {
     "data": {
      "image/png": "[encoded data removed]",
      "text/plain": [
       "<Figure size 432x288 with 1 Axes>"
      ]
     },
     "metadata": {
      "needs_background": "light"
     },
     "output_type": "display_data"
    },
    {
     "data": {
      "text/plain": [
       "<matplotlib.axes._subplots.AxesSubplot at 0x266f2438ac8>"
      ]
     },
     "execution_count": 42,
     "metadata": {},
     "output_type": "execute_result"
    }
   ],
   "source": [
    "fd.plot(25)"
   ]
  },
  {
   "cell_type": "markdown",
   "metadata": {},
   "source": [
    "Auch hier scheinen Artikel, Pronomen und Konjunktionen stark vertreten zu sein. Das bringt uns zu der Frage, welche Stimmung diese Wörter eigentlich implizieren?\n",
    "\n",
    "Solche Wörter, werden im Kontext des NLP als Stoppwörter bezeichnet, da sie zu einer Aussage keinen Inhalt beisteuern, wie es bspw. ein wertendes Adjektiv, wie _gut_ oder _schlecht_ tun würde. Stoppwörter lassen sich daher ähnlich wie das Rauschen aus einer Nachricht (hier: Tweet) entfernen, ohne dass der Inhalt (hier: Stimmung) dieser Nachricht verloren geht.\n",
    "\n",
    "Wir werden also im folgenden Schritt alle Stoppwörter entfernen. Um sie zu identifizieren, benutzen wir die vorgegebene Textdatei `stop_words.txt` und importieren sie in eine Liste `stop_words`. Hätte man lediglich die meist genutzten Wörter aus der Häufigkeitsverteilung oben genommen, wäre man Gefahr gelaufen, relevante Wörter, wie _schön_, ebenfalls zu entfernen."
   ]
  },
  {
   "cell_type": "code",
   "execution_count": 43,
   "metadata": {},
   "outputs": [
    {
     "data": {
      "text/plain": [
       "array(['der', 'die', 'das', 'ein', 'eine', 'einer', 'einen', 'ich', 'du',\n",
       "       'er', 'sie', 'es', 'wir', 'ihr', 'sie', 'bin', 'bist', 'ist',\n",
       "       'sind', 'seid', 'und', 'oder', 'doch', 'aber', 'an', 'am', 'in',\n",
       "       'von', 'vor'], dtype=object)"
      ]
     },
     "execution_count": 43,
     "metadata": {},
     "output_type": "execute_result"
    }
   ],
   "source": [
    "stop_words = df.load_stop_words()\n",
    "stop_words.Wort.values"
   ]
  },
  {
   "cell_type": "markdown",
   "metadata": {},
   "source": [
    "Bevor wir alle Stoppwörter unwiederruflich entfernen, fragen wir uns erst einmal, wie viel Prozent unseres Datensatzes wir dadurch verlieren würden? Dies lässt sich über die `content_loss()` Funktion wie folgt berechnen."
   ]
  },
  {
   "cell_type": "code",
   "execution_count": 44,
   "metadata": {},
   "outputs": [],
   "source": [
    "def content_loss(text): # Execution time too long\n",
    "    stop_words_list = stop_words['Wort'].values.tolist()\n",
    "    content = [word for word in text if word not in stop_words_list]\n",
    "    return 1.0 - len(content) / len(text)"
   ]
  },
  {
   "cell_type": "code",
   "execution_count": 45,
   "metadata": {},
   "outputs": [
    {
     "data": {
      "text/plain": [
       "0.18255629647582672"
      ]
     },
     "execution_count": 45,
     "metadata": {},
     "output_type": "execute_result"
    }
   ],
   "source": [
    "content_loss(all_words)"
   ]
  },
  {
   "cell_type": "markdown",
   "metadata": {},
   "source": [
    "Um die Stoppwörter endgültig aus unseren Tweets zu entfernen, werfen wir die `filter_tokens()` Funktion wie folgt an."
   ]
  },
  {
   "cell_type": "code",
   "execution_count": 46,
   "metadata": {},
   "outputs": [],
   "source": [
    "def filter_tokens(tweets):\n",
    "    \"\"\"Filter tokens in tweets\"\"\"\n",
    "    \n",
    "    row_list = []\n",
    "    stop_words_list = stop_words['Wort'].values.tolist()  \n",
    "    for row in tweets:\n",
    "        \n",
    "        token_list = []\n",
    "        for token in row:\n",
    "            \n",
    "            if token not in stop_words_list:\n",
    "                if len(token) > 1:\n",
    "                    token_list.append(token)\n",
    "                    \n",
    "        row_list.append(token_list)\n",
    "    \n",
    "    return pd.Series(row_list)"
   ]
  },
  {
   "cell_type": "code",
   "execution_count": 47,
   "metadata": {},
   "outputs": [
    {
     "data": {
      "text/plain": [
       "0    [tut, so, gut, dass, so, viele, menschen, gege...\n",
       "1               [protect, ur, hearts, keizha, tubilla]\n",
       "2    [artikel, konvention, menschenrechte, abs, jed...\n",
       "3    [sprecher, usgeführten, operation, inherent, r...\n",
       "4                                     [samsung, model]\n",
       "dtype: object"
      ]
     },
     "execution_count": 47,
     "metadata": {},
     "output_type": "execute_result"
    }
   ],
   "source": [
    "tweets = filter_tokens(tweets) # Python list\n",
    "tweets.head()"
   ]
  },
  {
   "cell_type": "markdown",
   "metadata": {},
   "source": [
    "Damit ist unsere Sammlung von Wörter nicht mehr aktuell. Der Einfachheit halber sammeln wir sie erneut über die `aggregate_words()` Funktion."
   ]
  },
  {
   "cell_type": "code",
   "execution_count": 48,
   "metadata": {},
   "outputs": [],
   "source": [
    "all_words = aggregate_words(tweets)"
   ]
  },
  {
   "cell_type": "markdown",
   "metadata": {},
   "source": [
    "Welche Wörter werden wohl mit Ausnahme der Stoppwörter am häufigsten benutzt? Alternativ zur bereits bekannten Häufigkeitsverteilung lassen sich im Kontext des NLP sog. Schlagwortwolken erstellen. Dazu nutzen wir die `WordCloud()` Funktion wie folgt."
   ]
  },
  {
   "cell_type": "code",
   "execution_count": 49,
   "metadata": {},
   "outputs": [],
   "source": [
    "from wordcloud import WordCloud\n",
    "wc = WordCloud()"
   ]
  },
  {
   "cell_type": "code",
   "execution_count": 50,
   "metadata": {},
   "outputs": [
    {
     "data": {
      "image/png": "[encoded data removed]",
      "text/plain": [
       "<Figure size 432x288 with 1 Axes>"
      ]
     },
     "metadata": {
      "needs_background": "light"
     },
     "output_type": "display_data"
    }
   ],
   "source": [
    "most_common_words = wc.generate_from_frequencies(FreqDist(all_words))\n",
    "vf.plot_image(most_common_words, 'Die häufigsten Wörter')"
   ]
  },
  {
   "cell_type": "markdown",
   "metadata": {},
   "source": [
    "#### 2.3.3 Tweets bereinigen"
   ]
  },
  {
   "cell_type": "markdown",
   "metadata": {},
   "source": [
    "Da uns der vergangene Abschnitt einige Wörter gekostet hat, wollen wir nun die Tweets identifizieren, die zu wenig oder vielleicht sogar zu viele Wörter enthalten. Beide Extrema sind für die weiterführende Analyse nicht zu gebrauchen. Daher berechnen wir im folgenden die Länge eines Tweets."
   ]
  },
  {
   "cell_type": "code",
   "execution_count": 51,
   "metadata": {},
   "outputs": [],
   "source": [
    "tweets_length = [len(tweet) for tweet in tweets]"
   ]
  },
  {
   "cell_type": "markdown",
   "metadata": {},
   "source": [
    "**Aufgabe: Wie viele Wörter besitzt der kürzeste Tweet im `tweets` Datensatz?**"
   ]
  },
  {
   "cell_type": "code",
   "execution_count": 52,
   "metadata": {},
   "outputs": [
    {
     "data": {
      "application/vnd.jupyter.widget-view+json": {
       "model_id": "8782cbbb2ec84eebb03cb5f6af7e49a7",
       "version_major": 2,
       "version_minor": 0
      },
      "text/plain": [
       "Output()"
      ]
     },
     "metadata": {},
     "output_type": "display_data"
    },
    {
     "data": {
      "application/vnd.jupyter.widget-view+json": {
       "model_id": "beb439e6094a40fba586368f7488765a",
       "version_major": 2,
       "version_minor": 0
      },
      "text/plain": [
       "Output()"
      ]
     },
     "metadata": {},
     "output_type": "display_data"
    },
    {
     "data": {
      "application/vnd.jupyter.widget-view+json": {
       "model_id": "6f9547a26f904ddc860d956d935aeea3",
       "version_major": 2,
       "version_minor": 0
      },
      "text/plain": [
       "Output()"
      ]
     },
     "metadata": {},
     "output_type": "display_data"
    }
   ],
   "source": [
    "#hideInput\n",
    "texte_lm.show_task(238)"
   ]
  },
  {
   "cell_type": "code",
   "execution_count": 53,
   "metadata": {},
   "outputs": [
    {
     "data": {
      "text/plain": [
       "0"
      ]
     },
     "execution_count": 53,
     "metadata": {},
     "output_type": "execute_result"
    }
   ],
   "source": [
    "#solution\n",
    "np.min(tweets_length)"
   ]
  },
  {
   "cell_type": "markdown",
   "metadata": {},
   "source": [
    "Hoffentlich handelt es sich um einen Ausreißer. Das verifizieren wir wiederum mit einer Häufigkeitsverteilung. Dieses Mal aber als einfaches Histogramm über die `plot_tweet_length_distribution()` Funktion wie folgt."
   ]
  },
  {
   "cell_type": "code",
   "execution_count": 54,
   "metadata": {},
   "outputs": [
    {
     "data": {
      "image/png": "[encoded data removed]",
      "text/plain": [
       "<Figure size 432x288 with 1 Axes>"
      ]
     },
     "metadata": {
      "needs_background": "light"
     },
     "output_type": "display_data"
    }
   ],
   "source": [
    "vf.plot_tweet_length_distribution(tweets_length)"
   ]
  },
  {
   "cell_type": "markdown",
   "metadata": {},
   "source": [
    "Die meisten Tweets scheinen nach Entfernen der Stoppwörter nur noch wenige Wörter lang zu sein. Wir verwerfen alle Tweets, die unterhalb des Maxima aus dem vorherigen Diagramm liegen wie folgt:"
   ]
  },
  {
   "cell_type": "code",
   "execution_count": 55,
   "metadata": {},
   "outputs": [],
   "source": [
    "min_words_per_tweet = 3\n",
    "tweets = tweets[tweets.map(len) > min_words_per_tweet]"
   ]
  },
  {
   "cell_type": "markdown",
   "metadata": {},
   "source": [
    "Das war's auch schon mit der Datenaufbereitung..."
   ]
  },
  {
   "cell_type": "markdown",
   "metadata": {},
   "source": [
    "**Aufgabe: Wie viel Prozent bleiben nach Bereinigung von Zeichen, Wörtern und zu kurz geratenen Tweets im Vergleich zum ursprünglichen `tweets` Datensatz übrig?**"
   ]
  },
  {
   "cell_type": "code",
   "execution_count": 56,
   "metadata": {},
   "outputs": [
    {
     "data": {
      "application/vnd.jupyter.widget-view+json": {
       "model_id": "d94dff3d8556435d905f813197fc2905",
       "version_major": 2,
       "version_minor": 0
      },
      "text/plain": [
       "Output()"
      ]
     },
     "metadata": {},
     "output_type": "display_data"
    },
    {
     "data": {
      "application/vnd.jupyter.widget-view+json": {
       "model_id": "935589eb3df84f7888c352be11227995",
       "version_major": 2,
       "version_minor": 0
      },
      "text/plain": [
       "Output()"
      ]
     },
     "metadata": {},
     "output_type": "display_data"
    },
    {
     "data": {
      "application/vnd.jupyter.widget-view+json": {
       "model_id": "67b42569712347b686c3e46bc22e33a9",
       "version_major": 2,
       "version_minor": 0
      },
      "text/plain": [
       "Output()"
      ]
     },
     "metadata": {},
     "output_type": "display_data"
    }
   ],
   "source": [
    "#hideInput\n",
    "texte_lm.show_task(239)"
   ]
  },
  {
   "cell_type": "code",
   "execution_count": 57,
   "metadata": {},
   "outputs": [
    {
     "data": {
      "text/plain": [
       "0.8356248119618527"
      ]
     },
     "execution_count": 57,
     "metadata": {},
     "output_type": "execute_result"
    }
   ],
   "source": [
    "#solution\n",
    "tweets.size / tweets_copy.size"
   ]
  },
  {
   "cell_type": "markdown",
   "metadata": {},
   "source": [
    "Mit dem bereinigten Datensatz geht es nun weiter in die Modelldomäne, in der wir uns erstmal um die Überführung der Daten in das Modell kümmern."
   ]
  },
  {
   "cell_type": "markdown",
   "metadata": {},
   "source": [
    "## 3. Modell"
   ]
  },
  {
   "cell_type": "markdown",
   "metadata": {},
   "source": [
    "[Zurück zur Übersicht](#Lernmodul-zur-Verarbeitung-und-Analyse-von-Textdaten)"
   ]
  },
  {
   "cell_type": "markdown",
   "metadata": {},
   "source": [
    "In der Modelldomäne betten wir die bereinigten Daten zunächst auf Basis eines Vokabulars in ein Modell ein. Das Vokabular dient dabei als Look-up (LUT) für einen Tweet. Welche weiteren Schritte ein Tweet in der Modelldomäne durchläuft, bevor er die letztendlich klassifiziert wird, verrät die folgende Abbildung:\n",
    "\n",
    "![Model](./img/model_flow.png)"
   ]
  },
  {
   "cell_type": "markdown",
   "metadata": {},
   "source": [
    "### 3.1 Textdaten einbetten"
   ]
  },
  {
   "cell_type": "markdown",
   "metadata": {},
   "source": [
    "Da unsere bereinigten Daten weiterhin in symbolischer Form vorliegen, benötigen wir als nächchstes eine Überführung der Daten in eine Form, die von unserem finalen Modell (hier: Klassifikator) verstanden wird. Man spricht in diesem Zusammenhang vom [Embedding](https://en.wikipedia.org/wiki/Word_embedding) der Wörter.\n",
    "\n",
    "Es gibt viele komplizierte Verfahren, um das symbolische Wort auf einen numerischen Wert abzubilden, welche in diesem Lernmodul nicht näher betrachtet werden sollen. In diesem Fall schlagen wir die Wörter einfach in einer Art Vokabular nach, das für jedes Wort einen eigenen Wert besitzt. Wie sieht unser Vokabular nun aus?"
   ]
  },
  {
   "cell_type": "markdown",
   "metadata": {},
   "source": [
    "#### 3.1.1 Vokabular"
   ]
  },
  {
   "cell_type": "markdown",
   "metadata": {},
   "source": [
    "Unser Vokabular wurde über die Universität Leipzig unter der [CC BY-NC-SA 3.0 DE](https://creativecommons.org/licenses/by-nc-sa/3.0/de/) Lizenz veröffentlicht [[2]](#2).\n",
    "\n",
    "Das Vokabular besteht aus negativ bzw. positiv annotierten Wörtern der deutschen Sprache. Die Stimmungslage ist im Intervall von `[-1, 1]` bzw. `['negativ', 'positiv']` begrenzt. Schlagen wir neutrale Wörter, wie _und_ bzw. _oder_ im Vokabular nach, bekommen wir einen Stimmungswert von _0_, also neutral, zurückgegeben. Unser Modell interessiert sich aber lediglich für die zwei Extrema und soll als binärer Klassifikator zwischen negativen und posiven Tweets differenzieren. \n",
    "\n",
    "Wir vergeben die Labels wie folgt:"
   ]
  },
  {
   "cell_type": "code",
   "execution_count": 58,
   "metadata": {},
   "outputs": [],
   "source": [
    "labels = ['negativ', 'positiv']"
   ]
  },
  {
   "cell_type": "markdown",
   "metadata": {},
   "source": [
    "Zunächst holen wir uns die negativen Wörter für das Vokabular wie folgt:"
   ]
  },
  {
   "cell_type": "code",
   "execution_count": 59,
   "metadata": {},
   "outputs": [
    {
     "data": {
      "text/html": [
       "<div>\n",
       "<style scoped>\n",
       "    .dataframe tbody tr th:only-of-type {\n",
       "        vertical-align: middle;\n",
       "    }\n",
       "\n",
       "    .dataframe tbody tr th {\n",
       "        vertical-align: top;\n",
       "    }\n",
       "\n",
       "    .dataframe thead th {\n",
       "        text-align: right;\n",
       "    }\n",
       "</style>\n",
       "<table border=\"1\" class=\"dataframe\">\n",
       "  <thead>\n",
       "    <tr style=\"text-align: right;\">\n",
       "      <th></th>\n",
       "      <th>Wort</th>\n",
       "      <th>Wert</th>\n",
       "      <th>Deklination</th>\n",
       "      <th>Stimmung</th>\n",
       "    </tr>\n",
       "  </thead>\n",
       "  <tbody>\n",
       "    <tr>\n",
       "      <th>0</th>\n",
       "      <td>Abbruch|NN</td>\n",
       "      <td>-0.0048</td>\n",
       "      <td>Abbruches,Abbrüche,Abbruchs,Abbrüchen\\r</td>\n",
       "      <td>negativ</td>\n",
       "    </tr>\n",
       "    <tr>\n",
       "      <th>1</th>\n",
       "      <td>Abdankung|NN</td>\n",
       "      <td>-0.0048</td>\n",
       "      <td>Abdankungen\\r</td>\n",
       "      <td>negativ</td>\n",
       "    </tr>\n",
       "    <tr>\n",
       "      <th>2</th>\n",
       "      <td>Abdämpfung|NN</td>\n",
       "      <td>-0.0048</td>\n",
       "      <td>Abdämpfungen\\r</td>\n",
       "      <td>negativ</td>\n",
       "    </tr>\n",
       "    <tr>\n",
       "      <th>3</th>\n",
       "      <td>Abfall|NN</td>\n",
       "      <td>-0.0048</td>\n",
       "      <td>Abfalles,Abfälle,Abfalls,Abfällen\\r</td>\n",
       "      <td>negativ</td>\n",
       "    </tr>\n",
       "    <tr>\n",
       "      <th>4</th>\n",
       "      <td>Abfuhr|NN</td>\n",
       "      <td>-0.3367</td>\n",
       "      <td>Abfuhren\\r</td>\n",
       "      <td>negativ</td>\n",
       "    </tr>\n",
       "  </tbody>\n",
       "</table>\n",
       "</div>"
      ],
      "text/plain": [
       "            Wort    Wert                              Deklination Stimmung\n",
       "0     Abbruch|NN -0.0048  Abbruches,Abbrüche,Abbruchs,Abbrüchen\\r  negativ\n",
       "1   Abdankung|NN -0.0048                            Abdankungen\\r  negativ\n",
       "2  Abdämpfung|NN -0.0048                           Abdämpfungen\\r  negativ\n",
       "3      Abfall|NN -0.0048      Abfalles,Abfälle,Abfalls,Abfällen\\r  negativ\n",
       "4      Abfuhr|NN -0.3367                               Abfuhren\\r  negativ"
      ]
     },
     "execution_count": 59,
     "metadata": {},
     "output_type": "execute_result"
    }
   ],
   "source": [
    "negative = df.load_vocabulary(labels[0]) # Negative\n",
    "negative.head()"
   ]
  },
  {
   "cell_type": "markdown",
   "metadata": {},
   "source": [
    "Es folgen die positiven Wörter des Vokabulars."
   ]
  },
  {
   "cell_type": "code",
   "execution_count": 60,
   "metadata": {},
   "outputs": [
    {
     "data": {
      "text/html": [
       "<div>\n",
       "<style scoped>\n",
       "    .dataframe tbody tr th:only-of-type {\n",
       "        vertical-align: middle;\n",
       "    }\n",
       "\n",
       "    .dataframe tbody tr th {\n",
       "        vertical-align: top;\n",
       "    }\n",
       "\n",
       "    .dataframe thead th {\n",
       "        text-align: right;\n",
       "    }\n",
       "</style>\n",
       "<table border=\"1\" class=\"dataframe\">\n",
       "  <thead>\n",
       "    <tr style=\"text-align: right;\">\n",
       "      <th></th>\n",
       "      <th>Wort</th>\n",
       "      <th>Wert</th>\n",
       "      <th>Deklination</th>\n",
       "      <th>Stimmung</th>\n",
       "    </tr>\n",
       "  </thead>\n",
       "  <tbody>\n",
       "    <tr>\n",
       "      <th>0</th>\n",
       "      <td>Abschluß|NN</td>\n",
       "      <td>0.004</td>\n",
       "      <td>Abschlüße,Abschlußs,Abschlußes,Abschlüßen\\r</td>\n",
       "      <td>positiv</td>\n",
       "    </tr>\n",
       "    <tr>\n",
       "      <th>1</th>\n",
       "      <td>Abstimmung|NN</td>\n",
       "      <td>0.004</td>\n",
       "      <td>Abstimmungen\\r</td>\n",
       "      <td>positiv</td>\n",
       "    </tr>\n",
       "    <tr>\n",
       "      <th>2</th>\n",
       "      <td>Agilität|NN</td>\n",
       "      <td>0.004</td>\n",
       "      <td>NaN</td>\n",
       "      <td>positiv</td>\n",
       "    </tr>\n",
       "    <tr>\n",
       "      <th>3</th>\n",
       "      <td>Aktivität|NN</td>\n",
       "      <td>0.004</td>\n",
       "      <td>Aktivitäten\\r</td>\n",
       "      <td>positiv</td>\n",
       "    </tr>\n",
       "    <tr>\n",
       "      <th>4</th>\n",
       "      <td>Aktualisierung|NN</td>\n",
       "      <td>0.004</td>\n",
       "      <td>Aktualisierungen\\r</td>\n",
       "      <td>positiv</td>\n",
       "    </tr>\n",
       "  </tbody>\n",
       "</table>\n",
       "</div>"
      ],
      "text/plain": [
       "                Wort   Wert                                  Deklination  \\\n",
       "0        Abschluß|NN  0.004  Abschlüße,Abschlußs,Abschlußes,Abschlüßen\\r   \n",
       "1      Abstimmung|NN  0.004                               Abstimmungen\\r   \n",
       "2        Agilität|NN  0.004                                          NaN   \n",
       "3       Aktivität|NN  0.004                                Aktivitäten\\r   \n",
       "4  Aktualisierung|NN  0.004                           Aktualisierungen\\r   \n",
       "\n",
       "  Stimmung  \n",
       "0  positiv  \n",
       "1  positiv  \n",
       "2  positiv  \n",
       "3  positiv  \n",
       "4  positiv  "
      ]
     },
     "execution_count": 60,
     "metadata": {},
     "output_type": "execute_result"
    }
   ],
   "source": [
    "positive = df.load_vocabulary(labels[1]) # Positive\n",
    "positive.head()"
   ]
  },
  {
   "cell_type": "markdown",
   "metadata": {},
   "source": [
    "Der Spalte _Wort_ scheint der Typ des Wortes angehängt zu sein. Wir führen das negative und das positive Vokabular im DataFrame `vocab` zusammen..."
   ]
  },
  {
   "cell_type": "code",
   "execution_count": 61,
   "metadata": {},
   "outputs": [],
   "source": [
    "vocab = pd.concat([negative, positive])\n",
    "assert positive.size + negative.size == vocab.size\n",
    "del negative, positive"
   ]
  },
  {
   "cell_type": "markdown",
   "metadata": {},
   "source": [
    "...und kümmern uns um ein paar Verschönerungen über die `format_vocab()` Funktion. Dabei werden insbesondere alle Deklinationen in eine eigene Reihe überführt und mit ihrem Stammwort versehen."
   ]
  },
  {
   "cell_type": "code",
   "execution_count": 62,
   "metadata": {},
   "outputs": [
    {
     "data": {
      "text/html": [
       "<div>\n",
       "<style scoped>\n",
       "    .dataframe tbody tr th:only-of-type {\n",
       "        vertical-align: middle;\n",
       "    }\n",
       "\n",
       "    .dataframe tbody tr th {\n",
       "        vertical-align: top;\n",
       "    }\n",
       "\n",
       "    .dataframe thead th {\n",
       "        text-align: right;\n",
       "    }\n",
       "</style>\n",
       "<table border=\"1\" class=\"dataframe\">\n",
       "  <thead>\n",
       "    <tr style=\"text-align: right;\">\n",
       "      <th></th>\n",
       "      <th>Stamm</th>\n",
       "      <th>Wert</th>\n",
       "      <th>Stimmung</th>\n",
       "      <th>Typ</th>\n",
       "      <th>Wort</th>\n",
       "    </tr>\n",
       "  </thead>\n",
       "  <tbody>\n",
       "    <tr>\n",
       "      <th>0</th>\n",
       "      <td>Abbruch</td>\n",
       "      <td>-0.0048</td>\n",
       "      <td>negativ</td>\n",
       "      <td>NN</td>\n",
       "      <td>Abbruch</td>\n",
       "    </tr>\n",
       "    <tr>\n",
       "      <th>1</th>\n",
       "      <td>Abbruch</td>\n",
       "      <td>-0.0048</td>\n",
       "      <td>negativ</td>\n",
       "      <td>NN</td>\n",
       "      <td>Abbruches</td>\n",
       "    </tr>\n",
       "    <tr>\n",
       "      <th>2</th>\n",
       "      <td>Abbruch</td>\n",
       "      <td>-0.0048</td>\n",
       "      <td>negativ</td>\n",
       "      <td>NN</td>\n",
       "      <td>Abbrüche</td>\n",
       "    </tr>\n",
       "    <tr>\n",
       "      <th>3</th>\n",
       "      <td>Abbruch</td>\n",
       "      <td>-0.0048</td>\n",
       "      <td>negativ</td>\n",
       "      <td>NN</td>\n",
       "      <td>Abbruchs</td>\n",
       "    </tr>\n",
       "    <tr>\n",
       "      <th>4</th>\n",
       "      <td>Abbruch</td>\n",
       "      <td>-0.0048</td>\n",
       "      <td>negativ</td>\n",
       "      <td>NN</td>\n",
       "      <td>Abbrüchen</td>\n",
       "    </tr>\n",
       "  </tbody>\n",
       "</table>\n",
       "</div>"
      ],
      "text/plain": [
       "     Stamm    Wert Stimmung Typ       Wort\n",
       "0  Abbruch -0.0048  negativ  NN    Abbruch\n",
       "1  Abbruch -0.0048  negativ  NN  Abbruches\n",
       "2  Abbruch -0.0048  negativ  NN   Abbrüche\n",
       "3  Abbruch -0.0048  negativ  NN   Abbruchs\n",
       "4  Abbruch -0.0048  negativ  NN  Abbrüchen"
      ]
     },
     "execution_count": 62,
     "metadata": {},
     "output_type": "execute_result"
    }
   ],
   "source": [
    "vocab = df.format_vocabulary(vocab)\n",
    "vocab.head()"
   ]
  },
  {
   "cell_type": "markdown",
   "metadata": {},
   "source": [
    "Nun haben wir ein vollständig bereinigtes Vokabular..."
   ]
  },
  {
   "cell_type": "markdown",
   "metadata": {},
   "source": [
    "**Aufgabe: Welche Wort-Typen sind im `vocab` Vokabular vorhanden?**"
   ]
  },
  {
   "cell_type": "code",
   "execution_count": 63,
   "metadata": {},
   "outputs": [
    {
     "data": {
      "application/vnd.jupyter.widget-view+json": {
       "model_id": "741aa3fcac4146b3aa23ca7614065bab",
       "version_major": 2,
       "version_minor": 0
      },
      "text/plain": [
       "Output()"
      ]
     },
     "metadata": {},
     "output_type": "display_data"
    },
    {
     "data": {
      "application/vnd.jupyter.widget-view+json": {
       "model_id": "19906f75c8614b0e8d0b8498750d1bfe",
       "version_major": 2,
       "version_minor": 0
      },
      "text/plain": [
       "Output()"
      ]
     },
     "metadata": {},
     "output_type": "display_data"
    },
    {
     "data": {
      "application/vnd.jupyter.widget-view+json": {
       "model_id": "20ae512a293946ea8b30d190e900fd52",
       "version_major": 2,
       "version_minor": 0
      },
      "text/plain": [
       "Output()"
      ]
     },
     "metadata": {},
     "output_type": "display_data"
    }
   ],
   "source": [
    "#hideInput\n",
    "texte_lm.show_task(311)"
   ]
  },
  {
   "cell_type": "code",
   "execution_count": 64,
   "metadata": {},
   "outputs": [
    {
     "data": {
      "text/plain": [
       "array(['NN', 'VVINF', 'ADJX', 'ADV'], dtype=object)"
      ]
     },
     "execution_count": 64,
     "metadata": {},
     "output_type": "execute_result"
    }
   ],
   "source": [
    "#solution\n",
    "vocab['Typ'].unique()"
   ]
  },
  {
   "cell_type": "markdown",
   "metadata": {},
   "source": [
    "Wir visualisieren alle negativen Nomen mithilfe der bereits bekannten Schlagwortwolke:"
   ]
  },
  {
   "cell_type": "code",
   "execution_count": 65,
   "metadata": {},
   "outputs": [
    {
     "data": {
      "image/png": "[encoded data removed]",
      "text/plain": [
       "<Figure size 432x288 with 1 Axes>"
      ]
     },
     "metadata": {
      "needs_background": "light"
     },
     "output_type": "display_data"
    }
   ],
   "source": [
    "neg_nouns = vocab[(vocab['Stimmung'] == 'negativ') & (vocab['Typ'] == 'NN')] # Only negative vocabulary\n",
    "most_neg_nouns = wc.generate_from_frequencies(pd.Series(neg_nouns.Wert.values * (-100), index=neg_nouns.Wort).to_dict())\n",
    "vf.plot_image(most_neg_nouns, 'Die negativsten Nomen')"
   ]
  },
  {
   "cell_type": "markdown",
   "metadata": {},
   "source": [
    "Analog visualisieren wir alle positiven Adjektive in unserem Vokabular."
   ]
  },
  {
   "cell_type": "code",
   "execution_count": 66,
   "metadata": {},
   "outputs": [
    {
     "data": {
      "image/png": "[encoded data removed]",
      "text/plain": [
       "<Figure size 432x288 with 1 Axes>"
      ]
     },
     "metadata": {
      "needs_background": "light"
     },
     "output_type": "display_data"
    }
   ],
   "source": [
    "pos_adj = vocab[(vocab['Stimmung'] == 'positiv') & (vocab['Typ'] == 'ADJX')] # Only positive vocabulary\n",
    "most_pos_adj = wc.generate_from_frequencies(pd.Series(pos_adj.Wert.values * (100), index=pos_adj.Wort).to_dict())\n",
    "vf.plot_image(most_pos_adj, 'Die positivsten Adjektive')"
   ]
  },
  {
   "cell_type": "markdown",
   "metadata": {},
   "source": [
    "**Aufgabe: Fällt das `vocab` Vokabular eher negativ oder eher positiv aus?**"
   ]
  },
  {
   "cell_type": "code",
   "execution_count": 67,
   "metadata": {},
   "outputs": [
    {
     "data": {
      "application/vnd.jupyter.widget-view+json": {
       "model_id": "287c9fa314a24abb91a46e5800925475",
       "version_major": 2,
       "version_minor": 0
      },
      "text/plain": [
       "Output()"
      ]
     },
     "metadata": {},
     "output_type": "display_data"
    },
    {
     "data": {
      "application/vnd.jupyter.widget-view+json": {
       "model_id": "646ccf2a02a24b6b9459991895900780",
       "version_major": 2,
       "version_minor": 0
      },
      "text/plain": [
       "Output()"
      ]
     },
     "metadata": {},
     "output_type": "display_data"
    },
    {
     "data": {
      "application/vnd.jupyter.widget-view+json": {
       "model_id": "2d201ee8292943a69e12c3097ca5e675",
       "version_major": 2,
       "version_minor": 0
      },
      "text/plain": [
       "Output()"
      ]
     },
     "metadata": {},
     "output_type": "display_data"
    }
   ],
   "source": [
    "#hideInput\n",
    "texte_lm.show_task(312)"
   ]
  },
  {
   "cell_type": "code",
   "execution_count": 68,
   "metadata": {},
   "outputs": [
    {
     "data": {
      "text/plain": [
       "Wert   -0.04533\n",
       "dtype: float64"
      ]
     },
     "execution_count": 68,
     "metadata": {},
     "output_type": "execute_result"
    }
   ],
   "source": [
    "#solution\n",
    "vocab.mean()"
   ]
  },
  {
   "cell_type": "markdown",
   "metadata": {},
   "source": [
    "Wie bereits für die Tweets halten wir nach fehlenden Werten Ausschau..."
   ]
  },
  {
   "cell_type": "markdown",
   "metadata": {},
   "source": [
    "**Aufgabe: In welcher Spalte des `vocab` Vokabulars fehlen Werte?**"
   ]
  },
  {
   "cell_type": "code",
   "execution_count": 69,
   "metadata": {},
   "outputs": [
    {
     "data": {
      "application/vnd.jupyter.widget-view+json": {
       "model_id": "4d17314a16834bd286a9a01838b0660d",
       "version_major": 2,
       "version_minor": 0
      },
      "text/plain": [
       "Output()"
      ]
     },
     "metadata": {},
     "output_type": "display_data"
    },
    {
     "data": {
      "application/vnd.jupyter.widget-view+json": {
       "model_id": "ea603c09ea82436eb749ef8e4df3d072",
       "version_major": 2,
       "version_minor": 0
      },
      "text/plain": [
       "Output()"
      ]
     },
     "metadata": {},
     "output_type": "display_data"
    },
    {
     "data": {
      "application/vnd.jupyter.widget-view+json": {
       "model_id": "dfd8210b7da64182929650734241c323",
       "version_major": 2,
       "version_minor": 0
      },
      "text/plain": [
       "Output()"
      ]
     },
     "metadata": {},
     "output_type": "display_data"
    }
   ],
   "source": [
    "#hideInput\n",
    "texte_lm.show_task(313)"
   ]
  },
  {
   "cell_type": "code",
   "execution_count": 70,
   "metadata": {},
   "outputs": [
    {
     "data": {
      "text/html": [
       "<div>\n",
       "<style scoped>\n",
       "    .dataframe tbody tr th:only-of-type {\n",
       "        vertical-align: middle;\n",
       "    }\n",
       "\n",
       "    .dataframe tbody tr th {\n",
       "        vertical-align: top;\n",
       "    }\n",
       "\n",
       "    .dataframe thead th {\n",
       "        text-align: right;\n",
       "    }\n",
       "</style>\n",
       "<table border=\"1\" class=\"dataframe\">\n",
       "  <thead>\n",
       "    <tr style=\"text-align: right;\">\n",
       "      <th></th>\n",
       "      <th>Stamm</th>\n",
       "      <th>Wert</th>\n",
       "      <th>Stimmung</th>\n",
       "      <th>Typ</th>\n",
       "      <th>Wort</th>\n",
       "    </tr>\n",
       "  </thead>\n",
       "  <tbody>\n",
       "    <tr>\n",
       "      <th>count</th>\n",
       "      <td>31274</td>\n",
       "      <td>31274</td>\n",
       "      <td>31274</td>\n",
       "      <td>31274</td>\n",
       "      <td>31274</td>\n",
       "    </tr>\n",
       "    <tr>\n",
       "      <th>unique</th>\n",
       "      <td>1</td>\n",
       "      <td>1</td>\n",
       "      <td>1</td>\n",
       "      <td>1</td>\n",
       "      <td>2</td>\n",
       "    </tr>\n",
       "    <tr>\n",
       "      <th>top</th>\n",
       "      <td>False</td>\n",
       "      <td>False</td>\n",
       "      <td>False</td>\n",
       "      <td>False</td>\n",
       "      <td>False</td>\n",
       "    </tr>\n",
       "    <tr>\n",
       "      <th>freq</th>\n",
       "      <td>31274</td>\n",
       "      <td>31274</td>\n",
       "      <td>31274</td>\n",
       "      <td>31274</td>\n",
       "      <td>30467</td>\n",
       "    </tr>\n",
       "  </tbody>\n",
       "</table>\n",
       "</div>"
      ],
      "text/plain": [
       "        Stamm   Wert Stimmung    Typ   Wort\n",
       "count   31274  31274    31274  31274  31274\n",
       "unique      1      1        1      1      2\n",
       "top     False  False    False  False  False\n",
       "freq    31274  31274    31274  31274  30467"
      ]
     },
     "execution_count": 70,
     "metadata": {},
     "output_type": "execute_result"
    }
   ],
   "source": [
    "#solution\n",
    "vocab.isna().describe()"
   ]
  },
  {
   "cell_type": "markdown",
   "metadata": {},
   "source": [
    "Anstatt sie zu streichen, werden sie mit einer leeren Zeichenkette ersetzt. Dies verhindert, dass unser Vokabular schrumpft, was wir unbedingt verhindern wollen, da unser Modell auf Basis des Vokabulars erzeugt wird."
   ]
  },
  {
   "cell_type": "code",
   "execution_count": 71,
   "metadata": {},
   "outputs": [],
   "source": [
    "vocab.fillna('', inplace=True)"
   ]
  },
  {
   "cell_type": "markdown",
   "metadata": {},
   "source": [
    "**Aufgabe: Welchen Stimmungswert besitzt das Adjektiv _gut_ im `vocab` Vokabular?**"
   ]
  },
  {
   "cell_type": "code",
   "execution_count": 72,
   "metadata": {},
   "outputs": [
    {
     "data": {
      "application/vnd.jupyter.widget-view+json": {
       "model_id": "6f5ea2dfea1a48b699c303ca65688cbd",
       "version_major": 2,
       "version_minor": 0
      },
      "text/plain": [
       "Output()"
      ]
     },
     "metadata": {},
     "output_type": "display_data"
    },
    {
     "data": {
      "application/vnd.jupyter.widget-view+json": {
       "model_id": "cc78a340cab445c2a48ad9bbe4e61da1",
       "version_major": 2,
       "version_minor": 0
      },
      "text/plain": [
       "Output()"
      ]
     },
     "metadata": {},
     "output_type": "display_data"
    },
    {
     "data": {
      "application/vnd.jupyter.widget-view+json": {
       "model_id": "5004c9bf485e44c8b89ccb8712938811",
       "version_major": 2,
       "version_minor": 0
      },
      "text/plain": [
       "Output()"
      ]
     },
     "metadata": {},
     "output_type": "display_data"
    }
   ],
   "source": [
    "#hideInput\n",
    "texte_lm.show_task(314)"
   ]
  },
  {
   "cell_type": "code",
   "execution_count": 73,
   "metadata": {},
   "outputs": [
    {
     "data": {
      "text/html": [
       "<div>\n",
       "<style scoped>\n",
       "    .dataframe tbody tr th:only-of-type {\n",
       "        vertical-align: middle;\n",
       "    }\n",
       "\n",
       "    .dataframe tbody tr th {\n",
       "        vertical-align: top;\n",
       "    }\n",
       "\n",
       "    .dataframe thead th {\n",
       "        text-align: right;\n",
       "    }\n",
       "</style>\n",
       "<table border=\"1\" class=\"dataframe\">\n",
       "  <thead>\n",
       "    <tr style=\"text-align: right;\">\n",
       "      <th></th>\n",
       "      <th>Stamm</th>\n",
       "      <th>Wert</th>\n",
       "      <th>Stimmung</th>\n",
       "      <th>Typ</th>\n",
       "      <th>Wort</th>\n",
       "    </tr>\n",
       "  </thead>\n",
       "  <tbody>\n",
       "    <tr>\n",
       "      <th>13353</th>\n",
       "      <td>gut</td>\n",
       "      <td>0.3716</td>\n",
       "      <td>positiv</td>\n",
       "      <td>ADJX</td>\n",
       "      <td>gut</td>\n",
       "    </tr>\n",
       "  </tbody>\n",
       "</table>\n",
       "</div>"
      ],
      "text/plain": [
       "      Stamm    Wert Stimmung   Typ Wort\n",
       "13353   gut  0.3716  positiv  ADJX  gut"
      ]
     },
     "execution_count": 73,
     "metadata": {},
     "output_type": "execute_result"
    }
   ],
   "source": [
    "#solution\n",
    "vocab.loc[(vocab['Typ'] == 'ADJX') & (vocab['Wort'] == 'gut')]"
   ]
  },
  {
   "cell_type": "markdown",
   "metadata": {},
   "source": [
    "**Aufgabe: Wie lautet das \"schlechteste\", also das am schlechtesten annotierte Wort im `vocab` Vokabular?**"
   ]
  },
  {
   "cell_type": "code",
   "execution_count": 74,
   "metadata": {},
   "outputs": [
    {
     "data": {
      "application/vnd.jupyter.widget-view+json": {
       "model_id": "504e599de30a41f18c22019f2c8c8913",
       "version_major": 2,
       "version_minor": 0
      },
      "text/plain": [
       "Output()"
      ]
     },
     "metadata": {},
     "output_type": "display_data"
    },
    {
     "data": {
      "application/vnd.jupyter.widget-view+json": {
       "model_id": "115ef6e0a5fb4803b8fe93502d6736ca",
       "version_major": 2,
       "version_minor": 0
      },
      "text/plain": [
       "Output()"
      ]
     },
     "metadata": {},
     "output_type": "display_data"
    },
    {
     "data": {
      "application/vnd.jupyter.widget-view+json": {
       "model_id": "80a86c0d45c84e6daf62c1c93b9d0145",
       "version_major": 2,
       "version_minor": 0
      },
      "text/plain": [
       "Output()"
      ]
     },
     "metadata": {},
     "output_type": "display_data"
    }
   ],
   "source": [
    "#hideInput\n",
    "texte_lm.show_task(315)"
   ]
  },
  {
   "cell_type": "code",
   "execution_count": 75,
   "metadata": {},
   "outputs": [
    {
     "data": {
      "text/html": [
       "<div>\n",
       "<style scoped>\n",
       "    .dataframe tbody tr th:only-of-type {\n",
       "        vertical-align: middle;\n",
       "    }\n",
       "\n",
       "    .dataframe tbody tr th {\n",
       "        vertical-align: top;\n",
       "    }\n",
       "\n",
       "    .dataframe thead th {\n",
       "        text-align: right;\n",
       "    }\n",
       "</style>\n",
       "<table border=\"1\" class=\"dataframe\">\n",
       "  <thead>\n",
       "    <tr style=\"text-align: right;\">\n",
       "      <th></th>\n",
       "      <th>Stamm</th>\n",
       "      <th>Wert</th>\n",
       "      <th>Stimmung</th>\n",
       "      <th>Typ</th>\n",
       "      <th>Wort</th>\n",
       "    </tr>\n",
       "  </thead>\n",
       "  <tbody>\n",
       "    <tr>\n",
       "      <th>1021</th>\n",
       "      <td>Gefahr</td>\n",
       "      <td>-1.0000</td>\n",
       "      <td>negativ</td>\n",
       "      <td>NN</td>\n",
       "      <td>Gefahr</td>\n",
       "    </tr>\n",
       "    <tr>\n",
       "      <th>1022</th>\n",
       "      <td>Gefahr</td>\n",
       "      <td>-1.0000</td>\n",
       "      <td>negativ</td>\n",
       "      <td>NN</td>\n",
       "      <td>Gefahren</td>\n",
       "    </tr>\n",
       "    <tr>\n",
       "      <th>2017</th>\n",
       "      <td>Schuld</td>\n",
       "      <td>-0.9686</td>\n",
       "      <td>negativ</td>\n",
       "      <td>NN</td>\n",
       "      <td>Schulden</td>\n",
       "    </tr>\n",
       "    <tr>\n",
       "      <th>2016</th>\n",
       "      <td>Schuld</td>\n",
       "      <td>-0.9686</td>\n",
       "      <td>negativ</td>\n",
       "      <td>NN</td>\n",
       "      <td>Schuld</td>\n",
       "    </tr>\n",
       "    <tr>\n",
       "      <th>25825</th>\n",
       "      <td>unnötig</td>\n",
       "      <td>-0.9463</td>\n",
       "      <td>negativ</td>\n",
       "      <td>ADJX</td>\n",
       "      <td>unnötigsten</td>\n",
       "    </tr>\n",
       "    <tr>\n",
       "      <th>25810</th>\n",
       "      <td>unnötig</td>\n",
       "      <td>-0.9463</td>\n",
       "      <td>negativ</td>\n",
       "      <td>ADJX</td>\n",
       "      <td>unnötigstes</td>\n",
       "    </tr>\n",
       "    <tr>\n",
       "      <th>25811</th>\n",
       "      <td>unnötig</td>\n",
       "      <td>-0.9463</td>\n",
       "      <td>negativ</td>\n",
       "      <td>ADJX</td>\n",
       "      <td>unnötigere</td>\n",
       "    </tr>\n",
       "    <tr>\n",
       "      <th>25812</th>\n",
       "      <td>unnötig</td>\n",
       "      <td>-0.9463</td>\n",
       "      <td>negativ</td>\n",
       "      <td>ADJX</td>\n",
       "      <td>unnötige</td>\n",
       "    </tr>\n",
       "    <tr>\n",
       "      <th>25813</th>\n",
       "      <td>unnötig</td>\n",
       "      <td>-0.9463</td>\n",
       "      <td>negativ</td>\n",
       "      <td>ADJX</td>\n",
       "      <td>unnötigeren</td>\n",
       "    </tr>\n",
       "    <tr>\n",
       "      <th>25814</th>\n",
       "      <td>unnötig</td>\n",
       "      <td>-0.9463</td>\n",
       "      <td>negativ</td>\n",
       "      <td>ADJX</td>\n",
       "      <td>unnötigen</td>\n",
       "    </tr>\n",
       "  </tbody>\n",
       "</table>\n",
       "</div>"
      ],
      "text/plain": [
       "         Stamm    Wert Stimmung   Typ         Wort\n",
       "1021    Gefahr -1.0000  negativ    NN       Gefahr\n",
       "1022    Gefahr -1.0000  negativ    NN     Gefahren\n",
       "2017    Schuld -0.9686  negativ    NN     Schulden\n",
       "2016    Schuld -0.9686  negativ    NN       Schuld\n",
       "25825  unnötig -0.9463  negativ  ADJX  unnötigsten\n",
       "25810  unnötig -0.9463  negativ  ADJX  unnötigstes\n",
       "25811  unnötig -0.9463  negativ  ADJX   unnötigere\n",
       "25812  unnötig -0.9463  negativ  ADJX     unnötige\n",
       "25813  unnötig -0.9463  negativ  ADJX  unnötigeren\n",
       "25814  unnötig -0.9463  negativ  ADJX    unnötigen"
      ]
     },
     "execution_count": 75,
     "metadata": {},
     "output_type": "execute_result"
    }
   ],
   "source": [
    "#solution\n",
    "vocab.sort_values('Wert').head(10)"
   ]
  },
  {
   "cell_type": "markdown",
   "metadata": {},
   "source": [
    "Unser Vokabular ist fertig. Als nächstes richten wir den Fokus wieder auf unsere Tweets."
   ]
  },
  {
   "cell_type": "markdown",
   "metadata": {},
   "source": [
    "#### 3.1.2 Vektorisierung"
   ]
  },
  {
   "cell_type": "markdown",
   "metadata": {},
   "source": [
    "Innerhalb der Vektorisierung überführen wir die symbolischen Textbeiträge in numerische Werte. Dies geschieht im Normalfall über Häufigkeitsverteilungen. Je öfter ein Wort im Text vorkommt, desto wichtiger scheint es zu sein, was sich in der Vektorisierung wiederspiegelt.\n",
    "\n",
    "In diesem Fall aber benutzen wir das bekannte Vokabular und überführen jedes einzelne Wort eines Tweets in seinen Stimmungswert. Das Wort _gut_ kriegt dabei den Stimmungswert 0.37 zugewiesen, wie bereits in einer der vorherigen Aufgaben behandelt wurde."
   ]
  },
  {
   "cell_type": "code",
   "execution_count": 76,
   "metadata": {},
   "outputs": [
    {
     "data": {
      "text/plain": [
       "13353    0.3716\n",
       "Name: Wert, dtype: float64"
      ]
     },
     "execution_count": 76,
     "metadata": {},
     "output_type": "execute_result"
    }
   ],
   "source": [
    "vocab.loc[vocab['Wort'] == 'gut'].Wert"
   ]
  },
  {
   "cell_type": "markdown",
   "metadata": {},
   "source": [
    "Für eine performante Vektorisierung benötigen wir einen Look-up-table aus den Schlüssel-/Wertpaaren `{ Wort : Stimmungswert }`."
   ]
  },
  {
   "cell_type": "code",
   "execution_count": 77,
   "metadata": {},
   "outputs": [],
   "source": [
    "lookup = pd.Series(vocab.Wert.values, index=vocab.Wort.str.lower()).to_dict()"
   ]
  },
  {
   "cell_type": "markdown",
   "metadata": {},
   "source": [
    "Die Vektorisierung wird nun über die `vectorize()` Funktion abgeschlossen."
   ]
  },
  {
   "cell_type": "code",
   "execution_count": 78,
   "metadata": {},
   "outputs": [],
   "source": [
    "def vectorize(tweet):\n",
    "    \"\"\"Vectorize tweets based on vocabulary\"\"\"\n",
    "    \n",
    "    return [lookup.get(a) for a in tweet if lookup.get(a)]"
   ]
  },
  {
   "cell_type": "code",
   "execution_count": 79,
   "metadata": {},
   "outputs": [
    {
     "data": {
      "text/html": [
       "<div>\n",
       "<style scoped>\n",
       "    .dataframe tbody tr th:only-of-type {\n",
       "        vertical-align: middle;\n",
       "    }\n",
       "\n",
       "    .dataframe tbody tr th {\n",
       "        vertical-align: top;\n",
       "    }\n",
       "\n",
       "    .dataframe thead th {\n",
       "        text-align: right;\n",
       "    }\n",
       "</style>\n",
       "<table border=\"1\" class=\"dataframe\">\n",
       "  <thead>\n",
       "    <tr style=\"text-align: right;\">\n",
       "      <th></th>\n",
       "      <th>Token</th>\n",
       "      <th>Vector</th>\n",
       "    </tr>\n",
       "  </thead>\n",
       "  <tbody>\n",
       "    <tr>\n",
       "      <th>0</th>\n",
       "      <td>[tut, so, gut, dass, so, viele, menschen, gege...</td>\n",
       "      <td>[0.3716, 0.004, -0.0048]</td>\n",
       "    </tr>\n",
       "    <tr>\n",
       "      <th>1</th>\n",
       "      <td>[protect, ur, hearts, keizha, tubilla]</td>\n",
       "      <td>[]</td>\n",
       "    </tr>\n",
       "    <tr>\n",
       "      <th>2</th>\n",
       "      <td>[artikel, konvention, menschenrechte, abs, jed...</td>\n",
       "      <td>[-0.0048, 0.004]</td>\n",
       "    </tr>\n",
       "    <tr>\n",
       "      <th>3</th>\n",
       "      <td>[sprecher, usgeführten, operation, inherent, r...</td>\n",
       "      <td>[-1.0, -0.0048, 0.004, 0.004]</td>\n",
       "    </tr>\n",
       "    <tr>\n",
       "      <th>5</th>\n",
       "      <td>[welche, psychisch, gestörten, einzeltäter, de...</td>\n",
       "      <td>[0.004, 0.3694, 0.0873, -0.0048, 0.2248, -0.77]</td>\n",
       "    </tr>\n",
       "  </tbody>\n",
       "</table>\n",
       "</div>"
      ],
      "text/plain": [
       "                                               Token  \\\n",
       "0  [tut, so, gut, dass, so, viele, menschen, gege...   \n",
       "1             [protect, ur, hearts, keizha, tubilla]   \n",
       "2  [artikel, konvention, menschenrechte, abs, jed...   \n",
       "3  [sprecher, usgeführten, operation, inherent, r...   \n",
       "5  [welche, psychisch, gestörten, einzeltäter, de...   \n",
       "\n",
       "                                            Vector  \n",
       "0                         [0.3716, 0.004, -0.0048]  \n",
       "1                                               []  \n",
       "2                                 [-0.0048, 0.004]  \n",
       "3                    [-1.0, -0.0048, 0.004, 0.004]  \n",
       "5  [0.004, 0.3694, 0.0873, -0.0048, 0.2248, -0.77]  "
      ]
     },
     "execution_count": 79,
     "metadata": {},
     "output_type": "execute_result"
    }
   ],
   "source": [
    "tweets = tweets.to_frame(name='Token')\n",
    "tweets['Vector'] = tweets['Token'].apply(vectorize)\n",
    "tweets.head()"
   ]
  },
  {
   "cell_type": "markdown",
   "metadata": {},
   "source": [
    "#### 3.1.3 Label"
   ]
  },
  {
   "cell_type": "markdown",
   "metadata": {},
   "source": [
    "Dieser Schritt fügt den Tweets eine Stimmung auf Basis der vektorisierten Tokens hinzu. Dabei summieren wir die jeweiligen Stimmungswerte aller im Tweet enthaltenen Wörter und schauen ob ihre Summe negativ oder positiv ausfällt. \n",
    "\n",
    "Erinnern wir uns zurück an die Stimmungslage im Intervall `['negativ', 'positiv']` annotiert die `get_labels()` Funktion im folgenden jeden Tweet anhand seiner Vektoren."
   ]
  },
  {
   "cell_type": "code",
   "execution_count": 80,
   "metadata": {},
   "outputs": [],
   "source": [
    "def get_labels(tweet):\n",
    "    \"\"\"Label tweets according to vocabulary.\"\"\"\n",
    "    \n",
    "    score = np.sum(tweet)\n",
    "            \n",
    "    if score > 0.0:\n",
    "        return 'positiv'\n",
    "    elif score < 0.0:\n",
    "        return 'negativ'\n",
    "    else:\n",
    "        return 'neutral'"
   ]
  },
  {
   "cell_type": "code",
   "execution_count": 81,
   "metadata": {},
   "outputs": [
    {
     "data": {
      "text/html": [
       "<div>\n",
       "<style scoped>\n",
       "    .dataframe tbody tr th:only-of-type {\n",
       "        vertical-align: middle;\n",
       "    }\n",
       "\n",
       "    .dataframe tbody tr th {\n",
       "        vertical-align: top;\n",
       "    }\n",
       "\n",
       "    .dataframe thead th {\n",
       "        text-align: right;\n",
       "    }\n",
       "</style>\n",
       "<table border=\"1\" class=\"dataframe\">\n",
       "  <thead>\n",
       "    <tr style=\"text-align: right;\">\n",
       "      <th></th>\n",
       "      <th>Token</th>\n",
       "      <th>Vector</th>\n",
       "      <th>Label</th>\n",
       "    </tr>\n",
       "  </thead>\n",
       "  <tbody>\n",
       "    <tr>\n",
       "      <th>0</th>\n",
       "      <td>[tut, so, gut, dass, so, viele, menschen, gege...</td>\n",
       "      <td>[0.3716, 0.004, -0.0048]</td>\n",
       "      <td>positiv</td>\n",
       "    </tr>\n",
       "    <tr>\n",
       "      <th>1</th>\n",
       "      <td>[protect, ur, hearts, keizha, tubilla]</td>\n",
       "      <td>[]</td>\n",
       "      <td>neutral</td>\n",
       "    </tr>\n",
       "    <tr>\n",
       "      <th>2</th>\n",
       "      <td>[artikel, konvention, menschenrechte, abs, jed...</td>\n",
       "      <td>[-0.0048, 0.004]</td>\n",
       "      <td>negativ</td>\n",
       "    </tr>\n",
       "    <tr>\n",
       "      <th>3</th>\n",
       "      <td>[sprecher, usgeführten, operation, inherent, r...</td>\n",
       "      <td>[-1.0, -0.0048, 0.004, 0.004]</td>\n",
       "      <td>negativ</td>\n",
       "    </tr>\n",
       "    <tr>\n",
       "      <th>5</th>\n",
       "      <td>[welche, psychisch, gestörten, einzeltäter, de...</td>\n",
       "      <td>[0.004, 0.3694, 0.0873, -0.0048, 0.2248, -0.77]</td>\n",
       "      <td>negativ</td>\n",
       "    </tr>\n",
       "  </tbody>\n",
       "</table>\n",
       "</div>"
      ],
      "text/plain": [
       "                                               Token  \\\n",
       "0  [tut, so, gut, dass, so, viele, menschen, gege...   \n",
       "1             [protect, ur, hearts, keizha, tubilla]   \n",
       "2  [artikel, konvention, menschenrechte, abs, jed...   \n",
       "3  [sprecher, usgeführten, operation, inherent, r...   \n",
       "5  [welche, psychisch, gestörten, einzeltäter, de...   \n",
       "\n",
       "                                            Vector    Label  \n",
       "0                         [0.3716, 0.004, -0.0048]  positiv  \n",
       "1                                               []  neutral  \n",
       "2                                 [-0.0048, 0.004]  negativ  \n",
       "3                    [-1.0, -0.0048, 0.004, 0.004]  negativ  \n",
       "5  [0.004, 0.3694, 0.0873, -0.0048, 0.2248, -0.77]  negativ  "
      ]
     },
     "execution_count": 81,
     "metadata": {},
     "output_type": "execute_result"
    }
   ],
   "source": [
    "tweets['Label'] = tweets['Vector'].apply(get_labels)\n",
    "tweets.head()"
   ]
  },
  {
   "cell_type": "markdown",
   "metadata": {},
   "source": [
    "**Aufgabe: Welches Label bekommt ein Tweet von der `get_labels()` Funktion, dessen Summe _0_ ist, weil entweder keine Wörter gefunden werden oder sich die Stimmungswerte aufheben?**"
   ]
  },
  {
   "cell_type": "code",
   "execution_count": 82,
   "metadata": {},
   "outputs": [
    {
     "data": {
      "application/vnd.jupyter.widget-view+json": {
       "model_id": "86fc8a62a7e642d6a33bdf249c3e1d58",
       "version_major": 2,
       "version_minor": 0
      },
      "text/plain": [
       "Output()"
      ]
     },
     "metadata": {},
     "output_type": "display_data"
    },
    {
     "data": {
      "application/vnd.jupyter.widget-view+json": {
       "model_id": "1c0d851c2752450c9aa834e2a66da7f1",
       "version_major": 2,
       "version_minor": 0
      },
      "text/plain": [
       "Output()"
      ]
     },
     "metadata": {},
     "output_type": "display_data"
    },
    {
     "data": {
      "application/vnd.jupyter.widget-view+json": {
       "model_id": "80d1c99ca2e84df0ab1bbd1883906b89",
       "version_major": 2,
       "version_minor": 0
      },
      "text/plain": [
       "Output()"
      ]
     },
     "metadata": {},
     "output_type": "display_data"
    }
   ],
   "source": [
    "#hideInput\n",
    "texte_lm.show_task(316)"
   ]
  },
  {
   "cell_type": "markdown",
   "metadata": {},
   "source": [
    "Neutrale Tweets sind für unsere binäre Klassifikation nicht relevant und werden verworfen."
   ]
  },
  {
   "cell_type": "code",
   "execution_count": 83,
   "metadata": {},
   "outputs": [
    {
     "data": {
      "text/html": [
       "<div>\n",
       "<style scoped>\n",
       "    .dataframe tbody tr th:only-of-type {\n",
       "        vertical-align: middle;\n",
       "    }\n",
       "\n",
       "    .dataframe tbody tr th {\n",
       "        vertical-align: top;\n",
       "    }\n",
       "\n",
       "    .dataframe thead th {\n",
       "        text-align: right;\n",
       "    }\n",
       "</style>\n",
       "<table border=\"1\" class=\"dataframe\">\n",
       "  <thead>\n",
       "    <tr style=\"text-align: right;\">\n",
       "      <th></th>\n",
       "      <th>Token</th>\n",
       "      <th>Vector</th>\n",
       "      <th>Label</th>\n",
       "    </tr>\n",
       "  </thead>\n",
       "  <tbody>\n",
       "    <tr>\n",
       "      <th>0</th>\n",
       "      <td>[tut, so, gut, dass, so, viele, menschen, gege...</td>\n",
       "      <td>[0.3716, 0.004, -0.0048]</td>\n",
       "      <td>positiv</td>\n",
       "    </tr>\n",
       "    <tr>\n",
       "      <th>2</th>\n",
       "      <td>[artikel, konvention, menschenrechte, abs, jed...</td>\n",
       "      <td>[-0.0048, 0.004]</td>\n",
       "      <td>negativ</td>\n",
       "    </tr>\n",
       "    <tr>\n",
       "      <th>3</th>\n",
       "      <td>[sprecher, usgeführten, operation, inherent, r...</td>\n",
       "      <td>[-1.0, -0.0048, 0.004, 0.004]</td>\n",
       "      <td>negativ</td>\n",
       "    </tr>\n",
       "    <tr>\n",
       "      <th>5</th>\n",
       "      <td>[welche, psychisch, gestörten, einzeltäter, de...</td>\n",
       "      <td>[0.004, 0.3694, 0.0873, -0.0048, 0.2248, -0.77]</td>\n",
       "      <td>negativ</td>\n",
       "    </tr>\n",
       "    <tr>\n",
       "      <th>6</th>\n",
       "      <td>[danke, da, gibt, nichts, mehr, hinzuzufügen]</td>\n",
       "      <td>[0.191]</td>\n",
       "      <td>positiv</td>\n",
       "    </tr>\n",
       "  </tbody>\n",
       "</table>\n",
       "</div>"
      ],
      "text/plain": [
       "                                               Token  \\\n",
       "0  [tut, so, gut, dass, so, viele, menschen, gege...   \n",
       "2  [artikel, konvention, menschenrechte, abs, jed...   \n",
       "3  [sprecher, usgeführten, operation, inherent, r...   \n",
       "5  [welche, psychisch, gestörten, einzeltäter, de...   \n",
       "6      [danke, da, gibt, nichts, mehr, hinzuzufügen]   \n",
       "\n",
       "                                            Vector    Label  \n",
       "0                         [0.3716, 0.004, -0.0048]  positiv  \n",
       "2                                 [-0.0048, 0.004]  negativ  \n",
       "3                    [-1.0, -0.0048, 0.004, 0.004]  negativ  \n",
       "5  [0.004, 0.3694, 0.0873, -0.0048, 0.2248, -0.77]  negativ  \n",
       "6                                          [0.191]  positiv  "
      ]
     },
     "execution_count": 83,
     "metadata": {},
     "output_type": "execute_result"
    }
   ],
   "source": [
    "tweets = tweets[tweets['Label'] != 'neutral']\n",
    "tweets.head()"
   ]
  },
  {
   "cell_type": "markdown",
   "metadata": {},
   "source": [
    "**Aufgabe: Wie sieht die Verteilung zwischen negativen und positiven Tweets aus? Ist die Stimmungslage eher negativ oder eher positiv?**"
   ]
  },
  {
   "cell_type": "code",
   "execution_count": 84,
   "metadata": {},
   "outputs": [
    {
     "data": {
      "application/vnd.jupyter.widget-view+json": {
       "model_id": "379a3fa2c75d458082894a032847ee97",
       "version_major": 2,
       "version_minor": 0
      },
      "text/plain": [
       "Output()"
      ]
     },
     "metadata": {},
     "output_type": "display_data"
    },
    {
     "data": {
      "application/vnd.jupyter.widget-view+json": {
       "model_id": "89c76bf3c8af48df8a27229cf9c12087",
       "version_major": 2,
       "version_minor": 0
      },
      "text/plain": [
       "Output()"
      ]
     },
     "metadata": {},
     "output_type": "display_data"
    },
    {
     "data": {
      "application/vnd.jupyter.widget-view+json": {
       "model_id": "13597d77cc854ec4a507b8d70d641a9f",
       "version_major": 2,
       "version_minor": 0
      },
      "text/plain": [
       "Output()"
      ]
     },
     "metadata": {},
     "output_type": "display_data"
    }
   ],
   "source": [
    "#hideInput\n",
    "texte_lm.show_task(317)"
   ]
  },
  {
   "cell_type": "code",
   "execution_count": 85,
   "metadata": {},
   "outputs": [
    {
     "data": {
      "text/plain": [
       "42325"
      ]
     },
     "execution_count": 85,
     "metadata": {},
     "output_type": "execute_result"
    }
   ],
   "source": [
    "#solution\n",
    "negative_count = tweets['Label'][tweets['Label'] == 'negativ'].count()\n",
    "negative_count"
   ]
  },
  {
   "cell_type": "code",
   "execution_count": 86,
   "metadata": {},
   "outputs": [
    {
     "data": {
      "text/plain": [
       "77602"
      ]
     },
     "execution_count": 86,
     "metadata": {},
     "output_type": "execute_result"
    }
   ],
   "source": [
    "#solution\n",
    "positive_count = tweets['Label'][tweets['Label'] == 'positiv'].count()\n",
    "positive_count"
   ]
  },
  {
   "cell_type": "code",
   "execution_count": 87,
   "metadata": {},
   "outputs": [
    {
     "data": {
      "image/png": "[encoded data removed]",
      "text/plain": [
       "<Figure size 432x288 with 1 Axes>"
      ]
     },
     "metadata": {},
     "output_type": "display_data"
    }
   ],
   "source": [
    "vf.plot_pie([negative_count, positive_count], labels=labels)"
   ]
  },
  {
   "cell_type": "markdown",
   "metadata": {},
   "source": [
    "#### 3.1.4 Features"
   ]
  },
  {
   "cell_type": "markdown",
   "metadata": {},
   "source": [
    "Jetzt fehlt nur noch eine Eingabe für unseren überwachten Klassifikator. Da diese auf Features und Labels angewiesen ist, strukturieren wir sie als einfaches Schlüsselwertpaar mit den Wörtern als Schlüssel und der Stimmung als Wert."
   ]
  },
  {
   "cell_type": "code",
   "execution_count": 88,
   "metadata": {},
   "outputs": [],
   "source": [
    "def get_features(tweets):\n",
    "    for tweet in tweets:\n",
    "        yield dict([(word, True) for word in tweet])"
   ]
  },
  {
   "cell_type": "code",
   "execution_count": 89,
   "metadata": {},
   "outputs": [],
   "source": [
    "negative_features = get_features(tweets.loc[tweets['Label'] == 'negativ']['Token'])\n",
    "negative_set = [(tweet_dict, 'negativ') for tweet_dict in negative_features]\n",
    "\n",
    "positive_features = get_features(tweets.loc[tweets['Label'] == 'positiv']['Token'])\n",
    "positive_set = [(tweet_dict, 'positiv') for tweet_dict in positive_features]\n",
    "\n",
    "train_set = negative_set + positive_set\n",
    "del negative_set, positive_set"
   ]
  },
  {
   "cell_type": "markdown",
   "metadata": {},
   "source": [
    "### 3.2 Textdaten klassifizieren"
   ]
  },
  {
   "cell_type": "markdown",
   "metadata": {},
   "source": [
    "#### 3.2.1 Überwachte Klassifikation"
   ]
  },
  {
   "cell_type": "markdown",
   "metadata": {},
   "source": [
    "Mithilfe des [Naive Bayes](https://www.nltk.org/_modules/nltk/classify/naivebayes.html) Algorithmus führen wir eine überwachte Klassifizierung aus. Dabei versucht der Klassifikator eine Gruppe von Features ihrer wahrscheinlichsten Klasse (hier: Stimmung) zuzuordnen. In unserem Fall repräsentiert jedes Wort im Tweet ein Feature, wonach ein Feature-Set alle Wörter eines Tweets beinhaltet. In der folgenden Animation wird der Lernprozess des Klassifikators auf Basis von drei Klassen veranschaulicht:\n",
    "\n",
    "![Naive Bayes](https://upload.wikimedia.org/wikipedia/commons/b/b4/Naive_Bayes_Classifier.gif)"
   ]
  },
  {
   "cell_type": "code",
   "execution_count": 90,
   "metadata": {},
   "outputs": [],
   "source": [
    "from nltk import NaiveBayesClassifier, classify"
   ]
  },
  {
   "cell_type": "markdown",
   "metadata": {},
   "source": [
    "Im Folgenden wird unser `nbclassifier` Klassifikator mithilfe von NLTK erzeugt und trainiert."
   ]
  },
  {
   "cell_type": "code",
   "execution_count": 91,
   "metadata": {},
   "outputs": [],
   "source": [
    "nbclassifier = NaiveBayesClassifier.train(train_set)"
   ]
  },
  {
   "cell_type": "markdown",
   "metadata": {},
   "source": [
    "**Aufgabe: Wie lautet das informativste Wort des `nbclassifier` Klassifikators?**"
   ]
  },
  {
   "cell_type": "code",
   "execution_count": 92,
   "metadata": {},
   "outputs": [
    {
     "data": {
      "application/vnd.jupyter.widget-view+json": {
       "model_id": "c2d167dbd7be4c188e866554d4a5cdd9",
       "version_major": 2,
       "version_minor": 0
      },
      "text/plain": [
       "Output()"
      ]
     },
     "metadata": {},
     "output_type": "display_data"
    },
    {
     "data": {
      "application/vnd.jupyter.widget-view+json": {
       "model_id": "ea03f564723841eba9ebfb272c57ec89",
       "version_major": 2,
       "version_minor": 0
      },
      "text/plain": [
       "Output()"
      ]
     },
     "metadata": {},
     "output_type": "display_data"
    },
    {
     "data": {
      "application/vnd.jupyter.widget-view+json": {
       "model_id": "d466a4cbe75741ecbc46bcdff5887e31",
       "version_major": 2,
       "version_minor": 0
      },
      "text/plain": [
       "Output()"
      ]
     },
     "metadata": {},
     "output_type": "display_data"
    }
   ],
   "source": [
    "#hideInput\n",
    "texte_lm.show_task(321)"
   ]
  },
  {
   "cell_type": "code",
   "execution_count": 93,
   "metadata": {},
   "outputs": [
    {
     "name": "stdout",
     "output_type": "stream",
     "text": [
      "Most Informative Features\n",
      "              gefährlich = True           negati : positi =    327.0 : 1.0\n",
      "                  gefahr = True           negati : positi =    268.1 : 1.0\n",
      "                 falsche = True           negati : positi =    254.9 : 1.0\n",
      "                gefahren = True           negati : positi =    230.4 : 1.0\n",
      "              schlechter = True           negati : positi =    175.4 : 1.0\n",
      "                bestraft = True           negati : positi =    125.3 : 1.0\n",
      "                 designs = True           positi : negati =    121.6 : 1.0\n",
      "                schlecht = True           negati : positi =    120.6 : 1.0\n",
      "           findyourthing = True           positi : negati =    116.5 : 1.0\n",
      "                  gewalt = True           negati : positi =    114.6 : 1.0\n"
     ]
    }
   ],
   "source": [
    "#solution\n",
    "nbclassifier.show_most_informative_features()"
   ]
  },
  {
   "cell_type": "markdown",
   "metadata": {},
   "source": [
    "**Aufgabe: Wie gut schlägt sich der `nbclassifier` Klassifikator auf den Trainingsdaten?**"
   ]
  },
  {
   "cell_type": "code",
   "execution_count": 94,
   "metadata": {},
   "outputs": [
    {
     "data": {
      "application/vnd.jupyter.widget-view+json": {
       "model_id": "9ec55ea5d61d45989c4a4ca29a433f2b",
       "version_major": 2,
       "version_minor": 0
      },
      "text/plain": [
       "Output()"
      ]
     },
     "metadata": {},
     "output_type": "display_data"
    },
    {
     "data": {
      "application/vnd.jupyter.widget-view+json": {
       "model_id": "915e2c89e95949c48a47e3e58c4225d7",
       "version_major": 2,
       "version_minor": 0
      },
      "text/plain": [
       "Output()"
      ]
     },
     "metadata": {},
     "output_type": "display_data"
    },
    {
     "data": {
      "application/vnd.jupyter.widget-view+json": {
       "model_id": "ed55fdbffa264a1a8c0f19c60f4cd820",
       "version_major": 2,
       "version_minor": 0
      },
      "text/plain": [
       "Output()"
      ]
     },
     "metadata": {},
     "output_type": "display_data"
    }
   ],
   "source": [
    "#hideInput\n",
    "texte_lm.show_task(322)"
   ]
  },
  {
   "cell_type": "code",
   "execution_count": 95,
   "metadata": {},
   "outputs": [
    {
     "data": {
      "text/plain": [
       "0.8123608528521518"
      ]
     },
     "execution_count": 95,
     "metadata": {},
     "output_type": "execute_result"
    }
   ],
   "source": [
    "#solution\n",
    "classify.accuracy(nbclassifier, train_set)"
   ]
  },
  {
   "cell_type": "markdown",
   "metadata": {},
   "source": [
    "#### 3.2.2 Unüberwachte Klassifikation"
   ]
  },
  {
   "cell_type": "markdown",
   "metadata": {},
   "source": [
    "Mithilfe von [K-means](https://www.nltk.org/_modules/nltk/cluster/kmeans.html) Clustering führen wir eine unüberwachte Klassifizierung aus. Dabei versucht der Klassifikator ähnliche Vektoren zu einem Cluster (hier: Stimmungen) zu gruppieren. In unserem Fall repräsentiert jedes Wort eines Tweets eine Dimension des Vektors, wonach alle Wörter eines Tweets einen n-dimensionalen Spaltenvektor bilden. In der folgenden Animation wird der Lernprozess des Klassifikators auf Basis von drei Clustern veranschaulicht:\n",
    "\n",
    "![K-means](https://camo.githubusercontent.com/77a842161f9588166625169d1f0944e838837f19b105d7e55d235652cfcc3786/68747470733a2f2f692e696d6775722e636f6d2f6b3458636170492e676966)"
   ]
  },
  {
   "cell_type": "markdown",
   "metadata": {},
   "source": [
    "Natürlich werden nicht immer gleich viele Wörter pro Tweet im Vokabular gefunden. Da unser unüberwachter Klassifikator eine konstante Eingabe benötigt, müssen wir uns auf eine Wortzahl einigen, die vom Modell pro Tweet einbezogen wird. Naheliegend entscheiden wir uns für die im Mittel gefundenen Wörter als `pad_size` und verdoppeln diese."
   ]
  },
  {
   "cell_type": "code",
   "execution_count": 96,
   "metadata": {},
   "outputs": [
    {
     "data": {
      "text/plain": [
       "4"
      ]
     },
     "execution_count": 96,
     "metadata": {},
     "output_type": "execute_result"
    }
   ],
   "source": [
    "pad_size = int(np.round(np.mean([len(vector) for vector in tweets['Vector']])))\n",
    "pad_size *= 2\n",
    "pad_size"
   ]
  },
  {
   "cell_type": "markdown",
   "metadata": {},
   "source": [
    "Fehlende Werte werden mit der `padding()` Funktion wie folgt aufgefüllt."
   ]
  },
  {
   "cell_type": "code",
   "execution_count": 97,
   "metadata": {},
   "outputs": [],
   "source": [
    "def padding(tweet): # Execution time too long\n",
    "    \"\"\"Pad vectors with zeros at the end.\"\"\"\n",
    "       \n",
    "    return np.pad(tweet[:pad_size], (0, pad_size-len(tweet[:pad_size])))"
   ]
  },
  {
   "cell_type": "code",
   "execution_count": 98,
   "metadata": {},
   "outputs": [],
   "source": [
    "tweets['Vector'] = tweets['Vector'].apply(padding)"
   ]
  },
  {
   "cell_type": "code",
   "execution_count": 99,
   "metadata": {},
   "outputs": [],
   "source": [
    "from nltk.cluster import KMeansClusterer, euclidean_distance"
   ]
  },
  {
   "cell_type": "markdown",
   "metadata": {},
   "source": [
    "Im Folgenden wird unser unüberwachter `kmclusterer` Klassifikator mithilfe von NLTK erzeugt und trainiert."
   ]
  },
  {
   "cell_type": "code",
   "execution_count": 100,
   "metadata": {},
   "outputs": [],
   "source": [
    "kmclusterer = KMeansClusterer(2, euclidean_distance, repeats=10, avoid_empty_clusters=True)"
   ]
  },
  {
   "cell_type": "code",
   "execution_count": 101,
   "metadata": {},
   "outputs": [],
   "source": [
    "clusters = kmclusterer.cluster(tweets['Vector'], True)"
   ]
  },
  {
   "cell_type": "markdown",
   "metadata": {},
   "source": [
    "**Aufgabe: Hinter welcher Funktion verstecken sich die Zentren unseres `kmclusterer` Klassifikators?**"
   ]
  },
  {
   "cell_type": "code",
   "execution_count": 102,
   "metadata": {},
   "outputs": [
    {
     "data": {
      "application/vnd.jupyter.widget-view+json": {
       "model_id": "63bde112afc04f23b01d6aa9394b4cb5",
       "version_major": 2,
       "version_minor": 0
      },
      "text/plain": [
       "Output()"
      ]
     },
     "metadata": {},
     "output_type": "display_data"
    },
    {
     "data": {
      "application/vnd.jupyter.widget-view+json": {
       "model_id": "e4292e1016164b65abcd578a6504891b",
       "version_major": 2,
       "version_minor": 0
      },
      "text/plain": [
       "Output()"
      ]
     },
     "metadata": {},
     "output_type": "display_data"
    },
    {
     "data": {
      "application/vnd.jupyter.widget-view+json": {
       "model_id": "9469cb7f8d9141589cfdfde831241fb8",
       "version_major": 2,
       "version_minor": 0
      },
      "text/plain": [
       "Output()"
      ]
     },
     "metadata": {},
     "output_type": "display_data"
    }
   ],
   "source": [
    "#hideInput\n",
    "texte_lm.show_task(323)"
   ]
  },
  {
   "cell_type": "code",
   "execution_count": 103,
   "metadata": {},
   "outputs": [],
   "source": [
    "#solution\n",
    "means = kmclusterer.means()"
   ]
  },
  {
   "cell_type": "code",
   "execution_count": 104,
   "metadata": {},
   "outputs": [
    {
     "data": {
      "image/png": "[encoded data removed]",
      "text/plain": [
       "<Figure size 432x288 with 1 Axes>"
      ]
     },
     "metadata": {
      "needs_background": "light"
     },
     "output_type": "display_data"
    }
   ],
   "source": [
    "vf.plot_clusters(means)"
   ]
  },
  {
   "cell_type": "markdown",
   "metadata": {},
   "source": [
    "<div style=\"background-color: #150458; padding: 5px;\"></div>\n",
    "\n",
    "## 4. Verwendung"
   ]
  },
  {
   "cell_type": "markdown",
   "metadata": {},
   "source": [
    "[Zurück zur Übersicht](#Lernmodul-zur-Verarbeitung-und-Analyse-von-Textdaten)"
   ]
  },
  {
   "cell_type": "markdown",
   "metadata": {},
   "source": [
    "In der Verwendungsdomäne werden zum Abschluss die Stimmung eigener Tweets vorhergesagt.\n",
    "\n",
    "Welche Schritte ein Tweet innerhalb der Verwendung durchläuft verdeutlicht die folgende Abbildung:\n",
    "\n",
    "![Model](./img/usage_flow.png)"
   ]
  },
  {
   "cell_type": "markdown",
   "metadata": {},
   "source": [
    "### 4.1 Textdaten vorhersagen"
   ]
  },
  {
   "cell_type": "markdown",
   "metadata": {},
   "source": [
    "Exemplarisch wird ein frei erfundener negativer Tweet betrachtet:\n",
    "\n",
    "> Was für ein schlechtes Lernmodul"
   ]
  },
  {
   "cell_type": "code",
   "execution_count": 105,
   "metadata": {},
   "outputs": [],
   "source": [
    "negative = \"Was für ein schlechtes Lernmodul\""
   ]
  },
  {
   "cell_type": "markdown",
   "metadata": {},
   "source": [
    "Ebenfalls wird ein positives Beispiel betrachtet:\n",
    "\n",
    "> Was für ein gutes Lernmodul"
   ]
  },
  {
   "cell_type": "code",
   "execution_count": 106,
   "metadata": {},
   "outputs": [],
   "source": [
    "positive = \"Was für ein gutes Lernmodul\""
   ]
  },
  {
   "cell_type": "markdown",
   "metadata": {},
   "source": [
    "Im produktiven Einsatz müssten diese Beispiele ebenfalls die Datendomäne durchlaufen, was wir uns in diesem Fall ersparen."
   ]
  },
  {
   "cell_type": "markdown",
   "metadata": {},
   "source": [
    "Zuletzt werden 100 zufällige Tweets aus dem Datensatz vorhergesagt."
   ]
  },
  {
   "cell_type": "code",
   "execution_count": 107,
   "metadata": {},
   "outputs": [],
   "source": [
    "train_sample = tweets.sample(100) # 100 random tweets"
   ]
  },
  {
   "cell_type": "markdown",
   "metadata": {},
   "source": [
    "#### 4.1.1 Überwachter Klassifikator"
   ]
  },
  {
   "cell_type": "markdown",
   "metadata": {},
   "source": [
    "[Zurück zur überwachten Klassifikation](#3.2.1-Überwachte-Klassifikation)"
   ]
  },
  {
   "cell_type": "markdown",
   "metadata": {},
   "source": [
    "Welche Stimmung drückt unser negatives Beispiel nach Vorhersage der überwachten Klassifizierung aus?"
   ]
  },
  {
   "cell_type": "code",
   "execution_count": 108,
   "metadata": {},
   "outputs": [
    {
     "data": {
      "text/plain": [
       "'negativ'"
      ]
     },
     "execution_count": 108,
     "metadata": {},
     "output_type": "execute_result"
    }
   ],
   "source": [
    "nbclassifier.classify(mf.get_features_for_single_tweet(negative.split()))"
   ]
  },
  {
   "cell_type": "markdown",
   "metadata": {},
   "source": [
    "Welche Stimmung drückt unser positives Beispiel nach Vorhersage der überwachten Klassifizierung aus?"
   ]
  },
  {
   "cell_type": "code",
   "execution_count": 109,
   "metadata": {},
   "outputs": [
    {
     "data": {
      "text/plain": [
       "'positiv'"
      ]
     },
     "execution_count": 109,
     "metadata": {},
     "output_type": "execute_result"
    }
   ],
   "source": [
    "nbclassifier.classify(mf.get_features_for_single_tweet(positive.split()))"
   ]
  },
  {
   "cell_type": "markdown",
   "metadata": {},
   "source": [
    "Wie schlägt sich unser überwachter Klassifikator im Detail? Dafür klassifizieren wir beispielhaft 100 Tweets über die `supervised_classifier()` Funktion."
   ]
  },
  {
   "cell_type": "code",
   "execution_count": 110,
   "metadata": {},
   "outputs": [
    {
     "name": "stdout",
     "output_type": "stream",
     "text": [
      "#\tSoll\tIst\t∆\tTweet\n",
      "180480\tpositiv\tpositiv\t \tDu brauchst neuen Serienstoff fürs lange Wochenende? @DrSeimen und ich haben Dir \"e Hampfle\" #Serien\n",
      "101429\tpositiv\tpositiv\t \t@Unerwartet111 @KotarbaRalf Da gebe ich ihnen recht,u. sehe das genau so. \n",
      "Einfach nur Widerlich, di\n",
      "21125\tnegativ\tnegativ\t \tDie #Grippe grassiert mal wieder, aktuell gibt's schon mindestens 130 Tote in dieser Saison in D und\n",
      "36882\tnegativ\tnegativ\t \t@Der_Postillon Diese Partei ist so schäbig. Bei der AfD und Deutschland drängt sich mir immer die An\n",
      "35390\tpositiv\tnegativ\tX\t@JuedischeOnline @KarstenSchrder Es scheint Methode zu haben, wem nützt es?\n",
      "Schon früher trugen die \n",
      "101965\tnegativ\tnegativ\t \t@johannesboie daher haben wir nicht nur ein rechtsextremes u linkes antisemitisches Problem was schl\n",
      "165256\tpositiv\tpositiv\t \t\"O Brother Where Art Thou?\" \n",
      "ein toller Soundtrack zu einem großartigen Film!\n",
      "#musiclover #vinyl #vi\n",
      "83534\tnegativ\tnegativ\t \t@krk979 So sah es aus als ich heute Abend einkaufen war. (München) Die Menschen drehen langsam durch\n",
      "16396\tnegativ\tnegativ\t \tAbschlusstweet\n",
      "\n",
      "Berlin kann, wenn es will, auch spontan 5 K Menschen in Neukölln und 3,5 K Menschen \n",
      "23563\tpositiv\tpositiv\t \tDie Landeszentrale für politische Bildung Bremen und der Verein „Erinnern für die Zukunft e.V.“ biet\n",
      "182675\tnegativ\tnegativ\t \t....Infektionen extrem beschleunigen die usw.\n",
      "Aber immer schön nach noch mehr Geld greinen!\n",
      "47927\tnegativ\tnegativ\t \tFür'n Überblick hier unsere damalige Grüne PM, mit ein paar Worten auch von mir: \"Vom inter Kind bis\n",
      "40208\tpositiv\tpositiv\t \t@CathyLEfun @MartinaRosemann @Zilfstar @Vonlutzie @RedLady000 @LehnerMeli @PusteBlume2903 @Dornstoes\n",
      "142951\tpositiv\tpositiv\t \t*Bibliothek während \"Social-Distancing*\n",
      "\n",
      "Bitte beachtet die Homepage der Bibliothek der HAW Landshut\n",
      "30618\tpositiv\tnegativ\tX\t@poppykind Meine Kleine trägt noch 74/80 mit ihren 1 1/2 und die Große mit 3 1/2 ist jetzt zwischen \n",
      "38872\tnegativ\tnegativ\t \t@playmo_man @OetkerDigital @arminia @DrOetkerPizzaDE «In jedem Ende liegt ein neuer Anfang.» Bestimm\n",
      "123192\tpositiv\tpositiv\t \t@freak_on_tour @ReWeJuIs2 Nö muss man nicht, aber ich hab doch persönliche Präferenzen uû gelegentli\n",
      "39641\tpositiv\tpositiv\t \t@GruenerKansler Schön wär's,ich wollte schon immer mit der Büchse über der Schulter einkaufen gehen\n",
      "92691\tpositiv\tpositiv\t \t@Rejome1 @Domen701 @Webmonster8 @DanielK22370291 😂😂😂😂😂\n",
      "So kann es gut losgehen.\n",
      "I love it💕\n",
      "Melde mic\n",
      "40324\tpositiv\tnegativ\tX\t@morgenbart @PHPmacher Stimmt. Der Rhein wird in NL schnell zur Industriestraße, an deren Ufer sich \n",
      "203417\tpositiv\tnegativ\tX\tNächstes Jahr sind wir wieder dabei und fordern natürlich auch heute:\n",
      "Gute Arbeit! Gute Löhne! Gute \n",
      "68939\tnegativ\tnegativ\t \tDT Matthias Hauer: Das Abkommen mit #Tuerkei war richtig. Es verhindert, dass sich Menschen auf den \n",
      "208288\tpositiv\tpositiv\t \t@zeitonline Das liegt auch daran, dass Mama sich gerne vordrängelt, wenn es um die kleinen geht. Wen\n",
      "98693\tpositiv\tnegativ\tX\t@katcontent_ @Kushrauch @123koenig @fuchsbauinfo @GurkoEl Und? Ist auch nur eine Meinungsäußerung. S\n",
      "167828\tnegativ\tnegativ\t \t\"Nur einer von zehn kommt lebend wieder raus\": Mein Interview mit dem deutschen Infektiologen Michae\n",
      "88459\tpositiv\tnegativ\tX\t@Karl_Lauterbach Die aus Idlib außer Landes fliehen, sind mit Sicherheit keine Zivilisten, sondern İ\n",
      "76861\tpositiv\tpositiv\t \t\"Fazit: Sein eigentliches Versprechen, den Berliner Wohnungsmarkt „sozial gerechter“ zu machen, kann\n",
      "90438\tpositiv\tpositiv\t \t@gloganggermany Ich hab das auch nicht so gut gemacht und ich hab dich nicht so gut geschlafen und i\n",
      "189631\tpositiv\tpositiv\t \tAuch good to know: you can kuschel with strangers as long as you are in a car:\n",
      "\n",
      "Fahrgemeinschaften\n",
      "§\n",
      "27677\tnegativ\tnegativ\t \tFussball Brille\n",
      "..Beispiel Hertha BSC\n",
      "https://t.co/7wnN3qEAN8\n",
      "..\n",
      "https://t.co/RUW8wrkHiV\n",
      "\n",
      "Foto altes\n",
      "194386\tpositiv\tpositiv\t \t@much_more_wine Wunderschön, damals wie heute!\n",
      "43959\tnegativ\tnegativ\t \tEine #Unfallhilfsstelle befindet sich auf der #Bolkerstraße in der #Altstadt. Hier sind die Helfer u\n",
      "11596\tnegativ\tnegativ\t \tKönnten wir uns jetzt drauf einigen: keine Rechtsextreme mehr in Sendungen, auf Bühnen, in Interview\n",
      "35019\tpositiv\tnegativ\tX\t@Leon_Sharon_ @Hartes_Geld Wie schön, das Ihre Statistik so brandaktuell ist...\n",
      "Wie war das noch ?\n",
      "A\n",
      "115626\tpositiv\tpositiv\t \t@bluefilou haha stimmt, danke das du uns mit diesem Anblick beschenkst... 😎 hat mich dazu gebracht z\n",
      "147038\tnegativ\tnegativ\t \tThread zur neuen Analyse des @imperialcollege, in dem u.a von der Anzahl der #Coronavirus Toten auf \n",
      "16342\tnegativ\tnegativ\t \tDuisburg ist nicht nur Endpunkt der neuen Seidenstraße, sondern auch Partnerstadt von Wuhan, dem Zen\n",
      "8563\tpositiv\tpositiv\t \tMir bei Patreon zu folgen lohnt sich übrigens auch für Nicht-Unterstützer:innen. Dort verarbeite ich\n",
      "165707\tpositiv\tpositiv\t \tDie große Abrechnungsfolge für Jacky #gntm\n",
      "89358\tpositiv\tnegativ\tX\t@flyinvisible jaaaa also die beiden findens jetzt nicht so schlimm aber mir gehn männer einfach scho\n",
      "184426\tpositiv\tpositiv\t \t@TinaMontelino Oh ja. Schön. Danke für's Mitnehmen.\n",
      "138323\tpositiv\tpositiv\t \tMigros-Gruppe trotz anspruchsvollem Geschäftsjahr 2019 gut auf Kurs #News #HelpNews @migros  https:/\n",
      "183392\tpositiv\tpositiv\t \tErstmal ein herzliches Hallo an die neuen in der Runde.\n",
      "Schön, dass ihr mich gefunden habt und wert \n",
      "201062\tnegativ\tnegativ\t \t@architektausber @fahrradfrei @scharnowsk1 @KritischeDer @Chris_Hanreich @axel_gutmann @ernst_gennat\n",
      "178542\tpositiv\tnegativ\tX\t„Gerade am Tag der Arbeit werden wir trotz Corona auf der Straße sein und unsere Forderung nach eine\n",
      "162302\tnegativ\tnegativ\t \tIn meinem Umfeld zeigen sich gerade viele Menschen, die durch die Pandemie emotionale Druckstellen b\n",
      "208107\tnegativ\tnegativ\t \t@ChrisTheisen Auf unserer Straße waren die meisten Kinder etwa zwischen drei Jahren jünger oder älte\n",
      "111488\tnegativ\tnegativ\t \t@AlterSack10 Ich fürchte, das Leben wird überhaupt nicht mehr wie vorher. \n",
      "Also laß sie halt a bißl \n",
      "199670\tnegativ\tnegativ\t \t@RocknRolf1 @magnusmunter Ja, wir sind verwundbar durch Rotgrün gemacht worden“. Erinnern wir uns au\n",
      "54932\tpositiv\tpositiv\t \tChilla: Das spiele ich morgen I - Spielbuch für Orgel NEU! (STRUBE 3361)... https://t.co/Gx3Oms44TE\n",
      "195285\tpositiv\tpositiv\t \t@rosenzweig_leo @maybritillner @c_lindner Die sitzt in ihrem Büro und ist nur schön.\n",
      "180375\tpositiv\tpositiv\t \tGuten Morgen große Welt\n",
      "\n",
      "Ich habe einen Krebskalender bekommen 😊 ab jetzt wird nach jeder Chemo ein \n",
      "60490\tpositiv\tnegativ\tX\tGladbach zittert sich zum Sieg: Sancho trifft, BVB jubelt, Schiri unterbricht https://t.co/rwhyYim2v\n",
      "133772\tnegativ\tnegativ\t \tMoin Twünglinge.\n",
      "Mittwoch und kein Homofiss.\n",
      "Gleich erst mal duschen und dann zur Post, weil der Pak\n",
      "126959\tpositiv\tpositiv\t \tDiese scheiße Corona Morona hat mich pornosüchtig gemacht und dann gibts nich free Premium amk\n",
      "15610\tnegativ\tnegativ\t \t1:\n",
      "Tilo Jung twittert über rechts/links &amp; jeder fragt sich, ob der noch ganz nüchtern ist. 👇\n",
      "2:\n",
      "\n",
      "32270\tpositiv\tpositiv\t \tUnd klar gibt es Ziele, die wir erreichen wollen. Und das schaffen wir. Gemeinsam, okay? Das Gefühl,\n",
      "24275\tpositiv\tpositiv\t \tDu kannst meine Designs auf vielen Produkten kaufen. Unterstütz mich auf Redbubble #RBandME:  https:\n",
      "15131\tpositiv\tpositiv\t \tTrotz Aktienhausse steigt Gold auf 7-Jahres-Hoch: DAX und Sundamp;P500 steigen von einem Rekordhoch \n",
      "80821\tnegativ\tnegativ\t \t@elly_rockhard Schwäbisch ist kein Dialekt. \n",
      "Schwäbisch ist Nötigung.\n",
      "134730\tpositiv\tpositiv\t \tIn den kommenden Wochen werden umfangreiche Arbeiten in der Bürgermeister-Brunner-Straße stattfinden\n",
      "188156\tpositiv\tpositiv\t \t@Jah_Reggaeman @GMaxee @UbisoftDE @assassinscreed trotzdem sieht't schön aus :)\n",
      "175341\tpositiv\tpositiv\t \tSchweine \n",
      "macht jemand halt \n",
      "schön herrichten \n",
      "wie sieht es aus Club\n",
      " bisschen \n",
      "\"Moods\"\n",
      "Irish Coffee\n",
      "18388\tpositiv\tpositiv\t \tnächster halt feucht ausstieg rechts\n",
      "22491\tpositiv\tpositiv\t \tErst mal 'n gutes Buch schmökern. 🤪 https://t.co/dTuIKYbSGq\n",
      "81591\tpositiv\tnegativ\tX\t@undsenfdazu @Lovefefee Dann wäre es genauso große Sch.…, nur würde ich dann vielleicht „junger Beng\n",
      "67796\tpositiv\tnegativ\tX\tDie \"ökosoziale Steuerreform\" der Regierung lässt große Konzerne aus. Wer sich wirklich im Regierung\n",
      "190392\tnegativ\tnegativ\t \t@zaubermaus45 Danke, aber ich guck nicht nur die Tagesschau. Und ich hab mit keinem Wort erwähnt, da\n",
      "90368\tpositiv\tnegativ\tX\t@keyflake Ich teile oft deine Meinung und schätze deine Kommentare, dennoch gibt es Grenzen in der f\n",
      "140880\tpositiv\tnegativ\tX\tNeonazi und mutmaßlicher Mordhelfer im #Lübcke-Fall hatte Job bei einer Rüstungsfirma - und kam prob\n",
      "38281\tpositiv\tnegativ\tX\t@Himmelknurren @RolandTichy Wenn man das Original gelesen hat (wenn man weiß wo man suchen muß, find\n",
      "187767\tpositiv\tpositiv\t \t@TobiRaue Gibt grad eh keine Geräte - Lieferketten im Eimer. Aber schöne Vorstellung: Du klickst ein\n",
      "18945\tpositiv\tnegativ\tX\tmein Vater will einfach n‘ Staubsauger mit nach Kosovo nehmen ich glaub’s nicht\n",
      "166825\tpositiv\tpositiv\t \thttps://t.co/acpbgINsAv | Gaia Ascension Cards - Das exklusive Original | Finde Wege , ohne Angst | \n",
      "141258\tpositiv\tpositiv\t \tCovestro: Leichte Erweiterung der Leerverkauf-Aktivitäten von D.E. Shaw &amp; Co. - Aktiennews: Leve\n",
      "121411\tpositiv\tnegativ\tX\t@TrapaTashi @ennolenze @ShahakShapira Es hat auch keiner gesagt, dass nur Baden-Württemberg hilft - \n",
      "201758\tpositiv\tpositiv\t \t@z_abfalter @TomMayerEuropa Man sieht grad sehr schön, dass die Leute in 6h Homeoffice mehr weiterkr\n",
      "127327\tpositiv\tpositiv\t \t*** BILDplus Inhalt *** Der Bayern-Boss exklusiv - Das denkt Kahn wirklich über Neuer und Nübel http\n",
      "118821\tpositiv\tnegativ\tX\t@PQFilm @BMFSFJ @taz @FidAReV @quote_pro @Journalistinnen Ihr könnt ja gerne auf meine Intensivstati\n",
      "84223\tpositiv\tpositiv\t \t@bazookadiebombe @dietantefrieda jaja 🙄 schon gut. Schön, hast du dir so eine eloquente Reply ausged\n",
      "4684\tnegativ\tnegativ\t \tNein, das ist a) ein falscher &amp; b) ein suggestiv problematischer Vergleich:\n",
      "\n",
      "a) Überschwemmungen\n",
      "64773\tpositiv\tpositiv\t \tZOE SABOT 05.-07. 03. im Studio Royale!! Bizarre Gespielin und Sklavia - Aktiv / Passiv Lieblingsakt\n",
      "50262\tpositiv\tpositiv\t \t@PatBorm Alles schön und gut, aber dann?\n",
      "\n",
      "Weiß immer noch nicht was ich groß anders tun kann? Nazis \n",
      "98279\tpositiv\tpositiv\t \t@DomVienna Ohhh das sieht gut aus. Da muss ich beim nächsten mal bleiben.\n",
      "149713\tpositiv\tnegativ\tX\tMich würde das ja nicht betreffen,  aber dann sollen doch mal die Damen und Herren Politiker mal mit\n",
      "121896\tpositiv\tpositiv\t \t@araneahighwind Ja wir brauchen die fürs basteln! Und cherry blossom recipes kriegst du von normalen\n",
      "6247\tpositiv\tnegativ\tX\tDank Anerkennung von Betreuungs- und Erziehungszeit werden auch die älteren Frauen besser gestellt. \n",
      "74452\tnegativ\tnegativ\t \tNoch mehr Geld ? Wo fängt Erpressung an? Besser in den Herkunftsländern direkt helfen?\n",
      "20559\tnegativ\tpositiv\tX\t#Karneval heißt bei uns: #Rosenmontag ist der Campus in Krefeld geschlossen, #Veilchendienstag der C\n",
      "59255\tnegativ\tnegativ\t \tschlaflose nächste weil freundschaft mit langjährigem roblox freund gekündigt 😔\n",
      "135059\tpositiv\tpositiv\t \tGuten Morgen! 😁☕️\n",
      "Der erste Band der #Comic-Anthologie »Cozmic« präsentiert Science Fiction und #Fan\n",
      "95436\tpositiv\tpositiv\t \t@SchultheisEva Guten Morgen Herzchen. 😘💞😘💞💞😘  Ich danke Dir &amp; wünsche dir ebenfalls einen schöne\n",
      "74641\tpositiv\tpositiv\t \thttps://t.co/S03g9BPQXE\n",
      "\n",
      "---\n",
      "und das hier?\n",
      "noch mehr tour?\n",
      "-_-\n",
      "wenn falls - naja\n",
      "wenn's denn sein mu\n",
      "97393\tpositiv\tpositiv\t \t@aton1958 Guten Morgen Jürgen. Dankeschön 💚\n",
      "93471\tpositiv\tpositiv\t \t@horstwalther @Mondlichtmotte Und schön mit dem Vorhang den Arsch abgewischt, oder? 🤢🤮\n",
      "59161\tpositiv\tnegativ\tX\ti'm a simple woman… jemand macht/sagt etwas, das aus der sicht „der norm“ vermutlich als „normal“ et\n",
      "45379\tnegativ\tnegativ\t \t@AfDLindemann @tagesschau Der Sohn des Vaters des Täters soll genau so dieselbe faschistische Scheiß\n",
      "148687\tnegativ\tnegativ\t \tWir werden verkauft und verraten von #merkel und ihren #politik #verbrechern\n",
      "24734\tnegativ\tnegativ\t \tAch komm kleine #Zahlfotze!\n",
      "Ich weis das dein kleiner #Zahlschwanz bei dem Anblick schreit: Zahle an\n",
      "120547\tpositiv\tpositiv\t \t@Gedankenbalsam Das ist ja schön, dass Sie hier wieder gedanklich zum Balsamieren hereinschauen!\n",
      "\n",
      "Genauigkeit: 0.78\n"
     ]
    },
    {
     "data": {
      "image/png": "[encoded data removed]",
      "text/plain": [
       "<Figure size 432x288 with 1 Axes>"
      ]
     },
     "metadata": {},
     "output_type": "display_data"
    }
   ],
   "source": [
    "mf.supervised_classifier(train_sample, tweets_copy, nbclassifier, labels) # On Train"
   ]
  },
  {
   "cell_type": "markdown",
   "metadata": {},
   "source": [
    "#### Unüberwachter Klassifikator"
   ]
  },
  {
   "cell_type": "markdown",
   "metadata": {},
   "source": [
    "[Zurück zur unüberwachten Klassifikation](#3.2.2-Unüberwachte-Klassifikation)"
   ]
  },
  {
   "cell_type": "markdown",
   "metadata": {},
   "source": [
    "Welche Stimmung drückt unser negatives Beispiel nach Vorhersage der unüberwachten Klassifizierung aus?"
   ]
  },
  {
   "cell_type": "code",
   "execution_count": 111,
   "metadata": {},
   "outputs": [
    {
     "data": {
      "text/plain": [
       "'negativ'"
      ]
     },
     "execution_count": 111,
     "metadata": {},
     "output_type": "execute_result"
    }
   ],
   "source": [
    "labels[kmclusterer.classify(padding(vectorize((negative.split()))))]"
   ]
  },
  {
   "cell_type": "markdown",
   "metadata": {},
   "source": [
    "Welche Stimmung drückt unser positives Beispiel nach Vorhersage der unüberwachten Klassifizierung aus?"
   ]
  },
  {
   "cell_type": "code",
   "execution_count": 112,
   "metadata": {},
   "outputs": [
    {
     "data": {
      "text/plain": [
       "'positiv'"
      ]
     },
     "execution_count": 112,
     "metadata": {},
     "output_type": "execute_result"
    }
   ],
   "source": [
    "labels[kmclusterer.classify(padding(vectorize((positive.split()))))]"
   ]
  },
  {
   "cell_type": "markdown",
   "metadata": {},
   "source": [
    "Wie schlägt sich unser unüberwachter Klassifikator im Detail? Dafür klassifizieren 100 zufällig ausgewählte Tweets über die `unsupervised_classifier()` Funktion."
   ]
  },
  {
   "cell_type": "code",
   "execution_count": 113,
   "metadata": {},
   "outputs": [
    {
     "name": "stdout",
     "output_type": "stream",
     "text": [
      "#\tSoll\tIst\t∆\tTweet\n",
      "180480\tpositiv\tnegativ\tX\tDu brauchst neuen Serienstoff fürs lange Wochenende? @DrSeimen und ich haben Dir \"e Hampfle\" #Serien\n",
      "101429\tpositiv\tnegativ\tX\t@Unerwartet111 @KotarbaRalf Da gebe ich ihnen recht,u. sehe das genau so. \n",
      "Einfach nur Widerlich, di\n",
      "21125\tnegativ\tnegativ\t \tDie #Grippe grassiert mal wieder, aktuell gibt's schon mindestens 130 Tote in dieser Saison in D und\n",
      "36882\tnegativ\tnegativ\t \t@Der_Postillon Diese Partei ist so schäbig. Bei der AfD und Deutschland drängt sich mir immer die An\n",
      "35390\tpositiv\tnegativ\tX\t@JuedischeOnline @KarstenSchrder Es scheint Methode zu haben, wem nützt es?\n",
      "Schon früher trugen die \n",
      "101965\tnegativ\tnegativ\t \t@johannesboie daher haben wir nicht nur ein rechtsextremes u linkes antisemitisches Problem was schl\n",
      "165256\tpositiv\tpositiv\t \t\"O Brother Where Art Thou?\" \n",
      "ein toller Soundtrack zu einem großartigen Film!\n",
      "#musiclover #vinyl #vi\n",
      "83534\tnegativ\tpositiv\tX\t@krk979 So sah es aus als ich heute Abend einkaufen war. (München) Die Menschen drehen langsam durch\n",
      "16396\tnegativ\tnegativ\t \tAbschlusstweet\n",
      "\n",
      "Berlin kann, wenn es will, auch spontan 5 K Menschen in Neukölln und 3,5 K Menschen \n",
      "23563\tpositiv\tnegativ\tX\tDie Landeszentrale für politische Bildung Bremen und der Verein „Erinnern für die Zukunft e.V.“ biet\n",
      "182675\tnegativ\tnegativ\t \t....Infektionen extrem beschleunigen die usw.\n",
      "Aber immer schön nach noch mehr Geld greinen!\n",
      "47927\tnegativ\tnegativ\t \tFür'n Überblick hier unsere damalige Grüne PM, mit ein paar Worten auch von mir: \"Vom inter Kind bis\n",
      "40208\tpositiv\tpositiv\t \t@CathyLEfun @MartinaRosemann @Zilfstar @Vonlutzie @RedLady000 @LehnerMeli @PusteBlume2903 @Dornstoes\n",
      "142951\tpositiv\tnegativ\tX\t*Bibliothek während \"Social-Distancing*\n",
      "\n",
      "Bitte beachtet die Homepage der Bibliothek der HAW Landshut\n",
      "30618\tpositiv\tnegativ\tX\t@poppykind Meine Kleine trägt noch 74/80 mit ihren 1 1/2 und die Große mit 3 1/2 ist jetzt zwischen \n",
      "38872\tnegativ\tnegativ\t \t@playmo_man @OetkerDigital @arminia @DrOetkerPizzaDE «In jedem Ende liegt ein neuer Anfang.» Bestimm\n",
      "123192\tpositiv\tnegativ\tX\t@freak_on_tour @ReWeJuIs2 Nö muss man nicht, aber ich hab doch persönliche Präferenzen uû gelegentli\n",
      "39641\tpositiv\tpositiv\t \t@GruenerKansler Schön wär's,ich wollte schon immer mit der Büchse über der Schulter einkaufen gehen\n",
      "92691\tpositiv\tpositiv\t \t@Rejome1 @Domen701 @Webmonster8 @DanielK22370291 😂😂😂😂😂\n",
      "So kann es gut losgehen.\n",
      "I love it💕\n",
      "Melde mic\n",
      "40324\tpositiv\tpositiv\t \t@morgenbart @PHPmacher Stimmt. Der Rhein wird in NL schnell zur Industriestraße, an deren Ufer sich \n",
      "203417\tpositiv\tpositiv\t \tNächstes Jahr sind wir wieder dabei und fordern natürlich auch heute:\n",
      "Gute Arbeit! Gute Löhne! Gute \n",
      "68939\tnegativ\tnegativ\t \tDT Matthias Hauer: Das Abkommen mit #Tuerkei war richtig. Es verhindert, dass sich Menschen auf den \n",
      "208288\tpositiv\tnegativ\tX\t@zeitonline Das liegt auch daran, dass Mama sich gerne vordrängelt, wenn es um die kleinen geht. Wen\n",
      "98693\tpositiv\tpositiv\t \t@katcontent_ @Kushrauch @123koenig @fuchsbauinfo @GurkoEl Und? Ist auch nur eine Meinungsäußerung. S\n",
      "167828\tnegativ\tnegativ\t \t\"Nur einer von zehn kommt lebend wieder raus\": Mein Interview mit dem deutschen Infektiologen Michae\n",
      "88459\tpositiv\tnegativ\tX\t@Karl_Lauterbach Die aus Idlib außer Landes fliehen, sind mit Sicherheit keine Zivilisten, sondern İ\n",
      "76861\tpositiv\tnegativ\tX\t\"Fazit: Sein eigentliches Versprechen, den Berliner Wohnungsmarkt „sozial gerechter“ zu machen, kann\n",
      "90438\tpositiv\tpositiv\t \t@gloganggermany Ich hab das auch nicht so gut gemacht und ich hab dich nicht so gut geschlafen und i\n",
      "189631\tpositiv\tnegativ\tX\tAuch good to know: you can kuschel with strangers as long as you are in a car:\n",
      "\n",
      "Fahrgemeinschaften\n",
      "§\n",
      "27677\tnegativ\tnegativ\t \tFussball Brille\n",
      "..Beispiel Hertha BSC\n",
      "https://t.co/7wnN3qEAN8\n",
      "..\n",
      "https://t.co/RUW8wrkHiV\n",
      "\n",
      "Foto altes\n",
      "194386\tpositiv\tpositiv\t \t@much_more_wine Wunderschön, damals wie heute!\n",
      "43959\tnegativ\tnegativ\t \tEine #Unfallhilfsstelle befindet sich auf der #Bolkerstraße in der #Altstadt. Hier sind die Helfer u\n",
      "11596\tnegativ\tnegativ\t \tKönnten wir uns jetzt drauf einigen: keine Rechtsextreme mehr in Sendungen, auf Bühnen, in Interview\n",
      "35019\tpositiv\tnegativ\tX\t@Leon_Sharon_ @Hartes_Geld Wie schön, das Ihre Statistik so brandaktuell ist...\n",
      "Wie war das noch ?\n",
      "A\n",
      "115626\tpositiv\tpositiv\t \t@bluefilou haha stimmt, danke das du uns mit diesem Anblick beschenkst... 😎 hat mich dazu gebracht z\n",
      "147038\tnegativ\tnegativ\t \tThread zur neuen Analyse des @imperialcollege, in dem u.a von der Anzahl der #Coronavirus Toten auf \n",
      "16342\tnegativ\tnegativ\t \tDuisburg ist nicht nur Endpunkt der neuen Seidenstraße, sondern auch Partnerstadt von Wuhan, dem Zen\n",
      "8563\tpositiv\tpositiv\t \tMir bei Patreon zu folgen lohnt sich übrigens auch für Nicht-Unterstützer:innen. Dort verarbeite ich\n",
      "165707\tpositiv\tpositiv\t \tDie große Abrechnungsfolge für Jacky #gntm\n",
      "89358\tpositiv\tnegativ\tX\t@flyinvisible jaaaa also die beiden findens jetzt nicht so schlimm aber mir gehn männer einfach scho\n",
      "184426\tpositiv\tnegativ\tX\t@TinaMontelino Oh ja. Schön. Danke für's Mitnehmen.\n",
      "138323\tpositiv\tpositiv\t \tMigros-Gruppe trotz anspruchsvollem Geschäftsjahr 2019 gut auf Kurs #News #HelpNews @migros  https:/\n",
      "183392\tpositiv\tnegativ\tX\tErstmal ein herzliches Hallo an die neuen in der Runde.\n",
      "Schön, dass ihr mich gefunden habt und wert \n",
      "201062\tnegativ\tnegativ\t \t@architektausber @fahrradfrei @scharnowsk1 @KritischeDer @Chris_Hanreich @axel_gutmann @ernst_gennat\n",
      "178542\tpositiv\tnegativ\tX\t„Gerade am Tag der Arbeit werden wir trotz Corona auf der Straße sein und unsere Forderung nach eine\n",
      "162302\tnegativ\tnegativ\t \tIn meinem Umfeld zeigen sich gerade viele Menschen, die durch die Pandemie emotionale Druckstellen b\n",
      "208107\tnegativ\tnegativ\t \t@ChrisTheisen Auf unserer Straße waren die meisten Kinder etwa zwischen drei Jahren jünger oder älte\n",
      "111488\tnegativ\tnegativ\t \t@AlterSack10 Ich fürchte, das Leben wird überhaupt nicht mehr wie vorher. \n",
      "Also laß sie halt a bißl \n",
      "199670\tnegativ\tnegativ\t \t@RocknRolf1 @magnusmunter Ja, wir sind verwundbar durch Rotgrün gemacht worden“. Erinnern wir uns au\n",
      "54932\tpositiv\tnegativ\tX\tChilla: Das spiele ich morgen I - Spielbuch für Orgel NEU! (STRUBE 3361)... https://t.co/Gx3Oms44TE\n",
      "195285\tpositiv\tnegativ\tX\t@rosenzweig_leo @maybritillner @c_lindner Die sitzt in ihrem Büro und ist nur schön.\n",
      "180375\tpositiv\tpositiv\t \tGuten Morgen große Welt\n",
      "\n",
      "Ich habe einen Krebskalender bekommen 😊 ab jetzt wird nach jeder Chemo ein \n",
      "60490\tpositiv\tnegativ\tX\tGladbach zittert sich zum Sieg: Sancho trifft, BVB jubelt, Schiri unterbricht https://t.co/rwhyYim2v\n",
      "133772\tnegativ\tnegativ\t \tMoin Twünglinge.\n",
      "Mittwoch und kein Homofiss.\n",
      "Gleich erst mal duschen und dann zur Post, weil der Pak\n",
      "126959\tpositiv\tnegativ\tX\tDiese scheiße Corona Morona hat mich pornosüchtig gemacht und dann gibts nich free Premium amk\n",
      "15610\tnegativ\tnegativ\t \t1:\n",
      "Tilo Jung twittert über rechts/links &amp; jeder fragt sich, ob der noch ganz nüchtern ist. 👇\n",
      "2:\n",
      "\n",
      "32270\tpositiv\tnegativ\tX\tUnd klar gibt es Ziele, die wir erreichen wollen. Und das schaffen wir. Gemeinsam, okay? Das Gefühl,\n",
      "24275\tpositiv\tnegativ\tX\tDu kannst meine Designs auf vielen Produkten kaufen. Unterstütz mich auf Redbubble #RBandME:  https:\n",
      "15131\tpositiv\tpositiv\t \tTrotz Aktienhausse steigt Gold auf 7-Jahres-Hoch: DAX und Sundamp;P500 steigen von einem Rekordhoch \n",
      "80821\tnegativ\tnegativ\t \t@elly_rockhard Schwäbisch ist kein Dialekt. \n",
      "Schwäbisch ist Nötigung.\n",
      "134730\tpositiv\tnegativ\tX\tIn den kommenden Wochen werden umfangreiche Arbeiten in der Bürgermeister-Brunner-Straße stattfinden\n",
      "188156\tpositiv\tnegativ\tX\t@Jah_Reggaeman @GMaxee @UbisoftDE @assassinscreed trotzdem sieht't schön aus :)\n",
      "175341\tpositiv\tnegativ\tX\tSchweine \n",
      "macht jemand halt \n",
      "schön herrichten \n",
      "wie sieht es aus Club\n",
      " bisschen \n",
      "\"Moods\"\n",
      "Irish Coffee\n",
      "18388\tpositiv\tnegativ\tX\tnächster halt feucht ausstieg rechts\n",
      "22491\tpositiv\tpositiv\t \tErst mal 'n gutes Buch schmökern. 🤪 https://t.co/dTuIKYbSGq\n",
      "81591\tpositiv\tpositiv\t \t@undsenfdazu @Lovefefee Dann wäre es genauso große Sch.…, nur würde ich dann vielleicht „junger Beng\n",
      "67796\tpositiv\tpositiv\t \tDie \"ökosoziale Steuerreform\" der Regierung lässt große Konzerne aus. Wer sich wirklich im Regierung\n",
      "190392\tnegativ\tpositiv\tX\t@zaubermaus45 Danke, aber ich guck nicht nur die Tagesschau. Und ich hab mit keinem Wort erwähnt, da\n",
      "90368\tpositiv\tpositiv\t \t@keyflake Ich teile oft deine Meinung und schätze deine Kommentare, dennoch gibt es Grenzen in der f\n",
      "140880\tpositiv\tnegativ\tX\tNeonazi und mutmaßlicher Mordhelfer im #Lübcke-Fall hatte Job bei einer Rüstungsfirma - und kam prob\n",
      "38281\tpositiv\tpositiv\t \t@Himmelknurren @RolandTichy Wenn man das Original gelesen hat (wenn man weiß wo man suchen muß, find\n",
      "187767\tpositiv\tnegativ\tX\t@TobiRaue Gibt grad eh keine Geräte - Lieferketten im Eimer. Aber schöne Vorstellung: Du klickst ein\n",
      "18945\tpositiv\tnegativ\tX\tmein Vater will einfach n‘ Staubsauger mit nach Kosovo nehmen ich glaub’s nicht\n",
      "166825\tpositiv\tnegativ\tX\thttps://t.co/acpbgINsAv | Gaia Ascension Cards - Das exklusive Original | Finde Wege , ohne Angst | \n",
      "141258\tpositiv\tnegativ\tX\tCovestro: Leichte Erweiterung der Leerverkauf-Aktivitäten von D.E. Shaw &amp; Co. - Aktiennews: Leve\n",
      "121411\tpositiv\tnegativ\tX\t@TrapaTashi @ennolenze @ShahakShapira Es hat auch keiner gesagt, dass nur Baden-Württemberg hilft - \n",
      "201758\tpositiv\tnegativ\tX\t@z_abfalter @TomMayerEuropa Man sieht grad sehr schön, dass die Leute in 6h Homeoffice mehr weiterkr\n",
      "127327\tpositiv\tnegativ\tX\t*** BILDplus Inhalt *** Der Bayern-Boss exklusiv - Das denkt Kahn wirklich über Neuer und Nübel http\n",
      "118821\tpositiv\tpositiv\t \t@PQFilm @BMFSFJ @taz @FidAReV @quote_pro @Journalistinnen Ihr könnt ja gerne auf meine Intensivstati\n",
      "84223\tpositiv\tpositiv\t \t@bazookadiebombe @dietantefrieda jaja 🙄 schon gut. Schön, hast du dir so eine eloquente Reply ausged\n",
      "4684\tnegativ\tnegativ\t \tNein, das ist a) ein falscher &amp; b) ein suggestiv problematischer Vergleich:\n",
      "\n",
      "a) Überschwemmungen\n",
      "64773\tpositiv\tnegativ\tX\tZOE SABOT 05.-07. 03. im Studio Royale!! Bizarre Gespielin und Sklavia - Aktiv / Passiv Lieblingsakt\n",
      "50262\tpositiv\tpositiv\t \t@PatBorm Alles schön und gut, aber dann?\n",
      "\n",
      "Weiß immer noch nicht was ich groß anders tun kann? Nazis \n",
      "98279\tpositiv\tpositiv\t \t@DomVienna Ohhh das sieht gut aus. Da muss ich beim nächsten mal bleiben.\n",
      "149713\tpositiv\tpositiv\t \tMich würde das ja nicht betreffen,  aber dann sollen doch mal die Damen und Herren Politiker mal mit\n",
      "121896\tpositiv\tpositiv\t \t@araneahighwind Ja wir brauchen die fürs basteln! Und cherry blossom recipes kriegst du von normalen\n",
      "6247\tpositiv\tpositiv\t \tDank Anerkennung von Betreuungs- und Erziehungszeit werden auch die älteren Frauen besser gestellt. \n",
      "74452\tnegativ\tnegativ\t \tNoch mehr Geld ? Wo fängt Erpressung an? Besser in den Herkunftsländern direkt helfen?\n",
      "20559\tnegativ\tnegativ\t \t#Karneval heißt bei uns: #Rosenmontag ist der Campus in Krefeld geschlossen, #Veilchendienstag der C\n",
      "59255\tnegativ\tpositiv\tX\tschlaflose nächste weil freundschaft mit langjährigem roblox freund gekündigt 😔\n",
      "135059\tpositiv\tpositiv\t \tGuten Morgen! 😁☕️\n",
      "Der erste Band der #Comic-Anthologie »Cozmic« präsentiert Science Fiction und #Fan\n",
      "95436\tpositiv\tpositiv\t \t@SchultheisEva Guten Morgen Herzchen. 😘💞😘💞💞😘  Ich danke Dir &amp; wünsche dir ebenfalls einen schöne\n",
      "74641\tpositiv\tnegativ\tX\thttps://t.co/S03g9BPQXE\n",
      "\n",
      "---\n",
      "und das hier?\n",
      "noch mehr tour?\n",
      "-_-\n",
      "wenn falls - naja\n",
      "wenn's denn sein mu\n",
      "97393\tpositiv\tpositiv\t \t@aton1958 Guten Morgen Jürgen. Dankeschön 💚\n",
      "93471\tpositiv\tnegativ\tX\t@horstwalther @Mondlichtmotte Und schön mit dem Vorhang den Arsch abgewischt, oder? 🤢🤮\n",
      "59161\tpositiv\tnegativ\tX\ti'm a simple woman… jemand macht/sagt etwas, das aus der sicht „der norm“ vermutlich als „normal“ et\n",
      "45379\tnegativ\tnegativ\t \t@AfDLindemann @tagesschau Der Sohn des Vaters des Täters soll genau so dieselbe faschistische Scheiß\n",
      "148687\tnegativ\tnegativ\t \tWir werden verkauft und verraten von #merkel und ihren #politik #verbrechern\n",
      "24734\tnegativ\tnegativ\t \tAch komm kleine #Zahlfotze!\n",
      "Ich weis das dein kleiner #Zahlschwanz bei dem Anblick schreit: Zahle an\n",
      "120547\tpositiv\tnegativ\tX\t@Gedankenbalsam Das ist ja schön, dass Sie hier wieder gedanklich zum Balsamieren hereinschauen!\n",
      "\n",
      "Genauigkeit: 0.5800000000000001\n"
     ]
    },
    {
     "data": {
      "image/png": "[encoded data removed]",
      "text/plain": [
       "<Figure size 432x288 with 1 Axes>"
      ]
     },
     "metadata": {},
     "output_type": "display_data"
    }
   ],
   "source": [
    "mf.unsupervised_classifier(train_sample, tweets_copy, kmclusterer, labels) # On Train"
   ]
  },
  {
   "cell_type": "markdown",
   "metadata": {},
   "source": [
    "<div style=\"background-color: #150458; padding: 5px;\"></div>\n",
    "\n",
    "## 5. Abschluss"
   ]
  },
  {
   "cell_type": "markdown",
   "metadata": {},
   "source": [
    "[Zurück zur Übersicht](#Lernmodul-zur-Verarbeitung-und-Analyse-von-Textdaten)"
   ]
  },
  {
   "cell_type": "markdown",
   "metadata": {},
   "source": [
    "Zum Abschluss des Lernmoduls folgen einige Verständnisfragen, bevor deine Gesamtpunktzahl errechnet wird..."
   ]
  },
  {
   "cell_type": "markdown",
   "metadata": {},
   "source": [
    "**Aufgabe: Welche Eingabe benötigt der überwachte `nbclassifier` Klassifikator?**"
   ]
  },
  {
   "cell_type": "code",
   "execution_count": 114,
   "metadata": {},
   "outputs": [
    {
     "data": {
      "application/vnd.jupyter.widget-view+json": {
       "model_id": "aa904c4061404de59ad4f7d50668c677",
       "version_major": 2,
       "version_minor": 0
      },
      "text/plain": [
       "Output()"
      ]
     },
     "metadata": {},
     "output_type": "display_data"
    },
    {
     "data": {
      "application/vnd.jupyter.widget-view+json": {
       "model_id": "86a86ea6498b4ccfa6c8c46c322f097d",
       "version_major": 2,
       "version_minor": 0
      },
      "text/plain": [
       "Output()"
      ]
     },
     "metadata": {},
     "output_type": "display_data"
    },
    {
     "data": {
      "application/vnd.jupyter.widget-view+json": {
       "model_id": "cb1300226ea7487488051e5dbe6c903c",
       "version_major": 2,
       "version_minor": 0
      },
      "text/plain": [
       "Output()"
      ]
     },
     "metadata": {},
     "output_type": "display_data"
    }
   ],
   "source": [
    "texte_lm.show_task(501)"
   ]
  },
  {
   "cell_type": "markdown",
   "metadata": {},
   "source": [
    "**Aufgabe: Welche Eingabe benötigt der unüberwachte `kmclusterer` Klassifikator?**"
   ]
  },
  {
   "cell_type": "code",
   "execution_count": 115,
   "metadata": {},
   "outputs": [
    {
     "data": {
      "application/vnd.jupyter.widget-view+json": {
       "model_id": "bb907582c1be4ae288aaed0c34fc5c91",
       "version_major": 2,
       "version_minor": 0
      },
      "text/plain": [
       "Output()"
      ]
     },
     "metadata": {},
     "output_type": "display_data"
    },
    {
     "data": {
      "application/vnd.jupyter.widget-view+json": {
       "model_id": "c5103040bcc14d489d097e5da03da278",
       "version_major": 2,
       "version_minor": 0
      },
      "text/plain": [
       "Output()"
      ]
     },
     "metadata": {},
     "output_type": "display_data"
    },
    {
     "data": {
      "application/vnd.jupyter.widget-view+json": {
       "model_id": "0d2a61913c644987b021daf8521884b3",
       "version_major": 2,
       "version_minor": 0
      },
      "text/plain": [
       "Output()"
      ]
     },
     "metadata": {},
     "output_type": "display_data"
    }
   ],
   "source": [
    "texte_lm.show_task(502)"
   ]
  },
  {
   "cell_type": "markdown",
   "metadata": {},
   "source": [
    "**Ergebnis:**\n",
    "\n",
    "Du hast folgende Punktzahl erreicht..."
   ]
  },
  {
   "cell_type": "code",
   "execution_count": 116,
   "metadata": {},
   "outputs": [
    {
     "data": {
      "text/plain": [
       "0.0"
      ]
     },
     "execution_count": 116,
     "metadata": {},
     "output_type": "execute_result"
    }
   ],
   "source": [
    "texte_lm.get_score()"
   ]
  },
  {
   "cell_type": "markdown",
   "metadata": {},
   "source": [
    "**Zusammenfassung:**\n",
    "\n",
    "Das vergangene Lernmodul hat einen Einblick in die Texterkennung als Teilgebiet des _NLP_ gegeben. Im Zuge einer Stimmungsanalyse von aktuellen Beiträgen auf Twitter, haben wir zunächst Rohdaten beschafft und erkundet. Irrelevante Inhalte wurden auf Basis von Sonderzeichen, URL-Schema und der Länge des resultierenden Beitrags, identifiziert und verworfen, sodass die Rohdaten als nächstes in ein Modell eingebettet wurden. Dieses Modell klassifizierte die Daten entweder überwacht oder unüberwacht, was verschiedene Einbettungsschritte hervorrief. Letztendlich konnte sowohl der überwachte als auch der unüberwachte Klassifikator die Stimmung eines Tweets einschätzen und vorhersagen."
   ]
  },
  {
   "cell_type": "markdown",
   "metadata": {},
   "source": [
    "**Glossar:**\n",
    "\n",
    "* NLP (Natural Language Processing)\n",
    "    * Verarbeitung menschlicher Sprache\n",
    "* NLTK (Natural Language ToolKit)\n",
    "    * Python-Bibliothek für die Verarbeitung menschlicher Sprache"
   ]
  },
  {
   "cell_type": "markdown",
   "metadata": {},
   "source": [
    "**Weiterführende Lernmodule:**\n",
    "\n",
    "- [Lernmodul zu Datamining mit Scikit Learn](https://projectbase.medien.hs-duesseldorf.de/eild.nrw-module/lernmodul-scikit)"
   ]
  },
  {
   "cell_type": "markdown",
   "metadata": {},
   "source": [
    "**Weiterführende Inhalte:**\n",
    "\n",
    "* Leitfäden\n",
    "    * [Cookbook by NLTK](https://www.nltk.org/book/)\n",
    "    * [Recurrent neural networks by TensorFlow](https://www.tensorflow.org/guide/keras/rnn?hl=en)\n",
    "    * [Text classification by Google Developers](https://developers.google.com/machine-learning/guides/text-classification)\n",
    "* Vektorisierung\n",
    "    * [TextBlob](https://textblob.readthedocs.io/en/dev/)\n",
    "    * [Word2Vec](https://radimrehurek.com/gensim/models/word2vec.html)\n",
    "* Tutorials\n",
    "    * [Basic text classification by TensorFlow](https://www.tensorflow.org/tutorials/keras/text_classification?hl=en)"
   ]
  },
  {
   "cell_type": "markdown",
   "metadata": {},
   "source": [
    "**Referenzen:**\n",
    "\n",
    "<a id=\"1\">[1]</a> Nane Kratzke. (2020). Monthly Samples of German Tweets (Version 2020-04) [Data set]. Zenodo. http://doi.org/10.5281/zenodo.3783478\n",
    "\n",
    "<a id=\"2\">[2]</a> R. Remus, U. Quasthoff & G. Heyer: SentiWS - a Publicly Available German-language Resource for Sentiment Analysis. In: Proceedings of the 7th International Language Resources and Evaluation (LREC'10), pp. 1168-1171, 2010"
   ]
  }
 ],
 "metadata": {
  "kernelspec": {
   "display_name": "Python 3",
   "language": "python",
   "name": "python3"
  },
  "language_info": {
   "codemirror_mode": {
    "name": "ipython",
    "version": 3
   },
   "file_extension": ".py",
   "mimetype": "text/x-python",
   "name": "python",
   "nbconvert_exporter": "python",
   "pygments_lexer": "ipython3",
   "version": "3.7.0"
  }
 },
 "nbformat": 4,
 "nbformat_minor": 4
}
