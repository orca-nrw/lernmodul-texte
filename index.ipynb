{
 "cells": [
  {
   "cell_type": "markdown",
   "metadata": {},
   "source": [
    "# Lernmodul zur Verarbeitung und Analyse von Textdaten"
   ]
  },
  {
   "cell_type": "markdown",
   "metadata": {},
   "source": [
    "Die Verarbeitung von menschlicher Sprache (Natural Language Processing, NLP) gilt als Voraussetzung für eine erfolgreiche Mensch-Maschine-Kommunikation. Zusätzlich kann sie dabei helfen eine vom Mensch unternommene Textanalyse zu unterstützen. Handelt es sich bei diesem Kommentar um unerwünschte Inhalte, verbreitet dieser Beitrag Falschinformationen und welche Meinung will der Verfasser mit dieser Rezension zum Ausdruck bringen.\n",
    "\n",
    "Im folgenden Lernmodul sollen mithilfe computergestützter Methoden eine Antwort auf solche Problemstellungen gefunden werden. Im Zuge der Sentiment Analysis wird versucht die Intention hinter einem Textbeitrag zu quantifizieren um bspw. zwischen einer positiven und einer negativen Aussage zu unterscheiden. Bevor aber ein Modell (hier: Klassifikator) eine Vorhersage (hier: Stimmung) über die verfügbaren Daten (hier: Textbeiträge) treffen kann, müssen diese vorbereitet werden. Das folgende Modul spielt diese Vorbereitung einmal mithilfe eines Jupyter Notebook, der Programmiersprache Python und unterstützenden Bibliotheken durch."
   ]
  },
  {
   "cell_type": "markdown",
   "metadata": {},
   "source": [
    "**Übersicht über die Lerninhalte:**\n",
    "\n",
    "1. [Einführung](#einführung)\n",
    "    1. [Motivation](#motivation)\n",
    "    2. [Voraussetzungen](#voraussetzungen)\n",
    "2. [Daten](#daten)\n",
    "    1. [Textdaten beschaffen](#beschaffen)\n",
    "    2. [Textdaten erkunden](#erkunden)\n",
    "    3. [Textdaten aufbereiten](#aufbereiten)\n",
    "        1. [Zeichen bereinigen](#zeichen-bereinigen)\n",
    "        2. [Wörter bereinigen](#wörter-bereinigen)\n",
    "        3. [Tweets bereinigen](#tweets-bereinigen)\n",
    "3. [Modell](#modell)\n",
    "    1. [Textdaten einbetten](#einbetten)\n",
    "    2. [Textdaten klassifizieren](#klassifizieren)\n",
    "        1. [Überwachte Klassifikation](#überwachte-klassifikation)\n",
    "        2. [Unüberwachte Klassifikation](#unüberwachte-klassifikation)\n",
    "4. [Verwendung](#verwendung)\n",
    "5. [Abschluss](#abschluss)"
   ]
  },
  {
   "cell_type": "markdown",
   "metadata": {},
   "source": [
    "**Lernziele:**\n",
    "\n",
    "Die Teilnehmer lernen Textdaten in roher Form Schritt für Schritt in kontextbezogene Daten für eine Textanalyse zu transformieren. Dies geschieht in der Datendomäne. Daraufhin bewegen sich die Teilnehmer in der Modelldomäne, in der sie die Daten in das Modell einbetten und sie vom Modell klassifizieren lassen."
   ]
  },
  {
   "cell_type": "markdown",
   "metadata": {},
   "source": [
    "**Voraussetzungen:**\n",
    "\n",
    "- [Lernmodul zum Datenimport und zur Datenvorbereitung mit Pandas](https://projectbase.medien.hs-duesseldorf.de/eild.nrw-module/lernmodul-pandas)"
   ]
  },
  {
   "cell_type": "markdown",
   "metadata": {},
   "source": [
    "**Setup für die Aufgabenüberprüfung:**"
   ]
  },
  {
   "cell_type": "code",
   "execution_count": 1,
   "metadata": {},
   "outputs": [],
   "source": [
    "from taskreview.learningModule import LearningModule\n",
    "texte_lm = LearningModule('data/lernmodul_texte.db')"
   ]
  },
  {
   "cell_type": "markdown",
   "metadata": {},
   "source": [
    "<div style=\"background-color: #150458; padding: 5px;\"></div>\n",
    "\n",
    "## 1. <a id='einführung'>Einführung</a>"
   ]
  },
  {
   "cell_type": "markdown",
   "metadata": {},
   "source": [
    "### 1.1 <a id='motivation'>Motivation</a>"
   ]
  },
  {
   "cell_type": "markdown",
   "metadata": {},
   "source": [
    "Die Verarbeitung menschlicher Sprache (Natural Language Processing, NLP) ist ein prominentes Forschungsfeld der Informatik mit ähnlichem Bekanntheitsgrad wie die Analyse visueller Daten (Computer Vision), welche bspw. das Erkennen von Bildern (Image Recognition) sowie ihre Manipulation (Image Augmentation) betrachtet. Im ersten Fall wollen wir einen bekannten bzw. alten Bildinhalt klassifizieren, während der zweite Fall einen unbekannten bzw. neuen Bildinhalt erzeugt."
   ]
  },
  {
   "cell_type": "markdown",
   "metadata": {},
   "source": [
    "Wechseln wir von der Bild- auf die Textebene, lässt sich das Forschungsfeld des _NLP_ auf ähnliche Problemstellungen herunterbrechen, die in der folgenden Auflistung aufgeführt sind:\n",
    "\n",
    "* Texterkennung (Text Recognition)\n",
    "  * Spracherkennung (Speech Recognition)\n",
    "  * Stimmungsanalyse (Sentiment Analysis)\n",
    "* Textmanipulation (Text Augmentation)\n",
    "  * Maschinelle Übersetzung (Machine Translation)\n",
    "  * Automatisches Antworten (Question Answering)"
   ]
  },
  {
   "cell_type": "markdown",
   "metadata": {},
   "source": [
    "Dieses Lernmodul beschäftigt sich mit der ersten Problemstellung, also der Texterkennung, im besonderen mit der Unterscheidung zwischen verschiedenen Stimmungen, welche der Verfasser eines Textes gehabt haben könnte. Ein aktuelles Anwendungsbeispiel ist die Identifikation von Hassreden, wie sie bspw. von [Facebook](https://www.facebook.com/) im Zuge ihrer [Community Standards](https://www.facebook.com/communitystandards/hate_speech) verboten sind und erkannt werden müssen. Aber auch ein aktuelles Stimmungsbild der Gesellschaft kann in Krisenzeiten über kürzlich verfasste Beiträge auf Twitter geschaffen werden."
   ]
  },
  {
   "cell_type": "markdown",
   "metadata": {},
   "source": [
    "### 1.2 <a id='voraussetzungen'>Voraussetzungen</a>"
   ]
  },
  {
   "cell_type": "markdown",
   "metadata": {},
   "source": [
    "Dieses Lernmodul nimmt sich [NumPy](https://numpy.org/) für numerische Berechnungen, [Pandas](https://pandas.pydata.org/) zur Datenverarbeitung und [PyPlot](https://matplotlib.org/api/pyplot_api.html) zur Datenvisualisierung zur Hilfe. Die folgende Zelle importiert benötigte Abhängigkeiten:"
   ]
  },
  {
   "cell_type": "code",
   "execution_count": 2,
   "metadata": {},
   "outputs": [],
   "source": [
    "import numpy as np\n",
    "import pandas as pd\n",
    "import matplotlib.pyplot as plt"
   ]
  },
  {
   "cell_type": "markdown",
   "metadata": {},
   "source": [
    "<div style=\"background-color: #150458; padding: 5px;\"></div>\n",
    "\n",
    "## 2. <a id='daten'>Daten</a>"
   ]
  },
  {
   "cell_type": "markdown",
   "metadata": {},
   "source": [
    "In der Datendomäne beschaffen wir uns zunächst einen Datensatz, welcher aus vielen Beispielen besteht, der die Grundgesamtheit an Daten bildet. Ein Beispiel umfasst dabei mindestens ein, wenn nicht sogar mehrere Merkmale. Ein Merkmal wird dabei durch einen numerischen oder symbolischen Wert verkörpert, der in unserem Fall bspw. ein Text sein kann.\n",
    "\n",
    "Im späteren Verlauf werden wir von der Daten- in die Modelldomäne voranschreiten. Hier werden einzelne Merkmale verworfen, andere wiederum für eine Modellvorhersage herangezogen. Mehr dazu im Abschnitt 3, denn zunächst beschaffen wir uns die Daten..."
   ]
  },
  {
   "cell_type": "markdown",
   "metadata": {},
   "source": [
    "### 2.1 <a id='beschaffen'>Textdaten beschaffen</a>"
   ]
  },
  {
   "cell_type": "markdown",
   "metadata": {},
   "source": [
    "Wo findet man in der heutigen Zeit aktuelle Daten, welche eine eigene Meinung enthalten? Auf dem Kurznachrichtendienst Twitter. Und genau von dort stammt das ZIP-Archiv `tweets.json.zip`, welches wir im folgenden mithilfe von Pandas einlesen und im DataFrame `twitter` hinterlegen."
   ]
  },
  {
   "cell_type": "code",
   "execution_count": 3,
   "metadata": {},
   "outputs": [],
   "source": [
    "twitter = pd.read_json('./tweets.json.gz', compression='gzip')"
   ]
  },
  {
   "cell_type": "markdown",
   "metadata": {},
   "source": [
    "### 2.2 <a id='erkunden'>Textdaten erkunden</a>"
   ]
  },
  {
   "cell_type": "markdown",
   "metadata": {},
   "source": [
    "Wie im [Lernmodul zum Datenimport und zur Datenvorbereitung mit Pandas](https://projectbase.medien.hs-duesseldorf.de/eild.nrw-module/lernmodul-pandas) kennengelernt, lässt sich über die `head()` Funktionalität der Kopf des Datensatzes betrachten. Wie schaut dieser aus?"
   ]
  },
  {
   "cell_type": "code",
   "execution_count": 4,
   "metadata": {},
   "outputs": [
    {
     "data": {
      "text/html": [
       "<div>\n",
       "<style scoped>\n",
       "    .dataframe tbody tr th:only-of-type {\n",
       "        vertical-align: middle;\n",
       "    }\n",
       "\n",
       "    .dataframe tbody tr th {\n",
       "        vertical-align: top;\n",
       "    }\n",
       "\n",
       "    .dataframe thead th {\n",
       "        text-align: right;\n",
       "    }\n",
       "</style>\n",
       "<table border=\"1\" class=\"dataframe\">\n",
       "  <thead>\n",
       "    <tr style=\"text-align: right;\">\n",
       "      <th></th>\n",
       "      <th>twista</th>\n",
       "      <th>type</th>\n",
       "      <th>id</th>\n",
       "      <th>user</th>\n",
       "      <th>created_at</th>\n",
       "      <th>recorded_at</th>\n",
       "      <th>source</th>\n",
       "      <th>retweets</th>\n",
       "      <th>favourites</th>\n",
       "      <th>lang</th>\n",
       "      <th>...</th>\n",
       "      <th>screen_name</th>\n",
       "      <th>location</th>\n",
       "      <th>description</th>\n",
       "      <th>url</th>\n",
       "      <th>verified</th>\n",
       "      <th>followers</th>\n",
       "      <th>friends</th>\n",
       "      <th>listed</th>\n",
       "      <th>statuses</th>\n",
       "      <th>refers_to</th>\n",
       "    </tr>\n",
       "  </thead>\n",
       "  <tbody>\n",
       "    <tr>\n",
       "      <th>0</th>\n",
       "      <td>0.3.1-b</td>\n",
       "      <td>status</td>\n",
       "      <td>1212046141279354880</td>\n",
       "      <td>1.140992e+18</td>\n",
       "      <td>2019-12-31 16:21:33+00:00</td>\n",
       "      <td>2019-12-31 16:21:39.286956+00:00</td>\n",
       "      <td>&lt;a href=\"https://mobile.twitter.com\" rel=\"nofo...</td>\n",
       "      <td>0.0</td>\n",
       "      <td>0</td>\n",
       "      <td>de</td>\n",
       "      <td>...</td>\n",
       "      <td>NaN</td>\n",
       "      <td>NaN</td>\n",
       "      <td>NaN</td>\n",
       "      <td>NaN</td>\n",
       "      <td>NaN</td>\n",
       "      <td>NaN</td>\n",
       "      <td>NaN</td>\n",
       "      <td>NaN</td>\n",
       "      <td>NaN</td>\n",
       "      <td>NaN</td>\n",
       "    </tr>\n",
       "    <tr>\n",
       "      <th>1</th>\n",
       "      <td>0.3.1-b</td>\n",
       "      <td>status</td>\n",
       "      <td>1212046145645662208</td>\n",
       "      <td>7.137519e+17</td>\n",
       "      <td>2019-12-31 16:21:34+00:00</td>\n",
       "      <td>2019-12-31 16:21:39.657847+00:00</td>\n",
       "      <td>&lt;a href=\"https://mobile.twitter.com\" rel=\"nofo...</td>\n",
       "      <td>0.0</td>\n",
       "      <td>0</td>\n",
       "      <td>de</td>\n",
       "      <td>...</td>\n",
       "      <td>NaN</td>\n",
       "      <td>NaN</td>\n",
       "      <td>NaN</td>\n",
       "      <td>NaN</td>\n",
       "      <td>NaN</td>\n",
       "      <td>NaN</td>\n",
       "      <td>NaN</td>\n",
       "      <td>NaN</td>\n",
       "      <td>NaN</td>\n",
       "      <td>NaN</td>\n",
       "    </tr>\n",
       "    <tr>\n",
       "      <th>2</th>\n",
       "      <td>0.3.1-b</td>\n",
       "      <td>status</td>\n",
       "      <td>1212046145737961472</td>\n",
       "      <td>7.158583e+17</td>\n",
       "      <td>2019-12-31 16:21:34+00:00</td>\n",
       "      <td>2019-12-31 16:21:39.700276+00:00</td>\n",
       "      <td>&lt;a href=\"http://www.facebook.com/twitter\" rel=...</td>\n",
       "      <td>0.0</td>\n",
       "      <td>0</td>\n",
       "      <td>de</td>\n",
       "      <td>...</td>\n",
       "      <td>NaN</td>\n",
       "      <td>NaN</td>\n",
       "      <td>NaN</td>\n",
       "      <td>NaN</td>\n",
       "      <td>NaN</td>\n",
       "      <td>NaN</td>\n",
       "      <td>NaN</td>\n",
       "      <td>NaN</td>\n",
       "      <td>NaN</td>\n",
       "      <td>NaN</td>\n",
       "    </tr>\n",
       "    <tr>\n",
       "      <th>3</th>\n",
       "      <td>0.3.1-b</td>\n",
       "      <td>status</td>\n",
       "      <td>1211821086905683968</td>\n",
       "      <td>1.106642e+18</td>\n",
       "      <td>2019-12-31 01:27:16+00:00</td>\n",
       "      <td>2019-12-31 16:21:40.016141+00:00</td>\n",
       "      <td>&lt;a href=\"http://twitter.com/download/iphone\" r...</td>\n",
       "      <td>1582.0</td>\n",
       "      <td>4518</td>\n",
       "      <td>en</td>\n",
       "      <td>...</td>\n",
       "      <td>NaN</td>\n",
       "      <td>NaN</td>\n",
       "      <td>NaN</td>\n",
       "      <td>NaN</td>\n",
       "      <td>NaN</td>\n",
       "      <td>NaN</td>\n",
       "      <td>NaN</td>\n",
       "      <td>NaN</td>\n",
       "      <td>NaN</td>\n",
       "      <td>NaN</td>\n",
       "    </tr>\n",
       "    <tr>\n",
       "      <th>4</th>\n",
       "      <td>0.3.1-b</td>\n",
       "      <td>status</td>\n",
       "      <td>1212046149990916096</td>\n",
       "      <td>9.990299e+08</td>\n",
       "      <td>2019-12-31 16:21:35+00:00</td>\n",
       "      <td>2019-12-31 16:21:40.711065+00:00</td>\n",
       "      <td>&lt;a href=\"http://twitter.com/download/android\" ...</td>\n",
       "      <td>0.0</td>\n",
       "      <td>0</td>\n",
       "      <td>de</td>\n",
       "      <td>...</td>\n",
       "      <td>NaN</td>\n",
       "      <td>NaN</td>\n",
       "      <td>NaN</td>\n",
       "      <td>NaN</td>\n",
       "      <td>NaN</td>\n",
       "      <td>NaN</td>\n",
       "      <td>NaN</td>\n",
       "      <td>NaN</td>\n",
       "      <td>NaN</td>\n",
       "      <td>NaN</td>\n",
       "    </tr>\n",
       "  </tbody>\n",
       "</table>\n",
       "<p>5 rows × 26 columns</p>\n",
       "</div>"
      ],
      "text/plain": [
       "    twista    type                   id          user  \\\n",
       "0  0.3.1-b  status  1212046141279354880  1.140992e+18   \n",
       "1  0.3.1-b  status  1212046145645662208  7.137519e+17   \n",
       "2  0.3.1-b  status  1212046145737961472  7.158583e+17   \n",
       "3  0.3.1-b  status  1211821086905683968  1.106642e+18   \n",
       "4  0.3.1-b  status  1212046149990916096  9.990299e+08   \n",
       "\n",
       "                 created_at                      recorded_at  \\\n",
       "0 2019-12-31 16:21:33+00:00 2019-12-31 16:21:39.286956+00:00   \n",
       "1 2019-12-31 16:21:34+00:00 2019-12-31 16:21:39.657847+00:00   \n",
       "2 2019-12-31 16:21:34+00:00 2019-12-31 16:21:39.700276+00:00   \n",
       "3 2019-12-31 01:27:16+00:00 2019-12-31 16:21:40.016141+00:00   \n",
       "4 2019-12-31 16:21:35+00:00 2019-12-31 16:21:40.711065+00:00   \n",
       "\n",
       "                                              source  retweets  favourites  \\\n",
       "0  <a href=\"https://mobile.twitter.com\" rel=\"nofo...       0.0           0   \n",
       "1  <a href=\"https://mobile.twitter.com\" rel=\"nofo...       0.0           0   \n",
       "2  <a href=\"http://www.facebook.com/twitter\" rel=...       0.0           0   \n",
       "3  <a href=\"http://twitter.com/download/iphone\" r...    1582.0        4518   \n",
       "4  <a href=\"http://twitter.com/download/android\" ...       0.0           0   \n",
       "\n",
       "  lang  ... screen_name location description  url verified followers friends  \\\n",
       "0   de  ...         NaN      NaN         NaN  NaN      NaN       NaN     NaN   \n",
       "1   de  ...         NaN      NaN         NaN  NaN      NaN       NaN     NaN   \n",
       "2   de  ...         NaN      NaN         NaN  NaN      NaN       NaN     NaN   \n",
       "3   en  ...         NaN      NaN         NaN  NaN      NaN       NaN     NaN   \n",
       "4   de  ...         NaN      NaN         NaN  NaN      NaN       NaN     NaN   \n",
       "\n",
       "  listed statuses refers_to  \n",
       "0    NaN      NaN       NaN  \n",
       "1    NaN      NaN       NaN  \n",
       "2    NaN      NaN       NaN  \n",
       "3    NaN      NaN       NaN  \n",
       "4    NaN      NaN       NaN  \n",
       "\n",
       "[5 rows x 26 columns]"
      ]
     },
     "execution_count": 4,
     "metadata": {},
     "output_type": "execute_result"
    }
   ],
   "source": [
    "twitter.head()"
   ]
  },
  {
   "cell_type": "markdown",
   "metadata": {},
   "source": [
    "Leider liefert die `head()` Funktionalität nicht die Größe des Datensatzes zurück. Wie viele Beispiele sind in ihm enthalten?"
   ]
  },
  {
   "cell_type": "code",
   "execution_count": 5,
   "metadata": {},
   "outputs": [
    {
     "data": {
      "text/plain": [
       "50000"
      ]
     },
     "execution_count": 5,
     "metadata": {},
     "output_type": "execute_result"
    }
   ],
   "source": [
    "twitter.shape[0]"
   ]
  },
  {
   "cell_type": "markdown",
   "metadata": {},
   "source": [
    "50.000 Beispiele sind uns ein paar zu viel. Wir machen mit lediglich 100 Beispielen weiter."
   ]
  },
  {
   "cell_type": "code",
   "execution_count": 6,
   "metadata": {},
   "outputs": [],
   "source": [
    "twitter = twitter[:100]"
   ]
  },
  {
   "cell_type": "markdown",
   "metadata": {},
   "source": [
    "Wie viele Werte liegen insgesamt vor?"
   ]
  },
  {
   "cell_type": "code",
   "execution_count": 7,
   "metadata": {},
   "outputs": [
    {
     "data": {
      "text/plain": [
       "2600"
      ]
     },
     "execution_count": 7,
     "metadata": {},
     "output_type": "execute_result"
    }
   ],
   "source": [
    "twitter.size"
   ]
  },
  {
   "cell_type": "markdown",
   "metadata": {},
   "source": [
    "Wie viele Werte liegen pro Beispiel vor? Aus wie vielen Merkmalen besteht der Datensatz?"
   ]
  },
  {
   "cell_type": "code",
   "execution_count": 8,
   "metadata": {},
   "outputs": [
    {
     "data": {
      "text/plain": [
       "26"
      ]
     },
     "execution_count": 8,
     "metadata": {},
     "output_type": "execute_result"
    }
   ],
   "source": [
    "twitter.shape[1]"
   ]
  },
  {
   "cell_type": "markdown",
   "metadata": {},
   "source": [
    "26 Merkmale klingt kompliziert. Mal sehen, wie sie heißen..."
   ]
  },
  {
   "cell_type": "code",
   "execution_count": 9,
   "metadata": {},
   "outputs": [
    {
     "data": {
      "text/plain": [
       "Index(['twista', 'type', 'id', 'user', 'created_at', 'recorded_at', 'source',\n",
       "       'retweets', 'favourites', 'lang', 'hashtags', 'urls', 'mentions',\n",
       "       'mentioned_ids', 'text', 'name', 'screen_name', 'location',\n",
       "       'description', 'url', 'verified', 'followers', 'friends', 'listed',\n",
       "       'statuses', 'refers_to'],\n",
       "      dtype='object')"
      ]
     },
     "execution_count": 9,
     "metadata": {},
     "output_type": "execute_result"
    }
   ],
   "source": [
    "twitter.columns"
   ]
  },
  {
   "cell_type": "markdown",
   "metadata": {},
   "source": [
    "Das Merkmal _lang_ schauen wir uns als Erstes an. Welche Sprachen sind vertreten?"
   ]
  },
  {
   "cell_type": "code",
   "execution_count": 10,
   "metadata": {},
   "outputs": [
    {
     "data": {
      "text/plain": [
       "array(['de', 'en', 'tr', 'pt', 'es'], dtype=object)"
      ]
     },
     "execution_count": 10,
     "metadata": {},
     "output_type": "execute_result"
    }
   ],
   "source": [
    "twitter['lang'].unique()"
   ]
  },
  {
   "cell_type": "markdown",
   "metadata": {},
   "source": [
    "Wir behalten lediglich die deutschen Inhalte..."
   ]
  },
  {
   "cell_type": "code",
   "execution_count": 11,
   "metadata": {},
   "outputs": [],
   "source": [
    "twitter = twitter.drop(twitter[twitter.lang != 'de'].index).reset_index(drop=True)"
   ]
  },
  {
   "cell_type": "markdown",
   "metadata": {},
   "source": [
    "Das Merkmal _text_ scheint die gewünschten Tweets zu enthalten. Wir überführen dieses Merkmal vom DataFrame `twitter` in eine DataSeries `tweets`."
   ]
  },
  {
   "cell_type": "code",
   "execution_count": 12,
   "metadata": {},
   "outputs": [
    {
     "data": {
      "text/plain": [
       "0    Hahaha.., da haben \"die Nazis\" aber Glück 🍀 ge...\n",
       "1    Ich wünsche allen guten Menschen ein gesundes ...\n",
       "2    Wir wünschen euch einen guten Rutsch und für d...\n",
       "3    31.12.2019. Breitscheidplatz. Weihnachtsmarkt....\n",
       "4    Wir wünschen allen ein friedliches  und sorgen...\n",
       "Name: text, dtype: object"
      ]
     },
     "execution_count": 12,
     "metadata": {},
     "output_type": "execute_result"
    }
   ],
   "source": [
    "tweets = twitter['text']\n",
    "tweets.head()"
   ]
  },
  {
   "cell_type": "markdown",
   "metadata": {},
   "source": [
    "### 2.3 <a id='aufbereiten'>Textdaten aufbereiten</a>"
   ]
  },
  {
   "cell_type": "markdown",
   "metadata": {},
   "source": [
    "#### 2.3.1 <a id='zeichen-bereinigen'>Zeichen bereinigen</a>"
   ]
  },
  {
   "cell_type": "markdown",
   "metadata": {},
   "source": [
    "Schauen wir uns das erste Beispiel an. Was fällt auf?"
   ]
  },
  {
   "cell_type": "code",
   "execution_count": 13,
   "metadata": {},
   "outputs": [
    {
     "data": {
      "text/plain": [
       "'Hahaha.., da haben \"die Nazis\" aber Glück 🍀 gehabt und was für ein Glück. Hust.. \\n\\nWelcher Mann bitteschön, würde denn mit \"DER\".., na Ihr wisst schon..😂😛 https://t.co/a749iauM9U'"
      ]
     },
     "execution_count": 13,
     "metadata": {},
     "output_type": "execute_result"
    }
   ],
   "source": [
    "tweets[0]"
   ]
  },
  {
   "cell_type": "markdown",
   "metadata": {},
   "source": [
    "Genau, der Tweet enthält allerhand Sonderzeichen, Emojis und sogar eine URL. Daher werden wir als nächstes alle Symbole entfernen, die weder dem Alphabet angehören, noch Ziffern sind..."
   ]
  },
  {
   "cell_type": "code",
   "execution_count": 14,
   "metadata": {},
   "outputs": [
    {
     "data": {
      "text/plain": [
       "'Hahaha da haben die Nazis aber Glück  gehabt und was für ein Glück Hust \\n\\nWelcher Mann bitteschön würde denn mit DER na Ihr wisst schon httpstcoaiauMU'"
      ]
     },
     "execution_count": 14,
     "metadata": {},
     "output_type": "execute_result"
    }
   ],
   "source": [
    "tweets = tweets.replace(regex={'[^a-zA-ZäöüßÄÖU\\s]' : ''})\n",
    "tweets[0]"
   ]
  },
  {
   "cell_type": "markdown",
   "metadata": {},
   "source": [
    "#### 2.3.2 <a id='wörter-bereinigen'>Wörter bereinigen</a>"
   ]
  },
  {
   "cell_type": "markdown",
   "metadata": {},
   "source": [
    "Aus Sätzen werden Wörter. Wir zerteilen jeden Tweet anhand des Leerzeichens und erhalten eine Liste von Wörtern pro Tweet."
   ]
  },
  {
   "cell_type": "code",
   "execution_count": 15,
   "metadata": {},
   "outputs": [
    {
     "data": {
      "text/plain": [
       "0    [Hahaha, da, haben, die, Nazis, aber, Glück, g...\n",
       "1    [Ich, wünsche, allen, guten, Menschen, ein, ge...\n",
       "2    [Wir, wünschen, euch, einen, guten, Rutsch, un...\n",
       "3    [Breitscheidplatz, Weihnachtsmarkt, Aus, den, ...\n",
       "4    [Wir, wünschen, allen, ein, friedliches, und, ...\n",
       "Name: text, dtype: object"
      ]
     },
     "execution_count": 15,
     "metadata": {},
     "output_type": "execute_result"
    }
   ],
   "source": [
    "tweets = tweets.str.split()\n",
    "tweets.head()"
   ]
  },
  {
   "cell_type": "markdown",
   "metadata": {},
   "source": [
    "Nun da wir die einzelnen Wörter getrennt haben, fassen wir alle Wörter aus jedem Tweet zu einer großen Sammlung zusammen."
   ]
  },
  {
   "cell_type": "code",
   "execution_count": 16,
   "metadata": {},
   "outputs": [],
   "source": [
    "def aggregate_words(tweets):\n",
    "    \"\"\"Aggregate words from tweets\"\"\"\n",
    "    \n",
    "    all_words = []\n",
    "    for sentence in tweets:\n",
    "        for word in sentence:\n",
    "            all_words.append(word)\n",
    "    return all_words"
   ]
  },
  {
   "cell_type": "code",
   "execution_count": 17,
   "metadata": {},
   "outputs": [],
   "source": [
    "all_words = aggregate_words(tweets) # List\n",
    "# all_words = tweets.aggregate(np.concatenate) # NumPy array"
   ]
  },
  {
   "cell_type": "markdown",
   "metadata": {},
   "source": [
    "Nachdem wir alle Wörter beisammen haben, interessieren uns die beliebtesten Wörter. An dieser Stelle greifen wir zum ersten mal auf das Natural Language Toolkit ([NLTK](https://www.nltk.org/)) zurück, welches eine Häufigkeitsverteilung über die [FreqDist](http://www.nltk.org/api/nltk.html?highlight=freqdist#nltk.probability.FreqDist) Funktionalität implementiert."
   ]
  },
  {
   "cell_type": "code",
   "execution_count": 18,
   "metadata": {},
   "outputs": [],
   "source": [
    "from nltk.probability import FreqDist\n",
    "fd = FreqDist(all_words)"
   ]
  },
  {
   "cell_type": "markdown",
   "metadata": {},
   "source": [
    "Wie lauten also die zehn häufigsten Wörter"
   ]
  },
  {
   "cell_type": "code",
   "execution_count": 19,
   "metadata": {},
   "outputs": [
    {
     "data": {
      "text/plain": [
       "[('und', 42),\n",
       " ('die', 40),\n",
       " ('ein', 30),\n",
       " ('der', 22),\n",
       " ('in', 21),\n",
       " ('Ich', 20),\n",
       " ('Jahr', 18),\n",
       " ('für', 17),\n",
       " ('den', 16),\n",
       " ('an', 16)]"
      ]
     },
     "execution_count": 19,
     "metadata": {},
     "output_type": "execute_result"
    }
   ],
   "source": [
    "fd.most_common(10)"
   ]
  },
  {
   "cell_type": "markdown",
   "metadata": {},
   "source": [
    "Und wie sieht deren Häufigkeitsverteilung aus?"
   ]
  },
  {
   "cell_type": "code",
   "execution_count": 20,
   "metadata": {},
   "outputs": [
    {
     "data": {
      "image/png": "[encoded data removed]",
      "text/plain": [
       "<Figure size 432x288 with 1 Axes>"
      ]
     },
     "metadata": {
      "needs_background": "light"
     },
     "output_type": "display_data"
    },
    {
     "data": {
      "text/plain": [
       "<matplotlib.axes._subplots.AxesSubplot at 0x12663c074a8>"
      ]
     },
     "execution_count": 20,
     "metadata": {},
     "output_type": "execute_result"
    }
   ],
   "source": [
    "fd.plot(10)"
   ]
  },
  {
   "cell_type": "markdown",
   "metadata": {},
   "source": [
    "Denken wir an unsere Problemstellung der Stimmungsanalyse scheinen Verbindungswörter wie _und_ bzw. Artikel wie _der_, _die_, _das_ nicht hilfreich zu sein. Daher wollen wir sie als sog. Stopp-Wörter, also Wörter, die den Lesefluss stören, entfernen. Die folgende Liste sollte zu Beginn ausreichen:"
   ]
  },
  {
   "cell_type": "code",
   "execution_count": 21,
   "metadata": {},
   "outputs": [],
   "source": [
    "stop_words = ['und', 'oder', 'der', 'die', 'das', 'er', 'sie', 'es', 'ein', 'eine', 'ich', 'du', 'wir', 'ihr']"
   ]
  },
  {
   "cell_type": "markdown",
   "metadata": {},
   "source": [
    "Wie viel Prozent unseres Datensatzes würden wir wohl verlieren, wenn wir die Stopp-Wörter entfernen?"
   ]
  },
  {
   "cell_type": "code",
   "execution_count": 22,
   "metadata": {},
   "outputs": [],
   "source": [
    "def content_loss(text):\n",
    "    content = [word for word in text if word not in stop_words]\n",
    "    return 1.0 - len(content) / len(text)"
   ]
  },
  {
   "cell_type": "code",
   "execution_count": 23,
   "metadata": {},
   "outputs": [
    {
     "data": {
      "text/plain": [
       "0.10903260288615713"
      ]
     },
     "execution_count": 23,
     "metadata": {},
     "output_type": "execute_result"
    }
   ],
   "source": [
    "content_loss(all_words)"
   ]
  },
  {
   "cell_type": "markdown",
   "metadata": {},
   "source": [
    "10 % Verlust klingt verkraftbar. Dann werfen wir den Filter mal an."
   ]
  },
  {
   "cell_type": "code",
   "execution_count": 24,
   "metadata": {},
   "outputs": [],
   "source": [
    "def filter_tokens(tweets):\n",
    "    \"\"\"Filter tokens in tweets\"\"\"\n",
    "    \n",
    "    row_list = []\n",
    "    for row in tweets:\n",
    "        token_list = []\n",
    "        for token in row:\n",
    "            if token not in stop_words:\n",
    "                token_list.append(token)\n",
    "        row_list.append(token_list)\n",
    "    \n",
    "    return pd.Series(row_list)"
   ]
  },
  {
   "cell_type": "code",
   "execution_count": 25,
   "metadata": {},
   "outputs": [],
   "source": [
    "tweets = filter_tokens(tweets) # Python list"
   ]
  },
  {
   "cell_type": "markdown",
   "metadata": {},
   "source": [
    "Damit muss unsere Sammlung von Wörtern aktualisiert werden. Der Einfachheit sammeln wir sie erneut aus den von Stopp-Wörtern bereinigten Tweets."
   ]
  },
  {
   "cell_type": "code",
   "execution_count": 26,
   "metadata": {},
   "outputs": [],
   "source": [
    "all_words = aggregate_words(tweets) # List\n",
    "# all_words = tweets.aggregate(np.concatenate) # NumPy array"
   ]
  },
  {
   "cell_type": "markdown",
   "metadata": {},
   "source": [
    "Rufen wir die Verlustfunktion erneut auf, meldet sie wie erwartet keine Verluste."
   ]
  },
  {
   "cell_type": "code",
   "execution_count": 27,
   "metadata": {},
   "outputs": [
    {
     "data": {
      "text/plain": [
       "0.0"
      ]
     },
     "execution_count": 27,
     "metadata": {},
     "output_type": "execute_result"
    }
   ],
   "source": [
    "content_loss(all_words)"
   ]
  },
  {
   "cell_type": "markdown",
   "metadata": {},
   "source": [
    "Wie sehen jetzt die häufigsten Wörter aus? Alternativ zur Häufigkeitsverteilung lassen sich Schlagwortwolken aus den Wörtern erstellen. Dazu nutzen wir die Funktionalität von [WordCloud](http://amueller.github.io/word_cloud/index.html)."
   ]
  },
  {
   "cell_type": "code",
   "execution_count": 28,
   "metadata": {},
   "outputs": [],
   "source": [
    "from wordcloud import WordCloud\n",
    "wc = WordCloud()"
   ]
  },
  {
   "cell_type": "code",
   "execution_count": 29,
   "metadata": {},
   "outputs": [
    {
     "data": {
      "image/png": "[encoded data removed]",
      "text/plain": [
       "<Figure size 432x288 with 1 Axes>"
      ]
     },
     "metadata": {
      "needs_background": "light"
     },
     "output_type": "display_data"
    }
   ],
   "source": [
    "plt.imshow(wc.generate_from_frequencies(FreqDist(all_words)), interpolation=\"bilinear\")\n",
    "plt.show()"
   ]
  },
  {
   "cell_type": "markdown",
   "metadata": {},
   "source": [
    "#### 2.3.3 <a id='tweets-bereinigen'>Tweets bereinigen</a>"
   ]
  },
  {
   "cell_type": "markdown",
   "metadata": {},
   "source": [
    "Nun wollen wir nicht nur einzelne Wörter, sondern sogar ganze Tweets entfernen. Dies ist nötig, wenn sie bspw. zu wenig oder zu viele Wörter für eine Analyse enthalten. Daher interessiert uns im folgenden die Länge eines Tweets. Wie viele Wörter besitzt der kürzeste Tweet?"
   ]
  },
  {
   "cell_type": "code",
   "execution_count": 30,
   "metadata": {},
   "outputs": [
    {
     "data": {
      "text/plain": [
       "3"
      ]
     },
     "execution_count": 30,
     "metadata": {},
     "output_type": "execute_result"
    }
   ],
   "source": [
    "tweets_length = [len(tweet) for tweet in tweets]\n",
    "np.min(tweets_length)"
   ]
  },
  {
   "cell_type": "markdown",
   "metadata": {},
   "source": [
    "Hoffentlich handelt es sich um einen Ausreißer. Wir benötigen wiederum eine Häufigkeitsverteilung. Dieses Mal aber als einfaches Histogramm wie folgt:"
   ]
  },
  {
   "cell_type": "code",
   "execution_count": 31,
   "metadata": {},
   "outputs": [],
   "source": [
    "def plot_tweet_length_distribution(tweets_length):\n",
    "    \"\"\"Count tokens per tweet and plot their length distribution.\"\"\"\n",
    "\n",
    "    plt.hist(tweets_length, np.max(tweets_length))\n",
    "    plt.xlabel('Words per tweet')\n",
    "    plt.ylabel('Amount of tweets')\n",
    "    plt.title('Tweet length distribution')\n",
    "    plt.show()"
   ]
  },
  {
   "cell_type": "code",
   "execution_count": 32,
   "metadata": {},
   "outputs": [
    {
     "data": {
      "image/png": "[encoded data removed]",
      "text/plain": [
       "<Figure size 432x288 with 1 Axes>"
      ]
     },
     "metadata": {
      "needs_background": "light"
     },
     "output_type": "display_data"
    }
   ],
   "source": [
    "plot_tweet_length_distribution(tweets_length)"
   ]
  },
  {
   "cell_type": "markdown",
   "metadata": {},
   "source": [
    "Wir verwerfen alle Tweets, die weniger als 10 Wörter groß sind."
   ]
  },
  {
   "cell_type": "code",
   "execution_count": 33,
   "metadata": {},
   "outputs": [],
   "source": [
    "def drop_tweets(tweets):\n",
    "    \"\"\"Drop tweets\"\"\"\n",
    "    \n",
    "    row_list = []\n",
    "    for row in tweets:\n",
    "        if len(row) > 9:\n",
    "            row_list.append(row)\n",
    "    \n",
    "    return pd.Series(row_list)"
   ]
  },
  {
   "cell_type": "code",
   "execution_count": 34,
   "metadata": {},
   "outputs": [
    {
     "data": {
      "text/plain": [
       "66"
      ]
     },
     "execution_count": 34,
     "metadata": {},
     "output_type": "execute_result"
    }
   ],
   "source": [
    "tweets = drop_tweets(tweets)\n",
    "tweets.size"
   ]
  },
  {
   "cell_type": "markdown",
   "metadata": {},
   "source": [
    "Von den ursprünglich 100 Tweets sind nach unserer Datenaufbereitung lediglich 66 übrig geblieben. Ein guter Zeitpunkt um zur Modelldomäne überzugehen und etwas mit den bereinigten Daten anzustellen."
   ]
  },
  {
   "cell_type": "markdown",
   "metadata": {},
   "source": [
    "## 3. <a id='modell'>Modell</a>"
   ]
  },
  {
   "cell_type": "markdown",
   "metadata": {},
   "source": [
    "### 3.1 <a id='einbetten'>Textdaten einbetten</a>"
   ]
  },
  {
   "cell_type": "markdown",
   "metadata": {},
   "source": [
    "#### 3.1.1 Vokabular"
   ]
  },
  {
   "cell_type": "code",
   "execution_count": 35,
   "metadata": {},
   "outputs": [
    {
     "data": {
      "text/html": [
       "<div>\n",
       "<style scoped>\n",
       "    .dataframe tbody tr th:only-of-type {\n",
       "        vertical-align: middle;\n",
       "    }\n",
       "\n",
       "    .dataframe tbody tr th {\n",
       "        vertical-align: top;\n",
       "    }\n",
       "\n",
       "    .dataframe thead th {\n",
       "        text-align: right;\n",
       "    }\n",
       "</style>\n",
       "<table border=\"1\" class=\"dataframe\">\n",
       "  <thead>\n",
       "    <tr style=\"text-align: right;\">\n",
       "      <th></th>\n",
       "      <th>Wort</th>\n",
       "      <th>Score</th>\n",
       "      <th>Declination</th>\n",
       "      <th>Stimmung</th>\n",
       "    </tr>\n",
       "  </thead>\n",
       "  <tbody>\n",
       "    <tr>\n",
       "      <th>0</th>\n",
       "      <td>Abbruch|NN</td>\n",
       "      <td>-0.0048</td>\n",
       "      <td>Abbruches,Abbrüche,Abbruchs,Abbrüchen</td>\n",
       "      <td>negativ</td>\n",
       "    </tr>\n",
       "    <tr>\n",
       "      <th>1</th>\n",
       "      <td>Abdankung|NN</td>\n",
       "      <td>-0.0048</td>\n",
       "      <td>Abdankungen</td>\n",
       "      <td>negativ</td>\n",
       "    </tr>\n",
       "    <tr>\n",
       "      <th>2</th>\n",
       "      <td>Abdämpfung|NN</td>\n",
       "      <td>-0.0048</td>\n",
       "      <td>Abdämpfungen</td>\n",
       "      <td>negativ</td>\n",
       "    </tr>\n",
       "    <tr>\n",
       "      <th>3</th>\n",
       "      <td>Abfall|NN</td>\n",
       "      <td>-0.0048</td>\n",
       "      <td>Abfalles,Abfälle,Abfalls,Abfällen</td>\n",
       "      <td>negativ</td>\n",
       "    </tr>\n",
       "    <tr>\n",
       "      <th>4</th>\n",
       "      <td>Abfuhr|NN</td>\n",
       "      <td>-0.3367</td>\n",
       "      <td>Abfuhren</td>\n",
       "      <td>negativ</td>\n",
       "    </tr>\n",
       "  </tbody>\n",
       "</table>\n",
       "</div>"
      ],
      "text/plain": [
       "            Wort   Score                            Declination Stimmung\n",
       "0     Abbruch|NN -0.0048  Abbruches,Abbrüche,Abbruchs,Abbrüchen  negativ\n",
       "1   Abdankung|NN -0.0048                            Abdankungen  negativ\n",
       "2  Abdämpfung|NN -0.0048                           Abdämpfungen  negativ\n",
       "3      Abfall|NN -0.0048      Abfalles,Abfälle,Abfalls,Abfällen  negativ\n",
       "4      Abfuhr|NN -0.3367                               Abfuhren  negativ"
      ]
     },
     "execution_count": 35,
     "metadata": {},
     "output_type": "execute_result"
    }
   ],
   "source": [
    "positive = pd.read_csv('./positive.txt', lineterminator='\\n', sep='\\t', header=0, names=['Wort', 'Score', 'Declination'])\n",
    "positive['Stimmung'] = 'positiv'\n",
    "\n",
    "negative = pd.read_csv('./negative.txt', lineterminator='\\n', sep='\\t', header=0, names=['Wort', 'Score', 'Declination'])\n",
    "negative['Stimmung'] = 'negativ'\n",
    "\n",
    "vocab = pd.concat([negative, positive])\n",
    "assert positive.size + negative.size == vocab.size\n",
    "vocab.head()"
   ]
  },
  {
   "cell_type": "markdown",
   "metadata": {},
   "source": [
    "Als Nächstes werden wir den Zusatz hinter dem senkrechten Strich (|) vom Wort lösen."
   ]
  },
  {
   "cell_type": "code",
   "execution_count": 36,
   "metadata": {},
   "outputs": [
    {
     "data": {
      "text/html": [
       "<div>\n",
       "<style scoped>\n",
       "    .dataframe tbody tr th:only-of-type {\n",
       "        vertical-align: middle;\n",
       "    }\n",
       "\n",
       "    .dataframe tbody tr th {\n",
       "        vertical-align: top;\n",
       "    }\n",
       "\n",
       "    .dataframe thead th {\n",
       "        text-align: right;\n",
       "    }\n",
       "</style>\n",
       "<table border=\"1\" class=\"dataframe\">\n",
       "  <thead>\n",
       "    <tr style=\"text-align: right;\">\n",
       "      <th></th>\n",
       "      <th>Wort</th>\n",
       "      <th>Score</th>\n",
       "      <th>Declination</th>\n",
       "      <th>Stimmung</th>\n",
       "      <th>Typ</th>\n",
       "    </tr>\n",
       "  </thead>\n",
       "  <tbody>\n",
       "    <tr>\n",
       "      <th>0</th>\n",
       "      <td>Abbruch</td>\n",
       "      <td>-0.0048</td>\n",
       "      <td>Abbruches,Abbrüche,Abbruchs,Abbrüchen</td>\n",
       "      <td>negativ</td>\n",
       "      <td>NN</td>\n",
       "    </tr>\n",
       "    <tr>\n",
       "      <th>1</th>\n",
       "      <td>Abdankung</td>\n",
       "      <td>-0.0048</td>\n",
       "      <td>Abdankungen</td>\n",
       "      <td>negativ</td>\n",
       "      <td>NN</td>\n",
       "    </tr>\n",
       "    <tr>\n",
       "      <th>2</th>\n",
       "      <td>Abdämpfung</td>\n",
       "      <td>-0.0048</td>\n",
       "      <td>Abdämpfungen</td>\n",
       "      <td>negativ</td>\n",
       "      <td>NN</td>\n",
       "    </tr>\n",
       "    <tr>\n",
       "      <th>3</th>\n",
       "      <td>Abfall</td>\n",
       "      <td>-0.0048</td>\n",
       "      <td>Abfalles,Abfälle,Abfalls,Abfällen</td>\n",
       "      <td>negativ</td>\n",
       "      <td>NN</td>\n",
       "    </tr>\n",
       "    <tr>\n",
       "      <th>4</th>\n",
       "      <td>Abfuhr</td>\n",
       "      <td>-0.3367</td>\n",
       "      <td>Abfuhren</td>\n",
       "      <td>negativ</td>\n",
       "      <td>NN</td>\n",
       "    </tr>\n",
       "  </tbody>\n",
       "</table>\n",
       "</div>"
      ],
      "text/plain": [
       "         Wort   Score                            Declination Stimmung Typ\n",
       "0     Abbruch -0.0048  Abbruches,Abbrüche,Abbruchs,Abbrüchen  negativ  NN\n",
       "1   Abdankung -0.0048                            Abdankungen  negativ  NN\n",
       "2  Abdämpfung -0.0048                           Abdämpfungen  negativ  NN\n",
       "3      Abfall -0.0048      Abfalles,Abfälle,Abfalls,Abfällen  negativ  NN\n",
       "4      Abfuhr -0.3367                               Abfuhren  negativ  NN"
      ]
     },
     "execution_count": 36,
     "metadata": {},
     "output_type": "execute_result"
    }
   ],
   "source": [
    "vocab[['Wort', 'Typ']] = vocab['Wort'].str.split('|', 1, expand=True)\n",
    "vocab.head()"
   ]
  },
  {
   "cell_type": "markdown",
   "metadata": {},
   "source": [
    "Fehlende Werte werden mit einer leeren Zeichenkette ersetzt."
   ]
  },
  {
   "cell_type": "code",
   "execution_count": 37,
   "metadata": {},
   "outputs": [],
   "source": [
    "vocab = vocab.fillna('')"
   ]
  },
  {
   "cell_type": "markdown",
   "metadata": {},
   "source": [
    "Als Nächstes werden die Deklinationen eines Wortes als eigenes Wort hinterlegt."
   ]
  },
  {
   "cell_type": "code",
   "execution_count": 38,
   "metadata": {},
   "outputs": [
    {
     "data": {
      "text/html": [
       "<div>\n",
       "<style scoped>\n",
       "    .dataframe tbody tr th:only-of-type {\n",
       "        vertical-align: middle;\n",
       "    }\n",
       "\n",
       "    .dataframe tbody tr th {\n",
       "        vertical-align: top;\n",
       "    }\n",
       "\n",
       "    .dataframe thead th {\n",
       "        text-align: right;\n",
       "    }\n",
       "</style>\n",
       "<table border=\"1\" class=\"dataframe\">\n",
       "  <thead>\n",
       "    <tr style=\"text-align: right;\">\n",
       "      <th></th>\n",
       "      <th>Stamm</th>\n",
       "      <th>Score</th>\n",
       "      <th>Stimmung</th>\n",
       "      <th>Typ</th>\n",
       "      <th>Wort</th>\n",
       "    </tr>\n",
       "  </thead>\n",
       "  <tbody>\n",
       "    <tr>\n",
       "      <th>0</th>\n",
       "      <td>Abbruch</td>\n",
       "      <td>-0.0048</td>\n",
       "      <td>negativ</td>\n",
       "      <td>NN</td>\n",
       "      <td>Abbruch</td>\n",
       "    </tr>\n",
       "    <tr>\n",
       "      <th>1</th>\n",
       "      <td>Abbruch</td>\n",
       "      <td>-0.0048</td>\n",
       "      <td>negativ</td>\n",
       "      <td>NN</td>\n",
       "      <td>Abbruches</td>\n",
       "    </tr>\n",
       "    <tr>\n",
       "      <th>2</th>\n",
       "      <td>Abbruch</td>\n",
       "      <td>-0.0048</td>\n",
       "      <td>negativ</td>\n",
       "      <td>NN</td>\n",
       "      <td>Abbrüche</td>\n",
       "    </tr>\n",
       "    <tr>\n",
       "      <th>3</th>\n",
       "      <td>Abbruch</td>\n",
       "      <td>-0.0048</td>\n",
       "      <td>negativ</td>\n",
       "      <td>NN</td>\n",
       "      <td>Abbruchs</td>\n",
       "    </tr>\n",
       "    <tr>\n",
       "      <th>4</th>\n",
       "      <td>Abbruch</td>\n",
       "      <td>-0.0048</td>\n",
       "      <td>negativ</td>\n",
       "      <td>NN</td>\n",
       "      <td>Abbrüchen</td>\n",
       "    </tr>\n",
       "    <tr>\n",
       "      <th>...</th>\n",
       "      <td>...</td>\n",
       "      <td>...</td>\n",
       "      <td>...</td>\n",
       "      <td>...</td>\n",
       "      <td>...</td>\n",
       "    </tr>\n",
       "    <tr>\n",
       "      <th>32076</th>\n",
       "      <td>üppig</td>\n",
       "      <td>0.2010</td>\n",
       "      <td>positiv</td>\n",
       "      <td>ADJX</td>\n",
       "      <td>üppigster</td>\n",
       "    </tr>\n",
       "    <tr>\n",
       "      <th>32077</th>\n",
       "      <td>üppig</td>\n",
       "      <td>0.2010</td>\n",
       "      <td>positiv</td>\n",
       "      <td>ADJX</td>\n",
       "      <td>üppiges</td>\n",
       "    </tr>\n",
       "    <tr>\n",
       "      <th>32078</th>\n",
       "      <td>üppig</td>\n",
       "      <td>0.2010</td>\n",
       "      <td>positiv</td>\n",
       "      <td>ADJX</td>\n",
       "      <td>üppig</td>\n",
       "    </tr>\n",
       "    <tr>\n",
       "      <th>32079</th>\n",
       "      <td>üppig</td>\n",
       "      <td>0.2010</td>\n",
       "      <td>positiv</td>\n",
       "      <td>ADJX</td>\n",
       "      <td>üppigsten</td>\n",
       "    </tr>\n",
       "    <tr>\n",
       "      <th>32080</th>\n",
       "      <td>üppig</td>\n",
       "      <td>0.2010</td>\n",
       "      <td>positiv</td>\n",
       "      <td>ADJX</td>\n",
       "      <td>üppige</td>\n",
       "    </tr>\n",
       "  </tbody>\n",
       "</table>\n",
       "<p>32081 rows × 5 columns</p>\n",
       "</div>"
      ],
      "text/plain": [
       "         Stamm   Score Stimmung   Typ       Wort\n",
       "0      Abbruch -0.0048  negativ    NN    Abbruch\n",
       "1      Abbruch -0.0048  negativ    NN  Abbruches\n",
       "2      Abbruch -0.0048  negativ    NN   Abbrüche\n",
       "3      Abbruch -0.0048  negativ    NN   Abbruchs\n",
       "4      Abbruch -0.0048  negativ    NN  Abbrüchen\n",
       "...        ...     ...      ...   ...        ...\n",
       "32076    üppig  0.2010  positiv  ADJX  üppigster\n",
       "32077    üppig  0.2010  positiv  ADJX    üppiges\n",
       "32078    üppig  0.2010  positiv  ADJX      üppig\n",
       "32079    üppig  0.2010  positiv  ADJX  üppigsten\n",
       "32080    üppig  0.2010  positiv  ADJX     üppige\n",
       "\n",
       "[32081 rows x 5 columns]"
      ]
     },
     "execution_count": 38,
     "metadata": {},
     "output_type": "execute_result"
    }
   ],
   "source": [
    "vocab['Merged'] = vocab['Wort'] + ',' + vocab['Declination']\n",
    "vocab['Merged'] = vocab['Merged'].str.split(',')\n",
    "vocab = vocab.explode('Merged')\n",
    "vocab = vocab.sort_values('Wort').reset_index(drop=True)\n",
    "vocab = vocab.rename(columns={'Wort': 'Stamm', 'Merged': 'Wort'})\n",
    "vocab = vocab.drop(['Declination'], axis=1)\n",
    "vocab"
   ]
  },
  {
   "cell_type": "markdown",
   "metadata": {},
   "source": [
    "Welche Wort-Typen sind vorhanden?"
   ]
  },
  {
   "cell_type": "code",
   "execution_count": 39,
   "metadata": {},
   "outputs": [
    {
     "data": {
      "text/html": [
       "<div>\n",
       "<style scoped>\n",
       "    .dataframe tbody tr th:only-of-type {\n",
       "        vertical-align: middle;\n",
       "    }\n",
       "\n",
       "    .dataframe tbody tr th {\n",
       "        vertical-align: top;\n",
       "    }\n",
       "\n",
       "    .dataframe thead th {\n",
       "        text-align: right;\n",
       "    }\n",
       "</style>\n",
       "<table border=\"1\" class=\"dataframe\">\n",
       "  <thead>\n",
       "    <tr style=\"text-align: right;\">\n",
       "      <th></th>\n",
       "      <th>Stamm</th>\n",
       "      <th>Score</th>\n",
       "      <th>Stimmung</th>\n",
       "      <th>Wort</th>\n",
       "    </tr>\n",
       "    <tr>\n",
       "      <th>Typ</th>\n",
       "      <th></th>\n",
       "      <th></th>\n",
       "      <th></th>\n",
       "      <th></th>\n",
       "    </tr>\n",
       "  </thead>\n",
       "  <tbody>\n",
       "    <tr>\n",
       "      <th>ADJX</th>\n",
       "      <td>22960</td>\n",
       "      <td>22960</td>\n",
       "      <td>22960</td>\n",
       "      <td>22960</td>\n",
       "    </tr>\n",
       "    <tr>\n",
       "      <th>ADV</th>\n",
       "      <td>37</td>\n",
       "      <td>37</td>\n",
       "      <td>37</td>\n",
       "      <td>37</td>\n",
       "    </tr>\n",
       "    <tr>\n",
       "      <th>NN</th>\n",
       "      <td>3182</td>\n",
       "      <td>3182</td>\n",
       "      <td>3182</td>\n",
       "      <td>3182</td>\n",
       "    </tr>\n",
       "    <tr>\n",
       "      <th>VVINF</th>\n",
       "      <td>5902</td>\n",
       "      <td>5902</td>\n",
       "      <td>5902</td>\n",
       "      <td>5902</td>\n",
       "    </tr>\n",
       "  </tbody>\n",
       "</table>\n",
       "</div>"
      ],
      "text/plain": [
       "       Stamm  Score  Stimmung   Wort\n",
       "Typ                                 \n",
       "ADJX   22960  22960     22960  22960\n",
       "ADV       37     37        37     37\n",
       "NN      3182   3182      3182   3182\n",
       "VVINF   5902   5902      5902   5902"
      ]
     },
     "execution_count": 39,
     "metadata": {},
     "output_type": "execute_result"
    }
   ],
   "source": [
    "vocab.groupby('Typ').count()"
   ]
  },
  {
   "cell_type": "markdown",
   "metadata": {},
   "source": [
    "Finde das Adjektiv _gut_ im Vokabular."
   ]
  },
  {
   "cell_type": "code",
   "execution_count": 40,
   "metadata": {},
   "outputs": [
    {
     "data": {
      "text/html": [
       "<div>\n",
       "<style scoped>\n",
       "    .dataframe tbody tr th:only-of-type {\n",
       "        vertical-align: middle;\n",
       "    }\n",
       "\n",
       "    .dataframe tbody tr th {\n",
       "        vertical-align: top;\n",
       "    }\n",
       "\n",
       "    .dataframe thead th {\n",
       "        text-align: right;\n",
       "    }\n",
       "</style>\n",
       "<table border=\"1\" class=\"dataframe\">\n",
       "  <thead>\n",
       "    <tr style=\"text-align: right;\">\n",
       "      <th></th>\n",
       "      <th>Stamm</th>\n",
       "      <th>Score</th>\n",
       "      <th>Stimmung</th>\n",
       "      <th>Typ</th>\n",
       "      <th>Wort</th>\n",
       "    </tr>\n",
       "  </thead>\n",
       "  <tbody>\n",
       "    <tr>\n",
       "      <th>13862</th>\n",
       "      <td>gut</td>\n",
       "      <td>0.3716</td>\n",
       "      <td>positiv</td>\n",
       "      <td>ADJX</td>\n",
       "      <td>gut</td>\n",
       "    </tr>\n",
       "  </tbody>\n",
       "</table>\n",
       "</div>"
      ],
      "text/plain": [
       "      Stamm   Score Stimmung   Typ Wort\n",
       "13862   gut  0.3716  positiv  ADJX  gut"
      ]
     },
     "execution_count": 40,
     "metadata": {},
     "output_type": "execute_result"
    }
   ],
   "source": [
    "vocab.loc[vocab['Wort'] == 'gut']"
   ]
  },
  {
   "cell_type": "markdown",
   "metadata": {},
   "source": [
    "Finde die ersten zehn Adverben im Vokabular."
   ]
  },
  {
   "cell_type": "code",
   "execution_count": 41,
   "metadata": {},
   "outputs": [
    {
     "data": {
      "text/html": [
       "<div>\n",
       "<style scoped>\n",
       "    .dataframe tbody tr th:only-of-type {\n",
       "        vertical-align: middle;\n",
       "    }\n",
       "\n",
       "    .dataframe tbody tr th {\n",
       "        vertical-align: top;\n",
       "    }\n",
       "\n",
       "    .dataframe thead th {\n",
       "        text-align: right;\n",
       "    }\n",
       "</style>\n",
       "<table border=\"1\" class=\"dataframe\">\n",
       "  <thead>\n",
       "    <tr style=\"text-align: right;\">\n",
       "      <th></th>\n",
       "      <th>Stamm</th>\n",
       "      <th>Score</th>\n",
       "      <th>Stimmung</th>\n",
       "      <th>Typ</th>\n",
       "      <th>Wort</th>\n",
       "    </tr>\n",
       "  </thead>\n",
       "  <tbody>\n",
       "    <tr>\n",
       "      <th>4786</th>\n",
       "      <td>aufwärts</td>\n",
       "      <td>0.0040</td>\n",
       "      <td>positiv</td>\n",
       "      <td>ADV</td>\n",
       "      <td>aufwärts</td>\n",
       "    </tr>\n",
       "    <tr>\n",
       "      <th>4787</th>\n",
       "      <td>aufwärts</td>\n",
       "      <td>0.0040</td>\n",
       "      <td>positiv</td>\n",
       "      <td>ADV</td>\n",
       "      <td></td>\n",
       "    </tr>\n",
       "    <tr>\n",
       "      <th>6330</th>\n",
       "      <td>bergab</td>\n",
       "      <td>-0.0048</td>\n",
       "      <td>negativ</td>\n",
       "      <td>ADV</td>\n",
       "      <td></td>\n",
       "    </tr>\n",
       "    <tr>\n",
       "      <th>6331</th>\n",
       "      <td>bergab</td>\n",
       "      <td>-0.0048</td>\n",
       "      <td>negativ</td>\n",
       "      <td>ADV</td>\n",
       "      <td>bergab</td>\n",
       "    </tr>\n",
       "    <tr>\n",
       "      <th>6603</th>\n",
       "      <td>besonders</td>\n",
       "      <td>0.5391</td>\n",
       "      <td>positiv</td>\n",
       "      <td>ADV</td>\n",
       "      <td></td>\n",
       "    </tr>\n",
       "    <tr>\n",
       "      <th>6604</th>\n",
       "      <td>besonders</td>\n",
       "      <td>0.5391</td>\n",
       "      <td>positiv</td>\n",
       "      <td>ADV</td>\n",
       "      <td>besonders</td>\n",
       "    </tr>\n",
       "    <tr>\n",
       "      <th>6689</th>\n",
       "      <td>bestens</td>\n",
       "      <td>0.0808</td>\n",
       "      <td>positiv</td>\n",
       "      <td>ADV</td>\n",
       "      <td></td>\n",
       "    </tr>\n",
       "    <tr>\n",
       "      <th>6690</th>\n",
       "      <td>bestens</td>\n",
       "      <td>0.0808</td>\n",
       "      <td>positiv</td>\n",
       "      <td>ADV</td>\n",
       "      <td>bestens</td>\n",
       "    </tr>\n",
       "    <tr>\n",
       "      <th>14558</th>\n",
       "      <td>herunter</td>\n",
       "      <td>-0.0048</td>\n",
       "      <td>negativ</td>\n",
       "      <td>ADV</td>\n",
       "      <td>herunter</td>\n",
       "    </tr>\n",
       "    <tr>\n",
       "      <th>14559</th>\n",
       "      <td>herunter</td>\n",
       "      <td>-0.0048</td>\n",
       "      <td>negativ</td>\n",
       "      <td>ADV</td>\n",
       "      <td></td>\n",
       "    </tr>\n",
       "  </tbody>\n",
       "</table>\n",
       "</div>"
      ],
      "text/plain": [
       "           Stamm   Score Stimmung  Typ       Wort\n",
       "4786    aufwärts  0.0040  positiv  ADV   aufwärts\n",
       "4787    aufwärts  0.0040  positiv  ADV           \n",
       "6330      bergab -0.0048  negativ  ADV           \n",
       "6331      bergab -0.0048  negativ  ADV     bergab\n",
       "6603   besonders  0.5391  positiv  ADV           \n",
       "6604   besonders  0.5391  positiv  ADV  besonders\n",
       "6689     bestens  0.0808  positiv  ADV           \n",
       "6690     bestens  0.0808  positiv  ADV    bestens\n",
       "14558   herunter -0.0048  negativ  ADV   herunter\n",
       "14559   herunter -0.0048  negativ  ADV           "
      ]
     },
     "execution_count": 41,
     "metadata": {},
     "output_type": "execute_result"
    }
   ],
   "source": [
    "vocab.loc[vocab['Typ'] == 'ADV'][:10]"
   ]
  },
  {
   "cell_type": "code",
   "execution_count": 42,
   "metadata": {},
   "outputs": [],
   "source": [
    "corpus = {'negativ' : vocab.loc[vocab['Stimmung'] == 'negativ'], 'positiv' : vocab.loc[vocab['Stimmung'] == 'positiv']}"
   ]
  },
  {
   "cell_type": "markdown",
   "metadata": {},
   "source": [
    "#### 3.1.2 Labels"
   ]
  },
  {
   "cell_type": "code",
   "execution_count": 43,
   "metadata": {},
   "outputs": [],
   "source": [
    "def get_labels(sequence):\n",
    "    score = 0.0\n",
    "    for token in sequence:\n",
    "        row = vocab.loc[vocab['Wort'] == token]\n",
    "        if len(row) == 1:\n",
    "            score += row['Score'].to_numpy()\n",
    "    if score > 0.0:\n",
    "        return 'positiv'\n",
    "    elif score < 0.0:\n",
    "        return 'negativ'\n",
    "    else:\n",
    "        return 'neutral'"
   ]
  },
  {
   "cell_type": "markdown",
   "metadata": {},
   "source": [
    "#### 3.1.3 Features"
   ]
  },
  {
   "cell_type": "code",
   "execution_count": 44,
   "metadata": {},
   "outputs": [],
   "source": [
    "def word_feats(words):\n",
    "    return dict([(word, True) for word in words])"
   ]
  },
  {
   "cell_type": "code",
   "execution_count": 45,
   "metadata": {},
   "outputs": [],
   "source": [
    "negative_features = [(word_feats(vocab.loc[vocab['Stimmung'] == 'negativ']['Wort']), 'negativ')]\n",
    "positive_features = [(word_feats(vocab.loc[vocab['Stimmung'] == 'positiv']['Wort']), 'positiv')]\n",
    "train_set = negative_features + positive_features"
   ]
  },
  {
   "cell_type": "markdown",
   "metadata": {},
   "source": [
    "#### 3.1.4 Vektorisierung"
   ]
  },
  {
   "cell_type": "code",
   "execution_count": 46,
   "metadata": {},
   "outputs": [],
   "source": [
    "def vectorize(tweets):\n",
    "    \"\"\"Vectorize tweets based on vocabulary\"\"\"\n",
    "    \n",
    "    rows = []\n",
    "    for row in tweets:\n",
    "        \n",
    "        tokens = []\n",
    "        for token in row:\n",
    "            \n",
    "            temp_row = vocab.loc[vocab['Wort'] == token]\n",
    "            if len(temp_row) == 1:\n",
    "                tokens.append(temp_row['Score'].to_numpy()[0])\n",
    "            \n",
    "        rows.append(tokens)\n",
    "\n",
    "    return pd.Series(rows)"
   ]
  },
  {
   "cell_type": "code",
   "execution_count": 47,
   "metadata": {},
   "outputs": [],
   "source": [
    "vectors = vectorize(tweets)"
   ]
  },
  {
   "cell_type": "code",
   "execution_count": 48,
   "metadata": {},
   "outputs": [
    {
     "data": {
      "text/plain": [
       "0                                    [0.2452, 0.2452]\n",
       "1                      [0.3716, 0.1554, 0.115, 0.004]\n",
       "2    [0.3716, -0.0048, 0.004, -0.0048, 0.494, 0.0081]\n",
       "3                                           [-0.0048]\n",
       "4                                     [0.0924, 0.004]\n",
       "dtype: object"
      ]
     },
     "execution_count": 48,
     "metadata": {},
     "output_type": "execute_result"
    }
   ],
   "source": [
    "vectors.head()"
   ]
  },
  {
   "cell_type": "code",
   "execution_count": 49,
   "metadata": {},
   "outputs": [],
   "source": [
    "_size = 4\n",
    "def pad(vectors):\n",
    "    \"\"\"Pad vectors with zeros at the end.\"\"\"\n",
    "    \n",
    "    rows = []\n",
    "    for row in vectors:\n",
    "        tokens = np.pad(row[:_size], (0, _size-len(row[:_size])))\n",
    "        rows.append(tokens)\n",
    "        \n",
    "    return pd.Series(rows)"
   ]
  },
  {
   "cell_type": "code",
   "execution_count": 50,
   "metadata": {},
   "outputs": [
    {
     "data": {
      "text/plain": [
       "0           [0.2452, 0.2452, 0.0, 0.0]\n",
       "1       [0.3716, 0.1554, 0.115, 0.004]\n",
       "2    [0.3716, -0.0048, 0.004, -0.0048]\n",
       "3             [-0.0048, 0.0, 0.0, 0.0]\n",
       "4            [0.0924, 0.004, 0.0, 0.0]\n",
       "dtype: object"
      ]
     },
     "execution_count": 50,
     "metadata": {},
     "output_type": "execute_result"
    }
   ],
   "source": [
    "padded = pad(vectors)\n",
    "padded.head()"
   ]
  },
  {
   "cell_type": "markdown",
   "metadata": {},
   "source": [
    "### 3.2 <a id='klassifizieren'>Textdaten klassifizieren</a>"
   ]
  },
  {
   "cell_type": "markdown",
   "metadata": {},
   "source": [
    "#### 3.2.1 <a id='überwachte-klassifikation'>Überwachte Klassifikation</a>"
   ]
  },
  {
   "cell_type": "code",
   "execution_count": 51,
   "metadata": {},
   "outputs": [],
   "source": [
    "from nltk import NaiveBayesClassifier"
   ]
  },
  {
   "cell_type": "code",
   "execution_count": 52,
   "metadata": {},
   "outputs": [],
   "source": [
    "classifier = NaiveBayesClassifier.train(train_set)"
   ]
  },
  {
   "cell_type": "markdown",
   "metadata": {},
   "source": [
    "#### 3.2.2 <a id='unüberwachte-klassifikation'>Unüberwachte Klassifikation</a>"
   ]
  },
  {
   "cell_type": "code",
   "execution_count": 53,
   "metadata": {},
   "outputs": [],
   "source": [
    "from nltk.cluster import KMeansClusterer, euclidean_distance"
   ]
  },
  {
   "cell_type": "code",
   "execution_count": 54,
   "metadata": {},
   "outputs": [],
   "source": [
    "initial_means = [[-1] * _size, [1] * _size]\n",
    "initial_means\n",
    "initial_means=initial_means"
   ]
  },
  {
   "cell_type": "code",
   "execution_count": 55,
   "metadata": {},
   "outputs": [],
   "source": [
    "clusterer = KMeansClusterer(2, euclidean_distance, initial_means=initial_means)"
   ]
  },
  {
   "cell_type": "code",
   "execution_count": 56,
   "metadata": {},
   "outputs": [],
   "source": [
    "clusters = clusterer.cluster(padded, True)"
   ]
  },
  {
   "cell_type": "code",
   "execution_count": 57,
   "metadata": {},
   "outputs": [],
   "source": [
    "def plot_clusters():\n",
    "    \"\"\"Plot clusters\"\"\"\n",
    "    \n",
    "    means = clusterer.means()\n",
    "    plt.plot(means[0], )\n",
    "    plt.plot(np.array([0] * _size))\n",
    "    plt.plot(means[1])\n",
    "    plt.legend(['negativ', 'neutral', 'positiv'])"
   ]
  },
  {
   "cell_type": "code",
   "execution_count": 58,
   "metadata": {},
   "outputs": [
    {
     "data": {
      "image/png": "[encoded data removed]",
      "text/plain": [
       "<Figure size 432x288 with 1 Axes>"
      ]
     },
     "metadata": {
      "needs_background": "light"
     },
     "output_type": "display_data"
    }
   ],
   "source": [
    "plot_clusters()"
   ]
  },
  {
   "cell_type": "code",
   "execution_count": 59,
   "metadata": {},
   "outputs": [],
   "source": [
    "def compare_classifier(tweets, examples=100):\n",
    "    \"\"\"Compare (un)supervised classifier.\"\"\"\n",
    "    \n",
    "    print('#\\tSoll\\tÜberw\\tUnüberw\\t∆\\tBeispiel')\n",
    "    \n",
    "    tweets = tweets[:examples]\n",
    "    row = 0\n",
    "    for example in tweets.iteritems():\n",
    "        \n",
    "        tokens = example[1]\n",
    "        \n",
    "        # Naive classifier\n",
    "        naive = get_labels(tokens)\n",
    "        \n",
    "        # NLTK classifier\n",
    "        features = word_feats(tokens)\n",
    "        nltk = classifier.classify(features)\n",
    "        \n",
    "        # Cluster\n",
    "        vector = padded[row]\n",
    "        cluster = clusterer.classify(np.pad(vector[:_size], (0, _size-len(vector[:_size]))))\n",
    "        \n",
    "        if cluster == 0: cluster = 'positiv'\n",
    "        else: cluster = 'negativ'\n",
    "        \n",
    "        if nltk != cluster: delta = 'X'\n",
    "        else: delta = ' '\n",
    "        \n",
    "        row += 1\n",
    "        \n",
    "        print('%i\\t%s\\t%s\\t%s\\t%s\\t%.160s' % (example[0], naive, nltk, cluster, delta, ' '.join(example[1])))"
   ]
  },
  {
   "cell_type": "markdown",
   "metadata": {},
   "source": [
    "<div style=\"background-color: #150458; padding: 5px;\"></div>\n",
    "\n",
    "## 4. <a id='verwendung'>Verwendung</a>"
   ]
  },
  {
   "cell_type": "markdown",
   "metadata": {},
   "source": [
    "Welche Stimmung gibt er für folgenden Satz aus?\n",
    "\n",
    "> Was für ein schlechtes Lernmodul"
   ]
  },
  {
   "cell_type": "code",
   "execution_count": 60,
   "metadata": {},
   "outputs": [
    {
     "data": {
      "text/plain": [
       "'negativ'"
      ]
     },
     "execution_count": 60,
     "metadata": {},
     "output_type": "execute_result"
    }
   ],
   "source": [
    "classifier.classify(word_feats(\"Was für ein schlechtes Lernmodul\".split()))"
   ]
  },
  {
   "cell_type": "markdown",
   "metadata": {},
   "source": [
    "Welche Stimmung gibt er für folgenden Satz aus?\n",
    "\n",
    "> Was für ein gutes Lernmodul"
   ]
  },
  {
   "cell_type": "code",
   "execution_count": 61,
   "metadata": {},
   "outputs": [
    {
     "data": {
      "text/plain": [
       "'positiv'"
      ]
     },
     "execution_count": 61,
     "metadata": {},
     "output_type": "execute_result"
    }
   ],
   "source": [
    "classifier.classify(word_feats(\"Was für ein gutes Lernmodul\".split()))"
   ]
  },
  {
   "cell_type": "code",
   "execution_count": 62,
   "metadata": {},
   "outputs": [
    {
     "name": "stdout",
     "output_type": "stream",
     "text": [
      "#\tSoll\tÜberw\tUnüberw\t∆\tBeispiel\n",
      "0\tpositiv\tpositiv\tnegativ\tX\tHahaha da haben Nazis aber Glück gehabt was für Glück Hust Welcher Mann bitteschön würde denn mit DER na Ihr wisst schon httpstcoaiauMU\n",
      "1\tpositiv\tpositiv\tnegativ\tX\tIch wünsche allen guten Menschen gesundes glückliches Jahr Nur denen aus berzeugung afd wählen denen wünsch richtig Beschissenes Viele Grüße\n",
      "2\tpositiv\tpositiv\tnegativ\tX\tWir wünschen euch einen guten Rutsch für neue Jahr nur Beste Lasst krachen feiert schön jurahannover conticampus leibnizuniversität unihannover hannover hannove\n",
      "3\tnegativ\tnegativ\tpositiv\tX\tBreitscheidplatz Weihnachtsmarkt Aus den Stereoboxen erklingt stimmungsschweres FUCK YOU I WONT DO WHAT YOU TELL ME Guten Rutsch\n",
      "4\tpositiv\tpositiv\tpositiv\t \tWir wünschen allen friedliches sorgenfreies Jahr a git Rosch httpstcojBKdgggOe\n",
      "5\tneutral\tpositiv\tpositiv\t \tDie Satirepartei Die Partei will KlimaWissenschaftler auf den vorderen Listenplätzen bei Bundestagswahl platzieren Sonneborn httpstcojXPKgEgC\n",
      "6\tpositiv\tnegativ\tnegativ\t \tDer UmweltsauStreit zeigt Viele wissen nicht was bei Drohungen aus dem Netz zu tun ist Dabei sind Nazis nicht so kreativ ihre Angriffe folgen bestimmten Mustern\n",
      "7\tnegativ\tnegativ\tpositiv\tX\tNach all den Skandalen bei den ÖffentlichRechtlichen ist jetzt an Zeit etwas härtere Bandagen anzulegen Die vorläufige Einstellung Beitragszahlungen nämlich Wie\n",
      "8\tpositiv\tpositiv\tnegativ\tX\tIch wünsche euch allen guten Rutsch erfolgreiches Jahr Jungs Mädels wird absolut Krank wird viel passieren freue mich jetzt schon drauf Bis dahin trinkt nicht s\n",
      "9\tpositiv\tpositiv\tpositiv\t \thttpstcoeWNQANaY Am Ende eines ereignisreichem Jubiläumsjahres gemeinsam Erinnern u Vorschau auf hoffentlich gutes Jahr für unsere Vienna Bis bald u COME ON VIE\n",
      "10\tpositiv\tpositiv\tpositiv\t \tIch habe mal alles dafür getan nächstes Jahr besser anfängt habe sogar Wäsche abgenommen damit sich bösen Geister Gedanken nicht darin verstecken können Läuft a\n",
      "11\tneutral\tpositiv\tpositiv\t \tab can u guys reply with this SUHO BEST LEADER SUHO BEST LEADER SUHO BEST LEADER SUHO BEST LEADER SUHO BEST LEADER SUHO BEST LEADER SUHO BEST LEADER SUHO BEST L\n",
      "12\tpositiv\tpositiv\tnegativ\tX\tdagilplbh ist Video von Blutorange den im stream geraidet haben Ich denke würde sich risieg darüber freuen wenn sieht dass auf sein Dankeschön aufmerksam geword\n",
      "13\tpositiv\tpositiv\tnegativ\tX\tIch wünsche Euch allen einen guten Rutsch tolles Feiert schön Ich fahr zu meiner Frau httpstcooKcOfhVfG\n",
      "14\tpositiv\tpositiv\tpositiv\t \tITAnalysten von SpiegelOnline haben herausgefunden dass am zur Instrumentalisierung von Umweltsau durch Rechte beitrug Nun Ich war zu diesem Zeitpunkt nachweisl\n",
      "15\tpositiv\tpositiv\tnegativ\tX\tAllen einen guten Rutsch Und für dies Liebe Freundschaft Gesundheit Muße Leichtigkeit Und Sinn für Ironie\n",
      "16\tnegativ\tpositiv\tpositiv\t \tAuch ist Grund für Existenz vielen Staatssender Es täuscht internationale Relevanz unserer Politikerdarsteller vor Ohne Staatsfunk rot eingekreist hätte hier Ma\n",
      "17\tpositiv\tpositiv\tnegativ\tX\tWer macht mit Eigener Name schreibt Wörter mich beschreiben passend zu den Buchstaben dahinter Komplimente quasi umsonst So am Jahresende Hab von meiner Mum höh\n",
      "18\tpositiv\tpositiv\tpositiv\t \tMeine Oma ist ne alte Umweltsau Um seine bröckelnde Macht zu sichern hetzte Mao in sogenannten Kulturrevolution Kinder auf Es starben Menschen Merkel hat ihren \n",
      "19\tnegativ\tnegativ\tpositiv\tX\tEs ist unerträglich in einem Staat zu leben in dem man lebenslang für bloße Wohnen als einem Grundbedürfnis menschlichen Daseins solch unsoziale Abgabe an den R\n",
      "20\tneutral\tpositiv\tpositiv\t \twelcome heute proudly presented by tsm mit beiniger beiniger Unterstützungan den Twittertasten tweetslesenstattböllern httpstcozBhoeHnvN\n",
      "21\tnegativ\tnegativ\tpositiv\tX\tFeuerwerk Böller sind doof Aber trotzdem kann man ja heute Abend klugscheißen Die Farben im Himmel hängen nämlich von den verwendeten Metallsalzen in den Rakete\n",
      "22\tnegativ\tnegativ\tpositiv\tX\tFahrradfahrerin in Köln ko gehauen offenbar weil sich über falschen AutoProlos echauffierte Der Beifahrer hatte südländisches Aussehen einen DreitageBart Bodybu\n",
      "23\tnegativ\tnegativ\tpositiv\tX\tWas für Jahr Ich erhebe mein Glas auf Euch zünde nen Feuer für euch alle anfür nicht mehr unter uns sind für alle mich mögenbleibt gesund Vor allen Dingen will \n",
      "24\tnegativ\tnegativ\tpositiv\tX\tIch fasse ja nicht WDR legt vor mit Umweltsau als Sender angeblich einen Bildungsauftrag verfolgt Hollek legt nach u identifiziert ganze Generation in ordinärst\n",
      "25\tpositiv\tpositiv\tnegativ\tX\tIch wünsche euch allen einen guten Rutsch einen schönen Start in neues Jahrzehnt Feiert schön lasst Korken knallen Gläser klirren\n",
      "26\tneutral\tpositiv\tpositiv\t \tVater Sohn sagen tschüss werden vom Drachen ins nächste Jahr getragen Du bist nicht ohne laedlajuice made by bambergerdampferlaedla Buddies Coilfam vapingmike t\n",
      "27\tneutral\tpositiv\tpositiv\t \tLaut dem Opfer soll Auto mattgrauer breiter tiefer gelegter Kombi mit schwarz getönten Scheiben sein Der Beifahrer hatte südländisches Aussehen einen DreitageBa\n",
      "28\tnegativ\tpositiv\tpositiv\t \tgruenekemmern wünschen glückliches neues Jahr Dem schließen uns gerne an Herzliche Grüße ins Bamberger Umland weilwirhierleben httpstcowDiwqLhIw\n",
      "29\tpositiv\tpositiv\tnegativ\tX\twatchmeplaying Ihr kennt Regel Wer ficken will muss freundlich sein Alter Jahre Wohnort Raabs an Thaya Augenfarbe brown Haarfarbe black Haarlänge long Größe cm \n",
      "30\tnegativ\tnegativ\tpositiv\tX\tMich kann man nicht einschüchtern Morddrohung gegen FDPGeneralsekretärin Skudelny httpstcoaFyNwckq\n",
      "31\tpositiv\tpositiv\tpositiv\t \tWarum bedankt sich kein Politiker je bei den Millionen Leistungsträgern im Land ganze Party finanzieren httpstcoFjvnhODk\n",
      "32\tpositiv\tpositiv\tnegativ\tX\tIch wünsche euch n guten Rutsch in Jahr voll Gesundheit\n",
      "33\tpositiv\tpositiv\tnegativ\tX\tHeute ist letzte Tag des Jahres Wir wünschen Euch frohes neues Jahr freuen uns auf vielen spannenden Themen nächstes Jahr für Euch im Bundestag bearbeiten werde\n",
      "34\tnegativ\tpositiv\tpositiv\t \tMir wurde schon im Alter von Jahren Tod gewünscht weil si eib Stücj Scheiße bin was habt vorzyweisen\n",
      "35\tneutral\tpositiv\tpositiv\t \tGENTE O JAEBEOOOOOMMMMM KKKKKKKKKKKKKKKKKKKKKKKK GOTOfficial GOTMBCgayo GOT ThankYouGOT AYearWithGOT httpstcoljTsvhWLh\n",
      "36\tneutral\tpositiv\tpositiv\t \tWieder Falschparker in Hamburg in Hagenbeckstraße WegDa Ihm doch egal ob Feuerwehr an den Hydranten kommt nicht httpstcokFprCBFL\n",
      "37\tneutral\tpositiv\tpositiv\t \tStandort Herbrechtingen a d Brenz Temperatur Luftfeuchtigkeit Luftdruck hPa Entwicklung JensOstertag\n",
      "38\tneutral\tpositiv\tpositiv\t \tDer Beifahrer hatte südländisches Aussehen einen DreitageBart BodybuilderFigur Hinweise an Polizei unter Köln Ich wurde beim Fahrradfahren KO geschlagen httpstc\n",
      "39\tpositiv\tpositiv\tnegativ\tX\tIn Korea böllert übrigens keiner haben alle überlebt Ist sogar um einiges angenehmer Aber wissen ja mittlerweile alle dass Asiaten Rücksichtnahme auf andere ein\n",
      "40\tpositiv\tpositiv\tnegativ\tX\tHab Wahlfamilie per Message gesagt dass nur noch Dyn genannt werden möchte bevor hier war Nun wurde sich direkt am Anfang entschuldigt korrigiert dass nicht dir\n",
      "41\tpositiv\tpositiv\tpositiv\t \tGuten Rutsch einen schwungvollen Start in Und an dieser Stelle auch herzliches Dankeschön für Kommentare vielen Anregungen Ideen Frohes neues httpstcosSLEsDGwZ\n",
      "42\tnegativ\tnegativ\tpositiv\tX\tDas Ende von You ist ja mal größte Scheiße je gesehen habe\n",
      "43\tpositiv\tpositiv\tpositiv\t \tSo Lieben Nicht vergessen Basset hat euch alle lieb auch wenn manchmal nörgelt Habt alle schöne Party heute Abend kommt gut rüber Aber natürlich leise httpstcof\n",
      "44\tpositiv\tpositiv\tpositiv\t \tMit KnallerToren aus verabschieden uns in Richtung Feiert alle schön SGE Silvester httpstcobgANbNwa\n",
      "45\tpositiv\tpositiv\tpositiv\t \tDas UrProblem Die Politik erwartet bis heute Bahnverkehr müsse profitabel wenigstens kostendeckend sein sieht Autobahnen Bundesstraßen hingegen als Infrastruktu\n",
      "46\tnegativ\tnegativ\tpositiv\tX\tsollte zuallererst gesetzlich verboten werden dass Werbung mit dem SeitenbacherMann nördlich von Heilbronn ausgestrahlt wird\n",
      "47\tnegativ\tnegativ\tpositiv\tX\tIch wünsche allen einen Guten Rutsch Gesundes Neues Jahr I wish a Happy New Year to all of you happynewyear httpstcoaEzIjakM\n",
      "48\tneutral\tpositiv\tpositiv\t \tJudenfeindlicher Anschlag in New York Deutsche Medien verschweigen schwarze Täter httpstcoQnLIPKx via staatsversagen\n",
      "49\tpositiv\tpositiv\tpositiv\t \tHätten Nüchternen Einmal gekostet Alles verließen Und setzten sich zu uns An den Tisch Sehnsucht Der nie leer wird Sie erkennten Liebe Unendliche Fülle Und prie\n",
      "50\tneutral\tpositiv\tpositiv\t \tDIE STIMME VOM DACH VIP Nur Du Bist Wichtig httpstcojpbcCJ über YouTube\n",
      "51\tpositiv\tpositiv\tnegativ\tX\tWünsch euch happynewyear uns allen für mehr Frieden Gerechtigkeit Angesichts UnweltsauHysterie auch dass künftig wichtige Themen Gehör in Mediensocialmedia find\n",
      "52\tpositiv\tpositiv\tpositiv\t \tDanke an Klausymausy für diese geile Scheiße an Plattenansamung httpstcoYMrntmJ httpstcoSHWAYEndw\n",
      "53\tneutral\tpositiv\tpositiv\t \tLari Lang Shala LangMoll Michael Lang amp Laszlo Lang also Harry Lang but thats a different Lang httpstcoELEZZfRj\n",
      "54\tpositiv\tpositiv\tnegativ\tX\tTolle Bücher Eher heiter bis lustig nicht so ernst Als EB TB Sehen Sie hier httpstcoOcmICiU httpstcottJTDlaH\n",
      "55\tneutral\tpositiv\tpositiv\t \tFrau Bundeskanzlerin noch einmal wegen Aufzeichnung SilvesterAnsprache Jetzt nicht Ich muss erst den zweiten Teil FamilienTweets des Jahres lesen httpstcoFGvzpb\n",
      "56\tneutral\tpositiv\tpositiv\t \tLES TITRES DE LANNE Part Feat AABONDY x Papertwin x BrijeanBand x LoveLeo x Tree House x MABScle x teachersofpop x Gargäntua x timission x Danny Sofa httpstcoRq\n",
      "57\tpositiv\tpositiv\tnegativ\tX\tTherapeutin Sie sollten mal herkömmliche normale Dinge ausprobieren Frauen in Ihrem Alter Spaß machen Ich Ich war heut im Zoo Therapeutin Schön Konnten davon et\n",
      "58\tnegativ\tpositiv\tnegativ\tX\tMein Interesse Für kommenden Kämpfe will kluge historische gebildete Linke Dazu gehört Auseinandersetzung sowohl mit Linken auf zB antisemitischen Abwegen als a\n",
      "59\tpositiv\tpositiv\tpositiv\t \tSprengstoffanschlag auf gemeinsame Wahlkreisbüro des Landtagsabgeordneten Dr Jan Bollinger des Bundestagsabgeordneten Andreas Bleck beide AfD in Neuwied Ein off\n",
      "60\tpositiv\tpositiv\tnegativ\tX\tK will unbedingt Smartphone K noch Folge gucken K noch heiße Milch meine Frau noch kleines Baby mal Minuten meine Ruhe\n",
      "61\tpositiv\tpositiv\tnegativ\tX\tSydney ist von den Buschfeuern komplett eingeschlossen Das große Silvesterfeuerwerk findet trotzem statt Erinnert an Titanik Da hat Band auch bis zum Schluss we\n",
      "62\tnegativ\tpositiv\tpositiv\t \tIn d Linksextremistenhochburg Leipzig kann Polizei nicht mehr persönliche Eigentum d Bürger schtzen u empfiehlt d Anwohnern Auto an einem entfernter gelegenen A\n",
      "63\tpositiv\tpositiv\tnegativ\tX\tEs hilft beim Rückblick auf ungemein sich alles schön zu trinken Ausblick auf wird einfacher wenn man sich Mut antrinkt Ich öffne deshalb jetzt offiziell erste \n",
      "64\tpositiv\tpositiv\tpositiv\t \tIch sag mal Danke an euchdie mich lest mitlachtmitweint mitfühlt Schön euch gibt Und jetzt feiertals wenn kein morgen gibt\n",
      "65\tpositiv\tpositiv\tnegativ\tX\tEuch allen mal einen guten Rutsch Möge dieses Jahr für euch alle wunderschön werden\n"
     ]
    }
   ],
   "source": [
    "compare_classifier(tweets, examples=100)"
   ]
  },
  {
   "cell_type": "markdown",
   "metadata": {},
   "source": [
    "<div style=\"background-color: #150458; padding: 5px;\"></div>\n",
    "\n",
    "## 5. <a id='abschluss'>Abschluss</a>"
   ]
  }
 ],
 "metadata": {
  "kernelspec": {
   "display_name": "Python 3",
   "language": "python",
   "name": "python3"
  },
  "language_info": {
   "codemirror_mode": {
    "name": "ipython",
    "version": 3
   },
   "file_extension": ".py",
   "mimetype": "text/x-python",
   "name": "python",
   "nbconvert_exporter": "python",
   "pygments_lexer": "ipython3",
   "version": "3.7.0"
  }
 },
 "nbformat": 4,
 "nbformat_minor": 4
}
