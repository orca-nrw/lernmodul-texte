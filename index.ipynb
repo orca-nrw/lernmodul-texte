{
 "cells": [
  {
   "cell_type": "markdown",
   "metadata": {},
   "source": [
    "![WordCloud](./img/wordcloud.png)"
   ]
  },
  {
   "cell_type": "code",
   "execution_count": 1,
   "metadata": {},
   "outputs": [
    {
     "name": "stdout",
     "output_type": "stream",
     "text": [
      "Hello, stranger!\n"
     ]
    }
   ],
   "source": [
    "#hideInput\n",
    "try:\n",
    "    username\n",
    "except NameError:\n",
    "    username = 'stranger'\n",
    "\n",
    "print('Hello, ' + username + '!')"
   ]
  },
  {
   "cell_type": "markdown",
   "metadata": {},
   "source": [
    "# Lernmodul zur Verarbeitung und Analyse von Textdaten"
   ]
  },
  {
   "cell_type": "markdown",
   "metadata": {},
   "source": [
    "Das Verarbeiten menschlicher Sprache gilt als Voraussetzung für eine erfolgreiche Mensch-Maschine-Kommunikation. Zusätzlich kann sie dabei helfen eine vom Mensch unternommene Textanalyse zu unterstützen. Handelt es sich bei diesem Kommentar um unerwünschte Inhalte? Verbreitet dieser Beitrag Falschinformationen? Und welche Meinung will der Verfasser mit dieser Rezension zum Ausdruck bringen?\n",
    "\n",
    "Im folgenden Lernmodul wird mithilfe computergestützter Methoden eine Antwort auf solche Problemstellungen gesucht. Im Zuge der Stimmungsanalyse (Sentiment Analysis) wird versucht die Intention eines Textbeitrages zu identifizieren um bspw. zwischen einer negativen und einer positiven Aussage zu unterscheiden. Diese Unterscheidung übernimmt ein Modell (hier: Klassifikator), welches auf Basis eines Vokabulars (hier: Labels) eine Vorhersage (hier: Stimmung) über vorliegende Textbeiträge (hier: Tweets) trifft.\n",
    "\n",
    "Dabei durchläuft das Lernmodul auf dem Weg von Textbeiträgen als Eingabe hin zu einer Stimmungsvorhersage als Ausgabe die drei Domänen *Daten*, *Modell* und *Verwendung* wie die folgende Abbildung verdeutlicht:\n",
    "\n",
    "![Pipeline](./img/flow.png)"
   ]
  },
  {
   "cell_type": "markdown",
   "metadata": {},
   "source": [
    "**Übersicht über die Lerninhalte:**\n",
    "\n",
    "1. [Einführung](#1.-Einführung)\n",
    "    1. [Motivation](#1.1-Motivation)\n",
    "    2. [Voraussetzungen](#1.2-Voraussetzungen)\n",
    "2. [Daten](#2.-Daten)\n",
    "    1. [Textdaten beschaffen](#2.1-Textdaten-beschaffen)\n",
    "    2. [Textdaten erkunden](#2.2-Textdaten-erkunden)\n",
    "    3. [Textdaten aufbereiten](#2.3-Textdaten-aufbereiten)\n",
    "        1. [Zeichen bereinigen](#2.3.1-Zeichen-bereinigen)\n",
    "        2. [Wörter bereinigen](#2.3.2-Wörter-bereinigen)\n",
    "        3. [Tweets bereinigen](#2.3.3-Tweets-bereinigen)\n",
    "3. [Modell](#3.-Modell)\n",
    "    1. [Textdaten einbetten](#3.1-Textdaten-einbetten)\n",
    "        1. [Vokabular](#3.1.1-Vokabular)\n",
    "        2. [Vektorisierung](#3.1.2-Vektorisierung)\n",
    "        3. [Label](#3.1.3-Label)\n",
    "        4. [Features](#3.1.4-Features)\n",
    "    2. [Textdaten klassifizieren](#3.2-Textdaten-klassifizieren)\n",
    "        1. [Überwachte Klassifikation](#3.2.1-Überwachte-Klassifikation)\n",
    "        2. [Unüberwachte Klassifikation](#3.2.2-Unüberwachte-Klassifikation)\n",
    "4. [Verwendung](#4.-Verwendung)\n",
    "    1. [Textdaten vorhersagen](#4.1-Textdaten-vorhersagen)\n",
    "        1. [Überwachter Klassifikator](#4.1.1-Überwachter-Klassifikator)\n",
    "        2. [Unüberwachter Klassifikator](#4.1.2-Unüberwachter-Klassifikator)\n",
    "5. [Abschluss](#5.-Abschluss)"
   ]
  },
  {
   "cell_type": "markdown",
   "metadata": {},
   "source": [
    "**Lernziele:**\n",
    "\n",
    "Die Teilnehmer lernen in der [Datendomäne](#daten) Textdaten in roher Form Schritt für Schritt in kontextbezogene Daten für eine Textanalyse zu transformieren. Daraufhin bewegen sich die Teilnehmer in der [Modelldomäne](#modell), in der sie die Daten in das Modell einbetten und mittels zweier unterschiedlicher Algorithmen klassifizieren. Last but not least werden die entstandenen Klassifikatoren in der [Verwendungsdomäne](#verwendung) für eine Vorhersage der Stimmung gebraucht."
   ]
  },
  {
   "cell_type": "markdown",
   "metadata": {},
   "source": [
    "**Voraussetzungen:**\n",
    "\n",
    "- [Lernmodul zum Datenimport und zur Datenvorbereitung mit Pandas](https://projectbase.medien.hs-duesseldorf.de/eild.nrw-module/lernmodul-pandas)"
   ]
  },
  {
   "cell_type": "markdown",
   "metadata": {},
   "source": [
    "**Setup für die Aufgabenüberprüfung:**"
   ]
  },
  {
   "cell_type": "code",
   "execution_count": 2,
   "metadata": {},
   "outputs": [
    {
     "data": {
      "text/plain": [
       "<taskreview.learning_module.LearningModule at 0x1ad9ad4e1d0>"
      ]
     },
     "execution_count": 2,
     "metadata": {},
     "output_type": "execute_result"
    }
   ],
   "source": [
    "#hideInput\n",
    "from taskreview.learning_module import LearningModule\n",
    "texte_lm = LearningModule('data/lernmodul_texte.db')\n",
    "texte_lm"
   ]
  },
  {
   "cell_type": "markdown",
   "metadata": {},
   "source": [
    "<div style=\"background-color: #150458; padding: 5px;\"></div>\n",
    "\n",
    "## 1. Einführung"
   ]
  },
  {
   "cell_type": "markdown",
   "metadata": {},
   "source": [
    "[Zurück zur Übersicht](#Lernmodul-zur-Verarbeitung-und-Analyse-von-Textdaten)"
   ]
  },
  {
   "cell_type": "markdown",
   "metadata": {},
   "source": [
    "### 1.1 Motivation"
   ]
  },
  {
   "cell_type": "markdown",
   "metadata": {},
   "source": [
    "Die Verarbeitung menschlicher Sprache (Natural Language Processing, NLP) ist ein prominentes Forschungsfeld der Informatik mit ähnlichem Bekanntheitsgrad wie die Analyse visueller Daten (Computer Vision), welche bspw. das Erkennen von Bildern (Image Recognition) sowie ihre Manipulation (Image Augmentation) betrachtet. Im ersten Fall wollen wir einen bekannten bzw. alten Bildinhalt klassifizieren, während der zweite Fall einen unbekannten bzw. neuen Bildinhalt erzeugt."
   ]
  },
  {
   "cell_type": "markdown",
   "metadata": {},
   "source": [
    "Wechseln wir von Bild- auf Textdaten, lässt sich das Forschungsfeld des _NLP_ auf ähnliche Problemstellungen herunterbrechen, die in der folgenden Auflistung aufgeführt sind:\n",
    "\n",
    "* Texterkennung (Text Recognition)\n",
    "  * Spracherkennung (Speech Recognition)\n",
    "  * Stimmungsanalyse (Sentiment Analysis)\n",
    "* Textmanipulation (Text Augmentation)\n",
    "  * Maschinelle Übersetzung (Machine Translation)\n",
    "  * Automatisches Antworten (Question Answering)"
   ]
  },
  {
   "cell_type": "markdown",
   "metadata": {},
   "source": [
    "Dieses Lernmodul beschäftigt sich mit der ersten Problemstellung, also der Texterkennung, im besonderen mit der Unterscheidung verschiedener Stimmungen, welche der Verfasser eines Textes gehabt haben könnte. Ein aktuelles Anwendungsbeispiel ist die Identifikation von Hassreden, wie sie bspw. von [Facebook](https://www.facebook.com/) im Zuge ihrer [Community Standards](https://www.facebook.com/communitystandards/hate_speech) verboten sind und erkannt werden müssen. Auch könnte man ein Stimmungsbild der Gesellschaft über die Auswertung von Beiträgen auf Twitter betrachten."
   ]
  },
  {
   "cell_type": "markdown",
   "metadata": {},
   "source": [
    "### 1.2 Voraussetzungen"
   ]
  },
  {
   "cell_type": "markdown",
   "metadata": {},
   "source": [
    "Dieses Lernmodul nimmt sich [NumPy](https://numpy.org/) für numerische Berechnungen, [Pandas](https://pandas.pydata.org/) zur Datenverarbeitung und [PyPlot](https://matplotlib.org/api/pyplot_api.html) zur Datenvisualisierung zur Hilfe."
   ]
  },
  {
   "cell_type": "code",
   "execution_count": 3,
   "metadata": {},
   "outputs": [],
   "source": [
    "import numpy as np\n",
    "import pandas as pd\n",
    "import matplotlib.pyplot as plt"
   ]
  },
  {
   "cell_type": "markdown",
   "metadata": {},
   "source": [
    "Dazu werden die folgenden Skripte zum Einlesen & Visualisieren der Daten benötigt:"
   ]
  },
  {
   "cell_type": "code",
   "execution_count": 4,
   "metadata": {},
   "outputs": [],
   "source": [
    "from utils import load_functions as lf\n",
    "from utils import model_functions as mf\n",
    "from utils import vis_functions as vf"
   ]
  },
  {
   "cell_type": "markdown",
   "metadata": {},
   "source": [
    "<div style=\"background-color: #150458; padding: 5px;\"></div>\n",
    "\n",
    "## 2. Daten"
   ]
  },
  {
   "cell_type": "markdown",
   "metadata": {},
   "source": [
    "[Zurück zur Übersicht](#Lernmodul-zur-Verarbeitung-und-Analyse-von-Textdaten)"
   ]
  },
  {
   "cell_type": "markdown",
   "metadata": {},
   "source": [
    "In der Datendomäne beschaffen wir uns zunächst einen Datensatz, welcher aus vielen Beispielen besteht, der die Grundgesamtheit an Daten bildet. Ein Beispiel umfasst dabei mindestens ein, wenn nicht sogar mehrere Merkmale. Ein Merkmal wird dabei durch einen numerischen oder symbolischen Wert verkörpert, der in unserem Fall bspw. ein Text sein kann. Im weiteren Verlauf werden die beschafften Daten begutachtet und bereinigt.\n",
    "\n",
    "Welche Schritte ein Textbeitrag in der Datendomäne durchläuft verdeutlicht die folgende Abbildung:\n",
    "\n",
    "![Daten](./img/data_flow.png)"
   ]
  },
  {
   "cell_type": "markdown",
   "metadata": {},
   "source": [
    "### 2.1 Textdaten beschaffen"
   ]
  },
  {
   "cell_type": "markdown",
   "metadata": {},
   "source": [
    "Wo findet man in der heutigen Zeit aktuelle Daten, welche eine eigene Meinung enthalten? Auf dem Kurznachrichtendienst Twitter. Da aktuelle Daten von Twitter nicht automatisch mit deskriptiven Daten angereichert werden, benötigt ihre Analyse einen gewissen Mehraufwand. Überwachtes Lernen auf einem aufbereiteten Datensatz aus bekannter Ein- und Ausgabe ist in unserem Fall erstmal so nicht möglich, da wir es mit aktuellen Daten zu tun haben, die erst aufbereitet werden müssen."
   ]
  },
  {
   "cell_type": "markdown",
   "metadata": {},
   "source": [
    "Unser Datensatz wird ungefiltert von Twitter extrahiert und monatlich unter der [CC 4.0 International](https://creativecommons.org/licenses/by/4.0/legalcode) Lizenz veröffentlicht [[1]](#1)."
   ]
  },
  {
   "cell_type": "markdown",
   "metadata": {},
   "source": [
    "Unter `data/tweets/` finden sich ein Teil dieser Veröffentlichung als JSON, welche wir zunächst als Rohdateien in `files` einlesen..."
   ]
  },
  {
   "cell_type": "code",
   "execution_count": 5,
   "metadata": {},
   "outputs": [],
   "source": [
    "files = lf.load_json()"
   ]
  },
  {
   "cell_type": "markdown",
   "metadata": {},
   "source": [
    "...sie daraufhin jeweils als DataFrame in `frames` sammeln..."
   ]
  },
  {
   "cell_type": "code",
   "execution_count": 6,
   "metadata": {},
   "outputs": [],
   "source": [
    "files = map(pd.DataFrame, files)"
   ]
  },
  {
   "cell_type": "markdown",
   "metadata": {},
   "source": [
    "...und diese letztendlich zu einem großen Datensatz `twitter` zusammenfügen."
   ]
  },
  {
   "cell_type": "code",
   "execution_count": 7,
   "metadata": {},
   "outputs": [],
   "source": [
    "twitter = pd.concat(files)\n",
    "del files"
   ]
  },
  {
   "cell_type": "markdown",
   "metadata": {},
   "source": [
    "Das war's auch schon mit der Bereitstellung der Daten. Als nächstes gilt es die noch unbekannten Daten zu erkunden."
   ]
  },
  {
   "cell_type": "markdown",
   "metadata": {},
   "source": [
    "### 2.2 Textdaten erkunden"
   ]
  },
  {
   "cell_type": "markdown",
   "metadata": {},
   "source": [
    "Wie im [Lernmodul zum Datenimport und zur Datenvorbereitung mit Pandas](https://projectbase.medien.hs-duesseldorf.de/eild.nrw-module/lernmodul-pandas) kennengelernt, lässt sich über die `head()` Funktionalität der Kopf des Datensatzes betrachten. Wie schaut dieser aus?"
   ]
  },
  {
   "cell_type": "code",
   "execution_count": 8,
   "metadata": {},
   "outputs": [
    {
     "data": {
      "text/html": [
       "<div>\n",
       "<style scoped>\n",
       "    .dataframe tbody tr th:only-of-type {\n",
       "        vertical-align: middle;\n",
       "    }\n",
       "\n",
       "    .dataframe tbody tr th {\n",
       "        vertical-align: top;\n",
       "    }\n",
       "\n",
       "    .dataframe thead th {\n",
       "        text-align: right;\n",
       "    }\n",
       "</style>\n",
       "<table border=\"1\" class=\"dataframe\">\n",
       "  <thead>\n",
       "    <tr style=\"text-align: right;\">\n",
       "      <th></th>\n",
       "      <th>twista</th>\n",
       "      <th>type</th>\n",
       "      <th>id</th>\n",
       "      <th>user</th>\n",
       "      <th>created_at</th>\n",
       "      <th>recorded_at</th>\n",
       "      <th>source</th>\n",
       "      <th>retweets</th>\n",
       "      <th>favourites</th>\n",
       "      <th>lang</th>\n",
       "      <th>...</th>\n",
       "      <th>screen_name</th>\n",
       "      <th>location</th>\n",
       "      <th>description</th>\n",
       "      <th>url</th>\n",
       "      <th>verified</th>\n",
       "      <th>followers</th>\n",
       "      <th>friends</th>\n",
       "      <th>listed</th>\n",
       "      <th>statuses</th>\n",
       "      <th>text</th>\n",
       "    </tr>\n",
       "  </thead>\n",
       "  <tbody>\n",
       "    <tr>\n",
       "      <th>0</th>\n",
       "      <td>0.3.4-b</td>\n",
       "      <td>retweet</td>\n",
       "      <td>1230754419815247873</td>\n",
       "      <td>967699741214756864</td>\n",
       "      <td>2020-02-21T07:21:34+00:00</td>\n",
       "      <td>2020-02-21T07:21:40.179343+00:00</td>\n",
       "      <td>&lt;a href=\"http://twitter.com/download/android\" ...</td>\n",
       "      <td>0.0</td>\n",
       "      <td>0</td>\n",
       "      <td>de</td>\n",
       "      <td>...</td>\n",
       "      <td>NaN</td>\n",
       "      <td>NaN</td>\n",
       "      <td>NaN</td>\n",
       "      <td>NaN</td>\n",
       "      <td>NaN</td>\n",
       "      <td>NaN</td>\n",
       "      <td>NaN</td>\n",
       "      <td>NaN</td>\n",
       "      <td>NaN</td>\n",
       "      <td>NaN</td>\n",
       "    </tr>\n",
       "    <tr>\n",
       "      <th>1</th>\n",
       "      <td>0.3.4-b</td>\n",
       "      <td>retweet</td>\n",
       "      <td>1230754431693549568</td>\n",
       "      <td>887758764232847360</td>\n",
       "      <td>2020-02-21T07:21:37+00:00</td>\n",
       "      <td>2020-02-21T07:21:42.865221+00:00</td>\n",
       "      <td>&lt;a href=\"http://twitter.com/download/android\" ...</td>\n",
       "      <td>0.0</td>\n",
       "      <td>0</td>\n",
       "      <td>de</td>\n",
       "      <td>...</td>\n",
       "      <td>NaN</td>\n",
       "      <td>NaN</td>\n",
       "      <td>NaN</td>\n",
       "      <td>NaN</td>\n",
       "      <td>NaN</td>\n",
       "      <td>NaN</td>\n",
       "      <td>NaN</td>\n",
       "      <td>NaN</td>\n",
       "      <td>NaN</td>\n",
       "      <td>NaN</td>\n",
       "    </tr>\n",
       "    <tr>\n",
       "      <th>2</th>\n",
       "      <td>0.3.4-b</td>\n",
       "      <td>retweet</td>\n",
       "      <td>1230754438144376832</td>\n",
       "      <td>940990109574459393</td>\n",
       "      <td>2020-02-21T07:21:39+00:00</td>\n",
       "      <td>2020-02-21T07:21:44.366736+00:00</td>\n",
       "      <td>&lt;a href=\"http://twitter.com/download/android\" ...</td>\n",
       "      <td>0.0</td>\n",
       "      <td>0</td>\n",
       "      <td>de</td>\n",
       "      <td>...</td>\n",
       "      <td>NaN</td>\n",
       "      <td>NaN</td>\n",
       "      <td>NaN</td>\n",
       "      <td>NaN</td>\n",
       "      <td>NaN</td>\n",
       "      <td>NaN</td>\n",
       "      <td>NaN</td>\n",
       "      <td>NaN</td>\n",
       "      <td>NaN</td>\n",
       "      <td>NaN</td>\n",
       "    </tr>\n",
       "    <tr>\n",
       "      <th>3</th>\n",
       "      <td>0.3.4-b</td>\n",
       "      <td>retweet</td>\n",
       "      <td>1230754446226812929</td>\n",
       "      <td>527892987</td>\n",
       "      <td>2020-02-21T07:21:40+00:00</td>\n",
       "      <td>2020-02-21T07:21:46.321657+00:00</td>\n",
       "      <td>&lt;a href=\"http://twitter.com/download/android\" ...</td>\n",
       "      <td>0.0</td>\n",
       "      <td>0</td>\n",
       "      <td>de</td>\n",
       "      <td>...</td>\n",
       "      <td>NaN</td>\n",
       "      <td>NaN</td>\n",
       "      <td>NaN</td>\n",
       "      <td>NaN</td>\n",
       "      <td>NaN</td>\n",
       "      <td>NaN</td>\n",
       "      <td>NaN</td>\n",
       "      <td>NaN</td>\n",
       "      <td>NaN</td>\n",
       "      <td>NaN</td>\n",
       "    </tr>\n",
       "    <tr>\n",
       "      <th>4</th>\n",
       "      <td>0.3.4-b</td>\n",
       "      <td>retweet</td>\n",
       "      <td>1230754448147800064</td>\n",
       "      <td>3119096980</td>\n",
       "      <td>2020-02-21T07:21:41+00:00</td>\n",
       "      <td>2020-02-21T07:21:46.783086+00:00</td>\n",
       "      <td>&lt;a href=\"https://mobile.twitter.com\" rel=\"nofo...</td>\n",
       "      <td>0.0</td>\n",
       "      <td>0</td>\n",
       "      <td>de</td>\n",
       "      <td>...</td>\n",
       "      <td>NaN</td>\n",
       "      <td>NaN</td>\n",
       "      <td>NaN</td>\n",
       "      <td>NaN</td>\n",
       "      <td>NaN</td>\n",
       "      <td>NaN</td>\n",
       "      <td>NaN</td>\n",
       "      <td>NaN</td>\n",
       "      <td>NaN</td>\n",
       "      <td>NaN</td>\n",
       "    </tr>\n",
       "  </tbody>\n",
       "</table>\n",
       "<p>5 rows × 26 columns</p>\n",
       "</div>"
      ],
      "text/plain": [
       "    twista     type                   id                user  \\\n",
       "0  0.3.4-b  retweet  1230754419815247873  967699741214756864   \n",
       "1  0.3.4-b  retweet  1230754431693549568  887758764232847360   \n",
       "2  0.3.4-b  retweet  1230754438144376832  940990109574459393   \n",
       "3  0.3.4-b  retweet  1230754446226812929           527892987   \n",
       "4  0.3.4-b  retweet  1230754448147800064          3119096980   \n",
       "\n",
       "                  created_at                       recorded_at  \\\n",
       "0  2020-02-21T07:21:34+00:00  2020-02-21T07:21:40.179343+00:00   \n",
       "1  2020-02-21T07:21:37+00:00  2020-02-21T07:21:42.865221+00:00   \n",
       "2  2020-02-21T07:21:39+00:00  2020-02-21T07:21:44.366736+00:00   \n",
       "3  2020-02-21T07:21:40+00:00  2020-02-21T07:21:46.321657+00:00   \n",
       "4  2020-02-21T07:21:41+00:00  2020-02-21T07:21:46.783086+00:00   \n",
       "\n",
       "                                              source  retweets  favourites  \\\n",
       "0  <a href=\"http://twitter.com/download/android\" ...       0.0           0   \n",
       "1  <a href=\"http://twitter.com/download/android\" ...       0.0           0   \n",
       "2  <a href=\"http://twitter.com/download/android\" ...       0.0           0   \n",
       "3  <a href=\"http://twitter.com/download/android\" ...       0.0           0   \n",
       "4  <a href=\"https://mobile.twitter.com\" rel=\"nofo...       0.0           0   \n",
       "\n",
       "  lang  ... screen_name location description  url verified followers friends  \\\n",
       "0   de  ...         NaN      NaN         NaN  NaN      NaN       NaN     NaN   \n",
       "1   de  ...         NaN      NaN         NaN  NaN      NaN       NaN     NaN   \n",
       "2   de  ...         NaN      NaN         NaN  NaN      NaN       NaN     NaN   \n",
       "3   de  ...         NaN      NaN         NaN  NaN      NaN       NaN     NaN   \n",
       "4   de  ...         NaN      NaN         NaN  NaN      NaN       NaN     NaN   \n",
       "\n",
       "  listed statuses text  \n",
       "0    NaN      NaN  NaN  \n",
       "1    NaN      NaN  NaN  \n",
       "2    NaN      NaN  NaN  \n",
       "3    NaN      NaN  NaN  \n",
       "4    NaN      NaN  NaN  \n",
       "\n",
       "[5 rows x 26 columns]"
      ]
     },
     "execution_count": 8,
     "metadata": {},
     "output_type": "execute_result"
    }
   ],
   "source": [
    "twitter.head()"
   ]
  },
  {
   "cell_type": "markdown",
   "metadata": {},
   "source": [
    "Leider liefert die `head()` Funktionalität nicht die Größe des Datensatzes zurück..."
   ]
  },
  {
   "cell_type": "markdown",
   "metadata": {},
   "source": [
    "**Aufgabe: Wie viele Beispiele sind im `twitter` Datensatz enthalten?**"
   ]
  },
  {
   "cell_type": "code",
   "execution_count": 9,
   "metadata": {},
   "outputs": [],
   "source": [
    "#hideInput\n",
    "texte_lm.show_task(221)"
   ]
  },
  {
   "cell_type": "code",
   "execution_count": 10,
   "metadata": {},
   "outputs": [
    {
     "data": {
      "text/plain": [
       "600005"
      ]
     },
     "execution_count": 10,
     "metadata": {},
     "output_type": "execute_result"
    }
   ],
   "source": [
    "#solution\n",
    "twitter.shape[0]"
   ]
  },
  {
   "cell_type": "markdown",
   "metadata": {},
   "source": [
    "**Aufgabe: Wie viele Werte liegen pro Beispiel vor? Aus wie vielen Merkmalen besteht der `twitter` Datensatz?**"
   ]
  },
  {
   "cell_type": "code",
   "execution_count": 11,
   "metadata": {},
   "outputs": [],
   "source": [
    "#hideInput\n",
    "texte_lm.show_task(222)"
   ]
  },
  {
   "cell_type": "code",
   "execution_count": 12,
   "metadata": {},
   "outputs": [
    {
     "data": {
      "text/plain": [
       "26"
      ]
     },
     "execution_count": 12,
     "metadata": {},
     "output_type": "execute_result"
    }
   ],
   "source": [
    "#solution\n",
    "twitter.shape[1]"
   ]
  },
  {
   "cell_type": "markdown",
   "metadata": {},
   "source": [
    "Und welche Merkmale liegen genau vor?"
   ]
  },
  {
   "cell_type": "code",
   "execution_count": 13,
   "metadata": {},
   "outputs": [
    {
     "data": {
      "text/plain": [
       "Index(['twista', 'type', 'id', 'user', 'created_at', 'recorded_at', 'source',\n",
       "       'retweets', 'favourites', 'lang', 'hashtags', 'urls', 'mentions',\n",
       "       'mentioned_ids', 'refers_to', 'name', 'screen_name', 'location',\n",
       "       'description', 'url', 'verified', 'followers', 'friends', 'listed',\n",
       "       'statuses', 'text'],\n",
       "      dtype='object')"
      ]
     },
     "execution_count": 13,
     "metadata": {},
     "output_type": "execute_result"
    }
   ],
   "source": [
    "twitter.columns"
   ]
  },
  {
   "cell_type": "markdown",
   "metadata": {},
   "source": [
    "Das Merkmal _created_ _at_ scheint den Zeitpunkt des Tweets zu beinhalten. Welche Jahre haben wir erwischt?"
   ]
  },
  {
   "cell_type": "code",
   "execution_count": 14,
   "metadata": {},
   "outputs": [
    {
     "data": {
      "text/plain": [
       "Text(0.5, 0, 'Jahr')"
      ]
     },
     "execution_count": 14,
     "metadata": {},
     "output_type": "execute_result"
    },
    {
     "data": {
      "image/png": "[encoded data removed]",
      "text/plain": [
       "<Figure size 432x288 with 1 Axes>"
      ]
     },
     "metadata": {
      "needs_background": "light"
     },
     "output_type": "display_data"
    }
   ],
   "source": [
    "twitter['year'] = pd.to_datetime(twitter['created_at']).dt.year\n",
    "twitter = twitter.drop(['created_at', 'recorded_at'], axis=1)\n",
    "\n",
    "ax = twitter['year'].value_counts().plot(kind='bar', title='Tweets created')\n",
    "ax.set_xlabel('Jahr')"
   ]
  },
  {
   "cell_type": "code",
   "execution_count": 15,
   "metadata": {},
   "outputs": [
    {
     "data": {
      "text/html": [
       "<div>\n",
       "<style scoped>\n",
       "    .dataframe tbody tr th:only-of-type {\n",
       "        vertical-align: middle;\n",
       "    }\n",
       "\n",
       "    .dataframe tbody tr th {\n",
       "        vertical-align: top;\n",
       "    }\n",
       "\n",
       "    .dataframe thead th {\n",
       "        text-align: right;\n",
       "    }\n",
       "</style>\n",
       "<table border=\"1\" class=\"dataframe\">\n",
       "  <thead>\n",
       "    <tr style=\"text-align: right;\">\n",
       "      <th></th>\n",
       "      <th>twista</th>\n",
       "      <th>type</th>\n",
       "      <th>id</th>\n",
       "      <th>user</th>\n",
       "      <th>source</th>\n",
       "      <th>retweets</th>\n",
       "      <th>favourites</th>\n",
       "      <th>lang</th>\n",
       "      <th>hashtags</th>\n",
       "      <th>urls</th>\n",
       "      <th>...</th>\n",
       "      <th>location</th>\n",
       "      <th>description</th>\n",
       "      <th>url</th>\n",
       "      <th>verified</th>\n",
       "      <th>followers</th>\n",
       "      <th>friends</th>\n",
       "      <th>listed</th>\n",
       "      <th>statuses</th>\n",
       "      <th>text</th>\n",
       "      <th>year</th>\n",
       "    </tr>\n",
       "  </thead>\n",
       "  <tbody>\n",
       "    <tr>\n",
       "      <th>0</th>\n",
       "      <td>0.3.4-b</td>\n",
       "      <td>retweet</td>\n",
       "      <td>1230754419815247873</td>\n",
       "      <td>967699741214756864</td>\n",
       "      <td>&lt;a href=\"http://twitter.com/download/android\" ...</td>\n",
       "      <td>0.0</td>\n",
       "      <td>0</td>\n",
       "      <td>de</td>\n",
       "      <td>[Rassismus]</td>\n",
       "      <td>[]</td>\n",
       "      <td>...</td>\n",
       "      <td>NaN</td>\n",
       "      <td>NaN</td>\n",
       "      <td>NaN</td>\n",
       "      <td>NaN</td>\n",
       "      <td>NaN</td>\n",
       "      <td>NaN</td>\n",
       "      <td>NaN</td>\n",
       "      <td>NaN</td>\n",
       "      <td>NaN</td>\n",
       "      <td>2020</td>\n",
       "    </tr>\n",
       "    <tr>\n",
       "      <th>1</th>\n",
       "      <td>0.3.4-b</td>\n",
       "      <td>retweet</td>\n",
       "      <td>1230754431693549568</td>\n",
       "      <td>887758764232847360</td>\n",
       "      <td>&lt;a href=\"http://twitter.com/download/android\" ...</td>\n",
       "      <td>0.0</td>\n",
       "      <td>0</td>\n",
       "      <td>de</td>\n",
       "      <td>[AfD, HanauShooting, Hanau]</td>\n",
       "      <td>[]</td>\n",
       "      <td>...</td>\n",
       "      <td>NaN</td>\n",
       "      <td>NaN</td>\n",
       "      <td>NaN</td>\n",
       "      <td>NaN</td>\n",
       "      <td>NaN</td>\n",
       "      <td>NaN</td>\n",
       "      <td>NaN</td>\n",
       "      <td>NaN</td>\n",
       "      <td>NaN</td>\n",
       "      <td>2020</td>\n",
       "    </tr>\n",
       "    <tr>\n",
       "      <th>2</th>\n",
       "      <td>0.3.4-b</td>\n",
       "      <td>retweet</td>\n",
       "      <td>1230754438144376832</td>\n",
       "      <td>940990109574459393</td>\n",
       "      <td>&lt;a href=\"http://twitter.com/download/android\" ...</td>\n",
       "      <td>0.0</td>\n",
       "      <td>0</td>\n",
       "      <td>de</td>\n",
       "      <td>[Hanau]</td>\n",
       "      <td>[]</td>\n",
       "      <td>...</td>\n",
       "      <td>NaN</td>\n",
       "      <td>NaN</td>\n",
       "      <td>NaN</td>\n",
       "      <td>NaN</td>\n",
       "      <td>NaN</td>\n",
       "      <td>NaN</td>\n",
       "      <td>NaN</td>\n",
       "      <td>NaN</td>\n",
       "      <td>NaN</td>\n",
       "      <td>2020</td>\n",
       "    </tr>\n",
       "    <tr>\n",
       "      <th>3</th>\n",
       "      <td>0.3.4-b</td>\n",
       "      <td>retweet</td>\n",
       "      <td>1230754446226812929</td>\n",
       "      <td>527892987</td>\n",
       "      <td>&lt;a href=\"http://twitter.com/download/android\" ...</td>\n",
       "      <td>0.0</td>\n",
       "      <td>0</td>\n",
       "      <td>de</td>\n",
       "      <td>[]</td>\n",
       "      <td>[]</td>\n",
       "      <td>...</td>\n",
       "      <td>NaN</td>\n",
       "      <td>NaN</td>\n",
       "      <td>NaN</td>\n",
       "      <td>NaN</td>\n",
       "      <td>NaN</td>\n",
       "      <td>NaN</td>\n",
       "      <td>NaN</td>\n",
       "      <td>NaN</td>\n",
       "      <td>NaN</td>\n",
       "      <td>2020</td>\n",
       "    </tr>\n",
       "    <tr>\n",
       "      <th>4</th>\n",
       "      <td>0.3.4-b</td>\n",
       "      <td>retweet</td>\n",
       "      <td>1230754448147800064</td>\n",
       "      <td>3119096980</td>\n",
       "      <td>&lt;a href=\"https://mobile.twitter.com\" rel=\"nofo...</td>\n",
       "      <td>0.0</td>\n",
       "      <td>0</td>\n",
       "      <td>de</td>\n",
       "      <td>[Interview, Idlib]</td>\n",
       "      <td>[]</td>\n",
       "      <td>...</td>\n",
       "      <td>NaN</td>\n",
       "      <td>NaN</td>\n",
       "      <td>NaN</td>\n",
       "      <td>NaN</td>\n",
       "      <td>NaN</td>\n",
       "      <td>NaN</td>\n",
       "      <td>NaN</td>\n",
       "      <td>NaN</td>\n",
       "      <td>NaN</td>\n",
       "      <td>2020</td>\n",
       "    </tr>\n",
       "  </tbody>\n",
       "</table>\n",
       "<p>5 rows × 25 columns</p>\n",
       "</div>"
      ],
      "text/plain": [
       "    twista     type                   id                user  \\\n",
       "0  0.3.4-b  retweet  1230754419815247873  967699741214756864   \n",
       "1  0.3.4-b  retweet  1230754431693549568  887758764232847360   \n",
       "2  0.3.4-b  retweet  1230754438144376832  940990109574459393   \n",
       "3  0.3.4-b  retweet  1230754446226812929           527892987   \n",
       "4  0.3.4-b  retweet  1230754448147800064          3119096980   \n",
       "\n",
       "                                              source  retweets  favourites  \\\n",
       "0  <a href=\"http://twitter.com/download/android\" ...       0.0           0   \n",
       "1  <a href=\"http://twitter.com/download/android\" ...       0.0           0   \n",
       "2  <a href=\"http://twitter.com/download/android\" ...       0.0           0   \n",
       "3  <a href=\"http://twitter.com/download/android\" ...       0.0           0   \n",
       "4  <a href=\"https://mobile.twitter.com\" rel=\"nofo...       0.0           0   \n",
       "\n",
       "  lang                     hashtags urls  ... location description  url  \\\n",
       "0   de                  [Rassismus]   []  ...      NaN         NaN  NaN   \n",
       "1   de  [AfD, HanauShooting, Hanau]   []  ...      NaN         NaN  NaN   \n",
       "2   de                      [Hanau]   []  ...      NaN         NaN  NaN   \n",
       "3   de                           []   []  ...      NaN         NaN  NaN   \n",
       "4   de           [Interview, Idlib]   []  ...      NaN         NaN  NaN   \n",
       "\n",
       "  verified followers friends listed statuses text  year  \n",
       "0      NaN       NaN     NaN    NaN      NaN  NaN  2020  \n",
       "1      NaN       NaN     NaN    NaN      NaN  NaN  2020  \n",
       "2      NaN       NaN     NaN    NaN      NaN  NaN  2020  \n",
       "3      NaN       NaN     NaN    NaN      NaN  NaN  2020  \n",
       "4      NaN       NaN     NaN    NaN      NaN  NaN  2020  \n",
       "\n",
       "[5 rows x 25 columns]"
      ]
     },
     "execution_count": 15,
     "metadata": {},
     "output_type": "execute_result"
    }
   ],
   "source": [
    "twitter.head()"
   ]
  },
  {
   "cell_type": "markdown",
   "metadata": {},
   "source": [
    "Anscheinend enthält unser Datensatz veraltete Tweets, obwohl wir explizit mit aktuellen Textbeiträgen arbeiten wollen. Wir konzentrieren uns also auf das Jahr 2020 und verwerfen ältere Tweets wie folgt:"
   ]
  },
  {
   "cell_type": "code",
   "execution_count": 16,
   "metadata": {},
   "outputs": [],
   "source": [
    "# twitter = twitter.drop(twitter['year'] < 2020)\n",
    "twitter.drop(twitter['year'] < 2020, inplace=True)"
   ]
  },
  {
   "cell_type": "markdown",
   "metadata": {},
   "source": [
    "Das Merkmal _lang_ schauen wir uns als nächstes an. Welche Sprachen sind vertreten?"
   ]
  },
  {
   "cell_type": "code",
   "execution_count": 17,
   "metadata": {},
   "outputs": [
    {
     "data": {
      "text/plain": [
       "array(['de', nan, 'en', 'nl', 'in', 'und', 'fr', 'pt', 'es', 'cy', 'pl',\n",
       "       'tr', 'hu', 'ca', 'fa', 'no', 'fi', 'tl', 'da', 'cs', 'sv', 'it',\n",
       "       'ko', 'ru', 'ja', 'et', 'th', 'ro', 'zh', 'ht', 'hi', 'vi', 'ar',\n",
       "       'lv', 'eu', 'lt', 'is', 'sl', 'ur', 'el', 'iw', 'kn'], dtype=object)"
      ]
     },
     "execution_count": 17,
     "metadata": {},
     "output_type": "execute_result"
    }
   ],
   "source": [
    "twitter['lang'].unique()"
   ]
  },
  {
   "cell_type": "markdown",
   "metadata": {},
   "source": [
    "Anscheinend enthält unser Datensatz verschiedenste Sprachen. Da unser Modell lediglich deutsche Inhalte klassifizieren soll, verwerfen wir nicht-deutsche Inhalte wie folgt:"
   ]
  },
  {
   "cell_type": "code",
   "execution_count": 18,
   "metadata": {},
   "outputs": [],
   "source": [
    "twitter = twitter.loc[twitter['lang'] == 'de']"
   ]
  },
  {
   "cell_type": "markdown",
   "metadata": {},
   "source": [
    "Als nächstes konzentrieren wir uns auf die gewünschten Textbeiträge. Das Merkmal _text_ scheint die jeweiligen Tweets zu enthalten. Wir extrahieren dieses Merkmal vom DataFrame `twitter` in eine DataSeries `tweets`."
   ]
  },
  {
   "cell_type": "code",
   "execution_count": 19,
   "metadata": {},
   "outputs": [
    {
     "data": {
      "text/plain": [
       "2    NaN\n",
       "3    NaN\n",
       "4    NaN\n",
       "5    NaN\n",
       "6    NaN\n",
       "Name: text, dtype: object"
      ]
     },
     "execution_count": 19,
     "metadata": {},
     "output_type": "execute_result"
    }
   ],
   "source": [
    "tweets = twitter['text']\n",
    "del twitter\n",
    "tweets.head()"
   ]
  },
  {
   "cell_type": "markdown",
   "metadata": {},
   "source": [
    "Beim Extrahieren der Tweets werden ausnahmslos alle Beispiele berücksichtigt. Das gilt auch für fehlende Merkmale, die in der Menge an Beispielen untergegangen sind. Sind unsere Daten nun bereit zur Aufbereitung?"
   ]
  },
  {
   "cell_type": "markdown",
   "metadata": {},
   "source": [
    "**Aufgabe: Wie viele Werte fehlen im `tweets` Datensatz?**"
   ]
  },
  {
   "cell_type": "code",
   "execution_count": 20,
   "metadata": {},
   "outputs": [],
   "source": [
    "#hideInput\n",
    "texte_lm.show_task(223)"
   ]
  },
  {
   "cell_type": "code",
   "execution_count": 21,
   "metadata": {},
   "outputs": [
    {
     "data": {
      "text/plain": [
       "142540"
      ]
     },
     "execution_count": 21,
     "metadata": {},
     "output_type": "execute_result"
    }
   ],
   "source": [
    "#solution\n",
    "tweets.isna().sum()"
   ]
  },
  {
   "cell_type": "markdown",
   "metadata": {},
   "source": [
    "Fehlende Werte können von den folgenden Schritten nicht verarbeitet werden, sodass wir sie entfernen müssen."
   ]
  },
  {
   "cell_type": "code",
   "execution_count": 22,
   "metadata": {},
   "outputs": [],
   "source": [
    "# tweets = tweets.dropna()\n",
    "tweets.dropna(inplace=True)"
   ]
  },
  {
   "cell_type": "markdown",
   "metadata": {},
   "source": [
    "Der Übersicht halber fügen wir ein frei erfundenes Beispiel an, um die folgenden Verarbeitungsschritte besser nachvollziehen zu können. Unser ausgedachter Tweet lautet wie folgt:\n",
    "\n",
    "> ⚠️ Dieser Tweet enthält viele unnütze Zeichen 😟 die wir lieber verwerfen. Das wurde uns von @user unter https://example.org verraten #danke"
   ]
  },
  {
   "cell_type": "code",
   "execution_count": 23,
   "metadata": {},
   "outputs": [],
   "source": [
    "example = '⚠️ Dieser Tweet enthält viele unnütze Zeichen 😟 die wir lieber verwerfen. Das wurde uns von @user unter https://example.org verraten #danke'\n",
    "tweets = tweets.append(pd.Series(example), ignore_index=True)"
   ]
  },
  {
   "cell_type": "markdown",
   "metadata": {},
   "source": [
    "Das war's auch schon mit der Erkundung der Daten. Bis jetzt haben wir lediglich einzelne Beispiele verworfen, nicht aber vorhandene Beispiele verändert. Bevor das passiert, behalten wir lieber eine Kopie, auf die wir im späteren Verlauf des Lernmoduls noch zurückgreifen werden."
   ]
  },
  {
   "cell_type": "code",
   "execution_count": 24,
   "metadata": {},
   "outputs": [],
   "source": [
    "tweets_copy = tweets.replace(regex={r'\\n':  ' '})"
   ]
  },
  {
   "cell_type": "markdown",
   "metadata": {},
   "source": [
    "**Aufgabe: Wozu kann eine solche Kopie gut sein?**\n",
    "\n",
    "* A = Falsch\n",
    "* B = Richtig\n",
    "* C = Falsch\n",
    "* D = Richtig"
   ]
  },
  {
   "cell_type": "code",
   "execution_count": 25,
   "metadata": {},
   "outputs": [],
   "source": [
    "#hideInput\n",
    "texte_lm.show_task(224)"
   ]
  },
  {
   "cell_type": "markdown",
   "metadata": {},
   "source": [
    "### 2.3 Textdaten aufbereiten"
   ]
  },
  {
   "cell_type": "markdown",
   "metadata": {},
   "source": [
    "Innerhalb der Datenaufbereitung werden wir jeden Tweet anhand seiner Bestandteile (Zeichen, Wörter, Länge) verarbeiten."
   ]
  },
  {
   "cell_type": "markdown",
   "metadata": {},
   "source": [
    "#### 2.3.1 Zeichen bereinigen"
   ]
  },
  {
   "cell_type": "markdown",
   "metadata": {},
   "source": [
    "Schauen wir uns das erste Beispiel an..."
   ]
  },
  {
   "cell_type": "markdown",
   "metadata": {},
   "source": [
    "**Aufgabe: Mit welchem Befehl kommen wir zum ersten Tweet im `tweets` Datensatz?**"
   ]
  },
  {
   "cell_type": "code",
   "execution_count": 26,
   "metadata": {},
   "outputs": [],
   "source": [
    "#hideInput\n",
    "texte_lm.show_task(231)"
   ]
  },
  {
   "cell_type": "code",
   "execution_count": 27,
   "metadata": {},
   "outputs": [
    {
     "data": {
      "text/plain": [
       "'E tut so gut, dass so viele Menschen gegen den rechten Terror gegen #Rassismus aufstehen und diese Scheiße nicht mehr hinnehmen wollen.\\n#Hanau\\n#NSU\\n#antifascist'"
      ]
     },
     "execution_count": 27,
     "metadata": {},
     "output_type": "execute_result"
    }
   ],
   "source": [
    "#solution\n",
    "tweets.iloc[0]"
   ]
  },
  {
   "cell_type": "markdown",
   "metadata": {},
   "source": [
    "Eigentlich wollen wir aber zum letzten Tweet, den wir am Ende des vorherigen Abschnittes angefügt haben."
   ]
  },
  {
   "cell_type": "code",
   "execution_count": 28,
   "metadata": {},
   "outputs": [
    {
     "data": {
      "text/plain": [
       "'⚠️ Dieser Tweet enthält viele unnütze Zeichen 😟 die wir lieber verwerfen. Das wurde uns von @user unter https://example.org verraten #danke'"
      ]
     },
     "execution_count": 28,
     "metadata": {},
     "output_type": "execute_result"
    }
   ],
   "source": [
    "tweets.iloc[-1]"
   ]
  },
  {
   "cell_type": "markdown",
   "metadata": {},
   "source": [
    "Leider enthalten Tweets allerhand Symbole, die wir gesondert behandeln müssen..."
   ]
  },
  {
   "cell_type": "markdown",
   "metadata": {},
   "source": [
    "**Aufgabe: Welche Symbole befinden sich letzten Tweet, die wir näher betrachten müssen?**"
   ]
  },
  {
   "cell_type": "code",
   "execution_count": 29,
   "metadata": {},
   "outputs": [],
   "source": [
    "#hideInput\n",
    "texte_lm.show_task(232)"
   ]
  },
  {
   "cell_type": "markdown",
   "metadata": {},
   "source": [
    "Fangen wir mit den Emojis an."
   ]
  },
  {
   "cell_type": "code",
   "execution_count": 30,
   "metadata": {},
   "outputs": [],
   "source": [
    "positive_emojis = [r'🙂']\n",
    "for emoji in positive_emojis:\n",
    "    # tweets = tweets.replace(regex={emoji : 'gut'})\n",
    "    tweets.replace(regex={emoji : 'gut'}, inplace=True)"
   ]
  },
  {
   "cell_type": "code",
   "execution_count": 31,
   "metadata": {},
   "outputs": [],
   "source": [
    "negative_emojis = [r'😟']\n",
    "for emoji in negative_emojis:\n",
    "    # tweets = tweets.replace(regex={emoji : 'schlecht'})\n",
    "    tweets.replace(regex={emoji : 'schlecht'}, inplace=True)"
   ]
  },
  {
   "cell_type": "code",
   "execution_count": 32,
   "metadata": {},
   "outputs": [
    {
     "data": {
      "text/plain": [
       "'⚠️ Dieser Tweet enthält viele unnütze Zeichen schlecht die wir lieber verwerfen. Das wurde uns von @user unter https://example.org verraten #danke'"
      ]
     },
     "execution_count": 32,
     "metadata": {},
     "output_type": "execute_result"
    }
   ],
   "source": [
    "tweets.iloc[-1]"
   ]
  },
  {
   "cell_type": "markdown",
   "metadata": {},
   "source": [
    "Nun können wir spezielle Zeichenketten, wie die Nutzer-Erwähnung (@) und die URL (https) identifizieren und über die folgenden regulären Ausdrücke entfernen."
   ]
  },
  {
   "cell_type": "code",
   "execution_count": 33,
   "metadata": {},
   "outputs": [
    {
     "data": {
      "text/plain": [
       "'⚠️ Dieser Tweet enthält viele unnütze Zeichen schlecht die wir lieber verwerfen. Das wurde uns von  unter  verraten #danke'"
      ]
     },
     "execution_count": 33,
     "metadata": {},
     "output_type": "execute_result"
    }
   ],
   "source": [
    "expressions = [r'@\\S+', # Find username\n",
    "               r'http\\S+', # Find URL\n",
    "               r'\\n'] # Find new line\n",
    "\n",
    "for expression in expressions:\n",
    "    # tweets = tweets.replace(regex={expression : ''})\n",
    "    tweets.replace(regex={expression : ''}, inplace=True)\n",
    "    \n",
    "tweets.iloc[-1]"
   ]
  },
  {
   "cell_type": "markdown",
   "metadata": {},
   "source": [
    "Als letztes entfernen wir alles, was nicht dem Alphabet angehört."
   ]
  },
  {
   "cell_type": "code",
   "execution_count": 34,
   "metadata": {},
   "outputs": [
    {
     "data": {
      "text/plain": [
       "' Dieser Tweet enthält viele unnütze Zeichen schlecht die wir lieber verwerfen Das wurde uns von  unter  verraten danke'"
      ]
     },
     "execution_count": 34,
     "metadata": {},
     "output_type": "execute_result"
    }
   ],
   "source": [
    "expression = '[^a-zA-ZäöüßÄÖÜ\\s]'\n",
    "# tweets = tweets.replace(regex={expression : ''})\n",
    "tweets.replace(regex={expression : ''}, inplace=True)\n",
    "tweets.iloc[-1]"
   ]
  },
  {
   "cell_type": "markdown",
   "metadata": {},
   "source": [
    "#### 2.3.2 Wörter bereinigen"
   ]
  },
  {
   "cell_type": "markdown",
   "metadata": {},
   "source": [
    "Da unsere Bereinigung im vorherigen Abschnitt nur noch einzelne Wörter und keine Symbole mehr übrig gelassen hat, können wir nun jeden Tweet in seine Bestandteile zerlegen. Dafür zerteilen wir die Zeichenkette anhand des Leerzeichens und erhalten eine Liste von Wörtern in einem Tweet. Dieser Schritt geht mit der Funktionsweise eines [Tokenizer](https://de.wikipedia.org/wiki/Tokenizer) einher, welcher lediglich den kompletten Tweet in einzelne Token, also Wörter, zerteilt."
   ]
  },
  {
   "cell_type": "code",
   "execution_count": 35,
   "metadata": {},
   "outputs": [
    {
     "data": {
      "text/plain": [
       "['Dieser',\n",
       " 'Tweet',\n",
       " 'enthält',\n",
       " 'viele',\n",
       " 'unnütze',\n",
       " 'Zeichen',\n",
       " 'schlecht',\n",
       " 'die',\n",
       " 'wir',\n",
       " 'lieber',\n",
       " 'verwerfen',\n",
       " 'Das',\n",
       " 'wurde',\n",
       " 'uns',\n",
       " 'von',\n",
       " 'unter',\n",
       " 'verraten',\n",
       " 'danke']"
      ]
     },
     "execution_count": 35,
     "metadata": {},
     "output_type": "execute_result"
    }
   ],
   "source": [
    "tweets = tweets.str.split()\n",
    "tweets.iloc[-1]"
   ]
  },
  {
   "cell_type": "markdown",
   "metadata": {},
   "source": [
    "Aus Analysegründen fassen wir alle Wörter zu einer großen Sammlung zusammen, was die `aggregate_words()` Funktion wie folgt umsetzt:"
   ]
  },
  {
   "cell_type": "code",
   "execution_count": 36,
   "metadata": {},
   "outputs": [],
   "source": [
    "def aggregate_words(tweets):\n",
    "    \"\"\"Aggregate words from tweets\"\"\"\n",
    "    \n",
    "    all_words = []\n",
    "    for sentence in tweets:\n",
    "        for word in sentence:\n",
    "            all_words.append(word.lower())\n",
    "    return all_words"
   ]
  },
  {
   "cell_type": "code",
   "execution_count": 37,
   "metadata": {},
   "outputs": [],
   "source": [
    "all_words = aggregate_words(tweets)"
   ]
  },
  {
   "cell_type": "markdown",
   "metadata": {},
   "source": [
    "**Aufgabe: Eine Sammlung aller Wörter findet sich in der `all_words` Liste. Wie viele verschiedene Wörter sind getweetet worden?**"
   ]
  },
  {
   "cell_type": "code",
   "execution_count": 38,
   "metadata": {},
   "outputs": [],
   "source": [
    "#hideInput\n",
    "texte_lm.show_task(233)"
   ]
  },
  {
   "cell_type": "code",
   "execution_count": 39,
   "metadata": {},
   "outputs": [
    {
     "data": {
      "text/plain": [
       "296847"
      ]
     },
     "execution_count": 39,
     "metadata": {},
     "output_type": "execute_result"
    }
   ],
   "source": [
    "#solution\n",
    "len(pd.Series(all_words).unique())"
   ]
  },
  {
   "cell_type": "markdown",
   "metadata": {},
   "source": [
    "Nachdem wir alle Wörter gesammelt haben, interessieren uns die beliebtesten Wörter aus den Tweets. An dieser Stelle greifen wir auf das Natural Language Toolkit ([NLTK](https://www.nltk.org/)) zurück, welches eine Häufigkeitsverteilung über die `FreqDist()` Funktion wie folgt implementiert."
   ]
  },
  {
   "cell_type": "code",
   "execution_count": 40,
   "metadata": {},
   "outputs": [],
   "source": [
    "from nltk.probability import FreqDist\n",
    "fd = FreqDist(all_words)"
   ]
  },
  {
   "cell_type": "markdown",
   "metadata": {},
   "source": [
    "**Aufgabe: Wie lauten nach der `fd` Verteilung die drei häufigsten Wörter?**"
   ]
  },
  {
   "cell_type": "code",
   "execution_count": 41,
   "metadata": {},
   "outputs": [],
   "source": [
    "#hideInput\n",
    "texte_lm.show_task(234)"
   ]
  },
  {
   "cell_type": "code",
   "execution_count": 42,
   "metadata": {},
   "outputs": [
    {
     "data": {
      "text/plain": [
       "[('die', 85586), ('und', 74406), ('der', 64460)]"
      ]
     },
     "execution_count": 42,
     "metadata": {},
     "output_type": "execute_result"
    }
   ],
   "source": [
    "#solution\n",
    "fd.most_common(3)"
   ]
  },
  {
   "cell_type": "markdown",
   "metadata": {},
   "source": [
    "Es ist nicht überraschend, dass sich Artikel, Pronomen oder Konjunktionen als die am häufigsten verwendeten Wörter entpuppen. Schauen wir uns die Häufigkeitsverteilung der 20 beliebtesten Wörter an."
   ]
  },
  {
   "cell_type": "code",
   "execution_count": 43,
   "metadata": {},
   "outputs": [
    {
     "data": {
      "image/png": "[encoded data removed]",
      "text/plain": [
       "<Figure size 432x288 with 1 Axes>"
      ]
     },
     "metadata": {
      "needs_background": "light"
     },
     "output_type": "display_data"
    },
    {
     "data": {
      "text/plain": [
       "<matplotlib.axes._subplots.AxesSubplot at 0x1ad91617dd8>"
      ]
     },
     "execution_count": 43,
     "metadata": {},
     "output_type": "execute_result"
    }
   ],
   "source": [
    "fd.plot(20)"
   ]
  },
  {
   "cell_type": "markdown",
   "metadata": {},
   "source": [
    "Auch hier scheinen Artikel, Pronomen und Konjunktionen stark vertreten zu sein. Das bringt uns zu der Frage, welche Stimmung diese Wörter eigentlich implizieren?\n",
    "\n",
    "Solche Wörter, werden im Kontext des NLP als Stoppwörter bezeichnet, da sie zu einer Aussage keinen Inhalt beisteuern, wie es bspw. ein wertendes Adjektiv, wie _gut_ oder _schlecht_ tun würde. Stoppwörter lassen sich daher ähnlich wie das Rauschen aus einer Nachricht (hier: Tweet) entfernen, ohne dass der Inhalt (hier: Stimmung) dieser Nachricht verloren geht.\n",
    "\n",
    "Wir werden also im folgenden Schritt alle Stoppwörter entfernen. Um sie zu identifizieren, benutzen wir die vorgegebene Textdatei `stop_words.txt` und importieren sie in eine Liste `stop_words`. Hätte man lediglich die meist genutzten Wörter aus der Häufigkeitsverteilung oben genommen, wäre man Gefahr gelaufen, relevante Wörter, wie _schön_, ebenfalls zu entfernen."
   ]
  },
  {
   "cell_type": "code",
   "execution_count": 44,
   "metadata": {},
   "outputs": [
    {
     "data": {
      "text/plain": [
       "array(['der', 'die', 'das', 'ein', 'eine', 'einer', 'einen', 'ich', 'du',\n",
       "       'er', 'sie', 'es', 'wir', 'ihr', 'sie', 'bin', 'bist', 'ist',\n",
       "       'sind', 'seid', 'und', 'oder', 'doch', 'aber', 'an', 'am', 'in',\n",
       "       'von', 'vor'], dtype=object)"
      ]
     },
     "execution_count": 44,
     "metadata": {},
     "output_type": "execute_result"
    }
   ],
   "source": [
    "stop_words = lf.load_stop_words()\n",
    "stop_words.Wort.values"
   ]
  },
  {
   "cell_type": "markdown",
   "metadata": {},
   "source": [
    "Bevor wir alle Stoppwörter unwiederruflich entfernen, fragen wir uns erst einmal, wie viel Prozent unseres Datensatzes wir dadurch verlieren würden? Dies lässt sich über die `content_loss()` Funktion wie folgt berechnen."
   ]
  },
  {
   "cell_type": "code",
   "execution_count": 45,
   "metadata": {},
   "outputs": [],
   "source": [
    "def content_loss(text): # Execution time too long\n",
    "    content = [word for word in text if word not in stop_words['Wort'].values.tolist()]\n",
    "    return 1.0 - len(content) / len(text)"
   ]
  },
  {
   "cell_type": "code",
   "execution_count": 46,
   "metadata": {},
   "outputs": [
    {
     "data": {
      "text/plain": [
       "0.18246325487222737"
      ]
     },
     "execution_count": 46,
     "metadata": {},
     "output_type": "execute_result"
    }
   ],
   "source": [
    "content_loss(all_words)"
   ]
  },
  {
   "cell_type": "markdown",
   "metadata": {},
   "source": [
    "Um die Stoppwörter endgültig aus unseren Tweets zu entfernen, werfen wir die `filter_tokens()` Funktion wie folgt an."
   ]
  },
  {
   "cell_type": "code",
   "execution_count": 47,
   "metadata": {},
   "outputs": [],
   "source": [
    "def filter_tokens(tweets):\n",
    "    \"\"\"Filter tokens in tweets\"\"\"\n",
    "    \n",
    "    row_list = []\n",
    "    for row in tweets:\n",
    "        token_list = []\n",
    "        for token in row:\n",
    "            if token.lower() not in stop_words['Wort'].values.tolist():\n",
    "                token_list.append(token.lower())\n",
    "        row_list.append(token_list)\n",
    "    \n",
    "    return pd.Series(row_list)"
   ]
  },
  {
   "cell_type": "code",
   "execution_count": 48,
   "metadata": {},
   "outputs": [
    {
     "data": {
      "text/plain": [
       "0    [e, tut, so, gut, dass, so, viele, menschen, g...\n",
       "1               [protect, ur, hearts, keizha, tubilla]\n",
       "2    [artikel, konvention, menschenrechte, abs, jed...\n",
       "3    [sprecher, usgeführten, operation, inherent, r...\n",
       "4                                     [samsung, model]\n",
       "dtype: object"
      ]
     },
     "execution_count": 48,
     "metadata": {},
     "output_type": "execute_result"
    }
   ],
   "source": [
    "tweets = filter_tokens(tweets) # Python list\n",
    "tweets.head()"
   ]
  },
  {
   "cell_type": "markdown",
   "metadata": {},
   "source": [
    "Damit ist unsere Sammlung von Wörter nicht mehr aktuell. Der Einfachheit halber sammeln wir sie erneut über die `aggregate_words()` Funktion."
   ]
  },
  {
   "cell_type": "code",
   "execution_count": 49,
   "metadata": {},
   "outputs": [],
   "source": [
    "all_words = aggregate_words(tweets)"
   ]
  },
  {
   "cell_type": "markdown",
   "metadata": {},
   "source": [
    "**Aufgabe: Welche Ausgabe erwartest du bei erneutem Aufruf der `content_loss()` Funktion auf Basis der aktualisierten `all_words` Liste?**"
   ]
  },
  {
   "cell_type": "code",
   "execution_count": 50,
   "metadata": {},
   "outputs": [],
   "source": [
    "#hideInput\n",
    "texte_lm.show_task(235)"
   ]
  },
  {
   "cell_type": "code",
   "execution_count": 51,
   "metadata": {},
   "outputs": [
    {
     "data": {
      "text/plain": [
       "0.0"
      ]
     },
     "execution_count": 51,
     "metadata": {},
     "output_type": "execute_result"
    }
   ],
   "source": [
    "content_loss(all_words)"
   ]
  },
  {
   "cell_type": "markdown",
   "metadata": {},
   "source": [
    "Welche Wörter werden wohl mit Ausnahme der Stoppwörter am häufigsten benutzt? Alternativ zur bereits bekannten Häufigkeitsverteilung lassen sich im Kontext des NLP sog. Schlagwortwolken erstellen. Dazu nutzen wir die `WordCloud()` Funktion wie folgt."
   ]
  },
  {
   "cell_type": "code",
   "execution_count": 52,
   "metadata": {},
   "outputs": [],
   "source": [
    "from wordcloud import WordCloud\n",
    "wc = WordCloud()"
   ]
  },
  {
   "cell_type": "code",
   "execution_count": 53,
   "metadata": {},
   "outputs": [
    {
     "data": {
      "image/png": "[encoded data removed]",
      "text/plain": [
       "<Figure size 432x288 with 1 Axes>"
      ]
     },
     "metadata": {
      "needs_background": "light"
     },
     "output_type": "display_data"
    }
   ],
   "source": [
    "most_common_words = wc.generate_from_frequencies(FreqDist(all_words))\n",
    "del all_words\n",
    "vf.plot_image(most_common_words, 'Die häufigsten Wörter')"
   ]
  },
  {
   "cell_type": "markdown",
   "metadata": {},
   "source": [
    "#### 2.3.3 Tweets bereinigen"
   ]
  },
  {
   "cell_type": "markdown",
   "metadata": {},
   "source": [
    "Da uns der vergangene Abschnitt einige Wörter gekostet hat, wollen wir nun die Tweets identifizieren, die zu wenig oder vielleicht sogar zu viele Wörter enthalten. Beide Extrema sind für die weiterführende Analyse nicht zu gebrauchen. Daher berechnen wir im folgenden die Länge eines Tweets."
   ]
  },
  {
   "cell_type": "code",
   "execution_count": 54,
   "metadata": {},
   "outputs": [],
   "source": [
    "tweets_length = [len(tweet) for tweet in tweets]"
   ]
  },
  {
   "cell_type": "markdown",
   "metadata": {},
   "source": [
    "**Aufgabe: Wie viele Wörter besitzt der kürzeste Tweet im `tweets` Datensatz?**"
   ]
  },
  {
   "cell_type": "code",
   "execution_count": 55,
   "metadata": {},
   "outputs": [],
   "source": [
    "#hideInput\n",
    "texte_lm.show_task(236)"
   ]
  },
  {
   "cell_type": "code",
   "execution_count": 56,
   "metadata": {},
   "outputs": [
    {
     "data": {
      "text/plain": [
       "0"
      ]
     },
     "execution_count": 56,
     "metadata": {},
     "output_type": "execute_result"
    }
   ],
   "source": [
    "#solution\n",
    "np.min(tweets_length)"
   ]
  },
  {
   "cell_type": "markdown",
   "metadata": {},
   "source": [
    "Hoffentlich handelt es sich um einen Ausreißer. Das verifizieren wir wiederum mit einer Häufigkeitsverteilung. Dieses Mal aber als einfaches Histogramm über die `plot_tweet_length_distribution()` Funktion wie folgt."
   ]
  },
  {
   "cell_type": "code",
   "execution_count": 57,
   "metadata": {},
   "outputs": [
    {
     "data": {
      "image/png": "[encoded data removed]",
      "text/plain": [
       "<Figure size 432x288 with 1 Axes>"
      ]
     },
     "metadata": {
      "needs_background": "light"
     },
     "output_type": "display_data"
    }
   ],
   "source": [
    "vf.plot_tweet_length_distribution(tweets_length)"
   ]
  },
  {
   "cell_type": "markdown",
   "metadata": {},
   "source": [
    "Die meisten Tweets scheinen nach Entfernen der Stoppwörter nur noch wenige Wörter lang zu sein. Wir verwerfen alle Tweets, die unterhalb des Maxima aus dem vorherigen Diagramm liegen wie folgt:"
   ]
  },
  {
   "cell_type": "code",
   "execution_count": 58,
   "metadata": {},
   "outputs": [],
   "source": [
    "min_words_per_tweet = 3\n",
    "tweets = tweets[tweets.map(len) > min_words_per_tweet]"
   ]
  },
  {
   "cell_type": "markdown",
   "metadata": {},
   "source": [
    "Das war's auch schon mit der Datenaufbereitung..."
   ]
  },
  {
   "cell_type": "markdown",
   "metadata": {},
   "source": [
    "**Aufgabe: Wie viel Prozent bleiben nach Bereinigung von Zeichen, Wörtern und zu kurz geratenen Tweets im Vergleich zum ursprünglichen `tweets` Datensatz übrig?**"
   ]
  },
  {
   "cell_type": "code",
   "execution_count": 59,
   "metadata": {},
   "outputs": [],
   "source": [
    "#hideInput\n",
    "texte_lm.show_task(237)"
   ]
  },
  {
   "cell_type": "code",
   "execution_count": 60,
   "metadata": {},
   "outputs": [
    {
     "data": {
      "text/plain": [
       "0.8580593119810201"
      ]
     },
     "execution_count": 60,
     "metadata": {},
     "output_type": "execute_result"
    }
   ],
   "source": [
    "#solution\n",
    "tweets.size / tweets_copy.size"
   ]
  },
  {
   "cell_type": "markdown",
   "metadata": {},
   "source": [
    "Mit dem bereinigten Datensatz geht es nun weiter in die Modelldomäne, in der wir uns erstmal um die Überführung der Daten in das Modell kümmern."
   ]
  },
  {
   "cell_type": "markdown",
   "metadata": {},
   "source": [
    "## 3. Modell"
   ]
  },
  {
   "cell_type": "markdown",
   "metadata": {},
   "source": [
    "[Zurück zur Übersicht](#Lernmodul-zur-Verarbeitung-und-Analyse-von-Textdaten)"
   ]
  },
  {
   "cell_type": "markdown",
   "metadata": {},
   "source": [
    "In der Modelldomäne betten wir die bereinigten Daten zunächst auf Basis eines Vokabulars in ein Modell ein. Das Vokabular dient dabei als Look-up (LUT) für einen Tweet. Welche weiteren Schritte ein Tweet in der Modelldomäne durchläuft, bevor er die letztendlich klassifiziert wird, verrät die folgende Abbildung:\n",
    "\n",
    "![Model](./img/model_flow.png)"
   ]
  },
  {
   "cell_type": "markdown",
   "metadata": {},
   "source": [
    "### 3.1 Textdaten einbetten"
   ]
  },
  {
   "cell_type": "markdown",
   "metadata": {},
   "source": [
    "Da unsere bereinigten Daten weiterhin in symbolischer Form vorliegen, benötigen wir als nächchstes eine Überführung der Daten in eine Form, die von unserem finalen Modell (hier: Klassifikator) verstanden wird. Man spricht in diesem Zusammenhang vom [Embedding](https://en.wikipedia.org/wiki/Word_embedding) der Wörter.\n",
    "\n",
    "Es gibt viele komplizierte Verfahren, um das symbolische Wort auf einen numerischen Wert abzubilden, welche in diesem Lernmodul nicht näher betrachtet werden sollen. In diesem Fall schlagen wir die Wörter einfach in einer Art Vokabular nach, das für jedes Wort einen eigenen Wert besitzt. Wie sieht unser Vokabular nun aus?"
   ]
  },
  {
   "cell_type": "markdown",
   "metadata": {},
   "source": [
    "#### 3.1.1 Vokabular"
   ]
  },
  {
   "cell_type": "markdown",
   "metadata": {},
   "source": [
    "Unser Vokabular wurde über die Universität Leipzig unter der [CC BY-NC-SA 3.0 DE](https://creativecommons.org/licenses/by-nc-sa/3.0/de/) Lizenz veröffentlicht [[2]](#2).\n",
    "\n",
    "Das Vokabular besteht aus negativ bzw. positiv annotierten Wörtern der deutschen Sprache. Die Stimmungslage ist im Intervall von `[-1, 1]` bzw. `['negativ', 'positiv']` begrenzt. Schlagen wir neutrale Wörter, wie _und_ bzw. _oder_ im Vokabular nach, bekommen wir einen Stimmungswert von _0_, also neutral, zurückgegeben. Unser Modell interessiert sich aber lediglich für die zwei Extrema und soll als binärer Klassifikator zwischen negativen und posiven Tweets differenzieren. \n",
    "\n",
    "Wir vergeben die Labels wie folgt:"
   ]
  },
  {
   "cell_type": "code",
   "execution_count": 61,
   "metadata": {},
   "outputs": [],
   "source": [
    "labels = ['negativ', 'positiv']"
   ]
  },
  {
   "cell_type": "markdown",
   "metadata": {},
   "source": [
    "Zunächst holen wir uns die negativen Wörter für das Vokabular wie folgt:"
   ]
  },
  {
   "cell_type": "code",
   "execution_count": 62,
   "metadata": {},
   "outputs": [
    {
     "data": {
      "text/html": [
       "<div>\n",
       "<style scoped>\n",
       "    .dataframe tbody tr th:only-of-type {\n",
       "        vertical-align: middle;\n",
       "    }\n",
       "\n",
       "    .dataframe tbody tr th {\n",
       "        vertical-align: top;\n",
       "    }\n",
       "\n",
       "    .dataframe thead th {\n",
       "        text-align: right;\n",
       "    }\n",
       "</style>\n",
       "<table border=\"1\" class=\"dataframe\">\n",
       "  <thead>\n",
       "    <tr style=\"text-align: right;\">\n",
       "      <th></th>\n",
       "      <th>Wort</th>\n",
       "      <th>Wert</th>\n",
       "      <th>Deklination</th>\n",
       "      <th>Stimmung</th>\n",
       "    </tr>\n",
       "  </thead>\n",
       "  <tbody>\n",
       "    <tr>\n",
       "      <th>0</th>\n",
       "      <td>Abbruch|NN</td>\n",
       "      <td>-0.0048</td>\n",
       "      <td>Abbruches,Abbrüche,Abbruchs,Abbrüchen\\r</td>\n",
       "      <td>negativ</td>\n",
       "    </tr>\n",
       "    <tr>\n",
       "      <th>1</th>\n",
       "      <td>Abdankung|NN</td>\n",
       "      <td>-0.0048</td>\n",
       "      <td>Abdankungen\\r</td>\n",
       "      <td>negativ</td>\n",
       "    </tr>\n",
       "    <tr>\n",
       "      <th>2</th>\n",
       "      <td>Abdämpfung|NN</td>\n",
       "      <td>-0.0048</td>\n",
       "      <td>Abdämpfungen\\r</td>\n",
       "      <td>negativ</td>\n",
       "    </tr>\n",
       "    <tr>\n",
       "      <th>3</th>\n",
       "      <td>Abfall|NN</td>\n",
       "      <td>-0.0048</td>\n",
       "      <td>Abfalles,Abfälle,Abfalls,Abfällen\\r</td>\n",
       "      <td>negativ</td>\n",
       "    </tr>\n",
       "    <tr>\n",
       "      <th>4</th>\n",
       "      <td>Abfuhr|NN</td>\n",
       "      <td>-0.3367</td>\n",
       "      <td>Abfuhren\\r</td>\n",
       "      <td>negativ</td>\n",
       "    </tr>\n",
       "  </tbody>\n",
       "</table>\n",
       "</div>"
      ],
      "text/plain": [
       "            Wort    Wert                              Deklination Stimmung\n",
       "0     Abbruch|NN -0.0048  Abbruches,Abbrüche,Abbruchs,Abbrüchen\\r  negativ\n",
       "1   Abdankung|NN -0.0048                            Abdankungen\\r  negativ\n",
       "2  Abdämpfung|NN -0.0048                           Abdämpfungen\\r  negativ\n",
       "3      Abfall|NN -0.0048      Abfalles,Abfälle,Abfalls,Abfällen\\r  negativ\n",
       "4      Abfuhr|NN -0.3367                               Abfuhren\\r  negativ"
      ]
     },
     "execution_count": 62,
     "metadata": {},
     "output_type": "execute_result"
    }
   ],
   "source": [
    "negative = lf.load_vocabulary(labels[0]) # Negative\n",
    "negative.head()"
   ]
  },
  {
   "cell_type": "markdown",
   "metadata": {},
   "source": [
    "Es folgen die positiven Wörter des Vokabulars."
   ]
  },
  {
   "cell_type": "code",
   "execution_count": 63,
   "metadata": {},
   "outputs": [
    {
     "data": {
      "text/html": [
       "<div>\n",
       "<style scoped>\n",
       "    .dataframe tbody tr th:only-of-type {\n",
       "        vertical-align: middle;\n",
       "    }\n",
       "\n",
       "    .dataframe tbody tr th {\n",
       "        vertical-align: top;\n",
       "    }\n",
       "\n",
       "    .dataframe thead th {\n",
       "        text-align: right;\n",
       "    }\n",
       "</style>\n",
       "<table border=\"1\" class=\"dataframe\">\n",
       "  <thead>\n",
       "    <tr style=\"text-align: right;\">\n",
       "      <th></th>\n",
       "      <th>Wort</th>\n",
       "      <th>Wert</th>\n",
       "      <th>Deklination</th>\n",
       "      <th>Stimmung</th>\n",
       "    </tr>\n",
       "  </thead>\n",
       "  <tbody>\n",
       "    <tr>\n",
       "      <th>0</th>\n",
       "      <td>Abschluß|NN</td>\n",
       "      <td>0.004</td>\n",
       "      <td>Abschlüße,Abschlußs,Abschlußes,Abschlüßen\\r</td>\n",
       "      <td>positiv</td>\n",
       "    </tr>\n",
       "    <tr>\n",
       "      <th>1</th>\n",
       "      <td>Abstimmung|NN</td>\n",
       "      <td>0.004</td>\n",
       "      <td>Abstimmungen\\r</td>\n",
       "      <td>positiv</td>\n",
       "    </tr>\n",
       "    <tr>\n",
       "      <th>2</th>\n",
       "      <td>Agilität|NN</td>\n",
       "      <td>0.004</td>\n",
       "      <td>NaN</td>\n",
       "      <td>positiv</td>\n",
       "    </tr>\n",
       "    <tr>\n",
       "      <th>3</th>\n",
       "      <td>Aktivität|NN</td>\n",
       "      <td>0.004</td>\n",
       "      <td>Aktivitäten\\r</td>\n",
       "      <td>positiv</td>\n",
       "    </tr>\n",
       "    <tr>\n",
       "      <th>4</th>\n",
       "      <td>Aktualisierung|NN</td>\n",
       "      <td>0.004</td>\n",
       "      <td>Aktualisierungen\\r</td>\n",
       "      <td>positiv</td>\n",
       "    </tr>\n",
       "  </tbody>\n",
       "</table>\n",
       "</div>"
      ],
      "text/plain": [
       "                Wort   Wert                                  Deklination  \\\n",
       "0        Abschluß|NN  0.004  Abschlüße,Abschlußs,Abschlußes,Abschlüßen\\r   \n",
       "1      Abstimmung|NN  0.004                               Abstimmungen\\r   \n",
       "2        Agilität|NN  0.004                                          NaN   \n",
       "3       Aktivität|NN  0.004                                Aktivitäten\\r   \n",
       "4  Aktualisierung|NN  0.004                           Aktualisierungen\\r   \n",
       "\n",
       "  Stimmung  \n",
       "0  positiv  \n",
       "1  positiv  \n",
       "2  positiv  \n",
       "3  positiv  \n",
       "4  positiv  "
      ]
     },
     "execution_count": 63,
     "metadata": {},
     "output_type": "execute_result"
    }
   ],
   "source": [
    "positive = lf.load_vocabulary(labels[1]) # Positive\n",
    "positive.head()"
   ]
  },
  {
   "cell_type": "markdown",
   "metadata": {},
   "source": [
    "Der Spalte _Wort_ scheint der Typ des Wortes angehängt zu sein. Wir führen das negative und das positive Vokabular im DataFrame `vocab` zusammen..."
   ]
  },
  {
   "cell_type": "code",
   "execution_count": 64,
   "metadata": {},
   "outputs": [],
   "source": [
    "vocab = pd.concat([negative, positive])\n",
    "assert positive.size + negative.size == vocab.size"
   ]
  },
  {
   "cell_type": "markdown",
   "metadata": {},
   "source": [
    "...trennen das Wort von seinem Typ..."
   ]
  },
  {
   "cell_type": "code",
   "execution_count": 65,
   "metadata": {},
   "outputs": [],
   "source": [
    "vocab[['Wort', 'Typ']] = vocab['Wort'].str.split('|', 1, expand=True)"
   ]
  },
  {
   "cell_type": "markdown",
   "metadata": {},
   "source": [
    "...und kümmern uns um das angehängte _/r_ in der Spalte mit Deklinationen."
   ]
  },
  {
   "cell_type": "code",
   "execution_count": 66,
   "metadata": {},
   "outputs": [
    {
     "data": {
      "text/html": [
       "<div>\n",
       "<style scoped>\n",
       "    .dataframe tbody tr th:only-of-type {\n",
       "        vertical-align: middle;\n",
       "    }\n",
       "\n",
       "    .dataframe tbody tr th {\n",
       "        vertical-align: top;\n",
       "    }\n",
       "\n",
       "    .dataframe thead th {\n",
       "        text-align: right;\n",
       "    }\n",
       "</style>\n",
       "<table border=\"1\" class=\"dataframe\">\n",
       "  <thead>\n",
       "    <tr style=\"text-align: right;\">\n",
       "      <th></th>\n",
       "      <th>Wort</th>\n",
       "      <th>Wert</th>\n",
       "      <th>Deklination</th>\n",
       "      <th>Stimmung</th>\n",
       "      <th>Typ</th>\n",
       "    </tr>\n",
       "  </thead>\n",
       "  <tbody>\n",
       "    <tr>\n",
       "      <th>0</th>\n",
       "      <td>Abbruch</td>\n",
       "      <td>-0.0048</td>\n",
       "      <td>Abbruches,Abbrüche,Abbruchs,Abbrüchen</td>\n",
       "      <td>negativ</td>\n",
       "      <td>NN</td>\n",
       "    </tr>\n",
       "    <tr>\n",
       "      <th>1</th>\n",
       "      <td>Abdankung</td>\n",
       "      <td>-0.0048</td>\n",
       "      <td>Abdankungen</td>\n",
       "      <td>negativ</td>\n",
       "      <td>NN</td>\n",
       "    </tr>\n",
       "    <tr>\n",
       "      <th>2</th>\n",
       "      <td>Abdämpfung</td>\n",
       "      <td>-0.0048</td>\n",
       "      <td>Abdämpfungen</td>\n",
       "      <td>negativ</td>\n",
       "      <td>NN</td>\n",
       "    </tr>\n",
       "    <tr>\n",
       "      <th>3</th>\n",
       "      <td>Abfall</td>\n",
       "      <td>-0.0048</td>\n",
       "      <td>Abfalles,Abfälle,Abfalls,Abfällen</td>\n",
       "      <td>negativ</td>\n",
       "      <td>NN</td>\n",
       "    </tr>\n",
       "    <tr>\n",
       "      <th>4</th>\n",
       "      <td>Abfuhr</td>\n",
       "      <td>-0.3367</td>\n",
       "      <td>Abfuhren</td>\n",
       "      <td>negativ</td>\n",
       "      <td>NN</td>\n",
       "    </tr>\n",
       "  </tbody>\n",
       "</table>\n",
       "</div>"
      ],
      "text/plain": [
       "         Wort    Wert                            Deklination Stimmung Typ\n",
       "0     Abbruch -0.0048  Abbruches,Abbrüche,Abbruchs,Abbrüchen  negativ  NN\n",
       "1   Abdankung -0.0048                            Abdankungen  negativ  NN\n",
       "2  Abdämpfung -0.0048                           Abdämpfungen  negativ  NN\n",
       "3      Abfall -0.0048      Abfalles,Abfälle,Abfalls,Abfällen  negativ  NN\n",
       "4      Abfuhr -0.3367                               Abfuhren  negativ  NN"
      ]
     },
     "execution_count": 66,
     "metadata": {},
     "output_type": "execute_result"
    }
   ],
   "source": [
    "vocab['Deklination'] = vocab['Deklination'].replace(regex={r'\\r' : ''})\n",
    "vocab.head()"
   ]
  },
  {
   "cell_type": "markdown",
   "metadata": {},
   "source": [
    "Nun haben wir ein vollständig bereinigtes Vokabular..."
   ]
  },
  {
   "cell_type": "markdown",
   "metadata": {},
   "source": [
    "**Aufgabe: Welche Wort-Typen sind im `vocab` Vokabular vorhanden?**"
   ]
  },
  {
   "cell_type": "code",
   "execution_count": 67,
   "metadata": {},
   "outputs": [],
   "source": [
    "#hideInput\n",
    "texte_lm.show_task(311)"
   ]
  },
  {
   "cell_type": "code",
   "execution_count": 68,
   "metadata": {},
   "outputs": [
    {
     "data": {
      "text/plain": [
       "array(['NN', 'VVINF', 'ADJX', 'ADV'], dtype=object)"
      ]
     },
     "execution_count": 68,
     "metadata": {},
     "output_type": "execute_result"
    }
   ],
   "source": [
    "#solution\n",
    "vocab['Typ'].unique()"
   ]
  },
  {
   "cell_type": "markdown",
   "metadata": {},
   "source": [
    "Wir visualisieren alle negativen Nomen mithilfe der bereits bekannten Schlagwortwolke:"
   ]
  },
  {
   "cell_type": "code",
   "execution_count": 69,
   "metadata": {},
   "outputs": [
    {
     "data": {
      "image/png": "[encoded data removed]",
      "text/plain": [
       "<Figure size 432x288 with 1 Axes>"
      ]
     },
     "metadata": {
      "needs_background": "light"
     },
     "output_type": "display_data"
    }
   ],
   "source": [
    "neg_nouns = vocab[(vocab['Stimmung'] == 'negativ') & (vocab['Typ'] == 'NN')] # Only negative vocabulary\n",
    "most_neg_nouns = wc.generate_from_frequencies(pd.Series(neg_nouns.Wert.values * (-100), index=neg_nouns.Wort).to_dict())\n",
    "vf.plot_image(most_neg_nouns, 'Die negativsten Nomen')"
   ]
  },
  {
   "cell_type": "markdown",
   "metadata": {},
   "source": [
    "Analog visualisieren wir alle positiven Adjektive in unserem Vokabular."
   ]
  },
  {
   "cell_type": "code",
   "execution_count": 70,
   "metadata": {},
   "outputs": [
    {
     "data": {
      "image/png": "[encoded data removed]",
      "text/plain": [
       "<Figure size 432x288 with 1 Axes>"
      ]
     },
     "metadata": {
      "needs_background": "light"
     },
     "output_type": "display_data"
    }
   ],
   "source": [
    "pos_adj = vocab[(vocab['Stimmung'] == 'positiv') & (vocab['Typ'] == 'ADJX')] # Only positive vocabulary\n",
    "most_pos_adj = wc.generate_from_frequencies(pd.Series(pos_adj.Wert.values * (100), index=pos_adj.Wort).to_dict())\n",
    "vf.plot_image(most_pos_adj, 'Die positivsten Adjektive')"
   ]
  },
  {
   "cell_type": "markdown",
   "metadata": {},
   "source": [
    "**Aufgabe: Fällt das `vocab` Vokabular eher negativ oder eher positiv aus?**"
   ]
  },
  {
   "cell_type": "code",
   "execution_count": 71,
   "metadata": {},
   "outputs": [],
   "source": [
    "#hideInput\n",
    "texte_lm.show_task(312)"
   ]
  },
  {
   "cell_type": "code",
   "execution_count": 72,
   "metadata": {},
   "outputs": [
    {
     "data": {
      "text/plain": [
       "Wert   -0.053921\n",
       "dtype: float64"
      ]
     },
     "execution_count": 72,
     "metadata": {},
     "output_type": "execute_result"
    }
   ],
   "source": [
    "#solution\n",
    "vocab.mean()"
   ]
  },
  {
   "cell_type": "markdown",
   "metadata": {},
   "source": [
    "Wie bereits für die Tweets halten wir nach fehlenden Werten Ausschau..."
   ]
  },
  {
   "cell_type": "markdown",
   "metadata": {},
   "source": [
    "**Aufgabe: In welcher Spalte des `vocab` Vokabulars fehlen Werte?**"
   ]
  },
  {
   "cell_type": "code",
   "execution_count": 73,
   "metadata": {},
   "outputs": [],
   "source": [
    "#hideInput\n",
    "texte_lm.show_task(313)"
   ]
  },
  {
   "cell_type": "code",
   "execution_count": 74,
   "metadata": {},
   "outputs": [
    {
     "data": {
      "text/html": [
       "<div>\n",
       "<style scoped>\n",
       "    .dataframe tbody tr th:only-of-type {\n",
       "        vertical-align: middle;\n",
       "    }\n",
       "\n",
       "    .dataframe tbody tr th {\n",
       "        vertical-align: top;\n",
       "    }\n",
       "\n",
       "    .dataframe thead th {\n",
       "        text-align: right;\n",
       "    }\n",
       "</style>\n",
       "<table border=\"1\" class=\"dataframe\">\n",
       "  <thead>\n",
       "    <tr style=\"text-align: right;\">\n",
       "      <th></th>\n",
       "      <th>Wort</th>\n",
       "      <th>Wert</th>\n",
       "      <th>Deklination</th>\n",
       "      <th>Stimmung</th>\n",
       "      <th>Typ</th>\n",
       "    </tr>\n",
       "  </thead>\n",
       "  <tbody>\n",
       "    <tr>\n",
       "      <th>count</th>\n",
       "      <td>3466</td>\n",
       "      <td>3466</td>\n",
       "      <td>3466</td>\n",
       "      <td>3466</td>\n",
       "      <td>3466</td>\n",
       "    </tr>\n",
       "    <tr>\n",
       "      <th>unique</th>\n",
       "      <td>1</td>\n",
       "      <td>1</td>\n",
       "      <td>2</td>\n",
       "      <td>1</td>\n",
       "      <td>1</td>\n",
       "    </tr>\n",
       "    <tr>\n",
       "      <th>top</th>\n",
       "      <td>False</td>\n",
       "      <td>False</td>\n",
       "      <td>False</td>\n",
       "      <td>False</td>\n",
       "      <td>False</td>\n",
       "    </tr>\n",
       "    <tr>\n",
       "      <th>freq</th>\n",
       "      <td>3466</td>\n",
       "      <td>3466</td>\n",
       "      <td>2659</td>\n",
       "      <td>3466</td>\n",
       "      <td>3466</td>\n",
       "    </tr>\n",
       "  </tbody>\n",
       "</table>\n",
       "</div>"
      ],
      "text/plain": [
       "         Wort   Wert Deklination Stimmung    Typ\n",
       "count    3466   3466        3466     3466   3466\n",
       "unique      1      1           2        1      1\n",
       "top     False  False       False    False  False\n",
       "freq     3466   3466        2659     3466   3466"
      ]
     },
     "execution_count": 74,
     "metadata": {},
     "output_type": "execute_result"
    }
   ],
   "source": [
    "#solution\n",
    "vocab.isna().describe()"
   ]
  },
  {
   "cell_type": "markdown",
   "metadata": {},
   "source": [
    "Anstatt sie zu streichen, werden sie mit einer leeren Zeichenkette ersetzt. Dies verhindert, dass unser Vokabular schrumpft, was wir unbedingt verhindern wollen, da unser Modell auf Basis des Vokabulars erzeugt wird."
   ]
  },
  {
   "cell_type": "code",
   "execution_count": 75,
   "metadata": {},
   "outputs": [],
   "source": [
    "vocab.fillna('', inplace=True)"
   ]
  },
  {
   "cell_type": "markdown",
   "metadata": {},
   "source": [
    "Als Nächstes kümmern wir uns um die Liste an Deklinationen pro Wort, welche wir ebenfalls als eigenständige Wörter im Vokabular verwenden wollen. Dies erreichen wir, indem wir jedes Listenelement (hier: Deklinationsform) der Spalte _Deklinaton_ in eine eigene Reihe überführen."
   ]
  },
  {
   "cell_type": "code",
   "execution_count": 76,
   "metadata": {},
   "outputs": [
    {
     "data": {
      "text/html": [
       "<div>\n",
       "<style scoped>\n",
       "    .dataframe tbody tr th:only-of-type {\n",
       "        vertical-align: middle;\n",
       "    }\n",
       "\n",
       "    .dataframe tbody tr th {\n",
       "        vertical-align: top;\n",
       "    }\n",
       "\n",
       "    .dataframe thead th {\n",
       "        text-align: right;\n",
       "    }\n",
       "</style>\n",
       "<table border=\"1\" class=\"dataframe\">\n",
       "  <thead>\n",
       "    <tr style=\"text-align: right;\">\n",
       "      <th></th>\n",
       "      <th>Stamm</th>\n",
       "      <th>Wert</th>\n",
       "      <th>Stimmung</th>\n",
       "      <th>Typ</th>\n",
       "      <th>Wort</th>\n",
       "    </tr>\n",
       "  </thead>\n",
       "  <tbody>\n",
       "    <tr>\n",
       "      <th>0</th>\n",
       "      <td>Abbruch</td>\n",
       "      <td>-0.0048</td>\n",
       "      <td>negativ</td>\n",
       "      <td>NN</td>\n",
       "      <td>Abbruch</td>\n",
       "    </tr>\n",
       "    <tr>\n",
       "      <th>1</th>\n",
       "      <td>Abbruch</td>\n",
       "      <td>-0.0048</td>\n",
       "      <td>negativ</td>\n",
       "      <td>NN</td>\n",
       "      <td>Abbruches</td>\n",
       "    </tr>\n",
       "    <tr>\n",
       "      <th>2</th>\n",
       "      <td>Abbruch</td>\n",
       "      <td>-0.0048</td>\n",
       "      <td>negativ</td>\n",
       "      <td>NN</td>\n",
       "      <td>Abbrüche</td>\n",
       "    </tr>\n",
       "    <tr>\n",
       "      <th>3</th>\n",
       "      <td>Abbruch</td>\n",
       "      <td>-0.0048</td>\n",
       "      <td>negativ</td>\n",
       "      <td>NN</td>\n",
       "      <td>Abbruchs</td>\n",
       "    </tr>\n",
       "    <tr>\n",
       "      <th>4</th>\n",
       "      <td>Abbruch</td>\n",
       "      <td>-0.0048</td>\n",
       "      <td>negativ</td>\n",
       "      <td>NN</td>\n",
       "      <td>Abbrüchen</td>\n",
       "    </tr>\n",
       "    <tr>\n",
       "      <th>...</th>\n",
       "      <td>...</td>\n",
       "      <td>...</td>\n",
       "      <td>...</td>\n",
       "      <td>...</td>\n",
       "      <td>...</td>\n",
       "    </tr>\n",
       "    <tr>\n",
       "      <th>32076</th>\n",
       "      <td>üppig</td>\n",
       "      <td>0.2010</td>\n",
       "      <td>positiv</td>\n",
       "      <td>ADJX</td>\n",
       "      <td>üppigster</td>\n",
       "    </tr>\n",
       "    <tr>\n",
       "      <th>32077</th>\n",
       "      <td>üppig</td>\n",
       "      <td>0.2010</td>\n",
       "      <td>positiv</td>\n",
       "      <td>ADJX</td>\n",
       "      <td>üppiges</td>\n",
       "    </tr>\n",
       "    <tr>\n",
       "      <th>32078</th>\n",
       "      <td>üppig</td>\n",
       "      <td>0.2010</td>\n",
       "      <td>positiv</td>\n",
       "      <td>ADJX</td>\n",
       "      <td>üppig</td>\n",
       "    </tr>\n",
       "    <tr>\n",
       "      <th>32079</th>\n",
       "      <td>üppig</td>\n",
       "      <td>0.2010</td>\n",
       "      <td>positiv</td>\n",
       "      <td>ADJX</td>\n",
       "      <td>üppigsten</td>\n",
       "    </tr>\n",
       "    <tr>\n",
       "      <th>32080</th>\n",
       "      <td>üppig</td>\n",
       "      <td>0.2010</td>\n",
       "      <td>positiv</td>\n",
       "      <td>ADJX</td>\n",
       "      <td>üppige</td>\n",
       "    </tr>\n",
       "  </tbody>\n",
       "</table>\n",
       "<p>32081 rows × 5 columns</p>\n",
       "</div>"
      ],
      "text/plain": [
       "         Stamm    Wert Stimmung   Typ       Wort\n",
       "0      Abbruch -0.0048  negativ    NN    Abbruch\n",
       "1      Abbruch -0.0048  negativ    NN  Abbruches\n",
       "2      Abbruch -0.0048  negativ    NN   Abbrüche\n",
       "3      Abbruch -0.0048  negativ    NN   Abbruchs\n",
       "4      Abbruch -0.0048  negativ    NN  Abbrüchen\n",
       "...        ...     ...      ...   ...        ...\n",
       "32076    üppig  0.2010  positiv  ADJX  üppigster\n",
       "32077    üppig  0.2010  positiv  ADJX    üppiges\n",
       "32078    üppig  0.2010  positiv  ADJX      üppig\n",
       "32079    üppig  0.2010  positiv  ADJX  üppigsten\n",
       "32080    üppig  0.2010  positiv  ADJX     üppige\n",
       "\n",
       "[32081 rows x 5 columns]"
      ]
     },
     "execution_count": 76,
     "metadata": {},
     "output_type": "execute_result"
    }
   ],
   "source": [
    "vocab['Merged'] = vocab['Wort'] + ',' + vocab['Deklination']\n",
    "vocab['Merged'] = vocab['Merged'].str.split(',')\n",
    "vocab = vocab.explode('Merged')\n",
    "vocab = vocab.sort_values('Wort').reset_index(drop=True)\n",
    "vocab = vocab.rename(columns={'Wort': 'Stamm', 'Merged': 'Wort'})\n",
    "vocab = vocab.drop(['Deklination'], axis=1)\n",
    "vocab"
   ]
  },
  {
   "cell_type": "markdown",
   "metadata": {},
   "source": [
    "**Aufgabe: Welchen Stimmungswert besitzt das Adjektiv _gut_ im `vocab` Vokabular?**"
   ]
  },
  {
   "cell_type": "code",
   "execution_count": 77,
   "metadata": {},
   "outputs": [],
   "source": [
    "#hideInput\n",
    "texte_lm.show_task(314)"
   ]
  },
  {
   "cell_type": "code",
   "execution_count": 78,
   "metadata": {},
   "outputs": [
    {
     "data": {
      "text/html": [
       "<div>\n",
       "<style scoped>\n",
       "    .dataframe tbody tr th:only-of-type {\n",
       "        vertical-align: middle;\n",
       "    }\n",
       "\n",
       "    .dataframe tbody tr th {\n",
       "        vertical-align: top;\n",
       "    }\n",
       "\n",
       "    .dataframe thead th {\n",
       "        text-align: right;\n",
       "    }\n",
       "</style>\n",
       "<table border=\"1\" class=\"dataframe\">\n",
       "  <thead>\n",
       "    <tr style=\"text-align: right;\">\n",
       "      <th></th>\n",
       "      <th>Stamm</th>\n",
       "      <th>Wert</th>\n",
       "      <th>Stimmung</th>\n",
       "      <th>Typ</th>\n",
       "      <th>Wort</th>\n",
       "    </tr>\n",
       "  </thead>\n",
       "  <tbody>\n",
       "    <tr>\n",
       "      <th>13862</th>\n",
       "      <td>gut</td>\n",
       "      <td>0.3716</td>\n",
       "      <td>positiv</td>\n",
       "      <td>ADJX</td>\n",
       "      <td>gut</td>\n",
       "    </tr>\n",
       "  </tbody>\n",
       "</table>\n",
       "</div>"
      ],
      "text/plain": [
       "      Stamm    Wert Stimmung   Typ Wort\n",
       "13862   gut  0.3716  positiv  ADJX  gut"
      ]
     },
     "execution_count": 78,
     "metadata": {},
     "output_type": "execute_result"
    }
   ],
   "source": [
    "#solution\n",
    "vocab.loc[(vocab['Typ'] == 'ADJX') & (vocab['Wort'] == 'gut')]"
   ]
  },
  {
   "cell_type": "markdown",
   "metadata": {},
   "source": [
    "**Aufgabe: Wie lautet das \"schlechteste\", also das am schlechtesten annotierte Wort im `vocab` Vokabular?**"
   ]
  },
  {
   "cell_type": "code",
   "execution_count": 79,
   "metadata": {},
   "outputs": [],
   "source": [
    "#hideInput\n",
    "texte_lm.show_task(315)"
   ]
  },
  {
   "cell_type": "code",
   "execution_count": 80,
   "metadata": {},
   "outputs": [
    {
     "data": {
      "text/html": [
       "<div>\n",
       "<style scoped>\n",
       "    .dataframe tbody tr th:only-of-type {\n",
       "        vertical-align: middle;\n",
       "    }\n",
       "\n",
       "    .dataframe tbody tr th {\n",
       "        vertical-align: top;\n",
       "    }\n",
       "\n",
       "    .dataframe thead th {\n",
       "        text-align: right;\n",
       "    }\n",
       "</style>\n",
       "<table border=\"1\" class=\"dataframe\">\n",
       "  <thead>\n",
       "    <tr style=\"text-align: right;\">\n",
       "      <th></th>\n",
       "      <th>Stamm</th>\n",
       "      <th>Wert</th>\n",
       "      <th>Stimmung</th>\n",
       "      <th>Typ</th>\n",
       "      <th>Wort</th>\n",
       "    </tr>\n",
       "  </thead>\n",
       "  <tbody>\n",
       "    <tr>\n",
       "      <th>1096</th>\n",
       "      <td>Gefahr</td>\n",
       "      <td>-1.0000</td>\n",
       "      <td>negativ</td>\n",
       "      <td>NN</td>\n",
       "      <td>Gefahr</td>\n",
       "    </tr>\n",
       "    <tr>\n",
       "      <th>1097</th>\n",
       "      <td>Gefahr</td>\n",
       "      <td>-1.0000</td>\n",
       "      <td>negativ</td>\n",
       "      <td>NN</td>\n",
       "      <td>Gefahren</td>\n",
       "    </tr>\n",
       "    <tr>\n",
       "      <th>2219</th>\n",
       "      <td>Schuld</td>\n",
       "      <td>-0.9686</td>\n",
       "      <td>negativ</td>\n",
       "      <td>NN</td>\n",
       "      <td>Schulden</td>\n",
       "    </tr>\n",
       "    <tr>\n",
       "      <th>2218</th>\n",
       "      <td>Schuld</td>\n",
       "      <td>-0.9686</td>\n",
       "      <td>negativ</td>\n",
       "      <td>NN</td>\n",
       "      <td>Schuld</td>\n",
       "    </tr>\n",
       "    <tr>\n",
       "      <th>26481</th>\n",
       "      <td>unnötig</td>\n",
       "      <td>-0.9463</td>\n",
       "      <td>negativ</td>\n",
       "      <td>ADJX</td>\n",
       "      <td>unnötiger</td>\n",
       "    </tr>\n",
       "    <tr>\n",
       "      <th>26482</th>\n",
       "      <td>unnötig</td>\n",
       "      <td>-0.9463</td>\n",
       "      <td>negativ</td>\n",
       "      <td>ADJX</td>\n",
       "      <td>unnötig</td>\n",
       "    </tr>\n",
       "    <tr>\n",
       "      <th>26483</th>\n",
       "      <td>unnötig</td>\n",
       "      <td>-0.9463</td>\n",
       "      <td>negativ</td>\n",
       "      <td>ADJX</td>\n",
       "      <td>unnötigen</td>\n",
       "    </tr>\n",
       "    <tr>\n",
       "      <th>26484</th>\n",
       "      <td>unnötig</td>\n",
       "      <td>-0.9463</td>\n",
       "      <td>negativ</td>\n",
       "      <td>ADJX</td>\n",
       "      <td>unnötigerem</td>\n",
       "    </tr>\n",
       "    <tr>\n",
       "      <th>26485</th>\n",
       "      <td>unnötig</td>\n",
       "      <td>-0.9463</td>\n",
       "      <td>negativ</td>\n",
       "      <td>ADJX</td>\n",
       "      <td>unnötigem</td>\n",
       "    </tr>\n",
       "    <tr>\n",
       "      <th>26487</th>\n",
       "      <td>unnötig</td>\n",
       "      <td>-0.9463</td>\n",
       "      <td>negativ</td>\n",
       "      <td>ADJX</td>\n",
       "      <td>unnötigste</td>\n",
       "    </tr>\n",
       "  </tbody>\n",
       "</table>\n",
       "</div>"
      ],
      "text/plain": [
       "         Stamm    Wert Stimmung   Typ         Wort\n",
       "1096    Gefahr -1.0000  negativ    NN       Gefahr\n",
       "1097    Gefahr -1.0000  negativ    NN     Gefahren\n",
       "2219    Schuld -0.9686  negativ    NN     Schulden\n",
       "2218    Schuld -0.9686  negativ    NN       Schuld\n",
       "26481  unnötig -0.9463  negativ  ADJX    unnötiger\n",
       "26482  unnötig -0.9463  negativ  ADJX      unnötig\n",
       "26483  unnötig -0.9463  negativ  ADJX    unnötigen\n",
       "26484  unnötig -0.9463  negativ  ADJX  unnötigerem\n",
       "26485  unnötig -0.9463  negativ  ADJX    unnötigem\n",
       "26487  unnötig -0.9463  negativ  ADJX   unnötigste"
      ]
     },
     "execution_count": 80,
     "metadata": {},
     "output_type": "execute_result"
    }
   ],
   "source": [
    "#solution\n",
    "vocab.sort_values('Wert').head(10)"
   ]
  },
  {
   "cell_type": "markdown",
   "metadata": {},
   "source": [
    "Unser Vokabular ist fertig. Als nächstes richten wir den Fokus wieder auf unsere Tweets."
   ]
  },
  {
   "cell_type": "markdown",
   "metadata": {},
   "source": [
    "#### 3.1.2 Vektorisierung"
   ]
  },
  {
   "cell_type": "markdown",
   "metadata": {},
   "source": [
    "Innerhalb der Vektorisierung überführen wir die symbolischen Textbeiträge in numerische Werte. Dies geschieht im Normalfall über Häufigkeitsverteilungen. Je öfter ein Wort im Text vorkommt, desto wichtiger scheint es zu sein, was sich in der Vektorisierung wiederspiegelt.\n",
    "\n",
    "In diesem Fall aber benutzen wir das bekannte Vokabular und überführen jedes einzelne Wort eines Tweets in seinen Stimmungswert. Das Wort _gut_ kriegt dabei den Stimmungswert 0.37 zugewiesen, wie bereits in einer der vorherigen Aufgaben behandelt wurde."
   ]
  },
  {
   "cell_type": "code",
   "execution_count": 81,
   "metadata": {},
   "outputs": [
    {
     "data": {
      "text/plain": [
       "13862    0.3716\n",
       "Name: Wert, dtype: float64"
      ]
     },
     "execution_count": 81,
     "metadata": {},
     "output_type": "execute_result"
    }
   ],
   "source": [
    "vocab.loc[vocab['Wort'] == 'gut'].Wert"
   ]
  },
  {
   "cell_type": "markdown",
   "metadata": {},
   "source": [
    "Für eine performante Vektorisierung benötigen wir einen Look-up-table aus den Schlüssel-/Wertpaaren `{ Wort : Stimmungswert }`."
   ]
  },
  {
   "cell_type": "code",
   "execution_count": 82,
   "metadata": {},
   "outputs": [],
   "source": [
    "lookup = pd.Series(vocab.Wert.values,index=vocab.Wort.str.lower()).to_dict()"
   ]
  },
  {
   "cell_type": "markdown",
   "metadata": {},
   "source": [
    "Die Vektorisierung wird nun über die `vectorize()` Funktion abgeschlossen."
   ]
  },
  {
   "cell_type": "code",
   "execution_count": 83,
   "metadata": {},
   "outputs": [],
   "source": [
    "def vectorize(tweet):\n",
    "    \"\"\"Vectorize tweets based on vocabulary\"\"\"\n",
    "    \n",
    "    return [lookup.get(a) for a in tweet if lookup.get(a)]"
   ]
  },
  {
   "cell_type": "code",
   "execution_count": 84,
   "metadata": {},
   "outputs": [
    {
     "data": {
      "text/html": [
       "<div>\n",
       "<style scoped>\n",
       "    .dataframe tbody tr th:only-of-type {\n",
       "        vertical-align: middle;\n",
       "    }\n",
       "\n",
       "    .dataframe tbody tr th {\n",
       "        vertical-align: top;\n",
       "    }\n",
       "\n",
       "    .dataframe thead th {\n",
       "        text-align: right;\n",
       "    }\n",
       "</style>\n",
       "<table border=\"1\" class=\"dataframe\">\n",
       "  <thead>\n",
       "    <tr style=\"text-align: right;\">\n",
       "      <th></th>\n",
       "      <th>Token</th>\n",
       "      <th>Vector</th>\n",
       "    </tr>\n",
       "  </thead>\n",
       "  <tbody>\n",
       "    <tr>\n",
       "      <th>0</th>\n",
       "      <td>[e, tut, so, gut, dass, so, viele, menschen, g...</td>\n",
       "      <td>[0.3716, 0.004, -0.0048, -0.2945]</td>\n",
       "    </tr>\n",
       "    <tr>\n",
       "      <th>1</th>\n",
       "      <td>[protect, ur, hearts, keizha, tubilla]</td>\n",
       "      <td>[]</td>\n",
       "    </tr>\n",
       "    <tr>\n",
       "      <th>2</th>\n",
       "      <td>[artikel, konvention, menschenrechte, abs, jed...</td>\n",
       "      <td>[-0.0048, 0.004]</td>\n",
       "    </tr>\n",
       "    <tr>\n",
       "      <th>3</th>\n",
       "      <td>[sprecher, usgeführten, operation, inherent, r...</td>\n",
       "      <td>[-1.0, -0.0048, 0.004, 0.004]</td>\n",
       "    </tr>\n",
       "    <tr>\n",
       "      <th>5</th>\n",
       "      <td>[welche, psychisch, gestörten, einzeltäter, de...</td>\n",
       "      <td>[0.004, 0.3694, 0.0873, -0.0048, 0.2248, -0.77]</td>\n",
       "    </tr>\n",
       "  </tbody>\n",
       "</table>\n",
       "</div>"
      ],
      "text/plain": [
       "                                               Token  \\\n",
       "0  [e, tut, so, gut, dass, so, viele, menschen, g...   \n",
       "1             [protect, ur, hearts, keizha, tubilla]   \n",
       "2  [artikel, konvention, menschenrechte, abs, jed...   \n",
       "3  [sprecher, usgeführten, operation, inherent, r...   \n",
       "5  [welche, psychisch, gestörten, einzeltäter, de...   \n",
       "\n",
       "                                            Vector  \n",
       "0                [0.3716, 0.004, -0.0048, -0.2945]  \n",
       "1                                               []  \n",
       "2                                 [-0.0048, 0.004]  \n",
       "3                    [-1.0, -0.0048, 0.004, 0.004]  \n",
       "5  [0.004, 0.3694, 0.0873, -0.0048, 0.2248, -0.77]  "
      ]
     },
     "execution_count": 84,
     "metadata": {},
     "output_type": "execute_result"
    }
   ],
   "source": [
    "tweets = tweets.to_frame(name='Token')\n",
    "tweets['Vector'] = tweets['Token'].apply(vectorize)\n",
    "tweets.head()"
   ]
  },
  {
   "cell_type": "markdown",
   "metadata": {},
   "source": [
    "#### 3.1.3 Label"
   ]
  },
  {
   "cell_type": "markdown",
   "metadata": {},
   "source": [
    "Dieser Schritt fügt den Tweets eine Stimmung auf Basis der vektorisierten Tokens hinzu. Dabei summieren wir die jeweiligen Stimmungswerte aller im Tweet enthaltenen Wörter und schauen ob ihre Summe negativ oder positiv ausfällt. \n",
    "\n",
    "Erinnern wir uns zurück an die Stimmungslage im Intervall `['negativ', 'positiv']` annotiert die `get_labels()` Funktion im folgenden jeden Tweet anhand seiner Vektoren."
   ]
  },
  {
   "cell_type": "code",
   "execution_count": 85,
   "metadata": {},
   "outputs": [],
   "source": [
    "def get_labels(tweet):\n",
    "    \"\"\"Label tweets according to vocabulary.\"\"\"\n",
    "    \n",
    "    score = np.sum(tweet)\n",
    "            \n",
    "    if score > 0.0:\n",
    "        return 'positiv'\n",
    "    elif score < 0.0:\n",
    "        return 'negativ'\n",
    "    else:\n",
    "        return 'neutral'"
   ]
  },
  {
   "cell_type": "code",
   "execution_count": 86,
   "metadata": {},
   "outputs": [
    {
     "data": {
      "text/html": [
       "<div>\n",
       "<style scoped>\n",
       "    .dataframe tbody tr th:only-of-type {\n",
       "        vertical-align: middle;\n",
       "    }\n",
       "\n",
       "    .dataframe tbody tr th {\n",
       "        vertical-align: top;\n",
       "    }\n",
       "\n",
       "    .dataframe thead th {\n",
       "        text-align: right;\n",
       "    }\n",
       "</style>\n",
       "<table border=\"1\" class=\"dataframe\">\n",
       "  <thead>\n",
       "    <tr style=\"text-align: right;\">\n",
       "      <th></th>\n",
       "      <th>Token</th>\n",
       "      <th>Vector</th>\n",
       "      <th>Label</th>\n",
       "    </tr>\n",
       "  </thead>\n",
       "  <tbody>\n",
       "    <tr>\n",
       "      <th>0</th>\n",
       "      <td>[e, tut, so, gut, dass, so, viele, menschen, g...</td>\n",
       "      <td>[0.3716, 0.004, -0.0048, -0.2945]</td>\n",
       "      <td>positiv</td>\n",
       "    </tr>\n",
       "    <tr>\n",
       "      <th>1</th>\n",
       "      <td>[protect, ur, hearts, keizha, tubilla]</td>\n",
       "      <td>[]</td>\n",
       "      <td>neutral</td>\n",
       "    </tr>\n",
       "    <tr>\n",
       "      <th>2</th>\n",
       "      <td>[artikel, konvention, menschenrechte, abs, jed...</td>\n",
       "      <td>[-0.0048, 0.004]</td>\n",
       "      <td>negativ</td>\n",
       "    </tr>\n",
       "    <tr>\n",
       "      <th>3</th>\n",
       "      <td>[sprecher, usgeführten, operation, inherent, r...</td>\n",
       "      <td>[-1.0, -0.0048, 0.004, 0.004]</td>\n",
       "      <td>negativ</td>\n",
       "    </tr>\n",
       "    <tr>\n",
       "      <th>5</th>\n",
       "      <td>[welche, psychisch, gestörten, einzeltäter, de...</td>\n",
       "      <td>[0.004, 0.3694, 0.0873, -0.0048, 0.2248, -0.77]</td>\n",
       "      <td>negativ</td>\n",
       "    </tr>\n",
       "  </tbody>\n",
       "</table>\n",
       "</div>"
      ],
      "text/plain": [
       "                                               Token  \\\n",
       "0  [e, tut, so, gut, dass, so, viele, menschen, g...   \n",
       "1             [protect, ur, hearts, keizha, tubilla]   \n",
       "2  [artikel, konvention, menschenrechte, abs, jed...   \n",
       "3  [sprecher, usgeführten, operation, inherent, r...   \n",
       "5  [welche, psychisch, gestörten, einzeltäter, de...   \n",
       "\n",
       "                                            Vector    Label  \n",
       "0                [0.3716, 0.004, -0.0048, -0.2945]  positiv  \n",
       "1                                               []  neutral  \n",
       "2                                 [-0.0048, 0.004]  negativ  \n",
       "3                    [-1.0, -0.0048, 0.004, 0.004]  negativ  \n",
       "5  [0.004, 0.3694, 0.0873, -0.0048, 0.2248, -0.77]  negativ  "
      ]
     },
     "execution_count": 86,
     "metadata": {},
     "output_type": "execute_result"
    }
   ],
   "source": [
    "tweets['Label'] = tweets['Vector'].apply(get_labels)\n",
    "tweets.head()"
   ]
  },
  {
   "cell_type": "markdown",
   "metadata": {},
   "source": [
    "**Aufgabe: Welches Label bekommt ein Tweet von der `get_labels()` Funktion, dessen Summe _0_ ist, weil entweder keine Wörter gefunden werden oder sich die Stimmungswerte aufheben?**"
   ]
  },
  {
   "cell_type": "code",
   "execution_count": 87,
   "metadata": {},
   "outputs": [],
   "source": [
    "#hideInput\n",
    "texte_lm.show_task(316)"
   ]
  },
  {
   "cell_type": "markdown",
   "metadata": {},
   "source": [
    "Neutrale Tweets sind für unsere binäre Klassifikation nicht relevant und werden verworfen."
   ]
  },
  {
   "cell_type": "code",
   "execution_count": 88,
   "metadata": {},
   "outputs": [
    {
     "data": {
      "text/html": [
       "<div>\n",
       "<style scoped>\n",
       "    .dataframe tbody tr th:only-of-type {\n",
       "        vertical-align: middle;\n",
       "    }\n",
       "\n",
       "    .dataframe tbody tr th {\n",
       "        vertical-align: top;\n",
       "    }\n",
       "\n",
       "    .dataframe thead th {\n",
       "        text-align: right;\n",
       "    }\n",
       "</style>\n",
       "<table border=\"1\" class=\"dataframe\">\n",
       "  <thead>\n",
       "    <tr style=\"text-align: right;\">\n",
       "      <th></th>\n",
       "      <th>Token</th>\n",
       "      <th>Vector</th>\n",
       "      <th>Label</th>\n",
       "    </tr>\n",
       "  </thead>\n",
       "  <tbody>\n",
       "    <tr>\n",
       "      <th>0</th>\n",
       "      <td>[e, tut, so, gut, dass, so, viele, menschen, g...</td>\n",
       "      <td>[0.3716, 0.004, -0.0048, -0.2945]</td>\n",
       "      <td>positiv</td>\n",
       "    </tr>\n",
       "    <tr>\n",
       "      <th>2</th>\n",
       "      <td>[artikel, konvention, menschenrechte, abs, jed...</td>\n",
       "      <td>[-0.0048, 0.004]</td>\n",
       "      <td>negativ</td>\n",
       "    </tr>\n",
       "    <tr>\n",
       "      <th>3</th>\n",
       "      <td>[sprecher, usgeführten, operation, inherent, r...</td>\n",
       "      <td>[-1.0, -0.0048, 0.004, 0.004]</td>\n",
       "      <td>negativ</td>\n",
       "    </tr>\n",
       "    <tr>\n",
       "      <th>5</th>\n",
       "      <td>[welche, psychisch, gestörten, einzeltäter, de...</td>\n",
       "      <td>[0.004, 0.3694, 0.0873, -0.0048, 0.2248, -0.77]</td>\n",
       "      <td>negativ</td>\n",
       "    </tr>\n",
       "    <tr>\n",
       "      <th>6</th>\n",
       "      <td>[danke, da, gibt, nichts, mehr, hinzuzufügen]</td>\n",
       "      <td>[0.191]</td>\n",
       "      <td>positiv</td>\n",
       "    </tr>\n",
       "  </tbody>\n",
       "</table>\n",
       "</div>"
      ],
      "text/plain": [
       "                                               Token  \\\n",
       "0  [e, tut, so, gut, dass, so, viele, menschen, g...   \n",
       "2  [artikel, konvention, menschenrechte, abs, jed...   \n",
       "3  [sprecher, usgeführten, operation, inherent, r...   \n",
       "5  [welche, psychisch, gestörten, einzeltäter, de...   \n",
       "6      [danke, da, gibt, nichts, mehr, hinzuzufügen]   \n",
       "\n",
       "                                            Vector    Label  \n",
       "0                [0.3716, 0.004, -0.0048, -0.2945]  positiv  \n",
       "2                                 [-0.0048, 0.004]  negativ  \n",
       "3                    [-1.0, -0.0048, 0.004, 0.004]  negativ  \n",
       "5  [0.004, 0.3694, 0.0873, -0.0048, 0.2248, -0.77]  negativ  \n",
       "6                                          [0.191]  positiv  "
      ]
     },
     "execution_count": 88,
     "metadata": {},
     "output_type": "execute_result"
    }
   ],
   "source": [
    "tweets = tweets.drop(tweets[tweets['Label'] == 'neutral'].index)\n",
    "tweets.head()"
   ]
  },
  {
   "cell_type": "markdown",
   "metadata": {},
   "source": [
    "**Aufgabe: Wie sieht die Verteilung zwischen negativen und positiven Tweets aus? Ist die Stimmungslage eher negativ oder eher positiv?**"
   ]
  },
  {
   "cell_type": "code",
   "execution_count": 89,
   "metadata": {},
   "outputs": [],
   "source": [
    "#hideInput\n",
    "texte_lm.show_task(317)"
   ]
  },
  {
   "cell_type": "code",
   "execution_count": 90,
   "metadata": {},
   "outputs": [
    {
     "data": {
      "text/plain": [
       "48295"
      ]
     },
     "execution_count": 90,
     "metadata": {},
     "output_type": "execute_result"
    }
   ],
   "source": [
    "#solution\n",
    "negative_count = tweets['Label'][tweets['Label'] == 'negativ'].count()\n",
    "negative_count"
   ]
  },
  {
   "cell_type": "code",
   "execution_count": 91,
   "metadata": {},
   "outputs": [
    {
     "data": {
      "text/plain": [
       "78336"
      ]
     },
     "execution_count": 91,
     "metadata": {},
     "output_type": "execute_result"
    }
   ],
   "source": [
    "#solution\n",
    "positive_count = tweets['Label'][tweets['Label'] == 'positiv'].count()\n",
    "positive_count"
   ]
  },
  {
   "cell_type": "code",
   "execution_count": 92,
   "metadata": {},
   "outputs": [
    {
     "data": {
      "image/png": "[encoded data removed]",
      "text/plain": [
       "<Figure size 432x288 with 1 Axes>"
      ]
     },
     "metadata": {},
     "output_type": "display_data"
    }
   ],
   "source": [
    "vf.plot_pie([negative_count, positive_count], labels=labels)"
   ]
  },
  {
   "cell_type": "markdown",
   "metadata": {},
   "source": [
    "#### 3.1.4 Features"
   ]
  },
  {
   "cell_type": "markdown",
   "metadata": {},
   "source": [
    "Jetzt fehlt nur noch eine Eingabe für unseren überwachten Klassifikator. Da diese auf Features und Labels angewiesen ist, strukturieren wir sie als einfaches Schlüsselwertpaar mit den Wörtern als Schlüssel und der Stimmung als Wert."
   ]
  },
  {
   "cell_type": "code",
   "execution_count": 93,
   "metadata": {},
   "outputs": [],
   "source": [
    "def get_features(tweets):\n",
    "    for tweet in tweets:\n",
    "        yield dict([(word, True) for word in tweet])"
   ]
  },
  {
   "cell_type": "code",
   "execution_count": 94,
   "metadata": {},
   "outputs": [],
   "source": [
    "negative_features = get_features(tweets.loc[tweets['Label'] == 'negativ']['Token'])\n",
    "negative_set = [(tweet_dict, 'negativ') for tweet_dict in negative_features]\n",
    "\n",
    "positive_features = get_features(tweets.loc[tweets['Label'] == 'positiv']['Token'])\n",
    "positive_set = [(tweet_dict, 'positiv') for tweet_dict in positive_features]\n",
    "\n",
    "data_set = negative_set + positive_set\n",
    "del negative_set, positive_set"
   ]
  },
  {
   "cell_type": "code",
   "execution_count": 95,
   "metadata": {},
   "outputs": [],
   "source": [
    "divider = int(len(data_set) * 0.8) # 80 % for training\n",
    "train_set = data_set[ : divider]\n",
    "test_set = data_set[divider : ]\n",
    "assert len(train_set) + len(test_set) == len (data_set)\n",
    "del data_set"
   ]
  },
  {
   "cell_type": "markdown",
   "metadata": {},
   "source": [
    "### 3.2 Textdaten klassifizieren"
   ]
  },
  {
   "cell_type": "markdown",
   "metadata": {},
   "source": [
    "#### 3.2.1 Überwachte Klassifikation"
   ]
  },
  {
   "cell_type": "markdown",
   "metadata": {},
   "source": [
    "Mithilfe des [Naive Bayes](https://www.nltk.org/_modules/nltk/classify/naivebayes.html) Algorithmus führen wir eine überwachte Klassifizierung aus. Dabei versucht der Klassifikator eine Gruppe von Features ihrer wahrscheinlichsten Klasse (hier: Stimmung) zuzuordnen. In unserem Fall repräsentiert jedes Wort im Tweet ein Feature, wonach ein Feature-Set alle Wörter eines Tweets beinhaltet. In der folgenden Animation wird der Lernprozess des Klassifikators auf Basis von drei Klassen veranschaulicht:\n",
    "\n",
    "![Naive Bayes](https://upload.wikimedia.org/wikipedia/commons/b/b4/Naive_Bayes_Classifier.gif)"
   ]
  },
  {
   "cell_type": "code",
   "execution_count": 96,
   "metadata": {},
   "outputs": [],
   "source": [
    "from nltk import NaiveBayesClassifier, classify"
   ]
  },
  {
   "cell_type": "markdown",
   "metadata": {},
   "source": [
    "Im Folgenden wird unser `nbclassifier` Klassifikator mithilfe von NLTK erzeugt und trainiert."
   ]
  },
  {
   "cell_type": "code",
   "execution_count": 97,
   "metadata": {},
   "outputs": [],
   "source": [
    "nbclassifier = NaiveBayesClassifier.train(train_set)"
   ]
  },
  {
   "cell_type": "markdown",
   "metadata": {},
   "source": [
    "**Aufgabe: Wie lautet das informativste Wort des `nbclassifier` Klassifikators?**"
   ]
  },
  {
   "cell_type": "code",
   "execution_count": 98,
   "metadata": {},
   "outputs": [],
   "source": [
    "#hideInput\n",
    "texte_lm.show_task(321)"
   ]
  },
  {
   "cell_type": "code",
   "execution_count": 99,
   "metadata": {},
   "outputs": [
    {
     "name": "stdout",
     "output_type": "stream",
     "text": [
      "Most Informative Features\n",
      "              gefährlich = True           negati : positi =    194.3 : 1.0\n",
      "              unterstütz = True           positi : negati =    183.7 : 1.0\n",
      "                 rbandme = True           positi : negati =    181.9 : 1.0\n",
      "               redbubble = True           positi : negati =    181.9 : 1.0\n",
      "                 designs = True           positi : negati =    112.4 : 1.0\n",
      "           findyourthing = True           positi : negati =    109.1 : 1.0\n",
      "              schlechter = True           negati : positi =    105.7 : 1.0\n",
      "                schlecht = True           negati : positi =     98.1 : 1.0\n",
      "               schlimmer = True           negati : positi =     86.7 : 1.0\n",
      "                 unnötig = True           negati : positi =     86.7 : 1.0\n"
     ]
    }
   ],
   "source": [
    "#solution\n",
    "nbclassifier.show_most_informative_features()"
   ]
  },
  {
   "cell_type": "markdown",
   "metadata": {},
   "source": [
    "**Aufgabe: Wie gut schlägt sich der `classifier` Klassifikator auf den Trainingsdaten?**"
   ]
  },
  {
   "cell_type": "code",
   "execution_count": 100,
   "metadata": {},
   "outputs": [],
   "source": [
    "#hideInput\n",
    "texte_lm.show_task(322)"
   ]
  },
  {
   "cell_type": "code",
   "execution_count": 101,
   "metadata": {},
   "outputs": [
    {
     "data": {
      "text/plain": [
       "0.8654840874990128"
      ]
     },
     "execution_count": 101,
     "metadata": {},
     "output_type": "execute_result"
    }
   ],
   "source": [
    "#solution\n",
    "classify.accuracy(nbclassifier, train_set) # On Train"
   ]
  },
  {
   "cell_type": "markdown",
   "metadata": {},
   "source": [
    "#### 3.2.2 Unüberwachte Klassifikation"
   ]
  },
  {
   "cell_type": "markdown",
   "metadata": {},
   "source": [
    "Mithilfe von [K-means](https://www.nltk.org/_modules/nltk/cluster/kmeans.html) Clustering führen wir eine unüberwachte Klassifizierung aus. Dabei versucht der Klassifikator ähnliche Vektoren zu einem Cluster (hier: Stimmungen) zu gruppieren. In unserem Fall repräsentiert jedes Wort eines Tweets eine Dimension des Vektors, wonach alle Wörter eines Tweets einen n-dimensionalen Spaltenvektor bilden. In der folgenden Animation wird der Lernprozess des Klassifikators auf Basis von drei Clustern veranschaulicht:\n",
    "\n",
    "![K-means](https://camo.githubusercontent.com/77a842161f9588166625169d1f0944e838837f19b105d7e55d235652cfcc3786/68747470733a2f2f692e696d6775722e636f6d2f6b3458636170492e676966)"
   ]
  },
  {
   "cell_type": "markdown",
   "metadata": {},
   "source": [
    "Natürlich werden nicht immer gleich viele Wörter pro Tweet im Vokabular gefunden. Da unser unüberwachter Klassifikator eine konstante Eingabe benötigt, müssen wir uns auf eine Wortzahl einigen, die vom Modell pro Tweet einbezogen wird. Naheliegend entscheiden wir uns für die im Mittel gefundenen Wörter als `pad_size` und verdoppeln diese."
   ]
  },
  {
   "cell_type": "code",
   "execution_count": 102,
   "metadata": {},
   "outputs": [
    {
     "data": {
      "text/plain": [
       "4"
      ]
     },
     "execution_count": 102,
     "metadata": {},
     "output_type": "execute_result"
    }
   ],
   "source": [
    "pad_size = int(np.round(np.mean([len(vector) for vector in tweets['Vector']])))\n",
    "pad_size *= 2\n",
    "pad_size"
   ]
  },
  {
   "cell_type": "markdown",
   "metadata": {},
   "source": [
    "Fehlende Werte werden mit der `padding()` Funktion wie folgt aufgefüllt."
   ]
  },
  {
   "cell_type": "code",
   "execution_count": 103,
   "metadata": {},
   "outputs": [],
   "source": [
    "def padding(tweet): # Execution time too long\n",
    "    \"\"\"Pad vectors with zeros at the end.\"\"\"\n",
    "       \n",
    "    return np.pad(tweet[:pad_size], (0, pad_size-len(tweet[:pad_size])))"
   ]
  },
  {
   "cell_type": "code",
   "execution_count": 104,
   "metadata": {},
   "outputs": [],
   "source": [
    "tweets['Vector_unpadded'] = tweets['Vector']\n",
    "tweets['Vector'] = tweets['Vector'].apply(padding)"
   ]
  },
  {
   "cell_type": "code",
   "execution_count": 105,
   "metadata": {},
   "outputs": [],
   "source": [
    "from nltk.cluster import KMeansClusterer, euclidean_distance"
   ]
  },
  {
   "cell_type": "markdown",
   "metadata": {},
   "source": [
    "Im Folgenden wird unser unüberwachter `kmclusterer` Klassifikator mithilfe von NLTK erzeugt und trainiert."
   ]
  },
  {
   "cell_type": "code",
   "execution_count": 106,
   "metadata": {},
   "outputs": [],
   "source": [
    "kmclusterer = KMeansClusterer(2, euclidean_distance, repeats=10, avoid_empty_clusters=True)"
   ]
  },
  {
   "cell_type": "code",
   "execution_count": 107,
   "metadata": {},
   "outputs": [],
   "source": [
    "clusters = kmclusterer.cluster(tweets['Vector'], True)"
   ]
  },
  {
   "cell_type": "markdown",
   "metadata": {},
   "source": [
    "**Aufgabe: Hinter welcher Funktion verstecken sich die Zentren unseres `kmclusterer` Klassifikators?**"
   ]
  },
  {
   "cell_type": "code",
   "execution_count": 108,
   "metadata": {},
   "outputs": [],
   "source": [
    "#hideInput\n",
    "texte_lm.show_task(323)"
   ]
  },
  {
   "cell_type": "code",
   "execution_count": 109,
   "metadata": {},
   "outputs": [],
   "source": [
    "#solution\n",
    "means = kmclusterer.means()"
   ]
  },
  {
   "cell_type": "code",
   "execution_count": 110,
   "metadata": {},
   "outputs": [
    {
     "data": {
      "image/png": "[encoded data removed]",
      "text/plain": [
       "<Figure size 432x288 with 1 Axes>"
      ]
     },
     "metadata": {
      "needs_background": "light"
     },
     "output_type": "display_data"
    }
   ],
   "source": [
    "vf.plot_clusters(means)"
   ]
  },
  {
   "cell_type": "markdown",
   "metadata": {},
   "source": [
    "<div style=\"background-color: #150458; padding: 5px;\"></div>\n",
    "\n",
    "## 4. Verwendung"
   ]
  },
  {
   "cell_type": "markdown",
   "metadata": {},
   "source": [
    "[Zurück zur Übersicht](#Lernmodul-zur-Verarbeitung-und-Analyse-von-Textdaten)"
   ]
  },
  {
   "cell_type": "markdown",
   "metadata": {},
   "source": [
    "In der Verwendungsdomäne werden zum Abschluss die Stimmung eigener Tweets vorhergesagt.\n",
    "\n",
    "Welche Schritte ein Tweet innerhalb der Verwendung durchläuft verdeutlicht die folgende Abbildung:\n",
    "\n",
    "![Model](./img/usage_flow.png)"
   ]
  },
  {
   "cell_type": "markdown",
   "metadata": {},
   "source": [
    "### 4.1 Textdaten vorhersagen"
   ]
  },
  {
   "cell_type": "markdown",
   "metadata": {},
   "source": [
    "Exemplarisch wird ein frei erfundener negativer Tweet betrachtet:\n",
    "\n",
    "> Was für ein schlechtes Lernmodul"
   ]
  },
  {
   "cell_type": "code",
   "execution_count": 111,
   "metadata": {},
   "outputs": [],
   "source": [
    "negative = \"Was für ein schlechtes Lernmodul\""
   ]
  },
  {
   "cell_type": "markdown",
   "metadata": {},
   "source": [
    "Ebenfalls wird ein positives Beispiel betrachtet:\n",
    "\n",
    "> Was für ein gutes Lernmodul"
   ]
  },
  {
   "cell_type": "code",
   "execution_count": 112,
   "metadata": {},
   "outputs": [],
   "source": [
    "positive = \"Was für ein gutes Lernmodul\""
   ]
  },
  {
   "cell_type": "markdown",
   "metadata": {},
   "source": [
    "Im produktiven Einsatz müssten diese Beispiele ebenfalls die Datendomäne durchlaufen, was wir uns in diesem Fall ersparen."
   ]
  },
  {
   "cell_type": "markdown",
   "metadata": {},
   "source": [
    "Zuletzt werden 100 zufällige Tweets aus dem Datensatz vorhergesagt."
   ]
  },
  {
   "cell_type": "code",
   "execution_count": 113,
   "metadata": {},
   "outputs": [],
   "source": [
    "train_sample = tweets.sample(100) # 100 random tweets"
   ]
  },
  {
   "cell_type": "markdown",
   "metadata": {},
   "source": [
    "#### 4.1.1 Überwachter Klassifikator"
   ]
  },
  {
   "cell_type": "markdown",
   "metadata": {},
   "source": [
    "[Zurück zur überwachten Klassifikation](#3.2.1-Überwachte-Klassifikation)"
   ]
  },
  {
   "cell_type": "markdown",
   "metadata": {},
   "source": [
    "Welche Stimmung drückt unser negatives Beispiel nach Vorhersage der überwachten Klassifizierung aus?"
   ]
  },
  {
   "cell_type": "code",
   "execution_count": 114,
   "metadata": {},
   "outputs": [
    {
     "data": {
      "text/plain": [
       "'negativ'"
      ]
     },
     "execution_count": 114,
     "metadata": {},
     "output_type": "execute_result"
    }
   ],
   "source": [
    "nbclassifier.classify(mf.get_features_for_single_tweet(negative.split()))"
   ]
  },
  {
   "cell_type": "markdown",
   "metadata": {},
   "source": [
    "Welche Stimmung drückt unser positives Beispiel nach Vorhersage der überwachten Klassifizierung aus?"
   ]
  },
  {
   "cell_type": "code",
   "execution_count": 115,
   "metadata": {},
   "outputs": [
    {
     "data": {
      "text/plain": [
       "'positiv'"
      ]
     },
     "execution_count": 115,
     "metadata": {},
     "output_type": "execute_result"
    }
   ],
   "source": [
    "nbclassifier.classify(mf.get_features_for_single_tweet(positive.split()))"
   ]
  },
  {
   "cell_type": "markdown",
   "metadata": {},
   "source": [
    "Wie schlägt sich unser überwachter Klassifikator im Detail? Dafür klassifizieren wir beispielhaft 100 Tweets über die `supervised_classifier()` Funktion."
   ]
  },
  {
   "cell_type": "code",
   "execution_count": 116,
   "metadata": {},
   "outputs": [
    {
     "name": "stdout",
     "output_type": "stream",
     "text": [
      "#\tSoll\tIst\t∆\tTweet\n",
      "95213\tpositiv\tpositiv\t \t@hekabeohnename Mir verdirbt es inzwischen richtig den Spaß an vielen Spielen. Nun kommt ja auch noc\n",
      "91079\tpositiv\tnegativ\tX\t@RegSprecher Alles klar, das ganze Gezeter nur um die nächsten Welle durch zu bekommen.\n",
      "69917\tpositiv\tpositiv\t \t@freiheitsrechte ist es normal, dass ich zwei Monate nach Anmeldung noch keinen Lastschrifteinzug er\n",
      "53103\tnegativ\tnegativ\t \t#Berlin Gedenkmarsch zur Erinnerung an die afrikanischen / Schwarzen Opfer von Versklavung, Kolonial\n",
      "80157\tnegativ\tnegativ\t \tIn der Sonntags-FAZ ist zu lesen, dass das Robert Koch Institut zur Eindämmung des #coronavirus u.a.\n",
      "73045\tpositiv\tpositiv\t \tNa dann - viel \"Erfolg\" beim \"unter dem Radar\" weiter vorankommen. Hat bisher ja hervorragend funkti\n",
      "167561\tpositiv\tnegativ\tX\tDie Maskerade   Immer mehr Menschen begreifen, dass die #Regierung ihnen in der #Coronakrise ein X f\n",
      "102331\tpositiv\tnegativ\tX\t@_FriedrichMerz Wohl von Trump u. Johnson gelernt, Herr @_FriedrichMerz? Einfach mal steile Behauptu\n",
      "118471\tpositiv\tpositiv\t \tPS: €10,00 Stornierungskosten sind schon abgezogen. Ich bezahle gerne noch weitere €5,00, sodass die\n",
      "49961\tpositiv\tpositiv\t \t@Riki_blupp Ich eigentlich auch nicht xD Ist das erste mal seit langem das ich mir die Nägel bunt ma\n",
      "12208\tpositiv\tpositiv\t \tMit Kettenfett für Integration Fahrradwerkstatt in der Mainstraße wird wegen Erfolgs geschlossen htt\n",
      "154948\tnegativ\tnegativ\t \tDas ist erst der Anfang, Millionen Bürger werden ihr Eigentum, ihre Arbeit u Erspartes verlieren. Nu\n",
      "87566\tpositiv\tpositiv\t \t@LesbianARMY Ich selbst habe nie welche genommen, aber meine beste Freundin schon. Ich glaube, sie a\n",
      "173221\tnegativ\tnegativ\t \tWir krass ihr mir hier alle immer aus der Seele sprecht. Aber ich werde das nie so schön formulieren\n",
      "170739\tpositiv\tnegativ\tX\tomg ich hab twitter für mich discovered. jetzt aber husch ab ins bett sonst rammelts morgen noch meh\n",
      "205302\tpositiv\tnegativ\tX\t@nprncbl @danielakolbe @spdbt @cducsubt sonstiger Vertrag, da niemand irgendwas unterschrieb, geschw\n",
      "174730\tnegativ\tnegativ\t \tIch lese derzeit viel darüber, dass der Virus in den nächsten Monaten etwas weniger gefährlich sei, \n",
      "34808\tnegativ\tnegativ\t \t@Angsthschen4711 @Nuryeve4real ... Erwachsenengefühl, betone ich! Obwohl wir es v.a. an den Kleinen \n",
      "186335\tpositiv\tpositiv\t \t@kei_dynamite Hach ich liebe deine tägliche Portion nächsten Liebe die du immer verteilst 🤣❤️❤️❤️\n",
      "121452\tpositiv\tpositiv\t \t@vodka_ismywater die Persönlichkeit verfestigt sich meist erst später richtig, aber ich verstehe was\n",
      "204006\tpositiv\tpositiv\t \t@guerillagirl_ Voll! Fände auch adopt a sheep gut. Eines, dem man extra Kräuter bringt oder mal eine\n",
      "142907\tpositiv\tpositiv\t \tHeiß erwartetes Lego für den Bau der Stadt ist da!!! \\o/\n",
      "201154\tpositiv\tpositiv\t \t@RudolfIgel @fhorntweets @florianklenk @sebastiankurz Der nächste Balkon Keppler - sicher auch Virol\n",
      "175817\tpositiv\tnegativ\tX\t#CoronaKrise..Alle fordern Zusammenhalt und Hilfe, Verzicht. Warum verzichtet der #MerkelStaatsrundf\n",
      "111426\tpositiv\tpositiv\t \t@TruemmerPueppi So? Danke schön! Das Frühstuck beschert sich weil ich keinen Appetit mehr habe. Anso\n",
      "152632\tpositiv\tpositiv\t \tGeil die smelly Schwänze lutschen\n",
      "17832\tpositiv\tpositiv\t \tDu kannst meine Designs auf vielen Produkten kaufen. Unterstütz mich auf Redbubble #RBandME:  https:\n",
      "109844\tnegativ\tnegativ\t \t@RonjaJansen @ixistenz Liebe Ronja, Der Staat würde es schlicht nicht auf die Reihe kriegen.  Die Ba\n",
      "114424\tnegativ\tnegativ\t \t@Hufchen2 @Stephanie291091 Echt? Mit welcher Begründung denn? Unsere hat nur Ratschläge gegeben: Bau\n",
      "67333\tpositiv\tpositiv\t \tI want...  a Pokémon fleeece blanket so bad... don’t let me spend... 40-60$ on a Pokémon fleece blan\n",
      "25018\tpositiv\tpositiv\t \tGroße Freude! 🧡heute wurde der ROLEMODELS Podcast von den Co-Foundern Isa Sonnenfeld und David Noël \n",
      "136562\tpositiv\tpositiv\t \tSpitze, dass Ihr unsere Idee teilt, Leipziger Betriebe in dieser herausfordernden Zeit zu unterstütz\n",
      "205895\tnegativ\tnegativ\t \t@schokohuetchen Nächstes Problem: nur noch 2 Eier da 😱\n",
      "184784\tpositiv\tnegativ\tX\tIch find's verrückt, wie lange mein Liebster teilweise schläft. 😅 Aber irgendwie ist etwas Zeit morg\n",
      "82024\tnegativ\tnegativ\t \t@Chrissi_Closs @Alf_Moeller @mirkoslatarow Von einem Kindeswohl kann man bei ihrer Erziehung wohl eh\n",
      "14576\tpositiv\tpositiv\t \tNeues vom #DFB \"     U 20: Tickets für Länderspiel in Erfurt ab sofort erhältlich     \" https://t.co\n",
      "40342\tnegativ\tnegativ\t \t@Ironson10 @tagesschau Nö. Demokratie schützen, AfD verbieten!\n",
      "38606\tnegativ\tnegativ\t \tunterstellt. Bei aller berechtigten Kritik u Empörung über die  schockierenden Taten in #Hanau, #Hal\n",
      "198756\tnegativ\tnegativ\t \t@KoffaKoester Nächsten Donnerstag ist wieder #Rudelbildung. Ist auch langweilig aber bietet Halt.\n",
      "167804\tpositiv\tpositiv\t \tBateria Sony NPBG1- NPFG1 Original https://t.co/U4cYmOn5ZJ https://t.co/e1duY6ETgE\n",
      "200084\tnegativ\tnegativ\t \t@EnderkurArt It's really not that hard haha the hardest I can think of right now would be Donaudampf\n",
      "57102\tpositiv\tpositiv\t \tWieder ein #Falschparker in #Köln in Von-Quadt-Straße: #WegDa! So schön ist Ihr Auto auch nicht, das\n",
      "23407\tpositiv\tnegativ\tX\tIch bin rechts. Mehr rechts als links rechts und mitte rechts, sowie mitte links und links, aber wen\n",
      "49716\tpositiv\tnegativ\tX\t@norbertghofer Bei der Bundespräsidentenwahl hatte ich für sie gestimmt. Aber in dem Zustand in der \n",
      "58705\tnegativ\tnegativ\t \tIch respektiere übrigens euren Einsatz und eure Hoffnung, aber ich bin ehrlich der Meinung, dass Pro\n",
      "199205\tpositiv\tpositiv\t \t@LayaliMistress Knie vor ihnen nieder meine GÖTTIN und bitte sie ihre geilen Stiefel sauber lecken z\n",
      "42355\tpositiv\tpositiv\t \t@OemerKu Genau sie ist verheiratet, privat Account.  Z.b mein Cousin ist Geschäftsmann und er hat vi\n",
      "148785\tnegativ\tnegativ\t \t#Deutschland2020: Nicht nur #Hochschulen müssen schnell wissen, woran sie sind. Ganz 🇩🇪 steht! Bedro\n",
      "23089\tnegativ\tnegativ\t \tStream On  schaut gernen vorbei und gibt Liebe League of Legends I Aller anfang ist schwer [GER] htt\n",
      "163938\tpositiv\tnegativ\tX\t. . . und wir gehen #gema1nsam mit! 💪🌹 Solidarische Grüße zum 1. Mai an alle! #SolidarischNichtAllei\n",
      "72223\tpositiv\tpositiv\t \t@kinderpsych @IsabelVillalon1 zumindest der Vollständigkeit wegen hier noch die vermutliche Quelle, \n",
      "179656\tpositiv\tnegativ\tX\thttps://t.co/R8EsjjzXpn  Früher, als Regierungsgeschäfte noch rustikaler geführt wurden …\n",
      "40042\tpositiv\tpositiv\t \t@QuellderFreude Grüße zurück und ein schönes Wochenende 😎🥰\n",
      "68236\tnegativ\tnegativ\t \t#Lathen - Unbekannte brechen Schloss von SB-Hochdruckreiniger an der Hafenstraße auf https://t.co/Qk\n",
      "39431\tnegativ\tnegativ\t \tFühlt ihr euch angegriffen nur weil ihr nicht dauernd attackiert und bedroht werdet von Nazis?   \"We\n",
      "28360\tpositiv\tpositiv\t \tNEU 🔥 #promotionjob #messehostess • Toller JOB! - Internorga 2020, Hamburg • Für die o.g. Messe such\n",
      "5204\tpositiv\tpositiv\t \tNa- wer war gestern närrisch?  Ein paar von uns waren im Zelt, auf der Königswiese in GE, dabei! Es \n",
      "39429\tpositiv\tnegativ\tX\t@AlexSchestag @_nasir_ahmad_ Wir reden aneinander vorbei. Sie reden v medizinischen Fachwörtern. Ich\n",
      "120941\tnegativ\tnegativ\t \t@Nishalie_ Wer kennt Apollonia Margarete, die gerne schöne Tiere nähte? Manche für ihren Bruder Frit\n",
      "80460\tnegativ\tnegativ\t \tKein Aufweichen der Elternrechte!  Das sollte sogar Links-Liberalen einleuchten (ein Widerspruch in \n",
      "186849\tnegativ\tnegativ\t \t@_jlah Hallo, ich muss mich leider korrigieren: Die U-Bahnhöfe Bamlerstraße und Universität Essen we\n",
      "63184\tnegativ\tnegativ\t \tEine Entschuldigung von den Fans gab es nicht, stattdessen wurde ausdrücklich Kritik an der doppelte\n",
      "200349\tnegativ\tnegativ\t \t@Tagesspiegel Werden diese Betten denn überhaupt gebraucht⁉️ Wir haben ja mehr Betten, als Infiziert\n",
      "142187\tpositiv\tpositiv\t \tZitat aus dem Kontext gerissen:   \"Bildung kommt von Bildschirm. Würde sie vom Buch kommen, hieße es\n",
      "86843\tpositiv\tnegativ\tX\t@Gemmel08140381 @Ragna_roekr @welt Das ungarische Volk hat in seiner Geschichte leidvoll erfahren mü\n",
      "36676\tpositiv\tpositiv\t \t@SchwabbelTown @HermanTheDoctor @Gammalunatic @ttvnocr1ts o....ok..... danke schwabbel 😭😭😭  Ich stim\n",
      "204776\tpositiv\tpositiv\t \t@_LilliFischer Thunfisch + Zwiebeln, gehackten Knoblauch, Oregano, Basilikum + was Chili in die Toma\n",
      "130076\tpositiv\tnegativ\tX\tDa jeder Mensch bekanntlich nur einmal sterben kann, ist 2020 ist eine große Abnahme der #Influenza \n",
      "54284\tnegativ\tnegativ\t \tEntweder man liebt oder hasst es: das E-Auto. In unserer kommenden Sendung (Mo., 2. März, 22.05 Uhr)\n",
      "176331\tnegativ\tpositiv\tX\tcamel active Börse quer klein RFID SAFE 253 702 Item number: 118253702-29 Vendor: https://t.co/T7dCM\n",
      "92245\tpositiv\tnegativ\tX\t@AnthrAzith @Ralf_Stegner Nö sehe ich komplett anders. AfD rekrutiert ihre Wähler aus ehemals Nichtw\n",
      "88693\tpositiv\tnegativ\tX\t@cityamfenster @iMarioR Ach die! Mich hat dieses selten große Dummweib geblockt, nur weil ich sie da\n",
      "102111\tpositiv\tpositiv\t \t@ulfposh Ulf geh Porsche fahrn, Wetter ist schön. #machdieschottendicht\n",
      "176313\tpositiv\tnegativ\tX\tWie kann man sich Leute wie Loredana, Capital Bra, Shirin David, etc. geben? Auch wenn Geschmäcker v\n",
      "187354\tpositiv\tpositiv\t \t@loehwe Ich dachte, damit es nicht ganz so asi ist, sich alleine zu betrinken... Ich rede mir gern e\n",
      "47609\tpositiv\tnegativ\tX\t@tazgezwitscher Es hätte im Senat mit den Stimmen aller Mitte-Rechts-Parteien (u.a. die dagegen ware\n",
      "136740\tpositiv\tpositiv\t \tZero Trust wirft die herkömmlichen Sichtweisen auf Netzwerke &amp; Security über den Haufen und biet\n",
      "136942\tpositiv\tpositiv\t \tWegen der Coronavirus-Krise verlängert Volkswagen seine Produktionspause um weitere 5 Tage. Diese Na\n",
      "23761\tpositiv\tpositiv\t \tBundesverband Informationswirtschaft, Telekommunikation und neue Medien e.V. (BITKOM): Markt rund um\n",
      "174552\tpositiv\tpositiv\t \t.o ja super! :))) mir gefällt der erste neue Mia eh.. #Mai!!!\n",
      "129084\tpositiv\tpositiv\t \tÇin zulmüne maruz kalan Uygur halkı için imzala. Chinesische Zwangslager: Die Schweiz darf sich nich\n",
      "53548\tpositiv\tpositiv\t \tSie wohnen in der Nähe von Leipzig? Dann schauen Sie sich mal diesen Job an!\n",
      "155567\tpositiv\tnegativ\tX\t\"Junge Menschen trifft Corona besonders hart\"  Vermutlich wird ihnen von 20 Leichenwagen*Innen vor d\n",
      "129845\tnegativ\tnegativ\t \tAjax kündigt Vertrag von leidgeplagtem Nouri https://t.co/gdkdL23ujG\n",
      "35060\tpositiv\tpositiv\t \t@GamingAnaSlut Ich warte schon auf dich süße ❤❤\n",
      "95887\tpositiv\tnegativ\tX\t@Hallaschka_HH Frau Chebli hats halt mit der Toleranz nicht so, wenn nicht Cheblis Meinung vertreten\n",
      "13514\tnegativ\tnegativ\t \t\"Eine abscheuliche und niederträchtige Mordnacht wird benutzt, um namentlich benannte Journalisten u\n",
      "197685\tnegativ\tnegativ\t \ttb wo ich dachte meine beziehung ist nur ein drogentrip u ich bilde mir alles ein oder dass mein fre\n",
      "93751\tnegativ\tnegativ\t \t@Anpatzer Der nächste @sebastiankurz der unschuldige, frierende Menschen für seine Politik missbrauc\n",
      "155978\tpositiv\tnegativ\tX\t@HannesHauer @mic_ung @StefanHechl natürlich dauerts, wenn jeder Bund dann noch jede Unterorganisati\n",
      "115344\tpositiv\tpositiv\t \t@mix_yoshi Och nö😱 Alles gute🐾\n",
      "190152\tpositiv\tpositiv\t \t@creenii Ich würde ihn sooo gerne nehmen!!😍 Er sieht einfach so schön und flauschig aus!🥺  Hoffentli\n",
      "95767\tpositiv\tpositiv\t \t@uzy97 Bruder, Glückwunsch auch wenns schön lange her ist. Inshallah deine Familie bleibt für immer \n",
      "93887\tpositiv\tnegativ\tX\t@realeyes_Oo @Bluminho @ADFC_MS @WN_Redaktion @hgrau @muenster_de @CDUMuenster This. Lieber @ADFC_MS\n",
      "64290\tnegativ\tnegativ\t \t… es ist wieder soweit … der März fängt an! … der kleine März, bevor der Frühling ausbricht 😁 …  Măr\n",
      "207725\tpositiv\tnegativ\tX\t261. Im Normalfall geht es mir gut.   262. Ich hatte noch nie finanzielle Sorgen.   263. Ich mach ne\n",
      "110107\tnegativ\tnegativ\t \t@Emillota 😳 Wer schreibt denn bitte SO ‘N DERBEN Mist ins Netz? Und WER bitte GLAUBT an sowas?  Ich \n",
      "128717\tpositiv\tpositiv\t \tWenn da bald nichts Positives kommt, dann hamma an Crash. Das will doch unsere super Volksvertretung\n",
      "9366\tnegativ\tnegativ\t \tIch habe Instagram geöffnet Und musste feststellen Das weder ich Noch meine Freund:Innen Wirklich sc\n",
      "32540\tpositiv\tpositiv\t \t@monikaturyna @pahei @McGeiz @SP_Wien Verdienen dort Kindergartenpädagogen nichts und liegen auch di\n",
      "\n",
      "Genauigkeit: 0.76\n"
     ]
    },
    {
     "data": {
      "image/png": "[encoded data removed]",
      "text/plain": [
       "<Figure size 432x288 with 1 Axes>"
      ]
     },
     "metadata": {},
     "output_type": "display_data"
    }
   ],
   "source": [
    "mf.supervised_classifier(train_sample, tweets_copy, nbclassifier, labels) # On Train"
   ]
  },
  {
   "cell_type": "markdown",
   "metadata": {},
   "source": [
    "#### Unüberwachter Klassifikator"
   ]
  },
  {
   "cell_type": "markdown",
   "metadata": {},
   "source": [
    "[Zurück zur unüberwachten Klassifikation](#3.2.2-Unüberwachte-Klassifikation)"
   ]
  },
  {
   "cell_type": "markdown",
   "metadata": {},
   "source": [
    "Welche Stimmung drückt unser negatives Beispiel nach Vorhersage der unüberwachten Klassifizierung aus?"
   ]
  },
  {
   "cell_type": "code",
   "execution_count": 117,
   "metadata": {},
   "outputs": [
    {
     "data": {
      "text/plain": [
       "'negativ'"
      ]
     },
     "execution_count": 117,
     "metadata": {},
     "output_type": "execute_result"
    }
   ],
   "source": [
    "labels[kmclusterer.classify(padding(vectorize((negative.split()))))]"
   ]
  },
  {
   "cell_type": "markdown",
   "metadata": {},
   "source": [
    "Welche Stimmung drückt unser positives Beispiel nach Vorhersage der unüberwachten Klassifizierung aus?"
   ]
  },
  {
   "cell_type": "code",
   "execution_count": 118,
   "metadata": {},
   "outputs": [
    {
     "data": {
      "text/plain": [
       "'positiv'"
      ]
     },
     "execution_count": 118,
     "metadata": {},
     "output_type": "execute_result"
    }
   ],
   "source": [
    "labels[kmclusterer.classify(padding(vectorize((positive.split()))))]"
   ]
  },
  {
   "cell_type": "markdown",
   "metadata": {},
   "source": [
    "Wie schlägt sich unser unüberwachter Klassifikator im Detail? Dafür klassifizieren 100 zufällig ausgewählte Tweets über die `unsupervised_classifier()` Funktion."
   ]
  },
  {
   "cell_type": "code",
   "execution_count": 119,
   "metadata": {},
   "outputs": [
    {
     "name": "stdout",
     "output_type": "stream",
     "text": [
      "#\tSoll\tIst\t∆\tTweet\n",
      "95213\tpositiv\tpositiv\t \t@hekabeohnename Mir verdirbt es inzwischen richtig den Spaß an vielen Spielen. Nun kommt ja auch noc\n",
      "91079\tpositiv\tpositiv\t \t@RegSprecher Alles klar, das ganze Gezeter nur um die nächsten Welle durch zu bekommen.\n",
      "69917\tpositiv\tpositiv\t \t@freiheitsrechte ist es normal, dass ich zwei Monate nach Anmeldung noch keinen Lastschrifteinzug er\n",
      "53103\tnegativ\tpositiv\tX\t#Berlin Gedenkmarsch zur Erinnerung an die afrikanischen / Schwarzen Opfer von Versklavung, Kolonial\n",
      "80157\tnegativ\tpositiv\tX\tIn der Sonntags-FAZ ist zu lesen, dass das Robert Koch Institut zur Eindämmung des #coronavirus u.a.\n",
      "73045\tpositiv\tpositiv\t \tNa dann - viel \"Erfolg\" beim \"unter dem Radar\" weiter vorankommen. Hat bisher ja hervorragend funkti\n",
      "167561\tpositiv\tpositiv\t \tDie Maskerade   Immer mehr Menschen begreifen, dass die #Regierung ihnen in der #Coronakrise ein X f\n",
      "102331\tpositiv\tpositiv\t \t@_FriedrichMerz Wohl von Trump u. Johnson gelernt, Herr @_FriedrichMerz? Einfach mal steile Behauptu\n",
      "118471\tpositiv\tpositiv\t \tPS: €10,00 Stornierungskosten sind schon abgezogen. Ich bezahle gerne noch weitere €5,00, sodass die\n",
      "49961\tpositiv\tpositiv\t \t@Riki_blupp Ich eigentlich auch nicht xD Ist das erste mal seit langem das ich mir die Nägel bunt ma\n",
      "12208\tpositiv\tpositiv\t \tMit Kettenfett für Integration Fahrradwerkstatt in der Mainstraße wird wegen Erfolgs geschlossen htt\n",
      "154948\tnegativ\tnegativ\t \tDas ist erst der Anfang, Millionen Bürger werden ihr Eigentum, ihre Arbeit u Erspartes verlieren. Nu\n",
      "87566\tpositiv\tpositiv\t \t@LesbianARMY Ich selbst habe nie welche genommen, aber meine beste Freundin schon. Ich glaube, sie a\n",
      "173221\tnegativ\tnegativ\t \tWir krass ihr mir hier alle immer aus der Seele sprecht. Aber ich werde das nie so schön formulieren\n",
      "170739\tpositiv\tpositiv\t \tomg ich hab twitter für mich discovered. jetzt aber husch ab ins bett sonst rammelts morgen noch meh\n",
      "205302\tpositiv\tpositiv\t \t@nprncbl @danielakolbe @spdbt @cducsubt sonstiger Vertrag, da niemand irgendwas unterschrieb, geschw\n",
      "174730\tnegativ\tnegativ\t \tIch lese derzeit viel darüber, dass der Virus in den nächsten Monaten etwas weniger gefährlich sei, \n",
      "34808\tnegativ\tnegativ\t \t@Angsthschen4711 @Nuryeve4real ... Erwachsenengefühl, betone ich! Obwohl wir es v.a. an den Kleinen \n",
      "186335\tpositiv\tpositiv\t \t@kei_dynamite Hach ich liebe deine tägliche Portion nächsten Liebe die du immer verteilst 🤣❤️❤️❤️\n",
      "121452\tpositiv\tpositiv\t \t@vodka_ismywater die Persönlichkeit verfestigt sich meist erst später richtig, aber ich verstehe was\n",
      "204006\tpositiv\tpositiv\t \t@guerillagirl_ Voll! Fände auch adopt a sheep gut. Eines, dem man extra Kräuter bringt oder mal eine\n",
      "142907\tpositiv\tpositiv\t \tHeiß erwartetes Lego für den Bau der Stadt ist da!!! \\o/\n",
      "201154\tpositiv\tpositiv\t \t@RudolfIgel @fhorntweets @florianklenk @sebastiankurz Der nächste Balkon Keppler - sicher auch Virol\n",
      "175817\tpositiv\tpositiv\t \t#CoronaKrise..Alle fordern Zusammenhalt und Hilfe, Verzicht. Warum verzichtet der #MerkelStaatsrundf\n",
      "111426\tpositiv\tpositiv\t \t@TruemmerPueppi So? Danke schön! Das Frühstuck beschert sich weil ich keinen Appetit mehr habe. Anso\n",
      "152632\tpositiv\tpositiv\t \tGeil die smelly Schwänze lutschen\n",
      "17832\tpositiv\tpositiv\t \tDu kannst meine Designs auf vielen Produkten kaufen. Unterstütz mich auf Redbubble #RBandME:  https:\n",
      "109844\tnegativ\tpositiv\tX\t@RonjaJansen @ixistenz Liebe Ronja, Der Staat würde es schlicht nicht auf die Reihe kriegen.  Die Ba\n",
      "114424\tnegativ\tpositiv\tX\t@Hufchen2 @Stephanie291091 Echt? Mit welcher Begründung denn? Unsere hat nur Ratschläge gegeben: Bau\n",
      "67333\tpositiv\tpositiv\t \tI want...  a Pokémon fleeece blanket so bad... don’t let me spend... 40-60$ on a Pokémon fleece blan\n",
      "25018\tpositiv\tpositiv\t \tGroße Freude! 🧡heute wurde der ROLEMODELS Podcast von den Co-Foundern Isa Sonnenfeld und David Noël \n",
      "136562\tpositiv\tpositiv\t \tSpitze, dass Ihr unsere Idee teilt, Leipziger Betriebe in dieser herausfordernden Zeit zu unterstütz\n",
      "205895\tnegativ\tnegativ\t \t@schokohuetchen Nächstes Problem: nur noch 2 Eier da 😱\n",
      "184784\tpositiv\tpositiv\t \tIch find's verrückt, wie lange mein Liebster teilweise schläft. 😅 Aber irgendwie ist etwas Zeit morg\n",
      "82024\tnegativ\tpositiv\tX\t@Chrissi_Closs @Alf_Moeller @mirkoslatarow Von einem Kindeswohl kann man bei ihrer Erziehung wohl eh\n",
      "14576\tpositiv\tpositiv\t \tNeues vom #DFB \"     U 20: Tickets für Länderspiel in Erfurt ab sofort erhältlich     \" https://t.co\n",
      "40342\tnegativ\tpositiv\tX\t@Ironson10 @tagesschau Nö. Demokratie schützen, AfD verbieten!\n",
      "38606\tnegativ\tnegativ\t \tunterstellt. Bei aller berechtigten Kritik u Empörung über die  schockierenden Taten in #Hanau, #Hal\n",
      "198756\tnegativ\tpositiv\tX\t@KoffaKoester Nächsten Donnerstag ist wieder #Rudelbildung. Ist auch langweilig aber bietet Halt.\n",
      "167804\tpositiv\tpositiv\t \tBateria Sony NPBG1- NPFG1 Original https://t.co/U4cYmOn5ZJ https://t.co/e1duY6ETgE\n",
      "200084\tnegativ\tnegativ\t \t@EnderkurArt It's really not that hard haha the hardest I can think of right now would be Donaudampf\n",
      "57102\tpositiv\tpositiv\t \tWieder ein #Falschparker in #Köln in Von-Quadt-Straße: #WegDa! So schön ist Ihr Auto auch nicht, das\n",
      "23407\tpositiv\tpositiv\t \tIch bin rechts. Mehr rechts als links rechts und mitte rechts, sowie mitte links und links, aber wen\n",
      "49716\tpositiv\tpositiv\t \t@norbertghofer Bei der Bundespräsidentenwahl hatte ich für sie gestimmt. Aber in dem Zustand in der \n",
      "58705\tnegativ\tpositiv\tX\tIch respektiere übrigens euren Einsatz und eure Hoffnung, aber ich bin ehrlich der Meinung, dass Pro\n",
      "199205\tpositiv\tpositiv\t \t@LayaliMistress Knie vor ihnen nieder meine GÖTTIN und bitte sie ihre geilen Stiefel sauber lecken z\n",
      "42355\tpositiv\tpositiv\t \t@OemerKu Genau sie ist verheiratet, privat Account.  Z.b mein Cousin ist Geschäftsmann und er hat vi\n",
      "148785\tnegativ\tpositiv\tX\t#Deutschland2020: Nicht nur #Hochschulen müssen schnell wissen, woran sie sind. Ganz 🇩🇪 steht! Bedro\n",
      "23089\tnegativ\tpositiv\tX\tStream On  schaut gernen vorbei und gibt Liebe League of Legends I Aller anfang ist schwer [GER] htt\n",
      "163938\tpositiv\tpositiv\t \t. . . und wir gehen #gema1nsam mit! 💪🌹 Solidarische Grüße zum 1. Mai an alle! #SolidarischNichtAllei\n",
      "72223\tpositiv\tpositiv\t \t@kinderpsych @IsabelVillalon1 zumindest der Vollständigkeit wegen hier noch die vermutliche Quelle, \n",
      "179656\tpositiv\tpositiv\t \thttps://t.co/R8EsjjzXpn  Früher, als Regierungsgeschäfte noch rustikaler geführt wurden …\n",
      "40042\tpositiv\tpositiv\t \t@QuellderFreude Grüße zurück und ein schönes Wochenende 😎🥰\n",
      "68236\tnegativ\tnegativ\t \t#Lathen - Unbekannte brechen Schloss von SB-Hochdruckreiniger an der Hafenstraße auf https://t.co/Qk\n",
      "39431\tnegativ\tpositiv\tX\tFühlt ihr euch angegriffen nur weil ihr nicht dauernd attackiert und bedroht werdet von Nazis?   \"We\n",
      "28360\tpositiv\tpositiv\t \tNEU 🔥 #promotionjob #messehostess • Toller JOB! - Internorga 2020, Hamburg • Für die o.g. Messe such\n",
      "5204\tpositiv\tpositiv\t \tNa- wer war gestern närrisch?  Ein paar von uns waren im Zelt, auf der Königswiese in GE, dabei! Es \n",
      "39429\tpositiv\tpositiv\t \t@AlexSchestag @_nasir_ahmad_ Wir reden aneinander vorbei. Sie reden v medizinischen Fachwörtern. Ich\n",
      "120941\tnegativ\tpositiv\tX\t@Nishalie_ Wer kennt Apollonia Margarete, die gerne schöne Tiere nähte? Manche für ihren Bruder Frit\n",
      "80460\tnegativ\tnegativ\t \tKein Aufweichen der Elternrechte!  Das sollte sogar Links-Liberalen einleuchten (ein Widerspruch in \n",
      "186849\tnegativ\tnegativ\t \t@_jlah Hallo, ich muss mich leider korrigieren: Die U-Bahnhöfe Bamlerstraße und Universität Essen we\n",
      "63184\tnegativ\tnegativ\t \tEine Entschuldigung von den Fans gab es nicht, stattdessen wurde ausdrücklich Kritik an der doppelte\n",
      "200349\tnegativ\tnegativ\t \t@Tagesspiegel Werden diese Betten denn überhaupt gebraucht⁉️ Wir haben ja mehr Betten, als Infiziert\n",
      "142187\tpositiv\tpositiv\t \tZitat aus dem Kontext gerissen:   \"Bildung kommt von Bildschirm. Würde sie vom Buch kommen, hieße es\n",
      "86843\tpositiv\tpositiv\t \t@Gemmel08140381 @Ragna_roekr @welt Das ungarische Volk hat in seiner Geschichte leidvoll erfahren mü\n",
      "36676\tpositiv\tpositiv\t \t@SchwabbelTown @HermanTheDoctor @Gammalunatic @ttvnocr1ts o....ok..... danke schwabbel 😭😭😭  Ich stim\n",
      "204776\tpositiv\tpositiv\t \t@_LilliFischer Thunfisch + Zwiebeln, gehackten Knoblauch, Oregano, Basilikum + was Chili in die Toma\n",
      "130076\tpositiv\tpositiv\t \tDa jeder Mensch bekanntlich nur einmal sterben kann, ist 2020 ist eine große Abnahme der #Influenza \n",
      "54284\tnegativ\tpositiv\tX\tEntweder man liebt oder hasst es: das E-Auto. In unserer kommenden Sendung (Mo., 2. März, 22.05 Uhr)\n",
      "176331\tnegativ\tnegativ\t \tcamel active Börse quer klein RFID SAFE 253 702 Item number: 118253702-29 Vendor: https://t.co/T7dCM\n",
      "92245\tpositiv\tpositiv\t \t@AnthrAzith @Ralf_Stegner Nö sehe ich komplett anders. AfD rekrutiert ihre Wähler aus ehemals Nichtw\n",
      "88693\tpositiv\tpositiv\t \t@cityamfenster @iMarioR Ach die! Mich hat dieses selten große Dummweib geblockt, nur weil ich sie da\n",
      "102111\tpositiv\tpositiv\t \t@ulfposh Ulf geh Porsche fahrn, Wetter ist schön. #machdieschottendicht\n",
      "176313\tpositiv\tpositiv\t \tWie kann man sich Leute wie Loredana, Capital Bra, Shirin David, etc. geben? Auch wenn Geschmäcker v\n",
      "187354\tpositiv\tpositiv\t \t@loehwe Ich dachte, damit es nicht ganz so asi ist, sich alleine zu betrinken... Ich rede mir gern e\n",
      "47609\tpositiv\tpositiv\t \t@tazgezwitscher Es hätte im Senat mit den Stimmen aller Mitte-Rechts-Parteien (u.a. die dagegen ware\n",
      "136740\tpositiv\tpositiv\t \tZero Trust wirft die herkömmlichen Sichtweisen auf Netzwerke &amp; Security über den Haufen und biet\n",
      "136942\tpositiv\tpositiv\t \tWegen der Coronavirus-Krise verlängert Volkswagen seine Produktionspause um weitere 5 Tage. Diese Na\n",
      "23761\tpositiv\tpositiv\t \tBundesverband Informationswirtschaft, Telekommunikation und neue Medien e.V. (BITKOM): Markt rund um\n",
      "174552\tpositiv\tpositiv\t \t.o ja super! :))) mir gefällt der erste neue Mia eh.. #Mai!!!\n",
      "129084\tpositiv\tpositiv\t \tÇin zulmüne maruz kalan Uygur halkı için imzala. Chinesische Zwangslager: Die Schweiz darf sich nich\n",
      "53548\tpositiv\tpositiv\t \tSie wohnen in der Nähe von Leipzig? Dann schauen Sie sich mal diesen Job an!\n",
      "155567\tpositiv\tpositiv\t \t\"Junge Menschen trifft Corona besonders hart\"  Vermutlich wird ihnen von 20 Leichenwagen*Innen vor d\n",
      "129845\tnegativ\tnegativ\t \tAjax kündigt Vertrag von leidgeplagtem Nouri https://t.co/gdkdL23ujG\n",
      "35060\tpositiv\tpositiv\t \t@GamingAnaSlut Ich warte schon auf dich süße ❤❤\n",
      "95887\tpositiv\tpositiv\t \t@Hallaschka_HH Frau Chebli hats halt mit der Toleranz nicht so, wenn nicht Cheblis Meinung vertreten\n",
      "13514\tnegativ\tnegativ\t \t\"Eine abscheuliche und niederträchtige Mordnacht wird benutzt, um namentlich benannte Journalisten u\n",
      "197685\tnegativ\tpositiv\tX\ttb wo ich dachte meine beziehung ist nur ein drogentrip u ich bilde mir alles ein oder dass mein fre\n",
      "93751\tnegativ\tpositiv\tX\t@Anpatzer Der nächste @sebastiankurz der unschuldige, frierende Menschen für seine Politik missbrauc\n",
      "155978\tpositiv\tpositiv\t \t@HannesHauer @mic_ung @StefanHechl natürlich dauerts, wenn jeder Bund dann noch jede Unterorganisati\n",
      "115344\tpositiv\tpositiv\t \t@mix_yoshi Och nö😱 Alles gute🐾\n",
      "190152\tpositiv\tpositiv\t \t@creenii Ich würde ihn sooo gerne nehmen!!😍 Er sieht einfach so schön und flauschig aus!🥺  Hoffentli\n",
      "95767\tpositiv\tpositiv\t \t@uzy97 Bruder, Glückwunsch auch wenns schön lange her ist. Inshallah deine Familie bleibt für immer \n",
      "93887\tpositiv\tpositiv\t \t@realeyes_Oo @Bluminho @ADFC_MS @WN_Redaktion @hgrau @muenster_de @CDUMuenster This. Lieber @ADFC_MS\n",
      "64290\tnegativ\tnegativ\t \t… es ist wieder soweit … der März fängt an! … der kleine März, bevor der Frühling ausbricht 😁 …  Măr\n",
      "207725\tpositiv\tpositiv\t \t261. Im Normalfall geht es mir gut.   262. Ich hatte noch nie finanzielle Sorgen.   263. Ich mach ne\n",
      "110107\tnegativ\tnegativ\t \t@Emillota 😳 Wer schreibt denn bitte SO ‘N DERBEN Mist ins Netz? Und WER bitte GLAUBT an sowas?  Ich \n",
      "128717\tpositiv\tpositiv\t \tWenn da bald nichts Positives kommt, dann hamma an Crash. Das will doch unsere super Volksvertretung\n",
      "9366\tnegativ\tpositiv\tX\tIch habe Instagram geöffnet Und musste feststellen Das weder ich Noch meine Freund:Innen Wirklich sc\n",
      "32540\tpositiv\tpositiv\t \t@monikaturyna @pahei @McGeiz @SP_Wien Verdienen dort Kindergartenpädagogen nichts und liegen auch di\n",
      "\n",
      "Genauigkeit: 0.84\n"
     ]
    },
    {
     "data": {
      "image/png": "[encoded data removed]",
      "text/plain": [
       "<Figure size 432x288 with 1 Axes>"
      ]
     },
     "metadata": {},
     "output_type": "display_data"
    }
   ],
   "source": [
    "mf.unsupervised_classifier(train_sample, tweets_copy, kmclusterer, labels) # On Train"
   ]
  },
  {
   "cell_type": "markdown",
   "metadata": {},
   "source": [
    "<div style=\"background-color: #150458; padding: 5px;\"></div>\n",
    "\n",
    "## 5. Abschluss"
   ]
  },
  {
   "cell_type": "markdown",
   "metadata": {},
   "source": [
    "[Zurück zur Übersicht](#Lernmodul-zur-Verarbeitung-und-Analyse-von-Textdaten)"
   ]
  },
  {
   "cell_type": "markdown",
   "metadata": {},
   "source": [
    "Zum Abschluss des Lernmoduls folgen einige Verständnisfragen, bevor deine Gesamtpunktzahl errechnet wird..."
   ]
  },
  {
   "cell_type": "markdown",
   "metadata": {},
   "source": [
    "**Aufgabe: Welche Eingabe benötigt der überwachte `nbclassifier` Klassifikator?**"
   ]
  },
  {
   "cell_type": "code",
   "execution_count": 120,
   "metadata": {},
   "outputs": [],
   "source": [
    "texte_lm.show_task(501)"
   ]
  },
  {
   "cell_type": "markdown",
   "metadata": {},
   "source": [
    "**Aufgabe: Welche Eingabe benötigt der unüberwachte `kmclusterer` Klassifikator?**"
   ]
  },
  {
   "cell_type": "code",
   "execution_count": 121,
   "metadata": {},
   "outputs": [],
   "source": [
    "texte_lm.show_task(502)"
   ]
  },
  {
   "cell_type": "markdown",
   "metadata": {},
   "source": [
    "**Ergebnis:**\n",
    "\n",
    "Du hast folgende Punktzahl erreicht..."
   ]
  },
  {
   "cell_type": "code",
   "execution_count": 122,
   "metadata": {},
   "outputs": [
    {
     "data": {
      "text/plain": [
       "0.0"
      ]
     },
     "execution_count": 122,
     "metadata": {},
     "output_type": "execute_result"
    }
   ],
   "source": [
    "texte_lm.get_score()"
   ]
  },
  {
   "cell_type": "markdown",
   "metadata": {},
   "source": [
    "**Zusammenfassung:**\n",
    "\n",
    "Das vergangene Lernmodul hat einen Einblick in die Texterkennung als Teilgebiet des _NLP_ gegeben. Im Zuge einer Stimmungsanalyse von aktuellen Beiträgen auf Twitter, haben wir zunächst Rohdaten beschafft und erkundet. Irrelevante Inhalte wurden auf Basis von Sonderzeichen, URL-Schema und der Länge des resultierenden Beitrags, identifiziert und verworfen, sodass die Rohdaten als nächstes in ein Modell eingebettet wurden. Dieses Modell klassifizierte die Daten entweder überwacht oder unüberwacht, was verschiedene Einbettungsschritte hervorrief. Letztendlich konnte sowohl der überwachte als auch der unüberwachte Klassifikator die Stimmung eines Tweets einschätzen und vorhersagen."
   ]
  },
  {
   "cell_type": "markdown",
   "metadata": {},
   "source": [
    "**Glossar:**\n",
    "\n",
    "* NLP (Natural Language Processing)\n",
    "    * Verarbeitung menschlicher Sprache\n",
    "* NLTK (Natural Language ToolKit)\n",
    "    * Python-Bibliothek für die Verarbeitung menschlicher Sprache"
   ]
  },
  {
   "cell_type": "markdown",
   "metadata": {},
   "source": [
    "**Weiterführende Lernmodule:**\n",
    "\n",
    "- [Lernmodul zu Datamining mit Scikit Learn](https://projectbase.medien.hs-duesseldorf.de/eild.nrw-module/lernmodul-scikit)"
   ]
  },
  {
   "cell_type": "markdown",
   "metadata": {},
   "source": [
    "**Weiterführende Inhalte:**\n",
    "\n",
    "* Leitfäden\n",
    "    * [Cookbook by NLTK](https://www.nltk.org/book/)\n",
    "    * [Recurrent neural networks by TensorFlow](https://www.tensorflow.org/guide/keras/rnn?hl=en)\n",
    "    * [Text classification by Google Developers](https://developers.google.com/machine-learning/guides/text-classification)\n",
    "* Vektorisierung\n",
    "    * [TextBlob](https://textblob.readthedocs.io/en/dev/)\n",
    "    * [Word2Vec](https://radimrehurek.com/gensim/models/word2vec.html)\n",
    "* Tutorials\n",
    "    * [Basic text classification by TensorFlow](https://www.tensorflow.org/tutorials/keras/text_classification?hl=en)"
   ]
  },
  {
   "cell_type": "markdown",
   "metadata": {},
   "source": [
    "**Referenzen:**\n",
    "\n",
    "<a id=\"1\">[1]</a> Nane Kratzke. (2020). Monthly Samples of German Tweets (Version 2020-04) [Data set]. Zenodo. http://doi.org/10.5281/zenodo.3783478\n",
    "\n",
    "<a id=\"2\">[2]</a> R. Remus, U. Quasthoff & G. Heyer: SentiWS - a Publicly Available German-language Resource for Sentiment Analysis. In: Proceedings of the 7th International Language Resources and Evaluation (LREC'10), pp. 1168-1171, 2010"
   ]
  }
 ],
 "metadata": {
  "kernelspec": {
   "display_name": "Python 3",
   "language": "python",
   "name": "python3"
  },
  "language_info": {
   "codemirror_mode": {
    "name": "ipython",
    "version": 3
   },
   "file_extension": ".py",
   "mimetype": "text/x-python",
   "name": "python",
   "nbconvert_exporter": "python",
   "pygments_lexer": "ipython3",
   "version": "3.7.0"
  }
 },
 "nbformat": 4,
 "nbformat_minor": 4
}
