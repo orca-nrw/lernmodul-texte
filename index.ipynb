{
 "metadata": {
  "language_info": {
   "codemirror_mode": {
    "name": "ipython",
    "version": 3
   },
   "file_extension": ".py",
   "mimetype": "text/x-python",
   "name": "python",
   "nbconvert_exporter": "python",
   "pygments_lexer": "ipython3",
   "version": "3.7.0-final"
  },
  "orig_nbformat": 2,
  "kernelspec": {
   "name": "python3",
   "display_name": "Python 3"
  }
 },
 "nbformat": 4,
 "nbformat_minor": 2,
 "cells": [
  {
   "source": [
    "# Lernmodul Texte"
   ],
   "cell_type": "markdown",
   "metadata": {}
  },
  {
   "source": [
    "1. Einführung\n",
    "2. Daten\n",
    "3. Modell\n",
    "4. Verwendung\n",
    "5. Abschluss"
   ],
   "cell_type": "markdown",
   "metadata": {}
  },
  {
   "source": [
    "## 1. Einführung"
   ],
   "cell_type": "markdown",
   "metadata": {}
  },
  {
   "source": [
    "Daten -> Modell -> Verwendung\n",
    "\n",
    "Eingabe -> Modell -> Ausgabe\n",
    "\n",
    "Merkmale -> Modell -> Vorhersage"
   ],
   "cell_type": "markdown",
   "metadata": {}
  },
  {
   "source": [
    "### 1.1 Motivation"
   ],
   "cell_type": "markdown",
   "metadata": {}
  },
  {
   "source": [
    "### 1.2 Voraussetzungen"
   ],
   "cell_type": "markdown",
   "metadata": {}
  },
  {
   "cell_type": "code",
   "execution_count": 1,
   "metadata": {},
   "outputs": [],
   "source": [
    "import pandas as pd\n",
    "import matplotlib.pyplot as plt"
   ]
  },
  {
   "source": [
    "## 2. Daten"
   ],
   "cell_type": "markdown",
   "metadata": {}
  },
  {
   "source": [
    "_Datensatz_ - Eine Sammlung von Beispielen\n",
    "\n",
    "_Beispiel_ - Eine Sammlung von Merkmalen\n",
    "\n",
    "_Merkmal_ - Ein numerischer oder symbolischer Wert\n"
   ],
   "cell_type": "markdown",
   "metadata": {}
  },
  {
   "source": [
    "### 2.1 Daten beschaffen"
   ],
   "cell_type": "markdown",
   "metadata": {}
  },
  {
   "cell_type": "code",
   "execution_count": 2,
   "metadata": {},
   "outputs": [],
   "source": [
    "tweets_biden = pd.read_csv('./tweets_biden_small.csv', lineterminator='\\n', parse_dates=True)"
   ]
  },
  {
   "source": [
    "### 2.2 Daten erkunden"
   ],
   "cell_type": "markdown",
   "metadata": {}
  },
  {
   "cell_type": "code",
   "execution_count": 3,
   "metadata": {},
   "outputs": [
    {
     "output_type": "stream",
     "name": "stdout",
     "text": [
      "Wie sieht der Datensatz aus?\n"
     ]
    },
    {
     "output_type": "execute_result",
     "data": {
      "text/plain": [
       "            created_at      tweet_id  \\\n",
       "0  2020-10-15 00:00:01  1.316529e+18   \n",
       "1  2020-10-15 00:00:18  1.316529e+18   \n",
       "2  2020-10-15 00:00:20  1.316529e+18   \n",
       "3  2020-10-15 00:00:21  1.316529e+18   \n",
       "4  2020-10-15 00:00:22  1.316529e+18   \n",
       "\n",
       "                                               tweet  likes  retweet_count  \\\n",
       "0  #Elecciones2020 | En #Florida: #JoeBiden dice ...    0.0            0.0   \n",
       "1  #HunterBiden #HunterBidenEmails #JoeBiden #Joe...    0.0            0.0   \n",
       "2  @IslandGirlPRV @BradBeauregardJ @MeidasTouch T...    0.0            0.0   \n",
       "3  @chrislongview Watching and setting dvr. Let’s...    0.0            0.0   \n",
       "4  #censorship #HunterBiden #Biden #BidenEmails #...    1.0            0.0   \n",
       "\n",
       "               source       user_id           user_name user_screen_name  \\\n",
       "0           TweetDeck  3.606665e+08  El Sol Latino News  elsollatinonews   \n",
       "1    Twitter for iPad  8.099044e+08         Cheri A. 🇺🇸     Biloximeemaw   \n",
       "2     Twitter Web App  3.494182e+09          Flag Waver      Flag_Wavers   \n",
       "3  Twitter for iPhone  8.242596e+17       Michelle Ferg    MichelleFerg4   \n",
       "4     Twitter Web App  1.032807e+18      the Gold State    theegoldstate   \n",
       "\n",
       "                                    user_description  ...  \\\n",
       "0  🌐 Noticias de interés para latinos de la costa...  ...   \n",
       "1  Locked and loaded Meemaw. Love God, my family ...  ...   \n",
       "2                                                NaN  ...   \n",
       "3                                                NaN  ...   \n",
       "4  A Silicon Valley #independent #News #Media #St...  ...   \n",
       "\n",
       "  user_followers_count                 user_location        lat        long  \\\n",
       "0               1860.0  Philadelphia, PA / Miami, FL  25.774270  -80.193660   \n",
       "1               6628.0                           NaN        NaN         NaN   \n",
       "2               1536.0         Golden Valley Arizona  46.304036 -109.171431   \n",
       "3                 27.0                           NaN        NaN         NaN   \n",
       "4                390.0               California, USA  36.701463 -118.755997   \n",
       "\n",
       "   city                   country      continent       state state_code  \\\n",
       "0   NaN  United States of America  North America     Florida         FL   \n",
       "1   NaN                       NaN            NaN         NaN        NaN   \n",
       "2   NaN  United States of America  North America     Montana         MT   \n",
       "3   NaN                       NaN            NaN         NaN        NaN   \n",
       "4   NaN  United States of America  North America  California         CA   \n",
       "\n",
       "                    collected_at\\r  \n",
       "0            2020-10-21 00:00:00\\r  \n",
       "1  2020-10-21 00:00:00.517827283\\r  \n",
       "2  2020-10-21 00:00:01.035654566\\r  \n",
       "3  2020-10-21 00:00:01.553481849\\r  \n",
       "4  2020-10-21 00:00:02.071309132\\r  \n",
       "\n",
       "[5 rows x 21 columns]"
      ],
      "text/html": "<div>\n<style scoped>\n    .dataframe tbody tr th:only-of-type {\n        vertical-align: middle;\n    }\n\n    .dataframe tbody tr th {\n        vertical-align: top;\n    }\n\n    .dataframe thead th {\n        text-align: right;\n    }\n</style>\n<table border=\"1\" class=\"dataframe\">\n  <thead>\n    <tr style=\"text-align: right;\">\n      <th></th>\n      <th>created_at</th>\n      <th>tweet_id</th>\n      <th>tweet</th>\n      <th>likes</th>\n      <th>retweet_count</th>\n      <th>source</th>\n      <th>user_id</th>\n      <th>user_name</th>\n      <th>user_screen_name</th>\n      <th>user_description</th>\n      <th>...</th>\n      <th>user_followers_count</th>\n      <th>user_location</th>\n      <th>lat</th>\n      <th>long</th>\n      <th>city</th>\n      <th>country</th>\n      <th>continent</th>\n      <th>state</th>\n      <th>state_code</th>\n      <th>collected_at\\r</th>\n    </tr>\n  </thead>\n  <tbody>\n    <tr>\n      <th>0</th>\n      <td>2020-10-15 00:00:01</td>\n      <td>1.316529e+18</td>\n      <td>#Elecciones2020 | En #Florida: #JoeBiden dice ...</td>\n      <td>0.0</td>\n      <td>0.0</td>\n      <td>TweetDeck</td>\n      <td>3.606665e+08</td>\n      <td>El Sol Latino News</td>\n      <td>elsollatinonews</td>\n      <td>🌐 Noticias de interés para latinos de la costa...</td>\n      <td>...</td>\n      <td>1860.0</td>\n      <td>Philadelphia, PA / Miami, FL</td>\n      <td>25.774270</td>\n      <td>-80.193660</td>\n      <td>NaN</td>\n      <td>United States of America</td>\n      <td>North America</td>\n      <td>Florida</td>\n      <td>FL</td>\n      <td>2020-10-21 00:00:00\\r</td>\n    </tr>\n    <tr>\n      <th>1</th>\n      <td>2020-10-15 00:00:18</td>\n      <td>1.316529e+18</td>\n      <td>#HunterBiden #HunterBidenEmails #JoeBiden #Joe...</td>\n      <td>0.0</td>\n      <td>0.0</td>\n      <td>Twitter for iPad</td>\n      <td>8.099044e+08</td>\n      <td>Cheri A. 🇺🇸</td>\n      <td>Biloximeemaw</td>\n      <td>Locked and loaded Meemaw. Love God, my family ...</td>\n      <td>...</td>\n      <td>6628.0</td>\n      <td>NaN</td>\n      <td>NaN</td>\n      <td>NaN</td>\n      <td>NaN</td>\n      <td>NaN</td>\n      <td>NaN</td>\n      <td>NaN</td>\n      <td>NaN</td>\n      <td>2020-10-21 00:00:00.517827283\\r</td>\n    </tr>\n    <tr>\n      <th>2</th>\n      <td>2020-10-15 00:00:20</td>\n      <td>1.316529e+18</td>\n      <td>@IslandGirlPRV @BradBeauregardJ @MeidasTouch T...</td>\n      <td>0.0</td>\n      <td>0.0</td>\n      <td>Twitter Web App</td>\n      <td>3.494182e+09</td>\n      <td>Flag Waver</td>\n      <td>Flag_Wavers</td>\n      <td>NaN</td>\n      <td>...</td>\n      <td>1536.0</td>\n      <td>Golden Valley Arizona</td>\n      <td>46.304036</td>\n      <td>-109.171431</td>\n      <td>NaN</td>\n      <td>United States of America</td>\n      <td>North America</td>\n      <td>Montana</td>\n      <td>MT</td>\n      <td>2020-10-21 00:00:01.035654566\\r</td>\n    </tr>\n    <tr>\n      <th>3</th>\n      <td>2020-10-15 00:00:21</td>\n      <td>1.316529e+18</td>\n      <td>@chrislongview Watching and setting dvr. Let’s...</td>\n      <td>0.0</td>\n      <td>0.0</td>\n      <td>Twitter for iPhone</td>\n      <td>8.242596e+17</td>\n      <td>Michelle Ferg</td>\n      <td>MichelleFerg4</td>\n      <td>NaN</td>\n      <td>...</td>\n      <td>27.0</td>\n      <td>NaN</td>\n      <td>NaN</td>\n      <td>NaN</td>\n      <td>NaN</td>\n      <td>NaN</td>\n      <td>NaN</td>\n      <td>NaN</td>\n      <td>NaN</td>\n      <td>2020-10-21 00:00:01.553481849\\r</td>\n    </tr>\n    <tr>\n      <th>4</th>\n      <td>2020-10-15 00:00:22</td>\n      <td>1.316529e+18</td>\n      <td>#censorship #HunterBiden #Biden #BidenEmails #...</td>\n      <td>1.0</td>\n      <td>0.0</td>\n      <td>Twitter Web App</td>\n      <td>1.032807e+18</td>\n      <td>the Gold State</td>\n      <td>theegoldstate</td>\n      <td>A Silicon Valley #independent #News #Media #St...</td>\n      <td>...</td>\n      <td>390.0</td>\n      <td>California, USA</td>\n      <td>36.701463</td>\n      <td>-118.755997</td>\n      <td>NaN</td>\n      <td>United States of America</td>\n      <td>North America</td>\n      <td>California</td>\n      <td>CA</td>\n      <td>2020-10-21 00:00:02.071309132\\r</td>\n    </tr>\n  </tbody>\n</table>\n<p>5 rows × 21 columns</p>\n</div>"
     },
     "metadata": {},
     "execution_count": 3
    }
   ],
   "source": [
    "print(\"Wie sieht der Datensatz aus?\")\n",
    "tweets_biden.head()"
   ]
  },
  {
   "cell_type": "code",
   "execution_count": 4,
   "metadata": {},
   "outputs": [
    {
     "output_type": "stream",
     "name": "stdout",
     "text": [
      "Wie viele Werte liegen insgesamt vor?\n"
     ]
    },
    {
     "output_type": "execute_result",
     "data": {
      "text/plain": [
       "2100"
      ]
     },
     "metadata": {},
     "execution_count": 4
    }
   ],
   "source": [
    "print(\"Wie viele Werte liegen insgesamt vor?\")\n",
    "tweets_biden.size"
   ]
  },
  {
   "cell_type": "code",
   "execution_count": 5,
   "metadata": {},
   "outputs": [
    {
     "output_type": "stream",
     "name": "stdout",
     "text": [
      "Wie viele Beispiele liegen insgesamt vor?\n"
     ]
    },
    {
     "output_type": "execute_result",
     "data": {
      "text/plain": [
       "100"
      ]
     },
     "metadata": {},
     "execution_count": 5
    }
   ],
   "source": [
    "print(\"Wie viele Beispiele liegen insgesamt vor?\")\n",
    "tweets_biden.shape[0]"
   ]
  },
  {
   "cell_type": "code",
   "execution_count": 6,
   "metadata": {},
   "outputs": [
    {
     "output_type": "stream",
     "name": "stdout",
     "text": [
      "Wie viele Werte liegen pro Beispiel vor?\n"
     ]
    },
    {
     "output_type": "execute_result",
     "data": {
      "text/plain": [
       "21"
      ]
     },
     "metadata": {},
     "execution_count": 6
    }
   ],
   "source": [
    "print(\"Wie viele Werte liegen pro Beispiel vor?\")\n",
    "tweets_biden.shape[1]"
   ]
  },
  {
   "cell_type": "code",
   "execution_count": 7,
   "metadata": {},
   "outputs": [
    {
     "output_type": "stream",
     "name": "stdout",
     "text": [
      "Welche Merkmale bzw. Wertetypen liegen vor?\n"
     ]
    },
    {
     "output_type": "execute_result",
     "data": {
      "text/plain": [
       "created_at               object\n",
       "tweet_id                float64\n",
       "tweet                    object\n",
       "likes                   float64\n",
       "retweet_count           float64\n",
       "source                   object\n",
       "user_id                 float64\n",
       "user_name                object\n",
       "user_screen_name         object\n",
       "user_description         object\n",
       "user_join_date           object\n",
       "user_followers_count    float64\n",
       "user_location            object\n",
       "lat                     float64\n",
       "long                    float64\n",
       "city                     object\n",
       "country                  object\n",
       "continent                object\n",
       "state                    object\n",
       "state_code               object\n",
       "collected_at\\r           object\n",
       "dtype: object"
      ]
     },
     "metadata": {},
     "execution_count": 7
    }
   ],
   "source": [
    "print(\"Welche Merkmale bzw. Wertetypen liegen vor?\")\n",
    "tweets_biden.dtypes"
   ]
  },
  {
   "source": [
    "print(\"Wie sehen die numerischen Wertebereiche aus?\")\n",
    "tweets_biden.describe()"
   ],
   "cell_type": "code",
   "metadata": {},
   "execution_count": 8,
   "outputs": [
    {
     "output_type": "stream",
     "name": "stdout",
     "text": [
      "Wie sehen die numerischen Wertebereiche aus?\n"
     ]
    },
    {
     "output_type": "execute_result",
     "data": {
      "text/plain": [
       "           tweet_id       likes  retweet_count       user_id  \\\n",
       "count  1.000000e+02  100.000000     100.000000  1.000000e+02   \n",
       "mean   1.316530e+18   16.790000       9.500000  4.611454e+17   \n",
       "std    4.618202e+11  102.546692      64.690639  5.771159e+17   \n",
       "min    1.316529e+18    0.000000       0.000000  1.123392e+07   \n",
       "25%    1.316530e+18    0.000000       0.000000  2.714127e+08   \n",
       "50%    1.316530e+18    0.000000       0.000000  2.932144e+09   \n",
       "75%    1.316530e+18    1.000000       1.000000  1.167090e+18   \n",
       "max    1.316531e+18  941.000000     608.000000  1.310330e+18   \n",
       "\n",
       "       user_followers_count        lat        long  \n",
       "count            100.000000  42.000000   42.000000  \n",
       "mean            1360.510000  39.082246  -69.904194  \n",
       "std             2589.434186   8.347839   50.641055  \n",
       "min                1.000000  22.279328 -122.330062  \n",
       "25%               42.000000  33.825247 -100.445882  \n",
       "50%              392.000000  39.783730  -83.539162  \n",
       "75%             1535.250000  42.443959  -74.006015  \n",
       "max            20614.000000  56.786111  114.162813  "
      ],
      "text/html": "<div>\n<style scoped>\n    .dataframe tbody tr th:only-of-type {\n        vertical-align: middle;\n    }\n\n    .dataframe tbody tr th {\n        vertical-align: top;\n    }\n\n    .dataframe thead th {\n        text-align: right;\n    }\n</style>\n<table border=\"1\" class=\"dataframe\">\n  <thead>\n    <tr style=\"text-align: right;\">\n      <th></th>\n      <th>tweet_id</th>\n      <th>likes</th>\n      <th>retweet_count</th>\n      <th>user_id</th>\n      <th>user_followers_count</th>\n      <th>lat</th>\n      <th>long</th>\n    </tr>\n  </thead>\n  <tbody>\n    <tr>\n      <th>count</th>\n      <td>1.000000e+02</td>\n      <td>100.000000</td>\n      <td>100.000000</td>\n      <td>1.000000e+02</td>\n      <td>100.000000</td>\n      <td>42.000000</td>\n      <td>42.000000</td>\n    </tr>\n    <tr>\n      <th>mean</th>\n      <td>1.316530e+18</td>\n      <td>16.790000</td>\n      <td>9.500000</td>\n      <td>4.611454e+17</td>\n      <td>1360.510000</td>\n      <td>39.082246</td>\n      <td>-69.904194</td>\n    </tr>\n    <tr>\n      <th>std</th>\n      <td>4.618202e+11</td>\n      <td>102.546692</td>\n      <td>64.690639</td>\n      <td>5.771159e+17</td>\n      <td>2589.434186</td>\n      <td>8.347839</td>\n      <td>50.641055</td>\n    </tr>\n    <tr>\n      <th>min</th>\n      <td>1.316529e+18</td>\n      <td>0.000000</td>\n      <td>0.000000</td>\n      <td>1.123392e+07</td>\n      <td>1.000000</td>\n      <td>22.279328</td>\n      <td>-122.330062</td>\n    </tr>\n    <tr>\n      <th>25%</th>\n      <td>1.316530e+18</td>\n      <td>0.000000</td>\n      <td>0.000000</td>\n      <td>2.714127e+08</td>\n      <td>42.000000</td>\n      <td>33.825247</td>\n      <td>-100.445882</td>\n    </tr>\n    <tr>\n      <th>50%</th>\n      <td>1.316530e+18</td>\n      <td>0.000000</td>\n      <td>0.000000</td>\n      <td>2.932144e+09</td>\n      <td>392.000000</td>\n      <td>39.783730</td>\n      <td>-83.539162</td>\n    </tr>\n    <tr>\n      <th>75%</th>\n      <td>1.316530e+18</td>\n      <td>1.000000</td>\n      <td>1.000000</td>\n      <td>1.167090e+18</td>\n      <td>1535.250000</td>\n      <td>42.443959</td>\n      <td>-74.006015</td>\n    </tr>\n    <tr>\n      <th>max</th>\n      <td>1.316531e+18</td>\n      <td>941.000000</td>\n      <td>608.000000</td>\n      <td>1.310330e+18</td>\n      <td>20614.000000</td>\n      <td>56.786111</td>\n      <td>114.162813</td>\n    </tr>\n  </tbody>\n</table>\n</div>"
     },
     "metadata": {},
     "execution_count": 8
    }
   ]
  },
  {
   "source": [
    "### 2.2.2 Textdaten analysieren"
   ],
   "cell_type": "markdown",
   "metadata": {}
  },
  {
   "cell_type": "code",
   "execution_count": 40,
   "metadata": {},
   "outputs": [
    {
     "output_type": "stream",
     "name": "stdout",
     "text": [
      "Wie sieht ein exemplarischer Tweet aus?\n"
     ]
    },
    {
     "output_type": "execute_result",
     "data": {
      "text/plain": [
       "\"Now Open! Create a FREE U.S. Election Pick'em Pool. Add some excitement to the potential chaos. Pick who you think will become President, who will win the Swing States, the popular vote, and more!\\r\\n🇺🇲https://t.co/W6FKnaXVMT\\r\\n#MAGA2020 #Trump #Biden #Politics #USElection2020 https://t.co/NwNfiZsy53\""
      ]
     },
     "metadata": {},
     "execution_count": 40
    }
   ],
   "source": [
    "print(\"Wie sieht ein exemplarischer Tweet aus?\")\n",
    "tweets_only = tweets_biden['tweet']\n",
    "tweets_only[10]"
   ]
  },
  {
   "source": [
    "## 2.3 Textdaten aufbereiten"
   ],
   "cell_type": "markdown",
   "metadata": {}
  },
  {
   "cell_type": "code",
   "execution_count": 10,
   "metadata": {},
   "outputs": [],
   "source": [
    "# !pip install nltk\n",
    "# import nltk\n",
    "# nltk.download('punkt')"
   ]
  },
  {
   "cell_type": "code",
   "execution_count": 37,
   "metadata": {},
   "outputs": [],
   "source": [
    "from nltk.tokenize import word_tokenize"
   ]
  },
  {
   "cell_type": "code",
   "execution_count": 41,
   "metadata": {},
   "outputs": [
    {
     "output_type": "execute_result",
     "data": {
      "text/plain": [
       "['Now',\n",
       " 'Open',\n",
       " '!',\n",
       " 'Create',\n",
       " 'a',\n",
       " 'FREE',\n",
       " 'U.S.',\n",
       " 'Election',\n",
       " \"Pick'em\",\n",
       " 'Pool',\n",
       " '.',\n",
       " 'Add',\n",
       " 'some',\n",
       " 'excitement',\n",
       " 'to',\n",
       " 'the',\n",
       " 'potential',\n",
       " 'chaos',\n",
       " '.',\n",
       " 'Pick',\n",
       " 'who',\n",
       " 'you',\n",
       " 'think',\n",
       " 'will',\n",
       " 'become',\n",
       " 'President',\n",
       " ',',\n",
       " 'who',\n",
       " 'will',\n",
       " 'win',\n",
       " 'the',\n",
       " 'Swing',\n",
       " 'States',\n",
       " ',',\n",
       " 'the',\n",
       " 'popular',\n",
       " 'vote',\n",
       " ',',\n",
       " 'and',\n",
       " 'more',\n",
       " '!',\n",
       " '🇺🇲https',\n",
       " ':',\n",
       " '//t.co/W6FKnaXVMT',\n",
       " '#',\n",
       " 'MAGA2020',\n",
       " '#',\n",
       " 'Trump',\n",
       " '#',\n",
       " 'Biden',\n",
       " '#',\n",
       " 'Politics',\n",
       " '#',\n",
       " 'USElection2020',\n",
       " 'https',\n",
       " ':',\n",
       " '//t.co/NwNfiZsy53']"
      ]
     },
     "metadata": {},
     "execution_count": 41
    }
   ],
   "source": [
    "tweets_tokenized = word_tokenize(tweets_only[10])\n",
    "tweets_tokenized"
   ]
  },
  {
   "cell_type": "code",
   "execution_count": 42,
   "metadata": {},
   "outputs": [
    {
     "output_type": "execute_result",
     "data": {
      "text/plain": [
       "['Now',\n",
       " 'Open',\n",
       " 'Create',\n",
       " 'a',\n",
       " 'FREE',\n",
       " 'Election',\n",
       " 'Pool',\n",
       " 'Add',\n",
       " 'some',\n",
       " 'excitement',\n",
       " 'to',\n",
       " 'the',\n",
       " 'potential',\n",
       " 'chaos',\n",
       " 'Pick',\n",
       " 'who',\n",
       " 'you',\n",
       " 'think',\n",
       " 'will',\n",
       " 'become',\n",
       " 'President',\n",
       " 'who',\n",
       " 'will',\n",
       " 'win',\n",
       " 'the',\n",
       " 'Swing',\n",
       " 'States',\n",
       " 'the',\n",
       " 'popular',\n",
       " 'vote',\n",
       " 'and',\n",
       " 'more',\n",
       " 'Trump',\n",
       " 'Biden',\n",
       " 'Politics',\n",
       " 'https']"
      ]
     },
     "metadata": {},
     "execution_count": 42
    }
   ],
   "source": [
    "tweets_cleaned = [word for word in tweets_tokenized if word.isalpha()]\n",
    "tweets_cleaned"
   ]
  },
  {
   "source": [
    "### 2.3.1 Textdaten tokenisieren"
   ],
   "cell_type": "markdown",
   "metadata": {}
  }
 ]
}