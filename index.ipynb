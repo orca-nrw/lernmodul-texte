{
 "cells": [
  {
   "cell_type": "markdown",
   "metadata": {},
   "source": [
    "# Lernmodul Texte"
   ]
  },
  {
   "cell_type": "markdown",
   "metadata": {},
   "source": [
    "<div style=\"background-color:red;display:inline;font-size:1.25rem;padding:20px;\">Stand 10.12.20</div>"
   ]
  },
  {
   "cell_type": "markdown",
   "metadata": {},
   "source": [
    "1. [Einführung](#einführung)\n",
    "    1. [Motivation](#motivation)\n",
    "    2. [Voraussetzungen](#voraussetzungen)\n",
    "2. [Daten](#daten)\n",
    "    1. [Textdaten beschaffen](#beschaffen)\n",
    "    2. [Textdaten erkunden](#erkunden)\n",
    "    3. [Textdaten aufbereiten](#aufbereiten)\n",
    "3. [Modell](#modell)\n",
    "    1. Textdaten einbetten\n",
    "    2. Textdaten klassifizieren\n",
    "4. [Verwendung](#verwendung)\n",
    "5. [Abschluss](#abschluss)"
   ]
  },
  {
   "cell_type": "markdown",
   "metadata": {},
   "source": [
    "## 1. <a id='einführung'>Einführung</a>"
   ]
  },
  {
   "cell_type": "markdown",
   "metadata": {},
   "source": [
    "### 1.1 <a id='motivation'>Motivation</a>"
   ]
  },
  {
   "cell_type": "markdown",
   "metadata": {},
   "source": [
    "Die Verarbeitung menschlicher Sprache (Natural Language Processing, NLP) ist ein prominentes Forschungsfeld der Informatik mit ähnlichem Bekanntheitsgrad wie die Analyse visueller Daten (Computer Vision), welche bspw. das Erkennen von Bildern (Image Recognition) sowie ihre Manipulation (Image Augmentation) betrachtet. Im ersten Fall wollen wir einen bekannten bzw. alten Bildinhalt klassifizieren, während der zweite Fall einen unbekannten bzw. neuen Bildinhalt erzeugt."
   ]
  },
  {
   "cell_type": "markdown",
   "metadata": {},
   "source": [
    "Wechseln wir von der Bild- auf die Textebene, lässt sich das Forschungsfeld des _NLP_ auf ähnliche Problemstellungen herunterbrechen, die in der folgenden Auflistung aufgeführt sind:\n",
    "\n",
    "* Texterkennung (Text Recognition)\n",
    "  * Spracherkennung (Speech Recognition)\n",
    "  * Stimmungsanalyse (Sentiment Analyses)\n",
    "* Textmanipulation (Text Augmentation)\n",
    "  * Maschinelle Übersetzung (Machine Translation)\n",
    "  * Automatisches Antworten (Question Answering)"
   ]
  },
  {
   "cell_type": "markdown",
   "metadata": {},
   "source": [
    "Ihr könnt euch bestimmt vorstellen, dass die Erzeugung von gänzlich Neuem aufwendiger ist, als das Entscheiden über vorliegende Inhalte und so beschäftigt sich dieses Lernmodul mit der Texterkennung, im besonderen mit der Unterscheidung zwischen verschiedenen Stimmungen, welche der Verfasser eines Textes gehabt haben könnte. Ein aktuelles Anwendungsbeispiel ist die Identifikation von Hassreden, wie sie bspw. von [Facebook](https://www.facebook.com/) im Zuge ihrer [Community Standards](https://www.facebook.com/communitystandards/hate_speech) verboten sind und erkannt werden müssen."
   ]
  },
  {
   "cell_type": "markdown",
   "metadata": {},
   "source": [
    "### 1.2 <a id='voraussetzungen'>Voraussetzungen</a>"
   ]
  },
  {
   "cell_type": "code",
   "execution_count": 5,
   "metadata": {},
   "outputs": [],
   "source": [
    "import numpy as np\n",
    "import pandas as pd\n",
    "import matplotlib.pyplot as plt"
   ]
  },
  {
   "cell_type": "markdown",
   "metadata": {},
   "source": [
    "## 2. <a id='daten'>Daten</a>"
   ]
  },
  {
   "cell_type": "markdown",
   "metadata": {},
   "source": [
    "Daten -> Modell -> Verwendung\n",
    "\n",
    "Eingabe -> Modell -> Ausgabe\n",
    "\n",
    "Merkmale -> Modell -> Vorhersage"
   ]
  },
  {
   "cell_type": "markdown",
   "metadata": {},
   "source": [
    "Datensatz - Eine Sammlung von Beispielen\n",
    "\n",
    "Beispiel - Eine Sammlung von Merkmalen\n",
    "\n",
    "Merkmal - Ein numerischer oder symbolischer Wert\n"
   ]
  },
  {
   "cell_type": "markdown",
   "metadata": {},
   "source": [
    "### 2.1 <a id='beschaffen'>Textdaten beschaffen</a>"
   ]
  },
  {
   "cell_type": "code",
   "execution_count": 7,
   "metadata": {},
   "outputs": [],
   "source": [
    "twitter = pd.read_json('./tweets.json.gz', compression='gzip')"
   ]
  },
  {
   "cell_type": "markdown",
   "metadata": {},
   "source": [
    "### 2.2 <a id='erkunden'>Textdaten erkunden</a>"
   ]
  },
  {
   "cell_type": "code",
   "execution_count": 8,
   "metadata": {},
   "outputs": [
    {
     "name": "stdout",
     "output_type": "stream",
     "text": [
      "Wie sieht der Datensatz aus?\n"
     ]
    },
    {
     "data": {
      "text/html": [
       "<div>\n",
       "<style scoped>\n",
       "    .dataframe tbody tr th:only-of-type {\n",
       "        vertical-align: middle;\n",
       "    }\n",
       "\n",
       "    .dataframe tbody tr th {\n",
       "        vertical-align: top;\n",
       "    }\n",
       "\n",
       "    .dataframe thead th {\n",
       "        text-align: right;\n",
       "    }\n",
       "</style>\n",
       "<table border=\"1\" class=\"dataframe\">\n",
       "  <thead>\n",
       "    <tr style=\"text-align: right;\">\n",
       "      <th></th>\n",
       "      <th>twista</th>\n",
       "      <th>type</th>\n",
       "      <th>id</th>\n",
       "      <th>user</th>\n",
       "      <th>created_at</th>\n",
       "      <th>recorded_at</th>\n",
       "      <th>source</th>\n",
       "      <th>retweets</th>\n",
       "      <th>favourites</th>\n",
       "      <th>lang</th>\n",
       "      <th>...</th>\n",
       "      <th>screen_name</th>\n",
       "      <th>location</th>\n",
       "      <th>description</th>\n",
       "      <th>url</th>\n",
       "      <th>verified</th>\n",
       "      <th>followers</th>\n",
       "      <th>friends</th>\n",
       "      <th>listed</th>\n",
       "      <th>statuses</th>\n",
       "      <th>refers_to</th>\n",
       "    </tr>\n",
       "  </thead>\n",
       "  <tbody>\n",
       "    <tr>\n",
       "      <th>0</th>\n",
       "      <td>0.3.1-b</td>\n",
       "      <td>status</td>\n",
       "      <td>1212046141279354880</td>\n",
       "      <td>1.140992e+18</td>\n",
       "      <td>2019-12-31 16:21:33+00:00</td>\n",
       "      <td>2019-12-31 16:21:39.286956+00:00</td>\n",
       "      <td>&lt;a href=\"https://mobile.twitter.com\" rel=\"nofo...</td>\n",
       "      <td>0.0</td>\n",
       "      <td>0</td>\n",
       "      <td>de</td>\n",
       "      <td>...</td>\n",
       "      <td>NaN</td>\n",
       "      <td>NaN</td>\n",
       "      <td>NaN</td>\n",
       "      <td>NaN</td>\n",
       "      <td>NaN</td>\n",
       "      <td>NaN</td>\n",
       "      <td>NaN</td>\n",
       "      <td>NaN</td>\n",
       "      <td>NaN</td>\n",
       "      <td>NaN</td>\n",
       "    </tr>\n",
       "    <tr>\n",
       "      <th>1</th>\n",
       "      <td>0.3.1-b</td>\n",
       "      <td>status</td>\n",
       "      <td>1212046145645662208</td>\n",
       "      <td>7.137519e+17</td>\n",
       "      <td>2019-12-31 16:21:34+00:00</td>\n",
       "      <td>2019-12-31 16:21:39.657847+00:00</td>\n",
       "      <td>&lt;a href=\"https://mobile.twitter.com\" rel=\"nofo...</td>\n",
       "      <td>0.0</td>\n",
       "      <td>0</td>\n",
       "      <td>de</td>\n",
       "      <td>...</td>\n",
       "      <td>NaN</td>\n",
       "      <td>NaN</td>\n",
       "      <td>NaN</td>\n",
       "      <td>NaN</td>\n",
       "      <td>NaN</td>\n",
       "      <td>NaN</td>\n",
       "      <td>NaN</td>\n",
       "      <td>NaN</td>\n",
       "      <td>NaN</td>\n",
       "      <td>NaN</td>\n",
       "    </tr>\n",
       "    <tr>\n",
       "      <th>2</th>\n",
       "      <td>0.3.1-b</td>\n",
       "      <td>status</td>\n",
       "      <td>1212046145737961472</td>\n",
       "      <td>7.158583e+17</td>\n",
       "      <td>2019-12-31 16:21:34+00:00</td>\n",
       "      <td>2019-12-31 16:21:39.700276+00:00</td>\n",
       "      <td>&lt;a href=\"http://www.facebook.com/twitter\" rel=...</td>\n",
       "      <td>0.0</td>\n",
       "      <td>0</td>\n",
       "      <td>de</td>\n",
       "      <td>...</td>\n",
       "      <td>NaN</td>\n",
       "      <td>NaN</td>\n",
       "      <td>NaN</td>\n",
       "      <td>NaN</td>\n",
       "      <td>NaN</td>\n",
       "      <td>NaN</td>\n",
       "      <td>NaN</td>\n",
       "      <td>NaN</td>\n",
       "      <td>NaN</td>\n",
       "      <td>NaN</td>\n",
       "    </tr>\n",
       "    <tr>\n",
       "      <th>3</th>\n",
       "      <td>0.3.1-b</td>\n",
       "      <td>status</td>\n",
       "      <td>1211821086905683968</td>\n",
       "      <td>1.106642e+18</td>\n",
       "      <td>2019-12-31 01:27:16+00:00</td>\n",
       "      <td>2019-12-31 16:21:40.016141+00:00</td>\n",
       "      <td>&lt;a href=\"http://twitter.com/download/iphone\" r...</td>\n",
       "      <td>1582.0</td>\n",
       "      <td>4518</td>\n",
       "      <td>en</td>\n",
       "      <td>...</td>\n",
       "      <td>NaN</td>\n",
       "      <td>NaN</td>\n",
       "      <td>NaN</td>\n",
       "      <td>NaN</td>\n",
       "      <td>NaN</td>\n",
       "      <td>NaN</td>\n",
       "      <td>NaN</td>\n",
       "      <td>NaN</td>\n",
       "      <td>NaN</td>\n",
       "      <td>NaN</td>\n",
       "    </tr>\n",
       "    <tr>\n",
       "      <th>4</th>\n",
       "      <td>0.3.1-b</td>\n",
       "      <td>status</td>\n",
       "      <td>1212046149990916096</td>\n",
       "      <td>9.990299e+08</td>\n",
       "      <td>2019-12-31 16:21:35+00:00</td>\n",
       "      <td>2019-12-31 16:21:40.711065+00:00</td>\n",
       "      <td>&lt;a href=\"http://twitter.com/download/android\" ...</td>\n",
       "      <td>0.0</td>\n",
       "      <td>0</td>\n",
       "      <td>de</td>\n",
       "      <td>...</td>\n",
       "      <td>NaN</td>\n",
       "      <td>NaN</td>\n",
       "      <td>NaN</td>\n",
       "      <td>NaN</td>\n",
       "      <td>NaN</td>\n",
       "      <td>NaN</td>\n",
       "      <td>NaN</td>\n",
       "      <td>NaN</td>\n",
       "      <td>NaN</td>\n",
       "      <td>NaN</td>\n",
       "    </tr>\n",
       "  </tbody>\n",
       "</table>\n",
       "<p>5 rows × 26 columns</p>\n",
       "</div>"
      ],
      "text/plain": [
       "    twista    type                   id          user  \\\n",
       "0  0.3.1-b  status  1212046141279354880  1.140992e+18   \n",
       "1  0.3.1-b  status  1212046145645662208  7.137519e+17   \n",
       "2  0.3.1-b  status  1212046145737961472  7.158583e+17   \n",
       "3  0.3.1-b  status  1211821086905683968  1.106642e+18   \n",
       "4  0.3.1-b  status  1212046149990916096  9.990299e+08   \n",
       "\n",
       "                 created_at                      recorded_at  \\\n",
       "0 2019-12-31 16:21:33+00:00 2019-12-31 16:21:39.286956+00:00   \n",
       "1 2019-12-31 16:21:34+00:00 2019-12-31 16:21:39.657847+00:00   \n",
       "2 2019-12-31 16:21:34+00:00 2019-12-31 16:21:39.700276+00:00   \n",
       "3 2019-12-31 01:27:16+00:00 2019-12-31 16:21:40.016141+00:00   \n",
       "4 2019-12-31 16:21:35+00:00 2019-12-31 16:21:40.711065+00:00   \n",
       "\n",
       "                                              source  retweets  favourites  \\\n",
       "0  <a href=\"https://mobile.twitter.com\" rel=\"nofo...       0.0           0   \n",
       "1  <a href=\"https://mobile.twitter.com\" rel=\"nofo...       0.0           0   \n",
       "2  <a href=\"http://www.facebook.com/twitter\" rel=...       0.0           0   \n",
       "3  <a href=\"http://twitter.com/download/iphone\" r...    1582.0        4518   \n",
       "4  <a href=\"http://twitter.com/download/android\" ...       0.0           0   \n",
       "\n",
       "  lang  ... screen_name location description  url verified followers friends  \\\n",
       "0   de  ...         NaN      NaN         NaN  NaN      NaN       NaN     NaN   \n",
       "1   de  ...         NaN      NaN         NaN  NaN      NaN       NaN     NaN   \n",
       "2   de  ...         NaN      NaN         NaN  NaN      NaN       NaN     NaN   \n",
       "3   en  ...         NaN      NaN         NaN  NaN      NaN       NaN     NaN   \n",
       "4   de  ...         NaN      NaN         NaN  NaN      NaN       NaN     NaN   \n",
       "\n",
       "  listed statuses refers_to  \n",
       "0    NaN      NaN       NaN  \n",
       "1    NaN      NaN       NaN  \n",
       "2    NaN      NaN       NaN  \n",
       "3    NaN      NaN       NaN  \n",
       "4    NaN      NaN       NaN  \n",
       "\n",
       "[5 rows x 26 columns]"
      ]
     },
     "execution_count": 8,
     "metadata": {},
     "output_type": "execute_result"
    }
   ],
   "source": [
    "print(\"Wie sieht der Datensatz aus?\")\n",
    "twitter.head()"
   ]
  },
  {
   "cell_type": "code",
   "execution_count": 9,
   "metadata": {},
   "outputs": [
    {
     "name": "stdout",
     "output_type": "stream",
     "text": [
      "Wie viele Werte liegen insgesamt vor?\n"
     ]
    },
    {
     "data": {
      "text/plain": [
       "1300000"
      ]
     },
     "execution_count": 9,
     "metadata": {},
     "output_type": "execute_result"
    }
   ],
   "source": [
    "print(\"Wie viele Werte liegen insgesamt vor?\")\n",
    "twitter.size"
   ]
  },
  {
   "cell_type": "code",
   "execution_count": 10,
   "metadata": {},
   "outputs": [
    {
     "name": "stdout",
     "output_type": "stream",
     "text": [
      "Wie viele Beispiele liegen insgesamt vor?\n"
     ]
    },
    {
     "data": {
      "text/plain": [
       "50000"
      ]
     },
     "execution_count": 10,
     "metadata": {},
     "output_type": "execute_result"
    }
   ],
   "source": [
    "print(\"Wie viele Beispiele liegen insgesamt vor?\")\n",
    "twitter.shape[0]"
   ]
  },
  {
   "cell_type": "code",
   "execution_count": 11,
   "metadata": {},
   "outputs": [
    {
     "name": "stdout",
     "output_type": "stream",
     "text": [
      "Wie viele Werte liegen pro Beispiel vor?\n"
     ]
    },
    {
     "data": {
      "text/plain": [
       "26"
      ]
     },
     "execution_count": 11,
     "metadata": {},
     "output_type": "execute_result"
    }
   ],
   "source": [
    "print(\"Wie viele Werte liegen pro Beispiel vor?\")\n",
    "twitter.shape[1]"
   ]
  },
  {
   "cell_type": "code",
   "execution_count": 12,
   "metadata": {},
   "outputs": [
    {
     "name": "stdout",
     "output_type": "stream",
     "text": [
      "Welche Merkmale bzw. Wertetypen liegen vor?\n"
     ]
    },
    {
     "data": {
      "text/plain": [
       "twista                        object\n",
       "type                          object\n",
       "id                             int64\n",
       "user                         float64\n",
       "created_at       datetime64[ns, UTC]\n",
       "recorded_at      datetime64[ns, UTC]\n",
       "source                        object\n",
       "retweets                     float64\n",
       "favourites                     int64\n",
       "lang                          object\n",
       "hashtags                      object\n",
       "urls                          object\n",
       "mentions                      object\n",
       "mentioned_ids                 object\n",
       "text                          object\n",
       "name                          object\n",
       "screen_name                   object\n",
       "location                      object\n",
       "description                   object\n",
       "url                           object\n",
       "verified                     float64\n",
       "followers                    float64\n",
       "friends                      float64\n",
       "listed                       float64\n",
       "statuses                     float64\n",
       "refers_to                    float64\n",
       "dtype: object"
      ]
     },
     "execution_count": 12,
     "metadata": {},
     "output_type": "execute_result"
    }
   ],
   "source": [
    "print(\"Welche Merkmale bzw. Wertetypen liegen vor?\")\n",
    "twitter.dtypes"
   ]
  },
  {
   "cell_type": "code",
   "execution_count": 13,
   "metadata": {},
   "outputs": [
    {
     "name": "stdout",
     "output_type": "stream",
     "text": [
      "Das Merkmal 'text' scheint die Tweets zu beinhalten\n"
     ]
    },
    {
     "data": {
      "text/plain": [
       "0    Hahaha.., da haben \"die Nazis\" aber Glück 🍀 ge...\n",
       "1    Ich wünsche allen guten Menschen ein gesundes ...\n",
       "2    Wir wünschen euch einen guten Rutsch und für d...\n",
       "3    niggas pull a bad bitch and be insecure as hel...\n",
       "4    31.12.2019. Breitscheidplatz. Weihnachtsmarkt....\n",
       "Name: text, dtype: object"
      ]
     },
     "execution_count": 13,
     "metadata": {},
     "output_type": "execute_result"
    }
   ],
   "source": [
    "print(\"Das Merkmal 'text' scheint die Tweets zu beinhalten\")\n",
    "tweets = twitter['text']\n",
    "tweets.head()"
   ]
  },
  {
   "cell_type": "markdown",
   "metadata": {},
   "source": [
    "### 2.3 <a id='aufbereiten'>Textdaten aufbereiten</a>"
   ]
  },
  {
   "cell_type": "code",
   "execution_count": 14,
   "metadata": {},
   "outputs": [
    {
     "name": "stdout",
     "output_type": "stream",
     "text": [
      "Als Nächstes werden wir alle Symbole entfernen, die weder dem Alphabet angehören, noch Ziffern sind...\n"
     ]
    },
    {
     "data": {
      "text/plain": [
       "0    Hahaha da haben die Nazis aber Glück  gehabt u...\n",
       "1    Ich wünsche allen guten Menschen ein gesundes ...\n",
       "2    Wir wünschen euch einen guten Rutsch und für d...\n",
       "3    niggas pull a bad bitch and be insecure as hel...\n",
       "4    31122019 Breitscheidplatz Weihnachtsmarkt Aus ...\n",
       "Name: text, dtype: object"
      ]
     },
     "execution_count": 14,
     "metadata": {},
     "output_type": "execute_result"
    }
   ],
   "source": [
    "print(\"Als Nächstes werden wir alle Symbole entfernen, die weder dem Alphabet angehören, noch Ziffern sind...\")\n",
    "tweets_cleaned = tweets.replace(regex={'[^a-zA-Z0-9äöüßÄÖU\\s]' : ''}) # Preserve a-z A-Z 0-9 äöü ß ÄÖÜ\n",
    "tweets_cleaned.head()"
   ]
  },
  {
   "cell_type": "code",
   "execution_count": 15,
   "metadata": {},
   "outputs": [
    {
     "name": "stdout",
     "output_type": "stream",
     "text": [
      "Aus Sätzen werden Wörter. Wir zerteilen die Sequenzen anhand des Leerzeichens:\n"
     ]
    },
    {
     "data": {
      "text/plain": [
       "0    [Hahaha, da, haben, die, Nazis, aber, Glück, g...\n",
       "1    [Ich, wünsche, allen, guten, Menschen, ein, ge...\n",
       "2    [Wir, wünschen, euch, einen, guten, Rutsch, un...\n",
       "3    [niggas, pull, a, bad, bitch, and, be, insecur...\n",
       "4    [31122019, Breitscheidplatz, Weihnachtsmarkt, ...\n",
       "Name: text, dtype: object"
      ]
     },
     "execution_count": 15,
     "metadata": {},
     "output_type": "execute_result"
    }
   ],
   "source": [
    "print(\"Aus Sätzen werden Wörter. Wir zerteilen die Sequenzen anhand des Leerzeichens:\")\n",
    "tweets_tokenized = tweets_cleaned.str.split()\n",
    "tweets_tokenized.head()"
   ]
  },
  {
   "cell_type": "code",
   "execution_count": 16,
   "metadata": {},
   "outputs": [],
   "source": [
    "tweets_tokenized = tweets_tokenized[:20] # Start with 20 tweets"
   ]
  },
  {
   "cell_type": "code",
   "execution_count": 17,
   "metadata": {},
   "outputs": [
    {
     "name": "stdout",
     "output_type": "stream",
     "text": [
      "Wie viele Wörter sind im längsten Tweet enthalten?\n"
     ]
    },
    {
     "data": {
      "text/plain": [
       "51"
      ]
     },
     "execution_count": 17,
     "metadata": {},
     "output_type": "execute_result"
    }
   ],
   "source": [
    "tweets_length = [len(tweet) for tweet in tweets_tokenized]\n",
    "print(\"Wie viele Wörter sind im längsten Tweet enthalten?\")\n",
    "np.max(tweets_length)"
   ]
  },
  {
   "cell_type": "code",
   "execution_count": 18,
   "metadata": {},
   "outputs": [],
   "source": [
    "def plot_tweet_length_distribution(tweets_length):\n",
    "    \"\"\"Count tokens per tweet and plot their length distribution.\"\"\"\n",
    "\n",
    "    plt.hist(tweets_length, np.max(tweets_length))\n",
    "    plt.xlabel('Words per tweet')\n",
    "    plt.ylabel('Amount of tweets')\n",
    "    plt.title('Tweet length distribution')\n",
    "    plt.show()"
   ]
  },
  {
   "cell_type": "code",
   "execution_count": 19,
   "metadata": {},
   "outputs": [
    {
     "name": "stdout",
     "output_type": "stream",
     "text": [
      "Wie viele Tweets haben eine bestimmte Länge?\n"
     ]
    },
    {
     "data": {
      "image/png": "[encoded data removed]",
      "text/plain": [
       "<Figure size 432x288 with 1 Axes>"
      ]
     },
     "metadata": {
      "needs_background": "light"
     },
     "output_type": "display_data"
    }
   ],
   "source": [
    "print(\"Wie viele Tweets haben eine bestimmte Länge?\")\n",
    "plot_tweet_length_distribution(tweets_length)"
   ]
  },
  {
   "cell_type": "markdown",
   "metadata": {},
   "source": [
    "FreqDist <a href=\"http://www.nltk.org/api/nltk.html?highlight=freqdist#nltk.probability.FreqDist\">📄</a>"
   ]
  },
  {
   "cell_type": "code",
   "execution_count": 20,
   "metadata": {},
   "outputs": [
    {
     "name": "stderr",
     "output_type": "stream",
     "text": [
      "You are using pip version 10.0.1, however version 20.3.1 is available.\n",
      "You should consider upgrading via the 'python -m pip install --upgrade pip' command.\n"
     ]
    }
   ],
   "source": [
    "from nltk.probability import FreqDist\n",
    "fd = FreqDist(tweets_tokenized.aggregate(np.concatenate))"
   ]
  },
  {
   "cell_type": "code",
   "execution_count": null,
   "metadata": {},
   "outputs": [],
   "source": []
  },
  {
   "cell_type": "code",
   "execution_count": 22,
   "metadata": {},
   "outputs": [
    {
     "name": "stdout",
     "output_type": "stream",
     "text": [
      "Wie lauten die zehn häufigsten Wörter?\n"
     ]
    },
    {
     "data": {
      "text/plain": [
       "[('und', 12),\n",
       " ('SUHO', 12),\n",
       " ('BEST', 12),\n",
       " ('LEADER', 12),\n",
       " ('ein', 10),\n",
       " ('Ich', 7),\n",
       " ('Jahr', 6),\n",
       " ('2020', 6),\n",
       " ('a', 6),\n",
       " ('auf', 6)]"
      ]
     },
     "execution_count": 22,
     "metadata": {},
     "output_type": "execute_result"
    }
   ],
   "source": [
    "print(\"Wie lauten die zehn häufigsten Wörter?\")\n",
    "fd.most_common(10)"
   ]
  },
  {
   "cell_type": "code",
   "execution_count": 23,
   "metadata": {},
   "outputs": [
    {
     "name": "stdout",
     "output_type": "stream",
     "text": [
      "Wie sieht das Histogramm dazu aus?\n"
     ]
    },
    {
     "data": {
      "image/png": "[encoded data removed]",
      "text/plain": [
       "<Figure size 432x288 with 1 Axes>"
      ]
     },
     "metadata": {
      "needs_background": "light"
     },
     "output_type": "display_data"
    },
    {
     "data": {
      "text/plain": [
       "<matplotlib.axes._subplots.AxesSubplot at 0x2cac5ebfba8>"
      ]
     },
     "execution_count": 23,
     "metadata": {},
     "output_type": "execute_result"
    }
   ],
   "source": [
    "print(\"Wie sieht das Histogramm dazu aus?\")\n",
    "fd.plot(20)"
   ]
  },
  {
   "cell_type": "markdown",
   "metadata": {},
   "source": [
    "Word Cloud <a href=\"http://amueller.github.io/word_cloud/index.html\">📄</a>"
   ]
  },
  {
   "cell_type": "code",
   "execution_count": 44,
   "metadata": {},
   "outputs": [
    {
     "name": "stderr",
     "output_type": "stream",
     "text": [
      "You are using pip version 10.0.1, however version 20.3.1 is available.\n",
      "You should consider upgrading via the 'python -m pip install --upgrade pip' command.\n"
     ]
    }
   ],
   "source": [
    "!pip install -q wordcloud\n",
    "from wordcloud import WordCloud"
   ]
  },
  {
   "cell_type": "code",
   "execution_count": 25,
   "metadata": {},
   "outputs": [],
   "source": [
    "wc = WordCloud()"
   ]
  },
  {
   "cell_type": "code",
   "execution_count": 26,
   "metadata": {},
   "outputs": [
    {
     "name": "stdout",
     "output_type": "stream",
     "text": [
      "Wie sieht die Visualisierung davon aus?\n"
     ]
    },
    {
     "data": {
      "image/png": "[encoded data removed]",
      "text/plain": [
       "<Figure size 432x288 with 1 Axes>"
      ]
     },
     "metadata": {
      "needs_background": "light"
     },
     "output_type": "display_data"
    }
   ],
   "source": [
    "plt.imshow(wc.generate_from_frequencies(fd), interpolation=\"bilinear\")\n",
    "print(\"Wie sieht die Visualisierung davon aus?\")\n",
    "plt.show()"
   ]
  },
  {
   "cell_type": "markdown",
   "metadata": {},
   "source": [
    "## 3. <a id='modell'>Modell</a>"
   ]
  },
  {
   "cell_type": "markdown",
   "metadata": {},
   "source": [
    "### 3.1 Textdaten einbetten"
   ]
  },
  {
   "cell_type": "markdown",
   "metadata": {},
   "source": [
    "#### 3.1.1 Positive Wörter"
   ]
  },
  {
   "cell_type": "code",
   "execution_count": 27,
   "metadata": {},
   "outputs": [
    {
     "data": {
      "text/html": [
       "<div>\n",
       "<style scoped>\n",
       "    .dataframe tbody tr th:only-of-type {\n",
       "        vertical-align: middle;\n",
       "    }\n",
       "\n",
       "    .dataframe tbody tr th {\n",
       "        vertical-align: top;\n",
       "    }\n",
       "\n",
       "    .dataframe thead th {\n",
       "        text-align: right;\n",
       "    }\n",
       "</style>\n",
       "<table border=\"1\" class=\"dataframe\">\n",
       "  <thead>\n",
       "    <tr style=\"text-align: right;\">\n",
       "      <th></th>\n",
       "      <th>Word</th>\n",
       "      <th>Score</th>\n",
       "      <th>Declination</th>\n",
       "    </tr>\n",
       "  </thead>\n",
       "  <tbody>\n",
       "    <tr>\n",
       "      <th>0</th>\n",
       "      <td>Abschluß|NN</td>\n",
       "      <td>0.004</td>\n",
       "      <td>Abschlüße,Abschlußs,Abschlußes,Abschlüßen</td>\n",
       "    </tr>\n",
       "    <tr>\n",
       "      <th>1</th>\n",
       "      <td>Abstimmung|NN</td>\n",
       "      <td>0.004</td>\n",
       "      <td>Abstimmungen</td>\n",
       "    </tr>\n",
       "    <tr>\n",
       "      <th>2</th>\n",
       "      <td>Agilität|NN</td>\n",
       "      <td>0.004</td>\n",
       "      <td>NaN</td>\n",
       "    </tr>\n",
       "    <tr>\n",
       "      <th>3</th>\n",
       "      <td>Aktivität|NN</td>\n",
       "      <td>0.004</td>\n",
       "      <td>Aktivitäten</td>\n",
       "    </tr>\n",
       "    <tr>\n",
       "      <th>4</th>\n",
       "      <td>Aktualisierung|NN</td>\n",
       "      <td>0.004</td>\n",
       "      <td>Aktualisierungen</td>\n",
       "    </tr>\n",
       "  </tbody>\n",
       "</table>\n",
       "</div>"
      ],
      "text/plain": [
       "                Word  Score                                Declination\n",
       "0        Abschluß|NN  0.004  Abschlüße,Abschlußs,Abschlußes,Abschlüßen\n",
       "1      Abstimmung|NN  0.004                               Abstimmungen\n",
       "2        Agilität|NN  0.004                                        NaN\n",
       "3       Aktivität|NN  0.004                                Aktivitäten\n",
       "4  Aktualisierung|NN  0.004                           Aktualisierungen"
      ]
     },
     "execution_count": 27,
     "metadata": {},
     "output_type": "execute_result"
    }
   ],
   "source": [
    "positive = pd.read_csv('./positive.txt', lineterminator='\\n', sep='\\t', header=0, names=['Word', 'Score', 'Declination'])\n",
    "positive.head()"
   ]
  },
  {
   "cell_type": "code",
   "execution_count": 28,
   "metadata": {},
   "outputs": [
    {
     "name": "stdout",
     "output_type": "stream",
     "text": [
      "Als Nächstes werden wir den Zusatz hinter dem senkrechten Strich (|) vom Wort lösen.\n"
     ]
    },
    {
     "data": {
      "text/html": [
       "<div>\n",
       "<style scoped>\n",
       "    .dataframe tbody tr th:only-of-type {\n",
       "        vertical-align: middle;\n",
       "    }\n",
       "\n",
       "    .dataframe tbody tr th {\n",
       "        vertical-align: top;\n",
       "    }\n",
       "\n",
       "    .dataframe thead th {\n",
       "        text-align: right;\n",
       "    }\n",
       "</style>\n",
       "<table border=\"1\" class=\"dataframe\">\n",
       "  <thead>\n",
       "    <tr style=\"text-align: right;\">\n",
       "      <th></th>\n",
       "      <th>Word</th>\n",
       "      <th>Score</th>\n",
       "      <th>Declination</th>\n",
       "      <th>Appendix</th>\n",
       "    </tr>\n",
       "  </thead>\n",
       "  <tbody>\n",
       "    <tr>\n",
       "      <th>0</th>\n",
       "      <td>Abschluß</td>\n",
       "      <td>0.004</td>\n",
       "      <td>Abschlüße,Abschlußs,Abschlußes,Abschlüßen</td>\n",
       "      <td>NN</td>\n",
       "    </tr>\n",
       "    <tr>\n",
       "      <th>1</th>\n",
       "      <td>Abstimmung</td>\n",
       "      <td>0.004</td>\n",
       "      <td>Abstimmungen</td>\n",
       "      <td>NN</td>\n",
       "    </tr>\n",
       "    <tr>\n",
       "      <th>2</th>\n",
       "      <td>Agilität</td>\n",
       "      <td>0.004</td>\n",
       "      <td>NaN</td>\n",
       "      <td>NN</td>\n",
       "    </tr>\n",
       "    <tr>\n",
       "      <th>3</th>\n",
       "      <td>Aktivität</td>\n",
       "      <td>0.004</td>\n",
       "      <td>Aktivitäten</td>\n",
       "      <td>NN</td>\n",
       "    </tr>\n",
       "    <tr>\n",
       "      <th>4</th>\n",
       "      <td>Aktualisierung</td>\n",
       "      <td>0.004</td>\n",
       "      <td>Aktualisierungen</td>\n",
       "      <td>NN</td>\n",
       "    </tr>\n",
       "  </tbody>\n",
       "</table>\n",
       "</div>"
      ],
      "text/plain": [
       "             Word  Score                                Declination Appendix\n",
       "0        Abschluß  0.004  Abschlüße,Abschlußs,Abschlußes,Abschlüßen       NN\n",
       "1      Abstimmung  0.004                               Abstimmungen       NN\n",
       "2        Agilität  0.004                                        NaN       NN\n",
       "3       Aktivität  0.004                                Aktivitäten       NN\n",
       "4  Aktualisierung  0.004                           Aktualisierungen       NN"
      ]
     },
     "execution_count": 28,
     "metadata": {},
     "output_type": "execute_result"
    }
   ],
   "source": [
    "print(\"Als Nächstes werden wir den Zusatz hinter dem senkrechten Strich (|) vom Wort lösen.\")\n",
    "positive[['Word', 'Appendix']] = positive['Word'].str.split('|', 1, expand=True)\n",
    "positive.head()"
   ]
  },
  {
   "cell_type": "code",
   "execution_count": 29,
   "metadata": {},
   "outputs": [
    {
     "data": {
      "text/html": [
       "<div>\n",
       "<style scoped>\n",
       "    .dataframe tbody tr th:only-of-type {\n",
       "        vertical-align: middle;\n",
       "    }\n",
       "\n",
       "    .dataframe tbody tr th {\n",
       "        vertical-align: top;\n",
       "    }\n",
       "\n",
       "    .dataframe thead th {\n",
       "        text-align: right;\n",
       "    }\n",
       "</style>\n",
       "<table border=\"1\" class=\"dataframe\">\n",
       "  <thead>\n",
       "    <tr style=\"text-align: right;\">\n",
       "      <th></th>\n",
       "      <th>Word</th>\n",
       "      <th>Score</th>\n",
       "      <th>Declination</th>\n",
       "      <th>Appendix</th>\n",
       "    </tr>\n",
       "  </thead>\n",
       "  <tbody>\n",
       "    <tr>\n",
       "      <th>0</th>\n",
       "      <td>Abschluß</td>\n",
       "      <td>0.0040</td>\n",
       "      <td>[Abschlüße, Abschlußs, Abschlußes, Abschlüßen]</td>\n",
       "      <td>NN</td>\n",
       "    </tr>\n",
       "    <tr>\n",
       "      <th>798</th>\n",
       "      <td>erheblich</td>\n",
       "      <td>0.0040</td>\n",
       "      <td>[erheblichste, erheblicherem, erheblichsten, e...</td>\n",
       "      <td>ADJX</td>\n",
       "    </tr>\n",
       "    <tr>\n",
       "      <th>797</th>\n",
       "      <td>erhebend</td>\n",
       "      <td>0.0040</td>\n",
       "      <td>[erhebendstem, erhebendsten, erhebender, erheb...</td>\n",
       "      <td>ADJX</td>\n",
       "    </tr>\n",
       "    <tr>\n",
       "      <th>796</th>\n",
       "      <td>erhalten</td>\n",
       "      <td>0.0040</td>\n",
       "      <td>NaN</td>\n",
       "      <td>VVINF</td>\n",
       "    </tr>\n",
       "    <tr>\n",
       "      <th>1435</th>\n",
       "      <td>unfehlbar</td>\n",
       "      <td>0.0040</td>\n",
       "      <td>[unfehlbares, unfehlbarstem, unfehlbarsten, un...</td>\n",
       "      <td>ADJX</td>\n",
       "    </tr>\n",
       "    <tr>\n",
       "      <th>...</th>\n",
       "      <td>...</td>\n",
       "      <td>...</td>\n",
       "      <td>...</td>\n",
       "      <td>...</td>\n",
       "    </tr>\n",
       "    <tr>\n",
       "      <th>1342</th>\n",
       "      <td>spannend</td>\n",
       "      <td>0.7165</td>\n",
       "      <td>[spannendste, spannender, spannendes, spannend...</td>\n",
       "      <td>ADJX</td>\n",
       "    </tr>\n",
       "    <tr>\n",
       "      <th>1581</th>\n",
       "      <td>wunderbar</td>\n",
       "      <td>0.7234</td>\n",
       "      <td>[wunderbarerem, wunderbarste, wunderbarster, w...</td>\n",
       "      <td>ADJX</td>\n",
       "    </tr>\n",
       "    <tr>\n",
       "      <th>301</th>\n",
       "      <td>Lob</td>\n",
       "      <td>0.7246</td>\n",
       "      <td>[Loben, Lobs, Lobes, Lobe]</td>\n",
       "      <td>NN</td>\n",
       "    </tr>\n",
       "    <tr>\n",
       "      <th>1214</th>\n",
       "      <td>perfekt</td>\n",
       "      <td>0.7299</td>\n",
       "      <td>[perfekterer, perfektest, perfekteren, perfekt...</td>\n",
       "      <td>ADJX</td>\n",
       "    </tr>\n",
       "    <tr>\n",
       "      <th>916</th>\n",
       "      <td>gelungen</td>\n",
       "      <td>1.0000</td>\n",
       "      <td>[gelungnerem, gelungenster, gelungneren, gelun...</td>\n",
       "      <td>ADJX</td>\n",
       "    </tr>\n",
       "  </tbody>\n",
       "</table>\n",
       "<p>1649 rows × 4 columns</p>\n",
       "</div>"
      ],
      "text/plain": [
       "           Word   Score                                        Declination  \\\n",
       "0      Abschluß  0.0040     [Abschlüße, Abschlußs, Abschlußes, Abschlüßen]   \n",
       "798   erheblich  0.0040  [erheblichste, erheblicherem, erheblichsten, e...   \n",
       "797    erhebend  0.0040  [erhebendstem, erhebendsten, erhebender, erheb...   \n",
       "796    erhalten  0.0040                                                NaN   \n",
       "1435  unfehlbar  0.0040  [unfehlbares, unfehlbarstem, unfehlbarsten, un...   \n",
       "...         ...     ...                                                ...   \n",
       "1342   spannend  0.7165  [spannendste, spannender, spannendes, spannend...   \n",
       "1581  wunderbar  0.7234  [wunderbarerem, wunderbarste, wunderbarster, w...   \n",
       "301         Lob  0.7246                         [Loben, Lobs, Lobes, Lobe]   \n",
       "1214    perfekt  0.7299  [perfekterer, perfektest, perfekteren, perfekt...   \n",
       "916    gelungen  1.0000  [gelungnerem, gelungenster, gelungneren, gelun...   \n",
       "\n",
       "     Appendix  \n",
       "0          NN  \n",
       "798      ADJX  \n",
       "797      ADJX  \n",
       "796     VVINF  \n",
       "1435     ADJX  \n",
       "...       ...  \n",
       "1342     ADJX  \n",
       "1581     ADJX  \n",
       "301        NN  \n",
       "1214     ADJX  \n",
       "916      ADJX  \n",
       "\n",
       "[1649 rows x 4 columns]"
      ]
     },
     "execution_count": 29,
     "metadata": {},
     "output_type": "execute_result"
    }
   ],
   "source": [
    "positive['Declination'] = positive['Declination'].str.split(',')\n",
    "positive.sort_values(by='Score')"
   ]
  },
  {
   "cell_type": "markdown",
   "metadata": {},
   "source": [
    "#### 3.1.2 Negative Wörter"
   ]
  },
  {
   "cell_type": "code",
   "execution_count": 30,
   "metadata": {},
   "outputs": [
    {
     "data": {
      "text/html": [
       "<div>\n",
       "<style scoped>\n",
       "    .dataframe tbody tr th:only-of-type {\n",
       "        vertical-align: middle;\n",
       "    }\n",
       "\n",
       "    .dataframe tbody tr th {\n",
       "        vertical-align: top;\n",
       "    }\n",
       "\n",
       "    .dataframe thead th {\n",
       "        text-align: right;\n",
       "    }\n",
       "</style>\n",
       "<table border=\"1\" class=\"dataframe\">\n",
       "  <thead>\n",
       "    <tr style=\"text-align: right;\">\n",
       "      <th></th>\n",
       "      <th>Word</th>\n",
       "      <th>Score</th>\n",
       "      <th>Declination</th>\n",
       "    </tr>\n",
       "  </thead>\n",
       "  <tbody>\n",
       "    <tr>\n",
       "      <th>0</th>\n",
       "      <td>Abbruch|NN</td>\n",
       "      <td>-0.0048</td>\n",
       "      <td>Abbruches,Abbrüche,Abbruchs,Abbrüchen</td>\n",
       "    </tr>\n",
       "    <tr>\n",
       "      <th>1</th>\n",
       "      <td>Abdankung|NN</td>\n",
       "      <td>-0.0048</td>\n",
       "      <td>Abdankungen</td>\n",
       "    </tr>\n",
       "    <tr>\n",
       "      <th>2</th>\n",
       "      <td>Abdämpfung|NN</td>\n",
       "      <td>-0.0048</td>\n",
       "      <td>Abdämpfungen</td>\n",
       "    </tr>\n",
       "    <tr>\n",
       "      <th>3</th>\n",
       "      <td>Abfall|NN</td>\n",
       "      <td>-0.0048</td>\n",
       "      <td>Abfalles,Abfälle,Abfalls,Abfällen</td>\n",
       "    </tr>\n",
       "    <tr>\n",
       "      <th>4</th>\n",
       "      <td>Abfuhr|NN</td>\n",
       "      <td>-0.3367</td>\n",
       "      <td>Abfuhren</td>\n",
       "    </tr>\n",
       "  </tbody>\n",
       "</table>\n",
       "</div>"
      ],
      "text/plain": [
       "            Word   Score                            Declination\n",
       "0     Abbruch|NN -0.0048  Abbruches,Abbrüche,Abbruchs,Abbrüchen\n",
       "1   Abdankung|NN -0.0048                            Abdankungen\n",
       "2  Abdämpfung|NN -0.0048                           Abdämpfungen\n",
       "3      Abfall|NN -0.0048      Abfalles,Abfälle,Abfalls,Abfällen\n",
       "4      Abfuhr|NN -0.3367                               Abfuhren"
      ]
     },
     "execution_count": 30,
     "metadata": {},
     "output_type": "execute_result"
    }
   ],
   "source": [
    "negative = pd.read_csv('./negative.txt', lineterminator='\\n', sep='\\t', header=0, names=['Word', 'Score', 'Declination'])\n",
    "negative.head()"
   ]
  },
  {
   "cell_type": "code",
   "execution_count": 31,
   "metadata": {},
   "outputs": [
    {
     "name": "stdout",
     "output_type": "stream",
     "text": [
      "Als Nächstes werden wir den Zusatz hinter dem senkrechten Strich (|) vom Wort lösen.\n"
     ]
    },
    {
     "data": {
      "text/html": [
       "<div>\n",
       "<style scoped>\n",
       "    .dataframe tbody tr th:only-of-type {\n",
       "        vertical-align: middle;\n",
       "    }\n",
       "\n",
       "    .dataframe tbody tr th {\n",
       "        vertical-align: top;\n",
       "    }\n",
       "\n",
       "    .dataframe thead th {\n",
       "        text-align: right;\n",
       "    }\n",
       "</style>\n",
       "<table border=\"1\" class=\"dataframe\">\n",
       "  <thead>\n",
       "    <tr style=\"text-align: right;\">\n",
       "      <th></th>\n",
       "      <th>Word</th>\n",
       "      <th>Score</th>\n",
       "      <th>Declination</th>\n",
       "      <th>Appendix</th>\n",
       "    </tr>\n",
       "  </thead>\n",
       "  <tbody>\n",
       "    <tr>\n",
       "      <th>0</th>\n",
       "      <td>Abbruch</td>\n",
       "      <td>-0.0048</td>\n",
       "      <td>Abbruches,Abbrüche,Abbruchs,Abbrüchen</td>\n",
       "      <td>NN</td>\n",
       "    </tr>\n",
       "    <tr>\n",
       "      <th>1</th>\n",
       "      <td>Abdankung</td>\n",
       "      <td>-0.0048</td>\n",
       "      <td>Abdankungen</td>\n",
       "      <td>NN</td>\n",
       "    </tr>\n",
       "    <tr>\n",
       "      <th>2</th>\n",
       "      <td>Abdämpfung</td>\n",
       "      <td>-0.0048</td>\n",
       "      <td>Abdämpfungen</td>\n",
       "      <td>NN</td>\n",
       "    </tr>\n",
       "    <tr>\n",
       "      <th>3</th>\n",
       "      <td>Abfall</td>\n",
       "      <td>-0.0048</td>\n",
       "      <td>Abfalles,Abfälle,Abfalls,Abfällen</td>\n",
       "      <td>NN</td>\n",
       "    </tr>\n",
       "    <tr>\n",
       "      <th>4</th>\n",
       "      <td>Abfuhr</td>\n",
       "      <td>-0.3367</td>\n",
       "      <td>Abfuhren</td>\n",
       "      <td>NN</td>\n",
       "    </tr>\n",
       "  </tbody>\n",
       "</table>\n",
       "</div>"
      ],
      "text/plain": [
       "         Word   Score                            Declination Appendix\n",
       "0     Abbruch -0.0048  Abbruches,Abbrüche,Abbruchs,Abbrüchen       NN\n",
       "1   Abdankung -0.0048                            Abdankungen       NN\n",
       "2  Abdämpfung -0.0048                           Abdämpfungen       NN\n",
       "3      Abfall -0.0048      Abfalles,Abfälle,Abfalls,Abfällen       NN\n",
       "4      Abfuhr -0.3367                               Abfuhren       NN"
      ]
     },
     "execution_count": 31,
     "metadata": {},
     "output_type": "execute_result"
    }
   ],
   "source": [
    "print(\"Als Nächstes werden wir den Zusatz hinter dem senkrechten Strich (|) vom Wort lösen.\")\n",
    "negative[['Word', 'Appendix']] = negative['Word'].str.split('|', 1, expand=True)\n",
    "negative.head()"
   ]
  },
  {
   "cell_type": "code",
   "execution_count": 32,
   "metadata": {},
   "outputs": [
    {
     "data": {
      "text/html": [
       "<div>\n",
       "<style scoped>\n",
       "    .dataframe tbody tr th:only-of-type {\n",
       "        vertical-align: middle;\n",
       "    }\n",
       "\n",
       "    .dataframe tbody tr th {\n",
       "        vertical-align: top;\n",
       "    }\n",
       "\n",
       "    .dataframe thead th {\n",
       "        text-align: right;\n",
       "    }\n",
       "</style>\n",
       "<table border=\"1\" class=\"dataframe\">\n",
       "  <thead>\n",
       "    <tr style=\"text-align: right;\">\n",
       "      <th></th>\n",
       "      <th>Word</th>\n",
       "      <th>Score</th>\n",
       "      <th>Declination</th>\n",
       "      <th>Appendix</th>\n",
       "    </tr>\n",
       "  </thead>\n",
       "  <tbody>\n",
       "    <tr>\n",
       "      <th>235</th>\n",
       "      <td>Gefahr</td>\n",
       "      <td>-1.0000</td>\n",
       "      <td>[Gefahren]</td>\n",
       "      <td>NN</td>\n",
       "    </tr>\n",
       "    <tr>\n",
       "      <th>464</th>\n",
       "      <td>Schuld</td>\n",
       "      <td>-0.9686</td>\n",
       "      <td>[Schulden]</td>\n",
       "      <td>NN</td>\n",
       "    </tr>\n",
       "    <tr>\n",
       "      <th>1538</th>\n",
       "      <td>unnötig</td>\n",
       "      <td>-0.9463</td>\n",
       "      <td>[unnötigstes, unnötigere, unnötige, unnötigere...</td>\n",
       "      <td>ADJX</td>\n",
       "    </tr>\n",
       "    <tr>\n",
       "      <th>1378</th>\n",
       "      <td>schädlich</td>\n",
       "      <td>-0.9269</td>\n",
       "      <td>[schädlicher, schädlicheren, schädlichem, schä...</td>\n",
       "      <td>ADJX</td>\n",
       "    </tr>\n",
       "    <tr>\n",
       "      <th>1366</th>\n",
       "      <td>schwach</td>\n",
       "      <td>-0.9206</td>\n",
       "      <td>[schwächstem, schwächsten, schwächster, schwäc...</td>\n",
       "      <td>ADJX</td>\n",
       "    </tr>\n",
       "    <tr>\n",
       "      <th>...</th>\n",
       "      <td>...</td>\n",
       "      <td>...</td>\n",
       "      <td>...</td>\n",
       "      <td>...</td>\n",
       "    </tr>\n",
       "    <tr>\n",
       "      <th>725</th>\n",
       "      <td>androhen</td>\n",
       "      <td>-0.0048</td>\n",
       "      <td>[angedroht, androhte, androhest, androhtest, a...</td>\n",
       "      <td>VVINF</td>\n",
       "    </tr>\n",
       "    <tr>\n",
       "      <th>721</th>\n",
       "      <td>alt</td>\n",
       "      <td>-0.0048</td>\n",
       "      <td>[alte, altem, alten, ältest, alter, altes, ält...</td>\n",
       "      <td>ADJX</td>\n",
       "    </tr>\n",
       "    <tr>\n",
       "      <th>736</th>\n",
       "      <td>anstrengen</td>\n",
       "      <td>-0.0048</td>\n",
       "      <td>[anstrengtet, anstrengest, anstrenget, angestr...</td>\n",
       "      <td>VVINF</td>\n",
       "    </tr>\n",
       "    <tr>\n",
       "      <th>1816</th>\n",
       "      <td>überwältigen</td>\n",
       "      <td>-0.0048</td>\n",
       "      <td>[überwältigest, überwältigten, überwältige, üb...</td>\n",
       "      <td>VVINF</td>\n",
       "    </tr>\n",
       "    <tr>\n",
       "      <th>1262</th>\n",
       "      <td>nervös</td>\n",
       "      <td>-0.0042</td>\n",
       "      <td>[nervöseste, nervöseren, nervösest, nervöserem...</td>\n",
       "      <td>ADJX</td>\n",
       "    </tr>\n",
       "  </tbody>\n",
       "</table>\n",
       "<p>1817 rows × 4 columns</p>\n",
       "</div>"
      ],
      "text/plain": [
       "              Word   Score                                        Declination  \\\n",
       "235         Gefahr -1.0000                                         [Gefahren]   \n",
       "464         Schuld -0.9686                                         [Schulden]   \n",
       "1538       unnötig -0.9463  [unnötigstes, unnötigere, unnötige, unnötigere...   \n",
       "1378     schädlich -0.9269  [schädlicher, schädlicheren, schädlichem, schä...   \n",
       "1366       schwach -0.9206  [schwächstem, schwächsten, schwächster, schwäc...   \n",
       "...            ...     ...                                                ...   \n",
       "725       androhen -0.0048  [angedroht, androhte, androhest, androhtest, a...   \n",
       "721            alt -0.0048  [alte, altem, alten, ältest, alter, altes, ält...   \n",
       "736     anstrengen -0.0048  [anstrengtet, anstrengest, anstrenget, angestr...   \n",
       "1816  überwältigen -0.0048  [überwältigest, überwältigten, überwältige, üb...   \n",
       "1262        nervös -0.0042  [nervöseste, nervöseren, nervösest, nervöserem...   \n",
       "\n",
       "     Appendix  \n",
       "235        NN  \n",
       "464        NN  \n",
       "1538     ADJX  \n",
       "1378     ADJX  \n",
       "1366     ADJX  \n",
       "...       ...  \n",
       "725     VVINF  \n",
       "721      ADJX  \n",
       "736     VVINF  \n",
       "1816    VVINF  \n",
       "1262     ADJX  \n",
       "\n",
       "[1817 rows x 4 columns]"
      ]
     },
     "execution_count": 32,
     "metadata": {},
     "output_type": "execute_result"
    }
   ],
   "source": [
    "negative['Declination'] = negative['Declination'].str.split(',')\n",
    "negative.sort_values(by='Score')"
   ]
  },
  {
   "cell_type": "code",
   "execution_count": 33,
   "metadata": {},
   "outputs": [],
   "source": [
    "negative_positive = {'negative' : negative, 'positive' : positive}"
   ]
  },
  {
   "cell_type": "markdown",
   "metadata": {},
   "source": [
    "### 3.2 Textdaten klassifizieren"
   ]
  },
  {
   "cell_type": "code",
   "execution_count": 34,
   "metadata": {},
   "outputs": [],
   "source": [
    "def classify(sequence):\n",
    "    \n",
    "    result = { 'negative' : {}, 'positive' : {}}\n",
    "    \n",
    "    for key, value in negative_positive.items():\n",
    "            \n",
    "        result[key] = {'score' : 0.0 , 'num' : 0.0, 'normalized' : 0.0}\n",
    "        \n",
    "        for token in sequence:\n",
    "            word = value.loc[value['Word'] == token]\n",
    "            if len(word['Score'].to_numpy()) == 0:\n",
    "                val = 0.0\n",
    "            else:\n",
    "                val = word['Score'].to_numpy()\n",
    "                \n",
    "            result[key]['score'] = result[key]['score'] + val\n",
    "            result[key]['num'] += 1\n",
    "        \n",
    "        result[key]['normalized'] = result[key]['score'] / result[key]['num']\n",
    "        \n",
    "    return result['negative']['normalized'], result['positive']['normalized']"
   ]
  },
  {
   "cell_type": "code",
   "execution_count": 35,
   "metadata": {},
   "outputs": [],
   "source": [
    "def classify_many(data):\n",
    "    \n",
    "    print('#\\tIst\\tNeg\\tPos\\tBeispiel')\n",
    "    \n",
    "    for example in data.iteritems():\n",
    "        negative, positive = classify(example[1])\n",
    "        print('%i\\t%.4f\\t%.4f\\t%.4f\\t%s' % (example[0], negative + positive, negative, positive, ' '.join(example[1])))"
   ]
  },
  {
   "cell_type": "code",
   "execution_count": 36,
   "metadata": {},
   "outputs": [],
   "source": [
    "def classify_many_with_labels(data):\n",
    "    \n",
    "    print('#\\tSoll\\tIst\\tNeg\\tPos\\tBeispiel')\n",
    "    \n",
    "    for example in data.itertuples():\n",
    "        negative, positive = classify(example[1])\n",
    "        print('%i\\t%.1f\\t%.4f\\t%.4f\\t%.4f\\t%s' % (example[0], example[2], negative + positive, negative, positive, ' '.join(example[1])))"
   ]
  },
  {
   "cell_type": "markdown",
   "metadata": {},
   "source": [
    "## 4. <a id='verwendung'>Verwendung</a>"
   ]
  },
  {
   "cell_type": "markdown",
   "metadata": {},
   "source": [
    "### 4.X Dummy-Daten klassifizieren"
   ]
  },
  {
   "cell_type": "code",
   "execution_count": 37,
   "metadata": {},
   "outputs": [],
   "source": [
    "data = pd.DataFrame([\n",
    "    [\"Dieses Lernmodul ist super, wunderbar und ganz besonders klasse!\", 1],\n",
    "    [\"Dieses Lernmodul ist fürchterlich, schrecklich und höchst unprofessionell!\", 0],\n",
    "    [\"Dieses Lernmodul finde ich auf der einen Seite spannend und auf der anderen Seite langweilig.\", -1]\n",
    "], columns=['Beispiel', 'Stimmung'])"
   ]
  },
  {
   "cell_type": "code",
   "execution_count": 38,
   "metadata": {},
   "outputs": [
    {
     "data": {
      "text/plain": [
       "0    Dieses Lernmodul ist super, wunderbar und ganz...\n",
       "1    Dieses Lernmodul ist fürchterlich, schrecklich...\n",
       "2    Dieses Lernmodul finde ich auf der einen Seite...\n",
       "Name: Beispiel, dtype: object"
      ]
     },
     "execution_count": 38,
     "metadata": {},
     "output_type": "execute_result"
    }
   ],
   "source": [
    "examples = data['Beispiel']\n",
    "examples.head()"
   ]
  },
  {
   "cell_type": "code",
   "execution_count": 39,
   "metadata": {},
   "outputs": [
    {
     "data": {
      "text/plain": [
       "0    Dieses Lernmodul ist super wunderbar und ganz ...\n",
       "1    Dieses Lernmodul ist fürchterlich schrecklich ...\n",
       "2    Dieses Lernmodul finde ich auf der einen Seite...\n",
       "Name: Beispiel, dtype: object"
      ]
     },
     "execution_count": 39,
     "metadata": {},
     "output_type": "execute_result"
    }
   ],
   "source": [
    "examples_cleaned = examples.replace(regex={'[^a-zA-Z0-9äöüßÄÖU\\s]' : ''})\n",
    "examples_cleaned"
   ]
  },
  {
   "cell_type": "code",
   "execution_count": 40,
   "metadata": {},
   "outputs": [
    {
     "name": "stdout",
     "output_type": "stream",
     "text": [
      "Aus Sätzen werden Wörter. Wir zerteilen die Sequenzen anhand des Leerzeichens:\n"
     ]
    },
    {
     "data": {
      "text/plain": [
       "0    [Dieses, Lernmodul, ist, super, wunderbar, und...\n",
       "1    [Dieses, Lernmodul, ist, fürchterlich, schreck...\n",
       "2    [Dieses, Lernmodul, finde, ich, auf, der, eine...\n",
       "Name: Beispiel, dtype: object"
      ]
     },
     "execution_count": 40,
     "metadata": {},
     "output_type": "execute_result"
    }
   ],
   "source": [
    "print(\"Aus Sätzen werden Wörter. Wir zerteilen die Sequenzen anhand des Leerzeichens:\")\n",
    "examples_tokenized = examples_cleaned.str.split()\n",
    "examples_tokenized"
   ]
  },
  {
   "cell_type": "code",
   "execution_count": 41,
   "metadata": {},
   "outputs": [],
   "source": [
    "data['Beispiel'] = examples_tokenized"
   ]
  },
  {
   "cell_type": "code",
   "execution_count": 42,
   "metadata": {},
   "outputs": [
    {
     "name": "stdout",
     "output_type": "stream",
     "text": [
      "#\tSoll\tIst\tNeg\tPos\tBeispiel\n",
      "0\t1.0\t0.2346\t0.0000\t0.2346\tDieses Lernmodul ist super wunderbar und ganz besonders klasse\n",
      "1\t0.0\t-0.0451\t-0.0451\t0.0000\tDieses Lernmodul ist fürchterlich schrecklich und höchst unprofessionell\n",
      "2\t-1.0\t0.0462\t-0.0015\t0.0478\tDieses Lernmodul finde ich auf der einen Seite spannend und auf der anderen Seite langweilig\n"
     ]
    }
   ],
   "source": [
    "classify_many_with_labels(data)"
   ]
  },
  {
   "cell_type": "markdown",
   "metadata": {},
   "source": [
    "### 4.X Reale Daten klassifizieren"
   ]
  },
  {
   "cell_type": "code",
   "execution_count": 43,
   "metadata": {},
   "outputs": [
    {
     "name": "stdout",
     "output_type": "stream",
     "text": [
      "#\tIst\tNeg\tPos\tBeispiel\n",
      "0\t0.0189\t0.0000\t0.0189\tHahaha da haben die Nazis aber Glück gehabt und was für ein Glück Hust Welcher Mann bitteschön würde denn mit DER na Ihr wisst schon httpstcoa749iauM9U\n",
      "1\t0.0002\t0.0000\t0.0002\tIch wünsche allen guten Menschen ein gesundes und glückliches Jahr 2020 Nur denen die aus berzeugung afd wählen denen wünsch ich ein richtig Beschissenes Viele Grüße\n",
      "2\t-0.0001\t-0.0004\t0.0003\tWir wünschen euch einen guten Rutsch und für das neue Jahr nur das Beste Lasst es krachen und feiert schön jurahannover conticampus leibnizuniversität unihannover hannover hannoverstagram httpstco5nVyrVSEqc\n",
      "3\t0.0138\t0.0000\t0.0138\tniggas pull a bad bitch and be insecure as hell afterwards shouldve stayed in ya range pussy\n",
      "4\t-0.0002\t-0.0002\t0.0000\t31122019 Breitscheidplatz Weihnachtsmarkt Aus den Stereoboxen erklingt ein stimmungsschweres FUCK YOU I WONT DO WHAT YOU TELL ME Guten Rutsch\n",
      "5\t0.0000\t0.0000\t0.0000\tWir wünschen allen ein friedliches und sorgenfreies Jahr 2020 und a git Rosch httpstcoj4BKdgggOe\n",
      "6\t0.0000\t0.0000\t0.0000\tDie Satirepartei Die Partei will 20 KlimaWissenschaftler auf den vorderen Listenplätzen bei der Bundestagswahl platzieren Sonneborn httpstcojXPKg8EgC6\n",
      "7\t0.0149\t-0.0001\t0.0150\tDer UmweltsauStreit zeigt Viele wissen nicht was bei Drohungen aus dem Netz zu tun ist Dabei sind Nazis nicht so kreativ ihre Angriffe folgen bestimmten Mustern Einzelpersonen amp Arbeitgeber müssen im Umgang mit dem Terror geschult werden Omagate httpstcollvGkTFjsy\n",
      "8\t0.0000\t0.0000\t0.0000\tCancer patient Ahmet now is not able to walk His grandma applied for a Visa to take him to Germany Dear Authorities Dad in prison Moms forbidden to leave Turkey Grandma applied 4 a visa Will you be so kind as to GRANT his Grandma with Visa please VisaDE GermanyVisa httpstco2Q4c98rFId\n",
      "9\t0.0001\t0.0000\t0.0001\tNach all den Skandalen bei den ÖffentlichRechtlichen ist es jetzt an der Zeit etwas härtere Bandagen anzulegen Die vorläufige Einstellung der Beitragszahlungen nämlich Wie das rechtmäßig geht steht in diesem Text httpstcoFloM4FivDs\n",
      "10\t0.0055\t-0.0001\t0.0056\tIch wünsche euch allen ein guten Rutsch und ein erfolgreiches Jahr 2020 Jungs und Mädels 2020 wird absolut Krank es wird viel passieren und ich freue mich jetzt schon drauf Bis dahin trinkt nicht soviel und passt auf eure Finger auf Grüße Flashy\n",
      "11\t-0.0068\t-0.0070\t0.0001\thttpstco6eWN5QANaY Am Ende eines ereignisreichem Jubiläumsjahres gemeinsam Erinnern u Vorschau auf ein hoffentlich gutes Jahr für unsere Vienna Bis bald u COME ON VIENNA comeonvienna wearevienna blaugelb vienna viennafamily yellowblue\n",
      "12\t0.0000\t0.0000\t0.0000\tCheers to many more goals like this SLBenfica youre getting a great one httpstcoRhG4XYuBSh\n",
      "13\t0.0001\t0.0000\t0.0001\tIch habe mal alles dafür getan das nächstes Jahr besser anfängt ich habe sogar die Wäsche abgenommen damit sich die bösen Geister und Gedanken nicht darin verstecken können Läuft also bei mir\n",
      "14\t0.0000\t0.0000\t0.0000\tTo celebrate the end of my 13th season Im raffling off a signed jersey To enter retweet this AND comment WPMOYchallenge SUNDBERG below Winner will be chosen January 7th GOOD LUCK httpstco5YrFOJbZhP\n",
      "15\t0.0000\t0.0000\t0.0000\tab can u guys reply with this SUHO BEST LEADER SUHO BEST LEADER SUHO BEST LEADER SUHO BEST LEADER SUHO BEST LEADER SUHO BEST LEADER SUHO BEST LEADER SUHO BEST LEADER SUHO BEST LEADER SUHO BEST LEADER SUHO BEST LEADER SUHO BEST LEADER\n",
      "16\t0.0068\t0.0000\t0.0068\tdagilplbh das ist ein Video von Blutorange den wir im stream geraidet haben Ich denke er würde sich risieg darüber freuen wenn er sieht dass du auf sein Dankeschön aufmerksam geworden bist httpstco7luOfXB4Cg\n",
      "17\t0.0002\t-0.0003\t0.0004\tIch wünsche Euch allen einen guten Rutsch und ein tolles 2020 Feiert schön Ich fahr zu meiner Frau httpstcooKcOf2hVfG\n",
      "18\t0.0000\t0.0000\t0.0000\tITAnalysten von SpiegelOnline haben herausgefunden dass ich am 2712 zur Instrumentalisierung von Umweltsau durch Rechte beitrug Nun Ich war zu diesem Zeitpunkt nachweislich bei Twitter gesperrt Hört auf zu lügen httpstcotjQqpiitjK\n",
      "19\t0.0282\t-0.0003\t0.0285\tAllen einen guten Rutsch Und für 2020 dies Liebe Freundschaft Gesundheit Muße Leichtigkeit Und Sinn für Ironie\n"
     ]
    }
   ],
   "source": [
    "classify_many(tweets_tokenized)"
   ]
  },
  {
   "cell_type": "markdown",
   "metadata": {},
   "source": [
    "## 5. <a id='abschluss'>Abschluss</a>"
   ]
  }
 ],
 "metadata": {
  "kernelspec": {
   "display_name": "Python 3",
   "language": "python",
   "name": "python3"
  },
  "language_info": {
   "codemirror_mode": {
    "name": "ipython",
    "version": 3
   },
   "file_extension": ".py",
   "mimetype": "text/x-python",
   "name": "python",
   "nbconvert_exporter": "python",
   "pygments_lexer": "ipython3",
   "version": "3.7.0"
  }
 },
 "nbformat": 4,
 "nbformat_minor": 4
}
