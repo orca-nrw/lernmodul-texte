{
 "cells": [
  {
   "cell_type": "markdown",
   "metadata": {},
   "source": [
    "# Lernmodul zur Verarbeitung und Analyse von Textdaten"
   ]
  },
  {
   "cell_type": "markdown",
   "metadata": {},
   "source": [
    "Die Verarbeitung von menschlicher Sprache (Natural Language Processing, NLP) gilt als Voraussetzung für eine erfolgreiche Mensch-Maschine-Kommunikation. Zusätzlich kann sie dabei helfen eine vom Mensch unternommene Textanalyse zu unterstützen. Handelt es sich bei diesem Kommentar um unerwünschte Inhalte, verbreitet dieser Beitrag falsche Informationen und welche Meinung will der Verfasser mit dieser Rezension zum Ausdruck bringen.\n",
    "\n",
    "In diesem Lernmodul sollen mithilfe computergestützter Methoden auf jene Fragen eine Antwort gefunden werden. Im Zuge der Sentiment Analysis wird versucht die Intention hinter einem Textbeitrag zu quantifizieren um bspw. zwischen einer positiven und einer negativen Aussage zu unterscheiden. Bevor aber ein Modell (hier: Klassifikator) eine Vorhersage (hier: Stimmung) über die verfügbaren Daten (hier: Textbeiträge) treffen kann, müssen diese vorbereitet werden. Das folgende Modul spielt diese Vorbereitung einmal mithilfe eines Jupyter Notebook, der Programmiersprache Python und der folgenden Bibliotheken durch."
   ]
  },
  {
   "cell_type": "markdown",
   "metadata": {},
   "source": [
    "**Übersicht über die Lerninhalte:**\n",
    "\n",
    "1. [Einführung](#einführung)\n",
    "    1. [Motivation](#motivation)\n",
    "    2. [Voraussetzungen](#voraussetzungen)\n",
    "2. [Daten](#daten)\n",
    "    1. [Textdaten beschaffen](#beschaffen)\n",
    "    2. [Textdaten erkunden](#erkunden)\n",
    "    3. [Textdaten aufbereiten](#aufbereiten)\n",
    "3. [Modell](#modell)\n",
    "    1. Textdaten einbetten\n",
    "    2. Textdaten klassifizieren\n",
    "4. Verwendung\n",
    "5. [Abschluss](#abschluss)"
   ]
  },
  {
   "cell_type": "markdown",
   "metadata": {},
   "source": [
    "**Lernziele:**\n",
    "\n",
    "Die Teilnehmer lernen Textdaten in roher Form Schritt für Schritt in kontextbezogene Daten für eine Textanalyse zu transformieren. Dies geschieht in der Datendomäne. Daraufhin bewegen sich die Teilnehmer in der Modelldomäne, in der sie die Daten in das Modell einbetten und sie vom Modell klassifizieren lassen."
   ]
  },
  {
   "cell_type": "markdown",
   "metadata": {},
   "source": [
    "**Voraussetzungen:**\n",
    "\n",
    "- [Lernmodul zum Datenimport und zur Datenvorbereitung mit Pandas](https://projectbase.medien.hs-duesseldorf.de/eild.nrw-module/lernmodul-pandas)"
   ]
  },
  {
   "cell_type": "markdown",
   "metadata": {},
   "source": [
    "<div style=\"background-color: #150458; padding: 5px;\"></div>\n",
    "\n",
    "## 1. <a id='einführung'>Einführung</a>"
   ]
  },
  {
   "cell_type": "markdown",
   "metadata": {},
   "source": [
    "### 1.1 <a id='motivation'>Motivation</a>"
   ]
  },
  {
   "cell_type": "markdown",
   "metadata": {},
   "source": [
    "Die Verarbeitung menschlicher Sprache (Natural Language Processing, NLP) ist ein prominentes Forschungsfeld der Informatik mit ähnlichem Bekanntheitsgrad wie die Analyse visueller Daten (Computer Vision), welche bspw. das Erkennen von Bildern (Image Recognition) sowie ihre Manipulation (Image Augmentation) betrachtet. Im ersten Fall wollen wir einen bekannten bzw. alten Bildinhalt klassifizieren, während der zweite Fall einen unbekannten bzw. neuen Bildinhalt erzeugt."
   ]
  },
  {
   "cell_type": "markdown",
   "metadata": {},
   "source": [
    "Wechseln wir von der Bild- auf die Textebene, lässt sich das Forschungsfeld des _NLP_ auf ähnliche Problemstellungen herunterbrechen, die in der folgenden Auflistung aufgeführt sind:\n",
    "\n",
    "* Texterkennung (Text Recognition)\n",
    "  * Spracherkennung (Speech Recognition)\n",
    "  * Stimmungsanalyse (Sentiment Analyses)\n",
    "* Textmanipulation (Text Augmentation)\n",
    "  * Maschinelle Übersetzung (Machine Translation)\n",
    "  * Automatisches Antworten (Question Answering)"
   ]
  },
  {
   "cell_type": "markdown",
   "metadata": {},
   "source": [
    "Ihr könnt euch bestimmt vorstellen, dass die Erzeugung von gänzlich Neuem aufwendiger ist, als das Entscheiden über vorliegende Inhalte und so beschäftigt sich dieses Lernmodul mit der Texterkennung, im besonderen mit der Unterscheidung zwischen verschiedenen Stimmungen, welche der Verfasser eines Textes gehabt haben könnte. Ein aktuelles Anwendungsbeispiel ist die Identifikation von Hassreden, wie sie bspw. von [Facebook](https://www.facebook.com/) im Zuge ihrer [Community Standards](https://www.facebook.com/communitystandards/hate_speech) verboten sind und erkannt werden müssen."
   ]
  },
  {
   "cell_type": "markdown",
   "metadata": {},
   "source": [
    "### 1.2 <a id='voraussetzungen'>Voraussetzungen</a>"
   ]
  },
  {
   "cell_type": "markdown",
   "metadata": {},
   "source": [
    "Dieses Lernmodul nimmt sich [NumPy](https://numpy.org/) für numerische Berechnungen, [Pandas](https://pandas.pydata.org/) zur Datenverarbeitung und [PyPlot](https://matplotlib.org/api/pyplot_api.html) zur Datenvisualisierung zur Hilfe. Die folgende Zelle importiert benötigte Abhängigkeiten:"
   ]
  },
  {
   "cell_type": "code",
   "execution_count": 1,
   "metadata": {},
   "outputs": [],
   "source": [
    "import numpy as np\n",
    "import pandas as pd\n",
    "import matplotlib.pyplot as plt"
   ]
  },
  {
   "cell_type": "markdown",
   "metadata": {},
   "source": [
    "<div style=\"background-color: #150458; padding: 5px;\"></div>\n",
    "\n",
    "## 2. <a id='daten'>Daten</a>"
   ]
  },
  {
   "cell_type": "markdown",
   "metadata": {},
   "source": [
    "In der Datendomäne beschaffen wir uns zunächst einen Datensatz, welcher aus vielen Beispielen besteht, welche die Grundgesamtheit des Datensatzes bilden. Ein Beispiel umfasst dabei mindestens ein, wenn nicht sogar mehrere Merkmale. Ein Merkmal wird dabei durch einen numerischen oder symbolischen Wert verkörpert, der in unserem Fall bspw. ein Text sein kann.\n",
    "\n",
    "Im späteren Verlauf werden wir von der Daten- in die Modelldomäne voranschreiten. Hier werden einzelne Merkmale verworfen, andere wiederum für eine Modellvorhersage herangezogen. Mehr dazu im Abschnitt 3, denn zunächst beschaffen wir uns die Daten..."
   ]
  },
  {
   "cell_type": "markdown",
   "metadata": {},
   "source": [
    "### 2.1 <a id='beschaffen'>Textdaten beschaffen</a>"
   ]
  },
  {
   "cell_type": "markdown",
   "metadata": {},
   "source": [
    "Zu Beginn holen wir uns die benötigten Daten mithilfe von Pandas aus einem ZIP-Archiv."
   ]
  },
  {
   "cell_type": "code",
   "execution_count": 2,
   "metadata": {},
   "outputs": [],
   "source": [
    "twitter = pd.read_json('./tweets.json.gz', compression='gzip')"
   ]
  },
  {
   "cell_type": "markdown",
   "metadata": {},
   "source": [
    "### 2.2 <a id='erkunden'>Textdaten erkunden</a>"
   ]
  },
  {
   "cell_type": "markdown",
   "metadata": {},
   "source": [
    "Wie sehen unsere Daten aus?"
   ]
  },
  {
   "cell_type": "code",
   "execution_count": 3,
   "metadata": {},
   "outputs": [
    {
     "data": {
      "text/html": [
       "<div>\n",
       "<style scoped>\n",
       "    .dataframe tbody tr th:only-of-type {\n",
       "        vertical-align: middle;\n",
       "    }\n",
       "\n",
       "    .dataframe tbody tr th {\n",
       "        vertical-align: top;\n",
       "    }\n",
       "\n",
       "    .dataframe thead th {\n",
       "        text-align: right;\n",
       "    }\n",
       "</style>\n",
       "<table border=\"1\" class=\"dataframe\">\n",
       "  <thead>\n",
       "    <tr style=\"text-align: right;\">\n",
       "      <th></th>\n",
       "      <th>twista</th>\n",
       "      <th>type</th>\n",
       "      <th>id</th>\n",
       "      <th>user</th>\n",
       "      <th>created_at</th>\n",
       "      <th>recorded_at</th>\n",
       "      <th>source</th>\n",
       "      <th>retweets</th>\n",
       "      <th>favourites</th>\n",
       "      <th>lang</th>\n",
       "      <th>...</th>\n",
       "      <th>screen_name</th>\n",
       "      <th>location</th>\n",
       "      <th>description</th>\n",
       "      <th>url</th>\n",
       "      <th>verified</th>\n",
       "      <th>followers</th>\n",
       "      <th>friends</th>\n",
       "      <th>listed</th>\n",
       "      <th>statuses</th>\n",
       "      <th>refers_to</th>\n",
       "    </tr>\n",
       "  </thead>\n",
       "  <tbody>\n",
       "    <tr>\n",
       "      <th>0</th>\n",
       "      <td>0.3.1-b</td>\n",
       "      <td>status</td>\n",
       "      <td>1212046141279354880</td>\n",
       "      <td>1.140992e+18</td>\n",
       "      <td>2019-12-31 16:21:33+00:00</td>\n",
       "      <td>2019-12-31 16:21:39.286956+00:00</td>\n",
       "      <td>&lt;a href=\"https://mobile.twitter.com\" rel=\"nofo...</td>\n",
       "      <td>0.0</td>\n",
       "      <td>0</td>\n",
       "      <td>de</td>\n",
       "      <td>...</td>\n",
       "      <td>NaN</td>\n",
       "      <td>NaN</td>\n",
       "      <td>NaN</td>\n",
       "      <td>NaN</td>\n",
       "      <td>NaN</td>\n",
       "      <td>NaN</td>\n",
       "      <td>NaN</td>\n",
       "      <td>NaN</td>\n",
       "      <td>NaN</td>\n",
       "      <td>NaN</td>\n",
       "    </tr>\n",
       "    <tr>\n",
       "      <th>1</th>\n",
       "      <td>0.3.1-b</td>\n",
       "      <td>status</td>\n",
       "      <td>1212046145645662208</td>\n",
       "      <td>7.137519e+17</td>\n",
       "      <td>2019-12-31 16:21:34+00:00</td>\n",
       "      <td>2019-12-31 16:21:39.657847+00:00</td>\n",
       "      <td>&lt;a href=\"https://mobile.twitter.com\" rel=\"nofo...</td>\n",
       "      <td>0.0</td>\n",
       "      <td>0</td>\n",
       "      <td>de</td>\n",
       "      <td>...</td>\n",
       "      <td>NaN</td>\n",
       "      <td>NaN</td>\n",
       "      <td>NaN</td>\n",
       "      <td>NaN</td>\n",
       "      <td>NaN</td>\n",
       "      <td>NaN</td>\n",
       "      <td>NaN</td>\n",
       "      <td>NaN</td>\n",
       "      <td>NaN</td>\n",
       "      <td>NaN</td>\n",
       "    </tr>\n",
       "    <tr>\n",
       "      <th>2</th>\n",
       "      <td>0.3.1-b</td>\n",
       "      <td>status</td>\n",
       "      <td>1212046145737961472</td>\n",
       "      <td>7.158583e+17</td>\n",
       "      <td>2019-12-31 16:21:34+00:00</td>\n",
       "      <td>2019-12-31 16:21:39.700276+00:00</td>\n",
       "      <td>&lt;a href=\"http://www.facebook.com/twitter\" rel=...</td>\n",
       "      <td>0.0</td>\n",
       "      <td>0</td>\n",
       "      <td>de</td>\n",
       "      <td>...</td>\n",
       "      <td>NaN</td>\n",
       "      <td>NaN</td>\n",
       "      <td>NaN</td>\n",
       "      <td>NaN</td>\n",
       "      <td>NaN</td>\n",
       "      <td>NaN</td>\n",
       "      <td>NaN</td>\n",
       "      <td>NaN</td>\n",
       "      <td>NaN</td>\n",
       "      <td>NaN</td>\n",
       "    </tr>\n",
       "    <tr>\n",
       "      <th>3</th>\n",
       "      <td>0.3.1-b</td>\n",
       "      <td>status</td>\n",
       "      <td>1211821086905683968</td>\n",
       "      <td>1.106642e+18</td>\n",
       "      <td>2019-12-31 01:27:16+00:00</td>\n",
       "      <td>2019-12-31 16:21:40.016141+00:00</td>\n",
       "      <td>&lt;a href=\"http://twitter.com/download/iphone\" r...</td>\n",
       "      <td>1582.0</td>\n",
       "      <td>4518</td>\n",
       "      <td>en</td>\n",
       "      <td>...</td>\n",
       "      <td>NaN</td>\n",
       "      <td>NaN</td>\n",
       "      <td>NaN</td>\n",
       "      <td>NaN</td>\n",
       "      <td>NaN</td>\n",
       "      <td>NaN</td>\n",
       "      <td>NaN</td>\n",
       "      <td>NaN</td>\n",
       "      <td>NaN</td>\n",
       "      <td>NaN</td>\n",
       "    </tr>\n",
       "    <tr>\n",
       "      <th>4</th>\n",
       "      <td>0.3.1-b</td>\n",
       "      <td>status</td>\n",
       "      <td>1212046149990916096</td>\n",
       "      <td>9.990299e+08</td>\n",
       "      <td>2019-12-31 16:21:35+00:00</td>\n",
       "      <td>2019-12-31 16:21:40.711065+00:00</td>\n",
       "      <td>&lt;a href=\"http://twitter.com/download/android\" ...</td>\n",
       "      <td>0.0</td>\n",
       "      <td>0</td>\n",
       "      <td>de</td>\n",
       "      <td>...</td>\n",
       "      <td>NaN</td>\n",
       "      <td>NaN</td>\n",
       "      <td>NaN</td>\n",
       "      <td>NaN</td>\n",
       "      <td>NaN</td>\n",
       "      <td>NaN</td>\n",
       "      <td>NaN</td>\n",
       "      <td>NaN</td>\n",
       "      <td>NaN</td>\n",
       "      <td>NaN</td>\n",
       "    </tr>\n",
       "  </tbody>\n",
       "</table>\n",
       "<p>5 rows × 26 columns</p>\n",
       "</div>"
      ],
      "text/plain": [
       "    twista    type                   id          user  \\\n",
       "0  0.3.1-b  status  1212046141279354880  1.140992e+18   \n",
       "1  0.3.1-b  status  1212046145645662208  7.137519e+17   \n",
       "2  0.3.1-b  status  1212046145737961472  7.158583e+17   \n",
       "3  0.3.1-b  status  1211821086905683968  1.106642e+18   \n",
       "4  0.3.1-b  status  1212046149990916096  9.990299e+08   \n",
       "\n",
       "                 created_at                      recorded_at  \\\n",
       "0 2019-12-31 16:21:33+00:00 2019-12-31 16:21:39.286956+00:00   \n",
       "1 2019-12-31 16:21:34+00:00 2019-12-31 16:21:39.657847+00:00   \n",
       "2 2019-12-31 16:21:34+00:00 2019-12-31 16:21:39.700276+00:00   \n",
       "3 2019-12-31 01:27:16+00:00 2019-12-31 16:21:40.016141+00:00   \n",
       "4 2019-12-31 16:21:35+00:00 2019-12-31 16:21:40.711065+00:00   \n",
       "\n",
       "                                              source  retweets  favourites  \\\n",
       "0  <a href=\"https://mobile.twitter.com\" rel=\"nofo...       0.0           0   \n",
       "1  <a href=\"https://mobile.twitter.com\" rel=\"nofo...       0.0           0   \n",
       "2  <a href=\"http://www.facebook.com/twitter\" rel=...       0.0           0   \n",
       "3  <a href=\"http://twitter.com/download/iphone\" r...    1582.0        4518   \n",
       "4  <a href=\"http://twitter.com/download/android\" ...       0.0           0   \n",
       "\n",
       "  lang  ... screen_name location description  url verified followers friends  \\\n",
       "0   de  ...         NaN      NaN         NaN  NaN      NaN       NaN     NaN   \n",
       "1   de  ...         NaN      NaN         NaN  NaN      NaN       NaN     NaN   \n",
       "2   de  ...         NaN      NaN         NaN  NaN      NaN       NaN     NaN   \n",
       "3   en  ...         NaN      NaN         NaN  NaN      NaN       NaN     NaN   \n",
       "4   de  ...         NaN      NaN         NaN  NaN      NaN       NaN     NaN   \n",
       "\n",
       "  listed statuses refers_to  \n",
       "0    NaN      NaN       NaN  \n",
       "1    NaN      NaN       NaN  \n",
       "2    NaN      NaN       NaN  \n",
       "3    NaN      NaN       NaN  \n",
       "4    NaN      NaN       NaN  \n",
       "\n",
       "[5 rows x 26 columns]"
      ]
     },
     "execution_count": 3,
     "metadata": {},
     "output_type": "execute_result"
    }
   ],
   "source": [
    "twitter.head()"
   ]
  },
  {
   "cell_type": "markdown",
   "metadata": {},
   "source": [
    "Wie viele Werte liegen insgesamt vor?"
   ]
  },
  {
   "cell_type": "code",
   "execution_count": 4,
   "metadata": {},
   "outputs": [
    {
     "data": {
      "text/plain": [
       "1300000"
      ]
     },
     "execution_count": 4,
     "metadata": {},
     "output_type": "execute_result"
    }
   ],
   "source": [
    "twitter.size"
   ]
  },
  {
   "cell_type": "markdown",
   "metadata": {},
   "source": [
    "Wie viele Beispiele liegen insgesamt vor?"
   ]
  },
  {
   "cell_type": "code",
   "execution_count": 5,
   "metadata": {},
   "outputs": [
    {
     "data": {
      "text/plain": [
       "50000"
      ]
     },
     "execution_count": 5,
     "metadata": {},
     "output_type": "execute_result"
    }
   ],
   "source": [
    "twitter.shape[0]"
   ]
  },
  {
   "cell_type": "markdown",
   "metadata": {},
   "source": [
    "50.000 Beispiele sind ein paar Beispiele zu viel. Wir machen mit lediglich 100 Beispielen wie folgt weiter..."
   ]
  },
  {
   "cell_type": "code",
   "execution_count": 6,
   "metadata": {},
   "outputs": [],
   "source": [
    "twitter = twitter[:100]"
   ]
  },
  {
   "cell_type": "markdown",
   "metadata": {},
   "source": [
    "Wie viele Werte liegen pro Beispiel vor?"
   ]
  },
  {
   "cell_type": "code",
   "execution_count": 7,
   "metadata": {},
   "outputs": [
    {
     "data": {
      "text/plain": [
       "26"
      ]
     },
     "execution_count": 7,
     "metadata": {},
     "output_type": "execute_result"
    }
   ],
   "source": [
    "twitter.shape[1]"
   ]
  },
  {
   "cell_type": "markdown",
   "metadata": {},
   "source": [
    "Welche Merkmale bzw. Wertetypen liegen vor?"
   ]
  },
  {
   "cell_type": "code",
   "execution_count": 8,
   "metadata": {},
   "outputs": [
    {
     "data": {
      "text/plain": [
       "twista                        object\n",
       "type                          object\n",
       "id                             int64\n",
       "user                         float64\n",
       "created_at       datetime64[ns, UTC]\n",
       "recorded_at      datetime64[ns, UTC]\n",
       "source                        object\n",
       "retweets                     float64\n",
       "favourites                     int64\n",
       "lang                          object\n",
       "hashtags                      object\n",
       "urls                          object\n",
       "mentions                      object\n",
       "mentioned_ids                 object\n",
       "text                          object\n",
       "name                          object\n",
       "screen_name                   object\n",
       "location                      object\n",
       "description                   object\n",
       "url                           object\n",
       "verified                     float64\n",
       "followers                    float64\n",
       "friends                      float64\n",
       "listed                       float64\n",
       "statuses                     float64\n",
       "refers_to                    float64\n",
       "dtype: object"
      ]
     },
     "execution_count": 8,
     "metadata": {},
     "output_type": "execute_result"
    }
   ],
   "source": [
    "twitter.dtypes"
   ]
  },
  {
   "cell_type": "markdown",
   "metadata": {},
   "source": [
    "Das Merkmal _lang_ schauen wir uns als Erstes an. Welche Sprachen sind vertreten?"
   ]
  },
  {
   "cell_type": "code",
   "execution_count": 9,
   "metadata": {},
   "outputs": [
    {
     "data": {
      "text/plain": [
       "array(['de', 'en', 'tr', 'pt', 'es'], dtype=object)"
      ]
     },
     "execution_count": 9,
     "metadata": {},
     "output_type": "execute_result"
    }
   ],
   "source": [
    "twitter['lang'].unique()"
   ]
  },
  {
   "cell_type": "markdown",
   "metadata": {},
   "source": [
    "Wir behalten lediglich die deutschen Inhalte..."
   ]
  },
  {
   "cell_type": "code",
   "execution_count": 10,
   "metadata": {},
   "outputs": [],
   "source": [
    "twitter = twitter.drop(twitter[twitter.lang != 'de'].index).reset_index(drop=True)"
   ]
  },
  {
   "cell_type": "markdown",
   "metadata": {},
   "source": [
    "Das Merkmal _text_ scheint die gewünschten Tweets zu enthalten. Wir extrahieren dieses Merkmal vom DataFrame _twitter_ in eine DataSeries _tweets_."
   ]
  },
  {
   "cell_type": "code",
   "execution_count": 11,
   "metadata": {},
   "outputs": [
    {
     "data": {
      "text/plain": [
       "0    Hahaha.., da haben \"die Nazis\" aber Glück 🍀 ge...\n",
       "1    Ich wünsche allen guten Menschen ein gesundes ...\n",
       "2    Wir wünschen euch einen guten Rutsch und für d...\n",
       "3    31.12.2019. Breitscheidplatz. Weihnachtsmarkt....\n",
       "4    Wir wünschen allen ein friedliches  und sorgen...\n",
       "Name: text, dtype: object"
      ]
     },
     "execution_count": 11,
     "metadata": {},
     "output_type": "execute_result"
    }
   ],
   "source": [
    "tweets = twitter['text']\n",
    "tweets.head()"
   ]
  },
  {
   "cell_type": "markdown",
   "metadata": {},
   "source": [
    "### 2.3 <a id='aufbereiten'>Textdaten aufbereiten</a>"
   ]
  },
  {
   "cell_type": "markdown",
   "metadata": {},
   "source": [
    "Als Nächstes werden wir alle Symbole entfernen, die weder dem Alphabet angehören, noch Ziffern sind..."
   ]
  },
  {
   "cell_type": "code",
   "execution_count": 12,
   "metadata": {},
   "outputs": [
    {
     "data": {
      "text/plain": [
       "0    Hahaha da haben die Nazis aber Glück  gehabt u...\n",
       "1    Ich wünsche allen guten Menschen ein gesundes ...\n",
       "2    Wir wünschen euch einen guten Rutsch und für d...\n",
       "3     Breitscheidplatz Weihnachtsmarkt Aus den Ster...\n",
       "4    Wir wünschen allen ein friedliches  und sorgen...\n",
       "Name: text, dtype: object"
      ]
     },
     "execution_count": 12,
     "metadata": {},
     "output_type": "execute_result"
    }
   ],
   "source": [
    "tweets_cleaned = tweets.replace(regex={'[^a-zA-ZäöüßÄÖU\\s]' : ''})\n",
    "tweets_cleaned.head()"
   ]
  },
  {
   "cell_type": "markdown",
   "metadata": {},
   "source": [
    "Aus Sätzen werden Wörter. Wir zerteilen die Sequenzen anhand des Leerzeichens:"
   ]
  },
  {
   "cell_type": "code",
   "execution_count": 13,
   "metadata": {},
   "outputs": [
    {
     "data": {
      "text/plain": [
       "0    [hahaha, da, haben, die, nazis, aber, glück, g...\n",
       "1    [ich, wünsche, allen, guten, menschen, ein, ge...\n",
       "2    [wir, wünschen, euch, einen, guten, rutsch, un...\n",
       "3    [breitscheidplatz, weihnachtsmarkt, aus, den, ...\n",
       "4    [wir, wünschen, allen, ein, friedliches, und, ...\n",
       "Name: text, dtype: object"
      ]
     },
     "execution_count": 13,
     "metadata": {},
     "output_type": "execute_result"
    }
   ],
   "source": [
    "tweets_tokenized = tweets_cleaned.str.lower().str.split()\n",
    "tweets_tokenized.head()"
   ]
  },
  {
   "cell_type": "markdown",
   "metadata": {},
   "source": [
    "Wie viele Wörter sind im längsten Tweet enthalten?"
   ]
  },
  {
   "cell_type": "code",
   "execution_count": 14,
   "metadata": {},
   "outputs": [
    {
     "data": {
      "text/plain": [
       "47"
      ]
     },
     "execution_count": 14,
     "metadata": {},
     "output_type": "execute_result"
    }
   ],
   "source": [
    "tweets_length = [len(tweet) for tweet in tweets_tokenized]\n",
    "np.max(tweets_length)"
   ]
  },
  {
   "cell_type": "markdown",
   "metadata": {},
   "source": [
    "Wie viele Tweets haben eine bestimmte Länge? Die folgende Funktion _plot_tweet_length_distribution_ hilft uns dabei:"
   ]
  },
  {
   "cell_type": "code",
   "execution_count": 15,
   "metadata": {},
   "outputs": [],
   "source": [
    "def plot_tweet_length_distribution(tweets_length):\n",
    "    \"\"\"Count tokens per tweet and plot their length distribution.\"\"\"\n",
    "\n",
    "    plt.hist(tweets_length, np.max(tweets_length))\n",
    "    plt.xlabel('Words per tweet')\n",
    "    plt.ylabel('Amount of tweets')\n",
    "    plt.title('Tweet length distribution')\n",
    "    plt.show()"
   ]
  },
  {
   "cell_type": "code",
   "execution_count": 16,
   "metadata": {},
   "outputs": [
    {
     "data": {
      "image/png": "[encoded data removed]",
      "text/plain": [
       "<Figure size 432x288 with 1 Axes>"
      ]
     },
     "metadata": {
      "needs_background": "light"
     },
     "output_type": "display_data"
    }
   ],
   "source": [
    "plot_tweet_length_distribution(tweets_length)"
   ]
  },
  {
   "cell_type": "markdown",
   "metadata": {},
   "source": [
    "Wie lauten die am häufigsten verwendeten Wörter? Dabei hilft uns die Funktionalität [FreqDist](http://www.nltk.org/api/nltk.html?highlight=freqdist#nltk.probability.FreqDist), welche eine Häufigkeitsverteilung über alle Wörter bildet."
   ]
  },
  {
   "cell_type": "code",
   "execution_count": 17,
   "metadata": {},
   "outputs": [],
   "source": [
    "from nltk.probability import FreqDist\n",
    "fd = FreqDist(tweets_tokenized.aggregate(np.concatenate))"
   ]
  },
  {
   "cell_type": "markdown",
   "metadata": {},
   "source": [
    "Wie lauten jetzt die zehn häufigsten Wörter?"
   ]
  },
  {
   "cell_type": "code",
   "execution_count": 18,
   "metadata": {},
   "outputs": [
    {
     "data": {
      "text/plain": [
       "[('und', 49),\n",
       " ('die', 47),\n",
       " ('ich', 32),\n",
       " ('ein', 31),\n",
       " ('der', 28),\n",
       " ('in', 23),\n",
       " ('für', 18),\n",
       " ('jahr', 18),\n",
       " ('das', 17),\n",
       " ('an', 17)]"
      ]
     },
     "execution_count": 18,
     "metadata": {},
     "output_type": "execute_result"
    }
   ],
   "source": [
    "fd.most_common(10)"
   ]
  },
  {
   "cell_type": "markdown",
   "metadata": {},
   "source": [
    "Wie sieht das Histogramm dazu aus?"
   ]
  },
  {
   "cell_type": "code",
   "execution_count": 19,
   "metadata": {},
   "outputs": [
    {
     "data": {
      "image/png": "[encoded data removed]",
      "text/plain": [
       "<Figure size 432x288 with 1 Axes>"
      ]
     },
     "metadata": {
      "needs_background": "light"
     },
     "output_type": "display_data"
    },
    {
     "data": {
      "text/plain": [
       "<matplotlib.axes._subplots.AxesSubplot at 0x20d94d8f780>"
      ]
     },
     "execution_count": 19,
     "metadata": {},
     "output_type": "execute_result"
    }
   ],
   "source": [
    "fd.plot(20)"
   ]
  },
  {
   "cell_type": "markdown",
   "metadata": {},
   "source": [
    "Neben dem Histogramm lässt sich auch eine sog. Schlagwort-Wolke aus den Wörtern erzeugen. Dazu nutzen wir die Funktionalität von [WordCloud](http://amueller.github.io/word_cloud/index.html)."
   ]
  },
  {
   "cell_type": "code",
   "execution_count": 20,
   "metadata": {},
   "outputs": [],
   "source": [
    "from wordcloud import WordCloud\n",
    "wc = WordCloud()"
   ]
  },
  {
   "cell_type": "markdown",
   "metadata": {},
   "source": [
    "Da wir im vorherigen Schritt bereits die Wortverteilung berechnet haben, lässt sich diese im folgenden wiederverwenden."
   ]
  },
  {
   "cell_type": "code",
   "execution_count": 21,
   "metadata": {},
   "outputs": [
    {
     "data": {
      "image/png": "[encoded data removed]",
      "text/plain": [
       "<Figure size 432x288 with 1 Axes>"
      ]
     },
     "metadata": {
      "needs_background": "light"
     },
     "output_type": "display_data"
    }
   ],
   "source": [
    "plt.imshow(wc.generate_from_frequencies(fd), interpolation=\"bilinear\")\n",
    "plt.show()"
   ]
  },
  {
   "cell_type": "markdown",
   "metadata": {},
   "source": [
    "## 3. <a id='modell'>Modell</a>"
   ]
  },
  {
   "cell_type": "markdown",
   "metadata": {},
   "source": [
    "### 3.1 Textdaten einbetten"
   ]
  },
  {
   "cell_type": "markdown",
   "metadata": {},
   "source": [
    "#### 3.1.1 Vokabular"
   ]
  },
  {
   "cell_type": "code",
   "execution_count": 22,
   "metadata": {},
   "outputs": [
    {
     "data": {
      "text/html": [
       "<div>\n",
       "<style scoped>\n",
       "    .dataframe tbody tr th:only-of-type {\n",
       "        vertical-align: middle;\n",
       "    }\n",
       "\n",
       "    .dataframe tbody tr th {\n",
       "        vertical-align: top;\n",
       "    }\n",
       "\n",
       "    .dataframe thead th {\n",
       "        text-align: right;\n",
       "    }\n",
       "</style>\n",
       "<table border=\"1\" class=\"dataframe\">\n",
       "  <thead>\n",
       "    <tr style=\"text-align: right;\">\n",
       "      <th></th>\n",
       "      <th>Wort</th>\n",
       "      <th>Score</th>\n",
       "      <th>Declination</th>\n",
       "      <th>Stimmung</th>\n",
       "    </tr>\n",
       "  </thead>\n",
       "  <tbody>\n",
       "    <tr>\n",
       "      <th>0</th>\n",
       "      <td>Abbruch|NN</td>\n",
       "      <td>-0.0048</td>\n",
       "      <td>Abbruches,Abbrüche,Abbruchs,Abbrüchen</td>\n",
       "      <td>negativ</td>\n",
       "    </tr>\n",
       "    <tr>\n",
       "      <th>1</th>\n",
       "      <td>Abdankung|NN</td>\n",
       "      <td>-0.0048</td>\n",
       "      <td>Abdankungen</td>\n",
       "      <td>negativ</td>\n",
       "    </tr>\n",
       "    <tr>\n",
       "      <th>2</th>\n",
       "      <td>Abdämpfung|NN</td>\n",
       "      <td>-0.0048</td>\n",
       "      <td>Abdämpfungen</td>\n",
       "      <td>negativ</td>\n",
       "    </tr>\n",
       "    <tr>\n",
       "      <th>3</th>\n",
       "      <td>Abfall|NN</td>\n",
       "      <td>-0.0048</td>\n",
       "      <td>Abfalles,Abfälle,Abfalls,Abfällen</td>\n",
       "      <td>negativ</td>\n",
       "    </tr>\n",
       "    <tr>\n",
       "      <th>4</th>\n",
       "      <td>Abfuhr|NN</td>\n",
       "      <td>-0.3367</td>\n",
       "      <td>Abfuhren</td>\n",
       "      <td>negativ</td>\n",
       "    </tr>\n",
       "  </tbody>\n",
       "</table>\n",
       "</div>"
      ],
      "text/plain": [
       "            Wort   Score                            Declination Stimmung\n",
       "0     Abbruch|NN -0.0048  Abbruches,Abbrüche,Abbruchs,Abbrüchen  negativ\n",
       "1   Abdankung|NN -0.0048                            Abdankungen  negativ\n",
       "2  Abdämpfung|NN -0.0048                           Abdämpfungen  negativ\n",
       "3      Abfall|NN -0.0048      Abfalles,Abfälle,Abfalls,Abfällen  negativ\n",
       "4      Abfuhr|NN -0.3367                               Abfuhren  negativ"
      ]
     },
     "execution_count": 22,
     "metadata": {},
     "output_type": "execute_result"
    }
   ],
   "source": [
    "positive = pd.read_csv('./positive.txt', lineterminator='\\n', sep='\\t', header=0, names=['Wort', 'Score', 'Declination'])\n",
    "positive['Stimmung'] = 'positiv'\n",
    "\n",
    "negative = pd.read_csv('./negative.txt', lineterminator='\\n', sep='\\t', header=0, names=['Wort', 'Score', 'Declination'])\n",
    "negative['Stimmung'] = 'negativ'\n",
    "\n",
    "vocab = pd.concat([negative, positive])\n",
    "assert positive.size + negative.size == vocab.size\n",
    "vocab.head()"
   ]
  },
  {
   "cell_type": "markdown",
   "metadata": {},
   "source": [
    "Als Nächstes werden wir den Zusatz hinter dem senkrechten Strich (|) vom Wort lösen."
   ]
  },
  {
   "cell_type": "code",
   "execution_count": 23,
   "metadata": {},
   "outputs": [
    {
     "data": {
      "text/html": [
       "<div>\n",
       "<style scoped>\n",
       "    .dataframe tbody tr th:only-of-type {\n",
       "        vertical-align: middle;\n",
       "    }\n",
       "\n",
       "    .dataframe tbody tr th {\n",
       "        vertical-align: top;\n",
       "    }\n",
       "\n",
       "    .dataframe thead th {\n",
       "        text-align: right;\n",
       "    }\n",
       "</style>\n",
       "<table border=\"1\" class=\"dataframe\">\n",
       "  <thead>\n",
       "    <tr style=\"text-align: right;\">\n",
       "      <th></th>\n",
       "      <th>Wort</th>\n",
       "      <th>Score</th>\n",
       "      <th>Declination</th>\n",
       "      <th>Stimmung</th>\n",
       "      <th>Tag</th>\n",
       "    </tr>\n",
       "  </thead>\n",
       "  <tbody>\n",
       "    <tr>\n",
       "      <th>0</th>\n",
       "      <td>Abbruch</td>\n",
       "      <td>-0.0048</td>\n",
       "      <td>Abbruches,Abbrüche,Abbruchs,Abbrüchen</td>\n",
       "      <td>negativ</td>\n",
       "      <td>NN</td>\n",
       "    </tr>\n",
       "    <tr>\n",
       "      <th>1</th>\n",
       "      <td>Abdankung</td>\n",
       "      <td>-0.0048</td>\n",
       "      <td>Abdankungen</td>\n",
       "      <td>negativ</td>\n",
       "      <td>NN</td>\n",
       "    </tr>\n",
       "    <tr>\n",
       "      <th>2</th>\n",
       "      <td>Abdämpfung</td>\n",
       "      <td>-0.0048</td>\n",
       "      <td>Abdämpfungen</td>\n",
       "      <td>negativ</td>\n",
       "      <td>NN</td>\n",
       "    </tr>\n",
       "    <tr>\n",
       "      <th>3</th>\n",
       "      <td>Abfall</td>\n",
       "      <td>-0.0048</td>\n",
       "      <td>Abfalles,Abfälle,Abfalls,Abfällen</td>\n",
       "      <td>negativ</td>\n",
       "      <td>NN</td>\n",
       "    </tr>\n",
       "    <tr>\n",
       "      <th>4</th>\n",
       "      <td>Abfuhr</td>\n",
       "      <td>-0.3367</td>\n",
       "      <td>Abfuhren</td>\n",
       "      <td>negativ</td>\n",
       "      <td>NN</td>\n",
       "    </tr>\n",
       "  </tbody>\n",
       "</table>\n",
       "</div>"
      ],
      "text/plain": [
       "         Wort   Score                            Declination Stimmung Tag\n",
       "0     Abbruch -0.0048  Abbruches,Abbrüche,Abbruchs,Abbrüchen  negativ  NN\n",
       "1   Abdankung -0.0048                            Abdankungen  negativ  NN\n",
       "2  Abdämpfung -0.0048                           Abdämpfungen  negativ  NN\n",
       "3      Abfall -0.0048      Abfalles,Abfälle,Abfalls,Abfällen  negativ  NN\n",
       "4      Abfuhr -0.3367                               Abfuhren  negativ  NN"
      ]
     },
     "execution_count": 23,
     "metadata": {},
     "output_type": "execute_result"
    }
   ],
   "source": [
    "vocab[['Wort', 'Tag']] = vocab['Wort'].str.split('|', 1, expand=True)\n",
    "vocab.head()"
   ]
  },
  {
   "cell_type": "markdown",
   "metadata": {},
   "source": [
    "Fehlende Werte werden mit einer leeren Zeichenkette ersetzt."
   ]
  },
  {
   "cell_type": "code",
   "execution_count": 24,
   "metadata": {},
   "outputs": [],
   "source": [
    "vocab = vocab.fillna('')"
   ]
  },
  {
   "cell_type": "code",
   "execution_count": 25,
   "metadata": {},
   "outputs": [],
   "source": [
    "vocab['Merged'] = vocab['Wort'] + ',' + vocab['Declination']\n",
    "vocab['Merged'] = vocab['Merged'].str.split(',')"
   ]
  },
  {
   "cell_type": "code",
   "execution_count": 26,
   "metadata": {},
   "outputs": [
    {
     "data": {
      "text/html": [
       "<div>\n",
       "<style scoped>\n",
       "    .dataframe tbody tr th:only-of-type {\n",
       "        vertical-align: middle;\n",
       "    }\n",
       "\n",
       "    .dataframe tbody tr th {\n",
       "        vertical-align: top;\n",
       "    }\n",
       "\n",
       "    .dataframe thead th {\n",
       "        text-align: right;\n",
       "    }\n",
       "</style>\n",
       "<table border=\"1\" class=\"dataframe\">\n",
       "  <thead>\n",
       "    <tr style=\"text-align: right;\">\n",
       "      <th></th>\n",
       "      <th>Stem</th>\n",
       "      <th>Score</th>\n",
       "      <th>Stimmung</th>\n",
       "      <th>Tag</th>\n",
       "      <th>Wort</th>\n",
       "    </tr>\n",
       "  </thead>\n",
       "  <tbody>\n",
       "    <tr>\n",
       "      <th>0</th>\n",
       "      <td>Abbruch</td>\n",
       "      <td>-0.0048</td>\n",
       "      <td>negativ</td>\n",
       "      <td>NN</td>\n",
       "      <td>abbruch</td>\n",
       "    </tr>\n",
       "    <tr>\n",
       "      <th>1</th>\n",
       "      <td>Abbruch</td>\n",
       "      <td>-0.0048</td>\n",
       "      <td>negativ</td>\n",
       "      <td>NN</td>\n",
       "      <td>abbruches</td>\n",
       "    </tr>\n",
       "    <tr>\n",
       "      <th>2</th>\n",
       "      <td>Abbruch</td>\n",
       "      <td>-0.0048</td>\n",
       "      <td>negativ</td>\n",
       "      <td>NN</td>\n",
       "      <td>abbrüche</td>\n",
       "    </tr>\n",
       "    <tr>\n",
       "      <th>3</th>\n",
       "      <td>Abbruch</td>\n",
       "      <td>-0.0048</td>\n",
       "      <td>negativ</td>\n",
       "      <td>NN</td>\n",
       "      <td>abbruchs</td>\n",
       "    </tr>\n",
       "    <tr>\n",
       "      <th>4</th>\n",
       "      <td>Abbruch</td>\n",
       "      <td>-0.0048</td>\n",
       "      <td>negativ</td>\n",
       "      <td>NN</td>\n",
       "      <td>abbrüchen</td>\n",
       "    </tr>\n",
       "    <tr>\n",
       "      <th>...</th>\n",
       "      <td>...</td>\n",
       "      <td>...</td>\n",
       "      <td>...</td>\n",
       "      <td>...</td>\n",
       "      <td>...</td>\n",
       "    </tr>\n",
       "    <tr>\n",
       "      <th>32076</th>\n",
       "      <td>üppig</td>\n",
       "      <td>0.2010</td>\n",
       "      <td>positiv</td>\n",
       "      <td>ADJX</td>\n",
       "      <td>üppigster</td>\n",
       "    </tr>\n",
       "    <tr>\n",
       "      <th>32077</th>\n",
       "      <td>üppig</td>\n",
       "      <td>0.2010</td>\n",
       "      <td>positiv</td>\n",
       "      <td>ADJX</td>\n",
       "      <td>üppiges</td>\n",
       "    </tr>\n",
       "    <tr>\n",
       "      <th>32078</th>\n",
       "      <td>üppig</td>\n",
       "      <td>0.2010</td>\n",
       "      <td>positiv</td>\n",
       "      <td>ADJX</td>\n",
       "      <td>üppig</td>\n",
       "    </tr>\n",
       "    <tr>\n",
       "      <th>32079</th>\n",
       "      <td>üppig</td>\n",
       "      <td>0.2010</td>\n",
       "      <td>positiv</td>\n",
       "      <td>ADJX</td>\n",
       "      <td>üppigsten</td>\n",
       "    </tr>\n",
       "    <tr>\n",
       "      <th>32080</th>\n",
       "      <td>üppig</td>\n",
       "      <td>0.2010</td>\n",
       "      <td>positiv</td>\n",
       "      <td>ADJX</td>\n",
       "      <td>üppige</td>\n",
       "    </tr>\n",
       "  </tbody>\n",
       "</table>\n",
       "<p>32081 rows × 5 columns</p>\n",
       "</div>"
      ],
      "text/plain": [
       "          Stem   Score Stimmung   Tag       Wort\n",
       "0      Abbruch -0.0048  negativ    NN    abbruch\n",
       "1      Abbruch -0.0048  negativ    NN  abbruches\n",
       "2      Abbruch -0.0048  negativ    NN   abbrüche\n",
       "3      Abbruch -0.0048  negativ    NN   abbruchs\n",
       "4      Abbruch -0.0048  negativ    NN  abbrüchen\n",
       "...        ...     ...      ...   ...        ...\n",
       "32076    üppig  0.2010  positiv  ADJX  üppigster\n",
       "32077    üppig  0.2010  positiv  ADJX    üppiges\n",
       "32078    üppig  0.2010  positiv  ADJX      üppig\n",
       "32079    üppig  0.2010  positiv  ADJX  üppigsten\n",
       "32080    üppig  0.2010  positiv  ADJX     üppige\n",
       "\n",
       "[32081 rows x 5 columns]"
      ]
     },
     "execution_count": 26,
     "metadata": {},
     "output_type": "execute_result"
    }
   ],
   "source": [
    "vocab = vocab.explode('Merged')\n",
    "vocab = vocab.sort_values('Wort').reset_index(drop=True)\n",
    "vocab = vocab.rename(columns={'Wort': 'Stem', 'Merged': 'Wort'})\n",
    "vocab = vocab.drop(['Declination'], axis=1)\n",
    "vocab['Wort'] = vocab['Wort'].str.lower()\n",
    "vocab"
   ]
  },
  {
   "cell_type": "markdown",
   "metadata": {},
   "source": [
    "Welche Wort-Typen sind vorhanden?"
   ]
  },
  {
   "cell_type": "code",
   "execution_count": 27,
   "metadata": {},
   "outputs": [
    {
     "data": {
      "text/html": [
       "<div>\n",
       "<style scoped>\n",
       "    .dataframe tbody tr th:only-of-type {\n",
       "        vertical-align: middle;\n",
       "    }\n",
       "\n",
       "    .dataframe tbody tr th {\n",
       "        vertical-align: top;\n",
       "    }\n",
       "\n",
       "    .dataframe thead th {\n",
       "        text-align: right;\n",
       "    }\n",
       "</style>\n",
       "<table border=\"1\" class=\"dataframe\">\n",
       "  <thead>\n",
       "    <tr style=\"text-align: right;\">\n",
       "      <th></th>\n",
       "      <th>Stem</th>\n",
       "      <th>Score</th>\n",
       "      <th>Stimmung</th>\n",
       "      <th>Wort</th>\n",
       "    </tr>\n",
       "    <tr>\n",
       "      <th>Tag</th>\n",
       "      <th></th>\n",
       "      <th></th>\n",
       "      <th></th>\n",
       "      <th></th>\n",
       "    </tr>\n",
       "  </thead>\n",
       "  <tbody>\n",
       "    <tr>\n",
       "      <th>ADJX</th>\n",
       "      <td>22960</td>\n",
       "      <td>22960</td>\n",
       "      <td>22960</td>\n",
       "      <td>22960</td>\n",
       "    </tr>\n",
       "    <tr>\n",
       "      <th>ADV</th>\n",
       "      <td>37</td>\n",
       "      <td>37</td>\n",
       "      <td>37</td>\n",
       "      <td>37</td>\n",
       "    </tr>\n",
       "    <tr>\n",
       "      <th>NN</th>\n",
       "      <td>3182</td>\n",
       "      <td>3182</td>\n",
       "      <td>3182</td>\n",
       "      <td>3182</td>\n",
       "    </tr>\n",
       "    <tr>\n",
       "      <th>VVINF</th>\n",
       "      <td>5902</td>\n",
       "      <td>5902</td>\n",
       "      <td>5902</td>\n",
       "      <td>5902</td>\n",
       "    </tr>\n",
       "  </tbody>\n",
       "</table>\n",
       "</div>"
      ],
      "text/plain": [
       "        Stem  Score  Stimmung   Wort\n",
       "Tag                                 \n",
       "ADJX   22960  22960     22960  22960\n",
       "ADV       37     37        37     37\n",
       "NN      3182   3182      3182   3182\n",
       "VVINF   5902   5902      5902   5902"
      ]
     },
     "execution_count": 27,
     "metadata": {},
     "output_type": "execute_result"
    }
   ],
   "source": [
    "vocab.groupby('Tag').count()"
   ]
  },
  {
   "cell_type": "markdown",
   "metadata": {},
   "source": [
    "### 3.1.2 Features"
   ]
  },
  {
   "cell_type": "code",
   "execution_count": 28,
   "metadata": {},
   "outputs": [],
   "source": [
    "from nltk import NaiveBayesClassifier"
   ]
  },
  {
   "cell_type": "code",
   "execution_count": 29,
   "metadata": {},
   "outputs": [],
   "source": [
    "def word_feats(words):\n",
    "    return dict([(word, True) for word in words])"
   ]
  },
  {
   "cell_type": "code",
   "execution_count": 30,
   "metadata": {},
   "outputs": [],
   "source": [
    "negative_features = [(word_feats(vocab.loc[vocab['Stimmung'] == 'negativ']['Wort']), 'negativ')]\n",
    "positive_features = [(word_feats(vocab.loc[vocab['Stimmung'] == 'positiv']['Wort']), 'positiv')]\n",
    "train_set = negative_features + positive_features\n",
    "classifier = NaiveBayesClassifier.train(train_set)"
   ]
  },
  {
   "cell_type": "code",
   "execution_count": 31,
   "metadata": {},
   "outputs": [],
   "source": [
    "corpus = {'negativ' : vocab.loc[vocab['Stimmung'] == 'negativ'], 'positiv' : vocab.loc[vocab['Stimmung'] == 'positiv']}"
   ]
  },
  {
   "cell_type": "markdown",
   "metadata": {},
   "source": [
    "### 3.2 Textdaten klassifizieren"
   ]
  },
  {
   "cell_type": "code",
   "execution_count": 32,
   "metadata": {},
   "outputs": [],
   "source": [
    "def classify(sequence):\n",
    "    \n",
    "    result = { 'negativ' : {}, 'positiv' : {}}\n",
    "    \n",
    "    for key, value in corpus.items():\n",
    "        result[key] = {'score' : 0.0 , 'num' : 0.0, 'normalized' : 0.0}\n",
    "        \n",
    "        for token in sequence:\n",
    "            word = value.loc[value['Wort'] == token]\n",
    "            if len(word['Score'].to_numpy()) == 0:\n",
    "                val = 0.0\n",
    "            else:\n",
    "                val = word['Score'].to_numpy()\n",
    "            \n",
    "            result[key]['score'] = np.sum(result[key]['score'] + val)\n",
    "            result[key]['num'] += 1\n",
    "        \n",
    "        result[key]['normalized'] = result[key]['score'] / result[key]['num']\n",
    "    \n",
    "    return result['negativ']['score'], result['positiv']['score']"
   ]
  },
  {
   "cell_type": "code",
   "execution_count": 33,
   "metadata": {},
   "outputs": [],
   "source": [
    "def classify_many(data):\n",
    "    \n",
    "    print('#\\tNaiv\\tNLTK\\t∆ Beispiel')\n",
    "    \n",
    "    for example in data.iteritems():\n",
    "        n, p = classify(example[1])\n",
    "        if n+p > 0:\n",
    "            naiv = 'positiv'\n",
    "        elif n+p < 0:\n",
    "            naiv = 'negativ'\n",
    "        else: \n",
    "            naiv = 'neutral'\n",
    "            \n",
    "        features = word_feats(example[1])\n",
    "        nltk = classifier.classify(features)\n",
    "        \n",
    "        if naiv != nltk:\n",
    "            tmp = 'X '\n",
    "        else:\n",
    "            tmp = '  '\n",
    "        print('%i\\t%s\\t%s\\t%s%.160s' % (example[0], naiv, nltk, tmp, ' '.join(example[1])))"
   ]
  },
  {
   "cell_type": "markdown",
   "metadata": {},
   "source": [
    "<div style=\"background-color: #150458; padding: 5px;\"></div>\n",
    "\n",
    "## 4. <a id='verwendung'>Verwendung</a>"
   ]
  },
  {
   "cell_type": "markdown",
   "metadata": {},
   "source": [
    "Welche Stimmung gibt er für folgenden Satz aus?\n",
    "\n",
    "> Was für ein schLEchtes LernMOduL"
   ]
  },
  {
   "cell_type": "code",
   "execution_count": 34,
   "metadata": {},
   "outputs": [
    {
     "data": {
      "text/plain": [
       "'negativ'"
      ]
     },
     "execution_count": 34,
     "metadata": {},
     "output_type": "execute_result"
    }
   ],
   "source": [
    "classifier.classify(word_feats(\"Was für ein schLEchtes LernMOduL\".lower().split()))"
   ]
  },
  {
   "cell_type": "markdown",
   "metadata": {},
   "source": [
    "Welche Stimmung gibt er für folgenden Satz aus?\n",
    "\n",
    "> Was für ein GuTeS LernModul"
   ]
  },
  {
   "cell_type": "code",
   "execution_count": 35,
   "metadata": {},
   "outputs": [
    {
     "data": {
      "text/plain": [
       "'positiv'"
      ]
     },
     "execution_count": 35,
     "metadata": {},
     "output_type": "execute_result"
    }
   ],
   "source": [
    "classifier.classify(word_feats(\"Was für ein GuTeS LernModul\".lower().split()))"
   ]
  },
  {
   "cell_type": "code",
   "execution_count": 36,
   "metadata": {},
   "outputs": [
    {
     "name": "stdout",
     "output_type": "stream",
     "text": [
      "#\tNaiv\tNLTK\t∆ Beispiel\n",
      "0\tpositiv\tpositiv\t  hahaha da haben die nazis aber glück gehabt und was für ein glück hust welcher mann bitteschön würde denn mit der na ihr wisst schon httpstcoaiaumu\n",
      "1\tpositiv\tpositiv\t  ich wünsche allen guten menschen ein gesundes und glückliches jahr nur denen die aus berzeugung afd wählen denen wünsch ich ein richtig beschissenes viele grüße\n",
      "2\tpositiv\tpositiv\t  wir wünschen euch einen guten rutsch und für das neue jahr nur das beste lasst es krachen und feiert schön jurahannover conticampus leibnizuniversität unihannov\n",
      "3\tpositiv\tpositiv\t  breitscheidplatz weihnachtsmarkt aus den stereoboxen erklingt ein stimmungsschweres fuck you i wont do what you tell me guten rutsch\n",
      "4\tpositiv\tpositiv\t  wir wünschen allen ein friedliches und sorgenfreies jahr und a git rosch httpstcojbkdgggoe\n",
      "5\tneutral\tpositiv\tX die satirepartei die partei will klimawissenschaftler auf den vorderen listenplätzen bei der bundestagswahl platzieren sonneborn httpstcojxpkgegc\n",
      "6\tpositiv\tnegativ\tX der umweltsaustreit zeigt viele wissen nicht was bei drohungen aus dem netz zu tun ist dabei sind nazis nicht so kreativ ihre angriffe folgen bestimmten mustern\n",
      "7\tnegativ\tnegativ\t  nach all den skandalen bei den öffentlichrechtlichen ist es jetzt an der zeit etwas härtere bandagen anzulegen die vorläufige einstellung der beitragszahlungen \n",
      "8\tpositiv\tpositiv\t  ich wünsche euch allen ein guten rutsch und ein erfolgreiches jahr jungs und mädels wird absolut krank es wird viel passieren und ich freue mich jetzt schon dra\n",
      "9\tpositiv\tpositiv\t  httpstcoewnqanay am ende eines ereignisreichem jubiläumsjahres gemeinsam erinnern u vorschau auf ein hoffentlich gutes jahr für unsere vienna bis bald u come on\n",
      "10\tpositiv\tpositiv\t  ich habe mal alles dafür getan das nächstes jahr besser anfängt ich habe sogar die wäsche abgenommen damit sich die bösen geister und gedanken nicht darin verst\n",
      "11\tneutral\tpositiv\tX ab can u guys reply with this suho best leader suho best leader suho best leader suho best leader suho best leader suho best leader suho best leader suho best l\n",
      "12\tpositiv\tpositiv\t  dagilplbh das ist ein video von blutorange den wir im stream geraidet haben ich denke er würde sich risieg darüber freuen wenn er sieht dass du auf sein dankesc\n",
      "13\tpositiv\tpositiv\t  ich wünsche euch allen einen guten rutsch und ein tolles feiert schön ich fahr zu meiner frau httpstcookcofhvfg\n",
      "14\tnegativ\tpositiv\tX itanalysten von spiegelonline haben herausgefunden dass ich am zur instrumentalisierung von umweltsau durch rechte beitrug nun ich war zu diesem zeitpunkt nachw\n",
      "15\tpositiv\tpositiv\t  allen einen guten rutsch und für dies liebe freundschaft gesundheit muße leichtigkeit und sinn für ironie\n",
      "16\tpositiv\tpositiv\t  dieses jahrzehnt ging an die dummköpfe mögen das nächste die spinner gewinnen\n",
      "17\tnegativ\tpositiv\tX auch das ist ein grund für die existenz der vielen staatssender es täuscht internationale relevanz unserer politikerdarsteller vor ohne staatsfunk rot eingekrei\n",
      "18\tpositiv\tpositiv\t  wer macht mit eigener name ihr schreibt wörter die mich beschreiben passend zu den buchstaben dahinter komplimente quasi umsonst so am jahresende hab ich von me\n",
      "19\tpositiv\tpositiv\t  meine oma ist ne alte umweltsau um seine bröckelnde macht zu sichern hetzte mao in der sogenannten kulturrevolution die kinder auf es starben menschen merkel ha\n",
      "20\tneutral\tpositiv\tX moinschön am letzten dienstag des jahres httpstcoxewnygkxc\n",
      "21\tneutral\tpositiv\tX meine füße können nasen riechen\n",
      "22\tnegativ\tnegativ\t  es ist unerträglich in einem staat zu leben in dem man lebenslang für das bloße wohnen als einem grundbedürfnis menschlichen daseins solch unsoziale abgabe an d\n",
      "23\tneutral\tpositiv\tX welcome heute proudly presented by tsm mit beiniger und beiniger unterstützungan den twittertasten tweetslesenstattböllern httpstcozbhoehnvn\n",
      "24\tnegativ\tnegativ\t  feuerwerk und böller sind doof aber trotzdem kann man ja heute abend klugscheißen die farben im himmel hängen nämlich von den verwendeten metallsalzen in den ra\n",
      "25\tneutral\tpositiv\tX skyrim nach all den jahren httpstcoavdsylp\n",
      "26\tnegativ\tnegativ\t  fahrradfahrerin in köln ko gehauen offenbar weil sie sich über die falschen autoprolos echauffierte der beifahrer hatte ein südländisches aussehen einen dreitag\n",
      "27\tnegativ\tnegativ\t  was für ein jahr ich erhebe mein glas auf euch und zünde nen feuer für euch alle anfür die die nicht mehr unter uns sind und für alle die mich mögenbleibt gesun\n",
      "28\tnegativ\tpositiv\tX ich fasse das ja nicht wdr legt vor mit umweltsau als ein sender der angeblich einen bildungsauftrag verfolgt ein hollek legt nach u identifiziert eine ganze ge\n",
      "29\tpositiv\tpositiv\t  ich wünsche euch allen einen guten rutsch und einen schönen start in ein neues jahrzehnt feiert schön lasst die korken knallen und die gläser klirren\n",
      "30\tneutral\tpositiv\tX vater und sohn sagen tschüss und werden vom drachen ins nächste jahr getragen du bist nicht du ohne laedlajuice made by bambergerdampferlaedla buddies coilfam v\n",
      "31\tneutral\tpositiv\tX laut dem opfer soll das auto ein mattgrauer breiter und tiefer gelegter kombi mit schwarz getönten scheiben sein der beifahrer hatte ein südländisches aussehen \n",
      "32\tneutral\tpositiv\tX dampe linkchun httpstcoqvgpzgtms\n",
      "33\tnegativ\tpositiv\tX gruenekemmern wünschen ein glückliches neues jahr dem schließen wir uns gerne an herzliche grüße ins bamberger umland weilwirhierleben httpstcowdiwqlhiw\n",
      "34\tnegativ\tpositiv\tX silvesterfeuerwerk zurückgerufen große gefahr bei drei wecoprodukten httpstcooauedlcs\n",
      "35\tpositiv\tpositiv\t  watchmeplaying ihr kennt die regel wer ficken will muss freundlich sein alter jahre wohnort raabs an der thaya augenfarbe brown haarfarbe black haarlänge long g\n",
      "36\tnegativ\tnegativ\t  mich kann man nicht einschüchtern morddrohung gegen fdpgeneralsekretärin skudelny httpstcoafynwckq\n",
      "37\tpositiv\tpositiv\t  warum bedankt sich kein politiker je bei den millionen leistungsträgern im land die ganze party finanzieren httpstcofjvnhodk\n",
      "38\tpositiv\tpositiv\t  ich wünsche euch n guten rutsch in und ein jahr voll gesundheit\n",
      "39\tpositiv\tpositiv\t  heute ist der letzte tag des jahres wir wünschen euch ein frohes neues jahr und freuen uns auf die vielen spannenden themen die wir nächstes jahr für euch im bu\n",
      "40\tpositiv\tpositiv\t  nächstes jahr silvester hoffentlich wieder mit freunden in holland\n",
      "41\tnegativ\tnegativ\t  mir wurde schon im alter von jahren der tod gewünscht weil ich si eib stücj scheiße bin was habt ihr vorzyweisen\n",
      "42\tneutral\tpositiv\tX gente o jaebeooooommmmm kkkkkkkkkkkkkkkkkkkkkkkk gotofficial gotmbcgayo got thankyougot ayearwithgot httpstcoljtsvhwlh\n",
      "43\tneutral\tpositiv\tX wieder ein falschparker in hamburg in hagenbeckstraße wegda ihm doch egal ob die feuerwehr an den hydranten kommt oder nicht httpstcokfprcbfl\n",
      "44\tneutral\tpositiv\tX standort herbrechtingen a d brenz temperatur luftfeuchtigkeit luftdruck hpa entwicklung jensostertag\n",
      "45\tneutral\tpositiv\tX der beifahrer hatte ein südländisches aussehen einen dreitagebart und eine bodybuilderfigur hinweise an die polizei unter köln ich wurde beim fahrradfahren ko g\n",
      "46\tpositiv\tpositiv\t  in korea böllert übrigens keiner und wir haben es alle überlebt ist sogar um einiges angenehmer aber wir wissen ja mittlerweile alle dass asiaten rücksichtnahme\n",
      "47\tpositiv\tpositiv\t  hab wahlfamilie per message gesagt dass ich nur noch dyn genannt werden möchte bevor die hier war nun wurde sich direkt am anfang entschuldigt und korrigiert da\n",
      "48\tpositiv\tpositiv\t  guten rutsch und einen schwungvollen start in und an dieser stelle auch ein herzliches dankeschön für die kommentare die vielen anregungen und ideen frohes neue\n",
      "49\tnegativ\tnegativ\t  das ende von you ist ja mal die größte scheiße die ich je gesehen habe\n",
      "50\tneutral\tpositiv\tX jungkook es el icon de dispatch e instagram oh oh\n",
      "51\tpositiv\tpositiv\t  so ihr lieben nicht vergessen der basset hat euch alle lieb auch wenn er manchmal nörgelt habt alle eine schöne party heute abend und kommt gut rüber aber natür\n",
      "52\tpositiv\tpositiv\t  mit knallertoren aus verabschieden wir uns in richtung feiert alle schön sge silvester httpstcobganbnwa\n",
      "53\tpositiv\tpositiv\t  das urproblem die politik erwartet bis heute der bahnverkehr müsse profitabel oder wenigstens kostendeckend sein sieht autobahnen und bundesstraßen hingegen als\n",
      "54\tnegativ\tnegativ\t  skyrim charerstellung mit gesichtlichem hindernis httpstcodezdbflx\n",
      "55\tnegativ\tnegativ\t  sollte es zuallererst gesetzlich verboten werden dass die werbung mit dem seitenbachermann nördlich von heilbronn ausgestrahlt wird\n",
      "56\tpositiv\tpositiv\t  ich wünsche allen einen guten rutsch und ein gesundes neues jahr i wish a happy new year to all of you happynewyear httpstcoaezijakm\n",
      "57\tneutral\tpositiv\tX judenfeindlicher anschlag in new york deutsche medien verschweigen schwarze täter httpstcoqnlipkx via staatsversagen\n",
      "58\tpositiv\tpositiv\t  hätten die nüchternen einmal gekostet alles verließen sie und setzten sich zu uns an den tisch der sehnsucht der nie leer wird sie erkennten der liebe unendlich\n",
      "59\tpositiv\tpositiv\t  die stimme vom dach vip nur du bist wichtig httpstcojpbccj über youtube\n",
      "60\tpositiv\tpositiv\t  wünsch euch happynewyear und uns allen für mehr frieden und gerechtigkeit angesichts der unweltsauhysterie auch dass künftig wichtige themen gehör in mediensoci\n",
      "61\tnegativ\tpositiv\tX danke an klausymausy für diese geile scheiße an plattenansamung httpstcoymrntmj httpstcoshwayendw\n",
      "62\tneutral\tpositiv\tX ich lass euch jetzt alleine bis nächstes jahr\n",
      "63\tneutral\tpositiv\tX lari lang shala langmoll michael lang amp laszlo lang also harry lang but thats a different lang httpstcoelezzfrj\n",
      "64\tpositiv\tpositiv\t  tolle bücher eher heiter bis lustig nicht so ernst als eb und tb sehen sie hier httpstcoocmiciu httpstcottjtdlah\n",
      "65\tneutral\tpositiv\tX frau bundeskanzlerin noch einmal wegen der aufzeichnung der silvesteransprache jetzt nicht ich muss erst den zweiten teil der familientweets des jahres lesen ht\n",
      "66\tneutral\tpositiv\tX les titres de lanne part feat aabondy x papertwin x brijeanband x loveleo x tree house x mabscle x teachersofpop x gargäntua x timission x danny sofa httpstcorq\n",
      "67\tpositiv\tpositiv\t  therapeutin sie sollten mal herkömmliche normale dinge ausprobieren die frauen in ihrem alter spaß machen ich ich war heut im zoo therapeutin schön konnten sie \n",
      "68\tnegativ\tpositiv\tX mein interesse für die kommenden kämpfe will ich eine kluge historische gebildete linke dazu gehört die auseinandersetzung sowohl mit linken auf zb antisemitisc\n",
      "69\tnegativ\tpositiv\tX sprengstoffanschlag auf das gemeinsame wahlkreisbüro des landtagsabgeordneten dr jan bollinger und des bundestagsabgeordneten andreas bleck beide afd in neuwied\n",
      "70\tpositiv\tpositiv\t  k will unbedingt ein smartphone k noch eine folge gucken k noch eine heiße milch meine frau noch ein kleines baby und ich mal minuten meine ruhe\n",
      "71\tneutral\tpositiv\tX seine silvesteransprache richtet der französische präsident an ein streikendes volk httpstcosiscfplkzn\n",
      "72\tpositiv\tpositiv\t  sydney ist von den buschfeuern komplett eingeschlossen das große silvesterfeuerwerk findet trotzem statt erinnert an die titanik da hat die band auch bis zum sc\n",
      "73\tpositiv\tpositiv\t  möge es schön werden wahre worte zu sagen d httpstcogucpdqnux\n",
      "74\tnegativ\tpositiv\tX in d linksextremistenhochburg leipzig kann die polizei nicht mehr das persönliche eigentum d bürger schtzen u empfiehlt d anwohnern ihr auto an einem entfernter\n",
      "75\tpositiv\tpositiv\t  es hilft beim rückblick auf ungemein sich alles schön zu trinken und der ausblick auf wird einfacher wenn man sich mut antrinkt ich öffne deshalb jetzt offiziel\n",
      "76\tpositiv\tpositiv\t  ich sag mal danke an euchdie ihr mich lest mitlachtmitweint und mitfühlt schön das es euch gibt und jetzt feiertals wenn es kein morgen gibt\n",
      "77\tpositiv\tpositiv\t  euch allen mal einen guten rutsch möge dieses jahr für euch alle wunderschön werden\n"
     ]
    }
   ],
   "source": [
    "classify_many(tweets_tokenized)"
   ]
  },
  {
   "cell_type": "markdown",
   "metadata": {},
   "source": [
    "<div style=\"background-color: #150458; padding: 5px;\"></div>\n",
    "\n",
    "## 5. <a id='abschluss'>Abschluss</a>"
   ]
  }
 ],
 "metadata": {
  "kernelspec": {
   "display_name": "Python 3",
   "language": "python",
   "name": "python3"
  },
  "language_info": {
   "codemirror_mode": {
    "name": "ipython",
    "version": 3
   },
   "file_extension": ".py",
   "mimetype": "text/x-python",
   "name": "python",
   "nbconvert_exporter": "python",
   "pygments_lexer": "ipython3",
   "version": "3.7.0"
  }
 },
 "nbformat": 4,
 "nbformat_minor": 4
}
