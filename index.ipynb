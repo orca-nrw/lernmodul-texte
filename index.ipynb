{
 "cells": [
  {
   "cell_type": "markdown",
   "metadata": {},
   "source": [
    "![WordCloud](./img/wordcloud.png)"
   ]
  },
  {
   "cell_type": "markdown",
   "metadata": {},
   "source": [
    "# Lernmodul zur Verarbeitung und Analyse von Textdaten"
   ]
  },
  {
   "cell_type": "markdown",
   "metadata": {},
   "source": [
    "Die Verarbeitung von menschlicher Sprache (Natural Language Processing, NLP) gilt als Voraussetzung für eine erfolgreiche Mensch-Maschine-Kommunikation. Zusätzlich kann sie dabei helfen eine vom Mensch unternommene Textanalyse zu unterstützen. Handelt es sich bei diesem Kommentar um unerwünschte Inhalte? Verbreitet dieser Beitrag Falschinformationen? Und welche Meinung will der Verfasser mit dieser Rezension zum Ausdruck bringen?\n",
    "\n",
    "Im folgenden Lernmodul wird mithilfe computergestützter Methoden eine Antwort auf solche Problemstellungen gesucht. Im Zuge der Sentiment Analysis wird versucht die Intention hinter einem Textbeitrag zu quantifizieren um bspw. zwischen einer negativen und einer positiven Aussage zu unterscheiden. Diese Unterscheidung übernimmt ein Modell (hier: Klassifikator), welches auf Basis eines Vokabulars (hier: Labels) eine Vorhersage (hier: Stimmung) über vorliegende Textbeiträge (hier: Tweets) trifft.\n",
    "\n",
    "Dabei durchläuft das Lernmodul die drei Domänen *Daten*, *Modell* und *Verwendung*, wie die folgende Abbildung verdeutlicht:\n",
    "\n",
    "![Pipeline](./img/flow.png)"
   ]
  },
  {
   "cell_type": "markdown",
   "metadata": {},
   "source": [
    "**Übersicht über die Lerninhalte:**\n",
    "\n",
    "1. [Einführung](#1.-Einführung)\n",
    "    1. [Motivation](#1.1-Motivation)\n",
    "    2. [Voraussetzungen](#1.2-Voraussetzungen)\n",
    "2. [Daten](#2.-Daten)\n",
    "    1. [Textdaten beschaffen](#2.1-Textdaten-beschaffen)\n",
    "    2. [Textdaten erkunden](#2.2-Textdaten-erkunden)\n",
    "    3. [Textdaten aufbereiten](#2.3-Textdaten-aufbereiten)\n",
    "        1. [Zeichen bereinigen](#2.3.1-Zeichen-bereinigen)\n",
    "        2. [Wörter bereinigen](#2.3.2-Wörter-bereinigen)\n",
    "        3. [Tweets bereinigen](#2.3.3-Tweets-bereinigen)\n",
    "3. [Modell](#3.-Modell)\n",
    "    1. [Textdaten einbetten](#3.1-Textdaten-einbetten)\n",
    "        1. [Vokabular](#3.1.1-Vokabular)\n",
    "        2. [Vektorisierung](#3.1.2-Vektorisierung)\n",
    "        3. [Label](#3.1.3-Label)\n",
    "        4. [Features](#3.1.4-Features)\n",
    "    2. [Textdaten klassifizieren](#3.2-Textdaten-klassifizieren)\n",
    "        1. [Überwachte Klassifikation](#3.2.1-Überwachte-Klassifikation)\n",
    "        2. [Unüberwachte Klassifikation](#3.2.2-Unüberwachte-Klassifikation)\n",
    "4. [Verwendung](#4.-Verwendung)\n",
    "    1. [Vorhersage](#4.1-Vorhersage)\n",
    "        1. [Überwachte Klassifikation](#4.1.1-Überwachte-Klassifikation)\n",
    "        2. [Unüberwachte Klassifikation](#4.1.2-Unüberwachte-Klassifikation)\n",
    "5. [Abschluss](#5.-Abschluss)"
   ]
  },
  {
   "cell_type": "markdown",
   "metadata": {},
   "source": [
    "**Lernziele:**\n",
    "\n",
    "Die Teilnehmer lernen in der [Datendomäne](#daten) Textdaten in roher Form Schritt für Schritt in kontextbezogene Daten für eine Textanalyse zu transformieren. Daraufhin bewegen sich die Teilnehmer in der [Modelldomäne](#modell), in der sie die Daten in das Modell einbetten und mittels zweier unterschiedlicher Algorithmen klassifizieren. Last but not least werden die entstandenen Klassifikatoren in der [Verwendungsdomäne](#verwendung) für eine Vorhersage der Stimmung gebraucht."
   ]
  },
  {
   "cell_type": "markdown",
   "metadata": {},
   "source": [
    "**Voraussetzungen:**\n",
    "\n",
    "- [Lernmodul zum Datenimport und zur Datenvorbereitung mit Pandas](https://projectbase.medien.hs-duesseldorf.de/eild.nrw-module/lernmodul-pandas)"
   ]
  },
  {
   "cell_type": "markdown",
   "metadata": {},
   "source": [
    "**Setup für die Aufgabenüberprüfung:**"
   ]
  },
  {
   "cell_type": "code",
   "execution_count": 1,
   "metadata": {},
   "outputs": [
    {
     "data": {
      "text/plain": [
       "<taskreview.learning_module.LearningModule at 0x1b895b2ed30>"
      ]
     },
     "execution_count": 1,
     "metadata": {},
     "output_type": "execute_result"
    }
   ],
   "source": [
    "#hideOutput\n",
    "from taskreview.learning_module import LearningModule\n",
    "texte_lm = LearningModule('data/lernmodul_texte.db')\n",
    "texte_lm"
   ]
  },
  {
   "cell_type": "markdown",
   "metadata": {},
   "source": [
    "Setup für die Visualisierung:"
   ]
  },
  {
   "cell_type": "code",
   "execution_count": 2,
   "metadata": {},
   "outputs": [],
   "source": [
    "import vis_functions as vf"
   ]
  },
  {
   "cell_type": "markdown",
   "metadata": {},
   "source": [
    "<div style=\"background-color: #150458; padding: 5px;\"></div>\n",
    "\n",
    "## 1. Einführung"
   ]
  },
  {
   "cell_type": "markdown",
   "metadata": {},
   "source": [
    "[Zurück zur Übersicht](#Lernmodul-zur-Verarbeitung-und-Analyse-von-Textdaten)"
   ]
  },
  {
   "cell_type": "markdown",
   "metadata": {},
   "source": [
    "### 1.1 Motivation"
   ]
  },
  {
   "cell_type": "markdown",
   "metadata": {},
   "source": [
    "Die Verarbeitung menschlicher Sprache (Natural Language Processing, NLP) ist ein prominentes Forschungsfeld der Informatik mit ähnlichem Bekanntheitsgrad wie die Analyse visueller Daten (Computer Vision), welche bspw. das Erkennen von Bildern (Image Recognition) sowie ihre Manipulation (Image Augmentation) betrachtet. Im ersten Fall wollen wir einen bekannten bzw. alten Bildinhalt klassifizieren, während der zweite Fall einen unbekannten bzw. neuen Bildinhalt erzeugt."
   ]
  },
  {
   "cell_type": "markdown",
   "metadata": {},
   "source": [
    "Wechseln wir von der Bild- auf die Textebene, lässt sich das Forschungsfeld des _NLP_ auf ähnliche Problemstellungen herunterbrechen, die in der folgenden Auflistung aufgeführt sind:\n",
    "\n",
    "* Texterkennung (Text Recognition)\n",
    "  * Spracherkennung (Speech Recognition)\n",
    "  * Stimmungsanalyse (Sentiment Analysis)\n",
    "* Textmanipulation (Text Augmentation)\n",
    "  * Maschinelle Übersetzung (Machine Translation)\n",
    "  * Automatisches Antworten (Question Answering)"
   ]
  },
  {
   "cell_type": "markdown",
   "metadata": {},
   "source": [
    "Dieses Lernmodul beschäftigt sich mit der ersten Problemstellung, also der Texterkennung, im besonderen mit der Unterscheidung verschiedener Stimmungen, welche der Verfasser eines Textes gehabt haben könnte. Ein aktuelles Anwendungsbeispiel ist die Identifikation von Hassreden, wie sie bspw. von [Facebook](https://www.facebook.com/) im Zuge ihrer [Community Standards](https://www.facebook.com/communitystandards/hate_speech) verboten sind und erkannt werden müssen. Auch könnte man ein Stimmungsbild der Gesellschaft über die Auswertung von Beiträgen auf Twitter betrachten."
   ]
  },
  {
   "cell_type": "markdown",
   "metadata": {},
   "source": [
    "### 1.2 Voraussetzungen"
   ]
  },
  {
   "cell_type": "markdown",
   "metadata": {},
   "source": [
    "Dieses Lernmodul nimmt sich [NumPy](https://numpy.org/) für numerische Berechnungen, [Pandas](https://pandas.pydata.org/) zur Datenverarbeitung und [PyPlot](https://matplotlib.org/api/pyplot_api.html) zur Datenvisualisierung zur Hilfe. Die folgende Zelle importiert benötigte Abhängigkeiten:"
   ]
  },
  {
   "cell_type": "code",
   "execution_count": 3,
   "metadata": {},
   "outputs": [],
   "source": [
    "import numpy as np\n",
    "import pandas as pd\n",
    "import matplotlib.pyplot as plt"
   ]
  },
  {
   "cell_type": "markdown",
   "metadata": {},
   "source": [
    "import json\n",
    "import globAußerdem werden die folgenden Systemkomponenten zur Hife genommen:"
   ]
  },
  {
   "cell_type": "code",
   "execution_count": 4,
   "metadata": {},
   "outputs": [],
   "source": [
    "import json\n",
    "import glob"
   ]
  },
  {
   "cell_type": "markdown",
   "metadata": {},
   "source": [
    "<div style=\"background-color: #150458; padding: 5px;\"></div>\n",
    "\n",
    "## 2. Daten"
   ]
  },
  {
   "cell_type": "markdown",
   "metadata": {},
   "source": [
    "[Zurück zur Übersicht](#Lernmodul-zur-Verarbeitung-und-Analyse-von-Textdaten)"
   ]
  },
  {
   "cell_type": "markdown",
   "metadata": {},
   "source": [
    "In der Datendomäne beschaffen wir uns zunächst einen Datensatz, welcher aus vielen Beispielen besteht, der die Grundgesamtheit an Daten bildet. Ein Beispiel umfasst dabei mindestens ein, wenn nicht sogar mehrere Merkmale. Ein Merkmal wird dabei durch einen numerischen oder symbolischen Wert verkörpert, der in unserem Fall bspw. ein Text sein kann. Im weiteren Verlauf werden die beschafften Daten begutachtet und bereinigt.\n",
    "\n",
    "Welche Schritte ein Textbeitrag in der Datendomäne durchläuft verdeutlicht die folgende Abbildung:\n",
    "\n",
    "![Daten](./img/data_flow.png)"
   ]
  },
  {
   "cell_type": "markdown",
   "metadata": {},
   "source": [
    "### 2.1 Textdaten beschaffen"
   ]
  },
  {
   "cell_type": "markdown",
   "metadata": {},
   "source": [
    "Wo findet man in der heutigen Zeit aktuelle Daten, welche eine eigene Meinung enthalten? Auf dem Kurznachrichtendienst Twitter. Da aktuelle Daten von Twitter nicht automatisch mit klassifizierenden Daten angereichert werden, benötigt ihre Analyse einen gewissen Mehraufwand. Überwachtes Lernen auf einem aufbereiteten Datensatz aus bekannter Ein- und Ausgabe ist in unserem Fall erstmal so nicht möglich, da wir es mit aktuellen Daten zu tun haben, die erst aufbereitet werden müssen."
   ]
  },
  {
   "cell_type": "markdown",
   "metadata": {},
   "source": [
    "Unser Datensatz wird monatlich unter der [CC 4.0 International](https://creativecommons.org/licenses/by/4.0/legalcode) Lizenz veröffentlicht [[1]](#1)."
   ]
  },
  {
   "cell_type": "markdown",
   "metadata": {},
   "source": [
    "Im Ordner `data/` finden sich ein Teil dieser Veröffentlichung als JSON, welche wir zunächst roh einlesen und in einem DataFrame `twitter` sammeln."
   ]
  },
  {
   "cell_type": "code",
   "execution_count": 5,
   "metadata": {},
   "outputs": [],
   "source": [
    "files = [] # JSON\n",
    "for f in glob.glob(\"./data/tweets/*.json\"):\n",
    "    with open(f, \"rb\") as infile:\n",
    "        files.append(json.load(infile))"
   ]
  },
  {
   "cell_type": "markdown",
   "metadata": {},
   "source": [
    "```python\n",
    "# Try GZIP instead of JSON\n",
    "import glob\n",
    "files = [] # JSON\n",
    "for f in glob.glob(\"./data/test/*.gz\"):\n",
    "    with gzip.open(f) as json_file:\n",
    "        bin_file = json_file.read()\n",
    "        decoded_file = bin_file.decode('utf-8')\n",
    "        files.append(decoded_file)\n",
    "```"
   ]
  },
  {
   "cell_type": "code",
   "execution_count": 6,
   "metadata": {},
   "outputs": [],
   "source": [
    "frames = [] # Data Frames\n",
    "for file in files:\n",
    "    frames.append(pd.DataFrame(file))"
   ]
  },
  {
   "cell_type": "code",
   "execution_count": 7,
   "metadata": {},
   "outputs": [],
   "source": [
    "twitter = pd.concat(frames)"
   ]
  },
  {
   "cell_type": "markdown",
   "metadata": {},
   "source": [
    "### 2.2 Textdaten erkunden"
   ]
  },
  {
   "cell_type": "markdown",
   "metadata": {},
   "source": [
    "Wie im [Lernmodul zum Datenimport und zur Datenvorbereitung mit Pandas](https://projectbase.medien.hs-duesseldorf.de/eild.nrw-module/lernmodul-pandas) kennengelernt, lässt sich über die `head()` Funktionalität der Kopf des Datensatzes betrachten. Wie schaut dieser aus?"
   ]
  },
  {
   "cell_type": "code",
   "execution_count": 8,
   "metadata": {},
   "outputs": [
    {
     "data": {
      "text/html": [
       "<div>\n",
       "<style scoped>\n",
       "    .dataframe tbody tr th:only-of-type {\n",
       "        vertical-align: middle;\n",
       "    }\n",
       "\n",
       "    .dataframe tbody tr th {\n",
       "        vertical-align: top;\n",
       "    }\n",
       "\n",
       "    .dataframe thead th {\n",
       "        text-align: right;\n",
       "    }\n",
       "</style>\n",
       "<table border=\"1\" class=\"dataframe\">\n",
       "  <thead>\n",
       "    <tr style=\"text-align: right;\">\n",
       "      <th></th>\n",
       "      <th>twista</th>\n",
       "      <th>type</th>\n",
       "      <th>id</th>\n",
       "      <th>user</th>\n",
       "      <th>created_at</th>\n",
       "      <th>recorded_at</th>\n",
       "      <th>source</th>\n",
       "      <th>retweets</th>\n",
       "      <th>favourites</th>\n",
       "      <th>lang</th>\n",
       "      <th>...</th>\n",
       "      <th>screen_name</th>\n",
       "      <th>location</th>\n",
       "      <th>description</th>\n",
       "      <th>url</th>\n",
       "      <th>verified</th>\n",
       "      <th>followers</th>\n",
       "      <th>friends</th>\n",
       "      <th>listed</th>\n",
       "      <th>statuses</th>\n",
       "      <th>refers_to</th>\n",
       "    </tr>\n",
       "  </thead>\n",
       "  <tbody>\n",
       "    <tr>\n",
       "      <th>0</th>\n",
       "      <td>0.3.4b1</td>\n",
       "      <td>status</td>\n",
       "      <td>1233850617996726274</td>\n",
       "      <td>759488216</td>\n",
       "      <td>2020-02-29T20:24:45+00:00</td>\n",
       "      <td>2020-02-29T20:24:59.835143+00:00</td>\n",
       "      <td>&lt;a href=\"http://twitter.com/download/iphone\" r...</td>\n",
       "      <td>0.0</td>\n",
       "      <td>0</td>\n",
       "      <td>de</td>\n",
       "      <td>...</td>\n",
       "      <td>NaN</td>\n",
       "      <td>NaN</td>\n",
       "      <td>NaN</td>\n",
       "      <td>NaN</td>\n",
       "      <td>NaN</td>\n",
       "      <td>NaN</td>\n",
       "      <td>NaN</td>\n",
       "      <td>NaN</td>\n",
       "      <td>NaN</td>\n",
       "      <td>NaN</td>\n",
       "    </tr>\n",
       "    <tr>\n",
       "      <th>1</th>\n",
       "      <td>0.3.4b1</td>\n",
       "      <td>status</td>\n",
       "      <td>1233364221188026370</td>\n",
       "      <td>114508061</td>\n",
       "      <td>2020-02-28T12:11:59+00:00</td>\n",
       "      <td>2020-03-01T11:09:17.015566+00:00</td>\n",
       "      <td>&lt;a href=\"http://www.sueddeutsche.de/\" rel=\"nof...</td>\n",
       "      <td>51.0</td>\n",
       "      <td>145</td>\n",
       "      <td>de</td>\n",
       "      <td>...</td>\n",
       "      <td>NaN</td>\n",
       "      <td>NaN</td>\n",
       "      <td>NaN</td>\n",
       "      <td>NaN</td>\n",
       "      <td>NaN</td>\n",
       "      <td>NaN</td>\n",
       "      <td>NaN</td>\n",
       "      <td>NaN</td>\n",
       "      <td>NaN</td>\n",
       "      <td>NaN</td>\n",
       "    </tr>\n",
       "    <tr>\n",
       "      <th>2</th>\n",
       "      <td>0.3.4b1</td>\n",
       "      <td>status</td>\n",
       "      <td>1233850617870913541</td>\n",
       "      <td>2902622080</td>\n",
       "      <td>2020-02-29T20:24:45+00:00</td>\n",
       "      <td>2020-02-29T20:24:59.839449+00:00</td>\n",
       "      <td>&lt;a href=\"http://www.playstation.com\" rel=\"nofo...</td>\n",
       "      <td>0.0</td>\n",
       "      <td>0</td>\n",
       "      <td>de</td>\n",
       "      <td>...</td>\n",
       "      <td>NaN</td>\n",
       "      <td>NaN</td>\n",
       "      <td>NaN</td>\n",
       "      <td>NaN</td>\n",
       "      <td>NaN</td>\n",
       "      <td>NaN</td>\n",
       "      <td>NaN</td>\n",
       "      <td>NaN</td>\n",
       "      <td>NaN</td>\n",
       "      <td>NaN</td>\n",
       "    </tr>\n",
       "    <tr>\n",
       "      <th>3</th>\n",
       "      <td>0.3.4b1</td>\n",
       "      <td>status</td>\n",
       "      <td>1233701038483542016</td>\n",
       "      <td>140410244</td>\n",
       "      <td>2020-02-29T10:30:23+00:00</td>\n",
       "      <td>2020-02-29T20:24:59.842019+00:00</td>\n",
       "      <td>&lt;a href=\"https://about.twitter.com/products/tw...</td>\n",
       "      <td>3.0</td>\n",
       "      <td>8</td>\n",
       "      <td>de</td>\n",
       "      <td>...</td>\n",
       "      <td>NaN</td>\n",
       "      <td>NaN</td>\n",
       "      <td>NaN</td>\n",
       "      <td>NaN</td>\n",
       "      <td>NaN</td>\n",
       "      <td>NaN</td>\n",
       "      <td>NaN</td>\n",
       "      <td>NaN</td>\n",
       "      <td>NaN</td>\n",
       "      <td>NaN</td>\n",
       "    </tr>\n",
       "    <tr>\n",
       "      <th>4</th>\n",
       "      <td>0.3.4b1</td>\n",
       "      <td>status</td>\n",
       "      <td>1233837417959952385</td>\n",
       "      <td>2335677408</td>\n",
       "      <td>2020-02-29T19:32:18+00:00</td>\n",
       "      <td>2020-03-01T11:42:05.807013+00:00</td>\n",
       "      <td>&lt;a href=\"https://mobile.twitter.com\" rel=\"nofo...</td>\n",
       "      <td>509.0</td>\n",
       "      <td>1773</td>\n",
       "      <td>de</td>\n",
       "      <td>...</td>\n",
       "      <td>NaN</td>\n",
       "      <td>NaN</td>\n",
       "      <td>NaN</td>\n",
       "      <td>NaN</td>\n",
       "      <td>NaN</td>\n",
       "      <td>NaN</td>\n",
       "      <td>NaN</td>\n",
       "      <td>NaN</td>\n",
       "      <td>NaN</td>\n",
       "      <td>NaN</td>\n",
       "    </tr>\n",
       "  </tbody>\n",
       "</table>\n",
       "<p>5 rows × 26 columns</p>\n",
       "</div>"
      ],
      "text/plain": [
       "    twista    type                   id        user  \\\n",
       "0  0.3.4b1  status  1233850617996726274   759488216   \n",
       "1  0.3.4b1  status  1233364221188026370   114508061   \n",
       "2  0.3.4b1  status  1233850617870913541  2902622080   \n",
       "3  0.3.4b1  status  1233701038483542016   140410244   \n",
       "4  0.3.4b1  status  1233837417959952385  2335677408   \n",
       "\n",
       "                  created_at                       recorded_at  \\\n",
       "0  2020-02-29T20:24:45+00:00  2020-02-29T20:24:59.835143+00:00   \n",
       "1  2020-02-28T12:11:59+00:00  2020-03-01T11:09:17.015566+00:00   \n",
       "2  2020-02-29T20:24:45+00:00  2020-02-29T20:24:59.839449+00:00   \n",
       "3  2020-02-29T10:30:23+00:00  2020-02-29T20:24:59.842019+00:00   \n",
       "4  2020-02-29T19:32:18+00:00  2020-03-01T11:42:05.807013+00:00   \n",
       "\n",
       "                                              source  retweets  favourites  \\\n",
       "0  <a href=\"http://twitter.com/download/iphone\" r...       0.0           0   \n",
       "1  <a href=\"http://www.sueddeutsche.de/\" rel=\"nof...      51.0         145   \n",
       "2  <a href=\"http://www.playstation.com\" rel=\"nofo...       0.0           0   \n",
       "3  <a href=\"https://about.twitter.com/products/tw...       3.0           8   \n",
       "4  <a href=\"https://mobile.twitter.com\" rel=\"nofo...     509.0        1773   \n",
       "\n",
       "  lang  ... screen_name location description  url verified followers friends  \\\n",
       "0   de  ...         NaN      NaN         NaN  NaN      NaN       NaN     NaN   \n",
       "1   de  ...         NaN      NaN         NaN  NaN      NaN       NaN     NaN   \n",
       "2   de  ...         NaN      NaN         NaN  NaN      NaN       NaN     NaN   \n",
       "3   de  ...         NaN      NaN         NaN  NaN      NaN       NaN     NaN   \n",
       "4   de  ...         NaN      NaN         NaN  NaN      NaN       NaN     NaN   \n",
       "\n",
       "  listed statuses refers_to  \n",
       "0    NaN      NaN       NaN  \n",
       "1    NaN      NaN       NaN  \n",
       "2    NaN      NaN       NaN  \n",
       "3    NaN      NaN       NaN  \n",
       "4    NaN      NaN       NaN  \n",
       "\n",
       "[5 rows x 26 columns]"
      ]
     },
     "execution_count": 8,
     "metadata": {},
     "output_type": "execute_result"
    }
   ],
   "source": [
    "twitter.head()"
   ]
  },
  {
   "cell_type": "markdown",
   "metadata": {},
   "source": [
    "Leider liefert die `head()` Funktionalität nicht die Größe des Datensatzes zurück. Wie viele Beispiele sind in ihm enthalten?"
   ]
  },
  {
   "cell_type": "code",
   "execution_count": 9,
   "metadata": {},
   "outputs": [
    {
     "data": {
      "application/vnd.jupyter.widget-view+json": {
       "model_id": "f6742cd43ca04fbc9290faf71ec278e2",
       "version_major": 2,
       "version_minor": 0
      },
      "text/plain": [
       "Output()"
      ]
     },
     "metadata": {},
     "output_type": "display_data"
    },
    {
     "data": {
      "application/vnd.jupyter.widget-view+json": {
       "model_id": "50dcb54954174b33be948cc787719acc",
       "version_major": 2,
       "version_minor": 0
      },
      "text/plain": [
       "Output()"
      ]
     },
     "metadata": {},
     "output_type": "display_data"
    },
    {
     "data": {
      "application/vnd.jupyter.widget-view+json": {
       "model_id": "4404423312034f359c6d3706ac3bba31",
       "version_major": 2,
       "version_minor": 0
      },
      "text/plain": [
       "Output()"
      ]
     },
     "metadata": {},
     "output_type": "display_data"
    }
   ],
   "source": [
    "#hideInput\n",
    "texte_lm.show_task(1)"
   ]
  },
  {
   "cell_type": "code",
   "execution_count": 10,
   "metadata": {},
   "outputs": [
    {
     "data": {
      "text/plain": [
       "1350008"
      ]
     },
     "execution_count": 10,
     "metadata": {},
     "output_type": "execute_result"
    }
   ],
   "source": [
    "twitter.shape[0]"
   ]
  },
  {
   "cell_type": "markdown",
   "metadata": {},
   "source": [
    "Wie viele Werte liegen pro Beispiel vor? Aus wie vielen Merkmalen besteht der Datensatz?"
   ]
  },
  {
   "cell_type": "code",
   "execution_count": 11,
   "metadata": {},
   "outputs": [
    {
     "data": {
      "application/vnd.jupyter.widget-view+json": {
       "model_id": "421af7d2204a4b7fa0ac925b09f308fd",
       "version_major": 2,
       "version_minor": 0
      },
      "text/plain": [
       "Output()"
      ]
     },
     "metadata": {},
     "output_type": "display_data"
    },
    {
     "data": {
      "application/vnd.jupyter.widget-view+json": {
       "model_id": "29966557aa5c4f718c0c753f7b2d3c90",
       "version_major": 2,
       "version_minor": 0
      },
      "text/plain": [
       "Output()"
      ]
     },
     "metadata": {},
     "output_type": "display_data"
    },
    {
     "data": {
      "application/vnd.jupyter.widget-view+json": {
       "model_id": "55affb8abe384e9aa5b4ceb73bd0c9e1",
       "version_major": 2,
       "version_minor": 0
      },
      "text/plain": [
       "Output()"
      ]
     },
     "metadata": {},
     "output_type": "display_data"
    }
   ],
   "source": [
    "#hideInput\n",
    "texte_lm.show_task(2)"
   ]
  },
  {
   "cell_type": "code",
   "execution_count": 12,
   "metadata": {},
   "outputs": [
    {
     "data": {
      "text/plain": [
       "26"
      ]
     },
     "execution_count": 12,
     "metadata": {},
     "output_type": "execute_result"
    }
   ],
   "source": [
    "twitter.shape[1]"
   ]
  },
  {
   "cell_type": "markdown",
   "metadata": {},
   "source": [
    "Mal sehen, wie die Merkmale heißen."
   ]
  },
  {
   "cell_type": "code",
   "execution_count": 13,
   "metadata": {},
   "outputs": [
    {
     "data": {
      "text/plain": [
       "Index(['twista', 'type', 'id', 'user', 'created_at', 'recorded_at', 'source',\n",
       "       'retweets', 'favourites', 'lang', 'hashtags', 'urls', 'mentions',\n",
       "       'mentioned_ids', 'text', 'name', 'screen_name', 'location',\n",
       "       'description', 'url', 'verified', 'followers', 'friends', 'listed',\n",
       "       'statuses', 'refers_to'],\n",
       "      dtype='object')"
      ]
     },
     "execution_count": 13,
     "metadata": {},
     "output_type": "execute_result"
    }
   ],
   "source": [
    "twitter.columns"
   ]
  },
  {
   "cell_type": "markdown",
   "metadata": {},
   "source": [
    "Das Merkmal _created_ _at_ scheint den Zeitpunkt des Tweets zu beinhalten. Welche Jahre haben wir erwischt?"
   ]
  },
  {
   "cell_type": "code",
   "execution_count": 14,
   "metadata": {},
   "outputs": [
    {
     "data": {
      "text/plain": [
       "Text(0.5, 0, 'Jahr')"
      ]
     },
     "execution_count": 14,
     "metadata": {},
     "output_type": "execute_result"
    },
    {
     "data": {
      "image/png": "[encoded data removed]",
      "text/plain": [
       "<Figure size 432x288 with 1 Axes>"
      ]
     },
     "metadata": {
      "needs_background": "light"
     },
     "output_type": "display_data"
    }
   ],
   "source": [
    "ax = twitter['created_at'].groupby(pd.to_datetime(twitter['created_at']).dt.year).count().plot(kind='bar', title='Tweets created')\n",
    "ax.set_xlabel('Jahr')"
   ]
  },
  {
   "cell_type": "markdown",
   "metadata": {},
   "source": [
    "Wir konzentrieren uns auf das Jahr 2020."
   ]
  },
  {
   "cell_type": "code",
   "execution_count": 15,
   "metadata": {},
   "outputs": [],
   "source": [
    "twitter = twitter.drop(twitter[pd.DatetimeIndex(twitter['created_at']).year < 2020].index).reset_index(drop=True)"
   ]
  },
  {
   "cell_type": "markdown",
   "metadata": {},
   "source": [
    "Das Merkmal _lang_ schauen wir uns als nächstes an. Welche Sprachen sind vertreten?"
   ]
  },
  {
   "cell_type": "code",
   "execution_count": 16,
   "metadata": {},
   "outputs": [
    {
     "data": {
      "text/plain": [
       "array(['de', 'en', 'pt', 'in', 'es', 'it', 'fr', 'und', 'tr', 'ca', 'da',\n",
       "       'sl', 'pl', 'hi', 'nl', 'no', 'el', 'ru', 'fa', 'sv', 'et', 'cy',\n",
       "       'ro', 'tl', 'ja', 'ar', 'ht', 'th', 'fi', 'cs', 'ko', 'is', 'eu',\n",
       "       nan, 'hu', 'vi', 'zh', 'lv', 'lt', 'iw', 'ur', 'kn', 'uk', 'ta'],\n",
       "      dtype=object)"
      ]
     },
     "execution_count": 16,
     "metadata": {},
     "output_type": "execute_result"
    }
   ],
   "source": [
    "twitter['lang'].unique()"
   ]
  },
  {
   "cell_type": "markdown",
   "metadata": {},
   "source": [
    "Wir behalten lediglich die deutschen Inhalte..."
   ]
  },
  {
   "cell_type": "code",
   "execution_count": 17,
   "metadata": {},
   "outputs": [],
   "source": [
    "twitter = twitter.drop(twitter[twitter.lang != 'de'].index).reset_index(drop=True)"
   ]
  },
  {
   "cell_type": "markdown",
   "metadata": {},
   "source": [
    "Das Merkmal _text_ scheint die gewünschten Tweets zu enthalten. Wir extrahieren dieses Merkmal vom DataFrame `twitter` in eine DataSeries `tweets`."
   ]
  },
  {
   "cell_type": "code",
   "execution_count": 18,
   "metadata": {},
   "outputs": [
    {
     "data": {
      "text/plain": [
       "0    a) Venezuela 2019\\nb) Deutschland während nCov...\n",
       "1    Assad und Putin wollen Erdoğan eine Lektion er...\n",
       "2    Ich hoff die Dinger kann ich a amol fahren und...\n",
       "3    Trotz aussichtsloser Lage der Wehrmacht ergebe...\n",
       "4    Mein Kommentar zur Causa Hopp für @derspiegel....\n",
       "Name: text, dtype: object"
      ]
     },
     "execution_count": 18,
     "metadata": {},
     "output_type": "execute_result"
    }
   ],
   "source": [
    "tweets = twitter['text']\n",
    "tweets.head()"
   ]
  },
  {
   "cell_type": "markdown",
   "metadata": {},
   "source": [
    "Beim Extrahieren der Tweets werden ausnahmslos alle Beispiele überführt. Sind unsere Daten nun vollständig, oder gibt es womöglich Tweets ohne Textinhalt, die uns in der folgenden Aufbereitung Probleme bereiten?"
   ]
  },
  {
   "cell_type": "code",
   "execution_count": 19,
   "metadata": {},
   "outputs": [
    {
     "data": {
      "application/vnd.jupyter.widget-view+json": {
       "model_id": "df30ea6bf5424d93aee8abec9b2950f9",
       "version_major": 2,
       "version_minor": 0
      },
      "text/plain": [
       "Output()"
      ]
     },
     "metadata": {},
     "output_type": "display_data"
    },
    {
     "data": {
      "application/vnd.jupyter.widget-view+json": {
       "model_id": "a1ff99d1493a4cf58b6de3b1d00bd00a",
       "version_major": 2,
       "version_minor": 0
      },
      "text/plain": [
       "Output()"
      ]
     },
     "metadata": {},
     "output_type": "display_data"
    },
    {
     "data": {
      "application/vnd.jupyter.widget-view+json": {
       "model_id": "f0da80fa80ee46e7ac3b63f1a2b2957e",
       "version_major": 2,
       "version_minor": 0
      },
      "text/plain": [
       "Output()"
      ]
     },
     "metadata": {},
     "output_type": "display_data"
    }
   ],
   "source": [
    "#hideInput\n",
    "texte_lm.show_task(3)"
   ]
  },
  {
   "cell_type": "code",
   "execution_count": 20,
   "metadata": {},
   "outputs": [
    {
     "data": {
      "text/plain": [
       "array([False,  True])"
      ]
     },
     "execution_count": 20,
     "metadata": {},
     "output_type": "execute_result"
    }
   ],
   "source": [
    "tweets.isna().unique()"
   ]
  },
  {
   "cell_type": "markdown",
   "metadata": {},
   "source": [
    "Fehlende Werte können von den folgenden Schritten nicht verarbeitet werden, sodass wir sie entfernen müssen."
   ]
  },
  {
   "cell_type": "code",
   "execution_count": 21,
   "metadata": {},
   "outputs": [],
   "source": [
    "tweets = tweets.dropna()"
   ]
  },
  {
   "cell_type": "markdown",
   "metadata": {},
   "source": [
    "Der Übersicht halber fügen wir einen ausgedachten Beispiel Tweet an, um die folgenden Verarbeitungsschritte besser nachvollziehen zu können."
   ]
  },
  {
   "cell_type": "code",
   "execution_count": 22,
   "metadata": {},
   "outputs": [],
   "source": [
    "example = '⚠️ Dieser Tweet enthält viele unnütze Zeichen 😟 die wir lieber verwerfen. Das wurde uns von @user unter https://example.org verraten #danke'"
   ]
  },
  {
   "cell_type": "code",
   "execution_count": 23,
   "metadata": {},
   "outputs": [],
   "source": [
    "tweets = tweets.append(pd.Series(example), ignore_index=True)"
   ]
  },
  {
   "cell_type": "markdown",
   "metadata": {},
   "source": [
    "Bevor es an die Aufbereitung der Daten geht, behalten wir lieber eine Kopie, auf die wir im Falle des Falles zurückgreifen können."
   ]
  },
  {
   "cell_type": "code",
   "execution_count": 24,
   "metadata": {},
   "outputs": [],
   "source": [
    "tweets_copy = tweets.replace(regex={r'\\n' :  ' '})"
   ]
  },
  {
   "cell_type": "markdown",
   "metadata": {},
   "source": [
    "### 2.3 Textdaten aufbereiten"
   ]
  },
  {
   "cell_type": "markdown",
   "metadata": {},
   "source": [
    "#### 2.3.1 Zeichen bereinigen"
   ]
  },
  {
   "cell_type": "markdown",
   "metadata": {},
   "source": [
    "Schauen wir uns das erste Beispiel an. Mit welchem Befehl kommen wir zum ersten Tweet?"
   ]
  },
  {
   "cell_type": "code",
   "execution_count": 25,
   "metadata": {},
   "outputs": [
    {
     "data": {
      "application/vnd.jupyter.widget-view+json": {
       "model_id": "c3c317bae90543b59b31a28f4f0a8119",
       "version_major": 2,
       "version_minor": 0
      },
      "text/plain": [
       "Output()"
      ]
     },
     "metadata": {},
     "output_type": "display_data"
    },
    {
     "data": {
      "application/vnd.jupyter.widget-view+json": {
       "model_id": "d3ec4a4fb5c14dbab888bbc279576f8b",
       "version_major": 2,
       "version_minor": 0
      },
      "text/plain": [
       "Output()"
      ]
     },
     "metadata": {},
     "output_type": "display_data"
    },
    {
     "data": {
      "application/vnd.jupyter.widget-view+json": {
       "model_id": "c19e81fa4b4d402ca32dcca9f7f3f807",
       "version_major": 2,
       "version_minor": 0
      },
      "text/plain": [
       "Output()"
      ]
     },
     "metadata": {},
     "output_type": "display_data"
    }
   ],
   "source": [
    "#hideInput\n",
    "texte_lm.show_task(4)"
   ]
  },
  {
   "cell_type": "code",
   "execution_count": 26,
   "metadata": {},
   "outputs": [
    {
     "data": {
      "text/plain": [
       "'a) Venezuela 2019\\nb) Deutschland während nCov19\\nc) NK immer\\n? https://t.co/0vMvLTkn7I'"
      ]
     },
     "execution_count": 26,
     "metadata": {},
     "output_type": "execute_result"
    }
   ],
   "source": [
    "tweets.iloc[0]"
   ]
  },
  {
   "cell_type": "markdown",
   "metadata": {},
   "source": [
    "Eigentlich wollen wir aber zum letzten Tweet, den wir gerade angehangen haben."
   ]
  },
  {
   "cell_type": "code",
   "execution_count": 27,
   "metadata": {},
   "outputs": [
    {
     "data": {
      "text/plain": [
       "'⚠️ Dieser Tweet enthält viele unnütze Zeichen 😟 die wir lieber verwerfen. Das wurde uns von @user unter https://example.org verraten #danke'"
      ]
     },
     "execution_count": 27,
     "metadata": {},
     "output_type": "execute_result"
    }
   ],
   "source": [
    "tweets.iloc[-1]"
   ]
  },
  {
   "cell_type": "markdown",
   "metadata": {},
   "source": [
    "Leider enthalten Tweets allerhand Symbole, die wir gesondert behandeln müssen. Dazu zählen insbesondere:\n",
    "\n",
    "* Emojis\n",
    "* Satzzeichen\n",
    "* Spezielle Sonderzeichen wie _@user_ und _#hashtag_\n",
    "* URLs wie _https://_"
   ]
  },
  {
   "cell_type": "markdown",
   "metadata": {},
   "source": [
    "Bald werden wir hier als erstes die Emojis behandeln..."
   ]
  },
  {
   "cell_type": "code",
   "execution_count": 28,
   "metadata": {},
   "outputs": [],
   "source": [
    "positive_emojis = [r'🙂']\n",
    "for emoji in positive_emojis:\n",
    "    tweets = tweets.replace(regex={emoji : 'gut'})"
   ]
  },
  {
   "cell_type": "code",
   "execution_count": 29,
   "metadata": {},
   "outputs": [],
   "source": [
    "negative_emojis = [r'😟']\n",
    "for emoji in negative_emojis:\n",
    "    tweets = tweets.replace(regex={emoji : 'schlecht'})"
   ]
  },
  {
   "cell_type": "code",
   "execution_count": 30,
   "metadata": {},
   "outputs": [
    {
     "data": {
      "text/plain": [
       "'⚠️ Dieser Tweet enthält viele unnütze Zeichen schlecht die wir lieber verwerfen. Das wurde uns von @user unter https://example.org verraten #danke'"
      ]
     },
     "execution_count": 30,
     "metadata": {},
     "output_type": "execute_result"
    }
   ],
   "source": [
    "tweets.iloc[-1]"
   ]
  },
  {
   "cell_type": "markdown",
   "metadata": {},
   "source": [
    "Nun können wir Zeichenketten, wie den Nutzer und die URL identifizieren und über die folgenden regulären Ausdrücke entfernen."
   ]
  },
  {
   "cell_type": "code",
   "execution_count": 31,
   "metadata": {},
   "outputs": [
    {
     "data": {
      "text/plain": [
       "'⚠️ Dieser Tweet enthält viele unnütze Zeichen schlecht die wir lieber verwerfen. Das wurde uns von  unter  verraten #danke'"
      ]
     },
     "execution_count": 31,
     "metadata": {},
     "output_type": "execute_result"
    }
   ],
   "source": [
    "expressions = [r'http\\S+', # Find URL\n",
    "               r'@\\S+', # Find username\n",
    "               r'\\n'] # Find new line\n",
    "\n",
    "for expression in expressions:\n",
    "    tweets = tweets.replace(regex={expression : ''})\n",
    "    \n",
    "tweets.iloc[-1]"
   ]
  },
  {
   "cell_type": "markdown",
   "metadata": {},
   "source": [
    "Als nächstes werden wir alle verbleibenen Symbole entfernen, die weder dem Alphabet angehören, noch spezielle Sonderzeichen wie das Hashtag _#_ verkörpern. Welcher reguläre Ausdruck kommt dafür in Frage?"
   ]
  },
  {
   "cell_type": "code",
   "execution_count": 32,
   "metadata": {},
   "outputs": [
    {
     "data": {
      "application/vnd.jupyter.widget-view+json": {
       "model_id": "609789a99f7147bc9c1880b53a67a91a",
       "version_major": 2,
       "version_minor": 0
      },
      "text/plain": [
       "Output()"
      ]
     },
     "metadata": {},
     "output_type": "display_data"
    },
    {
     "data": {
      "application/vnd.jupyter.widget-view+json": {
       "model_id": "959bc882653043f7b6795074cf957965",
       "version_major": 2,
       "version_minor": 0
      },
      "text/plain": [
       "Output()"
      ]
     },
     "metadata": {},
     "output_type": "display_data"
    },
    {
     "data": {
      "application/vnd.jupyter.widget-view+json": {
       "model_id": "104b96bd44f94142af150d79fa9e0f01",
       "version_major": 2,
       "version_minor": 0
      },
      "text/plain": [
       "Output()"
      ]
     },
     "metadata": {},
     "output_type": "display_data"
    }
   ],
   "source": [
    "#hideInput\n",
    "texte_lm.show_task(5)"
   ]
  },
  {
   "cell_type": "code",
   "execution_count": 33,
   "metadata": {},
   "outputs": [
    {
     "data": {
      "text/plain": [
       "' Dieser Tweet enthält viele unnütze Zeichen schlecht die wir lieber verwerfen Das wurde uns von  unter  verraten danke'"
      ]
     },
     "execution_count": 33,
     "metadata": {},
     "output_type": "execute_result"
    }
   ],
   "source": [
    "expression = '[^a-zA-ZäöüßÄÖÜ\\s]'\n",
    "tweets = tweets.replace(regex={expression : ''})\n",
    "tweets.iloc[-1]"
   ]
  },
  {
   "cell_type": "markdown",
   "metadata": {},
   "source": [
    "#### 2.3.2 Wörter bereinigen"
   ]
  },
  {
   "cell_type": "markdown",
   "metadata": {},
   "source": [
    "Da unsere Bereinigung im vorherigen Abschnitt nur noch einzelne Wörter und keine Symbole mehr übrig gelassen hat, können wir nun jeden Tweet in seine Bestandteile zerlegen. Dafür zerteilen wir die Zeichenkette anhand des Leerzeichens und erhalten eine Liste von Wörtern pro Tweet. Dieser Schritt geht mit der Funktionsweise eines [Tokenizer](https://de.wikipedia.org/wiki/Tokenizer) einher, welcher lediglich den kompletten Tweet in einzelne Token, also Wörter, zerteilt."
   ]
  },
  {
   "cell_type": "code",
   "execution_count": 34,
   "metadata": {},
   "outputs": [
    {
     "data": {
      "text/plain": [
       "['Dieser',\n",
       " 'Tweet',\n",
       " 'enthält',\n",
       " 'viele',\n",
       " 'unnütze',\n",
       " 'Zeichen',\n",
       " 'schlecht',\n",
       " 'die',\n",
       " 'wir',\n",
       " 'lieber',\n",
       " 'verwerfen',\n",
       " 'Das',\n",
       " 'wurde',\n",
       " 'uns',\n",
       " 'von',\n",
       " 'unter',\n",
       " 'verraten',\n",
       " 'danke']"
      ]
     },
     "execution_count": 34,
     "metadata": {},
     "output_type": "execute_result"
    }
   ],
   "source": [
    "tweets = tweets.str.split()\n",
    "tweets.iloc[-1]"
   ]
  },
  {
   "cell_type": "markdown",
   "metadata": {},
   "source": [
    "Da wir die einzelnen Wörter getrennt haben, fassen wir alle Wörter aus jedem Tweet zu einer großen Sammlung zusammen, was die `aggregate_words()` Funktion wie folgt umsetzt:"
   ]
  },
  {
   "cell_type": "code",
   "execution_count": 35,
   "metadata": {},
   "outputs": [],
   "source": [
    "def aggregate_words(tweets):\n",
    "    \"\"\"Aggregate words from tweets\"\"\"\n",
    "    \n",
    "    all_words = []\n",
    "    for sentence in tweets:\n",
    "        for word in sentence:\n",
    "            all_words.append(word.lower())\n",
    "    return all_words"
   ]
  },
  {
   "cell_type": "code",
   "execution_count": 36,
   "metadata": {},
   "outputs": [],
   "source": [
    "all_words = aggregate_words(tweets)"
   ]
  },
  {
   "cell_type": "markdown",
   "metadata": {},
   "source": [
    "Wie viele unterschiedliche Wörter sind getweetet worden?"
   ]
  },
  {
   "cell_type": "code",
   "execution_count": 37,
   "metadata": {},
   "outputs": [
    {
     "data": {
      "application/vnd.jupyter.widget-view+json": {
       "model_id": "6cbd7b25321343ba8ca4233d4992d9fb",
       "version_major": 2,
       "version_minor": 0
      },
      "text/plain": [
       "Output()"
      ]
     },
     "metadata": {},
     "output_type": "display_data"
    },
    {
     "data": {
      "application/vnd.jupyter.widget-view+json": {
       "model_id": "2b362ccc5f5b42a1b10b0d157bf6fc12",
       "version_major": 2,
       "version_minor": 0
      },
      "text/plain": [
       "Output()"
      ]
     },
     "metadata": {},
     "output_type": "display_data"
    },
    {
     "data": {
      "application/vnd.jupyter.widget-view+json": {
       "model_id": "0f5114d915944c1599741c781c2ec7d6",
       "version_major": 2,
       "version_minor": 0
      },
      "text/plain": [
       "Output()"
      ]
     },
     "metadata": {},
     "output_type": "display_data"
    }
   ],
   "source": [
    "#hideInput\n",
    "texte_lm.show_task(6)"
   ]
  },
  {
   "cell_type": "code",
   "execution_count": 38,
   "metadata": {},
   "outputs": [
    {
     "data": {
      "text/plain": [
       "391749"
      ]
     },
     "execution_count": 38,
     "metadata": {},
     "output_type": "execute_result"
    }
   ],
   "source": [
    "len(pd.Series(all_words).unique())"
   ]
  },
  {
   "cell_type": "markdown",
   "metadata": {},
   "source": [
    "Nachdem wir alle Wörter gesammelt haben, interessieren uns die beliebtesten Wörter aus den Tweets. An dieser Stelle greifen wir auf das Natural Language Toolkit ([NLTK](https://www.nltk.org/)) zurück, welches eine Häufigkeitsverteilung über die `FreqDist()` Funktion wie folgt implementiert."
   ]
  },
  {
   "cell_type": "code",
   "execution_count": 39,
   "metadata": {},
   "outputs": [],
   "source": [
    "from nltk.probability import FreqDist\n",
    "fd = FreqDist(all_words)"
   ]
  },
  {
   "cell_type": "markdown",
   "metadata": {},
   "source": [
    "Wie lauten also die drei häufigsten Wörter"
   ]
  },
  {
   "cell_type": "code",
   "execution_count": 40,
   "metadata": {},
   "outputs": [
    {
     "data": {
      "application/vnd.jupyter.widget-view+json": {
       "model_id": "c78d000683da45f4a3e5369e00ea011b",
       "version_major": 2,
       "version_minor": 0
      },
      "text/plain": [
       "Output()"
      ]
     },
     "metadata": {},
     "output_type": "display_data"
    },
    {
     "data": {
      "application/vnd.jupyter.widget-view+json": {
       "model_id": "ea26dc1e81524937a10451995cfc9785",
       "version_major": 2,
       "version_minor": 0
      },
      "text/plain": [
       "Output()"
      ]
     },
     "metadata": {},
     "output_type": "display_data"
    },
    {
     "data": {
      "application/vnd.jupyter.widget-view+json": {
       "model_id": "8ae4289a736d4851baaa797a12aa2baa",
       "version_major": 2,
       "version_minor": 0
      },
      "text/plain": [
       "Output()"
      ]
     },
     "metadata": {},
     "output_type": "display_data"
    }
   ],
   "source": [
    "#hideInput\n",
    "texte_lm.show_task(7)"
   ]
  },
  {
   "cell_type": "code",
   "execution_count": 41,
   "metadata": {},
   "outputs": [
    {
     "data": {
      "text/plain": [
       "[('die', 137150), ('und', 117541), ('der', 97697)]"
      ]
     },
     "execution_count": 41,
     "metadata": {},
     "output_type": "execute_result"
    }
   ],
   "source": [
    "fd.most_common(3)"
   ]
  },
  {
   "cell_type": "markdown",
   "metadata": {},
   "source": [
    "Es ist nicht überraschend, dass sich Artikel, Pronomen oder Konjunktionen als die am häufigsten verwendeten Wörter entpuppen. Schauen wir uns die Häufigkeitsverteilung der 15 beliebtesten Wörter an."
   ]
  },
  {
   "cell_type": "code",
   "execution_count": 42,
   "metadata": {},
   "outputs": [
    {
     "data": {
      "image/png": "[encoded data removed]",
      "text/plain": [
       "<Figure size 432x288 with 1 Axes>"
      ]
     },
     "metadata": {
      "needs_background": "light"
     },
     "output_type": "display_data"
    },
    {
     "data": {
      "text/plain": [
       "<matplotlib.axes._subplots.AxesSubplot at 0x1b97badcac8>"
      ]
     },
     "execution_count": 42,
     "metadata": {},
     "output_type": "execute_result"
    }
   ],
   "source": [
    "fd.plot(15)"
   ]
  },
  {
   "cell_type": "markdown",
   "metadata": {},
   "source": [
    "Auch hier scheinen Artikel, Pronomen und Konjunktionen stark vertreten zu sein. Das bringt uns zu der Frage, welche Stimmung diese Wörter eigentlich implizieren?\n",
    "\n",
    "Solche Wörter, werden im Kontext des NLP als Stoppwörter bezeichnet, da sie zu einer Aussage keinen Inhalt beisteuern, wie es bspw. ein wertendes Adjektiv, wie _gut_ oder _schlecht_ tun würde. Stoppwörter lassen sich daher ähnlich wie das Rauschen aus einer Nachricht (hier: Tweet) entfernen, ohne dass der Inhalt (hier: Stimmung) dieser Nachricht verloren geht.\n",
    "\n",
    "Wir werden also im folgenden Schritt alle Stoppwörter entfernen. Um sie zu identifizieren, benutzen wir die vorgegebene Textdatei `stop_words.txt` und importieren sie in eine Liste `stop_words`. Hätte man lediglich die meist genutzten Wörter aus der Häufigkeitsverteilung oben genommen, wäre man Gefahr gelaufen, relevante Wörter, wie _schön_, ebenfalls zu entfernen."
   ]
  },
  {
   "cell_type": "code",
   "execution_count": 43,
   "metadata": {},
   "outputs": [
    {
     "data": {
      "text/html": [
       "<div>\n",
       "<style scoped>\n",
       "    .dataframe tbody tr th:only-of-type {\n",
       "        vertical-align: middle;\n",
       "    }\n",
       "\n",
       "    .dataframe tbody tr th {\n",
       "        vertical-align: top;\n",
       "    }\n",
       "\n",
       "    .dataframe thead th {\n",
       "        text-align: right;\n",
       "    }\n",
       "</style>\n",
       "<table border=\"1\" class=\"dataframe\">\n",
       "  <thead>\n",
       "    <tr style=\"text-align: right;\">\n",
       "      <th></th>\n",
       "      <th>Wort</th>\n",
       "    </tr>\n",
       "  </thead>\n",
       "  <tbody>\n",
       "    <tr>\n",
       "      <th>0</th>\n",
       "      <td>der</td>\n",
       "    </tr>\n",
       "    <tr>\n",
       "      <th>1</th>\n",
       "      <td>die</td>\n",
       "    </tr>\n",
       "    <tr>\n",
       "      <th>2</th>\n",
       "      <td>das</td>\n",
       "    </tr>\n",
       "    <tr>\n",
       "      <th>3</th>\n",
       "      <td>ein</td>\n",
       "    </tr>\n",
       "    <tr>\n",
       "      <th>4</th>\n",
       "      <td>eine</td>\n",
       "    </tr>\n",
       "  </tbody>\n",
       "</table>\n",
       "</div>"
      ],
      "text/plain": [
       "   Wort\n",
       "0   der\n",
       "1   die\n",
       "2   das\n",
       "3   ein\n",
       "4  eine"
      ]
     },
     "execution_count": 43,
     "metadata": {},
     "output_type": "execute_result"
    }
   ],
   "source": [
    "stop_words = pd.read_csv('./data/vocab/stop_words.txt', names=['Wort'])\n",
    "stop_words.head()"
   ]
  },
  {
   "cell_type": "markdown",
   "metadata": {},
   "source": [
    "Bevor wir alle Stoppwörter unwiederruflich entfernen, fragen wir uns lieber, wie viel Prozent unseres Datensatzes wir dadurch verlieren würden? Dies lässt sich über die `content_loss()` Funktion wie folgt berechnen."
   ]
  },
  {
   "cell_type": "code",
   "execution_count": 44,
   "metadata": {},
   "outputs": [],
   "source": [
    "def content_loss(text):\n",
    "    content = [word for word in text if word not in stop_words['Wort'].values.tolist()]\n",
    "    return 1.0 - len(content) / len(text)"
   ]
  },
  {
   "cell_type": "code",
   "execution_count": 45,
   "metadata": {},
   "outputs": [
    {
     "data": {
      "text/plain": [
       "0.1845961286990362"
      ]
     },
     "execution_count": 45,
     "metadata": {},
     "output_type": "execute_result"
    }
   ],
   "source": [
    "content_loss(all_words)"
   ]
  },
  {
   "cell_type": "markdown",
   "metadata": {},
   "source": [
    "Um die Stoppwörter endgültg zu entfernen, werfen wir die `filter_tokens()` Funktion wie folgt an."
   ]
  },
  {
   "cell_type": "code",
   "execution_count": 46,
   "metadata": {},
   "outputs": [],
   "source": [
    "def filter_tokens(tweets):\n",
    "    \"\"\"Filter tokens in tweets\"\"\"\n",
    "    \n",
    "    row_list = []\n",
    "    for row in tweets:\n",
    "        token_list = []\n",
    "        for token in row:\n",
    "            if token.lower() not in stop_words['Wort'].values.tolist():\n",
    "                token_list.append(token.lower())\n",
    "        row_list.append(token_list)\n",
    "    \n",
    "    return pd.Series(row_list)"
   ]
  },
  {
   "cell_type": "code",
   "execution_count": 47,
   "metadata": {},
   "outputs": [
    {
     "data": {
      "text/plain": [
       "0    [a, venezuela, b, deutschland, während, ncovc,...\n",
       "1    [assad, putin, wollen, erdoan, lektion, erteil...\n",
       "2    [hoff, dinger, kann, a, amol, fahren, können, ...\n",
       "3    [trotz, aussichtsloser, lage, wehrmacht, ergeb...\n",
       "4             [mein, kommentar, zur, causa, hopp, für]\n",
       "dtype: object"
      ]
     },
     "execution_count": 47,
     "metadata": {},
     "output_type": "execute_result"
    }
   ],
   "source": [
    "tweets = filter_tokens(tweets) # Python list\n",
    "tweets.head()"
   ]
  },
  {
   "cell_type": "markdown",
   "metadata": {},
   "source": [
    "Damit ist unsere Sammlung von Wörter nicht mehr aktuell. Der Einfachheit halber sammeln wir sie erneut über die `aggregate_words()` Funktion."
   ]
  },
  {
   "cell_type": "code",
   "execution_count": 48,
   "metadata": {},
   "outputs": [],
   "source": [
    "all_words = aggregate_words(tweets)"
   ]
  },
  {
   "cell_type": "markdown",
   "metadata": {},
   "source": [
    "Welche Ausgabe kann bei erneutem Aufruf der `content_loss()` Funktion erwartet werden?"
   ]
  },
  {
   "cell_type": "code",
   "execution_count": 49,
   "metadata": {},
   "outputs": [
    {
     "data": {
      "application/vnd.jupyter.widget-view+json": {
       "model_id": "9c40171483d64aec8ec7ce618dbb237c",
       "version_major": 2,
       "version_minor": 0
      },
      "text/plain": [
       "Output()"
      ]
     },
     "metadata": {},
     "output_type": "display_data"
    },
    {
     "data": {
      "application/vnd.jupyter.widget-view+json": {
       "model_id": "686f0d7fc00442d4993939f3ab3233de",
       "version_major": 2,
       "version_minor": 0
      },
      "text/plain": [
       "Output()"
      ]
     },
     "metadata": {},
     "output_type": "display_data"
    },
    {
     "data": {
      "application/vnd.jupyter.widget-view+json": {
       "model_id": "76285dd0592b41b18864119867ec6d3c",
       "version_major": 2,
       "version_minor": 0
      },
      "text/plain": [
       "Output()"
      ]
     },
     "metadata": {},
     "output_type": "display_data"
    }
   ],
   "source": [
    "#hideInput\n",
    "texte_lm.show_task(8)"
   ]
  },
  {
   "cell_type": "code",
   "execution_count": 50,
   "metadata": {},
   "outputs": [
    {
     "data": {
      "text/plain": [
       "0.0"
      ]
     },
     "execution_count": 50,
     "metadata": {},
     "output_type": "execute_result"
    }
   ],
   "source": [
    "content_loss(all_words)"
   ]
  },
  {
   "cell_type": "markdown",
   "metadata": {},
   "source": [
    "Welche Wörter werden wohl mit Ausnahme der Stoppwörter am häufigsten benutzt? Alternativ zur bereits bekannten Häufigkeitsverteilung lassen sich im Kontext des NLP sog. Schlagwortwolken erst)ellen. Dazu nutzen wir die `WordCloud()` Funktion wie folgt."
   ]
  },
  {
   "cell_type": "code",
   "execution_count": 51,
   "metadata": {},
   "outputs": [],
   "source": [
    "from wordcloud import WordCloud\n",
    "wc = WordCloud()"
   ]
  },
  {
   "cell_type": "code",
   "execution_count": 53,
   "metadata": {},
   "outputs": [
    {
     "data": {
      "image/png": "[encoded data removed]",
      "text/plain": [
       "<Figure size 432x288 with 1 Axes>"
      ]
     },
     "metadata": {
      "needs_background": "light"
     },
     "output_type": "display_data"
    }
   ],
   "source": [
    "most_common_words = wc.generate_from_frequencies(FreqDist(all_words))\n",
    "vf.plot_image(most_common_words, 'Die häufigsten Wörter')"
   ]
  },
  {
   "cell_type": "markdown",
   "metadata": {},
   "source": [
    "#### 2.3.3 Tweets bereinigen"
   ]
  },
  {
   "cell_type": "markdown",
   "metadata": {},
   "source": [
    "Da uns der vergangene Abschnitt einige Wörter gekostet hat, wollen wir nun die Tweets identifizieren, die zu wenig oder vielleicht sogar zu viele Wörter enthalten. Beide Extrema sind für die weiterführende Analyse nicht zu gebrauchen. Daher berechnen wir im folgenden die Länge eines Tweets."
   ]
  },
  {
   "cell_type": "code",
   "execution_count": 54,
   "metadata": {},
   "outputs": [],
   "source": [
    "tweets_length = [len(tweet) for tweet in tweets]"
   ]
  },
  {
   "cell_type": "markdown",
   "metadata": {},
   "source": [
    " Wie viele Wörter besitzt der kürzeste Tweet?"
   ]
  },
  {
   "cell_type": "code",
   "execution_count": 55,
   "metadata": {},
   "outputs": [
    {
     "data": {
      "application/vnd.jupyter.widget-view+json": {
       "model_id": "21a820d5e3584ddb88fb08da8c2036ca",
       "version_major": 2,
       "version_minor": 0
      },
      "text/plain": [
       "Output()"
      ]
     },
     "metadata": {},
     "output_type": "display_data"
    },
    {
     "data": {
      "application/vnd.jupyter.widget-view+json": {
       "model_id": "6c52fcedc9f448e28e951d81c29b0d43",
       "version_major": 2,
       "version_minor": 0
      },
      "text/plain": [
       "Output()"
      ]
     },
     "metadata": {},
     "output_type": "display_data"
    },
    {
     "data": {
      "application/vnd.jupyter.widget-view+json": {
       "model_id": "6c37e4890e6049158a9553d4ea3416a6",
       "version_major": 2,
       "version_minor": 0
      },
      "text/plain": [
       "Output()"
      ]
     },
     "metadata": {},
     "output_type": "display_data"
    }
   ],
   "source": [
    "#hideInput\n",
    "texte_lm.show_task(9)"
   ]
  },
  {
   "cell_type": "code",
   "execution_count": 56,
   "metadata": {},
   "outputs": [
    {
     "data": {
      "text/plain": [
       "0"
      ]
     },
     "execution_count": 56,
     "metadata": {},
     "output_type": "execute_result"
    }
   ],
   "source": [
    "np.min(tweets_length)"
   ]
  },
  {
   "cell_type": "markdown",
   "metadata": {},
   "source": [
    "Hoffentlich handelt es sich um einen Ausreißer. Das verifizieren wir wiederum mit einer Häufigkeitsverteilung. Dieses Mal aber als einfaches Histogramm über die `plot_tweet_length_distribution()` Funktion wie folgt."
   ]
  },
  {
   "cell_type": "code",
   "execution_count": 57,
   "metadata": {},
   "outputs": [
    {
     "data": {
      "image/png": "[encoded data removed]",
      "text/plain": [
       "<Figure size 432x288 with 1 Axes>"
      ]
     },
     "metadata": {
      "needs_background": "light"
     },
     "output_type": "display_data"
    }
   ],
   "source": [
    "vf.plot_tweet_length_distribution(tweets_length)"
   ]
  },
  {
   "cell_type": "markdown",
   "metadata": {},
   "source": [
    "Die meisten Tweets scheinen nach Entfernen der Stoppwörter nur noch vier Wörter lang zu sein. Wir verwerfen alle Tweets die _4_ oder weniger Wörter besitzen über die `drop_tweets()` Funktion wie folgt."
   ]
  },
  {
   "cell_type": "code",
   "execution_count": 58,
   "metadata": {},
   "outputs": [],
   "source": [
    "tweets = tweets[tweets.map(len) > 4 ] # Preserve index"
   ]
  },
  {
   "cell_type": "code",
   "execution_count": 59,
   "metadata": {},
   "outputs": [
    {
     "data": {
      "text/plain": [
       "268964"
      ]
     },
     "execution_count": 59,
     "metadata": {},
     "output_type": "execute_result"
    }
   ],
   "source": [
    "tweets.size"
   ]
  },
  {
   "cell_type": "markdown",
   "metadata": {},
   "source": [
    "Von den anfänglich 10k Tweets bleibt gut 4k übrig, die wir in die nun folgende Modelldomäne mitnehmen."
   ]
  },
  {
   "cell_type": "markdown",
   "metadata": {},
   "source": [
    "Die Erkundung der Daten offenbart einige Probleme. Welche könnten das sein?\n",
    "\n",
    "* A =  \n",
    "* B = \n",
    "* C = \n",
    "* D ="
   ]
  },
  {
   "cell_type": "code",
   "execution_count": 60,
   "metadata": {},
   "outputs": [
    {
     "data": {
      "application/vnd.jupyter.widget-view+json": {
       "model_id": "8e15bbe25af745818dd6290834e14fc6",
       "version_major": 2,
       "version_minor": 0
      },
      "text/plain": [
       "Output()"
      ]
     },
     "metadata": {},
     "output_type": "display_data"
    },
    {
     "data": {
      "application/vnd.jupyter.widget-view+json": {
       "model_id": "894a7f7bafe14a8b894c67d6a9ed643f",
       "version_major": 2,
       "version_minor": 0
      },
      "text/plain": [
       "Output()"
      ]
     },
     "metadata": {},
     "output_type": "display_data"
    },
    {
     "data": {
      "application/vnd.jupyter.widget-view+json": {
       "model_id": "26a4c50167b1408bb70fef6d5c72f271",
       "version_major": 2,
       "version_minor": 0
      },
      "text/plain": [
       "Output()"
      ]
     },
     "metadata": {},
     "output_type": "display_data"
    }
   ],
   "source": [
    "#hideInput\n",
    "texte_lm.show_task(10)"
   ]
  },
  {
   "cell_type": "markdown",
   "metadata": {},
   "source": [
    "Im folgenden Abschnitt werden wir uns für eine Cluster-Analyse als Modell entscheiden. Alternative Modelle auf Basis von neuronalen Netzen (RNNs) werden aufgrund der kleinen Anzahl an Beispielen nicht berücksichtigt, auch wenn sie wohl bessere Vorhersagen treffen würden.\n",
    "\n",
    "Ebenfalls müssen wir uns um die Label kümmern, da unser Datensatz nicht annotiert ist."
   ]
  },
  {
   "cell_type": "markdown",
   "metadata": {},
   "source": [
    "## 3. Modell"
   ]
  },
  {
   "cell_type": "markdown",
   "metadata": {},
   "source": [
    "[Zurück zur Übersicht](#Lernmodul-zur-Verarbeitung-und-Analyse-von-Textdaten)"
   ]
  },
  {
   "cell_type": "markdown",
   "metadata": {},
   "source": [
    "In der Modelldomäne betten wir die bereinigten Daten zunächst auf Basis eines Vokabulars in ein Modell ein. Das Vokabular dient dabei als Look-up (LUT) für einen Tweet. Welche weiteren Schritte ein Tweet in der Modelldomäne durchläuft, bevor er die letztendlich klassifiziert wird, verrät die folgende Abbildung:\n",
    "\n",
    "![Model](./img/model_flow.png)"
   ]
  },
  {
   "cell_type": "markdown",
   "metadata": {},
   "source": [
    "### 3.1 Textdaten einbetten"
   ]
  },
  {
   "cell_type": "markdown",
   "metadata": {},
   "source": [
    "Da unsere bereinigten Daten weiterhin in symbolischer Form vorliegen, benötigen wir als nächchstes eine Überführung der Daten in eine Form, die von unserem finalen Modell (hier: Klassifikator) verstanden wird. Man spricht in diesem Zusammenhang vom [Embedding](https://en.wikipedia.org/wiki/Word_embedding) der Wörter.\n",
    "\n",
    "Es gibt viele komplizierte Verfahren, um das symbolische Wort auf einen numerischen Wert abzubilden, welche in diesem Lernmodul nicht näher betrachtet werden sollen. In diesem Fall schlagen wir die Wörter einfach in einer Art Vokabular nach, das für jedes Wort einen eigenen Wert besitzt. Wie sieht unser Vokabular nun aus?"
   ]
  },
  {
   "cell_type": "markdown",
   "metadata": {},
   "source": [
    "#### 3.1.1 Vokabular"
   ]
  },
  {
   "cell_type": "markdown",
   "metadata": {},
   "source": [
    "Unser Vokabular wurde über die Universität Leipzig unter der [CC BY-NC-SA 3.0 DE](https://creativecommons.org/licenses/by-nc-sa/3.0/de/) Lizenz veröffentlicht [[2]](#2).\n",
    "\n",
    "Das Vokabular besteht aus negativ bzw. positiv konnotierten Wörtern der deutschen Sprache. Die Stimmungslage ist im Intervall von `[-1, 1]` bzw. `['negativ', 'positiv']` begrenzt. SSchlagen wir neutrale Wörter, wie _und_ bzw. _oder_ im Vokabular nach, bekommen wir einen Stimmungswert von _0_, also neutral, zurückgegeben."
   ]
  },
  {
   "cell_type": "code",
   "execution_count": 61,
   "metadata": {},
   "outputs": [],
   "source": [
    "labels = ['negativ', 'positiv']"
   ]
  },
  {
   "cell_type": "markdown",
   "metadata": {},
   "source": [
    "Dann schauen wir uns mal die negativen..."
   ]
  },
  {
   "cell_type": "code",
   "execution_count": 62,
   "metadata": {},
   "outputs": [
    {
     "data": {
      "text/html": [
       "<div>\n",
       "<style scoped>\n",
       "    .dataframe tbody tr th:only-of-type {\n",
       "        vertical-align: middle;\n",
       "    }\n",
       "\n",
       "    .dataframe tbody tr th {\n",
       "        vertical-align: top;\n",
       "    }\n",
       "\n",
       "    .dataframe thead th {\n",
       "        text-align: right;\n",
       "    }\n",
       "</style>\n",
       "<table border=\"1\" class=\"dataframe\">\n",
       "  <thead>\n",
       "    <tr style=\"text-align: right;\">\n",
       "      <th></th>\n",
       "      <th>Wort</th>\n",
       "      <th>Wert</th>\n",
       "      <th>Deklination</th>\n",
       "      <th>Stimmung</th>\n",
       "    </tr>\n",
       "  </thead>\n",
       "  <tbody>\n",
       "    <tr>\n",
       "      <th>0</th>\n",
       "      <td>Abbruch|NN</td>\n",
       "      <td>-0.0048</td>\n",
       "      <td>Abbruches,Abbrüche,Abbruchs,Abbrüchen\\r</td>\n",
       "      <td>negativ</td>\n",
       "    </tr>\n",
       "    <tr>\n",
       "      <th>1</th>\n",
       "      <td>Abdankung|NN</td>\n",
       "      <td>-0.0048</td>\n",
       "      <td>Abdankungen\\r</td>\n",
       "      <td>negativ</td>\n",
       "    </tr>\n",
       "    <tr>\n",
       "      <th>2</th>\n",
       "      <td>Abdämpfung|NN</td>\n",
       "      <td>-0.0048</td>\n",
       "      <td>Abdämpfungen\\r</td>\n",
       "      <td>negativ</td>\n",
       "    </tr>\n",
       "    <tr>\n",
       "      <th>3</th>\n",
       "      <td>Abfall|NN</td>\n",
       "      <td>-0.0048</td>\n",
       "      <td>Abfalles,Abfälle,Abfalls,Abfällen\\r</td>\n",
       "      <td>negativ</td>\n",
       "    </tr>\n",
       "    <tr>\n",
       "      <th>4</th>\n",
       "      <td>Abfuhr|NN</td>\n",
       "      <td>-0.3367</td>\n",
       "      <td>Abfuhren\\r</td>\n",
       "      <td>negativ</td>\n",
       "    </tr>\n",
       "  </tbody>\n",
       "</table>\n",
       "</div>"
      ],
      "text/plain": [
       "            Wort    Wert                              Deklination Stimmung\n",
       "0     Abbruch|NN -0.0048  Abbruches,Abbrüche,Abbruchs,Abbrüchen\\r  negativ\n",
       "1   Abdankung|NN -0.0048                            Abdankungen\\r  negativ\n",
       "2  Abdämpfung|NN -0.0048                           Abdämpfungen\\r  negativ\n",
       "3      Abfall|NN -0.0048      Abfalles,Abfälle,Abfalls,Abfällen\\r  negativ\n",
       "4      Abfuhr|NN -0.3367                               Abfuhren\\r  negativ"
      ]
     },
     "execution_count": 62,
     "metadata": {},
     "output_type": "execute_result"
    }
   ],
   "source": [
    "negative = pd.read_csv('./data/vocab/negative_words.txt', lineterminator='\\n', sep='\\t', header=0, names=['Wort', 'Wert', 'Deklination'])\n",
    "negative['Stimmung'] = 'negativ'\n",
    "negative.head()"
   ]
  },
  {
   "cell_type": "markdown",
   "metadata": {},
   "source": [
    "...und die positiven Wörter im Vokabular an:"
   ]
  },
  {
   "cell_type": "code",
   "execution_count": 63,
   "metadata": {},
   "outputs": [
    {
     "data": {
      "text/html": [
       "<div>\n",
       "<style scoped>\n",
       "    .dataframe tbody tr th:only-of-type {\n",
       "        vertical-align: middle;\n",
       "    }\n",
       "\n",
       "    .dataframe tbody tr th {\n",
       "        vertical-align: top;\n",
       "    }\n",
       "\n",
       "    .dataframe thead th {\n",
       "        text-align: right;\n",
       "    }\n",
       "</style>\n",
       "<table border=\"1\" class=\"dataframe\">\n",
       "  <thead>\n",
       "    <tr style=\"text-align: right;\">\n",
       "      <th></th>\n",
       "      <th>Wort</th>\n",
       "      <th>Wert</th>\n",
       "      <th>Deklination</th>\n",
       "      <th>Stimmung</th>\n",
       "    </tr>\n",
       "  </thead>\n",
       "  <tbody>\n",
       "    <tr>\n",
       "      <th>0</th>\n",
       "      <td>Abschluß|NN</td>\n",
       "      <td>0.004</td>\n",
       "      <td>Abschlüße,Abschlußs,Abschlußes,Abschlüßen\\r</td>\n",
       "      <td>positiv</td>\n",
       "    </tr>\n",
       "    <tr>\n",
       "      <th>1</th>\n",
       "      <td>Abstimmung|NN</td>\n",
       "      <td>0.004</td>\n",
       "      <td>Abstimmungen\\r</td>\n",
       "      <td>positiv</td>\n",
       "    </tr>\n",
       "    <tr>\n",
       "      <th>2</th>\n",
       "      <td>Agilität|NN</td>\n",
       "      <td>0.004</td>\n",
       "      <td>NaN</td>\n",
       "      <td>positiv</td>\n",
       "    </tr>\n",
       "    <tr>\n",
       "      <th>3</th>\n",
       "      <td>Aktivität|NN</td>\n",
       "      <td>0.004</td>\n",
       "      <td>Aktivitäten\\r</td>\n",
       "      <td>positiv</td>\n",
       "    </tr>\n",
       "    <tr>\n",
       "      <th>4</th>\n",
       "      <td>Aktualisierung|NN</td>\n",
       "      <td>0.004</td>\n",
       "      <td>Aktualisierungen\\r</td>\n",
       "      <td>positiv</td>\n",
       "    </tr>\n",
       "  </tbody>\n",
       "</table>\n",
       "</div>"
      ],
      "text/plain": [
       "                Wort   Wert                                  Deklination  \\\n",
       "0        Abschluß|NN  0.004  Abschlüße,Abschlußs,Abschlußes,Abschlüßen\\r   \n",
       "1      Abstimmung|NN  0.004                               Abstimmungen\\r   \n",
       "2        Agilität|NN  0.004                                          NaN   \n",
       "3       Aktivität|NN  0.004                                Aktivitäten\\r   \n",
       "4  Aktualisierung|NN  0.004                           Aktualisierungen\\r   \n",
       "\n",
       "  Stimmung  \n",
       "0  positiv  \n",
       "1  positiv  \n",
       "2  positiv  \n",
       "3  positiv  \n",
       "4  positiv  "
      ]
     },
     "execution_count": 63,
     "metadata": {},
     "output_type": "execute_result"
    }
   ],
   "source": [
    "positive = pd.read_csv('./data/vocab/positive_words.txt', lineterminator='\\n', sep='\\t', header=0, names=['Wort', 'Wert', 'Deklination'])\n",
    "positive['Stimmung'] = 'positiv'\n",
    "positive.head()"
   ]
  },
  {
   "cell_type": "markdown",
   "metadata": {},
   "source": [
    "Der Spalte _Wort_ scheint der Typ des Wortes angehängt zu sein. Wir führen das negative und das positive Vokabular im DataFrame `vocab` zusammen und trennen das Wort von seinem Typ."
   ]
  },
  {
   "cell_type": "code",
   "execution_count": 64,
   "metadata": {},
   "outputs": [
    {
     "data": {
      "text/html": [
       "<div>\n",
       "<style scoped>\n",
       "    .dataframe tbody tr th:only-of-type {\n",
       "        vertical-align: middle;\n",
       "    }\n",
       "\n",
       "    .dataframe tbody tr th {\n",
       "        vertical-align: top;\n",
       "    }\n",
       "\n",
       "    .dataframe thead th {\n",
       "        text-align: right;\n",
       "    }\n",
       "</style>\n",
       "<table border=\"1\" class=\"dataframe\">\n",
       "  <thead>\n",
       "    <tr style=\"text-align: right;\">\n",
       "      <th></th>\n",
       "      <th>Wort</th>\n",
       "      <th>Wert</th>\n",
       "      <th>Deklination</th>\n",
       "      <th>Stimmung</th>\n",
       "      <th>Typ</th>\n",
       "    </tr>\n",
       "  </thead>\n",
       "  <tbody>\n",
       "    <tr>\n",
       "      <th>0</th>\n",
       "      <td>Abbruch</td>\n",
       "      <td>-0.0048</td>\n",
       "      <td>Abbruches,Abbrüche,Abbruchs,Abbrüchen</td>\n",
       "      <td>negativ</td>\n",
       "      <td>NN</td>\n",
       "    </tr>\n",
       "    <tr>\n",
       "      <th>1</th>\n",
       "      <td>Abdankung</td>\n",
       "      <td>-0.0048</td>\n",
       "      <td>Abdankungen</td>\n",
       "      <td>negativ</td>\n",
       "      <td>NN</td>\n",
       "    </tr>\n",
       "    <tr>\n",
       "      <th>2</th>\n",
       "      <td>Abdämpfung</td>\n",
       "      <td>-0.0048</td>\n",
       "      <td>Abdämpfungen</td>\n",
       "      <td>negativ</td>\n",
       "      <td>NN</td>\n",
       "    </tr>\n",
       "    <tr>\n",
       "      <th>3</th>\n",
       "      <td>Abfall</td>\n",
       "      <td>-0.0048</td>\n",
       "      <td>Abfalles,Abfälle,Abfalls,Abfällen</td>\n",
       "      <td>negativ</td>\n",
       "      <td>NN</td>\n",
       "    </tr>\n",
       "    <tr>\n",
       "      <th>4</th>\n",
       "      <td>Abfuhr</td>\n",
       "      <td>-0.3367</td>\n",
       "      <td>Abfuhren</td>\n",
       "      <td>negativ</td>\n",
       "      <td>NN</td>\n",
       "    </tr>\n",
       "  </tbody>\n",
       "</table>\n",
       "</div>"
      ],
      "text/plain": [
       "         Wort    Wert                            Deklination Stimmung Typ\n",
       "0     Abbruch -0.0048  Abbruches,Abbrüche,Abbruchs,Abbrüchen  negativ  NN\n",
       "1   Abdankung -0.0048                            Abdankungen  negativ  NN\n",
       "2  Abdämpfung -0.0048                           Abdämpfungen  negativ  NN\n",
       "3      Abfall -0.0048      Abfalles,Abfälle,Abfalls,Abfällen  negativ  NN\n",
       "4      Abfuhr -0.3367                               Abfuhren  negativ  NN"
      ]
     },
     "execution_count": 64,
     "metadata": {},
     "output_type": "execute_result"
    }
   ],
   "source": [
    "vocab = pd.concat([negative, positive]) # assert positive.size + negative.size == vocab.size\n",
    "vocab[['Wort', 'Typ']] = vocab['Wort'].str.split('|', 1, expand=True)\n",
    "vocab['Deklination'] = vocab['Deklination'].replace(regex={r'\\r' : ''})\n",
    "vocab.head()"
   ]
  },
  {
   "cell_type": "markdown",
   "metadata": {},
   "source": [
    "Welche Wort-Typen sind vorhanden?"
   ]
  },
  {
   "cell_type": "code",
   "execution_count": 65,
   "metadata": {},
   "outputs": [
    {
     "data": {
      "application/vnd.jupyter.widget-view+json": {
       "model_id": "d6375f5b5d134e389e6541acf6c8bc48",
       "version_major": 2,
       "version_minor": 0
      },
      "text/plain": [
       "Output()"
      ]
     },
     "metadata": {},
     "output_type": "display_data"
    },
    {
     "data": {
      "application/vnd.jupyter.widget-view+json": {
       "model_id": "3266bb67e3c34005b9f131f89435ae40",
       "version_major": 2,
       "version_minor": 0
      },
      "text/plain": [
       "Output()"
      ]
     },
     "metadata": {},
     "output_type": "display_data"
    },
    {
     "data": {
      "application/vnd.jupyter.widget-view+json": {
       "model_id": "89baf64415064cd6ba5ae4353c3efe9c",
       "version_major": 2,
       "version_minor": 0
      },
      "text/plain": [
       "Output()"
      ]
     },
     "metadata": {},
     "output_type": "display_data"
    }
   ],
   "source": [
    "#hideInput\n",
    "texte_lm.show_task(11)"
   ]
  },
  {
   "cell_type": "code",
   "execution_count": 66,
   "metadata": {},
   "outputs": [
    {
     "data": {
      "text/plain": [
       "array(['NN', 'VVINF', 'ADJX', 'ADV'], dtype=object)"
      ]
     },
     "execution_count": 66,
     "metadata": {},
     "output_type": "execute_result"
    }
   ],
   "source": [
    "vocab['Typ'].unique()"
   ]
  },
  {
   "cell_type": "markdown",
   "metadata": {},
   "source": [
    "Wir visualisieren alle negativen Nomen mithilfe der bereits bekannten Schlagwortwolke:"
   ]
  },
  {
   "cell_type": "code",
   "execution_count": 67,
   "metadata": {},
   "outputs": [
    {
     "data": {
      "image/png": "[encoded data removed]",
      "text/plain": [
       "<Figure size 432x288 with 1 Axes>"
      ]
     },
     "metadata": {
      "needs_background": "light"
     },
     "output_type": "display_data"
    }
   ],
   "source": [
    "neg = vocab[(vocab['Stimmung'] == 'negativ') & (vocab['Typ'] == 'NN')] # Only negative vocabulary\n",
    "most_negative_words = wc.generate_from_frequencies(pd.Series(neg.Wert.values * (-100), index=neg.Wort).to_dict())\n",
    "vf.plot_image(most_negative_words, 'Die negativsten Wörter')"
   ]
  },
  {
   "cell_type": "markdown",
   "metadata": {},
   "source": [
    "Analog visualisieren wir alle positiven Adjektive in unserem Vokabular."
   ]
  },
  {
   "cell_type": "code",
   "execution_count": 68,
   "metadata": {},
   "outputs": [
    {
     "data": {
      "image/png": "[encoded data removed]",
      "text/plain": [
       "<Figure size 432x288 with 1 Axes>"
      ]
     },
     "metadata": {
      "needs_background": "light"
     },
     "output_type": "display_data"
    }
   ],
   "source": [
    "pos = vocab[(vocab['Stimmung'] == 'positiv') & (vocab['Typ'] == 'ADJX')] # Only positive vocabulary\n",
    "most_positive_word = wc.generate_from_frequencies(pd.Series(pos.Wert.values * (100), index=pos.Wort).to_dict())\n",
    "vf.plot_image(most_positive_word, 'Die positivsten Wörter')"
   ]
  },
  {
   "cell_type": "markdown",
   "metadata": {},
   "source": [
    "Ist unser Vokabular eher negativ oder eher positiv?"
   ]
  },
  {
   "cell_type": "code",
   "execution_count": 69,
   "metadata": {},
   "outputs": [
    {
     "data": {
      "application/vnd.jupyter.widget-view+json": {
       "model_id": "6f2e0cb96b95491a97b8e21128ff2f9b",
       "version_major": 2,
       "version_minor": 0
      },
      "text/plain": [
       "Output()"
      ]
     },
     "metadata": {},
     "output_type": "display_data"
    },
    {
     "data": {
      "application/vnd.jupyter.widget-view+json": {
       "model_id": "1f9076e563fc466492601acf5556fac4",
       "version_major": 2,
       "version_minor": 0
      },
      "text/plain": [
       "Output()"
      ]
     },
     "metadata": {},
     "output_type": "display_data"
    },
    {
     "data": {
      "application/vnd.jupyter.widget-view+json": {
       "model_id": "8f75c3a4bd464e4889d4469916b211ca",
       "version_major": 2,
       "version_minor": 0
      },
      "text/plain": [
       "Output()"
      ]
     },
     "metadata": {},
     "output_type": "display_data"
    }
   ],
   "source": [
    "#hideInput\n",
    "texte_lm.show_task(12)"
   ]
  },
  {
   "cell_type": "code",
   "execution_count": 70,
   "metadata": {},
   "outputs": [
    {
     "data": {
      "text/plain": [
       "Wert   -0.053921\n",
       "dtype: float64"
      ]
     },
     "execution_count": 70,
     "metadata": {},
     "output_type": "execute_result"
    }
   ],
   "source": [
    "vocab.mean()"
   ]
  },
  {
   "cell_type": "markdown",
   "metadata": {},
   "source": [
    "Wie bereits für die Tweets halten wir nach fehlenden Werten Ausschau. In welcher Spalte fehlen Werte?"
   ]
  },
  {
   "cell_type": "code",
   "execution_count": 71,
   "metadata": {},
   "outputs": [
    {
     "data": {
      "application/vnd.jupyter.widget-view+json": {
       "model_id": "9e42ad8319534b0aa8c1a87d7ab22093",
       "version_major": 2,
       "version_minor": 0
      },
      "text/plain": [
       "Output()"
      ]
     },
     "metadata": {},
     "output_type": "display_data"
    },
    {
     "data": {
      "application/vnd.jupyter.widget-view+json": {
       "model_id": "a51a7768732a4b79ba1df61527c37d2b",
       "version_major": 2,
       "version_minor": 0
      },
      "text/plain": [
       "Output()"
      ]
     },
     "metadata": {},
     "output_type": "display_data"
    },
    {
     "data": {
      "application/vnd.jupyter.widget-view+json": {
       "model_id": "8b6392a5f21641559ff7512b3015a997",
       "version_major": 2,
       "version_minor": 0
      },
      "text/plain": [
       "Output()"
      ]
     },
     "metadata": {},
     "output_type": "display_data"
    }
   ],
   "source": [
    "#hideInput\n",
    "texte_lm.show_task(13)"
   ]
  },
  {
   "cell_type": "code",
   "execution_count": 72,
   "metadata": {},
   "outputs": [
    {
     "data": {
      "text/html": [
       "<div>\n",
       "<style scoped>\n",
       "    .dataframe tbody tr th:only-of-type {\n",
       "        vertical-align: middle;\n",
       "    }\n",
       "\n",
       "    .dataframe tbody tr th {\n",
       "        vertical-align: top;\n",
       "    }\n",
       "\n",
       "    .dataframe thead th {\n",
       "        text-align: right;\n",
       "    }\n",
       "</style>\n",
       "<table border=\"1\" class=\"dataframe\">\n",
       "  <thead>\n",
       "    <tr style=\"text-align: right;\">\n",
       "      <th></th>\n",
       "      <th>Wort</th>\n",
       "      <th>Wert</th>\n",
       "      <th>Deklination</th>\n",
       "      <th>Stimmung</th>\n",
       "      <th>Typ</th>\n",
       "    </tr>\n",
       "  </thead>\n",
       "  <tbody>\n",
       "    <tr>\n",
       "      <th>count</th>\n",
       "      <td>3466</td>\n",
       "      <td>3466</td>\n",
       "      <td>3466</td>\n",
       "      <td>3466</td>\n",
       "      <td>3466</td>\n",
       "    </tr>\n",
       "    <tr>\n",
       "      <th>unique</th>\n",
       "      <td>1</td>\n",
       "      <td>1</td>\n",
       "      <td>2</td>\n",
       "      <td>1</td>\n",
       "      <td>1</td>\n",
       "    </tr>\n",
       "    <tr>\n",
       "      <th>top</th>\n",
       "      <td>False</td>\n",
       "      <td>False</td>\n",
       "      <td>False</td>\n",
       "      <td>False</td>\n",
       "      <td>False</td>\n",
       "    </tr>\n",
       "    <tr>\n",
       "      <th>freq</th>\n",
       "      <td>3466</td>\n",
       "      <td>3466</td>\n",
       "      <td>2659</td>\n",
       "      <td>3466</td>\n",
       "      <td>3466</td>\n",
       "    </tr>\n",
       "  </tbody>\n",
       "</table>\n",
       "</div>"
      ],
      "text/plain": [
       "         Wort   Wert Deklination Stimmung    Typ\n",
       "count    3466   3466        3466     3466   3466\n",
       "unique      1      1           2        1      1\n",
       "top     False  False       False    False  False\n",
       "freq     3466   3466        2659     3466   3466"
      ]
     },
     "execution_count": 72,
     "metadata": {},
     "output_type": "execute_result"
    }
   ],
   "source": [
    "vocab.isna().describe()"
   ]
  },
  {
   "cell_type": "markdown",
   "metadata": {},
   "source": [
    "Anstatt sie zu streichen, werden sie dieses mal mit einer leeren Zeichenkette ersetzt."
   ]
  },
  {
   "cell_type": "code",
   "execution_count": 73,
   "metadata": {},
   "outputs": [],
   "source": [
    "vocab = vocab.fillna('')"
   ]
  },
  {
   "cell_type": "markdown",
   "metadata": {},
   "source": [
    "Für eine unkomplizierte LUT benötigen wir ein Wort pro Zeile. Dies erreichen wir, indem wir die Elemente der Liste in Spalte _Deklinaton_ in eine eigene Reihe überführen."
   ]
  },
  {
   "cell_type": "code",
   "execution_count": 74,
   "metadata": {},
   "outputs": [
    {
     "data": {
      "text/html": [
       "<div>\n",
       "<style scoped>\n",
       "    .dataframe tbody tr th:only-of-type {\n",
       "        vertical-align: middle;\n",
       "    }\n",
       "\n",
       "    .dataframe tbody tr th {\n",
       "        vertical-align: top;\n",
       "    }\n",
       "\n",
       "    .dataframe thead th {\n",
       "        text-align: right;\n",
       "    }\n",
       "</style>\n",
       "<table border=\"1\" class=\"dataframe\">\n",
       "  <thead>\n",
       "    <tr style=\"text-align: right;\">\n",
       "      <th></th>\n",
       "      <th>Stamm</th>\n",
       "      <th>Wert</th>\n",
       "      <th>Stimmung</th>\n",
       "      <th>Typ</th>\n",
       "      <th>Wort</th>\n",
       "    </tr>\n",
       "  </thead>\n",
       "  <tbody>\n",
       "    <tr>\n",
       "      <th>0</th>\n",
       "      <td>Abbruch</td>\n",
       "      <td>-0.0048</td>\n",
       "      <td>negativ</td>\n",
       "      <td>NN</td>\n",
       "      <td>Abbruch</td>\n",
       "    </tr>\n",
       "    <tr>\n",
       "      <th>1</th>\n",
       "      <td>Abbruch</td>\n",
       "      <td>-0.0048</td>\n",
       "      <td>negativ</td>\n",
       "      <td>NN</td>\n",
       "      <td>Abbruches</td>\n",
       "    </tr>\n",
       "    <tr>\n",
       "      <th>2</th>\n",
       "      <td>Abbruch</td>\n",
       "      <td>-0.0048</td>\n",
       "      <td>negativ</td>\n",
       "      <td>NN</td>\n",
       "      <td>Abbrüche</td>\n",
       "    </tr>\n",
       "    <tr>\n",
       "      <th>3</th>\n",
       "      <td>Abbruch</td>\n",
       "      <td>-0.0048</td>\n",
       "      <td>negativ</td>\n",
       "      <td>NN</td>\n",
       "      <td>Abbruchs</td>\n",
       "    </tr>\n",
       "    <tr>\n",
       "      <th>4</th>\n",
       "      <td>Abbruch</td>\n",
       "      <td>-0.0048</td>\n",
       "      <td>negativ</td>\n",
       "      <td>NN</td>\n",
       "      <td>Abbrüchen</td>\n",
       "    </tr>\n",
       "    <tr>\n",
       "      <th>...</th>\n",
       "      <td>...</td>\n",
       "      <td>...</td>\n",
       "      <td>...</td>\n",
       "      <td>...</td>\n",
       "      <td>...</td>\n",
       "    </tr>\n",
       "    <tr>\n",
       "      <th>32076</th>\n",
       "      <td>üppig</td>\n",
       "      <td>0.2010</td>\n",
       "      <td>positiv</td>\n",
       "      <td>ADJX</td>\n",
       "      <td>üppigster</td>\n",
       "    </tr>\n",
       "    <tr>\n",
       "      <th>32077</th>\n",
       "      <td>üppig</td>\n",
       "      <td>0.2010</td>\n",
       "      <td>positiv</td>\n",
       "      <td>ADJX</td>\n",
       "      <td>üppiges</td>\n",
       "    </tr>\n",
       "    <tr>\n",
       "      <th>32078</th>\n",
       "      <td>üppig</td>\n",
       "      <td>0.2010</td>\n",
       "      <td>positiv</td>\n",
       "      <td>ADJX</td>\n",
       "      <td>üppig</td>\n",
       "    </tr>\n",
       "    <tr>\n",
       "      <th>32079</th>\n",
       "      <td>üppig</td>\n",
       "      <td>0.2010</td>\n",
       "      <td>positiv</td>\n",
       "      <td>ADJX</td>\n",
       "      <td>üppigsten</td>\n",
       "    </tr>\n",
       "    <tr>\n",
       "      <th>32080</th>\n",
       "      <td>üppig</td>\n",
       "      <td>0.2010</td>\n",
       "      <td>positiv</td>\n",
       "      <td>ADJX</td>\n",
       "      <td>üppige</td>\n",
       "    </tr>\n",
       "  </tbody>\n",
       "</table>\n",
       "<p>32081 rows × 5 columns</p>\n",
       "</div>"
      ],
      "text/plain": [
       "         Stamm    Wert Stimmung   Typ       Wort\n",
       "0      Abbruch -0.0048  negativ    NN    Abbruch\n",
       "1      Abbruch -0.0048  negativ    NN  Abbruches\n",
       "2      Abbruch -0.0048  negativ    NN   Abbrüche\n",
       "3      Abbruch -0.0048  negativ    NN   Abbruchs\n",
       "4      Abbruch -0.0048  negativ    NN  Abbrüchen\n",
       "...        ...     ...      ...   ...        ...\n",
       "32076    üppig  0.2010  positiv  ADJX  üppigster\n",
       "32077    üppig  0.2010  positiv  ADJX    üppiges\n",
       "32078    üppig  0.2010  positiv  ADJX      üppig\n",
       "32079    üppig  0.2010  positiv  ADJX  üppigsten\n",
       "32080    üppig  0.2010  positiv  ADJX     üppige\n",
       "\n",
       "[32081 rows x 5 columns]"
      ]
     },
     "execution_count": 74,
     "metadata": {},
     "output_type": "execute_result"
    }
   ],
   "source": [
    "vocab['Merged'] = vocab['Wort'] + ',' + vocab['Deklination']\n",
    "vocab['Merged'] = vocab['Merged'].str.split(',')\n",
    "vocab = vocab.explode('Merged')\n",
    "vocab = vocab.sort_values('Wort').reset_index(drop=True)\n",
    "vocab = vocab.rename(columns={'Wort': 'Stamm', 'Merged': 'Wort'})\n",
    "vocab = vocab.drop(['Deklination'], axis=1)\n",
    "vocab"
   ]
  },
  {
   "cell_type": "markdown",
   "metadata": {},
   "source": [
    "Welchen Stimmungswert besitzt das Adjektiv _gut_ im Vokabular."
   ]
  },
  {
   "cell_type": "code",
   "execution_count": 75,
   "metadata": {},
   "outputs": [
    {
     "data": {
      "application/vnd.jupyter.widget-view+json": {
       "model_id": "cf199b846f53431790d3ea1686372aba",
       "version_major": 2,
       "version_minor": 0
      },
      "text/plain": [
       "Output()"
      ]
     },
     "metadata": {},
     "output_type": "display_data"
    },
    {
     "data": {
      "application/vnd.jupyter.widget-view+json": {
       "model_id": "706730fd189d4010959337c83957bd24",
       "version_major": 2,
       "version_minor": 0
      },
      "text/plain": [
       "Output()"
      ]
     },
     "metadata": {},
     "output_type": "display_data"
    },
    {
     "data": {
      "application/vnd.jupyter.widget-view+json": {
       "model_id": "8247d60527864bef9caa1d6e6113e000",
       "version_major": 2,
       "version_minor": 0
      },
      "text/plain": [
       "Output()"
      ]
     },
     "metadata": {},
     "output_type": "display_data"
    }
   ],
   "source": [
    "#hideInput\n",
    "texte_lm.show_task(14)"
   ]
  },
  {
   "cell_type": "code",
   "execution_count": 76,
   "metadata": {},
   "outputs": [
    {
     "data": {
      "text/html": [
       "<div>\n",
       "<style scoped>\n",
       "    .dataframe tbody tr th:only-of-type {\n",
       "        vertical-align: middle;\n",
       "    }\n",
       "\n",
       "    .dataframe tbody tr th {\n",
       "        vertical-align: top;\n",
       "    }\n",
       "\n",
       "    .dataframe thead th {\n",
       "        text-align: right;\n",
       "    }\n",
       "</style>\n",
       "<table border=\"1\" class=\"dataframe\">\n",
       "  <thead>\n",
       "    <tr style=\"text-align: right;\">\n",
       "      <th></th>\n",
       "      <th>Stamm</th>\n",
       "      <th>Wert</th>\n",
       "      <th>Stimmung</th>\n",
       "      <th>Typ</th>\n",
       "      <th>Wort</th>\n",
       "    </tr>\n",
       "  </thead>\n",
       "  <tbody>\n",
       "    <tr>\n",
       "      <th>13862</th>\n",
       "      <td>gut</td>\n",
       "      <td>0.3716</td>\n",
       "      <td>positiv</td>\n",
       "      <td>ADJX</td>\n",
       "      <td>gut</td>\n",
       "    </tr>\n",
       "  </tbody>\n",
       "</table>\n",
       "</div>"
      ],
      "text/plain": [
       "      Stamm    Wert Stimmung   Typ Wort\n",
       "13862   gut  0.3716  positiv  ADJX  gut"
      ]
     },
     "execution_count": 76,
     "metadata": {},
     "output_type": "execute_result"
    }
   ],
   "source": [
    "vocab.loc[(vocab['Typ'] == 'ADJX') & (vocab['Wort'] == 'gut')]"
   ]
  },
  {
   "cell_type": "markdown",
   "metadata": {},
   "source": [
    "Wie lautet das \"schlechteste\" Wort im Vokabular?"
   ]
  },
  {
   "cell_type": "code",
   "execution_count": 77,
   "metadata": {},
   "outputs": [
    {
     "data": {
      "application/vnd.jupyter.widget-view+json": {
       "model_id": "0b4c4f5a5c7a497f86f84f889ab315b3",
       "version_major": 2,
       "version_minor": 0
      },
      "text/plain": [
       "Output()"
      ]
     },
     "metadata": {},
     "output_type": "display_data"
    },
    {
     "data": {
      "application/vnd.jupyter.widget-view+json": {
       "model_id": "94ed2e0becd24930beea77bc20154f24",
       "version_major": 2,
       "version_minor": 0
      },
      "text/plain": [
       "Output()"
      ]
     },
     "metadata": {},
     "output_type": "display_data"
    },
    {
     "data": {
      "application/vnd.jupyter.widget-view+json": {
       "model_id": "69531345cd304a48bf5fd5baaeb22c9e",
       "version_major": 2,
       "version_minor": 0
      },
      "text/plain": [
       "Output()"
      ]
     },
     "metadata": {},
     "output_type": "display_data"
    }
   ],
   "source": [
    "#hideInput\n",
    "texte_lm.show_task(15)"
   ]
  },
  {
   "cell_type": "code",
   "execution_count": 78,
   "metadata": {},
   "outputs": [
    {
     "data": {
      "text/html": [
       "<div>\n",
       "<style scoped>\n",
       "    .dataframe tbody tr th:only-of-type {\n",
       "        vertical-align: middle;\n",
       "    }\n",
       "\n",
       "    .dataframe tbody tr th {\n",
       "        vertical-align: top;\n",
       "    }\n",
       "\n",
       "    .dataframe thead th {\n",
       "        text-align: right;\n",
       "    }\n",
       "</style>\n",
       "<table border=\"1\" class=\"dataframe\">\n",
       "  <thead>\n",
       "    <tr style=\"text-align: right;\">\n",
       "      <th></th>\n",
       "      <th>Stamm</th>\n",
       "      <th>Wert</th>\n",
       "      <th>Stimmung</th>\n",
       "      <th>Typ</th>\n",
       "      <th>Wort</th>\n",
       "    </tr>\n",
       "  </thead>\n",
       "  <tbody>\n",
       "    <tr>\n",
       "      <th>1096</th>\n",
       "      <td>Gefahr</td>\n",
       "      <td>-1.0000</td>\n",
       "      <td>negativ</td>\n",
       "      <td>NN</td>\n",
       "      <td>Gefahr</td>\n",
       "    </tr>\n",
       "    <tr>\n",
       "      <th>1097</th>\n",
       "      <td>Gefahr</td>\n",
       "      <td>-1.0000</td>\n",
       "      <td>negativ</td>\n",
       "      <td>NN</td>\n",
       "      <td>Gefahren</td>\n",
       "    </tr>\n",
       "    <tr>\n",
       "      <th>2219</th>\n",
       "      <td>Schuld</td>\n",
       "      <td>-0.9686</td>\n",
       "      <td>negativ</td>\n",
       "      <td>NN</td>\n",
       "      <td>Schulden</td>\n",
       "    </tr>\n",
       "  </tbody>\n",
       "</table>\n",
       "</div>"
      ],
      "text/plain": [
       "       Stamm    Wert Stimmung Typ      Wort\n",
       "1096  Gefahr -1.0000  negativ  NN    Gefahr\n",
       "1097  Gefahr -1.0000  negativ  NN  Gefahren\n",
       "2219  Schuld -0.9686  negativ  NN  Schulden"
      ]
     },
     "execution_count": 78,
     "metadata": {},
     "output_type": "execute_result"
    }
   ],
   "source": [
    "vocab.sort_values('Wert').head(3)"
   ]
  },
  {
   "cell_type": "markdown",
   "metadata": {},
   "source": [
    "#### 3.1.2 Vektorisierung"
   ]
  },
  {
   "cell_type": "markdown",
   "metadata": {},
   "source": [
    "Innerhalb der Vektorisierung überführen wir die symbolischen Textdaten in numerische Werte. Dies geschieht im Normalfall über Häufigkeitsverteilungen. Je öfter ein Wort im Text vorkommt, desto wichtiger scheint es zu sein, was sich in der Vektorisierung wiederspiegelt.\n",
    "\n",
    "In diesem Fall aber benutzen wir das bekannte Vokabular und überführen jedes einzelne Wort eines Tweets in seinen Stimmungswert. Das Wort _gut_ kriegt dabei den Stimmungswert 0.37 zugewiesen, wie eine vorherige Aufgabe bereits abgefragt hat."
   ]
  },
  {
   "cell_type": "code",
   "execution_count": 79,
   "metadata": {},
   "outputs": [
    {
     "data": {
      "text/plain": [
       "13862    0.3716\n",
       "Name: Wert, dtype: float64"
      ]
     },
     "execution_count": 79,
     "metadata": {},
     "output_type": "execute_result"
    }
   ],
   "source": [
    "vocab.loc[vocab['Wort'] == 'gut'].Wert"
   ]
  },
  {
   "cell_type": "code",
   "execution_count": 80,
   "metadata": {},
   "outputs": [
    {
     "data": {
      "text/html": [
       "<div>\n",
       "<style scoped>\n",
       "    .dataframe tbody tr th:only-of-type {\n",
       "        vertical-align: middle;\n",
       "    }\n",
       "\n",
       "    .dataframe tbody tr th {\n",
       "        vertical-align: top;\n",
       "    }\n",
       "\n",
       "    .dataframe thead th {\n",
       "        text-align: right;\n",
       "    }\n",
       "</style>\n",
       "<table border=\"1\" class=\"dataframe\">\n",
       "  <thead>\n",
       "    <tr style=\"text-align: right;\">\n",
       "      <th></th>\n",
       "      <th>Wort</th>\n",
       "      <th>Wert</th>\n",
       "    </tr>\n",
       "  </thead>\n",
       "  <tbody>\n",
       "    <tr>\n",
       "      <th>0</th>\n",
       "      <td>Abbruch</td>\n",
       "      <td>-0.0048</td>\n",
       "    </tr>\n",
       "    <tr>\n",
       "      <th>1</th>\n",
       "      <td>Abbruches</td>\n",
       "      <td>-0.0048</td>\n",
       "    </tr>\n",
       "    <tr>\n",
       "      <th>2</th>\n",
       "      <td>Abbrüche</td>\n",
       "      <td>-0.0048</td>\n",
       "    </tr>\n",
       "    <tr>\n",
       "      <th>3</th>\n",
       "      <td>Abbruchs</td>\n",
       "      <td>-0.0048</td>\n",
       "    </tr>\n",
       "    <tr>\n",
       "      <th>4</th>\n",
       "      <td>Abbrüchen</td>\n",
       "      <td>-0.0048</td>\n",
       "    </tr>\n",
       "  </tbody>\n",
       "</table>\n",
       "</div>"
      ],
      "text/plain": [
       "        Wort    Wert\n",
       "0    Abbruch -0.0048\n",
       "1  Abbruches -0.0048\n",
       "2   Abbrüche -0.0048\n",
       "3   Abbruchs -0.0048\n",
       "4  Abbrüchen -0.0048"
      ]
     },
     "execution_count": 80,
     "metadata": {},
     "output_type": "execute_result"
    }
   ],
   "source": [
    "vocab[['Wort', 'Wert']].head()"
   ]
  },
  {
   "cell_type": "code",
   "execution_count": 81,
   "metadata": {},
   "outputs": [],
   "source": [
    "lookup = pd.Series(vocab.Wert.values,index=vocab.Wort.str.lower()).to_dict()"
   ]
  },
  {
   "cell_type": "code",
   "execution_count": 82,
   "metadata": {},
   "outputs": [],
   "source": [
    "def vectorize(tweet):\n",
    "    \"\"\"Vectorize tweets based on vocabulary\"\"\"\n",
    "    \n",
    "    # vectors = pd.Series(tweet).map(lookup, na_action='ignore')\n",
    "    # vectors = vectors.dropna().to_list()\n",
    "    \n",
    "    return [lookup.get(a) for a in tweet if lookup.get(a)]"
   ]
  },
  {
   "cell_type": "code",
   "execution_count": 83,
   "metadata": {},
   "outputs": [
    {
     "data": {
      "text/html": [
       "<div>\n",
       "<style scoped>\n",
       "    .dataframe tbody tr th:only-of-type {\n",
       "        vertical-align: middle;\n",
       "    }\n",
       "\n",
       "    .dataframe tbody tr th {\n",
       "        vertical-align: top;\n",
       "    }\n",
       "\n",
       "    .dataframe thead th {\n",
       "        text-align: right;\n",
       "    }\n",
       "</style>\n",
       "<table border=\"1\" class=\"dataframe\">\n",
       "  <thead>\n",
       "    <tr style=\"text-align: right;\">\n",
       "      <th></th>\n",
       "      <th>Token</th>\n",
       "      <th>Vector</th>\n",
       "    </tr>\n",
       "  </thead>\n",
       "  <tbody>\n",
       "    <tr>\n",
       "      <th>0</th>\n",
       "      <td>[a, venezuela, b, deutschland, während, ncovc,...</td>\n",
       "      <td>[]</td>\n",
       "    </tr>\n",
       "    <tr>\n",
       "      <th>1</th>\n",
       "      <td>[assad, putin, wollen, erdoan, lektion, erteil...</td>\n",
       "      <td>[-0.0048, -0.0468, -0.0603, -0.1483, -0.0048]</td>\n",
       "    </tr>\n",
       "    <tr>\n",
       "      <th>2</th>\n",
       "      <td>[hoff, dinger, kann, a, amol, fahren, können, ...</td>\n",
       "      <td>[0.2318]</td>\n",
       "    </tr>\n",
       "    <tr>\n",
       "      <th>3</th>\n",
       "      <td>[trotz, aussichtsloser, lage, wehrmacht, ergeb...</td>\n",
       "      <td>[-0.0048, -0.183]</td>\n",
       "    </tr>\n",
       "    <tr>\n",
       "      <th>4</th>\n",
       "      <td>[mein, kommentar, zur, causa, hopp, für]</td>\n",
       "      <td>[]</td>\n",
       "    </tr>\n",
       "  </tbody>\n",
       "</table>\n",
       "</div>"
      ],
      "text/plain": [
       "                                               Token  \\\n",
       "0  [a, venezuela, b, deutschland, während, ncovc,...   \n",
       "1  [assad, putin, wollen, erdoan, lektion, erteil...   \n",
       "2  [hoff, dinger, kann, a, amol, fahren, können, ...   \n",
       "3  [trotz, aussichtsloser, lage, wehrmacht, ergeb...   \n",
       "4           [mein, kommentar, zur, causa, hopp, für]   \n",
       "\n",
       "                                          Vector  \n",
       "0                                             []  \n",
       "1  [-0.0048, -0.0468, -0.0603, -0.1483, -0.0048]  \n",
       "2                                       [0.2318]  \n",
       "3                              [-0.0048, -0.183]  \n",
       "4                                             []  "
      ]
     },
     "execution_count": 83,
     "metadata": {},
     "output_type": "execute_result"
    }
   ],
   "source": [
    "tweets = tweets.to_frame(name='Token')\n",
    "tweets['Vector'] = tweets['Token'].apply(vectorize)\n",
    "tweets.head()"
   ]
  },
  {
   "cell_type": "markdown",
   "metadata": {},
   "source": [
    "#### 3.1.3 Label"
   ]
  },
  {
   "cell_type": "markdown",
   "metadata": {},
   "source": [
    "Dieser Schritt fügt den Tweets eine Stimmung auf Basis des Vokabulars hinzu. Dabei summieren wir die jeweiligen Stimmungswerte aller im Tweet enthaltenen Wörter und schauen ob sie in Summe negativ oder positiv sind."
   ]
  },
  {
   "cell_type": "code",
   "execution_count": 84,
   "metadata": {},
   "outputs": [],
   "source": [
    "def get_labels(tweet):\n",
    "    \"\"\"Label tweets according to vocabulary.\"\"\"\n",
    "    \n",
    "    score = np.sum(tweet)\n",
    "            \n",
    "    if score > 0.0:\n",
    "        return 'positiv'\n",
    "    elif score < 0.0:\n",
    "        return 'negativ'\n",
    "    else:\n",
    "        return 'neutral'"
   ]
  },
  {
   "cell_type": "code",
   "execution_count": 85,
   "metadata": {},
   "outputs": [
    {
     "data": {
      "text/html": [
       "<div>\n",
       "<style scoped>\n",
       "    .dataframe tbody tr th:only-of-type {\n",
       "        vertical-align: middle;\n",
       "    }\n",
       "\n",
       "    .dataframe tbody tr th {\n",
       "        vertical-align: top;\n",
       "    }\n",
       "\n",
       "    .dataframe thead th {\n",
       "        text-align: right;\n",
       "    }\n",
       "</style>\n",
       "<table border=\"1\" class=\"dataframe\">\n",
       "  <thead>\n",
       "    <tr style=\"text-align: right;\">\n",
       "      <th></th>\n",
       "      <th>Token</th>\n",
       "      <th>Vector</th>\n",
       "      <th>Label</th>\n",
       "    </tr>\n",
       "  </thead>\n",
       "  <tbody>\n",
       "    <tr>\n",
       "      <th>0</th>\n",
       "      <td>[a, venezuela, b, deutschland, während, ncovc,...</td>\n",
       "      <td>[]</td>\n",
       "      <td>neutral</td>\n",
       "    </tr>\n",
       "    <tr>\n",
       "      <th>1</th>\n",
       "      <td>[assad, putin, wollen, erdoan, lektion, erteil...</td>\n",
       "      <td>[-0.0048, -0.0468, -0.0603, -0.1483, -0.0048]</td>\n",
       "      <td>negativ</td>\n",
       "    </tr>\n",
       "    <tr>\n",
       "      <th>2</th>\n",
       "      <td>[hoff, dinger, kann, a, amol, fahren, können, ...</td>\n",
       "      <td>[0.2318]</td>\n",
       "      <td>positiv</td>\n",
       "    </tr>\n",
       "    <tr>\n",
       "      <th>3</th>\n",
       "      <td>[trotz, aussichtsloser, lage, wehrmacht, ergeb...</td>\n",
       "      <td>[-0.0048, -0.183]</td>\n",
       "      <td>negativ</td>\n",
       "    </tr>\n",
       "    <tr>\n",
       "      <th>4</th>\n",
       "      <td>[mein, kommentar, zur, causa, hopp, für]</td>\n",
       "      <td>[]</td>\n",
       "      <td>neutral</td>\n",
       "    </tr>\n",
       "  </tbody>\n",
       "</table>\n",
       "</div>"
      ],
      "text/plain": [
       "                                               Token  \\\n",
       "0  [a, venezuela, b, deutschland, während, ncovc,...   \n",
       "1  [assad, putin, wollen, erdoan, lektion, erteil...   \n",
       "2  [hoff, dinger, kann, a, amol, fahren, können, ...   \n",
       "3  [trotz, aussichtsloser, lage, wehrmacht, ergeb...   \n",
       "4           [mein, kommentar, zur, causa, hopp, für]   \n",
       "\n",
       "                                          Vector    Label  \n",
       "0                                             []  neutral  \n",
       "1  [-0.0048, -0.0468, -0.0603, -0.1483, -0.0048]  negativ  \n",
       "2                                       [0.2318]  positiv  \n",
       "3                              [-0.0048, -0.183]  negativ  \n",
       "4                                             []  neutral  "
      ]
     },
     "execution_count": 85,
     "metadata": {},
     "output_type": "execute_result"
    }
   ],
   "source": [
    "tweets['Label'] = tweets['Vector'].apply(get_labels)\n",
    "tweets.head()"
   ]
  },
  {
   "cell_type": "markdown",
   "metadata": {},
   "source": [
    "Welches Label bekommen Tweets, dessen Summe _0_ ist, weil entweder keine Wörter gefunden werden bzw. sich die Stimmungswerte neutralisieren?"
   ]
  },
  {
   "cell_type": "code",
   "execution_count": 86,
   "metadata": {},
   "outputs": [
    {
     "data": {
      "application/vnd.jupyter.widget-view+json": {
       "model_id": "f9de483c4f7042b0899a3cd3a605bcaf",
       "version_major": 2,
       "version_minor": 0
      },
      "text/plain": [
       "Output()"
      ]
     },
     "metadata": {},
     "output_type": "display_data"
    },
    {
     "data": {
      "application/vnd.jupyter.widget-view+json": {
       "model_id": "ae0f59b036044a2cb6bc21bd2686eafe",
       "version_major": 2,
       "version_minor": 0
      },
      "text/plain": [
       "Output()"
      ]
     },
     "metadata": {},
     "output_type": "display_data"
    },
    {
     "data": {
      "application/vnd.jupyter.widget-view+json": {
       "model_id": "719805b21d9b4584933d5e64e820ab9b",
       "version_major": 2,
       "version_minor": 0
      },
      "text/plain": [
       "Output()"
      ]
     },
     "metadata": {},
     "output_type": "display_data"
    }
   ],
   "source": [
    "#hideInput\n",
    "texte_lm.show_task(16)"
   ]
  },
  {
   "cell_type": "markdown",
   "metadata": {},
   "source": [
    "Neutrale Tweets sind für unser Modell nicht relevant und werden verworfen."
   ]
  },
  {
   "cell_type": "code",
   "execution_count": 87,
   "metadata": {},
   "outputs": [
    {
     "data": {
      "text/html": [
       "<div>\n",
       "<style scoped>\n",
       "    .dataframe tbody tr th:only-of-type {\n",
       "        vertical-align: middle;\n",
       "    }\n",
       "\n",
       "    .dataframe tbody tr th {\n",
       "        vertical-align: top;\n",
       "    }\n",
       "\n",
       "    .dataframe thead th {\n",
       "        text-align: right;\n",
       "    }\n",
       "</style>\n",
       "<table border=\"1\" class=\"dataframe\">\n",
       "  <thead>\n",
       "    <tr style=\"text-align: right;\">\n",
       "      <th></th>\n",
       "      <th>Token</th>\n",
       "      <th>Vector</th>\n",
       "      <th>Label</th>\n",
       "    </tr>\n",
       "  </thead>\n",
       "  <tbody>\n",
       "    <tr>\n",
       "      <th>1</th>\n",
       "      <td>[assad, putin, wollen, erdoan, lektion, erteil...</td>\n",
       "      <td>[-0.0048, -0.0468, -0.0603, -0.1483, -0.0048]</td>\n",
       "      <td>negativ</td>\n",
       "    </tr>\n",
       "    <tr>\n",
       "      <th>2</th>\n",
       "      <td>[hoff, dinger, kann, a, amol, fahren, können, ...</td>\n",
       "      <td>[0.2318]</td>\n",
       "      <td>positiv</td>\n",
       "    </tr>\n",
       "    <tr>\n",
       "      <th>3</th>\n",
       "      <td>[trotz, aussichtsloser, lage, wehrmacht, ergeb...</td>\n",
       "      <td>[-0.0048, -0.183]</td>\n",
       "      <td>negativ</td>\n",
       "    </tr>\n",
       "    <tr>\n",
       "      <th>7</th>\n",
       "      <td>[boooom, kdealschön, den, tag, über, während, ...</td>\n",
       "      <td>[0.368, 0.0711]</td>\n",
       "      <td>positiv</td>\n",
       "    </tr>\n",
       "    <tr>\n",
       "      <th>8</th>\n",
       "      <td>[gutschein, über, x, b, e, r, u, h, i, g, u, n...</td>\n",
       "      <td>[-0.3429]</td>\n",
       "      <td>negativ</td>\n",
       "    </tr>\n",
       "  </tbody>\n",
       "</table>\n",
       "</div>"
      ],
      "text/plain": [
       "                                               Token  \\\n",
       "1  [assad, putin, wollen, erdoan, lektion, erteil...   \n",
       "2  [hoff, dinger, kann, a, amol, fahren, können, ...   \n",
       "3  [trotz, aussichtsloser, lage, wehrmacht, ergeb...   \n",
       "7  [boooom, kdealschön, den, tag, über, während, ...   \n",
       "8  [gutschein, über, x, b, e, r, u, h, i, g, u, n...   \n",
       "\n",
       "                                          Vector    Label  \n",
       "1  [-0.0048, -0.0468, -0.0603, -0.1483, -0.0048]  negativ  \n",
       "2                                       [0.2318]  positiv  \n",
       "3                              [-0.0048, -0.183]  negativ  \n",
       "7                                [0.368, 0.0711]  positiv  \n",
       "8                                      [-0.3429]  negativ  "
      ]
     },
     "execution_count": 87,
     "metadata": {},
     "output_type": "execute_result"
    }
   ],
   "source": [
    "tweets = tweets.drop(tweets[tweets['Label'] == 'neutral'].index) # Preserve index\n",
    "tweets.head()"
   ]
  },
  {
   "cell_type": "markdown",
   "metadata": {},
   "source": [
    "Wie sieht die Verteilung zwischen negativen und positiven Tweets aus? Ist die Stimmungslage eher negativ oder eher positiv?"
   ]
  },
  {
   "cell_type": "code",
   "execution_count": 88,
   "metadata": {},
   "outputs": [
    {
     "data": {
      "application/vnd.jupyter.widget-view+json": {
       "model_id": "64d9ed6a382349b3a75199c55dc742e2",
       "version_major": 2,
       "version_minor": 0
      },
      "text/plain": [
       "Output()"
      ]
     },
     "metadata": {},
     "output_type": "display_data"
    },
    {
     "data": {
      "application/vnd.jupyter.widget-view+json": {
       "model_id": "dd0dbfcf4f854f079462abd4e8c000ff",
       "version_major": 2,
       "version_minor": 0
      },
      "text/plain": [
       "Output()"
      ]
     },
     "metadata": {},
     "output_type": "display_data"
    },
    {
     "data": {
      "application/vnd.jupyter.widget-view+json": {
       "model_id": "08923dcceb4f4d1f8c5e6b630e70f6e7",
       "version_major": 2,
       "version_minor": 0
      },
      "text/plain": [
       "Output()"
      ]
     },
     "metadata": {},
     "output_type": "display_data"
    }
   ],
   "source": [
    "#hideInput\n",
    "texte_lm.show_task(17)"
   ]
  },
  {
   "cell_type": "code",
   "execution_count": 89,
   "metadata": {},
   "outputs": [
    {
     "data": {
      "text/plain": [
       "74672"
      ]
     },
     "execution_count": 89,
     "metadata": {},
     "output_type": "execute_result"
    }
   ],
   "source": [
    "negative_count = tweets['Label'][tweets['Label'] == 'negativ'].count()\n",
    "negative_count"
   ]
  },
  {
   "cell_type": "code",
   "execution_count": 90,
   "metadata": {},
   "outputs": [
    {
     "data": {
      "text/plain": [
       "120185"
      ]
     },
     "execution_count": 90,
     "metadata": {},
     "output_type": "execute_result"
    }
   ],
   "source": [
    "positive_count = tweets['Label'][tweets['Label'] == 'positiv'].count()\n",
    "positive_count"
   ]
  },
  {
   "cell_type": "code",
   "execution_count": 91,
   "metadata": {},
   "outputs": [
    {
     "data": {
      "image/png": "[encoded data removed]",
      "text/plain": [
       "<Figure size 432x288 with 1 Axes>"
      ]
     },
     "metadata": {},
     "output_type": "display_data"
    }
   ],
   "source": [
    "vf.plot_pie([negative_count, positive_count], labels=labels)"
   ]
  },
  {
   "cell_type": "markdown",
   "metadata": {},
   "source": [
    "Natürlich werden nicht immer gleich viele Wörter pro Tweet im Vokabular gefunden. Da unser unüberwachter Klassifikator eine konstante Eingabe benötigt, müssen wir uns auf eine Wortzahl einigen, die vom Modell pro Tweet einbezogen wird. Naheliegend entscheiden wir uns für die im Mittel gefundenen Wörter als `pad_size`."
   ]
  },
  {
   "cell_type": "code",
   "execution_count": 92,
   "metadata": {},
   "outputs": [
    {
     "data": {
      "text/plain": [
       "4"
      ]
     },
     "execution_count": 92,
     "metadata": {},
     "output_type": "execute_result"
    }
   ],
   "source": [
    "pad_size = int(np.round(np.mean([len(vector) for vector in tweets['Vector']])))\n",
    "pad_size += 2\n",
    "pad_size"
   ]
  },
  {
   "cell_type": "markdown",
   "metadata": {},
   "source": [
    "...und füllen fehlende Werte mit der `padding()` Funktion wie folgt auf."
   ]
  },
  {
   "cell_type": "code",
   "execution_count": 93,
   "metadata": {},
   "outputs": [],
   "source": [
    "def padding(tweet):\n",
    "    \"\"\"Pad vectors with zeros at the end.\"\"\"\n",
    "       \n",
    "    return np.pad(tweet[:pad_size], (0, pad_size-len(tweet[:pad_size])))"
   ]
  },
  {
   "cell_type": "markdown",
   "metadata": {},
   "source": [
    "#### 3.1.4 Features"
   ]
  },
  {
   "cell_type": "markdown",
   "metadata": {},
   "source": [
    "Jetzt fehlt nur noch eine Eingabe für unseren überwachten Klassifikator. Da diese auf Features und Labels angewiesen ist, strukturieren wir sie als einfaches Schlüsselwertpaar mit den Wörtern als Schlüssel und der Stimmung als Wert."
   ]
  },
  {
   "cell_type": "code",
   "execution_count": 94,
   "metadata": {},
   "outputs": [],
   "source": [
    "def get_features(tweets):\n",
    "    for tweet in tweets:\n",
    "        yield dict([(word, True) for word in tweet])"
   ]
  },
  {
   "cell_type": "code",
   "execution_count": 95,
   "metadata": {},
   "outputs": [],
   "source": [
    "def get_features_for_single_tweet(tweet):\n",
    "    return dict([(word, True) for word in tweet])"
   ]
  },
  {
   "cell_type": "code",
   "execution_count": 96,
   "metadata": {},
   "outputs": [],
   "source": [
    "negative_features = get_features(tweets.loc[tweets['Label'] == 'negativ']['Token'])\n",
    "negative_set = [(tweet_dict, 'negativ') for tweet_dict in negative_features]\n",
    "\n",
    "positive_features = get_features(tweets.loc[tweets['Label'] == 'positiv']['Token'])\n",
    "positive_set = [(tweet_dict, 'positiv') for tweet_dict in positive_features]\n",
    "\n",
    "data_set = negative_set + positive_set"
   ]
  },
  {
   "cell_type": "code",
   "execution_count": 97,
   "metadata": {},
   "outputs": [],
   "source": [
    "divider = int(len(data_set) * 0.8) # 80 % for training\n",
    "train_set = data_set[ : divider]\n",
    "test_set = data_set[divider : ]\n",
    "assert len(train_set) + len(test_set) == len (data_set)"
   ]
  },
  {
   "cell_type": "markdown",
   "metadata": {},
   "source": [
    "### 3.2 Textdaten klassifizieren"
   ]
  },
  {
   "cell_type": "markdown",
   "metadata": {},
   "source": [
    "#### 3.2.1 Überwachte Klassifikation"
   ]
  },
  {
   "cell_type": "markdown",
   "metadata": {},
   "source": [
    "Mithilfe des [Naive Bayes](https://www.nltk.org/_modules/nltk/classify/naivebayes.html) Algorithmus führen wir eine überwachte Klassifizierung aus. Dabei versucht der Klassifikator eine Gruppe von Features ihrer wahrscheinlichsten Klasse (hier: Stimmung) zuzuordnen. In unserem Fall repräsentiert jedes Wort im Tweet ein Feature, wonach ein Feature-Set alle Wörter eines Tweets beinhaltet. In der folgenden Animation wird der Lernprozess des Klassifikators auf Basis von drei Klassen veranschaulicht:\n",
    "\n",
    "![Naive Bayes](https://upload.wikimedia.org/wikipedia/commons/b/b4/Naive_Bayes_Classifier.gif)"
   ]
  },
  {
   "cell_type": "code",
   "execution_count": 98,
   "metadata": {},
   "outputs": [],
   "source": [
    "from nltk import NaiveBayesClassifier, classify"
   ]
  },
  {
   "cell_type": "code",
   "execution_count": 99,
   "metadata": {},
   "outputs": [],
   "source": [
    "classifier = NaiveBayesClassifier.train(train_set)"
   ]
  },
  {
   "cell_type": "markdown",
   "metadata": {},
   "source": [
    "Wie sehen die informativsten Wörter aus?"
   ]
  },
  {
   "cell_type": "code",
   "execution_count": 100,
   "metadata": {},
   "outputs": [
    {
     "data": {
      "application/vnd.jupyter.widget-view+json": {
       "model_id": "ba65acfe6afa4fcf9900a49c2ee44865",
       "version_major": 2,
       "version_minor": 0
      },
      "text/plain": [
       "Output()"
      ]
     },
     "metadata": {},
     "output_type": "display_data"
    },
    {
     "data": {
      "application/vnd.jupyter.widget-view+json": {
       "model_id": "e4e96175fa304199bb17fc7fbac21bec",
       "version_major": 2,
       "version_minor": 0
      },
      "text/plain": [
       "Output()"
      ]
     },
     "metadata": {},
     "output_type": "display_data"
    },
    {
     "data": {
      "application/vnd.jupyter.widget-view+json": {
       "model_id": "80755a502def4512a88f9d5ebb4444f3",
       "version_major": 2,
       "version_minor": 0
      },
      "text/plain": [
       "Output()"
      ]
     },
     "metadata": {},
     "output_type": "display_data"
    }
   ],
   "source": [
    "#hideInput\n",
    "texte_lm.show_task(18)"
   ]
  },
  {
   "cell_type": "code",
   "execution_count": 101,
   "metadata": {},
   "outputs": [
    {
     "name": "stdout",
     "output_type": "stream",
     "text": [
      "Most Informative Features\n",
      "                  gefahr = True           negati : positi =    243.8 : 1.0\n",
      "                schlecht = True           negati : positi =    143.3 : 1.0\n",
      "                 unnötig = True           negati : positi =    137.4 : 1.0\n",
      "               verbieten = True           negati : positi =    136.7 : 1.0\n",
      "                schleuse = True           positi : negati =    102.1 : 1.0\n",
      "              schlechter = True           negati : positi =     98.5 : 1.0\n",
      "              lächerlich = True           negati : positi =     97.2 : 1.0\n",
      "                hässlich = True           negati : positi =     95.3 : 1.0\n",
      "                zerstört = True           negati : positi =     95.1 : 1.0\n",
      "                 falsche = True           negati : positi =     93.4 : 1.0\n"
     ]
    }
   ],
   "source": [
    "classifier.show_most_informative_features()"
   ]
  },
  {
   "cell_type": "markdown",
   "metadata": {},
   "source": [
    "Wie gut schlägt sich unser Klassifikator auf den Trainingsdaten?#hideInput\n",
    "texte_lm.show_task(18)"
   ]
  },
  {
   "cell_type": "code",
   "execution_count": 102,
   "metadata": {},
   "outputs": [
    {
     "data": {
      "application/vnd.jupyter.widget-view+json": {
       "model_id": "8ac9d523be704e69a6c9ede36cab7210",
       "version_major": 2,
       "version_minor": 0
      },
      "text/plain": [
       "Output()"
      ]
     },
     "metadata": {},
     "output_type": "display_data"
    },
    {
     "data": {
      "application/vnd.jupyter.widget-view+json": {
       "model_id": "a07b35a6bc9740b98917bb54801135cb",
       "version_major": 2,
       "version_minor": 0
      },
      "text/plain": [
       "Output()"
      ]
     },
     "metadata": {},
     "output_type": "display_data"
    },
    {
     "data": {
      "application/vnd.jupyter.widget-view+json": {
       "model_id": "6a2a221bbfd0495385b7ccbe53d2af89",
       "version_major": 2,
       "version_minor": 0
      },
      "text/plain": [
       "Output()"
      ]
     },
     "metadata": {},
     "output_type": "display_data"
    }
   ],
   "source": [
    "#hideInput\n",
    "texte_lm.show_task(19)"
   ]
  },
  {
   "cell_type": "code",
   "execution_count": 103,
   "metadata": {},
   "outputs": [
    {
     "data": {
      "text/plain": [
       "0.8581005228213106"
      ]
     },
     "execution_count": 103,
     "metadata": {},
     "output_type": "execute_result"
    }
   ],
   "source": [
    "classify.accuracy(classifier, train_set) # On Train"
   ]
  },
  {
   "cell_type": "code",
   "execution_count": 104,
   "metadata": {},
   "outputs": [],
   "source": [
    "def supervised_classifier(tweets):\n",
    "    \"\"\"Supervised classifier\"\"\"\n",
    "    \n",
    "    print('#\\tSoll\\tIst\\t∆\\tTweet')\n",
    "    \n",
    "    negative = 0\n",
    "    positive = 0\n",
    "    error = 0\n",
    "    for tweet in tweets.itertuples():\n",
    "        \n",
    "        label = tweet.Label\n",
    "        features = get_features_for_single_tweet(tweet.Token)\n",
    "        prediction = classifier.classify(features)\n",
    "            \n",
    "        if label != prediction: \n",
    "            delta = 'X'\n",
    "            error += 1\n",
    "        else: \n",
    "            delta = ' '\n",
    "        \n",
    "        if prediction == 'negativ':\n",
    "            negative += 1\n",
    "            \n",
    "        else:\n",
    "            positive += 1\n",
    "            \n",
    "        print('%i\\t%s\\t%s\\t%s\\t%.100s' % (tweet.Index, label, prediction, delta, tweets_copy.iloc[tweet.Index]))\n",
    "        \n",
    "    print('\\nGenauigkeit:', 1 - error / tweets.shape[0])\n",
    "    vf.plot_pie([negative, positive], labels=labels)"
   ]
  },
  {
   "cell_type": "code",
   "execution_count": 105,
   "metadata": {},
   "outputs": [],
   "source": [
    "train_sample = tweets.sample(100)"
   ]
  },
  {
   "cell_type": "code",
   "execution_count": 106,
   "metadata": {},
   "outputs": [
    {
     "name": "stdout",
     "output_type": "stream",
     "text": [
      "#\tSoll\tIst\t∆\tTweet\n",
      "247599\tnegativ\tnegativ\t \t@KnoxRotzloffel @tofugrrrl Spätestens nächsten Freitag fängt dann die schwierige Zeit an. Vielleicht\n",
      "213498\tnegativ\tnegativ\t \t@ZDFheute Die Vokabel \"Hasskommentare\" anstelle von juristischen Begriffen, wie z.B. Verleumdungen u\n",
      "241629\tpositiv\tpositiv\t \tIch muss unbedingt mal wieder Marlene ein paar Malaufträge entlocken. Das war schon schön! https://t\n",
      "232935\tpositiv\tpositiv\t \t6 Löcher konnten ihn nicht stoppen ! von nightkiss66 (41) Ein Dreier den er nie vergißt ! Wer träumt\n",
      "63059\tnegativ\tnegativ\t \t@glanz_markus Ich kenne das StGB gut genug, glaub mir. Und ein \" Sei nicht wie ...\" ist mit Sicherhe\n",
      "264820\tnegativ\tnegativ\t \t@MuMiMa74 @ntvde Jetzt nochmal meine Frage. Interessiert sich für die damit verbundenen Belastungen \n",
      "62828\tpositiv\tpositiv\t \t@PillenwichtelSM Guten Morgen, hehe doppelt hält besser 😁 Dankeschön das wünsche ich dir auch 🙏🙏🙋‍♂️\n",
      "146716\tpositiv\tpositiv\t \tIch genieße gerade diese entschleunigte Ruhe. Ein Glas Wein, schöne, sanfte Musik und mein Mann, hie\n",
      "106831\tnegativ\tnegativ\t \t@Bediko Wäre schön, wenn es so bliebe, allein mir fehlt der Glaube.\n",
      "318840\tnegativ\tnegativ\t \tBekommt spät sein erstes Kind, ein paar Monate später eine vernichtende Diagnose, ein Jahr später is\n",
      "241716\tpositiv\tnegativ\tX\tIch führe ein Doppelleben... Die eine Hälfte macht Diät, die andere ißt Schokolade!\n",
      "161654\tpositiv\tpositiv\t \t@DieKoese Unter #aachen_kocht gibt es alltägliche Essensfotos, die vielleicht auch als Anregungen nü\n",
      "281487\tnegativ\tnegativ\t \t@TanjaSagt Konsens wäre normal. Scham deutlich weniger. Paraphilien glaube gleich. Feministisch geht\n",
      "296730\tnegativ\tnegativ\t \t@TypischDnl @AMD_Deutschland @amazon Maybe kannst du amazon einfach sagen dass die Karte bluescreens\n",
      "271996\tnegativ\tnegativ\t \tVerdammt, ich hab vergessen n Handtuch drunterzulegen, jetzt ist hier alles nass!! #AbwaschundSex\n",
      "61046\tpositiv\tpositiv\t \tday 20 die finde ich ganz schön, aber ich will die insel umbauen  #CountdownToNewHorizons https://t.\n",
      "48351\tnegativ\tnegativ\t \t@besetzenberlin Euer Motto „besetzen bis wir nicht mehr müssen“ ist offensichtlich eine Lüge. Ihr wo\n",
      "325500\tpositiv\tnegativ\tX\t@nusskante hallo es gibt so unendliche viele sorten und varianten alleine schon zb schwarzbrot mit n\n",
      "177765\tpositiv\tpositiv\t \t@pergjithmcn ja wirklich finde das nicht schön\n",
      "23800\tpositiv\tpositiv\t \t'Faust' auf 3. 👊🏼, 'ich wollte noch' auf 7. 💯  Hier könnt ihr euch entscheiden, ob die lieben @itchy\n",
      "317101\tpositiv\tnegativ\tX\tVon Frau @JuliaKloeckner hab ich nix anderes erwartet. Der ist doch unsere Gesundheit sowas von egal\n",
      "236666\tnegativ\tnegativ\t \tMit dem Sohn gestern Abend 39 Stufen von Hitchcock geguckt. Und schwarz-weiß findet er doof, weil ma\n",
      "222578\tpositiv\tpositiv\t \t@hitech_gamer Paul das Einhorn geht einkaufen als plötzlich in der Nähe von Stuttgart aus irgendeine\n",
      "181378\tnegativ\tnegativ\t \tRana Özçelik, Tochter des 60-jährigen Herzpatienten İsmet Özçelik, der trotz der UN-Entscheidung nic\n",
      "76279\tpositiv\tnegativ\tX\tImmer wieder denkt man doch bei sich: \"Scheiße, wir waren doch schon mal viel weiter. Offener, progr\n",
      "273911\tpositiv\tpositiv\t \t@TinaMontelino Bitteschön Liebes hab viel Spass damit😘😍🤗 https://t.co/J4pXjiTYBg\n",
      "192534\tpositiv\tpositiv\t \tDie @maithi_nk hat mit diesem Video das bisher beste Video zu #Coronavirus/#COVID19/#SARSCoV2 gemach\n",
      "229508\tnegativ\tnegativ\t \tUnseren Kampftag kann man nicht absagen. Seit über 130 Jahren gehen am #1Mai international Arbeiter*\n",
      "299034\tpositiv\tnegativ\tX\t@adelheidmal12ll @einandererblog Das müssen Sie auch nicht..aber an das Grundgesetz zu glauben wäre \n",
      "161431\tpositiv\tpositiv\t \t@Emberh4wk @fabiandoehla outcalling bei so nem tweet mit grad mal 32 favs find ich schon ganz schön \n",
      "38447\tpositiv\tnegativ\tX\t@TheBazry @Lahmsteiger @Gegenpressing91 Die Beleidigung eines Milliardärs ist nicht schön, aber bei \n",
      "43875\tnegativ\tnegativ\t \tIn #Italien weitere 566 #Coronavirus-Fälle. Festgestellt sind somit 1694 Infektionen. Verstorben sin\n",
      "209380\tnegativ\tnegativ\t \t@rotes_ballett @Tivhal @P0MM35G4B3L @perahoky @bat_luk @JM_Luczak @cducsubt @EskenSaskia Ja, Bin ich\n",
      "106599\tpositiv\tpositiv\t \t@julian_obi @lpdnoe Welche Fahrten mit Privatfahrzeugen noch erlaubt sind, finden Sie in unseren FAQ\n",
      "120175\tpositiv\tpositiv\t \tFreiwillig, datenschutzkonform, #OpenSource und potentiell für die ganze Welt. Gut, dass es einen eu\n",
      "249568\tnegativ\tnegativ\t \t@entfacher @knallfrog Der Zusammenbruch des Abendlandes z.B. Aber es geht eher darum, dass frühe Mas\n",
      "16522\tpositiv\tnegativ\tX\tBin feminist unabhängig von dem was du sagst du weirdo, lass Frauen mit ihren Körpern machen was sie\n",
      "15089\tnegativ\tnegativ\t \tNeues für alle Leugner des menschengemachten Klimawandels. #Satelllitenbilder lügen nicht, sondern z\n",
      "329018\tpositiv\tnegativ\tX\t@C_Holler @DieterFrikadell Ja, da wird etwas überdeutlich sichtbar. Und in der Tat behauptet AFD jet\n",
      "255678\tpositiv\tnegativ\tX\tLatenight-Posts verraten m.M.n. Super viel über diese Menschen haha\n",
      "319831\tpositiv\tnegativ\tX\tFür meine Grosseltern war es ein Befreiungstag. So haben sie ihn auch immer gefeiert. Und es war ein\n",
      "87762\tpositiv\tpositiv\t \tNew post: Biglietti Sebastian Reich Altötting, 2021-01-22 20:00:00 +0100, Kultur und Kongress Forum \n",
      "207675\tpositiv\tnegativ\tX\t@faznet das rechte Gedankengut ist in der #AFD generell verbreitet. da nützt auch die #Selbstkasteiu\n",
      "260406\tpositiv\tnegativ\tX\t@mamapowers So mancher vergisst den Tagesgruss hier auf Twitter. Aber schön, dass du doch noch daran\n",
      "65275\tnegativ\tnegativ\t \t@vulcanbiker @Themios Völlig in Ordnung. Und meine Kritik bezieht sich nicht auf alle mit Klarnamen \n",
      "238032\tpositiv\tpositiv\t \tLiebe Freunde. Es war geplant, dass ich diesen Morgen mit einem Koffer voller Bananen auf dem Flugha\n",
      "44978\tnegativ\tnegativ\t \tGuck euch mal Assad an. Der arme arme Assad. Ist zum Schosshund Putins geworden. Das Video ist zwar \n",
      "331264\tpositiv\tnegativ\tX\t@RuediStricker Denke auch, dass das im Prinzip nicht geht. Aber das nützt halt nichts im Moment.\n",
      "303366\tnegativ\tnegativ\t \tHier sehen sie geballte Dummheit aus der #Nürnberger Gesellschaft. Es verwundert nicht, dass Nürnber\n",
      "4316\tpositiv\tnegativ\tX\thab immernoch keinen namen für meine ac insel :‘) i mean eigentlich benutz ich ja immer hidora dafür\n",
      "322031\tnegativ\tnegativ\t \tOder einmal irgendwann bin ich in eine Straße gefahren und ein Autofahrer meinte aus seinem Fenster \n",
      "303086\tnegativ\tnegativ\t \tRache auf südwestfranzösische Art. :)))  Um sich für seine Entlassung zu rächen, zersticht ein Mann \n",
      "310932\tpositiv\tnegativ\tX\tFriseusen, die den ganzen Tag im Salon stehen und Haare schnipseln, verdient monatlich ca. 1.400 € b\n",
      "44294\tnegativ\tnegativ\t \twhen he said \"putain de merde scheiße NEIN\" i really felt that\n",
      "291335\tnegativ\tnegativ\t \t@maikpi70 @BeeTrue5 Leider nicht nur hier. Auswandern nützt nichts- Amerika, Australien, Thailand et\n",
      "143574\tnegativ\tnegativ\t \tZweite Woche Homeoffice. Die Fehler nehmen zu. Dankeschön an @festmeter, dem in der @neuepresse mein\n",
      "210855\tnegativ\tnegativ\t \t@JeremyTheoklis @milanroettger @maxotte_says Nicht wirklich. Die CDU weiß das die Konservativen Wähl\n",
      "188283\tnegativ\tnegativ\t \tNeue Krise, neues Gutmenschentum! „Ich bleibe brav zuhause, bin also Retter der Nation. Jegliche Kri\n",
      "234556\tpositiv\tpositiv\t \tHier gibt es nur große Fische. https://t.co/FeKL0sbqAH\n",
      "229443\tnegativ\tnegativ\t \tSchuldzuweisungen sind ein Zeichen von persönlicher Beschränkung. Getting loud is a sign of personal\n",
      "246885\tpositiv\tnegativ\tX\t@flaaaackoooo @flers_sklave @sinemsudeee @batuyung Digga ich schwöre der nächste der sagt dass die p\n",
      "75476\tpositiv\tpositiv\t \tMehr als 30 Teilnehmer:innen hatten viel Spaß bei unserem gestrigen Aktionstraining! Auch bei uns in\n",
      "23539\tpositiv\tpositiv\t \t@Luzini1 @_blickwinkel_ Ich bin gespannt, aber es war sicher sehr lustig 😅  Schlaft schön und träumt\n",
      "210438\tpositiv\tnegativ\tX\t@Hoellenaufsicht @Die_Tante_Nina @MelsGedanken GENAU DAS. Ein Grund warum ich definitiv keine will, \n",
      "24588\tnegativ\tnegativ\t \t@bbychakra @arabthot That swine and Scheiße? Baybeeee\n",
      "122817\tnegativ\tnegativ\t \tScheiße. Schnell duschen. 13 Uhr Videocall.\n",
      "148660\tpositiv\tpositiv\t \tRevBits gibt die Verfügbarkeit der nächsten Generation seines Produktpakets für Cybersicherheit beka\n",
      "239586\tpositiv\tnegativ\tX\tDas muss dieser zuverlässige und unentbehrliche NATO-Partner sein, von dem @akk immer spricht. @thom\n",
      "237664\tnegativ\tnegativ\t \tDie Gemeinderäte von Münchenbuchsee und Zollikofen beantragen ihren Parlamenten zu Handen der Stimmb\n",
      "215022\tnegativ\tnegativ\t \t@SPIEGEL_EIL @derspiegel Jetzt fehlt nur noch das Urteil, dass Flüchtlinge dann ebenso den Verbleib \n",
      "261671\tnegativ\tnegativ\t \t@Lara_Loft Twitter... 33% „Lass dich drücken“ (hoffentlich bemerkt sie mich)  33% „Du bist kacke!“ (\n",
      "71983\tnegativ\tnegativ\t \t\"Sie werden unter den Finanzmarktexperten keine Keynesianer finden. Die Mitglieder der globalen Fina\n",
      "179003\tnegativ\tnegativ\t \t@thinkBTO @derspiegel @iw_koeln @gaborsteingart Diese Studie wird nicht umfassender sein als die kri\n",
      "299024\tpositiv\tnegativ\tX\t@polenz_r Aber tun das nicht einzelne Medien immer auf ihre Art? Unabhängigkeit der Medien ist doch \n",
      "10756\tnegativ\tnegativ\t \tDas Chaos ist perfekt. Der Irre „Man wird ja wohl noch mit Faschisten stimmen dürfen“ aus Thüringen \n",
      "294315\tnegativ\tnegativ\t \t@Netschatten Also wenn mir Actionfilme eine Sache beigebracht haben, dann, dass man mit automatische\n",
      "297561\tpositiv\tpositiv\t \t@maltekir Sehr Schön, aber @maltekir . Wer zum Teufel ist den der @MCReim ??? 😂😂😂😉\n",
      "245797\tnegativ\tnegativ\t \t@AufHerz Moment, die schießen Dich für akut nicht direkt mit nem Schnäpschen ab?!? 😳 Shit. Denen wür\n",
      "132257\tnegativ\tnegativ\t \tkannten uns grob, haben uns näher kennengelernt in einer beschissenen zeit.\n",
      "210025\tpositiv\tpositiv\t \t@MaggyCoco7 Moin liebe Maggy.☕☕🎶🌞😀😉 Dankeschön Pass bitte auch auf dich auf🍀💚\n",
      "159175\tnegativ\tnegativ\t \tMichael Jackson wurde von Spielberg gebeten gemeinsam mit Quincy Jones einen Song für den Film zu sc\n",
      "70403\tnegativ\tnegativ\t \t@MarcoBuschmann die #AfD die ist der politische Arm des Rechtsterrorismus. Und da unsere Regierung b\n",
      "323255\tpositiv\tnegativ\tX\t@JChristandl @jakobunt In dem Fall sollten Sie aber. Wenn Vernunft nichts nützt, muss es Druck sein.\n",
      "97872\tpositiv\tpositiv\t \t@BadPlay5 @Domtendo Voll schön. 😊 Könntest du vllt ein Kleid mit Ho oh zaubern? Ist mein Lieblingspo\n",
      "304797\tnegativ\tnegativ\t \tCorona, Kriminalität, 1. Mai und Sport: Innensenator Andreas Geisel im @derspiegel-Interview.\n",
      "300115\tpositiv\tpositiv\t \t@DerTextmarker Ich kann es theoretisch aber bin erst 6ste und ich glaube da nützt dir nicht viel. So\n",
      "307646\tpositiv\tpositiv\t \tUnd ehrlich gesagt hab ich nicht gedacht, dass man Hogwarts so gut erkennt O.O\n",
      "66808\tnegativ\tnegativ\t \t@TuncayOezdamar Was dort zu sehen ist, ist ein NICHT weinendes Kind, welches durch Schläge zum Weine\n",
      "93423\tpositiv\tpositiv\t \tWährend ich absolut GEGEN das Spoofen in Pokémon GO bin, finde ich die Idee im Survey erwähnenswert \n",
      "109067\tnegativ\tpositiv\tX\t@xKylieFn bitte Stream mal wieder einen Solo Cup oder einen Duo Cup mit roki ihr seit so ein krasses\n",
      "132770\tpositiv\tpositiv\t \tUnterstützung durch liebevolle Begleitung ist wichtig für das Geburtserleben und das Wohlbefinden wä\n",
      "100511\tnegativ\tnegativ\t \t@politikmeister @KarstenSchrder Klein: Schuhwerk, Kleidergröße Groß: Herz, Verstand Bedeutend: Ihr E\n",
      "78354\tnegativ\tnegativ\t \tErst Heizung kaputt, dann Abpumlschlauch an  der Waschmaschine abgebrochen, dann Klingsl kaputt, jet\n",
      "284813\tpositiv\tpositiv\t \t@xLasuu Frauen haben Grundsätzlich immer eine große rollen gespielt in der Menschheit Geschichte...u\n",
      "113873\tpositiv\tpositiv\t \tEin großes Dankeschön an all die, die in diesen Tagen Großes leisten! 🙏😇 Ihr bleibt Zuhause. Wir küm\n",
      "60327\tnegativ\tnegativ\t \t@Michael_Koepfli Alle hier, welche soziale Kanäle mit respektlosen und intoleranten Tweets als Proji\n",
      "275320\tpositiv\tpositiv\t \tIch wünsche Euch allen eine gute Nacht. Träumt schön.... Ich hab da noch was für Euch....#Sepiaforge\n",
      "173407\tpositiv\tnegativ\tX\t@drhuch Ne, die anderen Politiker haben sich nur ins Fäustchen gelacht, weil sie in mit der FDP eine\n",
      "69699\tpositiv\tpositiv\t \t@PmmelFee Da soll es sehr schön sein\n",
      "285545\tpositiv\tpositiv\t \t@Akiba_Line Aaaaaaaaw wie coooool!!! 😍😍😍 ich freu mich voll!!! Wie genial - ich gewinne so selten wa\n",
      "\n",
      "Genauigkeit: 0.78\n"
     ]
    },
    {
     "data": {
      "image/png": "[encoded data removed]",
      "text/plain": [
       "<Figure size 432x288 with 1 Axes>"
      ]
     },
     "metadata": {},
     "output_type": "display_data"
    }
   ],
   "source": [
    "supervised_classifier(train_sample) # On Train"
   ]
  },
  {
   "cell_type": "markdown",
   "metadata": {},
   "source": [
    "#### 3.2.2 Unüberwachte Klassifikation"
   ]
  },
  {
   "cell_type": "markdown",
   "metadata": {},
   "source": [
    "Mithilfe von [K-means](https://www.nltk.org/_modules/nltk/cluster/kmeans.html) Clustering führen wir eine unüberwachte Klassifizierung aus. Dabei versucht der Klassifikator ähnliche Vektoren zu einem Cluster (hier: Stimmungen) zu gruppieren. In unserem Fall repräsentiert jedes Wort eines Tweets eine Dimension des Vektors, wonach alle Wörter eines Tweets einen n-dimensionalen Spaltenvektor bilden. In der folgenden Animation wird der Lernprozess des Klassifikators auf Basis von drei Clustern veranschaulicht:\n",
    "\n",
    "![K-means](https://camo.githubusercontent.com/77a842161f9588166625169d1f0944e838837f19b105d7e55d235652cfcc3786/68747470733a2f2f692e696d6775722e636f6d2f6b3458636170492e676966)"
   ]
  },
  {
   "cell_type": "code",
   "execution_count": 107,
   "metadata": {},
   "outputs": [],
   "source": [
    "from nltk.cluster import KMeansClusterer, euclidean_distance"
   ]
  },
  {
   "cell_type": "code",
   "execution_count": 108,
   "metadata": {},
   "outputs": [],
   "source": [
    "clusterer = KMeansClusterer(2, euclidean_distance, repeats=10, avoid_empty_clusters=True)"
   ]
  },
  {
   "cell_type": "code",
   "execution_count": 109,
   "metadata": {},
   "outputs": [],
   "source": [
    "clusters = clusterer.cluster(tweets['Vector'].apply(padding), True)"
   ]
  },
  {
   "cell_type": "markdown",
   "metadata": {},
   "source": [
    "Mit welcher Funktion holen wir uns die Mittelpunkte der Cluster?"
   ]
  },
  {
   "cell_type": "code",
   "execution_count": 110,
   "metadata": {},
   "outputs": [
    {
     "data": {
      "application/vnd.jupyter.widget-view+json": {
       "model_id": "6cb8e390600845a8bf713e4dd6cd2c99",
       "version_major": 2,
       "version_minor": 0
      },
      "text/plain": [
       "Output()"
      ]
     },
     "metadata": {},
     "output_type": "display_data"
    },
    {
     "data": {
      "application/vnd.jupyter.widget-view+json": {
       "model_id": "4856a6a85fdc4ad38c93262f05375498",
       "version_major": 2,
       "version_minor": 0
      },
      "text/plain": [
       "Output()"
      ]
     },
     "metadata": {},
     "output_type": "display_data"
    },
    {
     "data": {
      "application/vnd.jupyter.widget-view+json": {
       "model_id": "87bbab78151f40c384b5091c83f34d2b",
       "version_major": 2,
       "version_minor": 0
      },
      "text/plain": [
       "Output()"
      ]
     },
     "metadata": {},
     "output_type": "display_data"
    }
   ],
   "source": [
    "#hideInput\n",
    "texte_lm.show_task(20)"
   ]
  },
  {
   "cell_type": "code",
   "execution_count": 111,
   "metadata": {},
   "outputs": [
    {
     "data": {
      "text/plain": [
       "[array([-0.09772065, -0.01943072, -0.01200611, -0.00560059]),\n",
       " array([0.30796614, 0.04511665, 0.02082214, 0.00892183])]"
      ]
     },
     "execution_count": 111,
     "metadata": {},
     "output_type": "execute_result"
    }
   ],
   "source": [
    "means = clusterer.means()\n",
    "means"
   ]
  },
  {
   "cell_type": "code",
   "execution_count": 112,
   "metadata": {},
   "outputs": [
    {
     "data": {
      "image/png": "[encoded data removed]",
      "text/plain": [
       "<Figure size 432x288 with 1 Axes>"
      ]
     },
     "metadata": {
      "needs_background": "light"
     },
     "output_type": "display_data"
    }
   ],
   "source": [
    "vf.plot_clusters(means)"
   ]
  },
  {
   "cell_type": "code",
   "execution_count": 113,
   "metadata": {},
   "outputs": [],
   "source": [
    "def unsupervised_classifier(tweets):\n",
    "    \"\"\"Unsupervised classifier\"\"\"\n",
    "    \n",
    "    print('#\\tSoll\\tIst\\t∆\\tTweet')\n",
    "    \n",
    "    negative = 0\n",
    "    positive = 0\n",
    "    error = 0\n",
    "    for tweet in tweets.itertuples():\n",
    "        \n",
    "        label = tweet.Label\n",
    "        vector = padding(tweet.Vector)\n",
    "        prediction = clusterer.classify(vector)\n",
    "        \n",
    "        if prediction == 0: \n",
    "            cluster = 'negativ'\n",
    "            negative += 1\n",
    "            \n",
    "        else:\n",
    "            cluster = 'positiv'\n",
    "            positive += 1\n",
    "            \n",
    "        if label != cluster: \n",
    "            delta = 'X'\n",
    "            error += 1\n",
    "            \n",
    "        else: delta = ' '\n",
    "            \n",
    "        print('%i\\t%s\\t%s\\t%s\\t%.100s' % (tweet.Index, label, cluster, delta, tweets_copy.iloc[tweet.Index]))\n",
    "   \n",
    "    print('\\nGenauigkeit:', 1 - error / tweets.shape[0])\n",
    "    vf.plot_pie([negative, positive], labels=labels)"
   ]
  },
  {
   "cell_type": "code",
   "execution_count": 114,
   "metadata": {},
   "outputs": [
    {
     "name": "stdout",
     "output_type": "stream",
     "text": [
      "#\tSoll\tIst\t∆\tTweet\n",
      "247599\tnegativ\tnegativ\t \t@KnoxRotzloffel @tofugrrrl Spätestens nächsten Freitag fängt dann die schwierige Zeit an. Vielleicht\n",
      "213498\tnegativ\tnegativ\t \t@ZDFheute Die Vokabel \"Hasskommentare\" anstelle von juristischen Begriffen, wie z.B. Verleumdungen u\n",
      "241629\tpositiv\tnegativ\tX\tIch muss unbedingt mal wieder Marlene ein paar Malaufträge entlocken. Das war schon schön! https://t\n",
      "232935\tpositiv\tpositiv\t \t6 Löcher konnten ihn nicht stoppen ! von nightkiss66 (41) Ein Dreier den er nie vergißt ! Wer träumt\n",
      "63059\tnegativ\tpositiv\tX\t@glanz_markus Ich kenne das StGB gut genug, glaub mir. Und ein \" Sei nicht wie ...\" ist mit Sicherhe\n",
      "264820\tnegativ\tnegativ\t \t@MuMiMa74 @ntvde Jetzt nochmal meine Frage. Interessiert sich für die damit verbundenen Belastungen \n",
      "62828\tpositiv\tpositiv\t \t@PillenwichtelSM Guten Morgen, hehe doppelt hält besser 😁 Dankeschön das wünsche ich dir auch 🙏🙏🙋‍♂️\n",
      "146716\tpositiv\tpositiv\t \tIch genieße gerade diese entschleunigte Ruhe. Ein Glas Wein, schöne, sanfte Musik und mein Mann, hie\n",
      "106831\tnegativ\tnegativ\t \t@Bediko Wäre schön, wenn es so bliebe, allein mir fehlt der Glaube.\n",
      "318840\tnegativ\tnegativ\t \tBekommt spät sein erstes Kind, ein paar Monate später eine vernichtende Diagnose, ein Jahr später is\n",
      "241716\tpositiv\tnegativ\tX\tIch führe ein Doppelleben... Die eine Hälfte macht Diät, die andere ißt Schokolade!\n",
      "161654\tpositiv\tpositiv\t \t@DieKoese Unter #aachen_kocht gibt es alltägliche Essensfotos, die vielleicht auch als Anregungen nü\n",
      "281487\tnegativ\tnegativ\t \t@TanjaSagt Konsens wäre normal. Scham deutlich weniger. Paraphilien glaube gleich. Feministisch geht\n",
      "296730\tnegativ\tnegativ\t \t@TypischDnl @AMD_Deutschland @amazon Maybe kannst du amazon einfach sagen dass die Karte bluescreens\n",
      "271996\tnegativ\tnegativ\t \tVerdammt, ich hab vergessen n Handtuch drunterzulegen, jetzt ist hier alles nass!! #AbwaschundSex\n",
      "61046\tpositiv\tnegativ\tX\tday 20 die finde ich ganz schön, aber ich will die insel umbauen  #CountdownToNewHorizons https://t.\n",
      "48351\tnegativ\tnegativ\t \t@besetzenberlin Euer Motto „besetzen bis wir nicht mehr müssen“ ist offensichtlich eine Lüge. Ihr wo\n",
      "325500\tpositiv\tnegativ\tX\t@nusskante hallo es gibt so unendliche viele sorten und varianten alleine schon zb schwarzbrot mit n\n",
      "177765\tpositiv\tnegativ\tX\t@pergjithmcn ja wirklich finde das nicht schön\n",
      "23800\tpositiv\tpositiv\t \t'Faust' auf 3. 👊🏼, 'ich wollte noch' auf 7. 💯  Hier könnt ihr euch entscheiden, ob die lieben @itchy\n",
      "317101\tpositiv\tnegativ\tX\tVon Frau @JuliaKloeckner hab ich nix anderes erwartet. Der ist doch unsere Gesundheit sowas von egal\n",
      "236666\tnegativ\tnegativ\t \tMit dem Sohn gestern Abend 39 Stufen von Hitchcock geguckt. Und schwarz-weiß findet er doof, weil ma\n",
      "222578\tpositiv\tpositiv\t \t@hitech_gamer Paul das Einhorn geht einkaufen als plötzlich in der Nähe von Stuttgart aus irgendeine\n",
      "181378\tnegativ\tnegativ\t \tRana Özçelik, Tochter des 60-jährigen Herzpatienten İsmet Özçelik, der trotz der UN-Entscheidung nic\n",
      "76279\tpositiv\tnegativ\tX\tImmer wieder denkt man doch bei sich: \"Scheiße, wir waren doch schon mal viel weiter. Offener, progr\n",
      "273911\tpositiv\tpositiv\t \t@TinaMontelino Bitteschön Liebes hab viel Spass damit😘😍🤗 https://t.co/J4pXjiTYBg\n",
      "192534\tpositiv\tnegativ\tX\tDie @maithi_nk hat mit diesem Video das bisher beste Video zu #Coronavirus/#COVID19/#SARSCoV2 gemach\n",
      "229508\tnegativ\tnegativ\t \tUnseren Kampftag kann man nicht absagen. Seit über 130 Jahren gehen am #1Mai international Arbeiter*\n",
      "299034\tpositiv\tnegativ\tX\t@adelheidmal12ll @einandererblog Das müssen Sie auch nicht..aber an das Grundgesetz zu glauben wäre \n",
      "161431\tpositiv\tnegativ\tX\t@Emberh4wk @fabiandoehla outcalling bei so nem tweet mit grad mal 32 favs find ich schon ganz schön \n",
      "38447\tpositiv\tnegativ\tX\t@TheBazry @Lahmsteiger @Gegenpressing91 Die Beleidigung eines Milliardärs ist nicht schön, aber bei \n",
      "43875\tnegativ\tnegativ\t \tIn #Italien weitere 566 #Coronavirus-Fälle. Festgestellt sind somit 1694 Infektionen. Verstorben sin\n",
      "209380\tnegativ\tnegativ\t \t@rotes_ballett @Tivhal @P0MM35G4B3L @perahoky @bat_luk @JM_Luczak @cducsubt @EskenSaskia Ja, Bin ich\n",
      "106599\tpositiv\tnegativ\tX\t@julian_obi @lpdnoe Welche Fahrten mit Privatfahrzeugen noch erlaubt sind, finden Sie in unseren FAQ\n",
      "120175\tpositiv\tnegativ\tX\tFreiwillig, datenschutzkonform, #OpenSource und potentiell für die ganze Welt. Gut, dass es einen eu\n",
      "249568\tnegativ\tnegativ\t \t@entfacher @knallfrog Der Zusammenbruch des Abendlandes z.B. Aber es geht eher darum, dass frühe Mas\n",
      "16522\tpositiv\tnegativ\tX\tBin feminist unabhängig von dem was du sagst du weirdo, lass Frauen mit ihren Körpern machen was sie\n",
      "15089\tnegativ\tnegativ\t \tNeues für alle Leugner des menschengemachten Klimawandels. #Satelllitenbilder lügen nicht, sondern z\n",
      "329018\tpositiv\tnegativ\tX\t@C_Holler @DieterFrikadell Ja, da wird etwas überdeutlich sichtbar. Und in der Tat behauptet AFD jet\n",
      "255678\tpositiv\tnegativ\tX\tLatenight-Posts verraten m.M.n. Super viel über diese Menschen haha\n",
      "319831\tpositiv\tpositiv\t \tFür meine Grosseltern war es ein Befreiungstag. So haben sie ihn auch immer gefeiert. Und es war ein\n",
      "87762\tpositiv\tpositiv\t \tNew post: Biglietti Sebastian Reich Altötting, 2021-01-22 20:00:00 +0100, Kultur und Kongress Forum \n",
      "207675\tpositiv\tnegativ\tX\t@faznet das rechte Gedankengut ist in der #AFD generell verbreitet. da nützt auch die #Selbstkasteiu\n",
      "260406\tpositiv\tnegativ\tX\t@mamapowers So mancher vergisst den Tagesgruss hier auf Twitter. Aber schön, dass du doch noch daran\n",
      "65275\tnegativ\tnegativ\t \t@vulcanbiker @Themios Völlig in Ordnung. Und meine Kritik bezieht sich nicht auf alle mit Klarnamen \n",
      "238032\tpositiv\tpositiv\t \tLiebe Freunde. Es war geplant, dass ich diesen Morgen mit einem Koffer voller Bananen auf dem Flugha\n",
      "44978\tnegativ\tnegativ\t \tGuck euch mal Assad an. Der arme arme Assad. Ist zum Schosshund Putins geworden. Das Video ist zwar \n",
      "331264\tpositiv\tnegativ\tX\t@RuediStricker Denke auch, dass das im Prinzip nicht geht. Aber das nützt halt nichts im Moment.\n",
      "303366\tnegativ\tnegativ\t \tHier sehen sie geballte Dummheit aus der #Nürnberger Gesellschaft. Es verwundert nicht, dass Nürnber\n",
      "4316\tpositiv\tnegativ\tX\thab immernoch keinen namen für meine ac insel :‘) i mean eigentlich benutz ich ja immer hidora dafür\n",
      "322031\tnegativ\tnegativ\t \tOder einmal irgendwann bin ich in eine Straße gefahren und ein Autofahrer meinte aus seinem Fenster \n",
      "303086\tnegativ\tnegativ\t \tRache auf südwestfranzösische Art. :)))  Um sich für seine Entlassung zu rächen, zersticht ein Mann \n",
      "310932\tpositiv\tpositiv\t \tFriseusen, die den ganzen Tag im Salon stehen und Haare schnipseln, verdient monatlich ca. 1.400 € b\n",
      "44294\tnegativ\tnegativ\t \twhen he said \"putain de merde scheiße NEIN\" i really felt that\n",
      "291335\tnegativ\tnegativ\t \t@maikpi70 @BeeTrue5 Leider nicht nur hier. Auswandern nützt nichts- Amerika, Australien, Thailand et\n",
      "143574\tnegativ\tnegativ\t \tZweite Woche Homeoffice. Die Fehler nehmen zu. Dankeschön an @festmeter, dem in der @neuepresse mein\n",
      "210855\tnegativ\tnegativ\t \t@JeremyTheoklis @milanroettger @maxotte_says Nicht wirklich. Die CDU weiß das die Konservativen Wähl\n",
      "188283\tnegativ\tnegativ\t \tNeue Krise, neues Gutmenschentum! „Ich bleibe brav zuhause, bin also Retter der Nation. Jegliche Kri\n",
      "234556\tpositiv\tpositiv\t \tHier gibt es nur große Fische. https://t.co/FeKL0sbqAH\n",
      "229443\tnegativ\tnegativ\t \tSchuldzuweisungen sind ein Zeichen von persönlicher Beschränkung. Getting loud is a sign of personal\n",
      "246885\tpositiv\tnegativ\tX\t@flaaaackoooo @flers_sklave @sinemsudeee @batuyung Digga ich schwöre der nächste der sagt dass die p\n",
      "75476\tpositiv\tpositiv\t \tMehr als 30 Teilnehmer:innen hatten viel Spaß bei unserem gestrigen Aktionstraining! Auch bei uns in\n",
      "23539\tpositiv\tnegativ\tX\t@Luzini1 @_blickwinkel_ Ich bin gespannt, aber es war sicher sehr lustig 😅  Schlaft schön und träumt\n",
      "210438\tpositiv\tnegativ\tX\t@Hoellenaufsicht @Die_Tante_Nina @MelsGedanken GENAU DAS. Ein Grund warum ich definitiv keine will, \n",
      "24588\tnegativ\tnegativ\t \t@bbychakra @arabthot That swine and Scheiße? Baybeeee\n",
      "122817\tnegativ\tnegativ\t \tScheiße. Schnell duschen. 13 Uhr Videocall.\n",
      "148660\tpositiv\tnegativ\tX\tRevBits gibt die Verfügbarkeit der nächsten Generation seines Produktpakets für Cybersicherheit beka\n",
      "239586\tpositiv\tpositiv\t \tDas muss dieser zuverlässige und unentbehrliche NATO-Partner sein, von dem @akk immer spricht. @thom\n",
      "237664\tnegativ\tnegativ\t \tDie Gemeinderäte von Münchenbuchsee und Zollikofen beantragen ihren Parlamenten zu Handen der Stimmb\n",
      "215022\tnegativ\tnegativ\t \t@SPIEGEL_EIL @derspiegel Jetzt fehlt nur noch das Urteil, dass Flüchtlinge dann ebenso den Verbleib \n",
      "261671\tnegativ\tnegativ\t \t@Lara_Loft Twitter... 33% „Lass dich drücken“ (hoffentlich bemerkt sie mich)  33% „Du bist kacke!“ (\n",
      "71983\tnegativ\tnegativ\t \t\"Sie werden unter den Finanzmarktexperten keine Keynesianer finden. Die Mitglieder der globalen Fina\n",
      "179003\tnegativ\tnegativ\t \t@thinkBTO @derspiegel @iw_koeln @gaborsteingart Diese Studie wird nicht umfassender sein als die kri\n",
      "299024\tpositiv\tnegativ\tX\t@polenz_r Aber tun das nicht einzelne Medien immer auf ihre Art? Unabhängigkeit der Medien ist doch \n",
      "10756\tnegativ\tnegativ\t \tDas Chaos ist perfekt. Der Irre „Man wird ja wohl noch mit Faschisten stimmen dürfen“ aus Thüringen \n",
      "294315\tnegativ\tnegativ\t \t@Netschatten Also wenn mir Actionfilme eine Sache beigebracht haben, dann, dass man mit automatische\n",
      "297561\tpositiv\tnegativ\tX\t@maltekir Sehr Schön, aber @maltekir . Wer zum Teufel ist den der @MCReim ??? 😂😂😂😉\n",
      "245797\tnegativ\tnegativ\t \t@AufHerz Moment, die schießen Dich für akut nicht direkt mit nem Schnäpschen ab?!? 😳 Shit. Denen wür\n",
      "132257\tnegativ\tnegativ\t \tkannten uns grob, haben uns näher kennengelernt in einer beschissenen zeit.\n",
      "210025\tpositiv\tpositiv\t \t@MaggyCoco7 Moin liebe Maggy.☕☕🎶🌞😀😉 Dankeschön Pass bitte auch auf dich auf🍀💚\n",
      "159175\tnegativ\tnegativ\t \tMichael Jackson wurde von Spielberg gebeten gemeinsam mit Quincy Jones einen Song für den Film zu sc\n",
      "70403\tnegativ\tnegativ\t \t@MarcoBuschmann die #AfD die ist der politische Arm des Rechtsterrorismus. Und da unsere Regierung b\n",
      "323255\tpositiv\tnegativ\tX\t@JChristandl @jakobunt In dem Fall sollten Sie aber. Wenn Vernunft nichts nützt, muss es Druck sein.\n",
      "97872\tpositiv\tnegativ\tX\t@BadPlay5 @Domtendo Voll schön. 😊 Könntest du vllt ein Kleid mit Ho oh zaubern? Ist mein Lieblingspo\n",
      "304797\tnegativ\tnegativ\t \tCorona, Kriminalität, 1. Mai und Sport: Innensenator Andreas Geisel im @derspiegel-Interview.\n",
      "300115\tpositiv\tnegativ\tX\t@DerTextmarker Ich kann es theoretisch aber bin erst 6ste und ich glaube da nützt dir nicht viel. So\n",
      "307646\tpositiv\tpositiv\t \tUnd ehrlich gesagt hab ich nicht gedacht, dass man Hogwarts so gut erkennt O.O\n",
      "66808\tnegativ\tnegativ\t \t@TuncayOezdamar Was dort zu sehen ist, ist ein NICHT weinendes Kind, welches durch Schläge zum Weine\n",
      "93423\tpositiv\tpositiv\t \tWährend ich absolut GEGEN das Spoofen in Pokémon GO bin, finde ich die Idee im Survey erwähnenswert \n",
      "109067\tnegativ\tnegativ\t \t@xKylieFn bitte Stream mal wieder einen Solo Cup oder einen Duo Cup mit roki ihr seit so ein krasses\n",
      "132770\tpositiv\tpositiv\t \tUnterstützung durch liebevolle Begleitung ist wichtig für das Geburtserleben und das Wohlbefinden wä\n",
      "100511\tnegativ\tnegativ\t \t@politikmeister @KarstenSchrder Klein: Schuhwerk, Kleidergröße Groß: Herz, Verstand Bedeutend: Ihr E\n",
      "78354\tnegativ\tnegativ\t \tErst Heizung kaputt, dann Abpumlschlauch an  der Waschmaschine abgebrochen, dann Klingsl kaputt, jet\n",
      "284813\tpositiv\tnegativ\tX\t@xLasuu Frauen haben Grundsätzlich immer eine große rollen gespielt in der Menschheit Geschichte...u\n",
      "113873\tpositiv\tpositiv\t \tEin großes Dankeschön an all die, die in diesen Tagen Großes leisten! 🙏😇 Ihr bleibt Zuhause. Wir küm\n",
      "60327\tnegativ\tnegativ\t \t@Michael_Koepfli Alle hier, welche soziale Kanäle mit respektlosen und intoleranten Tweets als Proji\n",
      "275320\tpositiv\tpositiv\t \tIch wünsche Euch allen eine gute Nacht. Träumt schön.... Ich hab da noch was für Euch....#Sepiaforge\n",
      "173407\tpositiv\tnegativ\tX\t@drhuch Ne, die anderen Politiker haben sich nur ins Fäustchen gelacht, weil sie in mit der FDP eine\n",
      "69699\tpositiv\tnegativ\tX\t@PmmelFee Da soll es sehr schön sein\n",
      "285545\tpositiv\tpositiv\t \t@Akiba_Line Aaaaaaaaw wie coooool!!! 😍😍😍 ich freu mich voll!!! Wie genial - ich gewinne so selten wa\n",
      "\n",
      "Genauigkeit: 0.6699999999999999\n"
     ]
    },
    {
     "data": {
      "image/png": "[encoded data removed]",
      "text/plain": [
       "<Figure size 432x288 with 1 Axes>"
      ]
     },
     "metadata": {},
     "output_type": "display_data"
    }
   ],
   "source": [
    "unsupervised_classifier(train_sample) # On Train"
   ]
  },
  {
   "cell_type": "markdown",
   "metadata": {},
   "source": [
    "<div style=\"background-color: #150458; padding: 5px;\"></div>\n",
    "\n",
    "## 4. Verwendung"
   ]
  },
  {
   "cell_type": "markdown",
   "metadata": {},
   "source": [
    "[Zurück zur Übersicht](#Lernmodul-zur-Verarbeitung-und-Analyse-von-Textdaten)"
   ]
  },
  {
   "cell_type": "markdown",
   "metadata": {},
   "source": [
    "Welche Schritte ein Tweet innerhalb der Verwendung durchläuft verdeutlicht die folgende Abbildung:\n",
    "\n",
    "![Model](./img/usage_flow.png)"
   ]
  },
  {
   "cell_type": "markdown",
   "metadata": {},
   "source": [
    "### 4.1 Textdaten vorhersagen"
   ]
  },
  {
   "cell_type": "code",
   "execution_count": 115,
   "metadata": {},
   "outputs": [],
   "source": [
    "negative = \"Was für ein schlechtes Lernmodul\"\n",
    "positive = \"Was für ein gutes Lernmodul\""
   ]
  },
  {
   "cell_type": "code",
   "execution_count": 116,
   "metadata": {},
   "outputs": [],
   "source": [
    "def unsupervised_classification(sentence):\n",
    "    \"\"\"Helper function for unsupervised classification\"\"\"\n",
    "    \n",
    "    vector = padding(vectorize(sentence))\n",
    "    prediction = clusterer.classify(vector)\n",
    "    \n",
    "    if prediction == 0: print('negativ')            \n",
    "    else: print('positiv')"
   ]
  },
  {
   "cell_type": "markdown",
   "metadata": {},
   "source": [
    "#### 4.1.1 Überwachte Klassifikation"
   ]
  },
  {
   "cell_type": "markdown",
   "metadata": {},
   "source": [
    "Welche Stimmung gibt er für folgenden Satz aus?\n",
    "\n",
    "> Was für ein schlechtes Lernmodul"
   ]
  },
  {
   "cell_type": "code",
   "execution_count": 117,
   "metadata": {},
   "outputs": [
    {
     "data": {
      "text/plain": [
       "'negativ'"
      ]
     },
     "execution_count": 117,
     "metadata": {},
     "output_type": "execute_result"
    }
   ],
   "source": [
    "classifier.classify(get_features_for_single_tweet(negative.split()))"
   ]
  },
  {
   "cell_type": "markdown",
   "metadata": {},
   "source": [
    "Welche Stimmung gibt er für folgenden Satz aus?\n",
    "\n",
    "> Was für ein gutes Lernmodul"
   ]
  },
  {
   "cell_type": "code",
   "execution_count": 118,
   "metadata": {},
   "outputs": [
    {
     "data": {
      "text/plain": [
       "'positiv'"
      ]
     },
     "execution_count": 118,
     "metadata": {},
     "output_type": "execute_result"
    }
   ],
   "source": [
    "classifier.classify(get_features_for_single_tweet(positive.split()))"
   ]
  },
  {
   "cell_type": "markdown",
   "metadata": {},
   "source": [
    "#### Unüberwachte Klassifikation"
   ]
  },
  {
   "cell_type": "markdown",
   "metadata": {},
   "source": [
    "Welche Stimmung gibt er für folgenden Satz aus?\n",
    "\n",
    "> Was für ein schlechtes Lernmodul"
   ]
  },
  {
   "cell_type": "code",
   "execution_count": 119,
   "metadata": {},
   "outputs": [
    {
     "name": "stdout",
     "output_type": "stream",
     "text": [
      "negativ\n"
     ]
    }
   ],
   "source": [
    "unsupervised_classification(negative.split())"
   ]
  },
  {
   "cell_type": "markdown",
   "metadata": {},
   "source": [
    "Welche Stimmung gibt er für folgenden Satz aus?\n",
    "\n",
    "> Was für ein gutes Lernmodul"
   ]
  },
  {
   "cell_type": "code",
   "execution_count": 120,
   "metadata": {},
   "outputs": [
    {
     "name": "stdout",
     "output_type": "stream",
     "text": [
      "positiv\n"
     ]
    }
   ],
   "source": [
    "unsupervised_classification(positive.split())"
   ]
  },
  {
   "cell_type": "markdown",
   "metadata": {},
   "source": [
    "<div style=\"background-color: #150458; padding: 5px;\"></div>\n",
    "\n",
    "## 5. Abschluss"
   ]
  },
  {
   "cell_type": "markdown",
   "metadata": {},
   "source": [
    "[Zurück zur Übersicht](#Lernmodul-zur-Verarbeitung-und-Analyse-von-Textdaten)"
   ]
  },
  {
   "cell_type": "markdown",
   "metadata": {},
   "source": [
    "**Ergebnis:**\n",
    "\n",
    "Du hast folgende Punktzahl erreicht..."
   ]
  },
  {
   "cell_type": "code",
   "execution_count": 122,
   "metadata": {},
   "outputs": [
    {
     "data": {
      "text/plain": [
       "0.0"
      ]
     },
     "execution_count": 122,
     "metadata": {},
     "output_type": "execute_result"
    }
   ],
   "source": [
    "texte_lm.get_scored_points()"
   ]
  },
  {
   "cell_type": "markdown",
   "metadata": {},
   "source": [
    "**Zusammenfassung:**\n",
    "\n",
    "Das vergangene Lernmodul hat einen Einblick in die Texterkennung als Teilgebiet des _NLP_ gegeben. Im Zuge einer Stimmungsanalyse von aktuellen Beiträgen auf Twitter, haben wir zunächst Rohdaten beschafft und erkundet. Irrelevante Inhalte wurden auf Basis von Sonderzeichen, URL-Schema und der Länge des resultierenden Beitrags, identifiziert und verworfen, sodass die Rohdaten als nächstes in ein Modell eingebettet wurden. Dieses Modell klassifizierte die Daten entweder überwacht oder unüberwacht, was verschiedene Einbettungsschritte hervor zog. Letztendlich konnte sowohl der überwachte als auch der unüberwachte Klassifikator die Stimmung eines Tweets einschätzen und vorhersagen."
   ]
  },
  {
   "cell_type": "markdown",
   "metadata": {},
   "source": [
    "**Glossar:**\n",
    "\n",
    "* NLP (Natural Language Processing)\n",
    "    * Verarbeitung menschlicher Sprache\n",
    "* NLTK (Natural Language ToolKit)\n",
    "    * Python-Bibliothek für die Verarbeitung menschlicher Sprache"
   ]
  },
  {
   "cell_type": "markdown",
   "metadata": {},
   "source": [
    "**Weiterführende Lernmodule:**\n",
    "\n",
    "- [Lernmodul zu Datamining mit Scikit Learn](https://projectbase.medien.hs-duesseldorf.de/eild.nrw-module/lernmodul-scikit)"
   ]
  },
  {
   "cell_type": "markdown",
   "metadata": {},
   "source": [
    "**Weiterführende Inhalte:**\n",
    "\n",
    "* Leitfäden\n",
    "    * [Cookbook by NLTK](https://www.nltk.org/book/)\n",
    "    * [Recurrent neural networks by TensorFlow](https://www.tensorflow.org/guide/keras/rnn?hl=en)\n",
    "    * [Text classification by Google Developers](https://developers.google.com/machine-learning/guides/text-classification)\n",
    "* Vektorisierung\n",
    "    * [TextBlob](https://textblob.readthedocs.io/en/dev/)\n",
    "    * [Word2Vec](https://radimrehurek.com/gensim/models/word2vec.html)\n",
    "* Tutorials\n",
    "    * [Basic text classification by TensorFlow](https://www.tensorflow.org/tutorials/keras/text_classification?hl=en)"
   ]
  },
  {
   "cell_type": "markdown",
   "metadata": {},
   "source": [
    "**Referenzen:**\n",
    "\n",
    "<a id=\"1\">[1]</a> Nane Kratzke. (2020). Monthly Samples of German Tweets (Version 2020-04) [Data set]. Zenodo. http://doi.org/10.5281/zenodo.3783478\n",
    "\n",
    "<a id=\"2\">[2]</a> R. Remus, U. Quasthoff & G. Heyer: SentiWS - a Publicly Available German-language Resource for Sentiment Analysis. In: Proceedings of the 7th International Language Resources and Evaluation (LREC'10), pp. 1168-1171, 2010"
   ]
  }
 ],
 "metadata": {
  "kernelspec": {
   "display_name": "Python 3",
   "language": "python",
   "name": "python3"
  },
  "language_info": {
   "codemirror_mode": {
    "name": "ipython",
    "version": 3
   },
   "file_extension": ".py",
   "mimetype": "text/x-python",
   "name": "python",
   "nbconvert_exporter": "python",
   "pygments_lexer": "ipython3",
   "version": "3.7.0"
  }
 },
 "nbformat": 4,
 "nbformat_minor": 4
}
