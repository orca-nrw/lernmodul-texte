{
 "cells": [
  {
   "cell_type": "markdown",
   "metadata": {},
   "source": [
    "# Lernmodul zur Verarbeitung und Analyse von Textdaten"
   ]
  },
  {
   "cell_type": "markdown",
   "metadata": {},
   "source": [
    "Die Verarbeitung von menschlicher Sprache (Natural Language Processing, NLP) gilt als Voraussetzung für eine erfolgreiche Mensch-Maschine-Kommunikation. Zusätzlich kann sie dabei helfen eine vom Mensch unternommene Textanalyse zu unterstützen. Handelt es sich bei diesem Kommentar um unerwünschte Inhalte, verbreitet dieser Beitrag Falschinformationen und welche Meinung will der Verfasser mit dieser Rezension zum Ausdruck bringen.\n",
    "\n",
    "Im folgenden Lernmodul sollen mithilfe computergestützter Methoden eine Antwort auf solche Problemstellungen gefunden werden. Im Zuge der Sentiment Analysis wird versucht die Intention hinter einem Textbeitrag zu quantifizieren um bspw. zwischen einer positiven und einer negativen Aussage zu unterscheiden. Bevor aber ein Modell (hier: Klassifikator) eine Vorhersage (hier: Stimmung) über die verfügbaren Daten (hier: Textbeiträge) treffen kann, müssen diese vorbereitet werden. Das folgende Modul spielt diese Vorbereitung einmal mithilfe eines Jupyter Notebook, der Programmiersprache Python und unterstützenden Bibliotheken durch."
   ]
  },
  {
   "cell_type": "markdown",
   "metadata": {},
   "source": [
    "**Übersicht über die Lerninhalte:**\n",
    "\n",
    "1. [Einführung](#einführung)\n",
    "    1. [Motivation](#motivation)\n",
    "    2. [Voraussetzungen](#voraussetzungen)\n",
    "2. [Daten](#daten)\n",
    "    1. [Textdaten beschaffen](#beschaffen)\n",
    "    2. [Textdaten erkunden](#erkunden)\n",
    "    3. [Textdaten aufbereiten](#aufbereiten)\n",
    "        1. [Zeichen bereinigen](#zeichen-bereinigen)\n",
    "        2. [Wörter bereinigen](#wörter-bereinigen)\n",
    "        3. [Tweets bereinigen](#tweets-bereinigen)\n",
    "3. [Modell](#modell)\n",
    "    1. [Textdaten einbetten](#einbetten)\n",
    "        1. [Vokabular](#vokabular)\n",
    "        2. [Label](#label)\n",
    "        3. [Vektorisierung](#vectorization)\n",
    "        4. [Features](#features)\n",
    "    2. [Textdaten klassifizieren](#klassifizieren)\n",
    "        1. [Überwachte Klassifikation](#überwachte-klassifikation)\n",
    "        2. [Unüberwachte Klassifikation](#unüberwachte-klassifikation)\n",
    "4. [Verwendung](#verwendung)\n",
    "5. [Abschluss](#abschluss)"
   ]
  },
  {
   "cell_type": "markdown",
   "metadata": {},
   "source": [
    "**Lernziele:**\n",
    "\n",
    "Die Teilnehmer lernen Textdaten in roher Form Schritt für Schritt in kontextbezogene Daten für eine Textanalyse zu transformieren. Dies geschieht in der Datendomäne. Daraufhin bewegen sich die Teilnehmer in der Modelldomäne, in der sie die Daten in das Modell einbetten und sie vom Modell klassifizieren lassen."
   ]
  },
  {
   "cell_type": "markdown",
   "metadata": {},
   "source": [
    "**Voraussetzungen:**\n",
    "\n",
    "- [Lernmodul zum Datenimport und zur Datenvorbereitung mit Pandas](https://projectbase.medien.hs-duesseldorf.de/eild.nrw-module/lernmodul-pandas)"
   ]
  },
  {
   "cell_type": "markdown",
   "metadata": {},
   "source": [
    "**Setup für die Aufgabenüberprüfung:**"
   ]
  },
  {
   "cell_type": "code",
   "execution_count": 1,
   "metadata": {},
   "outputs": [],
   "source": [
    "from taskreview.learningModule import LearningModule\n",
    "texte_lm = LearningModule('data/lernmodul_texte.db')"
   ]
  },
  {
   "cell_type": "markdown",
   "metadata": {},
   "source": [
    "<div style=\"background-color: #150458; padding: 5px;\"></div>\n",
    "\n",
    "## 1. <a id='einführung'>Einführung</a>"
   ]
  },
  {
   "cell_type": "markdown",
   "metadata": {},
   "source": [
    "### 1.1 <a id='motivation'>Motivation</a>"
   ]
  },
  {
   "cell_type": "markdown",
   "metadata": {},
   "source": [
    "Die Verarbeitung menschlicher Sprache (Natural Language Processing, NLP) ist ein prominentes Forschungsfeld der Informatik mit ähnlichem Bekanntheitsgrad wie die Analyse visueller Daten (Computer Vision), welche bspw. das Erkennen von Bildern (Image Recognition) sowie ihre Manipulation (Image Augmentation) betrachtet. Im ersten Fall wollen wir einen bekannten bzw. alten Bildinhalt klassifizieren, während der zweite Fall einen unbekannten bzw. neuen Bildinhalt erzeugt."
   ]
  },
  {
   "cell_type": "markdown",
   "metadata": {},
   "source": [
    "Wechseln wir von der Bild- auf die Textebene, lässt sich das Forschungsfeld des _NLP_ auf ähnliche Problemstellungen herunterbrechen, die in der folgenden Auflistung aufgeführt sind:\n",
    "\n",
    "* Texterkennung (Text Recognition)\n",
    "  * Spracherkennung (Speech Recognition)\n",
    "  * Stimmungsanalyse (Sentiment Analysis)\n",
    "* Textmanipulation (Text Augmentation)\n",
    "  * Maschinelle Übersetzung (Machine Translation)\n",
    "  * Automatisches Antworten (Question Answering)"
   ]
  },
  {
   "cell_type": "markdown",
   "metadata": {},
   "source": [
    "Dieses Lernmodul beschäftigt sich mit der ersten Problemstellung, also der Texterkennung, im besonderen mit der Unterscheidung zwischen verschiedenen Stimmungen, welche der Verfasser eines Textes gehabt haben könnte. Ein aktuelles Anwendungsbeispiel ist die Identifikation von Hassreden, wie sie bspw. von [Facebook](https://www.facebook.com/) im Zuge ihrer [Community Standards](https://www.facebook.com/communitystandards/hate_speech) verboten sind und erkannt werden müssen. Aber auch ein aktuelles Stimmungsbild der Gesellschaft kann in Krisenzeiten über kürzlich verfasste Beiträge auf Twitter geschaffen werden."
   ]
  },
  {
   "cell_type": "markdown",
   "metadata": {},
   "source": [
    "### 1.2 <a id='voraussetzungen'>Voraussetzungen</a>"
   ]
  },
  {
   "cell_type": "markdown",
   "metadata": {},
   "source": [
    "Dieses Lernmodul nimmt sich [NumPy](https://numpy.org/) für numerische Berechnungen, [Pandas](https://pandas.pydata.org/) zur Datenverarbeitung und [PyPlot](https://matplotlib.org/api/pyplot_api.html) zur Datenvisualisierung zur Hilfe. Die folgende Zelle importiert benötigte Abhängigkeiten:"
   ]
  },
  {
   "cell_type": "code",
   "execution_count": 2,
   "metadata": {},
   "outputs": [],
   "source": [
    "import numpy as np\n",
    "import pandas as pd\n",
    "import matplotlib.pyplot as plt"
   ]
  },
  {
   "cell_type": "markdown",
   "metadata": {},
   "source": [
    "<div style=\"background-color: #150458; padding: 5px;\"></div>\n",
    "\n",
    "## 2. <a id='daten'>Daten</a>"
   ]
  },
  {
   "cell_type": "markdown",
   "metadata": {},
   "source": [
    "In der Datendomäne beschaffen wir uns zunächst einen Datensatz, welcher aus vielen Beispielen besteht, der die Grundgesamtheit an Daten bildet. Ein Beispiel umfasst dabei mindestens ein, wenn nicht sogar mehrere Merkmale. Ein Merkmal wird dabei durch einen numerischen oder symbolischen Wert verkörpert, der in unserem Fall bspw. ein Text sein kann. Im weiteren Verlauf werden die beschafften Daten begutachtet und auf Basis dessen bereinigt."
   ]
  },
  {
   "cell_type": "markdown",
   "metadata": {},
   "source": [
    "### 2.1 <a id='beschaffen'>Textdaten beschaffen</a>"
   ]
  },
  {
   "cell_type": "markdown",
   "metadata": {},
   "source": [
    "Wo findet man in der heutigen Zeit aktuelle Daten, welche eine eigene Meinung enthalten? Auf dem Kurznachrichtendienst Twitter. Und genau von dort stammt das ZIP-Archiv `tweets.json.zip`, welches wir im folgenden mithilfe von Pandas einlesen und im DataFrame `twitter` hinterlegen."
   ]
  },
  {
   "cell_type": "code",
   "execution_count": 3,
   "metadata": {},
   "outputs": [],
   "source": [
    "twitter = pd.read_json('./tweets.json.gz', compression='gzip')"
   ]
  },
  {
   "cell_type": "markdown",
   "metadata": {},
   "source": [
    "### 2.2 <a id='erkunden'>Textdaten erkunden</a>"
   ]
  },
  {
   "cell_type": "markdown",
   "metadata": {},
   "source": [
    "Wie im [Lernmodul zum Datenimport und zur Datenvorbereitung mit Pandas](https://projectbase.medien.hs-duesseldorf.de/eild.nrw-module/lernmodul-pandas) kennengelernt, lässt sich über die `head()` Funktionalität der Kopf des Datensatzes betrachten. Wie schaut dieser aus?"
   ]
  },
  {
   "cell_type": "code",
   "execution_count": 4,
   "metadata": {},
   "outputs": [
    {
     "data": {
      "text/html": [
       "<div>\n",
       "<style scoped>\n",
       "    .dataframe tbody tr th:only-of-type {\n",
       "        vertical-align: middle;\n",
       "    }\n",
       "\n",
       "    .dataframe tbody tr th {\n",
       "        vertical-align: top;\n",
       "    }\n",
       "\n",
       "    .dataframe thead th {\n",
       "        text-align: right;\n",
       "    }\n",
       "</style>\n",
       "<table border=\"1\" class=\"dataframe\">\n",
       "  <thead>\n",
       "    <tr style=\"text-align: right;\">\n",
       "      <th></th>\n",
       "      <th>twista</th>\n",
       "      <th>type</th>\n",
       "      <th>id</th>\n",
       "      <th>user</th>\n",
       "      <th>created_at</th>\n",
       "      <th>recorded_at</th>\n",
       "      <th>source</th>\n",
       "      <th>retweets</th>\n",
       "      <th>favourites</th>\n",
       "      <th>lang</th>\n",
       "      <th>...</th>\n",
       "      <th>screen_name</th>\n",
       "      <th>location</th>\n",
       "      <th>description</th>\n",
       "      <th>url</th>\n",
       "      <th>verified</th>\n",
       "      <th>followers</th>\n",
       "      <th>friends</th>\n",
       "      <th>listed</th>\n",
       "      <th>statuses</th>\n",
       "      <th>refers_to</th>\n",
       "    </tr>\n",
       "  </thead>\n",
       "  <tbody>\n",
       "    <tr>\n",
       "      <th>0</th>\n",
       "      <td>0.3.1-b</td>\n",
       "      <td>status</td>\n",
       "      <td>1212046141279354880</td>\n",
       "      <td>1.140992e+18</td>\n",
       "      <td>2019-12-31 16:21:33+00:00</td>\n",
       "      <td>2019-12-31 16:21:39.286956+00:00</td>\n",
       "      <td>&lt;a href=\"https://mobile.twitter.com\" rel=\"nofo...</td>\n",
       "      <td>0.0</td>\n",
       "      <td>0</td>\n",
       "      <td>de</td>\n",
       "      <td>...</td>\n",
       "      <td>NaN</td>\n",
       "      <td>NaN</td>\n",
       "      <td>NaN</td>\n",
       "      <td>NaN</td>\n",
       "      <td>NaN</td>\n",
       "      <td>NaN</td>\n",
       "      <td>NaN</td>\n",
       "      <td>NaN</td>\n",
       "      <td>NaN</td>\n",
       "      <td>NaN</td>\n",
       "    </tr>\n",
       "    <tr>\n",
       "      <th>1</th>\n",
       "      <td>0.3.1-b</td>\n",
       "      <td>status</td>\n",
       "      <td>1212046145645662208</td>\n",
       "      <td>7.137519e+17</td>\n",
       "      <td>2019-12-31 16:21:34+00:00</td>\n",
       "      <td>2019-12-31 16:21:39.657847+00:00</td>\n",
       "      <td>&lt;a href=\"https://mobile.twitter.com\" rel=\"nofo...</td>\n",
       "      <td>0.0</td>\n",
       "      <td>0</td>\n",
       "      <td>de</td>\n",
       "      <td>...</td>\n",
       "      <td>NaN</td>\n",
       "      <td>NaN</td>\n",
       "      <td>NaN</td>\n",
       "      <td>NaN</td>\n",
       "      <td>NaN</td>\n",
       "      <td>NaN</td>\n",
       "      <td>NaN</td>\n",
       "      <td>NaN</td>\n",
       "      <td>NaN</td>\n",
       "      <td>NaN</td>\n",
       "    </tr>\n",
       "    <tr>\n",
       "      <th>2</th>\n",
       "      <td>0.3.1-b</td>\n",
       "      <td>status</td>\n",
       "      <td>1212046145737961472</td>\n",
       "      <td>7.158583e+17</td>\n",
       "      <td>2019-12-31 16:21:34+00:00</td>\n",
       "      <td>2019-12-31 16:21:39.700276+00:00</td>\n",
       "      <td>&lt;a href=\"http://www.facebook.com/twitter\" rel=...</td>\n",
       "      <td>0.0</td>\n",
       "      <td>0</td>\n",
       "      <td>de</td>\n",
       "      <td>...</td>\n",
       "      <td>NaN</td>\n",
       "      <td>NaN</td>\n",
       "      <td>NaN</td>\n",
       "      <td>NaN</td>\n",
       "      <td>NaN</td>\n",
       "      <td>NaN</td>\n",
       "      <td>NaN</td>\n",
       "      <td>NaN</td>\n",
       "      <td>NaN</td>\n",
       "      <td>NaN</td>\n",
       "    </tr>\n",
       "    <tr>\n",
       "      <th>3</th>\n",
       "      <td>0.3.1-b</td>\n",
       "      <td>status</td>\n",
       "      <td>1211821086905683968</td>\n",
       "      <td>1.106642e+18</td>\n",
       "      <td>2019-12-31 01:27:16+00:00</td>\n",
       "      <td>2019-12-31 16:21:40.016141+00:00</td>\n",
       "      <td>&lt;a href=\"http://twitter.com/download/iphone\" r...</td>\n",
       "      <td>1582.0</td>\n",
       "      <td>4518</td>\n",
       "      <td>en</td>\n",
       "      <td>...</td>\n",
       "      <td>NaN</td>\n",
       "      <td>NaN</td>\n",
       "      <td>NaN</td>\n",
       "      <td>NaN</td>\n",
       "      <td>NaN</td>\n",
       "      <td>NaN</td>\n",
       "      <td>NaN</td>\n",
       "      <td>NaN</td>\n",
       "      <td>NaN</td>\n",
       "      <td>NaN</td>\n",
       "    </tr>\n",
       "    <tr>\n",
       "      <th>4</th>\n",
       "      <td>0.3.1-b</td>\n",
       "      <td>status</td>\n",
       "      <td>1212046149990916096</td>\n",
       "      <td>9.990299e+08</td>\n",
       "      <td>2019-12-31 16:21:35+00:00</td>\n",
       "      <td>2019-12-31 16:21:40.711065+00:00</td>\n",
       "      <td>&lt;a href=\"http://twitter.com/download/android\" ...</td>\n",
       "      <td>0.0</td>\n",
       "      <td>0</td>\n",
       "      <td>de</td>\n",
       "      <td>...</td>\n",
       "      <td>NaN</td>\n",
       "      <td>NaN</td>\n",
       "      <td>NaN</td>\n",
       "      <td>NaN</td>\n",
       "      <td>NaN</td>\n",
       "      <td>NaN</td>\n",
       "      <td>NaN</td>\n",
       "      <td>NaN</td>\n",
       "      <td>NaN</td>\n",
       "      <td>NaN</td>\n",
       "    </tr>\n",
       "  </tbody>\n",
       "</table>\n",
       "<p>5 rows × 26 columns</p>\n",
       "</div>"
      ],
      "text/plain": [
       "    twista    type                   id          user  \\\n",
       "0  0.3.1-b  status  1212046141279354880  1.140992e+18   \n",
       "1  0.3.1-b  status  1212046145645662208  7.137519e+17   \n",
       "2  0.3.1-b  status  1212046145737961472  7.158583e+17   \n",
       "3  0.3.1-b  status  1211821086905683968  1.106642e+18   \n",
       "4  0.3.1-b  status  1212046149990916096  9.990299e+08   \n",
       "\n",
       "                 created_at                      recorded_at  \\\n",
       "0 2019-12-31 16:21:33+00:00 2019-12-31 16:21:39.286956+00:00   \n",
       "1 2019-12-31 16:21:34+00:00 2019-12-31 16:21:39.657847+00:00   \n",
       "2 2019-12-31 16:21:34+00:00 2019-12-31 16:21:39.700276+00:00   \n",
       "3 2019-12-31 01:27:16+00:00 2019-12-31 16:21:40.016141+00:00   \n",
       "4 2019-12-31 16:21:35+00:00 2019-12-31 16:21:40.711065+00:00   \n",
       "\n",
       "                                              source  retweets  favourites  \\\n",
       "0  <a href=\"https://mobile.twitter.com\" rel=\"nofo...       0.0           0   \n",
       "1  <a href=\"https://mobile.twitter.com\" rel=\"nofo...       0.0           0   \n",
       "2  <a href=\"http://www.facebook.com/twitter\" rel=...       0.0           0   \n",
       "3  <a href=\"http://twitter.com/download/iphone\" r...    1582.0        4518   \n",
       "4  <a href=\"http://twitter.com/download/android\" ...       0.0           0   \n",
       "\n",
       "  lang  ... screen_name location description  url verified followers friends  \\\n",
       "0   de  ...         NaN      NaN         NaN  NaN      NaN       NaN     NaN   \n",
       "1   de  ...         NaN      NaN         NaN  NaN      NaN       NaN     NaN   \n",
       "2   de  ...         NaN      NaN         NaN  NaN      NaN       NaN     NaN   \n",
       "3   en  ...         NaN      NaN         NaN  NaN      NaN       NaN     NaN   \n",
       "4   de  ...         NaN      NaN         NaN  NaN      NaN       NaN     NaN   \n",
       "\n",
       "  listed statuses refers_to  \n",
       "0    NaN      NaN       NaN  \n",
       "1    NaN      NaN       NaN  \n",
       "2    NaN      NaN       NaN  \n",
       "3    NaN      NaN       NaN  \n",
       "4    NaN      NaN       NaN  \n",
       "\n",
       "[5 rows x 26 columns]"
      ]
     },
     "execution_count": 4,
     "metadata": {},
     "output_type": "execute_result"
    }
   ],
   "source": [
    "twitter.head()"
   ]
  },
  {
   "cell_type": "markdown",
   "metadata": {},
   "source": [
    "Leider liefert die `head()` Funktionalität nicht die Größe des Datensatzes zurück. Wie viele Beispiele sind in ihm enthalten?"
   ]
  },
  {
   "cell_type": "code",
   "execution_count": 5,
   "metadata": {},
   "outputs": [
    {
     "data": {
      "text/plain": [
       "50000"
      ]
     },
     "execution_count": 5,
     "metadata": {},
     "output_type": "execute_result"
    }
   ],
   "source": [
    "twitter.shape[0]"
   ]
  },
  {
   "cell_type": "markdown",
   "metadata": {},
   "source": [
    "50.000 Beispiele sind uns ein paar zu viel. Wir machen mit lediglich 2000 Beispielen weiter."
   ]
  },
  {
   "cell_type": "code",
   "execution_count": 6,
   "metadata": {},
   "outputs": [],
   "source": [
    "twitter = twitter[:2000]"
   ]
  },
  {
   "cell_type": "markdown",
   "metadata": {},
   "source": [
    "Wie viele Werte liegen insgesamt vor?"
   ]
  },
  {
   "cell_type": "code",
   "execution_count": 7,
   "metadata": {},
   "outputs": [
    {
     "data": {
      "text/plain": [
       "52000"
      ]
     },
     "execution_count": 7,
     "metadata": {},
     "output_type": "execute_result"
    }
   ],
   "source": [
    "twitter.size"
   ]
  },
  {
   "cell_type": "markdown",
   "metadata": {},
   "source": [
    "Wie viele Werte liegen pro Beispiel vor? Aus wie vielen Merkmalen besteht der Datensatz?"
   ]
  },
  {
   "cell_type": "code",
   "execution_count": 8,
   "metadata": {},
   "outputs": [
    {
     "data": {
      "text/plain": [
       "26"
      ]
     },
     "execution_count": 8,
     "metadata": {},
     "output_type": "execute_result"
    }
   ],
   "source": [
    "twitter.shape[1]"
   ]
  },
  {
   "cell_type": "markdown",
   "metadata": {},
   "source": [
    "26 Merkmale klingt kompliziert. Mal sehen, wie sie heißen..."
   ]
  },
  {
   "cell_type": "code",
   "execution_count": 9,
   "metadata": {},
   "outputs": [
    {
     "data": {
      "text/plain": [
       "Index(['twista', 'type', 'id', 'user', 'created_at', 'recorded_at', 'source',\n",
       "       'retweets', 'favourites', 'lang', 'hashtags', 'urls', 'mentions',\n",
       "       'mentioned_ids', 'text', 'name', 'screen_name', 'location',\n",
       "       'description', 'url', 'verified', 'followers', 'friends', 'listed',\n",
       "       'statuses', 'refers_to'],\n",
       "      dtype='object')"
      ]
     },
     "execution_count": 9,
     "metadata": {},
     "output_type": "execute_result"
    }
   ],
   "source": [
    "twitter.columns"
   ]
  },
  {
   "cell_type": "markdown",
   "metadata": {},
   "source": [
    "Das Merkmal _lang_ schauen wir uns als Erstes an. Welche Sprachen sind vertreten?"
   ]
  },
  {
   "cell_type": "code",
   "execution_count": 10,
   "metadata": {},
   "outputs": [
    {
     "data": {
      "text/plain": [
       "array(['de', 'en', 'tr', 'pt', 'es', 'fr', 'ar', 'tl', 'et', 'nl', 'und',\n",
       "       'in', 'it', 'pl', 'is', 'ko'], dtype=object)"
      ]
     },
     "execution_count": 10,
     "metadata": {},
     "output_type": "execute_result"
    }
   ],
   "source": [
    "twitter['lang'].unique()"
   ]
  },
  {
   "cell_type": "markdown",
   "metadata": {},
   "source": [
    "Wir behalten lediglich die deutschen Inhalte..."
   ]
  },
  {
   "cell_type": "code",
   "execution_count": 11,
   "metadata": {},
   "outputs": [],
   "source": [
    "twitter = twitter.drop(twitter[twitter.lang != 'de'].index).reset_index(drop=True)"
   ]
  },
  {
   "cell_type": "markdown",
   "metadata": {},
   "source": [
    "Das Merkmal _text_ scheint die gewünschten Tweets zu enthalten. Wir überführen dieses Merkmal vom DataFrame `twitter` in eine DataSeries `tweets`."
   ]
  },
  {
   "cell_type": "code",
   "execution_count": 12,
   "metadata": {},
   "outputs": [
    {
     "data": {
      "text/plain": [
       "0    Hahaha.., da haben \"die Nazis\" aber Glück 🍀 ge...\n",
       "1    Ich wünsche allen guten Menschen ein gesundes ...\n",
       "2    Wir wünschen euch einen guten Rutsch und für d...\n",
       "3    31.12.2019. Breitscheidplatz. Weihnachtsmarkt....\n",
       "4    Wir wünschen allen ein friedliches  und sorgen...\n",
       "Name: text, dtype: object"
      ]
     },
     "execution_count": 12,
     "metadata": {},
     "output_type": "execute_result"
    }
   ],
   "source": [
    "tweets = twitter['text']\n",
    "tweets.head()"
   ]
  },
  {
   "cell_type": "markdown",
   "metadata": {},
   "source": [
    "### 2.3 <a id='aufbereiten'>Textdaten aufbereiten</a>"
   ]
  },
  {
   "cell_type": "markdown",
   "metadata": {},
   "source": [
    "#### 2.3.1 <a id='zeichen-bereinigen'>Zeichen bereinigen</a>"
   ]
  },
  {
   "cell_type": "markdown",
   "metadata": {},
   "source": [
    "Schauen wir uns das erste Beispiel an. Was fällt auf?"
   ]
  },
  {
   "cell_type": "code",
   "execution_count": 13,
   "metadata": {},
   "outputs": [
    {
     "data": {
      "text/plain": [
       "'Hahaha.., da haben \"die Nazis\" aber Glück 🍀 gehabt und was für ein Glück. Hust.. \\n\\nWelcher Mann bitteschön, würde denn mit \"DER\".., na Ihr wisst schon..😂😛 https://t.co/a749iauM9U'"
      ]
     },
     "execution_count": 13,
     "metadata": {},
     "output_type": "execute_result"
    }
   ],
   "source": [
    "tweets[0]"
   ]
  },
  {
   "cell_type": "markdown",
   "metadata": {},
   "source": [
    "Genau, der Tweet enthält allerhand Sonderzeichen, Emojis und sogar eine URL. Daher werden wir als nächstes alle Symbole entfernen, die weder dem Alphabet angehören, noch Ziffern sind. Der zweite reguläre Ausdruck entfernt zusätzlich die URL."
   ]
  },
  {
   "cell_type": "code",
   "execution_count": 14,
   "metadata": {},
   "outputs": [
    {
     "data": {
      "text/plain": [
       "'Hahaha da haben die Nazis aber Glück  gehabt und was für ein Glück Hust \\n\\nWelcher Mann bitteschön würde denn mit DER na Ihr wisst schon '"
      ]
     },
     "execution_count": 14,
     "metadata": {},
     "output_type": "execute_result"
    }
   ],
   "source": [
    "tweets = tweets.replace(regex={'[^a-zA-ZäöüßÄÖU\\s]' : '', r'http\\S+' : ''})\n",
    "tweets[0]"
   ]
  },
  {
   "cell_type": "markdown",
   "metadata": {},
   "source": [
    "#### 2.3.2 <a id='wörter-bereinigen'>Wörter bereinigen</a>"
   ]
  },
  {
   "cell_type": "markdown",
   "metadata": {},
   "source": [
    "Aus Sätzen werden Wörter. Wir zerteilen jeden Tweet anhand des Leerzeichens und erhalten eine Liste von Wörtern pro Tweet."
   ]
  },
  {
   "cell_type": "code",
   "execution_count": 15,
   "metadata": {},
   "outputs": [
    {
     "data": {
      "text/plain": [
       "['Hahaha',\n",
       " 'da',\n",
       " 'haben',\n",
       " 'die',\n",
       " 'Nazis',\n",
       " 'aber',\n",
       " 'Glück',\n",
       " 'gehabt',\n",
       " 'und',\n",
       " 'was',\n",
       " 'für',\n",
       " 'ein',\n",
       " 'Glück',\n",
       " 'Hust',\n",
       " 'Welcher',\n",
       " 'Mann',\n",
       " 'bitteschön',\n",
       " 'würde',\n",
       " 'denn',\n",
       " 'mit',\n",
       " 'DER',\n",
       " 'na',\n",
       " 'Ihr',\n",
       " 'wisst',\n",
       " 'schon']"
      ]
     },
     "execution_count": 15,
     "metadata": {},
     "output_type": "execute_result"
    }
   ],
   "source": [
    "tweets = tweets.str.split()\n",
    "tweets.head()\n",
    "tweets[0]"
   ]
  },
  {
   "cell_type": "markdown",
   "metadata": {},
   "source": [
    "Nun da wir die einzelnen Wörter getrennt haben, fassen wir alle Wörter aus jedem Tweet zu einer großen Sammlung zusammen."
   ]
  },
  {
   "cell_type": "code",
   "execution_count": 16,
   "metadata": {},
   "outputs": [],
   "source": [
    "def aggregate_words(tweets):\n",
    "    \"\"\"Aggregate words from tweets\"\"\"\n",
    "    \n",
    "    all_words = []\n",
    "    for sentence in tweets:\n",
    "        for word in sentence:\n",
    "            all_words.append(word)\n",
    "    return all_words"
   ]
  },
  {
   "cell_type": "code",
   "execution_count": 17,
   "metadata": {},
   "outputs": [],
   "source": [
    "all_words = aggregate_words(tweets) # List\n",
    "# all_words = tweets.aggregate(np.concatenate) # NumPy array"
   ]
  },
  {
   "cell_type": "markdown",
   "metadata": {},
   "source": [
    "Nachdem wir alle Wörter beisammen haben, interessieren uns die beliebtesten Wörter. An dieser Stelle greifen wir zum ersten mal auf das Natural Language Toolkit ([NLTK](https://www.nltk.org/)) zurück, welches eine Häufigkeitsverteilung über die [FreqDist](http://www.nltk.org/api/nltk.html?highlight=freqdist#nltk.probability.FreqDist) Funktionalität implementiert."
   ]
  },
  {
   "cell_type": "code",
   "execution_count": 18,
   "metadata": {},
   "outputs": [],
   "source": [
    "from nltk.probability import FreqDist\n",
    "fd = FreqDist(all_words)"
   ]
  },
  {
   "cell_type": "markdown",
   "metadata": {},
   "source": [
    "Wie lauten also die zehn häufigsten Wörter"
   ]
  },
  {
   "cell_type": "code",
   "execution_count": 19,
   "metadata": {},
   "outputs": [
    {
     "data": {
      "text/plain": [
       "[('und', 878),\n",
       " ('die', 634),\n",
       " ('Jahr', 492),\n",
       " ('in', 464),\n",
       " ('der', 460),\n",
       " ('ich', 376),\n",
       " ('das', 344),\n",
       " ('für', 312),\n",
       " ('ein', 288),\n",
       " ('ist', 286)]"
      ]
     },
     "execution_count": 19,
     "metadata": {},
     "output_type": "execute_result"
    }
   ],
   "source": [
    "fd.most_common(10)"
   ]
  },
  {
   "cell_type": "markdown",
   "metadata": {},
   "source": [
    "Und wie sieht deren Häufigkeitsverteilung aus?"
   ]
  },
  {
   "cell_type": "code",
   "execution_count": 20,
   "metadata": {},
   "outputs": [
    {
     "data": {
      "image/png": "[encoded data removed]",
      "text/plain": [
       "<Figure size 432x288 with 1 Axes>"
      ]
     },
     "metadata": {
      "needs_background": "light"
     },
     "output_type": "display_data"
    },
    {
     "data": {
      "text/plain": [
       "<matplotlib.axes._subplots.AxesSubplot at 0x251b6c7c860>"
      ]
     },
     "execution_count": 20,
     "metadata": {},
     "output_type": "execute_result"
    }
   ],
   "source": [
    "fd.plot(10)"
   ]
  },
  {
   "cell_type": "markdown",
   "metadata": {},
   "source": [
    "Denken wir an unsere Problemstellung der Stimmungsanalyse scheinen Verbindungswörter wie _und_ bzw. Artikel wie _der_, _die_, _das_ nicht hilfreich zu sein. Daher wollen wir sie als sog. Stopp-Wörter, also Wörter, die den Lesefluss stören, entfernen. Die folgende Liste sollte zu Beginn ausreichen:"
   ]
  },
  {
   "cell_type": "code",
   "execution_count": 21,
   "metadata": {},
   "outputs": [
    {
     "data": {
      "text/plain": [
       "29"
      ]
     },
     "execution_count": 21,
     "metadata": {},
     "output_type": "execute_result"
    }
   ],
   "source": [
    "stop_words = pd.read_csv('./stop_words.txt', names=['Stoppwort'])\n",
    "stop_words = stop_words['Stoppwort'].values.tolist()\n",
    "len(stop_words)"
   ]
  },
  {
   "cell_type": "markdown",
   "metadata": {},
   "source": [
    "Wie viel Prozent unseres Datensatzes würden wir wohl verlieren, wenn wir die Stopp-Wörter entfernen?"
   ]
  },
  {
   "cell_type": "code",
   "execution_count": 22,
   "metadata": {},
   "outputs": [],
   "source": [
    "def content_loss(text):\n",
    "    content = [word for word in text if word not in stop_words]\n",
    "    return 1.0 - len(content) / len(text)"
   ]
  },
  {
   "cell_type": "code",
   "execution_count": 23,
   "metadata": {},
   "outputs": [
    {
     "data": {
      "text/plain": [
       "0.1466811358292639"
      ]
     },
     "execution_count": 23,
     "metadata": {},
     "output_type": "execute_result"
    }
   ],
   "source": [
    "content_loss(all_words)"
   ]
  },
  {
   "cell_type": "markdown",
   "metadata": {},
   "source": [
    "13 % Verlust klingt verkraftbar. Dann werfen wir den Filter mal an."
   ]
  },
  {
   "cell_type": "code",
   "execution_count": 24,
   "metadata": {},
   "outputs": [],
   "source": [
    "def filter_tokens(tweets):\n",
    "    \"\"\"Filter tokens in tweets\"\"\"\n",
    "    \n",
    "    row_list = []\n",
    "    for row in tweets:\n",
    "        token_list = []\n",
    "        for token in row:\n",
    "            if token not in stop_words:\n",
    "                token_list.append(token)\n",
    "        row_list.append(token_list)\n",
    "    \n",
    "    return pd.Series(row_list)"
   ]
  },
  {
   "cell_type": "code",
   "execution_count": 25,
   "metadata": {},
   "outputs": [],
   "source": [
    "tweets = filter_tokens(tweets) # Python list"
   ]
  },
  {
   "cell_type": "markdown",
   "metadata": {},
   "source": [
    "Damit muss unsere Sammlung von Wörtern aktualisiert werden. Der Einfachheit sammeln wir sie erneut aus den von Stopp-Wörtern bereinigten Tweets."
   ]
  },
  {
   "cell_type": "code",
   "execution_count": 26,
   "metadata": {},
   "outputs": [],
   "source": [
    "all_words = aggregate_words(tweets) # List\n",
    "# all_words = tweets.aggregate(np.concatenate) # NumPy array"
   ]
  },
  {
   "cell_type": "markdown",
   "metadata": {},
   "source": [
    "Rufen wir die Verlustfunktion erneut auf, meldet sie wie erwartet keine Verluste."
   ]
  },
  {
   "cell_type": "code",
   "execution_count": 27,
   "metadata": {},
   "outputs": [
    {
     "data": {
      "text/plain": [
       "0.0"
      ]
     },
     "execution_count": 27,
     "metadata": {},
     "output_type": "execute_result"
    }
   ],
   "source": [
    "content_loss(all_words)"
   ]
  },
  {
   "cell_type": "markdown",
   "metadata": {},
   "source": [
    "Wie sehen jetzt die häufigsten Wörter aus? Alternativ zur Häufigkeitsverteilung lassen sich Schlagwortwolken aus den Wörtern erstellen. Dazu nutzen wir die Funktionalität von [WordCloud](http://amueller.github.io/word_cloud/index.html)."
   ]
  },
  {
   "cell_type": "code",
   "execution_count": 28,
   "metadata": {},
   "outputs": [],
   "source": [
    "from wordcloud import WordCloud\n",
    "wc = WordCloud()"
   ]
  },
  {
   "cell_type": "code",
   "execution_count": 29,
   "metadata": {},
   "outputs": [
    {
     "data": {
      "image/png": "[encoded data removed]",
      "text/plain": [
       "<Figure size 432x288 with 1 Axes>"
      ]
     },
     "metadata": {
      "needs_background": "light"
     },
     "output_type": "display_data"
    }
   ],
   "source": [
    "plt.imshow(wc.generate_from_frequencies(FreqDist(all_words)), interpolation=\"bilinear\")\n",
    "plt.show()"
   ]
  },
  {
   "cell_type": "markdown",
   "metadata": {},
   "source": [
    "#### 2.3.3 <a id='tweets-bereinigen'>Tweets bereinigen</a>"
   ]
  },
  {
   "cell_type": "markdown",
   "metadata": {},
   "source": [
    "Nun wollen wir nicht nur einzelne Wörter, sondern sogar ganze Tweets entfernen. Dies ist nötig, wenn sie bspw. zu wenig oder zu viele Wörter für eine Analyse enthalten. Daher interessiert uns im folgenden die Länge eines Tweets. Wie viele Wörter besitzt der kürzeste Tweet?"
   ]
  },
  {
   "cell_type": "code",
   "execution_count": 30,
   "metadata": {},
   "outputs": [
    {
     "data": {
      "text/plain": [
       "1"
      ]
     },
     "execution_count": 30,
     "metadata": {},
     "output_type": "execute_result"
    }
   ],
   "source": [
    "tweets_length = [len(tweet) for tweet in tweets]\n",
    "np.min(tweets_length)"
   ]
  },
  {
   "cell_type": "markdown",
   "metadata": {},
   "source": [
    "Hoffentlich handelt es sich um einen Ausreißer. Wir benötigen wiederum eine Häufigkeitsverteilung. Dieses Mal aber als einfaches Histogramm wie folgt:"
   ]
  },
  {
   "cell_type": "code",
   "execution_count": 31,
   "metadata": {},
   "outputs": [],
   "source": [
    "def plot_tweet_length_distribution(tweets_length):\n",
    "    \"\"\"Count tokens per tweet and plot their length distribution.\"\"\"\n",
    "\n",
    "    plt.hist(tweets_length, np.max(tweets_length))\n",
    "    plt.xlabel('Words per tweet')\n",
    "    plt.ylabel('Amount of tweets')\n",
    "    plt.title('Tweet length distribution')\n",
    "    plt.show()"
   ]
  },
  {
   "cell_type": "code",
   "execution_count": 32,
   "metadata": {},
   "outputs": [
    {
     "data": {
      "image/png": "[encoded data removed]",
      "text/plain": [
       "<Figure size 432x288 with 1 Axes>"
      ]
     },
     "metadata": {
      "needs_background": "light"
     },
     "output_type": "display_data"
    }
   ],
   "source": [
    "plot_tweet_length_distribution(tweets_length)"
   ]
  },
  {
   "cell_type": "markdown",
   "metadata": {},
   "source": [
    "Wir verwerfen alle Tweets, die weniger als 8 Wörter besitzen."
   ]
  },
  {
   "cell_type": "code",
   "execution_count": 33,
   "metadata": {},
   "outputs": [],
   "source": [
    "def drop_tweets(tweets):\n",
    "    \"\"\"Drop tweets\"\"\"\n",
    "    \n",
    "    row_list = []\n",
    "    for row in tweets:\n",
    "        if len(row) > 7:\n",
    "            row_list.append(row)\n",
    "    \n",
    "    return pd.Series(row_list)"
   ]
  },
  {
   "cell_type": "code",
   "execution_count": 34,
   "metadata": {},
   "outputs": [
    {
     "data": {
      "text/plain": [
       "1462"
      ]
     },
     "execution_count": 34,
     "metadata": {},
     "output_type": "execute_result"
    }
   ],
   "source": [
    "tweets = drop_tweets(tweets) # Python list\n",
    "# tweets = tweets[tweets.map(len) > 7 ] # Pandas\n",
    "tweets.size"
   ]
  },
  {
   "cell_type": "markdown",
   "metadata": {},
   "source": [
    "Von den ursprünglich 100 Tweets sind nach unserer Datenaufbereitung lediglich 66 übrig geblieben. Ein guter Zeitpunkt um zur Modelldomäne überzugehen und etwas mit den bereinigten Daten anzustellen."
   ]
  },
  {
   "cell_type": "markdown",
   "metadata": {},
   "source": [
    "## 3. <a id='modell'>Modell</a>"
   ]
  },
  {
   "cell_type": "markdown",
   "metadata": {},
   "source": [
    "In der Modelldomäne betten wir die bereinigten Daten zunächst auf Basis eines Vokabulars in ein Modell ein. Das Vokabular dient dabei als Look-up (LUT) für einen Tweet."
   ]
  },
  {
   "cell_type": "markdown",
   "metadata": {},
   "source": [
    "['negativ', 'positiv']"
   ]
  },
  {
   "cell_type": "code",
   "execution_count": 35,
   "metadata": {},
   "outputs": [],
   "source": [
    "labels = ['negativ', 'positiv']"
   ]
  },
  {
   "cell_type": "markdown",
   "metadata": {},
   "source": [
    "#### 3.1.1 <a id='vokabular'>Vokabular</a>"
   ]
  },
  {
   "cell_type": "markdown",
   "metadata": {},
   "source": [
    "Das Vokabular besteht aus negativ bzw. positiv konnotierten Wörtern der deutschen Sprache. Die Schwere der Stimmung ist im Intervall von `[-1, 1]` bzw. `['negativ', 'positiv']` festgelegt, wonach neutrale Wörter, wie _und_ bzw. _oder_ mit eine Stimmungswert von _0_ gleichzusetzen sind."
   ]
  },
  {
   "cell_type": "markdown",
   "metadata": {},
   "source": [
    "Dann schauen wir uns mal die negativen..."
   ]
  },
  {
   "cell_type": "code",
   "execution_count": 36,
   "metadata": {},
   "outputs": [
    {
     "data": {
      "text/html": [
       "<div>\n",
       "<style scoped>\n",
       "    .dataframe tbody tr th:only-of-type {\n",
       "        vertical-align: middle;\n",
       "    }\n",
       "\n",
       "    .dataframe tbody tr th {\n",
       "        vertical-align: top;\n",
       "    }\n",
       "\n",
       "    .dataframe thead th {\n",
       "        text-align: right;\n",
       "    }\n",
       "</style>\n",
       "<table border=\"1\" class=\"dataframe\">\n",
       "  <thead>\n",
       "    <tr style=\"text-align: right;\">\n",
       "      <th></th>\n",
       "      <th>Wort</th>\n",
       "      <th>Wert</th>\n",
       "      <th>Deklination</th>\n",
       "      <th>Stimmung</th>\n",
       "    </tr>\n",
       "  </thead>\n",
       "  <tbody>\n",
       "    <tr>\n",
       "      <th>0</th>\n",
       "      <td>Abbruch|NN</td>\n",
       "      <td>-0.0048</td>\n",
       "      <td>Abbruches,Abbrüche,Abbruchs,Abbrüchen</td>\n",
       "      <td>negativ</td>\n",
       "    </tr>\n",
       "    <tr>\n",
       "      <th>1</th>\n",
       "      <td>Abdankung|NN</td>\n",
       "      <td>-0.0048</td>\n",
       "      <td>Abdankungen</td>\n",
       "      <td>negativ</td>\n",
       "    </tr>\n",
       "    <tr>\n",
       "      <th>2</th>\n",
       "      <td>Abdämpfung|NN</td>\n",
       "      <td>-0.0048</td>\n",
       "      <td>Abdämpfungen</td>\n",
       "      <td>negativ</td>\n",
       "    </tr>\n",
       "    <tr>\n",
       "      <th>3</th>\n",
       "      <td>Abfall|NN</td>\n",
       "      <td>-0.0048</td>\n",
       "      <td>Abfalles,Abfälle,Abfalls,Abfällen</td>\n",
       "      <td>negativ</td>\n",
       "    </tr>\n",
       "    <tr>\n",
       "      <th>4</th>\n",
       "      <td>Abfuhr|NN</td>\n",
       "      <td>-0.3367</td>\n",
       "      <td>Abfuhren</td>\n",
       "      <td>negativ</td>\n",
       "    </tr>\n",
       "  </tbody>\n",
       "</table>\n",
       "</div>"
      ],
      "text/plain": [
       "            Wort    Wert                            Deklination Stimmung\n",
       "0     Abbruch|NN -0.0048  Abbruches,Abbrüche,Abbruchs,Abbrüchen  negativ\n",
       "1   Abdankung|NN -0.0048                            Abdankungen  negativ\n",
       "2  Abdämpfung|NN -0.0048                           Abdämpfungen  negativ\n",
       "3      Abfall|NN -0.0048      Abfalles,Abfälle,Abfalls,Abfällen  negativ\n",
       "4      Abfuhr|NN -0.3367                               Abfuhren  negativ"
      ]
     },
     "execution_count": 36,
     "metadata": {},
     "output_type": "execute_result"
    }
   ],
   "source": [
    "negative = pd.read_csv('./negative.txt', lineterminator='\\n', sep='\\t', header=0, names=['Wort', 'Wert', 'Deklination'])\n",
    "negative['Stimmung'] = 'negativ'\n",
    "negative.head()"
   ]
  },
  {
   "cell_type": "markdown",
   "metadata": {},
   "source": [
    "...und die positiven Wörter an:"
   ]
  },
  {
   "cell_type": "code",
   "execution_count": 37,
   "metadata": {},
   "outputs": [
    {
     "data": {
      "text/html": [
       "<div>\n",
       "<style scoped>\n",
       "    .dataframe tbody tr th:only-of-type {\n",
       "        vertical-align: middle;\n",
       "    }\n",
       "\n",
       "    .dataframe tbody tr th {\n",
       "        vertical-align: top;\n",
       "    }\n",
       "\n",
       "    .dataframe thead th {\n",
       "        text-align: right;\n",
       "    }\n",
       "</style>\n",
       "<table border=\"1\" class=\"dataframe\">\n",
       "  <thead>\n",
       "    <tr style=\"text-align: right;\">\n",
       "      <th></th>\n",
       "      <th>Wort</th>\n",
       "      <th>Wert</th>\n",
       "      <th>Deklination</th>\n",
       "      <th>Stimmung</th>\n",
       "    </tr>\n",
       "  </thead>\n",
       "  <tbody>\n",
       "    <tr>\n",
       "      <th>0</th>\n",
       "      <td>Abschluß|NN</td>\n",
       "      <td>0.004</td>\n",
       "      <td>Abschlüße,Abschlußs,Abschlußes,Abschlüßen</td>\n",
       "      <td>positiv</td>\n",
       "    </tr>\n",
       "    <tr>\n",
       "      <th>1</th>\n",
       "      <td>Abstimmung|NN</td>\n",
       "      <td>0.004</td>\n",
       "      <td>Abstimmungen</td>\n",
       "      <td>positiv</td>\n",
       "    </tr>\n",
       "    <tr>\n",
       "      <th>2</th>\n",
       "      <td>Agilität|NN</td>\n",
       "      <td>0.004</td>\n",
       "      <td>NaN</td>\n",
       "      <td>positiv</td>\n",
       "    </tr>\n",
       "    <tr>\n",
       "      <th>3</th>\n",
       "      <td>Aktivität|NN</td>\n",
       "      <td>0.004</td>\n",
       "      <td>Aktivitäten</td>\n",
       "      <td>positiv</td>\n",
       "    </tr>\n",
       "    <tr>\n",
       "      <th>4</th>\n",
       "      <td>Aktualisierung|NN</td>\n",
       "      <td>0.004</td>\n",
       "      <td>Aktualisierungen</td>\n",
       "      <td>positiv</td>\n",
       "    </tr>\n",
       "  </tbody>\n",
       "</table>\n",
       "</div>"
      ],
      "text/plain": [
       "                Wort   Wert                                Deklination  \\\n",
       "0        Abschluß|NN  0.004  Abschlüße,Abschlußs,Abschlußes,Abschlüßen   \n",
       "1      Abstimmung|NN  0.004                               Abstimmungen   \n",
       "2        Agilität|NN  0.004                                        NaN   \n",
       "3       Aktivität|NN  0.004                                Aktivitäten   \n",
       "4  Aktualisierung|NN  0.004                           Aktualisierungen   \n",
       "\n",
       "  Stimmung  \n",
       "0  positiv  \n",
       "1  positiv  \n",
       "2  positiv  \n",
       "3  positiv  \n",
       "4  positiv  "
      ]
     },
     "execution_count": 37,
     "metadata": {},
     "output_type": "execute_result"
    }
   ],
   "source": [
    "positive = pd.read_csv('./positive.txt', lineterminator='\\n', sep='\\t', header=0, names=['Wort', 'Wert', 'Deklination'])\n",
    "positive['Stimmung'] = 'positiv'\n",
    "positive.head()"
   ]
  },
  {
   "cell_type": "markdown",
   "metadata": {},
   "source": [
    "Die Spalte _Wort_ scheint den Typ des Wortes angehängt zu haben. Wir führen das negative und das positive Vokabular im DataFrame `vocab` zusammen und trennen das Wort vom Worttyp."
   ]
  },
  {
   "cell_type": "code",
   "execution_count": 38,
   "metadata": {},
   "outputs": [
    {
     "data": {
      "text/html": [
       "<div>\n",
       "<style scoped>\n",
       "    .dataframe tbody tr th:only-of-type {\n",
       "        vertical-align: middle;\n",
       "    }\n",
       "\n",
       "    .dataframe tbody tr th {\n",
       "        vertical-align: top;\n",
       "    }\n",
       "\n",
       "    .dataframe thead th {\n",
       "        text-align: right;\n",
       "    }\n",
       "</style>\n",
       "<table border=\"1\" class=\"dataframe\">\n",
       "  <thead>\n",
       "    <tr style=\"text-align: right;\">\n",
       "      <th></th>\n",
       "      <th>Wort</th>\n",
       "      <th>Wert</th>\n",
       "      <th>Deklination</th>\n",
       "      <th>Stimmung</th>\n",
       "      <th>Typ</th>\n",
       "    </tr>\n",
       "  </thead>\n",
       "  <tbody>\n",
       "    <tr>\n",
       "      <th>0</th>\n",
       "      <td>Abbruch</td>\n",
       "      <td>-0.0048</td>\n",
       "      <td>Abbruches,Abbrüche,Abbruchs,Abbrüchen</td>\n",
       "      <td>negativ</td>\n",
       "      <td>NN</td>\n",
       "    </tr>\n",
       "    <tr>\n",
       "      <th>1</th>\n",
       "      <td>Abdankung</td>\n",
       "      <td>-0.0048</td>\n",
       "      <td>Abdankungen</td>\n",
       "      <td>negativ</td>\n",
       "      <td>NN</td>\n",
       "    </tr>\n",
       "    <tr>\n",
       "      <th>2</th>\n",
       "      <td>Abdämpfung</td>\n",
       "      <td>-0.0048</td>\n",
       "      <td>Abdämpfungen</td>\n",
       "      <td>negativ</td>\n",
       "      <td>NN</td>\n",
       "    </tr>\n",
       "    <tr>\n",
       "      <th>3</th>\n",
       "      <td>Abfall</td>\n",
       "      <td>-0.0048</td>\n",
       "      <td>Abfalles,Abfälle,Abfalls,Abfällen</td>\n",
       "      <td>negativ</td>\n",
       "      <td>NN</td>\n",
       "    </tr>\n",
       "    <tr>\n",
       "      <th>4</th>\n",
       "      <td>Abfuhr</td>\n",
       "      <td>-0.3367</td>\n",
       "      <td>Abfuhren</td>\n",
       "      <td>negativ</td>\n",
       "      <td>NN</td>\n",
       "    </tr>\n",
       "  </tbody>\n",
       "</table>\n",
       "</div>"
      ],
      "text/plain": [
       "         Wort    Wert                            Deklination Stimmung Typ\n",
       "0     Abbruch -0.0048  Abbruches,Abbrüche,Abbruchs,Abbrüchen  negativ  NN\n",
       "1   Abdankung -0.0048                            Abdankungen  negativ  NN\n",
       "2  Abdämpfung -0.0048                           Abdämpfungen  negativ  NN\n",
       "3      Abfall -0.0048      Abfalles,Abfälle,Abfalls,Abfällen  negativ  NN\n",
       "4      Abfuhr -0.3367                               Abfuhren  negativ  NN"
      ]
     },
     "execution_count": 38,
     "metadata": {},
     "output_type": "execute_result"
    }
   ],
   "source": [
    "vocab = pd.concat([negative, positive]) # assert positive.size + negative.size == vocab.size\n",
    "vocab[['Wort', 'Typ']] = vocab['Wort'].str.split('|', 1, expand=True)\n",
    "vocab.head()"
   ]
  },
  {
   "cell_type": "markdown",
   "metadata": {},
   "source": [
    "Kurze Datenanalyse wie neutral unser Vokabular ist."
   ]
  },
  {
   "cell_type": "code",
   "execution_count": 39,
   "metadata": {},
   "outputs": [
    {
     "data": {
      "text/html": [
       "<div>\n",
       "<style scoped>\n",
       "    .dataframe tbody tr th:only-of-type {\n",
       "        vertical-align: middle;\n",
       "    }\n",
       "\n",
       "    .dataframe tbody tr th {\n",
       "        vertical-align: top;\n",
       "    }\n",
       "\n",
       "    .dataframe thead th {\n",
       "        text-align: right;\n",
       "    }\n",
       "</style>\n",
       "<table border=\"1\" class=\"dataframe\">\n",
       "  <thead>\n",
       "    <tr style=\"text-align: right;\">\n",
       "      <th></th>\n",
       "      <th>Wert</th>\n",
       "    </tr>\n",
       "  </thead>\n",
       "  <tbody>\n",
       "    <tr>\n",
       "      <th>count</th>\n",
       "      <td>3466.000000</td>\n",
       "    </tr>\n",
       "    <tr>\n",
       "      <th>mean</th>\n",
       "      <td>-0.053921</td>\n",
       "    </tr>\n",
       "    <tr>\n",
       "      <th>std</th>\n",
       "      <td>0.204107</td>\n",
       "    </tr>\n",
       "    <tr>\n",
       "      <th>min</th>\n",
       "      <td>-1.000000</td>\n",
       "    </tr>\n",
       "    <tr>\n",
       "      <th>25%</th>\n",
       "      <td>-0.043075</td>\n",
       "    </tr>\n",
       "    <tr>\n",
       "      <th>50%</th>\n",
       "      <td>-0.004800</td>\n",
       "    </tr>\n",
       "    <tr>\n",
       "      <th>75%</th>\n",
       "      <td>0.004000</td>\n",
       "    </tr>\n",
       "    <tr>\n",
       "      <th>max</th>\n",
       "      <td>1.000000</td>\n",
       "    </tr>\n",
       "  </tbody>\n",
       "</table>\n",
       "</div>"
      ],
      "text/plain": [
       "              Wert\n",
       "count  3466.000000\n",
       "mean     -0.053921\n",
       "std       0.204107\n",
       "min      -1.000000\n",
       "25%      -0.043075\n",
       "50%      -0.004800\n",
       "75%       0.004000\n",
       "max       1.000000"
      ]
     },
     "execution_count": 39,
     "metadata": {},
     "output_type": "execute_result"
    }
   ],
   "source": [
    "vocab.describe()"
   ]
  },
  {
   "cell_type": "markdown",
   "metadata": {},
   "source": [
    "Kurze Datenanalyse ob Werte fehlen. "
   ]
  },
  {
   "cell_type": "code",
   "execution_count": 40,
   "metadata": {},
   "outputs": [
    {
     "data": {
      "text/plain": [
       "807"
      ]
     },
     "execution_count": 40,
     "metadata": {},
     "output_type": "execute_result"
    }
   ],
   "source": [
    "vocab.isna().values.sum()"
   ]
  },
  {
   "cell_type": "markdown",
   "metadata": {},
   "source": [
    "Fehlende Werte werden mit einer leeren Zeichenkette ersetzt."
   ]
  },
  {
   "cell_type": "code",
   "execution_count": 41,
   "metadata": {},
   "outputs": [],
   "source": [
    "vocab = vocab.fillna('')"
   ]
  },
  {
   "cell_type": "markdown",
   "metadata": {},
   "source": [
    "Für eine unkomplizierte LUT benötigen wir ein Wort pro Zeile. Dies erreichen wir, indem wir die Elemente der Liste in Spalte _Deklinaton_ in eine eigene Reihe überführen."
   ]
  },
  {
   "cell_type": "code",
   "execution_count": 42,
   "metadata": {},
   "outputs": [
    {
     "data": {
      "text/html": [
       "<div>\n",
       "<style scoped>\n",
       "    .dataframe tbody tr th:only-of-type {\n",
       "        vertical-align: middle;\n",
       "    }\n",
       "\n",
       "    .dataframe tbody tr th {\n",
       "        vertical-align: top;\n",
       "    }\n",
       "\n",
       "    .dataframe thead th {\n",
       "        text-align: right;\n",
       "    }\n",
       "</style>\n",
       "<table border=\"1\" class=\"dataframe\">\n",
       "  <thead>\n",
       "    <tr style=\"text-align: right;\">\n",
       "      <th></th>\n",
       "      <th>Stamm</th>\n",
       "      <th>Wert</th>\n",
       "      <th>Stimmung</th>\n",
       "      <th>Typ</th>\n",
       "      <th>Wort</th>\n",
       "    </tr>\n",
       "  </thead>\n",
       "  <tbody>\n",
       "    <tr>\n",
       "      <th>0</th>\n",
       "      <td>Abbruch</td>\n",
       "      <td>-0.0048</td>\n",
       "      <td>negativ</td>\n",
       "      <td>NN</td>\n",
       "      <td>Abbruch</td>\n",
       "    </tr>\n",
       "    <tr>\n",
       "      <th>1</th>\n",
       "      <td>Abbruch</td>\n",
       "      <td>-0.0048</td>\n",
       "      <td>negativ</td>\n",
       "      <td>NN</td>\n",
       "      <td>Abbruches</td>\n",
       "    </tr>\n",
       "    <tr>\n",
       "      <th>2</th>\n",
       "      <td>Abbruch</td>\n",
       "      <td>-0.0048</td>\n",
       "      <td>negativ</td>\n",
       "      <td>NN</td>\n",
       "      <td>Abbrüche</td>\n",
       "    </tr>\n",
       "    <tr>\n",
       "      <th>3</th>\n",
       "      <td>Abbruch</td>\n",
       "      <td>-0.0048</td>\n",
       "      <td>negativ</td>\n",
       "      <td>NN</td>\n",
       "      <td>Abbruchs</td>\n",
       "    </tr>\n",
       "    <tr>\n",
       "      <th>4</th>\n",
       "      <td>Abbruch</td>\n",
       "      <td>-0.0048</td>\n",
       "      <td>negativ</td>\n",
       "      <td>NN</td>\n",
       "      <td>Abbrüchen</td>\n",
       "    </tr>\n",
       "    <tr>\n",
       "      <th>...</th>\n",
       "      <td>...</td>\n",
       "      <td>...</td>\n",
       "      <td>...</td>\n",
       "      <td>...</td>\n",
       "      <td>...</td>\n",
       "    </tr>\n",
       "    <tr>\n",
       "      <th>32076</th>\n",
       "      <td>üppig</td>\n",
       "      <td>0.2010</td>\n",
       "      <td>positiv</td>\n",
       "      <td>ADJX</td>\n",
       "      <td>üppigster</td>\n",
       "    </tr>\n",
       "    <tr>\n",
       "      <th>32077</th>\n",
       "      <td>üppig</td>\n",
       "      <td>0.2010</td>\n",
       "      <td>positiv</td>\n",
       "      <td>ADJX</td>\n",
       "      <td>üppiges</td>\n",
       "    </tr>\n",
       "    <tr>\n",
       "      <th>32078</th>\n",
       "      <td>üppig</td>\n",
       "      <td>0.2010</td>\n",
       "      <td>positiv</td>\n",
       "      <td>ADJX</td>\n",
       "      <td>üppig</td>\n",
       "    </tr>\n",
       "    <tr>\n",
       "      <th>32079</th>\n",
       "      <td>üppig</td>\n",
       "      <td>0.2010</td>\n",
       "      <td>positiv</td>\n",
       "      <td>ADJX</td>\n",
       "      <td>üppigsten</td>\n",
       "    </tr>\n",
       "    <tr>\n",
       "      <th>32080</th>\n",
       "      <td>üppig</td>\n",
       "      <td>0.2010</td>\n",
       "      <td>positiv</td>\n",
       "      <td>ADJX</td>\n",
       "      <td>üppige</td>\n",
       "    </tr>\n",
       "  </tbody>\n",
       "</table>\n",
       "<p>32081 rows × 5 columns</p>\n",
       "</div>"
      ],
      "text/plain": [
       "         Stamm    Wert Stimmung   Typ       Wort\n",
       "0      Abbruch -0.0048  negativ    NN    Abbruch\n",
       "1      Abbruch -0.0048  negativ    NN  Abbruches\n",
       "2      Abbruch -0.0048  negativ    NN   Abbrüche\n",
       "3      Abbruch -0.0048  negativ    NN   Abbruchs\n",
       "4      Abbruch -0.0048  negativ    NN  Abbrüchen\n",
       "...        ...     ...      ...   ...        ...\n",
       "32076    üppig  0.2010  positiv  ADJX  üppigster\n",
       "32077    üppig  0.2010  positiv  ADJX    üppiges\n",
       "32078    üppig  0.2010  positiv  ADJX      üppig\n",
       "32079    üppig  0.2010  positiv  ADJX  üppigsten\n",
       "32080    üppig  0.2010  positiv  ADJX     üppige\n",
       "\n",
       "[32081 rows x 5 columns]"
      ]
     },
     "execution_count": 42,
     "metadata": {},
     "output_type": "execute_result"
    }
   ],
   "source": [
    "vocab['Merged'] = vocab['Wort'] + ',' + vocab['Deklination']\n",
    "vocab['Merged'] = vocab['Merged'].str.split(',')\n",
    "vocab = vocab.explode('Merged')\n",
    "vocab = vocab.sort_values('Wort').reset_index(drop=True)\n",
    "vocab = vocab.rename(columns={'Wort': 'Stamm', 'Merged': 'Wort'})\n",
    "vocab = vocab.drop(['Deklination'], axis=1)\n",
    "vocab"
   ]
  },
  {
   "cell_type": "markdown",
   "metadata": {},
   "source": [
    "Welche Wort-Typen sind vorhanden?"
   ]
  },
  {
   "cell_type": "code",
   "execution_count": 43,
   "metadata": {},
   "outputs": [
    {
     "data": {
      "text/html": [
       "<div>\n",
       "<style scoped>\n",
       "    .dataframe tbody tr th:only-of-type {\n",
       "        vertical-align: middle;\n",
       "    }\n",
       "\n",
       "    .dataframe tbody tr th {\n",
       "        vertical-align: top;\n",
       "    }\n",
       "\n",
       "    .dataframe thead th {\n",
       "        text-align: right;\n",
       "    }\n",
       "</style>\n",
       "<table border=\"1\" class=\"dataframe\">\n",
       "  <thead>\n",
       "    <tr style=\"text-align: right;\">\n",
       "      <th></th>\n",
       "      <th>Stamm</th>\n",
       "      <th>Wert</th>\n",
       "      <th>Stimmung</th>\n",
       "      <th>Wort</th>\n",
       "    </tr>\n",
       "    <tr>\n",
       "      <th>Typ</th>\n",
       "      <th></th>\n",
       "      <th></th>\n",
       "      <th></th>\n",
       "      <th></th>\n",
       "    </tr>\n",
       "  </thead>\n",
       "  <tbody>\n",
       "    <tr>\n",
       "      <th>ADJX</th>\n",
       "      <td>22960</td>\n",
       "      <td>22960</td>\n",
       "      <td>22960</td>\n",
       "      <td>22960</td>\n",
       "    </tr>\n",
       "    <tr>\n",
       "      <th>ADV</th>\n",
       "      <td>37</td>\n",
       "      <td>37</td>\n",
       "      <td>37</td>\n",
       "      <td>37</td>\n",
       "    </tr>\n",
       "    <tr>\n",
       "      <th>NN</th>\n",
       "      <td>3182</td>\n",
       "      <td>3182</td>\n",
       "      <td>3182</td>\n",
       "      <td>3182</td>\n",
       "    </tr>\n",
       "    <tr>\n",
       "      <th>VVINF</th>\n",
       "      <td>5902</td>\n",
       "      <td>5902</td>\n",
       "      <td>5902</td>\n",
       "      <td>5902</td>\n",
       "    </tr>\n",
       "  </tbody>\n",
       "</table>\n",
       "</div>"
      ],
      "text/plain": [
       "       Stamm   Wert  Stimmung   Wort\n",
       "Typ                                 \n",
       "ADJX   22960  22960     22960  22960\n",
       "ADV       37     37        37     37\n",
       "NN      3182   3182      3182   3182\n",
       "VVINF   5902   5902      5902   5902"
      ]
     },
     "execution_count": 43,
     "metadata": {},
     "output_type": "execute_result"
    }
   ],
   "source": [
    "vocab.groupby('Typ').count()"
   ]
  },
  {
   "cell_type": "markdown",
   "metadata": {},
   "source": [
    "Finde das Adjektiv _gut_ im Vokabular."
   ]
  },
  {
   "cell_type": "code",
   "execution_count": 44,
   "metadata": {},
   "outputs": [
    {
     "data": {
      "text/html": [
       "<div>\n",
       "<style scoped>\n",
       "    .dataframe tbody tr th:only-of-type {\n",
       "        vertical-align: middle;\n",
       "    }\n",
       "\n",
       "    .dataframe tbody tr th {\n",
       "        vertical-align: top;\n",
       "    }\n",
       "\n",
       "    .dataframe thead th {\n",
       "        text-align: right;\n",
       "    }\n",
       "</style>\n",
       "<table border=\"1\" class=\"dataframe\">\n",
       "  <thead>\n",
       "    <tr style=\"text-align: right;\">\n",
       "      <th></th>\n",
       "      <th>Stamm</th>\n",
       "      <th>Wert</th>\n",
       "      <th>Stimmung</th>\n",
       "      <th>Typ</th>\n",
       "      <th>Wort</th>\n",
       "    </tr>\n",
       "  </thead>\n",
       "  <tbody>\n",
       "    <tr>\n",
       "      <th>13862</th>\n",
       "      <td>gut</td>\n",
       "      <td>0.3716</td>\n",
       "      <td>positiv</td>\n",
       "      <td>ADJX</td>\n",
       "      <td>gut</td>\n",
       "    </tr>\n",
       "  </tbody>\n",
       "</table>\n",
       "</div>"
      ],
      "text/plain": [
       "      Stamm    Wert Stimmung   Typ Wort\n",
       "13862   gut  0.3716  positiv  ADJX  gut"
      ]
     },
     "execution_count": 44,
     "metadata": {},
     "output_type": "execute_result"
    }
   ],
   "source": [
    "vocab.loc[vocab['Wort'] == 'gut']"
   ]
  },
  {
   "cell_type": "markdown",
   "metadata": {},
   "source": [
    "Finde die drei schlechtesten Wörter im Vokabular."
   ]
  },
  {
   "cell_type": "code",
   "execution_count": 45,
   "metadata": {},
   "outputs": [
    {
     "data": {
      "text/html": [
       "<div>\n",
       "<style scoped>\n",
       "    .dataframe tbody tr th:only-of-type {\n",
       "        vertical-align: middle;\n",
       "    }\n",
       "\n",
       "    .dataframe tbody tr th {\n",
       "        vertical-align: top;\n",
       "    }\n",
       "\n",
       "    .dataframe thead th {\n",
       "        text-align: right;\n",
       "    }\n",
       "</style>\n",
       "<table border=\"1\" class=\"dataframe\">\n",
       "  <thead>\n",
       "    <tr style=\"text-align: right;\">\n",
       "      <th></th>\n",
       "      <th>Stamm</th>\n",
       "      <th>Wert</th>\n",
       "      <th>Stimmung</th>\n",
       "      <th>Typ</th>\n",
       "      <th>Wort</th>\n",
       "    </tr>\n",
       "  </thead>\n",
       "  <tbody>\n",
       "    <tr>\n",
       "      <th>1096</th>\n",
       "      <td>Gefahr</td>\n",
       "      <td>-1.0000</td>\n",
       "      <td>negativ</td>\n",
       "      <td>NN</td>\n",
       "      <td>Gefahr</td>\n",
       "    </tr>\n",
       "    <tr>\n",
       "      <th>1097</th>\n",
       "      <td>Gefahr</td>\n",
       "      <td>-1.0000</td>\n",
       "      <td>negativ</td>\n",
       "      <td>NN</td>\n",
       "      <td>Gefahren</td>\n",
       "    </tr>\n",
       "    <tr>\n",
       "      <th>2219</th>\n",
       "      <td>Schuld</td>\n",
       "      <td>-0.9686</td>\n",
       "      <td>negativ</td>\n",
       "      <td>NN</td>\n",
       "      <td>Schulden</td>\n",
       "    </tr>\n",
       "  </tbody>\n",
       "</table>\n",
       "</div>"
      ],
      "text/plain": [
       "       Stamm    Wert Stimmung Typ      Wort\n",
       "1096  Gefahr -1.0000  negativ  NN    Gefahr\n",
       "1097  Gefahr -1.0000  negativ  NN  Gefahren\n",
       "2219  Schuld -0.9686  negativ  NN  Schulden"
      ]
     },
     "execution_count": 45,
     "metadata": {},
     "output_type": "execute_result"
    }
   ],
   "source": [
    "vocab.sort_values('Wert').head(3)"
   ]
  },
  {
   "cell_type": "markdown",
   "metadata": {},
   "source": [
    "#### 3.1.2 <a id='label'>Label</a>"
   ]
  },
  {
   "cell_type": "markdown",
   "metadata": {},
   "source": [
    "Dieser Schritt fügt den Tweets eine Stimmung auf Basis des Vokabulars hinzu. Dabei summieren wir die jeweiligen Stimmungswerte aller im Tweet enthaltenen Wörter und schauen ob sie in Summe negativ oder positiv sind."
   ]
  },
  {
   "cell_type": "code",
   "execution_count": 46,
   "metadata": {},
   "outputs": [],
   "source": [
    "def get_labels(tweet):\n",
    "    \"\"\"Label tweets according to vocabulary.\"\"\"\n",
    "    \n",
    "    score = 0.0\n",
    "    for token in tweet:\n",
    "        row = vocab.loc[vocab['Wort'] == token]\n",
    "        if len(row) == 1:\n",
    "            score += row['Wert'].to_numpy()\n",
    "            \n",
    "    if score > 0.0:\n",
    "        return 'positiv'\n",
    "    elif score < 0.0:\n",
    "        return 'negativ'\n",
    "    else:\n",
    "        return 'neutral'"
   ]
  },
  {
   "cell_type": "code",
   "execution_count": 47,
   "metadata": {},
   "outputs": [
    {
     "data": {
      "text/html": [
       "<div>\n",
       "<style scoped>\n",
       "    .dataframe tbody tr th:only-of-type {\n",
       "        vertical-align: middle;\n",
       "    }\n",
       "\n",
       "    .dataframe tbody tr th {\n",
       "        vertical-align: top;\n",
       "    }\n",
       "\n",
       "    .dataframe thead th {\n",
       "        text-align: right;\n",
       "    }\n",
       "</style>\n",
       "<table border=\"1\" class=\"dataframe\">\n",
       "  <thead>\n",
       "    <tr style=\"text-align: right;\">\n",
       "      <th></th>\n",
       "      <th>Token</th>\n",
       "      <th>Label</th>\n",
       "    </tr>\n",
       "  </thead>\n",
       "  <tbody>\n",
       "    <tr>\n",
       "      <th>0</th>\n",
       "      <td>[Hahaha, da, haben, Nazis, Glück, gehabt, was,...</td>\n",
       "      <td>positiv</td>\n",
       "    </tr>\n",
       "    <tr>\n",
       "      <th>1</th>\n",
       "      <td>[Ich, wünsche, allen, guten, Menschen, gesunde...</td>\n",
       "      <td>positiv</td>\n",
       "    </tr>\n",
       "    <tr>\n",
       "      <th>2</th>\n",
       "      <td>[Wir, wünschen, euch, guten, Rutsch, für, neue...</td>\n",
       "      <td>positiv</td>\n",
       "    </tr>\n",
       "    <tr>\n",
       "      <th>3</th>\n",
       "      <td>[Breitscheidplatz, Weihnachtsmarkt, Aus, den, ...</td>\n",
       "      <td>negativ</td>\n",
       "    </tr>\n",
       "    <tr>\n",
       "      <th>4</th>\n",
       "      <td>[Wir, wünschen, allen, friedliches, sorgenfrei...</td>\n",
       "      <td>positiv</td>\n",
       "    </tr>\n",
       "  </tbody>\n",
       "</table>\n",
       "</div>"
      ],
      "text/plain": [
       "                                               Token    Label\n",
       "0  [Hahaha, da, haben, Nazis, Glück, gehabt, was,...  positiv\n",
       "1  [Ich, wünsche, allen, guten, Menschen, gesunde...  positiv\n",
       "2  [Wir, wünschen, euch, guten, Rutsch, für, neue...  positiv\n",
       "3  [Breitscheidplatz, Weihnachtsmarkt, Aus, den, ...  negativ\n",
       "4  [Wir, wünschen, allen, friedliches, sorgenfrei...  positiv"
      ]
     },
     "execution_count": 47,
     "metadata": {},
     "output_type": "execute_result"
    }
   ],
   "source": [
    "tweets = tweets.to_frame(name='Token')\n",
    "tweets['Label'] = tweets['Token'].apply(get_labels)\n",
    "tweets.head()"
   ]
  },
  {
   "cell_type": "markdown",
   "metadata": {},
   "source": [
    "Neutrale Tweets werden verworfen."
   ]
  },
  {
   "cell_type": "code",
   "execution_count": 48,
   "metadata": {},
   "outputs": [],
   "source": [
    "tweets = tweets.drop(tweets[tweets['Label'] == 'neutral'].index).reset_index(drop=True)"
   ]
  },
  {
   "cell_type": "markdown",
   "metadata": {},
   "source": [
    "Wie sieht die Verteilung zwischen negativen und positiven Tweets aus?"
   ]
  },
  {
   "cell_type": "code",
   "execution_count": 49,
   "metadata": {},
   "outputs": [
    {
     "data": {
      "image/png": "[encoded data removed]",
      "text/plain": [
       "<Figure size 432x288 with 1 Axes>"
      ]
     },
     "metadata": {},
     "output_type": "display_data"
    }
   ],
   "source": [
    "plt.pie([tweets['Label'][tweets['Label'] == 'negativ'].count(), tweets['Label'][tweets['Label'] == 'positiv'].count()], labels=labels, autopct='%1.1f%%')\n",
    "plt.title('Stimmungsbild')\n",
    "plt.show()"
   ]
  },
  {
   "cell_type": "markdown",
   "metadata": {},
   "source": [
    "#### 3.1.3 <a id='vectorization'>Vektorisierung</a>"
   ]
  },
  {
   "cell_type": "markdown",
   "metadata": {},
   "source": [
    "Innerhalb der Vektorisierung überführen wir die symbolischen Textdaten in numerische Werte. Dies geschieht im Normalfall über Häufigkeitsverteilungen. Je öfter ein Wort im Text vorkommt, desto wichtiger scheint es zu sein, was sich in der Vektorisierung wiederspiegelt.\n",
    "\n",
    "In diesem Fall aber benutzen wir das bekannte Vokabular und überführen jedes einzelne Wort eines Tweets in seinen Stimmungswert. Das Wort _gut_ kriegt dabei den Stimmungswert 0.3716 zugewiesen, wie die folgende Zelle verdeutlicht."
   ]
  },
  {
   "cell_type": "code",
   "execution_count": 50,
   "metadata": {},
   "outputs": [
    {
     "data": {
      "text/plain": [
       "13862    0.3716\n",
       "Name: Wert, dtype: float64"
      ]
     },
     "execution_count": 50,
     "metadata": {},
     "output_type": "execute_result"
    }
   ],
   "source": [
    "vocab.loc[vocab['Wort'] == 'gut'].Wert"
   ]
  },
  {
   "cell_type": "code",
   "execution_count": 51,
   "metadata": {},
   "outputs": [],
   "source": [
    "def vectorize(tweet):\n",
    "    \"\"\"Vectorize tweets based on vocabulary\"\"\"\n",
    "            \n",
    "    vectors = []\n",
    "    for token in tweet:          \n",
    "        row = vocab.loc[vocab['Wort'] == token]\n",
    "        if len(row) == 1:\n",
    "            vectors.append(row['Wert'].to_numpy()[0])\n",
    "\n",
    "    return vectors"
   ]
  },
  {
   "cell_type": "code",
   "execution_count": 52,
   "metadata": {},
   "outputs": [],
   "source": [
    "tweets['Vector'] = tweets['Token'].apply(vectorize)"
   ]
  },
  {
   "cell_type": "markdown",
   "metadata": {},
   "source": [
    "Natürlich werden nicht immer gleich viele Wörter im Vokabular gefunden. Wir entscheiden wir uns für die ersten _8_ gefundenen Wörter im Tweet und füllen Tweets mit weniger als _8_ gefundenen Wörtern wie folgt auf."
   ]
  },
  {
   "cell_type": "code",
   "execution_count": 53,
   "metadata": {},
   "outputs": [],
   "source": [
    "def padding(tweet, pad_size=8):\n",
    "    \"\"\"Pad vectors with zeros at the end.\"\"\"\n",
    "    \n",
    "    pad_size = 8\n",
    "       \n",
    "    return np.pad(tweet[:pad_size], (0, pad_size-len(tweet[:pad_size])))"
   ]
  },
  {
   "cell_type": "code",
   "execution_count": 54,
   "metadata": {},
   "outputs": [],
   "source": [
    "tweets['Vector'] = tweets['Vector'].apply(padding)"
   ]
  },
  {
   "cell_type": "markdown",
   "metadata": {},
   "source": [
    "#### 3.1.4 <a id='features'>Features</a>"
   ]
  },
  {
   "cell_type": "code",
   "execution_count": 55,
   "metadata": {},
   "outputs": [],
   "source": [
    "def word_feats(words):\n",
    "    return dict([(word, True) for word in words])"
   ]
  },
  {
   "cell_type": "code",
   "execution_count": 56,
   "metadata": {},
   "outputs": [],
   "source": [
    "negative_features = [(word_feats(vocab.loc[vocab['Stimmung'] == 'negativ']['Wort']), 'negativ')]\n",
    "positive_features = [(word_feats(vocab.loc[vocab['Stimmung'] == 'positiv']['Wort']), 'positiv')]\n",
    "train_set = negative_features + positive_features"
   ]
  },
  {
   "cell_type": "markdown",
   "metadata": {},
   "source": [
    "### 3.2 <a id='klassifizieren'>Textdaten klassifizieren</a>"
   ]
  },
  {
   "cell_type": "markdown",
   "metadata": {},
   "source": [
    "#### 3.2.1 <a id='überwachte-klassifikation'>Überwachte Klassifizierung</a>"
   ]
  },
  {
   "cell_type": "markdown",
   "metadata": {},
   "source": [
    "Mithilfe des [Naive Bayes](https://www.nltk.org/_modules/nltk/classify/naivebayes.html) Algorithmus führen wir eine überwachte Klassifizierung aus."
   ]
  },
  {
   "cell_type": "code",
   "execution_count": 57,
   "metadata": {},
   "outputs": [],
   "source": [
    "from nltk import NaiveBayesClassifier"
   ]
  },
  {
   "cell_type": "code",
   "execution_count": 58,
   "metadata": {},
   "outputs": [],
   "source": [
    "classifier = NaiveBayesClassifier.train(train_set)"
   ]
  },
  {
   "cell_type": "code",
   "execution_count": 59,
   "metadata": {},
   "outputs": [],
   "source": [
    "def supervised_classifier(tweets):\n",
    "    \"\"\"Supervised classifier\"\"\"\n",
    "    \n",
    "    print('#\\tSoll\\tIst\\t∆\\tTweet')\n",
    "    \n",
    "    row = 0\n",
    "    negative = 0\n",
    "    positive = 0\n",
    "    error = 0\n",
    "    for tweet in tweets.itertuples():\n",
    "        \n",
    "        label = tweet.Label\n",
    "        features = word_feats(tweet.Token)\n",
    "        prediction = classifier.classify(features)\n",
    "            \n",
    "        if label != prediction: \n",
    "            delta = 'X'\n",
    "            error += 1\n",
    "        else: \n",
    "            delta = ' '\n",
    "        \n",
    "        if prediction == 'negativ':\n",
    "            negative += 1\n",
    "            \n",
    "        else:\n",
    "            positive += 1\n",
    "        \n",
    "        row += 1\n",
    "        \n",
    "        if row % 10 == 0:\n",
    "            print('%i\\t%s\\t%s\\t%s\\t%.160s' % (tweet.Index, label, prediction, delta, ' '.join(tweet.Token)))\n",
    "        \n",
    "    print('\\nGenauigkeit:', 1 - error / row)\n",
    "    plt.pie([negative, positive], labels=labels, autopct='%1.1f%%')\n",
    "    plt.title('Überwachte Klassifizierung')"
   ]
  },
  {
   "cell_type": "code",
   "execution_count": 60,
   "metadata": {},
   "outputs": [
    {
     "name": "stdout",
     "output_type": "stream",
     "text": [
      "#\tSoll\tIst\t∆\tTweet\n",
      "1063\tpositiv\tpositiv\t \tpolizeiberlin Irgendwie hoffe immer noch dass Silvesternacht etwas friedlich verläuft Guten Rutsch hoffentlich ohne große Vorfälle\n",
      "193\tpositiv\tpositiv\t \tWir wünschen allen Hörern guten Rutsch ins neue Jahr Danke für Unterstützung Wir hoffen seit auch wieder Start nämlich schon on\n",
      "798\tpositiv\tpositiv\t \tEin unglaublich spannendes amp intensives Jahr geht zu Ende Seit Monaten Vizebürgermeisterin amp mir jeden Tag aufs Neue große Freude für Menschen hier Wien zu \n",
      "699\tpositiv\tpositiv\t \tWünsche Ihnen gutes neues Jahr viel Gesundheit Freude Glück Erfolg Die goldenen iger Jahre beginnen alles alte was war schließen ab nehmen wie Seien offen für a\n",
      "970\tpositiv\tpositiv\t \tja man werft den Böller bitte nochmal meine Nähe wär nett noch zu sterben danke\n",
      "195\tnegativ\tpositiv\tX\tAm Ende war natürlich noch komplett nüchtern Ein Vlog zur DartsWM darts dartswm\n",
      "1017\tpositiv\tpositiv\t \tMyMangaYear Jahres TOP Secret XXX Given Zocker Haikyu Love Stage Hhm diese Favoritenliste wird wohl für immer BLs beherrscht werden xD Haikyu da natürlich Ausna\n",
      "13\tpositiv\tpositiv\t \tAllen guten Rutsch Und für dies Liebe Freundschaft Gesundheit Muße Leichtigkeit Und Sinn für Ironie\n",
      "189\tpositiv\tpositiv\t \tJahresrückblicke gibts momentan viele Ich hab auch kurz überlegt zu schreiben mit Bezug auf alles was bei mir passiert mir eher danach kleinen Ausblick auf zu v\n",
      "159\tpositiv\tpositiv\t \tkannakkdrmr Anna scheiße hab vergessen dass anderen Zeitzone Meine allerherzlichsten Glückwünsche zu deinem BDay Möge Rest deines Aufenthalts Japan genauso toll\n",
      "\n",
      "Genauigkeit: 0.89\n"
     ]
    },
    {
     "data": {
      "image/png": "[encoded data removed]",
      "text/plain": [
       "<Figure size 432x288 with 1 Axes>"
      ]
     },
     "metadata": {},
     "output_type": "display_data"
    }
   ],
   "source": [
    "supervised_classifier(tweets.sample(100))"
   ]
  },
  {
   "cell_type": "markdown",
   "metadata": {},
   "source": [
    "#### 3.2.2 <a id='unüberwachte-klassifikation'>Unüberwachte Klassifizierung</a>"
   ]
  },
  {
   "cell_type": "markdown",
   "metadata": {},
   "source": [
    "Mithilfe von [K-means](https://www.nltk.org/_modules/nltk/cluster/kmeans.html) Clustering führen wir eine unüberwachte Klassifizierung aus."
   ]
  },
  {
   "cell_type": "code",
   "execution_count": 61,
   "metadata": {},
   "outputs": [],
   "source": [
    "from nltk.cluster import KMeansClusterer, euclidean_distance"
   ]
  },
  {
   "cell_type": "code",
   "execution_count": 62,
   "metadata": {},
   "outputs": [],
   "source": [
    "clusterer = KMeansClusterer(2, euclidean_distance, repeats=10)"
   ]
  },
  {
   "cell_type": "code",
   "execution_count": 64,
   "metadata": {},
   "outputs": [],
   "source": [
    "clusters = clusterer.cluster(tweets['Vector'], True)"
   ]
  },
  {
   "cell_type": "markdown",
   "metadata": {},
   "source": [
    "Wo liegen die Mittelpunkte unserer Cluster?"
   ]
  },
  {
   "cell_type": "code",
   "execution_count": 65,
   "metadata": {},
   "outputs": [],
   "source": [
    "def plot_clusters():\n",
    "    \"\"\"Plot clusters\"\"\"\n",
    "    \n",
    "    means = clusterer.means()\n",
    "    plt.scatter(means[0], means[0])\n",
    "    plt.scatter(means[1], means[1])\n",
    "    plt.legend(['Negativ', 'Positiv'])"
   ]
  },
  {
   "cell_type": "code",
   "execution_count": 66,
   "metadata": {},
   "outputs": [
    {
     "data": {
      "image/png": "[encoded data removed]",
      "text/plain": [
       "<Figure size 432x288 with 1 Axes>"
      ]
     },
     "metadata": {
      "needs_background": "light"
     },
     "output_type": "display_data"
    }
   ],
   "source": [
    "plot_clusters()"
   ]
  },
  {
   "cell_type": "code",
   "execution_count": 67,
   "metadata": {},
   "outputs": [],
   "source": [
    "def unsupervised_classifier(tweets):\n",
    "    \"\"\"Unsupervised classifier\"\"\"\n",
    "    \n",
    "    print('#\\tSoll\\tIst\\t∆\\tTweet')\n",
    "    \n",
    "    row = 0\n",
    "    negative = 0\n",
    "    positive = 0\n",
    "    error = 0\n",
    "    for tweet in tweets.itertuples():\n",
    "        \n",
    "        label = tweet.Label\n",
    "        vector = tweet.Vector\n",
    "        prediction = clusterer.classify(vector)\n",
    "        \n",
    "        if prediction == 0: \n",
    "            cluster = 'negativ'\n",
    "            negative += 1\n",
    "            \n",
    "        else:\n",
    "            cluster = 'positiv'\n",
    "            positive += 1\n",
    "            \n",
    "        if label != cluster: \n",
    "            delta = 'X'\n",
    "            error += 1\n",
    "        else: delta = ' '\n",
    "        \n",
    "        row += 1\n",
    "        \n",
    "        if row % 10 == 0:\n",
    "            print('%i\\t%s\\t%s\\t%s\\t%.160s' % (tweet.Index, label, cluster, delta, ' '.join(tweet.Token)))\n",
    "   \n",
    "    print('\\nGenauigkeit:', 1 - error / row)\n",
    "    plt.pie([negative, positive], labels=['negativ', 'positiv'], autopct='%1.1f%%')\n",
    "    plt.title('Unüberwachte Klassifizierung')"
   ]
  },
  {
   "cell_type": "code",
   "execution_count": 68,
   "metadata": {},
   "outputs": [
    {
     "name": "stdout",
     "output_type": "stream",
     "text": [
      "#\tSoll\tIst\t∆\tTweet\n",
      "344\tnegativ\tnegativ\t \tGroße Haie kleine Fische für ihn waren alle gleich Mit viel Herz hat im Fernsehen auf Bühne immer wieder Hamburg verkörpert allem im Großstadtrevier Rau trotzde\n",
      "867\tpositiv\tnegativ\tX\tBöllerst gerne User haben abgestimmt Teilen Sie Ihre Meinung kann sich den Ökomüll sonst wo hinstecken\n",
      "308\tpositiv\tpositiv\t \tSo dann auch mal mir Ich wünsche euch guten Rutsch ins Jahr feiert schön Und wenn einem dunklen Tunnel steht kein Ausweg glaubt zu finden Ich kann den Weg nicht\n",
      "218\tnegativ\tnegativ\t \tWir hauen nächste Zeit jetzt ab zu für Euch n paar Pix unseren alten Tumblrs raus hier Teil hope you like them mit barevarian Novum Ich dreimal als Top\n",
      "340\tnegativ\tnegativ\t \tAmmenmärchen MSM Altparteien vom rauheren Klima im Bundestag durch AfD widerlegt GRNE wüteten ihrer Legislatur extrem Von gab Ordnungsrufe Rügen nur Ordnungsruf\n",
      "382\tpositiv\tpositiv\t \tWas haltet davon wenn Oma durch Migrant ersetzen Umwelt durch Asyl Und dann lassen Kinder nochmal singen Mal sehen ob gleichen Leute dann immer noch Was darf Sa\n",
      "1012\tnegativ\tnegativ\t \tEin ereignisreiches intensives Jahr nähert sich dem Ende skrapid scr Thread\n",
      "987\tpositiv\tnegativ\tX\tRechte Nein war keine Morddrohung Das war nur harmloses Foto mit Munition dem Satz Du nächste Ihr Linken interpretiert da viel zu viel hinein Auch Rechte Eine f\n",
      "723\tpositiv\tpositiv\t \tSollten nichts mehr voneinander hören habt schönen letzten Tag des Jahres kommt gut rein Wir sehen uns nächstes Jahr lt\n",
      "1087\tpositiv\tpositiv\t \tFür Emma gabs ner Stunde ne Baldriantablette weil unruhiger wurde Wir waren grad nochmal im Garten u jetzt schläft Der Hundeopi noch recht entspannt Hat auch wa\n",
      "\n",
      "Genauigkeit: 0.6799999999999999\n"
     ]
    },
    {
     "data": {
      "image/png": "[encoded data removed]",
      "text/plain": [
       "<Figure size 432x288 with 1 Axes>"
      ]
     },
     "metadata": {},
     "output_type": "display_data"
    }
   ],
   "source": [
    "unsupervised_classifier(tweets.sample(100))"
   ]
  },
  {
   "cell_type": "markdown",
   "metadata": {},
   "source": [
    "<div style=\"background-color: #150458; padding: 5px;\"></div>\n",
    "\n",
    "## 4. <a id='verwendung'>Verwendung</a>"
   ]
  },
  {
   "cell_type": "markdown",
   "metadata": {},
   "source": [
    "Welche Stimmung gibt er für folgenden Satz aus?\n",
    "\n",
    "> Was für ein schlechtes Lernmodul"
   ]
  },
  {
   "cell_type": "code",
   "execution_count": 69,
   "metadata": {},
   "outputs": [
    {
     "data": {
      "text/plain": [
       "'negativ'"
      ]
     },
     "execution_count": 69,
     "metadata": {},
     "output_type": "execute_result"
    }
   ],
   "source": [
    "classifier.classify(word_feats(\"Was für ein schlechtes Lernmodul\".split()))"
   ]
  },
  {
   "cell_type": "markdown",
   "metadata": {},
   "source": [
    "Welche Stimmung gibt er für folgenden Satz aus?\n",
    "\n",
    "> Was für ein gutes Lernmodul"
   ]
  },
  {
   "cell_type": "code",
   "execution_count": 70,
   "metadata": {},
   "outputs": [
    {
     "data": {
      "text/plain": [
       "'positiv'"
      ]
     },
     "execution_count": 70,
     "metadata": {},
     "output_type": "execute_result"
    }
   ],
   "source": [
    "classifier.classify(word_feats(\"Was für ein gutes Lernmodul\".split()))"
   ]
  },
  {
   "cell_type": "markdown",
   "metadata": {},
   "source": [
    "<div style=\"background-color: #150458; padding: 5px;\"></div>\n",
    "\n",
    "## 5. <a id='abschluss'>Abschluss</a>"
   ]
  }
 ],
 "metadata": {
  "kernelspec": {
   "display_name": "Python 3",
   "language": "python",
   "name": "python3"
  },
  "language_info": {
   "codemirror_mode": {
    "name": "ipython",
    "version": 3
   },
   "file_extension": ".py",
   "mimetype": "text/x-python",
   "name": "python",
   "nbconvert_exporter": "python",
   "pygments_lexer": "ipython3",
   "version": "3.7.0"
  }
 },
 "nbformat": 4,
 "nbformat_minor": 4
}
