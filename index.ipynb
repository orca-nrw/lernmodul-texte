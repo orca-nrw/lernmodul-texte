{
 "cells": [
  {
   "cell_type": "markdown",
   "metadata": {},
   "source": [
    "![WordCloud](./img/wordcloud.png)"
   ]
  },
  {
   "cell_type": "code",
   "execution_count": 1,
   "metadata": {},
   "outputs": [
    {
     "name": "stdout",
     "output_type": "stream",
     "text": [
      "Hello, stranger!\n"
     ]
    }
   ],
   "source": [
    "#hideInput\n",
    "try:\n",
    "    username\n",
    "except NameError:\n",
    "    username = 'stranger'\n",
    "\n",
    "print('Hello, ' + username + '!')"
   ]
  },
  {
   "cell_type": "markdown",
   "metadata": {},
   "source": [
    "# Lernmodul zur Verarbeitung und Analyse von Textdaten"
   ]
  },
  {
   "cell_type": "markdown",
   "metadata": {},
   "source": [
    "Das Verarbeiten menschlicher Sprache gilt als Voraussetzung für eine erfolgreiche Mensch-Maschine-Kommunikation. Zusätzlich kann sie dabei helfen eine vom Mensch unternommene Textanalyse zu unterstützen. Handelt es sich bei diesem Kommentar um unerwünschte Inhalte? Verbreitet dieser Beitrag Falschinformationen? Und welche Meinung will der Verfasser mit dieser Rezension zum Ausdruck bringen? Jene Fragestellungen lassen sich also mithilfe computergestützter Methoden der Textanalyse beantworten.\n",
    "\n",
    "Im folgenden Lernmodul wird speziell versucht im Zuge der Stimmungsanalyse (Sentiment Analysis) die Intention eines Textbeitrages zu identifizieren um bspw. zwischen einer negativen und einer positiven Aussage zu unterscheiden. Diese Unterscheidung übernimmt ein Modell (hier: Klassifikator), welches auf Basis von angereicherten Daten (hier: Vokabular) eine Aussage (hier: Stimmung) über vorliegende Rohdaten (hier: Tweets) trifft.\n",
    "\n",
    "Die folgende Abbildung verdeutlicht den Weg eines Tweets, welcher die drei Domänen [Daten](#daten), [Modell](#modell) und [Verwendung](#verwendung) durchläuft, bevor letztendlich seine Stimmung vorhergesagt wird:\n",
    "![Pipeline](./img/flow.png)"
   ]
  },
  {
   "cell_type": "markdown",
   "metadata": {},
   "source": [
    "**Übersicht über die Lerninhalte:**\n",
    "\n",
    "1. [Einführung](#1.-Einführung)\n",
    "    1. [Motivation](#1.1-Motivation)\n",
    "    2. [Voraussetzungen](#1.2-Voraussetzungen)\n",
    "2. [Daten](#2.-Daten)\n",
    "    1. [Textdaten beschaffen](#2.1-Textdaten-beschaffen)\n",
    "    2. [Textdaten erkunden](#2.2-Textdaten-erkunden)\n",
    "    3. [Textdaten aufbereiten](#2.3-Textdaten-aufbereiten)\n",
    "        1. [Zeichen bereinigen](#2.3.1-Zeichen-bereinigen)\n",
    "        2. [Wörter bereinigen](#2.3.2-Wörter-bereinigen)\n",
    "        3. [Tweets bereinigen](#2.3.3-Tweets-bereinigen)\n",
    "3. [Modell](#3.-Modell)\n",
    "    1. [Textdaten einbetten](#3.1-Textdaten-einbetten)\n",
    "        1. [Vokabular](#3.1.1-Vokabular)\n",
    "        2. [Vektorisierung](#3.1.2-Vektorisierung)\n",
    "        3. [Label](#3.1.3-Label)\n",
    "        4. [Features](#3.1.4-Features)\n",
    "    2. [Textdaten klassifizieren](#3.2-Textdaten-klassifizieren)\n",
    "        1. [Überwachte Klassifikation](#3.2.1-Überwachte-Klassifikation)\n",
    "        2. [Unüberwachte Klassifikation](#3.2.2-Unüberwachte-Klassifikation)\n",
    "4. [Verwendung](#4.-Verwendung)\n",
    "    1. [Textdaten vorhersagen](#4.1-Textdaten-vorhersagen)\n",
    "        1. [Überwachter Klassifikator](#4.1.1-Überwachter-Klassifikator)\n",
    "        2. [Unüberwachter Klassifikator](#4.1.2-Unüberwachter-Klassifikator)\n",
    "5. [Abschluss](#5.-Abschluss)"
   ]
  },
  {
   "cell_type": "markdown",
   "metadata": {},
   "source": [
    "**Lernziele:**\n",
    "\n",
    "Die Teilnehmer lernen in der [Datendomäne](#daten) Textdaten in roher Form Schritt für Schritt in kontextbezogene Daten für eine Textanalyse zu transformieren. Daraufhin bewegen sich die Teilnehmer in der [Modelldomäne](#modell), in der sie die Daten in das Modell einbetten um sie von zwei unterschiedlichen Algorithmen klassifizieren zu lassen. Final werden die entstandenen Klassifikatoren in der [Verwendungsdomäne](#verwendung) für eine Vorhersage der Stimmung gebraucht."
   ]
  },
  {
   "cell_type": "markdown",
   "metadata": {},
   "source": [
    "**Voraussetzungen:**\n",
    "\n",
    "- [Lernmodul zum Datenimport und zur Datenvorbereitung mit Pandas](https://projectbase.medien.hs-duesseldorf.de/eild.nrw-module/lernmodul-pandas)"
   ]
  },
  {
   "cell_type": "markdown",
   "metadata": {},
   "source": [
    "**Aufgabenüberprüfung:**"
   ]
  },
  {
   "cell_type": "markdown",
   "metadata": {},
   "source": [
    "Dieses Lernmodul nutzt eine Aufgabenüberprüfung, die sich hinter der folgenden Variable verbirgt:"
   ]
  },
  {
   "cell_type": "code",
   "execution_count": 2,
   "metadata": {},
   "outputs": [],
   "source": [
    "#hideInput\n",
    "from taskreview.learning_module import LearningModule\n",
    "texte_lm = LearningModule('data/lernmodul_texte.db')"
   ]
  },
  {
   "cell_type": "code",
   "execution_count": 3,
   "metadata": {},
   "outputs": [
    {
     "data": {
      "text/plain": [
       "<taskreview.learning_module.LearningModule at 0x26747d98208>"
      ]
     },
     "execution_count": 3,
     "metadata": {},
     "output_type": "execute_result"
    }
   ],
   "source": [
    "texte_lm"
   ]
  },
  {
   "cell_type": "markdown",
   "metadata": {},
   "source": [
    "**Hilfestellung:**"
   ]
  },
  {
   "cell_type": "markdown",
   "metadata": {},
   "source": [
    "Dieses Lernmodul nutzt verschiedenste Bibliotheken, Objekte und Funktionen. Solltet ihr einmal den Überblick verlieren, gibt euch die `whos` Funktion alle aktiven Variablen aus."
   ]
  },
  {
   "cell_type": "code",
   "execution_count": 4,
   "metadata": {},
   "outputs": [
    {
     "name": "stdout",
     "output_type": "stream",
     "text": [
      "Variable         Type              Data/Info\n",
      "--------------------------------------------\n",
      "LearningModule   type              <class 'taskreview.learni<...>g_module.LearningModule'>\n",
      "texte_lm         LearningModule    <taskreview.learning_modu<...>ct at 0x0000026747D98208>\n",
      "username         str               stranger\n"
     ]
    }
   ],
   "source": [
    "whos"
   ]
  },
  {
   "cell_type": "markdown",
   "metadata": {},
   "source": [
    "Dieses Lernmodul nutzt eine hohe Datenmenge, welche die maximal zur Verfügung stehende Speicherkapazität überschreiten kann. Um dem vorzubeugen, können ungenutzte Variablen über die `del` Funktion verworfen werden."
   ]
  },
  {
   "cell_type": "code",
   "execution_count": 5,
   "metadata": {},
   "outputs": [],
   "source": [
    "variable = None \n",
    "del variable"
   ]
  },
  {
   "cell_type": "markdown",
   "metadata": {},
   "source": [
    "<div style=\"background-color: #150458; padding: 5px;\"></div>\n",
    "\n",
    "## 1. Einführung"
   ]
  },
  {
   "cell_type": "markdown",
   "metadata": {},
   "source": [
    "[Zurück zur Übersicht](#Lernmodul-zur-Verarbeitung-und-Analyse-von-Textdaten)"
   ]
  },
  {
   "cell_type": "markdown",
   "metadata": {},
   "source": [
    "### 1.1 Motivation"
   ]
  },
  {
   "cell_type": "markdown",
   "metadata": {},
   "source": [
    "Die Verarbeitung menschlicher Sprache (Natural Language Processing, NLP) ist ein prominentes Forschungsfeld der Informatik mit ähnlichem Bekanntheitsgrad wie die Analyse visueller Daten (Computer Vision), welche bspw. das Erkennen von Bildern (Image Recognition) sowie ihre Manipulation (Image Augmentation) betrachtet. Im ersten Fall wollen wir einen bekannten bzw. alten Bildinhalt klassifizieren, während der zweite Fall einen unbekannten bzw. neuen Bildinhalt erzeugt."
   ]
  },
  {
   "cell_type": "markdown",
   "metadata": {},
   "source": [
    "Wechseln wir von Bild- auf Textdaten, lässt sich das Forschungsfeld des _NLP_ auf ähnliche Problemstellungen herunterbrechen, die in der folgenden Auflistung aufgeführt sind:\n",
    "\n",
    "* Texterkennung (Text Recognition)\n",
    "  * Spracherkennung (Speech Recognition)\n",
    "  * Stimmungsanalyse (Sentiment Analysis)\n",
    "* Textmanipulation (Text Augmentation)\n",
    "  * Maschinelle Übersetzung (Machine Translation)\n",
    "  * Automatisches Antworten (Question Answering)"
   ]
  },
  {
   "cell_type": "markdown",
   "metadata": {},
   "source": [
    "Dieses Lernmodul beschäftigt sich mit der ersten Problemstellung, also der Texterkennung, im besonderen mit der Unterscheidung verschiedener Stimmungen, welche der Verfasser eines Textes gehabt haben könnte. Ein aktuelles Anwendungsbeispiel ist die Identifikation von Hassreden, wie sie bspw. von [Facebook](https://www.facebook.com/) im Zuge ihrer [Community Standards](https://www.facebook.com/communitystandards/hate_speech) verboten wurden und erkannt werden müssen. Auch könnte man ein Stimmungsbild der Gesellschaft über die Auswertung von Beiträgen auf Twitter betrachten, welches in Krisenzeiten als Entscheidungshilfe für geplante Maßnahmen dienen kann."
   ]
  },
  {
   "cell_type": "markdown",
   "metadata": {},
   "source": [
    "### 1.2 Voraussetzungen"
   ]
  },
  {
   "cell_type": "markdown",
   "metadata": {},
   "source": [
    "Dieses Lernmodul nimmt sich [NumPy](https://numpy.org/) für numerische Berechnungen und [Pandas](https://pandas.pydata.org/) für die Verarbeitung der Daten zur Hilfe. Letztere Bibliothek konntet ihr bereits im [Lernmodul zum Datenimport und zur Datenvorbereitung mit Pandas](https://projectbase.medien.hs-duesseldorf.de/eild.nrw-module/lernmodul-pandas) kennen lernen."
   ]
  },
  {
   "cell_type": "code",
   "execution_count": 6,
   "metadata": {},
   "outputs": [],
   "source": [
    "import numpy as np\n",
    "import pandas as pd"
   ]
  },
  {
   "cell_type": "markdown",
   "metadata": {},
   "source": [
    "Dazu werden die folgenden Skripte zum Verarbeiten, Modellieren & Visualisieren der Daten benötigt:"
   ]
  },
  {
   "cell_type": "code",
   "execution_count": 7,
   "metadata": {},
   "outputs": [],
   "source": [
    "from utils import data_functions as df\n",
    "from utils import model_functions as mf\n",
    "from utils import vis_functions as vf"
   ]
  },
  {
   "cell_type": "markdown",
   "metadata": {},
   "source": [
    "<div style=\"background-color: #150458; padding: 5px;\"></div>\n",
    "\n",
    "## 2. Daten"
   ]
  },
  {
   "cell_type": "markdown",
   "metadata": {},
   "source": [
    "[Zurück zur Übersicht](#Lernmodul-zur-Verarbeitung-und-Analyse-von-Textdaten)"
   ]
  },
  {
   "cell_type": "markdown",
   "metadata": {},
   "source": [
    "In der Datendomäne beschaffen wir uns zunächst einen Datensatz, welcher aus vielen Beispielen besteht, der die Menge an Daten bildet. Ein Beispiel umfasst dabei mindestens ein, wenn nicht sogar mehrere Merkmale. Ein Merkmal wird dabei durch einen numerischen oder symbolischen Wert verkörpert, der in unserem Fall ein Textbeitrag (Inhalt eines Tweets), aber auch ein Zeitstempel (Veröffentlichung des Tweets) sein kann. \n",
    "\n",
    "Im weiteren Verlauf dieses Kapitels werden die beschafften Daten zunächst begutachtet und auf Basis ihrer Merkmale vorgefiltert. Daraufhin werden die übrig gebliebenen Daten im Abschnitt [Textdaten aufbereiten](#2.3-Textdaten-aufbereiten) verarbeitet, um sie in der darauffolgenden Modelldomäne zu nutzen. Die Aufbereitung eines Textbeitrags läuft dabei folgendermaßen ab:\n",
    "\n",
    "![Daten](./img/data_flow.png)"
   ]
  },
  {
   "cell_type": "markdown",
   "metadata": {},
   "source": [
    "### 2.1 Textdaten beschaffen"
   ]
  },
  {
   "cell_type": "markdown",
   "metadata": {},
   "source": [
    "Wo findet man in der heutigen Zeit aktuelle Daten, welche eine eigene Meinung enthalten? Na auf dem Kurznachrichtendienst [Twitter](https://twitter.com) natürlich! \n",
    "\n",
    "Unser Datensatz wird dabei ungefiltert von Twitter extrahiert und monatlich unter der [CC 4.0 International](https://creativecommons.org/licenses/by/4.0/legalcode) Lizenz veröffentlicht [[1]](#1).\n",
    "\n",
    "Unter `data/tweets/` finden sich ein Teil dieser Veröffentlichung als JSON, welche wir zunächst als Rohdateien unter der `twitter` Variable wie folgt abspeichern."
   ]
  },
  {
   "cell_type": "code",
   "execution_count": 8,
   "metadata": {},
   "outputs": [],
   "source": [
    "twitter = df.load_json()"
   ]
  },
  {
   "cell_type": "markdown",
   "metadata": {},
   "source": [
    "Um die Funktionalität von Pandas nutzen zu können, wird aus jedem JSON in `twitter` ein DataFrame."
   ]
  },
  {
   "cell_type": "code",
   "execution_count": 9,
   "metadata": {},
   "outputs": [],
   "source": [
    "twitter = map(pd.DataFrame, twitter)"
   ]
  },
  {
   "cell_type": "markdown",
   "metadata": {},
   "source": [
    "Das Zusammenfügen dieser resultiert in einem einzelnen DataFrame, welcher alle Daten enthält."
   ]
  },
  {
   "cell_type": "code",
   "execution_count": 10,
   "metadata": {},
   "outputs": [],
   "source": [
    "twitter = pd.concat(twitter, copy=False)"
   ]
  },
  {
   "cell_type": "markdown",
   "metadata": {},
   "source": [
    "Das war's auch schon mit der Beschaffung der Daten. Als nächstes gilt es die noch unbekannten Daten zu erkunden."
   ]
  },
  {
   "cell_type": "markdown",
   "metadata": {},
   "source": [
    "### 2.2 Textdaten erkunden"
   ]
  },
  {
   "cell_type": "markdown",
   "metadata": {},
   "source": [
    "Wie im [Lernmodul zum Datenimport und zur Datenvorbereitung mit Pandas](https://projectbase.medien.hs-duesseldorf.de/eild.nrw-module/lernmodul-pandas) kennengelernt, lässt sich über die `head()` Funktionalität der Kopf des Datensatzes betrachten. Wie schaut dieser aus?"
   ]
  },
  {
   "cell_type": "code",
   "execution_count": 11,
   "metadata": {},
   "outputs": [
    {
     "data": {
      "text/html": [
       "<div>\n",
       "<style scoped>\n",
       "    .dataframe tbody tr th:only-of-type {\n",
       "        vertical-align: middle;\n",
       "    }\n",
       "\n",
       "    .dataframe tbody tr th {\n",
       "        vertical-align: top;\n",
       "    }\n",
       "\n",
       "    .dataframe thead th {\n",
       "        text-align: right;\n",
       "    }\n",
       "</style>\n",
       "<table border=\"1\" class=\"dataframe\">\n",
       "  <thead>\n",
       "    <tr style=\"text-align: right;\">\n",
       "      <th></th>\n",
       "      <th>twista</th>\n",
       "      <th>type</th>\n",
       "      <th>id</th>\n",
       "      <th>user</th>\n",
       "      <th>created_at</th>\n",
       "      <th>recorded_at</th>\n",
       "      <th>source</th>\n",
       "      <th>retweets</th>\n",
       "      <th>favourites</th>\n",
       "      <th>lang</th>\n",
       "      <th>...</th>\n",
       "      <th>screen_name</th>\n",
       "      <th>location</th>\n",
       "      <th>description</th>\n",
       "      <th>url</th>\n",
       "      <th>verified</th>\n",
       "      <th>followers</th>\n",
       "      <th>friends</th>\n",
       "      <th>listed</th>\n",
       "      <th>statuses</th>\n",
       "      <th>refers_to</th>\n",
       "    </tr>\n",
       "  </thead>\n",
       "  <tbody>\n",
       "    <tr>\n",
       "      <th>0</th>\n",
       "      <td>0.3.4b1</td>\n",
       "      <td>status</td>\n",
       "      <td>1233850617996726274</td>\n",
       "      <td>759488216</td>\n",
       "      <td>2020-02-29T20:24:45+00:00</td>\n",
       "      <td>2020-02-29T20:24:59.835143+00:00</td>\n",
       "      <td>&lt;a href=\"http://twitter.com/download/iphone\" r...</td>\n",
       "      <td>0.0</td>\n",
       "      <td>0</td>\n",
       "      <td>de</td>\n",
       "      <td>...</td>\n",
       "      <td>NaN</td>\n",
       "      <td>NaN</td>\n",
       "      <td>NaN</td>\n",
       "      <td>NaN</td>\n",
       "      <td>NaN</td>\n",
       "      <td>NaN</td>\n",
       "      <td>NaN</td>\n",
       "      <td>NaN</td>\n",
       "      <td>NaN</td>\n",
       "      <td>NaN</td>\n",
       "    </tr>\n",
       "    <tr>\n",
       "      <th>1</th>\n",
       "      <td>0.3.4b1</td>\n",
       "      <td>status</td>\n",
       "      <td>1233364221188026370</td>\n",
       "      <td>114508061</td>\n",
       "      <td>2020-02-28T12:11:59+00:00</td>\n",
       "      <td>2020-03-01T11:09:17.015566+00:00</td>\n",
       "      <td>&lt;a href=\"http://www.sueddeutsche.de/\" rel=\"nof...</td>\n",
       "      <td>51.0</td>\n",
       "      <td>145</td>\n",
       "      <td>de</td>\n",
       "      <td>...</td>\n",
       "      <td>NaN</td>\n",
       "      <td>NaN</td>\n",
       "      <td>NaN</td>\n",
       "      <td>NaN</td>\n",
       "      <td>NaN</td>\n",
       "      <td>NaN</td>\n",
       "      <td>NaN</td>\n",
       "      <td>NaN</td>\n",
       "      <td>NaN</td>\n",
       "      <td>NaN</td>\n",
       "    </tr>\n",
       "    <tr>\n",
       "      <th>2</th>\n",
       "      <td>0.3.4b1</td>\n",
       "      <td>status</td>\n",
       "      <td>1233850617870913541</td>\n",
       "      <td>2902622080</td>\n",
       "      <td>2020-02-29T20:24:45+00:00</td>\n",
       "      <td>2020-02-29T20:24:59.839449+00:00</td>\n",
       "      <td>&lt;a href=\"http://www.playstation.com\" rel=\"nofo...</td>\n",
       "      <td>0.0</td>\n",
       "      <td>0</td>\n",
       "      <td>de</td>\n",
       "      <td>...</td>\n",
       "      <td>NaN</td>\n",
       "      <td>NaN</td>\n",
       "      <td>NaN</td>\n",
       "      <td>NaN</td>\n",
       "      <td>NaN</td>\n",
       "      <td>NaN</td>\n",
       "      <td>NaN</td>\n",
       "      <td>NaN</td>\n",
       "      <td>NaN</td>\n",
       "      <td>NaN</td>\n",
       "    </tr>\n",
       "    <tr>\n",
       "      <th>3</th>\n",
       "      <td>0.3.4b1</td>\n",
       "      <td>status</td>\n",
       "      <td>1233701038483542016</td>\n",
       "      <td>140410244</td>\n",
       "      <td>2020-02-29T10:30:23+00:00</td>\n",
       "      <td>2020-02-29T20:24:59.842019+00:00</td>\n",
       "      <td>&lt;a href=\"https://about.twitter.com/products/tw...</td>\n",
       "      <td>3.0</td>\n",
       "      <td>8</td>\n",
       "      <td>de</td>\n",
       "      <td>...</td>\n",
       "      <td>NaN</td>\n",
       "      <td>NaN</td>\n",
       "      <td>NaN</td>\n",
       "      <td>NaN</td>\n",
       "      <td>NaN</td>\n",
       "      <td>NaN</td>\n",
       "      <td>NaN</td>\n",
       "      <td>NaN</td>\n",
       "      <td>NaN</td>\n",
       "      <td>NaN</td>\n",
       "    </tr>\n",
       "    <tr>\n",
       "      <th>4</th>\n",
       "      <td>0.3.4b1</td>\n",
       "      <td>status</td>\n",
       "      <td>1233837417959952385</td>\n",
       "      <td>2335677408</td>\n",
       "      <td>2020-02-29T19:32:18+00:00</td>\n",
       "      <td>2020-03-01T11:42:05.807013+00:00</td>\n",
       "      <td>&lt;a href=\"https://mobile.twitter.com\" rel=\"nofo...</td>\n",
       "      <td>509.0</td>\n",
       "      <td>1773</td>\n",
       "      <td>de</td>\n",
       "      <td>...</td>\n",
       "      <td>NaN</td>\n",
       "      <td>NaN</td>\n",
       "      <td>NaN</td>\n",
       "      <td>NaN</td>\n",
       "      <td>NaN</td>\n",
       "      <td>NaN</td>\n",
       "      <td>NaN</td>\n",
       "      <td>NaN</td>\n",
       "      <td>NaN</td>\n",
       "      <td>NaN</td>\n",
       "    </tr>\n",
       "  </tbody>\n",
       "</table>\n",
       "<p>5 rows × 26 columns</p>\n",
       "</div>"
      ],
      "text/plain": [
       "    twista    type                   id        user  \\\n",
       "0  0.3.4b1  status  1233850617996726274   759488216   \n",
       "1  0.3.4b1  status  1233364221188026370   114508061   \n",
       "2  0.3.4b1  status  1233850617870913541  2902622080   \n",
       "3  0.3.4b1  status  1233701038483542016   140410244   \n",
       "4  0.3.4b1  status  1233837417959952385  2335677408   \n",
       "\n",
       "                  created_at                       recorded_at  \\\n",
       "0  2020-02-29T20:24:45+00:00  2020-02-29T20:24:59.835143+00:00   \n",
       "1  2020-02-28T12:11:59+00:00  2020-03-01T11:09:17.015566+00:00   \n",
       "2  2020-02-29T20:24:45+00:00  2020-02-29T20:24:59.839449+00:00   \n",
       "3  2020-02-29T10:30:23+00:00  2020-02-29T20:24:59.842019+00:00   \n",
       "4  2020-02-29T19:32:18+00:00  2020-03-01T11:42:05.807013+00:00   \n",
       "\n",
       "                                              source  retweets  favourites  \\\n",
       "0  <a href=\"http://twitter.com/download/iphone\" r...       0.0           0   \n",
       "1  <a href=\"http://www.sueddeutsche.de/\" rel=\"nof...      51.0         145   \n",
       "2  <a href=\"http://www.playstation.com\" rel=\"nofo...       0.0           0   \n",
       "3  <a href=\"https://about.twitter.com/products/tw...       3.0           8   \n",
       "4  <a href=\"https://mobile.twitter.com\" rel=\"nofo...     509.0        1773   \n",
       "\n",
       "  lang  ... screen_name location description  url verified followers friends  \\\n",
       "0   de  ...         NaN      NaN         NaN  NaN      NaN       NaN     NaN   \n",
       "1   de  ...         NaN      NaN         NaN  NaN      NaN       NaN     NaN   \n",
       "2   de  ...         NaN      NaN         NaN  NaN      NaN       NaN     NaN   \n",
       "3   de  ...         NaN      NaN         NaN  NaN      NaN       NaN     NaN   \n",
       "4   de  ...         NaN      NaN         NaN  NaN      NaN       NaN     NaN   \n",
       "\n",
       "  listed statuses refers_to  \n",
       "0    NaN      NaN       NaN  \n",
       "1    NaN      NaN       NaN  \n",
       "2    NaN      NaN       NaN  \n",
       "3    NaN      NaN       NaN  \n",
       "4    NaN      NaN       NaN  \n",
       "\n",
       "[5 rows x 26 columns]"
      ]
     },
     "execution_count": 11,
     "metadata": {},
     "output_type": "execute_result"
    }
   ],
   "source": [
    "twitter.head()"
   ]
  },
  {
   "cell_type": "markdown",
   "metadata": {},
   "source": [
    "Leider liefert die `head()` Funktionalität nicht die Größe des Datensatzes zurück..."
   ]
  },
  {
   "cell_type": "markdown",
   "metadata": {},
   "source": [
    "**Aufgabe: Wie viele Beispiele sind im `twitter` Datensatz enthalten?**"
   ]
  },
  {
   "cell_type": "code",
   "execution_count": 12,
   "metadata": {},
   "outputs": [
    {
     "data": {
      "application/vnd.jupyter.widget-view+json": {
       "model_id": "d41fbe47870c4fa99082604fb6e17f35",
       "version_major": 2,
       "version_minor": 0
      },
      "text/plain": [
       "Output()"
      ]
     },
     "metadata": {},
     "output_type": "display_data"
    },
    {
     "data": {
      "application/vnd.jupyter.widget-view+json": {
       "model_id": "0b769df7587e42eb961bc9a9f4a50f61",
       "version_major": 2,
       "version_minor": 0
      },
      "text/plain": [
       "Output()"
      ]
     },
     "metadata": {},
     "output_type": "display_data"
    },
    {
     "data": {
      "application/vnd.jupyter.widget-view+json": {
       "model_id": "28c61d5b2e4c478db2330b9fb2bb3896",
       "version_major": 2,
       "version_minor": 0
      },
      "text/plain": [
       "Output()"
      ]
     },
     "metadata": {},
     "output_type": "display_data"
    }
   ],
   "source": [
    "#hideInput\n",
    "texte_lm.show_task(221)"
   ]
  },
  {
   "cell_type": "code",
   "execution_count": 13,
   "metadata": {},
   "outputs": [
    {
     "data": {
      "text/plain": [
       "450004"
      ]
     },
     "execution_count": 13,
     "metadata": {},
     "output_type": "execute_result"
    }
   ],
   "source": [
    "#solution\n",
    "twitter.shape[0]"
   ]
  },
  {
   "cell_type": "markdown",
   "metadata": {},
   "source": [
    "**Aufgabe: Wie viele Werte liegen pro Beispiel vor? Aus wie vielen Merkmalen besteht der `twitter` Datensatz?**"
   ]
  },
  {
   "cell_type": "code",
   "execution_count": 14,
   "metadata": {},
   "outputs": [
    {
     "data": {
      "application/vnd.jupyter.widget-view+json": {
       "model_id": "6bd1b970e8384242b3a8f6671a3dec79",
       "version_major": 2,
       "version_minor": 0
      },
      "text/plain": [
       "Output()"
      ]
     },
     "metadata": {},
     "output_type": "display_data"
    },
    {
     "data": {
      "application/vnd.jupyter.widget-view+json": {
       "model_id": "e4f76f0aeefd4b00acfa10d4146dd16e",
       "version_major": 2,
       "version_minor": 0
      },
      "text/plain": [
       "Output()"
      ]
     },
     "metadata": {},
     "output_type": "display_data"
    },
    {
     "data": {
      "application/vnd.jupyter.widget-view+json": {
       "model_id": "9557de1cb8e74d1db7bd6c0d387b6516",
       "version_major": 2,
       "version_minor": 0
      },
      "text/plain": [
       "Output()"
      ]
     },
     "metadata": {},
     "output_type": "display_data"
    }
   ],
   "source": [
    "#hideInput\n",
    "texte_lm.show_task(222)"
   ]
  },
  {
   "cell_type": "code",
   "execution_count": 15,
   "metadata": {},
   "outputs": [
    {
     "data": {
      "text/plain": [
       "26"
      ]
     },
     "execution_count": 15,
     "metadata": {},
     "output_type": "execute_result"
    }
   ],
   "source": [
    "#solution\n",
    "twitter.shape[1]"
   ]
  },
  {
   "cell_type": "markdown",
   "metadata": {},
   "source": [
    "Als erstes kümmern wir uns um die Aktualität der Daten."
   ]
  },
  {
   "cell_type": "markdown",
   "metadata": {},
   "source": [
    "**Aufgabe: Über welches Merkmal können wir Tweets identifizieren, die vor dem Jahr 2020 entstanden sind?**"
   ]
  },
  {
   "cell_type": "code",
   "execution_count": 16,
   "metadata": {},
   "outputs": [
    {
     "data": {
      "application/vnd.jupyter.widget-view+json": {
       "model_id": "9c75e4a844544080851c463e870db434",
       "version_major": 2,
       "version_minor": 0
      },
      "text/plain": [
       "Output()"
      ]
     },
     "metadata": {},
     "output_type": "display_data"
    },
    {
     "data": {
      "application/vnd.jupyter.widget-view+json": {
       "model_id": "d5cfd2dc8b3744678d8b2fd7cb4437d2",
       "version_major": 2,
       "version_minor": 0
      },
      "text/plain": [
       "Output()"
      ]
     },
     "metadata": {},
     "output_type": "display_data"
    },
    {
     "data": {
      "application/vnd.jupyter.widget-view+json": {
       "model_id": "06b22381d6a346a7917f3a5d2d4262a5",
       "version_major": 2,
       "version_minor": 0
      },
      "text/plain": [
       "Output()"
      ]
     },
     "metadata": {},
     "output_type": "display_data"
    }
   ],
   "source": [
    "#hideInput\n",
    "texte_lm.show_task(223)"
   ]
  },
  {
   "cell_type": "code",
   "execution_count": 17,
   "metadata": {},
   "outputs": [
    {
     "data": {
      "text/plain": [
       "Index(['twista', 'type', 'id', 'user', 'created_at', 'recorded_at', 'source',\n",
       "       'retweets', 'favourites', 'lang', 'hashtags', 'urls', 'mentions',\n",
       "       'mentioned_ids', 'text', 'name', 'screen_name', 'location',\n",
       "       'description', 'url', 'verified', 'followers', 'friends', 'listed',\n",
       "       'statuses', 'refers_to'],\n",
       "      dtype='object')"
      ]
     },
     "execution_count": 17,
     "metadata": {},
     "output_type": "execute_result"
    }
   ],
   "source": [
    "#solution\n",
    "twitter.columns"
   ]
  },
  {
   "cell_type": "markdown",
   "metadata": {},
   "source": [
    "Aus welchen Jahren stammen unsere Tweets?"
   ]
  },
  {
   "cell_type": "code",
   "execution_count": 18,
   "metadata": {},
   "outputs": [
    {
     "data": {
      "image/png": "[encoded data removed]",
      "text/plain": [
       "<Figure size 432x288 with 1 Axes>"
      ]
     },
     "metadata": {
      "needs_background": "light"
     },
     "output_type": "display_data"
    }
   ],
   "source": [
    "twitter = vf.plot_tweet_year(twitter)"
   ]
  },
  {
   "cell_type": "markdown",
   "metadata": {},
   "source": [
    "Anscheinend enthält unser Datensatz veraltete Tweets. Da sich unsere Fragestellung sich auf aktuelle Inhalte fixiert, verwerfen wir ältere Tweets wie folgt:"
   ]
  },
  {
   "cell_type": "code",
   "execution_count": 19,
   "metadata": {},
   "outputs": [],
   "source": [
    "twitter = twitter.loc[twitter['year'] == 2020]"
   ]
  },
  {
   "cell_type": "markdown",
   "metadata": {},
   "source": [
    "Als Nächstes kümmern wir uns um die Sprache, die einem jeden Tweet hinterlegt ist. Welche Sprachen sind vertreten?"
   ]
  },
  {
   "cell_type": "code",
   "execution_count": 20,
   "metadata": {},
   "outputs": [
    {
     "data": {
      "text/plain": [
       "array(['de', 'en', 'pt', 'in', 'es', 'it', 'fr', 'und', 'tr', 'ca', 'da',\n",
       "       'sl', 'pl', 'hi', 'nl', 'no', 'el', 'ru', 'fa', 'sv', 'et', 'cy',\n",
       "       'ro', 'tl', 'ja', 'ar', 'ht', 'th', 'fi', 'ko', 'vi', 'zh', 'is',\n",
       "       'hu', nan, 'cs', 'eu', 'lt', 'iw', 'ur', 'kn', 'lv'], dtype=object)"
      ]
     },
     "execution_count": 20,
     "metadata": {},
     "output_type": "execute_result"
    }
   ],
   "source": [
    "twitter['lang'].unique()"
   ]
  },
  {
   "cell_type": "markdown",
   "metadata": {},
   "source": [
    "Anscheinend enthält unser Datensatz verschiedenste Sprachen. Da sich unsere Fragestellung auf deutsche Inhalte fixiert, verwerfen wir anderweitigte Tweets wie folgt:"
   ]
  },
  {
   "cell_type": "code",
   "execution_count": 21,
   "metadata": {},
   "outputs": [],
   "source": [
    "twitter = twitter.loc[twitter['lang'] == 'de']"
   ]
  },
  {
   "cell_type": "markdown",
   "metadata": {},
   "source": [
    "Zum Abschluss konzentrieren wir uns auf die gewünschten Textbeiträge. Da unser Datensatz keine relevanten Metadaten enthält, extrahieren wir lediglich die Tweets vom DataFrame `twitter` in eine DataSeries `tweets`."
   ]
  },
  {
   "cell_type": "code",
   "execution_count": 22,
   "metadata": {},
   "outputs": [
    {
     "data": {
      "text/plain": [
       "0    a) Venezuela 2019\\nb) Deutschland während nCov...\n",
       "1    Assad und Putin wollen Erdoğan eine Lektion er...\n",
       "2    Ich hoff die Dinger kann ich a amol fahren und...\n",
       "3    Trotz aussichtsloser Lage der Wehrmacht ergebe...\n",
       "4    Mein Kommentar zur Causa Hopp für @derspiegel....\n",
       "Name: text, dtype: object"
      ]
     },
     "execution_count": 22,
     "metadata": {},
     "output_type": "execute_result"
    }
   ],
   "source": [
    "tweets = twitter['text']\n",
    "del twitter\n",
    "tweets.head()"
   ]
  },
  {
   "cell_type": "markdown",
   "metadata": {},
   "source": [
    "Beim Extrahieren der Tweets werden ausnahmslos alle Beispiele berücksichtigt. Das gilt auch für fehlende Tweets, die in der Menge an Beispielen untergegangen sind. Sind unsere Daten nun bereit zur Aufbereitung?"
   ]
  },
  {
   "cell_type": "markdown",
   "metadata": {},
   "source": [
    "**Aufgabe: Wie viele Werte fehlen im `tweets` Datensatz?**"
   ]
  },
  {
   "cell_type": "code",
   "execution_count": 23,
   "metadata": {},
   "outputs": [
    {
     "data": {
      "application/vnd.jupyter.widget-view+json": {
       "model_id": "af66cb3adc2a4000a7659c04ae46126b",
       "version_major": 2,
       "version_minor": 0
      },
      "text/plain": [
       "Output()"
      ]
     },
     "metadata": {},
     "output_type": "display_data"
    },
    {
     "data": {
      "application/vnd.jupyter.widget-view+json": {
       "model_id": "0307a8ae2a40492282fdebafd1740b1d",
       "version_major": 2,
       "version_minor": 0
      },
      "text/plain": [
       "Output()"
      ]
     },
     "metadata": {},
     "output_type": "display_data"
    },
    {
     "data": {
      "application/vnd.jupyter.widget-view+json": {
       "model_id": "208144ea77ce4fb5903921792b1acefb",
       "version_major": 2,
       "version_minor": 0
      },
      "text/plain": [
       "Output()"
      ]
     },
     "metadata": {},
     "output_type": "display_data"
    }
   ],
   "source": [
    "#hideInput\n",
    "texte_lm.show_task(224)"
   ]
  },
  {
   "cell_type": "code",
   "execution_count": 24,
   "metadata": {},
   "outputs": [
    {
     "data": {
      "text/plain": [
       "103453"
      ]
     },
     "execution_count": 24,
     "metadata": {},
     "output_type": "execute_result"
    }
   ],
   "source": [
    "#solution\n",
    "tweets.isna().sum()"
   ]
  },
  {
   "cell_type": "markdown",
   "metadata": {},
   "source": [
    "Da fehlende Werte von den folgenden Schritten nicht verarbeitet werden können, entfernen wir sie wie folgt:"
   ]
  },
  {
   "cell_type": "code",
   "execution_count": 25,
   "metadata": {},
   "outputs": [],
   "source": [
    "tweets.dropna(inplace=True)"
   ]
  },
  {
   "cell_type": "markdown",
   "metadata": {},
   "source": [
    "Der Übersicht halber fügen wir ein frei erfundenes Beispiel an, um die folgenden Verarbeitungsschritte besser nachvollziehen zu können.\n",
    "\n",
    "> ⚠️ Dieser Tweet enthält viele unnütze Zeichen 😟 die wir lieber verwerfen.\n",
    "> \n",
    "> Das wurde uns von @user unter https://example.org verraten #danke\n",
    "\n",
    "Diesen ausgedachten Tweet fügen wir wie folgt an unsere Daten an:"
   ]
  },
  {
   "cell_type": "code",
   "execution_count": 26,
   "metadata": {},
   "outputs": [],
   "source": [
    "example = '⚠️ Dieser Tweet enthält viele unnütze Zeichen 😟 die wir lieber verwerfen. \\n Das wurde uns von @user unter https://example.org verraten! #danke'\n",
    "tweets = tweets.append(pd.Series(example), ignore_index=True)"
   ]
  },
  {
   "cell_type": "markdown",
   "metadata": {},
   "source": [
    "Das war's auch schon mit der Erkundung der Daten. Bis jetzt haben wir lediglich fehlende Beispiele verworfen, nicht aber vorhandene Beispiele verändert. Bevor das passiert, behalten wir lieber eine Kopie der Daten, auf die wir im späteren Verlauf des Lernmoduls noch zurückgreifen werden."
   ]
  },
  {
   "cell_type": "code",
   "execution_count": 27,
   "metadata": {},
   "outputs": [],
   "source": [
    "tweets_copy = tweets.copy()"
   ]
  },
  {
   "cell_type": "markdown",
   "metadata": {},
   "source": [
    "**Aufgabe: Wozu kann eine solche Kopie gut sein?**"
   ]
  },
  {
   "cell_type": "code",
   "execution_count": 28,
   "metadata": {},
   "outputs": [
    {
     "data": {
      "application/vnd.jupyter.widget-view+json": {
       "model_id": "fa7aacda31f34e13a811f1d3be611c03",
       "version_major": 2,
       "version_minor": 0
      },
      "text/plain": [
       "Output()"
      ]
     },
     "metadata": {},
     "output_type": "display_data"
    },
    {
     "data": {
      "application/vnd.jupyter.widget-view+json": {
       "model_id": "8a5f461e1db0496a94eb79cf2ab1b657",
       "version_major": 2,
       "version_minor": 0
      },
      "text/plain": [
       "Output()"
      ]
     },
     "metadata": {},
     "output_type": "display_data"
    },
    {
     "data": {
      "application/vnd.jupyter.widget-view+json": {
       "model_id": "eee60c4fc906467aa6c5f677f96f4635",
       "version_major": 2,
       "version_minor": 0
      },
      "text/plain": [
       "Output()"
      ]
     },
     "metadata": {},
     "output_type": "display_data"
    }
   ],
   "source": [
    "#hideInput\n",
    "texte_lm.show_task(225)"
   ]
  },
  {
   "cell_type": "markdown",
   "metadata": {},
   "source": [
    "### 2.3 Textdaten aufbereiten"
   ]
  },
  {
   "cell_type": "markdown",
   "metadata": {},
   "source": [
    "Innerhalb der Datenaufbereitung werden wir jeden Tweet anhand seiner Bestandteile (Zeichen, Wörter, Länge) verarbeiten. Exemplarische Verarbeitungsschritte wurden bereits zu [Anfang](#2.-Daten) dieses Kapitels betrachtet. Aber schauen wir uns erst einmal das eben angefügte Beispiel an."
   ]
  },
  {
   "cell_type": "markdown",
   "metadata": {},
   "source": [
    "**Aufgabe: Mit welchem Befehl kommen wir zum letzten Tweet im `tweets` Datensatz?**"
   ]
  },
  {
   "cell_type": "code",
   "execution_count": 29,
   "metadata": {},
   "outputs": [
    {
     "data": {
      "application/vnd.jupyter.widget-view+json": {
       "model_id": "304fad7e884445148d6fc6c760a4a852",
       "version_major": 2,
       "version_minor": 0
      },
      "text/plain": [
       "Output()"
      ]
     },
     "metadata": {},
     "output_type": "display_data"
    },
    {
     "data": {
      "application/vnd.jupyter.widget-view+json": {
       "model_id": "a9eade71967a4496aadbb28c9a3ea3e4",
       "version_major": 2,
       "version_minor": 0
      },
      "text/plain": [
       "Output()"
      ]
     },
     "metadata": {},
     "output_type": "display_data"
    },
    {
     "data": {
      "application/vnd.jupyter.widget-view+json": {
       "model_id": "8187e782e7754337acdb8eeeefe836ba",
       "version_major": 2,
       "version_minor": 0
      },
      "text/plain": [
       "Output()"
      ]
     },
     "metadata": {},
     "output_type": "display_data"
    }
   ],
   "source": [
    "#hideInput\n",
    "texte_lm.show_task(231)"
   ]
  },
  {
   "cell_type": "code",
   "execution_count": 30,
   "metadata": {},
   "outputs": [
    {
     "data": {
      "text/plain": [
       "'⚠️ Dieser Tweet enthält viele unnütze Zeichen 😟 die wir lieber verwerfen. \\n Das wurde uns von @user unter https://example.org verraten! #danke'"
      ]
     },
     "execution_count": 30,
     "metadata": {},
     "output_type": "execute_result"
    }
   ],
   "source": [
    "#solution\n",
    "tweets.iloc[-1]"
   ]
  },
  {
   "cell_type": "markdown",
   "metadata": {},
   "source": [
    "Leider enthält unser ausgedachter Tweet allerhand Elemente, die wir gesondert behandeln müssen..."
   ]
  },
  {
   "cell_type": "markdown",
   "metadata": {},
   "source": [
    "#### 2.3.1 Zeichen bereinigen"
   ]
  },
  {
   "cell_type": "markdown",
   "metadata": {},
   "source": [
    "**Aufgabe: Welche Elemente befinden sich letzten Tweet, die wir verarbeiten müssen?**"
   ]
  },
  {
   "cell_type": "code",
   "execution_count": 31,
   "metadata": {},
   "outputs": [
    {
     "data": {
      "application/vnd.jupyter.widget-view+json": {
       "model_id": "90ade9eedf874adeaa3e36cfdfd5b694",
       "version_major": 2,
       "version_minor": 0
      },
      "text/plain": [
       "Output()"
      ]
     },
     "metadata": {},
     "output_type": "display_data"
    },
    {
     "data": {
      "application/vnd.jupyter.widget-view+json": {
       "model_id": "f241cca5c63544dabafd8334588a432b",
       "version_major": 2,
       "version_minor": 0
      },
      "text/plain": [
       "Output()"
      ]
     },
     "metadata": {},
     "output_type": "display_data"
    },
    {
     "data": {
      "application/vnd.jupyter.widget-view+json": {
       "model_id": "507905c7ed0746dba47f43d8341ff713",
       "version_major": 2,
       "version_minor": 0
      },
      "text/plain": [
       "Output()"
      ]
     },
     "metadata": {},
     "output_type": "display_data"
    }
   ],
   "source": [
    "#hideInput\n",
    "texte_lm.show_task(232)"
   ]
  },
  {
   "cell_type": "markdown",
   "metadata": {},
   "source": [
    "Fangen wir mit den Emojis an. Diese werden über die `process_emojis()` Funktion wie folgt verarbeitet:"
   ]
  },
  {
   "cell_type": "code",
   "execution_count": 32,
   "metadata": {},
   "outputs": [],
   "source": [
    "tweets = df.process_emojis(tweets)"
   ]
  },
  {
   "cell_type": "markdown",
   "metadata": {},
   "source": [
    "**Aufgabe: Die `process_emojis()` Funktion kümmert sich um ausgewählte Emojis. Was passiert mit ihnen?**"
   ]
  },
  {
   "cell_type": "code",
   "execution_count": 33,
   "metadata": {},
   "outputs": [
    {
     "data": {
      "application/vnd.jupyter.widget-view+json": {
       "model_id": "239d3f5027444af2bd46c7b3efa58748",
       "version_major": 2,
       "version_minor": 0
      },
      "text/plain": [
       "Output()"
      ]
     },
     "metadata": {},
     "output_type": "display_data"
    },
    {
     "data": {
      "application/vnd.jupyter.widget-view+json": {
       "model_id": "3b504434176f4bbfbeeb40889b5eb3cf",
       "version_major": 2,
       "version_minor": 0
      },
      "text/plain": [
       "Output()"
      ]
     },
     "metadata": {},
     "output_type": "display_data"
    },
    {
     "data": {
      "application/vnd.jupyter.widget-view+json": {
       "model_id": "77a50055a9d648bfb7f749efb054b032",
       "version_major": 2,
       "version_minor": 0
      },
      "text/plain": [
       "Output()"
      ]
     },
     "metadata": {},
     "output_type": "display_data"
    }
   ],
   "source": [
    "#hideInput\n",
    "texte_lm.show_task(233)"
   ]
  },
  {
   "cell_type": "code",
   "execution_count": 34,
   "metadata": {},
   "outputs": [
    {
     "data": {
      "text/plain": [
       "'⚠️ Dieser Tweet enthält viele unnütze Zeichen schlecht die wir lieber verwerfen. \\n Das wurde uns von @user unter https://example.org verraten! #danke'"
      ]
     },
     "execution_count": 34,
     "metadata": {},
     "output_type": "execute_result"
    }
   ],
   "source": [
    "#solution\n",
    "tweets.iloc[-1]"
   ]
  },
  {
   "cell_type": "markdown",
   "metadata": {},
   "source": [
    "Nun können wir spezielle Zeichenketten, wie die URL _https://example.org_ verarbeiten. Zusätzlich werden über die `process_strings()` Funktion Sonderzeichen wie _@_ und _\\t_ wie folgt behandelt:"
   ]
  },
  {
   "cell_type": "code",
   "execution_count": 35,
   "metadata": {},
   "outputs": [],
   "source": [
    "tweets = df.process_strings(tweets)"
   ]
  },
  {
   "cell_type": "markdown",
   "metadata": {},
   "source": [
    "**Aufgabe: Die `process_strings()` Funktion kümmert sich um spezielle Zeichenketten. Was passiert mit ihnen?**"
   ]
  },
  {
   "cell_type": "code",
   "execution_count": 36,
   "metadata": {},
   "outputs": [
    {
     "data": {
      "application/vnd.jupyter.widget-view+json": {
       "model_id": "2bf92fb7b90a49be990e0f3dcf30455b",
       "version_major": 2,
       "version_minor": 0
      },
      "text/plain": [
       "Output()"
      ]
     },
     "metadata": {},
     "output_type": "display_data"
    },
    {
     "data": {
      "application/vnd.jupyter.widget-view+json": {
       "model_id": "fd72f86a0d64475fbd997e253dbbb519",
       "version_major": 2,
       "version_minor": 0
      },
      "text/plain": [
       "Output()"
      ]
     },
     "metadata": {},
     "output_type": "display_data"
    },
    {
     "data": {
      "application/vnd.jupyter.widget-view+json": {
       "model_id": "5b1dc300304b4f90a79213debeab2479",
       "version_major": 2,
       "version_minor": 0
      },
      "text/plain": [
       "Output()"
      ]
     },
     "metadata": {},
     "output_type": "display_data"
    }
   ],
   "source": [
    "#hideInput\n",
    "texte_lm.show_task(234)"
   ]
  },
  {
   "cell_type": "code",
   "execution_count": 37,
   "metadata": {},
   "outputs": [
    {
     "data": {
      "text/plain": [
       "'⚠️ Dieser Tweet enthält viele unnütze Zeichen schlecht die wir lieber verwerfen.  Das wurde uns von  unter  verraten! #danke'"
      ]
     },
     "execution_count": 37,
     "metadata": {},
     "output_type": "execute_result"
    }
   ],
   "source": [
    "#solution\n",
    "tweets.iloc[-1]"
   ]
  },
  {
   "cell_type": "markdown",
   "metadata": {},
   "source": [
    "Als letztes kümmern wir uns um verbleibende Symbole, wie Satzzeichen, über die `process_symbols()` Funktion wie folgt:"
   ]
  },
  {
   "cell_type": "code",
   "execution_count": 38,
   "metadata": {},
   "outputs": [],
   "source": [
    "tweets = df.process_symbols(tweets)"
   ]
  },
  {
   "cell_type": "markdown",
   "metadata": {},
   "source": [
    "**Aufgabe: Die `process_symbols()` Funktion kümmert sich generell um Sonderzeichen. Was passiert mit ihnen?**"
   ]
  },
  {
   "cell_type": "code",
   "execution_count": 39,
   "metadata": {},
   "outputs": [
    {
     "data": {
      "application/vnd.jupyter.widget-view+json": {
       "model_id": "6a137be6b92b47028fe8f54969833846",
       "version_major": 2,
       "version_minor": 0
      },
      "text/plain": [
       "Output()"
      ]
     },
     "metadata": {},
     "output_type": "display_data"
    },
    {
     "data": {
      "application/vnd.jupyter.widget-view+json": {
       "model_id": "0ad5d76980b7442ca56f54cfe8ed797b",
       "version_major": 2,
       "version_minor": 0
      },
      "text/plain": [
       "Output()"
      ]
     },
     "metadata": {},
     "output_type": "display_data"
    },
    {
     "data": {
      "application/vnd.jupyter.widget-view+json": {
       "model_id": "c8514e700f0e4978af69e7a8c601439a",
       "version_major": 2,
       "version_minor": 0
      },
      "text/plain": [
       "Output()"
      ]
     },
     "metadata": {},
     "output_type": "display_data"
    }
   ],
   "source": [
    "#hideInput\n",
    "texte_lm.show_task(235)"
   ]
  },
  {
   "cell_type": "code",
   "execution_count": 40,
   "metadata": {},
   "outputs": [
    {
     "data": {
      "text/plain": [
       "' Dieser Tweet enthält viele unnütze Zeichen schlecht die wir lieber verwerfen  Das wurde uns von  unter  verraten danke'"
      ]
     },
     "execution_count": 40,
     "metadata": {},
     "output_type": "execute_result"
    }
   ],
   "source": [
    "#solution\n",
    "tweets.iloc[-1]"
   ]
  },
  {
   "cell_type": "markdown",
   "metadata": {},
   "source": [
    "#### 2.3.2 Wörter bereinigen"
   ]
  },
  {
   "cell_type": "markdown",
   "metadata": {},
   "source": [
    "Nach der Bereinigung im vorherigen Abschnitt bleiben in der Theorie lediglich ganze Wörter übrig. Jetzt können wir jeden Tweet in seine Bestandteile zerlegen. Dieser Schritt geht mit der Funktionsweise eines [Tokenizer](https://de.wikipedia.org/wiki/Tokenizer) einher, welcher lediglich den kompletten Tweet in einzelne Token, also Wörter, aufteilt. Diese lassen sich besser verarbeiten, als ein ganzer Satz.\n",
    "\n",
    "Die Zerteilung der Zeichenkette anhand des Leerzeichens bringt uns eine Liste von Wörtern innerhalb eines Tweets. Dabei werden alle Wörter wie folgt in Kleinschreibung abgebildet:"
   ]
  },
  {
   "cell_type": "code",
   "execution_count": 41,
   "metadata": {},
   "outputs": [
    {
     "data": {
      "text/plain": [
       "['dieser',\n",
       " 'tweet',\n",
       " 'enthält',\n",
       " 'viele',\n",
       " 'unnütze',\n",
       " 'zeichen',\n",
       " 'schlecht',\n",
       " 'die',\n",
       " 'wir',\n",
       " 'lieber',\n",
       " 'verwerfen',\n",
       " 'das',\n",
       " 'wurde',\n",
       " 'uns',\n",
       " 'von',\n",
       " 'unter',\n",
       " 'verraten',\n",
       " 'danke']"
      ]
     },
     "execution_count": 41,
     "metadata": {},
     "output_type": "execute_result"
    }
   ],
   "source": [
    "tweets = tweets.str.lower().str.split()\n",
    "tweets.iloc[-1]"
   ]
  },
  {
   "cell_type": "markdown",
   "metadata": {},
   "source": [
    "Jetzt besteht jeder Tweet nicht mehr nur aus einer Zeichenkette, sondern aus ganz vielen Wörtern. Aus Analysegründen fassen wir alle Wörter zu einer großen Sammlung zusammen, was die `aggregate_words()` Funktion wie folgt umsetzt:"
   ]
  },
  {
   "cell_type": "code",
   "execution_count": 42,
   "metadata": {},
   "outputs": [],
   "source": [
    "def aggregate_words(tweets):\n",
    "    \"\"\"Aggregate words from tweets\"\"\"\n",
    "    \n",
    "    all_words = []\n",
    "    for sentence in tweets:\n",
    "        for word in sentence:\n",
    "            all_words.append(word)\n",
    "            \n",
    "    return all_words"
   ]
  },
  {
   "cell_type": "code",
   "execution_count": 43,
   "metadata": {},
   "outputs": [],
   "source": [
    "all_words = aggregate_words(tweets)"
   ]
  },
  {
   "cell_type": "markdown",
   "metadata": {},
   "source": [
    "**Aufgabe: Eine Sammlung aller Wörter findet sich in der `all_words` Liste. Wie viele verschiedene Wörter sind getweetet worden?**"
   ]
  },
  {
   "cell_type": "code",
   "execution_count": 44,
   "metadata": {},
   "outputs": [
    {
     "data": {
      "application/vnd.jupyter.widget-view+json": {
       "model_id": "d56c7e9a4b9d4193aff8d2b7868cbf50",
       "version_major": 2,
       "version_minor": 0
      },
      "text/plain": [
       "Output()"
      ]
     },
     "metadata": {},
     "output_type": "display_data"
    },
    {
     "data": {
      "application/vnd.jupyter.widget-view+json": {
       "model_id": "c5efc856442f4dc5b1bd617f2dd2c9b9",
       "version_major": 2,
       "version_minor": 0
      },
      "text/plain": [
       "Output()"
      ]
     },
     "metadata": {},
     "output_type": "display_data"
    },
    {
     "data": {
      "application/vnd.jupyter.widget-view+json": {
       "model_id": "0130a762230c44d391a8c35a0da1c051",
       "version_major": 2,
       "version_minor": 0
      },
      "text/plain": [
       "Output()"
      ]
     },
     "metadata": {},
     "output_type": "display_data"
    }
   ],
   "source": [
    "#hideInput\n",
    "texte_lm.show_task(236)"
   ]
  },
  {
   "cell_type": "code",
   "execution_count": 45,
   "metadata": {},
   "outputs": [
    {
     "data": {
      "text/plain": [
       "234030"
      ]
     },
     "execution_count": 45,
     "metadata": {},
     "output_type": "execute_result"
    }
   ],
   "source": [
    "#solution\n",
    "len(pd.Series(all_words).unique())"
   ]
  },
  {
   "cell_type": "markdown",
   "metadata": {},
   "source": [
    "Nachdem wir alle Wörter gesammelt haben, interessieren uns die beliebtesten Wörter der Tweeter. An dieser Stelle greifen wir auf das Natural Language Toolkit ([NLTK](https://www.nltk.org/)) zurück, welches eine Häufigkeitsverteilung einer Liste über die `FreqDist()` Funktion wie folgt erstellt:"
   ]
  },
  {
   "cell_type": "code",
   "execution_count": 46,
   "metadata": {},
   "outputs": [],
   "source": [
    "from nltk.probability import FreqDist\n",
    "fd = FreqDist(all_words)"
   ]
  },
  {
   "cell_type": "markdown",
   "metadata": {},
   "source": [
    "**Aufgabe: Die `fd` Verteilung basiert auf allen getweeteten Wörtern. Wie lauten die drei häufigsten Wörter?**"
   ]
  },
  {
   "cell_type": "code",
   "execution_count": 47,
   "metadata": {},
   "outputs": [
    {
     "data": {
      "application/vnd.jupyter.widget-view+json": {
       "model_id": "8cee7fe42b16415e8c841223ac01b737",
       "version_major": 2,
       "version_minor": 0
      },
      "text/plain": [
       "Output()"
      ]
     },
     "metadata": {},
     "output_type": "display_data"
    },
    {
     "data": {
      "application/vnd.jupyter.widget-view+json": {
       "model_id": "2b4a458e8e8d45fa9322d3f5ce6de37e",
       "version_major": 2,
       "version_minor": 0
      },
      "text/plain": [
       "Output()"
      ]
     },
     "metadata": {},
     "output_type": "display_data"
    },
    {
     "data": {
      "application/vnd.jupyter.widget-view+json": {
       "model_id": "59eee0839779477a88e95b40add7db98",
       "version_major": 2,
       "version_minor": 0
      },
      "text/plain": [
       "Output()"
      ]
     },
     "metadata": {},
     "output_type": "display_data"
    }
   ],
   "source": [
    "#hideInput\n",
    "texte_lm.show_task(237)"
   ]
  },
  {
   "cell_type": "code",
   "execution_count": 48,
   "metadata": {},
   "outputs": [
    {
     "data": {
      "text/plain": [
       "[('die', 62102), ('und', 53780), ('der', 45439)]"
      ]
     },
     "execution_count": 48,
     "metadata": {},
     "output_type": "execute_result"
    }
   ],
   "source": [
    "#solution\n",
    "fd.most_common(3)"
   ]
  },
  {
   "cell_type": "markdown",
   "metadata": {},
   "source": [
    "Es ist nicht überraschend, dass sich Artikel, Pronomen oder Konjunktionen als die am häufigsten verwendeten Wörter entpuppen. Schauen wir uns zusätzlich die Häufigkeitsverteilung der 25 beliebtesten Wörter an."
   ]
  },
  {
   "cell_type": "code",
   "execution_count": 49,
   "metadata": {},
   "outputs": [
    {
     "data": {
      "image/png": "[encoded data removed]",
      "text/plain": [
       "<Figure size 432x288 with 1 Axes>"
      ]
     },
     "metadata": {
      "needs_background": "light"
     },
     "output_type": "display_data"
    },
    {
     "data": {
      "text/plain": [
       "<matplotlib.axes._subplots.AxesSubplot at 0x26725535eb8>"
      ]
     },
     "execution_count": 49,
     "metadata": {},
     "output_type": "execute_result"
    }
   ],
   "source": [
    "fd.plot(25)"
   ]
  },
  {
   "cell_type": "markdown",
   "metadata": {},
   "source": [
    "Auch hier scheinen Artikel, Pronomen und Konjunktionen stark vertreten zu sein. Das bringt uns zu der Frage, welche Stimmung diese Wörter eigentlich vertreten?\n",
    "\n",
    "Solche Wörter, werden im Kontext des _NLP_ als Stoppwörter bezeichnet, da sie keine Wertung implizieren, wie es bspw. ein Adjektiv, wie _gut_ oder _schlecht_ tun würde. Stoppwörter lassen sich daher ähnlich wie das Rauschen aus einer Nachricht (hier: Tweet) entfernen, ohne dass die Information (hier: Stimmung) dieser Nachricht verloren geht.\n",
    "\n",
    "Wir werden also im folgenden Schritt alle Stoppwörter entfernen. Um sie zu identifizieren, importieren wir sie über die `load_stop_words()` Funktion in eine Liste `stop_words` wie folgt:"
   ]
  },
  {
   "cell_type": "code",
   "execution_count": 50,
   "metadata": {},
   "outputs": [
    {
     "data": {
      "text/plain": [
       "array(['der', 'die', 'das', 'ein', 'eine', 'einer', 'einen', 'ich', 'du',\n",
       "       'er', 'sie', 'es', 'wir', 'ihr', 'sie', 'bin', 'bist', 'ist',\n",
       "       'sind', 'seid', 'und', 'oder', 'doch', 'aber', 'an', 'am', 'in',\n",
       "       'von', 'vor'], dtype=object)"
      ]
     },
     "execution_count": 50,
     "metadata": {},
     "output_type": "execute_result"
    }
   ],
   "source": [
    "stop_words = df.load_stop_words()\n",
    "stop_words.Wort.values"
   ]
  },
  {
   "cell_type": "markdown",
   "metadata": {},
   "source": [
    "Hätte man lediglich die meist genutzten Wörter aus der Häufigkeitsverteilung oben genommen, wäre man Gefahr gelaufen, relevante Wörter, wie _schön_, ebenfalls zu entfernen.\n",
    "\n",
    "Bevor wir alle Stoppwörter aus den Tweets entfernen, fragen wir uns erst einmal, wie viel Prozent unseres Datensatzes wir dadurch verlieren würden? Dies lässt sich über die `content_loss()` Funktion wie folgt berechnen:"
   ]
  },
  {
   "cell_type": "code",
   "execution_count": 51,
   "metadata": {},
   "outputs": [],
   "source": [
    "def content_loss(text): # Execution time too long\n",
    "    stop_words_list = stop_words['Wort'].values.tolist()\n",
    "    content = [word for word in text if word not in stop_words_list]\n",
    "    return 1.0 - len(content) / len(text)"
   ]
  },
  {
   "cell_type": "code",
   "execution_count": 52,
   "metadata": {},
   "outputs": [
    {
     "data": {
      "text/plain": [
       "0.18122912093200094"
      ]
     },
     "execution_count": 52,
     "metadata": {},
     "output_type": "execute_result"
    }
   ],
   "source": [
    "content_loss(all_words)"
   ]
  },
  {
   "cell_type": "markdown",
   "metadata": {},
   "source": [
    "Um die Stoppwörter endgültig aus unseren Tweets zu entfernen, werfen wir die `filter_tokens()` Funktion wie folgt an."
   ]
  },
  {
   "cell_type": "code",
   "execution_count": 53,
   "metadata": {},
   "outputs": [],
   "source": [
    "def filter_tokens(tweets):\n",
    "    \"\"\"Filter tokens in tweets\"\"\"\n",
    "    \n",
    "    row_list = []\n",
    "    stop_words_list = stop_words['Wort'].values.tolist()  \n",
    "    for row in tweets:\n",
    "        \n",
    "        token_list = []\n",
    "        for token in row:\n",
    "            \n",
    "            if token not in stop_words_list:\n",
    "                if len(token) > 1:\n",
    "                    token_list.append(token)\n",
    "                    \n",
    "        row_list.append(token_list)\n",
    "    \n",
    "    return pd.Series(row_list)"
   ]
  },
  {
   "cell_type": "code",
   "execution_count": 54,
   "metadata": {},
   "outputs": [
    {
     "data": {
      "text/plain": [
       "0    [venezuela, deutschland, während, ncovc, nk, i...\n",
       "1    [assad, putin, wollen, erdoan, lektion, erteil...\n",
       "2    [hoff, dinger, kann, amol, fahren, können, meh...\n",
       "3    [trotz, aussichtsloser, lage, wehrmacht, ergeb...\n",
       "4             [mein, kommentar, zur, causa, hopp, für]\n",
       "dtype: object"
      ]
     },
     "execution_count": 54,
     "metadata": {},
     "output_type": "execute_result"
    }
   ],
   "source": [
    "tweets = filter_tokens(tweets)\n",
    "tweets.head()"
   ]
  },
  {
   "cell_type": "markdown",
   "metadata": {},
   "source": [
    "Damit ist unsere Sammlung von Wörter nicht mehr aktuell. Der Einfachheit halber sammeln wir sie erneut über die `aggregate_words()` Funktion."
   ]
  },
  {
   "cell_type": "code",
   "execution_count": 55,
   "metadata": {},
   "outputs": [],
   "source": [
    "all_words = aggregate_words(tweets)"
   ]
  },
  {
   "cell_type": "markdown",
   "metadata": {},
   "source": [
    "Nun können wir eine Aussage darüber treffen, welche Wörter mit Ausnahme der Stoppwörter am häufigsten benutzt werden? Dazu ließe sich wiederum die `FreqDist()` Funktion nutzen. \n",
    "\n",
    "Alternativ zur bereits bekannten Häufigkeitsverteilung lassen sich im Kontext des _NLP_ sog. Schlagwortwolken erstellen. An dieser Stelle greifen wir auf die [WordCloud](https://amueller.github.io/word_cloud/) Bibliothek und speziell auf ihre `WordCloud()` Funktion wie folgt zurück:"
   ]
  },
  {
   "cell_type": "code",
   "execution_count": 56,
   "metadata": {},
   "outputs": [],
   "source": [
    "from wordcloud import WordCloud\n",
    "wc = WordCloud()"
   ]
  },
  {
   "cell_type": "markdown",
   "metadata": {},
   "source": [
    "Wie sehen nun die häufigsten Wörter aus?"
   ]
  },
  {
   "cell_type": "code",
   "execution_count": 57,
   "metadata": {},
   "outputs": [
    {
     "data": {
      "image/png": "[encoded data removed]",
      "text/plain": [
       "<Figure size 432x288 with 1 Axes>"
      ]
     },
     "metadata": {
      "needs_background": "light"
     },
     "output_type": "display_data"
    }
   ],
   "source": [
    "most_common_words = wc.generate_from_frequencies(FreqDist(all_words))\n",
    "vf.plot_image(most_common_words, 'Die häufigsten Wörter')"
   ]
  },
  {
   "cell_type": "markdown",
   "metadata": {},
   "source": [
    "#### 2.3.3 Tweets bereinigen"
   ]
  },
  {
   "cell_type": "markdown",
   "metadata": {},
   "source": [
    "Da uns der vergangene Abschnitt einige Wörter gekostet hat, wollen wir nun verbliebenen Wörter pro Tweet zählen. Ein Tweet, der nur noch wenigene Wörter besitzt, ist womöglich keine gute Datenquelle. Da Twitter kein Zeichenminimum setzt, kann unser Datensatz auch Tweets enthalten, die wenig bis gar keinen Inhalt repräsentieren. Um solche Tweets zu identifizieren berechnen wir die Wortlänge aller Tweets wie folgt:"
   ]
  },
  {
   "cell_type": "code",
   "execution_count": 58,
   "metadata": {},
   "outputs": [],
   "source": [
    "tweets_length = [len(tweet) for tweet in tweets]"
   ]
  },
  {
   "cell_type": "markdown",
   "metadata": {},
   "source": [
    "**Aufgabe: Die `tweets_length` Liste enthält die Wortlänge aller Tweets. Wie viele Wörter besitzt der kürzeste Tweet?**"
   ]
  },
  {
   "cell_type": "code",
   "execution_count": 59,
   "metadata": {},
   "outputs": [
    {
     "data": {
      "application/vnd.jupyter.widget-view+json": {
       "model_id": "d77bd6cd599043a2bc92b37f2972d17a",
       "version_major": 2,
       "version_minor": 0
      },
      "text/plain": [
       "Output()"
      ]
     },
     "metadata": {},
     "output_type": "display_data"
    },
    {
     "data": {
      "application/vnd.jupyter.widget-view+json": {
       "model_id": "c62c47b2e5b14c1cbc4d856344c79d9d",
       "version_major": 2,
       "version_minor": 0
      },
      "text/plain": [
       "Output()"
      ]
     },
     "metadata": {},
     "output_type": "display_data"
    },
    {
     "data": {
      "application/vnd.jupyter.widget-view+json": {
       "model_id": "4591c6809588498cb8ad2c88baead361",
       "version_major": 2,
       "version_minor": 0
      },
      "text/plain": [
       "Output()"
      ]
     },
     "metadata": {},
     "output_type": "display_data"
    }
   ],
   "source": [
    "#hideInput\n",
    "texte_lm.show_task(238)"
   ]
  },
  {
   "cell_type": "code",
   "execution_count": 60,
   "metadata": {},
   "outputs": [
    {
     "data": {
      "text/plain": [
       "0"
      ]
     },
     "execution_count": 60,
     "metadata": {},
     "output_type": "execute_result"
    }
   ],
   "source": [
    "#solution\n",
    "min(tweets_length)"
   ]
  },
  {
   "cell_type": "markdown",
   "metadata": {},
   "source": [
    "Hoffentlich handelt es sich um einen Ausreißer. Das verifizieren wir wiederum mit einer Häufigkeitsverteilung. Dieses Mal aber als einfaches Histogramm über die `plot_tweet_length_distribution()` Funktion:"
   ]
  },
  {
   "cell_type": "code",
   "execution_count": 61,
   "metadata": {},
   "outputs": [
    {
     "data": {
      "image/png": "[encoded data removed]",
      "text/plain": [
       "<Figure size 432x288 with 1 Axes>"
      ]
     },
     "metadata": {
      "needs_background": "light"
     },
     "output_type": "display_data"
    }
   ],
   "source": [
    "vf.plot_tweet_length_distribution(tweets_length)"
   ]
  },
  {
   "cell_type": "markdown",
   "metadata": {},
   "source": [
    "Die meisten Tweets scheinen nach Entfernen der Stoppwörter nur noch wenige Wörter lang zu sein. Wir behalten lediglich Tweets, die mehr als zwei Wörter lang sind:"
   ]
  },
  {
   "cell_type": "code",
   "execution_count": 62,
   "metadata": {},
   "outputs": [],
   "source": [
    "min_words_per_tweet = 2\n",
    "tweets = tweets[tweets.map(len) > min_words_per_tweet]"
   ]
  },
  {
   "cell_type": "markdown",
   "metadata": {},
   "source": [
    "Zeit für ein Status Quo: wie groß sind unsere Verluste nach Bereinigen von Zeichen, Wörtern und zu kurz geratenen Tweets?"
   ]
  },
  {
   "cell_type": "markdown",
   "metadata": {},
   "source": [
    "**Aufgabe: Wie viel Prozent bleiben nach Aufbereitung der Daten im Vergleich zu den ursprünglichen Tweets übrig?**"
   ]
  },
  {
   "cell_type": "code",
   "execution_count": 63,
   "metadata": {},
   "outputs": [
    {
     "data": {
      "application/vnd.jupyter.widget-view+json": {
       "model_id": "e059a9f8b3de4d09b1f9bc3420cb9e54",
       "version_major": 2,
       "version_minor": 0
      },
      "text/plain": [
       "Output()"
      ]
     },
     "metadata": {},
     "output_type": "display_data"
    },
    {
     "data": {
      "application/vnd.jupyter.widget-view+json": {
       "model_id": "60dc2c68a120450bbad3dd16d2fe239f",
       "version_major": 2,
       "version_minor": 0
      },
      "text/plain": [
       "Output()"
      ]
     },
     "metadata": {},
     "output_type": "display_data"
    },
    {
     "data": {
      "application/vnd.jupyter.widget-view+json": {
       "model_id": "98b3160f140440c89543d5cd324291c4",
       "version_major": 2,
       "version_minor": 0
      },
      "text/plain": [
       "Output()"
      ]
     },
     "metadata": {},
     "output_type": "display_data"
    }
   ],
   "source": [
    "#hideInput\n",
    "texte_lm.show_task(239)"
   ]
  },
  {
   "cell_type": "code",
   "execution_count": 64,
   "metadata": {},
   "outputs": [
    {
     "data": {
      "text/plain": [
       "0.8801801055923169"
      ]
     },
     "execution_count": 64,
     "metadata": {},
     "output_type": "execute_result"
    }
   ],
   "source": [
    "#solution\n",
    "tweets.size / tweets_copy.size"
   ]
  },
  {
   "cell_type": "markdown",
   "metadata": {},
   "source": [
    "Mit dem bereinigten Datensatz geht es nun weiter in die Modelldomäne, in der wir uns erstmal um die Überführung der Daten in das Modell kümmern."
   ]
  },
  {
   "cell_type": "markdown",
   "metadata": {},
   "source": [
    "## 3. Modell"
   ]
  },
  {
   "cell_type": "markdown",
   "metadata": {},
   "source": [
    "[Zurück zur Übersicht](#Lernmodul-zur-Verarbeitung-und-Analyse-von-Textdaten)"
   ]
  },
  {
   "cell_type": "markdown",
   "metadata": {},
   "source": [
    "Da aktuelle Daten von Twitter nicht automatisch mit analytischen Metadaten (wie der Stimmung) angereichert werden können, benötigt ihre Analyse einen gewissen Mehraufwand.\n",
    "\n",
    "Überwachtes Lernen auf einem aufbereiteten Datensatz aus bekannter Ein- und Ausgabe ist in unserem Fall erstmal so nicht möglich, da wir es mit aktuellen Daten zu tun haben, die erst aufbereitet werden müssen."
   ]
  },
  {
   "cell_type": "markdown",
   "metadata": {},
   "source": [
    "In der Modelldomäne betten wir die bereinigten Daten zunächst auf Basis eines Vokabulars in ein Modell ein. Das Vokabular dient dabei als Look-up (LUT) für einen Tweet. Welche weiteren Schritte ein Tweet in der Modelldomäne durchläuft, bevor er die letztendlich klassifiziert wird, verrät die folgende Abbildung:\n",
    "\n",
    "![Model](./img/model_flow.png)"
   ]
  },
  {
   "cell_type": "markdown",
   "metadata": {},
   "source": [
    "### 3.1 Textdaten einbetten"
   ]
  },
  {
   "cell_type": "markdown",
   "metadata": {},
   "source": [
    "Da unsere bereinigten Daten weiterhin in symbolischer Form vorliegen, benötigen wir als nächchstes eine Überführung der Daten in eine Form, die von unserem finalen Modell (hier: Klassifikator) verstanden wird. Man spricht in diesem Zusammenhang vom [Embedding](https://en.wikipedia.org/wiki/Word_embedding) der Wörter.\n",
    "\n",
    "Es gibt viele komplizierte Verfahren, um das symbolische Wort auf einen numerischen Wert abzubilden, welche in diesem Lernmodul nicht näher betrachtet werden sollen. In diesem Fall schlagen wir die Wörter einfach in einer Art Vokabular nach, das für jedes Wort einen eigenen Wert besitzt. Wie sieht unser Vokabular nun aus?"
   ]
  },
  {
   "cell_type": "markdown",
   "metadata": {},
   "source": [
    "#### 3.1.1 Vokabular"
   ]
  },
  {
   "cell_type": "markdown",
   "metadata": {},
   "source": [
    "Unser Vokabular wurde über die Universität Leipzig unter der [CC BY-NC-SA 3.0 DE](https://creativecommons.org/licenses/by-nc-sa/3.0/de/) Lizenz veröffentlicht [[2]](#2).\n",
    "\n",
    "Das Vokabular besteht aus negativ bzw. positiv annotierten Wörtern der deutschen Sprache. Die Stimmungslage ist im Intervall von `[-1, 1]` bzw. `['negativ', 'positiv']` begrenzt. Schlagen wir neutrale Wörter, wie _und_ bzw. _oder_ im Vokabular nach, bekommen wir einen Stimmungswert von _0_, also neutral, zurückgegeben. Unser Modell interessiert sich aber lediglich für die zwei Extrema und soll als binärer Klassifikator zwischen negativen und posiven Tweets differenzieren. \n",
    "\n",
    "Wir vergeben die Labels wie folgt:"
   ]
  },
  {
   "cell_type": "code",
   "execution_count": 65,
   "metadata": {},
   "outputs": [],
   "source": [
    "labels = ['negativ', 'positiv']"
   ]
  },
  {
   "cell_type": "markdown",
   "metadata": {},
   "source": [
    "Zunächst holen wir uns die negativen Wörter für das Vokabular wie folgt:"
   ]
  },
  {
   "cell_type": "code",
   "execution_count": 66,
   "metadata": {},
   "outputs": [
    {
     "data": {
      "text/html": [
       "<div>\n",
       "<style scoped>\n",
       "    .dataframe tbody tr th:only-of-type {\n",
       "        vertical-align: middle;\n",
       "    }\n",
       "\n",
       "    .dataframe tbody tr th {\n",
       "        vertical-align: top;\n",
       "    }\n",
       "\n",
       "    .dataframe thead th {\n",
       "        text-align: right;\n",
       "    }\n",
       "</style>\n",
       "<table border=\"1\" class=\"dataframe\">\n",
       "  <thead>\n",
       "    <tr style=\"text-align: right;\">\n",
       "      <th></th>\n",
       "      <th>Wort</th>\n",
       "      <th>Wert</th>\n",
       "      <th>Deklination</th>\n",
       "      <th>Stimmung</th>\n",
       "    </tr>\n",
       "  </thead>\n",
       "  <tbody>\n",
       "    <tr>\n",
       "      <th>0</th>\n",
       "      <td>Abbruch|NN</td>\n",
       "      <td>-0.0048</td>\n",
       "      <td>Abbruches,Abbrüche,Abbruchs,Abbrüchen\\r</td>\n",
       "      <td>negativ</td>\n",
       "    </tr>\n",
       "    <tr>\n",
       "      <th>1</th>\n",
       "      <td>Abdankung|NN</td>\n",
       "      <td>-0.0048</td>\n",
       "      <td>Abdankungen\\r</td>\n",
       "      <td>negativ</td>\n",
       "    </tr>\n",
       "    <tr>\n",
       "      <th>2</th>\n",
       "      <td>Abdämpfung|NN</td>\n",
       "      <td>-0.0048</td>\n",
       "      <td>Abdämpfungen\\r</td>\n",
       "      <td>negativ</td>\n",
       "    </tr>\n",
       "    <tr>\n",
       "      <th>3</th>\n",
       "      <td>Abfall|NN</td>\n",
       "      <td>-0.0048</td>\n",
       "      <td>Abfalles,Abfälle,Abfalls,Abfällen\\r</td>\n",
       "      <td>negativ</td>\n",
       "    </tr>\n",
       "    <tr>\n",
       "      <th>4</th>\n",
       "      <td>Abfuhr|NN</td>\n",
       "      <td>-0.3367</td>\n",
       "      <td>Abfuhren\\r</td>\n",
       "      <td>negativ</td>\n",
       "    </tr>\n",
       "  </tbody>\n",
       "</table>\n",
       "</div>"
      ],
      "text/plain": [
       "            Wort    Wert                              Deklination Stimmung\n",
       "0     Abbruch|NN -0.0048  Abbruches,Abbrüche,Abbruchs,Abbrüchen\\r  negativ\n",
       "1   Abdankung|NN -0.0048                            Abdankungen\\r  negativ\n",
       "2  Abdämpfung|NN -0.0048                           Abdämpfungen\\r  negativ\n",
       "3      Abfall|NN -0.0048      Abfalles,Abfälle,Abfalls,Abfällen\\r  negativ\n",
       "4      Abfuhr|NN -0.3367                               Abfuhren\\r  negativ"
      ]
     },
     "execution_count": 66,
     "metadata": {},
     "output_type": "execute_result"
    }
   ],
   "source": [
    "negative = df.load_vocabulary(labels[0]) # Negative\n",
    "negative.head()"
   ]
  },
  {
   "cell_type": "markdown",
   "metadata": {},
   "source": [
    "Es folgen die positiven Wörter des Vokabulars."
   ]
  },
  {
   "cell_type": "code",
   "execution_count": 67,
   "metadata": {},
   "outputs": [
    {
     "data": {
      "text/html": [
       "<div>\n",
       "<style scoped>\n",
       "    .dataframe tbody tr th:only-of-type {\n",
       "        vertical-align: middle;\n",
       "    }\n",
       "\n",
       "    .dataframe tbody tr th {\n",
       "        vertical-align: top;\n",
       "    }\n",
       "\n",
       "    .dataframe thead th {\n",
       "        text-align: right;\n",
       "    }\n",
       "</style>\n",
       "<table border=\"1\" class=\"dataframe\">\n",
       "  <thead>\n",
       "    <tr style=\"text-align: right;\">\n",
       "      <th></th>\n",
       "      <th>Wort</th>\n",
       "      <th>Wert</th>\n",
       "      <th>Deklination</th>\n",
       "      <th>Stimmung</th>\n",
       "    </tr>\n",
       "  </thead>\n",
       "  <tbody>\n",
       "    <tr>\n",
       "      <th>0</th>\n",
       "      <td>Abschluß|NN</td>\n",
       "      <td>0.004</td>\n",
       "      <td>Abschlüße,Abschlußs,Abschlußes,Abschlüßen\\r</td>\n",
       "      <td>positiv</td>\n",
       "    </tr>\n",
       "    <tr>\n",
       "      <th>1</th>\n",
       "      <td>Abstimmung|NN</td>\n",
       "      <td>0.004</td>\n",
       "      <td>Abstimmungen\\r</td>\n",
       "      <td>positiv</td>\n",
       "    </tr>\n",
       "    <tr>\n",
       "      <th>2</th>\n",
       "      <td>Agilität|NN</td>\n",
       "      <td>0.004</td>\n",
       "      <td>NaN</td>\n",
       "      <td>positiv</td>\n",
       "    </tr>\n",
       "    <tr>\n",
       "      <th>3</th>\n",
       "      <td>Aktivität|NN</td>\n",
       "      <td>0.004</td>\n",
       "      <td>Aktivitäten\\r</td>\n",
       "      <td>positiv</td>\n",
       "    </tr>\n",
       "    <tr>\n",
       "      <th>4</th>\n",
       "      <td>Aktualisierung|NN</td>\n",
       "      <td>0.004</td>\n",
       "      <td>Aktualisierungen\\r</td>\n",
       "      <td>positiv</td>\n",
       "    </tr>\n",
       "  </tbody>\n",
       "</table>\n",
       "</div>"
      ],
      "text/plain": [
       "                Wort   Wert                                  Deklination  \\\n",
       "0        Abschluß|NN  0.004  Abschlüße,Abschlußs,Abschlußes,Abschlüßen\\r   \n",
       "1      Abstimmung|NN  0.004                               Abstimmungen\\r   \n",
       "2        Agilität|NN  0.004                                          NaN   \n",
       "3       Aktivität|NN  0.004                                Aktivitäten\\r   \n",
       "4  Aktualisierung|NN  0.004                           Aktualisierungen\\r   \n",
       "\n",
       "  Stimmung  \n",
       "0  positiv  \n",
       "1  positiv  \n",
       "2  positiv  \n",
       "3  positiv  \n",
       "4  positiv  "
      ]
     },
     "execution_count": 67,
     "metadata": {},
     "output_type": "execute_result"
    }
   ],
   "source": [
    "positive = df.load_vocabulary(labels[1]) # Positive\n",
    "positive.head()"
   ]
  },
  {
   "cell_type": "markdown",
   "metadata": {},
   "source": [
    "Der Spalte _Wort_ scheint der Typ des Wortes angehängt zu sein. Wir führen das negative und das positive Vokabular im DataFrame `vocab` zusammen..."
   ]
  },
  {
   "cell_type": "code",
   "execution_count": 68,
   "metadata": {},
   "outputs": [],
   "source": [
    "vocab = pd.concat([negative, positive])\n",
    "assert positive.size + negative.size == vocab.size\n",
    "del negative, positive"
   ]
  },
  {
   "cell_type": "markdown",
   "metadata": {},
   "source": [
    "...und kümmern uns um ein paar Verschönerungen über die `format_vocab()` Funktion. Dabei werden insbesondere alle Deklinationen in eine eigene Reihe überführt und mit ihrem Stammwort versehen."
   ]
  },
  {
   "cell_type": "code",
   "execution_count": 69,
   "metadata": {},
   "outputs": [
    {
     "data": {
      "text/html": [
       "<div>\n",
       "<style scoped>\n",
       "    .dataframe tbody tr th:only-of-type {\n",
       "        vertical-align: middle;\n",
       "    }\n",
       "\n",
       "    .dataframe tbody tr th {\n",
       "        vertical-align: top;\n",
       "    }\n",
       "\n",
       "    .dataframe thead th {\n",
       "        text-align: right;\n",
       "    }\n",
       "</style>\n",
       "<table border=\"1\" class=\"dataframe\">\n",
       "  <thead>\n",
       "    <tr style=\"text-align: right;\">\n",
       "      <th></th>\n",
       "      <th>Stamm</th>\n",
       "      <th>Wert</th>\n",
       "      <th>Stimmung</th>\n",
       "      <th>Typ</th>\n",
       "      <th>Wort</th>\n",
       "    </tr>\n",
       "  </thead>\n",
       "  <tbody>\n",
       "    <tr>\n",
       "      <th>0</th>\n",
       "      <td>Abbruch</td>\n",
       "      <td>-0.0048</td>\n",
       "      <td>negativ</td>\n",
       "      <td>NN</td>\n",
       "      <td>Abbruch</td>\n",
       "    </tr>\n",
       "    <tr>\n",
       "      <th>1</th>\n",
       "      <td>Abbruch</td>\n",
       "      <td>-0.0048</td>\n",
       "      <td>negativ</td>\n",
       "      <td>NN</td>\n",
       "      <td>Abbruches</td>\n",
       "    </tr>\n",
       "    <tr>\n",
       "      <th>2</th>\n",
       "      <td>Abbruch</td>\n",
       "      <td>-0.0048</td>\n",
       "      <td>negativ</td>\n",
       "      <td>NN</td>\n",
       "      <td>Abbrüche</td>\n",
       "    </tr>\n",
       "    <tr>\n",
       "      <th>3</th>\n",
       "      <td>Abbruch</td>\n",
       "      <td>-0.0048</td>\n",
       "      <td>negativ</td>\n",
       "      <td>NN</td>\n",
       "      <td>Abbruchs</td>\n",
       "    </tr>\n",
       "    <tr>\n",
       "      <th>4</th>\n",
       "      <td>Abbruch</td>\n",
       "      <td>-0.0048</td>\n",
       "      <td>negativ</td>\n",
       "      <td>NN</td>\n",
       "      <td>Abbrüchen</td>\n",
       "    </tr>\n",
       "  </tbody>\n",
       "</table>\n",
       "</div>"
      ],
      "text/plain": [
       "     Stamm    Wert Stimmung Typ       Wort\n",
       "0  Abbruch -0.0048  negativ  NN    Abbruch\n",
       "1  Abbruch -0.0048  negativ  NN  Abbruches\n",
       "2  Abbruch -0.0048  negativ  NN   Abbrüche\n",
       "3  Abbruch -0.0048  negativ  NN   Abbruchs\n",
       "4  Abbruch -0.0048  negativ  NN  Abbrüchen"
      ]
     },
     "execution_count": 69,
     "metadata": {},
     "output_type": "execute_result"
    }
   ],
   "source": [
    "vocab = df.format_vocabulary(vocab)\n",
    "vocab.head()"
   ]
  },
  {
   "cell_type": "markdown",
   "metadata": {},
   "source": [
    "Nun haben wir ein vollständig bereinigtes Vokabular..."
   ]
  },
  {
   "cell_type": "markdown",
   "metadata": {},
   "source": [
    "**Aufgabe: Welche Wort-Typen sind im `vocab` Vokabular vorhanden?**"
   ]
  },
  {
   "cell_type": "code",
   "execution_count": 70,
   "metadata": {},
   "outputs": [
    {
     "data": {
      "application/vnd.jupyter.widget-view+json": {
       "model_id": "6e17e1f8ba1341a28f818726f63ea1fe",
       "version_major": 2,
       "version_minor": 0
      },
      "text/plain": [
       "Output()"
      ]
     },
     "metadata": {},
     "output_type": "display_data"
    },
    {
     "data": {
      "application/vnd.jupyter.widget-view+json": {
       "model_id": "dc54aad9036e4a319527b71eafcbd00e",
       "version_major": 2,
       "version_minor": 0
      },
      "text/plain": [
       "Output()"
      ]
     },
     "metadata": {},
     "output_type": "display_data"
    },
    {
     "data": {
      "application/vnd.jupyter.widget-view+json": {
       "model_id": "5cd298e2696743c080b176dce406601d",
       "version_major": 2,
       "version_minor": 0
      },
      "text/plain": [
       "Output()"
      ]
     },
     "metadata": {},
     "output_type": "display_data"
    }
   ],
   "source": [
    "#hideInput\n",
    "texte_lm.show_task(311)"
   ]
  },
  {
   "cell_type": "code",
   "execution_count": 71,
   "metadata": {},
   "outputs": [
    {
     "data": {
      "text/plain": [
       "array(['NN', 'VVINF', 'ADJX', 'ADV'], dtype=object)"
      ]
     },
     "execution_count": 71,
     "metadata": {},
     "output_type": "execute_result"
    }
   ],
   "source": [
    "#solution\n",
    "vocab['Typ'].unique()"
   ]
  },
  {
   "cell_type": "markdown",
   "metadata": {},
   "source": [
    "Wir visualisieren alle negativen Nomen mithilfe der bereits bekannten Schlagwortwolke:"
   ]
  },
  {
   "cell_type": "code",
   "execution_count": 72,
   "metadata": {},
   "outputs": [
    {
     "data": {
      "image/png": "[encoded data removed]",
      "text/plain": [
       "<Figure size 432x288 with 1 Axes>"
      ]
     },
     "metadata": {
      "needs_background": "light"
     },
     "output_type": "display_data"
    }
   ],
   "source": [
    "neg_nouns = vocab[(vocab['Stimmung'] == 'negativ') & (vocab['Typ'] == 'NN')] # Only negative nouns\n",
    "most_neg_nouns = wc.generate_from_frequencies(pd.Series(neg_nouns.Wert.values * (-100), index=neg_nouns.Wort).to_dict())\n",
    "vf.plot_image(most_neg_nouns, 'Die negativsten Nomen')"
   ]
  },
  {
   "cell_type": "markdown",
   "metadata": {},
   "source": [
    "Analog visualisieren wir alle positiven Adjektive in unserem Vokabular."
   ]
  },
  {
   "cell_type": "code",
   "execution_count": 73,
   "metadata": {},
   "outputs": [
    {
     "data": {
      "image/png": "[encoded data removed]",
      "text/plain": [
       "<Figure size 432x288 with 1 Axes>"
      ]
     },
     "metadata": {
      "needs_background": "light"
     },
     "output_type": "display_data"
    }
   ],
   "source": [
    "pos_adj = vocab[(vocab['Stimmung'] == 'positiv') & (vocab['Typ'] == 'ADJX')] # Only positive adjectives\n",
    "most_pos_adj = wc.generate_from_frequencies(pd.Series(pos_adj.Wert.values * (100), index=pos_adj.Wort).to_dict())\n",
    "vf.plot_image(most_pos_adj, 'Die positivsten Adjektive')"
   ]
  },
  {
   "cell_type": "markdown",
   "metadata": {},
   "source": [
    "**Aufgabe: Fällt das `vocab` Vokabular eher negativ oder eher positiv aus?**"
   ]
  },
  {
   "cell_type": "code",
   "execution_count": 74,
   "metadata": {},
   "outputs": [
    {
     "data": {
      "application/vnd.jupyter.widget-view+json": {
       "model_id": "517b8f7fadb846bd9fff966d52330699",
       "version_major": 2,
       "version_minor": 0
      },
      "text/plain": [
       "Output()"
      ]
     },
     "metadata": {},
     "output_type": "display_data"
    },
    {
     "data": {
      "application/vnd.jupyter.widget-view+json": {
       "model_id": "8f012dbfe76048e6a7eafdceebdbc22f",
       "version_major": 2,
       "version_minor": 0
      },
      "text/plain": [
       "Output()"
      ]
     },
     "metadata": {},
     "output_type": "display_data"
    },
    {
     "data": {
      "application/vnd.jupyter.widget-view+json": {
       "model_id": "d018093e02ff48388091ce635742d710",
       "version_major": 2,
       "version_minor": 0
      },
      "text/plain": [
       "Output()"
      ]
     },
     "metadata": {},
     "output_type": "display_data"
    }
   ],
   "source": [
    "#hideInput\n",
    "texte_lm.show_task(312)"
   ]
  },
  {
   "cell_type": "code",
   "execution_count": 75,
   "metadata": {},
   "outputs": [
    {
     "data": {
      "text/plain": [
       "Wert   -0.04533\n",
       "dtype: float64"
      ]
     },
     "execution_count": 75,
     "metadata": {},
     "output_type": "execute_result"
    }
   ],
   "source": [
    "#solution\n",
    "vocab.mean()"
   ]
  },
  {
   "cell_type": "markdown",
   "metadata": {},
   "source": [
    "Wie bereits für die Tweets halten wir nach fehlenden Werten Ausschau..."
   ]
  },
  {
   "cell_type": "markdown",
   "metadata": {},
   "source": [
    "**Aufgabe: In welcher Spalte des `vocab` Vokabulars fehlen Werte?**"
   ]
  },
  {
   "cell_type": "code",
   "execution_count": 76,
   "metadata": {},
   "outputs": [
    {
     "data": {
      "application/vnd.jupyter.widget-view+json": {
       "model_id": "50bb39ec527c48dc8b285d3003e1d186",
       "version_major": 2,
       "version_minor": 0
      },
      "text/plain": [
       "Output()"
      ]
     },
     "metadata": {},
     "output_type": "display_data"
    },
    {
     "data": {
      "application/vnd.jupyter.widget-view+json": {
       "model_id": "3ebe7401324d4990aefc7d7fc6c9096e",
       "version_major": 2,
       "version_minor": 0
      },
      "text/plain": [
       "Output()"
      ]
     },
     "metadata": {},
     "output_type": "display_data"
    },
    {
     "data": {
      "application/vnd.jupyter.widget-view+json": {
       "model_id": "4c5e6893842842098d37aebfffe21b6b",
       "version_major": 2,
       "version_minor": 0
      },
      "text/plain": [
       "Output()"
      ]
     },
     "metadata": {},
     "output_type": "display_data"
    }
   ],
   "source": [
    "#hideInput\n",
    "texte_lm.show_task(313)"
   ]
  },
  {
   "cell_type": "code",
   "execution_count": 77,
   "metadata": {},
   "outputs": [
    {
     "data": {
      "text/html": [
       "<div>\n",
       "<style scoped>\n",
       "    .dataframe tbody tr th:only-of-type {\n",
       "        vertical-align: middle;\n",
       "    }\n",
       "\n",
       "    .dataframe tbody tr th {\n",
       "        vertical-align: top;\n",
       "    }\n",
       "\n",
       "    .dataframe thead th {\n",
       "        text-align: right;\n",
       "    }\n",
       "</style>\n",
       "<table border=\"1\" class=\"dataframe\">\n",
       "  <thead>\n",
       "    <tr style=\"text-align: right;\">\n",
       "      <th></th>\n",
       "      <th>Stamm</th>\n",
       "      <th>Wert</th>\n",
       "      <th>Stimmung</th>\n",
       "      <th>Typ</th>\n",
       "      <th>Wort</th>\n",
       "    </tr>\n",
       "  </thead>\n",
       "  <tbody>\n",
       "    <tr>\n",
       "      <th>count</th>\n",
       "      <td>31274</td>\n",
       "      <td>31274</td>\n",
       "      <td>31274</td>\n",
       "      <td>31274</td>\n",
       "      <td>31274</td>\n",
       "    </tr>\n",
       "    <tr>\n",
       "      <th>unique</th>\n",
       "      <td>1</td>\n",
       "      <td>1</td>\n",
       "      <td>1</td>\n",
       "      <td>1</td>\n",
       "      <td>2</td>\n",
       "    </tr>\n",
       "    <tr>\n",
       "      <th>top</th>\n",
       "      <td>False</td>\n",
       "      <td>False</td>\n",
       "      <td>False</td>\n",
       "      <td>False</td>\n",
       "      <td>False</td>\n",
       "    </tr>\n",
       "    <tr>\n",
       "      <th>freq</th>\n",
       "      <td>31274</td>\n",
       "      <td>31274</td>\n",
       "      <td>31274</td>\n",
       "      <td>31274</td>\n",
       "      <td>30467</td>\n",
       "    </tr>\n",
       "  </tbody>\n",
       "</table>\n",
       "</div>"
      ],
      "text/plain": [
       "        Stamm   Wert Stimmung    Typ   Wort\n",
       "count   31274  31274    31274  31274  31274\n",
       "unique      1      1        1      1      2\n",
       "top     False  False    False  False  False\n",
       "freq    31274  31274    31274  31274  30467"
      ]
     },
     "execution_count": 77,
     "metadata": {},
     "output_type": "execute_result"
    }
   ],
   "source": [
    "#solution\n",
    "vocab.isna().describe()"
   ]
  },
  {
   "cell_type": "markdown",
   "metadata": {},
   "source": [
    "Anstatt sie zu streichen, werden sie mit einer leeren Zeichenkette ersetzt. Dies verhindert, dass unser Vokabular schrumpft, was wir unbedingt verhindern wollen, da unser Modell auf Basis des Vokabulars erzeugt wird."
   ]
  },
  {
   "cell_type": "code",
   "execution_count": 78,
   "metadata": {},
   "outputs": [],
   "source": [
    "vocab.fillna('', inplace=True)"
   ]
  },
  {
   "cell_type": "markdown",
   "metadata": {},
   "source": [
    "**Aufgabe: Welchen Stimmungswert besitzt das Adjektiv _gut_ im `vocab` Vokabular?**"
   ]
  },
  {
   "cell_type": "code",
   "execution_count": 79,
   "metadata": {},
   "outputs": [
    {
     "data": {
      "application/vnd.jupyter.widget-view+json": {
       "model_id": "e506012675f5438faf0160150c7760f0",
       "version_major": 2,
       "version_minor": 0
      },
      "text/plain": [
       "Output()"
      ]
     },
     "metadata": {},
     "output_type": "display_data"
    },
    {
     "data": {
      "application/vnd.jupyter.widget-view+json": {
       "model_id": "827094be851d4079a81cf04da0a5ef90",
       "version_major": 2,
       "version_minor": 0
      },
      "text/plain": [
       "Output()"
      ]
     },
     "metadata": {},
     "output_type": "display_data"
    },
    {
     "data": {
      "application/vnd.jupyter.widget-view+json": {
       "model_id": "e6d36088a78e44ebbaaf8f9f6a7d4d86",
       "version_major": 2,
       "version_minor": 0
      },
      "text/plain": [
       "Output()"
      ]
     },
     "metadata": {},
     "output_type": "display_data"
    }
   ],
   "source": [
    "#hideInput\n",
    "texte_lm.show_task(314)"
   ]
  },
  {
   "cell_type": "code",
   "execution_count": 80,
   "metadata": {},
   "outputs": [
    {
     "data": {
      "text/html": [
       "<div>\n",
       "<style scoped>\n",
       "    .dataframe tbody tr th:only-of-type {\n",
       "        vertical-align: middle;\n",
       "    }\n",
       "\n",
       "    .dataframe tbody tr th {\n",
       "        vertical-align: top;\n",
       "    }\n",
       "\n",
       "    .dataframe thead th {\n",
       "        text-align: right;\n",
       "    }\n",
       "</style>\n",
       "<table border=\"1\" class=\"dataframe\">\n",
       "  <thead>\n",
       "    <tr style=\"text-align: right;\">\n",
       "      <th></th>\n",
       "      <th>Stamm</th>\n",
       "      <th>Wert</th>\n",
       "      <th>Stimmung</th>\n",
       "      <th>Typ</th>\n",
       "      <th>Wort</th>\n",
       "    </tr>\n",
       "  </thead>\n",
       "  <tbody>\n",
       "    <tr>\n",
       "      <th>13353</th>\n",
       "      <td>gut</td>\n",
       "      <td>0.3716</td>\n",
       "      <td>positiv</td>\n",
       "      <td>ADJX</td>\n",
       "      <td>gut</td>\n",
       "    </tr>\n",
       "  </tbody>\n",
       "</table>\n",
       "</div>"
      ],
      "text/plain": [
       "      Stamm    Wert Stimmung   Typ Wort\n",
       "13353   gut  0.3716  positiv  ADJX  gut"
      ]
     },
     "execution_count": 80,
     "metadata": {},
     "output_type": "execute_result"
    }
   ],
   "source": [
    "#solution\n",
    "vocab.loc[(vocab['Typ'] == 'ADJX') & (vocab['Wort'] == 'gut')]"
   ]
  },
  {
   "cell_type": "markdown",
   "metadata": {},
   "source": [
    "**Aufgabe: Wie lautet das \"schlechteste\", also das am schlechtesten annotierte Wort im `vocab` Vokabular?**"
   ]
  },
  {
   "cell_type": "code",
   "execution_count": 81,
   "metadata": {},
   "outputs": [
    {
     "data": {
      "application/vnd.jupyter.widget-view+json": {
       "model_id": "34a6478af13947fbb011f24aa1cf5bff",
       "version_major": 2,
       "version_minor": 0
      },
      "text/plain": [
       "Output()"
      ]
     },
     "metadata": {},
     "output_type": "display_data"
    },
    {
     "data": {
      "application/vnd.jupyter.widget-view+json": {
       "model_id": "fc7367a6423741e595f26cadaa07ec55",
       "version_major": 2,
       "version_minor": 0
      },
      "text/plain": [
       "Output()"
      ]
     },
     "metadata": {},
     "output_type": "display_data"
    },
    {
     "data": {
      "application/vnd.jupyter.widget-view+json": {
       "model_id": "5f5acffb6ffa4a5b8a1c1b526fecc73f",
       "version_major": 2,
       "version_minor": 0
      },
      "text/plain": [
       "Output()"
      ]
     },
     "metadata": {},
     "output_type": "display_data"
    }
   ],
   "source": [
    "#hideInput\n",
    "texte_lm.show_task(315)"
   ]
  },
  {
   "cell_type": "code",
   "execution_count": 82,
   "metadata": {},
   "outputs": [
    {
     "data": {
      "text/html": [
       "<div>\n",
       "<style scoped>\n",
       "    .dataframe tbody tr th:only-of-type {\n",
       "        vertical-align: middle;\n",
       "    }\n",
       "\n",
       "    .dataframe tbody tr th {\n",
       "        vertical-align: top;\n",
       "    }\n",
       "\n",
       "    .dataframe thead th {\n",
       "        text-align: right;\n",
       "    }\n",
       "</style>\n",
       "<table border=\"1\" class=\"dataframe\">\n",
       "  <thead>\n",
       "    <tr style=\"text-align: right;\">\n",
       "      <th></th>\n",
       "      <th>Stamm</th>\n",
       "      <th>Wert</th>\n",
       "      <th>Stimmung</th>\n",
       "      <th>Typ</th>\n",
       "      <th>Wort</th>\n",
       "    </tr>\n",
       "  </thead>\n",
       "  <tbody>\n",
       "    <tr>\n",
       "      <th>1021</th>\n",
       "      <td>Gefahr</td>\n",
       "      <td>-1.0000</td>\n",
       "      <td>negativ</td>\n",
       "      <td>NN</td>\n",
       "      <td>Gefahr</td>\n",
       "    </tr>\n",
       "    <tr>\n",
       "      <th>1022</th>\n",
       "      <td>Gefahr</td>\n",
       "      <td>-1.0000</td>\n",
       "      <td>negativ</td>\n",
       "      <td>NN</td>\n",
       "      <td>Gefahren</td>\n",
       "    </tr>\n",
       "    <tr>\n",
       "      <th>2017</th>\n",
       "      <td>Schuld</td>\n",
       "      <td>-0.9686</td>\n",
       "      <td>negativ</td>\n",
       "      <td>NN</td>\n",
       "      <td>Schulden</td>\n",
       "    </tr>\n",
       "    <tr>\n",
       "      <th>2016</th>\n",
       "      <td>Schuld</td>\n",
       "      <td>-0.9686</td>\n",
       "      <td>negativ</td>\n",
       "      <td>NN</td>\n",
       "      <td>Schuld</td>\n",
       "    </tr>\n",
       "    <tr>\n",
       "      <th>25825</th>\n",
       "      <td>unnötig</td>\n",
       "      <td>-0.9463</td>\n",
       "      <td>negativ</td>\n",
       "      <td>ADJX</td>\n",
       "      <td>unnötigsten</td>\n",
       "    </tr>\n",
       "    <tr>\n",
       "      <th>25810</th>\n",
       "      <td>unnötig</td>\n",
       "      <td>-0.9463</td>\n",
       "      <td>negativ</td>\n",
       "      <td>ADJX</td>\n",
       "      <td>unnötigstes</td>\n",
       "    </tr>\n",
       "    <tr>\n",
       "      <th>25811</th>\n",
       "      <td>unnötig</td>\n",
       "      <td>-0.9463</td>\n",
       "      <td>negativ</td>\n",
       "      <td>ADJX</td>\n",
       "      <td>unnötigere</td>\n",
       "    </tr>\n",
       "    <tr>\n",
       "      <th>25812</th>\n",
       "      <td>unnötig</td>\n",
       "      <td>-0.9463</td>\n",
       "      <td>negativ</td>\n",
       "      <td>ADJX</td>\n",
       "      <td>unnötige</td>\n",
       "    </tr>\n",
       "    <tr>\n",
       "      <th>25813</th>\n",
       "      <td>unnötig</td>\n",
       "      <td>-0.9463</td>\n",
       "      <td>negativ</td>\n",
       "      <td>ADJX</td>\n",
       "      <td>unnötigeren</td>\n",
       "    </tr>\n",
       "    <tr>\n",
       "      <th>25814</th>\n",
       "      <td>unnötig</td>\n",
       "      <td>-0.9463</td>\n",
       "      <td>negativ</td>\n",
       "      <td>ADJX</td>\n",
       "      <td>unnötigen</td>\n",
       "    </tr>\n",
       "  </tbody>\n",
       "</table>\n",
       "</div>"
      ],
      "text/plain": [
       "         Stamm    Wert Stimmung   Typ         Wort\n",
       "1021    Gefahr -1.0000  negativ    NN       Gefahr\n",
       "1022    Gefahr -1.0000  negativ    NN     Gefahren\n",
       "2017    Schuld -0.9686  negativ    NN     Schulden\n",
       "2016    Schuld -0.9686  negativ    NN       Schuld\n",
       "25825  unnötig -0.9463  negativ  ADJX  unnötigsten\n",
       "25810  unnötig -0.9463  negativ  ADJX  unnötigstes\n",
       "25811  unnötig -0.9463  negativ  ADJX   unnötigere\n",
       "25812  unnötig -0.9463  negativ  ADJX     unnötige\n",
       "25813  unnötig -0.9463  negativ  ADJX  unnötigeren\n",
       "25814  unnötig -0.9463  negativ  ADJX    unnötigen"
      ]
     },
     "execution_count": 82,
     "metadata": {},
     "output_type": "execute_result"
    }
   ],
   "source": [
    "#solution\n",
    "vocab.sort_values('Wert').head(10)"
   ]
  },
  {
   "cell_type": "markdown",
   "metadata": {},
   "source": [
    "Unser Vokabular ist fertig. Als nächstes richten wir den Fokus wieder auf unsere Tweets."
   ]
  },
  {
   "cell_type": "markdown",
   "metadata": {},
   "source": [
    "#### 3.1.2 Vektorisierung"
   ]
  },
  {
   "cell_type": "markdown",
   "metadata": {},
   "source": [
    "Innerhalb der Vektorisierung überführen wir die symbolischen Textbeiträge in numerische Werte. Dies geschieht im Normalfall über Häufigkeitsverteilungen. Je öfter ein Wort im Text vorkommt, desto wichtiger scheint es zu sein, was sich in der Vektorisierung wiederspiegelt.\n",
    "\n",
    "In diesem Fall aber benutzen wir das bekannte Vokabular und überführen jedes einzelne Wort eines Tweets in seinen Stimmungswert. Das Wort _gut_ kriegt dabei den Stimmungswert 0.37 zugewiesen, wie bereits in einer der vorherigen Aufgaben behandelt wurde."
   ]
  },
  {
   "cell_type": "code",
   "execution_count": 83,
   "metadata": {},
   "outputs": [
    {
     "data": {
      "text/plain": [
       "13353    0.3716\n",
       "Name: Wert, dtype: float64"
      ]
     },
     "execution_count": 83,
     "metadata": {},
     "output_type": "execute_result"
    }
   ],
   "source": [
    "vocab.loc[vocab['Wort'] == 'gut'].Wert"
   ]
  },
  {
   "cell_type": "markdown",
   "metadata": {},
   "source": [
    "Für eine performante Vektorisierung benötigen wir einen Look-up-table aus den Schlüssel-/Wertpaaren `{ Wort : Stimmungswert }`."
   ]
  },
  {
   "cell_type": "code",
   "execution_count": 84,
   "metadata": {},
   "outputs": [],
   "source": [
    "lookup = pd.Series(vocab.Wert.values, index=vocab.Wort.str.lower()).to_dict()"
   ]
  },
  {
   "cell_type": "markdown",
   "metadata": {},
   "source": [
    "Die Vektorisierung wird nun über die `vectorize()` Funktion abgeschlossen."
   ]
  },
  {
   "cell_type": "code",
   "execution_count": 85,
   "metadata": {},
   "outputs": [],
   "source": [
    "def vectorize(tweet):\n",
    "    \"\"\"Vectorize tweets based on vocabulary\"\"\"\n",
    "    \n",
    "    return [lookup.get(a) for a in tweet if lookup.get(a)]"
   ]
  },
  {
   "cell_type": "code",
   "execution_count": 86,
   "metadata": {},
   "outputs": [
    {
     "data": {
      "text/html": [
       "<div>\n",
       "<style scoped>\n",
       "    .dataframe tbody tr th:only-of-type {\n",
       "        vertical-align: middle;\n",
       "    }\n",
       "\n",
       "    .dataframe tbody tr th {\n",
       "        vertical-align: top;\n",
       "    }\n",
       "\n",
       "    .dataframe thead th {\n",
       "        text-align: right;\n",
       "    }\n",
       "</style>\n",
       "<table border=\"1\" class=\"dataframe\">\n",
       "  <thead>\n",
       "    <tr style=\"text-align: right;\">\n",
       "      <th></th>\n",
       "      <th>Token</th>\n",
       "      <th>Vector</th>\n",
       "    </tr>\n",
       "  </thead>\n",
       "  <tbody>\n",
       "    <tr>\n",
       "      <th>0</th>\n",
       "      <td>[venezuela, deutschland, während, ncovc, nk, i...</td>\n",
       "      <td>[]</td>\n",
       "    </tr>\n",
       "    <tr>\n",
       "      <th>1</th>\n",
       "      <td>[assad, putin, wollen, erdoan, lektion, erteil...</td>\n",
       "      <td>[-0.0048, -0.0468, -0.0603, -0.1483, -0.0048]</td>\n",
       "    </tr>\n",
       "    <tr>\n",
       "      <th>2</th>\n",
       "      <td>[hoff, dinger, kann, amol, fahren, können, meh...</td>\n",
       "      <td>[0.2318]</td>\n",
       "    </tr>\n",
       "    <tr>\n",
       "      <th>3</th>\n",
       "      <td>[trotz, aussichtsloser, lage, wehrmacht, ergeb...</td>\n",
       "      <td>[-0.0048, -0.183]</td>\n",
       "    </tr>\n",
       "    <tr>\n",
       "      <th>4</th>\n",
       "      <td>[mein, kommentar, zur, causa, hopp, für]</td>\n",
       "      <td>[]</td>\n",
       "    </tr>\n",
       "  </tbody>\n",
       "</table>\n",
       "</div>"
      ],
      "text/plain": [
       "                                               Token  \\\n",
       "0  [venezuela, deutschland, während, ncovc, nk, i...   \n",
       "1  [assad, putin, wollen, erdoan, lektion, erteil...   \n",
       "2  [hoff, dinger, kann, amol, fahren, können, meh...   \n",
       "3  [trotz, aussichtsloser, lage, wehrmacht, ergeb...   \n",
       "4           [mein, kommentar, zur, causa, hopp, für]   \n",
       "\n",
       "                                          Vector  \n",
       "0                                             []  \n",
       "1  [-0.0048, -0.0468, -0.0603, -0.1483, -0.0048]  \n",
       "2                                       [0.2318]  \n",
       "3                              [-0.0048, -0.183]  \n",
       "4                                             []  "
      ]
     },
     "execution_count": 86,
     "metadata": {},
     "output_type": "execute_result"
    }
   ],
   "source": [
    "tweets = tweets.to_frame(name='Token')\n",
    "tweets['Vector'] = tweets['Token'].apply(vectorize)\n",
    "tweets.head()"
   ]
  },
  {
   "cell_type": "markdown",
   "metadata": {},
   "source": [
    "#### 3.1.3 Label"
   ]
  },
  {
   "cell_type": "markdown",
   "metadata": {},
   "source": [
    "Dieser Schritt fügt den Tweets eine Stimmung auf Basis der vektorisierten Tokens hinzu. Dabei summieren wir die jeweiligen Stimmungswerte aller im Tweet enthaltenen Wörter und schauen ob ihre Summe negativ oder positiv ausfällt. \n",
    "\n",
    "Erinnern wir uns zurück an die Stimmungslage im Intervall `['negativ', 'positiv']` annotiert die `get_labels()` Funktion im folgenden jeden Tweet anhand seiner Vektoren."
   ]
  },
  {
   "cell_type": "code",
   "execution_count": 87,
   "metadata": {},
   "outputs": [],
   "source": [
    "def get_labels(tweet):\n",
    "    \"\"\"Label tweets according to vocabulary.\"\"\"\n",
    "    \n",
    "    score = sum(tweet)\n",
    "            \n",
    "    if score > 0.0:\n",
    "        return 'positiv'\n",
    "    elif score < 0.0:\n",
    "        return 'negativ'\n",
    "    else:\n",
    "        return 'neutral'"
   ]
  },
  {
   "cell_type": "code",
   "execution_count": 88,
   "metadata": {},
   "outputs": [
    {
     "data": {
      "text/html": [
       "<div>\n",
       "<style scoped>\n",
       "    .dataframe tbody tr th:only-of-type {\n",
       "        vertical-align: middle;\n",
       "    }\n",
       "\n",
       "    .dataframe tbody tr th {\n",
       "        vertical-align: top;\n",
       "    }\n",
       "\n",
       "    .dataframe thead th {\n",
       "        text-align: right;\n",
       "    }\n",
       "</style>\n",
       "<table border=\"1\" class=\"dataframe\">\n",
       "  <thead>\n",
       "    <tr style=\"text-align: right;\">\n",
       "      <th></th>\n",
       "      <th>Token</th>\n",
       "      <th>Vector</th>\n",
       "      <th>Label</th>\n",
       "    </tr>\n",
       "  </thead>\n",
       "  <tbody>\n",
       "    <tr>\n",
       "      <th>0</th>\n",
       "      <td>[venezuela, deutschland, während, ncovc, nk, i...</td>\n",
       "      <td>[]</td>\n",
       "      <td>neutral</td>\n",
       "    </tr>\n",
       "    <tr>\n",
       "      <th>1</th>\n",
       "      <td>[assad, putin, wollen, erdoan, lektion, erteil...</td>\n",
       "      <td>[-0.0048, -0.0468, -0.0603, -0.1483, -0.0048]</td>\n",
       "      <td>negativ</td>\n",
       "    </tr>\n",
       "    <tr>\n",
       "      <th>2</th>\n",
       "      <td>[hoff, dinger, kann, amol, fahren, können, meh...</td>\n",
       "      <td>[0.2318]</td>\n",
       "      <td>positiv</td>\n",
       "    </tr>\n",
       "    <tr>\n",
       "      <th>3</th>\n",
       "      <td>[trotz, aussichtsloser, lage, wehrmacht, ergeb...</td>\n",
       "      <td>[-0.0048, -0.183]</td>\n",
       "      <td>negativ</td>\n",
       "    </tr>\n",
       "    <tr>\n",
       "      <th>4</th>\n",
       "      <td>[mein, kommentar, zur, causa, hopp, für]</td>\n",
       "      <td>[]</td>\n",
       "      <td>neutral</td>\n",
       "    </tr>\n",
       "  </tbody>\n",
       "</table>\n",
       "</div>"
      ],
      "text/plain": [
       "                                               Token  \\\n",
       "0  [venezuela, deutschland, während, ncovc, nk, i...   \n",
       "1  [assad, putin, wollen, erdoan, lektion, erteil...   \n",
       "2  [hoff, dinger, kann, amol, fahren, können, meh...   \n",
       "3  [trotz, aussichtsloser, lage, wehrmacht, ergeb...   \n",
       "4           [mein, kommentar, zur, causa, hopp, für]   \n",
       "\n",
       "                                          Vector    Label  \n",
       "0                                             []  neutral  \n",
       "1  [-0.0048, -0.0468, -0.0603, -0.1483, -0.0048]  negativ  \n",
       "2                                       [0.2318]  positiv  \n",
       "3                              [-0.0048, -0.183]  negativ  \n",
       "4                                             []  neutral  "
      ]
     },
     "execution_count": 88,
     "metadata": {},
     "output_type": "execute_result"
    }
   ],
   "source": [
    "tweets['Label'] = tweets['Vector'].apply(get_labels)\n",
    "tweets.head()"
   ]
  },
  {
   "cell_type": "markdown",
   "metadata": {},
   "source": [
    "**Aufgabe: Welches Label bekommt ein Tweet von der `get_labels()` Funktion, dessen Summe _0_ ist, weil entweder keine Wörter gefunden werden oder sich die Stimmungswerte aufheben?**"
   ]
  },
  {
   "cell_type": "code",
   "execution_count": 89,
   "metadata": {},
   "outputs": [
    {
     "data": {
      "application/vnd.jupyter.widget-view+json": {
       "model_id": "96be783296e345658d2fa35050407a42",
       "version_major": 2,
       "version_minor": 0
      },
      "text/plain": [
       "Output()"
      ]
     },
     "metadata": {},
     "output_type": "display_data"
    },
    {
     "data": {
      "application/vnd.jupyter.widget-view+json": {
       "model_id": "99816381b61d4de3b38e54ff5f7e1e45",
       "version_major": 2,
       "version_minor": 0
      },
      "text/plain": [
       "Output()"
      ]
     },
     "metadata": {},
     "output_type": "display_data"
    },
    {
     "data": {
      "application/vnd.jupyter.widget-view+json": {
       "model_id": "4f8557c1b3914fc4902e34ba19602182",
       "version_major": 2,
       "version_minor": 0
      },
      "text/plain": [
       "Output()"
      ]
     },
     "metadata": {},
     "output_type": "display_data"
    }
   ],
   "source": [
    "#hideInput\n",
    "texte_lm.show_task(316)"
   ]
  },
  {
   "cell_type": "markdown",
   "metadata": {},
   "source": [
    "Neutrale Tweets sind für unsere binäre Klassifikation nicht relevant und werden verworfen."
   ]
  },
  {
   "cell_type": "code",
   "execution_count": 90,
   "metadata": {},
   "outputs": [
    {
     "data": {
      "text/html": [
       "<div>\n",
       "<style scoped>\n",
       "    .dataframe tbody tr th:only-of-type {\n",
       "        vertical-align: middle;\n",
       "    }\n",
       "\n",
       "    .dataframe tbody tr th {\n",
       "        vertical-align: top;\n",
       "    }\n",
       "\n",
       "    .dataframe thead th {\n",
       "        text-align: right;\n",
       "    }\n",
       "</style>\n",
       "<table border=\"1\" class=\"dataframe\">\n",
       "  <thead>\n",
       "    <tr style=\"text-align: right;\">\n",
       "      <th></th>\n",
       "      <th>Token</th>\n",
       "      <th>Vector</th>\n",
       "      <th>Label</th>\n",
       "    </tr>\n",
       "  </thead>\n",
       "  <tbody>\n",
       "    <tr>\n",
       "      <th>1</th>\n",
       "      <td>[assad, putin, wollen, erdoan, lektion, erteil...</td>\n",
       "      <td>[-0.0048, -0.0468, -0.0603, -0.1483, -0.0048]</td>\n",
       "      <td>negativ</td>\n",
       "    </tr>\n",
       "    <tr>\n",
       "      <th>2</th>\n",
       "      <td>[hoff, dinger, kann, amol, fahren, können, meh...</td>\n",
       "      <td>[0.2318]</td>\n",
       "      <td>positiv</td>\n",
       "    </tr>\n",
       "    <tr>\n",
       "      <th>3</th>\n",
       "      <td>[trotz, aussichtsloser, lage, wehrmacht, ergeb...</td>\n",
       "      <td>[-0.0048, -0.183]</td>\n",
       "      <td>negativ</td>\n",
       "    </tr>\n",
       "    <tr>\n",
       "      <th>7</th>\n",
       "      <td>[boooom, kdealschön, den, tag, über, während, ...</td>\n",
       "      <td>[0.368, 0.0711]</td>\n",
       "      <td>positiv</td>\n",
       "    </tr>\n",
       "    <tr>\n",
       "      <th>8</th>\n",
       "      <td>[gutschein, über, gbei, panik, dem, coronavirus]</td>\n",
       "      <td>[-0.3429]</td>\n",
       "      <td>negativ</td>\n",
       "    </tr>\n",
       "  </tbody>\n",
       "</table>\n",
       "</div>"
      ],
      "text/plain": [
       "                                               Token  \\\n",
       "1  [assad, putin, wollen, erdoan, lektion, erteil...   \n",
       "2  [hoff, dinger, kann, amol, fahren, können, meh...   \n",
       "3  [trotz, aussichtsloser, lage, wehrmacht, ergeb...   \n",
       "7  [boooom, kdealschön, den, tag, über, während, ...   \n",
       "8   [gutschein, über, gbei, panik, dem, coronavirus]   \n",
       "\n",
       "                                          Vector    Label  \n",
       "1  [-0.0048, -0.0468, -0.0603, -0.1483, -0.0048]  negativ  \n",
       "2                                       [0.2318]  positiv  \n",
       "3                              [-0.0048, -0.183]  negativ  \n",
       "7                                [0.368, 0.0711]  positiv  \n",
       "8                                      [-0.3429]  negativ  "
      ]
     },
     "execution_count": 90,
     "metadata": {},
     "output_type": "execute_result"
    }
   ],
   "source": [
    "tweets = tweets[tweets['Label'] != 'neutral']\n",
    "tweets.head()"
   ]
  },
  {
   "cell_type": "markdown",
   "metadata": {},
   "source": [
    "**Aufgabe: Wie sieht die Verteilung zwischen negativen und positiven Tweets aus? Ist die Stimmungslage eher negativ oder eher positiv?**"
   ]
  },
  {
   "cell_type": "code",
   "execution_count": 91,
   "metadata": {},
   "outputs": [
    {
     "data": {
      "application/vnd.jupyter.widget-view+json": {
       "model_id": "6a21299216004ef4a902f17a34d79b5b",
       "version_major": 2,
       "version_minor": 0
      },
      "text/plain": [
       "Output()"
      ]
     },
     "metadata": {},
     "output_type": "display_data"
    },
    {
     "data": {
      "application/vnd.jupyter.widget-view+json": {
       "model_id": "53763af558d64cd58083d99e0a63355e",
       "version_major": 2,
       "version_minor": 0
      },
      "text/plain": [
       "Output()"
      ]
     },
     "metadata": {},
     "output_type": "display_data"
    },
    {
     "data": {
      "application/vnd.jupyter.widget-view+json": {
       "model_id": "7e6861d50fc4432996f4933b68b23c46",
       "version_major": 2,
       "version_minor": 0
      },
      "text/plain": [
       "Output()"
      ]
     },
     "metadata": {},
     "output_type": "display_data"
    }
   ],
   "source": [
    "#hideInput\n",
    "texte_lm.show_task(317)"
   ]
  },
  {
   "cell_type": "code",
   "execution_count": 92,
   "metadata": {},
   "outputs": [
    {
     "data": {
      "text/plain": [
       "30823"
      ]
     },
     "execution_count": 92,
     "metadata": {},
     "output_type": "execute_result"
    }
   ],
   "source": [
    "#solution\n",
    "negative_count = tweets['Label'][tweets['Label'] == 'negativ'].count()\n",
    "negative_count"
   ]
  },
  {
   "cell_type": "code",
   "execution_count": 93,
   "metadata": {},
   "outputs": [
    {
     "data": {
      "text/plain": [
       "59746"
      ]
     },
     "execution_count": 93,
     "metadata": {},
     "output_type": "execute_result"
    }
   ],
   "source": [
    "#solution\n",
    "positive_count = tweets['Label'][tweets['Label'] == 'positiv'].count()\n",
    "positive_count"
   ]
  },
  {
   "cell_type": "code",
   "execution_count": 94,
   "metadata": {},
   "outputs": [
    {
     "data": {
      "image/png": "[encoded data removed]",
      "text/plain": [
       "<Figure size 432x288 with 1 Axes>"
      ]
     },
     "metadata": {},
     "output_type": "display_data"
    }
   ],
   "source": [
    "vf.plot_pie([negative_count, positive_count], labels=labels)"
   ]
  },
  {
   "cell_type": "markdown",
   "metadata": {},
   "source": [
    "#### 3.1.4 Features"
   ]
  },
  {
   "cell_type": "markdown",
   "metadata": {},
   "source": [
    "Jetzt fehlt nur noch eine Eingabe für unseren überwachten Klassifikator. Da diese auf Features und Labels angewiesen ist, strukturieren wir sie als einfaches Schlüsselwertpaar mit den Wörtern als Schlüssel und der Stimmung als Wert."
   ]
  },
  {
   "cell_type": "code",
   "execution_count": 95,
   "metadata": {},
   "outputs": [],
   "source": [
    "def get_features(tweets):\n",
    "    for tweet in tweets:\n",
    "        yield dict([(word, True) for word in tweet])"
   ]
  },
  {
   "cell_type": "code",
   "execution_count": 96,
   "metadata": {},
   "outputs": [],
   "source": [
    "negative_features = get_features(tweets.loc[tweets['Label'] == 'negativ']['Token'])\n",
    "negative_set = [(tweet_dict, 'negativ') for tweet_dict in negative_features]\n",
    "\n",
    "positive_features = get_features(tweets.loc[tweets['Label'] == 'positiv']['Token'])\n",
    "positive_set = [(tweet_dict, 'positiv') for tweet_dict in positive_features]\n",
    "\n",
    "train_set = negative_set + positive_set\n",
    "del negative_set, positive_set"
   ]
  },
  {
   "cell_type": "markdown",
   "metadata": {},
   "source": [
    "### 3.2 Textdaten klassifizieren"
   ]
  },
  {
   "cell_type": "markdown",
   "metadata": {},
   "source": [
    "#### 3.2.1 Überwachte Klassifikation"
   ]
  },
  {
   "cell_type": "markdown",
   "metadata": {},
   "source": [
    "Mithilfe des [Naive Bayes](https://www.nltk.org/_modules/nltk/classify/naivebayes.html) Algorithmus führen wir eine überwachte Klassifizierung aus. Dabei versucht der Klassifikator eine Gruppe von Features ihrer wahrscheinlichsten Klasse (hier: Stimmung) zuzuordnen. In unserem Fall repräsentiert jedes Wort im Tweet ein Feature, wonach ein Feature-Set alle Wörter eines Tweets beinhaltet. In der folgenden Animation wird der Lernprozess des Klassifikators auf Basis von drei Klassen und zwei Features veranschaulicht:\n",
    "\n",
    "![Naive Bayes](https://upload.wikimedia.org/wikipedia/commons/b/b4/Naive_Bayes_Classifier.gif)"
   ]
  },
  {
   "cell_type": "markdown",
   "metadata": {},
   "source": [
    "Im Folgenden wird unser `nbclassifier` Klassifikator mithilfe von NLTK erzeugt und trainiert."
   ]
  },
  {
   "cell_type": "code",
   "execution_count": 97,
   "metadata": {},
   "outputs": [],
   "source": [
    "from nltk import NaiveBayesClassifier, classify"
   ]
  },
  {
   "cell_type": "code",
   "execution_count": 98,
   "metadata": {},
   "outputs": [],
   "source": [
    "nbclassifier = NaiveBayesClassifier.train(train_set)"
   ]
  },
  {
   "cell_type": "markdown",
   "metadata": {},
   "source": [
    "**Aufgabe: Wie lautet das informativste Wort des `nbclassifier` Klassifikators?**"
   ]
  },
  {
   "cell_type": "code",
   "execution_count": 99,
   "metadata": {},
   "outputs": [
    {
     "data": {
      "application/vnd.jupyter.widget-view+json": {
       "model_id": "7356c30a8d8546c98cacefb6a62e392d",
       "version_major": 2,
       "version_minor": 0
      },
      "text/plain": [
       "Output()"
      ]
     },
     "metadata": {},
     "output_type": "display_data"
    },
    {
     "data": {
      "application/vnd.jupyter.widget-view+json": {
       "model_id": "2948fc36cd1e4ded88340093a699f215",
       "version_major": 2,
       "version_minor": 0
      },
      "text/plain": [
       "Output()"
      ]
     },
     "metadata": {},
     "output_type": "display_data"
    },
    {
     "data": {
      "application/vnd.jupyter.widget-view+json": {
       "model_id": "efc68395c8da4f15a68e0f1c766ba946",
       "version_major": 2,
       "version_minor": 0
      },
      "text/plain": [
       "Output()"
      ]
     },
     "metadata": {},
     "output_type": "display_data"
    }
   ],
   "source": [
    "#hideInput\n",
    "texte_lm.show_task(321)"
   ]
  },
  {
   "cell_type": "code",
   "execution_count": 100,
   "metadata": {},
   "outputs": [
    {
     "name": "stdout",
     "output_type": "stream",
     "text": [
      "Most Informative Features\n",
      "              gefährlich = True           negati : positi =    230.7 : 1.0\n",
      "                  gefahr = True           negati : positi =    204.3 : 1.0\n",
      "                gefahren = True           negati : positi =    189.3 : 1.0\n",
      "                 falsche = True           negati : positi =    177.7 : 1.0\n",
      "              schlechter = True           negati : positi =    141.5 : 1.0\n",
      "                  kriege = True           negati : positi =    118.2 : 1.0\n",
      "                  falsch = True           negati : positi =    101.9 : 1.0\n",
      "                 schaden = True           negati : positi =     99.6 : 1.0\n",
      "                schlecht = True           negati : positi =     96.5 : 1.0\n",
      "                  gewalt = True           negati : positi =     89.3 : 1.0\n"
     ]
    }
   ],
   "source": [
    "#solution\n",
    "nbclassifier.show_most_informative_features()"
   ]
  },
  {
   "cell_type": "markdown",
   "metadata": {},
   "source": [
    "**Aufgabe: Wie gut schlägt sich der `nbclassifier` Klassifikator auf den Trainingsdaten?**"
   ]
  },
  {
   "cell_type": "code",
   "execution_count": 101,
   "metadata": {},
   "outputs": [
    {
     "data": {
      "application/vnd.jupyter.widget-view+json": {
       "model_id": "a6158a9c441a44fc90c1a0e66b24b744",
       "version_major": 2,
       "version_minor": 0
      },
      "text/plain": [
       "Output()"
      ]
     },
     "metadata": {},
     "output_type": "display_data"
    },
    {
     "data": {
      "application/vnd.jupyter.widget-view+json": {
       "model_id": "ceb3f4bd09b54618b4627a662f2fb377",
       "version_major": 2,
       "version_minor": 0
      },
      "text/plain": [
       "Output()"
      ]
     },
     "metadata": {},
     "output_type": "display_data"
    },
    {
     "data": {
      "application/vnd.jupyter.widget-view+json": {
       "model_id": "9ccaa0ef8a744ad1ab7e98660ff916ef",
       "version_major": 2,
       "version_minor": 0
      },
      "text/plain": [
       "Output()"
      ]
     },
     "metadata": {},
     "output_type": "display_data"
    }
   ],
   "source": [
    "#hideInput\n",
    "texte_lm.show_task(322)"
   ]
  },
  {
   "cell_type": "code",
   "execution_count": 102,
   "metadata": {},
   "outputs": [
    {
     "data": {
      "text/plain": [
       "0.7986838763815434"
      ]
     },
     "execution_count": 102,
     "metadata": {},
     "output_type": "execute_result"
    }
   ],
   "source": [
    "#solution\n",
    "classify.accuracy(nbclassifier, train_set)"
   ]
  },
  {
   "cell_type": "markdown",
   "metadata": {},
   "source": [
    "#### 3.2.2 Unüberwachte Klassifikation"
   ]
  },
  {
   "cell_type": "markdown",
   "metadata": {},
   "source": [
    "Mithilfe von [K-means](https://www.nltk.org/_modules/nltk/cluster/kmeans.html) Clustering führen wir eine unüberwachte Klassifizierung aus. Dabei versucht der Klassifikator ähnliche Vektoren zu einem Cluster (hier: Stimmungen) zu gruppieren. In unserem Fall repräsentiert jedes Wort eines Tweets eine Dimension des Vektors, wonach alle Wörter eines Tweets einen n-dimensionalen Spaltenvektor bilden. In der folgenden Animation wird der Lernprozess des Klassifikators auf Basis von drei Clustern veranschaulicht:\n",
    "\n",
    "![K-means](https://camo.githubusercontent.com/77a842161f9588166625169d1f0944e838837f19b105d7e55d235652cfcc3786/68747470733a2f2f692e696d6775722e636f6d2f6b3458636170492e676966)"
   ]
  },
  {
   "cell_type": "markdown",
   "metadata": {},
   "source": [
    "Natürlich werden nicht immer gleich viele Wörter pro Tweet im Vokabular gefunden. Da unser unüberwachter Klassifikator eine konstante Eingabe benötigt, müssen wir uns auf eine Wortzahl einigen, die vom Modell pro Tweet einbezogen wird. Naheliegend entscheiden wir uns für die im Mittel gefundenen Wörter als `pad_size` und verdoppeln diese."
   ]
  },
  {
   "cell_type": "code",
   "execution_count": 103,
   "metadata": {},
   "outputs": [
    {
     "data": {
      "text/plain": [
       "4"
      ]
     },
     "execution_count": 103,
     "metadata": {},
     "output_type": "execute_result"
    }
   ],
   "source": [
    "pad_size = int(pd.Series([len(vector) for vector in tweets['Vector']]).mean() * 2)\n",
    "pad_size"
   ]
  },
  {
   "cell_type": "markdown",
   "metadata": {},
   "source": [
    "Fehlende Werte werden mit der `padding()` Funktion wie folgt aufgefüllt."
   ]
  },
  {
   "cell_type": "code",
   "execution_count": 104,
   "metadata": {},
   "outputs": [],
   "source": [
    "def padding(tweet):\n",
    "    \"\"\"Pad vectors with zeros at the end.\"\"\"\n",
    "    \n",
    "    tweet += [0.0] * (pad_size - len(tweet))\n",
    "    \n",
    "    return tweet[:pad_size]"
   ]
  },
  {
   "cell_type": "code",
   "execution_count": 105,
   "metadata": {},
   "outputs": [],
   "source": [
    "tweets['Vector'] = tweets['Vector'].apply(padding)"
   ]
  },
  {
   "cell_type": "markdown",
   "metadata": {},
   "source": [
    "Im Folgenden wird unser unüberwachter `kmclusterer` Klassifikator mithilfe von NLTK erzeugt und trainiert."
   ]
  },
  {
   "cell_type": "code",
   "execution_count": 106,
   "metadata": {},
   "outputs": [],
   "source": [
    "from nltk.cluster import KMeansClusterer, euclidean_distance"
   ]
  },
  {
   "cell_type": "code",
   "execution_count": 107,
   "metadata": {},
   "outputs": [],
   "source": [
    "kmclusterer = KMeansClusterer(2, euclidean_distance, repeats=10, avoid_empty_clusters=True)"
   ]
  },
  {
   "cell_type": "code",
   "execution_count": 108,
   "metadata": {},
   "outputs": [],
   "source": [
    "clusters = kmclusterer.cluster(tweets['Vector'].apply(np.array), True)"
   ]
  },
  {
   "cell_type": "markdown",
   "metadata": {},
   "source": [
    "**Aufgabe: Hinter welcher Funktion verstecken sich die Zentren unseres `kmclusterer` Klassifikators?**"
   ]
  },
  {
   "cell_type": "code",
   "execution_count": 109,
   "metadata": {},
   "outputs": [
    {
     "data": {
      "application/vnd.jupyter.widget-view+json": {
       "model_id": "05cdb0a12b8c42d19432cb62ff445a15",
       "version_major": 2,
       "version_minor": 0
      },
      "text/plain": [
       "Output()"
      ]
     },
     "metadata": {},
     "output_type": "display_data"
    },
    {
     "data": {
      "application/vnd.jupyter.widget-view+json": {
       "model_id": "da3219968dfa48d19f8aaef4f9b7e006",
       "version_major": 2,
       "version_minor": 0
      },
      "text/plain": [
       "Output()"
      ]
     },
     "metadata": {},
     "output_type": "display_data"
    },
    {
     "data": {
      "application/vnd.jupyter.widget-view+json": {
       "model_id": "e5f9a6f3462845998c3c72192b65d590",
       "version_major": 2,
       "version_minor": 0
      },
      "text/plain": [
       "Output()"
      ]
     },
     "metadata": {},
     "output_type": "display_data"
    }
   ],
   "source": [
    "#hideInput\n",
    "texte_lm.show_task(323)"
   ]
  },
  {
   "cell_type": "code",
   "execution_count": 110,
   "metadata": {},
   "outputs": [],
   "source": [
    "#solution\n",
    "means = kmclusterer.means()"
   ]
  },
  {
   "cell_type": "code",
   "execution_count": 111,
   "metadata": {},
   "outputs": [
    {
     "data": {
      "image/png": "[encoded data removed]",
      "text/plain": [
       "<Figure size 432x288 with 1 Axes>"
      ]
     },
     "metadata": {
      "needs_background": "light"
     },
     "output_type": "display_data"
    }
   ],
   "source": [
    "vf.plot_clusters(means)"
   ]
  },
  {
   "cell_type": "markdown",
   "metadata": {},
   "source": [
    "<div style=\"background-color: #150458; padding: 5px;\"></div>\n",
    "\n",
    "## 4. Verwendung"
   ]
  },
  {
   "cell_type": "markdown",
   "metadata": {},
   "source": [
    "[Zurück zur Übersicht](#Lernmodul-zur-Verarbeitung-und-Analyse-von-Textdaten)"
   ]
  },
  {
   "cell_type": "markdown",
   "metadata": {},
   "source": [
    "In der Verwendungsdomäne werden zum Abschluss die Stimmung eigener Tweets vorhergesagt.\n",
    "\n",
    "Welche Schritte ein Tweet innerhalb der Verwendung durchläuft verdeutlicht die folgende Abbildung:\n",
    "\n",
    "![Model](./img/usage_flow.png)"
   ]
  },
  {
   "cell_type": "markdown",
   "metadata": {},
   "source": [
    "### 4.1 Textdaten vorhersagen"
   ]
  },
  {
   "cell_type": "markdown",
   "metadata": {},
   "source": [
    "Exemplarisch wird ein frei erfundener negativer Tweet betrachtet:\n",
    "\n",
    "> Was für ein schlechtes Lernmodul"
   ]
  },
  {
   "cell_type": "code",
   "execution_count": 112,
   "metadata": {},
   "outputs": [],
   "source": [
    "negative = \"Was für ein schlechtes Lernmodul\""
   ]
  },
  {
   "cell_type": "markdown",
   "metadata": {},
   "source": [
    "Ebenfalls wird ein positives Beispiel betrachtet:\n",
    "\n",
    "> Was für ein gutes Lernmodul"
   ]
  },
  {
   "cell_type": "code",
   "execution_count": 113,
   "metadata": {},
   "outputs": [],
   "source": [
    "positive = \"Was für ein gutes Lernmodul\""
   ]
  },
  {
   "cell_type": "markdown",
   "metadata": {},
   "source": [
    "Im produktiven Einsatz müssten diese Beispiele ebenfalls die Datendomäne durchlaufen, was wir uns in diesem Fall ersparen."
   ]
  },
  {
   "cell_type": "markdown",
   "metadata": {},
   "source": [
    "Zuletzt werden 100 zufällige Tweets aus dem Datensatz vorhergesagt."
   ]
  },
  {
   "cell_type": "code",
   "execution_count": 114,
   "metadata": {},
   "outputs": [],
   "source": [
    "train_sample = tweets.sample(100) # 100 random tweets"
   ]
  },
  {
   "cell_type": "markdown",
   "metadata": {},
   "source": [
    "#### 4.1.1 Überwachter Klassifikator"
   ]
  },
  {
   "cell_type": "markdown",
   "metadata": {},
   "source": [
    "[Zurück zur überwachten Klassifikation](#3.2.1-Überwachte-Klassifikation)"
   ]
  },
  {
   "cell_type": "markdown",
   "metadata": {},
   "source": [
    "Welche Stimmung drückt unser negatives Beispiel nach Vorhersage der überwachten Klassifizierung aus?"
   ]
  },
  {
   "cell_type": "code",
   "execution_count": 115,
   "metadata": {},
   "outputs": [
    {
     "data": {
      "text/plain": [
       "'negativ'"
      ]
     },
     "execution_count": 115,
     "metadata": {},
     "output_type": "execute_result"
    }
   ],
   "source": [
    "nbclassifier.classify(mf.get_features_for_single_tweet(negative.split()))"
   ]
  },
  {
   "cell_type": "markdown",
   "metadata": {},
   "source": [
    "Welche Stimmung drückt unser positives Beispiel nach Vorhersage der überwachten Klassifizierung aus?"
   ]
  },
  {
   "cell_type": "code",
   "execution_count": 116,
   "metadata": {},
   "outputs": [
    {
     "data": {
      "text/plain": [
       "'positiv'"
      ]
     },
     "execution_count": 116,
     "metadata": {},
     "output_type": "execute_result"
    }
   ],
   "source": [
    "nbclassifier.classify(mf.get_features_for_single_tweet(positive.split()))"
   ]
  },
  {
   "cell_type": "markdown",
   "metadata": {},
   "source": [
    "Wie schlägt sich unser überwachter Klassifikator im Detail? Dafür klassifizieren wir beispielhaft 100 Tweets über die `supervised_classifier()` Funktion."
   ]
  },
  {
   "cell_type": "code",
   "execution_count": 117,
   "metadata": {},
   "outputs": [
    {
     "name": "stdout",
     "output_type": "stream",
     "text": [
      "#\tSoll\tIst\t∆\tTweet\n",
      "2356\tpositiv\tnegativ\tX\tHier mal ne Frage: Welchen Film/Reihe schaut man sich jetzt besser an?\"I Am Legend\" oder \"Resident E\n",
      "58318\tpositiv\tpositiv\t \t@TeamViewer_help nö jetzt bin ich fertig, danke :)\n",
      "118613\tnegativ\tnegativ\t \tBin ich der einzige, der inzwischen genervt von Berichterstattung über #Corona ist? Lese und schaue \n",
      "43412\tnegativ\tnegativ\t \t@Yorick_is_right @SZ Hm, die europäischen Werte basieren auf fen christlichen Werten, dazu gehört au\n",
      "53316\tpositiv\tpositiv\t \t@ahriFN @KibaFN @PanFN_ @dolfiFN Ja digga dann zieh mit ihm keine scheiße ab man  er strengt sich im\n",
      "118500\tnegativ\tnegativ\t \t\"Wir erleben auch, dass vergleichsweise junge und ansonsten gesunde Menschen im Zuge der Infektion s\n",
      "3911\tpositiv\tpositiv\t \tSuche: Stahlrahmen; RH 61-64; möglichst horizontale Ausfallenden; muss nicht teuer sein; Lackqualitä\n",
      "150063\tpositiv\tnegativ\tX\t@BZ_NachtFloh @Panthea2019 @bzberlin @BILD_Berlin @TomSchreiberMdA @GdPHauptstadt @Djeron7 @GdP_Dir4\n",
      "40461\tnegativ\tnegativ\t \t@XJunyan @Tomo20309138 @DrTedros @tiktok_us Whataboutism, aber erstmal schön in Deutschland abchille\n",
      "145039\tnegativ\tnegativ\t \t@Zynosoph Ich muss kurz anmerken, dass ich in nächster Zeit aufgrund Weinkonsums möglicherweise weni\n",
      "95526\tnegativ\tnegativ\t \tReinhören 🤭☺️☝🏻@CarlaReveland und ich erzählen über unsere Recherche für @STRG_F zum Thema Fakes &am\n",
      "57580\tnegativ\tnegativ\t \t@Enigma424 Das RKI informiert bereits. Herr Drosten muss sich diese scheiße nicht geben. Ich habe ni\n",
      "19736\tpositiv\tpositiv\t \tJede #Altpartei die verschwindet steigert die Chance für das Überleben der 🇩🇪\n",
      "50101\tpositiv\tpositiv\t \t@faesbuch Oh Dankeschön 😊. Bitte mich weiterhin mögen, aber ... Siehe mein Tweet ganz genau und kale\n",
      "156637\tpositiv\tnegativ\tX\t@DBRegio_BW Mein Gott bei uns ist seit der totalen Renovierung, der totale Wurm drinnen! Bin mal ges\n",
      "60327\tnegativ\tnegativ\t \t@spontvegetation @WDRaktuell @aktuelle_stunde @aktuellestunde Soforthilfe für Studierende:Es gibt sc\n",
      "130501\tpositiv\tnegativ\tX\t#Groko bessert beim #Pflegeunterstützungsgeld nach:  Angehörige können Unterstützungsgeld beantragen\n",
      "36726\tnegativ\tnegativ\t \t@welt Ich will kein E-Auto, ich werde kein E-Auto fahren und mich interessieren auch keine Neuentwic\n",
      "18880\tpositiv\tpositiv\t \tOder positiv ausgedrückt: Deutschland kann sogenannte Klimaschutzziele durch bloßes passives abwarte\n",
      "120347\tpositiv\tpositiv\t \tDie Takes für mein nächstes Musikvideo sind im Kasten, ich hatte einen unterhaltsamen Abend mit Freu\n",
      "95644\tnegativ\tnegativ\t \tRenommierte Verfassungsjuristen warfen der Kanzlerin   bereits 2016 fortgesetzten Rechtsbruch und Mi\n",
      "36454\tnegativ\tnegativ\t \t@Hallaschka_HH An einem Tag kritisiert sie, dass man Migranten die hier leben fragt, wo sie herkomme\n",
      "54826\tpositiv\tpositiv\t \t@MartinaRosemann Guten Morgen meine Liebe. Dankeschön. Das wünsche ich dir auch und danke für das sc\n",
      "50542\tpositiv\tpositiv\t \t@kartoffklauser Soll i dir Trikot schicken ?\n",
      "135547\tpositiv\tpositiv\t \t@coraxaroc ab 2 Stück. ist wohl (??) effizienter als 1-2 eier im topf auf dem e-herd zu kochen?\n",
      "45559\tpositiv\tpositiv\t \t@itgoesonmimi Guten Morgen meine kleene Süße :-)\n",
      "145585\tpositiv\tpositiv\t \t@ErolOezkaraca @NorbertBolz \"Wir werden uns das holen was uns zusteht - wir sind 50 Jahre in Vorleis\n",
      "43787\tpositiv\tpositiv\t \t@octodontidae mein mann kommt nur jedes 2. wochenende heim, ich muss irgendwie die bude sauber halte\n",
      "58167\tpositiv\tpositiv\t \t@kalliope8 @tina196521 Da schließe ich mich an.... Herzlichen Glückwunsch zum Geburtstag. Genieß dei\n",
      "35383\tpositiv\tnegativ\tX\t@TiffaniCologne Und von den #Hartz4 Gesetzen welche eigentlich ein Verbrechen an der Bevölkerung war\n",
      "133048\tpositiv\tpositiv\t \t@JochenDominicus @LeFloid Und die Soße sieht sogar auch noch ganz gut aus\n",
      "56913\tnegativ\tnegativ\t \t@RablPeter @NachDenkSeiten Altersrassismus kommt dem verdammt nahe, was da gerade allgemein abläuft.\n",
      "135533\tpositiv\tpositiv\t \t@lingua_bavarica @ULintl @besi0775 @hirschnpeter @wiesnmichi Servus Beni,I hobs amoi retweetet ... v\n",
      "85737\tpositiv\tpositiv\t \tNetzDG: Kabinett beschließt neue Beschwerderechte in sozialen Netzwerken - DER SPIEGEL - Netzwelt ht\n",
      "473\tpositiv\tpositiv\t \tDie vierte Staffel von unserem Twitch Charityprojekt #LiveForLifeTV startet und wir freuen uns euch \n",
      "48327\tnegativ\tnegativ\t \t3/4Wir tanzen keinen KlammerbluesAber wir liegen uns in den Armenspüren unsere Körper, Blicke, Lippe\n",
      "50735\tpositiv\tnegativ\tX\t@MrsBo10 @espanol16666790 @PsychoanaMainz Habe ich doch im späteren Tweet gesagt! Medizinische Zweck\n",
      "40275\tpositiv\tpositiv\t \t@SteinigAndrea 😁 Hab auch einen schönen Morgen Liebes ☕️🍀    Danke 🙏 dir, achte auf mich, von blauen\n",
      "71117\tnegativ\tnegativ\t \t@Oothek_SC2 Hier hat Macron vor 2 Wo den Krieg ausgerufen. Statt private Firmen zu verstaatlichen u \n",
      "152061\tpositiv\tpositiv\t \t@stellasaxx Ahhh ich wichs mein schwanz nochmal,, so geil dein geiler Fickarsch,, schön rauf und run\n",
      "28301\tnegativ\tnegativ\t \t@ArminLaschet  SIEHT ZU: @spdbt mordet perfide-seit Jahrzehnten-hört auch dann nicht auf,wenn sie au\n",
      "38050\tnegativ\tnegativ\t \t@ulle_schauws @GrueneBundestag Diskriminierend ist es eher das ich gezwungen werde es als in Ordnung\n",
      "127290\tpositiv\tpositiv\t \tDer @ehcchur besiegte in einem fiktiven Spiel Corona. Hintergrund der Aktion war der Verkauf von Tic\n",
      "64914\tpositiv\tpositiv\t \t@BWEeV @bEEmerkenswert @BSWSolareV @FVBiogas @HB_Bioenergie @RenewsTweet @euwidenergie @neueenergie_\n",
      "75380\tpositiv\tpositiv\t \tErfrischende Mittwochsgrüße ihr Lieben, habt einen schönen und gesunden Tag 🌹🌞\n",
      "68555\tpositiv\tnegativ\tX\tz. B. SAP. Als Sponsor damit zum einen für mich nicht besonders interessant, zum anderen sieht das r\n",
      "110954\tpositiv\tpositiv\t \tWollte hoch hinaus und ist tief gefallen, Selbstüberschätzung\n",
      "80507\tnegativ\tnegativ\t \tDer Linke Rand will die Menschen immer weiter ausquetschen. Wie wäre es mal mit einer Entlastung wäh\n",
      "54418\tnegativ\tnegativ\t \t@wsuft @Aserith_Shadow @c_drosten Auch ich kann das Schreiben nicht bewerten. Die darin getätigte Au\n",
      "3300\tnegativ\tnegativ\t \tBlöd: Am morgigen Sonntag um 08:00 Uhr aufstehen und wieder nicht ausschlafen können.Geil: Danach in\n",
      "3366\tpositiv\tpositiv\t \tFreund*olinos, ein Fest war‘s im Härdöpfuchäuer in Schöftland! Nächste Woche kommt der sehr lustige \n",
      "135382\tpositiv\tpositiv\t \t@livia090657 Danke schön liebe livia und Dir wünsche ich auch einen schönen Abend weiterhin. Relaxe \n",
      "154723\tnegativ\tnegativ\t \t@loooek @ozlbzn Und dann meinte er noch dass ich mich von anderen beeinflussen lassen hab die schlec\n",
      "59190\tpositiv\tnegativ\tX\t@Kricke1905 \"Nach der marxistischen Lehre folgt der Faschismus nämlich «notwendigerweise» aus dem Ka\n",
      "85534\tpositiv\tnegativ\tX\tMeine Mama hat mich gerade gefragt, ob es Zuhause oder zu Hause heißt. Ich: schreib doch einfach dah\n",
      "21304\tpositiv\tnegativ\tX\tZahlreiche Berichte von Geflüchteten, die an Grenzen gebracht werden. Auch wenn Grenzen nicht offizi\n",
      "90618\tpositiv\tpositiv\t \tHybrid-Triebzüge als umweltschonende Lösung für Nebenstrecken: Hybrid-Züge haben das Potenzial, in d\n",
      "112813\tnegativ\tnegativ\t \tHab vorhin mal auf @ARTEde geschaut, was es dort so gibt. Schaue jetzt \"#Jordskott - Die Rache des W\n",
      "28035\tpositiv\tnegativ\tX\t11:40 Mehr als 500K Europäer|innen weden die Türkei in diesen und den nächsten Sommern nicht mehr al\n",
      "88335\tpositiv\tpositiv\t \tWunderschön. So lob ich mir das. Es gibt sogar 2 Huso Bots😂😂 https://t.co/UNF2tkn7sE\n",
      "127213\tpositiv\tpositiv\t \tNew video by EMS Nordschleife  TV: Neue Zufahrt- Nürburgring Nordschleife kontaktlose Touristenfahrt\n",
      "46506\tpositiv\tpositiv\t \t@LynCeol @MrMoregame Ach süße das sind doch 10/10 Flirts!\n",
      "133046\tpositiv\tpositiv\t \tJedenfalls ist es eine schöne Luft draußen.Die Vögel zwitschern, einfach schön 🙂\n",
      "57479\tpositiv\tpositiv\t \t@Mupfmama Gute Besserung.A-ieren = inhalieren?\n",
      "65815\tnegativ\tnegativ\t \t@ABaerbock Sie versuchen auch schon verzweifelt wieder Meinungshoheit zu erlangen, das wird nicht ge\n",
      "142252\tpositiv\tpositiv\t \t@ScarletsFlame Puh... da sammelt sich aber ganz schön was an bei dir! O___O ich bin ja schon mit mei\n",
      "41641\tpositiv\tnegativ\tX\t@potzdamma @RoplingReinhard @MarcFelixSerrao Da gibt es übrigens heute wenig Syrer. Viel mehr aus Pa\n",
      "35469\tnegativ\tnegativ\t \t@KJeziorki @n_roettgen Da einige Staaten vorübergehend mit dem Gedanken gespielt hatten sich dem Anz\n",
      "1804\tnegativ\tnegativ\t \tMein Twitter lebt wieder, jetzt ist eure Chance zu gehen, weil ihr merkt, dass ich doch nur dumme Sc\n",
      "61340\tnegativ\tnegativ\t \t@hieristnina_ Da will man ihr verzweifelt die Bayerische Bierkultur näherbringen und dann sowas...\n",
      "140655\tpositiv\tpositiv\t \t@redhidinghood_ Ich vernasche gern mein:e Partner: und ich denke das ist heißes Abendessen\n",
      "92297\tpositiv\tnegativ\tX\tMich stört das auch, dieses Häppchenweise! Wenn man möglichst Viele ins Boot holen möchte, ist es mg\n",
      "121650\tpositiv\tpositiv\t \tAktuelle Suchabfrage 'Cortese' auf https://t.co/AjK8EbBIFb #Suche #Suchportal #Schweiz  https://t.co\n",
      "116052\tpositiv\tpositiv\t \tI hätt in de 80ern ins Waffengschäft einsteigen sollenDie Dealerei in den 90ern war a ned besserund \n",
      "90346\tnegativ\tnegativ\t \tTrostpflaster fürs nächste Rennen mein Red Bull ist gut am Ferrari vorbeigekommen aber mehr als Plat\n",
      "34230\tnegativ\tnegativ\t \t@nikitheblogger Nur ist \"juristisch\" für diejenigen, die die nächste #Massenmigration nach Deutschla\n",
      "130490\tpositiv\tpositiv\t \tMal ehrlich,Mobilität, fährst du noch ein anständiges Auto oder schon Elektroschrott?Bitte ehrlich a\n",
      "86134\tnegativ\tnegativ\t \tÜberfordertes britisches Gesundheitssystem: Königreich in der Notaufnahme.  Der britische National H\n",
      "48807\tpositiv\tpositiv\t \t@die_gritti ... und wie es schön in die Linse guckt!! 😍\n",
      "139351\tpositiv\tpositiv\t \t@nordlichtpercht @HasselerMartina @Evaohlerth1 weg mit den Hilfskräften - her mit 3jährig ausgebilde\n",
      "41865\tpositiv\tnegativ\tX\t@jensspahn Sie werden die nächsten Tage politisch nicht überleben.\n",
      "140865\tpositiv\tpositiv\t \t@UnaCrasyThing @LenaPotter07 genau ich beschütze sie nähmlich 🥺👀\n",
      "17283\tnegativ\tnegativ\t \tStell dir vor dein Kind ist kürzlich einem rassistischen Angriff zum Opfer gefallen und jetzt vergle\n",
      "148586\tpositiv\tpositiv\t \t@wiesnmichi Na, ab und zu muß jammern auch mal sein. Mir hilft es zumindest, etwas ausgesprochen zu \n",
      "156865\tnegativ\tnegativ\t \t@NilsSchmid @spdbt @spdde @dgb_news wenn jemand wie Sie das Wort Sozialstaat auch nur in den Mund ni\n",
      "54212\tpositiv\tpositiv\t \t@larsklingbeil Und was passiert hier?? Genau das selbe also schön mal Fresse halten\n",
      "16841\tpositiv\tpositiv\t \tLeichte Steigerung zum ersten Wahlgang - bis 12 Uhr haben 28,6 % der Stimmberechtigten gewählt. +++ \n",
      "32525\tpositiv\tpositiv\t \t@hyunjinTT Ja. Und auch die stages von den NCT und Taemin waren cool. Die haben Baby Dont Stop gemac\n",
      "57695\tnegativ\tpositiv\tX\t@Sebastian_1304 Seltsame Träume habe ich auch die letzten Nächte gehabt 😕\n",
      "131272\tnegativ\tnegativ\t \tMein kleiner Corona Alltag: Gestern U-Bahn Reise  U7  Richtung Neukölln. Erkenntnis.  Für echte Mach\n",
      "85570\tpositiv\tpositiv\t \tTier-0-Storage trägt zur schnelleren Entwicklung bei https://t.co/ZupsppR00v\n",
      "11405\tnegativ\tnegativ\t \t#nurderFCM RT @Rostinho90210: Wie langweilig und trist muss das eigene Leben sein, um sich über die \n",
      "95482\tpositiv\tnegativ\tX\tDeswegen ist @n_roettgen der mit Abstand beste Kandidat der @CDU für den #CDUParteivorsitz. @ArminLa\n",
      "84805\tnegativ\tnegativ\t \t@ArminWolf, es ist schwer irritierend, wenn sie ihre eigene Stimme auf deutsch über ihren englischen\n",
      "2415\tpositiv\tpositiv\t \tEr sollte sich die nächsten Wochen mal frei halten. #S04 #Schmidt https://t.co/detaTT8X2O\n",
      "57562\tnegativ\tnegativ\t \t@MK_Nbg73 @SchultheisEva Aber nicht jedes Jahr sterben soviel ältere Menschen in so kurzerZeit.☝🙄 R.\n",
      "118235\tnegativ\tnegativ\t \thttps://t.co/JARsdfShpl4 Migranten aus Brasilien,  Angola und Marokko kamen vom Training, sprachen 2\n",
      "54770\tpositiv\tpositiv\t \t@KanaKan_cCc @freekeko3 Das ist doch alles gar nicht so ernst gemeint.. jedes Land ist schön, jedes \n",
      "116826\tnegativ\tnegativ\t \tWann hört das Geschleusse und die gefährliche Naivität und Schwäche der #EU in Bezug auf Konfrontati\n",
      "58767\tnegativ\tnegativ\t \t@PeterBechstein @FAZ_Politik @EskenSaskia Großkonzerne bekommen doch jetzt schon massig an staatlich\n",
      "\n",
      "Genauigkeit: 0.84\n"
     ]
    },
    {
     "data": {
      "image/png": "[encoded data removed]",
      "text/plain": [
       "<Figure size 432x288 with 1 Axes>"
      ]
     },
     "metadata": {},
     "output_type": "display_data"
    }
   ],
   "source": [
    "mf.supervised_classifier(train_sample, tweets_copy, nbclassifier, labels) # On Train"
   ]
  },
  {
   "cell_type": "markdown",
   "metadata": {},
   "source": [
    "#### Unüberwachter Klassifikator"
   ]
  },
  {
   "cell_type": "markdown",
   "metadata": {},
   "source": [
    "[Zurück zur unüberwachten Klassifikation](#3.2.2-Unüberwachte-Klassifikation)"
   ]
  },
  {
   "cell_type": "markdown",
   "metadata": {},
   "source": [
    "Welche Stimmung drückt unser negatives Beispiel nach Vorhersage der unüberwachten Klassifizierung aus?"
   ]
  },
  {
   "cell_type": "code",
   "execution_count": 118,
   "metadata": {},
   "outputs": [
    {
     "data": {
      "text/plain": [
       "'negativ'"
      ]
     },
     "execution_count": 118,
     "metadata": {},
     "output_type": "execute_result"
    }
   ],
   "source": [
    "labels[kmclusterer.classify(padding(vectorize((negative.split()))))]"
   ]
  },
  {
   "cell_type": "markdown",
   "metadata": {},
   "source": [
    "Welche Stimmung drückt unser positives Beispiel nach Vorhersage der unüberwachten Klassifizierung aus?"
   ]
  },
  {
   "cell_type": "code",
   "execution_count": 119,
   "metadata": {},
   "outputs": [
    {
     "data": {
      "text/plain": [
       "'positiv'"
      ]
     },
     "execution_count": 119,
     "metadata": {},
     "output_type": "execute_result"
    }
   ],
   "source": [
    "labels[kmclusterer.classify(padding(vectorize((positive.split()))))]"
   ]
  },
  {
   "cell_type": "markdown",
   "metadata": {},
   "source": [
    "Wie schlägt sich unser unüberwachter Klassifikator im Detail? Dafür klassifizieren 100 zufällig ausgewählte Tweets über die `unsupervised_classifier()` Funktion."
   ]
  },
  {
   "cell_type": "code",
   "execution_count": 120,
   "metadata": {},
   "outputs": [
    {
     "name": "stdout",
     "output_type": "stream",
     "text": [
      "#\tSoll\tIst\t∆\tTweet\n",
      "2356\tpositiv\tnegativ\tX\tHier mal ne Frage: Welchen Film/Reihe schaut man sich jetzt besser an?\"I Am Legend\" oder \"Resident E\n",
      "58318\tpositiv\tnegativ\tX\t@TeamViewer_help nö jetzt bin ich fertig, danke :)\n",
      "118613\tnegativ\tnegativ\t \tBin ich der einzige, der inzwischen genervt von Berichterstattung über #Corona ist? Lese und schaue \n",
      "43412\tnegativ\tnegativ\t \t@Yorick_is_right @SZ Hm, die europäischen Werte basieren auf fen christlichen Werten, dazu gehört au\n",
      "53316\tpositiv\tnegativ\tX\t@ahriFN @KibaFN @PanFN_ @dolfiFN Ja digga dann zieh mit ihm keine scheiße ab man  er strengt sich im\n",
      "118500\tnegativ\tnegativ\t \t\"Wir erleben auch, dass vergleichsweise junge und ansonsten gesunde Menschen im Zuge der Infektion s\n",
      "3911\tpositiv\tnegativ\tX\tSuche: Stahlrahmen; RH 61-64; möglichst horizontale Ausfallenden; muss nicht teuer sein; Lackqualitä\n",
      "150063\tpositiv\tnegativ\tX\t@BZ_NachtFloh @Panthea2019 @bzberlin @BILD_Berlin @TomSchreiberMdA @GdPHauptstadt @Djeron7 @GdP_Dir4\n",
      "40461\tnegativ\tnegativ\t \t@XJunyan @Tomo20309138 @DrTedros @tiktok_us Whataboutism, aber erstmal schön in Deutschland abchille\n",
      "145039\tnegativ\tnegativ\t \t@Zynosoph Ich muss kurz anmerken, dass ich in nächster Zeit aufgrund Weinkonsums möglicherweise weni\n",
      "95526\tnegativ\tnegativ\t \tReinhören 🤭☺️☝🏻@CarlaReveland und ich erzählen über unsere Recherche für @STRG_F zum Thema Fakes &am\n",
      "57580\tnegativ\tnegativ\t \t@Enigma424 Das RKI informiert bereits. Herr Drosten muss sich diese scheiße nicht geben. Ich habe ni\n",
      "19736\tpositiv\tnegativ\tX\tJede #Altpartei die verschwindet steigert die Chance für das Überleben der 🇩🇪\n",
      "50101\tpositiv\tnegativ\tX\t@faesbuch Oh Dankeschön 😊. Bitte mich weiterhin mögen, aber ... Siehe mein Tweet ganz genau und kale\n",
      "156637\tpositiv\tnegativ\tX\t@DBRegio_BW Mein Gott bei uns ist seit der totalen Renovierung, der totale Wurm drinnen! Bin mal ges\n",
      "60327\tnegativ\tnegativ\t \t@spontvegetation @WDRaktuell @aktuelle_stunde @aktuellestunde Soforthilfe für Studierende:Es gibt sc\n",
      "130501\tpositiv\tnegativ\tX\t#Groko bessert beim #Pflegeunterstützungsgeld nach:  Angehörige können Unterstützungsgeld beantragen\n",
      "36726\tnegativ\tnegativ\t \t@welt Ich will kein E-Auto, ich werde kein E-Auto fahren und mich interessieren auch keine Neuentwic\n",
      "18880\tpositiv\tnegativ\tX\tOder positiv ausgedrückt: Deutschland kann sogenannte Klimaschutzziele durch bloßes passives abwarte\n",
      "120347\tpositiv\tnegativ\tX\tDie Takes für mein nächstes Musikvideo sind im Kasten, ich hatte einen unterhaltsamen Abend mit Freu\n",
      "95644\tnegativ\tnegativ\t \tRenommierte Verfassungsjuristen warfen der Kanzlerin   bereits 2016 fortgesetzten Rechtsbruch und Mi\n",
      "36454\tnegativ\tnegativ\t \t@Hallaschka_HH An einem Tag kritisiert sie, dass man Migranten die hier leben fragt, wo sie herkomme\n",
      "54826\tpositiv\tpositiv\t \t@MartinaRosemann Guten Morgen meine Liebe. Dankeschön. Das wünsche ich dir auch und danke für das sc\n",
      "50542\tpositiv\tpositiv\t \t@kartoffklauser Soll i dir Trikot schicken ?\n",
      "135547\tpositiv\tnegativ\tX\t@coraxaroc ab 2 Stück. ist wohl (??) effizienter als 1-2 eier im topf auf dem e-herd zu kochen?\n",
      "45559\tpositiv\tpositiv\t \t@itgoesonmimi Guten Morgen meine kleene Süße :-)\n",
      "145585\tpositiv\tnegativ\tX\t@ErolOezkaraca @NorbertBolz \"Wir werden uns das holen was uns zusteht - wir sind 50 Jahre in Vorleis\n",
      "43787\tpositiv\tpositiv\t \t@octodontidae mein mann kommt nur jedes 2. wochenende heim, ich muss irgendwie die bude sauber halte\n",
      "58167\tpositiv\tnegativ\tX\t@kalliope8 @tina196521 Da schließe ich mich an.... Herzlichen Glückwunsch zum Geburtstag. Genieß dei\n",
      "35383\tpositiv\tnegativ\tX\t@TiffaniCologne Und von den #Hartz4 Gesetzen welche eigentlich ein Verbrechen an der Bevölkerung war\n",
      "133048\tpositiv\tpositiv\t \t@JochenDominicus @LeFloid Und die Soße sieht sogar auch noch ganz gut aus\n",
      "56913\tnegativ\tnegativ\t \t@RablPeter @NachDenkSeiten Altersrassismus kommt dem verdammt nahe, was da gerade allgemein abläuft.\n",
      "135533\tpositiv\tnegativ\tX\t@lingua_bavarica @ULintl @besi0775 @hirschnpeter @wiesnmichi Servus Beni,I hobs amoi retweetet ... v\n",
      "85737\tpositiv\tnegativ\tX\tNetzDG: Kabinett beschließt neue Beschwerderechte in sozialen Netzwerken - DER SPIEGEL - Netzwelt ht\n",
      "473\tpositiv\tpositiv\t \tDie vierte Staffel von unserem Twitch Charityprojekt #LiveForLifeTV startet und wir freuen uns euch \n",
      "48327\tnegativ\tnegativ\t \t3/4Wir tanzen keinen KlammerbluesAber wir liegen uns in den Armenspüren unsere Körper, Blicke, Lippe\n",
      "50735\tpositiv\tpositiv\t \t@MrsBo10 @espanol16666790 @PsychoanaMainz Habe ich doch im späteren Tweet gesagt! Medizinische Zweck\n",
      "40275\tpositiv\tnegativ\tX\t@SteinigAndrea 😁 Hab auch einen schönen Morgen Liebes ☕️🍀    Danke 🙏 dir, achte auf mich, von blauen\n",
      "71117\tnegativ\tnegativ\t \t@Oothek_SC2 Hier hat Macron vor 2 Wo den Krieg ausgerufen. Statt private Firmen zu verstaatlichen u \n",
      "152061\tpositiv\tnegativ\tX\t@stellasaxx Ahhh ich wichs mein schwanz nochmal,, so geil dein geiler Fickarsch,, schön rauf und run\n",
      "28301\tnegativ\tnegativ\t \t@ArminLaschet  SIEHT ZU: @spdbt mordet perfide-seit Jahrzehnten-hört auch dann nicht auf,wenn sie au\n",
      "38050\tnegativ\tnegativ\t \t@ulle_schauws @GrueneBundestag Diskriminierend ist es eher das ich gezwungen werde es als in Ordnung\n",
      "127290\tpositiv\tnegativ\tX\tDer @ehcchur besiegte in einem fiktiven Spiel Corona. Hintergrund der Aktion war der Verkauf von Tic\n",
      "64914\tpositiv\tpositiv\t \t@BWEeV @bEEmerkenswert @BSWSolareV @FVBiogas @HB_Bioenergie @RenewsTweet @euwidenergie @neueenergie_\n",
      "75380\tpositiv\tnegativ\tX\tErfrischende Mittwochsgrüße ihr Lieben, habt einen schönen und gesunden Tag 🌹🌞\n",
      "68555\tpositiv\tpositiv\t \tz. B. SAP. Als Sponsor damit zum einen für mich nicht besonders interessant, zum anderen sieht das r\n",
      "110954\tpositiv\tnegativ\tX\tWollte hoch hinaus und ist tief gefallen, Selbstüberschätzung\n",
      "80507\tnegativ\tnegativ\t \tDer Linke Rand will die Menschen immer weiter ausquetschen. Wie wäre es mal mit einer Entlastung wäh\n",
      "54418\tnegativ\tnegativ\t \t@wsuft @Aserith_Shadow @c_drosten Auch ich kann das Schreiben nicht bewerten. Die darin getätigte Au\n",
      "3300\tnegativ\tnegativ\t \tBlöd: Am morgigen Sonntag um 08:00 Uhr aufstehen und wieder nicht ausschlafen können.Geil: Danach in\n",
      "3366\tpositiv\tpositiv\t \tFreund*olinos, ein Fest war‘s im Härdöpfuchäuer in Schöftland! Nächste Woche kommt der sehr lustige \n",
      "135382\tpositiv\tpositiv\t \t@livia090657 Danke schön liebe livia und Dir wünsche ich auch einen schönen Abend weiterhin. Relaxe \n",
      "154723\tnegativ\tnegativ\t \t@loooek @ozlbzn Und dann meinte er noch dass ich mich von anderen beeinflussen lassen hab die schlec\n",
      "59190\tpositiv\tnegativ\tX\t@Kricke1905 \"Nach der marxistischen Lehre folgt der Faschismus nämlich «notwendigerweise» aus dem Ka\n",
      "85534\tpositiv\tnegativ\tX\tMeine Mama hat mich gerade gefragt, ob es Zuhause oder zu Hause heißt. Ich: schreib doch einfach dah\n",
      "21304\tpositiv\tnegativ\tX\tZahlreiche Berichte von Geflüchteten, die an Grenzen gebracht werden. Auch wenn Grenzen nicht offizi\n",
      "90618\tpositiv\tnegativ\tX\tHybrid-Triebzüge als umweltschonende Lösung für Nebenstrecken: Hybrid-Züge haben das Potenzial, in d\n",
      "112813\tnegativ\tnegativ\t \tHab vorhin mal auf @ARTEde geschaut, was es dort so gibt. Schaue jetzt \"#Jordskott - Die Rache des W\n",
      "28035\tpositiv\tnegativ\tX\t11:40 Mehr als 500K Europäer|innen weden die Türkei in diesen und den nächsten Sommern nicht mehr al\n",
      "88335\tpositiv\tpositiv\t \tWunderschön. So lob ich mir das. Es gibt sogar 2 Huso Bots😂😂 https://t.co/UNF2tkn7sE\n",
      "127213\tpositiv\tnegativ\tX\tNew video by EMS Nordschleife  TV: Neue Zufahrt- Nürburgring Nordschleife kontaktlose Touristenfahrt\n",
      "46506\tpositiv\tpositiv\t \t@LynCeol @MrMoregame Ach süße das sind doch 10/10 Flirts!\n",
      "133046\tpositiv\tnegativ\tX\tJedenfalls ist es eine schöne Luft draußen.Die Vögel zwitschern, einfach schön 🙂\n",
      "57479\tpositiv\tpositiv\t \t@Mupfmama Gute Besserung.A-ieren = inhalieren?\n",
      "65815\tnegativ\tnegativ\t \t@ABaerbock Sie versuchen auch schon verzweifelt wieder Meinungshoheit zu erlangen, das wird nicht ge\n",
      "142252\tpositiv\tnegativ\tX\t@ScarletsFlame Puh... da sammelt sich aber ganz schön was an bei dir! O___O ich bin ja schon mit mei\n",
      "41641\tpositiv\tnegativ\tX\t@potzdamma @RoplingReinhard @MarcFelixSerrao Da gibt es übrigens heute wenig Syrer. Viel mehr aus Pa\n",
      "35469\tnegativ\tpositiv\tX\t@KJeziorki @n_roettgen Da einige Staaten vorübergehend mit dem Gedanken gespielt hatten sich dem Anz\n",
      "1804\tnegativ\tnegativ\t \tMein Twitter lebt wieder, jetzt ist eure Chance zu gehen, weil ihr merkt, dass ich doch nur dumme Sc\n",
      "61340\tnegativ\tnegativ\t \t@hieristnina_ Da will man ihr verzweifelt die Bayerische Bierkultur näherbringen und dann sowas...\n",
      "140655\tpositiv\tnegativ\tX\t@redhidinghood_ Ich vernasche gern mein:e Partner: und ich denke das ist heißes Abendessen\n",
      "92297\tpositiv\tnegativ\tX\tMich stört das auch, dieses Häppchenweise! Wenn man möglichst Viele ins Boot holen möchte, ist es mg\n",
      "121650\tpositiv\tnegativ\tX\tAktuelle Suchabfrage 'Cortese' auf https://t.co/AjK8EbBIFb #Suche #Suchportal #Schweiz  https://t.co\n",
      "116052\tpositiv\tnegativ\tX\tI hätt in de 80ern ins Waffengschäft einsteigen sollenDie Dealerei in den 90ern war a ned besserund \n",
      "90346\tnegativ\tpositiv\tX\tTrostpflaster fürs nächste Rennen mein Red Bull ist gut am Ferrari vorbeigekommen aber mehr als Plat\n",
      "34230\tnegativ\tnegativ\t \t@nikitheblogger Nur ist \"juristisch\" für diejenigen, die die nächste #Massenmigration nach Deutschla\n",
      "130490\tpositiv\tnegativ\tX\tMal ehrlich,Mobilität, fährst du noch ein anständiges Auto oder schon Elektroschrott?Bitte ehrlich a\n",
      "86134\tnegativ\tnegativ\t \tÜberfordertes britisches Gesundheitssystem: Königreich in der Notaufnahme.  Der britische National H\n",
      "48807\tpositiv\tnegativ\tX\t@die_gritti ... und wie es schön in die Linse guckt!! 😍\n",
      "139351\tpositiv\tnegativ\tX\t@nordlichtpercht @HasselerMartina @Evaohlerth1 weg mit den Hilfskräften - her mit 3jährig ausgebilde\n",
      "41865\tpositiv\tnegativ\tX\t@jensspahn Sie werden die nächsten Tage politisch nicht überleben.\n",
      "140865\tpositiv\tnegativ\tX\t@UnaCrasyThing @LenaPotter07 genau ich beschütze sie nähmlich 🥺👀\n",
      "17283\tnegativ\tnegativ\t \tStell dir vor dein Kind ist kürzlich einem rassistischen Angriff zum Opfer gefallen und jetzt vergle\n",
      "148586\tpositiv\tnegativ\tX\t@wiesnmichi Na, ab und zu muß jammern auch mal sein. Mir hilft es zumindest, etwas ausgesprochen zu \n",
      "156865\tnegativ\tnegativ\t \t@NilsSchmid @spdbt @spdde @dgb_news wenn jemand wie Sie das Wort Sozialstaat auch nur in den Mund ni\n",
      "54212\tpositiv\tnegativ\tX\t@larsklingbeil Und was passiert hier?? Genau das selbe also schön mal Fresse halten\n",
      "16841\tpositiv\tnegativ\tX\tLeichte Steigerung zum ersten Wahlgang - bis 12 Uhr haben 28,6 % der Stimmberechtigten gewählt. +++ \n",
      "32525\tpositiv\tnegativ\tX\t@hyunjinTT Ja. Und auch die stages von den NCT und Taemin waren cool. Die haben Baby Dont Stop gemac\n",
      "57695\tnegativ\tnegativ\t \t@Sebastian_1304 Seltsame Träume habe ich auch die letzten Nächte gehabt 😕\n",
      "131272\tnegativ\tnegativ\t \tMein kleiner Corona Alltag: Gestern U-Bahn Reise  U7  Richtung Neukölln. Erkenntnis.  Für echte Mach\n",
      "85570\tpositiv\tnegativ\tX\tTier-0-Storage trägt zur schnelleren Entwicklung bei https://t.co/ZupsppR00v\n",
      "11405\tnegativ\tnegativ\t \t#nurderFCM RT @Rostinho90210: Wie langweilig und trist muss das eigene Leben sein, um sich über die \n",
      "95482\tpositiv\tnegativ\tX\tDeswegen ist @n_roettgen der mit Abstand beste Kandidat der @CDU für den #CDUParteivorsitz. @ArminLa\n",
      "84805\tnegativ\tnegativ\t \t@ArminWolf, es ist schwer irritierend, wenn sie ihre eigene Stimme auf deutsch über ihren englischen\n",
      "2415\tpositiv\tnegativ\tX\tEr sollte sich die nächsten Wochen mal frei halten. #S04 #Schmidt https://t.co/detaTT8X2O\n",
      "57562\tnegativ\tnegativ\t \t@MK_Nbg73 @SchultheisEva Aber nicht jedes Jahr sterben soviel ältere Menschen in so kurzerZeit.☝🙄 R.\n",
      "118235\tnegativ\tnegativ\t \thttps://t.co/JARsdfShpl4 Migranten aus Brasilien,  Angola und Marokko kamen vom Training, sprachen 2\n",
      "54770\tpositiv\tnegativ\tX\t@KanaKan_cCc @freekeko3 Das ist doch alles gar nicht so ernst gemeint.. jedes Land ist schön, jedes \n",
      "116826\tnegativ\tnegativ\t \tWann hört das Geschleusse und die gefährliche Naivität und Schwäche der #EU in Bezug auf Konfrontati\n",
      "58767\tnegativ\tnegativ\t \t@PeterBechstein @FAZ_Politik @EskenSaskia Großkonzerne bekommen doch jetzt schon massig an staatlich\n",
      "\n",
      "Genauigkeit: 0.5\n"
     ]
    },
    {
     "data": {
      "image/png": "[encoded data removed]",
      "text/plain": [
       "<Figure size 432x288 with 1 Axes>"
      ]
     },
     "metadata": {},
     "output_type": "display_data"
    }
   ],
   "source": [
    "mf.unsupervised_classifier(train_sample, tweets_copy, kmclusterer, labels) # On Train"
   ]
  },
  {
   "cell_type": "markdown",
   "metadata": {},
   "source": [
    "<div style=\"background-color: #150458; padding: 5px;\"></div>\n",
    "\n",
    "## 5. Abschluss"
   ]
  },
  {
   "cell_type": "markdown",
   "metadata": {},
   "source": [
    "[Zurück zur Übersicht](#Lernmodul-zur-Verarbeitung-und-Analyse-von-Textdaten)"
   ]
  },
  {
   "cell_type": "markdown",
   "metadata": {},
   "source": [
    "Zum Abschluss des Lernmoduls folgen einige Verständnisfragen, bevor deine Gesamtpunktzahl errechnet wird..."
   ]
  },
  {
   "cell_type": "markdown",
   "metadata": {},
   "source": [
    "**Aufgabe: Welche Eingabe benötigt der überwachte `nbclassifier` Klassifikator?**"
   ]
  },
  {
   "cell_type": "code",
   "execution_count": 121,
   "metadata": {},
   "outputs": [
    {
     "data": {
      "application/vnd.jupyter.widget-view+json": {
       "model_id": "9bd5fc8d51074ba5ae2e5e670bc50c35",
       "version_major": 2,
       "version_minor": 0
      },
      "text/plain": [
       "Output()"
      ]
     },
     "metadata": {},
     "output_type": "display_data"
    },
    {
     "data": {
      "application/vnd.jupyter.widget-view+json": {
       "model_id": "ee9f00e0931b484ba4e5d54ef92b6e68",
       "version_major": 2,
       "version_minor": 0
      },
      "text/plain": [
       "Output()"
      ]
     },
     "metadata": {},
     "output_type": "display_data"
    },
    {
     "data": {
      "application/vnd.jupyter.widget-view+json": {
       "model_id": "9d9ed228389a45c19a7e6f64b301dd43",
       "version_major": 2,
       "version_minor": 0
      },
      "text/plain": [
       "Output()"
      ]
     },
     "metadata": {},
     "output_type": "display_data"
    }
   ],
   "source": [
    "texte_lm.show_task(501)"
   ]
  },
  {
   "cell_type": "markdown",
   "metadata": {},
   "source": [
    "**Aufgabe: Welche Eingabe benötigt der unüberwachte `kmclusterer` Klassifikator?**"
   ]
  },
  {
   "cell_type": "code",
   "execution_count": 122,
   "metadata": {},
   "outputs": [
    {
     "data": {
      "application/vnd.jupyter.widget-view+json": {
       "model_id": "7bbd7b9adf91428388c0ded7ac633f6b",
       "version_major": 2,
       "version_minor": 0
      },
      "text/plain": [
       "Output()"
      ]
     },
     "metadata": {},
     "output_type": "display_data"
    },
    {
     "data": {
      "application/vnd.jupyter.widget-view+json": {
       "model_id": "e7b69bfe7af541fe937cc25a017b3172",
       "version_major": 2,
       "version_minor": 0
      },
      "text/plain": [
       "Output()"
      ]
     },
     "metadata": {},
     "output_type": "display_data"
    },
    {
     "data": {
      "application/vnd.jupyter.widget-view+json": {
       "model_id": "12d58fe8b211456c92c68ab2a8914b7e",
       "version_major": 2,
       "version_minor": 0
      },
      "text/plain": [
       "Output()"
      ]
     },
     "metadata": {},
     "output_type": "display_data"
    }
   ],
   "source": [
    "texte_lm.show_task(502)"
   ]
  },
  {
   "cell_type": "markdown",
   "metadata": {},
   "source": [
    "**Ergebnis:**\n",
    "\n",
    "Du hast folgende Punktzahl erreicht..."
   ]
  },
  {
   "cell_type": "code",
   "execution_count": 123,
   "metadata": {},
   "outputs": [
    {
     "data": {
      "text/plain": [
       "0.0"
      ]
     },
     "execution_count": 123,
     "metadata": {},
     "output_type": "execute_result"
    }
   ],
   "source": [
    "texte_lm.get_score()"
   ]
  },
  {
   "cell_type": "markdown",
   "metadata": {},
   "source": [
    "**Zusammenfassung:**\n",
    "\n",
    "Das vergangene Lernmodul hat einen Einblick in die Texterkennung als Teilgebiet des _NLP_ gegeben. Im Zuge einer Stimmungsanalyse von aktuellen Beiträgen auf Twitter, haben wir zunächst Rohdaten beschafft und erkundet. Irrelevante Inhalte wurden auf Basis von Sonderzeichen, URL-Schema und der Länge des resultierenden Beitrags, identifiziert und verworfen, sodass die Rohdaten als nächstes in ein Modell eingebettet wurden. Dieses Modell klassifizierte die Daten entweder überwacht oder unüberwacht, was verschiedene Einbettungsschritte hervorrief. Letztendlich konnte sowohl der überwachte als auch der unüberwachte Klassifikator die Stimmung eines Tweets einschätzen und vorhersagen."
   ]
  },
  {
   "cell_type": "markdown",
   "metadata": {},
   "source": [
    "**Glossar:**\n",
    "\n",
    "* NLP (Natural Language Processing)\n",
    "    * Verarbeitung menschlicher Sprache\n",
    "* NLTK (Natural Language ToolKit)\n",
    "    * Python-Bibliothek für die Verarbeitung menschlicher Sprache"
   ]
  },
  {
   "cell_type": "markdown",
   "metadata": {},
   "source": [
    "**Weiterführende Lernmodule:**\n",
    "\n",
    "- [Lernmodul zu Datamining mit Scikit Learn](https://projectbase.medien.hs-duesseldorf.de/eild.nrw-module/lernmodul-scikit)"
   ]
  },
  {
   "cell_type": "markdown",
   "metadata": {},
   "source": [
    "**Weiterführende Inhalte:**\n",
    "\n",
    "* Leitfäden\n",
    "    * [Cookbook by NLTK](https://www.nltk.org/book/)\n",
    "    * [Recurrent neural networks by TensorFlow](https://www.tensorflow.org/guide/keras/rnn?hl=en)\n",
    "    * [Text classification by Google Developers](https://developers.google.com/machine-learning/guides/text-classification)\n",
    "* Vektorisierung\n",
    "    * [TextBlob](https://textblob.readthedocs.io/en/dev/)\n",
    "    * [Word2Vec](https://radimrehurek.com/gensim/models/word2vec.html)\n",
    "* Tutorials\n",
    "    * [Basic text classification by TensorFlow](https://www.tensorflow.org/tutorials/keras/text_classification?hl=en)"
   ]
  },
  {
   "cell_type": "markdown",
   "metadata": {},
   "source": [
    "**Referenzen:**\n",
    "\n",
    "<a id=\"1\">[1]</a> Nane Kratzke. (2020). Monthly Samples of German Tweets (Version 2020-04) [Data set]. Zenodo. http://doi.org/10.5281/zenodo.3783478\n",
    "\n",
    "<a id=\"2\">[2]</a> R. Remus, U. Quasthoff & G. Heyer: SentiWS - a Publicly Available German-language Resource for Sentiment Analysis. In: Proceedings of the 7th International Language Resources and Evaluation (LREC'10), pp. 1168-1171, 2010"
   ]
  }
 ],
 "metadata": {
  "kernelspec": {
   "display_name": "Python 3",
   "language": "python",
   "name": "python3"
  },
  "language_info": {
   "codemirror_mode": {
    "name": "ipython",
    "version": 3
   },
   "file_extension": ".py",
   "mimetype": "text/x-python",
   "name": "python",
   "nbconvert_exporter": "python",
   "pygments_lexer": "ipython3",
   "version": "3.7.0"
  }
 },
 "nbformat": 4,
 "nbformat_minor": 4
}
