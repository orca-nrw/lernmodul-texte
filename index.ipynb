{
 "cells": [
  {
   "cell_type": "markdown",
   "metadata": {},
   "source": [
    "![WordCloud](./img/wordcloud.png)"
   ]
  },
  {
   "cell_type": "markdown",
   "metadata": {},
   "source": [
    "# Lernmodul zur Verarbeitung und Analyse von Textdaten"
   ]
  },
  {
   "cell_type": "markdown",
   "metadata": {},
   "source": [
    "Die Verarbeitung von menschlicher Sprache (Natural Language Processing, NLP) gilt als Voraussetzung für eine erfolgreiche Mensch-Maschine-Kommunikation. Zusätzlich kann sie dabei helfen eine vom Mensch unternommene Textanalyse zu unterstützen. Handelt es sich bei diesem Kommentar um unerwünschte Inhalte, verbreitet dieser Beitrag Falschinformationen und welche Meinung will der Verfasser mit dieser Rezension zum Ausdruck bringen.\n",
    "\n",
    "Im folgenden Lernmodul sollen mithilfe computergestützter Methoden eine Antwort auf solche Problemstellungen gefunden werden. Im Zuge der Sentiment Analysis wird versucht die Intention hinter einem Textbeitrag zu quantifizieren um bspw. zwischen einer negativen und einer positiven Aussage zu unterscheiden. Diese Unterscheidung übernimmt ein Modell (hier: Klassifikator), welches auf Basis eines Vokabulars (hier: Labels) eine Vorhersage (hier: Stimmung) über vorliegende Textbeiträge (hier: Tweets) trifft.\n",
    "\n",
    "Dabei durchläuft das Lernmodul die drei Domänen *Daten*, *Modell* und *Verwendung*, wie die folgende Abbildung verdeutlicht:\n",
    "\n",
    "![Pipeline](./img/flow.png)"
   ]
  },
  {
   "cell_type": "markdown",
   "metadata": {},
   "source": [
    "**Übersicht über die Lerninhalte:**\n",
    "\n",
    "1. [Einführung](#einführung)\n",
    "    1. [Motivation](#motivation)\n",
    "    2. [Voraussetzungen](#voraussetzungen)\n",
    "2. [Daten](#daten)\n",
    "    1. [Textdaten beschaffen](#beschaffen)\n",
    "    2. [Textdaten erkunden](#erkunden)\n",
    "    3. [Textdaten aufbereiten](#aufbereiten)\n",
    "        1. [Zeichen bereinigen](#zeichen-bereinigen)\n",
    "        2. [Wörter bereinigen](#wörter-bereinigen)\n",
    "        3. [Tweets bereinigen](#tweets-bereinigen)\n",
    "3. [Modell](#modell)\n",
    "    1. [Textdaten einbetten](#einbetten)\n",
    "        1. [Vokabular](#vokabular)\n",
    "        2. [Label](#label)\n",
    "        3. [Vektorisierung](#vectorization)\n",
    "        4. [Features](#features)\n",
    "    2. [Textdaten klassifizieren](#klassifizieren)\n",
    "        1. [Überwachte Klassifikation](#überwachte-klassifikation)\n",
    "        2. [Unüberwachte Klassifikation](#unüberwachte-klassifikation)\n",
    "4. [Verwendung](#verwendung)\n",
    "    1. [Vorhersage](#vorhersage)\n",
    "        1. [Überwachte Klassifikation](#überwachte-klassifikation-2)\n",
    "        2. [Unüberwachte Klassifikation](#unüberwachte-klassifikation-2)\n",
    "5. [Abschluss](#abschluss)"
   ]
  },
  {
   "cell_type": "markdown",
   "metadata": {},
   "source": [
    "**Lernziele:**\n",
    "\n",
    "Die Teilnehmer lernen in der [Datendomäne](#daten) Textdaten in roher Form Schritt für Schritt in kontextbezogene Daten für eine Textanalyse zu transformieren. Daraufhin bewegen sich die Teilnehmer in der [Modelldomäne](#modell), in der sie die Daten in das Modell einbetten und mittels zweier unterschiedlicher Algorithmen klassifizieren. Last but not least werden die entstandenen Klassifikatoren in der [Verwendungsdomäne](#verwendung) für eine Vorhersage der Stimmung gebraucht."
   ]
  },
  {
   "cell_type": "markdown",
   "metadata": {},
   "source": [
    "**Voraussetzungen:**\n",
    "\n",
    "- [Lernmodul zum Datenimport und zur Datenvorbereitung mit Pandas](https://projectbase.medien.hs-duesseldorf.de/eild.nrw-module/lernmodul-pandas)"
   ]
  },
  {
   "cell_type": "markdown",
   "metadata": {},
   "source": [
    "**Setup für die Aufgabenüberprüfung:**"
   ]
  },
  {
   "cell_type": "code",
   "execution_count": 1,
   "metadata": {},
   "outputs": [],
   "source": [
    "from taskreview.learningModule import LearningModule\n",
    "texte_lm = LearningModule('data/lernmodul_texte.db')"
   ]
  },
  {
   "cell_type": "markdown",
   "metadata": {},
   "source": [
    "<div style=\"background-color: #150458; padding: 5px;\"></div>\n",
    "\n",
    "## 1. <a id='einführung'>Einführung</a>"
   ]
  },
  {
   "cell_type": "markdown",
   "metadata": {},
   "source": [
    "### 1.1 <a id='motivation'>Motivation</a>"
   ]
  },
  {
   "cell_type": "markdown",
   "metadata": {},
   "source": [
    "Die Verarbeitung menschlicher Sprache (Natural Language Processing, NLP) ist ein prominentes Forschungsfeld der Informatik mit ähnlichem Bekanntheitsgrad wie die Analyse visueller Daten (Computer Vision), welche bspw. das Erkennen von Bildern (Image Recognition) sowie ihre Manipulation (Image Augmentation) betrachtet. Im ersten Fall wollen wir einen bekannten bzw. alten Bildinhalt klassifizieren, während der zweite Fall einen unbekannten bzw. neuen Bildinhalt erzeugt."
   ]
  },
  {
   "cell_type": "markdown",
   "metadata": {},
   "source": [
    "Wechseln wir von der Bild- auf die Textebene, lässt sich das Forschungsfeld des _NLP_ auf ähnliche Problemstellungen herunterbrechen, die in der folgenden Auflistung aufgeführt sind:\n",
    "\n",
    "* Texterkennung (Text Recognition)\n",
    "  * Spracherkennung (Speech Recognition)\n",
    "  * Stimmungsanalyse (Sentiment Analysis)\n",
    "* Textmanipulation (Text Augmentation)\n",
    "  * Maschinelle Übersetzung (Machine Translation)\n",
    "  * Automatisches Antworten (Question Answering)"
   ]
  },
  {
   "cell_type": "markdown",
   "metadata": {},
   "source": [
    "Dieses Lernmodul beschäftigt sich mit der ersten Problemstellung, also der Texterkennung, im besonderen mit der Unterscheidung zwischen verschiedenen Stimmungen, welche der Verfasser eines Textes gehabt haben könnte. Ein aktuelles Anwendungsbeispiel ist die Identifikation von Hassreden, wie sie bspw. von [Facebook](https://www.facebook.com/) im Zuge ihrer [Community Standards](https://www.facebook.com/communitystandards/hate_speech) verboten sind und erkannt werden müssen. Aber auch ein aktuelles Stimmungsbild der Gesellschaft kann in Krisenzeiten über kürzlich verfasste Beiträge auf Twitter geschaffen werden."
   ]
  },
  {
   "cell_type": "markdown",
   "metadata": {},
   "source": [
    "### 1.2 <a id='voraussetzungen'>Voraussetzungen</a>"
   ]
  },
  {
   "cell_type": "markdown",
   "metadata": {},
   "source": [
    "Dieses Lernmodul nimmt sich [NumPy](https://numpy.org/) für numerische Berechnungen, [Pandas](https://pandas.pydata.org/) zur Datenverarbeitung und [PyPlot](https://matplotlib.org/api/pyplot_api.html) zur Datenvisualisierung zur Hilfe. Die folgende Zelle importiert benötigte Abhängigkeiten:"
   ]
  },
  {
   "cell_type": "code",
   "execution_count": 2,
   "metadata": {},
   "outputs": [],
   "source": [
    "import numpy as np\n",
    "import pandas as pd\n",
    "import matplotlib.pyplot as plt"
   ]
  },
  {
   "cell_type": "markdown",
   "metadata": {},
   "source": [
    "Außerdem werden die folgenden Systemkomponenten zur Hife genommen:"
   ]
  },
  {
   "cell_type": "code",
   "execution_count": 3,
   "metadata": {},
   "outputs": [],
   "source": [
    "import glob"
   ]
  },
  {
   "cell_type": "markdown",
   "metadata": {},
   "source": [
    "<div style=\"background-color: #150458; padding: 5px;\"></div>\n",
    "\n",
    "## 2. <a id='daten'>Daten</a>"
   ]
  },
  {
   "cell_type": "markdown",
   "metadata": {},
   "source": [
    "In der Datendomäne beschaffen wir uns zunächst einen Datensatz, welcher aus vielen Beispielen besteht, der die Grundgesamtheit an Daten bildet. Ein Beispiel umfasst dabei mindestens ein, wenn nicht sogar mehrere Merkmale. Ein Merkmal wird dabei durch einen numerischen oder symbolischen Wert verkörpert, der in unserem Fall bspw. ein Text sein kann. Im weiteren Verlauf werden die beschafften Daten begutachtet und auf Basis dessen bereinigt.\n",
    "\n",
    "Welche Schritte ein Tweet in der Datendomäne durchläuft verdeutlicht die folgende Abbildung:\n",
    "\n",
    "![Daten](./img/data_flow.png)"
   ]
  },
  {
   "cell_type": "markdown",
   "metadata": {},
   "source": [
    "### 2.1 <a id='beschaffen'>Textdaten beschaffen</a>"
   ]
  },
  {
   "cell_type": "markdown",
   "metadata": {},
   "source": [
    "Wo findet man in der heutigen Zeit aktuelle Daten, welche eine eigene Meinung enthalten? Auf dem Kurznachrichtendienst Twitter. Da aktuelle Daten von Twitter nicht automatisch mit einer passenden Semantik angereichert werden, benötigt ihre Analyse einen gewissen Mehraufwand. Überwachtes Lernen auf einem aufbereiteten Datensatz aus bekannter Ein- und Ausgabe ist in unserem Fall erstmal so nicht möglich, da wir es mit aktuellen Daten zu tun haben, die erst aufbereitet werden müssen. Aber auch unüberwachtes Lernen ist mit solchen Daten von Anfang an möglich."
   ]
  },
  {
   "cell_type": "markdown",
   "metadata": {},
   "source": [
    "Im Ordner `data/` finden sich einige komprimierte Daten im JSON-Format, welche wir zunächst mithilfe von Pandas einlesen und im DataFrame `twitter` hinterlegen."
   ]
  },
  {
   "cell_type": "code",
   "execution_count": 4,
   "metadata": {},
   "outputs": [],
   "source": [
    "twitter = None\n",
    "for file in glob.glob('./data/tweets/*.gz'):\n",
    "    json = pd.read_json(file, compression='gzip')\n",
    "    twitter = pd.concat([twitter, json[:5000]]) # Take only 5k tweets per file"
   ]
  },
  {
   "cell_type": "markdown",
   "metadata": {},
   "source": [
    "### 2.2 <a id='erkunden'>Textdaten erkunden</a>"
   ]
  },
  {
   "cell_type": "markdown",
   "metadata": {},
   "source": [
    "Wie im [Lernmodul zum Datenimport und zur Datenvorbereitung mit Pandas](https://projectbase.medien.hs-duesseldorf.de/eild.nrw-module/lernmodul-pandas) kennengelernt, lässt sich über die `head()` Funktionalität der Kopf des Datensatzes betrachten. Wie schaut dieser aus?"
   ]
  },
  {
   "cell_type": "code",
   "execution_count": 5,
   "metadata": {},
   "outputs": [
    {
     "data": {
      "text/html": [
       "<div>\n",
       "<style scoped>\n",
       "    .dataframe tbody tr th:only-of-type {\n",
       "        vertical-align: middle;\n",
       "    }\n",
       "\n",
       "    .dataframe tbody tr th {\n",
       "        vertical-align: top;\n",
       "    }\n",
       "\n",
       "    .dataframe thead th {\n",
       "        text-align: right;\n",
       "    }\n",
       "</style>\n",
       "<table border=\"1\" class=\"dataframe\">\n",
       "  <thead>\n",
       "    <tr style=\"text-align: right;\">\n",
       "      <th></th>\n",
       "      <th>twista</th>\n",
       "      <th>type</th>\n",
       "      <th>id</th>\n",
       "      <th>user</th>\n",
       "      <th>created_at</th>\n",
       "      <th>recorded_at</th>\n",
       "      <th>source</th>\n",
       "      <th>retweets</th>\n",
       "      <th>favourites</th>\n",
       "      <th>lang</th>\n",
       "      <th>...</th>\n",
       "      <th>name</th>\n",
       "      <th>screen_name</th>\n",
       "      <th>location</th>\n",
       "      <th>description</th>\n",
       "      <th>url</th>\n",
       "      <th>verified</th>\n",
       "      <th>followers</th>\n",
       "      <th>friends</th>\n",
       "      <th>listed</th>\n",
       "      <th>statuses</th>\n",
       "    </tr>\n",
       "  </thead>\n",
       "  <tbody>\n",
       "    <tr>\n",
       "      <th>0</th>\n",
       "      <td>0.3.4b1</td>\n",
       "      <td>reply</td>\n",
       "      <td>1245112617968033792</td>\n",
       "      <td>3.792278e+09</td>\n",
       "      <td>2020-03-31 22:15:55+00:00</td>\n",
       "      <td>2020-03-31 22:16:09.670982+00:00</td>\n",
       "      <td>&lt;a href=\"https://mobile.twitter.com\" rel=\"nofo...</td>\n",
       "      <td>0.0</td>\n",
       "      <td>0</td>\n",
       "      <td>de</td>\n",
       "      <td>...</td>\n",
       "      <td>NaN</td>\n",
       "      <td>NaN</td>\n",
       "      <td>NaN</td>\n",
       "      <td>NaN</td>\n",
       "      <td>NaN</td>\n",
       "      <td>NaN</td>\n",
       "      <td>NaN</td>\n",
       "      <td>NaN</td>\n",
       "      <td>NaN</td>\n",
       "      <td>NaN</td>\n",
       "    </tr>\n",
       "    <tr>\n",
       "      <th>1</th>\n",
       "      <td>0.3.4b1</td>\n",
       "      <td>reply</td>\n",
       "      <td>1245112620740296704</td>\n",
       "      <td>1.181766e+18</td>\n",
       "      <td>2020-03-31 22:15:56+00:00</td>\n",
       "      <td>2020-03-31 22:16:09.673858+00:00</td>\n",
       "      <td>&lt;a href=\"http://twitter.com/download/android\" ...</td>\n",
       "      <td>0.0</td>\n",
       "      <td>0</td>\n",
       "      <td>de</td>\n",
       "      <td>...</td>\n",
       "      <td>NaN</td>\n",
       "      <td>NaN</td>\n",
       "      <td>NaN</td>\n",
       "      <td>NaN</td>\n",
       "      <td>NaN</td>\n",
       "      <td>NaN</td>\n",
       "      <td>NaN</td>\n",
       "      <td>NaN</td>\n",
       "      <td>NaN</td>\n",
       "      <td>NaN</td>\n",
       "    </tr>\n",
       "    <tr>\n",
       "      <th>2</th>\n",
       "      <td>0.3.4b1</td>\n",
       "      <td>reply</td>\n",
       "      <td>1245112625412923392</td>\n",
       "      <td>1.189159e+18</td>\n",
       "      <td>2020-03-31 22:15:57+00:00</td>\n",
       "      <td>2020-03-31 22:16:09.684859+00:00</td>\n",
       "      <td>&lt;a href=\"http://twitter.com/download/android\" ...</td>\n",
       "      <td>0.0</td>\n",
       "      <td>0</td>\n",
       "      <td>de</td>\n",
       "      <td>...</td>\n",
       "      <td>NaN</td>\n",
       "      <td>NaN</td>\n",
       "      <td>NaN</td>\n",
       "      <td>NaN</td>\n",
       "      <td>NaN</td>\n",
       "      <td>NaN</td>\n",
       "      <td>NaN</td>\n",
       "      <td>NaN</td>\n",
       "      <td>NaN</td>\n",
       "      <td>NaN</td>\n",
       "    </tr>\n",
       "    <tr>\n",
       "      <th>3</th>\n",
       "      <td>0.3.4b1</td>\n",
       "      <td>reply</td>\n",
       "      <td>1245081023324528640</td>\n",
       "      <td>4.766604e+07</td>\n",
       "      <td>2020-03-31 20:10:23+00:00</td>\n",
       "      <td>2020-04-01 08:15:03.535422+00:00</td>\n",
       "      <td>&lt;a href=\"http://twitter.com/download/iphone\" r...</td>\n",
       "      <td>7.0</td>\n",
       "      <td>65</td>\n",
       "      <td>de</td>\n",
       "      <td>...</td>\n",
       "      <td>NaN</td>\n",
       "      <td>NaN</td>\n",
       "      <td>NaN</td>\n",
       "      <td>NaN</td>\n",
       "      <td>NaN</td>\n",
       "      <td>NaN</td>\n",
       "      <td>NaN</td>\n",
       "      <td>NaN</td>\n",
       "      <td>NaN</td>\n",
       "      <td>NaN</td>\n",
       "    </tr>\n",
       "    <tr>\n",
       "      <th>4</th>\n",
       "      <td>0.3.4b1</td>\n",
       "      <td>reply</td>\n",
       "      <td>1245112639988076544</td>\n",
       "      <td>2.809609e+09</td>\n",
       "      <td>2020-03-31 22:16:01+00:00</td>\n",
       "      <td>2020-03-31 22:16:09.692649+00:00</td>\n",
       "      <td>&lt;a href=\"https://mobile.twitter.com\" rel=\"nofo...</td>\n",
       "      <td>0.0</td>\n",
       "      <td>0</td>\n",
       "      <td>de</td>\n",
       "      <td>...</td>\n",
       "      <td>NaN</td>\n",
       "      <td>NaN</td>\n",
       "      <td>NaN</td>\n",
       "      <td>NaN</td>\n",
       "      <td>NaN</td>\n",
       "      <td>NaN</td>\n",
       "      <td>NaN</td>\n",
       "      <td>NaN</td>\n",
       "      <td>NaN</td>\n",
       "      <td>NaN</td>\n",
       "    </tr>\n",
       "  </tbody>\n",
       "</table>\n",
       "<p>5 rows × 26 columns</p>\n",
       "</div>"
      ],
      "text/plain": [
       "    twista   type                   id          user  \\\n",
       "0  0.3.4b1  reply  1245112617968033792  3.792278e+09   \n",
       "1  0.3.4b1  reply  1245112620740296704  1.181766e+18   \n",
       "2  0.3.4b1  reply  1245112625412923392  1.189159e+18   \n",
       "3  0.3.4b1  reply  1245081023324528640  4.766604e+07   \n",
       "4  0.3.4b1  reply  1245112639988076544  2.809609e+09   \n",
       "\n",
       "                 created_at                      recorded_at  \\\n",
       "0 2020-03-31 22:15:55+00:00 2020-03-31 22:16:09.670982+00:00   \n",
       "1 2020-03-31 22:15:56+00:00 2020-03-31 22:16:09.673858+00:00   \n",
       "2 2020-03-31 22:15:57+00:00 2020-03-31 22:16:09.684859+00:00   \n",
       "3 2020-03-31 20:10:23+00:00 2020-04-01 08:15:03.535422+00:00   \n",
       "4 2020-03-31 22:16:01+00:00 2020-03-31 22:16:09.692649+00:00   \n",
       "\n",
       "                                              source  retweets  favourites  \\\n",
       "0  <a href=\"https://mobile.twitter.com\" rel=\"nofo...       0.0           0   \n",
       "1  <a href=\"http://twitter.com/download/android\" ...       0.0           0   \n",
       "2  <a href=\"http://twitter.com/download/android\" ...       0.0           0   \n",
       "3  <a href=\"http://twitter.com/download/iphone\" r...       7.0          65   \n",
       "4  <a href=\"https://mobile.twitter.com\" rel=\"nofo...       0.0           0   \n",
       "\n",
       "  lang  ... name screen_name location description  url  verified followers  \\\n",
       "0   de  ...  NaN         NaN      NaN         NaN  NaN       NaN       NaN   \n",
       "1   de  ...  NaN         NaN      NaN         NaN  NaN       NaN       NaN   \n",
       "2   de  ...  NaN         NaN      NaN         NaN  NaN       NaN       NaN   \n",
       "3   de  ...  NaN         NaN      NaN         NaN  NaN       NaN       NaN   \n",
       "4   de  ...  NaN         NaN      NaN         NaN  NaN       NaN       NaN   \n",
       "\n",
       "  friends listed statuses  \n",
       "0     NaN    NaN      NaN  \n",
       "1     NaN    NaN      NaN  \n",
       "2     NaN    NaN      NaN  \n",
       "3     NaN    NaN      NaN  \n",
       "4     NaN    NaN      NaN  \n",
       "\n",
       "[5 rows x 26 columns]"
      ]
     },
     "execution_count": 5,
     "metadata": {},
     "output_type": "execute_result"
    }
   ],
   "source": [
    "twitter.head()"
   ]
  },
  {
   "cell_type": "markdown",
   "metadata": {},
   "source": [
    "Leider liefert die `head()` Funktionalität nicht die Größe des Datensatzes zurück. Wie viele Beispiele sind in ihm enthalten?"
   ]
  },
  {
   "cell_type": "code",
   "execution_count": 6,
   "metadata": {},
   "outputs": [],
   "source": [
    "texte_lm.show_task(1)"
   ]
  },
  {
   "cell_type": "code",
   "execution_count": 7,
   "metadata": {},
   "outputs": [
    {
     "data": {
      "text/plain": [
       "10000"
      ]
     },
     "execution_count": 7,
     "metadata": {},
     "output_type": "execute_result"
    }
   ],
   "source": [
    "twitter.shape[0]"
   ]
  },
  {
   "cell_type": "markdown",
   "metadata": {},
   "source": [
    "Wie viele Werte liegen pro Beispiel vor? Aus wie vielen Merkmalen besteht der Datensatz?"
   ]
  },
  {
   "cell_type": "code",
   "execution_count": 8,
   "metadata": {},
   "outputs": [],
   "source": [
    "texte_lm.show_task(2)"
   ]
  },
  {
   "cell_type": "code",
   "execution_count": 9,
   "metadata": {},
   "outputs": [
    {
     "data": {
      "text/plain": [
       "26"
      ]
     },
     "execution_count": 9,
     "metadata": {},
     "output_type": "execute_result"
    }
   ],
   "source": [
    "twitter.shape[1]"
   ]
  },
  {
   "cell_type": "markdown",
   "metadata": {},
   "source": [
    "Mal sehen, wie die Merkmale heißen."
   ]
  },
  {
   "cell_type": "code",
   "execution_count": 10,
   "metadata": {},
   "outputs": [
    {
     "data": {
      "text/plain": [
       "Index(['twista', 'type', 'id', 'user', 'created_at', 'recorded_at', 'source',\n",
       "       'retweets', 'favourites', 'lang', 'hashtags', 'urls', 'mentions',\n",
       "       'mentioned_ids', 'text', 'refers_to', 'name', 'screen_name', 'location',\n",
       "       'description', 'url', 'verified', 'followers', 'friends', 'listed',\n",
       "       'statuses'],\n",
       "      dtype='object')"
      ]
     },
     "execution_count": 10,
     "metadata": {},
     "output_type": "execute_result"
    }
   ],
   "source": [
    "twitter.columns"
   ]
  },
  {
   "cell_type": "markdown",
   "metadata": {},
   "source": [
    "Das Merkmal _created_at_ scheint den Zeitpunkt des Tweets zu beinhalten. Welche Monate haben wir erwischt?"
   ]
  },
  {
   "cell_type": "code",
   "execution_count": 11,
   "metadata": {},
   "outputs": [
    {
     "data": {
      "text/plain": [
       "Text(0.5, 0, '2020')"
      ]
     },
     "execution_count": 11,
     "metadata": {},
     "output_type": "execute_result"
    },
    {
     "data": {
      "image/png": "[encoded data removed]",
      "text/plain": [
       "<Figure size 432x288 with 1 Axes>"
      ]
     },
     "metadata": {
      "needs_background": "light"
     },
     "output_type": "display_data"
    }
   ],
   "source": [
    "ax = twitter['created_at'].groupby(twitter['created_at'].dt.month_name()).count().plot(kind='bar', title='Tweets created', x='Month')\n",
    "ax.set_xlabel('2020')"
   ]
  },
  {
   "cell_type": "markdown",
   "metadata": {},
   "source": [
    "Das Merkmal _lang_ schauen wir uns als nächstes an. Welche Sprachen sind vertreten?"
   ]
  },
  {
   "cell_type": "code",
   "execution_count": 12,
   "metadata": {},
   "outputs": [
    {
     "data": {
      "text/plain": [
       "array(['de', 'en', 'pt', 'es', 'tr', 'und', 'fr', 'tl', 'et', 'it', 'ko',\n",
       "       'in'], dtype=object)"
      ]
     },
     "execution_count": 12,
     "metadata": {},
     "output_type": "execute_result"
    }
   ],
   "source": [
    "twitter['lang'].unique()"
   ]
  },
  {
   "cell_type": "markdown",
   "metadata": {},
   "source": [
    "Wir behalten lediglich die deutschen Inhalte..."
   ]
  },
  {
   "cell_type": "code",
   "execution_count": 13,
   "metadata": {},
   "outputs": [],
   "source": [
    "twitter = twitter.drop(twitter[twitter.lang != 'de'].index).reset_index(drop=True)"
   ]
  },
  {
   "cell_type": "markdown",
   "metadata": {},
   "source": [
    "Das Merkmal _text_ scheint die gewünschten Tweets zu enthalten. Wir extrahieren dieses Merkmal vom DataFrame `twitter` in eine DataSeries `tweets`."
   ]
  },
  {
   "cell_type": "code",
   "execution_count": 14,
   "metadata": {},
   "outputs": [
    {
     "data": {
      "text/plain": [
       "0    @artelle22 Diese Nächte, wo man bis um 2 Uhr m...\n",
       "1                           @astefanibays abner e sthe\n",
       "2                   @durstige_waemby War schön mit dir\n",
       "3     niemand hat a ahnung, aber jeder weiß es besser.\n",
       "4                          @xXskiller20Xx Z u  s p ä t\n",
       "Name: text, dtype: object"
      ]
     },
     "execution_count": 14,
     "metadata": {},
     "output_type": "execute_result"
    }
   ],
   "source": [
    "tweets = twitter['text']\n",
    "tweets.head()"
   ]
  },
  {
   "cell_type": "markdown",
   "metadata": {},
   "source": []
  },
  {
   "cell_type": "markdown",
   "metadata": {},
   "source": [
    "Beim Extrahieren des Tweets werden ausnahmslos alle Beispiele überführt. Sind unsere Daten nun vollständig, oder gibt es womöglich inhaltslose Tweets ohne Textinhalt, die uns in der folgenden Aufbereitung Probleme bereiten?"
   ]
  },
  {
   "cell_type": "code",
   "execution_count": 15,
   "metadata": {},
   "outputs": [],
   "source": [
    "texte_lm.show_task(3)"
   ]
  },
  {
   "cell_type": "code",
   "execution_count": 16,
   "metadata": {},
   "outputs": [
    {
     "data": {
      "text/plain": [
       "array([False,  True])"
      ]
     },
     "execution_count": 16,
     "metadata": {},
     "output_type": "execute_result"
    }
   ],
   "source": [
    "tweets.isna().unique()"
   ]
  },
  {
   "cell_type": "markdown",
   "metadata": {},
   "source": [
    "Fehlende Werte können von den folgenden Schritten nicht verarbeitet werden, sodass wir sie entfernen müssen."
   ]
  },
  {
   "cell_type": "code",
   "execution_count": 17,
   "metadata": {},
   "outputs": [],
   "source": [
    "tweets = tweets.dropna()"
   ]
  },
  {
   "cell_type": "markdown",
   "metadata": {},
   "source": [
    "Bevor es an die Aufbereitung der Daten geht, behalten wir lieber eine Kopie, auf die wir im Falle des Falles zurückgreifen können."
   ]
  },
  {
   "cell_type": "code",
   "execution_count": 18,
   "metadata": {},
   "outputs": [],
   "source": [
    "tweets_copy = tweets.replace(regex={r'\\n' :  ' '})"
   ]
  },
  {
   "cell_type": "markdown",
   "metadata": {},
   "source": [
    "### 2.3 <a id='aufbereiten'>Textdaten aufbereiten</a>"
   ]
  },
  {
   "cell_type": "markdown",
   "metadata": {},
   "source": [
    "#### 2.3.1 <a id='zeichen-bereinigen'>Zeichen bereinigen</a>"
   ]
  },
  {
   "cell_type": "markdown",
   "metadata": {},
   "source": [
    "Schauen wir uns das erste Beispiel an. Mit welchem Befehl kommen wir zum ersten Tweet?"
   ]
  },
  {
   "cell_type": "code",
   "execution_count": 19,
   "metadata": {},
   "outputs": [],
   "source": [
    "texte_lm.show_task(4)"
   ]
  },
  {
   "cell_type": "code",
   "execution_count": 20,
   "metadata": {},
   "outputs": [
    {
     "data": {
      "text/plain": [
       "'@artelle22 Diese Nächte, wo man bis um 2 Uhr morgens im Bett liegt und über das Leben nachdenkt.'"
      ]
     },
     "execution_count": 20,
     "metadata": {},
     "output_type": "execute_result"
    }
   ],
   "source": [
    "tweets.iloc[0]"
   ]
  },
  {
   "cell_type": "markdown",
   "metadata": {},
   "source": [
    "Leider enthalten Tweets allerhand Sonderzeichen, Emojis und vielleicht sogar eine URL. \n",
    "\n",
    "Daher werden wir als nächstes alle Symbole entfernen, die weder dem Alphabet angehören, noch Ziffern sind. Welcher reguläre Ausdruck kommt dafür in Frage?"
   ]
  },
  {
   "cell_type": "code",
   "execution_count": 21,
   "metadata": {},
   "outputs": [],
   "source": [
    "texte_lm.show_task(5)"
   ]
  },
  {
   "cell_type": "code",
   "execution_count": 22,
   "metadata": {},
   "outputs": [
    {
     "data": {
      "text/plain": [
       "'artelle Diese Nächte wo man bis um  Uhr morgens im Bett liegt und über das Leben nachdenkt'"
      ]
     },
     "execution_count": 22,
     "metadata": {},
     "output_type": "execute_result"
    }
   ],
   "source": [
    "expression = '[^a-zA-ZäöüßÄÖU\\s]'\n",
    "tweets = tweets.replace(regex={expression : ''})\n",
    "tweets.iloc[0]"
   ]
  },
  {
   "cell_type": "markdown",
   "metadata": {},
   "source": [
    "Die folgenden regulären Ausdrücke entfernen zusätzlich alle URLs und Zeilenumbrüche."
   ]
  },
  {
   "cell_type": "code",
   "execution_count": 23,
   "metadata": {},
   "outputs": [
    {
     "data": {
      "text/plain": [
       "'artelle Diese Nächte wo man bis um  Uhr morgens im Bett liegt und über das Leben nachdenkt'"
      ]
     },
     "execution_count": 23,
     "metadata": {},
     "output_type": "execute_result"
    }
   ],
   "source": [
    "tweets = tweets.replace(regex={r'http\\S+' : '', r'\\n' :  ' '})\n",
    "tweets.iloc[0]"
   ]
  },
  {
   "cell_type": "markdown",
   "metadata": {},
   "source": [
    "#### 2.3.2 <a id='wörter-bereinigen'>Wörter bereinigen</a>"
   ]
  },
  {
   "cell_type": "markdown",
   "metadata": {},
   "source": [
    "Da unsere Bereinigung im vorherigen Abschnitt nur noch einzelne Wörter und keine Symbole mehr übrig gelassen hat, werden wir jeden Tweet in seine Bestandteile zerlegen. Dafür zerteilen wir die Zeichenkette anhand des Leerzeichens und erhalten eine Liste von Wörtern pro Tweet. Dieser Schritt geht mit der Funktionsweise eines [Tokenizer](https://de.wikipedia.org/wiki/Tokenizer) einher."
   ]
  },
  {
   "cell_type": "code",
   "execution_count": 24,
   "metadata": {},
   "outputs": [
    {
     "data": {
      "text/plain": [
       "['artelle',\n",
       " 'Diese',\n",
       " 'Nächte',\n",
       " 'wo',\n",
       " 'man',\n",
       " 'bis',\n",
       " 'um',\n",
       " 'Uhr',\n",
       " 'morgens',\n",
       " 'im',\n",
       " 'Bett',\n",
       " 'liegt',\n",
       " 'und',\n",
       " 'über',\n",
       " 'das',\n",
       " 'Leben',\n",
       " 'nachdenkt']"
      ]
     },
     "execution_count": 24,
     "metadata": {},
     "output_type": "execute_result"
    }
   ],
   "source": [
    "tweets = tweets.str.split()\n",
    "tweets.iloc[0]"
   ]
  },
  {
   "cell_type": "markdown",
   "metadata": {},
   "source": [
    "Da wir die einzelnen Wörter getrennt haben, fassen wir alle Wörter aus jedem Tweet zu einer großen Sammlung zusammen, die wir daraufhin betrachten können."
   ]
  },
  {
   "cell_type": "code",
   "execution_count": 25,
   "metadata": {},
   "outputs": [],
   "source": [
    "def aggregate_words(tweets):\n",
    "    \"\"\"Aggregate words from tweets\"\"\"\n",
    "    \n",
    "    all_words = []\n",
    "    for sentence in tweets:\n",
    "        for word in sentence:\n",
    "            all_words.append(word.lower())\n",
    "    return all_words"
   ]
  },
  {
   "cell_type": "markdown",
   "metadata": {},
   "source": [
    "Wie viele unterschiedliche Wörter sind getweetet worden?"
   ]
  },
  {
   "cell_type": "code",
   "execution_count": 26,
   "metadata": {},
   "outputs": [],
   "source": [
    "texte_lm.show_task(6)"
   ]
  },
  {
   "cell_type": "code",
   "execution_count": 27,
   "metadata": {},
   "outputs": [
    {
     "data": {
      "text/plain": [
       "21268"
      ]
     },
     "execution_count": 27,
     "metadata": {},
     "output_type": "execute_result"
    }
   ],
   "source": [
    "all_words = aggregate_words(tweets)\n",
    "len(pd.Series(all_words).unique())"
   ]
  },
  {
   "cell_type": "markdown",
   "metadata": {},
   "source": [
    "Nachdem wir alle Wörter beisammen haben, interessieren uns die beliebtesten Wörter. An dieser Stelle greifen wir zum ersten mal auf das Natural Language Toolkit ([NLTK](https://www.nltk.org/)) zurück, welches eine Häufigkeitsverteilung über die [FreqDist](http://www.nltk.org/api/nltk.html?highlight=freqdist#nltk.probability.FreqDist) Funktionalität wie folgt implementiert."
   ]
  },
  {
   "cell_type": "code",
   "execution_count": 28,
   "metadata": {},
   "outputs": [],
   "source": [
    "from nltk.probability import FreqDist\n",
    "fd = FreqDist(all_words)"
   ]
  },
  {
   "cell_type": "markdown",
   "metadata": {},
   "source": [
    "Wie lauten also die drei häufigsten Wörter"
   ]
  },
  {
   "cell_type": "code",
   "execution_count": 29,
   "metadata": {},
   "outputs": [],
   "source": [
    "texte_lm.show_task(7)"
   ]
  },
  {
   "cell_type": "code",
   "execution_count": 30,
   "metadata": {},
   "outputs": [
    {
     "data": {
      "text/plain": [
       "[('die', 1559), ('und', 1386), ('ich', 1254)]"
      ]
     },
     "execution_count": 30,
     "metadata": {},
     "output_type": "execute_result"
    }
   ],
   "source": [
    "fd.most_common(3)"
   ]
  },
  {
   "cell_type": "markdown",
   "metadata": {},
   "source": [
    "Es ist nachzuvollziehen, wieso Artikel die am häufigsten verwendeten Wörter sind. Schauen wir uns die Häufigkeitsverteilung der 15 beliebtesten Wörter an."
   ]
  },
  {
   "cell_type": "code",
   "execution_count": 31,
   "metadata": {},
   "outputs": [
    {
     "data": {
      "image/png": "[encoded data removed]",
      "text/plain": [
       "<Figure size 432x288 with 1 Axes>"
      ]
     },
     "metadata": {
      "needs_background": "light"
     },
     "output_type": "display_data"
    },
    {
     "data": {
      "text/plain": [
       "<matplotlib.axes._subplots.AxesSubplot at 0x1b02f206b38>"
      ]
     },
     "execution_count": 31,
     "metadata": {},
     "output_type": "execute_result"
    }
   ],
   "source": [
    "fd.plot(15)"
   ]
  },
  {
   "cell_type": "markdown",
   "metadata": {},
   "source": [
    "Für unsere Analyse scheinen Artikel und Pronomen nicht hilfreich zu sein, da sie keine Stimmung implizieren. Daher wollen wir sie im nächsten Schritt entfernen. \n",
    "\n",
    "Im Kontext des NLP werden solche Wörter als Stoppwörter, also Wörter, die den Lesefluss stören, bezeichnet. Um sie zu identifizieren, benutzen wir die vorgegebene Liste `stop_words.txt` und importieren sie in eine List namens `stop_words`. Hätte man lediglich die meist genutzten Wörter aus der Häufigkeitsverteilung oben genommen, wäre man Gefahr gelaufen, relevante Wörter, wie _schön_, ebenfalls zu entfernen."
   ]
  },
  {
   "cell_type": "code",
   "execution_count": 32,
   "metadata": {},
   "outputs": [
    {
     "data": {
      "text/html": [
       "<div>\n",
       "<style scoped>\n",
       "    .dataframe tbody tr th:only-of-type {\n",
       "        vertical-align: middle;\n",
       "    }\n",
       "\n",
       "    .dataframe tbody tr th {\n",
       "        vertical-align: top;\n",
       "    }\n",
       "\n",
       "    .dataframe thead th {\n",
       "        text-align: right;\n",
       "    }\n",
       "</style>\n",
       "<table border=\"1\" class=\"dataframe\">\n",
       "  <thead>\n",
       "    <tr style=\"text-align: right;\">\n",
       "      <th></th>\n",
       "      <th>Wort</th>\n",
       "    </tr>\n",
       "  </thead>\n",
       "  <tbody>\n",
       "    <tr>\n",
       "      <th>0</th>\n",
       "      <td>der</td>\n",
       "    </tr>\n",
       "    <tr>\n",
       "      <th>1</th>\n",
       "      <td>die</td>\n",
       "    </tr>\n",
       "    <tr>\n",
       "      <th>2</th>\n",
       "      <td>das</td>\n",
       "    </tr>\n",
       "    <tr>\n",
       "      <th>3</th>\n",
       "      <td>ein</td>\n",
       "    </tr>\n",
       "    <tr>\n",
       "      <th>4</th>\n",
       "      <td>eine</td>\n",
       "    </tr>\n",
       "  </tbody>\n",
       "</table>\n",
       "</div>"
      ],
      "text/plain": [
       "   Wort\n",
       "0   der\n",
       "1   die\n",
       "2   das\n",
       "3   ein\n",
       "4  eine"
      ]
     },
     "execution_count": 32,
     "metadata": {},
     "output_type": "execute_result"
    }
   ],
   "source": [
    "stop_words = pd.read_csv('./data/vocab/stop_words.txt', names=['Wort'])\n",
    "stop_words.head()"
   ]
  },
  {
   "cell_type": "markdown",
   "metadata": {},
   "source": [
    "Bevor wir blind alle Stoppwörter entfernen, fragen wir uns lieber, wie viel Prozent unseres Datensatzes wir dadurch wohl verlieren würden?"
   ]
  },
  {
   "cell_type": "code",
   "execution_count": 33,
   "metadata": {},
   "outputs": [],
   "source": [
    "def content_loss(text):\n",
    "    content = [word for word in text if word not in stop_words['Wort'].values.tolist()]\n",
    "    return 1.0 - len(content) / len(text)"
   ]
  },
  {
   "cell_type": "code",
   "execution_count": 34,
   "metadata": {},
   "outputs": [
    {
     "data": {
      "text/plain": [
       "0.1650552733791455"
      ]
     },
     "execution_count": 34,
     "metadata": {},
     "output_type": "execute_result"
    }
   ],
   "source": [
    "content_loss(all_words)"
   ]
  },
  {
   "cell_type": "markdown",
   "metadata": {},
   "source": [
    "Dann werfen wir die `filter_tokens()` Funktion wie folgt an."
   ]
  },
  {
   "cell_type": "code",
   "execution_count": 35,
   "metadata": {},
   "outputs": [],
   "source": [
    "def filter_tokens(tweets):\n",
    "    \"\"\"Filter tokens in tweets\"\"\"\n",
    "    \n",
    "    row_list = []\n",
    "    for row in tweets:\n",
    "        token_list = []\n",
    "        for token in row:\n",
    "            if token.lower() not in stop_words['Wort'].values.tolist():\n",
    "                token_list.append(token.lower())\n",
    "        row_list.append(token_list)\n",
    "    \n",
    "    return pd.Series(row_list)"
   ]
  },
  {
   "cell_type": "code",
   "execution_count": 36,
   "metadata": {},
   "outputs": [
    {
     "data": {
      "text/plain": [
       "0    [artelle, diese, nächte, wo, man, bis, um, uhr...\n",
       "1                       [astefanibays, abner, e, sthe]\n",
       "2               [durstigewaemby, war, schön, mit, dir]\n",
       "3       [niemand, hat, a, ahnung, jeder, weiß, besser]\n",
       "4                      [xxskillerxx, z, u, s, p, ä, t]\n",
       "dtype: object"
      ]
     },
     "execution_count": 36,
     "metadata": {},
     "output_type": "execute_result"
    }
   ],
   "source": [
    "tweets = filter_tokens(tweets) # Python list\n",
    "tweets.head()"
   ]
  },
  {
   "cell_type": "markdown",
   "metadata": {},
   "source": [
    "Damit muss unsere Sammlung von Wörtern aktualisiert werden. Der Einfachheit halber sammeln wir sie erneut über die `aggregate_words()` Funktion."
   ]
  },
  {
   "cell_type": "code",
   "execution_count": 37,
   "metadata": {},
   "outputs": [],
   "source": [
    "all_words = aggregate_words(tweets)"
   ]
  },
  {
   "cell_type": "markdown",
   "metadata": {},
   "source": [
    "Welche Ausgabe kann bei erneutem Aufruf der `content_loss()` Funktion erwartet werden?"
   ]
  },
  {
   "cell_type": "code",
   "execution_count": 38,
   "metadata": {},
   "outputs": [],
   "source": [
    "texte_lm.show_task(8)"
   ]
  },
  {
   "cell_type": "code",
   "execution_count": 39,
   "metadata": {},
   "outputs": [
    {
     "data": {
      "text/plain": [
       "0.0"
      ]
     },
     "execution_count": 39,
     "metadata": {},
     "output_type": "execute_result"
    }
   ],
   "source": [
    "content_loss(all_words)"
   ]
  },
  {
   "cell_type": "markdown",
   "metadata": {},
   "source": [
    "Welche Wörter werden wohl mit Ausnahme der Stoppwörter am häufigsten benutzt? Alternativ zur bereits bekannten Häufigkeitsverteilung lassen sich im Kontext des NLP sog. Schlagwortwolken erstellen. Dazu nutzen wir die [WordCloud](http://amueller.github.io/word_cloud/index.html) Funktionalität wie folgt."
   ]
  },
  {
   "cell_type": "code",
   "execution_count": 40,
   "metadata": {},
   "outputs": [],
   "source": [
    "from wordcloud import WordCloud\n",
    "wc = WordCloud()"
   ]
  },
  {
   "cell_type": "code",
   "execution_count": 41,
   "metadata": {},
   "outputs": [
    {
     "data": {
      "image/png": "[encoded data removed]",
      "text/plain": [
       "<Figure size 432x288 with 1 Axes>"
      ]
     },
     "metadata": {
      "needs_background": "light"
     },
     "output_type": "display_data"
    }
   ],
   "source": [
    "plt.imshow(wc.generate_from_frequencies(FreqDist(all_words)), interpolation=\"bilinear\")\n",
    "plt.title('Die häufigsten Wörter')\n",
    "plt.show()"
   ]
  },
  {
   "cell_type": "markdown",
   "metadata": {},
   "source": [
    "#### 2.3.3 <a id='tweets-bereinigen'>Tweets bereinigen</a>"
   ]
  },
  {
   "cell_type": "markdown",
   "metadata": {},
   "source": [
    "Da uns der vergangene Abschnitt einige Wörter gekostet hat, wollen wir nun die Tweets identifizieren, die zu wenig oder vielleicht sogar zu viele Wörter enthalten. Beide Extrema sind für die weiterführende Analyse nicht zu gebrauchen. Daher berechnen wir im folgenden die Länge eines Tweets. Wie viele Wörter besitzt der kürzeste Tweet?"
   ]
  },
  {
   "cell_type": "code",
   "execution_count": 42,
   "metadata": {},
   "outputs": [],
   "source": [
    "texte_lm.show_task(9)"
   ]
  },
  {
   "cell_type": "code",
   "execution_count": 43,
   "metadata": {},
   "outputs": [
    {
     "data": {
      "text/plain": [
       "1"
      ]
     },
     "execution_count": 43,
     "metadata": {},
     "output_type": "execute_result"
    }
   ],
   "source": [
    "tweets_length = [len(tweet) for tweet in tweets]\n",
    "np.min(tweets_length)"
   ]
  },
  {
   "cell_type": "markdown",
   "metadata": {},
   "source": [
    "Hoffentlich handelt es sich um einen Ausreißer. Das verifizieren wir wiederum mit einer Häufigkeitsverteilung. Dieses Mal aber als einfaches Histogramm über die `plot_tweet_length_distribution()` Funktion:"
   ]
  },
  {
   "cell_type": "code",
   "execution_count": 44,
   "metadata": {},
   "outputs": [],
   "source": [
    "def plot_tweet_length_distribution(tweets_length):\n",
    "    \"\"\"Count tokens per tweet and plot their length distribution.\"\"\"\n",
    "\n",
    "    y, x, _ = plt.hist(tweets_length, np.max(tweets_length))\n",
    "    plt.xlabel('Words per tweet')\n",
    "    plt.ylabel('Amount of tweets')\n",
    "    plt.title('Tweet length distribution')\n",
    "    plt.plot(x[np.where(y == y.max())], y.max(), 'ro') \n",
    "    plt.legend(np.round(x[np.where(y == y.max())]))\n",
    "    plt.show()"
   ]
  },
  {
   "cell_type": "code",
   "execution_count": 45,
   "metadata": {},
   "outputs": [
    {
     "data": {
      "image/png": "[encoded data removed]",
      "text/plain": [
       "<Figure size 432x288 with 1 Axes>"
      ]
     },
     "metadata": {
      "needs_background": "light"
     },
     "output_type": "display_data"
    }
   ],
   "source": [
    "plot_tweet_length_distribution(tweets_length)"
   ]
  },
  {
   "cell_type": "markdown",
   "metadata": {},
   "source": [
    "Die meisten Tweets scheinen nach Entfernen der Stoppwörter nur noch vier Wörter lang zu sein. Wir verwerfen alles darunter, also alle Tweets die _4_ oder weniger Wörter besitzen."
   ]
  },
  {
   "cell_type": "code",
   "execution_count": 46,
   "metadata": {},
   "outputs": [],
   "source": [
    "def drop_tweets(tweets):\n",
    "    \"\"\"Drop tweets\"\"\"\n",
    "    \n",
    "    row_list = []\n",
    "    for row in tweets:\n",
    "        if len(row) > 4:\n",
    "            row_list.append(row)\n",
    "    \n",
    "    return pd.Series(row_list)"
   ]
  },
  {
   "cell_type": "code",
   "execution_count": 47,
   "metadata": {},
   "outputs": [],
   "source": [
    "# tweets = drop_tweets(tweets) # Does not preserve index\n",
    "tweets = tweets[tweets.map(len) > 4 ] # Preserve index"
   ]
  },
  {
   "cell_type": "markdown",
   "metadata": {},
   "source": [
    "Von den anfänglich 10k Tweets bleibt gut 4k übrig."
   ]
  },
  {
   "cell_type": "code",
   "execution_count": 48,
   "metadata": {},
   "outputs": [
    {
     "data": {
      "text/plain": [
       "3986"
      ]
     },
     "execution_count": 48,
     "metadata": {},
     "output_type": "execute_result"
    }
   ],
   "source": [
    "tweets.size"
   ]
  },
  {
   "cell_type": "markdown",
   "metadata": {},
   "source": [
    "Weiter geht's in der Modelldomäne..."
   ]
  },
  {
   "cell_type": "markdown",
   "metadata": {},
   "source": [
    "## 3. <a id='modell'>Modell</a>"
   ]
  },
  {
   "cell_type": "markdown",
   "metadata": {},
   "source": [
    "In der Modelldomäne betten wir die bereinigten Daten zunächst auf Basis eines Vokabulars in ein Modell ein. Das Vokabular dient dabei als Look-up (LUT) für einen Tweet.\n",
    "\n",
    "Welche Schritte ein Tweet in der Modelldomäne durchläuft verdeutlicht die folgende Abbildung:\n",
    "\n",
    "![Model](./img/model_flow.png)"
   ]
  },
  {
   "cell_type": "markdown",
   "metadata": {},
   "source": [
    "### 3.1 <a id='einbetten'>Textdaten einbetten</a>"
   ]
  },
  {
   "cell_type": "markdown",
   "metadata": {},
   "source": [
    "Da Modelle vorzugsweise numerische Daten verstehen werden wir unsere Textdaten in diesem Abschnitt in eine für das Modell lesbare Form überführen und sie so in das Modell einbetten."
   ]
  },
  {
   "cell_type": "markdown",
   "metadata": {},
   "source": [
    "#### 3.1.1 <a id='vokabular'>Vokabular</a>"
   ]
  },
  {
   "cell_type": "markdown",
   "metadata": {},
   "source": [
    "Das Vokabular besteht aus negativ bzw. positiv konnotierten Wörtern der deutschen Sprache. Die Schwere der Stimmung ist im Intervall von `[-1, 1]` bzw. `['negativ', 'positiv']` festgelegt, wonach neutrale Wörter, wie _und_ bzw. _oder_ mit eine Stimmungswert von _0_ gleichzusetzen sind."
   ]
  },
  {
   "cell_type": "code",
   "execution_count": 49,
   "metadata": {},
   "outputs": [],
   "source": [
    "labels = ['negativ', 'positiv']"
   ]
  },
  {
   "cell_type": "markdown",
   "metadata": {},
   "source": [
    "Dann schauen wir uns mal die negativen..."
   ]
  },
  {
   "cell_type": "code",
   "execution_count": 50,
   "metadata": {},
   "outputs": [
    {
     "data": {
      "text/html": [
       "<div>\n",
       "<style scoped>\n",
       "    .dataframe tbody tr th:only-of-type {\n",
       "        vertical-align: middle;\n",
       "    }\n",
       "\n",
       "    .dataframe tbody tr th {\n",
       "        vertical-align: top;\n",
       "    }\n",
       "\n",
       "    .dataframe thead th {\n",
       "        text-align: right;\n",
       "    }\n",
       "</style>\n",
       "<table border=\"1\" class=\"dataframe\">\n",
       "  <thead>\n",
       "    <tr style=\"text-align: right;\">\n",
       "      <th></th>\n",
       "      <th>Wort</th>\n",
       "      <th>Wert</th>\n",
       "      <th>Deklination</th>\n",
       "      <th>Stimmung</th>\n",
       "    </tr>\n",
       "  </thead>\n",
       "  <tbody>\n",
       "    <tr>\n",
       "      <th>0</th>\n",
       "      <td>Abbruch|NN</td>\n",
       "      <td>-0.0048</td>\n",
       "      <td>Abbruches,Abbrüche,Abbruchs,Abbrüchen</td>\n",
       "      <td>negativ</td>\n",
       "    </tr>\n",
       "    <tr>\n",
       "      <th>1</th>\n",
       "      <td>Abdankung|NN</td>\n",
       "      <td>-0.0048</td>\n",
       "      <td>Abdankungen</td>\n",
       "      <td>negativ</td>\n",
       "    </tr>\n",
       "    <tr>\n",
       "      <th>2</th>\n",
       "      <td>Abdämpfung|NN</td>\n",
       "      <td>-0.0048</td>\n",
       "      <td>Abdämpfungen</td>\n",
       "      <td>negativ</td>\n",
       "    </tr>\n",
       "    <tr>\n",
       "      <th>3</th>\n",
       "      <td>Abfall|NN</td>\n",
       "      <td>-0.0048</td>\n",
       "      <td>Abfalles,Abfälle,Abfalls,Abfällen</td>\n",
       "      <td>negativ</td>\n",
       "    </tr>\n",
       "    <tr>\n",
       "      <th>4</th>\n",
       "      <td>Abfuhr|NN</td>\n",
       "      <td>-0.3367</td>\n",
       "      <td>Abfuhren</td>\n",
       "      <td>negativ</td>\n",
       "    </tr>\n",
       "  </tbody>\n",
       "</table>\n",
       "</div>"
      ],
      "text/plain": [
       "            Wort    Wert                            Deklination Stimmung\n",
       "0     Abbruch|NN -0.0048  Abbruches,Abbrüche,Abbruchs,Abbrüchen  negativ\n",
       "1   Abdankung|NN -0.0048                            Abdankungen  negativ\n",
       "2  Abdämpfung|NN -0.0048                           Abdämpfungen  negativ\n",
       "3      Abfall|NN -0.0048      Abfalles,Abfälle,Abfalls,Abfällen  negativ\n",
       "4      Abfuhr|NN -0.3367                               Abfuhren  negativ"
      ]
     },
     "execution_count": 50,
     "metadata": {},
     "output_type": "execute_result"
    }
   ],
   "source": [
    "negative = pd.read_csv('./data/vocab/negative_words.txt', lineterminator='\\n', sep='\\t', header=0, names=['Wort', 'Wert', 'Deklination'])\n",
    "negative['Stimmung'] = 'negativ'\n",
    "negative.head()"
   ]
  },
  {
   "cell_type": "markdown",
   "metadata": {},
   "source": [
    "...und die positiven Wörter an:"
   ]
  },
  {
   "cell_type": "code",
   "execution_count": 51,
   "metadata": {},
   "outputs": [
    {
     "data": {
      "text/html": [
       "<div>\n",
       "<style scoped>\n",
       "    .dataframe tbody tr th:only-of-type {\n",
       "        vertical-align: middle;\n",
       "    }\n",
       "\n",
       "    .dataframe tbody tr th {\n",
       "        vertical-align: top;\n",
       "    }\n",
       "\n",
       "    .dataframe thead th {\n",
       "        text-align: right;\n",
       "    }\n",
       "</style>\n",
       "<table border=\"1\" class=\"dataframe\">\n",
       "  <thead>\n",
       "    <tr style=\"text-align: right;\">\n",
       "      <th></th>\n",
       "      <th>Wort</th>\n",
       "      <th>Wert</th>\n",
       "      <th>Deklination</th>\n",
       "      <th>Stimmung</th>\n",
       "    </tr>\n",
       "  </thead>\n",
       "  <tbody>\n",
       "    <tr>\n",
       "      <th>0</th>\n",
       "      <td>Abschluß|NN</td>\n",
       "      <td>0.004</td>\n",
       "      <td>Abschlüße,Abschlußs,Abschlußes,Abschlüßen</td>\n",
       "      <td>positiv</td>\n",
       "    </tr>\n",
       "    <tr>\n",
       "      <th>1</th>\n",
       "      <td>Abstimmung|NN</td>\n",
       "      <td>0.004</td>\n",
       "      <td>Abstimmungen</td>\n",
       "      <td>positiv</td>\n",
       "    </tr>\n",
       "    <tr>\n",
       "      <th>2</th>\n",
       "      <td>Agilität|NN</td>\n",
       "      <td>0.004</td>\n",
       "      <td>NaN</td>\n",
       "      <td>positiv</td>\n",
       "    </tr>\n",
       "    <tr>\n",
       "      <th>3</th>\n",
       "      <td>Aktivität|NN</td>\n",
       "      <td>0.004</td>\n",
       "      <td>Aktivitäten</td>\n",
       "      <td>positiv</td>\n",
       "    </tr>\n",
       "    <tr>\n",
       "      <th>4</th>\n",
       "      <td>Aktualisierung|NN</td>\n",
       "      <td>0.004</td>\n",
       "      <td>Aktualisierungen</td>\n",
       "      <td>positiv</td>\n",
       "    </tr>\n",
       "  </tbody>\n",
       "</table>\n",
       "</div>"
      ],
      "text/plain": [
       "                Wort   Wert                                Deklination  \\\n",
       "0        Abschluß|NN  0.004  Abschlüße,Abschlußs,Abschlußes,Abschlüßen   \n",
       "1      Abstimmung|NN  0.004                               Abstimmungen   \n",
       "2        Agilität|NN  0.004                                        NaN   \n",
       "3       Aktivität|NN  0.004                                Aktivitäten   \n",
       "4  Aktualisierung|NN  0.004                           Aktualisierungen   \n",
       "\n",
       "  Stimmung  \n",
       "0  positiv  \n",
       "1  positiv  \n",
       "2  positiv  \n",
       "3  positiv  \n",
       "4  positiv  "
      ]
     },
     "execution_count": 51,
     "metadata": {},
     "output_type": "execute_result"
    }
   ],
   "source": [
    "positive = pd.read_csv('./data/vocab/positive_words.txt', lineterminator='\\n', sep='\\t', header=0, names=['Wort', 'Wert', 'Deklination'])\n",
    "positive['Stimmung'] = 'positiv'\n",
    "positive.head()"
   ]
  },
  {
   "cell_type": "markdown",
   "metadata": {},
   "source": [
    "Der Spalte _Wort_ scheint der Typ des Wortes angehängt zu sein. Wir führen das negative und das positive Vokabular im DataFrame `vocab` zusammen und trennen das Wort von seinem Typ."
   ]
  },
  {
   "cell_type": "code",
   "execution_count": 52,
   "metadata": {},
   "outputs": [
    {
     "data": {
      "text/html": [
       "<div>\n",
       "<style scoped>\n",
       "    .dataframe tbody tr th:only-of-type {\n",
       "        vertical-align: middle;\n",
       "    }\n",
       "\n",
       "    .dataframe tbody tr th {\n",
       "        vertical-align: top;\n",
       "    }\n",
       "\n",
       "    .dataframe thead th {\n",
       "        text-align: right;\n",
       "    }\n",
       "</style>\n",
       "<table border=\"1\" class=\"dataframe\">\n",
       "  <thead>\n",
       "    <tr style=\"text-align: right;\">\n",
       "      <th></th>\n",
       "      <th>Wort</th>\n",
       "      <th>Wert</th>\n",
       "      <th>Deklination</th>\n",
       "      <th>Stimmung</th>\n",
       "      <th>Typ</th>\n",
       "    </tr>\n",
       "  </thead>\n",
       "  <tbody>\n",
       "    <tr>\n",
       "      <th>0</th>\n",
       "      <td>Abbruch</td>\n",
       "      <td>-0.0048</td>\n",
       "      <td>Abbruches,Abbrüche,Abbruchs,Abbrüchen</td>\n",
       "      <td>negativ</td>\n",
       "      <td>NN</td>\n",
       "    </tr>\n",
       "    <tr>\n",
       "      <th>1</th>\n",
       "      <td>Abdankung</td>\n",
       "      <td>-0.0048</td>\n",
       "      <td>Abdankungen</td>\n",
       "      <td>negativ</td>\n",
       "      <td>NN</td>\n",
       "    </tr>\n",
       "    <tr>\n",
       "      <th>2</th>\n",
       "      <td>Abdämpfung</td>\n",
       "      <td>-0.0048</td>\n",
       "      <td>Abdämpfungen</td>\n",
       "      <td>negativ</td>\n",
       "      <td>NN</td>\n",
       "    </tr>\n",
       "    <tr>\n",
       "      <th>3</th>\n",
       "      <td>Abfall</td>\n",
       "      <td>-0.0048</td>\n",
       "      <td>Abfalles,Abfälle,Abfalls,Abfällen</td>\n",
       "      <td>negativ</td>\n",
       "      <td>NN</td>\n",
       "    </tr>\n",
       "    <tr>\n",
       "      <th>4</th>\n",
       "      <td>Abfuhr</td>\n",
       "      <td>-0.3367</td>\n",
       "      <td>Abfuhren</td>\n",
       "      <td>negativ</td>\n",
       "      <td>NN</td>\n",
       "    </tr>\n",
       "  </tbody>\n",
       "</table>\n",
       "</div>"
      ],
      "text/plain": [
       "         Wort    Wert                            Deklination Stimmung Typ\n",
       "0     Abbruch -0.0048  Abbruches,Abbrüche,Abbruchs,Abbrüchen  negativ  NN\n",
       "1   Abdankung -0.0048                            Abdankungen  negativ  NN\n",
       "2  Abdämpfung -0.0048                           Abdämpfungen  negativ  NN\n",
       "3      Abfall -0.0048      Abfalles,Abfälle,Abfalls,Abfällen  negativ  NN\n",
       "4      Abfuhr -0.3367                               Abfuhren  negativ  NN"
      ]
     },
     "execution_count": 52,
     "metadata": {},
     "output_type": "execute_result"
    }
   ],
   "source": [
    "vocab = pd.concat([negative, positive]) # assert positive.size + negative.size == vocab.size\n",
    "vocab[['Wort', 'Typ']] = vocab['Wort'].str.split('|', 1, expand=True)\n",
    "vocab.head()"
   ]
  },
  {
   "cell_type": "markdown",
   "metadata": {},
   "source": [
    "Welche Wort-Typen sind vorhanden?"
   ]
  },
  {
   "cell_type": "code",
   "execution_count": 53,
   "metadata": {},
   "outputs": [],
   "source": [
    "texte_lm.show_task(10)"
   ]
  },
  {
   "cell_type": "code",
   "execution_count": 54,
   "metadata": {},
   "outputs": [
    {
     "data": {
      "text/plain": [
       "array(['NN', 'VVINF', 'ADJX', 'ADV'], dtype=object)"
      ]
     },
     "execution_count": 54,
     "metadata": {},
     "output_type": "execute_result"
    }
   ],
   "source": [
    "vocab['Typ'].unique()"
   ]
  },
  {
   "cell_type": "markdown",
   "metadata": {},
   "source": [
    "Wir visualisieren alle negativen Nomen mithilfe der bereits bekannten Schlagwortwolke:"
   ]
  },
  {
   "cell_type": "code",
   "execution_count": 55,
   "metadata": {},
   "outputs": [
    {
     "data": {
      "image/png": "[encoded data removed]",
      "text/plain": [
       "<Figure size 432x288 with 1 Axes>"
      ]
     },
     "metadata": {
      "needs_background": "light"
     },
     "output_type": "display_data"
    }
   ],
   "source": [
    "neg = vocab[(vocab['Stimmung'] == 'negativ') & (vocab['Typ'] == 'NN')] # Only negative vocabulary\n",
    "plt.imshow(wc.generate_from_frequencies(pd.Series(neg.Wert.values * (-100), index=neg.Wort).to_dict()), interpolation=\"bilinear\")\n",
    "plt.axis('off')\n",
    "plt.show()"
   ]
  },
  {
   "cell_type": "markdown",
   "metadata": {},
   "source": [
    "Analog visualisieren wir alle positiven Adjektive in unserem Vokabular."
   ]
  },
  {
   "cell_type": "code",
   "execution_count": 56,
   "metadata": {},
   "outputs": [
    {
     "data": {
      "image/png": "[encoded data removed]",
      "text/plain": [
       "<Figure size 432x288 with 1 Axes>"
      ]
     },
     "metadata": {
      "needs_background": "light"
     },
     "output_type": "display_data"
    }
   ],
   "source": [
    "pos = vocab[(vocab['Stimmung'] == 'positiv') & (vocab['Typ'] == 'ADJX')] # Only positive vocabulary\n",
    "plt.imshow(wc.generate_from_frequencies(pd.Series(pos.Wert.values * (100), index=pos.Wort).to_dict()), interpolation=\"bilinear\")\n",
    "plt.axis('off')\n",
    "plt.show()"
   ]
  },
  {
   "cell_type": "markdown",
   "metadata": {},
   "source": [
    "Ist unser Vokabular eher negativ oder eher positiv?"
   ]
  },
  {
   "cell_type": "code",
   "execution_count": 57,
   "metadata": {},
   "outputs": [],
   "source": [
    "texte_lm.show_task(11)"
   ]
  },
  {
   "cell_type": "code",
   "execution_count": 58,
   "metadata": {},
   "outputs": [
    {
     "data": {
      "text/plain": [
       "Wert   -0.053921\n",
       "dtype: float64"
      ]
     },
     "execution_count": 58,
     "metadata": {},
     "output_type": "execute_result"
    }
   ],
   "source": [
    "vocab.mean()"
   ]
  },
  {
   "cell_type": "markdown",
   "metadata": {},
   "source": [
    "Wie bereits für die Tweets halten wir nach fehlenden Werten Ausschau. In welcher Spalte fehlen Werte?"
   ]
  },
  {
   "cell_type": "code",
   "execution_count": 59,
   "metadata": {},
   "outputs": [],
   "source": [
    "texte_lm.show_task(12)"
   ]
  },
  {
   "cell_type": "code",
   "execution_count": 60,
   "metadata": {},
   "outputs": [
    {
     "data": {
      "text/html": [
       "<div>\n",
       "<style scoped>\n",
       "    .dataframe tbody tr th:only-of-type {\n",
       "        vertical-align: middle;\n",
       "    }\n",
       "\n",
       "    .dataframe tbody tr th {\n",
       "        vertical-align: top;\n",
       "    }\n",
       "\n",
       "    .dataframe thead th {\n",
       "        text-align: right;\n",
       "    }\n",
       "</style>\n",
       "<table border=\"1\" class=\"dataframe\">\n",
       "  <thead>\n",
       "    <tr style=\"text-align: right;\">\n",
       "      <th></th>\n",
       "      <th>Wort</th>\n",
       "      <th>Wert</th>\n",
       "      <th>Deklination</th>\n",
       "      <th>Stimmung</th>\n",
       "      <th>Typ</th>\n",
       "    </tr>\n",
       "  </thead>\n",
       "  <tbody>\n",
       "    <tr>\n",
       "      <th>count</th>\n",
       "      <td>3466</td>\n",
       "      <td>3466</td>\n",
       "      <td>3466</td>\n",
       "      <td>3466</td>\n",
       "      <td>3466</td>\n",
       "    </tr>\n",
       "    <tr>\n",
       "      <th>unique</th>\n",
       "      <td>1</td>\n",
       "      <td>1</td>\n",
       "      <td>2</td>\n",
       "      <td>1</td>\n",
       "      <td>1</td>\n",
       "    </tr>\n",
       "    <tr>\n",
       "      <th>top</th>\n",
       "      <td>False</td>\n",
       "      <td>False</td>\n",
       "      <td>False</td>\n",
       "      <td>False</td>\n",
       "      <td>False</td>\n",
       "    </tr>\n",
       "    <tr>\n",
       "      <th>freq</th>\n",
       "      <td>3466</td>\n",
       "      <td>3466</td>\n",
       "      <td>2659</td>\n",
       "      <td>3466</td>\n",
       "      <td>3466</td>\n",
       "    </tr>\n",
       "  </tbody>\n",
       "</table>\n",
       "</div>"
      ],
      "text/plain": [
       "         Wort   Wert Deklination Stimmung    Typ\n",
       "count    3466   3466        3466     3466   3466\n",
       "unique      1      1           2        1      1\n",
       "top     False  False       False    False  False\n",
       "freq     3466   3466        2659     3466   3466"
      ]
     },
     "execution_count": 60,
     "metadata": {},
     "output_type": "execute_result"
    }
   ],
   "source": [
    "vocab.isna().describe()"
   ]
  },
  {
   "cell_type": "markdown",
   "metadata": {},
   "source": [
    "Anstatt sie zu streichen, werden sie dieses mal mit einer leeren Zeichenkette ersetzt."
   ]
  },
  {
   "cell_type": "code",
   "execution_count": 61,
   "metadata": {},
   "outputs": [],
   "source": [
    "vocab = vocab.fillna('')"
   ]
  },
  {
   "cell_type": "markdown",
   "metadata": {},
   "source": [
    "Für eine unkomplizierte LUT benötigen wir ein Wort pro Zeile. Dies erreichen wir, indem wir die Elemente der Liste in Spalte _Deklinaton_ in eine eigene Reihe überführen."
   ]
  },
  {
   "cell_type": "code",
   "execution_count": 62,
   "metadata": {},
   "outputs": [
    {
     "data": {
      "text/html": [
       "<div>\n",
       "<style scoped>\n",
       "    .dataframe tbody tr th:only-of-type {\n",
       "        vertical-align: middle;\n",
       "    }\n",
       "\n",
       "    .dataframe tbody tr th {\n",
       "        vertical-align: top;\n",
       "    }\n",
       "\n",
       "    .dataframe thead th {\n",
       "        text-align: right;\n",
       "    }\n",
       "</style>\n",
       "<table border=\"1\" class=\"dataframe\">\n",
       "  <thead>\n",
       "    <tr style=\"text-align: right;\">\n",
       "      <th></th>\n",
       "      <th>Stamm</th>\n",
       "      <th>Wert</th>\n",
       "      <th>Stimmung</th>\n",
       "      <th>Typ</th>\n",
       "      <th>Wort</th>\n",
       "    </tr>\n",
       "  </thead>\n",
       "  <tbody>\n",
       "    <tr>\n",
       "      <th>0</th>\n",
       "      <td>Abbruch</td>\n",
       "      <td>-0.0048</td>\n",
       "      <td>negativ</td>\n",
       "      <td>NN</td>\n",
       "      <td>Abbruch</td>\n",
       "    </tr>\n",
       "    <tr>\n",
       "      <th>1</th>\n",
       "      <td>Abbruch</td>\n",
       "      <td>-0.0048</td>\n",
       "      <td>negativ</td>\n",
       "      <td>NN</td>\n",
       "      <td>Abbruches</td>\n",
       "    </tr>\n",
       "    <tr>\n",
       "      <th>2</th>\n",
       "      <td>Abbruch</td>\n",
       "      <td>-0.0048</td>\n",
       "      <td>negativ</td>\n",
       "      <td>NN</td>\n",
       "      <td>Abbrüche</td>\n",
       "    </tr>\n",
       "    <tr>\n",
       "      <th>3</th>\n",
       "      <td>Abbruch</td>\n",
       "      <td>-0.0048</td>\n",
       "      <td>negativ</td>\n",
       "      <td>NN</td>\n",
       "      <td>Abbruchs</td>\n",
       "    </tr>\n",
       "    <tr>\n",
       "      <th>4</th>\n",
       "      <td>Abbruch</td>\n",
       "      <td>-0.0048</td>\n",
       "      <td>negativ</td>\n",
       "      <td>NN</td>\n",
       "      <td>Abbrüchen</td>\n",
       "    </tr>\n",
       "    <tr>\n",
       "      <th>...</th>\n",
       "      <td>...</td>\n",
       "      <td>...</td>\n",
       "      <td>...</td>\n",
       "      <td>...</td>\n",
       "      <td>...</td>\n",
       "    </tr>\n",
       "    <tr>\n",
       "      <th>32076</th>\n",
       "      <td>üppig</td>\n",
       "      <td>0.2010</td>\n",
       "      <td>positiv</td>\n",
       "      <td>ADJX</td>\n",
       "      <td>üppigster</td>\n",
       "    </tr>\n",
       "    <tr>\n",
       "      <th>32077</th>\n",
       "      <td>üppig</td>\n",
       "      <td>0.2010</td>\n",
       "      <td>positiv</td>\n",
       "      <td>ADJX</td>\n",
       "      <td>üppiges</td>\n",
       "    </tr>\n",
       "    <tr>\n",
       "      <th>32078</th>\n",
       "      <td>üppig</td>\n",
       "      <td>0.2010</td>\n",
       "      <td>positiv</td>\n",
       "      <td>ADJX</td>\n",
       "      <td>üppig</td>\n",
       "    </tr>\n",
       "    <tr>\n",
       "      <th>32079</th>\n",
       "      <td>üppig</td>\n",
       "      <td>0.2010</td>\n",
       "      <td>positiv</td>\n",
       "      <td>ADJX</td>\n",
       "      <td>üppigsten</td>\n",
       "    </tr>\n",
       "    <tr>\n",
       "      <th>32080</th>\n",
       "      <td>üppig</td>\n",
       "      <td>0.2010</td>\n",
       "      <td>positiv</td>\n",
       "      <td>ADJX</td>\n",
       "      <td>üppige</td>\n",
       "    </tr>\n",
       "  </tbody>\n",
       "</table>\n",
       "<p>32081 rows × 5 columns</p>\n",
       "</div>"
      ],
      "text/plain": [
       "         Stamm    Wert Stimmung   Typ       Wort\n",
       "0      Abbruch -0.0048  negativ    NN    Abbruch\n",
       "1      Abbruch -0.0048  negativ    NN  Abbruches\n",
       "2      Abbruch -0.0048  negativ    NN   Abbrüche\n",
       "3      Abbruch -0.0048  negativ    NN   Abbruchs\n",
       "4      Abbruch -0.0048  negativ    NN  Abbrüchen\n",
       "...        ...     ...      ...   ...        ...\n",
       "32076    üppig  0.2010  positiv  ADJX  üppigster\n",
       "32077    üppig  0.2010  positiv  ADJX    üppiges\n",
       "32078    üppig  0.2010  positiv  ADJX      üppig\n",
       "32079    üppig  0.2010  positiv  ADJX  üppigsten\n",
       "32080    üppig  0.2010  positiv  ADJX     üppige\n",
       "\n",
       "[32081 rows x 5 columns]"
      ]
     },
     "execution_count": 62,
     "metadata": {},
     "output_type": "execute_result"
    }
   ],
   "source": [
    "vocab['Merged'] = vocab['Wort'] + ',' + vocab['Deklination']\n",
    "vocab['Merged'] = vocab['Merged'].str.split(',')\n",
    "vocab = vocab.explode('Merged')\n",
    "vocab = vocab.sort_values('Wort').reset_index(drop=True)\n",
    "vocab = vocab.rename(columns={'Wort': 'Stamm', 'Merged': 'Wort'})\n",
    "vocab = vocab.drop(['Deklination'], axis=1)\n",
    "vocab"
   ]
  },
  {
   "cell_type": "markdown",
   "metadata": {},
   "source": [
    "Welchen Stimmungswert besitzt das Adjektiv _gut_ im Vokabular."
   ]
  },
  {
   "cell_type": "code",
   "execution_count": 63,
   "metadata": {},
   "outputs": [],
   "source": [
    "texte_lm.show_task(13)"
   ]
  },
  {
   "cell_type": "code",
   "execution_count": 64,
   "metadata": {},
   "outputs": [
    {
     "data": {
      "text/html": [
       "<div>\n",
       "<style scoped>\n",
       "    .dataframe tbody tr th:only-of-type {\n",
       "        vertical-align: middle;\n",
       "    }\n",
       "\n",
       "    .dataframe tbody tr th {\n",
       "        vertical-align: top;\n",
       "    }\n",
       "\n",
       "    .dataframe thead th {\n",
       "        text-align: right;\n",
       "    }\n",
       "</style>\n",
       "<table border=\"1\" class=\"dataframe\">\n",
       "  <thead>\n",
       "    <tr style=\"text-align: right;\">\n",
       "      <th></th>\n",
       "      <th>Stamm</th>\n",
       "      <th>Wert</th>\n",
       "      <th>Stimmung</th>\n",
       "      <th>Typ</th>\n",
       "      <th>Wort</th>\n",
       "    </tr>\n",
       "  </thead>\n",
       "  <tbody>\n",
       "    <tr>\n",
       "      <th>13862</th>\n",
       "      <td>gut</td>\n",
       "      <td>0.3716</td>\n",
       "      <td>positiv</td>\n",
       "      <td>ADJX</td>\n",
       "      <td>gut</td>\n",
       "    </tr>\n",
       "  </tbody>\n",
       "</table>\n",
       "</div>"
      ],
      "text/plain": [
       "      Stamm    Wert Stimmung   Typ Wort\n",
       "13862   gut  0.3716  positiv  ADJX  gut"
      ]
     },
     "execution_count": 64,
     "metadata": {},
     "output_type": "execute_result"
    }
   ],
   "source": [
    "vocab.loc[(vocab['Typ'] == 'ADJX') & (vocab['Wort'] == 'gut')]"
   ]
  },
  {
   "cell_type": "markdown",
   "metadata": {},
   "source": [
    "Wie lautet das \"schlechteste\" Wort im Vokabular?"
   ]
  },
  {
   "cell_type": "code",
   "execution_count": 65,
   "metadata": {},
   "outputs": [],
   "source": [
    "texte_lm.show_task(14)"
   ]
  },
  {
   "cell_type": "code",
   "execution_count": 66,
   "metadata": {},
   "outputs": [
    {
     "data": {
      "text/html": [
       "<div>\n",
       "<style scoped>\n",
       "    .dataframe tbody tr th:only-of-type {\n",
       "        vertical-align: middle;\n",
       "    }\n",
       "\n",
       "    .dataframe tbody tr th {\n",
       "        vertical-align: top;\n",
       "    }\n",
       "\n",
       "    .dataframe thead th {\n",
       "        text-align: right;\n",
       "    }\n",
       "</style>\n",
       "<table border=\"1\" class=\"dataframe\">\n",
       "  <thead>\n",
       "    <tr style=\"text-align: right;\">\n",
       "      <th></th>\n",
       "      <th>Stamm</th>\n",
       "      <th>Wert</th>\n",
       "      <th>Stimmung</th>\n",
       "      <th>Typ</th>\n",
       "      <th>Wort</th>\n",
       "    </tr>\n",
       "  </thead>\n",
       "  <tbody>\n",
       "    <tr>\n",
       "      <th>1096</th>\n",
       "      <td>Gefahr</td>\n",
       "      <td>-1.0000</td>\n",
       "      <td>negativ</td>\n",
       "      <td>NN</td>\n",
       "      <td>Gefahr</td>\n",
       "    </tr>\n",
       "    <tr>\n",
       "      <th>1097</th>\n",
       "      <td>Gefahr</td>\n",
       "      <td>-1.0000</td>\n",
       "      <td>negativ</td>\n",
       "      <td>NN</td>\n",
       "      <td>Gefahren</td>\n",
       "    </tr>\n",
       "    <tr>\n",
       "      <th>2219</th>\n",
       "      <td>Schuld</td>\n",
       "      <td>-0.9686</td>\n",
       "      <td>negativ</td>\n",
       "      <td>NN</td>\n",
       "      <td>Schulden</td>\n",
       "    </tr>\n",
       "  </tbody>\n",
       "</table>\n",
       "</div>"
      ],
      "text/plain": [
       "       Stamm    Wert Stimmung Typ      Wort\n",
       "1096  Gefahr -1.0000  negativ  NN    Gefahr\n",
       "1097  Gefahr -1.0000  negativ  NN  Gefahren\n",
       "2219  Schuld -0.9686  negativ  NN  Schulden"
      ]
     },
     "execution_count": 66,
     "metadata": {},
     "output_type": "execute_result"
    }
   ],
   "source": [
    "vocab.sort_values('Wert').head(3)"
   ]
  },
  {
   "cell_type": "markdown",
   "metadata": {},
   "source": [
    "#### 3.1.2 <a id='vectorization'>Vektorisierung</a>"
   ]
  },
  {
   "cell_type": "markdown",
   "metadata": {},
   "source": [
    "Innerhalb der Vektorisierung überführen wir die symbolischen Textdaten in numerische Werte. Dies geschieht im Normalfall über Häufigkeitsverteilungen. Je öfter ein Wort im Text vorkommt, desto wichtiger scheint es zu sein, was sich in der Vektorisierung wiederspiegelt.\n",
    "\n",
    "In diesem Fall aber benutzen wir das bekannte Vokabular und überführen jedes einzelne Wort eines Tweets in seinen Stimmungswert. Das Wort _gut_ kriegt dabei den Stimmungswert 0.37 zugewiesen, wie eine vorherige Aufgabe bereits abgefragt hat."
   ]
  },
  {
   "cell_type": "code",
   "execution_count": 67,
   "metadata": {},
   "outputs": [
    {
     "data": {
      "text/plain": [
       "13862    0.3716\n",
       "Name: Wert, dtype: float64"
      ]
     },
     "execution_count": 67,
     "metadata": {},
     "output_type": "execute_result"
    }
   ],
   "source": [
    "vocab.loc[vocab['Wort'] == 'gut'].Wert"
   ]
  },
  {
   "cell_type": "code",
   "execution_count": 68,
   "metadata": {},
   "outputs": [],
   "source": [
    "def vectorize(tweet):\n",
    "    \"\"\"Vectorize tweets based on vocabulary\"\"\"\n",
    "            \n",
    "    vectors = []\n",
    "    for token in tweet:          \n",
    "        row = vocab.loc[vocab['Wort'].str.lower() == token]\n",
    "        if len(row) == 1:\n",
    "            vectors.append(row.Wert.values[0])\n",
    "\n",
    "    return vectors"
   ]
  },
  {
   "cell_type": "code",
   "execution_count": 69,
   "metadata": {},
   "outputs": [
    {
     "data": {
      "text/html": [
       "<div>\n",
       "<style scoped>\n",
       "    .dataframe tbody tr th:only-of-type {\n",
       "        vertical-align: middle;\n",
       "    }\n",
       "\n",
       "    .dataframe tbody tr th {\n",
       "        vertical-align: top;\n",
       "    }\n",
       "\n",
       "    .dataframe thead th {\n",
       "        text-align: right;\n",
       "    }\n",
       "</style>\n",
       "<table border=\"1\" class=\"dataframe\">\n",
       "  <thead>\n",
       "    <tr style=\"text-align: right;\">\n",
       "      <th></th>\n",
       "      <th>Token</th>\n",
       "      <th>Vector</th>\n",
       "    </tr>\n",
       "  </thead>\n",
       "  <tbody>\n",
       "    <tr>\n",
       "      <th>0</th>\n",
       "      <td>[artelle, diese, nächte, wo, man, bis, um, uhr...</td>\n",
       "      <td>[]</td>\n",
       "    </tr>\n",
       "    <tr>\n",
       "      <th>2</th>\n",
       "      <td>[durstigewaemby, war, schön, mit, dir]</td>\n",
       "      <td>[0.0081]</td>\n",
       "    </tr>\n",
       "    <tr>\n",
       "      <th>3</th>\n",
       "      <td>[niemand, hat, a, ahnung, jeder, weiß, besser]</td>\n",
       "      <td>[0.004]</td>\n",
       "    </tr>\n",
       "    <tr>\n",
       "      <th>4</th>\n",
       "      <td>[xxskillerxx, z, u, s, p, ä, t]</td>\n",
       "      <td>[]</td>\n",
       "    </tr>\n",
       "    <tr>\n",
       "      <th>5</th>\n",
       "      <td>[jacjarian, i, f, sp, werden, eigenen, geldver...</td>\n",
       "      <td>[-0.1953]</td>\n",
       "    </tr>\n",
       "  </tbody>\n",
       "</table>\n",
       "</div>"
      ],
      "text/plain": [
       "                                               Token     Vector\n",
       "0  [artelle, diese, nächte, wo, man, bis, um, uhr...         []\n",
       "2             [durstigewaemby, war, schön, mit, dir]   [0.0081]\n",
       "3     [niemand, hat, a, ahnung, jeder, weiß, besser]    [0.004]\n",
       "4                    [xxskillerxx, z, u, s, p, ä, t]         []\n",
       "5  [jacjarian, i, f, sp, werden, eigenen, geldver...  [-0.1953]"
      ]
     },
     "execution_count": 69,
     "metadata": {},
     "output_type": "execute_result"
    }
   ],
   "source": [
    "tweets = tweets.to_frame(name='Token')\n",
    "tweets['Vector'] = tweets['Token'].apply(vectorize)\n",
    "tweets.head()"
   ]
  },
  {
   "cell_type": "markdown",
   "metadata": {},
   "source": [
    "Leider ist der Funktionsaufruf (noch) nicht optimiert und benötigt daher seine Zeit...\n",
    "\n",
    "![Time](https://media.giphy.com/media/tXL4FHPSnVJ0A/giphy.gif)"
   ]
  },
  {
   "cell_type": "markdown",
   "metadata": {},
   "source": [
    "#### 3.1.2 <a id='label'>Label</a>"
   ]
  },
  {
   "cell_type": "markdown",
   "metadata": {},
   "source": [
    "Dieser Schritt fügt den Tweets eine Stimmung auf Basis des Vokabulars hinzu. Dabei summieren wir die jeweiligen Stimmungswerte aller im Tweet enthaltenen Wörter und schauen ob sie in Summe negativ oder positiv sind."
   ]
  },
  {
   "cell_type": "code",
   "execution_count": 70,
   "metadata": {},
   "outputs": [],
   "source": [
    "def get_labels(tweet):\n",
    "    \"\"\"Label tweets according to vocabulary.\"\"\"\n",
    "    \n",
    "    score = np.sum(tweet)\n",
    "            \n",
    "    if score > 0.0:\n",
    "        return 'positiv'\n",
    "    elif score < 0.0:\n",
    "        return 'negativ'\n",
    "    else:\n",
    "        return 'neutral'"
   ]
  },
  {
   "cell_type": "code",
   "execution_count": 71,
   "metadata": {},
   "outputs": [
    {
     "data": {
      "text/html": [
       "<div>\n",
       "<style scoped>\n",
       "    .dataframe tbody tr th:only-of-type {\n",
       "        vertical-align: middle;\n",
       "    }\n",
       "\n",
       "    .dataframe tbody tr th {\n",
       "        vertical-align: top;\n",
       "    }\n",
       "\n",
       "    .dataframe thead th {\n",
       "        text-align: right;\n",
       "    }\n",
       "</style>\n",
       "<table border=\"1\" class=\"dataframe\">\n",
       "  <thead>\n",
       "    <tr style=\"text-align: right;\">\n",
       "      <th></th>\n",
       "      <th>Token</th>\n",
       "      <th>Vector</th>\n",
       "      <th>Label</th>\n",
       "    </tr>\n",
       "  </thead>\n",
       "  <tbody>\n",
       "    <tr>\n",
       "      <th>0</th>\n",
       "      <td>[artelle, diese, nächte, wo, man, bis, um, uhr...</td>\n",
       "      <td>[]</td>\n",
       "      <td>neutral</td>\n",
       "    </tr>\n",
       "    <tr>\n",
       "      <th>2</th>\n",
       "      <td>[durstigewaemby, war, schön, mit, dir]</td>\n",
       "      <td>[0.0081]</td>\n",
       "      <td>positiv</td>\n",
       "    </tr>\n",
       "    <tr>\n",
       "      <th>3</th>\n",
       "      <td>[niemand, hat, a, ahnung, jeder, weiß, besser]</td>\n",
       "      <td>[0.004]</td>\n",
       "      <td>positiv</td>\n",
       "    </tr>\n",
       "    <tr>\n",
       "      <th>4</th>\n",
       "      <td>[xxskillerxx, z, u, s, p, ä, t]</td>\n",
       "      <td>[]</td>\n",
       "      <td>neutral</td>\n",
       "    </tr>\n",
       "    <tr>\n",
       "      <th>5</th>\n",
       "      <td>[jacjarian, i, f, sp, werden, eigenen, geldver...</td>\n",
       "      <td>[-0.1953]</td>\n",
       "      <td>negativ</td>\n",
       "    </tr>\n",
       "  </tbody>\n",
       "</table>\n",
       "</div>"
      ],
      "text/plain": [
       "                                               Token     Vector    Label\n",
       "0  [artelle, diese, nächte, wo, man, bis, um, uhr...         []  neutral\n",
       "2             [durstigewaemby, war, schön, mit, dir]   [0.0081]  positiv\n",
       "3     [niemand, hat, a, ahnung, jeder, weiß, besser]    [0.004]  positiv\n",
       "4                    [xxskillerxx, z, u, s, p, ä, t]         []  neutral\n",
       "5  [jacjarian, i, f, sp, werden, eigenen, geldver...  [-0.1953]  negativ"
      ]
     },
     "execution_count": 71,
     "metadata": {},
     "output_type": "execute_result"
    }
   ],
   "source": [
    "tweets['Label'] = tweets['Vector'].apply(get_labels)\n",
    "tweets.head()"
   ]
  },
  {
   "cell_type": "markdown",
   "metadata": {},
   "source": [
    "Welches Label bekommen Tweets, dessen Summe _0_ ist, weil entweder keine Wörter gefunden werden bzw. sich die Stimmungswerte neutralisieren?"
   ]
  },
  {
   "cell_type": "code",
   "execution_count": 72,
   "metadata": {},
   "outputs": [],
   "source": [
    "texte_lm.show_task(15)"
   ]
  },
  {
   "cell_type": "markdown",
   "metadata": {},
   "source": [
    "Neutrale Tweets sind für unser Modell nicht relevant und werden verworfen."
   ]
  },
  {
   "cell_type": "code",
   "execution_count": 73,
   "metadata": {},
   "outputs": [
    {
     "data": {
      "text/html": [
       "<div>\n",
       "<style scoped>\n",
       "    .dataframe tbody tr th:only-of-type {\n",
       "        vertical-align: middle;\n",
       "    }\n",
       "\n",
       "    .dataframe tbody tr th {\n",
       "        vertical-align: top;\n",
       "    }\n",
       "\n",
       "    .dataframe thead th {\n",
       "        text-align: right;\n",
       "    }\n",
       "</style>\n",
       "<table border=\"1\" class=\"dataframe\">\n",
       "  <thead>\n",
       "    <tr style=\"text-align: right;\">\n",
       "      <th></th>\n",
       "      <th>Token</th>\n",
       "      <th>Vector</th>\n",
       "      <th>Label</th>\n",
       "    </tr>\n",
       "  </thead>\n",
       "  <tbody>\n",
       "    <tr>\n",
       "      <th>2</th>\n",
       "      <td>[durstigewaemby, war, schön, mit, dir]</td>\n",
       "      <td>[0.0081]</td>\n",
       "      <td>positiv</td>\n",
       "    </tr>\n",
       "    <tr>\n",
       "      <th>3</th>\n",
       "      <td>[niemand, hat, a, ahnung, jeder, weiß, besser]</td>\n",
       "      <td>[0.004]</td>\n",
       "      <td>positiv</td>\n",
       "    </tr>\n",
       "    <tr>\n",
       "      <th>5</th>\n",
       "      <td>[jacjarian, i, f, sp, werden, eigenen, geldver...</td>\n",
       "      <td>[-0.1953]</td>\n",
       "      <td>negativ</td>\n",
       "    </tr>\n",
       "    <tr>\n",
       "      <th>6</th>\n",
       "      <td>[goia, corona, scherze, viel, wichtiger, frage...</td>\n",
       "      <td>[0.3822]</td>\n",
       "      <td>positiv</td>\n",
       "    </tr>\n",
       "    <tr>\n",
       "      <th>7</th>\n",
       "      <td>[senadlacevic, panzerschoko, lukashammer, frau...</td>\n",
       "      <td>[-0.7618, 0.004]</td>\n",
       "      <td>negativ</td>\n",
       "    </tr>\n",
       "  </tbody>\n",
       "</table>\n",
       "</div>"
      ],
      "text/plain": [
       "                                               Token            Vector  \\\n",
       "2             [durstigewaemby, war, schön, mit, dir]          [0.0081]   \n",
       "3     [niemand, hat, a, ahnung, jeder, weiß, besser]           [0.004]   \n",
       "5  [jacjarian, i, f, sp, werden, eigenen, geldver...         [-0.1953]   \n",
       "6  [goia, corona, scherze, viel, wichtiger, frage...          [0.3822]   \n",
       "7  [senadlacevic, panzerschoko, lukashammer, frau...  [-0.7618, 0.004]   \n",
       "\n",
       "     Label  \n",
       "2  positiv  \n",
       "3  positiv  \n",
       "5  negativ  \n",
       "6  positiv  \n",
       "7  negativ  "
      ]
     },
     "execution_count": 73,
     "metadata": {},
     "output_type": "execute_result"
    }
   ],
   "source": [
    "tweets = tweets.drop(tweets[tweets['Label'] == 'neutral'].index) # Preserve index\n",
    "tweets.head()"
   ]
  },
  {
   "cell_type": "markdown",
   "metadata": {},
   "source": [
    "Wie sieht die Verteilung zwischen negativen und positiven Tweets aus? Ist die Stimmungslage eher negativ oder eher positiv?"
   ]
  },
  {
   "cell_type": "code",
   "execution_count": 74,
   "metadata": {},
   "outputs": [],
   "source": [
    "texte_lm.show_task(16)"
   ]
  },
  {
   "cell_type": "code",
   "execution_count": 75,
   "metadata": {},
   "outputs": [
    {
     "data": {
      "image/png": "[encoded data removed]",
      "text/plain": [
       "<Figure size 432x288 with 1 Axes>"
      ]
     },
     "metadata": {},
     "output_type": "display_data"
    }
   ],
   "source": [
    "plt.pie([tweets['Label'][tweets['Label'] == 'negativ'].count(), tweets['Label'][tweets['Label'] == 'positiv'].count()], labels=labels, autopct='%1.1f%%')\n",
    "plt.title('Stimmungsbild')\n",
    "plt.show()"
   ]
  },
  {
   "cell_type": "markdown",
   "metadata": {},
   "source": [
    "Natürlich werden nicht immer gleich viele Wörter pro Tweet im Vokabular gefunden. Da unser Modell eine konstante Eingabe benötigt, müssen wir uns auf eine Wortzahl einigen, die vom Modell pro Tweet einbezogen wird. Naheliegend entscheiden wir uns für die im Mittel gefundenen Wörter als `pad_size`..."
   ]
  },
  {
   "cell_type": "code",
   "execution_count": 76,
   "metadata": {},
   "outputs": [
    {
     "data": {
      "text/plain": [
       "2"
      ]
     },
     "execution_count": 76,
     "metadata": {},
     "output_type": "execute_result"
    }
   ],
   "source": [
    "pad_size = int(np.round(np.mean([len(vector) for vector in tweets['Vector']])))\n",
    "pad_size"
   ]
  },
  {
   "cell_type": "markdown",
   "metadata": {},
   "source": [
    "...und füllen fehlende Werte mit der `padding()` Funktion wie folgt auf."
   ]
  },
  {
   "cell_type": "code",
   "execution_count": 77,
   "metadata": {},
   "outputs": [],
   "source": [
    "def padding(tweet):\n",
    "    \"\"\"Pad vectors with zeros at the end.\"\"\"\n",
    "       \n",
    "    return np.pad(tweet[:pad_size], (0, pad_size-len(tweet[:pad_size])))"
   ]
  },
  {
   "cell_type": "markdown",
   "metadata": {},
   "source": [
    "#### 3.1.4 <a id='features'>Features</a>"
   ]
  },
  {
   "cell_type": "code",
   "execution_count": 78,
   "metadata": {},
   "outputs": [],
   "source": [
    "def get_features(words):\n",
    "    return dict([(word, True) for word in words])"
   ]
  },
  {
   "cell_type": "code",
   "execution_count": 79,
   "metadata": {},
   "outputs": [],
   "source": [
    "negative_features = [(get_features(vocab.loc[vocab['Stimmung'] == 'negativ']['Wort']), 'negativ')]\n",
    "positive_features = [(get_features(vocab.loc[vocab['Stimmung'] == 'positiv']['Wort']), 'positiv')]\n",
    "train_set = negative_features + positive_features"
   ]
  },
  {
   "cell_type": "markdown",
   "metadata": {},
   "source": [
    "### 3.2 <a id='klassifizieren'>Textdaten klassifizieren</a>"
   ]
  },
  {
   "cell_type": "markdown",
   "metadata": {},
   "source": [
    "#### 3.2.1 <a id='überwachte-klassifikation'>Überwachte Klassifikation</a>"
   ]
  },
  {
   "cell_type": "markdown",
   "metadata": {},
   "source": [
    "Mithilfe des [Naive Bayes](https://www.nltk.org/_modules/nltk/classify/naivebayes.html) Algorithmus führen wir eine überwachte Klassifizierung aus."
   ]
  },
  {
   "cell_type": "code",
   "execution_count": 80,
   "metadata": {},
   "outputs": [],
   "source": [
    "from nltk import NaiveBayesClassifier"
   ]
  },
  {
   "cell_type": "code",
   "execution_count": 81,
   "metadata": {},
   "outputs": [],
   "source": [
    "classifier = NaiveBayesClassifier.train(train_set)"
   ]
  },
  {
   "cell_type": "code",
   "execution_count": 82,
   "metadata": {},
   "outputs": [],
   "source": [
    "def supervised_classifier(tweets):\n",
    "    \"\"\"Supervised classifier\"\"\"\n",
    "    \n",
    "    print('#\\tSoll\\tIst\\t∆\\tTweet')\n",
    "    \n",
    "    negative = 0\n",
    "    positive = 0\n",
    "    error = 0\n",
    "    for tweet in tweets.itertuples():\n",
    "        \n",
    "        label = tweet.Label\n",
    "        features = get_features(tweet.Token)\n",
    "        prediction = classifier.classify(features)\n",
    "            \n",
    "        if label != prediction: \n",
    "            delta = 'X'\n",
    "            error += 1\n",
    "        else: \n",
    "            delta = ' '\n",
    "        \n",
    "        if prediction == 'negativ':\n",
    "            negative += 1\n",
    "            \n",
    "        else:\n",
    "            positive += 1\n",
    "            \n",
    "        print('%i\\t%s\\t%s\\t%s\\t%.140s' % (tweet.Index, label, prediction, delta, tweets_copy.iloc[tweet.Index]))\n",
    "        \n",
    "    print('\\nGenauigkeit:', 1 - error / tweets.shape[0])\n",
    "    plt.pie([negative, positive], labels=labels, autopct='%1.1f%%')\n",
    "    plt.title('Überwachte Klassifizierung')"
   ]
  },
  {
   "cell_type": "code",
   "execution_count": 83,
   "metadata": {},
   "outputs": [
    {
     "name": "stdout",
     "output_type": "stream",
     "text": [
      "#\tSoll\tIst\t∆\tTweet\n",
      "1833\tpositiv\tpositiv\t \t@kakashiseinpapa @BlxckJxck329 Denkt aber jeder xD Df ich heiße Lara\n",
      "575\tnegativ\tnegativ\t \t@baxywasded das fand ich auch ne doofe Sache. sollte wohl so ein \"guck mal, der Mensch sieht komisch aus\" Element sein. hätte der Film eig. \n",
      "1409\tnegativ\tnegativ\t \t... Hilfestellung beim Homeschooling. Sie unterstützen die letzten noch offenen Tafeln. Sie stellen / legen / hängen Essen für Obdachlose an\n",
      "1024\tnegativ\tnegativ\t \t@fourgolds1 🤣😂😅Ja, des muaß i, wenn i mi aufreg, ko hoid ned anders🤩😛\n",
      "2312\tpositiv\tpositiv\t \tMama Achtuhrkatz hat übrigens noch Verlängerung bis nach Ostern bekommen, die ist wirklich ganz schön erkältet und ich bin irgendwie „froh“ \n",
      "185\tnegativ\tnegativ\t \t@Voegizug Sorry für die Zumutung .. unsere Gehirnwindungen, bzw ihre assoziativen Verknüpfungen gehen manchmal äußerst seltsame Wege 😂 .. fa\n",
      "999\tpositiv\tpositiv\t \t@squ3tchy I'm done ich wunder mich immer warum du meine tweets nie likest KEKW\n",
      "1977\tpositiv\tpositiv\t \t@onurfxn38 @quazanga Darum absetzen, wenn feucht, und durch eine neue ersetzen. Und, ganz wichtig, selber nähen. Damit das medizinische Zeug\n",
      "4098\tnegativ\tpositiv\tX\tMind. 7 Verwandte, incl. ein Pastor, seine Gemeinde u.a. beteten für ihn rund um die Uhr, zumal wir waren teilweise in Panik. 3x sollte er w\n",
      "2440\tpositiv\tpositiv\t \t@martinsucki I feel u, Twitter ist einfach ein fucking Tagebuch\n",
      "3741\tpositiv\tpositiv\t \t@holynsty gibts menschen die sie nicht schön finden????\n",
      "3369\tnegativ\tnegativ\t \t@mattenb @NorthicQ Das ist keine christliche Nächstenliebe, wenn man die eigenen Menschen in Gefahr dadurch bringt. Die Kirche sollte mit Ve\n",
      "2953\tpositiv\tpositiv\t \t@Nikto_Senki PACKST EINFACH EVIE REIN WIE WHOLESOME UND SCHÖN 💕\n",
      "922\tpositiv\tpositiv\t \t@MyYellowDreams1 Stimmt😊 Ich wünsche dir einen wunderschönen Abend und später eine gute Nacht.  Viele liebe Grüße  Emma ⚘ https://t.co/3Poqa\n",
      "3714\tpositiv\tpositiv\t \t@Westpol @ArminLaschet Schwachsinn. Das eine schließt das andere nicht aus.  Einfach erstmal Schal, Bandana oder sonstiges Tuch als \"Maske\" \n",
      "3414\tpositiv\tpositiv\t \t@cosmobtw @SypherFN @TomatiFN @StylerFN @Dynamo030 Jo danke bro wir dürfen manchmal auf machen aber halt essen darf nur abgeholt werden läuf\n",
      "159\tnegativ\tpositiv\tX\t@COVID19_DE Hier ein interessante Video zu u.A. fragwürdige zählweise der offiziellen Stellen https://t.co/7eFZUTr2tu\n",
      "676\tnegativ\tpositiv\tX\tBlutige Finger, weil ich halt auch einfach nicht per Hand nähen kann, aber sie hält, also here you go. 😤😡 https://t.co/z2R86y5tSV\n",
      "2197\tnegativ\tnegativ\t \t@welt unter was leiden die beiden bornierten Herren?  a) verschobene Wahrnehmung? b) kollektive Renitenz? c) a+b!!  Sicher machen uns die as\n",
      "2103\tnegativ\tpositiv\tX\t@Storch_i @KaiDiekmann @sixtus Beweisen sie doch mal zur Abwechslung das es kein Arschloch gibt. Es ist unbestreitbar das jeder eins hat und\n",
      "\n",
      "Genauigkeit: 0.8\n"
     ]
    },
    {
     "data": {
      "image/png": "[encoded data removed]",
      "text/plain": [
       "<Figure size 432x288 with 1 Axes>"
      ]
     },
     "metadata": {},
     "output_type": "display_data"
    }
   ],
   "source": [
    "supervised_classifier(tweets.sample(20))"
   ]
  },
  {
   "cell_type": "markdown",
   "metadata": {},
   "source": [
    "#### 3.2.2 <a id='unüberwachte-klassifikation'>Unüberwachte Klassifikation</a>"
   ]
  },
  {
   "cell_type": "markdown",
   "metadata": {},
   "source": [
    "Mithilfe von [K-means](https://www.nltk.org/_modules/nltk/cluster/kmeans.html) Clustering führen wir eine unüberwachte Klassifizierung aus."
   ]
  },
  {
   "cell_type": "code",
   "execution_count": 84,
   "metadata": {},
   "outputs": [],
   "source": [
    "from nltk.cluster import KMeansClusterer, euclidean_distance"
   ]
  },
  {
   "cell_type": "code",
   "execution_count": 85,
   "metadata": {},
   "outputs": [],
   "source": [
    "clusterer = KMeansClusterer(2, euclidean_distance, repeats=10, avoid_empty_clusters=True)"
   ]
  },
  {
   "cell_type": "code",
   "execution_count": 86,
   "metadata": {},
   "outputs": [],
   "source": [
    "clusters = clusterer.cluster(tweets['Vector'].apply(padding), True)"
   ]
  },
  {
   "cell_type": "markdown",
   "metadata": {},
   "source": [
    "Wo liegen die Mittelpunkte unserer Cluster?"
   ]
  },
  {
   "cell_type": "code",
   "execution_count": 87,
   "metadata": {},
   "outputs": [],
   "source": [
    "def plot_clusters():\n",
    "    \"\"\"Plot clusters\"\"\"\n",
    "    \n",
    "    means = clusterer.means()\n",
    "    plt.scatter(means[0], means[0])\n",
    "    plt.scatter(means[1], means[1])\n",
    "    plt.legend(['Negativ', 'Positiv'])"
   ]
  },
  {
   "cell_type": "code",
   "execution_count": 88,
   "metadata": {},
   "outputs": [
    {
     "data": {
      "image/png": "[encoded data removed]",
      "text/plain": [
       "<Figure size 432x288 with 1 Axes>"
      ]
     },
     "metadata": {
      "needs_background": "light"
     },
     "output_type": "display_data"
    }
   ],
   "source": [
    "plot_clusters()"
   ]
  },
  {
   "cell_type": "code",
   "execution_count": 89,
   "metadata": {},
   "outputs": [],
   "source": [
    "def unsupervised_classifier(tweets):\n",
    "    \"\"\"Unsupervised classifier\"\"\"\n",
    "    \n",
    "    print('#\\tSoll\\tIst\\t∆\\tTweet')\n",
    "    \n",
    "    negative = 0\n",
    "    positive = 0\n",
    "    error = 0\n",
    "    for tweet in tweets.itertuples():\n",
    "        \n",
    "        label = tweet.Label\n",
    "        vector = padding(tweet.Vector)\n",
    "        prediction = clusterer.classify(vector)\n",
    "        \n",
    "        if prediction == 0: \n",
    "            cluster = 'negativ'\n",
    "            negative += 1\n",
    "            \n",
    "        else:\n",
    "            cluster = 'positiv'\n",
    "            positive += 1\n",
    "            \n",
    "        if label != cluster: \n",
    "            delta = 'X'\n",
    "            error += 1\n",
    "            \n",
    "        else: delta = ' '\n",
    "            \n",
    "        print('%i\\t%s\\t%s\\t%s\\t%.140s' % (tweet.Index, label, cluster, delta, tweets_copy.iloc[tweet.Index]))\n",
    "   \n",
    "    print('\\nGenauigkeit:', 1 - error / tweets.shape[0])\n",
    "    plt.pie([negative, positive], labels=['negativ', 'positiv'], autopct='%1.1f%%')\n",
    "    plt.title('Unüberwachte Klassifizierung')"
   ]
  },
  {
   "cell_type": "code",
   "execution_count": 90,
   "metadata": {},
   "outputs": [
    {
     "name": "stdout",
     "output_type": "stream",
     "text": [
      "#\tSoll\tIst\t∆\tTweet\n",
      "1066\tpositiv\tpositiv\t \t@eygringa Zu schön um wahr zu sein\n",
      "3044\tpositiv\tpositiv\t \t@mexooCS @SpidergumCSGO @el1csgo @crystaL1337_ @shaakZjE @byPhoenix1337 @cstwxlve @pxsl_cs film br0 , nimm bitte einfach nicht zuviel ernst \n",
      "1384\tpositiv\tpositiv\t \t@the_FeuFeu @sys_adm_ama Ich mutmaße, dass aus Pocket Camp genauso wie aus New Leaf via QR code die Items eingescannt werden können. Tom Noo\n",
      "269\tpositiv\tpositiv\t \t@amoredicupido war bei mir genauso, hab’s vor n paar Wochen nochmal neu angefangen\n",
      "1863\tnegativ\tpositiv\tX\t@Atm_patty @quaelto Naja ich fands toll als atm Fan muss es bisschen scheiße gewesen sein. Hab atletico aber immer gehasst wie sonst was, je\n",
      "2622\tpositiv\tpositiv\t \t@DerBonzai @bierdealer Wir wissen worauf es im Leben ankommt! \\o/\n",
      "2577\tpositiv\tpositiv\t \t@animitiem bin immer wieder erstaunt wie das geht, weil man ja eig erstmal n Grundstock braucht damit man iwas verstehen kann.\n",
      "2041\tnegativ\tnegativ\t \tKleine Korrektur zum Tag des Livestreams bei Facebook. Es ist der 01.04.2020 um 21 Uhr.  Analysierte Schwerpunkte von Herrn Çiftçi sind die \n",
      "2127\tnegativ\tpositiv\tX\t@schwartz_ht ... und am nächsten Tag wundert man sich, warum man so müde ist und denkt \"Ach, das liegt bestimmt daran, dass ich aus dem Rhyt\n",
      "3691\tpositiv\tpositiv\t \t@DorisHickey6 Natürlich darfst du mir schön einen blasen\n",
      "1461\tnegativ\tnegativ\t \t@frankkompakt @IsraelinGermany Ich komme auf 6 Punkte. Da fehlt noch was. Grund genug für einen nächsten Besuch in besseren Zeiten.\n",
      "2376\tpositiv\tpositiv\t \t@JustMe_HH Oh, danke! Schlaf schön!\n",
      "3579\tnegativ\tnegativ\t \t@Josephine006 @risklayer @rki_de @BNODesk Nein, erstmal testen wir mehr und haben damit natürlich auch die Menschen mit schwachen oder gar k\n",
      "3004\tnegativ\tnegativ\t \t@Peter_Nater @MFrauchigerSVP @StefWerner @alex_baur Sagen Sie mal, Herr Nater, sind Sie so was wie ein Springteufel, der bei bestimmten Stic\n",
      "540\tnegativ\tpositiv\tX\t@AndreasKollros @HerbertLackner1 und was müssen sie vorbereiten? den nächsten hetzerischen sinnlos-tweet? schwache leistung für 3 apparat-ge\n",
      "956\tnegativ\tpositiv\tX\tChristian #Charous versteht sich trotz seines Alters als Teil der Identitären Bewegung um Martin Sellner in #Wien bzw. Österreich &amp; such\n",
      "1364\tpositiv\tpositiv\t \t@youbromad @dresscodeabc @artemi_ecrit Warum beantworten Sie (Respekt!) meine Gegenfrage nicht, sondern antworten mit einer Gegenfrage? Und \n",
      "66\tnegativ\tpositiv\tX\t@Ale_chioc @NortonImperator @sthgho Ich finde Merz macht in der Krise bislang nichts falsch, ganz im Gegensatz zu Herrn Habeck. Ich kann Mer\n",
      "2641\tnegativ\tnegativ\t \t@ShoyoFN @mattibtw @Hengolo53 @Niqoo_FN Ihr habt noch nicht ein rationales argument genannt, ich schon, ihr labert nur scheiße und habt wede\n",
      "2185\tpositiv\tpositiv\t \t@gala_con SO wirds gemacht! Perfekt! Genug Zeit, um die Mehrkosten für alle betroffenen so gering wie möglich zu halten. Habe zum Glück noch\n",
      "\n",
      "Genauigkeit: 0.75\n"
     ]
    },
    {
     "data": {
      "image/png": "[encoded data removed]",
      "text/plain": [
       "<Figure size 432x288 with 1 Axes>"
      ]
     },
     "metadata": {},
     "output_type": "display_data"
    }
   ],
   "source": [
    "unsupervised_classifier(tweets.sample(20))"
   ]
  },
  {
   "cell_type": "markdown",
   "metadata": {},
   "source": [
    "<div style=\"background-color: #150458; padding: 5px;\"></div>\n",
    "\n",
    "## 4. <a id='verwendung'>Verwendung</a>"
   ]
  },
  {
   "cell_type": "markdown",
   "metadata": {},
   "source": [
    "Welche Schritte ein Tweet innerhalb der Verwendung durchläuft verdeutlicht die folgende Abbildung:\n",
    "\n",
    "![Model](./img/usage_flow.png)"
   ]
  },
  {
   "cell_type": "markdown",
   "metadata": {},
   "source": [
    "### 4.1 <a id='vorhersage'>Textdaten vorhersagen</a>"
   ]
  },
  {
   "cell_type": "code",
   "execution_count": 91,
   "metadata": {},
   "outputs": [],
   "source": [
    "negative = \"Was für ein schlechtes Lernmodul\"\n",
    "positive = \"Was für ein gutes Lernmodul\""
   ]
  },
  {
   "cell_type": "code",
   "execution_count": 92,
   "metadata": {},
   "outputs": [],
   "source": [
    "def unsupervised_classification(sentence):\n",
    "    \"\"\"Helper function for unsupervised classification\"\"\"\n",
    "    \n",
    "    vector = padding(vectorize(sentence))\n",
    "    prediction = clusterer.classify(vector)\n",
    "    \n",
    "    if prediction == 0: print('negativ')            \n",
    "    else: print('positiv')"
   ]
  },
  {
   "cell_type": "markdown",
   "metadata": {},
   "source": [
    "#### 4.1.1 <a id='überwachte-klassifikation-2'>Überwachte Klassifikation</a>"
   ]
  },
  {
   "cell_type": "markdown",
   "metadata": {},
   "source": [
    "Welche Stimmung gibt er für folgenden Satz aus?\n",
    "\n",
    "> Was für ein schlechtes Lernmodul"
   ]
  },
  {
   "cell_type": "code",
   "execution_count": 93,
   "metadata": {},
   "outputs": [
    {
     "data": {
      "text/plain": [
       "'negativ'"
      ]
     },
     "execution_count": 93,
     "metadata": {},
     "output_type": "execute_result"
    }
   ],
   "source": [
    "classifier.classify(get_features(negative.split()))"
   ]
  },
  {
   "cell_type": "markdown",
   "metadata": {},
   "source": [
    "Welche Stimmung gibt er für folgenden Satz aus?\n",
    "\n",
    "> Was für ein gutes Lernmodul"
   ]
  },
  {
   "cell_type": "code",
   "execution_count": 94,
   "metadata": {},
   "outputs": [
    {
     "data": {
      "text/plain": [
       "'positiv'"
      ]
     },
     "execution_count": 94,
     "metadata": {},
     "output_type": "execute_result"
    }
   ],
   "source": [
    "classifier.classify(get_features(positive.split()))"
   ]
  },
  {
   "cell_type": "markdown",
   "metadata": {},
   "source": [
    "#### <a id='unüberwachte-klassifikation-2'>Unüberwachte Klassifikation</a>"
   ]
  },
  {
   "cell_type": "markdown",
   "metadata": {},
   "source": [
    "Welche Stimmung gibt er für folgenden Satz aus?\n",
    "\n",
    "> Was für ein schlechtes Lernmodul"
   ]
  },
  {
   "cell_type": "code",
   "execution_count": 95,
   "metadata": {},
   "outputs": [
    {
     "name": "stdout",
     "output_type": "stream",
     "text": [
      "negativ\n"
     ]
    }
   ],
   "source": [
    "unsupervised_classification(negative.split())"
   ]
  },
  {
   "cell_type": "markdown",
   "metadata": {},
   "source": [
    "Welche Stimmung gibt er für folgenden Satz aus?\n",
    "\n",
    "> Was für ein gutes Lernmodul"
   ]
  },
  {
   "cell_type": "code",
   "execution_count": 96,
   "metadata": {},
   "outputs": [
    {
     "name": "stdout",
     "output_type": "stream",
     "text": [
      "positiv\n"
     ]
    }
   ],
   "source": [
    "unsupervised_classification(positive.split())"
   ]
  },
  {
   "cell_type": "markdown",
   "metadata": {},
   "source": [
    "<div style=\"background-color: #150458; padding: 5px;\"></div>\n",
    "\n",
    "## 5. <a id='abschluss'>Abschluss</a>"
   ]
  },
  {
   "cell_type": "markdown",
   "metadata": {},
   "source": [
    "**Ergebnis:**"
   ]
  },
  {
   "cell_type": "code",
   "execution_count": 97,
   "metadata": {},
   "outputs": [],
   "source": [
    "# lm.get_num_correct_answered()"
   ]
  },
  {
   "cell_type": "markdown",
   "metadata": {},
   "source": [
    "**Weiterführende Lernmodule:**\n",
    "\n",
    "- [Lernmodul zu Datamining mit Scikit Learn](https://projectbase.medien.hs-duesseldorf.de/eild.nrw-module/lernmodul-scikit)"
   ]
  },
  {
   "cell_type": "markdown",
   "metadata": {},
   "source": [
    "**Anhang:**\n",
    "\n",
    "* Lizenz?\n",
    "* Weiterführendes Material?\n",
    "    * [Word2Vec](https://en.wikipedia.org/wiki/Word2vec)\n",
    "* Quellen?\n",
    "    * [NLTK Book](https://www.nltk.org/book/)"
   ]
  }
 ],
 "metadata": {
  "kernelspec": {
   "display_name": "Python 3",
   "language": "python",
   "name": "python3"
  },
  "language_info": {
   "codemirror_mode": {
    "name": "ipython",
    "version": 3
   },
   "file_extension": ".py",
   "mimetype": "text/x-python",
   "name": "python",
   "nbconvert_exporter": "python",
   "pygments_lexer": "ipython3",
   "version": "3.7.0"
  }
 },
 "nbformat": 4,
 "nbformat_minor": 4
}
