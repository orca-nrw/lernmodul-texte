{
 "cells": [
  {
   "cell_type": "markdown",
   "metadata": {},
   "source": [
    "# Lernmodul zur Verarbeitung und Analyse von Textdaten"
   ]
  },
  {
   "cell_type": "markdown",
   "metadata": {},
   "source": [
    "Die Verarbeitung von menschlicher Sprache (Natural Language Processing, NLP) gilt als Voraussetzung für eine erfolgreiche Mensch-Maschine-Kommunikation. Zusätzlich kann sie dabei helfen eine vom Mensch unternommene Textanalyse zu unterstützen. Handelt es sich bei diesem Kommentar um unerwünschte Inhalte, verbreitet dieser Beitrag falsche Informationen und welche Meinung will der Verfasser mit dieser Rezension zum Ausdruck bringen.\n",
    "\n",
    "In diesem Lernmodul sollen mithilfe computergestützter Methoden auf jene Fragen eine Antwort gefunden werden. Im Zuge der Sentiment Analysis wird versucht die Intention hinter einem Textbeitrag zu quantifizieren um bspw. zwischen einer positiven und einer negativen Aussage zu unterscheiden. Bevor aber ein Modell (hier: Klassifikator) eine Vorhersage (hier: Stimmung) über die verfügbaren Daten (hier: Textbeiträge) treffen kann, müssen diese vorbereitet werden. Das folgende Modul spielt diese Vorbereitung einmal mithilfe eines Jupyter Notebook, der Programmiersprache Python und der folgenden Bibliotheken durch."
   ]
  },
  {
   "cell_type": "markdown",
   "metadata": {},
   "source": [
    "**Übersicht über die Lerninhalte:**\n",
    "\n",
    "1. [Einführung](#einführung)\n",
    "    1. [Motivation](#motivation)\n",
    "    2. [Voraussetzungen](#voraussetzungen)\n",
    "2. [Daten](#daten)\n",
    "    1. [Textdaten beschaffen](#beschaffen)\n",
    "    2. [Textdaten erkunden](#erkunden)\n",
    "    3. [Textdaten aufbereiten](#aufbereiten)\n",
    "3. [Modell](#modell)\n",
    "    1. [Textdaten einbetten](#einbetten)\n",
    "    2. [Textdaten klassifizieren](#klassifizieren)\n",
    "4. Verwendung\n",
    "5. [Abschluss](#abschluss)"
   ]
  },
  {
   "cell_type": "markdown",
   "metadata": {},
   "source": [
    "**Lernziele:**\n",
    "\n",
    "Die Teilnehmer lernen Textdaten in roher Form Schritt für Schritt in kontextbezogene Daten für eine Textanalyse zu transformieren. Dies geschieht in der Datendomäne. Daraufhin bewegen sich die Teilnehmer in der Modelldomäne, in der sie die Daten in das Modell einbetten und sie vom Modell klassifizieren lassen."
   ]
  },
  {
   "cell_type": "markdown",
   "metadata": {},
   "source": [
    "**Voraussetzungen:**\n",
    "\n",
    "- [Lernmodul zum Datenimport und zur Datenvorbereitung mit Pandas](https://projectbase.medien.hs-duesseldorf.de/eild.nrw-module/lernmodul-pandas)"
   ]
  },
  {
   "cell_type": "markdown",
   "metadata": {},
   "source": [
    "<div style=\"background-color: #150458; padding: 5px;\"></div>\n",
    "\n",
    "## 1. <a id='einführung'>Einführung</a>"
   ]
  },
  {
   "cell_type": "markdown",
   "metadata": {},
   "source": [
    "### 1.1 <a id='motivation'>Motivation</a>"
   ]
  },
  {
   "cell_type": "markdown",
   "metadata": {},
   "source": [
    "Die Verarbeitung menschlicher Sprache (Natural Language Processing, NLP) ist ein prominentes Forschungsfeld der Informatik mit ähnlichem Bekanntheitsgrad wie die Analyse visueller Daten (Computer Vision), welche bspw. das Erkennen von Bildern (Image Recognition) sowie ihre Manipulation (Image Augmentation) betrachtet. Im ersten Fall wollen wir einen bekannten bzw. alten Bildinhalt klassifizieren, während der zweite Fall einen unbekannten bzw. neuen Bildinhalt erzeugt."
   ]
  },
  {
   "cell_type": "markdown",
   "metadata": {},
   "source": [
    "Wechseln wir von der Bild- auf die Textebene, lässt sich das Forschungsfeld des _NLP_ auf ähnliche Problemstellungen herunterbrechen, die in der folgenden Auflistung aufgeführt sind:\n",
    "\n",
    "* Texterkennung (Text Recognition)\n",
    "  * Spracherkennung (Speech Recognition)\n",
    "  * Stimmungsanalyse (Sentiment Analyses)\n",
    "* Textmanipulation (Text Augmentation)\n",
    "  * Maschinelle Übersetzung (Machine Translation)\n",
    "  * Automatisches Antworten (Question Answering)"
   ]
  },
  {
   "cell_type": "markdown",
   "metadata": {},
   "source": [
    "Ihr könnt euch bestimmt vorstellen, dass die Erzeugung von gänzlich Neuem aufwendiger ist, als das Entscheiden über vorliegende Inhalte und so beschäftigt sich dieses Lernmodul mit der Texterkennung, im besonderen mit der Unterscheidung zwischen verschiedenen Stimmungen, welche der Verfasser eines Textes gehabt haben könnte. Ein aktuelles Anwendungsbeispiel ist die Identifikation von Hassreden, wie sie bspw. von [Facebook](https://www.facebook.com/) im Zuge ihrer [Community Standards](https://www.facebook.com/communitystandards/hate_speech) verboten sind und erkannt werden müssen."
   ]
  },
  {
   "cell_type": "markdown",
   "metadata": {},
   "source": [
    "### 1.2 <a id='voraussetzungen'>Voraussetzungen</a>"
   ]
  },
  {
   "cell_type": "markdown",
   "metadata": {},
   "source": [
    "Dieses Lernmodul nimmt sich [NumPy](https://numpy.org/) für numerische Berechnungen, [Pandas](https://pandas.pydata.org/) zur Datenverarbeitung und [PyPlot](https://matplotlib.org/api/pyplot_api.html) zur Datenvisualisierung zur Hilfe. Die folgende Zelle importiert benötigte Abhängigkeiten:"
   ]
  },
  {
   "cell_type": "code",
   "execution_count": 1,
   "metadata": {},
   "outputs": [],
   "source": [
    "import numpy as np\n",
    "import pandas as pd\n",
    "import matplotlib.pyplot as plt"
   ]
  },
  {
   "cell_type": "markdown",
   "metadata": {},
   "source": [
    "<div style=\"background-color: #150458; padding: 5px;\"></div>\n",
    "\n",
    "## 2. <a id='daten'>Daten</a>"
   ]
  },
  {
   "cell_type": "markdown",
   "metadata": {},
   "source": [
    "In der Datendomäne beschaffen wir uns zunächst einen Datensatz, welcher aus vielen Beispielen besteht, welche die Grundgesamtheit des Datensatzes bilden. Ein Beispiel umfasst dabei mindestens ein, wenn nicht sogar mehrere Merkmale. Ein Merkmal wird dabei durch einen numerischen oder symbolischen Wert verkörpert, der in unserem Fall bspw. ein Text sein kann.\n",
    "\n",
    "Im späteren Verlauf werden wir von der Daten- in die Modelldomäne voranschreiten. Hier werden einzelne Merkmale verworfen, andere wiederum für eine Modellvorhersage herangezogen. Mehr dazu im Abschnitt 3, denn zunächst beschaffen wir uns die Daten..."
   ]
  },
  {
   "cell_type": "markdown",
   "metadata": {},
   "source": [
    "### 2.1 <a id='beschaffen'>Textdaten beschaffen</a>"
   ]
  },
  {
   "cell_type": "markdown",
   "metadata": {},
   "source": [
    "Zu Beginn holen wir uns die benötigten Daten mithilfe von Pandas aus einem ZIP-Archiv."
   ]
  },
  {
   "cell_type": "code",
   "execution_count": 2,
   "metadata": {},
   "outputs": [],
   "source": [
    "twitter = pd.read_json('./tweets.json.gz', compression='gzip')"
   ]
  },
  {
   "cell_type": "markdown",
   "metadata": {},
   "source": [
    "### 2.2 <a id='erkunden'>Textdaten erkunden</a>"
   ]
  },
  {
   "cell_type": "markdown",
   "metadata": {},
   "source": [
    "Wie sehen unsere Daten aus?"
   ]
  },
  {
   "cell_type": "code",
   "execution_count": 3,
   "metadata": {},
   "outputs": [
    {
     "data": {
      "text/html": [
       "<div>\n",
       "<style scoped>\n",
       "    .dataframe tbody tr th:only-of-type {\n",
       "        vertical-align: middle;\n",
       "    }\n",
       "\n",
       "    .dataframe tbody tr th {\n",
       "        vertical-align: top;\n",
       "    }\n",
       "\n",
       "    .dataframe thead th {\n",
       "        text-align: right;\n",
       "    }\n",
       "</style>\n",
       "<table border=\"1\" class=\"dataframe\">\n",
       "  <thead>\n",
       "    <tr style=\"text-align: right;\">\n",
       "      <th></th>\n",
       "      <th>twista</th>\n",
       "      <th>type</th>\n",
       "      <th>id</th>\n",
       "      <th>user</th>\n",
       "      <th>created_at</th>\n",
       "      <th>recorded_at</th>\n",
       "      <th>source</th>\n",
       "      <th>retweets</th>\n",
       "      <th>favourites</th>\n",
       "      <th>lang</th>\n",
       "      <th>...</th>\n",
       "      <th>screen_name</th>\n",
       "      <th>location</th>\n",
       "      <th>description</th>\n",
       "      <th>url</th>\n",
       "      <th>verified</th>\n",
       "      <th>followers</th>\n",
       "      <th>friends</th>\n",
       "      <th>listed</th>\n",
       "      <th>statuses</th>\n",
       "      <th>refers_to</th>\n",
       "    </tr>\n",
       "  </thead>\n",
       "  <tbody>\n",
       "    <tr>\n",
       "      <th>0</th>\n",
       "      <td>0.3.1-b</td>\n",
       "      <td>status</td>\n",
       "      <td>1212046141279354880</td>\n",
       "      <td>1.140992e+18</td>\n",
       "      <td>2019-12-31 16:21:33+00:00</td>\n",
       "      <td>2019-12-31 16:21:39.286956+00:00</td>\n",
       "      <td>&lt;a href=\"https://mobile.twitter.com\" rel=\"nofo...</td>\n",
       "      <td>0.0</td>\n",
       "      <td>0</td>\n",
       "      <td>de</td>\n",
       "      <td>...</td>\n",
       "      <td>NaN</td>\n",
       "      <td>NaN</td>\n",
       "      <td>NaN</td>\n",
       "      <td>NaN</td>\n",
       "      <td>NaN</td>\n",
       "      <td>NaN</td>\n",
       "      <td>NaN</td>\n",
       "      <td>NaN</td>\n",
       "      <td>NaN</td>\n",
       "      <td>NaN</td>\n",
       "    </tr>\n",
       "    <tr>\n",
       "      <th>1</th>\n",
       "      <td>0.3.1-b</td>\n",
       "      <td>status</td>\n",
       "      <td>1212046145645662208</td>\n",
       "      <td>7.137519e+17</td>\n",
       "      <td>2019-12-31 16:21:34+00:00</td>\n",
       "      <td>2019-12-31 16:21:39.657847+00:00</td>\n",
       "      <td>&lt;a href=\"https://mobile.twitter.com\" rel=\"nofo...</td>\n",
       "      <td>0.0</td>\n",
       "      <td>0</td>\n",
       "      <td>de</td>\n",
       "      <td>...</td>\n",
       "      <td>NaN</td>\n",
       "      <td>NaN</td>\n",
       "      <td>NaN</td>\n",
       "      <td>NaN</td>\n",
       "      <td>NaN</td>\n",
       "      <td>NaN</td>\n",
       "      <td>NaN</td>\n",
       "      <td>NaN</td>\n",
       "      <td>NaN</td>\n",
       "      <td>NaN</td>\n",
       "    </tr>\n",
       "    <tr>\n",
       "      <th>2</th>\n",
       "      <td>0.3.1-b</td>\n",
       "      <td>status</td>\n",
       "      <td>1212046145737961472</td>\n",
       "      <td>7.158583e+17</td>\n",
       "      <td>2019-12-31 16:21:34+00:00</td>\n",
       "      <td>2019-12-31 16:21:39.700276+00:00</td>\n",
       "      <td>&lt;a href=\"http://www.facebook.com/twitter\" rel=...</td>\n",
       "      <td>0.0</td>\n",
       "      <td>0</td>\n",
       "      <td>de</td>\n",
       "      <td>...</td>\n",
       "      <td>NaN</td>\n",
       "      <td>NaN</td>\n",
       "      <td>NaN</td>\n",
       "      <td>NaN</td>\n",
       "      <td>NaN</td>\n",
       "      <td>NaN</td>\n",
       "      <td>NaN</td>\n",
       "      <td>NaN</td>\n",
       "      <td>NaN</td>\n",
       "      <td>NaN</td>\n",
       "    </tr>\n",
       "    <tr>\n",
       "      <th>3</th>\n",
       "      <td>0.3.1-b</td>\n",
       "      <td>status</td>\n",
       "      <td>1211821086905683968</td>\n",
       "      <td>1.106642e+18</td>\n",
       "      <td>2019-12-31 01:27:16+00:00</td>\n",
       "      <td>2019-12-31 16:21:40.016141+00:00</td>\n",
       "      <td>&lt;a href=\"http://twitter.com/download/iphone\" r...</td>\n",
       "      <td>1582.0</td>\n",
       "      <td>4518</td>\n",
       "      <td>en</td>\n",
       "      <td>...</td>\n",
       "      <td>NaN</td>\n",
       "      <td>NaN</td>\n",
       "      <td>NaN</td>\n",
       "      <td>NaN</td>\n",
       "      <td>NaN</td>\n",
       "      <td>NaN</td>\n",
       "      <td>NaN</td>\n",
       "      <td>NaN</td>\n",
       "      <td>NaN</td>\n",
       "      <td>NaN</td>\n",
       "    </tr>\n",
       "    <tr>\n",
       "      <th>4</th>\n",
       "      <td>0.3.1-b</td>\n",
       "      <td>status</td>\n",
       "      <td>1212046149990916096</td>\n",
       "      <td>9.990299e+08</td>\n",
       "      <td>2019-12-31 16:21:35+00:00</td>\n",
       "      <td>2019-12-31 16:21:40.711065+00:00</td>\n",
       "      <td>&lt;a href=\"http://twitter.com/download/android\" ...</td>\n",
       "      <td>0.0</td>\n",
       "      <td>0</td>\n",
       "      <td>de</td>\n",
       "      <td>...</td>\n",
       "      <td>NaN</td>\n",
       "      <td>NaN</td>\n",
       "      <td>NaN</td>\n",
       "      <td>NaN</td>\n",
       "      <td>NaN</td>\n",
       "      <td>NaN</td>\n",
       "      <td>NaN</td>\n",
       "      <td>NaN</td>\n",
       "      <td>NaN</td>\n",
       "      <td>NaN</td>\n",
       "    </tr>\n",
       "  </tbody>\n",
       "</table>\n",
       "<p>5 rows × 26 columns</p>\n",
       "</div>"
      ],
      "text/plain": [
       "    twista    type                   id          user  \\\n",
       "0  0.3.1-b  status  1212046141279354880  1.140992e+18   \n",
       "1  0.3.1-b  status  1212046145645662208  7.137519e+17   \n",
       "2  0.3.1-b  status  1212046145737961472  7.158583e+17   \n",
       "3  0.3.1-b  status  1211821086905683968  1.106642e+18   \n",
       "4  0.3.1-b  status  1212046149990916096  9.990299e+08   \n",
       "\n",
       "                 created_at                      recorded_at  \\\n",
       "0 2019-12-31 16:21:33+00:00 2019-12-31 16:21:39.286956+00:00   \n",
       "1 2019-12-31 16:21:34+00:00 2019-12-31 16:21:39.657847+00:00   \n",
       "2 2019-12-31 16:21:34+00:00 2019-12-31 16:21:39.700276+00:00   \n",
       "3 2019-12-31 01:27:16+00:00 2019-12-31 16:21:40.016141+00:00   \n",
       "4 2019-12-31 16:21:35+00:00 2019-12-31 16:21:40.711065+00:00   \n",
       "\n",
       "                                              source  retweets  favourites  \\\n",
       "0  <a href=\"https://mobile.twitter.com\" rel=\"nofo...       0.0           0   \n",
       "1  <a href=\"https://mobile.twitter.com\" rel=\"nofo...       0.0           0   \n",
       "2  <a href=\"http://www.facebook.com/twitter\" rel=...       0.0           0   \n",
       "3  <a href=\"http://twitter.com/download/iphone\" r...    1582.0        4518   \n",
       "4  <a href=\"http://twitter.com/download/android\" ...       0.0           0   \n",
       "\n",
       "  lang  ... screen_name location description  url verified followers friends  \\\n",
       "0   de  ...         NaN      NaN         NaN  NaN      NaN       NaN     NaN   \n",
       "1   de  ...         NaN      NaN         NaN  NaN      NaN       NaN     NaN   \n",
       "2   de  ...         NaN      NaN         NaN  NaN      NaN       NaN     NaN   \n",
       "3   en  ...         NaN      NaN         NaN  NaN      NaN       NaN     NaN   \n",
       "4   de  ...         NaN      NaN         NaN  NaN      NaN       NaN     NaN   \n",
       "\n",
       "  listed statuses refers_to  \n",
       "0    NaN      NaN       NaN  \n",
       "1    NaN      NaN       NaN  \n",
       "2    NaN      NaN       NaN  \n",
       "3    NaN      NaN       NaN  \n",
       "4    NaN      NaN       NaN  \n",
       "\n",
       "[5 rows x 26 columns]"
      ]
     },
     "execution_count": 3,
     "metadata": {},
     "output_type": "execute_result"
    }
   ],
   "source": [
    "twitter.head()"
   ]
  },
  {
   "cell_type": "markdown",
   "metadata": {},
   "source": [
    "Wie viele Werte liegen insgesamt vor?"
   ]
  },
  {
   "cell_type": "code",
   "execution_count": 4,
   "metadata": {},
   "outputs": [
    {
     "data": {
      "text/plain": [
       "1300000"
      ]
     },
     "execution_count": 4,
     "metadata": {},
     "output_type": "execute_result"
    }
   ],
   "source": [
    "twitter.size"
   ]
  },
  {
   "cell_type": "markdown",
   "metadata": {},
   "source": [
    "Wie viele Beispiele liegen insgesamt vor?"
   ]
  },
  {
   "cell_type": "code",
   "execution_count": 5,
   "metadata": {},
   "outputs": [
    {
     "data": {
      "text/plain": [
       "50000"
      ]
     },
     "execution_count": 5,
     "metadata": {},
     "output_type": "execute_result"
    }
   ],
   "source": [
    "twitter.shape[0]"
   ]
  },
  {
   "cell_type": "markdown",
   "metadata": {},
   "source": [
    "50.000 Beispiele sind ein paar Beispiele zu viel. Wir machen mit lediglich 100 Beispielen wie folgt weiter..."
   ]
  },
  {
   "cell_type": "code",
   "execution_count": 6,
   "metadata": {},
   "outputs": [],
   "source": [
    "twitter = twitter[:100]"
   ]
  },
  {
   "cell_type": "markdown",
   "metadata": {},
   "source": [
    "Wie viele Werte liegen pro Beispiel vor?"
   ]
  },
  {
   "cell_type": "code",
   "execution_count": 7,
   "metadata": {},
   "outputs": [
    {
     "data": {
      "text/plain": [
       "26"
      ]
     },
     "execution_count": 7,
     "metadata": {},
     "output_type": "execute_result"
    }
   ],
   "source": [
    "twitter.shape[1]"
   ]
  },
  {
   "cell_type": "markdown",
   "metadata": {},
   "source": [
    "Welche Merkmale bzw. Wertetypen liegen vor?"
   ]
  },
  {
   "cell_type": "code",
   "execution_count": 8,
   "metadata": {},
   "outputs": [
    {
     "data": {
      "text/plain": [
       "twista                        object\n",
       "type                          object\n",
       "id                             int64\n",
       "user                         float64\n",
       "created_at       datetime64[ns, UTC]\n",
       "recorded_at      datetime64[ns, UTC]\n",
       "source                        object\n",
       "retweets                     float64\n",
       "favourites                     int64\n",
       "lang                          object\n",
       "hashtags                      object\n",
       "urls                          object\n",
       "mentions                      object\n",
       "mentioned_ids                 object\n",
       "text                          object\n",
       "name                          object\n",
       "screen_name                   object\n",
       "location                      object\n",
       "description                   object\n",
       "url                           object\n",
       "verified                     float64\n",
       "followers                    float64\n",
       "friends                      float64\n",
       "listed                       float64\n",
       "statuses                     float64\n",
       "refers_to                    float64\n",
       "dtype: object"
      ]
     },
     "execution_count": 8,
     "metadata": {},
     "output_type": "execute_result"
    }
   ],
   "source": [
    "twitter.dtypes"
   ]
  },
  {
   "cell_type": "markdown",
   "metadata": {},
   "source": [
    "Das Merkmal _lang_ schauen wir uns als Erstes an. Welche Sprachen sind vertreten?"
   ]
  },
  {
   "cell_type": "code",
   "execution_count": 9,
   "metadata": {},
   "outputs": [
    {
     "data": {
      "text/plain": [
       "array(['de', 'en', 'tr', 'pt', 'es'], dtype=object)"
      ]
     },
     "execution_count": 9,
     "metadata": {},
     "output_type": "execute_result"
    }
   ],
   "source": [
    "twitter['lang'].unique()"
   ]
  },
  {
   "cell_type": "markdown",
   "metadata": {},
   "source": [
    "Wir behalten lediglich die deutschen Inhalte..."
   ]
  },
  {
   "cell_type": "code",
   "execution_count": 10,
   "metadata": {},
   "outputs": [],
   "source": [
    "twitter = twitter.drop(twitter[twitter.lang != 'de'].index).reset_index(drop=True)"
   ]
  },
  {
   "cell_type": "markdown",
   "metadata": {},
   "source": [
    "Das Merkmal _text_ scheint die gewünschten Tweets zu enthalten. Wir extrahieren dieses Merkmal vom DataFrame _twitter_ in eine DataSeries _tweets_."
   ]
  },
  {
   "cell_type": "code",
   "execution_count": 11,
   "metadata": {},
   "outputs": [
    {
     "data": {
      "text/plain": [
       "0    Hahaha.., da haben \"die Nazis\" aber Glück 🍀 ge...\n",
       "1    Ich wünsche allen guten Menschen ein gesundes ...\n",
       "2    Wir wünschen euch einen guten Rutsch und für d...\n",
       "3    31.12.2019. Breitscheidplatz. Weihnachtsmarkt....\n",
       "4    Wir wünschen allen ein friedliches  und sorgen...\n",
       "Name: text, dtype: object"
      ]
     },
     "execution_count": 11,
     "metadata": {},
     "output_type": "execute_result"
    }
   ],
   "source": [
    "tweets = twitter['text']\n",
    "tweets.head()"
   ]
  },
  {
   "cell_type": "markdown",
   "metadata": {},
   "source": [
    "### 2.3 <a id='aufbereiten'>Textdaten aufbereiten</a>"
   ]
  },
  {
   "cell_type": "markdown",
   "metadata": {},
   "source": [
    "Als Nächstes werden wir alle Symbole entfernen, die weder dem Alphabet angehören, noch Ziffern sind..."
   ]
  },
  {
   "cell_type": "code",
   "execution_count": 12,
   "metadata": {},
   "outputs": [
    {
     "data": {
      "text/plain": [
       "0    Hahaha da haben die Nazis aber Glück  gehabt u...\n",
       "1    Ich wünsche allen guten Menschen ein gesundes ...\n",
       "2    Wir wünschen euch einen guten Rutsch und für d...\n",
       "3     Breitscheidplatz Weihnachtsmarkt Aus den Ster...\n",
       "4    Wir wünschen allen ein friedliches  und sorgen...\n",
       "Name: text, dtype: object"
      ]
     },
     "execution_count": 12,
     "metadata": {},
     "output_type": "execute_result"
    }
   ],
   "source": [
    "tweets = tweets.replace(regex={'[^a-zA-ZäöüßÄÖU\\s]' : ''})\n",
    "tweets.head()"
   ]
  },
  {
   "cell_type": "markdown",
   "metadata": {},
   "source": [
    "Aus Sätzen werden Wörter. Wir zerteilen die Sequenzen anhand des Leerzeichens:"
   ]
  },
  {
   "cell_type": "code",
   "execution_count": 13,
   "metadata": {},
   "outputs": [
    {
     "data": {
      "text/plain": [
       "0    [Hahaha, da, haben, die, Nazis, aber, Glück, g...\n",
       "1    [Ich, wünsche, allen, guten, Menschen, ein, ge...\n",
       "2    [Wir, wünschen, euch, einen, guten, Rutsch, un...\n",
       "3    [Breitscheidplatz, Weihnachtsmarkt, Aus, den, ...\n",
       "4    [Wir, wünschen, allen, ein, friedliches, und, ...\n",
       "Name: text, dtype: object"
      ]
     },
     "execution_count": 13,
     "metadata": {},
     "output_type": "execute_result"
    }
   ],
   "source": [
    "tweets = tweets.str.split()\n",
    "tweets.head()"
   ]
  },
  {
   "cell_type": "markdown",
   "metadata": {},
   "source": [
    "Als Nächstes sollen sog. Stopp-Wörter, also Wörter, die den Lesefluss stören, entfernt werden. Wie viele Wörter wären betroffen?"
   ]
  },
  {
   "cell_type": "code",
   "execution_count": 14,
   "metadata": {},
   "outputs": [],
   "source": [
    "stop_words = ['und', 'oder', 'der', 'die', 'das', 'er', 'sie', 'es']"
   ]
  },
  {
   "cell_type": "code",
   "execution_count": 15,
   "metadata": {},
   "outputs": [],
   "source": [
    "def content_fraction(text):\n",
    "    content = [word for word in text if word not in stop_words]\n",
    "    return len(content) / len(text)"
   ]
  },
  {
   "cell_type": "code",
   "execution_count": 16,
   "metadata": {},
   "outputs": [
    {
     "data": {
      "text/plain": [
       "0.9257081774452165"
      ]
     },
     "execution_count": 16,
     "metadata": {},
     "output_type": "execute_result"
    }
   ],
   "source": [
    "content_fraction(tweets.aggregate(np.concatenate))"
   ]
  },
  {
   "cell_type": "markdown",
   "metadata": {},
   "source": [
    "8 % Verlust klingt verkraftbar. Dann werfen wir den Filter mal an."
   ]
  },
  {
   "cell_type": "code",
   "execution_count": 17,
   "metadata": {},
   "outputs": [],
   "source": [
    "def filter_tokens(data):\n",
    "    row_list = []\n",
    "    for row in data:\n",
    "        token_list = []\n",
    "        for token in row:\n",
    "            if token not in stop_words:\n",
    "                token_list.append(token)\n",
    "        row_list.append(token_list)\n",
    "    \n",
    "    return pd.Series(row_list)"
   ]
  },
  {
   "cell_type": "code",
   "execution_count": 18,
   "metadata": {},
   "outputs": [],
   "source": [
    "tweets = filter_tokens(tweets)"
   ]
  },
  {
   "cell_type": "markdown",
   "metadata": {},
   "source": [
    "Rufen wir die Verlustfunktion erneut auf, meldet sich wie erwartet keine Verluste."
   ]
  },
  {
   "cell_type": "code",
   "execution_count": 19,
   "metadata": {},
   "outputs": [
    {
     "data": {
      "text/plain": [
       "1.0"
      ]
     },
     "execution_count": 19,
     "metadata": {},
     "output_type": "execute_result"
    }
   ],
   "source": [
    "content_fraction(tweets.aggregate(np.concatenate))"
   ]
  },
  {
   "cell_type": "markdown",
   "metadata": {},
   "source": [
    "Wie viele Wörter sind im längsten Tweet enthalten?"
   ]
  },
  {
   "cell_type": "code",
   "execution_count": 20,
   "metadata": {},
   "outputs": [
    {
     "data": {
      "text/plain": [
       "43"
      ]
     },
     "execution_count": 20,
     "metadata": {},
     "output_type": "execute_result"
    }
   ],
   "source": [
    "tweets_length = [len(tweet) for tweet in tweets]\n",
    "np.max(tweets_length)"
   ]
  },
  {
   "cell_type": "markdown",
   "metadata": {},
   "source": [
    "Wie viele Tweets haben eine bestimmte Länge? Die folgende Funktion _plot_tweet_length_distribution_ hilft uns dabei:"
   ]
  },
  {
   "cell_type": "code",
   "execution_count": 21,
   "metadata": {},
   "outputs": [],
   "source": [
    "def plot_tweet_length_distribution(tweets_length):\n",
    "    \"\"\"Count tokens per tweet and plot their length distribution.\"\"\"\n",
    "\n",
    "    plt.hist(tweets_length, np.max(tweets_length))\n",
    "    plt.xlabel('Words per tweet')\n",
    "    plt.ylabel('Amount of tweets')\n",
    "    plt.title('Tweet length distribution')\n",
    "    plt.show()"
   ]
  },
  {
   "cell_type": "code",
   "execution_count": 22,
   "metadata": {},
   "outputs": [
    {
     "data": {
      "image/png": "[encoded data removed]",
      "text/plain": [
       "<Figure size 432x288 with 1 Axes>"
      ]
     },
     "metadata": {
      "needs_background": "light"
     },
     "output_type": "display_data"
    }
   ],
   "source": [
    "plot_tweet_length_distribution(tweets_length)"
   ]
  },
  {
   "cell_type": "markdown",
   "metadata": {},
   "source": [
    "Wie lauten die am häufigsten verwendeten Wörter? Dabei hilft uns die Funktionalität [FreqDist](http://www.nltk.org/api/nltk.html?highlight=freqdist#nltk.probability.FreqDist), welche eine Häufigkeitsverteilung über alle Wörter bildet."
   ]
  },
  {
   "cell_type": "code",
   "execution_count": 23,
   "metadata": {},
   "outputs": [],
   "source": [
    "from nltk.probability import FreqDist\n",
    "fd = FreqDist(tweets.aggregate(np.concatenate))"
   ]
  },
  {
   "cell_type": "markdown",
   "metadata": {},
   "source": [
    "Wie lauten jetzt die zehn häufigsten Wörter?"
   ]
  },
  {
   "cell_type": "code",
   "execution_count": 24,
   "metadata": {},
   "outputs": [
    {
     "data": {
      "text/plain": [
       "[('ein', 30),\n",
       " ('in', 21),\n",
       " ('Ich', 20),\n",
       " ('Jahr', 18),\n",
       " ('für', 17),\n",
       " ('den', 16),\n",
       " ('an', 16),\n",
       " ('nicht', 15),\n",
       " ('auf', 14),\n",
       " ('mit', 12)]"
      ]
     },
     "execution_count": 24,
     "metadata": {},
     "output_type": "execute_result"
    }
   ],
   "source": [
    "fd.most_common(10)"
   ]
  },
  {
   "cell_type": "markdown",
   "metadata": {},
   "source": [
    "Wie sieht das Histogramm dazu aus?"
   ]
  },
  {
   "cell_type": "code",
   "execution_count": 25,
   "metadata": {},
   "outputs": [
    {
     "data": {
      "image/png": "[encoded data removed]",
      "text/plain": [
       "<Figure size 432x288 with 1 Axes>"
      ]
     },
     "metadata": {
      "needs_background": "light"
     },
     "output_type": "display_data"
    },
    {
     "data": {
      "text/plain": [
       "<matplotlib.axes._subplots.AxesSubplot at 0x20f2b5d6400>"
      ]
     },
     "execution_count": 25,
     "metadata": {},
     "output_type": "execute_result"
    }
   ],
   "source": [
    "fd.plot(20)"
   ]
  },
  {
   "cell_type": "markdown",
   "metadata": {},
   "source": [
    "Neben dem Histogramm lässt sich auch eine sog. Schlagwort-Wolke aus den Wörtern erzeugen. Dazu nutzen wir die Funktionalität von [WordCloud](http://amueller.github.io/word_cloud/index.html)."
   ]
  },
  {
   "cell_type": "code",
   "execution_count": 26,
   "metadata": {},
   "outputs": [],
   "source": [
    "from wordcloud import WordCloud\n",
    "wc = WordCloud()"
   ]
  },
  {
   "cell_type": "markdown",
   "metadata": {},
   "source": [
    "Da wir im vorherigen Schritt bereits die Wortverteilung berechnet haben, lässt sich diese im folgenden wiederverwenden."
   ]
  },
  {
   "cell_type": "code",
   "execution_count": 27,
   "metadata": {},
   "outputs": [
    {
     "data": {
      "image/png": "[encoded data removed]",
      "text/plain": [
       "<Figure size 432x288 with 1 Axes>"
      ]
     },
     "metadata": {
      "needs_background": "light"
     },
     "output_type": "display_data"
    }
   ],
   "source": [
    "plt.imshow(wc.generate_from_frequencies(fd), interpolation=\"bilinear\")\n",
    "plt.show()"
   ]
  },
  {
   "cell_type": "markdown",
   "metadata": {},
   "source": [
    "## 3. <a id='modell'>Modell</a>"
   ]
  },
  {
   "cell_type": "markdown",
   "metadata": {},
   "source": [
    "### 3.1 <a id='einbetten'>Textdaten einbetten</a>"
   ]
  },
  {
   "cell_type": "markdown",
   "metadata": {},
   "source": [
    "#### 3.1.1 Vokabular"
   ]
  },
  {
   "cell_type": "code",
   "execution_count": 28,
   "metadata": {},
   "outputs": [
    {
     "data": {
      "text/html": [
       "<div>\n",
       "<style scoped>\n",
       "    .dataframe tbody tr th:only-of-type {\n",
       "        vertical-align: middle;\n",
       "    }\n",
       "\n",
       "    .dataframe tbody tr th {\n",
       "        vertical-align: top;\n",
       "    }\n",
       "\n",
       "    .dataframe thead th {\n",
       "        text-align: right;\n",
       "    }\n",
       "</style>\n",
       "<table border=\"1\" class=\"dataframe\">\n",
       "  <thead>\n",
       "    <tr style=\"text-align: right;\">\n",
       "      <th></th>\n",
       "      <th>Wort</th>\n",
       "      <th>Score</th>\n",
       "      <th>Declination</th>\n",
       "      <th>Stimmung</th>\n",
       "    </tr>\n",
       "  </thead>\n",
       "  <tbody>\n",
       "    <tr>\n",
       "      <th>0</th>\n",
       "      <td>Abbruch|NN</td>\n",
       "      <td>-0.0048</td>\n",
       "      <td>Abbruches,Abbrüche,Abbruchs,Abbrüchen</td>\n",
       "      <td>negativ</td>\n",
       "    </tr>\n",
       "    <tr>\n",
       "      <th>1</th>\n",
       "      <td>Abdankung|NN</td>\n",
       "      <td>-0.0048</td>\n",
       "      <td>Abdankungen</td>\n",
       "      <td>negativ</td>\n",
       "    </tr>\n",
       "    <tr>\n",
       "      <th>2</th>\n",
       "      <td>Abdämpfung|NN</td>\n",
       "      <td>-0.0048</td>\n",
       "      <td>Abdämpfungen</td>\n",
       "      <td>negativ</td>\n",
       "    </tr>\n",
       "    <tr>\n",
       "      <th>3</th>\n",
       "      <td>Abfall|NN</td>\n",
       "      <td>-0.0048</td>\n",
       "      <td>Abfalles,Abfälle,Abfalls,Abfällen</td>\n",
       "      <td>negativ</td>\n",
       "    </tr>\n",
       "    <tr>\n",
       "      <th>4</th>\n",
       "      <td>Abfuhr|NN</td>\n",
       "      <td>-0.3367</td>\n",
       "      <td>Abfuhren</td>\n",
       "      <td>negativ</td>\n",
       "    </tr>\n",
       "  </tbody>\n",
       "</table>\n",
       "</div>"
      ],
      "text/plain": [
       "            Wort   Score                            Declination Stimmung\n",
       "0     Abbruch|NN -0.0048  Abbruches,Abbrüche,Abbruchs,Abbrüchen  negativ\n",
       "1   Abdankung|NN -0.0048                            Abdankungen  negativ\n",
       "2  Abdämpfung|NN -0.0048                           Abdämpfungen  negativ\n",
       "3      Abfall|NN -0.0048      Abfalles,Abfälle,Abfalls,Abfällen  negativ\n",
       "4      Abfuhr|NN -0.3367                               Abfuhren  negativ"
      ]
     },
     "execution_count": 28,
     "metadata": {},
     "output_type": "execute_result"
    }
   ],
   "source": [
    "positive = pd.read_csv('./positive.txt', lineterminator='\\n', sep='\\t', header=0, names=['Wort', 'Score', 'Declination'])\n",
    "positive['Stimmung'] = 'positiv'\n",
    "\n",
    "negative = pd.read_csv('./negative.txt', lineterminator='\\n', sep='\\t', header=0, names=['Wort', 'Score', 'Declination'])\n",
    "negative['Stimmung'] = 'negativ'\n",
    "\n",
    "vocab = pd.concat([negative, positive])\n",
    "assert positive.size + negative.size == vocab.size\n",
    "vocab.head()"
   ]
  },
  {
   "cell_type": "markdown",
   "metadata": {},
   "source": [
    "Als Nächstes werden wir den Zusatz hinter dem senkrechten Strich (|) vom Wort lösen."
   ]
  },
  {
   "cell_type": "code",
   "execution_count": 29,
   "metadata": {},
   "outputs": [
    {
     "data": {
      "text/html": [
       "<div>\n",
       "<style scoped>\n",
       "    .dataframe tbody tr th:only-of-type {\n",
       "        vertical-align: middle;\n",
       "    }\n",
       "\n",
       "    .dataframe tbody tr th {\n",
       "        vertical-align: top;\n",
       "    }\n",
       "\n",
       "    .dataframe thead th {\n",
       "        text-align: right;\n",
       "    }\n",
       "</style>\n",
       "<table border=\"1\" class=\"dataframe\">\n",
       "  <thead>\n",
       "    <tr style=\"text-align: right;\">\n",
       "      <th></th>\n",
       "      <th>Wort</th>\n",
       "      <th>Score</th>\n",
       "      <th>Declination</th>\n",
       "      <th>Stimmung</th>\n",
       "      <th>Typ</th>\n",
       "    </tr>\n",
       "  </thead>\n",
       "  <tbody>\n",
       "    <tr>\n",
       "      <th>0</th>\n",
       "      <td>Abbruch</td>\n",
       "      <td>-0.0048</td>\n",
       "      <td>Abbruches,Abbrüche,Abbruchs,Abbrüchen</td>\n",
       "      <td>negativ</td>\n",
       "      <td>NN</td>\n",
       "    </tr>\n",
       "    <tr>\n",
       "      <th>1</th>\n",
       "      <td>Abdankung</td>\n",
       "      <td>-0.0048</td>\n",
       "      <td>Abdankungen</td>\n",
       "      <td>negativ</td>\n",
       "      <td>NN</td>\n",
       "    </tr>\n",
       "    <tr>\n",
       "      <th>2</th>\n",
       "      <td>Abdämpfung</td>\n",
       "      <td>-0.0048</td>\n",
       "      <td>Abdämpfungen</td>\n",
       "      <td>negativ</td>\n",
       "      <td>NN</td>\n",
       "    </tr>\n",
       "    <tr>\n",
       "      <th>3</th>\n",
       "      <td>Abfall</td>\n",
       "      <td>-0.0048</td>\n",
       "      <td>Abfalles,Abfälle,Abfalls,Abfällen</td>\n",
       "      <td>negativ</td>\n",
       "      <td>NN</td>\n",
       "    </tr>\n",
       "    <tr>\n",
       "      <th>4</th>\n",
       "      <td>Abfuhr</td>\n",
       "      <td>-0.3367</td>\n",
       "      <td>Abfuhren</td>\n",
       "      <td>negativ</td>\n",
       "      <td>NN</td>\n",
       "    </tr>\n",
       "  </tbody>\n",
       "</table>\n",
       "</div>"
      ],
      "text/plain": [
       "         Wort   Score                            Declination Stimmung Typ\n",
       "0     Abbruch -0.0048  Abbruches,Abbrüche,Abbruchs,Abbrüchen  negativ  NN\n",
       "1   Abdankung -0.0048                            Abdankungen  negativ  NN\n",
       "2  Abdämpfung -0.0048                           Abdämpfungen  negativ  NN\n",
       "3      Abfall -0.0048      Abfalles,Abfälle,Abfalls,Abfällen  negativ  NN\n",
       "4      Abfuhr -0.3367                               Abfuhren  negativ  NN"
      ]
     },
     "execution_count": 29,
     "metadata": {},
     "output_type": "execute_result"
    }
   ],
   "source": [
    "vocab[['Wort', 'Typ']] = vocab['Wort'].str.split('|', 1, expand=True)\n",
    "vocab.head()"
   ]
  },
  {
   "cell_type": "markdown",
   "metadata": {},
   "source": [
    "Fehlende Werte werden mit einer leeren Zeichenkette ersetzt."
   ]
  },
  {
   "cell_type": "code",
   "execution_count": 30,
   "metadata": {},
   "outputs": [],
   "source": [
    "vocab = vocab.fillna('')"
   ]
  },
  {
   "cell_type": "markdown",
   "metadata": {},
   "source": [
    "Als Nächstes werden die Deklinationen eines Wortes als eigenes Wort hinterlegt."
   ]
  },
  {
   "cell_type": "code",
   "execution_count": 31,
   "metadata": {},
   "outputs": [
    {
     "data": {
      "text/html": [
       "<div>\n",
       "<style scoped>\n",
       "    .dataframe tbody tr th:only-of-type {\n",
       "        vertical-align: middle;\n",
       "    }\n",
       "\n",
       "    .dataframe tbody tr th {\n",
       "        vertical-align: top;\n",
       "    }\n",
       "\n",
       "    .dataframe thead th {\n",
       "        text-align: right;\n",
       "    }\n",
       "</style>\n",
       "<table border=\"1\" class=\"dataframe\">\n",
       "  <thead>\n",
       "    <tr style=\"text-align: right;\">\n",
       "      <th></th>\n",
       "      <th>Stamm</th>\n",
       "      <th>Score</th>\n",
       "      <th>Stimmung</th>\n",
       "      <th>Typ</th>\n",
       "      <th>Wort</th>\n",
       "    </tr>\n",
       "  </thead>\n",
       "  <tbody>\n",
       "    <tr>\n",
       "      <th>0</th>\n",
       "      <td>Abbruch</td>\n",
       "      <td>-0.0048</td>\n",
       "      <td>negativ</td>\n",
       "      <td>NN</td>\n",
       "      <td>Abbruch</td>\n",
       "    </tr>\n",
       "    <tr>\n",
       "      <th>1</th>\n",
       "      <td>Abbruch</td>\n",
       "      <td>-0.0048</td>\n",
       "      <td>negativ</td>\n",
       "      <td>NN</td>\n",
       "      <td>Abbruches</td>\n",
       "    </tr>\n",
       "    <tr>\n",
       "      <th>2</th>\n",
       "      <td>Abbruch</td>\n",
       "      <td>-0.0048</td>\n",
       "      <td>negativ</td>\n",
       "      <td>NN</td>\n",
       "      <td>Abbrüche</td>\n",
       "    </tr>\n",
       "    <tr>\n",
       "      <th>3</th>\n",
       "      <td>Abbruch</td>\n",
       "      <td>-0.0048</td>\n",
       "      <td>negativ</td>\n",
       "      <td>NN</td>\n",
       "      <td>Abbruchs</td>\n",
       "    </tr>\n",
       "    <tr>\n",
       "      <th>4</th>\n",
       "      <td>Abbruch</td>\n",
       "      <td>-0.0048</td>\n",
       "      <td>negativ</td>\n",
       "      <td>NN</td>\n",
       "      <td>Abbrüchen</td>\n",
       "    </tr>\n",
       "    <tr>\n",
       "      <th>...</th>\n",
       "      <td>...</td>\n",
       "      <td>...</td>\n",
       "      <td>...</td>\n",
       "      <td>...</td>\n",
       "      <td>...</td>\n",
       "    </tr>\n",
       "    <tr>\n",
       "      <th>32076</th>\n",
       "      <td>üppig</td>\n",
       "      <td>0.2010</td>\n",
       "      <td>positiv</td>\n",
       "      <td>ADJX</td>\n",
       "      <td>üppigster</td>\n",
       "    </tr>\n",
       "    <tr>\n",
       "      <th>32077</th>\n",
       "      <td>üppig</td>\n",
       "      <td>0.2010</td>\n",
       "      <td>positiv</td>\n",
       "      <td>ADJX</td>\n",
       "      <td>üppiges</td>\n",
       "    </tr>\n",
       "    <tr>\n",
       "      <th>32078</th>\n",
       "      <td>üppig</td>\n",
       "      <td>0.2010</td>\n",
       "      <td>positiv</td>\n",
       "      <td>ADJX</td>\n",
       "      <td>üppig</td>\n",
       "    </tr>\n",
       "    <tr>\n",
       "      <th>32079</th>\n",
       "      <td>üppig</td>\n",
       "      <td>0.2010</td>\n",
       "      <td>positiv</td>\n",
       "      <td>ADJX</td>\n",
       "      <td>üppigsten</td>\n",
       "    </tr>\n",
       "    <tr>\n",
       "      <th>32080</th>\n",
       "      <td>üppig</td>\n",
       "      <td>0.2010</td>\n",
       "      <td>positiv</td>\n",
       "      <td>ADJX</td>\n",
       "      <td>üppige</td>\n",
       "    </tr>\n",
       "  </tbody>\n",
       "</table>\n",
       "<p>32081 rows × 5 columns</p>\n",
       "</div>"
      ],
      "text/plain": [
       "         Stamm   Score Stimmung   Typ       Wort\n",
       "0      Abbruch -0.0048  negativ    NN    Abbruch\n",
       "1      Abbruch -0.0048  negativ    NN  Abbruches\n",
       "2      Abbruch -0.0048  negativ    NN   Abbrüche\n",
       "3      Abbruch -0.0048  negativ    NN   Abbruchs\n",
       "4      Abbruch -0.0048  negativ    NN  Abbrüchen\n",
       "...        ...     ...      ...   ...        ...\n",
       "32076    üppig  0.2010  positiv  ADJX  üppigster\n",
       "32077    üppig  0.2010  positiv  ADJX    üppiges\n",
       "32078    üppig  0.2010  positiv  ADJX      üppig\n",
       "32079    üppig  0.2010  positiv  ADJX  üppigsten\n",
       "32080    üppig  0.2010  positiv  ADJX     üppige\n",
       "\n",
       "[32081 rows x 5 columns]"
      ]
     },
     "execution_count": 31,
     "metadata": {},
     "output_type": "execute_result"
    }
   ],
   "source": [
    "vocab['Merged'] = vocab['Wort'] + ',' + vocab['Declination']\n",
    "vocab['Merged'] = vocab['Merged'].str.split(',')\n",
    "vocab = vocab.explode('Merged')\n",
    "vocab = vocab.sort_values('Wort').reset_index(drop=True)\n",
    "vocab = vocab.rename(columns={'Wort': 'Stamm', 'Merged': 'Wort'})\n",
    "vocab = vocab.drop(['Declination'], axis=1)\n",
    "vocab"
   ]
  },
  {
   "cell_type": "markdown",
   "metadata": {},
   "source": [
    "Welche Wort-Typen sind vorhanden?"
   ]
  },
  {
   "cell_type": "code",
   "execution_count": 32,
   "metadata": {},
   "outputs": [
    {
     "data": {
      "text/html": [
       "<div>\n",
       "<style scoped>\n",
       "    .dataframe tbody tr th:only-of-type {\n",
       "        vertical-align: middle;\n",
       "    }\n",
       "\n",
       "    .dataframe tbody tr th {\n",
       "        vertical-align: top;\n",
       "    }\n",
       "\n",
       "    .dataframe thead th {\n",
       "        text-align: right;\n",
       "    }\n",
       "</style>\n",
       "<table border=\"1\" class=\"dataframe\">\n",
       "  <thead>\n",
       "    <tr style=\"text-align: right;\">\n",
       "      <th></th>\n",
       "      <th>Stamm</th>\n",
       "      <th>Score</th>\n",
       "      <th>Stimmung</th>\n",
       "      <th>Wort</th>\n",
       "    </tr>\n",
       "    <tr>\n",
       "      <th>Typ</th>\n",
       "      <th></th>\n",
       "      <th></th>\n",
       "      <th></th>\n",
       "      <th></th>\n",
       "    </tr>\n",
       "  </thead>\n",
       "  <tbody>\n",
       "    <tr>\n",
       "      <th>ADJX</th>\n",
       "      <td>22960</td>\n",
       "      <td>22960</td>\n",
       "      <td>22960</td>\n",
       "      <td>22960</td>\n",
       "    </tr>\n",
       "    <tr>\n",
       "      <th>ADV</th>\n",
       "      <td>37</td>\n",
       "      <td>37</td>\n",
       "      <td>37</td>\n",
       "      <td>37</td>\n",
       "    </tr>\n",
       "    <tr>\n",
       "      <th>NN</th>\n",
       "      <td>3182</td>\n",
       "      <td>3182</td>\n",
       "      <td>3182</td>\n",
       "      <td>3182</td>\n",
       "    </tr>\n",
       "    <tr>\n",
       "      <th>VVINF</th>\n",
       "      <td>5902</td>\n",
       "      <td>5902</td>\n",
       "      <td>5902</td>\n",
       "      <td>5902</td>\n",
       "    </tr>\n",
       "  </tbody>\n",
       "</table>\n",
       "</div>"
      ],
      "text/plain": [
       "       Stamm  Score  Stimmung   Wort\n",
       "Typ                                 \n",
       "ADJX   22960  22960     22960  22960\n",
       "ADV       37     37        37     37\n",
       "NN      3182   3182      3182   3182\n",
       "VVINF   5902   5902      5902   5902"
      ]
     },
     "execution_count": 32,
     "metadata": {},
     "output_type": "execute_result"
    }
   ],
   "source": [
    "vocab.groupby('Typ').count()"
   ]
  },
  {
   "cell_type": "markdown",
   "metadata": {},
   "source": [
    "Finde das Adjektiv _gut_ im Vokabular."
   ]
  },
  {
   "cell_type": "code",
   "execution_count": 33,
   "metadata": {},
   "outputs": [
    {
     "data": {
      "text/html": [
       "<div>\n",
       "<style scoped>\n",
       "    .dataframe tbody tr th:only-of-type {\n",
       "        vertical-align: middle;\n",
       "    }\n",
       "\n",
       "    .dataframe tbody tr th {\n",
       "        vertical-align: top;\n",
       "    }\n",
       "\n",
       "    .dataframe thead th {\n",
       "        text-align: right;\n",
       "    }\n",
       "</style>\n",
       "<table border=\"1\" class=\"dataframe\">\n",
       "  <thead>\n",
       "    <tr style=\"text-align: right;\">\n",
       "      <th></th>\n",
       "      <th>Stamm</th>\n",
       "      <th>Score</th>\n",
       "      <th>Stimmung</th>\n",
       "      <th>Typ</th>\n",
       "      <th>Wort</th>\n",
       "    </tr>\n",
       "  </thead>\n",
       "  <tbody>\n",
       "    <tr>\n",
       "      <th>13862</th>\n",
       "      <td>gut</td>\n",
       "      <td>0.3716</td>\n",
       "      <td>positiv</td>\n",
       "      <td>ADJX</td>\n",
       "      <td>gut</td>\n",
       "    </tr>\n",
       "  </tbody>\n",
       "</table>\n",
       "</div>"
      ],
      "text/plain": [
       "      Stamm   Score Stimmung   Typ Wort\n",
       "13862   gut  0.3716  positiv  ADJX  gut"
      ]
     },
     "execution_count": 33,
     "metadata": {},
     "output_type": "execute_result"
    }
   ],
   "source": [
    "vocab.loc[vocab['Wort'] == 'gut']"
   ]
  },
  {
   "cell_type": "markdown",
   "metadata": {},
   "source": [
    "Finde die ersten zehn Adverben im Vokabular."
   ]
  },
  {
   "cell_type": "code",
   "execution_count": 34,
   "metadata": {},
   "outputs": [
    {
     "data": {
      "text/html": [
       "<div>\n",
       "<style scoped>\n",
       "    .dataframe tbody tr th:only-of-type {\n",
       "        vertical-align: middle;\n",
       "    }\n",
       "\n",
       "    .dataframe tbody tr th {\n",
       "        vertical-align: top;\n",
       "    }\n",
       "\n",
       "    .dataframe thead th {\n",
       "        text-align: right;\n",
       "    }\n",
       "</style>\n",
       "<table border=\"1\" class=\"dataframe\">\n",
       "  <thead>\n",
       "    <tr style=\"text-align: right;\">\n",
       "      <th></th>\n",
       "      <th>Stamm</th>\n",
       "      <th>Score</th>\n",
       "      <th>Stimmung</th>\n",
       "      <th>Typ</th>\n",
       "      <th>Wort</th>\n",
       "    </tr>\n",
       "  </thead>\n",
       "  <tbody>\n",
       "    <tr>\n",
       "      <th>4786</th>\n",
       "      <td>aufwärts</td>\n",
       "      <td>0.0040</td>\n",
       "      <td>positiv</td>\n",
       "      <td>ADV</td>\n",
       "      <td>aufwärts</td>\n",
       "    </tr>\n",
       "    <tr>\n",
       "      <th>4787</th>\n",
       "      <td>aufwärts</td>\n",
       "      <td>0.0040</td>\n",
       "      <td>positiv</td>\n",
       "      <td>ADV</td>\n",
       "      <td></td>\n",
       "    </tr>\n",
       "    <tr>\n",
       "      <th>6330</th>\n",
       "      <td>bergab</td>\n",
       "      <td>-0.0048</td>\n",
       "      <td>negativ</td>\n",
       "      <td>ADV</td>\n",
       "      <td></td>\n",
       "    </tr>\n",
       "    <tr>\n",
       "      <th>6331</th>\n",
       "      <td>bergab</td>\n",
       "      <td>-0.0048</td>\n",
       "      <td>negativ</td>\n",
       "      <td>ADV</td>\n",
       "      <td>bergab</td>\n",
       "    </tr>\n",
       "    <tr>\n",
       "      <th>6603</th>\n",
       "      <td>besonders</td>\n",
       "      <td>0.5391</td>\n",
       "      <td>positiv</td>\n",
       "      <td>ADV</td>\n",
       "      <td></td>\n",
       "    </tr>\n",
       "    <tr>\n",
       "      <th>6604</th>\n",
       "      <td>besonders</td>\n",
       "      <td>0.5391</td>\n",
       "      <td>positiv</td>\n",
       "      <td>ADV</td>\n",
       "      <td>besonders</td>\n",
       "    </tr>\n",
       "    <tr>\n",
       "      <th>6689</th>\n",
       "      <td>bestens</td>\n",
       "      <td>0.0808</td>\n",
       "      <td>positiv</td>\n",
       "      <td>ADV</td>\n",
       "      <td></td>\n",
       "    </tr>\n",
       "    <tr>\n",
       "      <th>6690</th>\n",
       "      <td>bestens</td>\n",
       "      <td>0.0808</td>\n",
       "      <td>positiv</td>\n",
       "      <td>ADV</td>\n",
       "      <td>bestens</td>\n",
       "    </tr>\n",
       "    <tr>\n",
       "      <th>14558</th>\n",
       "      <td>herunter</td>\n",
       "      <td>-0.0048</td>\n",
       "      <td>negativ</td>\n",
       "      <td>ADV</td>\n",
       "      <td>herunter</td>\n",
       "    </tr>\n",
       "    <tr>\n",
       "      <th>14559</th>\n",
       "      <td>herunter</td>\n",
       "      <td>-0.0048</td>\n",
       "      <td>negativ</td>\n",
       "      <td>ADV</td>\n",
       "      <td></td>\n",
       "    </tr>\n",
       "  </tbody>\n",
       "</table>\n",
       "</div>"
      ],
      "text/plain": [
       "           Stamm   Score Stimmung  Typ       Wort\n",
       "4786    aufwärts  0.0040  positiv  ADV   aufwärts\n",
       "4787    aufwärts  0.0040  positiv  ADV           \n",
       "6330      bergab -0.0048  negativ  ADV           \n",
       "6331      bergab -0.0048  negativ  ADV     bergab\n",
       "6603   besonders  0.5391  positiv  ADV           \n",
       "6604   besonders  0.5391  positiv  ADV  besonders\n",
       "6689     bestens  0.0808  positiv  ADV           \n",
       "6690     bestens  0.0808  positiv  ADV    bestens\n",
       "14558   herunter -0.0048  negativ  ADV   herunter\n",
       "14559   herunter -0.0048  negativ  ADV           "
      ]
     },
     "execution_count": 34,
     "metadata": {},
     "output_type": "execute_result"
    }
   ],
   "source": [
    "vocab.loc[vocab['Typ'] == 'ADV'][:10]"
   ]
  },
  {
   "cell_type": "code",
   "execution_count": 35,
   "metadata": {},
   "outputs": [],
   "source": [
    "corpus = {'negativ' : vocab.loc[vocab['Stimmung'] == 'negativ'], 'positiv' : vocab.loc[vocab['Stimmung'] == 'positiv']}"
   ]
  },
  {
   "cell_type": "markdown",
   "metadata": {},
   "source": [
    "### 3.1.2 Labels"
   ]
  },
  {
   "cell_type": "code",
   "execution_count": 36,
   "metadata": {},
   "outputs": [],
   "source": [
    "def get_labels(sequence):\n",
    "    score = 0.0\n",
    "    for token in sequence:\n",
    "        row = vocab.loc[vocab['Wort'] == token]\n",
    "        if len(row) == 1:\n",
    "            score += row['Score'].to_numpy()\n",
    "    if score > 0.0:\n",
    "        return 'positiv'\n",
    "    elif score < 0.0:\n",
    "        return 'negativ'\n",
    "    else:\n",
    "        return 'neutral'"
   ]
  },
  {
   "cell_type": "markdown",
   "metadata": {},
   "source": [
    "### 3.1.3 Features"
   ]
  },
  {
   "cell_type": "code",
   "execution_count": 37,
   "metadata": {},
   "outputs": [],
   "source": [
    "def word_feats(words):\n",
    "    return dict([(word, True) for word in words])"
   ]
  },
  {
   "cell_type": "code",
   "execution_count": 38,
   "metadata": {},
   "outputs": [],
   "source": [
    "negative_features = [(word_feats(vocab.loc[vocab['Stimmung'] == 'negativ']['Wort']), 'negativ')]\n",
    "positive_features = [(word_feats(vocab.loc[vocab['Stimmung'] == 'positiv']['Wort']), 'positiv')]\n",
    "train_set = negative_features + positive_features"
   ]
  },
  {
   "cell_type": "markdown",
   "metadata": {},
   "source": [
    "### 3.2 <a id='klassifizieren'>Textdaten klassifizieren</a>"
   ]
  },
  {
   "cell_type": "code",
   "execution_count": 39,
   "metadata": {},
   "outputs": [],
   "source": [
    "from nltk import NaiveBayesClassifier"
   ]
  },
  {
   "cell_type": "code",
   "execution_count": 40,
   "metadata": {},
   "outputs": [],
   "source": [
    "classifier = NaiveBayesClassifier.train(train_set)"
   ]
  },
  {
   "cell_type": "code",
   "execution_count": 41,
   "metadata": {},
   "outputs": [],
   "source": [
    "def compare_classifier(data, examples=100):\n",
    "    \n",
    "    print('#\\tNaiv\\tNLTK\\t∆ Beispiel')\n",
    "    \n",
    "    data = data[:examples]\n",
    "    for example in data.iteritems():\n",
    "        \n",
    "        # Naive classifier\n",
    "        naive = get_labels(example[1])\n",
    "        \n",
    "        # NLTK classifier\n",
    "        features = word_feats(example[1])\n",
    "        nltk = classifier.classify(features)\n",
    "        \n",
    "        if naive != nltk:\n",
    "            delta = 'X '\n",
    "        else:\n",
    "            delta = '  '\n",
    "            \n",
    "        print('%i\\t%s\\t%s\\t%s%.160s' % (example[0], naive, nltk, delta, ' '.join(example[1])))"
   ]
  },
  {
   "cell_type": "markdown",
   "metadata": {},
   "source": [
    "<div style=\"background-color: #150458; padding: 5px;\"></div>\n",
    "\n",
    "## 4. <a id='verwendung'>Verwendung</a>"
   ]
  },
  {
   "cell_type": "markdown",
   "metadata": {},
   "source": [
    "Welche Stimmung gibt er für folgenden Satz aus?\n",
    "\n",
    "> Was für ein schlechtes Lernmodul"
   ]
  },
  {
   "cell_type": "code",
   "execution_count": 42,
   "metadata": {},
   "outputs": [
    {
     "data": {
      "text/plain": [
       "'negativ'"
      ]
     },
     "execution_count": 42,
     "metadata": {},
     "output_type": "execute_result"
    }
   ],
   "source": [
    "classifier.classify(word_feats(\"Was für ein schlechtes Lernmodul\".split()))"
   ]
  },
  {
   "cell_type": "markdown",
   "metadata": {},
   "source": [
    "Welche Stimmung gibt er für folgenden Satz aus?\n",
    "\n",
    "> Was für ein gutes Lernmodul"
   ]
  },
  {
   "cell_type": "code",
   "execution_count": 43,
   "metadata": {},
   "outputs": [
    {
     "data": {
      "text/plain": [
       "'positiv'"
      ]
     },
     "execution_count": 43,
     "metadata": {},
     "output_type": "execute_result"
    }
   ],
   "source": [
    "classifier.classify(word_feats(\"Was für ein gutes Lernmodul\".split()))"
   ]
  },
  {
   "cell_type": "code",
   "execution_count": 44,
   "metadata": {},
   "outputs": [
    {
     "name": "stdout",
     "output_type": "stream",
     "text": [
      "#\tNaiv\tNLTK\t∆ Beispiel\n",
      "0\tpositiv\tpositiv\t  Hahaha da haben Nazis aber Glück gehabt was für ein Glück Hust Welcher Mann bitteschön würde denn mit DER na Ihr wisst schon httpstcoaiauMU\n",
      "1\tpositiv\tpositiv\t  Ich wünsche allen guten Menschen ein gesundes glückliches Jahr Nur denen aus berzeugung afd wählen denen wünsch ich ein richtig Beschissenes Viele Grüße\n",
      "2\tpositiv\tpositiv\t  Wir wünschen euch einen guten Rutsch für neue Jahr nur Beste Lasst krachen feiert schön jurahannover conticampus leibnizuniversität unihannover hannover hannove\n",
      "3\tnegativ\tnegativ\t  Breitscheidplatz Weihnachtsmarkt Aus den Stereoboxen erklingt ein stimmungsschweres FUCK YOU I WONT DO WHAT YOU TELL ME Guten Rutsch\n",
      "4\tpositiv\tpositiv\t  Wir wünschen allen ein friedliches sorgenfreies Jahr a git Rosch httpstcojBKdgggOe\n",
      "5\tneutral\tpositiv\tX Die Satirepartei Die Partei will KlimaWissenschaftler auf den vorderen Listenplätzen bei Bundestagswahl platzieren Sonneborn httpstcojXPKgEgC\n",
      "6\tpositiv\tnegativ\tX Der UmweltsauStreit zeigt Viele wissen nicht was bei Drohungen aus dem Netz zu tun ist Dabei sind Nazis nicht so kreativ ihre Angriffe folgen bestimmten Mustern\n",
      "7\tnegativ\tnegativ\t  Nach all den Skandalen bei den ÖffentlichRechtlichen ist jetzt an Zeit etwas härtere Bandagen anzulegen Die vorläufige Einstellung Beitragszahlungen nämlich Wie\n",
      "8\tpositiv\tpositiv\t  Ich wünsche euch allen ein guten Rutsch ein erfolgreiches Jahr Jungs Mädels wird absolut Krank wird viel passieren ich freue mich jetzt schon drauf Bis dahin tr\n",
      "9\tpositiv\tpositiv\t  httpstcoeWNQANaY Am Ende eines ereignisreichem Jubiläumsjahres gemeinsam Erinnern u Vorschau auf ein hoffentlich gutes Jahr für unsere Vienna Bis bald u COME ON\n",
      "10\tpositiv\tpositiv\t  Ich habe mal alles dafür getan nächstes Jahr besser anfängt ich habe sogar Wäsche abgenommen damit sich bösen Geister Gedanken nicht darin verstecken können Läu\n",
      "11\tneutral\tpositiv\tX ab can u guys reply with this SUHO BEST LEADER SUHO BEST LEADER SUHO BEST LEADER SUHO BEST LEADER SUHO BEST LEADER SUHO BEST LEADER SUHO BEST LEADER SUHO BEST L\n",
      "12\tpositiv\tpositiv\t  dagilplbh ist ein Video von Blutorange den wir im stream geraidet haben Ich denke würde sich risieg darüber freuen wenn sieht dass du auf sein Dankeschön aufmer\n",
      "13\tpositiv\tpositiv\t  Ich wünsche Euch allen einen guten Rutsch ein tolles Feiert schön Ich fahr zu meiner Frau httpstcooKcOfhVfG\n",
      "14\tpositiv\tpositiv\t  ITAnalysten von SpiegelOnline haben herausgefunden dass ich am zur Instrumentalisierung von Umweltsau durch Rechte beitrug Nun Ich war zu diesem Zeitpunkt nachw\n",
      "15\tpositiv\tpositiv\t  Allen einen guten Rutsch Und für dies Liebe Freundschaft Gesundheit Muße Leichtigkeit Und Sinn für Ironie\n",
      "16\tnegativ\tpositiv\tX Dieses Jahrzehnt ging an Dummköpfe Mögen nächste Spinner gewinnen\n",
      "17\tnegativ\tpositiv\tX Auch ist ein Grund für Existenz vielen Staatssender Es täuscht internationale Relevanz unserer Politikerdarsteller vor Ohne Staatsfunk rot eingekreist hätte hie\n",
      "18\tpositiv\tpositiv\t  Wer macht mit Eigener Name ihr schreibt Wörter mich beschreiben passend zu den Buchstaben dahinter Komplimente quasi umsonst So am Jahresende Hab ich von meiner\n",
      "19\tpositiv\tpositiv\t  Meine Oma ist ne alte Umweltsau Um seine bröckelnde Macht zu sichern hetzte Mao in sogenannten Kulturrevolution Kinder auf Es starben Menschen Merkel hat ihren \n",
      "20\tneutral\tpositiv\tX Moinschön am letzten Dienstag des Jahres httpstcoXeWNYGKXc\n",
      "21\tneutral\tpositiv\tX Meine Füße können Nasen riechen\n",
      "22\tnegativ\tnegativ\t  Es ist unerträglich in einem Staat zu leben in dem man lebenslang für bloße Wohnen als einem Grundbedürfnis menschlichen Daseins solch unsoziale Abgabe an den R\n",
      "23\tneutral\tpositiv\tX welcome heute proudly presented by tsm mit beiniger beiniger Unterstützungan den Twittertasten tweetslesenstattböllern httpstcozBhoeHnvN\n",
      "24\tnegativ\tnegativ\t  Feuerwerk Böller sind doof Aber trotzdem kann man ja heute Abend klugscheißen Die Farben im Himmel hängen nämlich von den verwendeten Metallsalzen in den Rakete\n",
      "25\tneutral\tpositiv\tX SKYRIM Nach all den Jahren httpstcoavDsylP\n",
      "26\tnegativ\tnegativ\t  Fahrradfahrerin in Köln ko gehauen offenbar weil sich über falschen AutoProlos echauffierte Der Beifahrer hatte ein südländisches Aussehen einen DreitageBart ei\n",
      "27\tnegativ\tnegativ\t  Was für ein Jahr Ich erhebe mein Glas auf Euch zünde nen Feuer für euch alle anfür nicht mehr unter uns sind für alle mich mögenbleibt gesund Vor allen Dingen w\n",
      "28\tnegativ\tnegativ\t  Ich fasse ja nicht WDR legt vor mit Umweltsau als ein Sender angeblich einen Bildungsauftrag verfolgt ein Hollek legt nach u identifiziert eine ganze Generation\n",
      "29\tpositiv\tpositiv\t  Ich wünsche euch allen einen guten Rutsch einen schönen Start in ein neues Jahrzehnt Feiert schön lasst Korken knallen Gläser klirren\n",
      "30\tneutral\tpositiv\tX Vater Sohn sagen tschüss werden vom Drachen ins nächste Jahr getragen Du bist nicht du ohne laedlajuice made by bambergerdampferlaedla Buddies Coilfam vapingmik\n",
      "31\tneutral\tpositiv\tX Laut dem Opfer soll Auto ein mattgrauer breiter tiefer gelegter Kombi mit schwarz getönten Scheiben sein Der Beifahrer hatte ein südländisches Aussehen einen Dr\n",
      "32\tneutral\tpositiv\tX dampe LINKCHUN httpstcoqVgPzgtmS\n",
      "33\tnegativ\tpositiv\tX gruenekemmern wünschen ein glückliches neues Jahr Dem schließen wir uns gerne an Herzliche Grüße ins Bamberger Umland weilwirhierleben httpstcowDiwqLhIw\n",
      "34\tnegativ\tnegativ\t  SilvesterFeuerwerk zurückgerufen Große Gefahr bei drei WecoProdukten httpstcoOauEdLcS\n",
      "35\tpositiv\tpositiv\t  watchmeplaying Ihr kennt Regel Wer ficken will muss freundlich sein Alter Jahre Wohnort Raabs an Thaya Augenfarbe brown Haarfarbe black Haarlänge long Größe cm \n",
      "36\tnegativ\tnegativ\t  Mich kann man nicht einschüchtern Morddrohung gegen FDPGeneralsekretärin Skudelny httpstcoaFyNwckq\n",
      "37\tpositiv\tpositiv\t  Warum bedankt sich kein Politiker je bei den Millionen Leistungsträgern im Land ganze Party finanzieren httpstcoFjvnhODk\n",
      "38\tpositiv\tpositiv\t  Ich wünsche euch n guten Rutsch in ein Jahr voll Gesundheit\n",
      "39\tpositiv\tpositiv\t  Heute ist letzte Tag des Jahres Wir wünschen Euch ein frohes neues Jahr freuen uns auf vielen spannenden Themen wir nächstes Jahr für Euch im Bundestag bearbeit\n",
      "40\tpositiv\tpositiv\t  Nächstes Jahr Silvester hoffentlich wieder mit Freunden in Holland\n",
      "41\tnegativ\tpositiv\tX Mir wurde schon im Alter von Jahren Tod gewünscht weil ich si eib Stücj Scheiße bin was habt ihr vorzyweisen\n",
      "42\tneutral\tpositiv\tX GENTE O JAEBEOOOOOMMMMM KKKKKKKKKKKKKKKKKKKKKKKK GOTOfficial GOTMBCgayo GOT ThankYouGOT AYearWithGOT httpstcoljTsvhWLh\n",
      "43\tneutral\tpositiv\tX Wieder ein Falschparker in Hamburg in Hagenbeckstraße WegDa Ihm doch egal ob Feuerwehr an den Hydranten kommt nicht httpstcokFprCBFL\n",
      "44\tneutral\tpositiv\tX Standort Herbrechtingen a d Brenz Temperatur Luftfeuchtigkeit Luftdruck hPa Entwicklung JensOstertag\n",
      "45\tneutral\tpositiv\tX Der Beifahrer hatte ein südländisches Aussehen einen DreitageBart eine BodybuilderFigur Hinweise an Polizei unter Köln Ich wurde beim Fahrradfahren KO geschlage\n",
      "46\tpositiv\tpositiv\t  In Korea böllert übrigens keiner wir haben alle überlebt Ist sogar um einiges angenehmer Aber wir wissen ja mittlerweile alle dass Asiaten Rücksichtnahme auf an\n",
      "47\tpositiv\tpositiv\t  Hab Wahlfamilie per Message gesagt dass ich nur noch Dyn genannt werden möchte bevor hier war Nun wurde sich direkt am Anfang entschuldigt korrigiert dass nicht\n",
      "48\tpositiv\tpositiv\t  Guten Rutsch einen schwungvollen Start in Und an dieser Stelle auch ein herzliches Dankeschön für Kommentare vielen Anregungen Ideen Frohes neues httpstcosSLEsD\n",
      "49\tnegativ\tnegativ\t  Das Ende von You ist ja mal größte Scheiße ich je gesehen habe\n"
     ]
    }
   ],
   "source": [
    "compare_classifier(tweets, examples=50)"
   ]
  },
  {
   "cell_type": "markdown",
   "metadata": {},
   "source": [
    "<div style=\"background-color: #150458; padding: 5px;\"></div>\n",
    "\n",
    "## 5. <a id='abschluss'>Abschluss</a>"
   ]
  }
 ],
 "metadata": {
  "kernelspec": {
   "display_name": "Python 3",
   "language": "python",
   "name": "python3"
  },
  "language_info": {
   "codemirror_mode": {
    "name": "ipython",
    "version": 3
   },
   "file_extension": ".py",
   "mimetype": "text/x-python",
   "name": "python",
   "nbconvert_exporter": "python",
   "pygments_lexer": "ipython3",
   "version": "3.7.0"
  }
 },
 "nbformat": 4,
 "nbformat_minor": 4
}
