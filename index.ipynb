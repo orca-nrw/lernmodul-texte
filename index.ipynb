{
 "cells": [
  {
   "cell_type": "markdown",
   "metadata": {},
   "source": [
    "# Lernmodul Texte"
   ]
  },
  {
   "cell_type": "markdown",
   "metadata": {},
   "source": [
    "<div style=\"background-color:red;display:inline;font-size:1.25rem;padding:20px;\">Stand 10.12.20</div>"
   ]
  },
  {
   "cell_type": "markdown",
   "metadata": {},
   "source": [
    "1. [Einführung](#einführung)\n",
    "    1. [Motivation](#motivation)\n",
    "    2. [Voraussetzungen](#voraussetzungen)\n",
    "2. [Daten](#daten)\n",
    "    1. [Textdaten beschaffen](#beschaffen)\n",
    "    2. [Textdaten erkunden](#erkunden)\n",
    "    3. [Textdaten aufbereiten](#aufbereiten)\n",
    "3. [Modell](#modell)\n",
    "4. [Verwendung](#verwendung)\n",
    "5. [Abschluss](#abschluss)"
   ]
  },
  {
   "cell_type": "markdown",
   "metadata": {},
   "source": [
    "## 1. <a id='einführung'>Einführung</a>"
   ]
  },
  {
   "cell_type": "markdown",
   "metadata": {},
   "source": [
    "### 1.1 <a id='motivation'>Motivation</a>"
   ]
  },
  {
   "cell_type": "markdown",
   "metadata": {},
   "source": [
    "Die Verarbeitung menschlicher Sprache (Natural Language Processing, NLP) ist ein prominentes Forschungsfeld der Informatik mit ähnlichem Bekanntheitsgrad wie die Analyse visueller Daten (Computer Vision), welche bspw. das Erkennen von Bildern (Image Recognition) sowie ihre Manipulation (Image Augmentation) betrachtet. Im ersten Fall wollen wir einen bekannten bzw. alten Bildinhalt klassifizieren, während der zweite Fall einen unbekannten bzw. neuen Bildinhalt erzeugt."
   ]
  },
  {
   "cell_type": "markdown",
   "metadata": {},
   "source": [
    "Wechseln wir von der Bild- auf die Textebene, lässt sich das Forschungsfeld des _NLP_ auf ähnliche Problemstellungen herunterbrechen, die in der folgenden Auflistung aufgeführt sind:\n",
    "\n",
    "* Texterkennung (Text Recognition)\n",
    "  * Spracherkennung (Speech Recognition)\n",
    "  * Stimmungsanalyse (Sentiment Analyses)\n",
    "* Textmanipulation (Text Augmentation)\n",
    "  * Maschinelle Übersetzung (Machine Translation)\n",
    "  * Automatisches Antworten (Question Answering)"
   ]
  },
  {
   "cell_type": "markdown",
   "metadata": {},
   "source": [
    "Ihr könnt euch bestimmt vorstellen, dass die Erzeugung von gänzlich Neuem aufwendiger ist, als das Entscheiden über vorliegende Inhalte und so beschäftigt sich dieses Lernmodul mit der Texterkennung, im besonderen mit der Unterscheidung zwischen verschiedenen Stimmungen, welche der Verfasser eines Textes gehabt haben könnte. Ein aktuelles Anwendungsbeispiel ist die Identifikation von Hassreden, wie sie bspw. von [Facebook](https://www.facebook.com/) im Zuge ihrer [Community Standards](https://www.facebook.com/communitystandards/hate_speech) verboten sind und erkannt werden müssen."
   ]
  },
  {
   "cell_type": "markdown",
   "metadata": {},
   "source": [
    "### 1.2 <a id='voraussetzungen'>Voraussetzungen</a>"
   ]
  },
  {
   "cell_type": "code",
   "execution_count": 1,
   "metadata": {},
   "outputs": [],
   "source": [
    "import numpy as np\n",
    "import pandas as pd\n",
    "import matplotlib.pyplot as plt"
   ]
  },
  {
   "cell_type": "markdown",
   "metadata": {},
   "source": [
    "## 2. <a id='daten'>Daten</a>"
   ]
  },
  {
   "cell_type": "markdown",
   "metadata": {},
   "source": [
    "Daten -> Modell -> Verwendung\n",
    "\n",
    "Eingabe -> Modell -> Ausgabe\n",
    "\n",
    "Merkmale -> Modell -> Vorhersage"
   ]
  },
  {
   "cell_type": "markdown",
   "metadata": {},
   "source": [
    "Datensatz - Eine Sammlung von Beispielen\n",
    "\n",
    "Beispiel - Eine Sammlung von Merkmalen\n",
    "\n",
    "Merkmal - Ein numerischer oder symbolischer Wert\n"
   ]
  },
  {
   "cell_type": "markdown",
   "metadata": {},
   "source": [
    "### 2.1 <a id='beschaffen'>Textdaten beschaffen</a>"
   ]
  },
  {
   "cell_type": "code",
   "execution_count": 2,
   "metadata": {},
   "outputs": [],
   "source": [
    "twitter = pd.read_csv('./tweets_biden_small.csv', lineterminator='\\n', parse_dates=True)"
   ]
  },
  {
   "cell_type": "markdown",
   "metadata": {},
   "source": [
    "### 2.2 <a id='erkunden'>Textdaten erkunden</a>"
   ]
  },
  {
   "cell_type": "code",
   "execution_count": 3,
   "metadata": {},
   "outputs": [
    {
     "name": "stdout",
     "output_type": "stream",
     "text": [
      "Wie sieht der Datensatz aus?\n"
     ]
    },
    {
     "data": {
      "text/html": [
       "<div>\n",
       "<style scoped>\n",
       "    .dataframe tbody tr th:only-of-type {\n",
       "        vertical-align: middle;\n",
       "    }\n",
       "\n",
       "    .dataframe tbody tr th {\n",
       "        vertical-align: top;\n",
       "    }\n",
       "\n",
       "    .dataframe thead th {\n",
       "        text-align: right;\n",
       "    }\n",
       "</style>\n",
       "<table border=\"1\" class=\"dataframe\">\n",
       "  <thead>\n",
       "    <tr style=\"text-align: right;\">\n",
       "      <th></th>\n",
       "      <th>created_at</th>\n",
       "      <th>tweet_id</th>\n",
       "      <th>tweet</th>\n",
       "      <th>likes</th>\n",
       "      <th>retweet_count</th>\n",
       "      <th>source</th>\n",
       "      <th>user_id</th>\n",
       "      <th>user_name</th>\n",
       "      <th>user_screen_name</th>\n",
       "      <th>user_description</th>\n",
       "      <th>...</th>\n",
       "      <th>user_followers_count</th>\n",
       "      <th>user_location</th>\n",
       "      <th>lat</th>\n",
       "      <th>long</th>\n",
       "      <th>city</th>\n",
       "      <th>country</th>\n",
       "      <th>continent</th>\n",
       "      <th>state</th>\n",
       "      <th>state_code</th>\n",
       "      <th>collected_at\\r</th>\n",
       "    </tr>\n",
       "  </thead>\n",
       "  <tbody>\n",
       "    <tr>\n",
       "      <th>0</th>\n",
       "      <td>2020-10-15 00:00:01</td>\n",
       "      <td>1.316529e+18</td>\n",
       "      <td>#Elecciones2020 | En #Florida: #JoeBiden dice ...</td>\n",
       "      <td>0.0</td>\n",
       "      <td>0.0</td>\n",
       "      <td>TweetDeck</td>\n",
       "      <td>3.606665e+08</td>\n",
       "      <td>El Sol Latino News</td>\n",
       "      <td>elsollatinonews</td>\n",
       "      <td>🌐 Noticias de interés para latinos de la costa...</td>\n",
       "      <td>...</td>\n",
       "      <td>1860.0</td>\n",
       "      <td>Philadelphia, PA / Miami, FL</td>\n",
       "      <td>25.774270</td>\n",
       "      <td>-80.193660</td>\n",
       "      <td>NaN</td>\n",
       "      <td>United States of America</td>\n",
       "      <td>North America</td>\n",
       "      <td>Florida</td>\n",
       "      <td>FL</td>\n",
       "      <td>2020-10-21 00:00:00\\r</td>\n",
       "    </tr>\n",
       "    <tr>\n",
       "      <th>1</th>\n",
       "      <td>2020-10-15 00:00:18</td>\n",
       "      <td>1.316529e+18</td>\n",
       "      <td>#HunterBiden #HunterBidenEmails #JoeBiden #Joe...</td>\n",
       "      <td>0.0</td>\n",
       "      <td>0.0</td>\n",
       "      <td>Twitter for iPad</td>\n",
       "      <td>8.099044e+08</td>\n",
       "      <td>Cheri A. 🇺🇸</td>\n",
       "      <td>Biloximeemaw</td>\n",
       "      <td>Locked and loaded Meemaw. Love God, my family ...</td>\n",
       "      <td>...</td>\n",
       "      <td>6628.0</td>\n",
       "      <td>NaN</td>\n",
       "      <td>NaN</td>\n",
       "      <td>NaN</td>\n",
       "      <td>NaN</td>\n",
       "      <td>NaN</td>\n",
       "      <td>NaN</td>\n",
       "      <td>NaN</td>\n",
       "      <td>NaN</td>\n",
       "      <td>2020-10-21 00:00:00.517827283\\r</td>\n",
       "    </tr>\n",
       "    <tr>\n",
       "      <th>2</th>\n",
       "      <td>2020-10-15 00:00:20</td>\n",
       "      <td>1.316529e+18</td>\n",
       "      <td>@IslandGirlPRV @BradBeauregardJ @MeidasTouch T...</td>\n",
       "      <td>0.0</td>\n",
       "      <td>0.0</td>\n",
       "      <td>Twitter Web App</td>\n",
       "      <td>3.494182e+09</td>\n",
       "      <td>Flag Waver</td>\n",
       "      <td>Flag_Wavers</td>\n",
       "      <td>NaN</td>\n",
       "      <td>...</td>\n",
       "      <td>1536.0</td>\n",
       "      <td>Golden Valley Arizona</td>\n",
       "      <td>46.304036</td>\n",
       "      <td>-109.171431</td>\n",
       "      <td>NaN</td>\n",
       "      <td>United States of America</td>\n",
       "      <td>North America</td>\n",
       "      <td>Montana</td>\n",
       "      <td>MT</td>\n",
       "      <td>2020-10-21 00:00:01.035654566\\r</td>\n",
       "    </tr>\n",
       "    <tr>\n",
       "      <th>3</th>\n",
       "      <td>2020-10-15 00:00:21</td>\n",
       "      <td>1.316529e+18</td>\n",
       "      <td>@chrislongview Watching and setting dvr. Let’s...</td>\n",
       "      <td>0.0</td>\n",
       "      <td>0.0</td>\n",
       "      <td>Twitter for iPhone</td>\n",
       "      <td>8.242596e+17</td>\n",
       "      <td>Michelle Ferg</td>\n",
       "      <td>MichelleFerg4</td>\n",
       "      <td>NaN</td>\n",
       "      <td>...</td>\n",
       "      <td>27.0</td>\n",
       "      <td>NaN</td>\n",
       "      <td>NaN</td>\n",
       "      <td>NaN</td>\n",
       "      <td>NaN</td>\n",
       "      <td>NaN</td>\n",
       "      <td>NaN</td>\n",
       "      <td>NaN</td>\n",
       "      <td>NaN</td>\n",
       "      <td>2020-10-21 00:00:01.553481849\\r</td>\n",
       "    </tr>\n",
       "    <tr>\n",
       "      <th>4</th>\n",
       "      <td>2020-10-15 00:00:22</td>\n",
       "      <td>1.316529e+18</td>\n",
       "      <td>#censorship #HunterBiden #Biden #BidenEmails #...</td>\n",
       "      <td>1.0</td>\n",
       "      <td>0.0</td>\n",
       "      <td>Twitter Web App</td>\n",
       "      <td>1.032807e+18</td>\n",
       "      <td>the Gold State</td>\n",
       "      <td>theegoldstate</td>\n",
       "      <td>A Silicon Valley #independent #News #Media #St...</td>\n",
       "      <td>...</td>\n",
       "      <td>390.0</td>\n",
       "      <td>California, USA</td>\n",
       "      <td>36.701463</td>\n",
       "      <td>-118.755997</td>\n",
       "      <td>NaN</td>\n",
       "      <td>United States of America</td>\n",
       "      <td>North America</td>\n",
       "      <td>California</td>\n",
       "      <td>CA</td>\n",
       "      <td>2020-10-21 00:00:02.071309132\\r</td>\n",
       "    </tr>\n",
       "  </tbody>\n",
       "</table>\n",
       "<p>5 rows × 21 columns</p>\n",
       "</div>"
      ],
      "text/plain": [
       "            created_at      tweet_id  \\\n",
       "0  2020-10-15 00:00:01  1.316529e+18   \n",
       "1  2020-10-15 00:00:18  1.316529e+18   \n",
       "2  2020-10-15 00:00:20  1.316529e+18   \n",
       "3  2020-10-15 00:00:21  1.316529e+18   \n",
       "4  2020-10-15 00:00:22  1.316529e+18   \n",
       "\n",
       "                                               tweet  likes  retweet_count  \\\n",
       "0  #Elecciones2020 | En #Florida: #JoeBiden dice ...    0.0            0.0   \n",
       "1  #HunterBiden #HunterBidenEmails #JoeBiden #Joe...    0.0            0.0   \n",
       "2  @IslandGirlPRV @BradBeauregardJ @MeidasTouch T...    0.0            0.0   \n",
       "3  @chrislongview Watching and setting dvr. Let’s...    0.0            0.0   \n",
       "4  #censorship #HunterBiden #Biden #BidenEmails #...    1.0            0.0   \n",
       "\n",
       "               source       user_id           user_name user_screen_name  \\\n",
       "0           TweetDeck  3.606665e+08  El Sol Latino News  elsollatinonews   \n",
       "1    Twitter for iPad  8.099044e+08         Cheri A. 🇺🇸     Biloximeemaw   \n",
       "2     Twitter Web App  3.494182e+09          Flag Waver      Flag_Wavers   \n",
       "3  Twitter for iPhone  8.242596e+17       Michelle Ferg    MichelleFerg4   \n",
       "4     Twitter Web App  1.032807e+18      the Gold State    theegoldstate   \n",
       "\n",
       "                                    user_description  ...  \\\n",
       "0  🌐 Noticias de interés para latinos de la costa...  ...   \n",
       "1  Locked and loaded Meemaw. Love God, my family ...  ...   \n",
       "2                                                NaN  ...   \n",
       "3                                                NaN  ...   \n",
       "4  A Silicon Valley #independent #News #Media #St...  ...   \n",
       "\n",
       "  user_followers_count                 user_location        lat        long  \\\n",
       "0               1860.0  Philadelphia, PA / Miami, FL  25.774270  -80.193660   \n",
       "1               6628.0                           NaN        NaN         NaN   \n",
       "2               1536.0         Golden Valley Arizona  46.304036 -109.171431   \n",
       "3                 27.0                           NaN        NaN         NaN   \n",
       "4                390.0               California, USA  36.701463 -118.755997   \n",
       "\n",
       "   city                   country      continent       state state_code  \\\n",
       "0   NaN  United States of America  North America     Florida         FL   \n",
       "1   NaN                       NaN            NaN         NaN        NaN   \n",
       "2   NaN  United States of America  North America     Montana         MT   \n",
       "3   NaN                       NaN            NaN         NaN        NaN   \n",
       "4   NaN  United States of America  North America  California         CA   \n",
       "\n",
       "                    collected_at\\r  \n",
       "0            2020-10-21 00:00:00\\r  \n",
       "1  2020-10-21 00:00:00.517827283\\r  \n",
       "2  2020-10-21 00:00:01.035654566\\r  \n",
       "3  2020-10-21 00:00:01.553481849\\r  \n",
       "4  2020-10-21 00:00:02.071309132\\r  \n",
       "\n",
       "[5 rows x 21 columns]"
      ]
     },
     "execution_count": 3,
     "metadata": {},
     "output_type": "execute_result"
    }
   ],
   "source": [
    "print(\"Wie sieht der Datensatz aus?\")\n",
    "twitter.head()"
   ]
  },
  {
   "cell_type": "code",
   "execution_count": 4,
   "metadata": {},
   "outputs": [
    {
     "name": "stdout",
     "output_type": "stream",
     "text": [
      "Ganz schön viele Spalten. Wie hoch wird wohl der Speicheraufwand in Bytes sein?\n"
     ]
    },
    {
     "data": {
      "text/plain": [
       "Index                   128\n",
       "created_at              800\n",
       "tweet_id                800\n",
       "tweet                   800\n",
       "likes                   800\n",
       "retweet_count           800\n",
       "source                  800\n",
       "user_id                 800\n",
       "user_name               800\n",
       "user_screen_name        800\n",
       "user_description        800\n",
       "user_join_date          800\n",
       "user_followers_count    800\n",
       "user_location           800\n",
       "lat                     800\n",
       "long                    800\n",
       "city                    800\n",
       "country                 800\n",
       "continent               800\n",
       "state                   800\n",
       "state_code              800\n",
       "collected_at\\r          800\n",
       "dtype: int64"
      ]
     },
     "execution_count": 4,
     "metadata": {},
     "output_type": "execute_result"
    }
   ],
   "source": [
    "print(\"Ganz schön viele Spalten. Wie hoch wird wohl der Speicheraufwand in Bytes sein?\")\n",
    "twitter.memory_usage()"
   ]
  },
  {
   "cell_type": "code",
   "execution_count": 5,
   "metadata": {},
   "outputs": [
    {
     "name": "stdout",
     "output_type": "stream",
     "text": [
      "Wie viele Werte liegen insgesamt vor?\n"
     ]
    },
    {
     "data": {
      "text/plain": [
       "2100"
      ]
     },
     "execution_count": 5,
     "metadata": {},
     "output_type": "execute_result"
    }
   ],
   "source": [
    "print(\"Wie viele Werte liegen insgesamt vor?\")\n",
    "twitter.size"
   ]
  },
  {
   "cell_type": "code",
   "execution_count": 6,
   "metadata": {},
   "outputs": [
    {
     "name": "stdout",
     "output_type": "stream",
     "text": [
      "Wie viele Beispiele liegen insgesamt vor?\n"
     ]
    },
    {
     "data": {
      "text/plain": [
       "100"
      ]
     },
     "execution_count": 6,
     "metadata": {},
     "output_type": "execute_result"
    }
   ],
   "source": [
    "print(\"Wie viele Beispiele liegen insgesamt vor?\")\n",
    "twitter.shape[0]"
   ]
  },
  {
   "cell_type": "code",
   "execution_count": 7,
   "metadata": {},
   "outputs": [
    {
     "name": "stdout",
     "output_type": "stream",
     "text": [
      "Wie viele Werte liegen pro Beispiel vor?\n"
     ]
    },
    {
     "data": {
      "text/plain": [
       "21"
      ]
     },
     "execution_count": 7,
     "metadata": {},
     "output_type": "execute_result"
    }
   ],
   "source": [
    "print(\"Wie viele Werte liegen pro Beispiel vor?\")\n",
    "twitter.shape[1]"
   ]
  },
  {
   "cell_type": "code",
   "execution_count": 8,
   "metadata": {},
   "outputs": [
    {
     "name": "stdout",
     "output_type": "stream",
     "text": [
      "Welche Merkmale bzw. Wertetypen liegen vor?\n"
     ]
    },
    {
     "data": {
      "text/plain": [
       "created_at               object\n",
       "tweet_id                float64\n",
       "tweet                    object\n",
       "likes                   float64\n",
       "retweet_count           float64\n",
       "source                   object\n",
       "user_id                 float64\n",
       "user_name                object\n",
       "user_screen_name         object\n",
       "user_description         object\n",
       "user_join_date           object\n",
       "user_followers_count    float64\n",
       "user_location            object\n",
       "lat                     float64\n",
       "long                    float64\n",
       "city                     object\n",
       "country                  object\n",
       "continent                object\n",
       "state                    object\n",
       "state_code               object\n",
       "collected_at\\r           object\n",
       "dtype: object"
      ]
     },
     "execution_count": 8,
     "metadata": {},
     "output_type": "execute_result"
    }
   ],
   "source": [
    "print(\"Welche Merkmale bzw. Wertetypen liegen vor?\")\n",
    "twitter.dtypes"
   ]
  },
  {
   "cell_type": "code",
   "execution_count": 9,
   "metadata": {},
   "outputs": [
    {
     "name": "stdout",
     "output_type": "stream",
     "text": [
      "Wie sehen die numerischen Wertebereiche aus?\n"
     ]
    },
    {
     "data": {
      "text/html": [
       "<div>\n",
       "<style scoped>\n",
       "    .dataframe tbody tr th:only-of-type {\n",
       "        vertical-align: middle;\n",
       "    }\n",
       "\n",
       "    .dataframe tbody tr th {\n",
       "        vertical-align: top;\n",
       "    }\n",
       "\n",
       "    .dataframe thead th {\n",
       "        text-align: right;\n",
       "    }\n",
       "</style>\n",
       "<table border=\"1\" class=\"dataframe\">\n",
       "  <thead>\n",
       "    <tr style=\"text-align: right;\">\n",
       "      <th></th>\n",
       "      <th>tweet_id</th>\n",
       "      <th>likes</th>\n",
       "      <th>retweet_count</th>\n",
       "      <th>user_id</th>\n",
       "      <th>user_followers_count</th>\n",
       "      <th>lat</th>\n",
       "      <th>long</th>\n",
       "    </tr>\n",
       "  </thead>\n",
       "  <tbody>\n",
       "    <tr>\n",
       "      <th>count</th>\n",
       "      <td>1.000000e+02</td>\n",
       "      <td>100.000000</td>\n",
       "      <td>100.000000</td>\n",
       "      <td>1.000000e+02</td>\n",
       "      <td>100.000000</td>\n",
       "      <td>42.000000</td>\n",
       "      <td>42.000000</td>\n",
       "    </tr>\n",
       "    <tr>\n",
       "      <th>mean</th>\n",
       "      <td>1.316530e+18</td>\n",
       "      <td>16.790000</td>\n",
       "      <td>9.500000</td>\n",
       "      <td>4.611454e+17</td>\n",
       "      <td>1360.510000</td>\n",
       "      <td>39.082246</td>\n",
       "      <td>-69.904194</td>\n",
       "    </tr>\n",
       "    <tr>\n",
       "      <th>std</th>\n",
       "      <td>4.618202e+11</td>\n",
       "      <td>102.546692</td>\n",
       "      <td>64.690639</td>\n",
       "      <td>5.771159e+17</td>\n",
       "      <td>2589.434186</td>\n",
       "      <td>8.347839</td>\n",
       "      <td>50.641055</td>\n",
       "    </tr>\n",
       "    <tr>\n",
       "      <th>min</th>\n",
       "      <td>1.316529e+18</td>\n",
       "      <td>0.000000</td>\n",
       "      <td>0.000000</td>\n",
       "      <td>1.123392e+07</td>\n",
       "      <td>1.000000</td>\n",
       "      <td>22.279328</td>\n",
       "      <td>-122.330062</td>\n",
       "    </tr>\n",
       "    <tr>\n",
       "      <th>25%</th>\n",
       "      <td>1.316530e+18</td>\n",
       "      <td>0.000000</td>\n",
       "      <td>0.000000</td>\n",
       "      <td>2.714127e+08</td>\n",
       "      <td>42.000000</td>\n",
       "      <td>33.825247</td>\n",
       "      <td>-100.445882</td>\n",
       "    </tr>\n",
       "    <tr>\n",
       "      <th>50%</th>\n",
       "      <td>1.316530e+18</td>\n",
       "      <td>0.000000</td>\n",
       "      <td>0.000000</td>\n",
       "      <td>2.932144e+09</td>\n",
       "      <td>392.000000</td>\n",
       "      <td>39.783730</td>\n",
       "      <td>-83.539162</td>\n",
       "    </tr>\n",
       "    <tr>\n",
       "      <th>75%</th>\n",
       "      <td>1.316530e+18</td>\n",
       "      <td>1.000000</td>\n",
       "      <td>1.000000</td>\n",
       "      <td>1.167090e+18</td>\n",
       "      <td>1535.250000</td>\n",
       "      <td>42.443959</td>\n",
       "      <td>-74.006015</td>\n",
       "    </tr>\n",
       "    <tr>\n",
       "      <th>max</th>\n",
       "      <td>1.316531e+18</td>\n",
       "      <td>941.000000</td>\n",
       "      <td>608.000000</td>\n",
       "      <td>1.310330e+18</td>\n",
       "      <td>20614.000000</td>\n",
       "      <td>56.786111</td>\n",
       "      <td>114.162813</td>\n",
       "    </tr>\n",
       "  </tbody>\n",
       "</table>\n",
       "</div>"
      ],
      "text/plain": [
       "           tweet_id       likes  retweet_count       user_id  \\\n",
       "count  1.000000e+02  100.000000     100.000000  1.000000e+02   \n",
       "mean   1.316530e+18   16.790000       9.500000  4.611454e+17   \n",
       "std    4.618202e+11  102.546692      64.690639  5.771159e+17   \n",
       "min    1.316529e+18    0.000000       0.000000  1.123392e+07   \n",
       "25%    1.316530e+18    0.000000       0.000000  2.714127e+08   \n",
       "50%    1.316530e+18    0.000000       0.000000  2.932144e+09   \n",
       "75%    1.316530e+18    1.000000       1.000000  1.167090e+18   \n",
       "max    1.316531e+18  941.000000     608.000000  1.310330e+18   \n",
       "\n",
       "       user_followers_count        lat        long  \n",
       "count            100.000000  42.000000   42.000000  \n",
       "mean            1360.510000  39.082246  -69.904194  \n",
       "std             2589.434186   8.347839   50.641055  \n",
       "min                1.000000  22.279328 -122.330062  \n",
       "25%               42.000000  33.825247 -100.445882  \n",
       "50%              392.000000  39.783730  -83.539162  \n",
       "75%             1535.250000  42.443959  -74.006015  \n",
       "max            20614.000000  56.786111  114.162813  "
      ]
     },
     "execution_count": 9,
     "metadata": {},
     "output_type": "execute_result"
    }
   ],
   "source": [
    "print(\"Wie sehen die numerischen Wertebereiche aus?\")\n",
    "twitter.describe()"
   ]
  },
  {
   "cell_type": "code",
   "execution_count": 10,
   "metadata": {},
   "outputs": [
    {
     "name": "stdout",
     "output_type": "stream",
     "text": [
      "Wie sehen die ersten Tweets aus?\n"
     ]
    },
    {
     "data": {
      "text/plain": [
       "0    #Elecciones2020 | En #Florida: #JoeBiden dice ...\n",
       "1    #HunterBiden #HunterBidenEmails #JoeBiden #Joe...\n",
       "2    @IslandGirlPRV @BradBeauregardJ @MeidasTouch T...\n",
       "3    @chrislongview Watching and setting dvr. Let’s...\n",
       "4    #censorship #HunterBiden #Biden #BidenEmails #...\n",
       "Name: tweet, dtype: object"
      ]
     },
     "execution_count": 10,
     "metadata": {},
     "output_type": "execute_result"
    }
   ],
   "source": [
    "print(\"Wie sehen die ersten Tweets aus?\")\n",
    "tweets = twitter['tweet']\n",
    "tweets.head()"
   ]
  },
  {
   "cell_type": "markdown",
   "metadata": {},
   "source": [
    "### 2.3 <a id='aufbereiten'>Textdaten aufbereiten</a>"
   ]
  },
  {
   "cell_type": "code",
   "execution_count": 11,
   "metadata": {},
   "outputs": [
    {
     "name": "stdout",
     "output_type": "stream",
     "text": [
      "Als Nächstes werden wir alle Symbole entfernen, die weder dem Alphabet angehören, noch Ziffern sind...\n"
     ]
    },
    {
     "data": {
      "text/plain": [
       "0    Elecciones2020  En Florida JoeBiden dice que D...\n",
       "1    HunterBiden HunterBidenEmails JoeBiden JoeBide...\n",
       "2    IslandGirlPRV BradBeauregardJ MeidasTouch This...\n",
       "3    chrislongview Watching and setting dvr Lets gi...\n",
       "4    censorship HunterBiden Biden BidenEmails Biden...\n",
       "Name: tweet, dtype: object"
      ]
     },
     "execution_count": 11,
     "metadata": {},
     "output_type": "execute_result"
    }
   ],
   "source": [
    "print(\"Als Nächstes werden wir alle Symbole entfernen, die weder dem Alphabet angehören, noch Ziffern sind...\")\n",
    "tweets_cleaned = tweets.replace(regex={'[^a-zA-Z0-9\\s]' : ''})\n",
    "tweets_cleaned.head()"
   ]
  },
  {
   "cell_type": "code",
   "execution_count": 12,
   "metadata": {},
   "outputs": [
    {
     "name": "stdout",
     "output_type": "stream",
     "text": [
      "Aus Sätzen werden Wörter. Wir zerteilen die Sequenzen anhand des Leerzeichens:\n"
     ]
    },
    {
     "data": {
      "text/plain": [
       "0    [Elecciones2020, En, Florida, JoeBiden, dice, ...\n",
       "1    [HunterBiden, HunterBidenEmails, JoeBiden, Joe...\n",
       "2    [IslandGirlPRV, BradBeauregardJ, MeidasTouch, ...\n",
       "3    [chrislongview, Watching, and, setting, dvr, L...\n",
       "4    [censorship, HunterBiden, Biden, BidenEmails, ...\n",
       "Name: tweet, dtype: object"
      ]
     },
     "execution_count": 12,
     "metadata": {},
     "output_type": "execute_result"
    }
   ],
   "source": [
    "print(\"Aus Sätzen werden Wörter. Wir zerteilen die Sequenzen anhand des Leerzeichens:\")\n",
    "tweets_tokenized = tweets_cleaned.str.split()\n",
    "tweets_tokenized.head()"
   ]
  },
  {
   "cell_type": "code",
   "execution_count": 13,
   "metadata": {},
   "outputs": [
    {
     "name": "stdout",
     "output_type": "stream",
     "text": [
      "Wie viele Wörter sind im längsten Tweet enthalten?\n"
     ]
    },
    {
     "data": {
      "text/plain": [
       "50"
      ]
     },
     "execution_count": 13,
     "metadata": {},
     "output_type": "execute_result"
    }
   ],
   "source": [
    "tweets_length = [len(tweet) for tweet in tweets_tokenized]\n",
    "print(\"Wie viele Wörter sind im längsten Tweet enthalten?\")\n",
    "np.max(tweets_length)"
   ]
  },
  {
   "cell_type": "code",
   "execution_count": 14,
   "metadata": {},
   "outputs": [],
   "source": [
    "def plot_tweet_length_distribution(tweets_length):\n",
    "    \"\"\"Count tokens per tweet and plot their length distribution.\"\"\"\n",
    "\n",
    "    plt.hist(tweets_length, np.max(tweets_length))\n",
    "    plt.xlabel('Words per tweet')\n",
    "    plt.ylabel('Amount of tweets')\n",
    "    plt.title('Tweet length distribution')\n",
    "    plt.show()"
   ]
  },
  {
   "cell_type": "code",
   "execution_count": 15,
   "metadata": {},
   "outputs": [
    {
     "name": "stdout",
     "output_type": "stream",
     "text": [
      "Wie viele Tweets haben eine bestimmte Länge?\n"
     ]
    },
    {
     "data": {
      "image/png": "[encoded data removed]",
      "text/plain": [
       "<Figure size 432x288 with 1 Axes>"
      ]
     },
     "metadata": {
      "needs_background": "light"
     },
     "output_type": "display_data"
    }
   ],
   "source": [
    "print(\"Wie viele Tweets haben eine bestimmte Länge?\")\n",
    "plot_tweet_length_distribution(tweets_length)"
   ]
  },
  {
   "cell_type": "markdown",
   "metadata": {},
   "source": [
    "FreqDist <a href=\"http://www.nltk.org/api/nltk.html?highlight=freqdist#nltk.probability.FreqDist\">📄</a>"
   ]
  },
  {
   "cell_type": "code",
   "execution_count": 16,
   "metadata": {},
   "outputs": [],
   "source": [
    "from nltk.probability import FreqDist\n",
    "fd = FreqDist(tweets_tokenized.aggregate(np.concatenate))"
   ]
  },
  {
   "cell_type": "code",
   "execution_count": 17,
   "metadata": {},
   "outputs": [
    {
     "name": "stdout",
     "output_type": "stream",
     "text": [
      "Wie lauten die zehn häufigsten Wörter?\n"
     ]
    },
    {
     "data": {
      "text/plain": [
       "[('the', 73),\n",
       " ('Biden', 67),\n",
       " ('JoeBiden', 60),\n",
       " ('to', 45),\n",
       " ('is', 36),\n",
       " ('and', 35),\n",
       " ('a', 30),\n",
       " ('of', 26),\n",
       " ('HunterBiden', 24),\n",
       " ('on', 21)]"
      ]
     },
     "execution_count": 17,
     "metadata": {},
     "output_type": "execute_result"
    }
   ],
   "source": [
    "print(\"Wie lauten die zehn häufigsten Wörter?\")\n",
    "fd.most_common(10)"
   ]
  },
  {
   "cell_type": "code",
   "execution_count": 18,
   "metadata": {},
   "outputs": [
    {
     "name": "stdout",
     "output_type": "stream",
     "text": [
      "Wie sieht das Histogramm dazu aus?\n"
     ]
    },
    {
     "data": {
      "image/png": "[encoded data removed]",
      "text/plain": [
       "<Figure size 432x288 with 1 Axes>"
      ]
     },
     "metadata": {
      "needs_background": "light"
     },
     "output_type": "display_data"
    },
    {
     "data": {
      "text/plain": [
       "<matplotlib.axes._subplots.AxesSubplot at 0x1b9c1c968d0>"
      ]
     },
     "execution_count": 18,
     "metadata": {},
     "output_type": "execute_result"
    }
   ],
   "source": [
    "print(\"Wie sieht das Histogramm dazu aus?\")\n",
    "fd.plot(20)"
   ]
  },
  {
   "cell_type": "markdown",
   "metadata": {},
   "source": [
    "Word Cloud <a href=\"http://amueller.github.io/word_cloud/index.html\">📄</a>"
   ]
  },
  {
   "cell_type": "code",
   "execution_count": 19,
   "metadata": {},
   "outputs": [],
   "source": [
    "from wordcloud import WordCloud\n",
    "wc = WordCloud()"
   ]
  },
  {
   "cell_type": "code",
   "execution_count": 20,
   "metadata": {},
   "outputs": [
    {
     "name": "stdout",
     "output_type": "stream",
     "text": [
      "Wie sieht die Visualisierung davon aus?\n"
     ]
    },
    {
     "data": {
      "image/png": "[encoded data removed]",
      "text/plain": [
       "<Figure size 432x288 with 1 Axes>"
      ]
     },
     "metadata": {
      "needs_background": "light"
     },
     "output_type": "display_data"
    }
   ],
   "source": [
    "plt.imshow(wc.generate_from_frequencies(fd), interpolation=\"bilinear\")\n",
    "print(\"Wie sieht die Visualisierung davon aus?\")\n",
    "plt.show()"
   ]
  },
  {
   "cell_type": "markdown",
   "metadata": {},
   "source": [
    "## 3. <a id='modell'>Modell</a>"
   ]
  },
  {
   "cell_type": "markdown",
   "metadata": {},
   "source": [
    "### 3.1 Modell vorbereiten"
   ]
  },
  {
   "cell_type": "markdown",
   "metadata": {},
   "source": [
    "#### 3.1.1 Positive Wörter"
   ]
  },
  {
   "cell_type": "code",
   "execution_count": 36,
   "metadata": {},
   "outputs": [
    {
     "data": {
      "text/html": [
       "<div>\n",
       "<style scoped>\n",
       "    .dataframe tbody tr th:only-of-type {\n",
       "        vertical-align: middle;\n",
       "    }\n",
       "\n",
       "    .dataframe tbody tr th {\n",
       "        vertical-align: top;\n",
       "    }\n",
       "\n",
       "    .dataframe thead th {\n",
       "        text-align: right;\n",
       "    }\n",
       "</style>\n",
       "<table border=\"1\" class=\"dataframe\">\n",
       "  <thead>\n",
       "    <tr style=\"text-align: right;\">\n",
       "      <th></th>\n",
       "      <th>Word</th>\n",
       "      <th>Score</th>\n",
       "      <th>Declination</th>\n",
       "    </tr>\n",
       "  </thead>\n",
       "  <tbody>\n",
       "    <tr>\n",
       "      <th>0</th>\n",
       "      <td>Abschluß|NN</td>\n",
       "      <td>0.004</td>\n",
       "      <td>Abschlüße,Abschlußs,Abschlußes,Abschlüßen</td>\n",
       "    </tr>\n",
       "    <tr>\n",
       "      <th>1</th>\n",
       "      <td>Abstimmung|NN</td>\n",
       "      <td>0.004</td>\n",
       "      <td>Abstimmungen</td>\n",
       "    </tr>\n",
       "    <tr>\n",
       "      <th>2</th>\n",
       "      <td>Agilität|NN</td>\n",
       "      <td>0.004</td>\n",
       "      <td>NaN</td>\n",
       "    </tr>\n",
       "    <tr>\n",
       "      <th>3</th>\n",
       "      <td>Aktivität|NN</td>\n",
       "      <td>0.004</td>\n",
       "      <td>Aktivitäten</td>\n",
       "    </tr>\n",
       "    <tr>\n",
       "      <th>4</th>\n",
       "      <td>Aktualisierung|NN</td>\n",
       "      <td>0.004</td>\n",
       "      <td>Aktualisierungen</td>\n",
       "    </tr>\n",
       "  </tbody>\n",
       "</table>\n",
       "</div>"
      ],
      "text/plain": [
       "                Word  Score                                Declination\n",
       "0        Abschluß|NN  0.004  Abschlüße,Abschlußs,Abschlußes,Abschlüßen\n",
       "1      Abstimmung|NN  0.004                               Abstimmungen\n",
       "2        Agilität|NN  0.004                                        NaN\n",
       "3       Aktivität|NN  0.004                                Aktivitäten\n",
       "4  Aktualisierung|NN  0.004                           Aktualisierungen"
      ]
     },
     "execution_count": 36,
     "metadata": {},
     "output_type": "execute_result"
    }
   ],
   "source": [
    "positive = pd.read_csv('./positive.txt', lineterminator='\\n', sep='\\t', header=0, names=['Word', 'Score', 'Declination'])\n",
    "positive.head()"
   ]
  },
  {
   "cell_type": "code",
   "execution_count": 22,
   "metadata": {},
   "outputs": [
    {
     "name": "stdout",
     "output_type": "stream",
     "text": [
      "Als Nächstes werden wir den Zusatz hinter dem senkrechten Strich (|) vom Wort lösen.\n"
     ]
    },
    {
     "data": {
      "text/html": [
       "<div>\n",
       "<style scoped>\n",
       "    .dataframe tbody tr th:only-of-type {\n",
       "        vertical-align: middle;\n",
       "    }\n",
       "\n",
       "    .dataframe tbody tr th {\n",
       "        vertical-align: top;\n",
       "    }\n",
       "\n",
       "    .dataframe thead th {\n",
       "        text-align: right;\n",
       "    }\n",
       "</style>\n",
       "<table border=\"1\" class=\"dataframe\">\n",
       "  <thead>\n",
       "    <tr style=\"text-align: right;\">\n",
       "      <th></th>\n",
       "      <th>Word</th>\n",
       "      <th>Score</th>\n",
       "      <th>Declination</th>\n",
       "      <th>Appendix</th>\n",
       "    </tr>\n",
       "  </thead>\n",
       "  <tbody>\n",
       "    <tr>\n",
       "      <th>0</th>\n",
       "      <td>Abschluß</td>\n",
       "      <td>0.004</td>\n",
       "      <td>Abschlüße,Abschlußs,Abschlußes,Abschlüßen</td>\n",
       "      <td>NN</td>\n",
       "    </tr>\n",
       "    <tr>\n",
       "      <th>1</th>\n",
       "      <td>Abstimmung</td>\n",
       "      <td>0.004</td>\n",
       "      <td>Abstimmungen</td>\n",
       "      <td>NN</td>\n",
       "    </tr>\n",
       "    <tr>\n",
       "      <th>2</th>\n",
       "      <td>Agilität</td>\n",
       "      <td>0.004</td>\n",
       "      <td>NaN</td>\n",
       "      <td>NN</td>\n",
       "    </tr>\n",
       "    <tr>\n",
       "      <th>3</th>\n",
       "      <td>Aktivität</td>\n",
       "      <td>0.004</td>\n",
       "      <td>Aktivitäten</td>\n",
       "      <td>NN</td>\n",
       "    </tr>\n",
       "    <tr>\n",
       "      <th>4</th>\n",
       "      <td>Aktualisierung</td>\n",
       "      <td>0.004</td>\n",
       "      <td>Aktualisierungen</td>\n",
       "      <td>NN</td>\n",
       "    </tr>\n",
       "  </tbody>\n",
       "</table>\n",
       "</div>"
      ],
      "text/plain": [
       "             Word  Score                                Declination Appendix\n",
       "0        Abschluß  0.004  Abschlüße,Abschlußs,Abschlußes,Abschlüßen       NN\n",
       "1      Abstimmung  0.004                               Abstimmungen       NN\n",
       "2        Agilität  0.004                                        NaN       NN\n",
       "3       Aktivität  0.004                                Aktivitäten       NN\n",
       "4  Aktualisierung  0.004                           Aktualisierungen       NN"
      ]
     },
     "execution_count": 22,
     "metadata": {},
     "output_type": "execute_result"
    }
   ],
   "source": [
    "print(\"Als Nächstes werden wir den Zusatz hinter dem senkrechten Strich (|) vom Wort lösen.\")\n",
    "positive[['Word', 'Appendix']] = positive['Word'].str.split('|', 1, expand=True)\n",
    "positive.head()"
   ]
  },
  {
   "cell_type": "code",
   "execution_count": 23,
   "metadata": {},
   "outputs": [
    {
     "data": {
      "text/html": [
       "<div>\n",
       "<style scoped>\n",
       "    .dataframe tbody tr th:only-of-type {\n",
       "        vertical-align: middle;\n",
       "    }\n",
       "\n",
       "    .dataframe tbody tr th {\n",
       "        vertical-align: top;\n",
       "    }\n",
       "\n",
       "    .dataframe thead th {\n",
       "        text-align: right;\n",
       "    }\n",
       "</style>\n",
       "<table border=\"1\" class=\"dataframe\">\n",
       "  <thead>\n",
       "    <tr style=\"text-align: right;\">\n",
       "      <th></th>\n",
       "      <th>Word</th>\n",
       "      <th>Score</th>\n",
       "      <th>Declination</th>\n",
       "      <th>Appendix</th>\n",
       "    </tr>\n",
       "  </thead>\n",
       "  <tbody>\n",
       "    <tr>\n",
       "      <th>0</th>\n",
       "      <td>Abschluß</td>\n",
       "      <td>0.0040</td>\n",
       "      <td>[Abschlüße, Abschlußs, Abschlußes, Abschlüßen]</td>\n",
       "      <td>NN</td>\n",
       "    </tr>\n",
       "    <tr>\n",
       "      <th>798</th>\n",
       "      <td>erheblich</td>\n",
       "      <td>0.0040</td>\n",
       "      <td>[erheblichste, erheblicherem, erheblichsten, e...</td>\n",
       "      <td>ADJX</td>\n",
       "    </tr>\n",
       "    <tr>\n",
       "      <th>797</th>\n",
       "      <td>erhebend</td>\n",
       "      <td>0.0040</td>\n",
       "      <td>[erhebendstem, erhebendsten, erhebender, erheb...</td>\n",
       "      <td>ADJX</td>\n",
       "    </tr>\n",
       "    <tr>\n",
       "      <th>796</th>\n",
       "      <td>erhalten</td>\n",
       "      <td>0.0040</td>\n",
       "      <td>NaN</td>\n",
       "      <td>VVINF</td>\n",
       "    </tr>\n",
       "    <tr>\n",
       "      <th>1435</th>\n",
       "      <td>unfehlbar</td>\n",
       "      <td>0.0040</td>\n",
       "      <td>[unfehlbares, unfehlbarstem, unfehlbarsten, un...</td>\n",
       "      <td>ADJX</td>\n",
       "    </tr>\n",
       "    <tr>\n",
       "      <th>...</th>\n",
       "      <td>...</td>\n",
       "      <td>...</td>\n",
       "      <td>...</td>\n",
       "      <td>...</td>\n",
       "    </tr>\n",
       "    <tr>\n",
       "      <th>1342</th>\n",
       "      <td>spannend</td>\n",
       "      <td>0.7165</td>\n",
       "      <td>[spannendste, spannender, spannendes, spannend...</td>\n",
       "      <td>ADJX</td>\n",
       "    </tr>\n",
       "    <tr>\n",
       "      <th>1581</th>\n",
       "      <td>wunderbar</td>\n",
       "      <td>0.7234</td>\n",
       "      <td>[wunderbarerem, wunderbarste, wunderbarster, w...</td>\n",
       "      <td>ADJX</td>\n",
       "    </tr>\n",
       "    <tr>\n",
       "      <th>301</th>\n",
       "      <td>Lob</td>\n",
       "      <td>0.7246</td>\n",
       "      <td>[Loben, Lobs, Lobes, Lobe]</td>\n",
       "      <td>NN</td>\n",
       "    </tr>\n",
       "    <tr>\n",
       "      <th>1214</th>\n",
       "      <td>perfekt</td>\n",
       "      <td>0.7299</td>\n",
       "      <td>[perfekterer, perfektest, perfekteren, perfekt...</td>\n",
       "      <td>ADJX</td>\n",
       "    </tr>\n",
       "    <tr>\n",
       "      <th>916</th>\n",
       "      <td>gelungen</td>\n",
       "      <td>1.0000</td>\n",
       "      <td>[gelungnerem, gelungenster, gelungneren, gelun...</td>\n",
       "      <td>ADJX</td>\n",
       "    </tr>\n",
       "  </tbody>\n",
       "</table>\n",
       "<p>1649 rows × 4 columns</p>\n",
       "</div>"
      ],
      "text/plain": [
       "           Word   Score                                        Declination  \\\n",
       "0      Abschluß  0.0040     [Abschlüße, Abschlußs, Abschlußes, Abschlüßen]   \n",
       "798   erheblich  0.0040  [erheblichste, erheblicherem, erheblichsten, e...   \n",
       "797    erhebend  0.0040  [erhebendstem, erhebendsten, erhebender, erheb...   \n",
       "796    erhalten  0.0040                                                NaN   \n",
       "1435  unfehlbar  0.0040  [unfehlbares, unfehlbarstem, unfehlbarsten, un...   \n",
       "...         ...     ...                                                ...   \n",
       "1342   spannend  0.7165  [spannendste, spannender, spannendes, spannend...   \n",
       "1581  wunderbar  0.7234  [wunderbarerem, wunderbarste, wunderbarster, w...   \n",
       "301         Lob  0.7246                         [Loben, Lobs, Lobes, Lobe]   \n",
       "1214    perfekt  0.7299  [perfekterer, perfektest, perfekteren, perfekt...   \n",
       "916    gelungen  1.0000  [gelungnerem, gelungenster, gelungneren, gelun...   \n",
       "\n",
       "     Appendix  \n",
       "0          NN  \n",
       "798      ADJX  \n",
       "797      ADJX  \n",
       "796     VVINF  \n",
       "1435     ADJX  \n",
       "...       ...  \n",
       "1342     ADJX  \n",
       "1581     ADJX  \n",
       "301        NN  \n",
       "1214     ADJX  \n",
       "916      ADJX  \n",
       "\n",
       "[1649 rows x 4 columns]"
      ]
     },
     "execution_count": 23,
     "metadata": {},
     "output_type": "execute_result"
    }
   ],
   "source": [
    "positive['Declination'] = positive['Declination'].str.split(',')\n",
    "positive.sort_values(by='Score')"
   ]
  },
  {
   "cell_type": "markdown",
   "metadata": {},
   "source": [
    "#### 3.1.2 Negative Wörter"
   ]
  },
  {
   "cell_type": "code",
   "execution_count": 37,
   "metadata": {},
   "outputs": [
    {
     "data": {
      "text/html": [
       "<div>\n",
       "<style scoped>\n",
       "    .dataframe tbody tr th:only-of-type {\n",
       "        vertical-align: middle;\n",
       "    }\n",
       "\n",
       "    .dataframe tbody tr th {\n",
       "        vertical-align: top;\n",
       "    }\n",
       "\n",
       "    .dataframe thead th {\n",
       "        text-align: right;\n",
       "    }\n",
       "</style>\n",
       "<table border=\"1\" class=\"dataframe\">\n",
       "  <thead>\n",
       "    <tr style=\"text-align: right;\">\n",
       "      <th></th>\n",
       "      <th>Word</th>\n",
       "      <th>Score</th>\n",
       "      <th>Declination</th>\n",
       "    </tr>\n",
       "  </thead>\n",
       "  <tbody>\n",
       "    <tr>\n",
       "      <th>0</th>\n",
       "      <td>Abbruch|NN</td>\n",
       "      <td>-0.0048</td>\n",
       "      <td>Abbruches,Abbrüche,Abbruchs,Abbrüchen</td>\n",
       "    </tr>\n",
       "    <tr>\n",
       "      <th>1</th>\n",
       "      <td>Abdankung|NN</td>\n",
       "      <td>-0.0048</td>\n",
       "      <td>Abdankungen</td>\n",
       "    </tr>\n",
       "    <tr>\n",
       "      <th>2</th>\n",
       "      <td>Abdämpfung|NN</td>\n",
       "      <td>-0.0048</td>\n",
       "      <td>Abdämpfungen</td>\n",
       "    </tr>\n",
       "    <tr>\n",
       "      <th>3</th>\n",
       "      <td>Abfall|NN</td>\n",
       "      <td>-0.0048</td>\n",
       "      <td>Abfalles,Abfälle,Abfalls,Abfällen</td>\n",
       "    </tr>\n",
       "    <tr>\n",
       "      <th>4</th>\n",
       "      <td>Abfuhr|NN</td>\n",
       "      <td>-0.3367</td>\n",
       "      <td>Abfuhren</td>\n",
       "    </tr>\n",
       "  </tbody>\n",
       "</table>\n",
       "</div>"
      ],
      "text/plain": [
       "            Word   Score                            Declination\n",
       "0     Abbruch|NN -0.0048  Abbruches,Abbrüche,Abbruchs,Abbrüchen\n",
       "1   Abdankung|NN -0.0048                            Abdankungen\n",
       "2  Abdämpfung|NN -0.0048                           Abdämpfungen\n",
       "3      Abfall|NN -0.0048      Abfalles,Abfälle,Abfalls,Abfällen\n",
       "4      Abfuhr|NN -0.3367                               Abfuhren"
      ]
     },
     "execution_count": 37,
     "metadata": {},
     "output_type": "execute_result"
    }
   ],
   "source": [
    "negative = pd.read_csv('./negative.txt', lineterminator='\\n', sep='\\t', header=0, names=['Word', 'Score', 'Declination'])\n",
    "negative.head()"
   ]
  },
  {
   "cell_type": "code",
   "execution_count": 25,
   "metadata": {},
   "outputs": [
    {
     "name": "stdout",
     "output_type": "stream",
     "text": [
      "Als Nächstes werden wir den Zusatz hinter dem senkrechten Strich (|) vom Wort lösen.\n"
     ]
    },
    {
     "data": {
      "text/html": [
       "<div>\n",
       "<style scoped>\n",
       "    .dataframe tbody tr th:only-of-type {\n",
       "        vertical-align: middle;\n",
       "    }\n",
       "\n",
       "    .dataframe tbody tr th {\n",
       "        vertical-align: top;\n",
       "    }\n",
       "\n",
       "    .dataframe thead th {\n",
       "        text-align: right;\n",
       "    }\n",
       "</style>\n",
       "<table border=\"1\" class=\"dataframe\">\n",
       "  <thead>\n",
       "    <tr style=\"text-align: right;\">\n",
       "      <th></th>\n",
       "      <th>Word</th>\n",
       "      <th>Score</th>\n",
       "      <th>Declination</th>\n",
       "      <th>Appendix</th>\n",
       "    </tr>\n",
       "  </thead>\n",
       "  <tbody>\n",
       "    <tr>\n",
       "      <th>0</th>\n",
       "      <td>Abbruch</td>\n",
       "      <td>-0.0048</td>\n",
       "      <td>Abbruches,Abbrüche,Abbruchs,Abbrüchen</td>\n",
       "      <td>NN</td>\n",
       "    </tr>\n",
       "    <tr>\n",
       "      <th>1</th>\n",
       "      <td>Abdankung</td>\n",
       "      <td>-0.0048</td>\n",
       "      <td>Abdankungen</td>\n",
       "      <td>NN</td>\n",
       "    </tr>\n",
       "    <tr>\n",
       "      <th>2</th>\n",
       "      <td>Abdämpfung</td>\n",
       "      <td>-0.0048</td>\n",
       "      <td>Abdämpfungen</td>\n",
       "      <td>NN</td>\n",
       "    </tr>\n",
       "    <tr>\n",
       "      <th>3</th>\n",
       "      <td>Abfall</td>\n",
       "      <td>-0.0048</td>\n",
       "      <td>Abfalles,Abfälle,Abfalls,Abfällen</td>\n",
       "      <td>NN</td>\n",
       "    </tr>\n",
       "    <tr>\n",
       "      <th>4</th>\n",
       "      <td>Abfuhr</td>\n",
       "      <td>-0.3367</td>\n",
       "      <td>Abfuhren</td>\n",
       "      <td>NN</td>\n",
       "    </tr>\n",
       "  </tbody>\n",
       "</table>\n",
       "</div>"
      ],
      "text/plain": [
       "         Word   Score                            Declination Appendix\n",
       "0     Abbruch -0.0048  Abbruches,Abbrüche,Abbruchs,Abbrüchen       NN\n",
       "1   Abdankung -0.0048                            Abdankungen       NN\n",
       "2  Abdämpfung -0.0048                           Abdämpfungen       NN\n",
       "3      Abfall -0.0048      Abfalles,Abfälle,Abfalls,Abfällen       NN\n",
       "4      Abfuhr -0.3367                               Abfuhren       NN"
      ]
     },
     "execution_count": 25,
     "metadata": {},
     "output_type": "execute_result"
    }
   ],
   "source": [
    "print(\"Als Nächstes werden wir den Zusatz hinter dem senkrechten Strich (|) vom Wort lösen.\")\n",
    "negative[['Word', 'Appendix']] = negative['Word'].str.split('|', 1, expand=True)\n",
    "negative.head()"
   ]
  },
  {
   "cell_type": "code",
   "execution_count": 26,
   "metadata": {},
   "outputs": [
    {
     "data": {
      "text/html": [
       "<div>\n",
       "<style scoped>\n",
       "    .dataframe tbody tr th:only-of-type {\n",
       "        vertical-align: middle;\n",
       "    }\n",
       "\n",
       "    .dataframe tbody tr th {\n",
       "        vertical-align: top;\n",
       "    }\n",
       "\n",
       "    .dataframe thead th {\n",
       "        text-align: right;\n",
       "    }\n",
       "</style>\n",
       "<table border=\"1\" class=\"dataframe\">\n",
       "  <thead>\n",
       "    <tr style=\"text-align: right;\">\n",
       "      <th></th>\n",
       "      <th>Word</th>\n",
       "      <th>Score</th>\n",
       "      <th>Declination</th>\n",
       "      <th>Appendix</th>\n",
       "    </tr>\n",
       "  </thead>\n",
       "  <tbody>\n",
       "    <tr>\n",
       "      <th>235</th>\n",
       "      <td>Gefahr</td>\n",
       "      <td>-1.0000</td>\n",
       "      <td>[Gefahren]</td>\n",
       "      <td>NN</td>\n",
       "    </tr>\n",
       "    <tr>\n",
       "      <th>464</th>\n",
       "      <td>Schuld</td>\n",
       "      <td>-0.9686</td>\n",
       "      <td>[Schulden]</td>\n",
       "      <td>NN</td>\n",
       "    </tr>\n",
       "    <tr>\n",
       "      <th>1538</th>\n",
       "      <td>unnötig</td>\n",
       "      <td>-0.9463</td>\n",
       "      <td>[unnötigstes, unnötigere, unnötige, unnötigere...</td>\n",
       "      <td>ADJX</td>\n",
       "    </tr>\n",
       "    <tr>\n",
       "      <th>1378</th>\n",
       "      <td>schädlich</td>\n",
       "      <td>-0.9269</td>\n",
       "      <td>[schädlicher, schädlicheren, schädlichem, schä...</td>\n",
       "      <td>ADJX</td>\n",
       "    </tr>\n",
       "    <tr>\n",
       "      <th>1366</th>\n",
       "      <td>schwach</td>\n",
       "      <td>-0.9206</td>\n",
       "      <td>[schwächstem, schwächsten, schwächster, schwäc...</td>\n",
       "      <td>ADJX</td>\n",
       "    </tr>\n",
       "    <tr>\n",
       "      <th>...</th>\n",
       "      <td>...</td>\n",
       "      <td>...</td>\n",
       "      <td>...</td>\n",
       "      <td>...</td>\n",
       "    </tr>\n",
       "    <tr>\n",
       "      <th>725</th>\n",
       "      <td>androhen</td>\n",
       "      <td>-0.0048</td>\n",
       "      <td>[angedroht, androhte, androhest, androhtest, a...</td>\n",
       "      <td>VVINF</td>\n",
       "    </tr>\n",
       "    <tr>\n",
       "      <th>721</th>\n",
       "      <td>alt</td>\n",
       "      <td>-0.0048</td>\n",
       "      <td>[alte, altem, alten, ältest, alter, altes, ält...</td>\n",
       "      <td>ADJX</td>\n",
       "    </tr>\n",
       "    <tr>\n",
       "      <th>736</th>\n",
       "      <td>anstrengen</td>\n",
       "      <td>-0.0048</td>\n",
       "      <td>[anstrengtet, anstrengest, anstrenget, angestr...</td>\n",
       "      <td>VVINF</td>\n",
       "    </tr>\n",
       "    <tr>\n",
       "      <th>1816</th>\n",
       "      <td>überwältigen</td>\n",
       "      <td>-0.0048</td>\n",
       "      <td>[überwältigest, überwältigten, überwältige, üb...</td>\n",
       "      <td>VVINF</td>\n",
       "    </tr>\n",
       "    <tr>\n",
       "      <th>1262</th>\n",
       "      <td>nervös</td>\n",
       "      <td>-0.0042</td>\n",
       "      <td>[nervöseste, nervöseren, nervösest, nervöserem...</td>\n",
       "      <td>ADJX</td>\n",
       "    </tr>\n",
       "  </tbody>\n",
       "</table>\n",
       "<p>1817 rows × 4 columns</p>\n",
       "</div>"
      ],
      "text/plain": [
       "              Word   Score                                        Declination  \\\n",
       "235         Gefahr -1.0000                                         [Gefahren]   \n",
       "464         Schuld -0.9686                                         [Schulden]   \n",
       "1538       unnötig -0.9463  [unnötigstes, unnötigere, unnötige, unnötigere...   \n",
       "1378     schädlich -0.9269  [schädlicher, schädlicheren, schädlichem, schä...   \n",
       "1366       schwach -0.9206  [schwächstem, schwächsten, schwächster, schwäc...   \n",
       "...            ...     ...                                                ...   \n",
       "725       androhen -0.0048  [angedroht, androhte, androhest, androhtest, a...   \n",
       "721            alt -0.0048  [alte, altem, alten, ältest, alter, altes, ält...   \n",
       "736     anstrengen -0.0048  [anstrengtet, anstrengest, anstrenget, angestr...   \n",
       "1816  überwältigen -0.0048  [überwältigest, überwältigten, überwältige, üb...   \n",
       "1262        nervös -0.0042  [nervöseste, nervöseren, nervösest, nervöserem...   \n",
       "\n",
       "     Appendix  \n",
       "235        NN  \n",
       "464        NN  \n",
       "1538     ADJX  \n",
       "1378     ADJX  \n",
       "1366     ADJX  \n",
       "...       ...  \n",
       "725     VVINF  \n",
       "721      ADJX  \n",
       "736     VVINF  \n",
       "1816    VVINF  \n",
       "1262     ADJX  \n",
       "\n",
       "[1817 rows x 4 columns]"
      ]
     },
     "execution_count": 26,
     "metadata": {},
     "output_type": "execute_result"
    }
   ],
   "source": [
    "negative['Declination'] = negative['Declination'].str.split(',')\n",
    "negative.sort_values(by='Score')"
   ]
  },
  {
   "cell_type": "code",
   "execution_count": 27,
   "metadata": {},
   "outputs": [],
   "source": [
    "negative_positive = {'negative' : negative, 'positive' : positive}"
   ]
  },
  {
   "cell_type": "markdown",
   "metadata": {},
   "source": [
    "### 3.2 Textdaten klassifizieren"
   ]
  },
  {
   "cell_type": "code",
   "execution_count": 28,
   "metadata": {},
   "outputs": [],
   "source": [
    "def classify(sequence):\n",
    "    \n",
    "    result = { 'negative' : {}, 'positive' : {}}\n",
    "    \n",
    "    for key, value in negative_positive.items():\n",
    "            \n",
    "        result[key] = {'score' : 0.0 , 'num' : 0.0, 'normalized' : 0.0}\n",
    "        \n",
    "        for token in sequence:\n",
    "            word = value.loc[value['Word'] == token]\n",
    "            if len(word['Score'].to_numpy()) == 0:\n",
    "                val = 0.0\n",
    "            else:\n",
    "                val = word['Score'].to_numpy()\n",
    "                \n",
    "            result[key]['score'] = result[key]['score'] + val\n",
    "            result[key]['num'] += 1\n",
    "        \n",
    "        result[key]['normalized'] = result[key]['score'] / result[key]['num']\n",
    "        \n",
    "    return result['negative']['normalized'], result['positive']['normalized']"
   ]
  },
  {
   "cell_type": "code",
   "execution_count": 29,
   "metadata": {},
   "outputs": [],
   "source": [
    "def classify_many(data):\n",
    "    \n",
    "    print('#\\tSoll\\tIst\\tNeg\\tPos\\tBeispiel')\n",
    "    \n",
    "    for example in data.itertuples():\n",
    "        negative, positive = classify(example[1])\n",
    "        print('%i\\t%.1f\\t%.3f\\t%.3f\\t%.3f\\t%s' % (example[0], example[2], negative + positive, negative, positive, ' '.join(example[1])))"
   ]
  },
  {
   "cell_type": "markdown",
   "metadata": {},
   "source": [
    "## 4. <a id='verwendung'>Verwendung</a>"
   ]
  },
  {
   "cell_type": "markdown",
   "metadata": {},
   "source": [
    "### 4.1 Dummy-Daten erstellen"
   ]
  },
  {
   "cell_type": "code",
   "execution_count": 30,
   "metadata": {},
   "outputs": [],
   "source": [
    "data = pd.DataFrame([\n",
    "    [\"Dieses Lernmodul ist super, wunderbar und ganz besonders klasse!\", 1],\n",
    "    [\"Dieses Lernmodul ist fürchterlich, schrecklich und höchst unprofessionell!\", 0],\n",
    "    [\"Dieses Lernmodul finde ich auf der einen Seite spannend und auf der anderen Seite langweilig.\", -1]\n",
    "], columns=['Beispiel', 'Stimmung'])"
   ]
  },
  {
   "cell_type": "code",
   "execution_count": 31,
   "metadata": {},
   "outputs": [
    {
     "data": {
      "text/plain": [
       "0    Dieses Lernmodul ist super, wunderbar und ganz...\n",
       "1    Dieses Lernmodul ist fürchterlich, schrecklich...\n",
       "2    Dieses Lernmodul finde ich auf der einen Seite...\n",
       "Name: Beispiel, dtype: object"
      ]
     },
     "execution_count": 31,
     "metadata": {},
     "output_type": "execute_result"
    }
   ],
   "source": [
    "examples = data['Beispiel']\n",
    "examples.head()"
   ]
  },
  {
   "cell_type": "code",
   "execution_count": 32,
   "metadata": {},
   "outputs": [
    {
     "data": {
      "text/plain": [
       "0    Dieses Lernmodul ist super wunderbar und ganz ...\n",
       "1    Dieses Lernmodul ist fürchterlich schrecklich ...\n",
       "2    Dieses Lernmodul finde ich auf der einen Seite...\n",
       "Name: Beispiel, dtype: object"
      ]
     },
     "execution_count": 32,
     "metadata": {},
     "output_type": "execute_result"
    }
   ],
   "source": [
    "examples_cleaned = examples.replace(regex={'[^a-zA-Z0-9ÄÖUäöüß\\s]' : ''})\n",
    "examples_cleaned"
   ]
  },
  {
   "cell_type": "code",
   "execution_count": 33,
   "metadata": {},
   "outputs": [
    {
     "name": "stdout",
     "output_type": "stream",
     "text": [
      "Aus Sätzen werden Wörter. Wir zerteilen die Sequenzen anhand des Leerzeichens:\n"
     ]
    },
    {
     "data": {
      "text/plain": [
       "0    [Dieses, Lernmodul, ist, super, wunderbar, und...\n",
       "1    [Dieses, Lernmodul, ist, fürchterlich, schreck...\n",
       "2    [Dieses, Lernmodul, finde, ich, auf, der, eine...\n",
       "Name: Beispiel, dtype: object"
      ]
     },
     "execution_count": 33,
     "metadata": {},
     "output_type": "execute_result"
    }
   ],
   "source": [
    "print(\"Aus Sätzen werden Wörter. Wir zerteilen die Sequenzen anhand des Leerzeichens:\")\n",
    "examples_tokenized = examples_cleaned.str.split()\n",
    "examples_tokenized"
   ]
  },
  {
   "cell_type": "code",
   "execution_count": 34,
   "metadata": {},
   "outputs": [],
   "source": [
    "data['Beispiel'] = examples_tokenized"
   ]
  },
  {
   "cell_type": "markdown",
   "metadata": {},
   "source": [
    "### 4.2 Dummy-Daten klassifizieren"
   ]
  },
  {
   "cell_type": "code",
   "execution_count": 35,
   "metadata": {},
   "outputs": [
    {
     "name": "stdout",
     "output_type": "stream",
     "text": [
      "#\tSoll\tIst\tNeg\tPos\tBeispiel\n",
      "0\t1.0\t0.235\t0.000\t0.235\tDieses Lernmodul ist super wunderbar und ganz besonders klasse\n",
      "1\t0.0\t-0.045\t-0.045\t0.000\tDieses Lernmodul ist fürchterlich schrecklich und höchst unprofessionell\n",
      "2\t-1.0\t0.046\t-0.002\t0.048\tDieses Lernmodul finde ich auf der einen Seite spannend und auf der anderen Seite langweilig\n"
     ]
    }
   ],
   "source": [
    "classify_many(data)"
   ]
  },
  {
   "cell_type": "markdown",
   "metadata": {},
   "source": [
    "## 5. <a id='abschluss'>Abschluss</a>"
   ]
  }
 ],
 "metadata": {
  "kernelspec": {
   "display_name": "Python 3",
   "language": "python",
   "name": "python3"
  },
  "language_info": {
   "codemirror_mode": {
    "name": "ipython",
    "version": 3
   },
   "file_extension": ".py",
   "mimetype": "text/x-python",
   "name": "python",
   "nbconvert_exporter": "python",
   "pygments_lexer": "ipython3",
   "version": "3.7.0"
  }
 },
 "nbformat": 4,
 "nbformat_minor": 4
}
