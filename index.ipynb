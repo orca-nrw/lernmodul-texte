{
 "cells": [
  {
   "cell_type": "markdown",
   "metadata": {},
   "source": [
    "vectorize(token)![WordCloud](./img/wordcloud.png)"
   ]
  },
  {
   "cell_type": "code",
   "execution_count": 1,
   "metadata": {},
   "outputs": [
    {
     "name": "stdout",
     "output_type": "stream",
     "text": [
      "Hallo, Lernende(r)!\n"
     ]
    }
   ],
   "source": [
    "#hideInput\n",
    "try:\n",
    "    username\n",
    "except NameError:\n",
    "    username = 'Lernende(r)'\n",
    "\n",
    "print('Hallo, ' + username + '!')"
   ]
  },
  {
   "cell_type": "code",
   "execution_count": 2,
   "metadata": {},
   "outputs": [],
   "source": [
    "#hideInput\n",
    "from taskreview.learning_module import LearningModule\n",
    "lm = LearningModule('data/lernmodul_texte.db')"
   ]
  },
  {
   "cell_type": "markdown",
   "metadata": {},
   "source": [
    "# Lernmodul zur Verarbeitung und Analyse von Textdaten"
   ]
  },
  {
   "cell_type": "markdown",
   "metadata": {},
   "source": [
    "Das Verarbeiten menschlicher Sprache gilt als Voraussetzung für eine erfolgreiche Mensch-Maschine-Kommunikation. Zusätzlich kann sie dabei helfen eine vom Mensch unternommene Textanalyse zu unterstützen. Textanalysen, wie sie auf Social Media Plattformen, wie Facebook und Twitter, benötigt werden, gehen bspw. den folgenden Fragen nach.  Handelt es sich bei diesem Kommentar um unerwünschte Inhalte? Verbreitet dieser Beitrag Falschinformationen? Und welche Meinung will der Verfasser mit dieser Rezension zum Ausdruck bringen? All diese Fragestellungen lassen sich mithilfe computergestützter Methoden der Textverarbeitung und -analyse beantworten.\n",
    "\n",
    "Im folgenden Lernmodul wird versucht im Zuge einer Stimmungsanalyse (Sentiment Analysis) die Intention hinter einem Textbeitrag zu identifizieren um bspw. zwischen einer negativen und einer positiven Aussage zu unterscheiden. Diese Unterscheidung übernimmt ein Modell (hier: Klassifikator), welches auf Basis von Metadaten (hier: Vokabular) eine Vorhersage (hier: Stimmung) über vorliegende Rohdaten (hier: Tweets) trifft.\n",
    "\n",
    "Die folgende Abbildung verdeutlicht dabei den Weg eines Tweets, welcher die drei Domänen [Daten](#2.-Daten), [Modell](#3.-Modell) und [Verwendung](#4.-Verwendung) durchläuft, bis er letztendlich einer Stimmung zugeordnet wurde:\n",
    "\n",
    "![Pipeline](./img/flow.png)"
   ]
  },
  {
   "cell_type": "markdown",
   "metadata": {},
   "source": [
    "**Übersicht über die Lerninhalte:**\n",
    "\n",
    "1. [Einführung](#1.-Einführung)\n",
    "    1. [Motivation](#1.1-Motivation)\n",
    "    2. [Voraussetzungen](#1.2-Voraussetzungen)\n",
    "2. [Daten](#2.-Daten)\n",
    "    1. [Textdaten beschaffen](#2.1-Textdaten-beschaffen)\n",
    "    2. [Textdaten erkunden](#2.2-Textdaten-erkunden)\n",
    "    3. [Textdaten aufbereiten](#2.3-Textdaten-aufbereiten)\n",
    "        1. [Zeichen bereinigen](#2.3.1-Zeichen-bereinigen)\n",
    "        2. [Wörter bereinigen](#2.3.2-Wörter-bereinigen)\n",
    "        3. [Tweets bereinigen](#2.3.3-Tweets-bereinigen)\n",
    "3. [Modell](#3.-Modell)\n",
    "    1. [Textdaten einbetten](#3.1-Textdaten-einbetten)\n",
    "        1. [Vokabular](#3.1.1-Vokabular)\n",
    "        2. [Vektorisierung](#3.1.2-Vektorisierung)\n",
    "        3. [Label](#3.1.3-Label)\n",
    "        4. [Features](#3.1.4-Features)\n",
    "    2. [Textdaten klassifizieren](#3.2-Textdaten-klassifizieren)\n",
    "        1. [Überwachte Klassifikation](#3.2.1-Überwachte-Klassifikation)\n",
    "        2. [Unüberwachte Klassifikation](#3.2.2-Unüberwachte-Klassifikation)\n",
    "4. [Verwendung](#4.-Verwendung)\n",
    "    1. [Textdaten vorhersagen](#4.1-Textdaten-vorhersagen)\n",
    "        1. [Überwachter Klassifikator](#4.1.1-Überwachter-Klassifikator)\n",
    "        2. [Unüberwachter Klassifikator](#4.1.2-Unüberwachter-Klassifikator)\n",
    "5. [Abschluss](#5.-Abschluss)\n",
    "6. [Anhang](#6.-Anhang)"
   ]
  },
  {
   "cell_type": "markdown",
   "metadata": {},
   "source": [
    "**Lernziele:**\n",
    "\n",
    "Die Teilnehmer lernen in der [Datendomäne](#2.-Daten) Textdaten in roher Form Schritt für Schritt in kontextbezogene Daten für eine Textanalyse zu transformieren. Daraufhin bewegen sich die Teilnehmer in der [Modelldomäne](#3.-Modell), in der sie die Daten in das Modell einbetten um sie von zwei unterschiedlichen Algorithmen klassifizieren zu lassen. Abschließend werden die entstandenen Klassifikatoren in der [Verwendungsdomäne](#4.-Verwendung) für eine Vorhersage der Stimmung benutzt."
   ]
  },
  {
   "cell_type": "markdown",
   "metadata": {},
   "source": [
    "**Voraussetzungen:**\n",
    "\n",
    "- [Python](https://www.python.org/)\n",
    "- [Lernmodul zum Datenimport und zur Datenvorbereitung mit Pandas](https://projectbase.medien.hs-duesseldorf.de/eild.nrw-module/lernmodul-pandas)"
   ]
  },
  {
   "cell_type": "markdown",
   "metadata": {},
   "source": [
    "**Aufgabenüberprüfung:**"
   ]
  },
  {
   "cell_type": "markdown",
   "metadata": {},
   "source": [
    "Im Verlauf dieses Lernmoduls werden verschiedene Fragen als Single- oder Multiple-Choice-Aufgabe gestellt. Der Ablauf ist dabei immer derselbe. Zuerst die Fragestellung:\n",
    "\n",
    "    Aufgabe: Welches Thema behandelt dieses Lernmodul?\n",
    "    \n",
    "Daraufhin die Antwortmöglickeiten:\n",
    "\n",
    "* Bildanalyse \n",
    "\n",
    "* Textanalyse\n",
    "\n",
    "Und zuletzt eine Codezelle, welche für die Beantwortung der Frage zur Hilfe genommen werden kann:\n",
    "\n",
    "```python\n",
    "#code\n",
    "solution = 'Textanalyse'\n",
    "```"
   ]
  },
  {
   "cell_type": "markdown",
   "metadata": {},
   "source": [
    "**Hinweis:**"
   ]
  },
  {
   "cell_type": "markdown",
   "metadata": {},
   "source": [
    "Dieses Lernmodul nutzt verschiedenste Bibliotheken, Objekte und Funktionen. Diese sollten in der vorgegebenen Reihenfolge ausgeführt werden, da ansonsten kein erfolgreicher Abschluss des Lernmoduls garantiert werden kann.\n",
    "\n",
    "Solltet ihr einmal den Überblick verlieren, gibt euch die `whos` Funktion alle aktiven Variablen und ihre Typen (bspw. Bibliothek, Klasse) aus."
   ]
  },
  {
   "cell_type": "code",
   "execution_count": 3,
   "metadata": {},
   "outputs": [
    {
     "name": "stdout",
     "output_type": "stream",
     "text": [
      "Variable         Type              Data/Info\n",
      "--------------------------------------------\n",
      "LearningModule   type              <class 'taskreview.learni<...>g_module.LearningModule'>\n",
      "lm               LearningModule    <taskreview.learning_modu<...>ct at 0x000002B49555A438>\n",
      "username         str               Lernende(r)\n"
     ]
    }
   ],
   "source": [
    "whos"
   ]
  },
  {
   "cell_type": "markdown",
   "metadata": {},
   "source": [
    "Erweiternd dazu führt dieses Lernmodul im [Anhang](#6.-Anhang) ein Glossar, welches englische Begriffe in ihren deutschen Kontext setzt und sie mit einem Beispiel versieht.\n",
    "\n",
    "Zudem nutzt dieses Lernmodul eine hohe Datenmenge, welche die maximal zur Verfügung stehende Speicherkapazität überschreiten kann. Um dem vorzubeugen, können ungenutzte Variablen über die `del` Funktion verworfen und so Speicherkapazitäten freigegeben werden."
   ]
  },
  {
   "cell_type": "code",
   "execution_count": 4,
   "metadata": {},
   "outputs": [],
   "source": [
    "variable = None \n",
    "del variable"
   ]
  },
  {
   "cell_type": "markdown",
   "metadata": {},
   "source": [
    "<div style=\"background-color: #150458; padding: 5px;\"></div>\n",
    "\n",
    "## 1. Einführung"
   ]
  },
  {
   "cell_type": "markdown",
   "metadata": {},
   "source": [
    "[Zurück zur Übersicht](#Lernmodul-zur-Verarbeitung-und-Analyse-von-Textdaten)"
   ]
  },
  {
   "cell_type": "markdown",
   "metadata": {},
   "source": [
    "### 1.1 Motivation"
   ]
  },
  {
   "cell_type": "markdown",
   "metadata": {},
   "source": [
    "Die Verarbeitung menschlicher Sprache (Natural Language Processing, NLP) ist ein prominentes Forschungsfeld der Informatik mit ähnlichem Bekanntheitsgrad wie die Analyse visueller Daten (Computer Vision), welche bspw. das Erkennen von Bildern (Image Recognition) sowie ihre Manipulation (Image Augmentation) betrachtet. Im ersten Fall wollen wir einen bekannten bzw. alten Bildinhalt klassifizieren, während der zweite Fall einen unbekannten bzw. neuen Bildinhalt erzeugt."
   ]
  },
  {
   "cell_type": "markdown",
   "metadata": {},
   "source": [
    "Wechseln wir von Bild- auf Textdaten, lässt sich das Forschungsfeld des _NLP_ auf ähnliche Problemstellungen herunterbrechen, die in der folgenden Auflistung aufgeführt sind:\n",
    "\n",
    "* Texterkennung (Text Recognition)\n",
    "  * Spracherkennung (Speech Recognition)\n",
    "  * Stimmungsanalyse (Sentiment Analysis)\n",
    "* Textmanipulation (Text Augmentation)\n",
    "  * Maschinelle Übersetzung (Machine Translation)\n",
    "  * Automatisches Antworten (Question Answering)"
   ]
  },
  {
   "cell_type": "markdown",
   "metadata": {},
   "source": [
    "Dieses Lernmodul beschäftigt sich mit der ersten Problemstellung, also der Texterkennung und im besonderen mit der Unterscheidung verschiedener Stimmungen, welche der Verfasser eines Textes gehabt haben könnte. Ein aktuelles Anwendungsbeispiel ist die Identifikation von Hassreden, wie sie bspw. von [Facebook](https://www.facebook.com/) im Zuge ihrer [Community Standards](https://www.facebook.com/communitystandards/hate_speech) verboten wurden und erkannt werden müssen. Auch könnte man ein Stimmungsbild der Gesellschaft über die Auswertung von Beiträgen auf Twitter betrachten, welches in Krisenzeiten als Entscheidungshilfe für geplante Gegenmaßnahmen dienen kann."
   ]
  },
  {
   "cell_type": "markdown",
   "metadata": {},
   "source": [
    "### 1.2 Voraussetzungen"
   ]
  },
  {
   "cell_type": "markdown",
   "metadata": {},
   "source": [
    "Dieses Lernmodul nimmt sich [NumPy](https://numpy.org/) für numerische Berechnungen und [Pandas](https://pandas.pydata.org/) für die Verarbeitung der Daten zur Hilfe. Letztere Bibliothek konntet ihr bereits im [Lernmodul zum Datenimport und zur Datenvorbereitung mit Pandas](https://projectbase.medien.hs-duesseldorf.de/eild.nrw-module/lernmodul-pandas) kennen lernen."
   ]
  },
  {
   "cell_type": "code",
   "execution_count": 5,
   "metadata": {},
   "outputs": [],
   "source": [
    "import numpy as np\n",
    "import pandas as pd"
   ]
  },
  {
   "cell_type": "markdown",
   "metadata": {},
   "source": [
    "Dazu werden die folgenden Skripte zum Verarbeiten, Modellieren & Visualisieren der Daten benötigt:"
   ]
  },
  {
   "cell_type": "code",
   "execution_count": 6,
   "metadata": {},
   "outputs": [],
   "source": [
    "from utils import data_functions as df\n",
    "from utils import model_functions as mf\n",
    "from utils import vis_functions as vf"
   ]
  },
  {
   "cell_type": "markdown",
   "metadata": {},
   "source": [
    "Apropos Daten - lasst uns gleich in der [Datendomäne](#2.-Daten) einsteigen."
   ]
  },
  {
   "cell_type": "markdown",
   "metadata": {},
   "source": [
    "<div style=\"background-color: #150458; padding: 5px;\"></div>\n",
    "\n",
    "## 2. Daten"
   ]
  },
  {
   "cell_type": "markdown",
   "metadata": {},
   "source": [
    "[Zurück zur Übersicht](#Lernmodul-zur-Verarbeitung-und-Analyse-von-Textdaten)"
   ]
  },
  {
   "cell_type": "markdown",
   "metadata": {},
   "source": [
    "In diesem Kapitel beschaffen wir uns zunächst einen Datensatz, welcher aus vielen Beispielen besteht, welche die Menge an Daten bildet. Ein Beispiel umfasst dabei mindestens ein, wenn nicht sogar mehrere Merkmale. Ein Merkmal wird dabei durch einen numerischen oder symbolischen Wert verkörpert, der in unserem Fall ein Textbeitrag (Inhalt eines Tweets), aber auch ein Zeitstempel (Veröffentlichungsddatum eines Tweets) sein kann. \n",
    "\n",
    "Im weiteren Verlauf dieses Kapitels werden die beschafften Daten zunächst begutachtet und auf Basis ihrer Merkmale vorgefiltert. Daraufhin werden die übrig gebliebenen Daten im Abschnitt [Textdaten aufbereiten](#2.3-Textdaten-aufbereiten) verarbeitet, um sie in der darauffolgenden [Modelldomäne](#3.-Modell) zu nutzen. Die Aufbereitung eines Textbeitrags läuft dabei exemplarisch nach folgendem Prozess ab:\n",
    "\n",
    "![Daten](./img/data_flow.png)"
   ]
  },
  {
   "cell_type": "markdown",
   "metadata": {},
   "source": [
    "### 2.1 Textdaten beschaffen"
   ]
  },
  {
   "cell_type": "markdown",
   "metadata": {},
   "source": [
    "Wo findet man in der heutigen Zeit aktuelle Daten, welche eine eigene Meinung enthalten? Na auf dem Kurznachrichtendienst [Twitter](https://twitter.com) natürlich! \n",
    "\n",
    "Unser Datensatz wird dabei ungefiltert von Twitter extrahiert und monatlich unter der [CC 4.0 International](https://creativecommons.org/licenses/by/4.0/legalcode) Lizenz veröffentlicht [[1]](#1).\n",
    "\n",
    "Einen Teil dieser Veröffentlichung wollen wir zunächst als rohe JSON Daten unter der `twitter` Variable wie folgt abspeichern."
   ]
  },
  {
   "cell_type": "code",
   "execution_count": 7,
   "metadata": {},
   "outputs": [],
   "source": [
    "twitter = df.load_json()"
   ]
  },
  {
   "cell_type": "markdown",
   "metadata": {},
   "source": [
    "Um die Funktionalität von Pandas nutzen zu können, wird aus jeder JSON Datei ein DataFrame, der wiederum unter der `twitter` Variable abgelegt wird."
   ]
  },
  {
   "cell_type": "code",
   "execution_count": 8,
   "metadata": {},
   "outputs": [],
   "source": [
    "twitter = map(pd.DataFrame, twitter)"
   ]
  },
  {
   "cell_type": "markdown",
   "metadata": {},
   "source": [
    "Das Zusammenfügen dieser resultiert in einem einzelnen DataFrame, welcher im weiteren Verlauf als Rohdatensatz fungiert."
   ]
  },
  {
   "cell_type": "code",
   "execution_count": 9,
   "metadata": {},
   "outputs": [],
   "source": [
    "twitter = pd.concat(twitter, copy=False)"
   ]
  },
  {
   "cell_type": "markdown",
   "metadata": {},
   "source": [
    "Das war's auch schon mit der Beschaffung der Daten. Als nächstes gilt es die noch unbekannten Daten zu erkunden."
   ]
  },
  {
   "cell_type": "markdown",
   "metadata": {},
   "source": [
    "### 2.2 Textdaten erkunden"
   ]
  },
  {
   "cell_type": "markdown",
   "metadata": {},
   "source": [
    "Wie im [Lernmodul zum Datenimport und zur Datenvorbereitung mit Pandas](https://projectbase.medien.hs-duesseldorf.de/eild.nrw-module/lernmodul-pandas) kennengelernt, lässt sich über die `head()` Funktion der Kopf des Datensatzes betrachten. Wie schaut dieser aus?"
   ]
  },
  {
   "cell_type": "code",
   "execution_count": 10,
   "metadata": {},
   "outputs": [
    {
     "data": {
      "text/html": [
       "<div>\n",
       "<style scoped>\n",
       "    .dataframe tbody tr th:only-of-type {\n",
       "        vertical-align: middle;\n",
       "    }\n",
       "\n",
       "    .dataframe tbody tr th {\n",
       "        vertical-align: top;\n",
       "    }\n",
       "\n",
       "    .dataframe thead th {\n",
       "        text-align: right;\n",
       "    }\n",
       "</style>\n",
       "<table border=\"1\" class=\"dataframe\">\n",
       "  <thead>\n",
       "    <tr style=\"text-align: right;\">\n",
       "      <th></th>\n",
       "      <th>twista</th>\n",
       "      <th>type</th>\n",
       "      <th>id</th>\n",
       "      <th>user</th>\n",
       "      <th>created_at</th>\n",
       "      <th>recorded_at</th>\n",
       "      <th>source</th>\n",
       "      <th>retweets</th>\n",
       "      <th>favourites</th>\n",
       "      <th>lang</th>\n",
       "      <th>...</th>\n",
       "      <th>screen_name</th>\n",
       "      <th>location</th>\n",
       "      <th>description</th>\n",
       "      <th>url</th>\n",
       "      <th>verified</th>\n",
       "      <th>followers</th>\n",
       "      <th>friends</th>\n",
       "      <th>listed</th>\n",
       "      <th>statuses</th>\n",
       "      <th>refers_to</th>\n",
       "    </tr>\n",
       "  </thead>\n",
       "  <tbody>\n",
       "    <tr>\n",
       "      <th>0</th>\n",
       "      <td>0.3.4b1</td>\n",
       "      <td>status</td>\n",
       "      <td>1233850617996726274</td>\n",
       "      <td>759488216</td>\n",
       "      <td>2020-02-29T20:24:45+00:00</td>\n",
       "      <td>2020-02-29T20:24:59.835143+00:00</td>\n",
       "      <td>&lt;a href=\"http://twitter.com/download/iphone\" r...</td>\n",
       "      <td>0.0</td>\n",
       "      <td>0</td>\n",
       "      <td>de</td>\n",
       "      <td>...</td>\n",
       "      <td>NaN</td>\n",
       "      <td>NaN</td>\n",
       "      <td>NaN</td>\n",
       "      <td>NaN</td>\n",
       "      <td>NaN</td>\n",
       "      <td>NaN</td>\n",
       "      <td>NaN</td>\n",
       "      <td>NaN</td>\n",
       "      <td>NaN</td>\n",
       "      <td>NaN</td>\n",
       "    </tr>\n",
       "    <tr>\n",
       "      <th>1</th>\n",
       "      <td>0.3.4b1</td>\n",
       "      <td>status</td>\n",
       "      <td>1233364221188026370</td>\n",
       "      <td>114508061</td>\n",
       "      <td>2020-02-28T12:11:59+00:00</td>\n",
       "      <td>2020-03-01T11:09:17.015566+00:00</td>\n",
       "      <td>&lt;a href=\"http://www.sueddeutsche.de/\" rel=\"nof...</td>\n",
       "      <td>51.0</td>\n",
       "      <td>145</td>\n",
       "      <td>de</td>\n",
       "      <td>...</td>\n",
       "      <td>NaN</td>\n",
       "      <td>NaN</td>\n",
       "      <td>NaN</td>\n",
       "      <td>NaN</td>\n",
       "      <td>NaN</td>\n",
       "      <td>NaN</td>\n",
       "      <td>NaN</td>\n",
       "      <td>NaN</td>\n",
       "      <td>NaN</td>\n",
       "      <td>NaN</td>\n",
       "    </tr>\n",
       "    <tr>\n",
       "      <th>2</th>\n",
       "      <td>0.3.4b1</td>\n",
       "      <td>status</td>\n",
       "      <td>1233850617870913541</td>\n",
       "      <td>2902622080</td>\n",
       "      <td>2020-02-29T20:24:45+00:00</td>\n",
       "      <td>2020-02-29T20:24:59.839449+00:00</td>\n",
       "      <td>&lt;a href=\"http://www.playstation.com\" rel=\"nofo...</td>\n",
       "      <td>0.0</td>\n",
       "      <td>0</td>\n",
       "      <td>de</td>\n",
       "      <td>...</td>\n",
       "      <td>NaN</td>\n",
       "      <td>NaN</td>\n",
       "      <td>NaN</td>\n",
       "      <td>NaN</td>\n",
       "      <td>NaN</td>\n",
       "      <td>NaN</td>\n",
       "      <td>NaN</td>\n",
       "      <td>NaN</td>\n",
       "      <td>NaN</td>\n",
       "      <td>NaN</td>\n",
       "    </tr>\n",
       "    <tr>\n",
       "      <th>3</th>\n",
       "      <td>0.3.4b1</td>\n",
       "      <td>status</td>\n",
       "      <td>1233701038483542016</td>\n",
       "      <td>140410244</td>\n",
       "      <td>2020-02-29T10:30:23+00:00</td>\n",
       "      <td>2020-02-29T20:24:59.842019+00:00</td>\n",
       "      <td>&lt;a href=\"https://about.twitter.com/products/tw...</td>\n",
       "      <td>3.0</td>\n",
       "      <td>8</td>\n",
       "      <td>de</td>\n",
       "      <td>...</td>\n",
       "      <td>NaN</td>\n",
       "      <td>NaN</td>\n",
       "      <td>NaN</td>\n",
       "      <td>NaN</td>\n",
       "      <td>NaN</td>\n",
       "      <td>NaN</td>\n",
       "      <td>NaN</td>\n",
       "      <td>NaN</td>\n",
       "      <td>NaN</td>\n",
       "      <td>NaN</td>\n",
       "    </tr>\n",
       "    <tr>\n",
       "      <th>4</th>\n",
       "      <td>0.3.4b1</td>\n",
       "      <td>status</td>\n",
       "      <td>1233837417959952385</td>\n",
       "      <td>2335677408</td>\n",
       "      <td>2020-02-29T19:32:18+00:00</td>\n",
       "      <td>2020-03-01T11:42:05.807013+00:00</td>\n",
       "      <td>&lt;a href=\"https://mobile.twitter.com\" rel=\"nofo...</td>\n",
       "      <td>509.0</td>\n",
       "      <td>1773</td>\n",
       "      <td>de</td>\n",
       "      <td>...</td>\n",
       "      <td>NaN</td>\n",
       "      <td>NaN</td>\n",
       "      <td>NaN</td>\n",
       "      <td>NaN</td>\n",
       "      <td>NaN</td>\n",
       "      <td>NaN</td>\n",
       "      <td>NaN</td>\n",
       "      <td>NaN</td>\n",
       "      <td>NaN</td>\n",
       "      <td>NaN</td>\n",
       "    </tr>\n",
       "  </tbody>\n",
       "</table>\n",
       "<p>5 rows × 26 columns</p>\n",
       "</div>"
      ],
      "text/plain": [
       "    twista    type                   id        user  \\\n",
       "0  0.3.4b1  status  1233850617996726274   759488216   \n",
       "1  0.3.4b1  status  1233364221188026370   114508061   \n",
       "2  0.3.4b1  status  1233850617870913541  2902622080   \n",
       "3  0.3.4b1  status  1233701038483542016   140410244   \n",
       "4  0.3.4b1  status  1233837417959952385  2335677408   \n",
       "\n",
       "                  created_at                       recorded_at  \\\n",
       "0  2020-02-29T20:24:45+00:00  2020-02-29T20:24:59.835143+00:00   \n",
       "1  2020-02-28T12:11:59+00:00  2020-03-01T11:09:17.015566+00:00   \n",
       "2  2020-02-29T20:24:45+00:00  2020-02-29T20:24:59.839449+00:00   \n",
       "3  2020-02-29T10:30:23+00:00  2020-02-29T20:24:59.842019+00:00   \n",
       "4  2020-02-29T19:32:18+00:00  2020-03-01T11:42:05.807013+00:00   \n",
       "\n",
       "                                              source  retweets  favourites  \\\n",
       "0  <a href=\"http://twitter.com/download/iphone\" r...       0.0           0   \n",
       "1  <a href=\"http://www.sueddeutsche.de/\" rel=\"nof...      51.0         145   \n",
       "2  <a href=\"http://www.playstation.com\" rel=\"nofo...       0.0           0   \n",
       "3  <a href=\"https://about.twitter.com/products/tw...       3.0           8   \n",
       "4  <a href=\"https://mobile.twitter.com\" rel=\"nofo...     509.0        1773   \n",
       "\n",
       "  lang  ... screen_name location description  url verified followers friends  \\\n",
       "0   de  ...         NaN      NaN         NaN  NaN      NaN       NaN     NaN   \n",
       "1   de  ...         NaN      NaN         NaN  NaN      NaN       NaN     NaN   \n",
       "2   de  ...         NaN      NaN         NaN  NaN      NaN       NaN     NaN   \n",
       "3   de  ...         NaN      NaN         NaN  NaN      NaN       NaN     NaN   \n",
       "4   de  ...         NaN      NaN         NaN  NaN      NaN       NaN     NaN   \n",
       "\n",
       "  listed statuses refers_to  \n",
       "0    NaN      NaN       NaN  \n",
       "1    NaN      NaN       NaN  \n",
       "2    NaN      NaN       NaN  \n",
       "3    NaN      NaN       NaN  \n",
       "4    NaN      NaN       NaN  \n",
       "\n",
       "[5 rows x 26 columns]"
      ]
     },
     "execution_count": 10,
     "metadata": {},
     "output_type": "execute_result"
    }
   ],
   "source": [
    "twitter.head()"
   ]
  },
  {
   "cell_type": "markdown",
   "metadata": {},
   "source": [
    "Leider liefert die `head()` Funktion nicht die Größe des Datensatzes zurück. Wir wollen aber schließlich wissen, mit wie vielen unterschiedlichen Tweets wir rechnen können."
   ]
  },
  {
   "cell_type": "markdown",
   "metadata": {},
   "source": [
    "**Aufgabe: Wie viele Beispiele sind im `twitter` Datensatz enthalten?**"
   ]
  },
  {
   "cell_type": "code",
   "execution_count": 11,
   "metadata": {},
   "outputs": [
    {
     "data": {
      "application/vnd.jupyter.widget-view+json": {
       "model_id": "be79d58402414977a8aa0ff70035a638",
       "version_major": 2,
       "version_minor": 0
      },
      "text/plain": [
       "Output()"
      ]
     },
     "metadata": {},
     "output_type": "display_data"
    },
    {
     "data": {
      "application/vnd.jupyter.widget-view+json": {
       "model_id": "9a915c93eadc471fa5a503b4c89d8b4b",
       "version_major": 2,
       "version_minor": 0
      },
      "text/plain": [
       "Output()"
      ]
     },
     "metadata": {},
     "output_type": "display_data"
    },
    {
     "data": {
      "application/vnd.jupyter.widget-view+json": {
       "model_id": "9034c5ee2cc74d14887f0ce070bf6f0f",
       "version_major": 2,
       "version_minor": 0
      },
      "text/plain": [
       "Output()"
      ]
     },
     "metadata": {},
     "output_type": "display_data"
    }
   ],
   "source": [
    "#hideInput\n",
    "lm.show_task(221)"
   ]
  },
  {
   "cell_type": "code",
   "execution_count": 12,
   "metadata": {},
   "outputs": [
    {
     "data": {
      "text/plain": [
       "450004"
      ]
     },
     "execution_count": 12,
     "metadata": {},
     "output_type": "execute_result"
    }
   ],
   "source": [
    "#solution\n",
    "twitter.shape[0]"
   ]
  },
  {
   "cell_type": "markdown",
   "metadata": {},
   "source": [
    "**Aufgabe: Wie viele Werte liegen pro Beispiel vor? Aus wie vielen Merkmalen besteht der `twitter` Datensatz?**"
   ]
  },
  {
   "cell_type": "code",
   "execution_count": 13,
   "metadata": {},
   "outputs": [
    {
     "data": {
      "application/vnd.jupyter.widget-view+json": {
       "model_id": "3d0324c9f7ce4915b85da8f550de1eba",
       "version_major": 2,
       "version_minor": 0
      },
      "text/plain": [
       "Output()"
      ]
     },
     "metadata": {},
     "output_type": "display_data"
    },
    {
     "data": {
      "application/vnd.jupyter.widget-view+json": {
       "model_id": "81cd8021387d4b10b182d4456cb41007",
       "version_major": 2,
       "version_minor": 0
      },
      "text/plain": [
       "Output()"
      ]
     },
     "metadata": {},
     "output_type": "display_data"
    },
    {
     "data": {
      "application/vnd.jupyter.widget-view+json": {
       "model_id": "4ed248f70f0946c397d9ab314098eb00",
       "version_major": 2,
       "version_minor": 0
      },
      "text/plain": [
       "Output()"
      ]
     },
     "metadata": {},
     "output_type": "display_data"
    }
   ],
   "source": [
    "#hideInput\n",
    "lm.show_task(222)"
   ]
  },
  {
   "cell_type": "code",
   "execution_count": 14,
   "metadata": {},
   "outputs": [
    {
     "data": {
      "text/plain": [
       "26"
      ]
     },
     "execution_count": 14,
     "metadata": {},
     "output_type": "execute_result"
    }
   ],
   "source": [
    "#solution\n",
    "twitter.shape[1]"
   ]
  },
  {
   "cell_type": "markdown",
   "metadata": {},
   "source": [
    "Als erstes kümmern wir uns um die Aktualität der Daten."
   ]
  },
  {
   "cell_type": "markdown",
   "metadata": {},
   "source": [
    "**Aufgabe: Über welches Merkmal können wir Tweets identifizieren, die nicht die gewünschte Aktualität besitzen?**"
   ]
  },
  {
   "cell_type": "code",
   "execution_count": 15,
   "metadata": {},
   "outputs": [
    {
     "data": {
      "application/vnd.jupyter.widget-view+json": {
       "model_id": "299158bc5d9240b4b2ebb44de4ff8e56",
       "version_major": 2,
       "version_minor": 0
      },
      "text/plain": [
       "Output()"
      ]
     },
     "metadata": {},
     "output_type": "display_data"
    },
    {
     "data": {
      "application/vnd.jupyter.widget-view+json": {
       "model_id": "39b4a0aeb18646ceb8cc9555abcccfb1",
       "version_major": 2,
       "version_minor": 0
      },
      "text/plain": [
       "Output()"
      ]
     },
     "metadata": {},
     "output_type": "display_data"
    },
    {
     "data": {
      "application/vnd.jupyter.widget-view+json": {
       "model_id": "7762729b5ea1439283dd0d50dbaaf5ff",
       "version_major": 2,
       "version_minor": 0
      },
      "text/plain": [
       "Output()"
      ]
     },
     "metadata": {},
     "output_type": "display_data"
    }
   ],
   "source": [
    "#hideInput\n",
    "lm.show_task(223)"
   ]
  },
  {
   "cell_type": "code",
   "execution_count": 16,
   "metadata": {},
   "outputs": [
    {
     "data": {
      "text/plain": [
       "Index(['twista', 'type', 'id', 'user', 'created_at', 'recorded_at', 'source',\n",
       "       'retweets', 'favourites', 'lang', 'hashtags', 'urls', 'mentions',\n",
       "       'mentioned_ids', 'text', 'name', 'screen_name', 'location',\n",
       "       'description', 'url', 'verified', 'followers', 'friends', 'listed',\n",
       "       'statuses', 'refers_to'],\n",
       "      dtype='object')"
      ]
     },
     "execution_count": 16,
     "metadata": {},
     "output_type": "execute_result"
    }
   ],
   "source": [
    "#solution\n",
    "twitter.columns"
   ]
  },
  {
   "cell_type": "markdown",
   "metadata": {},
   "source": [
    "Aus welchen Jahren stammen unsere Tweets?"
   ]
  },
  {
   "cell_type": "code",
   "execution_count": 17,
   "metadata": {},
   "outputs": [
    {
     "data": {
      "image/png": "[encoded data removed]",
      "text/plain": [
       "<Figure size 432x288 with 1 Axes>"
      ]
     },
     "metadata": {
      "needs_background": "light"
     },
     "output_type": "display_data"
    }
   ],
   "source": [
    "twitter = vf.plot_tweets_per_year(twitter)"
   ]
  },
  {
   "cell_type": "markdown",
   "metadata": {},
   "source": [
    "Anscheinend enthält unser Datensatz veraltete Tweets. Da sich unsere Fragestellung auf aktuelle Inhalte bezieht, behalten wir lediglich Beispiele aus dem Jahr 2020."
   ]
  },
  {
   "cell_type": "code",
   "execution_count": 18,
   "metadata": {},
   "outputs": [],
   "source": [
    "twitter = twitter.loc[twitter['year'] == 2020]"
   ]
  },
  {
   "cell_type": "markdown",
   "metadata": {},
   "source": [
    "Als Nächstes kümmern wir uns um die Sprache, die einem jeden Tweet hinterlegt ist. Welche Sprachen sind vertreten?"
   ]
  },
  {
   "cell_type": "code",
   "execution_count": 19,
   "metadata": {},
   "outputs": [
    {
     "data": {
      "text/plain": [
       "array(['de', 'en', 'pt', 'in', 'es', 'it', 'fr', 'und', 'tr', 'ca', 'da',\n",
       "       'sl', 'pl', 'hi', 'nl', 'no', 'el', 'ru', 'fa', 'sv', 'et', 'cy',\n",
       "       'ro', 'tl', 'ja', 'ar', 'ht', 'th', 'fi', 'ko', 'vi', 'zh', 'is',\n",
       "       'hu', nan, 'cs', 'eu', 'lt', 'iw', 'ur', 'kn', 'lv'], dtype=object)"
      ]
     },
     "execution_count": 19,
     "metadata": {},
     "output_type": "execute_result"
    }
   ],
   "source": [
    "twitter['lang'].unique()"
   ]
  },
  {
   "cell_type": "markdown",
   "metadata": {},
   "source": [
    "Anscheinend enthält unser Datensatz verschiedenste Sprachen. Da sich unsere Fragestellung auf deutsche Inhalte bezieht, wählen wir lediglich Beispiele mit deutscher Kennung."
   ]
  },
  {
   "cell_type": "code",
   "execution_count": 20,
   "metadata": {},
   "outputs": [],
   "source": [
    "twitter = twitter.loc[twitter['lang'] == 'de']"
   ]
  },
  {
   "cell_type": "markdown",
   "metadata": {},
   "source": [
    "Nach einer ersten Filterung der Daten konzentrieren wir uns zum Abschluss auf die gewünschten Textbeiträge. Da unser Datensatz keine relevanten Metadaten enthält, extrahieren wir lediglich die Tweets vom DataFrame `twitter` in eine DataSeries `tweets` wie folgt:"
   ]
  },
  {
   "cell_type": "code",
   "execution_count": 21,
   "metadata": {},
   "outputs": [
    {
     "data": {
      "text/plain": [
       "0    a) Venezuela 2019\\nb) Deutschland während nCov...\n",
       "1    Assad und Putin wollen Erdoğan eine Lektion er...\n",
       "2    Ich hoff die Dinger kann ich a amol fahren und...\n",
       "3    Trotz aussichtsloser Lage der Wehrmacht ergebe...\n",
       "4    Mein Kommentar zur Causa Hopp für @derspiegel....\n",
       "Name: text, dtype: object"
      ]
     },
     "execution_count": 21,
     "metadata": {},
     "output_type": "execute_result"
    }
   ],
   "source": [
    "tweets = twitter['text']\n",
    "del twitter\n",
    "tweets.head()"
   ]
  },
  {
   "cell_type": "markdown",
   "metadata": {},
   "source": [
    "Beim Extrahieren der Tweets werden ausnahmslos alle Beispiele berücksichtigt. Das gilt auch für fehlende Tweets, die in der Menge an Beispielen untergegangen sind oder die aufgrund eines Fehlers keinen Inhalt besitzen. Diese fehlenden Daten werden von Pandas als `NaN` (Not a Number) annotiert."
   ]
  },
  {
   "cell_type": "markdown",
   "metadata": {},
   "source": [
    "**Aufgabe: Wie viele Werte fehlen im `tweets` Datensatz?**"
   ]
  },
  {
   "cell_type": "code",
   "execution_count": 22,
   "metadata": {},
   "outputs": [
    {
     "data": {
      "application/vnd.jupyter.widget-view+json": {
       "model_id": "bd7b0cefe8cc48f1a1c4557d330f11cd",
       "version_major": 2,
       "version_minor": 0
      },
      "text/plain": [
       "Output()"
      ]
     },
     "metadata": {},
     "output_type": "display_data"
    },
    {
     "data": {
      "application/vnd.jupyter.widget-view+json": {
       "model_id": "450a6005fc0d4c4daadedb3dccea3b61",
       "version_major": 2,
       "version_minor": 0
      },
      "text/plain": [
       "Output()"
      ]
     },
     "metadata": {},
     "output_type": "display_data"
    },
    {
     "data": {
      "application/vnd.jupyter.widget-view+json": {
       "model_id": "7b7dc43f705146df900e9ec823d988f1",
       "version_major": 2,
       "version_minor": 0
      },
      "text/plain": [
       "Output()"
      ]
     },
     "metadata": {},
     "output_type": "display_data"
    }
   ],
   "source": [
    "#hideInput\n",
    "lm.show_task(224)"
   ]
  },
  {
   "cell_type": "code",
   "execution_count": 23,
   "metadata": {},
   "outputs": [
    {
     "data": {
      "text/plain": [
       "103453"
      ]
     },
     "execution_count": 23,
     "metadata": {},
     "output_type": "execute_result"
    }
   ],
   "source": [
    "#solution\n",
    "tweets.isna().sum()"
   ]
  },
  {
   "cell_type": "markdown",
   "metadata": {},
   "source": [
    "Da fehlende Werte von den folgenden Schritten nicht verarbeitet werden können, entfernen wir sie wie folgt:"
   ]
  },
  {
   "cell_type": "code",
   "execution_count": 24,
   "metadata": {},
   "outputs": [],
   "source": [
    "tweets.dropna(inplace=True)"
   ]
  },
  {
   "cell_type": "markdown",
   "metadata": {},
   "source": [
    "Der Übersicht halber fügen wir ein frei erfundenes Beispiel an, um die Verarbeitungsschritte des nächsten Abschnittes besser nachvollziehen zu können.\n",
    "\n",
    "> ⚠️ Dieser Tweet enthält viele unnütze Zeichen 😟 die wir lieber verwerfen.\n",
    "> \n",
    "> Das wurde uns von @user unter https://example.org verraten #danke\n",
    "\n",
    "Diesen ausgedachten Tweet fügen wir wie folgt an unsere Daten an:"
   ]
  },
  {
   "cell_type": "code",
   "execution_count": 25,
   "metadata": {},
   "outputs": [],
   "source": [
    "example = 'Dieser Tweet enthält viele unnütze Zeichen 😟 die wir lieber verwerfen. \\n Das wurde uns von @user unter https://example.org verraten! #danke 🙂'\n",
    "tweets = tweets.append(pd.Series(example), ignore_index=True)"
   ]
  },
  {
   "cell_type": "markdown",
   "metadata": {},
   "source": [
    "Das war's auch schon mit der Erkundung der Daten. Bis jetzt haben wir lediglich fehlende Beispiele verworfen, nicht aber vorhandene Beispiele verändert. Bevor das passiert, behalten wir lieber eine Kopie der Daten als `tweets_copy` auf die wir im Verlauf des Lernmoduls noch zurückgreifen werden."
   ]
  },
  {
   "cell_type": "code",
   "execution_count": 26,
   "metadata": {},
   "outputs": [],
   "source": [
    "tweets_copy = tweets.copy()"
   ]
  },
  {
   "cell_type": "markdown",
   "metadata": {},
   "source": [
    "**Aufgabe: Wozu kann eine solche Kopie gut sein?**"
   ]
  },
  {
   "cell_type": "code",
   "execution_count": 27,
   "metadata": {},
   "outputs": [
    {
     "data": {
      "application/vnd.jupyter.widget-view+json": {
       "model_id": "ad31eeda5bf8413c8bbfde958b66288b",
       "version_major": 2,
       "version_minor": 0
      },
      "text/plain": [
       "Output()"
      ]
     },
     "metadata": {},
     "output_type": "display_data"
    },
    {
     "data": {
      "application/vnd.jupyter.widget-view+json": {
       "model_id": "38019aca0df44e7c8fea06d0466f4e20",
       "version_major": 2,
       "version_minor": 0
      },
      "text/plain": [
       "Output()"
      ]
     },
     "metadata": {},
     "output_type": "display_data"
    },
    {
     "data": {
      "application/vnd.jupyter.widget-view+json": {
       "model_id": "3dc234119a99400b91de804da280d0a5",
       "version_major": 2,
       "version_minor": 0
      },
      "text/plain": [
       "Output()"
      ]
     },
     "metadata": {},
     "output_type": "display_data"
    }
   ],
   "source": [
    "#hideInput\n",
    "lm.show_task(225)"
   ]
  },
  {
   "cell_type": "markdown",
   "metadata": {},
   "source": [
    "### 2.3 Textdaten aufbereiten"
   ]
  },
  {
   "cell_type": "markdown",
   "metadata": {},
   "source": [
    "Innerhalb der Datenaufbereitung werden wir jeden Tweet anhand seiner Bestandteile (bspw. Zeichen, Wörter) und Eigenschaften (bspw. Länge) verarbeiten. Exemplarische Verarbeitungsschritte wurden bereits zu [Anfang](#2.-Daten) dieses Kapitels visualisiert. Aber schauen wir uns erst einmal das eben angefügte Beispiel an."
   ]
  },
  {
   "cell_type": "markdown",
   "metadata": {},
   "source": [
    "**Aufgabe: Mit welchem Befehl kommen wir zum letzten Tweet im `tweets` Datensatz?**"
   ]
  },
  {
   "cell_type": "code",
   "execution_count": 28,
   "metadata": {},
   "outputs": [
    {
     "data": {
      "application/vnd.jupyter.widget-view+json": {
       "model_id": "527861c9e69745708d0d1747a80ec9bd",
       "version_major": 2,
       "version_minor": 0
      },
      "text/plain": [
       "Output()"
      ]
     },
     "metadata": {},
     "output_type": "display_data"
    },
    {
     "data": {
      "application/vnd.jupyter.widget-view+json": {
       "model_id": "fffdd53d88024a8eb20eefdf9b11264c",
       "version_major": 2,
       "version_minor": 0
      },
      "text/plain": [
       "Output()"
      ]
     },
     "metadata": {},
     "output_type": "display_data"
    },
    {
     "data": {
      "application/vnd.jupyter.widget-view+json": {
       "model_id": "5c8dc08535b444a28c18c5eb0d9f969c",
       "version_major": 2,
       "version_minor": 0
      },
      "text/plain": [
       "Output()"
      ]
     },
     "metadata": {},
     "output_type": "display_data"
    }
   ],
   "source": [
    "#hideInput\n",
    "lm.show_task(231)"
   ]
  },
  {
   "cell_type": "code",
   "execution_count": 29,
   "metadata": {},
   "outputs": [
    {
     "data": {
      "text/plain": [
       "'Dieser Tweet enthält viele unnütze Zeichen 😟 die wir lieber verwerfen. \\n Das wurde uns von @user unter https://example.org verraten! #danke 🙂'"
      ]
     },
     "execution_count": 29,
     "metadata": {},
     "output_type": "execute_result"
    }
   ],
   "source": [
    "#solution\n",
    "tweets.iloc[-1]"
   ]
  },
  {
   "cell_type": "markdown",
   "metadata": {},
   "source": [
    "Leider enthält unser ausgedachter Tweet allerhand Elemente, die wir gesondert behandeln müssen."
   ]
  },
  {
   "cell_type": "markdown",
   "metadata": {},
   "source": [
    "#### 2.3.1 Zeichen bereinigen"
   ]
  },
  {
   "cell_type": "markdown",
   "metadata": {},
   "source": [
    "**Aufgabe: Welche Elemente befinden sich letzten Tweet, die wir verarbeiten müssen?**"
   ]
  },
  {
   "cell_type": "code",
   "execution_count": 30,
   "metadata": {},
   "outputs": [
    {
     "data": {
      "application/vnd.jupyter.widget-view+json": {
       "model_id": "a764a5db20d64a7b86e67ede4860ba8a",
       "version_major": 2,
       "version_minor": 0
      },
      "text/plain": [
       "Output()"
      ]
     },
     "metadata": {},
     "output_type": "display_data"
    },
    {
     "data": {
      "application/vnd.jupyter.widget-view+json": {
       "model_id": "ebd676b497434f95a08a8c2b200ac45c",
       "version_major": 2,
       "version_minor": 0
      },
      "text/plain": [
       "Output()"
      ]
     },
     "metadata": {},
     "output_type": "display_data"
    },
    {
     "data": {
      "application/vnd.jupyter.widget-view+json": {
       "model_id": "1a3ad70a3e4942548278eef43e739e58",
       "version_major": 2,
       "version_minor": 0
      },
      "text/plain": [
       "Output()"
      ]
     },
     "metadata": {},
     "output_type": "display_data"
    }
   ],
   "source": [
    "#hideInput\n",
    "lm.show_task(232)"
   ]
  },
  {
   "cell_type": "markdown",
   "metadata": {},
   "source": [
    "Fangen wir mit den Emojis an. Diese werden über die `process_emojis()` Funktion wie folgt verarbeitet:"
   ]
  },
  {
   "cell_type": "code",
   "execution_count": 31,
   "metadata": {},
   "outputs": [],
   "source": [
    "tweets = df.process_emojis(tweets)"
   ]
  },
  {
   "cell_type": "markdown",
   "metadata": {},
   "source": [
    "**Aufgabe: Die `process_emojis()` Funktion kümmert sich um ausgewählte Emojis. Was passiert mit ihnen?**"
   ]
  },
  {
   "cell_type": "code",
   "execution_count": 32,
   "metadata": {},
   "outputs": [
    {
     "data": {
      "application/vnd.jupyter.widget-view+json": {
       "model_id": "2e056bee32ef4db4b199265c1e916689",
       "version_major": 2,
       "version_minor": 0
      },
      "text/plain": [
       "Output()"
      ]
     },
     "metadata": {},
     "output_type": "display_data"
    },
    {
     "data": {
      "application/vnd.jupyter.widget-view+json": {
       "model_id": "4d0fc46c0206485fb80d64c08bd60511",
       "version_major": 2,
       "version_minor": 0
      },
      "text/plain": [
       "Output()"
      ]
     },
     "metadata": {},
     "output_type": "display_data"
    },
    {
     "data": {
      "application/vnd.jupyter.widget-view+json": {
       "model_id": "5f9136a8e97c43c6a63134323268d345",
       "version_major": 2,
       "version_minor": 0
      },
      "text/plain": [
       "Output()"
      ]
     },
     "metadata": {},
     "output_type": "display_data"
    }
   ],
   "source": [
    "#hideInput\n",
    "lm.show_task(233)"
   ]
  },
  {
   "cell_type": "code",
   "execution_count": 33,
   "metadata": {},
   "outputs": [
    {
     "data": {
      "text/plain": [
       "'Dieser Tweet enthält viele unnütze Zeichen schlecht die wir lieber verwerfen. \\n Das wurde uns von @user unter https://example.org verraten! #danke gut'"
      ]
     },
     "execution_count": 33,
     "metadata": {},
     "output_type": "execute_result"
    }
   ],
   "source": [
    "#solution\n",
    "tweets.iloc[-1]"
   ]
  },
  {
   "cell_type": "markdown",
   "metadata": {},
   "source": [
    "Nun können wir spezielle Zeichenketten, wie die URL _https://example.org_ verarbeiten. Zusätzlich werden über die `process_strings()` Funktion Sonderzeichen wie _@_ und _\\n_ wie folgt behandelt:"
   ]
  },
  {
   "cell_type": "code",
   "execution_count": 34,
   "metadata": {},
   "outputs": [],
   "source": [
    "tweets = df.process_strings(tweets)"
   ]
  },
  {
   "cell_type": "markdown",
   "metadata": {},
   "source": [
    "**Aufgabe: Die `process_strings()` Funktion kümmert sich um spezielle Zeichenketten. Was passiert mit ihnen?**"
   ]
  },
  {
   "cell_type": "code",
   "execution_count": 35,
   "metadata": {},
   "outputs": [
    {
     "data": {
      "application/vnd.jupyter.widget-view+json": {
       "model_id": "2f82277ee6274fc395c74ee605dcd6c6",
       "version_major": 2,
       "version_minor": 0
      },
      "text/plain": [
       "Output()"
      ]
     },
     "metadata": {},
     "output_type": "display_data"
    },
    {
     "data": {
      "application/vnd.jupyter.widget-view+json": {
       "model_id": "12326dd19fbf442e9bcea40d0d36232f",
       "version_major": 2,
       "version_minor": 0
      },
      "text/plain": [
       "Output()"
      ]
     },
     "metadata": {},
     "output_type": "display_data"
    },
    {
     "data": {
      "application/vnd.jupyter.widget-view+json": {
       "model_id": "b3517e24b64741f89b7f225d47d68282",
       "version_major": 2,
       "version_minor": 0
      },
      "text/plain": [
       "Output()"
      ]
     },
     "metadata": {},
     "output_type": "display_data"
    }
   ],
   "source": [
    "#hideInput\n",
    "lm.show_task(234)"
   ]
  },
  {
   "cell_type": "code",
   "execution_count": 36,
   "metadata": {},
   "outputs": [
    {
     "data": {
      "text/plain": [
       "'Dieser Tweet enthält viele unnütze Zeichen schlecht die wir lieber verwerfen.  Das wurde uns von  unter  verraten! #danke gut'"
      ]
     },
     "execution_count": 36,
     "metadata": {},
     "output_type": "execute_result"
    }
   ],
   "source": [
    "#solution\n",
    "tweets.iloc[-1]"
   ]
  },
  {
   "cell_type": "markdown",
   "metadata": {},
   "source": [
    "Als letztes kümmern wir uns um verbleibende Symbole (bspw. Satzzeichen) über die `process_symbols()` Funktion wie folgt:"
   ]
  },
  {
   "cell_type": "code",
   "execution_count": 37,
   "metadata": {},
   "outputs": [],
   "source": [
    "tweets = df.process_symbols(tweets)"
   ]
  },
  {
   "cell_type": "markdown",
   "metadata": {},
   "source": [
    "**Aufgabe: Die `process_symbols()` Funktion kümmert sich generell um Sonderzeichen. Was passiert mit ihnen?**"
   ]
  },
  {
   "cell_type": "code",
   "execution_count": 38,
   "metadata": {},
   "outputs": [
    {
     "data": {
      "application/vnd.jupyter.widget-view+json": {
       "model_id": "940f2f6e86aa422788cbc57645350d7f",
       "version_major": 2,
       "version_minor": 0
      },
      "text/plain": [
       "Output()"
      ]
     },
     "metadata": {},
     "output_type": "display_data"
    },
    {
     "data": {
      "application/vnd.jupyter.widget-view+json": {
       "model_id": "b36cf2620b214d88b239db221e68af66",
       "version_major": 2,
       "version_minor": 0
      },
      "text/plain": [
       "Output()"
      ]
     },
     "metadata": {},
     "output_type": "display_data"
    },
    {
     "data": {
      "application/vnd.jupyter.widget-view+json": {
       "model_id": "334a9a9bbecf4707a7bf55db0f971332",
       "version_major": 2,
       "version_minor": 0
      },
      "text/plain": [
       "Output()"
      ]
     },
     "metadata": {},
     "output_type": "display_data"
    }
   ],
   "source": [
    "#hideInput\n",
    "lm.show_task(235)"
   ]
  },
  {
   "cell_type": "code",
   "execution_count": 39,
   "metadata": {},
   "outputs": [
    {
     "data": {
      "text/plain": [
       "'Dieser Tweet enthält viele unnütze Zeichen schlecht die wir lieber verwerfen  Das wurde uns von  unter  verraten danke gut'"
      ]
     },
     "execution_count": 39,
     "metadata": {},
     "output_type": "execute_result"
    }
   ],
   "source": [
    "#solution\n",
    "tweets.iloc[-1]"
   ]
  },
  {
   "cell_type": "markdown",
   "metadata": {},
   "source": [
    "#### 2.3.2 Wörter bereinigen"
   ]
  },
  {
   "cell_type": "markdown",
   "metadata": {},
   "source": [
    "Nach der Bereinigung von Zeichen im vorherigen Abschnitt bleiben lediglich ganze Wörter übrig. Jetzt können wir jeden Tweet in seine Bestandteile zerlegen. Dieser Schritt geht mit der Funktionsweise eines [Tokenizer](https://de.wikipedia.org/wiki/Tokenizer) einher, welcher lediglich den kompletten Tweet in einzelne Token, also Wörter, aufteilt. Diese lassen sich besser verarbeiten, als ein ganzer Satz.\n",
    "\n",
    "Die Zerteilung der Zeichenkette bringt uns eine Liste von Wörtern innerhalb eines Tweets. Dabei werden alle Wörter zusätzlich in Kleinschreibung abgebildet."
   ]
  },
  {
   "cell_type": "code",
   "execution_count": 40,
   "metadata": {},
   "outputs": [
    {
     "data": {
      "text/plain": [
       "['dieser',\n",
       " 'tweet',\n",
       " 'enthält',\n",
       " 'viele',\n",
       " 'unnütze',\n",
       " 'zeichen',\n",
       " 'schlecht',\n",
       " 'die',\n",
       " 'wir',\n",
       " 'lieber',\n",
       " 'verwerfen',\n",
       " 'das',\n",
       " 'wurde',\n",
       " 'uns',\n",
       " 'von',\n",
       " 'unter',\n",
       " 'verraten',\n",
       " 'danke',\n",
       " 'gut']"
      ]
     },
     "execution_count": 40,
     "metadata": {},
     "output_type": "execute_result"
    }
   ],
   "source": [
    "tweets = tweets.apply(str.lower).apply(str.split)\n",
    "tweets.iloc[-1]"
   ]
  },
  {
   "cell_type": "markdown",
   "metadata": {},
   "source": [
    "Jetzt besteht jeder Tweet nicht mehr nur aus einer Zeichenkette, sondern aus mehreren Wörtern. Aus Analysegründen fassen wir alle Wörter zu einer großen Sammlung unter `all_words` zusammen, was die `aggregate_words()` Funktion wie folgt umsetzt:"
   ]
  },
  {
   "cell_type": "code",
   "execution_count": 41,
   "metadata": {},
   "outputs": [],
   "source": [
    "def aggregate_words(tweets):\n",
    "    \"\"\"Aggregate words from tweets\"\"\"\n",
    "    \n",
    "    all_words = []\n",
    "    for sentence in tweets:\n",
    "        for word in sentence:\n",
    "            all_words.append(word)\n",
    "            \n",
    "    return all_words"
   ]
  },
  {
   "cell_type": "code",
   "execution_count": 42,
   "metadata": {},
   "outputs": [],
   "source": [
    "all_words = aggregate_words(tweets)"
   ]
  },
  {
   "cell_type": "markdown",
   "metadata": {},
   "source": [
    "**Aufgabe: Eine Sammlung aller Wörter findet sich in der `all_words` Liste. Wie viele unterschiedliche Wörter sind getweetet worden?**"
   ]
  },
  {
   "cell_type": "code",
   "execution_count": 43,
   "metadata": {},
   "outputs": [
    {
     "data": {
      "application/vnd.jupyter.widget-view+json": {
       "model_id": "99096920bb6946208837b3e5a874e3b3",
       "version_major": 2,
       "version_minor": 0
      },
      "text/plain": [
       "Output()"
      ]
     },
     "metadata": {},
     "output_type": "display_data"
    },
    {
     "data": {
      "application/vnd.jupyter.widget-view+json": {
       "model_id": "52ac5ca0b73b4b65be77c20ebfc2fbb0",
       "version_major": 2,
       "version_minor": 0
      },
      "text/plain": [
       "Output()"
      ]
     },
     "metadata": {},
     "output_type": "display_data"
    },
    {
     "data": {
      "application/vnd.jupyter.widget-view+json": {
       "model_id": "afe969ce4e5b41a89c30c5f2614779fa",
       "version_major": 2,
       "version_minor": 0
      },
      "text/plain": [
       "Output()"
      ]
     },
     "metadata": {},
     "output_type": "display_data"
    }
   ],
   "source": [
    "#hideInput\n",
    "lm.show_task(236)"
   ]
  },
  {
   "cell_type": "code",
   "execution_count": 44,
   "metadata": {},
   "outputs": [
    {
     "data": {
      "text/plain": [
       "234374"
      ]
     },
     "execution_count": 44,
     "metadata": {},
     "output_type": "execute_result"
    }
   ],
   "source": [
    "#solution\n",
    "len(pd.Series(all_words).unique())"
   ]
  },
  {
   "cell_type": "markdown",
   "metadata": {},
   "source": [
    "Nachdem wir alle Wörter gesammelt haben, interessieren uns die beliebtesten Wörter der Tweeter. An dieser Stelle greifen wir auf das Natural Language Toolkit ([NLTK](https://www.nltk.org/)) zurück, welches eine Häufigkeitsverteilung einer Liste über die `FreqDist()` Funktion wie folgt erstellt:"
   ]
  },
  {
   "cell_type": "code",
   "execution_count": 45,
   "metadata": {},
   "outputs": [],
   "source": [
    "from nltk.probability import FreqDist\n",
    "fd = FreqDist(all_words)"
   ]
  },
  {
   "cell_type": "markdown",
   "metadata": {},
   "source": [
    "**Aufgabe: Die `fd` Verteilung basiert auf allen getweeteten Wörtern. Wie lauten die drei häufigsten Wörter?**"
   ]
  },
  {
   "cell_type": "code",
   "execution_count": 46,
   "metadata": {},
   "outputs": [
    {
     "data": {
      "application/vnd.jupyter.widget-view+json": {
       "model_id": "4f11c30a9d1047a484464f9d6a447f8a",
       "version_major": 2,
       "version_minor": 0
      },
      "text/plain": [
       "Output()"
      ]
     },
     "metadata": {},
     "output_type": "display_data"
    },
    {
     "data": {
      "application/vnd.jupyter.widget-view+json": {
       "model_id": "6df4868ae13c42169a0dbe8ecdca2c19",
       "version_major": 2,
       "version_minor": 0
      },
      "text/plain": [
       "Output()"
      ]
     },
     "metadata": {},
     "output_type": "display_data"
    },
    {
     "data": {
      "application/vnd.jupyter.widget-view+json": {
       "model_id": "b90c4c4c02e447a7bda4340c34626956",
       "version_major": 2,
       "version_minor": 0
      },
      "text/plain": [
       "Output()"
      ]
     },
     "metadata": {},
     "output_type": "display_data"
    }
   ],
   "source": [
    "#hideInput\n",
    "lm.show_task(237)"
   ]
  },
  {
   "cell_type": "code",
   "execution_count": 47,
   "metadata": {},
   "outputs": [
    {
     "data": {
      "text/plain": [
       "[('die', 62100), ('und', 53769), ('der', 45437)]"
      ]
     },
     "execution_count": 47,
     "metadata": {},
     "output_type": "execute_result"
    }
   ],
   "source": [
    "#solution\n",
    "fd.most_common(3)"
   ]
  },
  {
   "cell_type": "markdown",
   "metadata": {},
   "source": [
    "Es ist nicht überraschend, dass sich Artikel, Pronomen oder Konjunktionen als die häufigsten Wörter entpuppen. Schauen wir also etwas genauer hin und betrachten die 30 beliebtesten Wörter wie folgt:"
   ]
  },
  {
   "cell_type": "code",
   "execution_count": 48,
   "metadata": {},
   "outputs": [
    {
     "data": {
      "image/png": "[encoded data removed]",
      "text/plain": [
       "<Figure size 432x288 with 1 Axes>"
      ]
     },
     "metadata": {
      "needs_background": "light"
     },
     "output_type": "display_data"
    },
    {
     "data": {
      "text/plain": [
       "<matplotlib.axes._subplots.AxesSubplot at 0x2b4a28724e0>"
      ]
     },
     "execution_count": 48,
     "metadata": {},
     "output_type": "execute_result"
    }
   ],
   "source": [
    "fd.plot(30)"
   ]
  },
  {
   "cell_type": "markdown",
   "metadata": {},
   "source": [
    "Auch hier scheinen Artikel, Pronomen und Konjunktionen stark vertreten zu sein. Das bringt uns zu der Frage, welchen Inhalt bzw. welche Stimmung diese Wörter eigentlich kommunizieren?\n",
    "\n",
    "Jene Wörter, werden im Kontext des _NLP_ als Stoppwörter bezeichnet, da sie keine Wertung implizieren, wie es ein Adjektiv (bspw. gut, schlecht) tun würde. Stoppwörter lassen sich daher ähnlich wie das Rauschen aus einer Nachricht (hier: Tweet) entfernen, ohne dass die Information (hier: Stimmung) dieser Nachricht verloren geht.\n",
    "\n",
    "Wir werden also im folgenden Schritt alle Stoppwörter entfernen. Um sie zu identifizieren, importieren wir sie über die `load_stop_words()` Funktion in eine Liste `stop_words` wie folgt:"
   ]
  },
  {
   "cell_type": "code",
   "execution_count": 49,
   "metadata": {},
   "outputs": [
    {
     "data": {
      "text/plain": [
       "array(['der', 'die', 'das', 'ein', 'eine', 'einer', 'einen', 'ich', 'du',\n",
       "       'er', 'sie', 'es', 'wir', 'ihr', 'sie', 'bin', 'bist', 'ist',\n",
       "       'sind', 'seid', 'und', 'oder', 'doch', 'aber', 'an', 'am', 'in',\n",
       "       'von', 'vor'], dtype=object)"
      ]
     },
     "execution_count": 49,
     "metadata": {},
     "output_type": "execute_result"
    }
   ],
   "source": [
    "stop_words = df.load_stop_words()\n",
    "stop_words.Wort.values"
   ]
  },
  {
   "cell_type": "markdown",
   "metadata": {},
   "source": [
    "Hätte man lediglich die meist genutzten Wörter aus der `fd` Verteilung genommen, wäre man Gefahr gelaufen, relevante Wörter (bspw. schön), ebenfalls zu entfernen.\n",
    "\n",
    "Bevor wir alle Stoppwörter aus den Tweets entfernen, fragen wir uns aber erstmal, um wie viel Prozent wir unseres Datensatzes dadurch verkleinern würden? Dies lässt sich über die `stop_words_ratio()` Funktion wie folgt berechnen:"
   ]
  },
  {
   "cell_type": "code",
   "execution_count": 50,
   "metadata": {},
   "outputs": [],
   "source": [
    "def stop_words_ratio(text):\n",
    "    \"\"\"Count stopwords in tweets\"\"\"\n",
    "    \n",
    "    stop_words_list = stop_words['Wort'].values.tolist()\n",
    "    content = [word for word in text if word not in stop_words_list]\n",
    "    \n",
    "    return 1 - len(content) / len(text)"
   ]
  },
  {
   "cell_type": "code",
   "execution_count": 51,
   "metadata": {},
   "outputs": [
    {
     "data": {
      "text/plain": [
       "0.18109516308881501"
      ]
     },
     "execution_count": 51,
     "metadata": {},
     "output_type": "execute_result"
    }
   ],
   "source": [
    "stop_words_ratio(all_words)"
   ]
  },
  {
   "cell_type": "markdown",
   "metadata": {},
   "source": [
    "Dieser Verlust klingt verkraftbar, da wir im Umkehrschluss die Datenmenge \"verlustlos\" verringern, was sich beschleunigend auf die weiteren Schritte auswirkt. Um die Stoppwörter endgültig aus unseren Tweets zu entfernen, werfen wir die `filter_tokens()` Funktion wie folgt an."
   ]
  },
  {
   "cell_type": "code",
   "execution_count": 52,
   "metadata": {},
   "outputs": [],
   "source": [
    "def filter_tokens(tweets):\n",
    "    \"\"\"Filter tokens in tweets\"\"\"\n",
    "    \n",
    "    row_list = []\n",
    "    stop_words_list = stop_words['Wort'].values.tolist()  \n",
    "    for row in tweets:\n",
    "        \n",
    "        token_list = []\n",
    "        for token in row:\n",
    "            \n",
    "            if token not in stop_words_list:\n",
    "                if len(token) > 1:\n",
    "                    token_list.append(token)\n",
    "                    \n",
    "        row_list.append(token_list)\n",
    "    \n",
    "    return pd.Series(row_list)"
   ]
  },
  {
   "cell_type": "code",
   "execution_count": 53,
   "metadata": {},
   "outputs": [
    {
     "data": {
      "text/plain": [
       "0    [venezuela, deutschland, während, ncovc, nk, i...\n",
       "1    [assad, putin, wollen, erdoan, lektion, erteil...\n",
       "2    [hoff, dinger, kann, amol, fahren, können, meh...\n",
       "3    [trotz, aussichtsloser, lage, wehrmacht, ergeb...\n",
       "4             [mein, kommentar, zur, causa, hopp, für]\n",
       "dtype: object"
      ]
     },
     "execution_count": 53,
     "metadata": {},
     "output_type": "execute_result"
    }
   ],
   "source": [
    "tweets = filter_tokens(tweets)\n",
    "tweets.head()"
   ]
  },
  {
   "cell_type": "markdown",
   "metadata": {},
   "source": [
    "Damit ist unsere Sammlung von Wörter nicht mehr aktuell. Der Einfachheit halber sammeln wir sie erneut über die `aggregate_words()` Funktion."
   ]
  },
  {
   "cell_type": "code",
   "execution_count": 54,
   "metadata": {},
   "outputs": [],
   "source": [
    "all_words = aggregate_words(tweets)"
   ]
  },
  {
   "cell_type": "markdown",
   "metadata": {},
   "source": [
    "Nun können wir eine Aussage darüber treffen, welche Wörter mit Ausnahme der Stoppwörter am häufigsten verwendet werden? Dazu ließe sich wiederum die `FreqDist()` Funktion nutzen. \n",
    "\n",
    "Alternativ zur bereits bekannten Häufigkeitsverteilung lassen sich im Kontext des _NLP_ sog. Schlagwortwolken visualisieren. An dieser Stelle greifen wir auf die [WordCloud](https://amueller.github.io/word_cloud/) Bibliothek wie folgt zurück:"
   ]
  },
  {
   "cell_type": "code",
   "execution_count": 55,
   "metadata": {},
   "outputs": [],
   "source": [
    "from wordcloud import WordCloud\n",
    "wc = WordCloud()"
   ]
  },
  {
   "cell_type": "markdown",
   "metadata": {},
   "source": [
    "Wie sehen nun die häufigsten Wörter aus?"
   ]
  },
  {
   "cell_type": "code",
   "execution_count": 56,
   "metadata": {},
   "outputs": [
    {
     "data": {
      "image/png": "[encoded data removed]",
      "text/plain": [
       "<Figure size 432x288 with 1 Axes>"
      ]
     },
     "metadata": {
      "needs_background": "light"
     },
     "output_type": "display_data"
    }
   ],
   "source": [
    "most_common_words = wc.generate_from_frequencies(FreqDist(all_words))\n",
    "del all_words\n",
    "vf.plot_image(most_common_words, 'Die häufigsten Wörter')"
   ]
  },
  {
   "cell_type": "markdown",
   "metadata": {},
   "source": [
    "#### 2.3.3 Tweets bereinigen"
   ]
  },
  {
   "cell_type": "markdown",
   "metadata": {},
   "source": [
    "Da uns der vergangene Abschnitt einige Wörter gekostet hat, wie die `stop_words_ration()` Funktion verriet, wollen wir nun verbliebenen Wörter pro Tweet zählen. Ein Tweet, der nur noch wenige Wörter lang ist, verkörpert keine qualitativen Daten mehr. Da Twitter kein Zeichenminimum pro Tweet setzt, kann unser Datensatz auch Tweets enthalten, die wenig bis gar keinen Inhalt repräsentieren. Um solche Tweets zu identifizieren berechnen wir die Wortlänge aller Tweets wie folgt:"
   ]
  },
  {
   "cell_type": "code",
   "execution_count": 57,
   "metadata": {},
   "outputs": [],
   "source": [
    "tweets_length = [len(tweet) for tweet in tweets]"
   ]
  },
  {
   "cell_type": "markdown",
   "metadata": {},
   "source": [
    "**Aufgabe: Die `tweets_length` Liste enthält die Anzahl aller Wörter eines Tweet. Wie viele Wörter besitzt der kürzeste Tweet im Datensatz?**"
   ]
  },
  {
   "cell_type": "code",
   "execution_count": 58,
   "metadata": {},
   "outputs": [
    {
     "data": {
      "application/vnd.jupyter.widget-view+json": {
       "model_id": "d1038aa24a2e47439e82e03d9222ccb5",
       "version_major": 2,
       "version_minor": 0
      },
      "text/plain": [
       "Output()"
      ]
     },
     "metadata": {},
     "output_type": "display_data"
    },
    {
     "data": {
      "application/vnd.jupyter.widget-view+json": {
       "model_id": "6a5553a9fe40410d84e2fa53c06d402b",
       "version_major": 2,
       "version_minor": 0
      },
      "text/plain": [
       "Output()"
      ]
     },
     "metadata": {},
     "output_type": "display_data"
    },
    {
     "data": {
      "application/vnd.jupyter.widget-view+json": {
       "model_id": "0db9194673d44b9dbe419f2c3ad706e6",
       "version_major": 2,
       "version_minor": 0
      },
      "text/plain": [
       "Output()"
      ]
     },
     "metadata": {},
     "output_type": "display_data"
    }
   ],
   "source": [
    "#hideInput\n",
    "lm.show_task(238)"
   ]
  },
  {
   "cell_type": "code",
   "execution_count": 59,
   "metadata": {},
   "outputs": [
    {
     "data": {
      "text/plain": [
       "0"
      ]
     },
     "execution_count": 59,
     "metadata": {},
     "output_type": "execute_result"
    }
   ],
   "source": [
    "#solution\n",
    "min(tweets_length)"
   ]
  },
  {
   "cell_type": "markdown",
   "metadata": {},
   "source": [
    "Hoffentlich handelt es sich um einen Ausreißer. Das verifizieren wir wiederum mit einer Häufigkeitsverteilung. Dieses Mal aber als einfaches Histogramm über die `plot_tweets_per_length()` Funktion:"
   ]
  },
  {
   "cell_type": "code",
   "execution_count": 60,
   "metadata": {},
   "outputs": [
    {
     "data": {
      "image/png": "[encoded data removed]",
      "text/plain": [
       "<Figure size 432x288 with 1 Axes>"
      ]
     },
     "metadata": {
      "needs_background": "light"
     },
     "output_type": "display_data"
    }
   ],
   "source": [
    "vf.plot_tweets_per_length(tweets_length)"
   ]
  },
  {
   "cell_type": "markdown",
   "metadata": {},
   "source": [
    "Die meisten Tweets scheinen nach Entfernen der Stoppwörter nur noch wenige Wörter lang zu sein. Wir behalten lediglich Tweets, die zwei oder mehr Wörter beinhalten."
   ]
  },
  {
   "cell_type": "code",
   "execution_count": 61,
   "metadata": {},
   "outputs": [],
   "source": [
    "tweets = tweets[tweets.map(len) > 2]"
   ]
  },
  {
   "cell_type": "markdown",
   "metadata": {},
   "source": [
    "Zeit für ein Status Quo: wie groß sind unsere Verluste nach Bereinigen von Zeichen, Wörtern und zu kurz geratenen Tweets?"
   ]
  },
  {
   "cell_type": "markdown",
   "metadata": {},
   "source": [
    "**Aufgabe: Wie viel Prozent bleiben nach Aufbereitung der Daten im Vergleich zu den ursprünglichen Tweets übrig?**"
   ]
  },
  {
   "cell_type": "code",
   "execution_count": 62,
   "metadata": {},
   "outputs": [
    {
     "data": {
      "application/vnd.jupyter.widget-view+json": {
       "model_id": "e29c743b10ee40d293c5e3e15ec454d7",
       "version_major": 2,
       "version_minor": 0
      },
      "text/plain": [
       "Output()"
      ]
     },
     "metadata": {},
     "output_type": "display_data"
    },
    {
     "data": {
      "application/vnd.jupyter.widget-view+json": {
       "model_id": "6f59fb03a17a44e3bb7e2a51e67d4050",
       "version_major": 2,
       "version_minor": 0
      },
      "text/plain": [
       "Output()"
      ]
     },
     "metadata": {},
     "output_type": "display_data"
    },
    {
     "data": {
      "application/vnd.jupyter.widget-view+json": {
       "model_id": "1669ca16f21647e5929297e716ff9fdb",
       "version_major": 2,
       "version_minor": 0
      },
      "text/plain": [
       "Output()"
      ]
     },
     "metadata": {},
     "output_type": "display_data"
    }
   ],
   "source": [
    "#hideInput\n",
    "lm.show_task(239)"
   ]
  },
  {
   "cell_type": "code",
   "execution_count": 63,
   "metadata": {},
   "outputs": [
    {
     "data": {
      "text/plain": [
       "0.8811608786197849"
      ]
     },
     "execution_count": 63,
     "metadata": {},
     "output_type": "execute_result"
    }
   ],
   "source": [
    "#solution\n",
    "tweets.size / tweets_copy.size"
   ]
  },
  {
   "cell_type": "markdown",
   "metadata": {},
   "source": [
    "Mit dem bereinigten Datensatz geht es nun weiter in die [Modelldomäne](#3.-Modell), in der wir uns zu aller erst um die Überführung der Daten in das Modell kümmern."
   ]
  },
  {
   "cell_type": "markdown",
   "metadata": {},
   "source": [
    "<div style=\"background-color: #150458; padding: 5px;\"></div>\n",
    "\n",
    "## 3. Modell"
   ]
  },
  {
   "cell_type": "markdown",
   "metadata": {},
   "source": [
    "[Zurück zur Übersicht](#Lernmodul-zur-Verarbeitung-und-Analyse-von-Textdaten)"
   ]
  },
  {
   "cell_type": "markdown",
   "metadata": {},
   "source": [
    "In diesem Kapitel beschäftigen wir uns zunächst mit der Klassifikation der bereinigten Daten. NLTK ermöglicht uns die Verwendung der folgenden Klassifikationsarten:\n",
    "\n",
    "* Überwachte Klassifikation mittels Naive Bayes\n",
    "* Unüberwachte Klassifikation mittels K-means Clustering\n",
    "\n",
    "Je nach Klassifikationsart bedarf es unterschiedlicher Schritte um die Textdaten durch ein Modell klassifizieren zu lassen. Beiden Modellen ist gemein, dass sie nicht einfach mit einer Liste von Wörtern gefüttert werden können, wie sie aus der [Datendomäne](#2.-Daten) herauskommt. Daher beschäftigt sich der erste Abschnitt dieses Kapitels mit der Überführung der Daten in ein Modell. Die folgende Abbildung verdeutlicht obligatorische Schritte, die für eine Überführung benötigt werden: \n",
    "\n",
    "![Model](./img/model_flow.png)"
   ]
  },
  {
   "cell_type": "markdown",
   "metadata": {},
   "source": [
    "### 3.1 Textdaten einbetten"
   ]
  },
  {
   "cell_type": "markdown",
   "metadata": {},
   "source": [
    "Da unsere bereinigten Daten weiterhin als Text vorliegen, benötigen wir als erstes eine Überführung der Daten in eine numerische Form, die von unserem Modell (hier: Klassifikator) verstanden wird. Man spricht in diesem Zusammenhang vom Einbetten ([Embedding](https://en.wikipedia.org/wiki/Word_embedding)) der Wörter.\n",
    "\n",
    "Es gibt unterschiedliche Verfahren, um das symbolische Wort auf einen numerischen Wert abzubilden, deren Behandlung für dieses Lernmodul aber zu weit gingen. Daher schlagen wir die Wörter einfach in einer Art Vokabular nach, das für jedes Wort einen eigenen Wert besitzt. Wie sieht solch ein Vokabular aus?"
   ]
  },
  {
   "cell_type": "markdown",
   "metadata": {},
   "source": [
    "#### 3.1.1 Vokabular "
   ]
  },
  {
   "cell_type": "markdown",
   "metadata": {},
   "source": [
    "Das Vokabular wurde über die Universität Leipzig unter der [CC BY-NC-SA 3.0 DE](https://creativecommons.org/licenses/by-nc-sa/3.0/de/) Lizenz veröffentlicht [[2]](#2) und besteht aus negativ bzw. positiv annotierten Wörtern der deutschen Sprache. Die Stimmungslage ist im Intervall von `[-1, 1]` bzw. `['negativ', 'positiv']` begrenzt. Schlagen wir negative Wörter, wie _Gefahr_ bzw. _Schuld_ im Vokabular nach, bekommen wir einen negativen Stimmungswert zurückgegeben. Je positiver das Wort, desto höher ist sein Stimmungswert. Neutrale Wörter besitzen jedoch keine Gewichtung, ihr Stimmungswert ist gleich Null.\n",
    "\n",
    "Unser Modell interessiert sich dabei lediglich für die zwei Extrema und soll als binärer Klassifikator zwischen negativen und posiven Tweets differenzieren. Wir vergeben daher die Labels für unsere zwei Klassen wie folgt:"
   ]
  },
  {
   "cell_type": "code",
   "execution_count": 64,
   "metadata": {},
   "outputs": [],
   "source": [
    "labels = ['negativ', 'positiv']"
   ]
  },
  {
   "cell_type": "markdown",
   "metadata": {},
   "source": [
    "Zunächst holen wir uns die negativen Wörter für das Vokabular über die `load_vocabulary()` Funktion."
   ]
  },
  {
   "cell_type": "code",
   "execution_count": 65,
   "metadata": {},
   "outputs": [
    {
     "data": {
      "text/html": [
       "<div>\n",
       "<style scoped>\n",
       "    .dataframe tbody tr th:only-of-type {\n",
       "        vertical-align: middle;\n",
       "    }\n",
       "\n",
       "    .dataframe tbody tr th {\n",
       "        vertical-align: top;\n",
       "    }\n",
       "\n",
       "    .dataframe thead th {\n",
       "        text-align: right;\n",
       "    }\n",
       "</style>\n",
       "<table border=\"1\" class=\"dataframe\">\n",
       "  <thead>\n",
       "    <tr style=\"text-align: right;\">\n",
       "      <th></th>\n",
       "      <th>Wort</th>\n",
       "      <th>Wert</th>\n",
       "      <th>Deklination</th>\n",
       "      <th>Stimmung</th>\n",
       "    </tr>\n",
       "  </thead>\n",
       "  <tbody>\n",
       "    <tr>\n",
       "      <th>0</th>\n",
       "      <td>Abbruch|NN</td>\n",
       "      <td>-0.0048</td>\n",
       "      <td>Abbruches,Abbrüche,Abbruchs,Abbrüchen\\r</td>\n",
       "      <td>negativ</td>\n",
       "    </tr>\n",
       "    <tr>\n",
       "      <th>1</th>\n",
       "      <td>Abdankung|NN</td>\n",
       "      <td>-0.0048</td>\n",
       "      <td>Abdankungen\\r</td>\n",
       "      <td>negativ</td>\n",
       "    </tr>\n",
       "    <tr>\n",
       "      <th>2</th>\n",
       "      <td>Abdämpfung|NN</td>\n",
       "      <td>-0.0048</td>\n",
       "      <td>Abdämpfungen\\r</td>\n",
       "      <td>negativ</td>\n",
       "    </tr>\n",
       "    <tr>\n",
       "      <th>3</th>\n",
       "      <td>Abfall|NN</td>\n",
       "      <td>-0.0048</td>\n",
       "      <td>Abfalles,Abfälle,Abfalls,Abfällen\\r</td>\n",
       "      <td>negativ</td>\n",
       "    </tr>\n",
       "    <tr>\n",
       "      <th>4</th>\n",
       "      <td>Abfuhr|NN</td>\n",
       "      <td>-0.3367</td>\n",
       "      <td>Abfuhren\\r</td>\n",
       "      <td>negativ</td>\n",
       "    </tr>\n",
       "  </tbody>\n",
       "</table>\n",
       "</div>"
      ],
      "text/plain": [
       "            Wort    Wert                              Deklination Stimmung\n",
       "0     Abbruch|NN -0.0048  Abbruches,Abbrüche,Abbruchs,Abbrüchen\\r  negativ\n",
       "1   Abdankung|NN -0.0048                            Abdankungen\\r  negativ\n",
       "2  Abdämpfung|NN -0.0048                           Abdämpfungen\\r  negativ\n",
       "3      Abfall|NN -0.0048      Abfalles,Abfälle,Abfalls,Abfällen\\r  negativ\n",
       "4      Abfuhr|NN -0.3367                               Abfuhren\\r  negativ"
      ]
     },
     "execution_count": 65,
     "metadata": {},
     "output_type": "execute_result"
    }
   ],
   "source": [
    "negative_vocabulary = df.load_vocabulary('negativ')\n",
    "negative_vocabulary.head()"
   ]
  },
  {
   "cell_type": "markdown",
   "metadata": {},
   "source": [
    "Derselbe Weg führt uns zum positiven Vokabular."
   ]
  },
  {
   "cell_type": "code",
   "execution_count": 66,
   "metadata": {},
   "outputs": [
    {
     "data": {
      "text/html": [
       "<div>\n",
       "<style scoped>\n",
       "    .dataframe tbody tr th:only-of-type {\n",
       "        vertical-align: middle;\n",
       "    }\n",
       "\n",
       "    .dataframe tbody tr th {\n",
       "        vertical-align: top;\n",
       "    }\n",
       "\n",
       "    .dataframe thead th {\n",
       "        text-align: right;\n",
       "    }\n",
       "</style>\n",
       "<table border=\"1\" class=\"dataframe\">\n",
       "  <thead>\n",
       "    <tr style=\"text-align: right;\">\n",
       "      <th></th>\n",
       "      <th>Wort</th>\n",
       "      <th>Wert</th>\n",
       "      <th>Deklination</th>\n",
       "      <th>Stimmung</th>\n",
       "    </tr>\n",
       "  </thead>\n",
       "  <tbody>\n",
       "    <tr>\n",
       "      <th>0</th>\n",
       "      <td>Abschluß|NN</td>\n",
       "      <td>0.004</td>\n",
       "      <td>Abschlüße,Abschlußs,Abschlußes,Abschlüßen\\r</td>\n",
       "      <td>positiv</td>\n",
       "    </tr>\n",
       "    <tr>\n",
       "      <th>1</th>\n",
       "      <td>Abstimmung|NN</td>\n",
       "      <td>0.004</td>\n",
       "      <td>Abstimmungen\\r</td>\n",
       "      <td>positiv</td>\n",
       "    </tr>\n",
       "    <tr>\n",
       "      <th>2</th>\n",
       "      <td>Agilität|NN</td>\n",
       "      <td>0.004</td>\n",
       "      <td>NaN</td>\n",
       "      <td>positiv</td>\n",
       "    </tr>\n",
       "    <tr>\n",
       "      <th>3</th>\n",
       "      <td>Aktivität|NN</td>\n",
       "      <td>0.004</td>\n",
       "      <td>Aktivitäten\\r</td>\n",
       "      <td>positiv</td>\n",
       "    </tr>\n",
       "    <tr>\n",
       "      <th>4</th>\n",
       "      <td>Aktualisierung|NN</td>\n",
       "      <td>0.004</td>\n",
       "      <td>Aktualisierungen\\r</td>\n",
       "      <td>positiv</td>\n",
       "    </tr>\n",
       "  </tbody>\n",
       "</table>\n",
       "</div>"
      ],
      "text/plain": [
       "                Wort   Wert                                  Deklination  \\\n",
       "0        Abschluß|NN  0.004  Abschlüße,Abschlußs,Abschlußes,Abschlüßen\\r   \n",
       "1      Abstimmung|NN  0.004                               Abstimmungen\\r   \n",
       "2        Agilität|NN  0.004                                          NaN   \n",
       "3       Aktivität|NN  0.004                                Aktivitäten\\r   \n",
       "4  Aktualisierung|NN  0.004                           Aktualisierungen\\r   \n",
       "\n",
       "  Stimmung  \n",
       "0  positiv  \n",
       "1  positiv  \n",
       "2  positiv  \n",
       "3  positiv  \n",
       "4  positiv  "
      ]
     },
     "execution_count": 66,
     "metadata": {},
     "output_type": "execute_result"
    }
   ],
   "source": [
    "positive_vocabulary = df.load_vocabulary('positiv')\n",
    "positive_vocabulary.head()"
   ]
  },
  {
   "cell_type": "markdown",
   "metadata": {},
   "source": [
    "Ähnlich wie beim Einlesen des `twitter` Datensatzes, führen wir das negative und das positive Vokabular im DataFrame `vocabulary` zusammen."
   ]
  },
  {
   "cell_type": "code",
   "execution_count": 67,
   "metadata": {},
   "outputs": [],
   "source": [
    "vocabulary = pd.concat([negative_vocabulary, positive_vocabulary])\n",
    "del negative_vocabulary, positive_vocabulary"
   ]
  },
  {
   "cell_type": "markdown",
   "metadata": {},
   "source": [
    "Wie bereits für die Tweets halten wir nach fehlenden Werten Ausschau."
   ]
  },
  {
   "cell_type": "markdown",
   "metadata": {},
   "source": [
    "**Aufgabe: In welcher Spalte des Vokabulars fehlen Werte?**"
   ]
  },
  {
   "cell_type": "code",
   "execution_count": 68,
   "metadata": {},
   "outputs": [
    {
     "data": {
      "application/vnd.jupyter.widget-view+json": {
       "model_id": "89967198741b4565b53a025ad4b549fd",
       "version_major": 2,
       "version_minor": 0
      },
      "text/plain": [
       "Output()"
      ]
     },
     "metadata": {},
     "output_type": "display_data"
    },
    {
     "data": {
      "application/vnd.jupyter.widget-view+json": {
       "model_id": "d52606c30dbf484ba62db98642a63271",
       "version_major": 2,
       "version_minor": 0
      },
      "text/plain": [
       "Output()"
      ]
     },
     "metadata": {},
     "output_type": "display_data"
    },
    {
     "data": {
      "application/vnd.jupyter.widget-view+json": {
       "model_id": "ce372e127cfe476282d93bb3282b6e04",
       "version_major": 2,
       "version_minor": 0
      },
      "text/plain": [
       "Output()"
      ]
     },
     "metadata": {},
     "output_type": "display_data"
    }
   ],
   "source": [
    "#hideInput\n",
    "lm.show_task(311)"
   ]
  },
  {
   "cell_type": "code",
   "execution_count": 69,
   "metadata": {},
   "outputs": [
    {
     "data": {
      "text/html": [
       "<div>\n",
       "<style scoped>\n",
       "    .dataframe tbody tr th:only-of-type {\n",
       "        vertical-align: middle;\n",
       "    }\n",
       "\n",
       "    .dataframe tbody tr th {\n",
       "        vertical-align: top;\n",
       "    }\n",
       "\n",
       "    .dataframe thead th {\n",
       "        text-align: right;\n",
       "    }\n",
       "</style>\n",
       "<table border=\"1\" class=\"dataframe\">\n",
       "  <thead>\n",
       "    <tr style=\"text-align: right;\">\n",
       "      <th></th>\n",
       "      <th>Wort</th>\n",
       "      <th>Wert</th>\n",
       "      <th>Deklination</th>\n",
       "      <th>Stimmung</th>\n",
       "    </tr>\n",
       "  </thead>\n",
       "  <tbody>\n",
       "    <tr>\n",
       "      <th>count</th>\n",
       "      <td>3466</td>\n",
       "      <td>3466</td>\n",
       "      <td>3466</td>\n",
       "      <td>3466</td>\n",
       "    </tr>\n",
       "    <tr>\n",
       "      <th>unique</th>\n",
       "      <td>1</td>\n",
       "      <td>1</td>\n",
       "      <td>2</td>\n",
       "      <td>1</td>\n",
       "    </tr>\n",
       "    <tr>\n",
       "      <th>top</th>\n",
       "      <td>False</td>\n",
       "      <td>False</td>\n",
       "      <td>False</td>\n",
       "      <td>False</td>\n",
       "    </tr>\n",
       "    <tr>\n",
       "      <th>freq</th>\n",
       "      <td>3466</td>\n",
       "      <td>3466</td>\n",
       "      <td>2659</td>\n",
       "      <td>3466</td>\n",
       "    </tr>\n",
       "  </tbody>\n",
       "</table>\n",
       "</div>"
      ],
      "text/plain": [
       "         Wort   Wert Deklination Stimmung\n",
       "count    3466   3466        3466     3466\n",
       "unique      1      1           2        1\n",
       "top     False  False       False    False\n",
       "freq     3466   3466        2659     3466"
      ]
     },
     "execution_count": 69,
     "metadata": {},
     "output_type": "execute_result"
    }
   ],
   "source": [
    "#solution\n",
    "vocabulary.isna().describe()"
   ]
  },
  {
   "cell_type": "markdown",
   "metadata": {},
   "source": [
    "Anstatt sie zu streichen, werden fehlende Werte mit einer leeren Zeichenkette ersetzt. Dies verhindert, dass unser Vokabular schrumpft, was wir unbedingt verhindern wollen, da unser Modell auf ein vollständiges Vokabular angewiesen ist."
   ]
  },
  {
   "cell_type": "code",
   "execution_count": 70,
   "metadata": {},
   "outputs": [],
   "source": [
    "vocabulary.fillna('', inplace=True)"
   ]
  },
  {
   "cell_type": "markdown",
   "metadata": {},
   "source": [
    "Nun kümmern wir uns um ein paar Verschönerungen mithilfe der `format_vocabulary()` Funktion. Dabei werden insbesondere alle Deklinationsformen in eine eigene Reihe überführt und mit ihrem zugehörigen Stammwort versehen."
   ]
  },
  {
   "cell_type": "code",
   "execution_count": 71,
   "metadata": {},
   "outputs": [
    {
     "data": {
      "text/html": [
       "<div>\n",
       "<style scoped>\n",
       "    .dataframe tbody tr th:only-of-type {\n",
       "        vertical-align: middle;\n",
       "    }\n",
       "\n",
       "    .dataframe tbody tr th {\n",
       "        vertical-align: top;\n",
       "    }\n",
       "\n",
       "    .dataframe thead th {\n",
       "        text-align: right;\n",
       "    }\n",
       "</style>\n",
       "<table border=\"1\" class=\"dataframe\">\n",
       "  <thead>\n",
       "    <tr style=\"text-align: right;\">\n",
       "      <th></th>\n",
       "      <th>Stamm</th>\n",
       "      <th>Wert</th>\n",
       "      <th>Stimmung</th>\n",
       "      <th>Typ</th>\n",
       "      <th>Wort</th>\n",
       "    </tr>\n",
       "  </thead>\n",
       "  <tbody>\n",
       "    <tr>\n",
       "      <th>0</th>\n",
       "      <td>Abbruch</td>\n",
       "      <td>-0.0048</td>\n",
       "      <td>negativ</td>\n",
       "      <td>NN</td>\n",
       "      <td>Abbruch</td>\n",
       "    </tr>\n",
       "    <tr>\n",
       "      <th>1</th>\n",
       "      <td>Abbruch</td>\n",
       "      <td>-0.0048</td>\n",
       "      <td>negativ</td>\n",
       "      <td>NN</td>\n",
       "      <td>Abbruches</td>\n",
       "    </tr>\n",
       "    <tr>\n",
       "      <th>2</th>\n",
       "      <td>Abbruch</td>\n",
       "      <td>-0.0048</td>\n",
       "      <td>negativ</td>\n",
       "      <td>NN</td>\n",
       "      <td>Abbrüche</td>\n",
       "    </tr>\n",
       "    <tr>\n",
       "      <th>3</th>\n",
       "      <td>Abbruch</td>\n",
       "      <td>-0.0048</td>\n",
       "      <td>negativ</td>\n",
       "      <td>NN</td>\n",
       "      <td>Abbruchs</td>\n",
       "    </tr>\n",
       "    <tr>\n",
       "      <th>4</th>\n",
       "      <td>Abbruch</td>\n",
       "      <td>-0.0048</td>\n",
       "      <td>negativ</td>\n",
       "      <td>NN</td>\n",
       "      <td>Abbrüchen</td>\n",
       "    </tr>\n",
       "  </tbody>\n",
       "</table>\n",
       "</div>"
      ],
      "text/plain": [
       "     Stamm    Wert Stimmung Typ       Wort\n",
       "0  Abbruch -0.0048  negativ  NN    Abbruch\n",
       "1  Abbruch -0.0048  negativ  NN  Abbruches\n",
       "2  Abbruch -0.0048  negativ  NN   Abbrüche\n",
       "3  Abbruch -0.0048  negativ  NN   Abbruchs\n",
       "4  Abbruch -0.0048  negativ  NN  Abbrüchen"
      ]
     },
     "execution_count": 71,
     "metadata": {},
     "output_type": "execute_result"
    }
   ],
   "source": [
    "vocabulary = df.format_vocabulary(vocabulary)\n",
    "vocabulary.head()"
   ]
  },
  {
   "cell_type": "markdown",
   "metadata": {},
   "source": [
    "Das fertige Vokabular wollen wir nun genauer betrachten."
   ]
  },
  {
   "cell_type": "markdown",
   "metadata": {},
   "source": [
    "**Aufgabe: Welche Wort-Typen sind im Vokabular vorhanden?**"
   ]
  },
  {
   "cell_type": "code",
   "execution_count": 72,
   "metadata": {},
   "outputs": [
    {
     "data": {
      "application/vnd.jupyter.widget-view+json": {
       "model_id": "6ef94a2e9eac4a349364823996160f41",
       "version_major": 2,
       "version_minor": 0
      },
      "text/plain": [
       "Output()"
      ]
     },
     "metadata": {},
     "output_type": "display_data"
    },
    {
     "data": {
      "application/vnd.jupyter.widget-view+json": {
       "model_id": "f9d4657ffda8432c9366d2b283faed0b",
       "version_major": 2,
       "version_minor": 0
      },
      "text/plain": [
       "Output()"
      ]
     },
     "metadata": {},
     "output_type": "display_data"
    },
    {
     "data": {
      "application/vnd.jupyter.widget-view+json": {
       "model_id": "1c5e6e8c585e4438960ce19ee29916db",
       "version_major": 2,
       "version_minor": 0
      },
      "text/plain": [
       "Output()"
      ]
     },
     "metadata": {},
     "output_type": "display_data"
    }
   ],
   "source": [
    "#hideInput\n",
    "lm.show_task(312)"
   ]
  },
  {
   "cell_type": "code",
   "execution_count": 73,
   "metadata": {},
   "outputs": [
    {
     "data": {
      "text/plain": [
       "array(['NN', 'VVINF', 'ADJX', 'ADV'], dtype=object)"
      ]
     },
     "execution_count": 73,
     "metadata": {},
     "output_type": "execute_result"
    }
   ],
   "source": [
    "#solution\n",
    "vocabulary['Typ'].unique()"
   ]
  },
  {
   "cell_type": "markdown",
   "metadata": {},
   "source": [
    "Ein Wort im Vokabular verkörpert entweder eine Stamm-, oder eine Deklinationsform. Letztere dienen der Verallgemeinerung des Vokabulars, da Stammformen im Text seltener vorkommen, als ihre zugehörigen Deklinationsformen."
   ]
  },
  {
   "cell_type": "markdown",
   "metadata": {},
   "source": [
    "**Aufgabe: Wie viele Deklinationsformen sind im Vokabular vorhanden?**"
   ]
  },
  {
   "cell_type": "code",
   "execution_count": 74,
   "metadata": {},
   "outputs": [
    {
     "data": {
      "application/vnd.jupyter.widget-view+json": {
       "model_id": "5609426e9c51449a9adcf3eb61b5967c",
       "version_major": 2,
       "version_minor": 0
      },
      "text/plain": [
       "Output()"
      ]
     },
     "metadata": {},
     "output_type": "display_data"
    },
    {
     "data": {
      "application/vnd.jupyter.widget-view+json": {
       "model_id": "e1f159be840b40cb8794ef26b81dd40b",
       "version_major": 2,
       "version_minor": 0
      },
      "text/plain": [
       "Output()"
      ]
     },
     "metadata": {},
     "output_type": "display_data"
    },
    {
     "data": {
      "application/vnd.jupyter.widget-view+json": {
       "model_id": "3860262bc7cf4d2389ca4f8468a4eed0",
       "version_major": 2,
       "version_minor": 0
      },
      "text/plain": [
       "Output()"
      ]
     },
     "metadata": {},
     "output_type": "display_data"
    }
   ],
   "source": [
    "#hideInput\n",
    "lm.show_task(313)"
   ]
  },
  {
   "cell_type": "code",
   "execution_count": 75,
   "metadata": {},
   "outputs": [
    {
     "data": {
      "text/plain": [
       "28621"
      ]
     },
     "execution_count": 75,
     "metadata": {},
     "output_type": "execute_result"
    }
   ],
   "source": [
    "#solution\n",
    "vocabulary.shape[0] - len(vocabulary['Stamm'].unique())"
   ]
  },
  {
   "cell_type": "markdown",
   "metadata": {},
   "source": [
    "**Aufgabe: Fällt das Vokabular eher negativ oder eher positiv aus?**"
   ]
  },
  {
   "cell_type": "code",
   "execution_count": 76,
   "metadata": {},
   "outputs": [
    {
     "data": {
      "application/vnd.jupyter.widget-view+json": {
       "model_id": "02244b10579f471d90267380e24da7f2",
       "version_major": 2,
       "version_minor": 0
      },
      "text/plain": [
       "Output()"
      ]
     },
     "metadata": {},
     "output_type": "display_data"
    },
    {
     "data": {
      "application/vnd.jupyter.widget-view+json": {
       "model_id": "7e7df6e1502448f88e29396e5d5c8352",
       "version_major": 2,
       "version_minor": 0
      },
      "text/plain": [
       "Output()"
      ]
     },
     "metadata": {},
     "output_type": "display_data"
    },
    {
     "data": {
      "application/vnd.jupyter.widget-view+json": {
       "model_id": "770ed83f47a24db28037f7eef391d3b3",
       "version_major": 2,
       "version_minor": 0
      },
      "text/plain": [
       "Output()"
      ]
     },
     "metadata": {},
     "output_type": "display_data"
    }
   ],
   "source": [
    "#hideInput\n",
    "lm.show_task(314)"
   ]
  },
  {
   "cell_type": "code",
   "execution_count": 77,
   "metadata": {},
   "outputs": [
    {
     "data": {
      "text/plain": [
       "Wert   -0.045512\n",
       "dtype: float64"
      ]
     },
     "execution_count": 77,
     "metadata": {},
     "output_type": "execute_result"
    }
   ],
   "source": [
    "#solution\n",
    "vocabulary.mean()"
   ]
  },
  {
   "cell_type": "markdown",
   "metadata": {},
   "source": [
    "**Aufgabe: Welchen Stimmungswert besitzt das Adjektiv _gut_ im Vokabular?**"
   ]
  },
  {
   "cell_type": "code",
   "execution_count": 78,
   "metadata": {},
   "outputs": [
    {
     "data": {
      "application/vnd.jupyter.widget-view+json": {
       "model_id": "9dc3afbd77a64af981578c0aafa1dfe7",
       "version_major": 2,
       "version_minor": 0
      },
      "text/plain": [
       "Output()"
      ]
     },
     "metadata": {},
     "output_type": "display_data"
    },
    {
     "data": {
      "application/vnd.jupyter.widget-view+json": {
       "model_id": "831f904208fd4bb1a0abc82d90e0b20e",
       "version_major": 2,
       "version_minor": 0
      },
      "text/plain": [
       "Output()"
      ]
     },
     "metadata": {},
     "output_type": "display_data"
    },
    {
     "data": {
      "application/vnd.jupyter.widget-view+json": {
       "model_id": "eccd1a79c34f4ea6bafe9daccafc5d89",
       "version_major": 2,
       "version_minor": 0
      },
      "text/plain": [
       "Output()"
      ]
     },
     "metadata": {},
     "output_type": "display_data"
    }
   ],
   "source": [
    "#hideInput\n",
    "lm.show_task(315)"
   ]
  },
  {
   "cell_type": "code",
   "execution_count": 79,
   "metadata": {},
   "outputs": [
    {
     "data": {
      "text/html": [
       "<div>\n",
       "<style scoped>\n",
       "    .dataframe tbody tr th:only-of-type {\n",
       "        vertical-align: middle;\n",
       "    }\n",
       "\n",
       "    .dataframe tbody tr th {\n",
       "        vertical-align: top;\n",
       "    }\n",
       "\n",
       "    .dataframe thead th {\n",
       "        text-align: right;\n",
       "    }\n",
       "</style>\n",
       "<table border=\"1\" class=\"dataframe\">\n",
       "  <thead>\n",
       "    <tr style=\"text-align: right;\">\n",
       "      <th></th>\n",
       "      <th>Stamm</th>\n",
       "      <th>Wert</th>\n",
       "      <th>Stimmung</th>\n",
       "      <th>Typ</th>\n",
       "      <th>Wort</th>\n",
       "    </tr>\n",
       "  </thead>\n",
       "  <tbody>\n",
       "    <tr>\n",
       "      <th>13862</th>\n",
       "      <td>gut</td>\n",
       "      <td>0.3716</td>\n",
       "      <td>positiv</td>\n",
       "      <td>ADJX</td>\n",
       "      <td>gut</td>\n",
       "    </tr>\n",
       "  </tbody>\n",
       "</table>\n",
       "</div>"
      ],
      "text/plain": [
       "      Stamm    Wert Stimmung   Typ Wort\n",
       "13862   gut  0.3716  positiv  ADJX  gut"
      ]
     },
     "execution_count": 79,
     "metadata": {},
     "output_type": "execute_result"
    }
   ],
   "source": [
    "#solution\n",
    "vocabulary.loc[(vocabulary['Typ'] == 'ADJX') & (vocabulary['Wort'] == 'gut')]"
   ]
  },
  {
   "cell_type": "markdown",
   "metadata": {},
   "source": [
    "**Aufgabe: Wie lautet das \"schlechteste\", also das am schlechtesten annotierte Wort im  Vokabular?**"
   ]
  },
  {
   "cell_type": "code",
   "execution_count": 80,
   "metadata": {},
   "outputs": [
    {
     "data": {
      "application/vnd.jupyter.widget-view+json": {
       "model_id": "6ccdd30a1f9c4a2ea9548804db38040a",
       "version_major": 2,
       "version_minor": 0
      },
      "text/plain": [
       "Output()"
      ]
     },
     "metadata": {},
     "output_type": "display_data"
    },
    {
     "data": {
      "application/vnd.jupyter.widget-view+json": {
       "model_id": "8668fdb126ae4d2bb448c2508163f95e",
       "version_major": 2,
       "version_minor": 0
      },
      "text/plain": [
       "Output()"
      ]
     },
     "metadata": {},
     "output_type": "display_data"
    },
    {
     "data": {
      "application/vnd.jupyter.widget-view+json": {
       "model_id": "1d8721debda8428d8043a09de635b1f1",
       "version_major": 2,
       "version_minor": 0
      },
      "text/plain": [
       "Output()"
      ]
     },
     "metadata": {},
     "output_type": "display_data"
    }
   ],
   "source": [
    "#hideInput\n",
    "lm.show_task(316)"
   ]
  },
  {
   "cell_type": "code",
   "execution_count": 81,
   "metadata": {},
   "outputs": [
    {
     "data": {
      "text/html": [
       "<div>\n",
       "<style scoped>\n",
       "    .dataframe tbody tr th:only-of-type {\n",
       "        vertical-align: middle;\n",
       "    }\n",
       "\n",
       "    .dataframe tbody tr th {\n",
       "        vertical-align: top;\n",
       "    }\n",
       "\n",
       "    .dataframe thead th {\n",
       "        text-align: right;\n",
       "    }\n",
       "</style>\n",
       "<table border=\"1\" class=\"dataframe\">\n",
       "  <thead>\n",
       "    <tr style=\"text-align: right;\">\n",
       "      <th></th>\n",
       "      <th>Stamm</th>\n",
       "      <th>Wert</th>\n",
       "      <th>Stimmung</th>\n",
       "      <th>Typ</th>\n",
       "      <th>Wort</th>\n",
       "    </tr>\n",
       "  </thead>\n",
       "  <tbody>\n",
       "    <tr>\n",
       "      <th>1096</th>\n",
       "      <td>Gefahr</td>\n",
       "      <td>-1.0000</td>\n",
       "      <td>negativ</td>\n",
       "      <td>NN</td>\n",
       "      <td>Gefahr</td>\n",
       "    </tr>\n",
       "    <tr>\n",
       "      <th>1097</th>\n",
       "      <td>Gefahr</td>\n",
       "      <td>-1.0000</td>\n",
       "      <td>negativ</td>\n",
       "      <td>NN</td>\n",
       "      <td>Gefahren</td>\n",
       "    </tr>\n",
       "    <tr>\n",
       "      <th>2219</th>\n",
       "      <td>Schuld</td>\n",
       "      <td>-0.9686</td>\n",
       "      <td>negativ</td>\n",
       "      <td>NN</td>\n",
       "      <td>Schulden</td>\n",
       "    </tr>\n",
       "    <tr>\n",
       "      <th>2218</th>\n",
       "      <td>Schuld</td>\n",
       "      <td>-0.9686</td>\n",
       "      <td>negativ</td>\n",
       "      <td>NN</td>\n",
       "      <td>Schuld</td>\n",
       "    </tr>\n",
       "    <tr>\n",
       "      <th>26481</th>\n",
       "      <td>unnötig</td>\n",
       "      <td>-0.9463</td>\n",
       "      <td>negativ</td>\n",
       "      <td>ADJX</td>\n",
       "      <td>unnötiger</td>\n",
       "    </tr>\n",
       "  </tbody>\n",
       "</table>\n",
       "</div>"
      ],
      "text/plain": [
       "         Stamm    Wert Stimmung   Typ       Wort\n",
       "1096    Gefahr -1.0000  negativ    NN     Gefahr\n",
       "1097    Gefahr -1.0000  negativ    NN   Gefahren\n",
       "2219    Schuld -0.9686  negativ    NN   Schulden\n",
       "2218    Schuld -0.9686  negativ    NN     Schuld\n",
       "26481  unnötig -0.9463  negativ  ADJX  unnötiger"
      ]
     },
     "execution_count": 81,
     "metadata": {},
     "output_type": "execute_result"
    }
   ],
   "source": [
    "#solution\n",
    "vocabulary.sort_values('Wert').head()"
   ]
  },
  {
   "cell_type": "markdown",
   "metadata": {},
   "source": [
    "Zum Abschluss visualisieren wir exemplarisch alle negativen Nomen mithilfe der bereits bekannten Schlagwortwolke."
   ]
  },
  {
   "cell_type": "code",
   "execution_count": 82,
   "metadata": {},
   "outputs": [
    {
     "data": {
      "image/png": "[encoded data removed]",
      "text/plain": [
       "<Figure size 432x288 with 1 Axes>"
      ]
     },
     "metadata": {
      "needs_background": "light"
     },
     "output_type": "display_data"
    }
   ],
   "source": [
    "most_negative_nouns = wc.generate_from_frequencies(df.filter_vocabulary(vocabulary, sentiment='negativ', word='NN'))\n",
    "vf.plot_image(most_negative_nouns, 'Die negativsten Nomen')"
   ]
  },
  {
   "cell_type": "markdown",
   "metadata": {},
   "source": [
    "Bevor wir uns wieder unseren Tweets widmen, schauen wir noch auf die positiven Adjektive."
   ]
  },
  {
   "cell_type": "code",
   "execution_count": 83,
   "metadata": {},
   "outputs": [
    {
     "data": {
      "image/png": "[encoded data removed]",
      "text/plain": [
       "<Figure size 432x288 with 1 Axes>"
      ]
     },
     "metadata": {
      "needs_background": "light"
     },
     "output_type": "display_data"
    }
   ],
   "source": [
    "most_positive_adjectives = wc.generate_from_frequencies(df.filter_vocabulary(vocabulary, sentiment='positiv', word='ADJX'))\n",
    "vf.plot_image(most_positive_adjectives, 'Die positivsten Adjektive')"
   ]
  },
  {
   "cell_type": "markdown",
   "metadata": {},
   "source": [
    "#### 3.1.2 Vektorisierung"
   ]
  },
  {
   "cell_type": "markdown",
   "metadata": {},
   "source": [
    "Das Einbetten von Wörtern geschieht innerhalb des _NLP_ über Häufigkeitsverteilungen. Je öfter ein Wort im Text vorkommt, desto wichtiger scheint es zu sein, was sich in der Vektorisierung des Wortes widerspiegelt. In unserem Fall benutzen wir anstelle der Häufigkeitsverteilung das angefertigte Vokabular in der Annahme, dass je höher ein Stimmungswert ausfällt, desto wichtiger das zugehörige Wort zu sein scheint.\n",
    "\n",
    "Daher überführen wir jedes einzelne Wort eines Tweets in seinen Stimmungswert. Das Wort _gut_ kriegt dabei den Stimmungswert _0.37_ zugewiesen, wie bereits im vorherigen Abschnitt gezeigt wurde."
   ]
  },
  {
   "cell_type": "code",
   "execution_count": 84,
   "metadata": {},
   "outputs": [
    {
     "data": {
      "text/plain": [
       "13862    0.3716\n",
       "Name: Wert, dtype: float64"
      ]
     },
     "execution_count": 84,
     "metadata": {},
     "output_type": "execute_result"
    }
   ],
   "source": [
    "vocabulary.loc[vocabulary['Wort'] == 'gut'].Wert"
   ]
  },
  {
   "cell_type": "markdown",
   "metadata": {},
   "source": [
    "Für eine performante Vektorisierung benötigen wir einen Look-up-table (LUT), welcher aus Schlüsselwertpaaren der Form `( Wort: Stimmungswert )` besteht und wie folgt erzeugt wird:"
   ]
  },
  {
   "cell_type": "code",
   "execution_count": 85,
   "metadata": {},
   "outputs": [
    {
     "data": {
      "text/plain": [
       "[('abbruch', -0.0048), ('abbruches', -0.0048), ('abbrüche', -0.0048)]"
      ]
     },
     "execution_count": 85,
     "metadata": {},
     "output_type": "execute_result"
    }
   ],
   "source": [
    "lut = dict((k.lower(), v) for k, v in vocabulary[['Wort', 'Wert']].values)\n",
    "list(lut.items())[:3]"
   ]
  },
  {
   "cell_type": "markdown",
   "metadata": {},
   "source": [
    "Die Vektorisierung wird nun über die `vectorize()` Funktion ermöglicht."
   ]
  },
  {
   "cell_type": "code",
   "execution_count": 86,
   "metadata": {},
   "outputs": [],
   "source": [
    "def vectorize(tweet):\n",
    "    \"\"\"Vectorize tweets based on look-up-table\"\"\"\n",
    "    \n",
    "    return [lut.get(word) for word in tweet if lut.get(word)]"
   ]
  },
  {
   "cell_type": "markdown",
   "metadata": {},
   "source": [
    "Da wir die ursprünglichen Textdaten behalten wollen, brauchen wir eine zusätzliche Spalte und damit einen DataFrame statt einer DataSeries."
   ]
  },
  {
   "cell_type": "code",
   "execution_count": 87,
   "metadata": {},
   "outputs": [
    {
     "data": {
      "text/html": [
       "<div>\n",
       "<style scoped>\n",
       "    .dataframe tbody tr th:only-of-type {\n",
       "        vertical-align: middle;\n",
       "    }\n",
       "\n",
       "    .dataframe tbody tr th {\n",
       "        vertical-align: top;\n",
       "    }\n",
       "\n",
       "    .dataframe thead th {\n",
       "        text-align: right;\n",
       "    }\n",
       "</style>\n",
       "<table border=\"1\" class=\"dataframe\">\n",
       "  <thead>\n",
       "    <tr style=\"text-align: right;\">\n",
       "      <th></th>\n",
       "      <th>Token</th>\n",
       "    </tr>\n",
       "  </thead>\n",
       "  <tbody>\n",
       "    <tr>\n",
       "      <th>0</th>\n",
       "      <td>[venezuela, deutschland, während, ncovc, nk, i...</td>\n",
       "    </tr>\n",
       "    <tr>\n",
       "      <th>1</th>\n",
       "      <td>[assad, putin, wollen, erdoan, lektion, erteil...</td>\n",
       "    </tr>\n",
       "    <tr>\n",
       "      <th>2</th>\n",
       "      <td>[hoff, dinger, kann, amol, fahren, können, meh...</td>\n",
       "    </tr>\n",
       "    <tr>\n",
       "      <th>3</th>\n",
       "      <td>[trotz, aussichtsloser, lage, wehrmacht, ergeb...</td>\n",
       "    </tr>\n",
       "    <tr>\n",
       "      <th>4</th>\n",
       "      <td>[mein, kommentar, zur, causa, hopp, für]</td>\n",
       "    </tr>\n",
       "  </tbody>\n",
       "</table>\n",
       "</div>"
      ],
      "text/plain": [
       "                                               Token\n",
       "0  [venezuela, deutschland, während, ncovc, nk, i...\n",
       "1  [assad, putin, wollen, erdoan, lektion, erteil...\n",
       "2  [hoff, dinger, kann, amol, fahren, können, meh...\n",
       "3  [trotz, aussichtsloser, lage, wehrmacht, ergeb...\n",
       "4           [mein, kommentar, zur, causa, hopp, für]"
      ]
     },
     "execution_count": 87,
     "metadata": {},
     "output_type": "execute_result"
    }
   ],
   "source": [
    "tweets = tweets.to_frame(name='Token')\n",
    "tweets.head()"
   ]
  },
  {
   "cell_type": "markdown",
   "metadata": {},
   "source": [
    "Zum Abschluss vektorisieren wir mithilfe der `vectorize()` Funktion unsere Textdaten wie folgt:"
   ]
  },
  {
   "cell_type": "code",
   "execution_count": 88,
   "metadata": {},
   "outputs": [
    {
     "data": {
      "text/html": [
       "<div>\n",
       "<style scoped>\n",
       "    .dataframe tbody tr th:only-of-type {\n",
       "        vertical-align: middle;\n",
       "    }\n",
       "\n",
       "    .dataframe tbody tr th {\n",
       "        vertical-align: top;\n",
       "    }\n",
       "\n",
       "    .dataframe thead th {\n",
       "        text-align: right;\n",
       "    }\n",
       "</style>\n",
       "<table border=\"1\" class=\"dataframe\">\n",
       "  <thead>\n",
       "    <tr style=\"text-align: right;\">\n",
       "      <th></th>\n",
       "      <th>Token</th>\n",
       "      <th>Vector</th>\n",
       "    </tr>\n",
       "  </thead>\n",
       "  <tbody>\n",
       "    <tr>\n",
       "      <th>0</th>\n",
       "      <td>[venezuela, deutschland, während, ncovc, nk, i...</td>\n",
       "      <td>[]</td>\n",
       "    </tr>\n",
       "    <tr>\n",
       "      <th>1</th>\n",
       "      <td>[assad, putin, wollen, erdoan, lektion, erteil...</td>\n",
       "      <td>[-0.0048, -0.0468, -0.0603, -0.1483, -0.0048]</td>\n",
       "    </tr>\n",
       "    <tr>\n",
       "      <th>2</th>\n",
       "      <td>[hoff, dinger, kann, amol, fahren, können, meh...</td>\n",
       "      <td>[0.2318]</td>\n",
       "    </tr>\n",
       "    <tr>\n",
       "      <th>3</th>\n",
       "      <td>[trotz, aussichtsloser, lage, wehrmacht, ergeb...</td>\n",
       "      <td>[-0.0048, -0.183]</td>\n",
       "    </tr>\n",
       "    <tr>\n",
       "      <th>4</th>\n",
       "      <td>[mein, kommentar, zur, causa, hopp, für]</td>\n",
       "      <td>[]</td>\n",
       "    </tr>\n",
       "  </tbody>\n",
       "</table>\n",
       "</div>"
      ],
      "text/plain": [
       "                                               Token  \\\n",
       "0  [venezuela, deutschland, während, ncovc, nk, i...   \n",
       "1  [assad, putin, wollen, erdoan, lektion, erteil...   \n",
       "2  [hoff, dinger, kann, amol, fahren, können, meh...   \n",
       "3  [trotz, aussichtsloser, lage, wehrmacht, ergeb...   \n",
       "4           [mein, kommentar, zur, causa, hopp, für]   \n",
       "\n",
       "                                          Vector  \n",
       "0                                             []  \n",
       "1  [-0.0048, -0.0468, -0.0603, -0.1483, -0.0048]  \n",
       "2                                       [0.2318]  \n",
       "3                              [-0.0048, -0.183]  \n",
       "4                                             []  "
      ]
     },
     "execution_count": 88,
     "metadata": {},
     "output_type": "execute_result"
    }
   ],
   "source": [
    "tweets['Vector'] = tweets['Token'].apply(vectorize)\n",
    "tweets.head()"
   ]
  },
  {
   "cell_type": "markdown",
   "metadata": {},
   "source": [
    "#### 3.1.3 Label"
   ]
  },
  {
   "cell_type": "markdown",
   "metadata": {},
   "source": [
    "Während unsere Tweets lediglich als einzelne Wörter bzw. Vektoren vorliegen, benötigt ein überwachter Klassifikator zusätzlich eine Klasse (hier: Label), die einem Tweet zugeordnet ist. Wie bereits bekannt wollen wir eine binäre Klassifikation durchführen, wonach es zwei unterschiedliche Klassen zuzuordnen gilt. \n",
    "\n",
    "Erinnern wir uns zurück an die Stimmungslage im Intervall `['negativ', 'positiv']` annotiert die `label()` Funktion im folgenden jeden Tweet auf Basis seiner summierten Stimmungswerte:"
   ]
  },
  {
   "cell_type": "code",
   "execution_count": 89,
   "metadata": {},
   "outputs": [],
   "source": [
    "def label(tweet):\n",
    "    \"\"\"Label tweets according to sentiment score.\"\"\"\n",
    "    \n",
    "    score = sum(tweet)\n",
    "            \n",
    "    if score > 0.0:\n",
    "        return 'positiv'\n",
    "    elif score < 0.0:\n",
    "        return 'negativ'\n",
    "    else:\n",
    "        return 'neutral'"
   ]
  },
  {
   "cell_type": "code",
   "execution_count": 90,
   "metadata": {},
   "outputs": [
    {
     "data": {
      "text/html": [
       "<div>\n",
       "<style scoped>\n",
       "    .dataframe tbody tr th:only-of-type {\n",
       "        vertical-align: middle;\n",
       "    }\n",
       "\n",
       "    .dataframe tbody tr th {\n",
       "        vertical-align: top;\n",
       "    }\n",
       "\n",
       "    .dataframe thead th {\n",
       "        text-align: right;\n",
       "    }\n",
       "</style>\n",
       "<table border=\"1\" class=\"dataframe\">\n",
       "  <thead>\n",
       "    <tr style=\"text-align: right;\">\n",
       "      <th></th>\n",
       "      <th>Token</th>\n",
       "      <th>Vector</th>\n",
       "      <th>Label</th>\n",
       "    </tr>\n",
       "  </thead>\n",
       "  <tbody>\n",
       "    <tr>\n",
       "      <th>0</th>\n",
       "      <td>[venezuela, deutschland, während, ncovc, nk, i...</td>\n",
       "      <td>[]</td>\n",
       "      <td>neutral</td>\n",
       "    </tr>\n",
       "    <tr>\n",
       "      <th>1</th>\n",
       "      <td>[assad, putin, wollen, erdoan, lektion, erteil...</td>\n",
       "      <td>[-0.0048, -0.0468, -0.0603, -0.1483, -0.0048]</td>\n",
       "      <td>negativ</td>\n",
       "    </tr>\n",
       "    <tr>\n",
       "      <th>2</th>\n",
       "      <td>[hoff, dinger, kann, amol, fahren, können, meh...</td>\n",
       "      <td>[0.2318]</td>\n",
       "      <td>positiv</td>\n",
       "    </tr>\n",
       "    <tr>\n",
       "      <th>3</th>\n",
       "      <td>[trotz, aussichtsloser, lage, wehrmacht, ergeb...</td>\n",
       "      <td>[-0.0048, -0.183]</td>\n",
       "      <td>negativ</td>\n",
       "    </tr>\n",
       "    <tr>\n",
       "      <th>4</th>\n",
       "      <td>[mein, kommentar, zur, causa, hopp, für]</td>\n",
       "      <td>[]</td>\n",
       "      <td>neutral</td>\n",
       "    </tr>\n",
       "  </tbody>\n",
       "</table>\n",
       "</div>"
      ],
      "text/plain": [
       "                                               Token  \\\n",
       "0  [venezuela, deutschland, während, ncovc, nk, i...   \n",
       "1  [assad, putin, wollen, erdoan, lektion, erteil...   \n",
       "2  [hoff, dinger, kann, amol, fahren, können, meh...   \n",
       "3  [trotz, aussichtsloser, lage, wehrmacht, ergeb...   \n",
       "4           [mein, kommentar, zur, causa, hopp, für]   \n",
       "\n",
       "                                          Vector    Label  \n",
       "0                                             []  neutral  \n",
       "1  [-0.0048, -0.0468, -0.0603, -0.1483, -0.0048]  negativ  \n",
       "2                                       [0.2318]  positiv  \n",
       "3                              [-0.0048, -0.183]  negativ  \n",
       "4                                             []  neutral  "
      ]
     },
     "execution_count": 90,
     "metadata": {},
     "output_type": "execute_result"
    }
   ],
   "source": [
    "tweets['Label'] = tweets['Vector'].apply(label)\n",
    "tweets.head()"
   ]
  },
  {
   "cell_type": "markdown",
   "metadata": {},
   "source": [
    "**Aufgabe: Wann bekommt ein Tweet durch die `label()` Funktion eine neutrale Stimmung zugewiesen?**"
   ]
  },
  {
   "cell_type": "code",
   "execution_count": 91,
   "metadata": {},
   "outputs": [
    {
     "data": {
      "application/vnd.jupyter.widget-view+json": {
       "model_id": "5dc76410cc3c47eea649f049df4a1f09",
       "version_major": 2,
       "version_minor": 0
      },
      "text/plain": [
       "Output()"
      ]
     },
     "metadata": {},
     "output_type": "display_data"
    },
    {
     "data": {
      "application/vnd.jupyter.widget-view+json": {
       "model_id": "de0bb97683e942d2b82051cd9b370573",
       "version_major": 2,
       "version_minor": 0
      },
      "text/plain": [
       "Output()"
      ]
     },
     "metadata": {},
     "output_type": "display_data"
    },
    {
     "data": {
      "application/vnd.jupyter.widget-view+json": {
       "model_id": "4df120193581455b9807ffeedebb29cb",
       "version_major": 2,
       "version_minor": 0
      },
      "text/plain": [
       "Output()"
      ]
     },
     "metadata": {},
     "output_type": "display_data"
    }
   ],
   "source": [
    "#hideInput\n",
    "lm.show_task(317)"
   ]
  },
  {
   "cell_type": "markdown",
   "metadata": {},
   "source": [
    "Neutrale Tweets sind für unsere binäre Klassifikation nicht relevant, da sie eine dritte Klasse verkörpern. Sie werden somit verworfen."
   ]
  },
  {
   "cell_type": "code",
   "execution_count": 92,
   "metadata": {},
   "outputs": [
    {
     "data": {
      "text/html": [
       "<div>\n",
       "<style scoped>\n",
       "    .dataframe tbody tr th:only-of-type {\n",
       "        vertical-align: middle;\n",
       "    }\n",
       "\n",
       "    .dataframe tbody tr th {\n",
       "        vertical-align: top;\n",
       "    }\n",
       "\n",
       "    .dataframe thead th {\n",
       "        text-align: right;\n",
       "    }\n",
       "</style>\n",
       "<table border=\"1\" class=\"dataframe\">\n",
       "  <thead>\n",
       "    <tr style=\"text-align: right;\">\n",
       "      <th></th>\n",
       "      <th>Token</th>\n",
       "      <th>Vector</th>\n",
       "      <th>Label</th>\n",
       "    </tr>\n",
       "  </thead>\n",
       "  <tbody>\n",
       "    <tr>\n",
       "      <th>1</th>\n",
       "      <td>[assad, putin, wollen, erdoan, lektion, erteil...</td>\n",
       "      <td>[-0.0048, -0.0468, -0.0603, -0.1483, -0.0048]</td>\n",
       "      <td>negativ</td>\n",
       "    </tr>\n",
       "    <tr>\n",
       "      <th>2</th>\n",
       "      <td>[hoff, dinger, kann, amol, fahren, können, meh...</td>\n",
       "      <td>[0.2318]</td>\n",
       "      <td>positiv</td>\n",
       "    </tr>\n",
       "    <tr>\n",
       "      <th>3</th>\n",
       "      <td>[trotz, aussichtsloser, lage, wehrmacht, ergeb...</td>\n",
       "      <td>[-0.0048, -0.183]</td>\n",
       "      <td>negativ</td>\n",
       "    </tr>\n",
       "    <tr>\n",
       "      <th>7</th>\n",
       "      <td>[boooom, kdealschön, den, tag, über, während, ...</td>\n",
       "      <td>[0.368, 0.0711]</td>\n",
       "      <td>positiv</td>\n",
       "    </tr>\n",
       "    <tr>\n",
       "      <th>8</th>\n",
       "      <td>[gutschein, über, gbei, panik, dem, coronavirus]</td>\n",
       "      <td>[-0.3429]</td>\n",
       "      <td>negativ</td>\n",
       "    </tr>\n",
       "  </tbody>\n",
       "</table>\n",
       "</div>"
      ],
      "text/plain": [
       "                                               Token  \\\n",
       "1  [assad, putin, wollen, erdoan, lektion, erteil...   \n",
       "2  [hoff, dinger, kann, amol, fahren, können, meh...   \n",
       "3  [trotz, aussichtsloser, lage, wehrmacht, ergeb...   \n",
       "7  [boooom, kdealschön, den, tag, über, während, ...   \n",
       "8   [gutschein, über, gbei, panik, dem, coronavirus]   \n",
       "\n",
       "                                          Vector    Label  \n",
       "1  [-0.0048, -0.0468, -0.0603, -0.1483, -0.0048]  negativ  \n",
       "2                                       [0.2318]  positiv  \n",
       "3                              [-0.0048, -0.183]  negativ  \n",
       "7                                [0.368, 0.0711]  positiv  \n",
       "8                                      [-0.3429]  negativ  "
      ]
     },
     "execution_count": 92,
     "metadata": {},
     "output_type": "execute_result"
    }
   ],
   "source": [
    "tweets = tweets[tweets['Label'] != 'neutral']\n",
    "tweets.head()"
   ]
  },
  {
   "cell_type": "markdown",
   "metadata": {},
   "source": [
    "Nun ist jedem Tweet entweder eine negative oder eine positive Stimmung zugewiesen."
   ]
  },
  {
   "cell_type": "markdown",
   "metadata": {},
   "source": [
    "**Aufgabe: Wie sieht die Verteilung zwischen negativen und positiven Tweets aus? Fällt die Stimmungslage eher negativ oder eher positiv aus?**"
   ]
  },
  {
   "cell_type": "code",
   "execution_count": 93,
   "metadata": {},
   "outputs": [
    {
     "data": {
      "application/vnd.jupyter.widget-view+json": {
       "model_id": "0d731ea79b7f49bb94ea639d02082919",
       "version_major": 2,
       "version_minor": 0
      },
      "text/plain": [
       "Output()"
      ]
     },
     "metadata": {},
     "output_type": "display_data"
    },
    {
     "data": {
      "application/vnd.jupyter.widget-view+json": {
       "model_id": "c81d69147e70452694b652196e26c56d",
       "version_major": 2,
       "version_minor": 0
      },
      "text/plain": [
       "Output()"
      ]
     },
     "metadata": {},
     "output_type": "display_data"
    },
    {
     "data": {
      "application/vnd.jupyter.widget-view+json": {
       "model_id": "d0d13309926446828bb7a47a9d48370b",
       "version_major": 2,
       "version_minor": 0
      },
      "text/plain": [
       "Output()"
      ]
     },
     "metadata": {},
     "output_type": "display_data"
    }
   ],
   "source": [
    "#hideInput\n",
    "lm.show_task(318)"
   ]
  },
  {
   "cell_type": "code",
   "execution_count": 94,
   "metadata": {},
   "outputs": [],
   "source": [
    "#solution\n",
    "negative_vocabulary_count = tweets['Label'][tweets['Label'] == 'negativ'].count()\n",
    "positive_vocabulary_count = tweets['Label'][tweets['Label'] == 'positiv'].count()"
   ]
  },
  {
   "cell_type": "markdown",
   "metadata": {},
   "source": [
    "Zum Abschluss visualisieren wir das gerade erzeugte Stimmungsbild."
   ]
  },
  {
   "cell_type": "code",
   "execution_count": 95,
   "metadata": {},
   "outputs": [
    {
     "data": {
      "image/png": "[encoded data removed]",
      "text/plain": [
       "<Figure size 432x288 with 1 Axes>"
      ]
     },
     "metadata": {},
     "output_type": "display_data"
    }
   ],
   "source": [
    "vf.plot_pie([negative_vocabulary_count, positive_vocabulary_count], labels=labels, title='Stimmungsbild')"
   ]
  },
  {
   "cell_type": "markdown",
   "metadata": {},
   "source": [
    "#### 3.1.4 Features"
   ]
  },
  {
   "cell_type": "markdown",
   "metadata": {},
   "source": [
    "Unser überwachter Klassifikator ist bekanntermaßen auf Features und Labels angewiesen. Während wir zweitere im vorherigen Abschnitt erzeugt haben, kümmern wir uns nun um die Features eines Tweets. In diesem Fall besteht ein einzelnes Feature wiederum aus einem Schlüsselwertpaar der Form `{ Wort: Präsenz }`, das angibt, ob ein Wort in einem Tweet vorhanden ist. Da unser überwachter Klassifikator alle Features gleich behandelt, ist dies für einen Tweet generell gegeben. Damit repräsentiert ein Tweet in unserem Fall genau so viele Features, wie er Wörter besitzt. \n",
    "\n",
    "Solche Single-Word-Features werden also als Schlüsselwertpaare über die `featurize()` Funktion wie folgt zusammengestellt:"
   ]
  },
  {
   "cell_type": "code",
   "execution_count": 96,
   "metadata": {},
   "outputs": [],
   "source": [
    "def featurize(tweet):\n",
    "    \"\"\"Single word feature as key/value pair\"\"\"\n",
    "    \n",
    "    return dict([(word, True) for word in tweet])"
   ]
  },
  {
   "cell_type": "markdown",
   "metadata": {},
   "source": [
    "Das Zusammenfassen mehrere Features übernimmt die `feature_set()` Funktion. An dieser Stelle werden alle Single-Word-Features eines Tweets gesammelt und das Label (hier: Stimmung) für diesen Tweet als Tupel der Form `( Features, Label )` angehangen."
   ]
  },
  {
   "cell_type": "code",
   "execution_count": 97,
   "metadata": {},
   "outputs": [],
   "source": [
    "def feature_set(tweets, label):\n",
    "    \"\"\"Feature set as feature/label tuples\"\"\"\n",
    "    \n",
    "    features = tweets.loc[tweets['Label'] == label]['Token'].apply(featurize)\n",
    "    \n",
    "    return [(tweet_dict, label) for tweet_dict in features]"
   ]
  },
  {
   "cell_type": "markdown",
   "metadata": {},
   "source": [
    "Die Menge aller Feature-Sets repräsentiert somit die Menge aller Tweets und damit unsere Trainingsdaten für den überwachten Klassifikator."
   ]
  },
  {
   "cell_type": "code",
   "execution_count": 98,
   "metadata": {},
   "outputs": [
    {
     "data": {
      "text/plain": [
       "({'assad': True,\n",
       "  'putin': True,\n",
       "  'wollen': True,\n",
       "  'erdoan': True,\n",
       "  'lektion': True,\n",
       "  'erteilen': True,\n",
       "  'den': True,\n",
       "  'konflikt': True,\n",
       "  'um': True,\n",
       "  'syrische': True,\n",
       "  'provinz': True,\n",
       "  'idlib': True,\n",
       "  'notfalls': True,\n",
       "  'militärisch': True,\n",
       "  'beenden': True,\n",
       "  'europa': True,\n",
       "  'muss': True,\n",
       "  'jetzt': True,\n",
       "  'mehr': True,\n",
       "  'tun': True,\n",
       "  'als': True,\n",
       "  'nur': True,\n",
       "  'zuschauen': True,\n",
       "  'harte': True,\n",
       "  'sanktionen': True,\n",
       "  'gegen': True,\n",
       "  'moskau': True,\n",
       "  'nötig': True},\n",
       " 'negativ')"
      ]
     },
     "execution_count": 98,
     "metadata": {},
     "output_type": "execute_result"
    }
   ],
   "source": [
    "train_set = feature_set(tweets, 'negativ') + feature_set(tweets, 'positiv')\n",
    "train_set[0]"
   ]
  },
  {
   "cell_type": "markdown",
   "metadata": {},
   "source": [
    "### 3.2 Textdaten klassifizieren"
   ]
  },
  {
   "cell_type": "markdown",
   "metadata": {},
   "source": [
    "Wie bereits behandelt wollen wir unsere Textdaten anhand zweier unterschiedlicher Modelle klassifizieren. Die folgende Abbildung verdeutlicht den Unterschied zwischen überwachten und unüberwachten Lernen:\n",
    "\n",
    "![Image](https://datasolut.com/wp-content/uploads/2020/08/Supervised-vs-unsupervised-learning.png)\n",
    "\n",
    "Während das überwachte Lernen auf unterschiedlichen Klassen (hier: Kreis und Kreuz) basiert, benötigt unüberwachtes Lernen keine explizite Einteilung in Klassen mithilfe von Labels. Der Vorteil liegt auf der Hand: von den vielen Schritten im vergangenen Abschnitt wäre lediglich die Vektorisierung für eine unüberwachte Klassifikation notwendig gewesen."
   ]
  },
  {
   "cell_type": "markdown",
   "metadata": {},
   "source": [
    "#### 3.2.1 Überwachte Klassifikation"
   ]
  },
  {
   "cell_type": "markdown",
   "metadata": {},
   "source": [
    "Mithilfe des [Naive Bayes](https://www.nltk.org/_modules/nltk/classify/naivebayes.html) Algorithmus führen wir als erstes eine überwachte Klassifikation aus. Dabei versucht der Klassifikator eine Menge an Features ihrer wahrscheinlichsten Klasse (hier: Stimmung) zuzuordnen. Wie im vorherigen Abschnitt behandelt wurde, repräsentiert jedes Wort eines Tweets ein Feature, während der Menge aller Features (Feature-Set) die zugehörige Klasse eines Tweets angehangen ist. In der folgenden Animation wird der Lernprozess des Klassifikators auf Basis von drei Klassen und zwei Features veranschaulicht:\n",
    "\n",
    "![Naive Bayes](https://upload.wikimedia.org/wikipedia/commons/b/b4/Naive_Bayes_Classifier.gif)"
   ]
  },
  {
   "cell_type": "markdown",
   "metadata": {},
   "source": [
    "Im Folgenden wird der `nbclassifier` als überwachter Klassifikator mithilfe von NLTK erzeugt und trainiert."
   ]
  },
  {
   "cell_type": "code",
   "execution_count": 99,
   "metadata": {},
   "outputs": [],
   "source": [
    "from nltk import NaiveBayesClassifier, classify"
   ]
  },
  {
   "cell_type": "code",
   "execution_count": 100,
   "metadata": {},
   "outputs": [],
   "source": [
    "nbclassifier = NaiveBayesClassifier.train(train_set)"
   ]
  },
  {
   "cell_type": "markdown",
   "metadata": {},
   "source": [
    "Nun stellt sich die Frage, welches Feature wohl am informativsten für den Klassifikator war?"
   ]
  },
  {
   "cell_type": "markdown",
   "metadata": {},
   "source": [
    "**Aufgabe: Welches Wort aus den Trainingsdaten war für den überwachten Klassifikator am aussagekräftigsten?**"
   ]
  },
  {
   "cell_type": "code",
   "execution_count": 101,
   "metadata": {},
   "outputs": [
    {
     "data": {
      "application/vnd.jupyter.widget-view+json": {
       "model_id": "5efa86f7cc6c4606987d5dc0fc3c5d0f",
       "version_major": 2,
       "version_minor": 0
      },
      "text/plain": [
       "Output()"
      ]
     },
     "metadata": {},
     "output_type": "display_data"
    },
    {
     "data": {
      "application/vnd.jupyter.widget-view+json": {
       "model_id": "1cc10b96808847b480808440c5d277fd",
       "version_major": 2,
       "version_minor": 0
      },
      "text/plain": [
       "Output()"
      ]
     },
     "metadata": {},
     "output_type": "display_data"
    },
    {
     "data": {
      "application/vnd.jupyter.widget-view+json": {
       "model_id": "35d7eff851b6446daebe616f1b6b2e9a",
       "version_major": 2,
       "version_minor": 0
      },
      "text/plain": [
       "Output()"
      ]
     },
     "metadata": {},
     "output_type": "display_data"
    }
   ],
   "source": [
    "#hideInput\n",
    "lm.show_task(321)"
   ]
  },
  {
   "cell_type": "code",
   "execution_count": 102,
   "metadata": {},
   "outputs": [
    {
     "name": "stdout",
     "output_type": "stream",
     "text": [
      "Most Informative Features\n",
      "                  gefahr = True           negati : positi =    179.3 : 1.0\n",
      "                 falsche = True           negati : positi =    156.0 : 1.0\n",
      "              schlechter = True           negati : positi =    124.2 : 1.0\n",
      "               krankheit = True           negati : positi =    114.0 : 1.0\n",
      "                 unnötig = True           negati : positi =    104.9 : 1.0\n",
      "                gefahren = True           negati : positi =     99.0 : 1.0\n",
      "              gefährlich = True           negati : positi =     85.8 : 1.0\n",
      "                bestraft = True           negati : positi =     75.4 : 1.0\n",
      "                schlecht = True           negati : positi =     72.7 : 1.0\n",
      "                  risiko = True           negati : positi =     68.4 : 1.0\n"
     ]
    }
   ],
   "source": [
    "#solution\n",
    "nbclassifier.show_most_informative_features()"
   ]
  },
  {
   "cell_type": "markdown",
   "metadata": {},
   "source": [
    "Jetzt wollen wir noch wissen, wie gut sich unser Klassifikator schlägt."
   ]
  },
  {
   "cell_type": "markdown",
   "metadata": {},
   "source": [
    "**Aufgabe: Wie hoch ist die Genauigkeit des überwachten Klassifikators auf den Trainingsdaten?**"
   ]
  },
  {
   "cell_type": "code",
   "execution_count": 103,
   "metadata": {},
   "outputs": [
    {
     "data": {
      "application/vnd.jupyter.widget-view+json": {
       "model_id": "43607a3b7d1c4282806f2ca59c64aa35",
       "version_major": 2,
       "version_minor": 0
      },
      "text/plain": [
       "Output()"
      ]
     },
     "metadata": {},
     "output_type": "display_data"
    },
    {
     "data": {
      "application/vnd.jupyter.widget-view+json": {
       "model_id": "0fd6365c5b62424e9098928c592d7f7b",
       "version_major": 2,
       "version_minor": 0
      },
      "text/plain": [
       "Output()"
      ]
     },
     "metadata": {},
     "output_type": "display_data"
    },
    {
     "data": {
      "application/vnd.jupyter.widget-view+json": {
       "model_id": "9bd788fd16da48188a8b19133e95aa2d",
       "version_major": 2,
       "version_minor": 0
      },
      "text/plain": [
       "Output()"
      ]
     },
     "metadata": {},
     "output_type": "display_data"
    }
   ],
   "source": [
    "#hideInput\n",
    "lm.show_task(322)"
   ]
  },
  {
   "cell_type": "code",
   "execution_count": 104,
   "metadata": {},
   "outputs": [
    {
     "data": {
      "text/plain": [
       "0.8210628039621433"
      ]
     },
     "execution_count": 104,
     "metadata": {},
     "output_type": "execute_result"
    }
   ],
   "source": [
    "#solution\n",
    "classify.accuracy(nbclassifier, train_set)"
   ]
  },
  {
   "cell_type": "markdown",
   "metadata": {},
   "source": [
    "#### 3.2.2 Unüberwachte Klassifikation"
   ]
  },
  {
   "cell_type": "markdown",
   "metadata": {},
   "source": [
    "Mithilfe von [K-means](https://www.nltk.org/_modules/nltk/cluster/kmeans.html) Clustering führen wir als zweites eine unüberwachte Klassifikation aus. Dabei versucht der Klassifikator ähnliche Vektoren zu einem Cluster (hier: Stimmung) zu gruppieren. Wie bereits behandelt, wurde jedes Wort eines Tweets auf einen Stimmungswert abgebildet, wonach alle _n_ Wörter eines Tweets einen _n_-dimensionalen Spaltenvektor bilden. In der folgenden Animation wird der Lernprozess des Klassifikators auf Basis von drei Clustern und zwei Dimensionen veranschaulicht:\n",
    "\n",
    "![K-means](https://camo.githubusercontent.com/77a842161f9588166625169d1f0944e838837f19b105d7e55d235652cfcc3786/68747470733a2f2f692e696d6775722e636f6d2f6b3458636170492e676966)\n",
    "\n",
    "Natürlich sind nicht immer gleich viele Wörter pro Tweet vorhanden. Daher müssen wir uns auf eine Dimensionalität einigen, die vom Klassifikator berücksichtigt wird. Naheliegend entscheiden wir uns für die im Mittel gefundenen Wörter und verdoppeln diese Anzahl als `dimensionality` wie folgt:"
   ]
  },
  {
   "cell_type": "code",
   "execution_count": 105,
   "metadata": {},
   "outputs": [
    {
     "data": {
      "text/plain": [
       "4"
      ]
     },
     "execution_count": 105,
     "metadata": {},
     "output_type": "execute_result"
    }
   ],
   "source": [
    "dimensionality = 2 * int(np.mean([len(vector) for vector in tweets['Vector']]))\n",
    "dimensionality"
   ]
  },
  {
   "cell_type": "markdown",
   "metadata": {},
   "source": [
    "Nun füllen wir entweder fehlende Werte auf, oder schneiden zu viele Werte ab, was über die `pad()` Funktion erreicht wird."
   ]
  },
  {
   "cell_type": "code",
   "execution_count": 106,
   "metadata": {},
   "outputs": [],
   "source": [
    "def pad(tweet):\n",
    "    \"\"\"Pad vectors with zeros at the end or strip vectors based on dimensionality\"\"\"\n",
    "    \n",
    "    tweet += [0.0] * (dimensionality - len(tweet))\n",
    "    \n",
    "    return tweet[:dimensionality]"
   ]
  },
  {
   "cell_type": "code",
   "execution_count": 107,
   "metadata": {},
   "outputs": [],
   "source": [
    "tweets['Vector'] = tweets['Vector'].apply(pad)"
   ]
  },
  {
   "cell_type": "markdown",
   "metadata": {},
   "source": [
    "Im Folgenden wird der `kmclusterer` als unüberwachter Klassifikator mithilfe von NLTK erzeugt..."
   ]
  },
  {
   "cell_type": "code",
   "execution_count": 108,
   "metadata": {},
   "outputs": [],
   "source": [
    "from nltk.cluster import KMeansClusterer, euclidean_distance"
   ]
  },
  {
   "cell_type": "code",
   "execution_count": 109,
   "metadata": {},
   "outputs": [],
   "source": [
    "kmclusterer = KMeansClusterer(2, euclidean_distance, repeats=4, avoid_empty_clusters=True)"
   ]
  },
  {
   "cell_type": "markdown",
   "metadata": {},
   "source": [
    "...und trainiert."
   ]
  },
  {
   "cell_type": "code",
   "execution_count": 110,
   "metadata": {},
   "outputs": [],
   "source": [
    "_ = kmclusterer.cluster(tweets['Vector'].apply(np.array), True)"
   ]
  },
  {
   "cell_type": "markdown",
   "metadata": {},
   "source": [
    "Während beim überwachten Klassifikator die Features untersucht werden konnten, lassen sich hier lediglich die erzeugten Cluster des Klassifikators betrachten."
   ]
  },
  {
   "cell_type": "markdown",
   "metadata": {},
   "source": [
    "**Aufgabe: Hinter welcher Funktion verstecken sich die Cluster unseres `kmclusterer` Klassifikators?**"
   ]
  },
  {
   "cell_type": "code",
   "execution_count": 111,
   "metadata": {},
   "outputs": [
    {
     "data": {
      "application/vnd.jupyter.widget-view+json": {
       "model_id": "4bf024c908054cd5ae3416fe6da82abf",
       "version_major": 2,
       "version_minor": 0
      },
      "text/plain": [
       "Output()"
      ]
     },
     "metadata": {},
     "output_type": "display_data"
    },
    {
     "data": {
      "application/vnd.jupyter.widget-view+json": {
       "model_id": "583175bbdcd848d482e143f4ecdcbccf",
       "version_major": 2,
       "version_minor": 0
      },
      "text/plain": [
       "Output()"
      ]
     },
     "metadata": {},
     "output_type": "display_data"
    },
    {
     "data": {
      "application/vnd.jupyter.widget-view+json": {
       "model_id": "d673b32c2ec64a85bf8e1a4384605340",
       "version_major": 2,
       "version_minor": 0
      },
      "text/plain": [
       "Output()"
      ]
     },
     "metadata": {},
     "output_type": "display_data"
    }
   ],
   "source": [
    "#hideInput\n",
    "lm.show_task(323)"
   ]
  },
  {
   "cell_type": "code",
   "execution_count": 112,
   "metadata": {},
   "outputs": [],
   "source": [
    "#solution\n",
    "centroids = kmclusterer.means()"
   ]
  },
  {
   "cell_type": "markdown",
   "metadata": {},
   "source": [
    "Zum Abschluss schauen wir wo die Cluster liegen und ob sich ihre Lage mit dem Wertebereich der jeweiligen Stimmungswerte deckt?"
   ]
  },
  {
   "cell_type": "code",
   "execution_count": 113,
   "metadata": {},
   "outputs": [
    {
     "data": {
      "image/png": "[encoded data removed]",
      "text/plain": [
       "<Figure size 432x288 with 1 Axes>"
      ]
     },
     "metadata": {
      "needs_background": "light"
     },
     "output_type": "display_data"
    }
   ],
   "source": [
    "vf.plot_clusters(centroids)"
   ]
  },
  {
   "cell_type": "markdown",
   "metadata": {},
   "source": [
    "<div style=\"background-color: #150458; padding: 5px;\"></div>\n",
    "\n",
    "## 4. Verwendung"
   ]
  },
  {
   "cell_type": "markdown",
   "metadata": {},
   "source": [
    "[Zurück zur Übersicht](#Lernmodul-zur-Verarbeitung-und-Analyse-von-Textdaten)"
   ]
  },
  {
   "cell_type": "markdown",
   "metadata": {},
   "source": [
    "In diesem Kapitel werden zum Abschluss eigene Tweets vorhergesagt, sowie bestehende Tweets für eine exemplarische Untersuchung der Vorhersagegenauigkeit verwendet.\n",
    "\n",
    "Je nach Klassifikator sind dafür verschiedene Schritte nötig, die bereits aus den vorherigen Kapiteln bekannt sind und die in der folgenden Abbildung verdeutlicht werden:\n",
    "\n",
    "![Usage](./img/usage_flow.png)"
   ]
  },
  {
   "cell_type": "markdown",
   "metadata": {},
   "source": [
    "### 4.1 Textdaten vorhersagen"
   ]
  },
  {
   "cell_type": "markdown",
   "metadata": {},
   "source": [
    "Exemplarisch wird ein frei erfundener negativer Tweet betrachtet:\n",
    "\n",
    "> Was für EiN schlechtes Lernmodul"
   ]
  },
  {
   "cell_type": "code",
   "execution_count": 114,
   "metadata": {},
   "outputs": [],
   "source": [
    "negative_tweet = \"Was für EiN schlechtes Lernmodul\""
   ]
  },
  {
   "cell_type": "markdown",
   "metadata": {},
   "source": [
    "Ebenfalls wird ein positives Beispiel betrachtet:\n",
    "\n",
    "> Was für EiN gutes Lernmodul"
   ]
  },
  {
   "cell_type": "code",
   "execution_count": 115,
   "metadata": {},
   "outputs": [],
   "source": [
    "positive_tweet = \"Was für EiN gutes Lernmodul\""
   ]
  },
  {
   "cell_type": "markdown",
   "metadata": {},
   "source": [
    "Optional kann ein eigener Tweet hier eingegeben werden:"
   ]
  },
  {
   "cell_type": "code",
   "execution_count": 116,
   "metadata": {},
   "outputs": [
    {
     "name": "stdin",
     "output_type": "stream",
     "text": [
      " Dieses Lernmodul ist klasse!\n"
     ]
    }
   ],
   "source": [
    "user_tweet = input()"
   ]
  },
  {
   "cell_type": "markdown",
   "metadata": {},
   "source": [
    "Im produktiven Einsatz müssten all diese Beispiele in der Datendomäne aufbereitet werden, was wir uns in diesem Fall aber ersparen und lieber auf bereits aufbereitete Tweets zurückgreifen."
   ]
  },
  {
   "cell_type": "code",
   "execution_count": 117,
   "metadata": {},
   "outputs": [],
   "source": [
    "tweets = tweets.merge(tweets_copy.to_frame(name='Text'), left_index=True, right_index=True)"
   ]
  },
  {
   "cell_type": "markdown",
   "metadata": {},
   "source": [
    "Nun wählen wir 100 zufällige Exemplare wie folgt aus:"
   ]
  },
  {
   "cell_type": "code",
   "execution_count": 118,
   "metadata": {},
   "outputs": [],
   "source": [
    "sample_tweets = tweets.sample(100)"
   ]
  },
  {
   "cell_type": "markdown",
   "metadata": {},
   "source": [
    "Einzelne zufällige Tweets finden sich folgendermaßen:"
   ]
  },
  {
   "cell_type": "code",
   "execution_count": 119,
   "metadata": {},
   "outputs": [
    {
     "data": {
      "text/plain": [
       "'@RosasyFusiles Wäre so schön, aber muss morgen früh um 5 aufstehen 😭 glaub das packe ich dann nicht'"
      ]
     },
     "execution_count": 119,
     "metadata": {},
     "output_type": "execute_result"
    }
   ],
   "source": [
    "tweets['Text'].sample(1).values[0]"
   ]
  },
  {
   "cell_type": "markdown",
   "metadata": {},
   "source": [
    "#### 4.1.1 Überwachter Klassifikator"
   ]
  },
  {
   "cell_type": "markdown",
   "metadata": {},
   "source": [
    "Um den überwachten Klassifikator für eine Vorhersage zu nutzen, wird die folgende Funktion zur Hilfe genommen:"
   ]
  },
  {
   "cell_type": "code",
   "execution_count": 120,
   "metadata": {},
   "outputs": [],
   "source": [
    "def classify_supervised(tweet, classifier):\n",
    "    print('Tweet:', tweet, '\\nStimmung:', classifier.classify(featurize(str.split(str.lower(tweet)))))"
   ]
  },
  {
   "cell_type": "markdown",
   "metadata": {},
   "source": [
    "Welche Stimmung drückt unser negatives Beispiel nach Vorhersage der überwachten Klassifikation aus?"
   ]
  },
  {
   "cell_type": "code",
   "execution_count": 121,
   "metadata": {},
   "outputs": [
    {
     "name": "stdout",
     "output_type": "stream",
     "text": [
      "Tweet: Was für EiN schlechtes Lernmodul \n",
      "Stimmung: negativ\n"
     ]
    }
   ],
   "source": [
    "classify_supervised(negative_tweet, nbclassifier)"
   ]
  },
  {
   "cell_type": "markdown",
   "metadata": {},
   "source": [
    "Welche Stimmung drückt unser positives Beispiel nach Vorhersage der überwachten Klassifikation aus?"
   ]
  },
  {
   "cell_type": "code",
   "execution_count": 122,
   "metadata": {},
   "outputs": [
    {
     "name": "stdout",
     "output_type": "stream",
     "text": [
      "Tweet: Was für EiN gutes Lernmodul \n",
      "Stimmung: positiv\n"
     ]
    }
   ],
   "source": [
    "classify_supervised(positive_tweet, nbclassifier)"
   ]
  },
  {
   "cell_type": "markdown",
   "metadata": {},
   "source": [
    "Welche Stimmung drückt unser selbst gewähltes Beispiel nach Vorhersage der überwachten Klassifikation aus?"
   ]
  },
  {
   "cell_type": "code",
   "execution_count": 123,
   "metadata": {},
   "outputs": [
    {
     "name": "stdout",
     "output_type": "stream",
     "text": [
      "Tweet: Dieses Lernmodul ist klasse! \n",
      "Stimmung: positiv\n"
     ]
    }
   ],
   "source": [
    "classify_supervised(user_tweet, nbclassifier)"
   ]
  },
  {
   "cell_type": "markdown",
   "metadata": {},
   "source": [
    "Wie schlägt sich unser überwachter Klassifikator im Detail? Dafür klassifizieren wir beispielhaft 100 Tweets über die `classify_supervised_multiple()` Funktion. Falsche Vorhersagen lassen sich über die Spalte _Prognose_ identifizieren."
   ]
  },
  {
   "cell_type": "code",
   "execution_count": 124,
   "metadata": {},
   "outputs": [
    {
     "name": "stdout",
     "output_type": "stream",
     "text": [
      "#\tSoll\tIst\tPrognose Tweet\n",
      "9285\tpositiv\tpositiv\tTrue\t Moin ihr lieben tweeties...Ich wünsche euch einen schönen Sonntag. Erholt euch gut und macht es euch\n",
      "138036\tpositiv\tpositiv\tTrue\t &gt; als #ContainmentScouts in #Gütersloh antraten, haben es am Telefon auch mit Leuten zu tun, die \n",
      "32293\tpositiv\tpositiv\tTrue\t @not_ur_muse Vielleicht in Sing Sing ? Oder  Alcatraz ? Oder Moabit ? Oder, er sitzt bei einer ander\n",
      "12576\tnegativ\tnegativ\tTrue\t Dekadenter Abend ... 1/4Bouchée á la reine - Blätterteigpastete+Shrimps &amp; Putenfilet+Dillrahmsau\n",
      "7316\tpositiv\tpositiv\tTrue\t Süße Mama im Familienhotel auf dem Tisch gefickt und #vollgespritztHD/4K video: 👉 https://t.co/eyw4p\n",
      "115148\tpositiv\tnegativ\tFalse\t Basierend auf den Informationen der einzelnen LK ergeben sich momentan 33.020 (+256 Neuinfektionen o\n",
      "140964\tpositiv\tnegativ\tFalse\t @TobiYume @Clowz123 @Elfen_Dude @werwolffromhell @cryarionic Ist doch schön, wenn du Spaß daran hatt\n",
      "85848\tnegativ\tnegativ\tTrue\t Twitter auf.Lehrer sollten auf Teil ihrer Besoldung verzichten, weil die arbeiten ja gerade nicht, u\n",
      "82789\tnegativ\tnegativ\tTrue\t MAX OTTE appelliert: Beschafft die nötigen Daten zu Corona https://t.co/EcQehYm2eM via @YouTube\n",
      "2952\tpositiv\tnegativ\tFalse\t \"Als Staatsziel wird i d Landesverfassung verankert, die Verbreitung nationalsozialistischen Gedanke\n",
      "144919\tpositiv\tpositiv\tTrue\t @HatinJuce Fühl mich gebasht und diskrimminiert, hab auch große Ohren.\n",
      "43412\tnegativ\tnegativ\tTrue\t @Yorick_is_right @SZ Hm, die europäischen Werte basieren auf fen christlichen Werten, dazu gehört au\n",
      "77811\tpositiv\tnegativ\tFalse\t ifm ist Mitglied bei #GATE https://t.co/WGUeg5PBoB #news.@ifmelectronicde Seit Anfang Februar ist if\n",
      "105962\tpositiv\tpositiv\tTrue\t mit Spenden kauft man sein Gewissen frei,u. tut was für seine Steuererklärung ….es beruhigt halt ung\n",
      "19882\tpositiv\tnegativ\tFalse\t Mit dieser Antwort hat @_FriedrichMerz Merz dokumentiert, dass er noch nicht einmal verstanden hat, \n",
      "132189\tpositiv\tnegativ\tFalse\t @aalkonsum Das geht uns auch so. Schnell zum Bäcker im E-Center geht nicht mehr, nur noch mit Einkau\n",
      "124494\tnegativ\tnegativ\tTrue\t Jeder Mensch in deinem Leben der dich innerlich zerstört, macht dich dadurch äußerlich wieder ein St\n",
      "13494\tpositiv\tnegativ\tFalse\t Ich bin in letzter Zeit oft in den Alpen, aber so schön wie hier fand ichs kaum wo sonst. Sorry Schw\n",
      "54660\tpositiv\tpositiv\tTrue\t @0_folie @Mister_F_Bloom Schön dreimal täglich mit dem 🔥😇👅❤️👍\n",
      "97063\tnegativ\tnegativ\tTrue\t Das ist echt krass und kann ich nur bestätigen!! Habe dann versucht,  mich hinter einem Mundschutz z\n",
      "11945\tpositiv\tpositiv\tTrue\t Zur Verstärkung unseres Teams in #Radolfzell suchen wir zum nächst möglichen Zeitpunkt einen Office \n",
      "22509\tnegativ\tnegativ\tTrue\t Ich, wenn sie dann doch zu weinen oder schreien beginnen #kleingegengross https://t.co/ygQ2MzWD2Y\n",
      "92977\tpositiv\tnegativ\tFalse\t Ab übernächster Woche gilt die Maskenpflicht im Supermarkt bei uns wohl auch. Da es kaum Masken gibt\n",
      "51331\tnegativ\tnegativ\tTrue\t @k0mplexe was soll die scheiße den jetzt\n",
      "58524\tnegativ\tnegativ\tTrue\t @SZ Un das ist mit den männlichen Mitarbeitern? Sexismus ist scheiße!!!!\n",
      "19824\tpositiv\tpositiv\tTrue\t Ich wäre dankbar für eine weite Verbreitung dieser Tweets, weil ich u.a. gerne erfahren würde, ob es\n",
      "142223\tpositiv\tpositiv\tTrue\t @runningsusi Für wen sind die Regeln gemacht? Für die, die vorsichtig sind oder für die, die mei...o\n",
      "72504\tpositiv\tpositiv\tTrue\t Supermärkte im Tierschutz-Ranking • Albert Schweitzer Stiftung https://t.co/zg7ivcMBr6 vía @Schweitz\n",
      "137587\tpositiv\tpositiv\tTrue\t @Domtendo Bitte schön, dass ich dir helfen konnte, du hast nur dieses Mal meinem Namen falsch ausges\n",
      "33750\tpositiv\tnegativ\tFalse\t @DirkVogel1 @ZDF Weil \"wohlhabender alter weißer Mann\" seine Rolle in dieser Situation perfekt besch\n",
      "58728\tpositiv\tpositiv\tTrue\t @DigitalerC Moin moin mein Bester. Guck auf die Straße und pass auf dich auf. Bleib gesund.\n",
      "14960\tpositiv\tnegativ\tFalse\t Als ich gerade an der Ampel wartete, zog ein Mann schnell an mir vorbei und ging über Rot.\"Das ist g\n",
      "125442\tpositiv\tpositiv\tTrue\t Autos: deutsche , u.a - #bbsifi  #N wurde gerade veröffentlicht! https://t.co/tb01IT9EJo Vielen Dank\n",
      "122569\tpositiv\tpositiv\tTrue\t S. Wolff: \"Sehr schön\" | https://t.co/v7doqs97ah | Hallo S. Wolff. Vielen Lieben Dank für das tolle \n",
      "16066\tpositiv\tpositiv\tTrue\t Wenn Sie ihr noch nicht gratuliert haben, können Sie das nachholen! Die tolle @kadyholadiewal1 hat h\n",
      "113460\tnegativ\tnegativ\tTrue\t Umweltbilanz von Apple-Produkten: Nehmen Sie doch das kleinere iPhone https://t.co/cy7Syg7m0Q https:\n",
      "93283\tpositiv\tpositiv\tTrue\t Mag sein.Es ist jedoch kein sinnvoller Ansatz, den Bezug einer Aufstockung/Erhöhung an erbrachte Lei\n",
      "77419\tpositiv\tpositiv\tTrue\t @dagilp_lbh ich fordere meine gesamten Spenden zurück bitte überweise sie bis morgen sonst leite ich\n",
      "53254\tpositiv\tnegativ\tFalse\t @vodka_ismywater evtl. immer a bissl zeit lassen und mehrmals mit der person interagieren (treffen, \n",
      "133323\tpositiv\tnegativ\tFalse\t @phil_grau Hat Sie das so gesagt? Ich meine jetzt konkret das Wort #containment oÄ benuzt?\n",
      "154092\tpositiv\tpositiv\tTrue\t @PolizeiMuenchen Schön dass ihr Euren Humor nicht verliert😊\n",
      "38622\tnegativ\tnegativ\tTrue\t @turkishrose2 Globalisierung ...👍🏻.....Wir können doch aus Deutschland einen Kartoffelacker machen m\n",
      "80857\tnegativ\tnegativ\tTrue\t Die Welt befindet sich in einer der krassesten Krisen, die wohl heftigsten Einschnitte u Einschränku\n",
      "76996\tpositiv\tpositiv\tTrue\t Weather-Meran-o7h | Aktuelles WetterWind: WindstillBöen: 0.0 m/sTemperatur: -0.3 °CLuftfeuchtigkeit:\n",
      "94407\tnegativ\tnegativ\tTrue\t Sobald ich wirklich an der Macht bin, wird meine erste und wichtigste Aufgabe die Vernichtung der Ju\n",
      "68179\tpositiv\tpositiv\tTrue\t @konsument666 Whaaaa hab das \"euch stehen würde\" nicht gelesen. Glaube nicht, dass mir das steht. Fi\n",
      "2831\tnegativ\tnegativ\tTrue\t Jemand hatte ganz schön ne Langeweile 😂🤦‍♂️ https://t.co/dRaTJtdgbB\n",
      "73470\tpositiv\tpositiv\tTrue\t Nachts ist die Welt so schön ruhig.\n",
      "65744\tnegativ\tnegativ\tTrue\t @maxima_8 @EMMA_Magazin Das ist schön, dass sie noch Niveau übrig haben und Ihr Blog nur eine stinke\n",
      "58962\tpositiv\tpositiv\tTrue\t @itsmahluna Ahhh! Das erklärt alles! Aber wieso sprichst du so anders? :o\n",
      "108225\tnegativ\tnegativ\tTrue\t 🌸MAY 1st, 2020 🌸🎶DER MAI IST GEKOMMEN, DIE BAUME SCHLAGEN AUS🎶!THE MAY IS COME, THE TREES ARE HITTIN\n",
      "111878\tpositiv\tpositiv\tTrue\t 📲Make a note of it 📌Am 7. Mai ist es soweit - die #MCB20 wird digital: Willkommen auf der #MCBRemote\n",
      "34492\tnegativ\tnegativ\tTrue\t @NiemalsD Ich kenne den Herrn nicht näher, Sie ja offensichtlich. Was er sagt, fürchte ich auch. Vor\n",
      "146496\tpositiv\tnegativ\tFalse\t @KordiMVP @Ruznam7 @coldTeji @KazuraEU @LukeNTM_ @TwitterSupport Kordi ich würde nach der Leistung i\n",
      "73548\tnegativ\tnegativ\tTrue\t Erst schwieg er zu Taiwan, jetzt verschwand still und heimlich sein Name von der WHO-Seite. Dr. Bruc\n",
      "39352\tnegativ\tnegativ\tTrue\t @Luudio Was musste er denn aushalten? Dass aufgedeckt wurde dass seine #barfußaufbeton Story eine gr\n",
      "34719\tpositiv\tpositiv\tTrue\t @mainlybts DE OIDE KIMMT HAM VOM MATURAKURS ERSTMOI AN SEXY DADDY CLIP AUF PORNHUB AUFFELONA I GLAUB\n",
      "60503\tpositiv\tpositiv\tTrue\t @chluetge @hendrikstreeck Das ist schön, hilft aber momentan nicht weiter!\n",
      "45529\tnegativ\tnegativ\tTrue\t @PeterGerhardt @AscotBlack @Weltspiegel_ARD Und sonst habt ihr nichts zu berichten aus Indien, wenn \n",
      "149421\tpositiv\tpositiv\tTrue\t @BlaueRose19 Moin. ☕️😘Genieße deinen 1.Mai. Mit viel Lust und Leidenschaft.\n",
      "80616\tnegativ\tnegativ\tTrue\t Chaos im Homeoffice. Das Kind in mir plärrt \"😩 ich will nach Hause 😩\"Scheiße, da bin ich ja.\n",
      "87000\tpositiv\tpositiv\tTrue\t Der Sohn sang den Butterkekse in dieser friedlichen Landschaft ein Lied. In etwa so \"Butterkekseeeee\n",
      "34134\tnegativ\tnegativ\tTrue\t @johannesboie @WELTAMSONNTAG @welt Dass #Spahn den Klinikkonzernen gerne die Stange hält, rächt sich\n",
      "127195\tpositiv\tpositiv\tTrue\t Corona: Große Hamburger Geschäfte bleiben zu https://t.co/2oD8V88HzY\n",
      "81682\tpositiv\tpositiv\tTrue\t In Zeiten wie diesen: #Erotisches #Kopfkino mit meinen  Ebooks. Perfekte Ablenkung für euch in diese\n",
      "137306\tnegativ\tnegativ\tTrue\t @nicole_schoen schon seltsam wie Menschen reagieren wenn plötzlich nicht mehr alles nach ihrem Kopf \n",
      "135665\tpositiv\tpositiv\tTrue\t @Ocinbtw 2 wären perfekt i think\n",
      "14785\tpositiv\tpositiv\tTrue\t Soll ich aufstehen, Kaffee trinken und Doom so spielen oder einfach liegen bleiben, schreibt's mir i\n",
      "80096\tpositiv\tpositiv\tTrue\t #workinprogress ..in case you were wondering how i hollow my vessels😂 ...#wood: rodden #cherry#april\n",
      "98848\tnegativ\tnegativ\tTrue\t Jede #Krise bietet auch die #Chance, Charakter und Haltung zu zeigen. Es geht um den Zusammenhalt un\n",
      "128418\tnegativ\tnegativ\tTrue\t Die, die während der Flüchtlingskrise, täglich hier den \"starken Staat\" gefordert haben gehen heute \n",
      "90124\tnegativ\tnegativ\tTrue\t \"Innenminister Thomas Strobl (@CDU_BW) rief dazu auf, festgestellte Verstöße gegen die Regeln der Po\n",
      "149804\tpositiv\tpositiv\tTrue\t @borninvienna Die nächsten Wochen werden aufgrund der Lockerungen spannend. Mom. 6-7 Tausend Tests t\n",
      "109657\tpositiv\tpositiv\tTrue\t So sehr ich das auch! @Karl_Lauterbach ist einer der wenigen besonnenen Politiker dieser Tage!\n",
      "71991\tnegativ\tnegativ\tTrue\t I mean, #AnimalCrossingNewHorizons ist schon geile ge, es ist nur absolut scheiße wenn man selber ke\n",
      "62660\tpositiv\tnegativ\tFalse\t @KTacki Die reaktionären bis braunen Wissens- u. Wissenschaftshasser werden schnell neue Hassobjekte\n",
      "81800\tpositiv\tpositiv\tTrue\t Gestern Abend den lokalen Thüringer vom Blue Label unterstützt. Er ist optimistisch, weil keiner meh\n",
      "149659\tnegativ\tnegativ\tTrue\t @gruene_jugend Grüne Jugend macht sich mit der Antifa gleich. Gelesen, kopiert, gemerkt. Wenn das nä\n",
      "154078\tpositiv\tpositiv\tTrue\t ~ weil ich mich nicht besonders schön finde. Gerade deshalb haben die vielen Likes und Kommentare ab\n",
      "59473\tpositiv\tnegativ\tFalse\t @jeanvansta Vor einiger Zeit hatte ich auch gehört, dass irgendwelche Diversity-Spinner da die Portr\n",
      "83758\tpositiv\tpositiv\tTrue\t Habe den interessanten Teil der ARD #Audiothek durchgespielt und mache mit BBC Sounds weiter. Tagest\n",
      "80275\tpositiv\tpositiv\tTrue\t Tanker PAVINO lässt die große Schleuse Süd hinter sich. Ziel  ROSTOCK https://t.co/0JEhAJd3Wb https:\n",
      "30364\tpositiv\tpositiv\tTrue\t @LaurinLues Viel zu schön für einen Kriegsfürsten ...\n",
      "52224\tpositiv\tnegativ\tFalse\t @ItsHeli0s Am 1. April jaja wahrscheinlich wo du sonst immer schön gegen die AFD warst das glaubt ma\n",
      "146683\tnegativ\tnegativ\tTrue\t @frozelyy @mustielpatron @Kollavic @GustixMi @vinyuaa @Nxdir1 @kayoed_d @RobinHoodS77 @VukiCW  erklä\n",
      "129814\tpositiv\tnegativ\tFalse\t Könnten wir die nächsten Folgen #illner #annewill #Lanz etc. mal anderen Themen als #Corona widmen? \n",
      "30847\tnegativ\tnegativ\tTrue\t @marckanneg ...aber Fakt bleibt: ich hasse coden, es nervt mich &amp; I suck at it. Nur, dass ich hi\n",
      "122551\tnegativ\tnegativ\tTrue\t Wenn sich eine neue Art Coronavirus aus den jetzigen entsteht, könnte der  richtig tödlich werden. A\n",
      "43127\tnegativ\tnegativ\tTrue\t @philipp @danieldrepper Interessanterweise habe ich bislang alleine von Fußballfans den richtigen Hi\n",
      "71504\tpositiv\tpositiv\tTrue\t @yung_eskimo D@ kommt vielleicht Teil 2, den €r$t€n Teil k@nn$t du dir ganz €nt$p@nnt hier auf m1 Tw\n",
      "63895\tpositiv\tpositiv\tTrue\t @hubisport Dankeschön.💛 Ich wünsche dir auch viel Kraft und gesundheitliches Durchhaltevermögen. 💚🍀\n",
      "69385\tpositiv\tnegativ\tFalse\t \"Eigentlich handelt es sich bei den im Handel ausgegebenen Masken um \"Einwegprodukte\", aber da Maske\n",
      "90594\tpositiv\tnegativ\tFalse\t Coronavirus: Bundesrat setzt auf Wirtschaftshilfe ohne Subventionen https://t.co/akruT1S6VO #Bundesr\n",
      "144748\tpositiv\tpositiv\tTrue\t @ramasderechte Beim nächsten mal will ich was kreatives hören!\n",
      "113023\tnegativ\tnegativ\tTrue\t manche haben es nötig sich einfach ans fenster zu setzen und dem regen zu zuhören\n",
      "103938\tpositiv\tpositiv\tTrue\t Aus unserer Anregung ist inzwischen ein parlamentarischer Antrag geworden. Bitte unterstützen! @spdf\n",
      "115717\tpositiv\tpositiv\tTrue\t Es duftet so schön nach Kakao in der Wohnung... 😊\n",
      "69840\tnegativ\tnegativ\tTrue\t @matrix070809 kann sagen ob was bleibt das ist das nächste mir kommt es so vor als müssten sie alle \n",
      "79799\tpositiv\tpositiv\tTrue\t Ich könnt ja einfach mal behaupten ... es ist vorbei ... aber heute gibt's keine Späße in Zeiten von\n",
      "118683\tpositiv\tpositiv\tTrue\t Richard-Sorge Straße23h | Aktuelles WetterWind: WindstillBöen: 3.2 km/hTemperatur: 12.6 °CLuftfeucht\n",
      "\n",
      "Genauigkeit: 0.81\n"
     ]
    }
   ],
   "source": [
    "mf.classify_supervised_multiple(sample_tweets, nbclassifier, labels) # On Train"
   ]
  },
  {
   "cell_type": "markdown",
   "metadata": {},
   "source": [
    "#### 4.1.2 Unüberwachter Klassifikator"
   ]
  },
  {
   "cell_type": "markdown",
   "metadata": {},
   "source": [
    "Um den unüberwachten Klassifikator für eine Vorhersage zu nutzen, wird die folgende Funktion zur Hilfe genommen:"
   ]
  },
  {
   "cell_type": "code",
   "execution_count": 125,
   "metadata": {},
   "outputs": [],
   "source": [
    "def classify_unsupervised(tweet, classifier):\n",
    "    print('Tweet:', tweet, '\\nStimmung:', labels[kmclusterer.classify(pad(vectorize(str.split(str.lower(tweet)))))])"
   ]
  },
  {
   "cell_type": "markdown",
   "metadata": {},
   "source": [
    "Welche Stimmung drückt unser negatives Beispiel nach Vorhersage der unüberwachten Klassifikation aus?"
   ]
  },
  {
   "cell_type": "code",
   "execution_count": 126,
   "metadata": {},
   "outputs": [
    {
     "name": "stdout",
     "output_type": "stream",
     "text": [
      "Tweet: Was für EiN schlechtes Lernmodul \n",
      "Stimmung: negativ\n"
     ]
    }
   ],
   "source": [
    "classify_unsupervised(negative_tweet, kmclusterer)"
   ]
  },
  {
   "cell_type": "markdown",
   "metadata": {},
   "source": [
    "Welche Stimmung drückt unser positives Beispiel nach Vorhersage der unüberwachten Klassifizierung aus?"
   ]
  },
  {
   "cell_type": "code",
   "execution_count": 127,
   "metadata": {},
   "outputs": [
    {
     "name": "stdout",
     "output_type": "stream",
     "text": [
      "Tweet: Was für EiN gutes Lernmodul \n",
      "Stimmung: positiv\n"
     ]
    }
   ],
   "source": [
    "classify_unsupervised(positive_tweet, kmclusterer)"
   ]
  },
  {
   "cell_type": "markdown",
   "metadata": {},
   "source": [
    "Welche Stimmung drückt unser selbst gewähltes Beispiel nach Vorhersage der unüberwachten Klassifikation aus?"
   ]
  },
  {
   "cell_type": "code",
   "execution_count": 128,
   "metadata": {},
   "outputs": [
    {
     "name": "stdout",
     "output_type": "stream",
     "text": [
      "Tweet: Dieses Lernmodul ist klasse! \n",
      "Stimmung: positiv\n"
     ]
    }
   ],
   "source": [
    "classify_unsupervised(user_tweet, kmclusterer)"
   ]
  },
  {
   "cell_type": "markdown",
   "metadata": {},
   "source": [
    "Wie schlägt sich unser unüberwachter Klassifikator im Detail? Dafür klassifizieren 100 zufällig ausgewählte Tweets über die `classify_unsupervised_multiple()` Funktion. Falsche Vorhersagen lassen sich über die Spalte _Prognose_ identifizieren."
   ]
  },
  {
   "cell_type": "code",
   "execution_count": 129,
   "metadata": {},
   "outputs": [
    {
     "name": "stdout",
     "output_type": "stream",
     "text": [
      "#\tSoll\tIst\tPrognose Tweet\n",
      "9285\tpositiv\tpositiv\tTrue\t Moin ihr lieben tweeties...Ich wünsche euch einen schönen Sonntag. Erholt euch gut und macht es euch\n",
      "138036\tpositiv\tpositiv\tTrue\t &gt; als #ContainmentScouts in #Gütersloh antraten, haben es am Telefon auch mit Leuten zu tun, die \n",
      "32293\tpositiv\tpositiv\tTrue\t @not_ur_muse Vielleicht in Sing Sing ? Oder  Alcatraz ? Oder Moabit ? Oder, er sitzt bei einer ander\n",
      "12576\tnegativ\tnegativ\tTrue\t Dekadenter Abend ... 1/4Bouchée á la reine - Blätterteigpastete+Shrimps &amp; Putenfilet+Dillrahmsau\n",
      "7316\tpositiv\tpositiv\tTrue\t Süße Mama im Familienhotel auf dem Tisch gefickt und #vollgespritztHD/4K video: 👉 https://t.co/eyw4p\n",
      "115148\tpositiv\tpositiv\tTrue\t Basierend auf den Informationen der einzelnen LK ergeben sich momentan 33.020 (+256 Neuinfektionen o\n",
      "140964\tpositiv\tpositiv\tTrue\t @TobiYume @Clowz123 @Elfen_Dude @werwolffromhell @cryarionic Ist doch schön, wenn du Spaß daran hatt\n",
      "85848\tnegativ\tpositiv\tFalse\t Twitter auf.Lehrer sollten auf Teil ihrer Besoldung verzichten, weil die arbeiten ja gerade nicht, u\n",
      "82789\tnegativ\tpositiv\tFalse\t MAX OTTE appelliert: Beschafft die nötigen Daten zu Corona https://t.co/EcQehYm2eM via @YouTube\n",
      "2952\tpositiv\tpositiv\tTrue\t \"Als Staatsziel wird i d Landesverfassung verankert, die Verbreitung nationalsozialistischen Gedanke\n",
      "144919\tpositiv\tpositiv\tTrue\t @HatinJuce Fühl mich gebasht und diskrimminiert, hab auch große Ohren.\n",
      "43412\tnegativ\tnegativ\tTrue\t @Yorick_is_right @SZ Hm, die europäischen Werte basieren auf fen christlichen Werten, dazu gehört au\n",
      "77811\tpositiv\tpositiv\tTrue\t ifm ist Mitglied bei #GATE https://t.co/WGUeg5PBoB #news.@ifmelectronicde Seit Anfang Februar ist if\n",
      "105962\tpositiv\tpositiv\tTrue\t mit Spenden kauft man sein Gewissen frei,u. tut was für seine Steuererklärung ….es beruhigt halt ung\n",
      "19882\tpositiv\tpositiv\tTrue\t Mit dieser Antwort hat @_FriedrichMerz Merz dokumentiert, dass er noch nicht einmal verstanden hat, \n",
      "132189\tpositiv\tpositiv\tTrue\t @aalkonsum Das geht uns auch so. Schnell zum Bäcker im E-Center geht nicht mehr, nur noch mit Einkau\n",
      "124494\tnegativ\tnegativ\tTrue\t Jeder Mensch in deinem Leben der dich innerlich zerstört, macht dich dadurch äußerlich wieder ein St\n",
      "13494\tpositiv\tpositiv\tTrue\t Ich bin in letzter Zeit oft in den Alpen, aber so schön wie hier fand ichs kaum wo sonst. Sorry Schw\n",
      "54660\tpositiv\tpositiv\tTrue\t @0_folie @Mister_F_Bloom Schön dreimal täglich mit dem 🔥😇👅❤️👍\n",
      "97063\tnegativ\tnegativ\tTrue\t Das ist echt krass und kann ich nur bestätigen!! Habe dann versucht,  mich hinter einem Mundschutz z\n",
      "11945\tpositiv\tpositiv\tTrue\t Zur Verstärkung unseres Teams in #Radolfzell suchen wir zum nächst möglichen Zeitpunkt einen Office \n",
      "22509\tnegativ\tnegativ\tTrue\t Ich, wenn sie dann doch zu weinen oder schreien beginnen #kleingegengross https://t.co/ygQ2MzWD2Y\n",
      "92977\tpositiv\tpositiv\tTrue\t Ab übernächster Woche gilt die Maskenpflicht im Supermarkt bei uns wohl auch. Da es kaum Masken gibt\n",
      "51331\tnegativ\tnegativ\tTrue\t @k0mplexe was soll die scheiße den jetzt\n",
      "58524\tnegativ\tnegativ\tTrue\t @SZ Un das ist mit den männlichen Mitarbeitern? Sexismus ist scheiße!!!!\n",
      "19824\tpositiv\tpositiv\tTrue\t Ich wäre dankbar für eine weite Verbreitung dieser Tweets, weil ich u.a. gerne erfahren würde, ob es\n",
      "142223\tpositiv\tpositiv\tTrue\t @runningsusi Für wen sind die Regeln gemacht? Für die, die vorsichtig sind oder für die, die mei...o\n",
      "72504\tpositiv\tpositiv\tTrue\t Supermärkte im Tierschutz-Ranking • Albert Schweitzer Stiftung https://t.co/zg7ivcMBr6 vía @Schweitz\n",
      "137587\tpositiv\tpositiv\tTrue\t @Domtendo Bitte schön, dass ich dir helfen konnte, du hast nur dieses Mal meinem Namen falsch ausges\n",
      "33750\tpositiv\tpositiv\tTrue\t @DirkVogel1 @ZDF Weil \"wohlhabender alter weißer Mann\" seine Rolle in dieser Situation perfekt besch\n",
      "58728\tpositiv\tpositiv\tTrue\t @DigitalerC Moin moin mein Bester. Guck auf die Straße und pass auf dich auf. Bleib gesund.\n",
      "14960\tpositiv\tpositiv\tTrue\t Als ich gerade an der Ampel wartete, zog ein Mann schnell an mir vorbei und ging über Rot.\"Das ist g\n",
      "125442\tpositiv\tpositiv\tTrue\t Autos: deutsche , u.a - #bbsifi  #N wurde gerade veröffentlicht! https://t.co/tb01IT9EJo Vielen Dank\n",
      "122569\tpositiv\tpositiv\tTrue\t S. Wolff: \"Sehr schön\" | https://t.co/v7doqs97ah | Hallo S. Wolff. Vielen Lieben Dank für das tolle \n",
      "16066\tpositiv\tpositiv\tTrue\t Wenn Sie ihr noch nicht gratuliert haben, können Sie das nachholen! Die tolle @kadyholadiewal1 hat h\n",
      "113460\tnegativ\tnegativ\tTrue\t Umweltbilanz von Apple-Produkten: Nehmen Sie doch das kleinere iPhone https://t.co/cy7Syg7m0Q https:\n",
      "93283\tpositiv\tpositiv\tTrue\t Mag sein.Es ist jedoch kein sinnvoller Ansatz, den Bezug einer Aufstockung/Erhöhung an erbrachte Lei\n",
      "77419\tpositiv\tpositiv\tTrue\t @dagilp_lbh ich fordere meine gesamten Spenden zurück bitte überweise sie bis morgen sonst leite ich\n",
      "53254\tpositiv\tpositiv\tTrue\t @vodka_ismywater evtl. immer a bissl zeit lassen und mehrmals mit der person interagieren (treffen, \n",
      "133323\tpositiv\tpositiv\tTrue\t @phil_grau Hat Sie das so gesagt? Ich meine jetzt konkret das Wort #containment oÄ benuzt?\n",
      "154092\tpositiv\tpositiv\tTrue\t @PolizeiMuenchen Schön dass ihr Euren Humor nicht verliert😊\n",
      "38622\tnegativ\tnegativ\tTrue\t @turkishrose2 Globalisierung ...👍🏻.....Wir können doch aus Deutschland einen Kartoffelacker machen m\n",
      "80857\tnegativ\tnegativ\tTrue\t Die Welt befindet sich in einer der krassesten Krisen, die wohl heftigsten Einschnitte u Einschränku\n",
      "76996\tpositiv\tpositiv\tTrue\t Weather-Meran-o7h | Aktuelles WetterWind: WindstillBöen: 0.0 m/sTemperatur: -0.3 °CLuftfeuchtigkeit:\n",
      "94407\tnegativ\tpositiv\tFalse\t Sobald ich wirklich an der Macht bin, wird meine erste und wichtigste Aufgabe die Vernichtung der Ju\n",
      "68179\tpositiv\tpositiv\tTrue\t @konsument666 Whaaaa hab das \"euch stehen würde\" nicht gelesen. Glaube nicht, dass mir das steht. Fi\n",
      "2831\tnegativ\tpositiv\tFalse\t Jemand hatte ganz schön ne Langeweile 😂🤦‍♂️ https://t.co/dRaTJtdgbB\n",
      "73470\tpositiv\tpositiv\tTrue\t Nachts ist die Welt so schön ruhig.\n",
      "65744\tnegativ\tnegativ\tTrue\t @maxima_8 @EMMA_Magazin Das ist schön, dass sie noch Niveau übrig haben und Ihr Blog nur eine stinke\n",
      "58962\tpositiv\tpositiv\tTrue\t @itsmahluna Ahhh! Das erklärt alles! Aber wieso sprichst du so anders? :o\n",
      "108225\tnegativ\tpositiv\tFalse\t 🌸MAY 1st, 2020 🌸🎶DER MAI IST GEKOMMEN, DIE BAUME SCHLAGEN AUS🎶!THE MAY IS COME, THE TREES ARE HITTIN\n",
      "111878\tpositiv\tpositiv\tTrue\t 📲Make a note of it 📌Am 7. Mai ist es soweit - die #MCB20 wird digital: Willkommen auf der #MCBRemote\n",
      "34492\tnegativ\tnegativ\tTrue\t @NiemalsD Ich kenne den Herrn nicht näher, Sie ja offensichtlich. Was er sagt, fürchte ich auch. Vor\n",
      "146496\tpositiv\tpositiv\tTrue\t @KordiMVP @Ruznam7 @coldTeji @KazuraEU @LukeNTM_ @TwitterSupport Kordi ich würde nach der Leistung i\n",
      "73548\tnegativ\tpositiv\tFalse\t Erst schwieg er zu Taiwan, jetzt verschwand still und heimlich sein Name von der WHO-Seite. Dr. Bruc\n",
      "39352\tnegativ\tpositiv\tFalse\t @Luudio Was musste er denn aushalten? Dass aufgedeckt wurde dass seine #barfußaufbeton Story eine gr\n",
      "34719\tpositiv\tpositiv\tTrue\t @mainlybts DE OIDE KIMMT HAM VOM MATURAKURS ERSTMOI AN SEXY DADDY CLIP AUF PORNHUB AUFFELONA I GLAUB\n",
      "60503\tpositiv\tpositiv\tTrue\t @chluetge @hendrikstreeck Das ist schön, hilft aber momentan nicht weiter!\n",
      "45529\tnegativ\tnegativ\tTrue\t @PeterGerhardt @AscotBlack @Weltspiegel_ARD Und sonst habt ihr nichts zu berichten aus Indien, wenn \n",
      "149421\tpositiv\tpositiv\tTrue\t @BlaueRose19 Moin. ☕️😘Genieße deinen 1.Mai. Mit viel Lust und Leidenschaft.\n",
      "80616\tnegativ\tnegativ\tTrue\t Chaos im Homeoffice. Das Kind in mir plärrt \"😩 ich will nach Hause 😩\"Scheiße, da bin ich ja.\n",
      "87000\tpositiv\tpositiv\tTrue\t Der Sohn sang den Butterkekse in dieser friedlichen Landschaft ein Lied. In etwa so \"Butterkekseeeee\n",
      "34134\tnegativ\tnegativ\tTrue\t @johannesboie @WELTAMSONNTAG @welt Dass #Spahn den Klinikkonzernen gerne die Stange hält, rächt sich\n",
      "127195\tpositiv\tpositiv\tTrue\t Corona: Große Hamburger Geschäfte bleiben zu https://t.co/2oD8V88HzY\n",
      "81682\tpositiv\tpositiv\tTrue\t In Zeiten wie diesen: #Erotisches #Kopfkino mit meinen  Ebooks. Perfekte Ablenkung für euch in diese\n",
      "137306\tnegativ\tnegativ\tTrue\t @nicole_schoen schon seltsam wie Menschen reagieren wenn plötzlich nicht mehr alles nach ihrem Kopf \n",
      "135665\tpositiv\tpositiv\tTrue\t @Ocinbtw 2 wären perfekt i think\n",
      "14785\tpositiv\tpositiv\tTrue\t Soll ich aufstehen, Kaffee trinken und Doom so spielen oder einfach liegen bleiben, schreibt's mir i\n",
      "80096\tpositiv\tpositiv\tTrue\t #workinprogress ..in case you were wondering how i hollow my vessels😂 ...#wood: rodden #cherry#april\n",
      "98848\tnegativ\tnegativ\tTrue\t Jede #Krise bietet auch die #Chance, Charakter und Haltung zu zeigen. Es geht um den Zusammenhalt un\n",
      "128418\tnegativ\tpositiv\tFalse\t Die, die während der Flüchtlingskrise, täglich hier den \"starken Staat\" gefordert haben gehen heute \n",
      "90124\tnegativ\tpositiv\tFalse\t \"Innenminister Thomas Strobl (@CDU_BW) rief dazu auf, festgestellte Verstöße gegen die Regeln der Po\n",
      "149804\tpositiv\tpositiv\tTrue\t @borninvienna Die nächsten Wochen werden aufgrund der Lockerungen spannend. Mom. 6-7 Tausend Tests t\n",
      "109657\tpositiv\tpositiv\tTrue\t So sehr ich das auch! @Karl_Lauterbach ist einer der wenigen besonnenen Politiker dieser Tage!\n",
      "71991\tnegativ\tpositiv\tFalse\t I mean, #AnimalCrossingNewHorizons ist schon geile ge, es ist nur absolut scheiße wenn man selber ke\n",
      "62660\tpositiv\tpositiv\tTrue\t @KTacki Die reaktionären bis braunen Wissens- u. Wissenschaftshasser werden schnell neue Hassobjekte\n",
      "81800\tpositiv\tpositiv\tTrue\t Gestern Abend den lokalen Thüringer vom Blue Label unterstützt. Er ist optimistisch, weil keiner meh\n",
      "149659\tnegativ\tnegativ\tTrue\t @gruene_jugend Grüne Jugend macht sich mit der Antifa gleich. Gelesen, kopiert, gemerkt. Wenn das nä\n",
      "154078\tpositiv\tpositiv\tTrue\t ~ weil ich mich nicht besonders schön finde. Gerade deshalb haben die vielen Likes und Kommentare ab\n",
      "59473\tpositiv\tpositiv\tTrue\t @jeanvansta Vor einiger Zeit hatte ich auch gehört, dass irgendwelche Diversity-Spinner da die Portr\n",
      "83758\tpositiv\tpositiv\tTrue\t Habe den interessanten Teil der ARD #Audiothek durchgespielt und mache mit BBC Sounds weiter. Tagest\n",
      "80275\tpositiv\tpositiv\tTrue\t Tanker PAVINO lässt die große Schleuse Süd hinter sich. Ziel  ROSTOCK https://t.co/0JEhAJd3Wb https:\n",
      "30364\tpositiv\tpositiv\tTrue\t @LaurinLues Viel zu schön für einen Kriegsfürsten ...\n",
      "52224\tpositiv\tpositiv\tTrue\t @ItsHeli0s Am 1. April jaja wahrscheinlich wo du sonst immer schön gegen die AFD warst das glaubt ma\n",
      "146683\tnegativ\tnegativ\tTrue\t @frozelyy @mustielpatron @Kollavic @GustixMi @vinyuaa @Nxdir1 @kayoed_d @RobinHoodS77 @VukiCW  erklä\n",
      "129814\tpositiv\tpositiv\tTrue\t Könnten wir die nächsten Folgen #illner #annewill #Lanz etc. mal anderen Themen als #Corona widmen? \n",
      "30847\tnegativ\tnegativ\tTrue\t @marckanneg ...aber Fakt bleibt: ich hasse coden, es nervt mich &amp; I suck at it. Nur, dass ich hi\n",
      "122551\tnegativ\tpositiv\tFalse\t Wenn sich eine neue Art Coronavirus aus den jetzigen entsteht, könnte der  richtig tödlich werden. A\n",
      "43127\tnegativ\tpositiv\tFalse\t @philipp @danieldrepper Interessanterweise habe ich bislang alleine von Fußballfans den richtigen Hi\n",
      "71504\tpositiv\tpositiv\tTrue\t @yung_eskimo D@ kommt vielleicht Teil 2, den €r$t€n Teil k@nn$t du dir ganz €nt$p@nnt hier auf m1 Tw\n",
      "63895\tpositiv\tpositiv\tTrue\t @hubisport Dankeschön.💛 Ich wünsche dir auch viel Kraft und gesundheitliches Durchhaltevermögen. 💚🍀\n",
      "69385\tpositiv\tpositiv\tTrue\t \"Eigentlich handelt es sich bei den im Handel ausgegebenen Masken um \"Einwegprodukte\", aber da Maske\n",
      "90594\tpositiv\tpositiv\tTrue\t Coronavirus: Bundesrat setzt auf Wirtschaftshilfe ohne Subventionen https://t.co/akruT1S6VO #Bundesr\n",
      "144748\tpositiv\tpositiv\tTrue\t @ramasderechte Beim nächsten mal will ich was kreatives hören!\n",
      "113023\tnegativ\tpositiv\tFalse\t manche haben es nötig sich einfach ans fenster zu setzen und dem regen zu zuhören\n",
      "103938\tpositiv\tpositiv\tTrue\t Aus unserer Anregung ist inzwischen ein parlamentarischer Antrag geworden. Bitte unterstützen! @spdf\n",
      "115717\tpositiv\tpositiv\tTrue\t Es duftet so schön nach Kakao in der Wohnung... 😊\n",
      "69840\tnegativ\tpositiv\tFalse\t @matrix070809 kann sagen ob was bleibt das ist das nächste mir kommt es so vor als müssten sie alle \n",
      "79799\tpositiv\tpositiv\tTrue\t Ich könnt ja einfach mal behaupten ... es ist vorbei ... aber heute gibt's keine Späße in Zeiten von\n",
      "118683\tpositiv\tpositiv\tTrue\t Richard-Sorge Straße23h | Aktuelles WetterWind: WindstillBöen: 3.2 km/hTemperatur: 12.6 °CLuftfeucht\n",
      "\n",
      "Genauigkeit: 0.86\n"
     ]
    }
   ],
   "source": [
    "mf.classify_unsupervised_multiple(sample_tweets, kmclusterer, labels)"
   ]
  },
  {
   "cell_type": "markdown",
   "metadata": {},
   "source": [
    "<div style=\"background-color: #150458; padding: 5px;\"></div>\n",
    "\n",
    "## 5. Abschluss"
   ]
  },
  {
   "cell_type": "markdown",
   "metadata": {},
   "source": [
    "[Zurück zur Übersicht](#Lernmodul-zur-Verarbeitung-und-Analyse-von-Textdaten)"
   ]
  },
  {
   "cell_type": "markdown",
   "metadata": {},
   "source": [
    "Zum Abschluss des Lernmoduls folgen einige Verständnisfragen, bevor deine Gesamtpunktzahl errechnet wird."
   ]
  },
  {
   "cell_type": "markdown",
   "metadata": {},
   "source": [
    "**Aufgabe: Welche Eingabe(n) benötigt der überwachte Klassifikator?**"
   ]
  },
  {
   "cell_type": "code",
   "execution_count": 130,
   "metadata": {},
   "outputs": [
    {
     "data": {
      "application/vnd.jupyter.widget-view+json": {
       "model_id": "f35e82ca324e4be78028c1b3e88ea90e",
       "version_major": 2,
       "version_minor": 0
      },
      "text/plain": [
       "Output()"
      ]
     },
     "metadata": {},
     "output_type": "display_data"
    },
    {
     "data": {
      "application/vnd.jupyter.widget-view+json": {
       "model_id": "ea0853d2951e461891bc428e63c7df58",
       "version_major": 2,
       "version_minor": 0
      },
      "text/plain": [
       "Output()"
      ]
     },
     "metadata": {},
     "output_type": "display_data"
    },
    {
     "data": {
      "application/vnd.jupyter.widget-view+json": {
       "model_id": "2c3251cd9cfb459fa80806d4efdcd748",
       "version_major": 2,
       "version_minor": 0
      },
      "text/plain": [
       "Output()"
      ]
     },
     "metadata": {},
     "output_type": "display_data"
    }
   ],
   "source": [
    "#hideInput\n",
    "lm.show_task(501)"
   ]
  },
  {
   "cell_type": "markdown",
   "metadata": {},
   "source": [
    "**Aufgabe: Welche Eingabe(n) benötigt der unüberwachte Klassifikator?**"
   ]
  },
  {
   "cell_type": "code",
   "execution_count": 131,
   "metadata": {},
   "outputs": [
    {
     "data": {
      "application/vnd.jupyter.widget-view+json": {
       "model_id": "ab9dab1bcd3b410da1707986b38a160a",
       "version_major": 2,
       "version_minor": 0
      },
      "text/plain": [
       "Output()"
      ]
     },
     "metadata": {},
     "output_type": "display_data"
    },
    {
     "data": {
      "application/vnd.jupyter.widget-view+json": {
       "model_id": "14e9b2c4553b4764b6589872846bdc86",
       "version_major": 2,
       "version_minor": 0
      },
      "text/plain": [
       "Output()"
      ]
     },
     "metadata": {},
     "output_type": "display_data"
    },
    {
     "data": {
      "application/vnd.jupyter.widget-view+json": {
       "model_id": "dbc0c1b0ca6e46fe9d33dde96e13254a",
       "version_major": 2,
       "version_minor": 0
      },
      "text/plain": [
       "Output()"
      ]
     },
     "metadata": {},
     "output_type": "display_data"
    }
   ],
   "source": [
    "#hideInput\n",
    "lm.show_task(502)"
   ]
  },
  {
   "cell_type": "markdown",
   "metadata": {},
   "source": [
    "**Aufgabe: Das Vokabular wird in diesem Lernmodul dafür verwendet...**"
   ]
  },
  {
   "cell_type": "code",
   "execution_count": 132,
   "metadata": {},
   "outputs": [
    {
     "data": {
      "application/vnd.jupyter.widget-view+json": {
       "model_id": "1bb5f7b368ae453f9482f0aa969a19ea",
       "version_major": 2,
       "version_minor": 0
      },
      "text/plain": [
       "Output()"
      ]
     },
     "metadata": {},
     "output_type": "display_data"
    },
    {
     "data": {
      "application/vnd.jupyter.widget-view+json": {
       "model_id": "3b0666db29144b1faaf15b32b2cdb73c",
       "version_major": 2,
       "version_minor": 0
      },
      "text/plain": [
       "Output()"
      ]
     },
     "metadata": {},
     "output_type": "display_data"
    },
    {
     "data": {
      "application/vnd.jupyter.widget-view+json": {
       "model_id": "4044de2cdebf4178aed5d83145f5765c",
       "version_major": 2,
       "version_minor": 0
      },
      "text/plain": [
       "Output()"
      ]
     },
     "metadata": {},
     "output_type": "display_data"
    }
   ],
   "source": [
    "#hideInput\n",
    "lm.show_task(503)"
   ]
  },
  {
   "cell_type": "markdown",
   "metadata": {},
   "source": [
    "**Aufgabe: Welche Faktoren haben einen direkten Einfluss auf die Trainingsdauer des unüberwachten Klassifikators?**"
   ]
  },
  {
   "cell_type": "code",
   "execution_count": 133,
   "metadata": {},
   "outputs": [
    {
     "data": {
      "application/vnd.jupyter.widget-view+json": {
       "model_id": "4c7948bff1da4956a66deb5d53253759",
       "version_major": 2,
       "version_minor": 0
      },
      "text/plain": [
       "Output()"
      ]
     },
     "metadata": {},
     "output_type": "display_data"
    },
    {
     "data": {
      "application/vnd.jupyter.widget-view+json": {
       "model_id": "2bccaad3bb4b41e7a9a2474730805cbd",
       "version_major": 2,
       "version_minor": 0
      },
      "text/plain": [
       "Output()"
      ]
     },
     "metadata": {},
     "output_type": "display_data"
    },
    {
     "data": {
      "application/vnd.jupyter.widget-view+json": {
       "model_id": "91e010368c5c480ab72d06aab0738465",
       "version_major": 2,
       "version_minor": 0
      },
      "text/plain": [
       "Output()"
      ]
     },
     "metadata": {},
     "output_type": "display_data"
    }
   ],
   "source": [
    "#hideInput\n",
    "lm.show_task(504)"
   ]
  },
  {
   "cell_type": "markdown",
   "metadata": {},
   "source": [
    "Du hast es geschafft. Glückwunsch!\n",
    "\n",
    "![Applause](https://media.giphy.com/media/FnGdcQzqypBaE/giphy.gif)"
   ]
  },
  {
   "cell_type": "markdown",
   "metadata": {},
   "source": [
    "**Ergebnis:**\n",
    "\n",
    "Du hast folgende Punktzahl erreicht..."
   ]
  },
  {
   "cell_type": "code",
   "execution_count": 134,
   "metadata": {},
   "outputs": [
    {
     "data": {
      "text/plain": [
       "0.0"
      ]
     },
     "execution_count": 134,
     "metadata": {},
     "output_type": "execute_result"
    }
   ],
   "source": [
    "lm.get_score()"
   ]
  },
  {
   "cell_type": "code",
   "execution_count": 135,
   "metadata": {},
   "outputs": [],
   "source": [
    "#submitButton"
   ]
  },
  {
   "cell_type": "markdown",
   "metadata": {},
   "source": [
    "**Zusammenfassung:**\n",
    "\n",
    "Das vergangene Lernmodul gab einen Einblick in die Texterkennung als Teilgebiet des _NLP_. Im Zuge einer Stimmungsanalyse von aktuellen Beiträgen auf Twitter, haben wir in der [Datendomäne](#2.-Daten) zunächst Rohdaten beschafft und erkundet. Irrelevante Inhalte wurden auf Basis von Sonderzeichen, Stoppwörtern und der Länge des resultierenden Beitrags, identifiziert und verworfen. Daraufhin wurden die Daten in der [Modelldomäne](#3.-Modell) entweder überwacht oder unüberwacht klassifiziert, wobei verschiedene Einbettungsschritte, wie das Vektorisieren oder das Annotieren der Textdaten vorausgingen. Letztendlich konnte in der [Verwendungsdomäne](#4.-Verwendung) sowohl der überwachte als auch der unüberwachte Klassifikator die Stimmung eines Tweets korerkt vorhersagen. Jene Vorhersage ließe sich mithilfe alternativer Modelle, wie sie bspw. im [Lernmodul zu Datamining mit Scikit Learn](https://projectbase.medien.hs-duesseldorf.de/eild.nrw-module/lernmodul-scikit) behandelt werden, verbessern. Analog dazu können Schritte, wie der Tokenizer, oder das Embedding, unabhängig vom Modell optimiert werden. Weiterführendes Material dazu befindet sich im [Anhang](#6.-Anhang)."
   ]
  },
  {
   "cell_type": "markdown",
   "metadata": {},
   "source": [
    "<div style=\"background-color: #150458; padding: 5px;\"></div>\n",
    "\n",
    "## 6. Anhang"
   ]
  },
  {
   "cell_type": "markdown",
   "metadata": {},
   "source": [
    "[Zurück zur Übersicht](#Lernmodul-zur-Verarbeitung-und-Analyse-von-Textdaten)"
   ]
  },
  {
   "cell_type": "markdown",
   "metadata": {},
   "source": [
    "**Glossar:**\n",
    "\n",
    "* Embedding\n",
    "    * Einbetten von Wörtern in Modell (hier: Klassifikator)\n",
    "* Label\n",
    "    * Klasse (hier: Stimmung)\n",
    "* Look-up-table\n",
    "    * Schlüsselwertpaar (hier: Vokabular)\n",
    "* NLP (Natural Language Processing)\n",
    "    * Verarbeitung menschlicher Sprache\n",
    "* NLTK (Natural Language ToolKit)\n",
    "    * Python-Bibliothek für die Verarbeitung menschlicher Sprache\n",
    "* Token\n",
    "    * Ein oder mehrere Wörter (hier: Monogramme)\n",
    "* Tokenization\n",
    "    * Zerteilung von Sätzen in ein oder mehrere Wörter (hier: Monogramme)"
   ]
  },
  {
   "cell_type": "markdown",
   "metadata": {},
   "source": [
    "**Weiterführende Lernmodule:**\n",
    "\n",
    "- [Lernmodul zu Datamining mit Scikit Learn](https://projectbase.medien.hs-duesseldorf.de/eild.nrw-module/lernmodul-scikit)"
   ]
  },
  {
   "cell_type": "markdown",
   "metadata": {},
   "source": [
    "**Weiterführende Inhalte:**\n",
    "\n",
    "* Leitfäden\n",
    "    * [Cookbook by NLTK](https://www.nltk.org/book/)\n",
    "    * [Recurrent neural networks by TensorFlow](https://www.tensorflow.org/guide/keras/rnn?hl=en)\n",
    "    * [Text classification by Google Developers](https://developers.google.com/machine-learning/guides/text-classification)\n",
    "* Embedding\n",
    "    * [TextBlob](https://textblob.readthedocs.io/en/dev/)\n",
    "    * [Word2Vec](https://radimrehurek.com/gensim/models/word2vec.html)\n",
    "* Tutorials\n",
    "    * [Basic text classification by TensorFlow](https://www.tensorflow.org/tutorials/keras/text_classification?hl=en)"
   ]
  },
  {
   "cell_type": "markdown",
   "metadata": {},
   "source": [
    "**Referenzen:**\n",
    "\n",
    "<a id=\"1\">[1]</a> Nane Kratzke. (2020). Monthly Samples of German Tweets (Version 2020-04) [Data set]. Zenodo. http://doi.org/10.5281/zenodo.3783478\n",
    "\n",
    "<a id=\"2\">[2]</a> R. Remus, U. Quasthoff & G. Heyer: SentiWS - a Publicly Available German-language Resource for Sentiment Analysis. In: Proceedings of the 7th International Language Resources and Evaluation (LREC'10), pp. 1168-1171, 2010"
   ]
  }
 ],
 "metadata": {
  "kernelspec": {
   "display_name": "Python 3",
   "language": "python",
   "name": "python3"
  },
  "language_info": {
   "codemirror_mode": {
    "name": "ipython",
    "version": 3
   },
   "file_extension": ".py",
   "mimetype": "text/x-python",
   "name": "python",
   "nbconvert_exporter": "python",
   "pygments_lexer": "ipython3",
   "version": "3.7.0"
  }
 },
 "nbformat": 4,
 "nbformat_minor": 4
}
